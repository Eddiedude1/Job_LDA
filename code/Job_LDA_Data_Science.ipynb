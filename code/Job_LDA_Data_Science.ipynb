{
 "cells": [
  {
   "cell_type": "markdown",
   "metadata": {},
   "source": [
    "# Job Web-Scraping\n",
    "Note: This is intented for practice to extract real time job descriptions. Please adhere to the Robots.txt"
   ]
  },
  {
   "cell_type": "code",
   "execution_count": 134,
   "metadata": {},
   "outputs": [
    {
     "name": "stdout",
     "output_type": "stream",
     "text": [
      "[nltk_data] Downloading package wordnet to\n",
      "[nltk_data]     /Users/guillermogonzalez/nltk_data...\n",
      "[nltk_data]   Package wordnet is already up-to-date!\n"
     ]
    }
   ],
   "source": [
    "#If you are using Selenium for the first time, please download the webdriver and note the filepath\n",
    "from selenium import webdriver\n",
    "from selenium.webdriver.support.ui import Select, WebDriverWait\n",
    "from selenium.webdriver.common.keys import Keys\n",
    "from selenium.webdriver.common.by import By\n",
    "from selenium.webdriver.support import expected_conditions as EC\n",
    "\n",
    "import pandas as pd\n",
    "import numpy as np\n",
    "pd.set_option('display.max_colwidth', 100)  # increase the string length before truncating\n",
    "\n",
    "# Monitor the status of the webscraping to get an idea of how long it will take \n",
    "import time\n",
    "from tqdm import tqdm\n",
    "tqdm.monitor_interval = 0\n",
    "\n",
    "# Used as a import for dateing the CSV\n",
    "import datetime\n",
    "\n",
    "# NLP libaries\n",
    "import spacy\n",
    "from spacy.lang.en import stop_words\n",
    "\n",
    "# Punctuation attribute will be used for removing punctuation\n",
    "import string\n",
    "\n",
    "# Import nltk for removing stopwords and lemmatizing\n",
    "import nltk\n",
    "nltk.download('wordnet')\n",
    "from nltk.corpus import wordnet as wn\n",
    "\n",
    "import gensim\n",
    "import pyLDAvis.gensim\n",
    "from gensim.models import LdaModel\n",
    "import gensim.corpora as corpora  # *****\n",
    "from gensim.utils import simple_preprocess\n",
    "from gensim.models import coherencemodel\n",
    "pyLDAvis.enable_notebook()\n",
    "\n",
    "import warnings\n",
    "warnings.filterwarnings(\"ignore\")\n",
    "\n",
    "import matplotlib.pyplot as plt\n",
    "import datetime as dt"
   ]
  },
  {
   "cell_type": "code",
   "execution_count": 2,
   "metadata": {},
   "outputs": [],
   "source": [
    "path_to_chromedriver = \"/Users/guillermogonzalez/projects/webscraping/chromedriver\""
   ]
  },
  {
   "cell_type": "code",
   "execution_count": 3,
   "metadata": {},
   "outputs": [
    {
     "name": "stdout",
     "output_type": "stream",
     "text": [
      "\u001b[31mchromedriver\u001b[m\u001b[m           chromedriver_mac64.zip \u001b[34mjob_topic_modeling\u001b[m\u001b[m\r\n"
     ]
    }
   ],
   "source": [
    "!ls /Users/guillermogonzalez/projects/webscraping/"
   ]
  },
  {
   "cell_type": "markdown",
   "metadata": {},
   "source": [
    "### URL Example\n",
    "```https://www.careeronestop.org/Toolkit/Jobs/find-jobs.aspx?keyword=data%20analyst&ajax=0&location=austin,%20texas&radius=5&source=IN&pagesize=100&sortcolumns=accquisitiondate&sortdirections=DSC```\n",
    "- occupation: keyword=data%20analyst  \n",
    "- location: location=austin,%20texas  \n",
    "- radius: radius=5  \n",
    "- page_size: pagesize=100  \n",
    "- page_sort: sortcolumns=accquisitiondate&sortdirections=DSC  \n",
    "- source: source=IN  \n"
   ]
  },
  {
   "cell_type": "markdown",
   "metadata": {},
   "source": [
    "<img width=\"983\" alt=\"screen shot 2018-06-24 at 10 16 01 pm\" src=\"https://user-images.githubusercontent.com/7989686/41828679-4cf946ce-77fc-11e8-8b80-6479d6865873.png\">"
   ]
  },
  {
   "cell_type": "code",
   "execution_count": 174,
   "metadata": {
    "scrolled": true
   },
   "outputs": [
    {
     "name": "stderr",
     "output_type": "stream",
     "text": [
      "100%|██████████| 100/100 [00:11<00:00,  8.60it/s]\n",
      "100%|██████████| 100/100 [01:55<00:00,  1.16s/it]\n"
     ]
    }
   ],
   "source": [
    "#setup browser window\n",
    "browser = webdriver.Chrome(executable_path= path_to_chromedriver)\n",
    "\n",
    "#adds the data in URL format by removing any white space and adding the data. \n",
    "def Keyword_to_url(kw):\n",
    "    '''\n",
    "    Stips any leading and trailing white space from a string and replaces spaces with'%20'.\n",
    "    '''\n",
    "    kw = kw.strip().replace(\" \",\"%20\")\n",
    "    return kw\n",
    "\n",
    "# this will be used as the URL input for multiple job searches. \n",
    "occupation = 'data scientist' # str(input(\"Job you are looking for: \"))\n",
    "location = 'seattle, wa' # str(input(\"Where do you want to look: \"))\n",
    "radius = str(5)\n",
    "page_sort = 'DSC' # ASC (ascending) or DSC (descending) dates \n",
    "page_size = \"100\" # how many pages would you like to get. \n",
    "source = 'IN' # stands for indeed\n",
    "\n",
    "#give it the site URL\n",
    "url = 'https://www.careeronestop.org/Toolkit/Jobs/find-jobs.aspx?'+\\\n",
    "    'keyword='+Keyword_to_url(occupation)+\\\n",
    "    '&ajax=0&location='+Keyword_to_url(location)+\\\n",
    "    '&radius='+radius+\\\n",
    "    '&source='+ source +\\\n",
    "    '&pagesize='+page_size+\\\n",
    "    '&sortcolumns=accquisitiondate&sortdirections='+page_sort\n",
    "browser.get(url)\n",
    "browser.implicitly_wait(30) # tells WebDriver to poll the DOM (Document Object Model) 30s \n",
    "                            # for life of WebDriver object\n",
    "\n",
    "# Default it 100 job listings for this page and this verifies that thera are 100 job titles\n",
    "listing_num = len(browser.find_elements_by_xpath('//td[@data-title=\"Job Title\"]'))\n",
    "\n",
    "job_titles = browser.find_elements_by_xpath('//td[@data-title=\"Job Title\"]') # list of job titles\n",
    "company_titles = browser.find_elements_by_xpath('//td[@data-title=\"Company\"]') # list of company titles \n",
    "locations = browser.find_elements_by_xpath('//td[@data-title=\"Location\"]') # list of locations\n",
    "dates = browser.find_elements_by_xpath('//td[@data-title=\"Date Posted\"]') # list of dates posted\n",
    "\n",
    "data = {}\n",
    "data['company'] = []\n",
    "data['date_posted'] = []\n",
    "data['location'] = []\n",
    "data['position'] = []\n",
    "data['pos_link'] = []\n",
    "data['pos_description'] = []\n",
    "\n",
    "for job in tqdm(range(listing_num)):\n",
    "    data['position'].append(job_titles[job].text) # position title\n",
    "    data['company'].append(company_titles[job].text) # comapany title\n",
    "    data['location'].append(locations[job].text) # job location\n",
    "    data['date_posted'].append(dates[job].text) # date job posted\n",
    "    # link to job description\n",
    "    data['pos_link'].append(browser.find_element_by_link_text(job_titles[job].text).get_attribute('href')) \n",
    "    \n",
    "for link in tqdm(data['pos_link']):\n",
    "    browser.get(link) # open link to job description in the same window\n",
    "    # append job description\n",
    "    data['pos_description'].append(browser.find_element_by_xpath('//td[@class=\"snip\"]').text.replace('\\n', ' '))\n",
    "    browser.back() # click the back button to return to original page\n",
    "\n",
    "# transform the dictionary into a DataFrame    \n",
    "df = pd.DataFrame(data)\n",
    "\n"
   ]
  },
  {
   "cell_type": "code",
   "execution_count": 169,
   "metadata": {},
   "outputs": [
    {
     "data": {
      "text/plain": [
       "(100, 6)"
      ]
     },
     "execution_count": 169,
     "metadata": {},
     "output_type": "execute_result"
    }
   ],
   "source": [
    "df.shape"
   ]
  },
  {
   "cell_type": "markdown",
   "metadata": {},
   "source": [
    "# occupation = 'data scientist'  \n",
    "> #### Scrubbing dataframe to identify titles more closely matched to data science and data analyst roles"
   ]
  },
  {
   "cell_type": "code",
   "execution_count": 14,
   "metadata": {},
   "outputs": [],
   "source": [
    "# identifying all positions specific to data science or analysis\n",
    "positions_ds = df['position']\n",
    "ds_positions = set()\n",
    "for position in positions_ds:\n",
    "    if position.lower().find('data scientist') > -1 \\\n",
    "        or position.lower().find('analyst') > -1\\\n",
    "        or position.lower().find('machine learning') > -1\\\n",
    "        or position.lower().find('ai') > -1\\\n",
    "        or position.lower().find('data science') > -1\\\n",
    "        or position.lower().find('analytics') > -1:\n",
    "        ds_positions.add(position)    "
   ]
  },
  {
   "cell_type": "code",
   "execution_count": 20,
   "metadata": {},
   "outputs": [
    {
     "data": {
      "text/plain": [
       "['company',\n",
       " 'date_posted',\n",
       " 'location',\n",
       " 'pos_description',\n",
       " 'pos_link',\n",
       " 'position']"
      ]
     },
     "execution_count": 20,
     "metadata": {},
     "output_type": "execute_result"
    }
   ],
   "source": [
    "df.columns.tolist()"
   ]
  },
  {
   "cell_type": "code",
   "execution_count": 15,
   "metadata": {},
   "outputs": [
    {
     "data": {
      "text/plain": [
       "(46, 6)"
      ]
     },
     "execution_count": 15,
     "metadata": {},
     "output_type": "execute_result"
    }
   ],
   "source": [
    "# data science/analyst positions in this list\n",
    "df[ df['position'].isin(ds_positions) ].shape"
   ]
  },
  {
   "cell_type": "code",
   "execution_count": null,
   "metadata": {},
   "outputs": [],
   "source": []
  },
  {
   "cell_type": "code",
   "execution_count": 22,
   "metadata": {},
   "outputs": [
    {
     "data": {
      "text/html": [
       "<div>\n",
       "<style scoped>\n",
       "    .dataframe tbody tr th:only-of-type {\n",
       "        vertical-align: middle;\n",
       "    }\n",
       "\n",
       "    .dataframe tbody tr th {\n",
       "        vertical-align: top;\n",
       "    }\n",
       "\n",
       "    .dataframe thead th {\n",
       "        text-align: right;\n",
       "    }\n",
       "</style>\n",
       "<table border=\"1\" class=\"dataframe\">\n",
       "  <thead>\n",
       "    <tr style=\"text-align: right;\">\n",
       "      <th></th>\n",
       "      <th>company</th>\n",
       "      <th>position</th>\n",
       "    </tr>\n",
       "  </thead>\n",
       "  <tbody>\n",
       "    <tr>\n",
       "      <th>0</th>\n",
       "      <td>Keller Williams</td>\n",
       "      <td>Machine Learning Engineer</td>\n",
       "    </tr>\n",
       "    <tr>\n",
       "      <th>2</th>\n",
       "      <td>Avanade</td>\n",
       "      <td>Sr. AI Lead/Data Scientist</td>\n",
       "    </tr>\n",
       "    <tr>\n",
       "      <th>3</th>\n",
       "      <td>General Motors</td>\n",
       "      <td>AI/ML Scientist</td>\n",
       "    </tr>\n",
       "    <tr>\n",
       "      <th>4</th>\n",
       "      <td>Advanced Micro Devices, Inc.</td>\n",
       "      <td>Data Scientist / Operations Research Engineer</td>\n",
       "    </tr>\n",
       "    <tr>\n",
       "      <th>10</th>\n",
       "      <td>Zynga</td>\n",
       "      <td>Data Scientist 4, Poker</td>\n",
       "    </tr>\n",
       "  </tbody>\n",
       "</table>\n",
       "</div>"
      ],
      "text/plain": [
       "                         company  \\\n",
       "0                Keller Williams   \n",
       "2                        Avanade   \n",
       "3                 General Motors   \n",
       "4   Advanced Micro Devices, Inc.   \n",
       "10                         Zynga   \n",
       "\n",
       "                                         position  \n",
       "0                       Machine Learning Engineer  \n",
       "2                      Sr. AI Lead/Data Scientist  \n",
       "3                                 AI/ML Scientist  \n",
       "4   Data Scientist / Operations Research Engineer  \n",
       "10                        Data Scientist 4, Poker  "
      ]
     },
     "execution_count": 22,
     "metadata": {},
     "output_type": "execute_result"
    }
   ],
   "source": [
    "df[ df['position'].isin(ds_positions) ][['company','position']][:5]"
   ]
  },
  {
   "cell_type": "code",
   "execution_count": 23,
   "metadata": {},
   "outputs": [],
   "source": [
    "# identifying non-data science or analysis positions\n",
    "non_ds_positions = set()\n",
    "for position in positions_ds:\n",
    "    if position.lower().find('data scientist') == -1 \\\n",
    "        and position.lower().find('analyst') == -1\\\n",
    "        and position.lower().find('machine learning') == -1\\\n",
    "        and position.lower().find('ai') == -1\\\n",
    "        and position.lower().find('data science') == -1\\\n",
    "        and position.lower().find('analytics') == -1:\n",
    "        non_ds_positions.add(position)    "
   ]
  },
  {
   "cell_type": "code",
   "execution_count": 25,
   "metadata": {},
   "outputs": [
    {
     "data": {
      "text/plain": [
       "(54, 6)"
      ]
     },
     "execution_count": 25,
     "metadata": {},
     "output_type": "execute_result"
    }
   ],
   "source": [
    "# non-data science/analyst positions in this list\n",
    "df[ df['position'].isin(non_ds_positions) ].shape"
   ]
  },
  {
   "cell_type": "code",
   "execution_count": 26,
   "metadata": {},
   "outputs": [
    {
     "data": {
      "text/html": [
       "<div>\n",
       "<style scoped>\n",
       "    .dataframe tbody tr th:only-of-type {\n",
       "        vertical-align: middle;\n",
       "    }\n",
       "\n",
       "    .dataframe tbody tr th {\n",
       "        vertical-align: top;\n",
       "    }\n",
       "\n",
       "    .dataframe thead th {\n",
       "        text-align: right;\n",
       "    }\n",
       "</style>\n",
       "<table border=\"1\" class=\"dataframe\">\n",
       "  <thead>\n",
       "    <tr style=\"text-align: right;\">\n",
       "      <th></th>\n",
       "      <th>company</th>\n",
       "      <th>position</th>\n",
       "    </tr>\n",
       "  </thead>\n",
       "  <tbody>\n",
       "    <tr>\n",
       "      <th>1</th>\n",
       "      <td>ICF</td>\n",
       "      <td>Social Scientist</td>\n",
       "    </tr>\n",
       "    <tr>\n",
       "      <th>5</th>\n",
       "      <td>City of Austin</td>\n",
       "      <td>Environmental Scientist Senior (Temporary)</td>\n",
       "    </tr>\n",
       "    <tr>\n",
       "      <th>6</th>\n",
       "      <td>Cyber Warrior Network</td>\n",
       "      <td>Front End Web Developer</td>\n",
       "    </tr>\n",
       "    <tr>\n",
       "      <th>7</th>\n",
       "      <td>Siemens AG</td>\n",
       "      <td>Engineering and Development Manager - Autonomous Buildings - Building Technologies - Austin, TX</td>\n",
       "    </tr>\n",
       "    <tr>\n",
       "      <th>8</th>\n",
       "      <td>Black &amp; Veatch</td>\n",
       "      <td>Water Resources Planner / Scientist - Water Business</td>\n",
       "    </tr>\n",
       "  </tbody>\n",
       "</table>\n",
       "</div>"
      ],
      "text/plain": [
       "                 company  \\\n",
       "1                    ICF   \n",
       "5         City of Austin   \n",
       "6  Cyber Warrior Network   \n",
       "7             Siemens AG   \n",
       "8         Black & Veatch   \n",
       "\n",
       "                                                                                          position  \n",
       "1                                                                                 Social Scientist  \n",
       "5                                                       Environmental Scientist Senior (Temporary)  \n",
       "6                                                                          Front End Web Developer  \n",
       "7  Engineering and Development Manager - Autonomous Buildings - Building Technologies - Austin, TX  \n",
       "8                                             Water Resources Planner / Scientist - Water Business  "
      ]
     },
     "execution_count": 26,
     "metadata": {},
     "output_type": "execute_result"
    }
   ],
   "source": [
    "df[ df['position'].isin(non_ds_positions) ][['company','position']][:5]"
   ]
  },
  {
   "cell_type": "code",
   "execution_count": 30,
   "metadata": {},
   "outputs": [
    {
     "name": "stdout",
     "output_type": "stream",
     "text": [
      "54.0% of job titles are non-data science/analysis type titles\n"
     ]
    }
   ],
   "source": [
    "print('{:.3}% of job titles are non-data science/analysis type titles'.format(\n",
    "                                (df[ df['position'].isin(non_ds_positions) ].shape[0]/len(df))*100))"
   ]
  },
  {
   "cell_type": "markdown",
   "metadata": {},
   "source": [
    "# Text Preprocessing"
   ]
  },
  {
   "cell_type": "markdown",
   "metadata": {},
   "source": [
    "## Create function to REMOVE PUCTUATION"
   ]
  },
  {
   "cell_type": "code",
   "execution_count": 560,
   "metadata": {},
   "outputs": [
    {
     "data": {
      "text/plain": [
       "'!\"#$%&\\'()*+,-./:;<=>?@[\\\\]^_`{|}~'"
      ]
     },
     "execution_count": 560,
     "metadata": {},
     "output_type": "execute_result"
    }
   ],
   "source": [
    "string.punctuation"
   ]
  },
  {
   "cell_type": "markdown",
   "metadata": {},
   "source": [
    "#### Function DOES NOT WORK with this dataset (see below why)"
   ]
  },
  {
   "cell_type": "code",
   "execution_count": 84,
   "metadata": {},
   "outputs": [],
   "source": [
    "# sring of all punctuations\n",
    "string.punctuation\n",
    "\n",
    "def remove_punct(text):\n",
    "    # only returns char not in the punctuation list then join the characters to look like the original document                                                                                  #  punctuation list\n",
    "    text_nopunct = ''.join([char for char in text if char not in string.punctuation]) \n",
    "    return text_nopunct\n",
    "\n",
    "# make a new colum of the descriptions with punctuation removed\n",
    "df['docs_nopunct'] = df['pos_description'].apply(lambda x: remove_punct(x))"
   ]
  },
  {
   "cell_type": "markdown",
   "metadata": {},
   "source": [
    "Noticed that there are still apostrophies in the new column???"
   ]
  },
  {
   "cell_type": "code",
   "execution_count": 85,
   "metadata": {},
   "outputs": [
    {
     "name": "stdout",
     "output_type": "stream",
     "text": [
      "You can see that \"'\" from the punctuation string does not look like \"y\" from the document and this is what it like\n",
      " manually typed \"'\"\n"
     ]
    }
   ],
   "source": [
    "# the apostrophe from the document does not match the puncutation string's apostophe; need to find another solution\n",
    "print('You can see that \\\"{}\\\" from the punctuation string does not look like \\\"{}\\\" from the document and\\\n",
    " this is what it like\\n manually typed \\\"{}\\\"'.format(string.punctuation[6], df['docs_nopunct'][4][5],'\\''))"
   ]
  },
  {
   "cell_type": "code",
   "execution_count": 89,
   "metadata": {},
   "outputs": [
    {
     "data": {
      "text/plain": [
       "'’'"
      ]
     },
     "execution_count": 89,
     "metadata": {},
     "output_type": "execute_result"
    }
   ],
   "source": [
    "df['docs_nopunct'][0][8]"
   ]
  },
  {
   "cell_type": "code",
   "execution_count": 93,
   "metadata": {},
   "outputs": [
    {
     "name": "stdout",
     "output_type": "stream",
     "text": [
      "Typed apostrophe: [']\n",
      "String.puncuation apostrophe: [']\n",
      "Document apostrophe: [’]\n"
     ]
    }
   ],
   "source": [
    "print('Typed apostrophe: [{}]\\nString.puncuation apostrophe: [{}]\\nDocument apostrophe: [{}]'.\\\n",
    "      format('\\'',string.punctuation[6], df['docs_nopunct'][0][8]))"
   ]
  },
  {
   "cell_type": "markdown",
   "metadata": {},
   "source": [
    "#### Function WORKS correctly utilizing regex"
   ]
  },
  {
   "cell_type": "code",
   "execution_count": 405,
   "metadata": {},
   "outputs": [],
   "source": [
    "import re"
   ]
  },
  {
   "cell_type": "code",
   "execution_count": 406,
   "metadata": {},
   "outputs": [],
   "source": [
    "# Using regular expressions to remove punctuation\n",
    "def remove_punct(text):\n",
    "    '''\n",
    "    Finds all word elements only and joins all the stings on ' '\n",
    "    '''\n",
    "    text_nopunct = ' '.join(re.findall('\\w+', text)) # \\w+ selects word elements only \n",
    "    return text_nopunct\n",
    "\n",
    "df['docs_nopunct'] = df['pos_description'].apply(lambda x: remove_punct(x))"
   ]
  },
  {
   "cell_type": "markdown",
   "metadata": {},
   "source": [
    "## Create a function to TOKENIZE the text"
   ]
  },
  {
   "cell_type": "code",
   "execution_count": 408,
   "metadata": {},
   "outputs": [],
   "source": [
    "def tokenizer(text):\n",
    "    docs_tokenized = re.split('\\W+', text)\n",
    "    return docs_tokenized   \n",
    "\n",
    "df['docs_tokenized'] = df['docs_nopunct'].apply(lambda x: tokenizer(x.lower()))"
   ]
  },
  {
   "cell_type": "markdown",
   "metadata": {},
   "source": [
    "## Create a function to REMOVE STOPWORDS"
   ]
  },
  {
   "cell_type": "code",
   "execution_count": 410,
   "metadata": {},
   "outputs": [],
   "source": [
    "stopwords = nltk.corpus.stopwords.words('english')"
   ]
  },
  {
   "cell_type": "code",
   "execution_count": 411,
   "metadata": {},
   "outputs": [],
   "source": [
    "def remove_stopwords(tokenized_text):\n",
    "    docs_no_stopwords = [word for word in tokenized_text if word not in stopwords]\n",
    "    return docs_no_stopwords     \n",
    "\n",
    "df['docs_tokenized_nostopwords'] = df['docs_tokenized'].apply(lambda x: remove_stopwords(x))"
   ]
  },
  {
   "cell_type": "markdown",
   "metadata": {},
   "source": [
    "## Create a function to LEMMATIZE the tokens"
   ]
  },
  {
   "cell_type": "code",
   "execution_count": 369,
   "metadata": {},
   "outputs": [],
   "source": [
    "def word_lemmatizer(word):   \n",
    "    lemma = wn.morphy(word)\n",
    "    if lemma is None:\n",
    "        return  word\n",
    "    else:\n",
    "        return lemma"
   ]
  },
  {
   "cell_type": "code",
   "execution_count": 370,
   "metadata": {},
   "outputs": [],
   "source": [
    "def doc_lemmatizer(text):\n",
    "    docs_lemmatized = [word_lemmatizer(word) for word in text]\n",
    "    return docs_lemmatized\n",
    "\n",
    "df['docs_lemmatized'] = df['docs_tokenized_nostopwords'].apply(lambda x: doc_lemmatizer(x))"
   ]
  },
  {
   "cell_type": "markdown",
   "metadata": {},
   "source": [
    "## Create a function to REMOVE CRAP WORDS"
   ]
  },
  {
   "cell_type": "code",
   "execution_count": null,
   "metadata": {},
   "outputs": [],
   "source": [
    "crap_words = ['hour', 'hours', 'day', 'days', 'minutes', 'austin', 'tx', 'ago']"
   ]
  },
  {
   "cell_type": "code",
   "execution_count": null,
   "metadata": {},
   "outputs": [],
   "source": [
    "def remove_crap(text):\n",
    "    docs_no_crap = [word for word in text if word not in crap_words]\n",
    "    return docs_no_crap\n",
    "\n",
    "df['docs_no_crap'] = df['docs_tokenized'].apply(lambda x: remove_crap(x))"
   ]
  },
  {
   "cell_type": "markdown",
   "metadata": {},
   "source": [
    "## Job recommendations at bottom of webpages\n",
    " - At the end of every job description there is a \"save job\" link.  A function was made to call out the index of \"save\" in every job post in order to index the output of the text_processing function to only include everything before it.  \n",
    "<img width=\"406\" alt=\"screen shot 2018-07-12 at 1 16 00 am\" src=\"https://user-images.githubusercontent.com/7989686/42616824-2ebf21c0-8575-11e8-9cb9-e2c0a6c037b1.png\">"
   ]
  },
  {
   "cell_type": "markdown",
   "metadata": {},
   "source": [
    "# Combining into a one TEXT PREPROCESSING FUNCTION "
   ]
  },
  {
   "cell_type": "code",
   "execution_count": 34,
   "metadata": {},
   "outputs": [],
   "source": [
    "import re"
   ]
  },
  {
   "cell_type": "code",
   "execution_count": 175,
   "metadata": {},
   "outputs": [],
   "source": [
    "stopwords = nltk.corpus.stopwords.words('english')\n",
    "crap_words = ['hour', 'hours', 'day', 'days', 'minutes', 'austin', 'tx', 'ago', 'experience', 'team',\n",
    "              'work', 'skill', 'understanding', 'ability', 'member', 'years', 'requirement', 'job', \n",
    "              'knowledge', 'require', 'include', 'provide']\n",
    "\n",
    "# function for wordnet lemmatizing a word returns the word if it's not in wordnet\n",
    "#  this allows there to be a combination of wordnet lemmatized words and non-wordnet words in the doc\n",
    "def word_lemmatizer(word):   \n",
    "    lemma = wn.morphy(word) \n",
    "    if lemma is None:  # return the word if there is no lemma in WordNet for that word\n",
    "        return  word\n",
    "    else:\n",
    "        return lemma\n",
    "# Bottom of web page has job recommendations. This function identifies the index of 'save' at \n",
    "# the bottom of every job description\n",
    "def save_index(text):\n",
    "    save = text.index('save')\n",
    "    return save\n",
    "\n",
    "def text_preprocess(text):\n",
    "    text_nopunct = ' '.join(re.findall('\\w+', text))  # remove puncuation by only selecting word elements '\\w+'\n",
    "    docs_tokenized = re.split('\\W+', text_nopunct)  # tokenize splitting on non-word elements '\\W+'\n",
    "    docs_no_stopwords = [word for word in docs_tokenized if word not in stopwords]  # remove stopwords\n",
    "    docs_lemmatized = [word_lemmatizer(word) for word in docs_no_stopwords]  # wordnet lemmatizing\n",
    "    docs_no_crapwords = [word for word in docs_lemmatized if word not in crap_words]  # remove crap words\n",
    "    return docs_no_crapwords[ : save_index(docs_no_crapwords)]  # return the list up to 'save'"
   ]
  },
  {
   "cell_type": "code",
   "execution_count": 61,
   "metadata": {},
   "outputs": [],
   "source": [
    "# revert the dataframe to teh pre-application of the text_preprocess function to tweak some optimizations\n",
    "def revert(dataframe):\n",
    "    try:\n",
    "        return dataframe.drop('pos_description_processed', axis=1, inplace=True)\n",
    "    except:\n",
    "        pass\n",
    "revert(df)"
   ]
  },
  {
   "cell_type": "code",
   "execution_count": 176,
   "metadata": {},
   "outputs": [],
   "source": [
    "# Adding a new column of the processed text\n",
    "df['pos_description_processed'] = df['pos_description'].apply(lambda x: text_preprocess(x.lower()))"
   ]
  },
  {
   "cell_type": "code",
   "execution_count": 177,
   "metadata": {},
   "outputs": [
    {
     "data": {
      "text/html": [
       "<div>\n",
       "<style scoped>\n",
       "    .dataframe tbody tr th:only-of-type {\n",
       "        vertical-align: middle;\n",
       "    }\n",
       "\n",
       "    .dataframe tbody tr th {\n",
       "        vertical-align: top;\n",
       "    }\n",
       "\n",
       "    .dataframe thead th {\n",
       "        text-align: right;\n",
       "    }\n",
       "</style>\n",
       "<table border=\"1\" class=\"dataframe\">\n",
       "  <thead>\n",
       "    <tr style=\"text-align: right;\">\n",
       "      <th></th>\n",
       "      <th>company</th>\n",
       "      <th>date_posted</th>\n",
       "      <th>location</th>\n",
       "      <th>pos_description</th>\n",
       "      <th>pos_link</th>\n",
       "      <th>position</th>\n",
       "      <th>pos_description_processed</th>\n",
       "    </tr>\n",
       "  </thead>\n",
       "  <tbody>\n",
       "    <tr>\n",
       "      <th>0</th>\n",
       "      <td>Projectline</td>\n",
       "      <td>07/18/2018</td>\n",
       "      <td>Seattle, WA</td>\n",
       "      <td>Are you passionate about learning? Do you have a passion for mixing Bioinformatics with Technolo...</td>\n",
       "      <td>https://www.indeed.com/viewjob?jk=357cb05690d1e35e&amp;qd=gMF-077E7aWVyicXRrUZA9egzeZ3T2dBgeDfNnaoLk...</td>\n",
       "      <td>Bioinformatics Scientist / Data Scientist</td>\n",
       "      <td>[passionate, learning, passion, mixing, bioinformatics, technology, hand, learner, position, foc...</td>\n",
       "    </tr>\n",
       "    <tr>\n",
       "      <th>1</th>\n",
       "      <td>Ocean Associates ,Inc.</td>\n",
       "      <td>07/18/2018</td>\n",
       "      <td>Seattle, WA</td>\n",
       "      <td>Ocean Associates, Inc. (OAI) is seeking a Scientist to provide support to the NOAA National Mari...</td>\n",
       "      <td>https://www.indeed.com/viewjob?jk=b0aa5070b8912bae&amp;qd=gMF-077E7aWVyicXRrUZA9egzeZ3T2dBgeDfNnaoLk...</td>\n",
       "      <td>Scientist - Integration of Chinook Salmon Catch Data</td>\n",
       "      <td>[ocean, associate, inc, oai, seeking, scientist, support, noaa, national, marine, fishery, servi...</td>\n",
       "    </tr>\n",
       "    <tr>\n",
       "      <th>2</th>\n",
       "      <td>Amazon.com</td>\n",
       "      <td>07/18/2018</td>\n",
       "      <td>Seattle, WA</td>\n",
       "      <td>Job Description Amazon Go is a new kind of physical store with no lines and no checkout—you just...</td>\n",
       "      <td>https://www.indeed.com/viewjob?jk=2d83956af9659715&amp;qd=gMF-077E7aWVyicXRrUZA9egzeZ3T2dBgeDfNnaoLk...</td>\n",
       "      <td>Data Engineering Manager, Amazon Go</td>\n",
       "      <td>[description, amazon, go, new, kind, physical, store, line, checkout, grab, go, customer, simply...</td>\n",
       "    </tr>\n",
       "    <tr>\n",
       "      <th>3</th>\n",
       "      <td>Leafly Holdings</td>\n",
       "      <td>07/18/2018</td>\n",
       "      <td>Seattle, WA</td>\n",
       "      <td>HELP US MAKE HISTORY. Millions trust Leafly to help them find unbiased information about nearby ...</td>\n",
       "      <td>https://www.indeed.com/viewjob?jk=8111eed9aadaea12&amp;qd=gMF-077E7aWVyicXRrUZA9egzeZ3T2dBgeDfNnaoLk...</td>\n",
       "      <td>Lead Data Engineer</td>\n",
       "      <td>[help, us, make, history, million, trust, leafly, help, find, unbiased, information, nearby, str...</td>\n",
       "    </tr>\n",
       "    <tr>\n",
       "      <th>4</th>\n",
       "      <td>Zume Inc.</td>\n",
       "      <td>07/17/2018</td>\n",
       "      <td>Seattle, WA</td>\n",
       "      <td>WHO WE ARE  Zume is on a quest to be the most powerful source of health and well-being on the pl...</td>\n",
       "      <td>https://www.indeed.com/viewjob?jk=542d3a666a7572b8&amp;qd=gMF-077E7aWVyicXRrUZA9egzeZ3T2dBgeDfNnaoLk...</td>\n",
       "      <td>Data Scientist</td>\n",
       "      <td>[zume, quest, powerful, source, health, well, planet, start, partner, people, technology, create...</td>\n",
       "    </tr>\n",
       "  </tbody>\n",
       "</table>\n",
       "</div>"
      ],
      "text/plain": [
       "                  company date_posted     location  \\\n",
       "0             Projectline  07/18/2018  Seattle, WA   \n",
       "1  Ocean Associates ,Inc.  07/18/2018  Seattle, WA   \n",
       "2              Amazon.com  07/18/2018  Seattle, WA   \n",
       "3         Leafly Holdings  07/18/2018  Seattle, WA   \n",
       "4               Zume Inc.  07/17/2018  Seattle, WA   \n",
       "\n",
       "                                                                                       pos_description  \\\n",
       "0  Are you passionate about learning? Do you have a passion for mixing Bioinformatics with Technolo...   \n",
       "1  Ocean Associates, Inc. (OAI) is seeking a Scientist to provide support to the NOAA National Mari...   \n",
       "2  Job Description Amazon Go is a new kind of physical store with no lines and no checkout—you just...   \n",
       "3  HELP US MAKE HISTORY. Millions trust Leafly to help them find unbiased information about nearby ...   \n",
       "4  WHO WE ARE  Zume is on a quest to be the most powerful source of health and well-being on the pl...   \n",
       "\n",
       "                                                                                              pos_link  \\\n",
       "0  https://www.indeed.com/viewjob?jk=357cb05690d1e35e&qd=gMF-077E7aWVyicXRrUZA9egzeZ3T2dBgeDfNnaoLk...   \n",
       "1  https://www.indeed.com/viewjob?jk=b0aa5070b8912bae&qd=gMF-077E7aWVyicXRrUZA9egzeZ3T2dBgeDfNnaoLk...   \n",
       "2  https://www.indeed.com/viewjob?jk=2d83956af9659715&qd=gMF-077E7aWVyicXRrUZA9egzeZ3T2dBgeDfNnaoLk...   \n",
       "3  https://www.indeed.com/viewjob?jk=8111eed9aadaea12&qd=gMF-077E7aWVyicXRrUZA9egzeZ3T2dBgeDfNnaoLk...   \n",
       "4  https://www.indeed.com/viewjob?jk=542d3a666a7572b8&qd=gMF-077E7aWVyicXRrUZA9egzeZ3T2dBgeDfNnaoLk...   \n",
       "\n",
       "                                               position  \\\n",
       "0             Bioinformatics Scientist / Data Scientist   \n",
       "1  Scientist - Integration of Chinook Salmon Catch Data   \n",
       "2                   Data Engineering Manager, Amazon Go   \n",
       "3                                    Lead Data Engineer   \n",
       "4                                        Data Scientist   \n",
       "\n",
       "                                                                             pos_description_processed  \n",
       "0  [passionate, learning, passion, mixing, bioinformatics, technology, hand, learner, position, foc...  \n",
       "1  [ocean, associate, inc, oai, seeking, scientist, support, noaa, national, marine, fishery, servi...  \n",
       "2  [description, amazon, go, new, kind, physical, store, line, checkout, grab, go, customer, simply...  \n",
       "3  [help, us, make, history, million, trust, leafly, help, find, unbiased, information, nearby, str...  \n",
       "4  [zume, quest, powerful, source, health, well, planet, start, partner, people, technology, create...  "
      ]
     },
     "execution_count": 177,
     "metadata": {},
     "output_type": "execute_result"
    }
   ],
   "source": [
    "df.head()"
   ]
  },
  {
   "cell_type": "code",
   "execution_count": 178,
   "metadata": {},
   "outputs": [],
   "source": [
    "df.to_csv('../data/{}_{}_{}.csv'.format( dt.date.today(), ''.join(re.findall('\\w', occupation)), ''.join(re.findall('\\w', location)) ))"
   ]
  },
  {
   "cell_type": "markdown",
   "metadata": {},
   "source": [
    "### After reviewing the results using \"data scientist\" and \"data analyst\" there were more positive titles directly related to Data Science or Data Analytics using the \"data analyst\" keywords."
   ]
  },
  {
   "cell_type": "markdown",
   "metadata": {},
   "source": [
    "## Time for LDA"
   ]
  },
  {
   "cell_type": "code",
   "execution_count": 64,
   "metadata": {},
   "outputs": [],
   "source": [
    "# Text data\n",
    "texts = df['pos_description_processed']"
   ]
  },
  {
   "cell_type": "code",
   "execution_count": 65,
   "metadata": {},
   "outputs": [
    {
     "name": "stdout",
     "output_type": "stream",
     "text": [
      "0\n",
      "[]\n"
     ]
    }
   ],
   "source": [
    "# validating that all crap words are removed\n",
    "count = 0\n",
    "words = []\n",
    "for word in texts[0]:\n",
    "    if word in crap_words:\n",
    "        count += 1\n",
    "        words.append(word)\n",
    "print(count)\n",
    "print(words)"
   ]
  },
  {
   "cell_type": "code",
   "execution_count": 66,
   "metadata": {},
   "outputs": [],
   "source": [
    "dictionary = corpora.Dictionary(texts)"
   ]
  },
  {
   "cell_type": "code",
   "execution_count": 67,
   "metadata": {},
   "outputs": [
    {
     "data": {
      "text/html": [
       "<div>\n",
       "<style scoped>\n",
       "    .dataframe tbody tr th:only-of-type {\n",
       "        vertical-align: middle;\n",
       "    }\n",
       "\n",
       "    .dataframe tbody tr th {\n",
       "        vertical-align: top;\n",
       "    }\n",
       "\n",
       "    .dataframe thead th {\n",
       "        text-align: right;\n",
       "    }\n",
       "</style>\n",
       "<table border=\"1\" class=\"dataframe\">\n",
       "  <thead>\n",
       "    <tr style=\"text-align: right;\">\n",
       "      <th></th>\n",
       "      <th>0</th>\n",
       "      <th>1</th>\n",
       "    </tr>\n",
       "  </thead>\n",
       "  <tbody>\n",
       "    <tr>\n",
       "      <th>0</th>\n",
       "      <td>(0, 1)</td>\n",
       "      <td>call</td>\n",
       "    </tr>\n",
       "    <tr>\n",
       "      <th>1</th>\n",
       "      <td>(1, 7)</td>\n",
       "      <td>machine</td>\n",
       "    </tr>\n",
       "    <tr>\n",
       "      <th>2</th>\n",
       "      <td>(2, 8)</td>\n",
       "      <td>learning</td>\n",
       "    </tr>\n",
       "    <tr>\n",
       "      <th>3</th>\n",
       "      <td>(3, 6)</td>\n",
       "      <td>engineer</td>\n",
       "    </tr>\n",
       "    <tr>\n",
       "      <th>4</th>\n",
       "      <td>(4, 3)</td>\n",
       "      <td>kwri</td>\n",
       "    </tr>\n",
       "    <tr>\n",
       "      <th>5</th>\n",
       "      <td>(5, 2)</td>\n",
       "      <td>headquarters</td>\n",
       "    </tr>\n",
       "    <tr>\n",
       "      <th>6</th>\n",
       "      <td>(6, 1)</td>\n",
       "      <td>remote</td>\n",
       "    </tr>\n",
       "    <tr>\n",
       "      <th>7</th>\n",
       "      <td>(7, 1)</td>\n",
       "      <td>vote</td>\n",
       "    </tr>\n",
       "    <tr>\n",
       "      <th>8</th>\n",
       "      <td>(8, 2)</td>\n",
       "      <td>one</td>\n",
       "    </tr>\n",
       "    <tr>\n",
       "      <th>9</th>\n",
       "      <td>(9, 1)</td>\n",
       "      <td>best</td>\n",
       "    </tr>\n",
       "  </tbody>\n",
       "</table>\n",
       "</div>"
      ],
      "text/plain": [
       "        0             1\n",
       "0  (0, 1)          call\n",
       "1  (1, 7)       machine\n",
       "2  (2, 8)      learning\n",
       "3  (3, 6)      engineer\n",
       "4  (4, 3)          kwri\n",
       "5  (5, 2)  headquarters\n",
       "6  (6, 1)        remote\n",
       "7  (7, 1)          vote\n",
       "8  (8, 2)           one\n",
       "9  (9, 1)          best"
      ]
     },
     "execution_count": 67,
     "metadata": {},
     "output_type": "execute_result"
    }
   ],
   "source": [
    "# Illustration of what doc2bow is doing. \"data\" appears 5 tims in this position\n",
    "pd.concat([pd.Series(dictionary.doc2bow(texts[0])[:10]),pd.Series(texts[0][:10])], axis=1)"
   ]
  },
  {
   "cell_type": "code",
   "execution_count": 68,
   "metadata": {},
   "outputs": [],
   "source": [
    "# Validation that there are 5 instances of 'data' in the first job description\n",
    "def word_count(word):\n",
    "    count = 0\n",
    "    for text in texts[0]:\n",
    "        if text == word:\n",
    "            count += 1\n",
    "    return print('There are {} instances of \\'{}\\''.format(count, word))"
   ]
  },
  {
   "cell_type": "code",
   "execution_count": 69,
   "metadata": {},
   "outputs": [
    {
     "name": "stdout",
     "output_type": "stream",
     "text": [
      "There are 1 instances of 'call'\n",
      "There are 7 instances of 'machine'\n",
      "There are 6 instances of 'engineer'\n"
     ]
    }
   ],
   "source": [
    "word_count('call')\n",
    "word_count('machine')\n",
    "word_count('engineer')"
   ]
  },
  {
   "cell_type": "code",
   "execution_count": 70,
   "metadata": {},
   "outputs": [],
   "source": [
    "# defining the corpus variable\n",
    "corpus = [dictionary.doc2bow(text) for text in texts]"
   ]
  },
  {
   "cell_type": "code",
   "execution_count": 71,
   "metadata": {},
   "outputs": [],
   "source": [
    "# pickling the corpus object and save the dicitonary for plugging back into training different topic count models\n",
    "import pickle\n",
    "pickle.dump(corpus, open('corpus_ds.pkl', 'wb'))\n",
    "dictionary.save('dictionary_ds.gensim')"
   ]
  },
  {
   "cell_type": "markdown",
   "metadata": {},
   "source": [
    "## LDA with Gensim"
   ]
  },
  {
   "cell_type": "markdown",
   "metadata": {},
   "source": [
    "### Training a 2 topic model"
   ]
  },
  {
   "cell_type": "code",
   "execution_count": 72,
   "metadata": {},
   "outputs": [
    {
     "name": "stdout",
     "output_type": "stream",
     "text": [
      "(0, '0.014*\"data\" + 0.006*\"business\" + 0.006*\"project\" + 0.006*\"system\"')\n",
      "(1, '0.024*\"data\" + 0.008*\"business\" + 0.006*\"learning\" + 0.005*\"client\"')\n"
     ]
    }
   ],
   "source": [
    "topic_count = 2\n",
    "ldamodel = gensim.models.ldamodel.LdaModel(corpus=corpus, \n",
    "                                           num_topics=topic_count,\n",
    "                                           id2word=dictionary,\n",
    "                                           passes=15,\n",
    "                                           random_state=42)\n",
    "ldamodel.save('model2_ds.gensim')\n",
    "\n",
    "\n",
    "topics = ldamodel.print_topics(num_words=4)\n",
    "for topic in topics:\n",
    "    print(topic)"
   ]
  },
  {
   "cell_type": "markdown",
   "metadata": {},
   "source": [
    "### Training a 3 topic model"
   ]
  },
  {
   "cell_type": "code",
   "execution_count": 73,
   "metadata": {},
   "outputs": [
    {
     "name": "stdout",
     "output_type": "stream",
     "text": [
      "(0, '0.009*\"data\" + 0.008*\"project\" + 0.007*\"system\" + 0.007*\"position\"')\n",
      "(1, '0.019*\"data\" + 0.006*\"icf\" + 0.005*\"business\" + 0.005*\"development\"')\n",
      "(2, '0.026*\"data\" + 0.013*\"business\" + 0.006*\"science\" + 0.006*\"drive\"')\n"
     ]
    }
   ],
   "source": [
    "topic_count = 3\n",
    "ldamodel = gensim.models.ldamodel.LdaModel(corpus=corpus, \n",
    "                                           num_topics=topic_count,\n",
    "                                           id2word=dictionary,\n",
    "                                           passes=15,\n",
    "                                           random_state=42)\n",
    "ldamodel.save('model3_ds.gensim')\n",
    "\n",
    "\n",
    "topics = ldamodel.print_topics(num_words=4)\n",
    "for topic in topics:\n",
    "    print(topic)"
   ]
  },
  {
   "cell_type": "markdown",
   "metadata": {},
   "source": [
    "### Training a 4 topic model"
   ]
  },
  {
   "cell_type": "code",
   "execution_count": 74,
   "metadata": {},
   "outputs": [
    {
     "name": "stdout",
     "output_type": "stream",
     "text": [
      "(0, '0.008*\"project\" + 0.008*\"system\" + 0.008*\"position\" + 0.008*\"data\"')\n",
      "(1, '0.019*\"data\" + 0.007*\"customer\" + 0.006*\"business\" + 0.005*\"client\"')\n",
      "(2, '0.025*\"data\" + 0.014*\"business\" + 0.007*\"product\" + 0.006*\"drive\"')\n",
      "(3, '0.022*\"data\" + 0.008*\"icf\" + 0.007*\"development\" + 0.006*\"business\"')\n"
     ]
    }
   ],
   "source": [
    "topic_count = 4\n",
    "ldamodel = gensim.models.ldamodel.LdaModel(corpus=corpus, \n",
    "                                           num_topics=topic_count,\n",
    "                                           id2word=dictionary,\n",
    "                                           passes=15,\n",
    "                                           random_state=42)\n",
    "ldamodel.save('model4_ds.gensim')\n",
    "\n",
    "\n",
    "topics = ldamodel.print_topics(num_words=4)\n",
    "for topic in topics:\n",
    "    print(topic)"
   ]
  },
  {
   "cell_type": "markdown",
   "metadata": {},
   "source": [
    "### Training a 5 topic model"
   ]
  },
  {
   "cell_type": "code",
   "execution_count": 75,
   "metadata": {},
   "outputs": [
    {
     "name": "stdout",
     "output_type": "stream",
     "text": [
      "(0, '0.008*\"position\" + 0.008*\"system\" + 0.008*\"data\" + 0.007*\"project\"')\n",
      "(1, '0.012*\"water\" + 0.011*\"customer\" + 0.010*\"software\" + 0.006*\"user\"')\n",
      "(2, '0.016*\"data\" + 0.012*\"business\" + 0.011*\"client\" + 0.010*\"product\"')\n",
      "(3, '0.016*\"data\" + 0.010*\"icf\" + 0.006*\"business\" + 0.006*\"development\"')\n",
      "(4, '0.032*\"data\" + 0.011*\"business\" + 0.008*\"learning\" + 0.007*\"analytics\"')\n"
     ]
    }
   ],
   "source": [
    "topic_count = 5\n",
    "ldamodel = gensim.models.ldamodel.LdaModel(corpus=corpus, \n",
    "                                           num_topics=topic_count,\n",
    "                                           id2word=dictionary,\n",
    "                                           passes=15,\n",
    "                                           random_state=42)\n",
    "ldamodel.save('model5_ds.gensim')\n",
    "\n",
    "\n",
    "topics = ldamodel.print_topics(num_words=4)\n",
    "for topic in topics:\n",
    "    print(topic)"
   ]
  },
  {
   "cell_type": "markdown",
   "metadata": {},
   "source": [
    "### Training an 8 topic model"
   ]
  },
  {
   "cell_type": "code",
   "execution_count": 76,
   "metadata": {},
   "outputs": [
    {
     "name": "stdout",
     "output_type": "stream",
     "text": [
      "(0, '0.011*\"system\" + 0.010*\"position\" + 0.008*\"project\" + 0.007*\"research\"')\n",
      "(1, '0.017*\"software\" + 0.009*\"customer\" + 0.008*\"development\" + 0.007*\"application\"')\n",
      "(2, '0.012*\"client\" + 0.012*\"product\" + 0.009*\"business\" + 0.008*\"digital\"')\n",
      "(3, '0.016*\"data\" + 0.014*\"icf\" + 0.007*\"opportunity\" + 0.007*\"research\"')\n",
      "(4, '0.032*\"data\" + 0.012*\"business\" + 0.007*\"analysis\" + 0.007*\"learning\"')\n",
      "(5, '0.006*\"support\" + 0.006*\"real\" + 0.006*\"dell\" + 0.006*\"product\"')\n",
      "(6, '0.019*\"data\" + 0.009*\"project\" + 0.006*\"company\" + 0.005*\"field\"')\n",
      "(7, '0.021*\"data\" + 0.011*\"development\" + 0.010*\"design\" + 0.009*\"software\"')\n"
     ]
    }
   ],
   "source": [
    "topic_count = 8\n",
    "ldamodel = gensim.models.ldamodel.LdaModel(corpus=corpus, \n",
    "                                           num_topics=topic_count,\n",
    "                                           id2word=dictionary,\n",
    "                                           passes=15,\n",
    "                                           random_state=42)\n",
    "ldamodel.save('model8_ds.gensim')\n",
    "\n",
    "\n",
    "topics = ldamodel.print_topics(num_words=4)\n",
    "for topic in topics:\n",
    "    print(topic)"
   ]
  },
  {
   "cell_type": "markdown",
   "metadata": {},
   "source": [
    "# Visualizing the LDA models"
   ]
  },
  {
   "cell_type": "code",
   "execution_count": 77,
   "metadata": {},
   "outputs": [],
   "source": [
    "import pyLDAvis.gensim"
   ]
  },
  {
   "cell_type": "markdown",
   "metadata": {},
   "source": [
    "### 3 Topic Visalization"
   ]
  },
  {
   "cell_type": "code",
   "execution_count": 78,
   "metadata": {},
   "outputs": [],
   "source": [
    "dictionary = gensim.corpora.Dictionary.load('dictionary_ds.gensim')\n",
    "corpus = pickle.load(open(file='corpus_ds.pkl', mode='rb'))  # 'rb' --> Read Bytes\n",
    "lda = gensim.models.ldamodel.LdaModel.load('model3_ds.gensim')"
   ]
  },
  {
   "cell_type": "code",
   "execution_count": 79,
   "metadata": {},
   "outputs": [
    {
     "data": {
      "text/html": [
       "\n",
       "<link rel=\"stylesheet\" type=\"text/css\" href=\"https://cdn.rawgit.com/bmabey/pyLDAvis/files/ldavis.v1.0.0.css\">\n",
       "\n",
       "\n",
       "<div id=\"ldavis_el794349953289047579544029\"></div>\n",
       "<script type=\"text/javascript\">\n",
       "\n",
       "var ldavis_el794349953289047579544029_data = {\"mdsDat\": {\"Freq\": [40.281429726049915, 32.91762412472511, 26.80094614922498], \"cluster\": [1, 1, 1], \"topics\": [1, 2, 3], \"x\": [-0.0714884833981237, 0.10271930603588204, -0.031230822637758355], \"y\": [0.05399607377271431, 0.016228096545019288, -0.07022417031773359]}, \"tinfo\": {\"Category\": [\"Default\", \"Default\", \"Default\", \"Default\", \"Default\", \"Default\", \"Default\", \"Default\", \"Default\", \"Default\", \"Default\", \"Default\", \"Default\", \"Default\", \"Default\", \"Default\", \"Default\", \"Default\", \"Default\", \"Default\", \"Default\", \"Default\", \"Default\", \"Default\", \"Default\", \"Default\", \"Default\", \"Default\", \"Default\", \"Default\", \"Topic1\", \"Topic1\", \"Topic1\", \"Topic1\", \"Topic1\", \"Topic1\", \"Topic1\", \"Topic1\", \"Topic1\", \"Topic1\", \"Topic1\", \"Topic1\", \"Topic1\", \"Topic1\", \"Topic1\", \"Topic1\", \"Topic1\", \"Topic1\", \"Topic1\", \"Topic1\", \"Topic1\", \"Topic1\", \"Topic1\", \"Topic1\", \"Topic1\", \"Topic1\", \"Topic1\", \"Topic1\", \"Topic1\", \"Topic1\", \"Topic1\", \"Topic1\", \"Topic1\", \"Topic1\", \"Topic1\", \"Topic1\", \"Topic1\", \"Topic1\", \"Topic1\", \"Topic1\", \"Topic1\", \"Topic1\", \"Topic1\", \"Topic1\", \"Topic1\", \"Topic1\", \"Topic1\", \"Topic1\", \"Topic1\", \"Topic1\", \"Topic1\", \"Topic1\", \"Topic1\", \"Topic1\", \"Topic1\", \"Topic1\", \"Topic1\", \"Topic1\", \"Topic1\", \"Topic1\", \"Topic1\", \"Topic1\", \"Topic1\", \"Topic1\", \"Topic1\", \"Topic1\", \"Topic1\", \"Topic1\", \"Topic1\", \"Topic1\", \"Topic1\", \"Topic1\", \"Topic1\", \"Topic1\", \"Topic1\", \"Topic1\", \"Topic2\", \"Topic2\", \"Topic2\", \"Topic2\", \"Topic2\", \"Topic2\", \"Topic2\", \"Topic2\", \"Topic2\", \"Topic2\", \"Topic2\", \"Topic2\", \"Topic2\", \"Topic2\", \"Topic2\", \"Topic2\", \"Topic2\", \"Topic2\", \"Topic2\", \"Topic2\", \"Topic2\", \"Topic2\", \"Topic2\", \"Topic2\", \"Topic2\", \"Topic2\", \"Topic2\", \"Topic2\", \"Topic2\", \"Topic2\", \"Topic2\", \"Topic2\", \"Topic2\", \"Topic2\", \"Topic2\", \"Topic2\", \"Topic2\", \"Topic2\", \"Topic2\", \"Topic2\", \"Topic2\", \"Topic2\", \"Topic2\", \"Topic2\", \"Topic2\", \"Topic2\", \"Topic2\", \"Topic2\", \"Topic2\", \"Topic2\", \"Topic2\", \"Topic2\", \"Topic2\", \"Topic2\", \"Topic2\", \"Topic2\", \"Topic2\", \"Topic2\", \"Topic2\", \"Topic2\", \"Topic2\", \"Topic2\", \"Topic2\", \"Topic2\", \"Topic2\", \"Topic2\", \"Topic2\", \"Topic2\", \"Topic2\", \"Topic2\", \"Topic2\", \"Topic2\", \"Topic2\", \"Topic3\", \"Topic3\", \"Topic3\", \"Topic3\", \"Topic3\", \"Topic3\", \"Topic3\", \"Topic3\", \"Topic3\", \"Topic3\", \"Topic3\", \"Topic3\", \"Topic3\", \"Topic3\", \"Topic3\", \"Topic3\", \"Topic3\", \"Topic3\", \"Topic3\", \"Topic3\", \"Topic3\", \"Topic3\", \"Topic3\", \"Topic3\", \"Topic3\", \"Topic3\", \"Topic3\", \"Topic3\", \"Topic3\", \"Topic3\", \"Topic3\", \"Topic3\", \"Topic3\", \"Topic3\", \"Topic3\", \"Topic3\", \"Topic3\", \"Topic3\", \"Topic3\", \"Topic3\", \"Topic3\", \"Topic3\", \"Topic3\", \"Topic3\", \"Topic3\", \"Topic3\", \"Topic3\", \"Topic3\", \"Topic3\", \"Topic3\", \"Topic3\", \"Topic3\", \"Topic3\", \"Topic3\", \"Topic3\", \"Topic3\", \"Topic3\", \"Topic3\", \"Topic3\", \"Topic3\", \"Topic3\", \"Topic3\", \"Topic3\", \"Topic3\", \"Topic3\", \"Topic3\", \"Topic3\", \"Topic3\", \"Topic3\", \"Topic3\", \"Topic3\", \"Topic3\", \"Topic3\", \"Topic3\", \"Topic3\", \"Topic3\", \"Topic3\", \"Topic3\", \"Topic3\", \"Topic3\", \"Topic3\"], \"Freq\": [82.0, 256.0, 682.0, 54.0, 65.0, 62.0, 112.0, 46.0, 62.0, 26.0, 49.0, 33.0, 25.0, 126.0, 147.0, 19.0, 23.0, 60.0, 40.0, 18.0, 29.0, 100.0, 26.0, 111.0, 39.0, 75.0, 27.0, 33.0, 20.0, 105.0, 20.522597028568388, 16.795993887580916, 15.000404660250906, 14.068792479497839, 13.159724317153364, 10.406731201702813, 10.387962448773026, 11.249172669594165, 20.743040320889452, 9.49270324456055, 9.492441568956727, 9.489050738084032, 9.480598056855246, 9.480460978326786, 9.480241899600417, 13.778414926483848, 9.467220664779315, 9.463661019608596, 10.30732217503523, 8.529250458441714, 7.655721905087827, 7.653642613003629, 7.6525886693080745, 7.651319235490458, 7.65092396640212, 7.634050513951794, 20.332256741627575, 7.618123364740151, 7.608331565298679, 12.630595358231606, 31.969719548228223, 31.902595432146743, 21.322116818425474, 187.8073875893406, 22.698826798420573, 14.575034958913713, 13.015172243041656, 83.21150152866355, 50.89572176208555, 21.3363685659996, 380.40363143111983, 52.66112633057249, 49.02027469710768, 45.5267988237584, 38.65761245802223, 48.68658290140838, 79.46898326760632, 43.33074841820564, 27.836803872366456, 68.96386937495896, 21.240529582462653, 44.76721209861547, 61.957886858459176, 75.96436377966224, 86.95364868819661, 74.51967698733759, 48.8015155215718, 82.96271319841442, 61.81989128969565, 52.983016105782006, 75.5013753684132, 79.71405569352588, 40.824501710929994, 60.124371722998475, 67.61010890214759, 39.334862996613374, 51.26354955989557, 55.91714901730218, 59.029413426921984, 54.265394495970526, 56.799018106951564, 52.482104382244756, 52.46501636429609, 54.43050141203283, 48.16658528036576, 48.592527562439095, 25.012029655393853, 23.249748105193582, 17.072483220122564, 14.432318295222037, 14.43102551845292, 14.424092485456487, 19.444073386449205, 12.652621249968483, 12.651113657221712, 12.647707757799449, 11.780234481258375, 11.777374765183032, 11.777125054069257, 11.771224056694852, 11.768411829455925, 15.128712388286521, 10.89483501073648, 10.889696452628705, 10.888407142464466, 10.887531052512955, 10.887279868428998, 10.886837338506165, 10.88622050607645, 10.886020768527446, 10.885576187074951, 10.885173232109118, 14.210642079462575, 10.007917981290543, 10.002668305777886, 9.997842936511361, 49.60527883718556, 12.395896810773868, 41.652722027065685, 55.928623691552545, 53.672171230009, 25.880635939036928, 34.041705319563086, 23.809381069390493, 49.08768929278412, 39.57022458180033, 79.7083450094028, 45.141496717078475, 20.796521029850467, 26.963662938975066, 87.68911992348426, 61.823097920555064, 90.44007207998071, 61.92677355791121, 37.50071272042971, 74.60891138078567, 28.170766453539972, 58.66911871897724, 77.23148868405069, 27.1761117681236, 33.658795254586316, 34.23561764945682, 44.37063990142804, 50.326859545240175, 50.09432191346921, 49.53183529267311, 67.97080133545174, 61.633839381762634, 47.01781566784281, 43.59537150700445, 111.53405042875032, 60.57661860644255, 49.31985520526021, 40.32553814325133, 49.802491887366585, 50.18942594430256, 46.21126744392753, 45.10074536113148, 44.720594179575876, 19.126900983326, 18.22997505169194, 13.72194647086833, 12.855143274492452, 11.959926407442422, 11.059393541633142, 25.263525651890284, 8.37532893891972, 7.47590555647604, 6.57895558816121, 6.577571908711605, 6.5773543784210196, 6.574395080005184, 7.360471662509211, 5.680740112064443, 5.678800604223605, 5.678694411979807, 5.675352718847358, 5.6684077935703066, 14.475325544763328, 4.787702541361913, 4.782699913281682, 4.777231904009984, 4.773553500720226, 4.766951356036627, 4.763925516300273, 4.7430806354271065, 7.038480966829116, 3.8895716516207957, 3.8878836899301095, 9.264181895128525, 6.172495116326488, 62.69085423520656, 26.210738732835082, 20.70914512060024, 7.54790575259243, 10.141167238828881, 6.153274548997299, 26.549081237186638, 22.710776818667632, 8.570279199948521, 16.862981111947075, 38.19086423092882, 23.984498541544873, 13.57991365583564, 13.053146677467137, 190.49547084121838, 15.554586166986992, 17.908239600664132, 35.46679682792995, 24.920502421750182, 32.26818086796501, 33.113269173745834, 25.092100083758737, 25.383588239693204, 44.65066275189631, 31.08708933465573, 44.25532317981965, 20.769460801343076, 40.65408898702867, 39.101554916352164, 50.10583331868617, 45.032544364858445, 31.642183192771164, 38.52846971203721, 53.23369435130307, 26.666755486784744, 36.64210609741377, 37.91876647158099, 38.43151687264707, 36.78703906531802, 29.048823202676115, 35.17917734449107, 32.2684253091578, 29.915145021236135, 29.437958092588186, 30.22407578320864, 27.97940018301992, 27.534080344525876, 27.404843658093696, 27.735618341452092], \"Term\": [\"icf\", \"business\", \"data\", \"function\", \"document\", \"may\", \"position\", \"control\", \"texas\", \"game\", \"federal\", \"security\", \"verification\", \"client\", \"system\", \"b3\", \"retirement\", \"employment\", \"environmental\", \"ga\", \"university\", \"relate\", \"water\", \"drive\", \"career\", \"benefit\", \"affirmative\", \"action\", \"assign\", \"management\", \"cognitivescale\", \"forward\", \"retailmenot\", \"ways\", \"valassis\", \"volunteer\", \"ethics\", \"cause\", \"impactful\", \"democracy\", \"journey\", \"schwab\", \"bitbucket\", \"numbers\", \"avanade\", \"predictive\", \"namru\", \"sa\", \"constantly\", \"roadmap\", \"ebay\", \"savings\", \"correct\", \"pain\", \"ahead\", \"retention\", \"stakeholder\", \"commerce\", \"partnership\", \"love\", \"success\", \"ai\", \"comfortable\", \"business\", \"financial\", \"store\", \"judgment\", \"drive\", \"deliver\", \"culture\", \"data\", \"model\", \"across\", \"digital\", \"strategy\", \"organization\", \"client\", \"multiple\", \"value\", \"problem\", \"direct\", \"identify\", \"machine\", \"customer\", \"science\", \"learning\", \"strong\", \"product\", \"analytics\", \"environment\", \"technology\", \"development\", \"people\", \"solution\", \"opportunity\", \"health\", \"engineer\", \"design\", \"working\", \"technical\", \"analysis\", \"scientist\", \"support\", \"project\", \"tool\", \"company\", \"verification\", \"retirement\", \"asuragen\", \"kla\", \"tencor\", \"assay\", \"assign\", \"trs\", \"135\", \"third\", \"mach\", \"sensing\", \"manual\", \"comply\", \"acceptable\", \"later\", \"semiconductor\", \"admission\", \"marginal\", \"incidental\", \"teacher\", \"finalist\", \"ut\", \"nondiscrimination\", \"repetitive\", \"dismissal\", \"molecular\", \"diagnostic\", \"tobacco\", \"tacc\", \"function\", \"keyboard\", \"control\", \"document\", \"may\", \"university\", \"environmental\", \"affirmative\", \"texas\", \"federal\", \"position\", \"employment\", \"applicable\", \"action\", \"system\", \"relate\", \"project\", \"management\", \"equal\", \"research\", \"assist\", \"process\", \"software\", \"conditions\", \"identity\", \"least\", \"state\", \"application\", \"information\", \"develop\", \"product\", \"technology\", \"engineering\", \"qualification\", \"data\", \"development\", \"technical\", \"status\", \"opportunity\", \"science\", \"analysis\", \"support\", \"working\", \"b3\", \"ga\", \"natera\", \"instructor\", \"cyber\", \"hubzone\", \"game\", \"knime\", \"playstudios\", \"homeaway\", \"amgen\", \"pioneer\", \"landscape\", \"style\", \"curriculum\", \"affairs\", \"certify\", \"elite\", \"phi\", \"player\", \"dematic\", \"sick\", \"milestone\", \"series\", \"arm\", \"billing\", \"zynga\", \"alongside\", \"nokia\", \"regularly\", \"assembly\", \"devops\", \"icf\", \"security\", \"water\", \"gov\", \"times\", \"look\", \"career\", \"training\", \"since\", \"integrate\", \"benefit\", \"following\", \"general\", \"www\", \"data\", \"student\", \"mission\", \"need\", \"3\", \"world\", \"help\", \"professional\", \"group\", \"customer\", \"employee\", \"learning\", \"platform\", \"scientist\", \"analytics\", \"development\", \"opportunity\", \"using\", \"client\", \"business\", \"computer\", \"solution\", \"working\", \"software\", \"analysis\", \"program\", \"technology\", \"support\", \"engineering\", \"design\", \"science\", \"company\", \"engineer\", \"new\", \"product\"], \"Total\": [82.0, 256.0, 682.0, 54.0, 65.0, 62.0, 112.0, 46.0, 62.0, 26.0, 49.0, 33.0, 25.0, 126.0, 147.0, 19.0, 23.0, 60.0, 40.0, 18.0, 29.0, 100.0, 26.0, 111.0, 39.0, 75.0, 27.0, 33.0, 20.0, 105.0, 21.123078824600356, 17.444321870465455, 15.60754563191207, 14.687883496653559, 13.769033367075645, 11.011563846568354, 11.011213669709413, 11.927893879750952, 22.01592215042236, 10.092552475651527, 10.092553267176527, 10.092416178377675, 10.092071920133222, 10.092061285967471, 10.09225546187202, 14.678129267290478, 10.091843876209003, 10.091732204291564, 11.007766489961105, 9.171671775546509, 8.2541685076645, 8.254110731471751, 8.254037321268456, 8.253999024740017, 8.253986854661528, 8.253358094463023, 22.002860296741602, 8.253332135808263, 8.2523895153269, 13.749321819365019, 35.74242017056793, 35.75439007834947, 23.820237416994967, 256.45986219383354, 26.511540819538897, 16.49476267729968, 14.649308519668427, 111.2909926173325, 64.8648107814793, 25.591235759620307, 682.4331527010886, 72.07211607451913, 68.35311767695825, 63.784039927774444, 52.87228323619085, 70.18953557408769, 126.5434104664163, 61.941707477750064, 36.5336103903076, 111.7228846604195, 26.458595477407474, 67.35775929398355, 103.51093583960298, 138.0014842778868, 167.3671504157078, 140.59251713344955, 83.49605984064564, 178.66913287531827, 121.45864532364968, 98.72035522302706, 172.3143920946669, 190.3965076186546, 68.15091464113041, 130.19619166967584, 162.44514515437263, 65.3783069267005, 105.84067988004165, 126.38404402699818, 141.66877407807885, 122.6182381439476, 139.79732461619713, 129.08463710210333, 129.83418703458537, 167.77808848499907, 102.13156705743492, 114.58741818865158, 25.658231413621124, 23.88965583053962, 17.70001609423919, 15.047277573954585, 15.047309066960517, 15.047545020713637, 20.361192463177446, 13.279413155514588, 13.27950044281244, 13.279594153073534, 12.394808605894319, 12.394930582832814, 12.394946726954954, 12.395199951573622, 12.395297524023585, 15.934779511606436, 11.510712154725494, 11.51093817723103, 11.510981627413427, 11.511017476019198, 11.511042296792459, 11.51106160680023, 11.511048546507956, 11.511095312679968, 11.511120402280316, 11.511111327697863, 15.051137186766406, 10.626635213399537, 10.626900834079109, 10.627110149573799, 54.09185813346308, 13.283564147652562, 46.95502399327609, 65.73041678799723, 62.999597726013846, 29.23844741180487, 40.88535565212485, 27.5442909946451, 62.18155565469473, 49.68351502921814, 112.36909459651828, 60.52447140251106, 24.827926673388887, 33.84733918481156, 147.73202456469355, 100.92907195034378, 167.77808848499907, 105.49205681634801, 55.345523739774514, 138.12201431749628, 38.3000744300136, 104.02732789977382, 153.23670878342332, 37.45089119890305, 51.857777881735515, 53.454836692163994, 80.53235998490521, 100.4378683200508, 104.21685019773702, 103.2025178642067, 178.66913287531827, 172.3143920946669, 104.99371770048728, 90.64286531419069, 682.4331527010886, 190.3965076186546, 122.6182381439476, 86.23282118329146, 162.44514515437263, 167.3671504157078, 139.79732461619713, 129.83418703458537, 141.66877407807885, 19.769924820887766, 18.87133142633937, 14.3777550369848, 13.480034748270677, 12.581049566361887, 11.683042137424174, 26.981576588346098, 8.987251811332747, 8.088643207904152, 7.19017106301135, 7.190218530975532, 7.190239138731432, 7.19005822124636, 8.088132192957618, 6.291770915676914, 6.2918154744419645, 6.291844155581268, 6.29173947925687, 6.291521220383945, 16.200076472294477, 5.393117773910493, 5.39325088989405, 5.393379774814887, 5.3929978030958985, 5.3928352444679435, 5.392887444697332, 5.394208353913962, 8.082550255086208, 4.494636851709675, 4.494649417431264, 10.770273238801364, 7.184248263943928, 82.17292941439914, 33.15216146985934, 26.870035641956935, 9.005322096554098, 12.552532190082852, 7.1842731889800024, 39.682282693632395, 35.01598797282483, 10.796613084520178, 25.99963746360121, 75.979204915523, 41.37388418446151, 19.689843700061445, 18.966942144959095, 682.4331527010886, 24.16833898147805, 29.64183470346928, 78.64517478091042, 47.596463948069356, 70.19961078325967, 75.03030356935555, 52.14607200473131, 53.723055366430984, 138.0014842778868, 78.54798773414012, 140.59251713344955, 40.654933440134556, 129.08463710210333, 121.45864532364968, 190.3965076186546, 162.44514515437263, 85.32205943875326, 126.5434104664163, 256.45986219383354, 63.93110318089989, 130.19619166967584, 141.66877407807885, 153.23670878342332, 139.79732461619713, 84.20551908003944, 172.3143920946669, 129.83418703458537, 104.99371770048728, 126.38404402699818, 167.3671504157078, 114.58741818865158, 105.84067988004165, 99.46740722321056, 178.66913287531827], \"loglift\": [30.0, 29.0, 28.0, 27.0, 26.0, 25.0, 24.0, 23.0, 22.0, 21.0, 20.0, 19.0, 18.0, 17.0, 16.0, 15.0, 14.0, 13.0, 12.0, 11.0, 10.0, 9.0, 8.0, 7.0, 6.0, 5.0, 4.0, 3.0, 2.0, 1.0, 0.8804, 0.8714, 0.8696, 0.8662, 0.864, 0.8528, 0.851, 0.8507, 0.8497, 0.848, 0.848, 0.8476, 0.8468, 0.8468, 0.8467, 0.846, 0.8454, 0.845, 0.8435, 0.8367, 0.834, 0.8337, 0.8336, 0.8335, 0.8334, 0.8313, 0.8303, 0.8292, 0.828, 0.8244, 0.7977, 0.7953, 0.7985, 0.5977, 0.754, 0.7855, 0.791, 0.6185, 0.6668, 0.7274, 0.3248, 0.5955, 0.5768, 0.5721, 0.5961, 0.5435, 0.4441, 0.5519, 0.6374, 0.4268, 0.6896, 0.5007, 0.3961, 0.3123, 0.2545, 0.2745, 0.3722, 0.1421, 0.2339, 0.287, 0.0841, 0.0386, 0.3968, 0.1367, 0.0327, 0.4012, 0.1843, 0.0938, 0.0338, 0.0941, 0.0086, 0.0093, 0.0032, -0.2164, 0.1577, 0.0514, 1.0857, 1.084, 1.0751, 1.0694, 1.0693, 1.0688, 1.0651, 1.0628, 1.0627, 1.0624, 1.0603, 1.0601, 1.06, 1.0595, 1.0593, 1.0593, 1.0562, 1.0557, 1.0556, 1.0555, 1.0555, 1.0554, 1.0554, 1.0553, 1.0553, 1.0553, 1.0537, 1.0512, 1.0506, 1.0501, 1.0246, 1.042, 0.9913, 0.9497, 0.9509, 0.9892, 0.928, 0.9654, 0.8747, 0.8836, 0.7677, 0.8179, 0.934, 0.8838, 0.5896, 0.621, 0.4932, 0.5785, 0.7219, 0.4953, 0.804, 0.5384, 0.426, 0.7905, 0.6789, 0.6656, 0.5151, 0.4202, 0.3786, 0.3771, 0.1447, 0.0831, 0.3078, 0.3792, -0.7002, -0.034, 0.2004, 0.3511, -0.0711, -0.0932, 0.0042, 0.0538, -0.0419, 1.2837, 1.2822, 1.27, 1.2693, 1.2661, 1.2619, 1.2509, 1.2462, 1.238, 1.2279, 1.2277, 1.2276, 1.2272, 1.2225, 1.2146, 1.2142, 1.2142, 1.2136, 1.2124, 1.2042, 1.1977, 1.1966, 1.1954, 1.1947, 1.1934, 1.1927, 1.1881, 1.1784, 1.1721, 1.1717, 1.1661, 1.1649, 1.0461, 1.0818, 1.0563, 1.1402, 1.1034, 1.1618, 0.9148, 0.8838, 1.0858, 0.8838, 0.6289, 0.7715, 0.9452, 0.9431, 0.0407, 0.876, 0.8128, 0.5204, 0.6697, 0.5395, 0.4988, 0.5852, 0.567, 0.1883, 0.3898, 0.1608, 0.6451, 0.1614, 0.1833, -0.0182, 0.0338, 0.3248, 0.1275, -0.2555, 0.4423, 0.0489, -0.0013, -0.0664, -0.0183, 0.2525, -0.2721, -0.0754, 0.0612, -0.1403, -0.3948, -0.0931, -0.0298, 0.0276, -0.5461], \"logprob\": [30.0, 29.0, 28.0, 27.0, 26.0, 25.0, 24.0, 23.0, 22.0, 21.0, 20.0, 19.0, 18.0, 17.0, 16.0, 15.0, 14.0, 13.0, 12.0, 11.0, 10.0, 9.0, 8.0, 7.0, 6.0, 5.0, 4.0, 3.0, 2.0, 1.0, -6.5771, -6.7775, -6.8906, -6.9547, -7.0215, -7.2562, -7.258, -7.1784, -6.5664, -7.3481, -7.3482, -7.3485, -7.3494, -7.3494, -7.3495, -6.9756, -7.3508, -7.3512, -7.2658, -7.4552, -7.5632, -7.5635, -7.5636, -7.5638, -7.5638, -7.566, -6.5865, -7.5681, -7.5694, -7.0625, -6.1339, -6.136, -6.5389, -4.3632, -6.4763, -6.9194, -7.0325, -5.1773, -5.6689, -6.5382, -3.6574, -5.6348, -5.7064, -5.7804, -5.9439, -5.7133, -5.2233, -5.8298, -6.2723, -5.3651, -6.5427, -5.7972, -5.4722, -5.2684, -5.1333, -5.2876, -5.7109, -5.1803, -5.4744, -5.6287, -5.2745, -5.2202, -5.8894, -5.5022, -5.3849, -5.9265, -5.6617, -5.5748, -5.5206, -5.6048, -5.5591, -5.6382, -5.6385, -5.6017, -5.724, -5.7152, -6.1774, -6.2505, -6.5593, -6.7273, -6.7274, -6.7279, -6.4292, -6.8589, -6.859, -6.8593, -6.9304, -6.9306, -6.9306, -6.9311, -6.9314, -6.6802, -7.0085, -7.009, -7.0091, -7.0092, -7.0092, -7.0092, -7.0093, -7.0093, -7.0093, -7.0094, -6.7428, -7.0934, -7.0939, -7.0944, -5.4927, -6.8794, -5.6674, -5.3727, -5.4139, -6.1433, -5.8692, -6.2267, -5.5032, -5.7187, -5.0184, -5.587, -6.362, -6.1023, -4.923, -5.2725, -4.8921, -5.2708, -5.7724, -5.0845, -6.0585, -5.3249, -5.05, -6.0944, -5.8805, -5.8635, -5.6042, -5.4782, -5.4829, -5.4942, -5.1777, -5.2756, -5.5463, -5.6218, -4.6824, -5.2929, -5.4985, -5.6998, -5.4887, -5.481, -5.5636, -5.5879, -5.5963, -6.2401, -6.2881, -6.5722, -6.6375, -6.7096, -6.7879, -5.9618, -7.0659, -7.1795, -7.3073, -7.3075, -7.3076, -7.308, -7.1951, -7.4541, -7.4545, -7.4545, -7.4551, -7.4563, -6.5188, -7.6252, -7.6262, -7.6273, -7.6281, -7.6295, -7.6301, -7.6345, -7.2398, -7.8329, -7.8333, -6.9651, -7.3711, -5.053, -5.925, -6.1606, -7.1699, -6.8746, -7.3742, -5.9122, -6.0684, -7.0429, -6.3661, -5.5486, -6.0138, -6.5826, -6.6222, -3.9416, -6.4469, -6.3059, -5.6226, -5.9755, -5.7171, -5.6913, -5.9687, -5.9571, -5.3923, -5.7544, -5.4012, -6.1577, -5.4861, -5.525, -5.2771, -5.3838, -5.7367, -5.5398, -5.2165, -5.9078, -5.59, -5.5558, -5.5423, -5.5861, -5.8222, -5.6308, -5.7171, -5.7928, -5.8089, -5.7826, -5.8597, -5.8758, -5.8805, -5.8685]}, \"token.table\": {\"Topic\": [2, 1, 2, 3, 2, 1, 2, 3, 1, 2, 3, 2, 3, 1, 2, 1, 1, 3, 2, 3, 3, 1, 2, 3, 1, 2, 3, 2, 3, 1, 2, 3, 3, 2, 2, 3, 1, 2, 1, 2, 3, 2, 1, 3, 1, 2, 3, 3, 1, 1, 2, 3, 1, 2, 3, 1, 3, 1, 2, 3, 1, 1, 2, 3, 1, 1, 2, 3, 2, 1, 2, 3, 1, 2, 3, 1, 2, 3, 1, 1, 2, 3, 3, 1, 2, 3, 3, 1, 2, 3, 1, 2, 3, 3, 1, 1, 2, 3, 1, 2, 3, 1, 2, 3, 2, 3, 2, 1, 2, 3, 1, 2, 3, 2, 1, 2, 3, 1, 2, 3, 1, 3, 1, 2, 3, 1, 2, 3, 1, 2, 3, 1, 2, 3, 1, 2, 3, 1, 2, 3, 1, 2, 3, 1, 2, 3, 2, 1, 2, 1, 2, 3, 1, 1, 2, 3, 3, 1, 3, 1, 2, 3, 1, 3, 1, 2, 3, 1, 2, 3, 1, 2, 3, 3, 3, 1, 2, 3, 1, 2, 3, 1, 2, 3, 1, 2, 2, 1, 2, 3, 3, 1, 2, 3, 1, 1, 2, 2, 3, 2, 3, 3, 2, 1, 2, 3, 1, 2, 3, 2, 3, 1, 2, 2, 1, 2, 3, 1, 2, 3, 2, 2, 1, 2, 3, 3, 1, 2, 3, 1, 2, 3, 2, 3, 1, 2, 3, 1, 3, 1, 2, 3, 1, 2, 3, 3, 2, 1, 1, 2, 3, 1, 2, 3, 1, 1, 1, 2, 3, 3, 3, 1, 2, 3, 1, 3, 3, 1, 2, 3, 1, 2, 1, 2, 3, 1, 2, 3, 1, 2, 3, 1, 2, 3, 1, 2, 3, 1, 2, 3, 1, 2, 3, 3, 1, 2, 3, 2, 1, 2, 3, 1, 1, 2, 1, 1, 1, 1, 1, 2, 3, 1, 2, 3, 1, 2, 3, 2, 2, 3, 3, 1, 2, 3, 1, 2, 3, 1, 2, 3, 1, 2, 1, 2, 3, 1, 2, 3, 1, 3, 1, 2, 3, 1, 2, 3, 1, 2, 3, 3, 1, 2, 3, 1, 2, 3, 1, 2, 3, 2, 2, 1, 2, 3, 1, 2, 3, 2, 1, 2, 3, 2, 2, 3, 2, 1, 2, 3, 1, 2, 3, 2, 2, 3, 1, 2, 3, 2, 1, 1, 2, 3, 2, 1, 2, 3, 1, 1, 2, 3, 1, 2, 3, 1, 2, 3, 3], \"Freq\": [0.9789524881590166, 0.1890896771201228, 0.29413949774241327, 0.5252491031114522, 0.9681090733596793, 0.7168656187941204, 0.13166919528871598, 0.1609290164639862, 0.1772665191564719, 0.7976993362041235, 0.02954441985941198, 0.9556128119737729, 0.9536198295027325, 0.108915491801304, 0.871323934410432, 0.9692285850300226, 0.894994990262108, 0.08390578033707263, 0.12372332598497825, 0.8660632818948478, 0.9735448192351779, 0.4077331247682253, 0.32904778490067305, 0.26466887046358484, 0.5104618105593818, 0.172898355189468, 0.32109694535186917, 0.8458217343822051, 0.16110890178708667, 0.27877931370244197, 0.49782020304007496, 0.219040889337633, 0.9271560827171718, 0.9303843238699973, 0.09284815508648053, 0.8356333957783247, 0.049113037058535126, 0.9331477041121674, 0.13054804917250457, 0.7310690753660255, 0.13054804917250457, 0.9604511040830622, 0.8917729078501332, 0.961055753733858, 0.38168338339738445, 0.11845346381298137, 0.5001368472103658, 0.9271471083484883, 0.8917891262789568, 0.7330581806907029, 0.05848868462957736, 0.20666001902450667, 0.22680146879363325, 0.10080065279717033, 0.6804044063808997, 0.9222080705021894, 0.953615482461945, 0.6242916933313254, 0.0711218384807839, 0.30819463341673026, 0.9941732535478202, 0.881603303626906, 0.04198110969651933, 0.04198110969651933, 0.9693054718215998, 0.4276211190946688, 0.33162454133872277, 0.24435492519695362, 0.968116694114043, 0.29719493415024406, 0.2815530955107575, 0.42232964326613626, 0.18691143991267775, 0.7209441253774713, 0.08010490281971903, 0.9084495032775113, 0.8944729749475658, 0.10648487796994832, 0.9692226589993882, 0.8205934327382233, 0.1172276332483176, 0.0390758777494392, 0.9536265831055732, 0.5507187143506554, 0.12318708084159398, 0.3260834492865723, 0.9538154934294634, 0.5568310954647351, 0.16411863866329035, 0.27841554773236754, 0.7862506555644175, 0.07708339760435466, 0.13875011568783838, 0.9271075117602248, 0.8917466638605714, 0.4430939081838311, 0.3244080399203049, 0.22945934530948398, 0.2906905821762395, 0.4844843036270658, 0.2325524657409916, 0.4201757742333809, 0.32038402785295295, 0.2626098588958631, 0.13919340803111824, 0.8351604481867094, 0.9410316435244349, 0.7211835445369701, 0.12542322513686435, 0.15677903142108046, 0.7936929236448521, 0.1889745056297267, 0.037794901125945336, 0.9555984376184397, 0.10649559735148739, 0.8519647788118991, 0.0456409702934946, 0.7457926113157296, 0.10782543778058742, 0.14376725037411656, 0.9692072548036196, 0.9536313478619544, 0.38193212665791554, 0.2291592759947493, 0.3946631975465127, 0.1156556982290238, 0.7435009171865815, 0.13217794083317005, 0.481856315150306, 0.2551004021383973, 0.26454856518056014, 0.2666826226677184, 0.4476458309065274, 0.28573138142969834, 0.5368700292889289, 0.25324057985326837, 0.20259246388261468, 0.1222931761323726, 0.8315935977001336, 0.04891727045294904, 0.19875139409142062, 0.6865957250430894, 0.12647815987635858, 0.9081651033172532, 0.8050960157806184, 0.2012740039451546, 0.9556025652318361, 0.8675467094333912, 0.11315826644783362, 0.1933586888853066, 0.21752852499596992, 0.5800760666559198, 0.9745291405556025, 0.07394828238532007, 0.9243535298165009, 0.018487070596330018, 0.9538277715199669, 0.037062326462862095, 0.9265581615715525, 0.0507876047790506, 0.3047256286743036, 0.7110264669067085, 0.1110454450466188, 0.8883635603729504, 0.13029787587944916, 0.3908936276383475, 0.4653495567123185, 0.5965281426410325, 0.1835471208126254, 0.2141383076147296, 0.3865104980308836, 0.17326332670349956, 0.4398222908627296, 0.9735512463688585, 0.9415355924090874, 0.23121969893738067, 0.012169457838809508, 0.7666758438449991, 0.6680744797878013, 0.13361489595756026, 0.20784539371176042, 0.25068563542478056, 0.6556393541878877, 0.09641755208645407, 0.9538551170611371, 0.04542167224100653, 0.9556062288078533, 0.34543358326120005, 0.4797688656405556, 0.17271679163060003, 0.9643892054260276, 0.07692414953092888, 0.2692345233582511, 0.6538552710128955, 0.8917465939238806, 0.8874138996080234, 0.06826260766215565, 0.9033720066854655, 0.07528100055712213, 0.9304008603013131, 0.8901497552246347, 0.9735665254163387, 0.9413371543091908, 0.5334565560755304, 0.1564805897821556, 0.3129611795643112, 0.07482952427738619, 0.6360509563577826, 0.2806107160401982, 0.1391929251150841, 0.8351575506905047, 0.9455011796793026, 0.07273085997533096, 0.9681472608050947, 0.5989705290277066, 0.18355548470203914, 0.21253792965499269, 0.19906712063221094, 0.5877219751998609, 0.21802589402575484, 0.9681364724145144, 0.9556092048486531, 0.04761935168295904, 0.8571483302932628, 0.09523870336591808, 0.9270624745077609, 0.16868051691195757, 0.2361527236767406, 0.6072498608830472, 0.7353745510288685, 0.08324994917307946, 0.19424988140385205, 0.930162274536265, 0.06644016246687606, 0.694201076317535, 0.12915368861721582, 0.16144211077151976, 0.8918092779077798, 0.9737264241870114, 0.3814601478548931, 0.16529939740378702, 0.44503683916404196, 0.462463044771775, 0.26139215574056845, 0.2714457001921288, 0.8899495403012315, 0.9555997671119121, 0.891790065971366, 0.4186028455044266, 0.30779620992972545, 0.2770165889367529, 0.6981097623630614, 0.0854828280444565, 0.22795420811855066, 0.969227155954502, 0.9694161897159429, 0.6016060124196146, 0.14673317376088163, 0.2641197127695869, 0.9536644302431273, 0.9735420289838934, 0.3443616509818018, 0.1475835647064865, 0.5165424764727028, 0.06172810367347398, 0.8641934514286357, 0.8654109002063116, 0.17798488162437942, 0.7119395264975177, 0.11569017305584663, 0.9538000207695638, 0.0681285729121117, 0.6175995205433941, 0.18796507146972863, 0.18796507146972863, 0.31722433581870124, 0.5671586610091931, 0.11535430393407317, 0.4645458264910278, 0.3805917614625288, 0.1567142547198648, 0.23012279810665734, 0.2876534976333217, 0.47942249605553616, 0.20188700438793183, 0.46315253947819657, 0.34439547807353077, 0.32185370859573303, 0.5364228476595551, 0.13708583884633072, 0.2978723135727373, 0.48542154804446075, 0.22064615820202763, 0.8899470522633196, 0.1783430646113128, 0.614292778105633, 0.20806690871319827, 0.9555976842897878, 0.31131894660294623, 0.5429981626795574, 0.15203948555027608, 0.9610735956670954, 0.9693024231393771, 0.9627597887198392, 0.9812823899777771, 0.8918191463872477, 0.9692140389511782, 0.8917587068279939, 0.5198152671172852, 0.2987444063892443, 0.1792466438335466, 0.40283647355237984, 0.27888678938241684, 0.3176210656855303, 0.030163945747825865, 0.18098367448695518, 0.7842625894434725, 0.9556315762343313, 0.9681377333907946, 0.9271281358819959, 0.9270846289330005, 0.09262163904287414, 0.09262163904287414, 0.8335947513858674, 0.24798235554450074, 0.5024905625506988, 0.24798235554450074, 0.4608429726748657, 0.25346363497117613, 0.28418649981616717, 0.9089727303755046, 0.04544863651877523, 0.2110952665883185, 0.5463642194050596, 0.23593000383400303, 0.32470235364890626, 0.4638605052127232, 0.20873722734572545, 0.9093795584366429, 0.12125060779155239, 0.7376265523805612, 0.1323945094016392, 0.1323945094016392, 0.5868540395021963, 0.19162580881704366, 0.21557903491917413, 0.0413764471263984, 0.2896351298847888, 0.6620231540223744, 0.865465577589711, 0.8952947183568273, 0.027977959948650852, 0.08393387984595256, 0.40051084531494147, 0.3465959238302378, 0.24646821250150244, 0.2707605214093816, 0.5956731471006396, 0.1353802607046908, 0.9409895878797352, 0.9556041682745914, 0.4403912567770444, 0.39961428855694764, 0.15495247923636746, 0.4410542791936193, 0.3598074382895315, 0.2031171022602194, 0.9303989130348826, 0.06432775696723822, 0.7880150228486681, 0.14473745317628597, 0.9789455799740068, 0.1593304020028806, 0.796652010014403, 0.9410081223239876, 0.4699820181257634, 0.2937387613286021, 0.2349910090628817, 0.11423353249676449, 0.22846706499352898, 0.6568428118563958, 0.9789589229401636, 0.8892401034092746, 0.10260462731645476, 0.25784656564451847, 0.3750495500283905, 0.3750495500283905, 0.9556036494466015, 0.9441476139556355, 0.7664175454016564, 0.054744110385832594, 0.1916043863504141, 0.9743461892205209, 0.9081362229140961, 0.2232970614535077, 0.7815397150872769, 0.9531666017904973, 0.41646439297542687, 0.31764233362532557, 0.26823130395027495, 0.27065677128413484, 0.27065677128413484, 0.455842983215385, 0.2636165577870372, 0.052723311557407435, 0.6854030502462967, 0.9269200727799233], \"Term\": [\"135\", \"3\", \"3\", \"3\", \"acceptable\", \"across\", \"across\", \"across\", \"action\", \"action\", \"action\", \"admission\", \"affairs\", \"affirmative\", \"affirmative\", \"ahead\", \"ai\", \"ai\", \"alongside\", \"alongside\", \"amgen\", \"analysis\", \"analysis\", \"analysis\", \"analytics\", \"analytics\", \"analytics\", \"applicable\", \"applicable\", \"application\", \"application\", \"application\", \"arm\", \"assay\", \"assembly\", \"assembly\", \"assign\", \"assign\", \"assist\", \"assist\", \"assist\", \"asuragen\", \"avanade\", \"b3\", \"benefit\", \"benefit\", \"benefit\", \"billing\", \"bitbucket\", \"business\", \"business\", \"business\", \"career\", \"career\", \"career\", \"cause\", \"certify\", \"client\", \"client\", \"client\", \"cognitivescale\", \"comfortable\", \"comfortable\", \"comfortable\", \"commerce\", \"company\", \"company\", \"company\", \"comply\", \"computer\", \"computer\", \"computer\", \"conditions\", \"conditions\", \"conditions\", \"constantly\", \"control\", \"control\", \"correct\", \"culture\", \"culture\", \"culture\", \"curriculum\", \"customer\", \"customer\", \"customer\", \"cyber\", \"data\", \"data\", \"data\", \"deliver\", \"deliver\", \"deliver\", \"dematic\", \"democracy\", \"design\", \"design\", \"design\", \"develop\", \"develop\", \"develop\", \"development\", \"development\", \"development\", \"devops\", \"devops\", \"diagnostic\", \"digital\", \"digital\", \"digital\", \"direct\", \"direct\", \"direct\", \"dismissal\", \"document\", \"document\", \"document\", \"drive\", \"drive\", \"drive\", \"ebay\", \"elite\", \"employee\", \"employee\", \"employee\", \"employment\", \"employment\", \"employment\", \"engineer\", \"engineer\", \"engineer\", \"engineering\", \"engineering\", \"engineering\", \"environment\", \"environment\", \"environment\", \"environmental\", \"environmental\", \"environmental\", \"equal\", \"equal\", \"equal\", \"ethics\", \"federal\", \"federal\", \"finalist\", \"financial\", \"financial\", \"following\", \"following\", \"following\", \"forward\", \"function\", \"function\", \"function\", \"ga\", \"game\", \"game\", \"general\", \"general\", \"general\", \"gov\", \"gov\", \"group\", \"group\", \"group\", \"health\", \"health\", \"health\", \"help\", \"help\", \"help\", \"homeaway\", \"hubzone\", \"icf\", \"icf\", \"icf\", \"identify\", \"identify\", \"identify\", \"identity\", \"identity\", \"identity\", \"impactful\", \"impactful\", \"incidental\", \"information\", \"information\", \"information\", \"instructor\", \"integrate\", \"integrate\", \"integrate\", \"journey\", \"judgment\", \"judgment\", \"keyboard\", \"keyboard\", \"kla\", \"knime\", \"landscape\", \"later\", \"learning\", \"learning\", \"learning\", \"least\", \"least\", \"least\", \"look\", \"look\", \"love\", \"love\", \"mach\", \"machine\", \"machine\", \"machine\", \"management\", \"management\", \"management\", \"manual\", \"marginal\", \"may\", \"may\", \"may\", \"milestone\", \"mission\", \"mission\", \"mission\", \"model\", \"model\", \"model\", \"molecular\", \"molecular\", \"multiple\", \"multiple\", \"multiple\", \"namru\", \"natera\", \"need\", \"need\", \"need\", \"new\", \"new\", \"new\", \"nokia\", \"nondiscrimination\", \"numbers\", \"opportunity\", \"opportunity\", \"opportunity\", \"organization\", \"organization\", \"organization\", \"pain\", \"partnership\", \"people\", \"people\", \"people\", \"phi\", \"pioneer\", \"platform\", \"platform\", \"platform\", \"player\", \"player\", \"playstudios\", \"position\", \"position\", \"position\", \"predictive\", \"predictive\", \"problem\", \"problem\", \"problem\", \"process\", \"process\", \"process\", \"product\", \"product\", \"product\", \"professional\", \"professional\", \"professional\", \"program\", \"program\", \"program\", \"project\", \"project\", \"project\", \"qualification\", \"qualification\", \"qualification\", \"regularly\", \"relate\", \"relate\", \"relate\", \"repetitive\", \"research\", \"research\", \"research\", \"retailmenot\", \"retention\", \"retirement\", \"roadmap\", \"sa\", \"savings\", \"schwab\", \"science\", \"science\", \"science\", \"scientist\", \"scientist\", \"scientist\", \"security\", \"security\", \"security\", \"semiconductor\", \"sensing\", \"series\", \"sick\", \"since\", \"since\", \"since\", \"software\", \"software\", \"software\", \"solution\", \"solution\", \"solution\", \"stakeholder\", \"stakeholder\", \"state\", \"state\", \"state\", \"status\", \"status\", \"status\", \"store\", \"store\", \"strategy\", \"strategy\", \"strategy\", \"strong\", \"strong\", \"strong\", \"student\", \"student\", \"student\", \"style\", \"success\", \"success\", \"success\", \"support\", \"support\", \"support\", \"system\", \"system\", \"system\", \"tacc\", \"teacher\", \"technical\", \"technical\", \"technical\", \"technology\", \"technology\", \"technology\", \"tencor\", \"texas\", \"texas\", \"texas\", \"third\", \"times\", \"times\", \"tobacco\", \"tool\", \"tool\", \"tool\", \"training\", \"training\", \"training\", \"trs\", \"university\", \"university\", \"using\", \"using\", \"using\", \"ut\", \"valassis\", \"value\", \"value\", \"value\", \"verification\", \"volunteer\", \"water\", \"water\", \"ways\", \"working\", \"working\", \"working\", \"world\", \"world\", \"world\", \"www\", \"www\", \"www\", \"zynga\"]}, \"R\": 30, \"lambda.step\": 0.01, \"plot.opts\": {\"xlab\": \"PC1\", \"ylab\": \"PC2\"}, \"topic.order\": [3, 1, 2]};\n",
       "\n",
       "function LDAvis_load_lib(url, callback){\n",
       "  var s = document.createElement('script');\n",
       "  s.src = url;\n",
       "  s.async = true;\n",
       "  s.onreadystatechange = s.onload = callback;\n",
       "  s.onerror = function(){console.warn(\"failed to load library \" + url);};\n",
       "  document.getElementsByTagName(\"head\")[0].appendChild(s);\n",
       "}\n",
       "\n",
       "if(typeof(LDAvis) !== \"undefined\"){\n",
       "   // already loaded: just create the visualization\n",
       "   !function(LDAvis){\n",
       "       new LDAvis(\"#\" + \"ldavis_el794349953289047579544029\", ldavis_el794349953289047579544029_data);\n",
       "   }(LDAvis);\n",
       "}else if(typeof define === \"function\" && define.amd){\n",
       "   // require.js is available: use it to load d3/LDAvis\n",
       "   require.config({paths: {d3: \"https://cdnjs.cloudflare.com/ajax/libs/d3/3.5.5/d3.min\"}});\n",
       "   require([\"d3\"], function(d3){\n",
       "      window.d3 = d3;\n",
       "      LDAvis_load_lib(\"https://cdn.rawgit.com/bmabey/pyLDAvis/files/ldavis.v1.0.0.js\", function(){\n",
       "        new LDAvis(\"#\" + \"ldavis_el794349953289047579544029\", ldavis_el794349953289047579544029_data);\n",
       "      });\n",
       "    });\n",
       "}else{\n",
       "    // require.js not available: dynamically load d3 & LDAvis\n",
       "    LDAvis_load_lib(\"https://cdnjs.cloudflare.com/ajax/libs/d3/3.5.5/d3.min.js\", function(){\n",
       "         LDAvis_load_lib(\"https://cdn.rawgit.com/bmabey/pyLDAvis/files/ldavis.v1.0.0.js\", function(){\n",
       "                 new LDAvis(\"#\" + \"ldavis_el794349953289047579544029\", ldavis_el794349953289047579544029_data);\n",
       "            })\n",
       "         });\n",
       "}\n",
       "</script>"
      ],
      "text/plain": [
       "<IPython.core.display.HTML object>"
      ]
     },
     "execution_count": 79,
     "metadata": {},
     "output_type": "execute_result"
    }
   ],
   "source": [
    "lda_display = pyLDAvis.gensim.prepare(lda, corpus, dictionary)\n",
    "pyLDAvis.display(lda_display)"
   ]
  },
  {
   "cell_type": "markdown",
   "metadata": {},
   "source": [
    "### 4 Topic Visualization"
   ]
  },
  {
   "cell_type": "code",
   "execution_count": 80,
   "metadata": {},
   "outputs": [],
   "source": [
    "dictionary = gensim.corpora.Dictionary.load('dictionary_ds.gensim')\n",
    "corpus = pickle.load(open(file='corpus_ds.pkl', mode='rb'))  # 'rb' --> Read Bytes\n",
    "lda = gensim.models.ldamodel.LdaModel.load('model4_ds.gensim')"
   ]
  },
  {
   "cell_type": "code",
   "execution_count": 81,
   "metadata": {},
   "outputs": [
    {
     "data": {
      "text/html": [
       "\n",
       "<link rel=\"stylesheet\" type=\"text/css\" href=\"https://cdn.rawgit.com/bmabey/pyLDAvis/files/ldavis.v1.0.0.css\">\n",
       "\n",
       "\n",
       "<div id=\"ldavis_el794347843717764205715808\"></div>\n",
       "<script type=\"text/javascript\">\n",
       "\n",
       "var ldavis_el794347843717764205715808_data = {\"mdsDat\": {\"Freq\": [29.30570098255406, 28.93792065532911, 27.079972759831154, 14.676405602285678], \"cluster\": [1, 1, 1, 1], \"topics\": [1, 2, 3, 4], \"x\": [0.030896895764108867, 0.07461675956314434, -0.1349799340788193, 0.029466278751566457], \"y\": [0.055418363182213104, -0.08712625848585377, -0.02343933583164987, 0.05514723113529056]}, \"tinfo\": {\"Category\": [\"Default\", \"Default\", \"Default\", \"Default\", \"Default\", \"Default\", \"Default\", \"Default\", \"Default\", \"Default\", \"Default\", \"Default\", \"Default\", \"Default\", \"Default\", \"Default\", \"Default\", \"Default\", \"Default\", \"Default\", \"Default\", \"Default\", \"Default\", \"Default\", \"Default\", \"Default\", \"Default\", \"Default\", \"Default\", \"Default\", \"Topic1\", \"Topic1\", \"Topic1\", \"Topic1\", \"Topic1\", \"Topic1\", \"Topic1\", \"Topic1\", \"Topic1\", \"Topic1\", \"Topic1\", \"Topic1\", \"Topic1\", \"Topic1\", \"Topic1\", \"Topic1\", \"Topic1\", \"Topic1\", \"Topic1\", \"Topic1\", \"Topic1\", \"Topic1\", \"Topic1\", \"Topic1\", \"Topic1\", \"Topic1\", \"Topic1\", \"Topic1\", \"Topic1\", \"Topic1\", \"Topic1\", \"Topic1\", \"Topic1\", \"Topic1\", \"Topic1\", \"Topic1\", \"Topic1\", \"Topic1\", \"Topic1\", \"Topic1\", \"Topic1\", \"Topic1\", \"Topic1\", \"Topic1\", \"Topic1\", \"Topic1\", \"Topic1\", \"Topic1\", \"Topic1\", \"Topic1\", \"Topic1\", \"Topic1\", \"Topic1\", \"Topic1\", \"Topic1\", \"Topic1\", \"Topic1\", \"Topic1\", \"Topic1\", \"Topic1\", \"Topic1\", \"Topic1\", \"Topic1\", \"Topic1\", \"Topic1\", \"Topic1\", \"Topic1\", \"Topic1\", \"Topic1\", \"Topic1\", \"Topic1\", \"Topic1\", \"Topic1\", \"Topic1\", \"Topic1\", \"Topic2\", \"Topic2\", \"Topic2\", \"Topic2\", \"Topic2\", \"Topic2\", \"Topic2\", \"Topic2\", \"Topic2\", \"Topic2\", \"Topic2\", \"Topic2\", \"Topic2\", \"Topic2\", \"Topic2\", \"Topic2\", \"Topic2\", \"Topic2\", \"Topic2\", \"Topic2\", \"Topic2\", \"Topic2\", \"Topic2\", \"Topic2\", \"Topic2\", \"Topic2\", \"Topic2\", \"Topic2\", \"Topic2\", \"Topic2\", \"Topic2\", \"Topic2\", \"Topic2\", \"Topic2\", \"Topic2\", \"Topic2\", \"Topic2\", \"Topic2\", \"Topic2\", \"Topic2\", \"Topic2\", \"Topic2\", \"Topic2\", \"Topic2\", \"Topic2\", \"Topic2\", \"Topic2\", \"Topic2\", \"Topic2\", \"Topic2\", \"Topic2\", \"Topic2\", \"Topic2\", \"Topic2\", \"Topic2\", \"Topic2\", \"Topic2\", \"Topic2\", \"Topic2\", \"Topic2\", \"Topic2\", \"Topic2\", \"Topic2\", \"Topic2\", \"Topic2\", \"Topic2\", \"Topic2\", \"Topic2\", \"Topic2\", \"Topic2\", \"Topic2\", \"Topic2\", \"Topic2\", \"Topic2\", \"Topic2\", \"Topic2\", \"Topic2\", \"Topic2\", \"Topic2\", \"Topic2\", \"Topic2\", \"Topic2\", \"Topic3\", \"Topic3\", \"Topic3\", \"Topic3\", \"Topic3\", \"Topic3\", \"Topic3\", \"Topic3\", \"Topic3\", \"Topic3\", \"Topic3\", \"Topic3\", \"Topic3\", \"Topic3\", \"Topic3\", \"Topic3\", \"Topic3\", \"Topic3\", \"Topic3\", \"Topic3\", \"Topic3\", \"Topic3\", \"Topic3\", \"Topic3\", \"Topic3\", \"Topic3\", \"Topic3\", \"Topic3\", \"Topic3\", \"Topic3\", \"Topic3\", \"Topic3\", \"Topic3\", \"Topic3\", \"Topic3\", \"Topic3\", \"Topic3\", \"Topic3\", \"Topic3\", \"Topic3\", \"Topic3\", \"Topic3\", \"Topic3\", \"Topic3\", \"Topic3\", \"Topic3\", \"Topic3\", \"Topic3\", \"Topic3\", \"Topic3\", \"Topic3\", \"Topic3\", \"Topic3\", \"Topic3\", \"Topic3\", \"Topic3\", \"Topic3\", \"Topic3\", \"Topic3\", \"Topic3\", \"Topic3\", \"Topic3\", \"Topic3\", \"Topic3\", \"Topic3\", \"Topic3\", \"Topic3\", \"Topic3\", \"Topic3\", \"Topic3\", \"Topic3\", \"Topic3\", \"Topic3\", \"Topic3\", \"Topic4\", \"Topic4\", \"Topic4\", \"Topic4\", \"Topic4\", \"Topic4\", \"Topic4\", \"Topic4\", \"Topic4\", \"Topic4\", \"Topic4\", \"Topic4\", \"Topic4\", \"Topic4\", \"Topic4\", \"Topic4\", \"Topic4\", \"Topic4\", \"Topic4\", \"Topic4\", \"Topic4\", \"Topic4\", \"Topic4\", \"Topic4\", \"Topic4\", \"Topic4\", \"Topic4\", \"Topic4\", \"Topic4\", \"Topic4\", \"Topic4\", \"Topic4\", \"Topic4\", \"Topic4\", \"Topic4\", \"Topic4\", \"Topic4\", \"Topic4\", \"Topic4\", \"Topic4\", \"Topic4\", \"Topic4\", \"Topic4\", \"Topic4\", \"Topic4\", \"Topic4\", \"Topic4\", \"Topic4\", \"Topic4\", \"Topic4\", \"Topic4\", \"Topic4\", \"Topic4\", \"Topic4\", \"Topic4\", \"Topic4\", \"Topic4\", \"Topic4\", \"Topic4\", \"Topic4\", \"Topic4\", \"Topic4\", \"Topic4\", \"Topic4\", \"Topic4\", \"Topic4\", \"Topic4\", \"Topic4\", \"Topic4\", \"Topic4\", \"Topic4\", \"Topic4\", \"Topic4\", \"Topic4\"], \"Freq\": [83.0, 255.0, 679.0, 64.0, 55.0, 113.0, 25.0, 136.0, 66.0, 125.0, 25.0, 18.0, 50.0, 62.0, 52.0, 26.0, 61.0, 139.0, 120.0, 24.0, 102.0, 153.0, 29.0, 53.0, 140.0, 101.0, 38.0, 149.0, 63.0, 75.0, 82.41947973035009, 14.850766512930202, 12.10093574143228, 10.275534049745497, 10.273570995439664, 23.037863410750628, 9.368681425132072, 9.362903540679783, 9.361896163506186, 9.361289011627568, 9.361229998526323, 9.361240184440641, 9.360163330038185, 9.358411766569297, 9.348111782362686, 9.345328826129807, 8.450849173989639, 7.540052982277414, 7.5349924741553815, 7.533230271440539, 7.527694094554064, 10.043274175884392, 10.039282250677664, 6.6245358466131945, 6.623609347681798, 6.623396716564489, 6.623027148885451, 6.616691224851385, 6.610232956072165, 5.712194812728615, 13.840237999271283, 22.83387001252505, 11.7763915065377, 26.598526512890015, 16.502013027238906, 15.275274444559768, 16.591780785990583, 21.404586509018415, 25.34418917740721, 19.922163735466743, 19.967408239346447, 56.15852955206032, 232.91992157070618, 39.38439105359733, 67.77511243418019, 31.53220655014848, 39.85029987683973, 29.84469609380875, 38.017289900322126, 48.8765660319166, 36.40828624758868, 63.254302167775414, 31.055865773900205, 70.48217703566951, 52.92740998950905, 54.254266561387034, 23.699203251447344, 31.418972269566023, 57.13558586944407, 34.4910730164521, 49.52584833082071, 41.347881826669784, 68.02144125884959, 53.96430064823667, 48.04534246572291, 34.462729944998365, 44.788731743458094, 36.63132061901442, 36.697420958540405, 38.48203336236114, 36.011487740562536, 36.284132420028065, 34.47040918568406, 37.460413923027126, 34.75842865543984, 20.445257294961166, 18.589034769558396, 13.07960603945043, 13.077759207851823, 10.328481885672224, 11.185636111457773, 10.32240447959241, 10.31764939245152, 9.416258928405885, 9.410081162746378, 9.400485358989554, 9.399273951939646, 8.488303694363967, 7.5746699932931945, 7.573056700109498, 7.571541236549202, 7.536779699956343, 6.649916037675982, 6.640762187319435, 15.757990066789521, 6.596237369662224, 5.740877289636435, 5.739954935995653, 5.739783105697004, 5.73929052939895, 5.738692450636529, 6.559865734458335, 5.736841794519824, 5.734525304815582, 5.734117968015266, 9.738327346020244, 9.735712978229017, 11.237134182071395, 20.17107508191614, 18.50794467640698, 6.508957757330818, 16.604678466024705, 9.401043074019771, 26.417025616445777, 21.13344445775423, 12.139507057875376, 148.8120359804578, 15.228082893500396, 10.74145205425133, 67.20140282105534, 34.26175169567881, 265.41628330035616, 11.996055955910213, 16.511979420865384, 40.02291728329801, 61.7951183473738, 38.18544615037588, 36.77220651713653, 35.87383992536623, 63.79361291685033, 36.43786458299474, 19.454211078791648, 24.945092777085687, 23.06883353923733, 54.1328589815842, 69.28578865144509, 23.33881180246188, 35.69666741341923, 26.90746811191854, 39.55668047176633, 44.663535394056964, 53.30552779484456, 59.499176965193044, 45.27681324393357, 45.64856450218305, 34.49102375836553, 59.68599692984484, 51.92700742407824, 39.39862583504806, 42.50113387610186, 43.52930972254187, 31.607756534009614, 43.240716590772344, 38.93312529387632, 41.08111153122049, 34.1925616652415, 35.93841549592862, 25.384978306909744, 23.57203580908254, 17.32377460477944, 14.634693021671188, 14.633268491091085, 15.489383897303053, 14.621713523554984, 14.593162269567106, 13.648124523064464, 12.791523086742547, 12.788215084656443, 11.931208290779038, 12.783102736845745, 11.930316712509908, 11.922609353710158, 11.900850803793698, 11.028402051713233, 12.70684387500104, 11.00908675454028, 11.008441587483334, 11.003564020939779, 11.003555987337279, 11.003495978925544, 11.003319764003255, 11.003112579105634, 11.002941731496362, 11.002360040804776, 11.844331212298524, 10.125247664145261, 10.109871226475779, 48.60727363100569, 26.25675900927829, 53.57250017292766, 54.987471825369774, 14.56270960617986, 79.05063710136935, 38.50199180113442, 44.50255219899617, 45.55327471506777, 17.81339016895874, 20.86643491818354, 14.427215393308916, 31.1008795622089, 22.6130174671352, 80.33407228271663, 58.70705239415008, 81.46633929972197, 69.83912158256203, 34.7572862863403, 31.921390204682336, 55.60064653843122, 24.315629085887068, 65.60028586466241, 31.376457634790636, 46.46311644817357, 40.787922379060795, 32.53927346200336, 47.058362148988245, 46.43644872167635, 33.81173417873286, 39.907653004144095, 53.42152640580662, 37.854715862124294, 43.32577794580644, 78.20235518181595, 39.401762788936914, 37.9833905512463, 36.64448131793408, 40.47601007352645, 41.05867385456598, 44.118330599206075, 39.787732317368516, 41.4830165171739, 40.900347189482964, 17.981015764363693, 10.366822816093077, 23.893405288664983, 8.671401518864247, 7.827956638376476, 6.980892768586604, 12.345480823592723, 5.288669751479951, 5.2884115251279695, 5.201709680527954, 4.4452980334780445, 4.440825655057554, 4.440417571230427, 3.598782735159465, 3.597422360163406, 3.5972638929221508, 3.5964900977269667, 3.5962635024684166, 3.595940909271076, 3.595646218111665, 3.593662581756792, 2.7514587872715435, 2.750884067637873, 2.7508584372849363, 2.750808574027215, 2.7507719754633615, 2.750769526410704, 2.750736763471045, 2.75064416419795, 2.7505968287380487, 3.4282705027916123, 19.615244697831972, 11.183923238050017, 7.321221417481598, 7.803778805323934, 6.545353592255287, 4.961942153286834, 9.359822220605908, 21.377570532547466, 16.35960308074146, 16.27081705436727, 36.27659408675859, 103.29209038449947, 16.773698792891437, 11.28837929860854, 17.277643620586616, 8.402618637571546, 6.583709601020438, 28.07794637170728, 28.543577624053555, 18.642520360769176, 10.420587442995558, 15.717485266396668, 19.876576406021474, 24.947603112814704, 25.138486245171748, 12.153776041595563, 26.420975097095198, 14.439834569013138, 24.810755408432364, 31.49333019450329, 13.319442122721702, 19.31841836209034, 16.99854807105298, 22.38739753675372, 20.403081120933848, 19.398674651603876, 16.401357521965785, 18.959893040918296, 18.83266573566508, 17.416301798517136, 16.517013925872295, 17.00356051366887, 16.517154418767873], \"Term\": [\"icf\", \"business\", \"data\", \"may\", \"function\", \"position\", \"game\", \"customer\", \"document\", \"client\", \"water\", \"b3\", \"federal\", \"texas\", \"group\", \"verification\", \"employment\", \"research\", \"analytics\", \"retirement\", \"machine\", \"software\", \"university\", \"least\", \"learning\", \"relate\", \"statistical\", \"system\", \"large\", \"benefit\", \"icf\", \"retailmenot\", \"pdf\", \"ecommerce\", \"retail\", \"brand\", \"nlp\", \"compassionate\", \"intellectual\", \"mutual\", \"medicine\", \"namru\", \"sa\", \"estate\", \"blacklocus\", \"pipeline\", \"winning\", \"savings\", \"award\", \"antonio\", \"click\", \"rigor\", \"tomorrow\", \"agent\", \"homeaway\", \"energize\", \"rental\", \"amgen\", \"devops\", \"productization\", \"tackle\", \"consumer\", \"respect\", \"security\", \"smart\", \"www\", \"cognitive\", \"com\", \"cloud\", \"scale\", \"believe\", \"machine\", \"data\", \"people\", \"learning\", \"building\", \"benefit\", \"open\", \"services\", \"engineer\", \"apply\", \"opportunity\", \"challenge\", \"development\", \"scientist\", \"working\", \"career\", \"make\", \"technology\", \"help\", \"research\", \"develop\", \"business\", \"product\", \"science\", \"using\", \"software\", \"environment\", \"tool\", \"solution\", \"engineering\", \"problem\", \"use\", \"system\", \"company\", \"cognitivescale\", \"ga\", \"instructor\", \"valassis\", \"volunteer\", \"cause\", \"ethics\", \"leveraging\", \"democracy\", \"schwab\", \"bitbucket\", \"numbers\", \"try\", \"correct\", \"retention\", \"pain\", \"commerce\", \"story\", \"ge\", \"forward\", \"thoroughly\", \"crm\", \"centene\", \"colleague\", \"utilization\", \"mba\", \"root\", \"curriculum\", \"path\", \"sourcetree\", \"assembly\", \"facilitate\", \"advertising\", \"comfortable\", \"stakeholder\", \"recharge\", \"delivery\", \"constantly\", \"community\", \"question\", \"ways\", \"business\", \"economics\", \"point\", \"drive\", \"strategy\", \"data\", \"judgment\", \"impactful\", \"organization\", \"client\", \"identify\", \"digital\", \"multiple\", \"customer\", \"deliver\", \"pace\", \"strategic\", \"ai\", \"analytics\", \"product\", \"value\", \"across\", \"like\", \"strong\", \"tool\", \"analysis\", \"science\", \"problem\", \"company\", \"model\", \"development\", \"project\", \"new\", \"design\", \"learning\", \"best\", \"technology\", \"support\", \"opportunity\", \"environment\", \"solution\", \"verification\", \"retirement\", \"asuragen\", \"kla\", \"tencor\", \"later\", \"assay\", \"molecular\", \"failure\", \"135\", \"trs\", \"mach\", \"keyboard\", \"sensing\", \"manual\", \"acceptable\", \"semiconductor\", \"third\", \"ut\", \"admission\", \"teacher\", \"nondiscrimination\", \"finalist\", \"incidental\", \"dismissal\", \"marginal\", \"repetitive\", \"comply\", \"diagnostic\", \"tobacco\", \"function\", \"university\", \"may\", \"document\", \"criminal\", \"position\", \"federal\", \"employment\", \"texas\", \"assign\", \"applicable\", \"authorization\", \"environmental\", \"affirmative\", \"system\", \"relate\", \"project\", \"research\", \"least\", \"control\", \"process\", \"action\", \"software\", \"identity\", \"application\", \"state\", \"equal\", \"information\", \"management\", \"must\", \"qualification\", \"technology\", \"field\", \"technical\", \"data\", \"engineering\", \"degree\", \"program\", \"support\", \"analysis\", \"development\", \"working\", \"product\", \"science\", \"b3\", \"hubzone\", \"game\", \"avanade\", \"knime\", \"playstudios\", \"natera\", \"certify\", \"affairs\", \"phi\", \"dematic\", \"milestone\", \"zynga\", \"groundwater\", \"nokia\", \"steward\", \"konami\", \"regularly\", \"va\", \"slot\", \"accenture\", \"econometrics\", \"versed\", \"ltd\", \"accidental\", \"virginia\", \"religious\", \"spending\", \"residency\", \"underutilized\", \"political\", \"water\", \"player\", \"mobile\", \"happy\", \"country\", \"look\", \"simulation\", \"group\", \"statistical\", \"following\", \"customer\", \"data\", \"3\", \"integrate\", \"modeling\", \"order\", \"g\", \"analytics\", \"client\", \"large\", \"inc\", \"analyze\", \"need\", \"design\", \"solution\", \"enterprise\", \"software\", \"user\", \"analysis\", \"business\", \"platform\", \"machine\", \"benefit\", \"opportunity\", \"learning\", \"scientist\", \"employee\", \"science\", \"technology\", \"support\", \"engineering\", \"development\", \"working\"], \"Total\": [83.0, 255.0, 679.0, 64.0, 55.0, 113.0, 25.0, 136.0, 66.0, 125.0, 25.0, 18.0, 50.0, 62.0, 52.0, 26.0, 61.0, 139.0, 120.0, 24.0, 102.0, 153.0, 29.0, 53.0, 140.0, 101.0, 38.0, 149.0, 63.0, 75.0, 83.19955467599385, 15.527772023687966, 12.784052709015873, 10.955086229145744, 10.955174679430318, 24.677290695317335, 10.040736247534495, 10.040557035163522, 10.040538418966491, 10.040543271762353, 10.040611652138372, 10.04067253587467, 10.040605456881291, 10.040591511907847, 10.040617347561744, 10.040428756376857, 9.126114386730002, 8.21172238347149, 8.211587255921522, 8.21159630028786, 8.211441536676078, 10.956311158209814, 10.956302679510184, 7.297186594115801, 7.297080453611831, 7.297134829233096, 7.297107074379052, 7.297168676806505, 7.296979601237248, 6.382713173086361, 15.531583126277397, 27.43341393115168, 13.685206591851939, 33.71844120620259, 20.057825115559602, 18.951601374751473, 20.88487111151157, 28.047462072039075, 34.203919475385064, 27.21018716378844, 27.45233693700572, 102.73308981067605, 679.8306504373778, 68.00636882395483, 140.2464204862099, 52.6935228823382, 75.4790601590889, 51.39957737199312, 73.05215351706761, 105.5175247605353, 71.99783478480951, 162.53796195650474, 57.15094753749383, 191.2900650783893, 129.00089559846256, 141.85660838897797, 40.056488155545, 62.30861647865396, 172.6304946016881, 75.07144321987539, 139.0823388664242, 103.7657380701865, 255.18799332836812, 179.65582729604753, 167.40475966131723, 85.69851766872569, 153.4195564453377, 98.69518430125936, 102.89115497034304, 129.4580099217606, 105.18525722460703, 111.30294827389241, 97.81615170277567, 149.18582480850787, 115.32230337634044, 21.12285489401881, 19.283631919711343, 13.76714180406007, 13.767180414697407, 11.009179425349306, 11.928108622928608, 11.008252922472753, 11.009172359104276, 10.089790815727142, 10.089803865725205, 10.089714237926986, 10.089729228816138, 9.170297691371692, 8.250979771442493, 8.250867877888219, 8.250946733610224, 8.249330157211991, 7.331510929145905, 7.331237207069849, 17.43933495223983, 7.330966992613209, 6.412144180774528, 6.41214971558959, 6.412123371890768, 6.4121700472726495, 6.412147804633073, 7.330824405289174, 6.412011510330745, 6.412131255416297, 6.412070752525507, 10.997431669223971, 10.99731782941199, 12.84260097397724, 23.784905452584205, 22.007341014648794, 7.328934262047319, 20.141902987410187, 11.004219821474363, 34.6513142475938, 27.25982446136171, 14.676872693464137, 255.18799332836812, 19.079165263982315, 12.808894463313537, 110.85500405271827, 52.72019600809987, 679.8306504373778, 14.661461466687268, 22.00057089336422, 69.67925851007038, 125.0812722805269, 67.02598906059634, 63.7563358857754, 61.728591414211856, 136.2227723420594, 64.56218314441759, 27.449970523609938, 38.8735823403253, 35.04246891470098, 120.34195290692615, 179.65582729604753, 36.38321609727777, 68.03099943494652, 45.3880929934184, 83.11237581213823, 102.89115497034304, 139.47220072929056, 167.40475966131723, 111.30294827389241, 115.32230337634044, 71.37869069467395, 191.2900650783893, 168.893027540619, 99.61289405128223, 125.75297843547239, 140.2464204862099, 73.39185701891591, 172.6304946016881, 129.92775574170406, 162.53796195650474, 98.69518430125936, 129.4580099217606, 26.13151395402783, 24.329079336790997, 18.01918042194718, 15.315516115989336, 15.315489724909593, 16.216776596021226, 15.315678022402455, 15.315452860611309, 14.415517466133329, 13.51377863235406, 13.513781843374288, 12.611762324070934, 13.512869898001155, 12.611842218501438, 12.612013299173388, 12.61239617664831, 11.710560410265739, 13.514960973092416, 11.710948667112142, 11.710994434447526, 11.71110751557054, 11.711116166509456, 11.711113274034416, 11.711077252898496, 11.711079792527375, 11.71108351336192, 11.711156616346125, 12.61324331084193, 10.809343998773398, 10.80973096409729, 55.02540998985642, 29.576229486513693, 64.11926294958732, 66.73824585217085, 16.161925760854693, 113.44113238827144, 50.029043707285645, 61.016316779723695, 62.89441294115547, 20.755864754389624, 25.09049853177233, 16.167052330261168, 41.440782247632065, 28.01561121257131, 149.18582480850787, 101.43867817269592, 168.893027540619, 139.0823388664242, 53.53985339935895, 47.87602348165664, 104.84300270748173, 34.33814794375418, 153.4195564453377, 52.428417848211595, 100.67851850875702, 81.40358124581455, 56.238864059482644, 104.99474754724612, 106.09937204007318, 61.99232582952491, 91.12991508134448, 172.6304946016881, 85.38907401177647, 122.68966231760905, 679.8306504373778, 105.18525722460703, 94.73794286437197, 84.44909016288145, 129.92775574170406, 139.47220072929056, 191.2900650783893, 141.85660838897797, 179.65582729604753, 167.40475966131723, 18.69816956127253, 11.068446410616263, 25.547438840543606, 9.373210856750775, 8.525236197322396, 7.677520187450904, 13.648225981025698, 5.982128563957199, 5.982140278910816, 5.988251244149408, 5.134145660065215, 5.134519352808745, 5.134567687078362, 4.286442900401495, 4.286533668820755, 4.28656167297814, 4.2865950545330325, 4.2866292260444325, 4.286690674178929, 4.2866619035854745, 4.286868297420418, 3.438814934701048, 3.4388659998156976, 3.4388608308267763, 3.438871890253608, 3.438876489876219, 3.4388766941294304, 3.4388747776083406, 3.4388828940673295, 3.4388845897586795, 4.298635942903756, 25.805873151255096, 15.581502008565316, 10.406002406505365, 11.274369854179772, 9.540783582248203, 6.921986386391529, 14.737385213711292, 52.91165413682123, 38.98869980456577, 40.70444615705502, 136.2227723420594, 679.8306504373778, 47.02279830565079, 25.539293367057912, 50.649162816698464, 16.656154784357295, 11.317052556670287, 120.34195290692615, 125.0812722805269, 63.501557117626376, 23.84934897668529, 50.78434787704059, 77.99952066192623, 125.75297843547239, 129.4580099217606, 32.03947925165505, 153.4195564453377, 45.416150848704014, 139.47220072929056, 255.18799332836812, 40.101941248567535, 102.73308981067605, 75.4790601590889, 162.53796195650474, 140.2464204862099, 129.00089559846256, 78.16216008773856, 167.40475966131723, 172.6304946016881, 129.92775574170406, 105.18525722460703, 191.2900650783893, 141.85660838897797], \"loglift\": [30.0, 29.0, 28.0, 27.0, 26.0, 25.0, 24.0, 23.0, 22.0, 21.0, 20.0, 19.0, 18.0, 17.0, 16.0, 15.0, 14.0, 13.0, 12.0, 11.0, 10.0, 9.0, 8.0, 7.0, 6.0, 5.0, 4.0, 3.0, 2.0, 1.0, 1.218, 1.1828, 1.1725, 1.1634, 1.1632, 1.1586, 1.1581, 1.1575, 1.1574, 1.1573, 1.1573, 1.1573, 1.1572, 1.157, 1.1559, 1.1556, 1.1505, 1.1421, 1.1414, 1.1412, 1.1404, 1.1404, 1.14, 1.1307, 1.1306, 1.1305, 1.1305, 1.1295, 1.1285, 1.1164, 1.1121, 1.0439, 1.0772, 0.9902, 1.0323, 1.0117, 0.9973, 0.9571, 0.9276, 0.9156, 0.909, 0.6234, 0.1562, 0.6812, 0.5002, 0.7139, 0.5887, 0.6838, 0.5743, 0.4578, 0.5455, 0.2836, 0.6175, 0.229, 0.3365, 0.2663, 0.7025, 0.5427, 0.1217, 0.4496, 0.1948, 0.3073, -0.0948, 0.0247, -0.0209, 0.3164, -0.0038, 0.2363, 0.1964, 0.0142, 0.1555, 0.1065, 0.1844, -0.1545, 0.0281, 1.2074, 1.2033, 1.1888, 1.1886, 1.1762, 1.1758, 1.1757, 1.1751, 1.1709, 1.1703, 1.1693, 1.1691, 1.1627, 1.1545, 1.1543, 1.1541, 1.1497, 1.1424, 1.1411, 1.1386, 1.1344, 1.1294, 1.1293, 1.1292, 1.1292, 1.1291, 1.1289, 1.1288, 1.1283, 1.1283, 1.1184, 1.1182, 1.1065, 1.0752, 1.0668, 1.1214, 1.0469, 1.0826, 0.9687, 0.9855, 1.0502, 0.7007, 1.0146, 1.064, 0.7395, 0.809, 0.2995, 1.0394, 0.953, 0.6856, 0.5349, 0.6774, 0.6897, 0.6973, 0.4814, 0.668, 0.8957, 0.7964, 0.8219, 0.4411, 0.2872, 0.796, 0.5951, 0.7172, 0.4976, 0.4055, 0.2782, 0.2056, 0.3406, 0.3133, 0.5127, 0.0753, 0.0606, 0.3125, 0.1552, 0.0701, 0.3976, -0.1444, 0.0349, -0.1353, 0.18, -0.0415, 1.2774, 1.2748, 1.267, 1.2609, 1.2608, 1.2605, 1.26, 1.2581, 1.2517, 1.2514, 1.2512, 1.2509, 1.2509, 1.2508, 1.2502, 1.2483, 1.2464, 1.2447, 1.2446, 1.2445, 1.2441, 1.2441, 1.2441, 1.244, 1.244, 1.244, 1.2439, 1.2435, 1.241, 1.2394, 1.1824, 1.1873, 1.1267, 1.1127, 1.2022, 0.9452, 1.0445, 0.9908, 0.9838, 1.1535, 1.122, 1.1925, 1.0193, 1.0921, 0.6874, 0.7595, 0.5773, 0.6175, 0.8743, 0.901, 0.6721, 0.9612, 0.4568, 0.793, 0.5331, 0.6153, 0.7592, 0.5039, 0.4801, 0.7002, 0.4807, 0.1334, 0.4929, 0.2655, -0.8562, 0.3245, 0.3924, 0.4715, 0.1401, 0.0835, -0.1605, 0.0351, -0.1594, -0.1029, 1.8798, 1.8534, 1.852, 1.8411, 1.8336, 1.8238, 1.8186, 1.7957, 1.7957, 1.7781, 1.7749, 1.7738, 1.7737, 1.7441, 1.7437, 1.7436, 1.7434, 1.7433, 1.7432, 1.7431, 1.7425, 1.6959, 1.6957, 1.6957, 1.6957, 1.6957, 1.6957, 1.6957, 1.6956, 1.6956, 1.6927, 1.6446, 1.5873, 1.5673, 1.551, 1.5421, 1.586, 1.465, 1.0126, 1.0505, 1.002, 0.5958, 0.0346, 0.8881, 1.1025, 0.8434, 1.2347, 1.3772, 0.4636, 0.4414, 0.6933, 1.091, 0.7461, 0.5518, 0.3014, 0.28, 0.9496, 0.1599, 0.7731, 0.1923, -0.1733, 0.8167, 0.2479, 0.4282, -0.0635, -0.0088, 0.0243, 0.3575, -0.2592, -0.2966, -0.0906, 0.0676, -0.5014, -0.2315], \"logprob\": [30.0, 29.0, 28.0, 27.0, 26.0, 25.0, 24.0, 23.0, 22.0, 21.0, 20.0, 19.0, 18.0, 17.0, 16.0, 15.0, 14.0, 13.0, 12.0, 11.0, 10.0, 9.0, 8.0, 7.0, 6.0, 5.0, 4.0, 3.0, 2.0, 1.0, -4.8687, -6.5825, -6.7873, -6.9508, -6.951, -6.1434, -7.0432, -7.0438, -7.0439, -7.044, -7.044, -7.044, -7.0441, -7.0443, -7.0454, -7.0457, -7.1463, -7.2603, -7.261, -7.2612, -7.262, -6.9736, -6.974, -7.3898, -7.3899, -7.3899, -7.39, -7.391, -7.3919, -7.5379, -6.653, -6.1523, -6.8145, -5.9997, -6.4771, -6.5543, -6.4716, -6.2169, -6.048, -6.2887, -6.2865, -5.2524, -3.8299, -5.6072, -5.0644, -5.8295, -5.5954, -5.8845, -5.6425, -5.3913, -5.6858, -5.1334, -5.8448, -5.0252, -5.3116, -5.2869, -6.1151, -5.8331, -5.2351, -5.7399, -5.3781, -5.5585, -5.0607, -5.2922, -5.4084, -5.7407, -5.4786, -5.6796, -5.6778, -5.6304, -5.6967, -5.6892, -5.7405, -5.6573, -5.7321, -6.2502, -6.3454, -6.6969, -6.697, -6.933, -6.8533, -6.9336, -6.9341, -7.0255, -7.0261, -7.0272, -7.0273, -7.1292, -7.2431, -7.2433, -7.2435, -7.2481, -7.3733, -7.3747, -6.5106, -7.3814, -7.5203, -7.5205, -7.5205, -7.5206, -7.5207, -7.387, -7.521, -7.5214, -7.5215, -6.9919, -6.9921, -6.8487, -6.2637, -6.3497, -7.3947, -6.4582, -7.0271, -5.9939, -6.2171, -6.7715, -4.2652, -6.5448, -6.8938, -5.0602, -5.7339, -3.6866, -6.7833, -6.4638, -5.5785, -5.1441, -5.6255, -5.6632, -5.6879, -5.1123, -5.6723, -6.2999, -6.0512, -6.1294, -5.2765, -5.0297, -6.1178, -5.6929, -5.9755, -5.5902, -5.4688, -5.2919, -5.182, -5.4551, -5.447, -5.7272, -5.1788, -5.3181, -5.5942, -5.5184, -5.4945, -5.8145, -5.5011, -5.6061, -5.5524, -5.7359, -5.6861, -5.9674, -6.0415, -6.3495, -6.5182, -6.5183, -6.4614, -6.5191, -6.521, -6.588, -6.6528, -6.653, -6.7224, -6.6534, -6.7225, -6.7231, -6.725, -6.8011, -6.6594, -6.8028, -6.8029, -6.8033, -6.8033, -6.8034, -6.8034, -6.8034, -6.8034, -6.8035, -6.7297, -6.8865, -6.8881, -5.3178, -5.9336, -5.2205, -5.1945, -6.5231, -4.8315, -5.5509, -5.406, -5.3827, -6.3216, -6.1634, -6.5324, -5.7643, -6.083, -4.8154, -5.129, -4.8014, -4.9554, -5.6532, -5.7383, -5.1834, -6.0104, -5.018, -5.7555, -5.3629, -5.4932, -5.7191, -5.3502, -5.3635, -5.6808, -5.515, -5.2234, -5.5678, -5.4328, -4.8423, -5.5278, -5.5644, -5.6003, -5.5009, -5.4866, -5.4147, -5.518, -5.4763, -5.4904, -5.6997, -6.2504, -5.4154, -6.429, -6.5313, -6.6458, -6.0757, -6.9234, -6.9235, -6.94, -7.0972, -7.0982, -7.0983, -7.3084, -7.3088, -7.3088, -7.3091, -7.3091, -7.3092, -7.3093, -7.3098, -7.5769, -7.5771, -7.5771, -7.5771, -7.5771, -7.5771, -7.5771, -7.5772, -7.5772, -7.357, -5.6127, -6.1745, -6.5982, -6.5344, -6.7103, -6.9872, -6.3526, -5.5267, -5.7942, -5.7996, -4.9978, -3.9515, -5.7692, -6.1652, -5.7396, -6.4605, -6.7044, -5.254, -5.2376, -5.6636, -6.2452, -5.8342, -5.5995, -5.3722, -5.3646, -6.0914, -5.3149, -5.919, -5.3777, -5.1392, -5.9998, -5.628, -5.7559, -5.4805, -5.5733, -5.6238, -5.7916, -5.6467, -5.6534, -5.7316, -5.7846, -5.7556, -5.7846]}, \"token.table\": {\"Topic\": [3, 1, 2, 3, 4, 4, 3, 4, 1, 2, 3, 4, 1, 2, 3, 4, 3, 1, 2, 4, 1, 2, 3, 1, 1, 2, 4, 1, 1, 2, 3, 4, 1, 2, 3, 4, 1, 2, 3, 4, 1, 1, 3, 4, 1, 2, 3, 4, 1, 2, 3, 4, 3, 2, 3, 1, 3, 3, 3, 4, 4, 1, 4, 1, 2, 1, 2, 3, 4, 1, 2, 3, 4, 2, 1, 1, 2, 1, 2, 3, 4, 1, 2, 3, 4, 1, 2, 3, 4, 2, 2, 4, 1, 2, 3, 4, 1, 1, 2, 3, 4, 1, 2, 3, 4, 1, 2, 4, 2, 2, 1, 2, 3, 4, 1, 2, 3, 4, 2, 1, 2, 3, 4, 1, 2, 3, 4, 1, 3, 1, 2, 1, 2, 1, 2, 3, 4, 2, 1, 4, 3, 4, 2, 2, 1, 2, 3, 4, 1, 2, 3, 4, 1, 2, 3, 4, 1, 2, 3, 4, 2, 3, 4, 2, 1, 2, 3, 4, 1, 2, 3, 4, 1, 2, 3, 4, 1, 3, 1, 2, 3, 4, 3, 1, 2, 3, 4, 1, 2, 3, 4, 1, 4, 1, 2, 4, 1, 2, 3, 4, 1, 2, 3, 4, 1, 1, 2, 3, 4, 1, 2, 3, 4, 1, 2, 4, 1, 2, 3, 4, 1, 2, 3, 4, 1, 2, 3, 1, 2, 2, 3, 3, 1, 3, 4, 1, 2, 3, 4, 3, 1, 2, 3, 4, 1, 2, 1, 2, 3, 4, 2, 3, 4, 2, 1, 4, 2, 4, 1, 2, 3, 4, 1, 2, 4, 1, 2, 3, 4, 1, 4, 1, 1, 2, 3, 4, 1, 2, 3, 4, 1, 2, 3, 1, 2, 3, 4, 3, 1, 2, 3, 4, 2, 1, 2, 3, 4, 1, 1, 2, 3, 3, 3, 4, 4, 1, 2, 3, 4, 3, 1, 2, 3, 4, 1, 2, 3, 4, 2, 1, 2, 3, 4, 1, 4, 4, 3, 1, 2, 3, 4, 1, 2, 3, 4, 1, 2, 3, 4, 3, 3, 1, 2, 3, 4, 2, 1, 4, 2, 4, 1, 2, 3, 4, 1, 2, 3, 4, 3, 1, 2, 3, 4, 1, 2, 3, 4, 1, 1, 3, 4, 1, 2, 3, 4, 1, 2, 3, 4, 1, 4, 3, 2, 1, 2, 3, 4, 1, 2, 3, 4, 1, 2, 3, 4, 1, 2, 3, 4, 1, 2, 3, 4, 2, 2, 1, 1, 2, 3, 4, 4, 1, 1, 2, 3, 4, 1, 2, 4, 4, 2, 3, 4, 1, 2, 3, 4, 1, 2, 3, 4, 1, 2, 3, 4, 1, 2, 3, 4, 1, 1, 2, 3, 4, 1, 2, 3, 4, 1, 2, 3, 4, 1, 2, 3, 4, 2, 4, 1, 2, 3, 4, 4, 1, 3, 1, 2, 3, 4, 4, 1, 3, 1, 1, 2, 3, 1, 2, 1, 1, 1, 2, 3, 4, 2, 1, 2, 3, 4, 1, 2, 3, 4, 1, 3, 3, 3, 1, 2, 3, 4, 3, 4, 4, 1, 3, 1, 2, 3, 4, 1, 2, 3, 4, 2, 4, 1, 2, 3, 1, 2, 3, 4, 1, 2, 3, 4, 4, 2, 1, 2, 3, 4, 1, 2, 3, 4, 1, 2, 3, 4, 1, 2, 3, 4, 1, 2, 3, 4, 1, 2, 3, 1, 2, 3, 4, 1, 2, 3, 4, 3, 1, 3, 4, 3, 2, 3, 1, 1, 2, 3, 4, 3, 2, 4, 3, 4, 1, 2, 3, 4, 1, 2, 3, 4, 1, 2, 3, 4, 3, 2, 4, 2, 1, 2, 3, 4, 3, 4, 4, 2, 3, 4, 1, 2, 1, 1, 2, 3, 4, 1, 4, 4], \"Freq\": [0.961981127090243, 0.23392908113420627, 0.1701302408248773, 0.23392908113420627, 0.36152676175286425, 0.9330820828824999, 0.9514448984894596, 0.872379110283971, 0.2792844461761645, 0.5291705295969432, 0.07349590688846434, 0.1322926323992358, 0.1164885190241475, 0.14561064878018437, 0.698931114144885, 0.029122129756036876, 0.9392882954195454, 0.07786584680364081, 0.856524314840049, 0.8358212557513551, 0.0713887690982287, 0.10708315364734303, 0.8209708446296299, 0.9592738118612121, 0.057073604170651396, 0.6563464479624911, 0.2568312187679313, 0.9592761672412708, 0.14339775163381213, 0.3800040418296022, 0.2939653908493149, 0.17924718954226518, 0.15788342752501963, 0.4487213203342663, 0.15788342752501963, 0.23267031424739734, 0.196911064491998, 0.2559843838395974, 0.23629327739039757, 0.3150577031871968, 0.9742320137826986, 0.039855724617575486, 0.8369702169690852, 0.11956717385272646, 0.2284499249757977, 0.16885429237341568, 0.4568998499515954, 0.148989081505955, 0.5000150366687898, 0.1388930657413305, 0.1666716788895966, 0.18056098546372965, 0.9793885701997189, 0.9093032174034545, 0.09093032174034545, 0.09635830757555035, 0.8672247681799531, 0.9434391355166283, 0.8659587235822251, 0.06185419454158751, 0.9601832432392171, 0.9742330868165661, 0.9626610744444969, 0.7285354265428682, 0.25498739929000386, 0.5299483050754885, 0.18548190677642099, 0.06624353813443606, 0.22522802965708263, 0.31338626564622846, 0.43601567394257873, 0.13625489810705585, 0.12262940829635027, 0.8919975122951672, 0.8963592265754011, 0.9320310030778374, 0.040523087090340755, 0.6072852648598629, 0.22773197432244857, 0.09488832263435358, 0.07591065810748286, 0.2664702171645657, 0.5838832699635337, 0.02743075764929353, 0.12147906958972848, 0.5991538725712702, 0.2995769362856351, 0.049929489380939183, 0.07489423407140877, 0.9221914678791098, 0.9357236287562738, 0.835822892561253, 0.5424232026890277, 0.27996036267820784, 0.05249256800216397, 0.10498513600432793, 0.974250375438748, 0.21585965274997812, 0.49567772112957936, 0.06395841562962315, 0.2318492566573839, 0.7309103863956676, 0.029236415455826708, 0.029236415455826708, 0.20465490819078694, 0.813986349699316, 0.09576309996462543, 0.09576309996462543, 0.9468417077306742, 0.9357274731023705, 0.7487308458092259, 0.07130769960087865, 0.03565384980043933, 0.1426153992017573, 0.042043471730149384, 0.8408694346029877, 0.042043471730149384, 0.042043471730149384, 0.9697757087593332, 0.1442946713153081, 0.7503322908396021, 0.028858934263061617, 0.08657680278918485, 0.30349723319158584, 0.39888207790894137, 0.22545508751374946, 0.07804214567783635, 0.8963646108956569, 0.9513809972796762, 0.0908742297249037, 0.8178680675241332, 0.838393648625796, 0.14580759106535585, 0.18798553734205362, 0.10443640963447423, 0.6683930216606351, 0.04177456385378969, 0.969581821990261, 0.3144395818370587, 0.7336923576198037, 0.9281072207577541, 0.06187381471718361, 0.9357244364513424, 0.9357437974546785, 0.13213649737506053, 0.4698186573335486, 0.13213649737506053, 0.26427299475012106, 0.34273241409474026, 0.3898029602365072, 0.11473445622055684, 0.15150832039381223, 0.23221952403479434, 0.25333038985613926, 0.40110645060555383, 0.11610976201739717, 0.2942899244515843, 0.5576019621187913, 0.030977886784377292, 0.10842260374532052, 0.8440116115456393, 0.14894322556687753, 0.7790974905743502, 0.8919907423622238, 0.17494615454606396, 0.34194021115821593, 0.2942276235547439, 0.19880244834779995, 0.39512078613335605, 0.13491929282602402, 0.356572416754492, 0.11564510813659201, 0.3659364116548055, 0.3136597814184047, 0.23001717304016348, 0.08887027140188133, 0.9593010235102079, 0.925125521135673, 0.21958601926375013, 0.5803344794827682, 0.12547772529357148, 0.06273886264678574, 0.9392814492664372, 0.059935647827187966, 0.08990347174078195, 0.8241151576238346, 0.029967823913593983, 0.18943664455610165, 0.6043931040599434, 0.09922871857700563, 0.10824951117491523, 0.9128180089897641, 0.8723935591087003, 0.052413194506355155, 0.7861979175953273, 0.15723958351906547, 0.3710235229866592, 0.24308437712919048, 0.17911480420045614, 0.20470263337194988, 0.04916717622976759, 0.09833435245953517, 0.7375076434465138, 0.11472341120279103, 0.9592806168192559, 0.46437783781606046, 0.17058777715692017, 0.2179732708116202, 0.15163357969504013, 0.34225328672370414, 0.1235914646502265, 0.37077439395067946, 0.16161960761952696, 0.12484597419895248, 0.4681724032460718, 0.3745379225968574, 0.3748916450377192, 0.344495025169796, 0.16211530596225696, 0.12158647947169271, 0.12065409311344988, 0.07239245586806993, 0.7480553773033892, 0.048261637245379956, 0.3022820656907199, 0.12446908587264938, 0.5867828333996328, 0.896361533015885, 0.9084093607247651, 0.9093126301447163, 0.09093126301447163, 0.9711756815452853, 0.05996516778439071, 0.7795471811970792, 0.15990711409170857, 0.199088703054157, 0.21079980323381328, 0.44502180682693915, 0.15224430233553182, 0.9392787639061542, 0.29480808935954833, 0.12283670389981181, 0.17197138545973653, 0.3930774524793978, 0.05734163617698991, 0.9174661788318386, 0.036346844128352464, 0.0545202661925287, 0.8904976811446355, 0.018173422064176232, 0.08836222991741773, 0.3534489196696709, 0.6185356094219241, 0.9852915715829744, 0.039142866971581, 0.9394288073179441, 0.9548183754373106, 0.9331746842178477, 0.11339656825857197, 0.09449714021547664, 0.3779885608619066, 0.3968879889050019, 0.17739350632164472, 0.08869675316082236, 0.7095740252865789, 0.45290190972375494, 0.29305417688007673, 0.10656515522911882, 0.14652708844003837, 0.9592877650862702, 0.9034691617071511, 0.9855821983583288, 0.19395461644358666, 0.5669442634504841, 0.08951751528165539, 0.14919585880275898, 0.20980987890664005, 0.15258900284119276, 0.5912823860096219, 0.03814725071029819, 0.18181346381363558, 0.7727072212079512, 0.045453365953408896, 0.4612285228730314, 0.041929865715730125, 0.08385973143146025, 0.41929865715730125, 0.9392816529561784, 0.1904857192118138, 0.29525286477831136, 0.4476414401477624, 0.06667000172413483, 0.9442773369390419, 0.27408745807466284, 0.03915535115352326, 0.23493210692113958, 0.43070886268875586, 0.896366272848384, 0.06820602449981736, 0.8184722939978084, 0.06820602449981736, 0.9620458198833824, 0.979398923705879, 0.9383904228380954, 0.9331415608689323, 0.39369113348971174, 0.26770997077300396, 0.047242936018765405, 0.2992052614521809, 0.9249680361065243, 0.48486085965157505, 0.3137334974216074, 0.06417276083623788, 0.14260613519163973, 0.037355350697018286, 0.11206605209105486, 0.65371863719782, 0.20545442883360057, 0.9083334944547653, 0.24235431088931364, 0.5948696721828607, 0.022032210080846694, 0.13219326048508018, 0.14446720120195233, 0.7223360060097617, 0.8723819158679752, 0.951492717008842, 0.5451018761647376, 0.19467924148740628, 0.0681377345205922, 0.18494527941303596, 0.49752348474340075, 0.25678631470627133, 0.06419657867656783, 0.1604914466914196, 0.30160404708063465, 0.11310151765523799, 0.4335558176784123, 0.1413768970690475, 0.9514737826026952, 0.9392811508388101, 0.06238374890779596, 0.09357562336169394, 0.8421806102552454, 0.01559593722694899, 0.9357239076218303, 0.896359735025032, 0.7790407874910187, 0.2882951476279243, 0.6726886777984901, 0.2942054525744748, 0.4763326375015306, 0.04202935036778211, 0.18212718492705582, 0.19743662962782696, 0.21718029259060967, 0.23692395555339235, 0.3356422703673059, 0.9794029687869956, 0.19439938163301787, 0.5831981448990535, 0.11339963928592708, 0.11339963928592708, 0.096786173445075, 0.22583440470517496, 0.5484549828554249, 0.14517926016761248, 0.8963658396165936, 0.8963542997586651, 0.07326959572549864, 0.8792351487059837, 0.26923242376091544, 0.34615597340689125, 0.1282059160766264, 0.2564118321532528, 0.3212435529031605, 0.3915155801007268, 0.16062177645158024, 0.12046633233868517, 0.8963486121060049, 0.9331549240112276, 0.9392785319179866, 0.8919961870033256, 0.5836623866161702, 0.2140095417592624, 0.019455412887205672, 0.19455412887205673, 0.3876017592546093, 0.2522487639593489, 0.22148671957406246, 0.1353529952952604, 0.18011359997791712, 0.0600378666593057, 0.2401514666372228, 0.4803029332744456, 0.20092062256914878, 0.5740589216261394, 0.057405892162613936, 0.15786620344718832, 0.1821495580732759, 0.6921683206784484, 0.07285982322931035, 0.036429911614655176, 0.9695857043182702, 0.9357263226531473, 0.9386694714999944, 0.5734757005032518, 0.23527208225774432, 0.0735225257055451, 0.11763604112887216, 0.8349683064626019, 0.8963760630524805, 0.44885607627892504, 0.1745551407751375, 0.04987289736432501, 0.3241738328681125, 0.19253599546121217, 0.0641786651537374, 0.7059653166911113, 0.9117527312323676, 0.8587782522141576, 0.07807075020128705, 0.6978958069134557, 0.061706013089161675, 0.16748774981343884, 0.6963964334348246, 0.07933630254320787, 0.3234415669871728, 0.40430195873396596, 0.12578283160612275, 0.13476731957798865, 0.18122334833361403, 0.21937563219332223, 0.5341319740359151, 0.06676649675448938, 0.3005747200786067, 0.3840676978782197, 0.22821413931894213, 0.08349297779961298, 0.9400391083371681, 0.26051198370009, 0.15393889945914407, 0.43813379076833314, 0.15393889945914407, 0.11841815077410449, 0.3078871920126717, 0.4795935106351232, 0.08881361308057836, 0.23044024545896874, 0.23044024545896874, 0.4389338008742262, 0.10973345021855654, 0.03668402199058207, 0.7703644618022235, 0.07336804398116414, 0.11005206597174622, 0.9551184046293475, 0.9331341221902402, 0.1577307619561105, 0.11829807146708286, 0.5816321847131574, 0.13801441671159667, 0.8723778916299486, 0.959284265483478, 0.9392752876899015, 0.35949927508783414, 0.07189985501756682, 0.5032989851229678, 0.07189985501756682, 0.872376318825954, 0.8768592508603197, 0.07307160423835997, 0.9128106390467899, 0.9660110914249103, 0.9695949709047544, 0.9864738269691383, 0.9127159548135662, 0.954872141658381, 0.896360288097157, 0.9742170553771224, 0.7350188324546396, 0.11025282486819593, 0.07350188324546396, 0.11025282486819593, 0.8919895886750346, 0.28673019869393546, 0.3524392025612957, 0.24491537805106986, 0.11349737031634945, 0.4108498608022971, 0.22480464081635124, 0.20930087248418908, 0.14728579915554046, 0.8007487604448714, 0.2076015304857074, 0.9393231079152415, 0.9514866894224325, 0.520176314735497, 0.1505773542655386, 0.17795505504109105, 0.1505773542655386, 0.33927321078288203, 0.6106917794091876, 0.9331270088397448, 0.8475495175602298, 0.14956756192239348, 0.2933133235594589, 0.1108072555669067, 0.430192874553873, 0.16946992027879848, 0.293531470342899, 0.2780824455880096, 0.23173537132334132, 0.19311280943611778, 0.9357351519611343, 0.8723783778153248, 0.09087876625662027, 0.8633482794378925, 0.04543938312831013, 0.20883602096896778, 0.22112049279067178, 0.5036633446898635, 0.06142235910851994, 0.07694537173688171, 0.436023773175663, 0.07694537173688171, 0.41037531593003573, 0.9331488276992297, 0.9547827272782194, 0.12862205382119563, 0.643110269105978, 0.051448821528478246, 0.18007087534967386, 0.1517445041132034, 0.6449141424811144, 0.09484031507075212, 0.11380837808490255, 0.21657424449862944, 0.4812760988858432, 0.14438282966575297, 0.15641473213789905, 0.25398730095518535, 0.3001668102197645, 0.30786339509719435, 0.1308419429163076, 0.2480128393397463, 0.1541701433733558, 0.5362439769508028, 0.05362439769508028, 0.9013891170124081, 0.06438493692945772, 0.9392792257585302, 0.2771219625006674, 0.24451937867705947, 0.3504777761037852, 0.12225968933852974, 0.3301850008106425, 0.24908693043609872, 0.30701412356077284, 0.11006166693688083, 0.9794006113695163, 0.17489629818616306, 0.731384519687591, 0.09539798082881622, 0.9618969692833241, 0.9548535693931379, 0.9250924036142366, 0.9127166611325367, 0.35960331100049114, 0.43735537824384063, 0.1555041344866989, 0.05831405043251208, 0.9619808985131582, 0.8723817120492368, 0.8723758886629348, 0.8790843339870487, 0.10143280776773639, 0.3475908570121677, 0.2249117310078732, 0.3475908570121677, 0.0715628235025051, 0.30826038178881693, 0.17614878959360966, 0.19816738829281086, 0.30826038178881693, 0.3967396511037642, 0.16336338574860879, 0.30338914496170205, 0.12835694594533548, 0.9392919662342386, 0.935720661767546, 0.9331207460557341, 0.9442746886734782, 0.21988160635965792, 0.6321596182840166, 0.02748520079495724, 0.10994080317982896, 0.9566992576083245, 0.8723806045832497, 0.8723779434451232, 0.9083329114406467, 0.2325052116947333, 0.7750173723157776, 0.13626881160389395, 0.8176128696233637, 0.8766052737222482, 0.38066608678482766, 0.21853053130240105, 0.28197487909987234, 0.11983932361744574, 0.7914898431740947, 0.15829796863481893, 0.7790334539880326], \"Term\": [\"135\", \"3\", \"3\", \"3\", \"3\", \"accenture\", \"acceptable\", \"accidental\", \"across\", \"across\", \"across\", \"across\", \"action\", \"action\", \"action\", \"action\", \"admission\", \"advertising\", \"advertising\", \"affairs\", \"affirmative\", \"affirmative\", \"affirmative\", \"agent\", \"ai\", \"ai\", \"ai\", \"amgen\", \"analysis\", \"analysis\", \"analysis\", \"analysis\", \"analytics\", \"analytics\", \"analytics\", \"analytics\", \"analyze\", \"analyze\", \"analyze\", \"analyze\", \"antonio\", \"applicable\", \"applicable\", \"applicable\", \"application\", \"application\", \"application\", \"application\", \"apply\", \"apply\", \"apply\", \"apply\", \"assay\", \"assembly\", \"assembly\", \"assign\", \"assign\", \"asuragen\", \"authorization\", \"authorization\", \"avanade\", \"award\", \"b3\", \"believe\", \"believe\", \"benefit\", \"benefit\", \"benefit\", \"benefit\", \"best\", \"best\", \"best\", \"best\", \"bitbucket\", \"blacklocus\", \"brand\", \"brand\", \"building\", \"building\", \"building\", \"building\", \"business\", \"business\", \"business\", \"business\", \"career\", \"career\", \"career\", \"career\", \"cause\", \"centene\", \"certify\", \"challenge\", \"challenge\", \"challenge\", \"challenge\", \"click\", \"client\", \"client\", \"client\", \"client\", \"cloud\", \"cloud\", \"cloud\", \"cloud\", \"cognitive\", \"cognitive\", \"cognitive\", \"cognitivescale\", \"colleague\", \"com\", \"com\", \"com\", \"com\", \"comfortable\", \"comfortable\", \"comfortable\", \"comfortable\", \"commerce\", \"community\", \"community\", \"community\", \"community\", \"company\", \"company\", \"company\", \"company\", \"compassionate\", \"comply\", \"constantly\", \"constantly\", \"consumer\", \"consumer\", \"control\", \"control\", \"control\", \"control\", \"correct\", \"country\", \"country\", \"criminal\", \"criminal\", \"crm\", \"curriculum\", \"customer\", \"customer\", \"customer\", \"customer\", \"data\", \"data\", \"data\", \"data\", \"degree\", \"degree\", \"degree\", \"degree\", \"deliver\", \"deliver\", \"deliver\", \"deliver\", \"delivery\", \"delivery\", \"dematic\", \"democracy\", \"design\", \"design\", \"design\", \"design\", \"develop\", \"develop\", \"develop\", \"develop\", \"development\", \"development\", \"development\", \"development\", \"devops\", \"diagnostic\", \"digital\", \"digital\", \"digital\", \"digital\", \"dismissal\", \"document\", \"document\", \"document\", \"document\", \"drive\", \"drive\", \"drive\", \"drive\", \"ecommerce\", \"econometrics\", \"economics\", \"economics\", \"economics\", \"employee\", \"employee\", \"employee\", \"employee\", \"employment\", \"employment\", \"employment\", \"employment\", \"energize\", \"engineer\", \"engineer\", \"engineer\", \"engineer\", \"engineering\", \"engineering\", \"engineering\", \"engineering\", \"enterprise\", \"enterprise\", \"enterprise\", \"environment\", \"environment\", \"environment\", \"environment\", \"environmental\", \"environmental\", \"environmental\", \"environmental\", \"equal\", \"equal\", \"equal\", \"estate\", \"ethics\", \"facilitate\", \"facilitate\", \"failure\", \"federal\", \"federal\", \"federal\", \"field\", \"field\", \"field\", \"field\", \"finalist\", \"following\", \"following\", \"following\", \"following\", \"forward\", \"forward\", \"function\", \"function\", \"function\", \"function\", \"g\", \"g\", \"g\", \"ga\", \"game\", \"game\", \"ge\", \"groundwater\", \"group\", \"group\", \"group\", \"group\", \"happy\", \"happy\", \"happy\", \"help\", \"help\", \"help\", \"help\", \"homeaway\", \"hubzone\", \"icf\", \"identify\", \"identify\", \"identify\", \"identify\", \"identity\", \"identity\", \"identity\", \"identity\", \"impactful\", \"impactful\", \"impactful\", \"inc\", \"inc\", \"inc\", \"inc\", \"incidental\", \"information\", \"information\", \"information\", \"information\", \"instructor\", \"integrate\", \"integrate\", \"integrate\", \"integrate\", \"intellectual\", \"judgment\", \"judgment\", \"judgment\", \"keyboard\", \"kla\", \"knime\", \"konami\", \"large\", \"large\", \"large\", \"large\", \"later\", \"learning\", \"learning\", \"learning\", \"learning\", \"least\", \"least\", \"least\", \"least\", \"leveraging\", \"like\", \"like\", \"like\", \"like\", \"look\", \"look\", \"ltd\", \"mach\", \"machine\", \"machine\", \"machine\", \"machine\", \"make\", \"make\", \"make\", \"make\", \"management\", \"management\", \"management\", \"management\", \"manual\", \"marginal\", \"may\", \"may\", \"may\", \"may\", \"mba\", \"medicine\", \"milestone\", \"mobile\", \"mobile\", \"model\", \"model\", \"model\", \"model\", \"modeling\", \"modeling\", \"modeling\", \"modeling\", \"molecular\", \"multiple\", \"multiple\", \"multiple\", \"multiple\", \"must\", \"must\", \"must\", \"must\", \"mutual\", \"namru\", \"natera\", \"natera\", \"need\", \"need\", \"need\", \"need\", \"new\", \"new\", \"new\", \"new\", \"nlp\", \"nokia\", \"nondiscrimination\", \"numbers\", \"open\", \"open\", \"open\", \"open\", \"opportunity\", \"opportunity\", \"opportunity\", \"opportunity\", \"order\", \"order\", \"order\", \"order\", \"organization\", \"organization\", \"organization\", \"organization\", \"pace\", \"pace\", \"pace\", \"pace\", \"pain\", \"path\", \"pdf\", \"people\", \"people\", \"people\", \"people\", \"phi\", \"pipeline\", \"platform\", \"platform\", \"platform\", \"platform\", \"player\", \"player\", \"player\", \"playstudios\", \"point\", \"point\", \"political\", \"position\", \"position\", \"position\", \"position\", \"problem\", \"problem\", \"problem\", \"problem\", \"process\", \"process\", \"process\", \"process\", \"product\", \"product\", \"product\", \"product\", \"productization\", \"program\", \"program\", \"program\", \"program\", \"project\", \"project\", \"project\", \"project\", \"qualification\", \"qualification\", \"qualification\", \"qualification\", \"question\", \"question\", \"question\", \"question\", \"recharge\", \"regularly\", \"relate\", \"relate\", \"relate\", \"relate\", \"religious\", \"rental\", \"repetitive\", \"research\", \"research\", \"research\", \"research\", \"residency\", \"respect\", \"respect\", \"retail\", \"retailmenot\", \"retention\", \"retirement\", \"rigor\", \"root\", \"sa\", \"savings\", \"scale\", \"scale\", \"scale\", \"scale\", \"schwab\", \"science\", \"science\", \"science\", \"science\", \"scientist\", \"scientist\", \"scientist\", \"scientist\", \"security\", \"security\", \"semiconductor\", \"sensing\", \"services\", \"services\", \"services\", \"services\", \"simulation\", \"simulation\", \"slot\", \"smart\", \"smart\", \"software\", \"software\", \"software\", \"software\", \"solution\", \"solution\", \"solution\", \"solution\", \"sourcetree\", \"spending\", \"stakeholder\", \"stakeholder\", \"stakeholder\", \"state\", \"state\", \"state\", \"state\", \"statistical\", \"statistical\", \"statistical\", \"statistical\", \"steward\", \"story\", \"strategic\", \"strategic\", \"strategic\", \"strategic\", \"strategy\", \"strategy\", \"strategy\", \"strategy\", \"strong\", \"strong\", \"strong\", \"strong\", \"support\", \"support\", \"support\", \"support\", \"system\", \"system\", \"system\", \"system\", \"tackle\", \"tackle\", \"teacher\", \"technical\", \"technical\", \"technical\", \"technical\", \"technology\", \"technology\", \"technology\", \"technology\", \"tencor\", \"texas\", \"texas\", \"texas\", \"third\", \"thoroughly\", \"tobacco\", \"tomorrow\", \"tool\", \"tool\", \"tool\", \"tool\", \"trs\", \"try\", \"underutilized\", \"university\", \"university\", \"use\", \"use\", \"use\", \"use\", \"user\", \"user\", \"user\", \"user\", \"using\", \"using\", \"using\", \"using\", \"ut\", \"utilization\", \"va\", \"valassis\", \"value\", \"value\", \"value\", \"value\", \"verification\", \"versed\", \"virginia\", \"volunteer\", \"water\", \"water\", \"ways\", \"ways\", \"winning\", \"working\", \"working\", \"working\", \"working\", \"www\", \"www\", \"zynga\"]}, \"R\": 30, \"lambda.step\": 0.01, \"plot.opts\": {\"xlab\": \"PC1\", \"ylab\": \"PC2\"}, \"topic.order\": [4, 3, 1, 2]};\n",
       "\n",
       "function LDAvis_load_lib(url, callback){\n",
       "  var s = document.createElement('script');\n",
       "  s.src = url;\n",
       "  s.async = true;\n",
       "  s.onreadystatechange = s.onload = callback;\n",
       "  s.onerror = function(){console.warn(\"failed to load library \" + url);};\n",
       "  document.getElementsByTagName(\"head\")[0].appendChild(s);\n",
       "}\n",
       "\n",
       "if(typeof(LDAvis) !== \"undefined\"){\n",
       "   // already loaded: just create the visualization\n",
       "   !function(LDAvis){\n",
       "       new LDAvis(\"#\" + \"ldavis_el794347843717764205715808\", ldavis_el794347843717764205715808_data);\n",
       "   }(LDAvis);\n",
       "}else if(typeof define === \"function\" && define.amd){\n",
       "   // require.js is available: use it to load d3/LDAvis\n",
       "   require.config({paths: {d3: \"https://cdnjs.cloudflare.com/ajax/libs/d3/3.5.5/d3.min\"}});\n",
       "   require([\"d3\"], function(d3){\n",
       "      window.d3 = d3;\n",
       "      LDAvis_load_lib(\"https://cdn.rawgit.com/bmabey/pyLDAvis/files/ldavis.v1.0.0.js\", function(){\n",
       "        new LDAvis(\"#\" + \"ldavis_el794347843717764205715808\", ldavis_el794347843717764205715808_data);\n",
       "      });\n",
       "    });\n",
       "}else{\n",
       "    // require.js not available: dynamically load d3 & LDAvis\n",
       "    LDAvis_load_lib(\"https://cdnjs.cloudflare.com/ajax/libs/d3/3.5.5/d3.min.js\", function(){\n",
       "         LDAvis_load_lib(\"https://cdn.rawgit.com/bmabey/pyLDAvis/files/ldavis.v1.0.0.js\", function(){\n",
       "                 new LDAvis(\"#\" + \"ldavis_el794347843717764205715808\", ldavis_el794347843717764205715808_data);\n",
       "            })\n",
       "         });\n",
       "}\n",
       "</script>"
      ],
      "text/plain": [
       "<IPython.core.display.HTML object>"
      ]
     },
     "execution_count": 81,
     "metadata": {},
     "output_type": "execute_result"
    }
   ],
   "source": [
    "lda_display = pyLDAvis.gensim.prepare(lda, corpus, dictionary)\n",
    "pyLDAvis.display(lda_display)"
   ]
  },
  {
   "cell_type": "markdown",
   "metadata": {},
   "source": [
    "## 5 Topic Visualization"
   ]
  },
  {
   "cell_type": "code",
   "execution_count": 82,
   "metadata": {},
   "outputs": [],
   "source": [
    "dictionary = gensim.corpora.Dictionary.load('dictionary_ds.gensim')\n",
    "corpus = pickle.load(open(file='corpus_ds.pkl', mode='rb'))  # 'rb' --> Read Bytes\n",
    "lda = gensim.models.ldamodel.LdaModel.load('model5_ds.gensim')"
   ]
  },
  {
   "cell_type": "code",
   "execution_count": 83,
   "metadata": {},
   "outputs": [
    {
     "data": {
      "text/html": [
       "\n",
       "<link rel=\"stylesheet\" type=\"text/css\" href=\"https://cdn.rawgit.com/bmabey/pyLDAvis/files/ldavis.v1.0.0.css\">\n",
       "\n",
       "\n",
       "<div id=\"ldavis_el794349907993282589167502\"></div>\n",
       "<script type=\"text/javascript\">\n",
       "\n",
       "var ldavis_el794349907993282589167502_data = {\"mdsDat\": {\"Freq\": [33.03749191879393, 26.38011263408106, 23.297758077452645, 14.116456435156898, 3.1681809345154632], \"cluster\": [1, 1, 1, 1, 1], \"topics\": [1, 2, 3, 4, 5], \"x\": [0.049867010264635386, -0.14604911306980026, 0.03318646123447981, 0.03428629287225246, 0.0287093486984326], \"y\": [0.06341972717201928, 0.009668685895246991, 0.007769925240447, 0.056139116833709424, -0.13699745514142264]}, \"tinfo\": {\"Category\": [\"Default\", \"Default\", \"Default\", \"Default\", \"Default\", \"Default\", \"Default\", \"Default\", \"Default\", \"Default\", \"Default\", \"Default\", \"Default\", \"Default\", \"Default\", \"Default\", \"Default\", \"Default\", \"Default\", \"Default\", \"Default\", \"Default\", \"Default\", \"Default\", \"Default\", \"Default\", \"Default\", \"Default\", \"Default\", \"Default\", \"Topic1\", \"Topic1\", \"Topic1\", \"Topic1\", \"Topic1\", \"Topic1\", \"Topic1\", \"Topic1\", \"Topic1\", \"Topic1\", \"Topic1\", \"Topic1\", \"Topic1\", \"Topic1\", \"Topic1\", \"Topic1\", \"Topic1\", \"Topic1\", \"Topic1\", \"Topic1\", \"Topic1\", \"Topic1\", \"Topic1\", \"Topic1\", \"Topic1\", \"Topic1\", \"Topic1\", \"Topic1\", \"Topic1\", \"Topic1\", \"Topic1\", \"Topic1\", \"Topic1\", \"Topic1\", \"Topic1\", \"Topic1\", \"Topic1\", \"Topic1\", \"Topic1\", \"Topic1\", \"Topic1\", \"Topic1\", \"Topic1\", \"Topic1\", \"Topic1\", \"Topic1\", \"Topic1\", \"Topic1\", \"Topic1\", \"Topic1\", \"Topic1\", \"Topic1\", \"Topic1\", \"Topic1\", \"Topic1\", \"Topic1\", \"Topic1\", \"Topic1\", \"Topic1\", \"Topic1\", \"Topic1\", \"Topic1\", \"Topic1\", \"Topic1\", \"Topic1\", \"Topic1\", \"Topic1\", \"Topic1\", \"Topic1\", \"Topic1\", \"Topic1\", \"Topic1\", \"Topic1\", \"Topic1\", \"Topic1\", \"Topic1\", \"Topic2\", \"Topic2\", \"Topic2\", \"Topic2\", \"Topic2\", \"Topic2\", \"Topic2\", \"Topic2\", \"Topic2\", \"Topic2\", \"Topic2\", \"Topic2\", \"Topic2\", \"Topic2\", \"Topic2\", \"Topic2\", \"Topic2\", \"Topic2\", \"Topic2\", \"Topic2\", \"Topic2\", \"Topic2\", \"Topic2\", \"Topic2\", \"Topic2\", \"Topic2\", \"Topic2\", \"Topic2\", \"Topic2\", \"Topic2\", \"Topic2\", \"Topic2\", \"Topic2\", \"Topic2\", \"Topic2\", \"Topic2\", \"Topic2\", \"Topic2\", \"Topic2\", \"Topic2\", \"Topic2\", \"Topic2\", \"Topic2\", \"Topic2\", \"Topic2\", \"Topic2\", \"Topic2\", \"Topic2\", \"Topic2\", \"Topic2\", \"Topic2\", \"Topic2\", \"Topic2\", \"Topic2\", \"Topic2\", \"Topic2\", \"Topic2\", \"Topic2\", \"Topic2\", \"Topic2\", \"Topic2\", \"Topic2\", \"Topic2\", \"Topic2\", \"Topic2\", \"Topic2\", \"Topic2\", \"Topic2\", \"Topic2\", \"Topic2\", \"Topic2\", \"Topic2\", \"Topic3\", \"Topic3\", \"Topic3\", \"Topic3\", \"Topic3\", \"Topic3\", \"Topic3\", \"Topic3\", \"Topic3\", \"Topic3\", \"Topic3\", \"Topic3\", \"Topic3\", \"Topic3\", \"Topic3\", \"Topic3\", \"Topic3\", \"Topic3\", \"Topic3\", \"Topic3\", \"Topic3\", \"Topic3\", \"Topic3\", \"Topic3\", \"Topic3\", \"Topic3\", \"Topic3\", \"Topic3\", \"Topic3\", \"Topic3\", \"Topic3\", \"Topic3\", \"Topic3\", \"Topic3\", \"Topic3\", \"Topic3\", \"Topic3\", \"Topic3\", \"Topic3\", \"Topic3\", \"Topic3\", \"Topic3\", \"Topic3\", \"Topic3\", \"Topic3\", \"Topic3\", \"Topic3\", \"Topic3\", \"Topic3\", \"Topic3\", \"Topic3\", \"Topic3\", \"Topic3\", \"Topic3\", \"Topic3\", \"Topic3\", \"Topic3\", \"Topic3\", \"Topic3\", \"Topic3\", \"Topic3\", \"Topic3\", \"Topic3\", \"Topic3\", \"Topic3\", \"Topic3\", \"Topic3\", \"Topic3\", \"Topic3\", \"Topic3\", \"Topic3\", \"Topic3\", \"Topic3\", \"Topic3\", \"Topic3\", \"Topic3\", \"Topic3\", \"Topic3\", \"Topic3\", \"Topic3\", \"Topic3\", \"Topic3\", \"Topic3\", \"Topic4\", \"Topic4\", \"Topic4\", \"Topic4\", \"Topic4\", \"Topic4\", \"Topic4\", \"Topic4\", \"Topic4\", \"Topic4\", \"Topic4\", \"Topic4\", \"Topic4\", \"Topic4\", \"Topic4\", \"Topic4\", \"Topic4\", \"Topic4\", \"Topic4\", \"Topic4\", \"Topic4\", \"Topic4\", \"Topic4\", \"Topic4\", \"Topic4\", \"Topic4\", \"Topic4\", \"Topic4\", \"Topic4\", \"Topic4\", \"Topic4\", \"Topic4\", \"Topic4\", \"Topic4\", \"Topic4\", \"Topic4\", \"Topic4\", \"Topic4\", \"Topic4\", \"Topic4\", \"Topic4\", \"Topic4\", \"Topic4\", \"Topic4\", \"Topic4\", \"Topic4\", \"Topic4\", \"Topic4\", \"Topic4\", \"Topic4\", \"Topic4\", \"Topic4\", \"Topic4\", \"Topic4\", \"Topic4\", \"Topic4\", \"Topic4\", \"Topic4\", \"Topic4\", \"Topic4\", \"Topic4\", \"Topic4\", \"Topic4\", \"Topic4\", \"Topic4\", \"Topic4\", \"Topic4\", \"Topic4\", \"Topic4\", \"Topic4\", \"Topic4\", \"Topic4\", \"Topic4\", \"Topic4\", \"Topic4\", \"Topic4\", \"Topic4\", \"Topic4\", \"Topic4\", \"Topic5\", \"Topic5\", \"Topic5\", \"Topic5\", \"Topic5\", \"Topic5\", \"Topic5\", \"Topic5\", \"Topic5\", \"Topic5\", \"Topic5\", \"Topic5\", \"Topic5\", \"Topic5\", \"Topic5\", \"Topic5\", \"Topic5\", \"Topic5\", \"Topic5\", \"Topic5\", \"Topic5\", \"Topic5\", \"Topic5\", \"Topic5\", \"Topic5\", \"Topic5\", \"Topic5\", \"Topic5\", \"Topic5\", \"Topic5\", \"Topic5\", \"Topic5\", \"Topic5\", \"Topic5\", \"Topic5\", \"Topic5\", \"Topic5\", \"Topic5\", \"Topic5\", \"Topic5\", \"Topic5\", \"Topic5\", \"Topic5\", \"Topic5\", \"Topic5\", \"Topic5\", \"Topic5\", \"Topic5\", \"Topic5\", \"Topic5\", \"Topic5\", \"Topic5\", \"Topic5\", \"Topic5\", \"Topic5\", \"Topic5\", \"Topic5\", \"Topic5\", \"Topic5\", \"Topic5\", \"Topic5\", \"Topic5\", \"Topic5\", \"Topic5\", \"Topic5\", \"Topic5\", \"Topic5\", \"Topic5\", \"Topic5\", \"Topic5\"], \"Freq\": [132.0, 82.0, 150.0, 123.0, 255.0, 690.0, 189.0, 37.0, 42.0, 62.0, 63.0, 19.0, 72.0, 50.0, 99.0, 35.0, 114.0, 178.0, 169.0, 121.0, 46.0, 125.0, 62.0, 68.0, 22.0, 25.0, 46.0, 34.0, 71.0, 128.0, 18.974732815782023, 19.844692629033123, 13.33722410665591, 13.220144876496656, 11.430686674607989, 11.403751989443656, 10.522092345968172, 10.52072035827696, 10.517834274437536, 11.349878653073638, 9.584541900164412, 9.581826285383972, 9.577812608347706, 9.577198185711463, 9.576615712532117, 16.587505585656725, 9.537430875931998, 8.639829027394974, 12.942078724766562, 7.7026072570357265, 7.682079717623413, 7.634580019381361, 6.752726671771643, 6.740249749255897, 6.737072139968391, 10.951900549436743, 9.27112586395159, 16.03155129294949, 12.665385825353209, 6.6858479345170405, 15.830653072323742, 48.40552133738133, 31.046413158332637, 24.292838582300245, 27.95105847431739, 34.559735492504416, 16.10102574721756, 35.84079266499475, 392.3970416311398, 91.96215639895244, 50.456267850726064, 78.8268260452418, 69.27390788858499, 21.388961571025295, 16.919484229347145, 129.31869599716424, 61.0095254304481, 25.136878054261167, 39.49924057937955, 32.19945578989999, 38.069919370666426, 68.79719670981558, 22.591402218910265, 54.389146735751254, 35.244176185007326, 68.67535293816944, 57.105277974678685, 40.79940067418789, 36.59508578549271, 54.50824409880826, 45.60011496420561, 36.387389208363196, 44.03051451685651, 47.06976379102727, 35.06978721476985, 30.304112207964945, 41.297967561907036, 48.08429821771708, 47.05973667673452, 39.16475614943922, 41.33340594037432, 39.305036334199436, 43.39083310397428, 41.42318900179005, 39.11454278626807, 37.190316020397276, 26.040367954218897, 24.188620604764704, 17.7706126678078, 15.887958055804974, 14.998305266506609, 14.996947735537898, 14.984520720379203, 14.972041166876405, 14.960946031743758, 13.109262736968418, 13.10731423606336, 13.106910912188715, 13.936958042161683, 12.219619459194057, 12.204698390268792, 12.182809986520933, 12.164891561626053, 11.266032737397591, 11.261615381260006, 11.261444704380516, 11.261035731900954, 11.260561070942973, 11.259608242443063, 11.259045236323809, 11.258769593334168, 11.253669508010328, 10.365552146937958, 10.335716761926944, 8.508751264155086, 8.507035840093666, 14.950141711937686, 26.858713557221133, 47.60604115656619, 55.931175558705704, 51.33153890240295, 78.6077502893959, 38.75227988030067, 21.377001112777275, 44.36929325605099, 23.22014964141973, 42.03377785962888, 78.45711143013584, 17.242946933997864, 55.695442277270416, 69.26925427805384, 35.23174540489736, 24.88411401460177, 54.7325534662671, 34.22041372508163, 69.72371981376537, 29.75509774159918, 25.35892775691453, 39.29027882847637, 54.16002108653166, 40.81315368585393, 42.4936690438966, 43.85262041963939, 42.08575920501307, 53.73522322164091, 37.182045905962866, 50.10129882674666, 43.16767517904362, 45.56533309550164, 35.20122134440495, 75.04540041351008, 45.929777698533634, 35.9458325468056, 35.19691820492114, 36.888985975753855, 39.22351990021226, 37.22714428418806, 36.384497619779125, 81.33588876763702, 14.617374810875877, 11.903554635005017, 10.10283211814592, 10.09718280329439, 9.203706815078869, 9.199849416370952, 9.199693036682692, 9.199271717333744, 9.198425251480918, 9.195869701968414, 9.19485763156535, 9.178239609824168, 8.298327178586977, 7.398993850058019, 7.394818523458548, 7.3925830856057635, 7.39085720774952, 7.391001989247561, 6.494725735301286, 6.4946769778669395, 6.465488166073662, 6.446927650905589, 13.661482690825743, 5.594404671038341, 5.592767019096603, 5.592476117021104, 5.591707383106509, 5.591478639652124, 5.590947143899818, 21.697891838659277, 10.100373267226193, 9.207129804855462, 9.199448546368528, 9.198077368018646, 25.201957114192236, 20.346350247989303, 11.00410349029512, 14.719959386922286, 20.158508093310818, 19.76056445195796, 14.606377699976182, 18.121480614949302, 17.579561683073454, 18.732047838640284, 28.24941679555399, 20.075991603861862, 136.23986234438507, 32.47064246331468, 50.182301451142074, 28.64351572229781, 21.416707905181752, 21.72666774773823, 44.786939119012565, 52.96935974967306, 28.790785933497013, 23.923562824907073, 24.492204279395214, 17.450963500037634, 39.806246370037364, 28.706678126371035, 34.652586894234325, 53.63890822576611, 39.35255665749752, 41.14854876260189, 31.019276906718144, 26.216822699436893, 39.73169506922494, 26.624715580732644, 30.363125145995976, 34.804347218589406, 28.658065099660334, 25.972006698173125, 28.45619921791017, 30.196707613113876, 28.296972919377676, 28.172510278710362, 27.24540783160317, 27.769246352452917, 28.51111016014238, 27.791375661044455, 26.711474376105755, 26.68773632938566, 19.44309050212173, 12.429310804080373, 7.176906531831151, 6.300112712390267, 5.427229457742, 5.42683155200914, 4.548786688118179, 3.6779682099024327, 3.6777504293376713, 3.6768237515885196, 3.676288131906209, 10.201776115607773, 7.988058563790039, 17.35656646624104, 6.434972554389848, 2.801564070014614, 4.8541896490823255, 3.418859321091692, 11.638340299944666, 3.6766007656118824, 1.9270102586164015, 1.9267780142698987, 1.9267626589021283, 1.9267361409207777, 1.9267244890946762, 1.9266814823248795, 1.9266269231329902, 1.9266315776890148, 1.9266220090389574, 1.9265916279051645, 4.5417610031829145, 4.529379095921846, 5.555644181152279, 3.854482329778399, 7.6578276089675965, 23.617404522667513, 8.04515767282942, 5.596668074567602, 5.558843586839637, 6.829592345739398, 10.376429969981597, 32.19769016054594, 56.799441659625245, 14.299323696317428, 10.309981252431392, 10.03407067569101, 9.149493463199796, 13.5524034584298, 10.250703034628867, 53.01363449199169, 17.6061103726179, 21.454350203957286, 11.18255290843329, 60.19389109667943, 28.17331826838913, 40.94468874199124, 20.610124087590744, 81.13031098620168, 29.471612300623686, 34.28337875367565, 19.68113281084571, 24.434528688786212, 27.745236801124644, 28.484885076722936, 18.36252791857839, 27.757971944057594, 30.070325907491718, 19.329318596308198, 18.535509803332108, 28.404594582158264, 25.014826064575544, 22.71528288739995, 17.861998674696917, 21.67557878072954, 19.755213803426994, 21.12744960222194, 18.927929077679547, 19.15548833675535, 19.066724865019538, 5.383170342817317, 3.0613154211946796, 3.0546134560739167, 2.4724103024783406, 2.472215985983714, 13.661660453205227, 1.2953935431666501, 1.2952779696111443, 1.295227623258081, 1.295183498937474, 1.295153070019565, 1.2950915437379802, 1.29500216827441, 1.2903785666443468, 1.289857046754397, 1.28986345277914, 1.2896390051988642, 1.2893430778140944, 1.2889752666854961, 1.8771503578989188, 0.7066856561177794, 0.7066581089443575, 0.7066365369030624, 0.7066293041397101, 0.7066257964957257, 0.7066186921222843, 0.7066195466730756, 0.7066079437623557, 0.706606878460359, 0.7066101281208634, 1.8841253301325607, 1.8841888191315275, 1.8841160413097744, 1.2957794427590006, 1.2956857871239393, 1.2952260924887493, 1.2875358892133566, 6.007633502350961, 3.0970377255820973, 1.2222613000271643, 6.8672406100121535, 7.01102266424547, 6.009684889745256, 12.332911618121434, 2.3747650444318777, 11.296724067429958, 4.255405229993478, 4.775981176884753, 5.714906542536157, 3.510526627607574, 4.362758745695576, 4.783645025042831, 2.474773690633325, 3.067027205012448, 5.4678354736519585, 4.109135607493393, 2.4734541615974863, 4.19170356432896, 5.8477976555159366, 4.24982141594094, 4.676939194320052, 3.463380969394912, 4.65579097028504, 4.84605926770949, 4.24579686838957, 6.073767038373216, 3.6293985498052743, 3.335438374003132, 3.1632876179561773, 3.1232517427201625], \"Term\": [\"customer\", \"icf\", \"software\", \"client\", \"business\", \"data\", \"development\", \"platform\", \"user\", \"texas\", \"large\", \"water\", \"help\", \"open\", \"application\", \"resource\", \"position\", \"product\", \"project\", \"analytics\", \"3\", \"design\", \"digital\", \"document\", \"planning\", \"game\", \"us\", \"ai\", \"services\", \"scientist\", \"ga\", \"b3\", \"instructor\", \"example\", \"tableau\", \"hubzone\", \"ethics\", \"volunteer\", \"linear\", \"cause\", \"democracy\", \"avanade\", \"schwab\", \"numbers\", \"bitbucket\", \"eager\", \"mathematical\", \"try\", \"play\", \"fluency\", \"teaching\", \"francisco\", \"pro\", \"amaze\", \"recharge\", \"teach\", \"translate\", \"unique\", \"perk\", \"look\", \"forward\", \"statistics\", \"community\", \"question\", \"every\", \"statistical\", \"datasets\", \"like\", \"data\", \"learning\", \"model\", \"analytics\", \"machine\", \"collaborative\", \"optimization\", \"business\", \"drive\", \"sql\", \"time\", \"insight\", \"large\", \"analysis\", \"mathematics\", \"problem\", \"python\", \"science\", \"solution\", \"need\", \"identify\", \"customer\", \"new\", \"organization\", \"tool\", \"scientist\", \"world\", \"modeling\", \"engineer\", \"opportunity\", \"project\", \"engineering\", \"support\", \"company\", \"development\", \"technology\", \"design\", \"software\", \"verification\", \"retirement\", \"asuragen\", \"later\", \"kla\", \"tencor\", \"assay\", \"molecular\", \"length\", \"keyboard\", \"135\", \"trs\", \"natera\", \"mach\", \"manual\", \"comply\", \"acceptable\", \"admission\", \"incidental\", \"marginal\", \"teacher\", \"finalist\", \"nondiscrimination\", \"dismissal\", \"repetitive\", \"ut\", \"diagnostic\", \"tobacco\", \"caci\", \"weekend\", \"criminal\", \"university\", \"function\", \"document\", \"may\", \"position\", \"federal\", \"applicable\", \"texas\", \"affirmative\", \"employment\", \"system\", \"assign\", \"relate\", \"research\", \"least\", \"action\", \"process\", \"equal\", \"project\", \"control\", \"conditions\", \"state\", \"software\", \"qualification\", \"application\", \"information\", \"management\", \"technology\", \"program\", \"product\", \"working\", \"opportunity\", \"field\", \"data\", \"development\", \"degree\", \"status\", \"engineering\", \"science\", \"technical\", \"support\", \"icf\", \"retailmenot\", \"pdf\", \"ecommerce\", \"retail\", \"nlp\", \"compassionate\", \"medicine\", \"intellectual\", \"mutual\", \"namru\", \"sa\", \"blacklocus\", \"winning\", \"savings\", \"award\", \"antonio\", \"ebay\", \"administrative\", \"amgen\", \"energize\", \"rental\", \"homeaway\", \"tackle\", \"productization\", \"dol\", \"ofccp\", \"icfi\", \"eoe\", \"transp_formattedesqa508c\", \"brand\", \"informatics\", \"retailer\", \"rigor\", \"tomorrow\", \"security\", \"consumer\", \"means\", \"www\", \"com\", \"food\", \"smart\", \"believe\", \"government\", \"solve\", \"challenge\", \"package\", \"data\", \"benefit\", \"opportunity\", \"health\", \"career\", \"issue\", \"working\", \"development\", \"people\", \"open\", \"building\", \"seeking\", \"scientist\", \"help\", \"engineer\", \"business\", \"research\", \"technology\", \"environment\", \"communication\", \"product\", \"services\", \"develop\", \"software\", \"level\", \"apply\", \"management\", \"learning\", \"client\", \"technical\", \"problem\", \"support\", \"science\", \"system\", \"use\", \"solution\", \"cognitivescale\", \"valassis\", \"correct\", \"ge\", \"utilization\", \"centene\", \"wunderman\", \"footprint\", \"advisor\", \"road\", \"pathpoint\", \"advertising\", \"journey\", \"stakeholder\", \"workshop\", \"keeping\", \"mba\", \"clarity\", \"agency\", \"scalability\", \"frequently\", \"facilitation\", \"sole\", \"advisory\", \"strict\", \"aim\", \"fulfil\", \"deem\", \"ethnicity\", \"typical\", \"exceed\", \"towards\", \"communicating\", \"constraint\", \"articulate\", \"ai\", \"director\", \"retention\", \"commerce\", \"front\", \"offering\", \"digital\", \"client\", \"engagement\", \"capability\", \"deliverable\", \"interview\", \"financial\", \"permit\", \"product\", \"strategic\", \"strategy\", \"executive\", \"business\", \"strong\", \"development\", \"leading\", \"data\", \"technical\", \"technology\", \"deliver\", \"environment\", \"design\", \"customer\", \"manage\", \"analysis\", \"project\", \"across\", \"industry\", \"science\", \"working\", \"drive\", \"complex\", \"support\", \"process\", \"system\", \"tool\", \"solution\", \"opportunity\", \"knime\", \"dematic\", \"zynga\", \"nokia\", \"groundwater\", \"water\", \"tomcat\", \"truck\", \"kion\", \"surface\", \"veatch\", \"github\", \"resiliency\", \"secret\", \"dinosaur\", \"btw\", \"marks\", \"surprise\", \"enthusiastic\", \"satisfaction\", \"appeal\", \"mockups\", \"attend\", \"django\", \"graphic\", \"europe\", \"markup\", \"forklift\", \"factory\", \"cwn\", \"reuse\", \"availability\", \"apache\", \"vulnerability\", \"customize\", \"black\", \"away\", \"planning\", \"happy\", \"mix\", \"platform\", \"user\", \"resource\", \"customer\", \"want\", \"software\", \"game\", \"3\", \"help\", \"integrate\", \"us\", \"large\", \"cyber\", \"web\", \"application\", \"open\", \"iot\", \"texas\", \"development\", \"services\", \"design\", \"source\", \"scientist\", \"project\", \"analytics\", \"data\", \"solution\", \"science\", \"within\", \"support\"], \"Total\": [132.0, 82.0, 150.0, 123.0, 255.0, 690.0, 189.0, 37.0, 42.0, 62.0, 63.0, 19.0, 72.0, 50.0, 99.0, 35.0, 114.0, 178.0, 169.0, 121.0, 46.0, 125.0, 62.0, 68.0, 22.0, 25.0, 46.0, 34.0, 71.0, 128.0, 19.651843795065346, 20.584758334234433, 14.010039849810836, 14.005996454983006, 12.129236443946256, 12.12395660210946, 11.190054328100173, 11.190171207100342, 11.189932758947865, 12.126149296156964, 10.250005168365979, 10.248764838718776, 10.249490316764811, 10.24994510258606, 10.249861873270032, 17.762134011215156, 10.246685566589948, 9.309367103567183, 13.97286397393974, 8.369017888815241, 8.368698442051075, 8.368220472644175, 7.428857060991365, 7.42857454421787, 7.428376474523279, 12.089429856912393, 10.234660797337316, 17.70263866010938, 13.98571611639183, 7.426283599750082, 17.69519790573315, 56.00023917713485, 35.47071538002915, 28.06232477125771, 32.71362576832438, 40.97059452549494, 18.677197151836733, 46.37412619309277, 690.8863824136099, 143.29898981525375, 71.95174885950084, 121.87028790960662, 105.46077232742587, 26.938763457240647, 20.473908589534606, 255.91989484680028, 111.73623278532231, 35.12564514013852, 64.32420503445856, 49.12367112406297, 63.138068608333555, 142.30152150119486, 31.521544249500504, 112.9677224544301, 60.174562749844284, 168.15001595468547, 130.39944317362566, 78.8797586728734, 67.91046298192704, 132.49896992686428, 100.74373395180446, 70.22620383363464, 103.51845503551348, 128.95694058170974, 71.60978450502083, 52.64233335783857, 106.88676588137135, 164.29786773658083, 169.0169248697861, 106.22621326004752, 130.28598043605606, 114.97371984801921, 189.08245694968815, 173.11242792899245, 125.52796042890508, 150.85811966052663, 26.787996517901348, 24.934763722715743, 18.450158192360263, 16.596593752937174, 15.671382693988313, 15.67116461898209, 15.670570396155455, 15.669761721876455, 15.670594046649953, 13.816668771743561, 13.817256077817689, 13.817366838911143, 14.70306821504587, 12.891580062137033, 12.891298326127105, 12.891048913392094, 12.88977067348009, 11.964600822096575, 11.964412329106416, 11.964626175960104, 11.96449711510249, 11.964464101905488, 11.964416658905616, 11.964200370460288, 11.96440060690889, 11.963902544123147, 11.038447260833422, 11.037808873949542, 9.18528564499569, 9.184894460897295, 16.25622039430168, 30.533454727298107, 56.191371483550924, 68.1339966406838, 65.2286564103998, 114.65033969145777, 51.80441959648742, 25.52653409283228, 62.16080253882484, 28.530111927635026, 62.36657193351134, 150.87675597407662, 21.10461392741792, 103.4082893881692, 141.25774006892559, 55.629978611468886, 34.930658612467404, 106.04594907190193, 56.85098257372193, 169.0169248697861, 48.159593939448065, 38.72728037619484, 81.47418966080629, 150.85811966052663, 92.20071489341555, 99.8404867679056, 106.25077298184533, 106.66091698026312, 173.11242792899245, 86.16998707055865, 178.72899916786878, 142.2762310662425, 164.29786773658083, 87.22849271480463, 690.8863824136099, 189.08245694968815, 95.60160050083036, 88.0274745750532, 106.22621326004752, 168.15001595468547, 123.10087362493523, 130.28598043605606, 82.13165922698309, 15.298388428136931, 12.588267328266761, 10.78198545706809, 10.782495734361941, 9.879254865432726, 9.878742356233692, 9.878782804837538, 9.878584057371144, 9.878640724369154, 9.878820510708088, 9.87871115017314, 9.879543572865918, 8.97572290865958, 8.07272552354742, 8.072547425149322, 8.072473452486696, 8.072445804666149, 8.072707534370242, 7.169103492448427, 7.169343807915479, 7.170588020408457, 7.171246365939717, 15.27029031586784, 6.2663551740700525, 6.266134940117836, 6.266161395045727, 6.266072022822973, 6.266126301355729, 6.266076473916858, 24.34373453267098, 11.708372754927586, 10.819060638574081, 10.819030640410062, 10.818935566361203, 33.49805350625375, 27.043244905713834, 13.43787029914836, 19.021886319465953, 28.046540413239924, 29.14534147768128, 19.954871052709407, 27.37770686132197, 26.950881769842013, 30.993305414843668, 57.14851069959606, 34.905916841348166, 690.8863824136099, 76.0567006790773, 164.29786773658083, 65.083053075312, 40.18621374814219, 41.17811897294246, 142.2762310662425, 189.08245694968815, 67.8771147173055, 50.13499577322427, 52.520738243451895, 29.65746796471657, 128.95694058170974, 72.61420341302966, 106.88676588137135, 255.91989484680028, 141.25774006892559, 173.11242792899245, 97.78792671042966, 67.81556683653537, 178.72899916786878, 71.82343690181405, 104.26972501380939, 150.85811966052663, 92.97781567157092, 73.5060326795354, 106.66091698026312, 143.29898981525375, 123.68320350956208, 123.10087362493523, 112.9677224544301, 130.28598043605606, 168.15001595468547, 150.87675597407662, 99.05277368175119, 130.39944317362566, 20.127202802216363, 13.116479336651826, 7.8585814200925, 6.981929977762196, 6.1056427651969125, 6.105682788845595, 5.227473847150413, 4.352652097202464, 4.3525812064849, 4.35269818295836, 4.352757542434031, 12.31095925950843, 9.67961203331792, 21.21572475679573, 7.900447901601915, 3.4763278710556778, 6.147389758833536, 4.367297124361821, 15.029916478795299, 4.942429526161429, 2.5999142678376477, 2.599912411580986, 2.5999041665302465, 2.5999229076281973, 2.599907825248607, 2.5999014431416674, 2.5999005066982224, 2.599929998682351, 2.59991811997614, 2.5998962417966878, 6.132944287107061, 6.156330303528409, 7.616129520403688, 5.268995362809521, 10.63443170724012, 34.82034838905184, 11.476345773655288, 7.973557583455329, 7.949927276903617, 9.98226389689144, 16.447896791035486, 62.34840159186655, 123.68320350956208, 25.123010082177018, 17.50177501893031, 16.967569837111135, 15.157697669066012, 25.947927095334467, 17.89481785748081, 178.72899916786878, 38.51457229854437, 52.133160495211946, 21.28970559006118, 255.91989484680028, 82.98940789808816, 189.08245694968815, 61.146430057032816, 690.8863824136099, 123.10087362493523, 173.11242792899245, 64.23986879550434, 97.78792671042966, 125.52796042890508, 132.49896992686428, 57.32751420242298, 142.30152150119486, 169.0169248697861, 66.56569303333553, 63.54132998333468, 168.15001595468547, 142.2762310662425, 111.73623278532231, 62.395688240002784, 130.28598043605606, 106.04594907190193, 150.87675597407662, 103.51845503551348, 130.39944317362566, 164.29786773658083, 6.174043063992264, 3.795787380179002, 3.7997849487828956, 3.2062319650448377, 3.206376536837359, 19.777258333817898, 2.0265554530508747, 2.026606164875323, 2.026635064696554, 2.0266808972956176, 2.026696965274015, 2.0267436242233376, 2.0267893987782126, 2.029492964926862, 2.0297599581712134, 2.0297997361149545, 2.0298951396572833, 2.030049575899126, 2.0302772704636043, 3.523484576091313, 1.4368391459275225, 1.4368579330591216, 1.436858252166378, 1.4368768208718583, 1.4368777385715705, 1.4368708551031308, 1.4368796679054858, 1.4368761549147813, 1.436876593834767, 1.43688658251806, 4.396060852133158, 4.4519074463923385, 4.496668930823779, 2.9296040755033737, 2.929630965542971, 2.929893239473259, 2.9345213904812315, 22.921983343003248, 10.236907539197514, 3.0103701360632584, 37.575584055730204, 42.586520329663685, 35.807655998540454, 132.49896992686428, 8.726053049051409, 150.85811966052663, 25.381226382598552, 46.35871954023584, 72.61420341302966, 24.821282134736883, 46.18002562001037, 63.138068608333555, 11.33408116760346, 20.339722583056858, 99.8404867679056, 50.13499577322427, 12.479730656505986, 62.16080253882484, 189.08245694968815, 71.82343690181405, 125.52796042890508, 41.450261919727545, 128.95694058170974, 169.0169248697861, 121.87028790960662, 690.8863824136099, 130.39944317362566, 168.15001595468547, 48.31247486729403, 130.28598043605606], \"loglift\": [30.0, 29.0, 28.0, 27.0, 26.0, 25.0, 24.0, 23.0, 22.0, 21.0, 20.0, 19.0, 18.0, 17.0, 16.0, 15.0, 14.0, 13.0, 12.0, 11.0, 10.0, 9.0, 8.0, 7.0, 6.0, 5.0, 4.0, 3.0, 2.0, 1.0, 1.0725, 1.0709, 1.0583, 1.0498, 1.0482, 1.0463, 1.046, 1.0458, 1.0456, 1.0414, 1.0404, 1.0402, 1.0397, 1.0396, 1.0396, 1.0391, 1.0358, 1.0329, 1.0309, 1.0245, 1.0219, 1.0158, 1.0121, 1.0103, 1.0098, 1.0087, 1.0087, 1.0084, 1.0084, 1.0025, 0.9962, 0.9618, 0.9743, 0.9633, 0.9502, 0.9374, 0.9591, 0.8499, 0.5418, 0.664, 0.7526, 0.6718, 0.6873, 0.8768, 0.9168, 0.4249, 0.5024, 0.7729, 0.6199, 0.6851, 0.6016, 0.3807, 0.7744, 0.3766, 0.5726, 0.2121, 0.2818, 0.4483, 0.4893, 0.2193, 0.3149, 0.45, 0.2527, 0.0997, 0.3936, 0.5553, 0.1566, -0.1212, -0.1711, 0.1097, -0.0405, 0.0342, -0.3644, -0.3226, -0.0585, -0.2928, 1.3043, 1.3022, 1.295, 1.2889, 1.2887, 1.2886, 1.2878, 1.287, 1.2862, 1.28, 1.2798, 1.2798, 1.279, 1.279, 1.2778, 1.2761, 1.2747, 1.2724, 1.272, 1.272, 1.272, 1.2719, 1.2718, 1.2718, 1.2718, 1.2714, 1.2697, 1.2668, 1.2561, 1.2559, 1.2488, 1.2043, 1.1668, 1.1352, 1.093, 0.9551, 1.0423, 1.1552, 0.9954, 1.1266, 0.938, 0.6786, 1.1305, 0.7138, 0.62, 0.8758, 0.9934, 0.6711, 0.8249, 0.4471, 0.851, 0.9091, 0.6033, 0.3082, 0.5176, 0.4783, 0.4476, 0.4026, 0.1627, 0.4921, 0.0607, 0.1399, 0.05, 0.4251, -0.8873, -0.0825, 0.3544, 0.4159, 0.2749, -0.123, 0.1366, 0.057, 1.4471, 1.4113, 1.4009, 1.3918, 1.3911, 1.386, 1.3856, 1.3856, 1.3856, 1.3855, 1.3852, 1.3851, 1.3832, 1.3783, 1.3697, 1.3691, 1.3688, 1.3686, 1.3686, 1.358, 1.358, 1.3533, 1.3503, 1.3455, 1.3434, 1.3431, 1.3431, 1.3429, 1.3429, 1.3428, 1.3418, 1.3091, 1.2955, 1.2946, 1.2945, 1.1722, 1.1723, 1.257, 1.2004, 1.1266, 1.0682, 1.1448, 1.0442, 1.0295, 0.9533, 0.7522, 0.9037, -0.1667, 0.6057, 0.2708, 0.6361, 0.8275, 0.8174, 0.301, 0.1843, 0.5992, 0.717, 0.694, 0.9265, 0.2814, 0.5288, 0.3304, -0.1058, 0.1788, 0.0201, 0.3086, 0.5064, -0.0469, 0.4644, 0.2231, -0.0098, 0.2799, 0.4165, 0.1355, -0.1004, -0.0182, -0.0178, 0.0346, -0.089, -0.3177, -0.2349, 0.1463, -0.1296, 1.9232, 1.904, 1.8671, 1.8551, 1.84, 1.84, 1.8188, 1.7894, 1.7894, 1.7891, 1.7889, 1.7699, 1.7658, 1.7571, 1.7527, 1.742, 1.7216, 1.713, 1.7021, 1.662, 1.6583, 1.6582, 1.6582, 1.6582, 1.6582, 1.6582, 1.6581, 1.6581, 1.6581, 1.6581, 1.6575, 1.6509, 1.6424, 1.6452, 1.6295, 1.5696, 1.6026, 1.6039, 1.6001, 1.5783, 1.4972, 1.297, 1.1796, 1.3943, 1.4286, 1.4325, 1.453, 1.3083, 1.4007, 0.7425, 1.175, 1.07, 1.314, 0.5105, 0.8775, 0.4279, 0.8703, -0.1841, 0.5283, 0.3385, 0.7749, 0.571, 0.4484, 0.4206, 0.8194, 0.3234, 0.2314, 0.7213, 0.7258, 0.1795, 0.2195, 0.3647, 0.707, 0.1643, 0.2774, -0.0081, 0.2587, 0.0398, -0.1959, 3.3149, 3.237, 3.2337, 3.1921, 3.192, 3.0821, 3.0045, 3.0044, 3.0043, 3.0043, 3.0042, 3.0042, 3.0041, 2.9992, 2.9986, 2.9986, 2.9984, 2.9981, 2.9977, 2.8223, 2.7424, 2.7423, 2.7423, 2.7423, 2.7423, 2.7423, 2.7423, 2.7423, 2.7423, 2.7423, 2.6048, 2.5922, 2.5821, 2.6363, 2.6362, 2.6357, 2.6282, 2.1129, 2.2565, 2.5507, 1.7524, 1.648, 1.6672, 1.0777, 2.1506, 0.8602, 1.6662, 1.1792, 0.9099, 1.4961, 1.0926, 0.8719, 1.9303, 1.5601, 0.5473, 0.9505, 1.8335, 0.7554, -0.0241, 0.6247, 0.1621, 0.9698, 0.1306, -0.0998, 0.095, -1.282, -0.1295, -0.4682, 0.7259, -0.2788], \"logprob\": [30.0, 29.0, 28.0, 27.0, 26.0, 25.0, 24.0, 23.0, 22.0, 21.0, 20.0, 19.0, 18.0, 17.0, 16.0, 15.0, 14.0, 13.0, 12.0, 11.0, 10.0, 9.0, 8.0, 7.0, 6.0, 5.0, 4.0, 3.0, 2.0, 1.0, -6.4573, -6.4125, -6.8099, -6.8187, -6.9641, -6.9665, -7.0469, -7.0471, -7.0473, -6.9712, -7.1403, -7.1405, -7.141, -7.141, -7.1411, -6.5918, -7.1452, -7.244, -6.8399, -7.3589, -7.3615, -7.3677, -7.4905, -7.4923, -7.4928, -7.0069, -7.1735, -6.6259, -6.8615, -7.5004, -6.6385, -5.5208, -5.9649, -6.2102, -6.07, -5.8577, -6.6215, -5.8213, -3.4281, -4.879, -5.4793, -5.0332, -5.1623, -6.3375, -6.5719, -4.5381, -5.2894, -6.1761, -5.7241, -5.9285, -5.761, -5.1692, -6.2828, -5.4042, -5.8381, -5.171, -5.3555, -5.6917, -5.8005, -5.4021, -5.5805, -5.8062, -5.6155, -5.5488, -5.8431, -5.9891, -5.6796, -5.5275, -5.549, -5.7326, -5.6787, -5.7291, -5.6302, -5.6766, -5.7339, -5.7844, -5.9157, -5.9895, -6.2978, -6.4098, -6.4674, -6.4675, -6.4684, -6.4692, -6.4699, -6.6021, -6.6022, -6.6022, -6.5408, -6.6723, -6.6736, -6.6754, -6.6768, -6.7536, -6.754, -6.754, -6.754, -6.7541, -6.7542, -6.7542, -6.7542, -6.7547, -6.8369, -6.8398, -7.0343, -7.0345, -6.4707, -5.8848, -5.3124, -5.1513, -5.2371, -4.8109, -5.5182, -6.1131, -5.3828, -6.0304, -5.4369, -4.8128, -6.328, -5.1555, -4.9374, -5.6134, -5.9612, -5.1729, -5.6426, -4.9308, -5.7824, -5.9422, -5.5044, -5.1834, -5.4664, -5.426, -5.3945, -5.4357, -5.1913, -5.5596, -5.2613, -5.4103, -5.3562, -5.6143, -4.8573, -5.3483, -5.5934, -5.6144, -5.5675, -5.5061, -5.5583, -5.5812, -4.6525, -6.3689, -6.5743, -6.7383, -6.7389, -6.8315, -6.8319, -6.832, -6.832, -6.8321, -6.8324, -6.8325, -6.8343, -6.9351, -7.0498, -7.0503, -7.0506, -7.0509, -7.0509, -7.1801, -7.1801, -7.1846, -7.1875, -6.4365, -7.3294, -7.3297, -7.3297, -7.3298, -7.3299, -7.33, -5.9739, -6.7386, -6.8311, -6.832, -6.8321, -5.8242, -6.0382, -6.6529, -6.3619, -6.0475, -6.0674, -6.3697, -6.154, -6.1844, -6.1209, -5.7101, -6.0516, -4.1367, -5.5708, -5.1355, -5.6962, -5.987, -5.9726, -5.2492, -5.0814, -5.6911, -5.8763, -5.8528, -6.1917, -5.3671, -5.694, -5.5058, -5.0689, -5.3786, -5.3339, -5.6165, -5.7847, -5.369, -5.7693, -5.6379, -5.5014, -5.6957, -5.7941, -5.7028, -5.6434, -5.7084, -5.7128, -5.7462, -5.7272, -5.7008, -5.7264, -5.766, -5.7669, -5.5826, -6.0301, -6.5792, -6.7095, -6.8587, -6.8588, -7.0353, -7.2478, -7.2478, -7.2481, -7.2482, -6.2275, -6.4722, -5.6961, -6.6884, -7.5199, -6.9703, -7.3208, -6.0958, -7.2481, -7.8941, -7.8943, -7.8943, -7.8943, -7.8943, -7.8943, -7.8943, -7.8943, -7.8943, -7.8944, -7.0368, -7.0395, -6.8353, -7.2009, -6.5144, -5.3881, -6.465, -6.8279, -6.8347, -6.6288, -6.2106, -5.0782, -4.5106, -5.8899, -6.217, -6.2441, -6.3364, -5.9435, -6.2228, -4.5796, -5.6819, -5.4842, -6.1358, -4.4525, -5.2117, -4.8379, -5.5243, -4.1541, -5.1667, -5.0155, -5.5705, -5.3541, -5.227, -5.2007, -5.6398, -5.2266, -5.1466, -5.5885, -5.6304, -5.2036, -5.3306, -5.4271, -5.6674, -5.4739, -5.5667, -5.4995, -5.6095, -5.5975, -5.6022, -5.3727, -5.9371, -5.9393, -6.1507, -6.1508, -4.4413, -6.7971, -6.7972, -6.7972, -6.7973, -6.7973, -6.7973, -6.7974, -6.801, -6.8014, -6.8014, -6.8016, -6.8018, -6.8021, -6.4262, -7.4031, -7.4031, -7.4032, -7.4032, -7.4032, -7.4032, -7.4032, -7.4032, -7.4032, -7.4032, -6.4225, -6.4224, -6.4225, -6.7968, -6.7969, -6.7972, -6.8032, -5.2629, -5.9255, -6.8552, -5.1292, -5.1084, -5.2626, -4.5437, -6.191, -4.6314, -5.6077, -5.4923, -5.3128, -5.8002, -5.5828, -5.4907, -6.1498, -5.9352, -5.357, -5.6427, -6.1503, -5.6228, -5.2899, -5.6091, -5.5133, -5.8137, -5.5178, -5.4778, -5.61, -5.2519, -5.7669, -5.8513, -5.9043, -5.9171]}, \"token.table\": {\"Topic\": [2, 1, 2, 3, 4, 5, 2, 1, 2, 3, 4, 5, 1, 2, 3, 4, 3, 2, 1, 3, 4, 4, 4, 1, 2, 3, 4, 1, 2, 4, 1, 3, 4, 4, 1, 3, 1, 2, 3, 4, 5, 1, 2, 3, 4, 5, 3, 1, 5, 5, 1, 2, 3, 5, 1, 2, 3, 4, 5, 1, 2, 3, 4, 1, 4, 2, 2, 3, 4, 2, 5, 2, 3, 5, 1, 3, 3, 5, 1, 1, 3, 1, 2, 3, 4, 5, 1, 3, 5, 3, 1, 3, 4, 5, 1, 2, 3, 4, 1, 2, 3, 4, 5, 2, 1, 2, 3, 4, 5, 1, 2, 3, 4, 1, 4, 1, 2, 3, 4, 5, 4, 1, 2, 3, 4, 5, 4, 1, 2, 4, 1, 2, 3, 4, 1, 3, 4, 2, 4, 5, 1, 2, 3, 4, 5, 1, 3, 1, 2, 3, 4, 5, 3, 1, 2, 3, 4, 5, 2, 1, 2, 3, 4, 2, 4, 1, 2, 3, 4, 1, 2, 3, 4, 5, 4, 2, 5, 1, 2, 3, 4, 5, 3, 5, 5, 3, 5, 1, 2, 3, 4, 5, 1, 2, 4, 1, 2, 3, 4, 5, 1, 2, 3, 4, 5, 1, 2, 3, 4, 5, 1, 1, 2, 3, 4, 5, 1, 2, 3, 4, 5, 1, 2, 3, 4, 5, 2, 1, 2, 3, 4, 5, 5, 1, 3, 4, 2, 5, 1, 2, 3, 4, 5, 3, 1, 2, 3, 4, 5, 1, 2, 3, 3, 1, 2, 3, 4, 5, 3, 1, 3, 4, 1, 2, 3, 4, 5, 1, 2, 3, 4, 5, 5, 1, 2, 3, 4, 5, 3, 1, 2, 3, 4, 1, 4, 5, 1, 2, 3, 1, 3, 4, 3, 4, 4, 5, 1, 2, 3, 4, 1, 2, 3, 4, 5, 2, 1, 3, 4, 1, 1, 2, 3, 4, 5, 1, 4, 1, 4, 2, 4, 5, 4, 1, 2, 3, 4, 1, 1, 2, 3, 5, 4, 5, 1, 2, 3, 4, 5, 5, 5, 1, 2, 3, 5, 1, 2, 3, 4, 1, 2, 3, 4, 5, 3, 1, 3, 3, 1, 2, 3, 4, 2, 1, 2, 3, 4, 2, 3, 1, 2, 3, 4, 5, 1, 2, 3, 4, 1, 1, 2, 3, 5, 3, 2, 4, 1, 4, 5, 1, 2, 3, 4, 5, 1, 4, 4, 2, 5, 2, 5, 1, 2, 3, 4, 5, 2, 1, 2, 3, 4, 5, 1, 2, 3, 4, 1, 2, 4, 2, 1, 2, 3, 4, 5, 1, 2, 3, 4, 1, 1, 2, 1, 2, 3, 4, 1, 2, 3, 4, 5, 1, 2, 3, 4, 5, 2, 2, 5, 5, 1, 1, 2, 3, 4, 1, 2, 3, 4, 5, 1, 4, 3, 4, 3, 1, 5, 5, 1, 2, 3, 4, 5, 1, 2, 3, 4, 2, 3, 3, 2, 1, 2, 3, 4, 5, 1, 2, 3, 4, 5, 3, 5, 2, 1, 3, 1, 3, 4, 5, 1, 2, 3, 5, 1, 2, 3, 4, 5, 1, 3, 1, 2, 3, 4, 5, 1, 2, 3, 4, 5, 4, 3, 1, 2, 3, 4, 5, 1, 3, 1, 2, 4, 1, 2, 3, 4, 5, 1, 2, 3, 4, 5, 1, 1, 2, 3, 4, 5, 1, 1, 2, 3, 4, 1, 2, 3, 4, 1, 2, 3, 4, 5, 3, 1, 2, 3, 4, 5, 1, 2, 3, 4, 5, 1, 2, 3, 4, 5, 1, 2, 3, 4, 5, 1, 2, 1, 1, 2, 3, 4, 5, 3, 2, 1, 2, 3, 4, 5, 5, 1, 2, 3, 4, 5, 3, 1, 3, 3, 1, 4, 2, 3, 4, 5, 1, 3, 4, 3, 3, 5, 3, 4, 5, 1, 1, 2, 3, 4, 5, 1, 2, 3, 4, 5, 5, 2, 3, 4, 1, 2, 3, 4, 5, 1, 2, 3, 4, 5, 1, 2, 3, 1, 2, 3, 4, 5, 4, 1, 2, 3, 4, 5, 1, 2, 3, 4, 1, 2, 3, 5, 1, 2, 3, 4, 1, 4, 1, 2, 3, 4, 5, 1, 2, 4, 1, 2, 3, 4, 1, 2, 3, 4, 1, 2, 3, 4, 5, 1, 2, 3, 4, 5, 4, 1, 2, 3, 4, 5, 1, 2, 3, 4, 5, 5, 5, 1, 2, 3, 4, 5, 1, 3, 4, 1, 2, 2, 1, 1, 2, 3, 4, 5, 1, 2, 3, 4, 5, 2, 1, 2, 3, 4, 5, 1, 2, 3, 4, 5, 2, 5, 1, 3, 1, 2, 3, 4, 2, 4, 1, 3, 2, 5, 1, 4, 1, 4, 1, 2, 1, 2, 3, 4, 5, 1, 2, 3, 4, 5, 1, 2, 3, 4, 5, 2, 4, 4, 5, 2, 1, 3, 5, 1, 3, 5, 2, 3, 4, 5, 1, 2, 3, 4, 5, 2, 3, 1, 2, 3, 4, 5, 1, 2, 3, 4, 5, 2, 4, 1, 2, 3, 4, 5, 4, 1, 2, 3, 5], \"Freq\": [0.9408525055036276, 0.4314183005559833, 0.2372800653057908, 0.19413823525019247, 0.021570915027799165, 0.10785457513899582, 0.9309707910234013, 0.3455233311922674, 0.07511376765049291, 0.24036405648157733, 0.28543231707187305, 0.04506826059029575, 0.11451258461448893, 0.7157036538405558, 0.0858844384608667, 0.0858844384608667, 0.867119237281532, 0.9193787710564383, 0.08122843873661958, 0.08122843873661958, 0.8122843873661958, 0.9189949159456026, 0.7692535783011034, 0.0701013723701079, 0.8061657822562409, 0.0701013723701079, 0.0701013723701079, 0.06653396919476119, 0.13306793838952238, 0.7984076303371344, 0.28718839594218953, 0.02871883959421895, 0.6892521502612549, 0.7692599291699462, 0.9423072970908724, 0.8369247293361155, 0.48488589069246624, 0.23892927947165002, 0.07730064924082795, 0.19676528897665296, 0.007027331749166177, 0.6482301909272236, 0.11487623636684974, 0.09846534545729978, 0.09846534545729978, 0.03282178181909993, 0.8671443816075575, 0.44477368264547884, 0.44477368264547884, 0.6959721294024671, 0.07834984540896173, 0.8226733767940981, 0.03917492270448086, 0.03917492270448086, 0.24038344339998713, 0.42067102594997746, 0.14022367531665916, 0.14022367531665916, 0.05007988404166398, 0.39452544155704117, 0.1768562324221219, 0.3537124648442438, 0.06802162785466227, 0.188068347708544, 0.752273390834176, 0.9572082968773128, 0.8055110630531157, 0.09476600741801362, 0.09476600741801362, 0.9756013911822902, 0.6959628748989549, 0.22462281887966093, 0.22462281887966093, 0.44924563775932186, 0.9757273346951071, 0.8671364355435196, 0.34077107198595347, 0.34077107198595347, 0.9715926548789293, 0.32873461775262147, 0.6574692355052429, 0.34185022184577135, 0.11833276910045931, 0.42073873457941086, 0.09203659818924613, 0.02629617091121318, 0.9756229033757391, 0.341309364630563, 0.341309364630563, 0.91097325839206, 0.041078331619905345, 0.9037232956379176, 0.041078331619905345, 0.4926594393563201, 0.24752127321098338, 0.09520048969653207, 0.45696235054335393, 0.17136088145375772, 0.5040639770394657, 0.03907472690228416, 0.21100352527233446, 0.23444836141370495, 0.011722418070685248, 0.9798279931450323, 0.05713706175050118, 0.2285482470020047, 0.11427412350100236, 0.5713706175050117, 0.05713706175050118, 0.3483781798340537, 0.04976831140486482, 0.5225672697510806, 0.07465246710729723, 0.907130510382726, 0.8189092314350895, 0.3324671066211056, 0.0699930750781275, 0.48995152554689253, 0.08749134384765939, 0.017498268769531877, 0.686923722973939, 0.2587255107564064, 0.024255516633413098, 0.22638482191185558, 0.46085481603484885, 0.024255516633413098, 0.9439960528398791, 0.7795458033303152, 0.07424245746003003, 0.11136368619004504, 0.10696506434653846, 0.10696506434653846, 0.713100428976923, 0.07131004289769231, 0.1257873141689273, 0.1257873141689273, 0.7547238850135638, 0.13130028806902375, 0.7878017284141425, 0.13130028806902375, 0.22118815339487524, 0.23593403028786694, 0.3833927992177838, 0.14745876892991683, 0.014745876892991684, 0.8739603830334286, 0.08457681126129954, 0.33920795162192796, 0.2870221129108621, 0.19134807527390807, 0.15655751613319752, 0.026092919355532918, 0.9110471429919227, 0.2243744783477586, 0.2884814721614039, 0.19232098144093593, 0.2884814721614039, 0.01602674845341133, 0.9308784785956081, 0.15492954686506008, 0.645539778604417, 0.15492954686506008, 0.02582159114417668, 0.18978950087114563, 0.7591580034845825, 0.07395562207763869, 0.03697781103881934, 0.7395562207763868, 0.11093343311645804, 0.062292884025807085, 0.6229288402580708, 0.18687865207742124, 0.12458576805161417, 0.020764294675269027, 0.8907460043746173, 0.9227237104424333, 0.06151491402949555, 0.41509756664794045, 0.15094456969016015, 0.12830288423663613, 0.21132239756622423, 0.0905667418140961, 0.34133992020208676, 0.34133992020208676, 0.6959491529578893, 0.7058357781014166, 0.17645894452535416, 0.5673870696807614, 0.10855619955626811, 0.19684857519536617, 0.11724069552076956, 0.00868449596450145, 0.8566595870851288, 0.1070824483856411, 0.7692514802373923, 0.2615018981798622, 0.37656273337900154, 0.19874144261669524, 0.14644106298072282, 0.010460075927194487, 0.451433051526243, 0.03113331389836159, 0.2179331972885311, 0.31133313898361586, 0.015566656949180795, 0.17680787695586547, 0.11787191797057699, 0.11787191797057699, 0.589359589852885, 0.7903498535417244, 0.9756092641652947, 0.3106877532841643, 0.2788223426909167, 0.1513607003179262, 0.22305787415273334, 0.03983176324155953, 0.2589438113165077, 0.3452584150886769, 0.28771534590723075, 0.07672409224192821, 0.019181023060482052, 0.22741401129265854, 0.24328010510377424, 0.2803009906630442, 0.21683661541858137, 0.03173218762223142, 0.9059245167100597, 0.11227232489169636, 0.1443501320036096, 0.22454464978339272, 0.513244913790612, 0.016038903555956625, 0.4926690941824405, 0.08713575032703931, 0.17427150065407862, 0.6970860026163145, 0.9194095434208117, 0.695953880996721, 0.11741568665330698, 0.8219098065731488, 0.04403088249499012, 0.014676960831663373, 0.014676960831663373, 0.9575280547480787, 0.5459285540546072, 0.10739578112549648, 0.1342447264068706, 0.20584191382386827, 0.008949648427124706, 0.9570922046453462, 0.056299541449726244, 0.8671473515441579, 0.9274729631029633, 0.1763765372855035, 0.6734376878173771, 0.048102691986955506, 0.09620538397391101, 0.016034230662318502, 0.8368966757286158, 0.3582373278743719, 0.07960829508319377, 0.5572580655823564, 0.3835835022410912, 0.23389237941529953, 0.32744933118141933, 0.037422780706447924, 0.018711390353223962, 0.36714101729792337, 0.34831327282110675, 0.16944970029134923, 0.08472485014567462, 0.028241616715224873, 0.492543562668982, 0.21475043705738192, 0.1942980144804884, 0.31701254994184946, 0.24542907092272218, 0.020452422576893517, 0.9575293748391012, 0.08794922750044316, 0.5980547470030135, 0.22866799150115225, 0.07035938200035453, 0.9830157814673953, 0.7692549948528205, 0.6959567705395663, 0.8559124628463397, 0.0917049067335364, 0.03056830224451213, 0.928173874795956, 0.16305382100115323, 0.8152691050057661, 0.4227395236598073, 0.5166816400286535, 0.7692566838372128, 0.6959539909625632, 0.17373035100291406, 0.7528315210126276, 0.05791011700097136, 0.01930337233365712, 0.3439243195235028, 0.40124503944408657, 0.14903387179351785, 0.09171315187293407, 0.011464143984116758, 0.9193892769713032, 0.23123234383831848, 0.23123234383831848, 0.5395421356227431, 0.9559066674587451, 0.20586480362889686, 0.10293240181444843, 0.6862160120963229, 0.9189799484711585, 0.6959542035543824, 0.9042001160561243, 0.05651250725350777, 0.9559977567694479, 0.7692561346122396, 0.10017767615935382, 0.7012437331154767, 0.10017767615935382, 0.7692602062453252, 0.03559265323476695, 0.8542236776344068, 0.0711853064695339, 0.05338897985215042, 0.9668304001465233, 0.15759679771590598, 0.6303871908636239, 0.039399199428976496, 0.15759679771590598, 0.8593612395298015, 0.4934023169226483, 0.1484181495121244, 0.1484181495121244, 0.6678816728045598, 0.0371045373780311, 0.0371045373780311, 0.6959534365074933, 0.6237570594165835, 0.19537150182727772, 0.29305725274091654, 0.19537150182727772, 0.29305725274091654, 0.13828484643437813, 0.16901481230868437, 0.44558450517744064, 0.2612047099316031, 0.2891996195365799, 0.09639987317885998, 0.39937090316956275, 0.13771410454122854, 0.08262846272473712, 0.8366746439638966, 0.9072945706590617, 0.9862214006433794, 0.9575376692361887, 0.5448350427215727, 0.10307689997435159, 0.13252744282416634, 0.22087907137361054, 0.9193932553828622, 0.28328018951949785, 0.25180461290622036, 0.17311567137302647, 0.29901797782613665, 0.08540896509970952, 0.8540896509970952, 0.2823508870389676, 0.4141146343238191, 0.16941053222338054, 0.13176374728485155, 0.009411696234632254, 0.6514171125196091, 0.12214070859742669, 0.16285427812990227, 0.061070354298713346, 0.9279059973677038, 0.36259206720851384, 0.2417280448056759, 0.2417280448056759, 0.1611520298704506, 0.9110617420200451, 0.39583847962905755, 0.5937577194435864, 0.6410394759464946, 0.16025986898662364, 0.16025986898662364, 0.12142371057030137, 0.09713896845624109, 0.534264326509326, 0.19427793691248219, 0.048569484228120546, 0.10330992570341954, 0.8264794056273563, 0.8629795897499656, 0.9408924983847243, 0.49342874670419706, 0.9571586817131419, 0.8098420999297171, 0.6018555973849413, 0.04751491558302168, 0.253412883109449, 0.01583830519434056, 0.0791915259717028, 0.9640532411759737, 0.0981251071305986, 0.14718766069589792, 0.3925004285223944, 0.34343787495709516, 0.03270836904353287, 0.6420142955551169, 0.04884891379223715, 0.20935248768101636, 0.0976978275844743, 0.32356654540019997, 0.6291571716115, 0.03595183837779999, 0.9572068522320434, 0.25812608982744994, 0.2903918510558812, 0.311902358541502, 0.1398182986565354, 0.010755253742810415, 0.7762949505528807, 0.02156374862646891, 0.08625499450587563, 0.10781874313234453, 0.9830264611021913, 0.9425979907682992, 0.9308401252724924, 0.6542717114357414, 0.05689319229876012, 0.1896439743292004, 0.0948219871646002, 0.13954904745655056, 0.2790980949131011, 0.24421083304896346, 0.3139853567772387, 0.01744363093206882, 0.18751010741545437, 0.3937712255724542, 0.2625141503816361, 0.12188156982004535, 0.028126516112318155, 0.9308604685440652, 0.9193768228297615, 0.49263628473381865, 0.6959525020335784, 0.9759253306850477, 0.7296596834834468, 0.06344866812899537, 0.12689733625799074, 0.06344866812899537, 0.107314796673996, 0.7818649471962567, 0.04599205571742686, 0.04599205571742686, 0.015330685239142286, 0.16267066823980744, 0.8133533411990372, 0.8185820933765924, 0.14883310788665316, 0.9110434127160679, 0.3321850652251443, 0.3321850652251443, 0.6959630294631596, 0.6949101417622843, 0.02779640567049137, 0.13898202835245685, 0.09728741984671979, 0.02779640567049137, 0.5698835535285582, 0.20895730296047135, 0.11397671070571164, 0.0949805922547597, 0.9572576958243465, 0.9110565158826278, 0.9110399354097489, 0.9521822108989191, 0.5197784664888918, 0.11409771215609821, 0.21551790073929664, 0.11409771215609821, 0.025355047145799604, 0.4566040804285285, 0.18859733756830524, 0.238228215875754, 0.10918793227638725, 0.00992617566148975, 0.9109998803139275, 0.6237851851657997, 0.9193929226639094, 0.9756149813404367, 0.9575240121877223, 0.24319218747652283, 0.060798046869130706, 0.6079804686913071, 0.060798046869130706, 0.4188690888693667, 0.01994614708901746, 0.4787075301364191, 0.07978458835606984, 0.2921523003387878, 0.2799792878246717, 0.304325312852904, 0.11564361888410352, 0.00608650625705808, 0.830325090378184, 0.14652795712556188, 0.5126291616913216, 0.05695879574348017, 0.17087638723044052, 0.24207488190979073, 0.014239698935870043, 0.2864843815864019, 0.02864843815864019, 0.5729687631728038, 0.05729687631728038, 0.02864843815864019, 0.9189576862494456, 0.953268602189134, 0.4567076860751779, 0.05893002400970038, 0.42724267407032773, 0.02946501200485019, 0.02946501200485019, 0.9295197966133082, 0.07150152281640833, 0.1117641998889591, 0.3352925996668773, 0.5588209994447955, 0.04362624232973461, 0.21813121164867305, 0.08725248465946922, 0.3490099386378769, 0.26175745397840766, 0.42580841794154445, 0.053226052242693056, 0.21290420897077222, 0.10645210448538611, 0.1862911828494257, 0.9303747624141914, 0.13083258227029573, 0.6890515999568908, 0.05233303290811829, 0.10466606581623658, 0.026166516454059145, 0.9422714614818374, 0.4780126466812942, 0.12392920469515034, 0.2390063233406471, 0.15048546284411113, 0.13201824419061622, 0.5186431021774208, 0.16030786794574825, 0.1885974917008803, 0.1902321400460927, 0.2797531471266069, 0.22380251770128554, 0.2965383359542033, 0.011190125885064277, 0.9574944019815186, 0.2669142793437684, 0.4293838406834535, 0.22049440467528691, 0.06962981200272218, 0.011604968667120364, 0.278078660088093, 0.41415970651418105, 0.10058164301058684, 0.17749701707750618, 0.029582836179584363, 0.5816411187813836, 0.11632822375627672, 0.19941981215361723, 0.06647327071787242, 0.03323663535893621, 0.27114757221676766, 0.444682018435499, 0.1626885433300606, 0.11930493177537778, 0.010845902888670707, 0.8552391933180651, 0.10690489916475814, 0.9423324227046839, 0.23208971100865933, 0.541542659020205, 0.11604485550432966, 0.09670404625360805, 0.009670404625360805, 0.8367514606784261, 0.9193941561642467, 0.176981452399008, 0.48846880862126213, 0.2760910657424525, 0.04955480667172224, 0.00707925809596032, 0.4933911735490718, 0.3351238629104661, 0.08378096572761652, 0.08378096572761652, 0.3351238629104661, 0.16756193145523304, 0.9274290708162988, 0.09242946623615532, 0.8318651961253979, 0.9804954339119712, 0.2508290658300235, 0.7524871974900705, 0.9625116270155724, 0.2274763779747855, 0.2274763779747855, 0.454952755949571, 0.0924297225173676, 0.8318675026563085, 0.9189702184407731, 0.9110500209171781, 0.28380995528844466, 0.5676199105768893, 0.8671173050020868, 0.8093185707205475, 0.20232964268013687, 0.9756582708940437, 0.4103478647221462, 0.2319357496255609, 0.17246504459336578, 0.1665179740901463, 0.01784121150965853, 0.3644627407256133, 0.21712673915568453, 0.31018105593669215, 0.06979073758575574, 0.03877263199208652, 0.49273390806557327, 0.20896736578121386, 0.7463120206471924, 0.029852480825887692, 0.13487328064414641, 0.20230992096621964, 0.5732114427376223, 0.06743664032207321, 0.033718320161036604, 0.30630670083464556, 0.15315335041732278, 0.37592186011524686, 0.11138425484896203, 0.055692127424481014, 0.10022615504340462, 0.15033923256510695, 0.7516961628255348, 0.24526356342807698, 0.35795222770584206, 0.2320060735130458, 0.08617368444770272, 0.07291619453267154, 0.7692591233734356, 0.43711843097447145, 0.18404986567346165, 0.20705609888264437, 0.14570614365815715, 0.030674977612243613, 0.25812025832419117, 0.09679509687157169, 0.613035613519954, 0.032265032290523896, 0.38600479849766817, 0.19300239924883408, 0.3136288987793554, 0.07237589971831279, 0.7117306998991509, 0.028469227995966035, 0.11387691198386414, 0.14234613997983017, 0.1414045494269081, 0.8012924467524793, 0.24547651327695422, 0.4786792008900607, 0.12273825663847711, 0.1104644309746294, 0.02454765132769542, 0.8542712256279417, 0.04881549860731096, 0.09763099721462191, 0.8571391962839797, 0.035714133178499155, 0.05357119976774873, 0.035714133178499155, 0.22720179235572385, 0.3976031366225168, 0.26128206120908243, 0.10224080656007574, 0.33753458039806206, 0.10385679396863448, 0.10385679396863448, 0.4673555728588552, 0.02596419849215862, 0.32608803760442123, 0.07672659708339323, 0.17263484343763477, 0.4028146346878145, 0.019181649270848308, 0.7692580408341042, 0.3735416456768593, 0.13254703556275654, 0.14459676606846167, 0.33739245415974395, 0.01204973050570514, 0.31469233959614457, 0.2763152250112489, 0.2149118416754158, 0.16885930417354097, 0.023026268750937405, 0.49341758800528973, 0.4925988073749832, 0.15244230200675724, 0.5169782415881332, 0.1855819328777914, 0.13918644965834356, 0.006627926174206836, 0.9068996264385742, 0.916812955772829, 0.0654866396980592, 0.9098857539349147, 0.08271688672135588, 0.9193867401342736, 0.955943155963365, 0.21933231832508213, 0.3005665102973348, 0.22745573752230738, 0.23557915671953264, 0.016246838394450527, 0.23684030367142359, 0.31193600971358226, 0.23684030367142359, 0.19640415426410737, 0.01732977831742124, 0.9571720012328168, 0.04826192515976991, 0.7078415690099588, 0.14478577547930974, 0.03217461677317994, 0.06434923354635988, 0.6063036454023435, 0.09327748390805285, 0.17100872049809687, 0.10882373122606165, 0.015546247318008808, 0.9059769121026469, 0.49344813066652166, 0.092430534766216, 0.831874812895944, 0.42504498337910057, 0.15456181213785475, 0.23184271820678215, 0.18354215191370252, 0.16243442939162392, 0.8121721469581196, 0.8793647565087326, 0.9575369890513743, 0.9408449635563447, 0.49343578309973224, 0.9667681916369332, 0.7692614681491586, 0.9038200636187612, 0.056488753976172576, 0.09825288447683853, 0.8842759602915468, 0.2598526059457241, 0.19488945445929312, 0.38977890891858624, 0.06496315148643103, 0.08661753531524138, 0.33315573883903965, 0.32306011038937177, 0.27258196814103247, 0.06057377069800721, 0.010095628449667868, 0.18785286842108093, 0.18785286842108093, 0.2817793026316214, 0.18785286842108093, 0.1643712598684458, 0.9194324309673827, 0.8189145995407324, 0.9148796481131938, 0.4934136761115627, 0.9705839696755686, 0.9830055140729504, 0.34134305326844444, 0.34134305326844444, 0.1145993491420165, 0.5729967457100825, 0.229198698284033, 0.10112625148755441, 0.05056312574377721, 0.1516893772313316, 0.7078837604128808, 0.3933190321221028, 0.0983297580305257, 0.2949892740915771, 0.0983297580305257, 0.14749463704578855, 0.979869723959873, 0.8912931115867866, 0.206985877404713, 0.3104788161070695, 0.1241915264428278, 0.3104788161070695, 0.0620957632214139, 0.19680026516139199, 0.30222897864070913, 0.3162861404379514, 0.17571452246552854, 0.014057161797242285, 0.12657510212772083, 0.759450612766325, 0.48876002409343966, 0.20946858175433128, 0.2234331538712867, 0.06982286058477709, 0.013964572116955419, 0.956484938270057, 0.10514204356028087, 0.10514204356028087, 0.7885653267021066, 0.7895183649698192], \"Term\": [\"135\", \"3\", \"3\", \"3\", \"3\", \"3\", \"acceptable\", \"across\", \"across\", \"across\", \"across\", \"across\", \"action\", \"action\", \"action\", \"action\", \"administrative\", \"admission\", \"advertising\", \"advertising\", \"advertising\", \"advisor\", \"advisory\", \"affirmative\", \"affirmative\", \"affirmative\", \"affirmative\", \"agency\", \"agency\", \"agency\", \"ai\", \"ai\", \"ai\", \"aim\", \"amaze\", \"amgen\", \"analysis\", \"analysis\", \"analysis\", \"analysis\", \"analysis\", \"analytics\", \"analytics\", \"analytics\", \"analytics\", \"analytics\", \"antonio\", \"apache\", \"apache\", \"appeal\", \"applicable\", \"applicable\", \"applicable\", \"applicable\", \"application\", \"application\", \"application\", \"application\", \"application\", \"apply\", \"apply\", \"apply\", \"apply\", \"articulate\", \"articulate\", \"assay\", \"assign\", \"assign\", \"assign\", \"asuragen\", \"attend\", \"availability\", \"availability\", \"availability\", \"avanade\", \"award\", \"away\", \"away\", \"b3\", \"believe\", \"believe\", \"benefit\", \"benefit\", \"benefit\", \"benefit\", \"benefit\", \"bitbucket\", \"black\", \"black\", \"blacklocus\", \"brand\", \"brand\", \"brand\", \"btw\", \"building\", \"building\", \"building\", \"building\", \"business\", \"business\", \"business\", \"business\", \"business\", \"caci\", \"capability\", \"capability\", \"capability\", \"capability\", \"capability\", \"career\", \"career\", \"career\", \"career\", \"cause\", \"centene\", \"challenge\", \"challenge\", \"challenge\", \"challenge\", \"challenge\", \"clarity\", \"client\", \"client\", \"client\", \"client\", \"client\", \"cognitivescale\", \"collaborative\", \"collaborative\", \"collaborative\", \"com\", \"com\", \"com\", \"com\", \"commerce\", \"commerce\", \"commerce\", \"communicating\", \"communicating\", \"communicating\", \"communication\", \"communication\", \"communication\", \"communication\", \"communication\", \"community\", \"community\", \"company\", \"company\", \"company\", \"company\", \"company\", \"compassionate\", \"complex\", \"complex\", \"complex\", \"complex\", \"complex\", \"comply\", \"conditions\", \"conditions\", \"conditions\", \"conditions\", \"constraint\", \"constraint\", \"consumer\", \"consumer\", \"consumer\", \"consumer\", \"control\", \"control\", \"control\", \"control\", \"control\", \"correct\", \"criminal\", \"criminal\", \"customer\", \"customer\", \"customer\", \"customer\", \"customer\", \"customize\", \"customize\", \"cwn\", \"cyber\", \"cyber\", \"data\", \"data\", \"data\", \"data\", \"data\", \"datasets\", \"datasets\", \"deem\", \"degree\", \"degree\", \"degree\", \"degree\", \"degree\", \"deliver\", \"deliver\", \"deliver\", \"deliver\", \"deliver\", \"deliverable\", \"deliverable\", \"deliverable\", \"deliverable\", \"dematic\", \"democracy\", \"design\", \"design\", \"design\", \"design\", \"design\", \"develop\", \"develop\", \"develop\", \"develop\", \"develop\", \"development\", \"development\", \"development\", \"development\", \"development\", \"diagnostic\", \"digital\", \"digital\", \"digital\", \"digital\", \"digital\", \"dinosaur\", \"director\", \"director\", \"director\", \"dismissal\", \"django\", \"document\", \"document\", \"document\", \"document\", \"document\", \"dol\", \"drive\", \"drive\", \"drive\", \"drive\", \"drive\", \"eager\", \"eager\", \"ebay\", \"ecommerce\", \"employment\", \"employment\", \"employment\", \"employment\", \"employment\", \"energize\", \"engagement\", \"engagement\", \"engagement\", \"engineer\", \"engineer\", \"engineer\", \"engineer\", \"engineer\", \"engineering\", \"engineering\", \"engineering\", \"engineering\", \"engineering\", \"enthusiastic\", \"environment\", \"environment\", \"environment\", \"environment\", \"environment\", \"eoe\", \"equal\", \"equal\", \"equal\", \"equal\", \"ethics\", \"ethnicity\", \"europe\", \"every\", \"every\", \"every\", \"example\", \"exceed\", \"exceed\", \"executive\", \"executive\", \"facilitation\", \"factory\", \"federal\", \"federal\", \"federal\", \"federal\", \"field\", \"field\", \"field\", \"field\", \"field\", \"finalist\", \"financial\", \"financial\", \"financial\", \"fluency\", \"food\", \"food\", \"food\", \"footprint\", \"forklift\", \"forward\", \"forward\", \"francisco\", \"frequently\", \"front\", \"front\", \"front\", \"fulfil\", \"function\", \"function\", \"function\", \"function\", \"ga\", \"game\", \"game\", \"game\", \"game\", \"ge\", \"github\", \"government\", \"government\", \"government\", \"government\", \"government\", \"graphic\", \"groundwater\", \"happy\", \"happy\", \"happy\", \"happy\", \"health\", \"health\", \"health\", \"health\", \"help\", \"help\", \"help\", \"help\", \"help\", \"homeaway\", \"hubzone\", \"icf\", \"icfi\", \"identify\", \"identify\", \"identify\", \"identify\", \"incidental\", \"industry\", \"industry\", \"industry\", \"industry\", \"informatics\", \"informatics\", \"information\", \"information\", \"information\", \"information\", \"information\", \"insight\", \"insight\", \"insight\", \"insight\", \"instructor\", \"integrate\", \"integrate\", \"integrate\", \"integrate\", \"intellectual\", \"interview\", \"interview\", \"iot\", \"iot\", \"iot\", \"issue\", \"issue\", \"issue\", \"issue\", \"issue\", \"journey\", \"journey\", \"keeping\", \"keyboard\", \"kion\", \"kla\", \"knime\", \"large\", \"large\", \"large\", \"large\", \"large\", \"later\", \"leading\", \"leading\", \"leading\", \"leading\", \"leading\", \"learning\", \"learning\", \"learning\", \"learning\", \"least\", \"least\", \"least\", \"length\", \"level\", \"level\", \"level\", \"level\", \"level\", \"like\", \"like\", \"like\", \"like\", \"linear\", \"look\", \"mach\", \"machine\", \"machine\", \"machine\", \"machine\", \"manage\", \"manage\", \"manage\", \"manage\", \"manage\", \"management\", \"management\", \"management\", \"management\", \"management\", \"manual\", \"marginal\", \"marks\", \"markup\", \"mathematical\", \"mathematics\", \"mathematics\", \"mathematics\", \"mathematics\", \"may\", \"may\", \"may\", \"may\", \"may\", \"mba\", \"mba\", \"means\", \"means\", \"medicine\", \"mix\", \"mix\", \"mockups\", \"model\", \"model\", \"model\", \"model\", \"model\", \"modeling\", \"modeling\", \"modeling\", \"modeling\", \"molecular\", \"mutual\", \"namru\", \"natera\", \"need\", \"need\", \"need\", \"need\", \"need\", \"new\", \"new\", \"new\", \"new\", \"new\", \"nlp\", \"nokia\", \"nondiscrimination\", \"numbers\", \"ofccp\", \"offering\", \"offering\", \"offering\", \"offering\", \"open\", \"open\", \"open\", \"open\", \"opportunity\", \"opportunity\", \"opportunity\", \"opportunity\", \"opportunity\", \"optimization\", \"optimization\", \"organization\", \"organization\", \"organization\", \"organization\", \"organization\", \"package\", \"package\", \"package\", \"package\", \"package\", \"pathpoint\", \"pdf\", \"people\", \"people\", \"people\", \"people\", \"people\", \"perk\", \"perk\", \"permit\", \"permit\", \"permit\", \"planning\", \"planning\", \"planning\", \"planning\", \"planning\", \"platform\", \"platform\", \"platform\", \"platform\", \"platform\", \"play\", \"position\", \"position\", \"position\", \"position\", \"position\", \"pro\", \"problem\", \"problem\", \"problem\", \"problem\", \"process\", \"process\", \"process\", \"process\", \"product\", \"product\", \"product\", \"product\", \"product\", \"productization\", \"program\", \"program\", \"program\", \"program\", \"program\", \"project\", \"project\", \"project\", \"project\", \"project\", \"python\", \"python\", \"python\", \"python\", \"python\", \"qualification\", \"qualification\", \"qualification\", \"qualification\", \"qualification\", \"question\", \"question\", \"recharge\", \"relate\", \"relate\", \"relate\", \"relate\", \"relate\", \"rental\", \"repetitive\", \"research\", \"research\", \"research\", \"research\", \"research\", \"resiliency\", \"resource\", \"resource\", \"resource\", \"resource\", \"resource\", \"retail\", \"retailer\", \"retailer\", \"retailmenot\", \"retention\", \"retention\", \"retirement\", \"reuse\", \"reuse\", \"reuse\", \"rigor\", \"rigor\", \"road\", \"sa\", \"satisfaction\", \"satisfaction\", \"savings\", \"scalability\", \"scalability\", \"schwab\", \"science\", \"science\", \"science\", \"science\", \"science\", \"scientist\", \"scientist\", \"scientist\", \"scientist\", \"scientist\", \"secret\", \"security\", \"security\", \"security\", \"seeking\", \"seeking\", \"seeking\", \"seeking\", \"seeking\", \"services\", \"services\", \"services\", \"services\", \"services\", \"smart\", \"smart\", \"smart\", \"software\", \"software\", \"software\", \"software\", \"software\", \"sole\", \"solution\", \"solution\", \"solution\", \"solution\", \"solution\", \"solve\", \"solve\", \"solve\", \"solve\", \"source\", \"source\", \"source\", \"source\", \"sql\", \"sql\", \"sql\", \"sql\", \"stakeholder\", \"stakeholder\", \"state\", \"state\", \"state\", \"state\", \"state\", \"statistical\", \"statistical\", \"statistical\", \"statistics\", \"statistics\", \"statistics\", \"statistics\", \"status\", \"status\", \"status\", \"status\", \"strategic\", \"strategic\", \"strategic\", \"strategic\", \"strategic\", \"strategy\", \"strategy\", \"strategy\", \"strategy\", \"strategy\", \"strict\", \"strong\", \"strong\", \"strong\", \"strong\", \"strong\", \"support\", \"support\", \"support\", \"support\", \"support\", \"surface\", \"surprise\", \"system\", \"system\", \"system\", \"system\", \"system\", \"tableau\", \"tackle\", \"tackle\", \"teach\", \"teach\", \"teacher\", \"teaching\", \"technical\", \"technical\", \"technical\", \"technical\", \"technical\", \"technology\", \"technology\", \"technology\", \"technology\", \"technology\", \"tencor\", \"texas\", \"texas\", \"texas\", \"texas\", \"texas\", \"time\", \"time\", \"time\", \"time\", \"time\", \"tobacco\", \"tomcat\", \"tomorrow\", \"tomorrow\", \"tool\", \"tool\", \"tool\", \"tool\", \"towards\", \"towards\", \"translate\", \"transp_formattedesqa508c\", \"trs\", \"truck\", \"try\", \"typical\", \"unique\", \"unique\", \"university\", \"university\", \"us\", \"us\", \"us\", \"us\", \"us\", \"use\", \"use\", \"use\", \"use\", \"use\", \"user\", \"user\", \"user\", \"user\", \"user\", \"ut\", \"utilization\", \"valassis\", \"veatch\", \"verification\", \"volunteer\", \"vulnerability\", \"vulnerability\", \"want\", \"want\", \"want\", \"water\", \"water\", \"water\", \"water\", \"web\", \"web\", \"web\", \"web\", \"web\", \"weekend\", \"winning\", \"within\", \"within\", \"within\", \"within\", \"within\", \"working\", \"working\", \"working\", \"working\", \"working\", \"workshop\", \"workshop\", \"world\", \"world\", \"world\", \"world\", \"world\", \"wunderman\", \"www\", \"www\", \"www\", \"zynga\"]}, \"R\": 30, \"lambda.step\": 0.01, \"plot.opts\": {\"xlab\": \"PC1\", \"ylab\": \"PC2\"}, \"topic.order\": [5, 1, 4, 3, 2]};\n",
       "\n",
       "function LDAvis_load_lib(url, callback){\n",
       "  var s = document.createElement('script');\n",
       "  s.src = url;\n",
       "  s.async = true;\n",
       "  s.onreadystatechange = s.onload = callback;\n",
       "  s.onerror = function(){console.warn(\"failed to load library \" + url);};\n",
       "  document.getElementsByTagName(\"head\")[0].appendChild(s);\n",
       "}\n",
       "\n",
       "if(typeof(LDAvis) !== \"undefined\"){\n",
       "   // already loaded: just create the visualization\n",
       "   !function(LDAvis){\n",
       "       new LDAvis(\"#\" + \"ldavis_el794349907993282589167502\", ldavis_el794349907993282589167502_data);\n",
       "   }(LDAvis);\n",
       "}else if(typeof define === \"function\" && define.amd){\n",
       "   // require.js is available: use it to load d3/LDAvis\n",
       "   require.config({paths: {d3: \"https://cdnjs.cloudflare.com/ajax/libs/d3/3.5.5/d3.min\"}});\n",
       "   require([\"d3\"], function(d3){\n",
       "      window.d3 = d3;\n",
       "      LDAvis_load_lib(\"https://cdn.rawgit.com/bmabey/pyLDAvis/files/ldavis.v1.0.0.js\", function(){\n",
       "        new LDAvis(\"#\" + \"ldavis_el794349907993282589167502\", ldavis_el794349907993282589167502_data);\n",
       "      });\n",
       "    });\n",
       "}else{\n",
       "    // require.js not available: dynamically load d3 & LDAvis\n",
       "    LDAvis_load_lib(\"https://cdnjs.cloudflare.com/ajax/libs/d3/3.5.5/d3.min.js\", function(){\n",
       "         LDAvis_load_lib(\"https://cdn.rawgit.com/bmabey/pyLDAvis/files/ldavis.v1.0.0.js\", function(){\n",
       "                 new LDAvis(\"#\" + \"ldavis_el794349907993282589167502\", ldavis_el794349907993282589167502_data);\n",
       "            })\n",
       "         });\n",
       "}\n",
       "</script>"
      ],
      "text/plain": [
       "<IPython.core.display.HTML object>"
      ]
     },
     "execution_count": 83,
     "metadata": {},
     "output_type": "execute_result"
    }
   ],
   "source": [
    "lda_display = pyLDAvis.gensim.prepare(lda, corpus, dictionary)\n",
    "pyLDAvis.display(lda_display)"
   ]
  },
  {
   "cell_type": "markdown",
   "metadata": {},
   "source": [
    "# ------------------THIS IS WHERE EDDIE IS UP TO --------------------------------"
   ]
  },
  {
   "cell_type": "markdown",
   "metadata": {},
   "source": [
    "### MacOS online advice for clicking links\n",
    "element.send_keys(Keys.CONTROL + Keys.RETURN)  \n",
    "driver.switch_to.window(self.driver.window_handles[1])  \n",
    "#### do stuff  \n",
    "driver.close()  \n",
    "driver.switch_to.window(self.driver.window_handles[0])  "
   ]
  },
  {
   "cell_type": "markdown",
   "metadata": {},
   "source": [
    "## Using SpaCy for NLP - this is a Work in Progress (Eddie has not started this part yet)\n",
    "Objective: Setup for topic modeling and use LDA to determine feature importance"
   ]
  },
  {
   "cell_type": "code",
   "execution_count": 324,
   "metadata": {},
   "outputs": [],
   "source": [
    "parser = spacy.lang.en.English()\n",
    "nlp = spacy.load('en')"
   ]
  },
  {
   "cell_type": "code",
   "execution_count": 325,
   "metadata": {},
   "outputs": [],
   "source": [
    "def sent_to_words(sentences):\n",
    "    for sentence in sentences:\n",
    "        yield(simple_preprocess(str(pos_description),deacc=True))"
   ]
  },
  {
   "cell_type": "code",
   "execution_count": 326,
   "metadata": {},
   "outputs": [],
   "source": [
    "data_words = list(sent_to_words(pos_description))"
   ]
  },
  {
   "cell_type": "code",
   "execution_count": 328,
   "metadata": {},
   "outputs": [],
   "source": [
    "#Building bigram and trigram models\n",
    "bigram = gensim.models.Phrases(data_words, min_count=5, threshold=100)\n",
    "\n",
    "trigram = gensim.models.Phrases(bigram[data_words], threshold=100)"
   ]
  },
  {
   "cell_type": "code",
   "execution_count": 329,
   "metadata": {},
   "outputs": [],
   "source": [
    "bigram_mod = gensim.models.phrases.Phraser(bigram)\n",
    "trigram_mod = gensim.models.phrases.Phraser(trigram)"
   ]
  },
  {
   "cell_type": "code",
   "execution_count": 331,
   "metadata": {},
   "outputs": [],
   "source": [
    "def remove_stopwords(text):\n",
    "    return [[word for word in simple_preprocess(str(doc)) if word not in STOP_WORDS] for doc in text]\n",
    "\n",
    "def make_bigrams(text):\n",
    "    return [bigram_mod[doc] for doc in text]\n",
    "\n",
    "def make_trigrams(text):\n",
    "    return [trigram_mod[bigram_mod[doc]] for doc in text]\n",
    "\n",
    "def lemmatization(text, allowed_postags = ['NOUN','ADJ','VERB','ADV']):\n",
    "    text_rem = []\n",
    "    for sent in text:\n",
    "        doc = nlp(\" \".join(sent))\n",
    "        text_rem.append([token.lemma_ for token in doc if token.pos_ in allowed_postags])\n",
    "        return text_rem "
   ]
  },
  {
   "cell_type": "code",
   "execution_count": 332,
   "metadata": {},
   "outputs": [],
   "source": [
    "words_no_stops = remove_stopwords(data_words)\n",
    "\n",
    "word_bigrams = make_bigrams(words_no_stops)\n",
    "\n",
    "data_lemma =  lemmatization(word_bigrams, allowed_postags=['NOUN', 'ADJ', 'VERB', 'ADV'])"
   ]
  },
  {
   "cell_type": "code",
   "execution_count": 335,
   "metadata": {},
   "outputs": [],
   "source": [
    "id2word = corpora.Dictionary(data_lemma)"
   ]
  },
  {
   "cell_type": "code",
   "execution_count": 336,
   "metadata": {},
   "outputs": [],
   "source": [
    "texts = data_lemma"
   ]
  },
  {
   "cell_type": "code",
   "execution_count": 337,
   "metadata": {},
   "outputs": [],
   "source": [
    "corpus = [id2word.doc2bow(text) for text in texts]"
   ]
  },
  {
   "cell_type": "code",
   "execution_count": 338,
   "metadata": {},
   "outputs": [],
   "source": [
    "lda_model = gensim.models.ldamodel.LdaModel(corpus=corpus, id2word=id2word,num_topics=20,\n",
    "                               random_state=42,\n",
    "                               update_every=1,\n",
    "                               chunksize=100,\n",
    "                               passes=10,\n",
    "                               alpha='auto',\n",
    "                               per_word_topics=True)"
   ]
  },
  {
   "cell_type": "code",
   "execution_count": 339,
   "metadata": {},
   "outputs": [],
   "source": [
    "doc_lda = lda_model[corpus]"
   ]
  },
  {
   "cell_type": "code",
   "execution_count": 340,
   "metadata": {},
   "outputs": [
    {
     "name": "stdout",
     "output_type": "stream",
     "text": [
      "\n",
      "Perplexity:  -7.106306833828683\n",
      "\n",
      "Coherence Score:  0.26450302724652314\n"
     ]
    }
   ],
   "source": [
    "# Compute Perplexity\n",
    "print('\\nPerplexity: ', lda_model.log_perplexity(corpus))  # a measure of how good the model is. lower the better.\n",
    "\n",
    "# Compute Coherence Score\n",
    "coherence_model_lda = coherencemodel.CoherenceModel(model=lda_model, texts=data_lemma, dictionary=id2word, coherence='c_v')\n",
    "coherence_lda = coherence_model_lda.get_coherence()\n",
    "print('\\nCoherence Score: ', coherence_lda)"
   ]
  },
  {
   "cell_type": "code",
   "execution_count": 341,
   "metadata": {},
   "outputs": [
    {
     "data": {
      "text/html": [
       "\n",
       "<link rel=\"stylesheet\" type=\"text/css\" href=\"https://cdn.rawgit.com/bmabey/pyLDAvis/files/ldavis.v1.0.0.css\">\n",
       "\n",
       "\n",
       "<div id=\"ldavis_el1383620673395859603401407628\"></div>\n",
       "<script type=\"text/javascript\">\n",
       "\n",
       "var ldavis_el1383620673395859603401407628_data = {\"R\": 30, \"mdsDat\": {\"x\": [-0.07361859543290578, -0.0006713269862007525, 0.0006600289372657582, 0.0017506216869984238, 0.002052958738838514, 0.0027004854206751573, 0.003185597017653677, 0.0034567941063659785, 0.003545003871594676, 0.00382686289336779, 0.0037663251329314667, 0.003931300055992733, 0.004524298534777842, 0.005380850658488665, 0.005500162557955127, 0.00558091639045895, 0.005718988078738252, 0.006167102438417293, 0.006235027000736077, 0.006306598897850139], \"y\": [0.0, -0.0, 0.0, -0.0, 0.0, -0.0, -0.0, -0.0, 0.0, 0.0, -0.0, -0.0, 0.0, -0.0, 0.0, -0.0, -0.0, 0.0, -0.0, 0.0], \"topics\": [1, 2, 3, 4, 5, 6, 7, 8, 9, 10, 11, 12, 13, 14, 15, 16, 17, 18, 19, 20], \"Freq\": [99.96126556396484, 0.002045335015282035, 0.002044215565547347, 0.002043083542957902, 0.0020426169503480196, 0.0020418507046997547, 0.0020410993602126837, 0.002040733816102147, 0.0020404790993779898, 0.0020400064531713724, 0.0020400015637278557, 0.002039699349552393, 0.0020386194810271263, 0.002036116551607847, 0.0020355316810309887, 0.0020353528670966625, 0.00203486206009984, 0.002032374031841755, 0.0020320448093116283, 0.0020314352586865425], \"cluster\": [1, 1, 1, 1, 1, 1, 1, 1, 1, 1, 1, 1, 1, 1, 1, 1, 1, 1, 1, 1]}, \"tinfo\": {\"loglift\": [30.0, 29.0, 28.0, 27.0, 26.0, 25.0, 24.0, 23.0, 22.0, 21.0, 20.0, 19.0, 18.0, 17.0, 16.0, 15.0, 14.0, 13.0, 12.0, 11.0, 10.0, 9.0, 8.0, 7.0, 6.0, 5.0, 4.0, 3.0, 2.0, 1.0, 0.00039999998989515007, 0.0003000000142492354, 0.0003000000142492354, 0.0003000000142492354, 0.0003000000142492354, 0.0003000000142492354, 0.0003000000142492354, 0.0003000000142492354, 0.0003000000142492354, 0.0003000000142492354, 0.0003000000142492354, 0.0003000000142492354, 0.0003000000142492354, 0.0003000000142492354, 0.0003000000142492354, 0.0003000000142492354, 0.0003000000142492354, 0.0003000000142492354, 0.0003000000142492354, 0.0003000000142492354, 0.0003000000142492354, 0.0003000000142492354, 0.0003000000142492354, 0.0003000000142492354, 0.00019999999494757503, 0.00019999999494757503, 0.00019999999494757503, 0.00019999999494757503, 0.00019999999494757503, 0.00019999999494757503, 0.6764000058174133, 0.6762999892234802, 0.6761000156402588, 0.6754999756813049, 0.6754999756813049, 0.6754999756813049, 0.6751999855041504, 0.6751999855041504, 0.6748999953269958, 0.6748999953269958, 0.6747999787330627, 0.6747000217437744, 0.6746000051498413, 0.6744999885559082, 0.6743999719619751, 0.6739000082015991, 0.6736000180244446, 0.67330002784729, 0.6732000112533569, 0.6729999780654907, 0.6728000044822693, 0.6725999712944031, 0.6725000143051147, 0.6725000143051147, 0.6723999977111816, 0.6723999977111816, 0.6723999977111816, 0.6723999977111816, 0.6722999811172485, 0.6722999811172485, 0.6722999811172485, 0.6722999811172485, -1.8219000101089478, -2.150700092315674, -1.7359000444412231, -1.792099952697754, -1.9528000354766846, -1.2611000537872314, -2.0020999908447266, -1.7173999547958374, -1.2009999752044678, -1.40910005569458, -1.5851000547409058, -1.6593999862670898, -1.2122999429702759, -1.4221999645233154, -1.5936000347137451, -1.7458000183105469, -1.3323999643325806, -1.527400016784668, -1.530900001525879, -1.5437999963760376, -1.11899995803833, -1.1225999593734741, -0.9790999889373779, -1.3640999794006348, -1.2539000511169434, -0.8126000165939331, -0.6036999821662903, -0.9889000058174133, -0.9926999807357788, -0.8198000192642212, -0.9998000264167786, 0.6807000041007996, 0.6784999966621399, 0.6783000230789185, 0.6780999898910522, 0.6779999732971191, 0.6779999732971191, 0.6777999997138977, 0.6776000261306763, 0.6775000095367432, 0.677299976348877, 0.6771000027656555, 0.6769000291824341, 0.676800012588501, 0.6766999959945679, 0.6766999959945679, 0.6765999794006348, 0.6765999794006348, 0.6761999726295471, 0.6761999726295471, 0.6761000156402588, 0.6761000156402588, 0.6759999990463257, 0.6759999990463257, 0.6758999824523926, 0.6758000254631042, 0.6758000254631042, 0.6758000254631042, 0.6757000088691711, 0.675599992275238, 0.675599992275238, 0.6754000186920166, 0.6754999756813049, -2.1572000980377197, -1.5331000089645386, -2.0322000980377197, -1.830299973487854, -1.6449999809265137, -1.4915000200271606, -2.0541000366210938, -1.5012999773025513, -1.7279000282287598, -1.728700041770935, -1.9213000535964966, -1.3324999809265137, -1.523900032043457, -1.2302000522613525, -1.6117000579833984, -1.4471999406814575, -1.2371000051498413, -1.3515000343322754, -0.9728999733924866, -2.0144999027252197, -1.3681000471115112, -1.2646000385284424, -0.8192999958992004, -0.9940000176429749, -1.4833999872207642, -0.3411000072956085, -0.6141999959945679, -0.829200029373169, -0.8295999765396118, -1.007699966430664, -0.8353999853134155, -1.1644999980926514, -1.1656999588012695, 0.6807000041007996, 0.6804999709129333, 0.6801999807357788, 0.6801000237464905, 0.6797999739646912, 0.6794999837875366, 0.6794000267982483, 0.6790000200271606, 0.6789000034332275, 0.6786999702453613, 0.6786999702453613, 0.678600013256073, 0.678600013256073, 0.6784999966621399, 0.6783999800682068, 0.6783999800682068, 0.6783999800682068, 0.6783000230789185, 0.6783000230789185, 0.6783000230789185, 0.6783000230789185, 0.6782000064849854, 0.6782000064849854, 0.6780999898910522, 0.6779999732971191, 0.6779999732971191, 0.6779999732971191, 0.6777999997138977, 0.6777999997138977, 0.6777999997138977, 0.6776000261306763, 0.6776999831199646, -2.2815001010894775, -1.948799967765808, -2.0518999099731445, -2.0671000480651855, -1.865399956703186, -1.92330002784729, -1.7415000200271606, -1.743399977684021, -1.531499981880188, -1.4426000118255615, -1.5369999408721924, -1.3514000177383423, -1.544600009918213, -1.7107000350952148, -1.6397000551223755, -1.6405999660491943, -1.3767999410629272, -1.2687000036239624, -0.6122999787330627, 0.040800001472234726, -0.8281000256538391, -1.4896999597549438, -1.3909000158309937, -0.8288999795913696, -1.281599998474121, -0.8323000073432922, -0.6189000010490417, -1.0094000101089478, -1.1613999605178833, -0.6241999864578247, -1.2907999753952026, -1.1651999950408936, -1.0174000263214111, 0.6819000244140625, 0.6811000108718872, 0.6809999942779541, 0.680400013923645, 0.6801999807357788, 0.6801000237464905, 0.6800000071525574, 0.6798999905586243, 0.6797999739646912, 0.6797999739646912, 0.6794000267982483, 0.6793000102043152, 0.6791999936103821, 0.6791999936103821, 0.6791999936103821, 0.6790000200271606, 0.6790000200271606, 0.6789000034332275, 0.6787999868392944, 0.6787999868392944, 0.678600013256073, 0.678600013256073, 0.678600013256073, 0.6784999966621399, 0.6784999966621399, 0.6783999800682068, 0.6783999800682068, 0.6783999800682068, 0.6783000230789185, 0.6782000064849854, 0.6782000064849854, -2.24180006980896, -1.9708000421524048, -1.5938999652862549, -1.7451000213623047, -2.0859999656677246, -2.087100028991699, -1.9351999759674072, -1.6287000179290771, -1.246500015258789, -1.5556000471115112, -1.4656000137329102, -1.9138000011444092, -1.7877999544143677, -1.559000015258789, -1.3809000253677368, -1.5733000040054321, -0.8223999738693237, -0.9955999851226807, -1.1435999870300293, -1.38510000705719, -0.8251000046730042, -1.7416000366210938, -1.2759000062942505, -1.3895000219345093, -1.49399995803833, -1.0038000345230103, -0.8296999931335449, -1.2853000164031982, -1.0116000175476074, -0.8381999731063843, -1.0144000053405762, -1.1658999919891357, 0.6815000176429749, 0.6812999844551086, 0.6812000274658203, 0.6811000108718872, 0.6809999942779541, 0.6809999942779541, 0.6808000206947327, 0.6805999875068665, 0.680400013923645, 0.680400013923645, 0.680400013923645, 0.6802999973297119, 0.6802999973297119, 0.6802999973297119, 0.6801999807357788, 0.6801000237464905, 0.6801000237464905, 0.6801000237464905, 0.6801000237464905, 0.6801000237464905, 0.6798999905586243, 0.6798999905586243, 0.6798999905586243, 0.6797999739646912, 0.6797999739646912, 0.6797999739646912, 0.6797000169754028, 0.6797000169754028, 0.6796000003814697, 0.6796000003814697, 0.6796000003814697, 0.6796000003814697, 0.6794999837875366, -2.065700054168701, -2.3169000148773193, -2.075200080871582, -1.8767000436782837, -1.7029000520706177, -1.777400016784668, -1.9638999700546265, -1.7817000150680542, -2.029599905014038, -1.472100019454956, -1.6536999940872192, -1.5744999647140503, -1.2705999612808228, -1.5816999673843384, -1.1475000381469727, -1.392300009727478, -1.3947999477386475, -1.0047999620437622, -1.2839000225067139, -0.8321999907493591, -1.676300048828125, -0.838100016117096, -0.3497999906539917, -1.1638000011444092, -1.0155999660491943, -0.8411999940872192, -1.5115000009536743, -1.6045000553131104, -1.4098999500274658, -1.0174000263214111, -0.8460000157356262, -1.3080999851226807, 0.6827999949455261, 0.6827999949455261, 0.6825000047683716, 0.6822999715805054, 0.6822999715805054, 0.682200014591217, 0.6819999814033508, 0.6816999912261963, 0.6815000176429749, 0.6815000176429749, 0.6814000010490417, 0.6814000010490417, 0.6812999844551086, 0.6812999844551086, 0.6812000274658203, 0.6812000274658203, 0.6811000108718872, 0.6809999942779541, 0.6809999942779541, 0.6809999942779541, 0.680899977684021, 0.680899977684021, 0.680899977684021, 0.680899977684021, 0.6808000206947327, 0.6808000206947327, 0.6808000206947327, 0.6808000206947327, 0.6807000041007996, 0.6807000041007996, 0.6805999875068665, 0.6804999709129333, -2.084399938583374, -2.3341000080108643, -2.09060001373291, -1.5426000356674194, -2.0097999572753906, -1.784600019454956, -1.9187999963760376, -1.5742000341415405, -1.4837000370025635, -1.6605000495910645, -1.7395000457763672, -2.007999897003174, -1.3948999643325806, -1.5898000001907349, -1.4996999502182007, -1.8264000415802002, -1.0103000402450562, -1.289199948310852, -1.0125000476837158, -1.291100025177002, -1.684499979019165, -1.4107999801635742, -1.2963999509811401, -1.169600009918213, -1.0223000049591064, -1.023300051689148, -0.8479999899864197, -0.6320000290870667, -1.1754000186920166, -0.8495000004768372, -1.4220000505447388, 0.6837999820709229, 0.6834999918937683, 0.6832000017166138, 0.6829000115394592, 0.6827999949455261, 0.682699978351593, 0.682699978351593, 0.6826000213623047, 0.6825000047683716, 0.6823999881744385, 0.6822999715805054, 0.682200014591217, 0.682200014591217, 0.6819999814033508, 0.6819000244140625, 0.6819000244140625, 0.6818000078201294, 0.6816999912261963, 0.6815999746322632, 0.6815999746322632, 0.6815999746322632, 0.6815000176429749, 0.6814000010490417, 0.6812999844551086, 0.6812999844551086, 0.6812999844551086, 0.6812999844551086, 0.6812000274658203, 0.6812000274658203, 0.6811000108718872, 0.6809999942779541, -1.9872000217437744, -2.0882999897003174, -2.337599992752075, -2.095599889755249, -1.9083000421524048, -1.5729000568389893, -1.6569000482559204, -1.5771000385284424, -1.3896000385284424, -1.8228000402450562, -1.284000039100647, -2.014899969100952, -1.1606999635696411, -1.6820000410079956, -1.598099946975708, -1.162600040435791, -1.76419997215271, -1.510599970817566, -1.2934000492095947, -1.8432999849319458, -1.4147000312805176, -1.5189000368118286, -1.416599988937378, -0.6284999847412109, -0.8478000164031982, -1.0255000591278076, -1.0259000062942505, -0.6331999897956848, -0.8508999943733215, -0.8515999913215637, -1.3098000288009644, 0.6827999949455261, 0.682699978351593, 0.6826000213623047, 0.6825000047683716, 0.6822999715805054, 0.6822999715805054, 0.6822999715805054, 0.6819999814033508, 0.6819000244140625, 0.6819000244140625, 0.6819000244140625, 0.6819000244140625, 0.6819000244140625, 0.6818000078201294, 0.6816999912261963, 0.6815999746322632, 0.6815999746322632, 0.6815000176429749, 0.6815000176429749, 0.6815000176429749, 0.6815000176429749, 0.6815000176429749, 0.6814000010490417, 0.6814000010490417, 0.6814000010490417, 0.6812999844551086, 0.6812999844551086, 0.6812999844551086, 0.6812999844551086, 0.6812000274658203, 0.6811000108718872, 0.680899977684021, -2.1017000675201416, -2.359600067138672, -2.019700050354004, -1.7821999788284302, -1.7157000303268433, -1.9747999906539917, -1.7896000146865845, -1.5642999410629272, -2.1570000648498535, -1.5806000232696533, -1.944700002670288, -1.3939000368118286, -1.67330002784729, -1.594499945640564, -1.6800999641418457, -1.5068000555038452, -1.0149999856948853, -1.4056999683380127, -1.169700026512146, -1.5182000398635864, -1.302899956703186, -1.0242999792099, -1.3042000532150269, -0.8481000065803528, -1.1761000156402588, -1.308899998664856, -0.6359000205993652, -0.6363999843597412, -0.8529000282287598, 0.029999999329447746, -0.8540999889373779, -0.854200005531311, -1.4336999654769897, 0.6841999888420105, 0.6829000115394592, 0.6827999949455261, 0.6827999949455261, 0.682699978351593, 0.6826000213623047, 0.6826000213623047, 0.6825000047683716, 0.6825000047683716, 0.6822999715805054, 0.6822999715805054, 0.6822999715805054, 0.6822999715805054, 0.6822999715805054, 0.6822999715805054, 0.682200014591217, 0.682200014591217, 0.6820999979972839, 0.6820999979972839, 0.6820999979972839, 0.6819999814033508, 0.6819000244140625, 0.6819000244140625, 0.6819000244140625, 0.6819000244140625, 0.6818000078201294, 0.6818000078201294, 0.6818000078201294, 0.6816999912261963, 0.6816999912261963, 0.6816999912261963, 0.6815999746322632, 0.6815999746322632, -2.343899965286255, -2.1180999279022217, -1.7853000164031982, -1.7339999675750732, -2.148099899291992, -1.998900055885315, -1.8111000061035156, -1.6679999828338623, -1.4926999807357788, -2.0624001026153564, -1.6708999872207642, -1.4036999940872192, -1.9630999565124512, -1.406599998474121, -1.5133999586105347, -1.1668000221252441, -1.297700047492981, -1.608199954032898, -1.4128999710083008, -1.1684000492095947, -1.0197999477386475, -0.8442000150680542, -1.301200032234192, -1.0214999914169312, -1.6129000186920166, -1.0257999897003174, -0.8504999876022339, -0.35910001397132874, -0.6377999782562256, -1.6230000257492065, -0.8547999858856201, -1.0334999561309814, -1.3176000118255615, 0.6833999752998352, 0.6832000017166138, 0.6832000017166138, 0.6830999851226807, 0.6829000115394592, 0.6829000115394592, 0.682699978351593, 0.6826000213623047, 0.6826000213623047, 0.6823999881744385, 0.6822999715805054, 0.6822999715805054, 0.6822999715805054, 0.682200014591217, 0.682200014591217, 0.682200014591217, 0.682200014591217, 0.682200014591217, 0.6820999979972839, 0.6820999979972839, 0.6819999814033508, 0.6819999814033508, 0.6819999814033508, 0.6819999814033508, 0.6819000244140625, 0.6819000244140625, 0.6819000244140625, 0.6819000244140625, 0.6819000244140625, 0.6818000078201294, 0.6818000078201294, -2.329900026321411, -2.101799964904785, -1.9693000316619873, -2.036099910736084, -2.1384999752044678, -1.8015999794006348, -1.805799961090088, -1.385699987411499, -1.7503000497817993, -1.6734999418258667, -1.4021999835968018, -1.507200002670288, -1.9677000045776367, -1.6045000553131104, -1.1649999618530273, -1.6912000179290771, -1.6065000295639038, -1.611299991607666, -1.5190000534057617, -1.1717000007629395, -1.3016999959945679, -1.0227999687194824, -0.8461999893188477, -0.6349999904632568, -0.8528000116348267, -1.3097000122070312, -0.8535000085830688, -0.6373999714851379, -0.8543000221252441, -1.427299976348877, -1.311900019645691, -1.035599946975708, 0.6840000152587891, 0.6840000152587891, 0.6833999752998352, 0.6833000183105469, 0.6833000183105469, 0.6832000017166138, 0.6832000017166138, 0.6829000115394592, 0.6829000115394592, 0.6829000115394592, 0.6827999949455261, 0.682699978351593, 0.682699978351593, 0.682699978351593, 0.6826000213623047, 0.6826000213623047, 0.6826000213623047, 0.6825000047683716, 0.6825000047683716, 0.6823999881744385, 0.6822999715805054, 0.6822999715805054, 0.6822999715805054, 0.6822999715805054, 0.682200014591217, 0.682200014591217, 0.682200014591217, 0.682200014591217, 0.682200014591217, 0.682200014591217, 0.6820999979972839, 0.6820999979972839, -2.0732998847961426, -2.3359999656677246, -1.9900000095367432, -2.1456000804901123, -1.805799961090088, -1.4886000156402588, -1.9503999948501587, -1.6779999732971191, -1.7553999423980713, -1.5963000059127808, -1.5973000526428223, -2.0787999629974365, -1.8371000289916992, -1.6022000312805176, -1.5126999616622925, -1.6930999755859375, -1.2985999584197998, -0.8421000242233276, -1.4156999588012695, -0.8489000201225281, -1.1780999898910522, -0.8515999913215637, -0.8518999814987183, -0.8522999882698059, -1.4239000082015991, -0.3598000109195709, -0.8537999987602234, -1.3128000497817993, -1.1825000047683716, -1.3149000406265259, -1.0328999757766724, -1.4362000226974487, 0.6854000091552734, 0.6851000189781189, 0.6844000220298767, 0.6841999888420105, 0.6840999722480774, 0.6840999722480774, 0.6840000152587891, 0.6840000152587891, 0.683899998664856, 0.6837999820709229, 0.6837999820709229, 0.6837999820709229, 0.6837999820709229, 0.6837999820709229, 0.6837000250816345, 0.6837000250816345, 0.6836000084877014, 0.6834999918937683, 0.6833999752998352, 0.6833999752998352, 0.6833999752998352, 0.6833999752998352, 0.6833999752998352, 0.6833000183105469, 0.6833000183105469, 0.6833000183105469, 0.6833000183105469, 0.6832000017166138, 0.6832000017166138, 0.6832000017166138, 0.6830999851226807, 0.6830999851226807, 0.6829000115394592, -2.1494998931884766, -2.4040000438690186, -2.1577999591827393, -2.0018999576568604, -1.8198000192642212, -1.6782000064849854, -2.0755999088287354, -1.833899974822998, -1.6861000061035156, -1.6013000011444092, -1.767199993133545, -1.5133999586105347, -1.6065000295639038, -1.6131000518798828, -0.8490999937057495, -1.9825999736785889, -1.3079999685287476, -1.4248000383377075, -1.4256000518798828, -1.5302000045776367, -1.3116999864578247, -1.1829999685287476, -1.0322999954223633, -1.4316999912261963, -0.8550000190734863, -0.8550999760627747, -1.0339000225067139, -1.035099983215332, -1.186900019645691, -0.857699990272522, -1.3238999843597412, 0.6858999729156494, 0.6858000159263611, 0.6858000159263611, 0.685699999332428, 0.6855000257492065, 0.6854000091552734, 0.6854000091552734, 0.6852999925613403, 0.6852999925613403, 0.6852999925613403, 0.6851999759674072, 0.6851999759674072, 0.6851999759674072, 0.6851999759674072, 0.6851999759674072, 0.6851000189781189, 0.6851000189781189, 0.6851000189781189, 0.6850000023841858, 0.6850000023841858, 0.6850000023841858, 0.6850000023841858, 0.6848999857902527, 0.6848999857902527, 0.6848999857902527, 0.6848999857902527, 0.6848999857902527, 0.6848999857902527, 0.6848999857902527, 0.6848000288009644, 0.6848000288009644, 0.6847000122070312, 0.6848000288009644, 0.6847000122070312, 0.6847000122070312, -2.171600103378296, -2.435499906539917, -2.0237998962402344, -2.188800096511841, -2.090399980545044, -1.8493000268936157, -1.6191999912261963, -1.7864999771118164, -1.6233999729156494, -1.7098000049591064, -1.3152999877929688, -1.6291999816894531, -1.867799997329712, -1.9996999502182007, -1.5377999544143677, -1.5398000478744507, -1.437000036239624, -1.191499948501587, -1.0420000553131104, -0.864300012588501, -1.3265000581741333, -0.8657000064849854, -0.6471999883651733, -1.4433000087738037, -0.6478000283241272, -0.6484000086784363, -1.0458999872207642, -0.8669999837875366, -1.045799970626831, -0.8669999837875366, -1.729200005531311, -1.4458999633789062, -1.1979999542236328, 0.6862000226974487, 0.6859999895095825, 0.685699999332428, 0.685699999332428, 0.685699999332428, 0.685699999332428, 0.685699999332428, 0.6855999827384949, 0.6855999827384949, 0.6855999827384949, 0.6855999827384949, 0.6855000257492065, 0.6855000257492065, 0.6854000091552734, 0.6854000091552734, 0.6854000091552734, 0.6852999925613403, 0.6852999925613403, 0.6852999925613403, 0.6851999759674072, 0.6851999759674072, 0.6851999759674072, 0.6851999759674072, 0.6851999759674072, 0.6851000189781189, 0.6851000189781189, 0.6851000189781189, 0.6851000189781189, 0.6851000189781189, 0.6851000189781189, 0.6851000189781189, 0.6850000023841858, 0.6850000023841858, 0.6848999857902527, -2.1809000968933105, -2.188999891281128, -2.448199987411499, -1.6174999475479126, -1.7029999494552612, -2.1064000129699707, -1.9912999868392944, -1.6217999458312988, -1.7884000539779663, -1.5307999849319458, -2.054500102996826, -1.8657000064849854, -1.5353000164031982, -1.7160999774932861, -1.868299961090088, -1.6312999725341797, -1.4355000257492065, -1.4357999563217163, -1.4357999563217163, -1.3208999633789062, -1.3214000463485718, -0.6420000195503235, -1.1913000345230103, -1.1923999786376953, -1.3236000537872314, -0.644599974155426, -0.8640999794006348, -0.8669000267982483, -0.36809998750686646, -0.8682000041007996, -0.8677999973297119, 0.6866000294685364, 0.6861000061035156, 0.6858999729156494, 0.6858999729156494, 0.6858000159263611, 0.6858000159263611, 0.6858000159263611, 0.685699999332428, 0.685699999332428, 0.6855999827384949, 0.6855999827384949, 0.6855999827384949, 0.6855999827384949, 0.6855999827384949, 0.6855000257492065, 0.6855000257492065, 0.6855000257492065, 0.6855000257492065, 0.6855000257492065, 0.6855000257492065, 0.6854000091552734, 0.6854000091552734, 0.6854000091552734, 0.6854000091552734, 0.6854000091552734, 0.6854000091552734, 0.6854000091552734, 0.6852999925613403, 0.6852999925613403, 0.6852999925613403, 0.6851000189781189, 0.6851999759674072, 0.6850000023841858, 0.6850000023841858, -1.9665000438690186, -2.185699939727783, -2.1972999572753906, -2.039099931716919, -1.850100040435791, -2.455899953842163, -1.8580000400543213, -1.7870999574661255, -2.112499952316284, -1.7160999774932861, -1.6303000450134277, -1.631700038909912, -1.538599967956543, -1.718999981880188, -1.1898000240325928, -1.63510000705719, -1.3220000267028809, -1.541599988937378, -0.8646000027656555, -0.866100013256073, -0.6478000283241272, -1.4438999891281128, -1.4443000555038452, -0.6492999792098999, -0.6488000154495239, -0.6496999859809875, -1.4469000101089478, -1.3315999507904053, -1.048699975013733, -0.8684999942779541, -1.0491000413894653, -1.202299952507019, -1.3353999853134155, 0.6862000226974487, 0.6861000061035156, 0.6859999895095825, 0.6859999895095825, 0.6859999895095825, 0.6859999895095825, 0.6858999729156494, 0.6858999729156494, 0.6858999729156494, 0.6858999729156494, 0.6858000159263611, 0.6858000159263611, 0.6858000159263611, 0.6858000159263611, 0.6858000159263611, 0.6858000159263611, 0.6858000159263611, 0.685699999332428, 0.685699999332428, 0.685699999332428, 0.685699999332428, 0.6855999827384949, 0.6855999827384949, 0.6855999827384949, 0.6855999827384949, 0.6855999827384949, 0.6855999827384949, 0.6855000257492065, 0.6855000257492065, 0.6855000257492065, 0.6854000091552734, 0.6852999925613403, 0.6852999925613403, -2.446500062942505, -2.0350000858306885, -2.1998000144958496, -1.7077000141143799, -2.21589994430542, -2.112499952316284, -1.4297000169754028, -1.8667000532150269, -1.716599941253662, -1.63100004196167, -2.001499891281128, -1.319200038909912, -1.1913000345230103, -1.4394999742507935, -1.6374000310897827, -1.5435999631881714, -1.802299976348877, -1.8772000074386597, -1.5454000234603882, -1.442199945449829, -1.6402000188827515, -1.0439000129699707, -0.8654000163078308, -0.8659999966621399, -1.044700026512146, -0.6478000283241272, -1.3282999992370605, -0.8673999905586243, -0.6496000289916992, -1.0468000173568726, -1.3310999870300293, -1.1995999813079834, -1.0465999841690063, 0.6870999932289124, 0.6869000196456909, 0.6868000030517578, 0.6868000030517578, 0.6866999864578247, 0.6866999864578247, 0.6866999864578247, 0.6866000294685364, 0.6866000294685364, 0.6866000294685364, 0.6866000294685364, 0.6866000294685364, 0.6866000294685364, 0.6865000128746033, 0.6865000128746033, 0.6865000128746033, 0.6865000128746033, 0.6865000128746033, 0.6863999962806702, 0.6863999962806702, 0.6863999962806702, 0.6863999962806702, 0.6863999962806702, 0.6863999962806702, 0.6862999796867371, 0.6862999796867371, 0.6862999796867371, 0.6862999796867371, 0.6862999796867371, 0.6862999796867371, 0.6862999796867371, 0.6862999796867371, 0.6861000061035156, 0.6862000226974487, 0.6862000226974487, 0.6862000226974487, 0.6859999895095825, 0.6858000159263611, -2.4635000228881836, -2.217400074005127, -2.221100091934204, -2.003700017929077, -1.8005000352859497, -1.7218999862670898, -2.065700054168701, -1.5437999963760376, -1.4420000314712524, -1.8782999515533447, -1.6407999992370605, -1.8813999891281128, -1.6439000368118286, -2.1359000205993652, -1.329699993133545, -1.6470999717712402, -1.447700023651123, -1.5528000593185425, -1.448099970817566, -1.3313000202178955, -1.200700044631958, -1.200700044631958, -1.3339999914169312, -1.0505000352859497, -1.7404999732971191, -0.8719000220298767, -1.0527000427246094, -1.052899956703186, -0.8730000257492065, -0.8729000091552734, 0.6870999932289124, 0.6869999766349792, 0.6869000196456909, 0.6868000030517578, 0.6868000030517578, 0.6868000030517578, 0.6866999864578247, 0.6866999864578247, 0.6866999864578247, 0.6866000294685364, 0.6866000294685364, 0.6866000294685364, 0.6866000294685364, 0.6866000294685364, 0.6865000128746033, 0.6865000128746033, 0.6865000128746033, 0.6865000128746033, 0.6865000128746033, 0.6865000128746033, 0.6865000128746033, 0.6865000128746033, 0.6865000128746033, 0.6865000128746033, 0.6865000128746033, 0.6863999962806702, 0.6863999962806702, 0.6863999962806702, 0.6863999962806702, 0.6863999962806702, 0.6863999962806702, 0.6863999962806702, 0.6862999796867371, 0.6862999796867371, 0.6862999796867371, 0.6862999796867371, 0.6862000226974487, 0.6862999796867371, 0.6862999796867371, 0.6862999796867371, 0.6862000226974487, -2.221400022506714, -2.2225000858306885, -1.8705999851226807, -2.1191999912261963, -2.0638999938964844, -2.488300085067749, -1.8046000003814697, -1.5470000505447388, -1.3272000551223755, -1.5475000143051147, -2.014899969100952, -1.7307000160217285, -1.731600046157837, -1.4458999633789062, -1.6456999778747559, -1.886199951171875, -1.6461000442504883, -1.447700023651123, -1.3316999673843384, -1.6484999656677246, -1.1996999979019165, -1.333299994468689, -1.451799988746643, -1.0498000383377075, -0.8697999715805054, -1.0506999492645264, -1.0506999492645264, -1.204699993133545, -0.8726999759674072, -0.8730000257492065, 0.6875, 0.6873000264167786, 0.6873000264167786, 0.6869000196456909, 0.6868000030517578, 0.6868000030517578, 0.6868000030517578, 0.6868000030517578, 0.6866999864578247, 0.6866999864578247, 0.6866999864578247, 0.6866999864578247, 0.6866999864578247, 0.6866999864578247, 0.6866999864578247, 0.6866999864578247, 0.6866000294685364, 0.6866000294685364, 0.6866000294685364, 0.6866000294685364, 0.6866000294685364, 0.6866000294685364, 0.6866000294685364, 0.6865000128746033, 0.6865000128746033, 0.6865000128746033, 0.6865000128746033, 0.6865000128746033, 0.6865000128746033, 0.6865000128746033, 0.6865000128746033, 0.6865000128746033, 0.6865000128746033, 0.6865000128746033, 0.6865000128746033, 0.6865000128746033, 0.6865000128746033, 0.6862000226974487, 0.6863999962806702, 0.6862000226974487, -2.218400001525879, -2.4827001094818115, -2.0053999423980713, -1.6367000341415405, -2.068700075149536, -1.8782000541687012, -1.7273000478744507, -2.2316999435424805, -1.5480999946594238, -2.1280999183654785, -1.881700038909912, -1.5501999855041504, -1.812000036239624, -1.645799994468689, -1.7338000535964966, -1.3308000564575195, -1.3324999809265137, -1.649399995803833, -1.3339999914169312, -1.2032999992370605, -1.2038999795913696, -1.4539999961853027, -1.4549000263214111, -1.455299973487854, -1.0534000396728516, -1.0530999898910522, -0.8733000159263611, -0.8740000128746033, -0.8733999729156494, -0.8737999796867371], \"Category\": [\"Default\", \"Default\", \"Default\", \"Default\", \"Default\", \"Default\", \"Default\", \"Default\", \"Default\", \"Default\", \"Default\", \"Default\", \"Default\", \"Default\", \"Default\", \"Default\", \"Default\", \"Default\", \"Default\", \"Default\", \"Default\", \"Default\", \"Default\", \"Default\", \"Default\", \"Default\", \"Default\", \"Default\", \"Default\", \"Default\", \"Topic1\", \"Topic1\", \"Topic1\", \"Topic1\", \"Topic1\", \"Topic1\", \"Topic1\", \"Topic1\", \"Topic1\", \"Topic1\", \"Topic1\", \"Topic1\", \"Topic1\", \"Topic1\", \"Topic1\", \"Topic1\", \"Topic1\", \"Topic1\", \"Topic1\", \"Topic1\", \"Topic1\", \"Topic1\", \"Topic1\", \"Topic1\", \"Topic1\", \"Topic1\", \"Topic1\", \"Topic1\", \"Topic1\", \"Topic1\", \"Topic2\", \"Topic2\", \"Topic2\", \"Topic2\", \"Topic2\", \"Topic2\", \"Topic2\", \"Topic2\", \"Topic2\", \"Topic2\", \"Topic2\", \"Topic2\", \"Topic2\", \"Topic2\", \"Topic2\", \"Topic2\", \"Topic2\", \"Topic2\", \"Topic2\", \"Topic2\", \"Topic2\", \"Topic2\", \"Topic2\", \"Topic2\", \"Topic2\", \"Topic2\", \"Topic2\", \"Topic2\", \"Topic2\", \"Topic2\", \"Topic2\", \"Topic2\", \"Topic2\", \"Topic2\", \"Topic2\", \"Topic2\", \"Topic2\", \"Topic2\", \"Topic2\", \"Topic2\", \"Topic2\", \"Topic2\", \"Topic2\", \"Topic2\", \"Topic2\", \"Topic2\", \"Topic2\", \"Topic2\", \"Topic2\", \"Topic2\", \"Topic2\", \"Topic2\", \"Topic2\", \"Topic2\", \"Topic2\", \"Topic2\", \"Topic2\", \"Topic2\", \"Topic2\", \"Topic2\", \"Topic2\", \"Topic2\", \"Topic2\", \"Topic3\", \"Topic3\", \"Topic3\", \"Topic3\", \"Topic3\", \"Topic3\", \"Topic3\", \"Topic3\", \"Topic3\", \"Topic3\", \"Topic3\", \"Topic3\", \"Topic3\", \"Topic3\", \"Topic3\", \"Topic3\", \"Topic3\", \"Topic3\", \"Topic3\", \"Topic3\", \"Topic3\", \"Topic3\", \"Topic3\", \"Topic3\", \"Topic3\", \"Topic3\", \"Topic3\", \"Topic3\", \"Topic3\", \"Topic3\", \"Topic3\", \"Topic3\", \"Topic3\", \"Topic3\", \"Topic3\", \"Topic3\", \"Topic3\", \"Topic3\", \"Topic3\", \"Topic3\", \"Topic3\", \"Topic3\", \"Topic3\", \"Topic3\", \"Topic3\", \"Topic3\", \"Topic3\", \"Topic3\", \"Topic3\", \"Topic3\", \"Topic3\", \"Topic3\", \"Topic3\", \"Topic3\", \"Topic3\", \"Topic3\", \"Topic3\", \"Topic3\", \"Topic3\", \"Topic3\", \"Topic3\", \"Topic3\", \"Topic3\", \"Topic3\", \"Topic3\", \"Topic4\", \"Topic4\", \"Topic4\", \"Topic4\", \"Topic4\", \"Topic4\", \"Topic4\", \"Topic4\", \"Topic4\", \"Topic4\", \"Topic4\", \"Topic4\", \"Topic4\", \"Topic4\", \"Topic4\", \"Topic4\", \"Topic4\", \"Topic4\", \"Topic4\", \"Topic4\", \"Topic4\", \"Topic4\", \"Topic4\", \"Topic4\", \"Topic4\", \"Topic4\", \"Topic4\", \"Topic4\", \"Topic4\", \"Topic4\", \"Topic4\", \"Topic4\", \"Topic4\", \"Topic4\", \"Topic4\", \"Topic4\", \"Topic4\", \"Topic4\", \"Topic4\", \"Topic4\", \"Topic4\", \"Topic4\", \"Topic4\", \"Topic4\", \"Topic4\", \"Topic4\", \"Topic4\", \"Topic4\", \"Topic4\", \"Topic4\", \"Topic4\", \"Topic4\", \"Topic4\", \"Topic4\", \"Topic4\", \"Topic4\", \"Topic4\", \"Topic4\", \"Topic4\", \"Topic4\", \"Topic4\", \"Topic4\", \"Topic4\", \"Topic4\", \"Topic4\", \"Topic5\", \"Topic5\", \"Topic5\", \"Topic5\", \"Topic5\", \"Topic5\", \"Topic5\", \"Topic5\", \"Topic5\", \"Topic5\", \"Topic5\", \"Topic5\", \"Topic5\", \"Topic5\", \"Topic5\", \"Topic5\", \"Topic5\", \"Topic5\", \"Topic5\", \"Topic5\", \"Topic5\", \"Topic5\", \"Topic5\", \"Topic5\", \"Topic5\", \"Topic5\", \"Topic5\", \"Topic5\", \"Topic5\", \"Topic5\", \"Topic5\", \"Topic5\", \"Topic5\", \"Topic5\", \"Topic5\", \"Topic5\", \"Topic5\", \"Topic5\", \"Topic5\", \"Topic5\", \"Topic5\", \"Topic5\", \"Topic5\", \"Topic5\", \"Topic5\", \"Topic5\", \"Topic5\", \"Topic5\", \"Topic5\", \"Topic5\", \"Topic5\", \"Topic5\", \"Topic5\", \"Topic5\", \"Topic5\", \"Topic5\", \"Topic5\", \"Topic5\", \"Topic5\", \"Topic5\", \"Topic5\", \"Topic5\", \"Topic5\", \"Topic6\", \"Topic6\", \"Topic6\", \"Topic6\", \"Topic6\", \"Topic6\", \"Topic6\", \"Topic6\", \"Topic6\", \"Topic6\", \"Topic6\", \"Topic6\", \"Topic6\", \"Topic6\", \"Topic6\", \"Topic6\", \"Topic6\", \"Topic6\", \"Topic6\", \"Topic6\", \"Topic6\", \"Topic6\", \"Topic6\", \"Topic6\", \"Topic6\", \"Topic6\", \"Topic6\", \"Topic6\", \"Topic6\", \"Topic6\", \"Topic6\", \"Topic6\", \"Topic6\", \"Topic6\", \"Topic6\", \"Topic6\", \"Topic6\", \"Topic6\", \"Topic6\", \"Topic6\", \"Topic6\", \"Topic6\", \"Topic6\", \"Topic6\", \"Topic6\", \"Topic6\", \"Topic6\", \"Topic6\", \"Topic6\", \"Topic6\", \"Topic6\", \"Topic6\", \"Topic6\", \"Topic6\", \"Topic6\", \"Topic6\", \"Topic6\", \"Topic6\", \"Topic6\", \"Topic6\", \"Topic6\", \"Topic6\", \"Topic6\", \"Topic6\", \"Topic6\", \"Topic7\", \"Topic7\", \"Topic7\", \"Topic7\", \"Topic7\", \"Topic7\", \"Topic7\", \"Topic7\", \"Topic7\", \"Topic7\", \"Topic7\", \"Topic7\", \"Topic7\", \"Topic7\", \"Topic7\", \"Topic7\", \"Topic7\", \"Topic7\", \"Topic7\", \"Topic7\", \"Topic7\", \"Topic7\", \"Topic7\", \"Topic7\", \"Topic7\", \"Topic7\", \"Topic7\", \"Topic7\", \"Topic7\", \"Topic7\", \"Topic7\", \"Topic7\", \"Topic7\", \"Topic7\", \"Topic7\", \"Topic7\", \"Topic7\", \"Topic7\", \"Topic7\", \"Topic7\", \"Topic7\", \"Topic7\", \"Topic7\", \"Topic7\", \"Topic7\", \"Topic7\", \"Topic7\", \"Topic7\", \"Topic7\", \"Topic7\", \"Topic7\", \"Topic7\", \"Topic7\", \"Topic7\", \"Topic7\", \"Topic7\", \"Topic7\", \"Topic7\", \"Topic7\", \"Topic7\", \"Topic7\", \"Topic7\", \"Topic7\", \"Topic8\", \"Topic8\", \"Topic8\", \"Topic8\", \"Topic8\", \"Topic8\", \"Topic8\", \"Topic8\", \"Topic8\", \"Topic8\", \"Topic8\", \"Topic8\", \"Topic8\", \"Topic8\", \"Topic8\", \"Topic8\", \"Topic8\", \"Topic8\", \"Topic8\", \"Topic8\", \"Topic8\", \"Topic8\", \"Topic8\", \"Topic8\", \"Topic8\", \"Topic8\", \"Topic8\", \"Topic8\", \"Topic8\", \"Topic8\", \"Topic8\", \"Topic8\", \"Topic8\", \"Topic8\", \"Topic8\", \"Topic8\", \"Topic8\", \"Topic8\", \"Topic8\", \"Topic8\", \"Topic8\", \"Topic8\", \"Topic8\", \"Topic8\", \"Topic8\", \"Topic8\", \"Topic8\", \"Topic8\", \"Topic8\", \"Topic8\", \"Topic8\", \"Topic8\", \"Topic8\", \"Topic8\", \"Topic8\", \"Topic8\", \"Topic8\", \"Topic8\", \"Topic8\", \"Topic8\", \"Topic8\", \"Topic8\", \"Topic9\", \"Topic9\", \"Topic9\", \"Topic9\", \"Topic9\", \"Topic9\", \"Topic9\", \"Topic9\", \"Topic9\", \"Topic9\", \"Topic9\", \"Topic9\", \"Topic9\", \"Topic9\", \"Topic9\", \"Topic9\", \"Topic9\", \"Topic9\", \"Topic9\", \"Topic9\", \"Topic9\", \"Topic9\", \"Topic9\", \"Topic9\", \"Topic9\", \"Topic9\", \"Topic9\", \"Topic9\", \"Topic9\", \"Topic9\", \"Topic9\", \"Topic9\", \"Topic9\", \"Topic9\", \"Topic9\", \"Topic9\", \"Topic9\", \"Topic9\", \"Topic9\", \"Topic9\", \"Topic9\", \"Topic9\", \"Topic9\", \"Topic9\", \"Topic9\", \"Topic9\", \"Topic9\", \"Topic9\", \"Topic9\", \"Topic9\", \"Topic9\", \"Topic9\", \"Topic9\", \"Topic9\", \"Topic9\", \"Topic9\", \"Topic9\", \"Topic9\", \"Topic9\", \"Topic9\", \"Topic9\", \"Topic9\", \"Topic9\", \"Topic9\", \"Topic9\", \"Topic10\", \"Topic10\", \"Topic10\", \"Topic10\", \"Topic10\", \"Topic10\", \"Topic10\", \"Topic10\", \"Topic10\", \"Topic10\", \"Topic10\", \"Topic10\", \"Topic10\", \"Topic10\", \"Topic10\", \"Topic10\", \"Topic10\", \"Topic10\", \"Topic10\", \"Topic10\", \"Topic10\", \"Topic10\", \"Topic10\", \"Topic10\", \"Topic10\", \"Topic10\", \"Topic10\", \"Topic10\", \"Topic10\", \"Topic10\", \"Topic10\", \"Topic10\", \"Topic10\", \"Topic10\", \"Topic10\", \"Topic10\", \"Topic10\", \"Topic10\", \"Topic10\", \"Topic10\", \"Topic10\", \"Topic10\", \"Topic10\", \"Topic10\", \"Topic10\", \"Topic10\", \"Topic10\", \"Topic10\", \"Topic10\", \"Topic10\", \"Topic10\", \"Topic10\", \"Topic10\", \"Topic10\", \"Topic10\", \"Topic10\", \"Topic10\", \"Topic10\", \"Topic10\", \"Topic10\", \"Topic10\", \"Topic10\", \"Topic10\", \"Topic10\", \"Topic10\", \"Topic10\", \"Topic11\", \"Topic11\", \"Topic11\", \"Topic11\", \"Topic11\", \"Topic11\", \"Topic11\", \"Topic11\", \"Topic11\", \"Topic11\", \"Topic11\", \"Topic11\", \"Topic11\", \"Topic11\", \"Topic11\", \"Topic11\", \"Topic11\", \"Topic11\", \"Topic11\", \"Topic11\", \"Topic11\", \"Topic11\", \"Topic11\", \"Topic11\", \"Topic11\", \"Topic11\", \"Topic11\", \"Topic11\", \"Topic11\", \"Topic11\", \"Topic11\", \"Topic11\", \"Topic11\", \"Topic11\", \"Topic11\", \"Topic11\", \"Topic11\", \"Topic11\", \"Topic11\", \"Topic11\", \"Topic11\", \"Topic11\", \"Topic11\", \"Topic11\", \"Topic11\", \"Topic11\", \"Topic11\", \"Topic11\", \"Topic11\", \"Topic11\", \"Topic11\", \"Topic11\", \"Topic11\", \"Topic11\", \"Topic11\", \"Topic11\", \"Topic11\", \"Topic11\", \"Topic11\", \"Topic11\", \"Topic11\", \"Topic11\", \"Topic11\", \"Topic12\", \"Topic12\", \"Topic12\", \"Topic12\", \"Topic12\", \"Topic12\", \"Topic12\", \"Topic12\", \"Topic12\", \"Topic12\", \"Topic12\", \"Topic12\", \"Topic12\", \"Topic12\", \"Topic12\", \"Topic12\", \"Topic12\", \"Topic12\", \"Topic12\", \"Topic12\", \"Topic12\", \"Topic12\", \"Topic12\", \"Topic12\", \"Topic12\", \"Topic12\", \"Topic12\", \"Topic12\", \"Topic12\", \"Topic12\", \"Topic12\", \"Topic12\", \"Topic12\", \"Topic12\", \"Topic12\", \"Topic12\", \"Topic12\", \"Topic12\", \"Topic12\", \"Topic12\", \"Topic12\", \"Topic12\", \"Topic12\", \"Topic12\", \"Topic12\", \"Topic12\", \"Topic12\", \"Topic12\", \"Topic12\", \"Topic12\", \"Topic12\", \"Topic12\", \"Topic12\", \"Topic12\", \"Topic12\", \"Topic12\", \"Topic12\", \"Topic12\", \"Topic12\", \"Topic12\", \"Topic12\", \"Topic12\", \"Topic12\", \"Topic12\", \"Topic13\", \"Topic13\", \"Topic13\", \"Topic13\", \"Topic13\", \"Topic13\", \"Topic13\", \"Topic13\", \"Topic13\", \"Topic13\", \"Topic13\", \"Topic13\", \"Topic13\", \"Topic13\", \"Topic13\", \"Topic13\", \"Topic13\", \"Topic13\", \"Topic13\", \"Topic13\", \"Topic13\", \"Topic13\", \"Topic13\", \"Topic13\", \"Topic13\", \"Topic13\", \"Topic13\", \"Topic13\", \"Topic13\", \"Topic13\", \"Topic13\", \"Topic13\", \"Topic13\", \"Topic13\", \"Topic13\", \"Topic13\", \"Topic13\", \"Topic13\", \"Topic13\", \"Topic13\", \"Topic13\", \"Topic13\", \"Topic13\", \"Topic13\", \"Topic13\", \"Topic13\", \"Topic13\", \"Topic13\", \"Topic13\", \"Topic13\", \"Topic13\", \"Topic13\", \"Topic13\", \"Topic13\", \"Topic13\", \"Topic13\", \"Topic13\", \"Topic13\", \"Topic13\", \"Topic13\", \"Topic13\", \"Topic13\", \"Topic13\", \"Topic13\", \"Topic14\", \"Topic14\", \"Topic14\", \"Topic14\", \"Topic14\", \"Topic14\", \"Topic14\", \"Topic14\", \"Topic14\", \"Topic14\", \"Topic14\", \"Topic14\", \"Topic14\", \"Topic14\", \"Topic14\", \"Topic14\", \"Topic14\", \"Topic14\", \"Topic14\", \"Topic14\", \"Topic14\", \"Topic14\", \"Topic14\", \"Topic14\", \"Topic14\", \"Topic14\", \"Topic14\", \"Topic14\", \"Topic14\", \"Topic14\", \"Topic14\", \"Topic14\", \"Topic14\", \"Topic14\", \"Topic14\", \"Topic14\", \"Topic14\", \"Topic14\", \"Topic14\", \"Topic14\", \"Topic14\", \"Topic14\", \"Topic14\", \"Topic14\", \"Topic14\", \"Topic14\", \"Topic14\", \"Topic14\", \"Topic14\", \"Topic14\", \"Topic14\", \"Topic14\", \"Topic14\", \"Topic14\", \"Topic14\", \"Topic14\", \"Topic14\", \"Topic14\", \"Topic14\", \"Topic14\", \"Topic14\", \"Topic14\", \"Topic14\", \"Topic14\", \"Topic14\", \"Topic14\", \"Topic14\", \"Topic14\", \"Topic15\", \"Topic15\", \"Topic15\", \"Topic15\", \"Topic15\", \"Topic15\", \"Topic15\", \"Topic15\", \"Topic15\", \"Topic15\", \"Topic15\", \"Topic15\", \"Topic15\", \"Topic15\", \"Topic15\", \"Topic15\", \"Topic15\", \"Topic15\", \"Topic15\", \"Topic15\", \"Topic15\", \"Topic15\", \"Topic15\", \"Topic15\", \"Topic15\", \"Topic15\", \"Topic15\", \"Topic15\", \"Topic15\", \"Topic15\", \"Topic15\", \"Topic15\", \"Topic15\", \"Topic15\", \"Topic15\", \"Topic15\", \"Topic15\", \"Topic15\", \"Topic15\", \"Topic15\", \"Topic15\", \"Topic15\", \"Topic15\", \"Topic15\", \"Topic15\", \"Topic15\", \"Topic15\", \"Topic15\", \"Topic15\", \"Topic15\", \"Topic15\", \"Topic15\", \"Topic15\", \"Topic15\", \"Topic15\", \"Topic15\", \"Topic15\", \"Topic15\", \"Topic15\", \"Topic15\", \"Topic15\", \"Topic15\", \"Topic15\", \"Topic15\", \"Topic15\", \"Topic16\", \"Topic16\", \"Topic16\", \"Topic16\", \"Topic16\", \"Topic16\", \"Topic16\", \"Topic16\", \"Topic16\", \"Topic16\", \"Topic16\", \"Topic16\", \"Topic16\", \"Topic16\", \"Topic16\", \"Topic16\", \"Topic16\", \"Topic16\", \"Topic16\", \"Topic16\", \"Topic16\", \"Topic16\", \"Topic16\", \"Topic16\", \"Topic16\", \"Topic16\", \"Topic16\", \"Topic16\", \"Topic16\", \"Topic16\", \"Topic16\", \"Topic16\", \"Topic16\", \"Topic16\", \"Topic16\", \"Topic16\", \"Topic16\", \"Topic16\", \"Topic16\", \"Topic16\", \"Topic16\", \"Topic16\", \"Topic16\", \"Topic16\", \"Topic16\", \"Topic16\", \"Topic16\", \"Topic16\", \"Topic16\", \"Topic16\", \"Topic16\", \"Topic16\", \"Topic16\", \"Topic16\", \"Topic16\", \"Topic16\", \"Topic16\", \"Topic16\", \"Topic16\", \"Topic16\", \"Topic16\", \"Topic16\", \"Topic16\", \"Topic16\", \"Topic16\", \"Topic16\", \"Topic16\", \"Topic17\", \"Topic17\", \"Topic17\", \"Topic17\", \"Topic17\", \"Topic17\", \"Topic17\", \"Topic17\", \"Topic17\", \"Topic17\", \"Topic17\", \"Topic17\", \"Topic17\", \"Topic17\", \"Topic17\", \"Topic17\", \"Topic17\", \"Topic17\", \"Topic17\", \"Topic17\", \"Topic17\", \"Topic17\", \"Topic17\", \"Topic17\", \"Topic17\", \"Topic17\", \"Topic17\", \"Topic17\", \"Topic17\", \"Topic17\", \"Topic17\", \"Topic17\", \"Topic17\", \"Topic17\", \"Topic17\", \"Topic17\", \"Topic17\", \"Topic17\", \"Topic17\", \"Topic17\", \"Topic17\", \"Topic17\", \"Topic17\", \"Topic17\", \"Topic17\", \"Topic17\", \"Topic17\", \"Topic17\", \"Topic17\", \"Topic17\", \"Topic17\", \"Topic17\", \"Topic17\", \"Topic17\", \"Topic17\", \"Topic17\", \"Topic17\", \"Topic17\", \"Topic17\", \"Topic17\", \"Topic17\", \"Topic17\", \"Topic17\", \"Topic17\", \"Topic17\", \"Topic17\", \"Topic18\", \"Topic18\", \"Topic18\", \"Topic18\", \"Topic18\", \"Topic18\", \"Topic18\", \"Topic18\", \"Topic18\", \"Topic18\", \"Topic18\", \"Topic18\", \"Topic18\", \"Topic18\", \"Topic18\", \"Topic18\", \"Topic18\", \"Topic18\", \"Topic18\", \"Topic18\", \"Topic18\", \"Topic18\", \"Topic18\", \"Topic18\", \"Topic18\", \"Topic18\", \"Topic18\", \"Topic18\", \"Topic18\", \"Topic18\", \"Topic18\", \"Topic18\", \"Topic18\", \"Topic18\", \"Topic18\", \"Topic18\", \"Topic18\", \"Topic18\", \"Topic18\", \"Topic18\", \"Topic18\", \"Topic18\", \"Topic18\", \"Topic18\", \"Topic18\", \"Topic18\", \"Topic18\", \"Topic18\", \"Topic18\", \"Topic18\", \"Topic18\", \"Topic18\", \"Topic18\", \"Topic18\", \"Topic18\", \"Topic18\", \"Topic18\", \"Topic18\", \"Topic18\", \"Topic18\", \"Topic18\", \"Topic18\", \"Topic18\", \"Topic18\", \"Topic18\", \"Topic18\", \"Topic18\", \"Topic18\", \"Topic19\", \"Topic19\", \"Topic19\", \"Topic19\", \"Topic19\", \"Topic19\", \"Topic19\", \"Topic19\", \"Topic19\", \"Topic19\", \"Topic19\", \"Topic19\", \"Topic19\", \"Topic19\", \"Topic19\", \"Topic19\", \"Topic19\", \"Topic19\", \"Topic19\", \"Topic19\", \"Topic19\", \"Topic19\", \"Topic19\", \"Topic19\", \"Topic19\", \"Topic19\", \"Topic19\", \"Topic19\", \"Topic19\", \"Topic19\", \"Topic19\", \"Topic19\", \"Topic19\", \"Topic19\", \"Topic19\", \"Topic19\", \"Topic19\", \"Topic19\", \"Topic19\", \"Topic19\", \"Topic19\", \"Topic19\", \"Topic19\", \"Topic19\", \"Topic19\", \"Topic19\", \"Topic19\", \"Topic19\", \"Topic19\", \"Topic19\", \"Topic19\", \"Topic19\", \"Topic19\", \"Topic19\", \"Topic19\", \"Topic19\", \"Topic19\", \"Topic19\", \"Topic19\", \"Topic19\", \"Topic19\", \"Topic19\", \"Topic19\", \"Topic19\", \"Topic19\", \"Topic19\", \"Topic19\", \"Topic19\", \"Topic19\", \"Topic19\", \"Topic19\", \"Topic20\", \"Topic20\", \"Topic20\", \"Topic20\", \"Topic20\", \"Topic20\", \"Topic20\", \"Topic20\", \"Topic20\", \"Topic20\", \"Topic20\", \"Topic20\", \"Topic20\", \"Topic20\", \"Topic20\", \"Topic20\", \"Topic20\", \"Topic20\", \"Topic20\", \"Topic20\", \"Topic20\", \"Topic20\", \"Topic20\", \"Topic20\", \"Topic20\", \"Topic20\", \"Topic20\", \"Topic20\", \"Topic20\", \"Topic20\", \"Topic20\", \"Topic20\", \"Topic20\", \"Topic20\", \"Topic20\", \"Topic20\", \"Topic20\", \"Topic20\", \"Topic20\", \"Topic20\", \"Topic20\", \"Topic20\", \"Topic20\", \"Topic20\", \"Topic20\", \"Topic20\", \"Topic20\", \"Topic20\", \"Topic20\", \"Topic20\", \"Topic20\", \"Topic20\", \"Topic20\", \"Topic20\", \"Topic20\", \"Topic20\", \"Topic20\", \"Topic20\", \"Topic20\", \"Topic20\", \"Topic20\", \"Topic20\", \"Topic20\", \"Topic20\", \"Topic20\", \"Topic20\", \"Topic20\", \"Topic20\", \"Topic20\", \"Topic20\"], \"Freq\": [25.0, 19.0, 19.0, 17.0, 16.0, 15.0, 13.0, 13.0, 12.0, 11.0, 11.0, 10.0, 10.0, 10.0, 9.0, 9.0, 8.0, 8.0, 8.0, 7.0, 7.0, 7.0, 6.0, 6.0, 5.0, 5.0, 5.0, 5.0, 4.0, 4.0, 25.41649627685547, 19.558378219604492, 19.561174392700195, 17.61338233947754, 16.635173797607422, 15.65978717803955, 13.706491470336914, 13.706472396850586, 12.732186317443848, 11.755481719970703, 11.75550651550293, 10.779561996459961, 10.779706001281738, 10.7780179977417, 9.80480670928955, 9.802995681762695, 8.829547882080078, 8.827863693237305, 8.82778549194336, 7.853003978729248, 7.852023601531982, 7.852170944213867, 6.877963542938232, 6.876247882843018, 5.903117656707764, 5.901492595672607, 5.901269435882568, 5.9008612632751465, 4.929843425750732, 4.927803993225098, 4.1251929360441864e-05, 4.122608879697509e-05, 4.122706377529539e-05, 4.1218590922653675e-05, 4.119915683986619e-05, 4.119838558835909e-05, 4.119428194826469e-05, 4.1199713450623676e-05, 4.118671131436713e-05, 4.11803339375183e-05, 4.117978460271843e-05, 4.117263597436249e-05, 4.11788460041862e-05, 4.116960917599499e-05, 4.1164439608110115e-05, 4.11489381804131e-05, 4.113105023861863e-05, 4.1103055991698056e-05, 4.111763337277807e-05, 4.110601366846822e-05, 4.110097870579921e-05, 4.109110523131676e-05, 4.108592474949546e-05, 4.108690336579457e-05, 4.1088020225288346e-05, 4.1076538764173165e-05, 4.1081515519181266e-05, 4.10739412473049e-05, 4.107589484192431e-05, 4.107907443540171e-05, 4.108111170353368e-05, 4.108533539692871e-05, 5.826276174047962e-05, 6.0513360949698836e-05, 5.645378405461088e-05, 5.668851008522324e-05, 5.675731154042296e-05, 5.1165879995096475e-05, 5.403537943493575e-05, 5.0336271669948474e-05, 4.833566345041618e-05, 4.8997717385645956e-05, 4.927586633129977e-05, 4.954703399562277e-05, 4.778478978550993e-05, 4.837080996367149e-05, 4.8859194066608325e-05, 4.8926027375273407e-05, 4.7645669837947935e-05, 4.786299541592598e-05, 4.770427767653018e-05, 4.70906488772016e-05, 4.595314749167301e-05, 4.577562503982335e-05, 4.53481225122232e-05, 4.616544538293965e-05, 4.5840006350772455e-05, 4.472753789741546e-05, 4.418359822011553e-05, 4.490537321544252e-05, 4.4750959204975516e-05, 4.4390875700628385e-05, 4.441434793989174e-05, 4.140951932640746e-05, 4.1309980588266626e-05, 4.1301864257548004e-05, 4.130399975110777e-05, 4.129184890189208e-05, 4.1285602492280304e-05, 4.1279210563516244e-05, 4.1270865040132776e-05, 4.1280662117060274e-05, 4.126280691707507e-05, 4.124810948269442e-05, 4.124350380152464e-05, 4.123355392948724e-05, 4.123775943298824e-05, 4.1235391108784825e-05, 4.123089092900045e-05, 4.123928374610841e-05, 4.12085501011461e-05, 4.120991798117757e-05, 4.121500751352869e-05, 4.121357051189989e-05, 4.12083936680574e-05, 4.1207884351024404e-05, 4.120453741052188e-05, 4.1204417357221246e-05, 4.1200728446710855e-05, 4.120231096749194e-05, 4.1192608478013426e-05, 4.119391815038398e-05, 4.118619472137652e-05, 4.120179437450133e-05, 4.11939290643204e-05, 6.009013668517582e-05, 5.187842543818988e-05, 5.24037895957008e-05, 5.1337603508727625e-05, 5.024165511713363e-05, 4.959072248311713e-05, 5.1261398766655475e-05, 4.910863208351657e-05, 4.978177457815036e-05, 4.973891191184521e-05, 4.979422737960704e-05, 4.76149252790492e-05, 4.8003654228523374e-05, 4.69122824142687e-05, 4.795745917363092e-05, 4.714972237707116e-05, 4.658934994949959e-05, 4.6715449570911005e-05, 4.560343222692609e-05, 4.80297785543371e-05, 4.5956152462167665e-05, 4.5329939894145355e-05, 4.4402720959624276e-05, 4.4648160837823525e-05, 4.546682248474099e-05, 4.325447298469953e-05, 4.3701729737222195e-05, 4.395085488795303e-05, 4.394061761558987e-05, 4.405765503179282e-05, 4.369595262687653e-05, 4.387347144074738e-05, 4.383245686767623e-05, 4.137227369938046e-05, 4.13675770687405e-05, 4.13577254221309e-05, 4.1352050175191835e-05, 4.135056951781735e-05, 4.132619869778864e-05, 4.132241156185046e-05, 4.1301627788925543e-05, 4.129408989683725e-05, 4.130211164010689e-05, 4.1297345887869596e-05, 4.128255750401877e-05, 4.129348963033408e-05, 4.128646833123639e-05, 4.128168075112626e-05, 4.128958244109526e-05, 4.127407737541944e-05, 4.128248110646382e-05, 4.127418651478365e-05, 4.128888758714311e-05, 4.127829015487805e-05, 4.1280214645667e-05, 4.127055581193417e-05, 4.126445128349587e-05, 4.127146894461475e-05, 4.126686690142378e-05, 4.1270566725870594e-05, 4.126305793761276e-05, 4.126206476939842e-05, 4.1268176573794335e-05, 4.127236024942249e-05, 4.1264822357334197e-05, 5.3034636948723346e-05, 5.12597689521499e-05, 5.134747698321007e-05, 5.057704038335942e-05, 4.954309406457469e-05, 4.9667549319565296e-05, 4.90836137032602e-05, 4.8986436013365164e-05, 4.762040407513268e-05, 4.7334884584415704e-05, 4.735289985546842e-05, 4.6693021431565285e-05, 4.7001030907267705e-05, 4.701901343651116e-05, 4.660613558371551e-05, 4.6562414354411885e-05, 4.5531309297075495e-05, 4.511646329774521e-05, 4.376631113700569e-05, 4.257111140759662e-05, 4.3983258365187794e-05, 4.516189801506698e-05, 4.48885366495233e-05, 4.394252027850598e-05, 4.453886140254326e-05, 4.3800664570881054e-05, 4.347138383309357e-05, 4.394502684590407e-05, 4.399539466248825e-05, 4.325106419855729e-05, 4.4133728806627914e-05, 4.381655162433162e-05, 4.360728416941129e-05, 4.141838871873915e-05, 4.1389703255845234e-05, 4.1376002627657726e-05, 4.135030758334324e-05, 4.135284689255059e-05, 4.135214112466201e-05, 4.134422488277778e-05, 4.133540642214939e-05, 4.1329170926474035e-05, 4.133271795581095e-05, 4.1316750866826624e-05, 4.131513924221508e-05, 4.1302377212559804e-05, 4.130337038077414e-05, 4.130860179429874e-05, 4.131007881369442e-05, 4.130585875827819e-05, 4.1295334085589275e-05, 4.127539796172641e-05, 4.127943975618109e-05, 4.128851287532598e-05, 4.128482396481559e-05, 4.128070213482715e-05, 4.128613727516495e-05, 4.12803165090736e-05, 4.127423380850814e-05, 4.127273859921843e-05, 4.126971180085093e-05, 4.127300053369254e-05, 4.127447755308822e-05, 4.1271778172813356e-05, 5.517108002095483e-05, 5.0134600314777344e-05, 4.8780901124700904e-05, 4.88959631184116e-05, 4.961155354976654e-05, 4.956622433383018e-05, 4.9065729399444535e-05, 4.710962457465939e-05, 4.6125351218506694e-05, 4.646916568162851e-05, 4.6247714635683224e-05, 4.7188739699777216e-05, 4.6851524530211464e-05, 4.631799311027862e-05, 4.532815728452988e-05, 4.5660464820684865e-05, 4.423132850206457e-05, 4.454720328794792e-05, 4.476631147554144e-05, 4.514545071288012e-05, 4.410316250869073e-05, 4.557549982564524e-05, 4.478412665775977e-05, 4.4939006329514086e-05, 4.4961638195673004e-05, 4.4194108340889215e-05, 4.393159179016948e-05, 4.4360429455991834e-05, 4.383582199807279e-05, 4.3524312786757946e-05, 4.3718417146010324e-05, 4.3788681068690494e-05, 4.138684016652405e-05, 4.136903953622095e-05, 4.138069925829768e-05, 4.1375140426680446e-05, 4.136112329433672e-05, 4.137006908422336e-05, 4.1354640416102484e-05, 4.134391201660037e-05, 4.134600021643564e-05, 4.1344406781718135e-05, 4.134297705604695e-05, 4.1335537389386445e-05, 4.13470552302897e-05, 4.132882895646617e-05, 4.1337214497616515e-05, 4.13376183132641e-05, 4.1329807572765276e-05, 4.133116817683913e-05, 4.131770765525289e-05, 4.133941911277361e-05, 4.1340426832903177e-05, 4.132810499868356e-05, 4.13156085414812e-05, 4.131610330659896e-05, 4.131392779527232e-05, 4.1326507925987244e-05, 4.1324954509036615e-05, 4.1313945985166356e-05, 4.131551395403221e-05, 4.13040688727051e-05, 4.130887828068808e-05, 4.131030436838046e-05, 4.1312796383863315e-05, 5.0619160901987925e-05, 5.1163391617592424e-05, 5.013243935536593e-05, 4.895375241176225e-05, 4.735999391414225e-05, 4.7320387238869444e-05, 4.7660705604357645e-05, 4.711983274319209e-05, 4.725590770249255e-05, 4.5929260522825643e-05, 4.593070480041206e-05, 4.558269210974686e-05, 4.500324939726852e-05, 4.526068369159475e-05, 4.457443719729781e-05, 4.4795793655794114e-05, 4.469352279556915e-05, 4.411676854942925e-05, 4.440923294168897e-05, 4.3784715671790764e-05, 4.49027975264471e-05, 4.3518073653103784e-05, 4.284558235667646e-05, 4.386217551655136e-05, 4.364968845038675e-05, 4.337973950896412e-05, 4.416470983414911e-05, 4.423969949129969e-05, 4.4015043386025354e-05, 4.358212754596025e-05, 4.318256105761975e-05, 4.3349977204343304e-05, 4.143912883591838e-05, 4.142014586250298e-05, 4.142004036111757e-05, 4.140777309658006e-05, 4.1398816392757e-05, 4.140618329984136e-05, 4.139997690799646e-05, 4.137941505177878e-05, 4.1375267755938694e-05, 4.1382845665793866e-05, 4.137657742830925e-05, 4.1361592593602836e-05, 4.1365670767845586e-05, 4.135874769417569e-05, 4.1352675907546654e-05, 4.137022915529087e-05, 4.135260678594932e-05, 4.135191556997597e-05, 4.135207200306468e-05, 4.135425479034893e-05, 4.134959090151824e-05, 4.13560337619856e-05, 4.135226481594145e-05, 4.1341816540807486e-05, 4.134658593102358e-05, 4.1347320802742615e-05, 4.132792673772201e-05, 4.1345982026541606e-05, 4.133615948376246e-05, 4.133994661970064e-05, 4.1339619201608e-05, 4.1340816096635535e-05, 4.9663634854368865e-05, 5.0268896302441135e-05, 4.934963726554997e-05, 4.704877210315317e-05, 4.8182180762523785e-05, 4.696697578765452e-05, 4.692054426413961e-05, 4.5587388740386814e-05, 4.5394073822535574e-05, 4.560160596156493e-05, 4.56394518550951e-05, 4.55872796010226e-05, 4.4663298467639834e-05, 4.487463957048021e-05, 4.4663247535936534e-05, 4.504142634687014e-05, 4.386393629829399e-05, 4.416412775753997e-05, 4.376195283839479e-05, 4.407326196087524e-05, 4.4521319068735465e-05, 4.396178701426834e-05, 4.384032581583597e-05, 4.359337981441058e-05, 4.335396079113707e-05, 4.329688454163261e-05, 4.30825020885095e-05, 4.288089257897809e-05, 4.333014294388704e-05, 4.3001873564207926e-05, 4.3480184103827924e-05, 4.145834100199863e-05, 4.144025660934858e-05, 4.1435734601691365e-05, 4.142869511269964e-05, 4.14137466577813e-05, 4.141581666772254e-05, 4.141581302974373e-05, 4.140285454923287e-05, 4.1405714000575244e-05, 4.140782402828336e-05, 4.139446173212491e-05, 4.139194788876921e-05, 4.1390801925444975e-05, 4.137953510507941e-05, 4.137762152822688e-05, 4.137730138609186e-05, 4.1369774407939985e-05, 4.137751238886267e-05, 4.1360493924003094e-05, 4.136122151976451e-05, 4.138267831876874e-05, 4.1361545299878344e-05, 4.136537972954102e-05, 4.135416747885756e-05, 4.135605558985844e-05, 4.136228744755499e-05, 4.1368697566213086e-05, 4.135970812058076e-05, 4.134631672059186e-05, 4.136106508667581e-05, 4.135487324674614e-05, 4.927373811369762e-05, 4.9453585234005004e-05, 5.008352309232578e-05, 4.910262578050606e-05, 4.740488657262176e-05, 4.56395027867984e-05, 4.575920684146695e-05, 4.544437615550123e-05, 4.490422361413948e-05, 4.519800131674856e-05, 4.437943425728008e-05, 4.526509655988775e-05, 4.396349686430767e-05, 4.4626307499129325e-05, 4.44939432782121e-05, 4.389192326925695e-05, 4.451693530427292e-05, 4.417807576828636e-05, 4.396190706756897e-05, 4.4280670408625156e-05, 4.37796043115668e-05, 4.38062270404771e-05, 4.369899761513807e-05, 4.2998461140086874e-05, 4.3075804569525644e-05, 4.319263462093659e-05, 4.3177202314836904e-05, 4.2812327592400834e-05, 4.294278551242314e-05, 4.290336073609069e-05, 4.325342524680309e-05, 4.140704913879745e-05, 4.141520548728295e-05, 4.142141915508546e-05, 4.14066671510227e-05, 4.138824078836478e-05, 4.1387149394722655e-05, 4.138821896049194e-05, 4.137356881983578e-05, 4.137921132496558e-05, 4.138265285291709e-05, 4.137019641348161e-05, 4.1367675294168293e-05, 4.136300049140118e-05, 4.137271025683731e-05, 4.137042196816765e-05, 4.13542366004549e-05, 4.136406641919166e-05, 4.1355615394422784e-05, 4.135908602620475e-05, 4.137051655561663e-05, 4.136173811275512e-05, 4.134302071179263e-05, 4.135459312237799e-05, 4.135353083256632e-05, 4.1353661799803376e-05, 4.135271956329234e-05, 4.1355327994097024e-05, 4.1354189306730404e-05, 4.1350274841533974e-05, 4.135400740779005e-05, 4.1355066059622914e-05, 4.1353938286192715e-05, 4.879742846242152e-05, 4.898919723927975e-05, 4.76932073070202e-05, 4.706307299784385e-05, 4.6722590923309326e-05, 4.7114248445723206e-05, 4.671476563089527e-05, 4.6018987632123753e-05, 4.616475780494511e-05, 4.528055796981789e-05, 4.5706146920565516e-05, 4.4706001062877476e-05, 4.500746217672713e-05, 4.4656953832600266e-05, 4.4705153413815424e-05, 4.4333108235150576e-05, 4.364543565316126e-05, 4.417294621816836e-05, 4.357470606919378e-05, 4.383769555715844e-05, 4.354845441412181e-05, 4.3241347157163545e-05, 4.3485775677254423e-05, 4.306053961045109e-05, 4.328614522819407e-05, 4.3282929254928604e-05, 4.269056807970628e-05, 4.2677827877923846e-05, 4.2859723180299625e-05, 4.207192250760272e-05, 4.2824449337786064e-05, 4.278960113879293e-05, 4.2952979129040614e-05, 4.14620699302759e-05, 4.141242243349552e-05, 4.140470264246687e-05, 4.140849705436267e-05, 4.140585588174872e-05, 4.140643068240024e-05, 4.139854354434647e-05, 4.138538861298002e-05, 4.1394279833184555e-05, 4.13811685575638e-05, 4.136900679441169e-05, 4.1380306356586516e-05, 4.138675649301149e-05, 4.1385723307030275e-05, 4.138136864639819e-05, 4.13895322708413e-05, 4.138067743042484e-05, 4.137995347264223e-05, 4.137264477321878e-05, 4.137733776587993e-05, 4.138807344133966e-05, 4.136981806368567e-05, 4.136524876230396e-05, 4.136764255235903e-05, 4.138375516049564e-05, 4.136591451242566e-05, 4.135872586630285e-05, 4.1365849028807133e-05, 4.135260678594932e-05, 4.13573179685045e-05, 4.136817005928606e-05, 4.1371302359038964e-05, 4.1363306081620976e-05, 4.975180854671635e-05, 4.798339068656787e-05, 4.690663263318129e-05, 4.586530849337578e-05, 4.657546378439292e-05, 4.598001032718457e-05, 4.571158206090331e-05, 4.523727693594992e-05, 4.495292523643002e-05, 4.568699296214618e-05, 4.510476719588041e-05, 4.424919097800739e-05, 4.486044417717494e-05, 4.413043279782869e-05, 4.4039621570846066e-05, 4.368093141238205e-05, 4.376335709821433e-05, 4.403090133564547e-05, 4.38461393059697e-05, 4.362064282759093e-05, 4.343741966295056e-05, 4.321031519793905e-05, 4.3606687540886924e-05, 4.3353076762286946e-05, 4.3833410018123686e-05, 4.3162202928215265e-05, 4.295149483368732e-05, 4.239669942762703e-05, 4.260469722794369e-05, 4.339148654253222e-05, 4.2767820559674874e-05, 4.2832791223190725e-05, 4.2898074752883986e-05, 4.143611658946611e-05, 4.1433897422393784e-05, 4.141241515753791e-05, 4.141795579926111e-05, 4.1410017729504034e-05, 4.141272438573651e-05, 4.139755037613213e-05, 4.139405791647732e-05, 4.139075826969929e-05, 4.1384661017218605e-05, 4.1388550016563386e-05, 4.137902942602523e-05, 4.138156145927496e-05, 4.137893847655505e-05, 4.1383034840691835e-05, 4.13734233006835e-05, 4.138267831876874e-05, 4.138847361900844e-05, 4.137745054322295e-05, 4.137182986596599e-05, 4.137613723287359e-05, 4.136714414926246e-05, 4.1363269701832905e-05, 4.137791620451026e-05, 4.137755968258716e-05, 4.137095675105229e-05, 4.1384148062206805e-05, 4.1358292946824804e-05, 4.1368271922692657e-05, 4.137266660109162e-05, 4.136334246140905e-05, 5.045639773015864e-05, 4.87800789414905e-05, 4.736372648039833e-05, 4.690794594353065e-05, 4.701624493463896e-05, 4.615026409737766e-05, 4.595426798914559e-05, 4.506135155679658e-05, 4.5125503675080836e-05, 4.499165515881032e-05, 4.431799243320711e-05, 4.431412526173517e-05, 4.46547128376551e-05, 4.4194508518557996e-05, 4.377137156552635e-05, 4.420206823851913e-05, 4.411257032188587e-05, 4.390221511130221e-05, 4.378604353405535e-05, 4.346972855273634e-05, 4.3584783270489424e-05, 4.32928281952627e-05, 4.311930752010085e-05, 4.272907608537935e-05, 4.284197711967863e-05, 4.324176916270517e-05, 4.2821906390599906e-05, 4.2616145947249606e-05, 4.27852755819913e-05, 4.321563756093383e-05, 4.314296893426217e-05, 4.274324601283297e-05, 4.144540071138181e-05, 4.1430645069340244e-05, 4.141958925174549e-05, 4.143291516811587e-05, 4.140743112657219e-05, 4.141142198932357e-05, 4.1407700337003917e-05, 4.140786040807143e-05, 4.140045348322019e-05, 4.140243981964886e-05, 4.138759686611593e-05, 4.140131568419747e-05, 4.139037991990335e-05, 4.140269447816536e-05, 4.138561780564487e-05, 4.138381700613536e-05, 4.1395192965865135e-05, 4.138133590458892e-05, 4.138541771681048e-05, 4.138882286497392e-05, 4.138411532039754e-05, 4.1378567402716726e-05, 4.138660369790159e-05, 4.1383424104424194e-05, 4.1374001739313826e-05, 4.137056748731993e-05, 4.138039003009908e-05, 4.137218274991028e-05, 4.136794086662121e-05, 4.137654832447879e-05, 4.137536961934529e-05, 4.1372564737685025e-05, 5.017703369958326e-05, 5.0141803512815386e-05, 4.638284372049384e-05, 4.668373730964959e-05, 4.5946508180350065e-05, 4.514021929935552e-05, 4.5428485464071855e-05, 4.478177288547158e-05, 4.4887234253110364e-05, 4.455958696780726e-05, 4.450613050721586e-05, 4.493647429626435e-05, 4.453288420336321e-05, 4.429733962751925e-05, 4.4054344471078366e-05, 4.410963811096735e-05, 4.3718504457501695e-05, 4.329904186306521e-05, 4.371621980681084e-05, 4.301348599256016e-05, 4.31965381721966e-05, 4.2888670577667654e-05, 4.28724342782516e-05, 4.2869967728620395e-05, 4.3357744289096445e-05, 4.236500899423845e-05, 4.2787869460880756e-05, 4.309925498091616e-05, 4.2995532567147166e-05, 4.300925866118632e-05, 4.284953683963977e-05, 4.283510861569084e-05, 4.146748688071966e-05, 4.149410597165115e-05, 4.143943442613818e-05, 4.1429342672927305e-05, 4.144576087128371e-05, 4.1427018004469573e-05, 4.141142562730238e-05, 4.1424875234952196e-05, 4.141654062550515e-05, 4.142310717725195e-05, 4.1405099182156846e-05, 4.1407776734558865e-05, 4.141483441344462e-05, 4.1428418626310304e-05, 4.140739838476293e-05, 4.1411254642298445e-05, 4.140774763072841e-05, 4.1397743189008906e-05, 4.140206874581054e-05, 4.142245961702429e-05, 4.1398121538804844e-05, 4.1396633605472744e-05, 4.140708551858552e-05, 4.140285818721168e-05, 4.138987060287036e-05, 4.138889198657125e-05, 4.1398932808078825e-05, 4.139449811191298e-05, 4.138863005209714e-05, 4.139269367442466e-05, 4.13916859542951e-05, 4.139265001867898e-05, 4.139323937124573e-05, 4.6470337110804394e-05, 4.681940845330246e-05, 4.6091299736872315e-05, 4.5811637392034754e-05, 4.528365025180392e-05, 4.4745906052412465e-05, 4.505836477619596e-05, 4.465082747628912e-05, 4.439500116859563e-05, 4.430573608260602e-05, 4.43408680439461e-05, 4.401206024340354e-05, 4.4085456465836614e-05, 4.379323945613578e-05, 4.2972802475560457e-05, 4.3965806980850175e-05, 4.328251088736579e-05, 4.329525836510584e-05, 4.326366615714505e-05, 4.327022179495543e-05, 4.312393502914347e-05, 4.2950399802066386e-05, 4.285771865397692e-05, 4.3004765757359564e-05, 4.272758451406844e-05, 4.2709889385150746e-05, 4.278652704670094e-05, 4.2749757994897664e-05, 4.2792198655661196e-05, 4.2600240703905e-05, 4.260235436959192e-05, 4.145254933973774e-05, 4.144387276028283e-05, 4.1453396988799796e-05, 4.1431492718402296e-05, 4.1436436731601134e-05, 4.143576734350063e-05, 4.142777106608264e-05, 4.142449324717745e-05, 4.143779005971737e-05, 4.1423812945140526e-05, 4.141925091971643e-05, 4.142098987358622e-05, 4.141869067098014e-05, 4.142383113503456e-05, 4.142765101278201e-05, 4.142523175687529e-05, 4.1433118894929066e-05, 4.142663237871602e-05, 4.141670069657266e-05, 4.141814133618027e-05, 4.1411003621760756e-05, 4.1398860048502684e-05, 4.142193211009726e-05, 4.1412131395190954e-05, 4.140922465012409e-05, 4.1405201045563444e-05, 4.1410065023228526e-05, 4.1415434679947793e-05, 4.140760574955493e-05, 4.141170938964933e-05, 4.1411167330807075e-05, 4.141446697758511e-05, 4.141084718867205e-05, 4.1412982682231814e-05, 4.1410756239201874e-05, 4.5403980038827285e-05, 4.531015292741358e-05, 4.476447793422267e-05, 4.462297511054203e-05, 4.43419958173763e-05, 4.3914020352531224e-05, 4.346590503701009e-05, 4.343713590060361e-05, 4.329002695158124e-05, 4.330407682573423e-05, 4.291387813282199e-05, 4.304005051380955e-05, 4.3112053390359506e-05, 4.316689955885522e-05, 4.289851131034084e-05, 4.280157736502588e-05, 4.272889418643899e-05, 4.254507803125307e-05, 4.2389972804812714e-05, 4.226860619382933e-05, 4.243733565090224e-05, 4.222434290568344e-05, 4.211776104057208e-05, 4.2451967601664364e-05, 4.209332837490365e-05, 4.207781967124902e-05, 4.2241226765327156e-05, 4.216132219880819e-05, 4.223364157951437e-05, 4.215578883304261e-05, 4.247193646733649e-05, 4.234107109368779e-05, 4.2260042391717434e-05, 4.143735350226052e-05, 4.144976264797151e-05, 4.1437884647166356e-05, 4.142767647863366e-05, 4.143332625972107e-05, 4.1439710912527516e-05, 4.143706610193476e-05, 4.142510806559585e-05, 4.1423263610340655e-05, 4.143181649851613e-05, 4.142997568123974e-05, 4.1422888898523524e-05, 4.14262103731744e-05, 4.1415332816541195e-05, 4.1415682062506676e-05, 4.1412378777749836e-05, 4.140826786169782e-05, 4.141466342844069e-05, 4.142007674090564e-05, 4.14184651162941e-05, 4.1422852518735453e-05, 4.1421637433813885e-05, 4.142869875067845e-05, 4.139585871598683e-05, 4.1406376112718135e-05, 4.140912278671749e-05, 4.141449971939437e-05, 4.140180317335762e-05, 4.1417857573833317e-05, 4.140595774515532e-05, 4.141701720072888e-05, 4.1415743908146396e-05, 4.1412255086470395e-05, 4.140975943300873e-05, 4.4972643081564456e-05, 4.460176933207549e-05, 4.4729193177772686e-05, 4.353061012807302e-05, 4.358646765467711e-05, 4.362537220004015e-05, 4.351788084022701e-05, 4.33487439295277e-05, 4.334383629611693e-05, 4.317751154303551e-05, 4.3397732952144e-05, 4.3187101255171e-05, 4.298988642403856e-05, 4.301956869312562e-05, 4.3074778659502044e-05, 4.2936590034514666e-05, 4.2771273001562804e-05, 4.2764953832374886e-05, 4.275835453881882e-05, 4.2662231862777844e-05, 4.2645591747714207e-05, 4.2341926018707454e-05, 4.253289444022812e-05, 4.2493233195273206e-05, 4.25493017246481e-05, 4.2219824536005035e-05, 4.2271251004422083e-05, 4.2160419980064034e-05, 4.192191772744991e-05, 4.2125819163629785e-05, 4.2120303987758234e-05, 4.1470986616332084e-05, 4.144660852034576e-05, 4.1436236642766744e-05, 4.143831392866559e-05, 4.144131162320264e-05, 4.142114266869612e-05, 4.1431580029893667e-05, 4.1431580029893667e-05, 4.1418636101298034e-05, 4.1424114897381514e-05, 4.1415307350689545e-05, 4.1429906559642404e-05, 4.142833859077655e-05, 4.141478711972013e-05, 4.140720557188615e-05, 4.142889520153403e-05, 4.14260575780645e-05, 4.141462704865262e-05, 4.143063779338263e-05, 4.1421626519877464e-05, 4.141826866543852e-05, 4.142673424212262e-05, 4.1419909393880516e-05, 4.141654062550515e-05, 4.141580211580731e-05, 4.1420949855819345e-05, 4.1420826164539903e-05, 4.140922101214528e-05, 4.1416671592742205e-05, 4.140868622926064e-05, 4.1424365917919204e-05, 4.1410967241972685e-05, 4.141281533520669e-05, 4.1412578866584226e-05, 4.4607608288060874e-05, 4.4753574911737815e-05, 4.422839992912486e-05, 4.406553853186779e-05, 4.386218643048778e-05, 4.437892494024709e-05, 4.3519572500372306e-05, 4.339571751188487e-05, 4.335645280661993e-05, 4.3016298150178045e-05, 4.2973104427801445e-05, 4.291822551749647e-05, 4.284394162823446e-05, 4.288826312404126e-05, 4.2591716919559985e-05, 4.277353946235962e-05, 4.261529466020875e-05, 4.270874342182651e-05, 4.224415170028806e-05, 4.219135735183954e-05, 4.207924212096259e-05, 4.2408424633322284e-05, 4.239275585860014e-05, 4.202453783364035e-05, 4.202318086754531e-05, 4.201290357741527e-05, 4.229019396007061e-05, 4.220676055410877e-05, 4.210574843455106e-05, 4.209075268590823e-05, 4.207265010336414e-05, 4.207179517834447e-05, 4.204491415293887e-05, 4.1438997868681327e-05, 4.143977275816724e-05, 4.142760008107871e-05, 4.1437950130784884e-05, 4.143814294366166e-05, 4.143815385759808e-05, 4.1432969737797976e-05, 4.1421673813601956e-05, 4.142549732932821e-05, 4.141885438002646e-05, 4.14271344197914e-05, 4.142949910601601e-05, 4.141262616030872e-05, 4.141706813243218e-05, 4.142268153373152e-05, 4.1415409214096144e-05, 4.141819954384118e-05, 4.1423852962907404e-05, 4.142152101849206e-05, 4.141616227570921e-05, 4.141129829804413e-05, 4.141771205468103e-05, 4.142194666201249e-05, 4.141263343626633e-05, 4.141511453781277e-05, 4.141526733292267e-05, 4.139841257710941e-05, 4.141525278100744e-05, 4.1428978875046596e-05, 4.1406474338145927e-05, 4.142262332607061e-05, 4.14189780713059e-05, 4.141526005696505e-05, 4.4787488150177523e-05, 4.424019425641745e-05, 4.410976907820441e-05, 4.336744314059615e-05, 4.340961095294915e-05, 4.3346197344362736e-05, 4.301233639125712e-05, 4.313205135986209e-05, 4.298157728044316e-05, 4.2932599171763286e-05, 4.306283517507836e-05, 4.272123260307126e-05, 4.251685459166765e-05, 4.258548142388463e-05, 4.2662966734496877e-05, 4.2620900785550475e-05, 4.272858132026158e-05, 4.26817532570567e-05, 4.253574297763407e-05, 4.2468993342481554e-05, 4.2542520532151684e-05, 4.2283820221200585e-05, 4.2197545553790405e-05, 4.2185325582977384e-05, 4.224927397444844e-05, 4.2069266783073545e-05, 4.2338473576819524e-05, 4.212466228636913e-05, 4.2006122384918854e-05, 4.2173593101324514e-05, 4.2215258872602135e-05, 4.217565219732933e-05, 4.217129389871843e-05, 4.142766192671843e-05, 4.140245437156409e-05, 4.140921373618767e-05, 4.141210956731811e-05, 4.1407187381992117e-05, 4.1409890400245786e-05, 4.1397230233997107e-05, 4.141426688875072e-05, 4.140706005273387e-05, 4.140160308452323e-05, 4.14027163060382e-05, 4.140300734434277e-05, 4.140203236602247e-05, 4.1394181607756764e-05, 4.1401097405469045e-05, 4.138598887948319e-05, 4.139351949561387e-05, 4.1403272916795686e-05, 4.139986776863225e-05, 4.1407325625186786e-05, 4.139719749218784e-05, 4.139699012739584e-05, 4.138988515478559e-05, 4.140150122111663e-05, 4.139454540563747e-05, 4.1399620386073366e-05, 4.138252552365884e-05, 4.1388386307517067e-05, 4.138525400776416e-05, 4.138626900385134e-05, 4.139584780205041e-05, 4.1396506276214495e-05, 4.1398659959668294e-05, 4.139126758673228e-05, 4.139360680710524e-05, 4.139273369219154e-05, 4.139488373766653e-05, 4.1394894651602954e-05, 4.39811083197128e-05, 4.329165312810801e-05, 4.312571036280133e-05, 4.291555887903087e-05, 4.2755083995871246e-05, 4.2704712541308254e-05, 4.2846699216170236e-05, 4.256033935234882e-05, 4.243520015734248e-05, 4.2582585592754185e-05, 4.245902891852893e-05, 4.2448813474038616e-05, 4.233376239426434e-05, 4.229033584124409e-05, 4.2224601202178746e-05, 4.219950642436743e-05, 4.218579124426469e-05, 4.217233799863607e-05, 4.2170689994236454e-05, 4.216237721266225e-05, 4.207653910270892e-05, 4.2068240873049945e-05, 4.204121069051325e-05, 4.196950249024667e-05, 4.1916355257853866e-05, 4.1885559767251834e-05, 4.1863680962705985e-05, 4.1856135794660076e-05, 4.18379349866882e-05, 4.183621422271244e-05, 4.141651152167469e-05, 4.142898978898302e-05, 4.1413044527871534e-05, 4.140446617384441e-05, 4.140706732869148e-05, 4.1405488445889205e-05, 4.139779775869101e-05, 4.1409239202039316e-05, 4.140165765420534e-05, 4.139484735787846e-05, 4.139888915233314e-05, 4.1402305214433e-05, 4.13893794757314e-05, 4.139657539781183e-05, 4.1388564568478614e-05, 4.140075543546118e-05, 4.1380131733603776e-05, 4.140111559536308e-05, 4.138903022976592e-05, 4.138436634093523e-05, 4.13972775277216e-05, 4.138890653848648e-05, 4.139753946219571e-05, 4.139324664720334e-05, 4.139080556342378e-05, 4.140249075135216e-05, 4.138694566790946e-05, 4.137651194469072e-05, 4.138550139032304e-05, 4.1388124373042956e-05, 4.1390514525119215e-05, 4.1392402636120096e-05, 4.139385782764293e-05, 4.139731026953086e-05, 4.1392002458451316e-05, 4.1394017898710445e-05, 4.139530210522935e-05, 4.139273733017035e-05, 4.1390878322999924e-05, 4.1390539990970865e-05, 4.139094380661845e-05, 4.3104624637635425e-05, 4.306591290514916e-05, 4.290422657504678e-05, 4.299841748434119e-05, 4.291733057470992e-05, 4.289623029762879e-05, 4.257313776179217e-05, 4.2417817894602194e-05, 4.232314677210525e-05, 4.239095142111182e-05, 4.242965951561928e-05, 4.232201536069624e-05, 4.2284435039618984e-05, 4.2261490307282656e-05, 4.224536314723082e-05, 4.2238661990268156e-05, 4.2233848944306374e-05, 4.2178467992926016e-05, 4.213729698676616e-05, 4.213205102132633e-05, 4.2101914004888386e-05, 4.206354060443118e-05, 4.2005758587038144e-05, 4.197404268779792e-05, 4.195940346107818e-05, 4.19511015934404e-05, 4.193931818008423e-05, 4.1902745579136536e-05, 4.184191857348196e-05, 4.183027340332046e-05, 4.1421400965191424e-05, 4.140281453146599e-05, 4.141320823691785e-05, 4.139855445828289e-05, 4.1399096517125145e-05, 4.1396757296752185e-05, 4.13960988225881e-05, 4.13916859542951e-05, 4.138037547818385e-05, 4.13863017456606e-05, 4.139149314141832e-05, 4.13960478908848e-05, 4.137976429774426e-05, 4.138480653637089e-05, 4.139278826187365e-05, 4.139186785323545e-05, 4.1384111682418734e-05, 4.138321310165338e-05, 4.13919951824937e-05, 4.1371415136381984e-05, 4.138947042520158e-05, 4.138518124818802e-05, 4.138021176913753e-05, 4.139343946008012e-05, 4.138358781347051e-05, 4.137338692089543e-05, 4.139944940106943e-05, 4.139166776440106e-05, 4.138183066970669e-05, 4.138290387345478e-05, 4.140114469919354e-05, 4.138816075283103e-05, 4.138862277613953e-05, 4.139331940677948e-05, 4.138783333473839e-05, 4.138697113376111e-05, 4.1386523662367836e-05, 4.138780423090793e-05, 4.1384697397006676e-05, 4.1386450902791694e-05, 4.322511813370511e-05, 4.312313467380591e-05, 4.282348163542338e-05, 4.26232727477327e-05, 4.270034332876094e-05, 4.2564846808090806e-05, 4.2452404159121215e-05, 4.2657287849579006e-05, 4.235938467900269e-05, 4.26021397288423e-05, 4.241529677528888e-05, 4.2263131035724655e-05, 4.2245428630849347e-05, 4.2230843973811716e-05, 4.217926471028477e-05, 4.215880835545249e-05, 4.2083753214683384e-05, 4.208274185657501e-05, 4.2027371819131076e-05, 4.193954009679146e-05, 4.192587948637083e-05, 4.1908013372449204e-05, 4.186565274721943e-05, 4.1845356463454664e-05, 4.182862539892085e-05, 4.182777047390118e-05, 4.1807164961937815e-05, 4.179488314548507e-05, 4.179427196504548e-05, 4.1787225200096145e-05], \"Total\": [25.0, 19.0, 19.0, 17.0, 16.0, 15.0, 13.0, 13.0, 12.0, 11.0, 11.0, 10.0, 10.0, 10.0, 9.0, 9.0, 8.0, 8.0, 8.0, 7.0, 7.0, 7.0, 6.0, 6.0, 5.0, 5.0, 5.0, 5.0, 4.0, 4.0, 25.417430877685547, 19.559280395507812, 19.562076568603516, 17.61427116394043, 16.63605499267578, 15.660661697387695, 13.707353591918945, 13.707335472106934, 12.733044624328613, 11.756333351135254, 11.756357192993164, 10.78040599822998, 10.780550956726074, 10.778865814208984, 9.805644035339355, 9.803834915161133, 8.830379486083984, 8.828696250915527, 8.828619956970215, 7.8538312911987305, 7.852850914001465, 7.852998733520508, 6.878783702850342, 6.87706995010376, 5.903932094573975, 5.902308940887451, 5.90208625793457, 5.901679039001465, 4.930649757385254, 4.928611755371094, 1.0255004167556763, 1.0249769687652588, 1.0251895189285278, 1.0255142450332642, 1.025087833404541, 1.0250957012176514, 1.0252642631530762, 1.0254149436950684, 1.0253559350967407, 1.0251984596252441, 1.0252952575683594, 1.0252048969268799, 1.025490641593933, 1.0253386497497559, 1.025363564491272, 1.0255054235458374, 1.0253125429153442, 1.0249741077423096, 1.0254297256469727, 1.0253528356552124, 1.0254199504852295, 1.0253440141677856, 1.0252931118011475, 1.0253448486328125, 1.0254521369934082, 1.025193691253662, 1.0253182649612427, 1.0251315832138062, 1.025248646736145, 1.0253511667251587, 1.0254040956497192, 1.025536060333252, 17.61427116394043, 25.417430877685547, 15.660661697387695, 16.63605499267578, 19.559280395507812, 8.828696250915527, 19.562076568603516, 13.707353591918945, 7.8538312911987305, 9.803834915161133, 11.756357192993164, 12.733044624328613, 7.852850914001465, 9.805644035339355, 11.756333351135254, 13.707335472106934, 8.828619956970215, 10.778865814208984, 10.780550956726074, 10.78040599822998, 6.878783702850342, 6.87706995010376, 5.902308940887451, 8.830379486083984, 7.852998733520508, 4.928325653076172, 3.9508347511291504, 5.90208625793457, 5.903932094573975, 4.9267144203186035, 5.901679039001465, 1.025545597076416, 1.0252734422683716, 1.025307297706604, 1.025536060333252, 1.0253455638885498, 1.0252772569656372, 1.0252944231033325, 1.0252492427825928, 1.0256502628326416, 1.0253446102142334, 1.0252070426940918, 1.0252642631530762, 1.0251857042312622, 1.0253247022628784, 1.0252902507781982, 1.0252797603607178, 1.025532603263855, 1.0251766443252563, 1.0252373218536377, 1.0254019498825073, 1.025434136390686, 1.025312066078186, 1.025313138961792, 1.0253318548202515, 1.025442123413086, 1.025384783744812, 1.025428056716919, 1.0252569913864136, 1.0253652334213257, 1.0252161026000977, 1.025818943977356, 1.0255149602890015, 25.417430877685547, 11.756357192993164, 19.562076568603516, 15.660661697387695, 12.733044624328613, 10.780550956726074, 19.559280395507812, 10.78040599822998, 13.707335472106934, 13.707353591918945, 16.63605499267578, 8.828619956970215, 10.778865814208984, 7.852998733520508, 11.756333351135254, 9.805644035339355, 7.852850914001465, 8.828696250915527, 5.90208625793457, 17.61427116394043, 8.830379486083984, 7.8538312911987305, 4.9285125732421875, 5.901679039001465, 9.803834915161133, 2.9760630130767822, 3.9511537551879883, 4.9267144203186035, 4.927502632141113, 5.903932094573975, 4.928468704223633, 6.87706995010376, 6.878783702850342, 1.0251753330230713, 1.0252902507781982, 1.0253430604934692, 1.0252814292907715, 1.0255777835845947, 1.0253125429153442, 1.0253182649612427, 1.0251742601394653, 1.0250957012176514, 1.0255087614059448, 1.0254138708114624, 1.025092363357544, 1.025386929512024, 1.0253220796585083, 1.0253180265426636, 1.0255190134048462, 1.0251343250274658, 1.0253844261169434, 1.0252420902252197, 1.0256094932556152, 1.0253530740737915, 1.025421380996704, 1.025214672088623, 1.0251879692077637, 1.0254164934158325, 1.025307297706604, 1.0254024267196655, 1.0254019498825073, 1.0254040956497192, 1.0256028175354004, 1.0258879661560059, 1.0256177186965942, 25.417430877685547, 17.61427116394043, 19.559280395507812, 19.562076568603516, 15.660661697387695, 16.63605499267578, 13.707353591918945, 13.707335472106934, 10.78040599822998, 9.803834915161133, 10.778865814208984, 8.828619956970215, 10.780550956726074, 12.733044624328613, 11.756357192993164, 11.756333351135254, 8.830379486083984, 7.852998733520508, 3.9514455795288086, 2.000274419784546, 4.927502632141113, 9.805644035339355, 8.828696250915527, 4.927249431610107, 7.852850914001465, 4.927646636962891, 3.9508347511291504, 5.902308940887451, 6.878783702850342, 3.9518773555755615, 7.8538312911987305, 6.87706995010376, 5.903932094573975, 1.0253208875656128, 1.025418758392334, 1.0252186059951782, 1.0251637697219849, 1.025478482246399, 1.0255064964294434, 1.0254560708999634, 1.0253320932388306, 1.025248646736145, 1.0254030227661133, 1.0253214836120605, 1.0253806114196777, 1.0251857042312622, 1.0252723693847656, 1.0254061222076416, 1.0255740880966187, 1.0255008935928345, 1.0253970623016357, 1.0249813795089722, 1.025092363357544, 1.0254631042480469, 1.0253965854644775, 1.0253386497497559, 1.025532603263855, 1.0254346132278442, 1.0252934694290161, 1.025320053100586, 1.0252662897109985, 1.0254164934158325, 1.0255084037780762, 1.0254998207092285, 25.417430877685547, 17.61427116394043, 11.756333351135254, 13.707335472106934, 19.559280395507812, 19.562076568603516, 16.63605499267578, 11.756357192993164, 7.8538312911987305, 10.778865814208984, 9.803834915161133, 15.660661697387695, 13.707353591918945, 10.780550956726074, 8.828619956970215, 10.78040599822998, 4.928319454193115, 5.90208625793457, 6.87706995010376, 8.830379486083984, 4.927249431610107, 12.733044624328613, 7.852998733520508, 8.828696250915527, 9.805644035339355, 5.903932094573975, 4.930649757385254, 7.852850914001465, 5.901679039001465, 4.926902770996094, 5.902308940887451, 6.878783702850342, 1.0253182649612427, 1.0250649452209473, 1.025490641593933, 1.0254844427108765, 1.0252138376235962, 1.025464415550232, 1.0252833366394043, 1.02517569065094, 1.0254442691802979, 1.0254080295562744, 1.025375485420227, 1.0252695083618164, 1.0255669355392456, 1.0251396894454956, 1.0254522562026978, 1.0255346298217773, 1.0253530740737915, 1.0253952741622925, 1.0250681638717651, 1.0256246328353882, 1.0257759094238281, 1.0255004167556763, 1.0252152681350708, 1.0252946615219116, 1.0252845287322998, 1.02560555934906, 1.0256052017211914, 1.0253455638885498, 1.0254671573638916, 1.0252174139022827, 1.0253393650054932, 1.0253989696502686, 1.0255084037780762, 19.562076568603516, 25.417430877685547, 19.559280395507812, 15.660661697387695, 12.733044624328613, 13.707335472106934, 16.63605499267578, 13.707353591918945, 17.61427116394043, 9.803834915161133, 11.756357192993164, 10.778865814208984, 7.852850914001465, 10.780550956726074, 6.87706995010376, 8.828696250915527, 8.830379486083984, 5.901679039001465, 7.852998733520508, 4.928319454193115, 11.756333351135254, 4.927646636962891, 2.9770336151123047, 6.878783702850342, 5.902308940887451, 4.926902770996094, 9.805644035339355, 10.78040599822998, 8.828619956970215, 5.903932094573975, 4.9285125732421875, 7.8538312911987305, 1.0256457328796387, 1.0252482891082764, 1.0255541801452637, 1.0253652334213257, 1.0252174139022827, 1.0255087614059448, 1.0254908800125122, 1.025352120399475, 1.0253806114196777, 1.02566397190094, 1.0255320072174072, 1.0252149105072021, 1.0254054069519043, 1.0252734422683716, 1.0251343250274658, 1.0256227254867554, 1.0253182649612427, 1.0253468751907349, 1.0253630876541138, 1.025464415550232, 1.0253835916519165, 1.0255571603775024, 1.0254701375961304, 1.025255560874939, 1.0253989696502686, 1.0254442691802979, 1.0249741077423096, 1.025438904762268, 1.0252695083618164, 1.025374174118042, 1.0254663228988647, 1.0255725383758545, 19.562076568603516, 25.417430877685547, 19.559280395507812, 10.78040599822998, 17.61427116394043, 13.707335472106934, 15.660661697387695, 10.780550956726074, 9.805644035339355, 11.756333351135254, 12.733044624328613, 16.63605499267578, 8.828619956970215, 10.778865814208984, 9.803834915161133, 13.707353591918945, 5.90208625793457, 7.8538312911987305, 5.901679039001465, 7.852850914001465, 11.756357192993164, 8.828696250915527, 7.852998733520508, 6.878783702850342, 5.903932094573975, 5.902308940887451, 4.928611755371094, 3.952533721923828, 6.87706995010376, 4.926902770996094, 8.830379486083984, 1.0252803564071655, 1.0251766443252563, 1.0253870487213135, 1.0255157947540283, 1.025188684463501, 1.0253480672836304, 1.0253721475601196, 1.0251343250274658, 1.0253056287765503, 1.0255135297775269, 1.0252174139022827, 1.0253461599349976, 1.0253262519836426, 1.0251753330230713, 1.0252621173858643, 1.0252894163131714, 1.0252116918563843, 1.0254316329956055, 1.0251315832138062, 1.02517569065094, 1.0257198810577393, 1.025295376777649, 1.0254523754119873, 1.0252463817596436, 1.0253175497055054, 1.025492548942566, 1.0256978273391724, 1.0255037546157837, 1.0252246856689453, 1.0257073640823364, 1.0256028175354004, 17.61427116394043, 19.559280395507812, 25.417430877685547, 19.562076568603516, 15.660661697387695, 10.780550956726074, 11.756333351135254, 10.78040599822998, 8.830379486083984, 13.707353591918945, 7.852998733520508, 16.63605499267578, 6.87706995010376, 11.756357192993164, 10.778865814208984, 6.878783702850342, 12.733044624328613, 9.805644035339355, 7.852850914001465, 13.707335472106934, 8.828696250915527, 9.803834915161133, 8.828619956970215, 3.950390577316284, 4.927502632141113, 5.901679039001465, 5.902308940887451, 3.9516963958740234, 4.927641868591309, 4.9267144203186035, 7.8538312911987305, 1.0251766443252563, 1.0254528522491455, 1.0257198810577393, 1.02548348903656, 1.0252116918563843, 1.0251895189285278, 1.0252848863601685, 1.0252246856689453, 1.0254054069519043, 1.0254998207092285, 1.0252149105072021, 1.02517569065094, 1.0250681638717651, 1.0254185199737549, 1.025438904762268, 1.025087833404541, 1.0253421068191528, 1.0252058506011963, 1.0253056287765503, 1.0256028175354004, 1.0253952741622925, 1.0249769687652588, 1.0253267288208008, 1.025312066078186, 1.0253214836120605, 1.0253448486328125, 1.0254100561141968, 1.0253970623016357, 1.0253552198410034, 1.0254853963851929, 1.0256224870681763, 1.0258089303970337, 19.562076568603516, 25.417430877685547, 17.61427116394043, 13.707353591918945, 12.733044624328613, 16.63605499267578, 13.707335472106934, 10.778865814208984, 19.559280395507812, 10.78040599822998, 15.660661697387695, 8.830379486083984, 11.756357192993164, 10.780550956726074, 11.756333351135254, 9.803834915161133, 5.902308940887451, 8.828619956970215, 6.878783702850342, 9.805644035339355, 7.8538312911987305, 5.90208625793457, 7.852998733520508, 4.92815637588501, 6.87706995010376, 7.852850914001465, 3.951538324356079, 3.952455520629883, 4.928611755371094, 2.0008740425109863, 4.930649757385254, 4.926902770996094, 8.828696250915527, 1.0253287553787231, 1.0254522562026978, 1.0253806114196777, 1.0254844427108765, 1.025464653968811, 1.0255995988845825, 1.0254453420639038, 1.0252193212509155, 1.025463342666626, 1.0252604484558105, 1.0249813795089722, 1.0252797603607178, 1.0254523754119873, 1.0254408121109009, 1.0253543853759766, 1.0256483554840088, 1.0254428386688232, 1.02545964717865, 1.0252803564071655, 1.0254316329956055, 1.0257751941680908, 1.0253885984420776, 1.0253180265426636, 1.025392770767212, 1.0258121490478516, 1.0254088640213013, 1.0252420902252197, 1.0254853963851929, 1.0251857042312622, 1.0253220796585083, 1.0256131887435913, 1.025755524635315, 1.0256260633468628, 25.417430877685547, 19.559280395507812, 13.707335472106934, 12.733044624328613, 19.562076568603516, 16.63605499267578, 13.707353591918945, 11.756333351135254, 9.803834915161133, 17.61427116394043, 11.756357192993164, 8.828619956970215, 15.660661697387695, 8.830379486083984, 9.805644035339355, 6.87706995010376, 7.8538312911987305, 10.778865814208984, 8.828696250915527, 6.878783702850342, 5.903932094573975, 4.926902770996094, 7.852850914001465, 5.902308940887451, 10.78040599822998, 5.901679039001465, 4.928468704223633, 2.9760608673095703, 3.9519975185394287, 10.780550956726074, 4.928319454193115, 5.90208625793457, 7.852998733520508, 1.0255650281906128, 1.0256661176681519, 1.0252022743225098, 1.0253909826278687, 1.0254080295562744, 1.02548348903656, 1.0253208875656128, 1.02534818649292, 1.0252845287322998, 1.0253175497055054, 1.0254435539245605, 1.0252487659454346, 1.0253429412841797, 1.0253214836120605, 1.0254290103912354, 1.0252310037612915, 1.0254873037338257, 1.0256342887878418, 1.0254123210906982, 1.0253169536590576, 1.0255054235458374, 1.0252848863601685, 1.0252116918563843, 1.025578498840332, 1.025591492652893, 1.0254734754562378, 1.0258089303970337, 1.025177240371704, 1.0254466533660889, 1.0255560874938965, 1.0253989696502686, 25.417430877685547, 19.562076568603516, 16.63605499267578, 17.61427116394043, 19.559280395507812, 13.707353591918945, 13.707335472106934, 8.830379486083984, 12.733044624328613, 11.756333351135254, 8.828696250915527, 9.805644035339355, 15.660661697387695, 10.778865814208984, 6.878783702850342, 11.756357192993164, 10.780550956726074, 10.78040599822998, 9.803834915161133, 6.87706995010376, 7.852998733520508, 5.901679039001465, 4.9267144203186035, 3.952533721923828, 4.927249431610107, 7.8538312911987305, 4.928468704223633, 3.951538324356079, 4.928325653076172, 8.828619956970215, 7.852850914001465, 5.90208625793457, 1.025320053100586, 1.0249813795089722, 1.0253139734268188, 1.0256750583648682, 1.0250649452209473, 1.0252529382705688, 1.0252058506011963, 1.0255008935928345, 1.0253468751907349, 1.0253965854644775, 1.0250681638717651, 1.025516390800476, 1.0252621173858643, 1.025596022605896, 1.0252152681350708, 1.02517569065094, 1.025536060333252, 1.0252246856689453, 1.0253480672836304, 1.0255722999572754, 1.025518774986267, 1.0254088640213013, 1.0256321430206299, 1.0255584716796875, 1.0253448486328125, 1.0253081321716309, 1.0255541801452637, 1.025355577468872, 1.0252569913864136, 1.0254873037338257, 1.0254853963851929, 1.0254226922988892, 19.559280395507812, 25.417430877685547, 16.63605499267578, 19.562076568603516, 13.707353591918945, 9.805644035339355, 15.660661697387695, 11.756333351135254, 12.733044624328613, 10.780550956726074, 10.778865814208984, 17.61427116394043, 13.707335472106934, 10.78040599822998, 9.803834915161133, 11.756357192993164, 7.8538312911987305, 4.927641868591309, 8.828619956970215, 4.928325653076172, 6.878783702850342, 4.927249431610107, 4.926902770996094, 4.928611755371094, 8.828696250915527, 2.976321220397949, 4.9267144203186035, 7.852850914001465, 6.87706995010376, 7.852998733520508, 5.901679039001465, 8.830379486083984, 1.0249741077423096, 1.0258877277374268, 1.0253081321716309, 1.025193691253662, 1.0257203578948975, 1.0252833366394043, 1.0249818563461304, 1.025345802307129, 1.0252662897109985, 1.0254528522491455, 1.0250649452209473, 1.0251343250274658, 1.025320053100586, 1.0256750583648682, 1.0252373218536377, 1.0253528356552124, 1.0252957344055176, 1.0251895189285278, 1.0253461599349976, 1.0258879661560059, 1.0253214836120605, 1.0252934694290161, 1.025560736656189, 1.025496244430542, 1.0252048969268799, 1.0251857042312622, 1.0254560708999634, 1.025374174118042, 1.0252529382705688, 1.0253806114196777, 1.0254346132278442, 1.0255053043365479, 1.02566397190094, 19.559280395507812, 25.417430877685547, 19.562076568603516, 16.63605499267578, 13.707353591918945, 11.756333351135254, 17.61427116394043, 13.707335472106934, 11.756357192993164, 10.778865814208984, 12.733044624328613, 9.805644035339355, 10.78040599822998, 10.780550956726074, 4.927502632141113, 15.660661697387695, 7.852850914001465, 8.828619956970215, 8.828696250915527, 9.803834915161133, 7.852998733520508, 6.87706995010376, 5.902308940887451, 8.830379486083984, 4.928468704223633, 4.9267144203186035, 5.901679039001465, 5.903932094573975, 6.878783702850342, 4.926902770996094, 7.8538312911987305, 1.0252946615219116, 1.0252193212509155, 1.025484561920166, 1.0249818563461304, 1.0253559350967407, 1.0254722833633423, 1.0252803564071655, 1.0252482891082764, 1.0256028175354004, 1.0252814292907715, 1.0252149105072021, 1.0252604484558105, 1.0252174139022827, 1.0253446102142334, 1.025471568107605, 1.025436282157898, 1.0256661176681519, 1.0255571603775024, 1.0253318548202515, 1.0254080295562744, 1.025248646736145, 1.0249769687652588, 1.02555513381958, 1.0253393650054932, 1.0252833366394043, 1.0251895189285278, 1.025313138961792, 1.0254701375961304, 1.025295376777649, 1.0254040956497192, 1.0254123210906982, 1.025578498840332, 1.0254671573638916, 1.0256246328353882, 1.0255037546157837, 19.562076568603516, 25.417430877685547, 16.63605499267578, 19.559280395507812, 17.61427116394043, 13.707353591918945, 10.778865814208984, 12.733044624328613, 10.78040599822998, 11.756357192993164, 7.852998733520508, 10.780550956726074, 13.707335472106934, 15.660661697387695, 9.805644035339355, 9.803834915161133, 8.830379486083984, 6.878783702850342, 5.90208625793457, 4.926902770996094, 7.852850914001465, 4.928611755371094, 3.9514455795288086, 8.828619956970215, 3.951538324356079, 3.952361822128296, 5.903932094573975, 4.927646636962891, 5.902308940887451, 4.927249431610107, 11.756333351135254, 8.828696250915527, 6.87706995010376, 1.0249813795089722, 1.025463342666626, 1.0254316329956055, 1.0251984596252441, 1.0253386497497559, 1.0255084037780762, 1.0254453420639038, 1.0252482891082764, 1.0252058506011963, 1.02545964717865, 1.0254290103912354, 1.0253175497055054, 1.0254123210906982, 1.025193691253662, 1.025214672088623, 1.0251396894454956, 1.0251343250274658, 1.0252946615219116, 1.0254560708999634, 1.0255054235458374, 1.0256158113479614, 1.02560293674469, 1.025782585144043, 1.0249741077423096, 1.0252772569656372, 1.0253552198410034, 1.0254887342453003, 1.0251766443252563, 1.0255751609802246, 1.025295376777649, 1.0255740880966187, 1.0256280899047852, 1.0255827903747559, 1.0256094932556152, 19.562076568603516, 19.559280395507812, 25.417430877685547, 10.778865814208984, 11.756357192993164, 17.61427116394043, 15.660661697387695, 10.780550956726074, 12.733044624328613, 9.803834915161133, 16.63605499267578, 13.707353591918945, 9.805644035339355, 11.756333351135254, 13.707335472106934, 10.78040599822998, 8.828619956970215, 8.830379486083984, 8.828696250915527, 7.852998733520508, 7.8538312911987305, 3.9528019428253174, 6.87706995010376, 6.878783702850342, 7.852850914001465, 3.951538324356079, 4.927641868591309, 4.928319454193115, 2.975958824157715, 4.930649757385254, 4.9285125732421875, 1.025434136390686, 1.0253480672836304, 1.0253446102142334, 1.0254040956497192, 1.0255571603775024, 1.0250649452209473, 1.0253393650054932, 1.025359869003296, 1.0250957012176514, 1.0252772569656372, 1.0250681638717651, 1.0254638195037842, 1.0254528522491455, 1.0251396894454956, 1.0249769687652588, 1.0255541801452637, 1.0254933834075928, 1.0252174139022827, 1.0256224870681763, 1.0254030227661133, 1.0253440141677856, 1.0255560874938965, 1.0253970623016357, 1.0253630876541138, 1.0253448486328125, 1.025484561920166, 1.0254844427108765, 1.0252695083618164, 1.0254554748535156, 1.0252844095230103, 1.0258550643920898, 1.0254236459732056, 1.0256102085113525, 1.0256789922714233, 15.660661697387695, 19.562076568603516, 19.559280395507812, 16.63605499267578, 13.707335472106934, 25.417430877685547, 13.707353591918945, 12.733044624328613, 17.61427116394043, 11.756357192993164, 10.778865814208984, 10.780550956726074, 9.805644035339355, 11.756333351135254, 6.87706995010376, 10.78040599822998, 7.8538312911987305, 9.803834915161133, 4.927646636962891, 4.928611755371094, 3.951616048812866, 8.828696250915527, 8.828619956970215, 3.9523909091949463, 3.950390577316284, 3.952918291091919, 8.830379486083984, 7.852998733520508, 5.903932094573975, 4.928468704223633, 5.901679039001465, 6.878783702850342, 7.852850914001465, 1.0253721475601196, 1.0254316329956055, 1.025214672088623, 1.025471568107605, 1.025499939918518, 1.0255053043365479, 1.0254554748535156, 1.0252022743225098, 1.0253169536590576, 1.0251598358154297, 1.0254182815551758, 1.0254908800125122, 1.025087833404541, 1.0252058506011963, 1.0253461599349976, 1.0251742601394653, 1.0252621173858643, 1.0254195928573608, 1.0253660678863525, 1.025248646736145, 1.0251984596252441, 1.025363564491272, 1.0254731178283691, 1.0252487659454346, 1.02534818649292, 1.0253870487213135, 1.0249813795089722, 1.025437831878662, 1.0257917642593384, 1.0252492427825928, 1.0257267951965332, 1.0257411003112793, 1.025702953338623, 25.417430877685547, 16.63605499267578, 19.559280395507812, 11.756333351135254, 19.562076568603516, 17.61427116394043, 8.830379486083984, 13.707353591918945, 11.756357192993164, 10.778865814208984, 15.660661697387695, 7.852998733520508, 6.87706995010376, 8.828696250915527, 10.780550956726074, 9.805644035339355, 12.733044624328613, 13.707335472106934, 9.803834915161133, 8.828619956970215, 10.78040599822998, 5.90208625793457, 4.926902770996094, 4.9285125732421875, 5.901679039001465, 3.95149564743042, 7.8538312911987305, 4.928611755371094, 3.952742576599121, 5.903932094573975, 7.852850914001465, 6.878783702850342, 5.902308940887451, 1.0253393650054932, 1.0249813795089722, 1.0252373218536377, 1.025320053100586, 1.0252310037612915, 1.0253455638885498, 1.0250681638717651, 1.0255149602890015, 1.0253374576568604, 1.0252492427825928, 1.0252803564071655, 1.025301456451416, 1.025300145149231, 1.0251598358154297, 1.0253334045410156, 1.0249769687652588, 1.0251857042312622, 1.0254297256469727, 1.0253559350967407, 1.0255494117736816, 1.0253169536590576, 1.0253480672836304, 1.025177240371704, 1.025492548942566, 1.0253543853759766, 1.0254873037338257, 1.0250649452209473, 1.0252116918563843, 1.0251396894454956, 1.0251766443252563, 1.0254226922988892, 1.0254673957824707, 1.0256342887878418, 1.0253721475601196, 1.025504231452942, 1.0254621505737305, 1.0257031917572021, 1.0258550643920898, 25.417430877685547, 19.562076568603516, 19.559280395507812, 15.660661697387695, 12.733044624328613, 11.756333351135254, 16.63605499267578, 9.805644035339355, 8.830379486083984, 13.707335472106934, 10.778865814208984, 13.707353591918945, 10.78040599822998, 17.61427116394043, 7.852998733520508, 10.780550956726074, 8.828696250915527, 9.803834915161133, 8.828619956970215, 7.8538312911987305, 6.878783702850342, 6.87706995010376, 7.852850914001465, 5.903932094573975, 11.756357192993164, 4.9285125732421875, 5.90208625793457, 5.902308940887451, 4.928468704223633, 4.927646636962891, 1.0252797603607178, 1.025681734085083, 1.0254123210906982, 1.0253175497055054, 1.0253885984420776, 1.0253511667251587, 1.0251879692077637, 1.025516390800476, 1.0253334045410156, 1.025214672088623, 1.0253169536590576, 1.0254182815551758, 1.0251315832138062, 1.0253139734268188, 1.0251396894454956, 1.0254523754119873, 1.0249769687652588, 1.025503158569336, 1.0252048969268799, 1.025092363357544, 1.025416612625122, 1.0252149105072021, 1.0254316329956055, 1.0253393650054932, 1.0252937078475952, 1.0256094932556152, 1.0252310037612915, 1.0249818563461304, 1.0252058506011963, 1.0252844095230103, 1.0253543853759766, 1.0254054069519043, 1.025492548942566, 1.0256227254867554, 1.025434136390686, 1.0255186557769775, 1.0256177186965942, 1.025527834892273, 1.0254673957824707, 1.0254701375961304, 1.0256052017211914, 19.559280395507812, 19.562076568603516, 13.707335472106934, 17.61427116394043, 16.63605499267578, 25.417430877685547, 12.733044624328613, 9.805644035339355, 7.852850914001465, 9.803834915161133, 15.660661697387695, 11.756333351135254, 11.756357192993164, 8.830379486083984, 10.778865814208984, 13.707353591918945, 10.780550956726074, 8.828696250915527, 7.8538312911987305, 10.78040599822998, 6.87706995010376, 7.852998733520508, 8.828619956970215, 5.901679039001465, 4.927646636962891, 5.903932094573975, 5.902308940887451, 6.878783702850342, 4.928319454193115, 4.9285125732421875, 1.0253081321716309, 1.0249813795089722, 1.0252957344055176, 1.0253318548202515, 1.025416612625122, 1.0254080295562744, 1.025404453277588, 1.025312066078186, 1.0250681638717651, 1.0252161026000977, 1.0253543853759766, 1.0254722833633423, 1.025087833404541, 1.0252246856689453, 1.0254442691802979, 1.0254226922988892, 1.0252662897109985, 1.0252482891082764, 1.0254671573638916, 1.0249741077423096, 1.0254290103912354, 1.0253262519836426, 1.0252138376235962, 1.0255768299102783, 1.0253429412841797, 1.025092363357544, 1.0257467031478882, 1.0255571603775024, 1.0253175497055054, 1.0253480672836304, 1.025818943977356, 1.025484561920166, 1.0255008935928345, 1.0256321430206299, 1.0255149602890015, 1.0254877805709839, 1.0254827737808228, 1.0258089303970337, 1.0254689455032349, 1.025791883468628, 19.559280395507812, 25.417430877685547, 15.660661697387695, 10.78040599822998, 16.63605499267578, 13.707353591918945, 11.756333351135254, 19.562076568603516, 9.805644035339355, 17.61427116394043, 13.707335472106934, 9.803834915161133, 12.733044624328613, 10.778865814208984, 11.756357192993164, 7.852998733520508, 7.852850914001465, 10.780550956726074, 7.8538312911987305, 6.87706995010376, 6.878783702850342, 8.830379486083984, 8.828696250915527, 8.828619956970215, 5.903932094573975, 5.90208625793457, 4.928468704223633, 4.930649757385254, 4.927641868591309, 4.928611755371094], \"logprob\": [30.0, 29.0, 28.0, 27.0, 26.0, 25.0, 24.0, 23.0, 22.0, 21.0, 20.0, 19.0, 18.0, 17.0, 16.0, 15.0, 14.0, 13.0, 12.0, 11.0, 10.0, 9.0, 8.0, 7.0, 6.0, 5.0, 4.0, 3.0, 2.0, 1.0, -3.8160998821258545, -4.078100204467773, -4.077899932861328, -4.182799816131592, -4.2399001121521, -4.3003997802734375, -4.433599948883057, -4.433599948883057, -4.507299900054932, -4.587100028991699, -4.587100028991699, -4.673799991607666, -4.673799991607666, -4.673999786376953, -4.768599987030029, -4.768799781799316, -4.8734002113342285, -4.873600006103516, -4.873600006103516, -4.990600109100342, -4.990699768066406, -4.990699768066406, -5.1230998039245605, -5.1234002113342285, -5.276000022888184, -5.276299953460693, -5.276299953460693, -5.276400089263916, -5.456200122833252, -5.456600189208984, -6.350299835205078, -6.350900173187256, -6.350900173187256, -6.351099967956543, -6.351600170135498, -6.351600170135498, -6.3516998291015625, -6.351600170135498, -6.351900100708008, -6.3520002365112305, -6.352099895477295, -6.352200031280518, -6.352099895477295, -6.35230016708374, -6.352399826049805, -6.352799892425537, -6.3531999588012695, -6.353899955749512, -6.353600025177002, -6.353799819946289, -6.354000091552734, -6.3541998863220215, -6.354300022125244, -6.354300022125244, -6.354300022125244, -6.354599952697754, -6.354400157928467, -6.354599952697754, -6.354599952697754, -6.354499816894531, -6.354499816894531, -6.354400157928467, -6.005000114440918, -5.967100143432617, -6.036600112915039, -6.032400131225586, -6.031199932098389, -6.134900093078613, -6.080399990081787, -6.151299953460693, -6.191800117492676, -6.178199768066406, -6.172599792480469, -6.167099952697754, -6.2032999992370605, -6.191100120544434, -6.181099891662598, -6.179699897766113, -6.206200122833252, -6.201700210571289, -6.204999923706055, -6.217899799346924, -6.242400169372559, -6.246300220489502, -6.2555999755859375, -6.237800121307373, -6.244800090789795, -6.269400119781494, -6.281599998474121, -6.265399932861328, -6.268899917602539, -6.2769999504089355, -6.276400089263916, -6.345900058746338, -6.348400115966797, -6.348499774932861, -6.348499774932861, -6.348800182342529, -6.348899841308594, -6.349100112915039, -6.349299907684326, -6.349100112915039, -6.3495001792907715, -6.349800109863281, -6.349999904632568, -6.350200176239014, -6.350100040435791, -6.350200176239014, -6.350299835205078, -6.350100040435791, -6.350800037384033, -6.350800037384033, -6.3506999015808105, -6.3506999015808105, -6.350800037384033, -6.350800037384033, -6.350900173187256, -6.350900173187256, -6.35099983215332, -6.35099983215332, -6.351200103759766, -6.351200103759766, -6.351399898529053, -6.35099983215332, -6.351200103759766, -5.973599910736084, -6.12060022354126, -6.110499858856201, -6.13100004196167, -6.152599811553955, -6.1656999588012695, -6.132500171661377, -6.1753997802734375, -6.161799907684326, -6.162700176239014, -6.161600112915039, -6.206299781799316, -6.198200225830078, -6.221199989318848, -6.199100017547607, -6.216100215911865, -6.228099822998047, -6.225399971008301, -6.249499797821045, -6.1975998878479, -6.241799831390381, -6.255499839782715, -6.276199817657471, -6.270599842071533, -6.252500057220459, -6.3024001121521, -6.292099952697754, -6.286399841308594, -6.286600112915039, -6.283999919891357, -6.292200088500977, -6.288099765777588, -6.289100170135498, -6.34630012512207, -6.346399784088135, -6.34660005569458, -6.346799850463867, -6.346799850463867, -6.347400188446045, -6.347499847412109, -6.3480000495910645, -6.348199844360352, -6.3480000495910645, -6.348100185394287, -6.348499774932861, -6.348199844360352, -6.348400115966797, -6.348499774932861, -6.348299980163574, -6.348700046539307, -6.348499774932861, -6.348700046539307, -6.348299980163574, -6.348599910736084, -6.348499774932861, -6.348800182342529, -6.348899841308594, -6.348700046539307, -6.348800182342529, -6.348800182342529, -6.348899841308594, -6.348999977111816, -6.348800182342529, -6.348700046539307, -6.348899841308594, -6.0980000495910645, -6.131999969482422, -6.130300045013428, -6.145400047302246, -6.166100025177002, -6.16349983215332, -6.1753997802734375, -6.1774001121521, -6.205599784851074, -6.211699962615967, -6.211299896240234, -6.225299835205078, -6.218699932098389, -6.218299865722656, -6.227200031280518, -6.228099822998047, -6.250500202178955, -6.259699821472168, -6.289999961853027, -6.317699909210205, -6.285099983215332, -6.258600234985352, -6.264699935913086, -6.285999774932861, -6.272500038146973, -6.289299964904785, -6.296800136566162, -6.285999774932861, -6.284800052642822, -6.3018999099731445, -6.281700134277344, -6.288899898529053, -6.293700218200684, -6.344900131225586, -6.345600128173828, -6.3460001945495605, -6.34660005569458, -6.346499919891357, -6.346499919891357, -6.346700191497803, -6.3470001220703125, -6.347099781036377, -6.3470001220703125, -6.347400188446045, -6.347400188446045, -6.347799777984619, -6.347700119018555, -6.347599983215332, -6.347599983215332, -6.347700119018555, -6.347899913787842, -6.348400115966797, -6.348299980163574, -6.348100185394287, -6.348199844360352, -6.348299980163574, -6.348100185394287, -6.348299980163574, -6.348400115966797, -6.348499774932861, -6.348499774932861, -6.348499774932861, -6.348400115966797, -6.348499774932861, -6.058199882507324, -6.1539998054504395, -6.181300163269043, -6.178999900817871, -6.164400100708008, -6.16540002822876, -6.17549991607666, -6.21619987487793, -6.237299919128418, -6.229899883270264, -6.2347002029418945, -6.2144999504089355, -6.221700191497803, -6.233099937438965, -6.254700183868408, -6.247399806976318, -6.279200077056885, -6.27209997177124, -6.267199993133545, -6.258800029754639, -6.282100200653076, -6.249300003051758, -6.2667999267578125, -6.263400077819824, -6.262899875640869, -6.280099868774414, -6.285999774932861, -6.276299953460693, -6.2881999015808105, -6.295400142669678, -6.290900230407715, -6.289299964904785, -6.345300197601318, -6.345799922943115, -6.3454999923706055, -6.345600128173828, -6.3460001945495605, -6.345699787139893, -6.346099853515625, -6.346399784088135, -6.34630012512207, -6.346399784088135, -6.346399784088135, -6.34660005569458, -6.34630012512207, -6.346700191497803, -6.346499919891357, -6.346499919891357, -6.346700191497803, -6.346700191497803, -6.3470001220703125, -6.346499919891357, -6.346499919891357, -6.346799850463867, -6.347099781036377, -6.3470001220703125, -6.347099781036377, -6.346799850463867, -6.346799850463867, -6.347099781036377, -6.347099781036377, -6.347300052642822, -6.3471999168396, -6.3471999168396, -6.347099781036377, -6.144000053405762, -6.133299827575684, -6.153600215911865, -6.1774001121521, -6.2104997634887695, -6.211400032043457, -6.20419979095459, -6.21560001373291, -6.212699890136719, -6.241199970245361, -6.241199970245361, -6.248799800872803, -6.261600017547607, -6.255899906158447, -6.271100044250488, -6.266200065612793, -6.268499851226807, -6.281499862670898, -6.274799823760986, -6.289000034332275, -6.263800144195557, -6.295100212097168, -6.310699939727783, -6.287199974060059, -6.292099952697754, -6.298299789428711, -6.280399799346924, -6.27869987487793, -6.28380012512207, -6.293600082397461, -6.3028998374938965, -6.298999786376953, -6.343699932098389, -6.344200134277344, -6.344200134277344, -6.3445000648498535, -6.344699859619141, -6.3445000648498535, -6.344600200653076, -6.345099925994873, -6.345200061798096, -6.345099925994873, -6.345200061798096, -6.345600128173828, -6.3454999923706055, -6.345600128173828, -6.345799922943115, -6.345399856567383, -6.345799922943115, -6.345799922943115, -6.345799922943115, -6.345799922943115, -6.345900058746338, -6.345699787139893, -6.345799922943115, -6.346099853515625, -6.345900058746338, -6.345900058746338, -6.346399784088135, -6.3460001945495605, -6.346199989318848, -6.346099853515625, -6.346099853515625, -6.346099853515625, -6.162700176239014, -6.1504998207092285, -6.169000148773193, -6.216700077056885, -6.19290018081665, -6.218500137329102, -6.2195000648498535, -6.248300075531006, -6.252500057220459, -6.248000144958496, -6.247200012207031, -6.248300075531006, -6.268799781799316, -6.264100074768066, -6.268799781799316, -6.260300159454346, -6.286799907684326, -6.28000020980835, -6.2891998291015625, -6.282100200653076, -6.271999835968018, -6.284599781036377, -6.287399768829346, -6.293000221252441, -6.298500061035156, -6.299799919128418, -6.304800033569336, -6.309500217437744, -6.299099922180176, -6.306700229644775, -6.295599937438965, -6.343100070953369, -6.343500137329102, -6.343599796295166, -6.343800067901611, -6.344099998474121, -6.344099998474121, -6.344099998474121, -6.344399929046631, -6.344299793243408, -6.344299793243408, -6.344600200653076, -6.344699859619141, -6.344699859619141, -6.34499979019165, -6.34499979019165, -6.34499979019165, -6.345200061798096, -6.34499979019165, -6.345399856567383, -6.345399856567383, -6.344900131225586, -6.345399856567383, -6.345300197601318, -6.345600128173828, -6.3454999923706055, -6.345399856567383, -6.345200061798096, -6.345399856567383, -6.345799922943115, -6.345399856567383, -6.345600128173828, -6.170400142669678, -6.1666998863220215, -6.154099941253662, -6.173799991607666, -6.209000110626221, -6.247000217437744, -6.2444000244140625, -6.251299858093262, -6.263199806213379, -6.256700038909912, -6.275000095367432, -6.255199909210205, -6.28439998626709, -6.269400119781494, -6.27239990234375, -6.285999774932861, -6.271900177001953, -6.2795000076293945, -6.28439998626709, -6.277200222015381, -6.288599967956543, -6.288000106811523, -6.29040002822876, -6.306600093841553, -6.304800033569336, -6.30210018157959, -6.3024001121521, -6.3109002113342285, -6.3078999519348145, -6.308800220489502, -6.3007001876831055, -6.344200134277344, -6.343999862670898, -6.343800067901611, -6.344200134277344, -6.344600200653076, -6.344699859619141, -6.344600200653076, -6.34499979019165, -6.344799995422363, -6.344799995422363, -6.345099925994873, -6.345099925994873, -6.345200061798096, -6.34499979019165, -6.345099925994873, -6.3454999923706055, -6.345200061798096, -6.345399856567383, -6.345300197601318, -6.345099925994873, -6.345300197601318, -6.345699787139893, -6.345399856567383, -6.3454999923706055, -6.3454999923706055, -6.3454999923706055, -6.345399856567383, -6.3454999923706055, -6.3454999923706055, -6.3454999923706055, -6.345399856567383, -6.3454999923706055, -6.179900169372559, -6.176000118255615, -6.2027997970581055, -6.216100215911865, -6.223400115966797, -6.215000152587891, -6.223599910736084, -6.23859977722168, -6.235400199890137, -6.254700183868408, -6.2453999519348145, -6.267499923706055, -6.260799884796143, -6.268599987030029, -6.267499923706055, -6.275899887084961, -6.291500091552734, -6.2795000076293945, -6.293099880218506, -6.287099838256836, -6.293799877166748, -6.30079984664917, -6.295199871063232, -6.304999828338623, -6.299799919128418, -6.299900054931641, -6.313600063323975, -6.313899993896484, -6.309700012207031, -6.328199863433838, -6.310500144958496, -6.311299800872803, -6.307499885559082, -6.342599868774414, -6.343800067901611, -6.343999862670898, -6.343900203704834, -6.343999862670898, -6.343999862670898, -6.344099998474121, -6.3445000648498535, -6.344299793243408, -6.344600200653076, -6.344900131225586, -6.344600200653076, -6.344399929046631, -6.3445000648498535, -6.344600200653076, -6.344399929046631, -6.344600200653076, -6.344600200653076, -6.344799995422363, -6.344699859619141, -6.344399929046631, -6.344799995422363, -6.34499979019165, -6.344900131225586, -6.3445000648498535, -6.344900131225586, -6.345099925994873, -6.344900131225586, -6.345300197601318, -6.345099925994873, -6.344900131225586, -6.344799995422363, -6.34499979019165, -6.160299777984619, -6.196499824523926, -6.219200134277344, -6.241700172424316, -6.22629976272583, -6.239200115203857, -6.244999885559082, -6.255499839782715, -6.2617998123168945, -6.24560022354126, -6.258399963378906, -6.277599811553955, -6.263800144195557, -6.280200004577637, -6.282299995422363, -6.290500164031982, -6.288599967956543, -6.28249979019165, -6.2866997718811035, -6.291900157928467, -6.29610013961792, -6.301300048828125, -6.292200088500977, -6.297999858856201, -6.2870001792907715, -6.3024001121521, -6.307300090789795, -6.320300102233887, -6.315400123596191, -6.297100067138672, -6.311600208282471, -6.310100078582764, -6.308599948883057, -6.343200206756592, -6.343299865722656, -6.343800067901611, -6.343699932098389, -6.343900203704834, -6.343800067901611, -6.344200134277344, -6.344299793243408, -6.344299793243408, -6.3445000648498535, -6.344399929046631, -6.344600200653076, -6.344600200653076, -6.344600200653076, -6.3445000648498535, -6.344799995422363, -6.3445000648498535, -6.344399929046631, -6.344699859619141, -6.344799995422363, -6.344699859619141, -6.344900131225586, -6.34499979019165, -6.344600200653076, -6.344699859619141, -6.344799995422363, -6.3445000648498535, -6.345099925994873, -6.344900131225586, -6.344799995422363, -6.34499979019165, -6.146299839019775, -6.180099964141846, -6.209499835968018, -6.219200134277344, -6.216899871826172, -6.235499858856201, -6.239699840545654, -6.259399890899658, -6.257900238037109, -6.260900020599365, -6.276000022888184, -6.276100158691406, -6.268400192260742, -6.278800010681152, -6.288400173187256, -6.278600215911865, -6.280600070953369, -6.285399913787842, -6.288099765777588, -6.295300006866455, -6.292699813842773, -6.2993998527526855, -6.303400039672852, -6.3125, -6.309899806976318, -6.300600051879883, -6.310299873352051, -6.315199851989746, -6.311200141906738, -6.301199913024902, -6.3028998374938965, -6.31220006942749, -6.342899799346924, -6.343200206756592, -6.343500137329102, -6.343200206756592, -6.343800067901611, -6.343699932098389, -6.343800067901611, -6.343800067901611, -6.343999862670898, -6.343900203704834, -6.344299793243408, -6.343900203704834, -6.344200134277344, -6.343900203704834, -6.344299793243408, -6.344399929046631, -6.344099998474121, -6.344399929046631, -6.344299793243408, -6.344200134277344, -6.344299793243408, -6.3445000648498535, -6.344299793243408, -6.344399929046631, -6.344600200653076, -6.344699859619141, -6.344399929046631, -6.344600200653076, -6.344699859619141, -6.3445000648498535, -6.344600200653076, -6.344600200653076, -6.151700019836426, -6.152400016784668, -6.230299949645996, -6.223800182342529, -6.239799976348877, -6.257500171661377, -6.251100063323975, -6.265399932861328, -6.2631001472473145, -6.270400047302246, -6.271599769592285, -6.26200008392334, -6.270999908447266, -6.276299953460693, -6.281799793243408, -6.280600070953369, -6.2895002365112305, -6.299099922180176, -6.2895002365112305, -6.305699825286865, -6.301499843597412, -6.308599948883057, -6.309000015258789, -6.309100151062012, -6.297800064086914, -6.320899963378906, -6.310999870300293, -6.303699970245361, -6.306099891662598, -6.305799961090088, -6.309500217437744, -6.309899806976318, -6.341800212860107, -6.34119987487793, -6.34250020980835, -6.342700004577637, -6.342299938201904, -6.342800140380859, -6.343200206756592, -6.342800140380859, -6.3429999351501465, -6.342899799346924, -6.343299865722656, -6.343200206756592, -6.343100070953369, -6.342700004577637, -6.343299865722656, -6.343200206756592, -6.343200206756592, -6.343500137329102, -6.343400001525879, -6.342899799346924, -6.343500137329102, -6.343500137329102, -6.343299865722656, -6.343400001525879, -6.343699932098389, -6.343699932098389, -6.343500137329102, -6.343599796295166, -6.343699932098389, -6.343599796295166, -6.343599796295166, -6.343599796295166, -6.343599796295166, -6.22790002822876, -6.220399856567383, -6.236100196838379, -6.242199897766113, -6.253799915313721, -6.265699863433838, -6.258800029754639, -6.2677998542785645, -6.273600101470947, -6.275599956512451, -6.274799823760986, -6.282199859619141, -6.280600070953369, -6.287199974060059, -6.306099891662598, -6.283299922943115, -6.298999786376953, -6.298699855804443, -6.2993998527526855, -6.299200057983398, -6.302599906921387, -6.306700229644775, -6.308800220489502, -6.3053998947143555, -6.3119001388549805, -6.312300205230713, -6.310500144958496, -6.311399936676025, -6.310400009155273, -6.314899921417236, -6.314799785614014, -6.34089994430542, -6.341100215911865, -6.34089994430542, -6.341400146484375, -6.341300010681152, -6.341300010681152, -6.3414998054504395, -6.341599941253662, -6.341300010681152, -6.341599941253662, -6.341700077056885, -6.341700077056885, -6.341800212860107, -6.341599941253662, -6.3414998054504395, -6.341599941253662, -6.341400146484375, -6.341599941253662, -6.341800212860107, -6.341800212860107, -6.341899871826172, -6.342199802398682, -6.341700077056885, -6.341899871826172, -6.3420000076293945, -6.342100143432617, -6.3420000076293945, -6.341800212860107, -6.3420000076293945, -6.341899871826172, -6.341899871826172, -6.341899871826172, -6.341899871826172, -6.341899871826172, -6.341899871826172, -6.249899864196777, -6.251999855041504, -6.264100074768066, -6.267199993133545, -6.273600101470947, -6.283299922943115, -6.293499946594238, -6.2941999435424805, -6.297599792480469, -6.2972002029418945, -6.306300163269043, -6.303400039672852, -6.301700115203857, -6.3003997802734375, -6.306600093841553, -6.308899879455566, -6.3105998039245605, -6.314899921417236, -6.318600177764893, -6.321400165557861, -6.317500114440918, -6.322500228881836, -6.324999809265137, -6.3171000480651855, -6.3256001472473145, -6.326000213623047, -6.3221001625061035, -6.323999881744385, -6.322299957275391, -6.324100017547607, -6.3165998458862305, -6.319699764251709, -6.321599960327148, -6.341000080108643, -6.340700149536133, -6.341000080108643, -6.34119987487793, -6.341100215911865, -6.341000080108643, -6.341000080108643, -6.341300010681152, -6.341400146484375, -6.341100215911865, -6.34119987487793, -6.341400146484375, -6.341300010681152, -6.3414998054504395, -6.3414998054504395, -6.341599941253662, -6.341700077056885, -6.341599941253662, -6.341400146484375, -6.3414998054504395, -6.341400146484375, -6.341400146484375, -6.34119987487793, -6.3420000076293945, -6.341800212860107, -6.341700077056885, -6.341599941253662, -6.341899871826172, -6.3414998054504395, -6.341800212860107, -6.3414998054504395, -6.3414998054504395, -6.341599941253662, -6.341700077056885, -6.259099960327148, -6.267399787902832, -6.264599800109863, -6.2916998863220215, -6.290500164031982, -6.289599895477295, -6.291999816894531, -6.295899868011475, -6.296000003814697, -6.299900054931641, -6.2947998046875, -6.299699783325195, -6.304200172424316, -6.303500175476074, -6.302299976348877, -6.305500030517578, -6.309299945831299, -6.309500217437744, -6.309599876403809, -6.3119001388549805, -6.312300205230713, -6.319399833679199, -6.314899921417236, -6.315899848937988, -6.314499855041504, -6.322299957275391, -6.321100234985352, -6.323699951171875, -6.329400062561035, -6.32450008392334, -6.324699878692627, -6.340099811553955, -6.340700149536133, -6.341000080108643, -6.34089994430542, -6.340799808502197, -6.341300010681152, -6.341100215911865, -6.341100215911865, -6.341400146484375, -6.34119987487793, -6.3414998054504395, -6.341100215911865, -6.341100215911865, -6.3414998054504395, -6.341700077056885, -6.341100215911865, -6.34119987487793, -6.3414998054504395, -6.341100215911865, -6.341300010681152, -6.341400146484375, -6.34119987487793, -6.341300010681152, -6.341400146484375, -6.341400146484375, -6.341300010681152, -6.341300010681152, -6.341599941253662, -6.341400146484375, -6.341599941253662, -6.34119987487793, -6.341599941253662, -6.3414998054504395, -6.3414998054504395, -6.267199993133545, -6.263899803161621, -6.275700092315674, -6.279399871826172, -6.28410005569458, -6.272299766540527, -6.291900157928467, -6.2947001457214355, -6.2957000732421875, -6.303500175476074, -6.304500102996826, -6.305799961090088, -6.307499885559082, -6.30649995803833, -6.313499927520752, -6.309199810028076, -6.312900066375732, -6.310699939727783, -6.321599960327148, -6.32289981842041, -6.3256001472473145, -6.317800045013428, -6.3180999755859375, -6.326900005340576, -6.326900005340576, -6.327099800109863, -6.3206000328063965, -6.322500228881836, -6.324900150299072, -6.325300216674805, -6.325699806213379, -6.325699806213379, -6.326399803161621, -6.34060001373291, -6.34060001373291, -6.34089994430542, -6.340700149536133, -6.340700149536133, -6.340700149536133, -6.340799808502197, -6.341100215911865, -6.341000080108643, -6.341100215911865, -6.34089994430542, -6.34089994430542, -6.341300010681152, -6.34119987487793, -6.341000080108643, -6.34119987487793, -6.341100215911865, -6.341000080108643, -6.341100215911865, -6.34119987487793, -6.341300010681152, -6.34119987487793, -6.341100215911865, -6.341300010681152, -6.34119987487793, -6.34119987487793, -6.341599941253662, -6.34119987487793, -6.34089994430542, -6.341400146484375, -6.341000080108643, -6.341100215911865, -6.34119987487793, -6.262899875640869, -6.275199890136719, -6.278200149536133, -6.295199871063232, -6.2941999435424805, -6.295599937438965, -6.303400039672852, -6.300600051879883, -6.304100036621094, -6.305200099945068, -6.302199840545654, -6.310200214385986, -6.315000057220459, -6.313399791717529, -6.311500072479248, -6.3125, -6.309999942779541, -6.311100006103516, -6.314499855041504, -6.316100120544434, -6.3144001960754395, -6.320499897003174, -6.322500228881836, -6.322800159454346, -6.321300029754639, -6.3256001472473145, -6.319200038909912, -6.32420015335083, -6.327099800109863, -6.3231000900268555, -6.3221001625061035, -6.322999954223633, -6.3231000900268555, -6.339700222015381, -6.3403000831604, -6.340099811553955, -6.340099811553955, -6.340199947357178, -6.340099811553955, -6.340400218963623, -6.340000152587891, -6.340199947357178, -6.3403000831604, -6.3403000831604, -6.3403000831604, -6.3403000831604, -6.3404998779296875, -6.3403000831604, -6.340700149536133, -6.3404998779296875, -6.3403000831604, -6.340400218963623, -6.340199947357178, -6.340400218963623, -6.340400218963623, -6.34060001373291, -6.3403000831604, -6.3404998779296875, -6.340400218963623, -6.340799808502197, -6.34060001373291, -6.340700149536133, -6.340700149536133, -6.3404998779296875, -6.340400218963623, -6.340400218963623, -6.34060001373291, -6.3404998779296875, -6.3404998779296875, -6.3404998779296875, -6.3404998779296875, -6.279900074005127, -6.2957000732421875, -6.299499988555908, -6.3043999671936035, -6.308199882507324, -6.309299945831299, -6.306000232696533, -6.312699794769287, -6.315700054168701, -6.31220006942749, -6.315100193023682, -6.315299987792969, -6.3180999755859375, -6.3190999031066895, -6.3206000328063965, -6.321199893951416, -6.321599960327148, -6.321899890899658, -6.321899890899658, -6.3221001625061035, -6.32420015335083, -6.324399948120117, -6.324999809265137, -6.326700210571289, -6.328000068664551, -6.328700065612793, -6.32919979095459, -6.329400062561035, -6.329800128936768, -6.329899787902832, -6.339799880981445, -6.3394999504089355, -6.339900016784668, -6.340099811553955, -6.340000152587891, -6.340099811553955, -6.3403000831604, -6.340000152587891, -6.340199947357178, -6.3403000831604, -6.340199947357178, -6.340099811553955, -6.3404998779296875, -6.3403000831604, -6.3404998779296875, -6.340199947357178, -6.340700149536133, -6.340199947357178, -6.3404998779296875, -6.34060001373291, -6.3403000831604, -6.3404998779296875, -6.3403000831604, -6.340400218963623, -6.340400218963623, -6.340099811553955, -6.3404998779296875, -6.340799808502197, -6.34060001373291, -6.3404998779296875, -6.340400218963623, -6.340400218963623, -6.340400218963623, -6.3403000831604, -6.340400218963623, -6.3403000831604, -6.3403000831604, -6.340400218963623, -6.340400218963623, -6.340400218963623, -6.340400218963623, -6.299900054931641, -6.30079984664917, -6.304500102996826, -6.302299976348877, -6.304200172424316, -6.304699897766113, -6.312300205230713, -6.315899848937988, -6.3180999755859375, -6.316500186920166, -6.3155999183654785, -6.31820011138916, -6.3190999031066895, -6.3196001052856445, -6.320000171661377, -6.320099830627441, -6.320300102233887, -6.321599960327148, -6.3225998878479, -6.322700023651123, -6.323400020599365, -6.3242998123168945, -6.325699806213379, -6.326399803161621, -6.3267998695373535, -6.327000141143799, -6.327300071716309, -6.328100204467773, -6.329599857330322, -6.329899787902832, -6.339399814605713, -6.339799880981445, -6.339600086212158, -6.339900016784668, -6.339900016784668, -6.340000152587891, -6.340000152587891, -6.340099811553955, -6.340400218963623, -6.340199947357178, -6.340099811553955, -6.340000152587891, -6.340400218963623, -6.3403000831604, -6.340099811553955, -6.340099811553955, -6.3403000831604, -6.3403000831604, -6.340099811553955, -6.34060001373291, -6.340199947357178, -6.3403000831604, -6.340400218963623, -6.340099811553955, -6.3403000831604, -6.3404998779296875, -6.339900016784668, -6.340099811553955, -6.3403000831604, -6.3403000831604, -6.339900016784668, -6.340199947357178, -6.340199947357178, -6.340099811553955, -6.340199947357178, -6.340199947357178, -6.340199947357178, -6.340199947357178, -6.3403000831604, -6.340199947357178, -6.296800136566162, -6.299099922180176, -6.306099891662598, -6.310800075531006, -6.309000015258789, -6.31220006942749, -6.314799785614014, -6.309999942779541, -6.316999912261963, -6.311299800872803, -6.315700054168701, -6.319300174713135, -6.319699764251709, -6.320000171661377, -6.321300029754639, -6.321700096130371, -6.323500156402588, -6.323500156402588, -6.324900150299072, -6.327000141143799, -6.327300071716309, -6.327700138092041, -6.328700065612793, -6.32919979095459, -6.329599857330322, -6.329599857330322, -6.330100059509277, -6.330399990081787, -6.330399990081787, -6.330599784851074], \"Term\": [\"austin\", \"business\", \"analyst\", \"ago\", \"job\", \"day\", \"risk\", \"analytic\", \"client\", \"employee\", \"work\", \"service\", \"process\", \"product\", \"schwab\", \"experience\", \"team\", \"operation\", \"apply\", \"opportunity\", \"specialist\", \"ability\", \"support\", \"cray\", \"include\", \"company\", \"drive\", \"yrs\", \"retirement\", \"life\", \"austin\", \"business\", \"analyst\", \"ago\", \"job\", \"day\", \"analytic\", \"risk\", \"client\", \"work\", \"employee\", \"process\", \"product\", \"service\", \"experience\", \"schwab\", \"apply\", \"team\", \"operation\", \"ability\", \"opportunity\", \"specialist\", \"cray\", \"support\", \"yrs\", \"drive\", \"company\", \"include\", \"retirement\", \"analytical\", \"farm\", \"respond\", \"matching\", \"reward\", \"legally\", \"transform\", \"quantitatively\", \"compliance\", \"mother\", \"hand\", \"computing\", \"diversify\", \"field\", \"minnesota\", \"category\", \"keyword\", \"term\", \"wednesday\", \"assist\", \"purpose\", \"driving\", \"age\", \"salesforce\", \"expression\", \"rate\", \"lynn\", \"organizational\", \"assessment\", \"look\", \"tolerance\", \"parental\", \"impact\", \"ago\", \"austin\", \"day\", \"job\", \"business\", \"team\", \"analyst\", \"analytic\", \"ability\", \"schwab\", \"employee\", \"client\", \"opportunity\", \"experience\", \"work\", \"risk\", \"operation\", \"service\", \"product\", \"process\", \"cray\", \"support\", \"drive\", \"apply\", \"specialist\", \"equal\", \"engineering\", \"company\", \"yrs\", \"finance\", \"include\", \"specific\", \"adherence\", \"creative\", \"impact\", \"serve\", \"discussion\", \"reasonable\", \"comp\", \"lifecycle\", \"loyalty\", \"achieve\", \"quantitatively\", \"speak\", \"treasury\", \"response\", \"washington\", \"building\", \"coordinate\", \"analsyt\", \"exceed\", \"polycom\", \"amherst\", \"relevant\", \"cen\", \"tier\", \"integrity\", \"update\", \"addition\", \"sabbatical\", \"sex\", \"activation\", \"inquire\", \"austin\", \"employee\", \"analyst\", \"day\", \"client\", \"product\", \"business\", \"process\", \"risk\", \"analytic\", \"job\", \"operation\", \"service\", \"specialist\", \"work\", \"experience\", \"opportunity\", \"team\", \"company\", \"ago\", \"apply\", \"ability\", \"life\", \"include\", \"schwab\", \"time\", \"responsible\", \"finance\", \"relate\", \"yrs\", \"status\", \"support\", \"cray\", \"share\", \"response\", \"advocacy\", \"professionally\", \"absolute\", \"term\", \"organizational\", \"collaboratively\", \"transform\", \"analyze\", \"procedure\", \"offshore\", \"regular\", \"face\", \"margin\", \"gift\", \"spirit\", \"smart\", \"adaptable\", \"september\", \"genetic\", \"output\", \"design\", \"desire\", \"electrical\", \"creative\", \"software\", \"exceed\", \"parental\", \"mba\", \"order\", \"return\", \"austin\", \"ago\", \"business\", \"analyst\", \"day\", \"job\", \"analytic\", \"risk\", \"process\", \"schwab\", \"service\", \"operation\", \"product\", \"client\", \"employee\", \"work\", \"apply\", \"specialist\", \"champion\", \"pace\", \"relate\", \"experience\", \"team\", \"customer\", \"opportunity\", \"develop\", \"engineering\", \"drive\", \"cray\", \"year\", \"ability\", \"support\", \"yrs\", \"location\", \"completion\", \"analy\", \"intensity\", \"horton\", \"require\", \"growth\", \"record\", \"look\", \"fortunato\", \"advanced\", \"core\", \"speak\", \"computer\", \"learn\", \"stock\", \"healthy\", \"know\", \"handle\", \"offshore\", \"seek\", \"discovery\", \"minnesota\", \"building\", \"visualization\", \"governance\", \"online\", \"superior\", \"electrical\", \"build\", \"able\", \"austin\", \"ago\", \"work\", \"risk\", \"business\", \"analyst\", \"job\", \"employee\", \"ability\", \"service\", \"schwab\", \"day\", \"analytic\", \"product\", \"operation\", \"process\", \"account\", \"company\", \"support\", \"apply\", \"customer\", \"client\", \"specialist\", \"team\", \"experience\", \"yrs\", \"retirement\", \"opportunity\", \"include\", \"strategy\", \"drive\", \"cray\", \"organizational\", \"guide\", \"field\", \"communicate\", \"discuss\", \"professional\", \"efficient\", \"highly\", \"monitor\", \"accept\", \"assistant\", \"description\", \"commitment\", \"future\", \"liability\", \"compensation\", \"genetic\", \"aus\", \"vital\", \"achievement\", \"try\", \"farm\", \"maintain\", \"discipline\", \"enter\", \"perform\", \"comptroller\", \"serve\", \"large\", \"discriminate\", \"storm\", \"interest\", \"build\", \"analyst\", \"austin\", \"business\", \"day\", \"client\", \"risk\", \"job\", \"analytic\", \"ago\", \"schwab\", \"employee\", \"service\", \"opportunity\", \"product\", \"support\", \"team\", \"apply\", \"include\", \"specialist\", \"account\", \"work\", \"develop\", \"payroll\", \"cray\", \"drive\", \"strategy\", \"experience\", \"process\", \"operation\", \"yrs\", \"life\", \"ability\", \"pmo\", \"workforce\", \"managing\", \"sabbatical\", \"discriminate\", \"analyze\", \"recommend\", \"visualisation\", \"core\", \"asset\", \"coordination\", \"trend\", \"title\", \"adherence\", \"spirit\", \"specifically\", \"organizational\", \"gracy\", \"convention\", \"professional\", \"understandable\", \"transaction\", \"exist\", \"resolution\", \"interest\", \"monitor\", \"wednesday\", \"overview\", \"description\", \"acceptance\", \"accessible\", \"erisa\", \"analyst\", \"austin\", \"business\", \"process\", \"ago\", \"risk\", \"day\", \"product\", \"experience\", \"work\", \"client\", \"job\", \"operation\", \"service\", \"schwab\", \"analytic\", \"company\", \"ability\", \"include\", \"opportunity\", \"employee\", \"team\", \"specialist\", \"cray\", \"yrs\", \"drive\", \"analytical\", \"hour\", \"support\", \"strategy\", \"apply\", \"graduate\", \"coordinate\", \"bloomington\", \"formulate\", \"national\", \"gender\", \"certification\", \"spirit\", \"crucial\", \"schedule\", \"discriminate\", \"spend\", \"specification\", \"share\", \"focus\", \"effort\", \"demand\", \"officer\", \"assessment\", \"highly\", \"indicator\", \"optimistic\", \"onsite\", \"live\", \"fitness\", \"key\", \"lane\", \"main\", \"cpa\", \"decade\", \"mba\", \"ago\", \"business\", \"austin\", \"analyst\", \"day\", \"product\", \"work\", \"process\", \"apply\", \"analytic\", \"specialist\", \"job\", \"support\", \"employee\", \"service\", \"cray\", \"client\", \"experience\", \"opportunity\", \"risk\", \"team\", \"schwab\", \"operation\", \"digital\", \"relate\", \"include\", \"drive\", \"skill\", \"plan\", \"finance\", \"ability\", \"coordinate\", \"contract\", \"indicator\", \"regard\", \"demand\", \"ancestry\", \"accuracy\", \"cpa\", \"title\", \"able\", \"trend\", \"highly\", \"vital\", \"successful\", \"overview\", \"legally\", \"strategically\", \"appreciate\", \"crucial\", \"mba\", \"aus\", \"respond\", \"electronic\", \"amherst\", \"bring\", \"expression\", \"origin\", \"know\", \"recent\", \"excellent\", \"quantitative\", \"relationship\", \"analyst\", \"austin\", \"ago\", \"analytic\", \"client\", \"job\", \"risk\", \"service\", \"business\", \"process\", \"day\", \"apply\", \"employee\", \"product\", \"work\", \"schwab\", \"drive\", \"operation\", \"cray\", \"experience\", \"ability\", \"company\", \"specialist\", \"financial\", \"support\", \"opportunity\", \"success\", \"decision\", \"analytical\", \"right\", \"retirement\", \"strategy\", \"team\", \"introduction\", \"liability\", \"core\", \"communicate\", \"proficiency\", \"rd\", \"offer\", \"associate\", \"color\", \"line\", \"handle\", \"washington\", \"onsite\", \"search\", \"expectation\", \"orientation\", \"real\", \"career\", \"graduate\", \"officer\", \"lifestyle\", \"office\", \"margin\", \"efficiently\", \"inclusion\", \"modelling\", \"adaptable\", \"excellent\", \"speak\", \"face\", \"policy\", \"tuition\", \"happy\", \"austin\", \"business\", \"risk\", \"client\", \"analyst\", \"job\", \"analytic\", \"work\", \"schwab\", \"ago\", \"employee\", \"operation\", \"day\", \"apply\", \"experience\", \"support\", \"ability\", \"service\", \"team\", \"cray\", \"yrs\", \"strategy\", \"opportunity\", \"drive\", \"process\", \"include\", \"status\", \"management\", \"datum\", \"product\", \"account\", \"company\", \"specialist\", \"earner\", \"identity\", \"inquiry\", \"ambiguity\", \"accept\", \"regard\", \"location\", \"report\", \"enter\", \"fitness\", \"capacity\", \"organization\", \"solid\", \"advanced\", \"depth\", \"establish\", \"complex\", \"flexibility\", \"structure\", \"american\", \"keyword\", \"accuracy\", \"demand\", \"background\", \"choice\", \"possible\", \"relationship\", \"personalize\", \"chuck\", \"exciting\", \"interest\", \"austin\", \"analyst\", \"job\", \"ago\", \"business\", \"analytic\", \"risk\", \"apply\", \"client\", \"work\", \"team\", \"experience\", \"day\", \"service\", \"cray\", \"employee\", \"product\", \"process\", \"schwab\", \"support\", \"specialist\", \"include\", \"finance\", \"hour\", \"customer\", \"ability\", \"status\", \"success\", \"equal\", \"operation\", \"opportunity\", \"company\", \"online\", \"handle\", \"volunteer\", \"investing\", \"guide\", \"affordable\", \"appreciate\", \"healthy\", \"gracy\", \"discovery\", \"vital\", \"proud\", \"focus\", \"follow\", \"maintain\", \"highly\", \"impact\", \"cpa\", \"gender\", \"education\", \"contingent\", \"modelling\", \"operational\", \"manufacture\", \"expression\", \"contribute\", \"managing\", \"acuman\", \"addition\", \"complex\", \"excellent\", \"military\", \"business\", \"austin\", \"job\", \"analyst\", \"analytic\", \"experience\", \"day\", \"work\", \"client\", \"product\", \"service\", \"ago\", \"risk\", \"process\", \"schwab\", \"employee\", \"ability\", \"plan\", \"operation\", \"equal\", \"cray\", \"customer\", \"strategy\", \"analytical\", \"team\", \"activity\", \"finance\", \"opportunity\", \"support\", \"specialist\", \"include\", \"apply\", \"wednesday\", \"solve\", \"contribute\", \"lynn\", \"volume\", \"efficient\", \"regularly\", \"concept\", \"superior\", \"contract\", \"guide\", \"spirit\", \"online\", \"pride\", \"analsyt\", \"purpose\", \"respect\", \"ancestry\", \"spend\", \"order\", \"bring\", \"governance\", \"liberate\", \"check\", \"diversify\", \"speak\", \"growth\", \"acceptance\", \"affordable\", \"core\", \"visualization\", \"current\", \"asset\", \"business\", \"austin\", \"analyst\", \"job\", \"analytic\", \"work\", \"ago\", \"risk\", \"employee\", \"service\", \"client\", \"experience\", \"process\", \"product\", \"relate\", \"day\", \"opportunity\", \"operation\", \"team\", \"schwab\", \"specialist\", \"support\", \"drive\", \"apply\", \"status\", \"finance\", \"include\", \"yrs\", \"cray\", \"strategy\", \"ability\", \"discipline\", \"associate\", \"excel\", \"regularly\", \"mother\", \"continuous\", \"graduate\", \"workforce\", \"delivery\", \"professionally\", \"trend\", \"line\", \"discriminate\", \"loyalty\", \"partnership\", \"ve\", \"identity\", \"transaction\", \"cen\", \"accept\", \"look\", \"respond\", \"wall\", \"storm\", \"efficient\", \"matching\", \"relevant\", \"exist\", \"optimistic\", \"parental\", \"structure\", \"background\", \"large\", \"achievement\", \"main\", \"analyst\", \"austin\", \"job\", \"business\", \"ago\", \"analytic\", \"service\", \"client\", \"process\", \"employee\", \"specialist\", \"product\", \"risk\", \"day\", \"experience\", \"schwab\", \"apply\", \"cray\", \"company\", \"strategy\", \"opportunity\", \"analytical\", \"champion\", \"operation\", \"success\", \"applicant\", \"yrs\", \"develop\", \"drive\", \"customer\", \"work\", \"team\", \"support\", \"handle\", \"color\", \"officer\", \"hand\", \"minnesota\", \"build\", \"offer\", \"workforce\", \"appreciate\", \"curious\", \"depth\", \"fitness\", \"structure\", \"lynn\", \"design\", \"future\", \"spirit\", \"discipline\", \"growth\", \"keyword\", \"food\", \"english\", \"fifth\", \"wednesday\", \"discussion\", \"recent\", \"purchase\", \"coordinate\", \"investigation\", \"optimistic\", \"stock\", \"timelin\", \"sexual\", \"september\", \"analyst\", \"business\", \"austin\", \"service\", \"employee\", \"ago\", \"day\", \"product\", \"client\", \"schwab\", \"job\", \"analytic\", \"experience\", \"work\", \"risk\", \"process\", \"operation\", \"apply\", \"team\", \"specialist\", \"ability\", \"create\", \"support\", \"cray\", \"opportunity\", \"success\", \"plan\", \"account\", \"pay\", \"retirement\", \"life\", \"polycom\", \"gender\", \"loyalty\", \"parental\", \"transaction\", \"guide\", \"storm\", \"understand\", \"transform\", \"discussion\", \"vital\", \"submission\", \"contract\", \"future\", \"respond\", \"managing\", \"master\", \"discriminate\", \"quantitative\", \"fortunato\", \"age\", \"exciting\", \"know\", \"convention\", \"expression\", \"excel\", \"communicate\", \"description\", \"independently\", \"destiny\", \"communication\", \"party\", \"execute\", \"interpret\", \"day\", \"analyst\", \"business\", \"job\", \"risk\", \"austin\", \"analytic\", \"client\", \"ago\", \"employee\", \"service\", \"product\", \"experience\", \"work\", \"support\", \"process\", \"ability\", \"schwab\", \"develop\", \"analytical\", \"position\", \"team\", \"operation\", \"good\", \"digital\", \"employer\", \"apply\", \"specialist\", \"yrs\", \"status\", \"include\", \"cray\", \"opportunity\", \"certification\", \"officer\", \"design\", \"partnership\", \"dynamic\", \"current\", \"independently\", \"inquiry\", \"american\", \"timely\", \"internal\", \"recommend\", \"legally\", \"appreciate\", \"spend\", \"collaboratively\", \"focus\", \"tomorrow\", \"capability\", \"look\", \"hand\", \"category\", \"firm\", \"organization\", \"report\", \"bloomington\", \"handle\", \"relocation\", \"issue\", \"comp\", \"june\", \"multiple\", \"license\", \"austin\", \"job\", \"business\", \"work\", \"analyst\", \"ago\", \"apply\", \"analytic\", \"employee\", \"service\", \"day\", \"specialist\", \"support\", \"team\", \"product\", \"experience\", \"client\", \"risk\", \"schwab\", \"operation\", \"process\", \"company\", \"strategy\", \"life\", \"include\", \"protect\", \"ability\", \"analytical\", \"charle\", \"yrs\", \"opportunity\", \"cray\", \"drive\", \"storm\", \"handle\", \"analsyt\", \"online\", \"establish\", \"serve\", \"vital\", \"inquire\", \"mitigation\", \"comp\", \"graduate\", \"manufacturing\", \"recordkeep\", \"timely\", \"co\", \"respond\", \"speak\", \"assist\", \"mother\", \"initiative\", \"american\", \"gender\", \"personalize\", \"key\", \"expectation\", \"complex\", \"guide\", \"demand\", \"future\", \"coordinate\", \"military\", \"leave\", \"flexibility\", \"certification\", \"long\", \"performance\", \"human\", \"communication\", \"austin\", \"analyst\", \"business\", \"day\", \"client\", \"work\", \"job\", \"experience\", \"apply\", \"risk\", \"service\", \"analytic\", \"process\", \"ago\", \"specialist\", \"product\", \"team\", \"schwab\", \"operation\", \"ability\", \"cray\", \"support\", \"opportunity\", \"yrs\", \"employee\", \"life\", \"company\", \"drive\", \"status\", \"develop\", \"washington\", \"member\", \"structure\", \"fitness\", \"office\", \"tolerance\", \"desire\", \"proud\", \"co\", \"design\", \"american\", \"internal\", \"assessment\", \"volunteer\", \"future\", \"onsite\", \"respond\", \"exceptional\", \"diversify\", \"offshore\", \"apple\", \"trend\", \"officer\", \"storm\", \"intelligence\", \"september\", \"establish\", \"regularly\", \"appreciate\", \"destiny\", \"expectation\", \"title\", \"key\", \"specifically\", \"polycom\", \"community\", \"return\", \"sunday\", \"leave\", \"exist\", \"comptroller\", \"business\", \"analyst\", \"risk\", \"ago\", \"job\", \"austin\", \"client\", \"experience\", \"opportunity\", \"schwab\", \"day\", \"work\", \"employee\", \"apply\", \"service\", \"analytic\", \"product\", \"team\", \"ability\", \"process\", \"support\", \"specialist\", \"operation\", \"include\", \"develop\", \"yrs\", \"drive\", \"cray\", \"account\", \"life\", \"contribute\", \"handle\", \"respect\", \"cen\", \"apple\", \"accept\", \"trading\", \"amherst\", \"vital\", \"sex\", \"expectation\", \"continuous\", \"legally\", \"cpa\", \"monitor\", \"military\", \"superior\", \"workforce\", \"large\", \"wednesday\", \"depth\", \"specification\", \"discuss\", \"reimbursement\", \"solid\", \"offshore\", \"knowledge\", \"transaction\", \"fitness\", \"gender\", \"activation\", \"excel\", \"healthy\", \"operational\", \"inquire\", \"major\", \"oxford\", \"relationship\", \"enable\", \"working\", \"business\", \"austin\", \"day\", \"process\", \"job\", \"analytic\", \"work\", \"analyst\", \"experience\", \"ago\", \"risk\", \"schwab\", \"client\", \"service\", \"employee\", \"specialist\", \"opportunity\", \"product\", \"ability\", \"support\", \"cray\", \"apply\", \"team\", \"operation\", \"yrs\", \"company\", \"status\", \"retirement\", \"plan\", \"analytical\"]}, \"plot.opts\": {\"xlab\": \"PC1\", \"ylab\": \"PC2\"}, \"topic.order\": [14, 20, 7, 16, 10, 19, 8, 9, 15, 3, 18, 17, 5, 11, 1, 4, 2, 12, 13, 6], \"lambda.step\": 0.01, \"token.table\": {\"Term\": [\"ability\", \"able\", \"absolute\", \"accept\", \"acceptance\", \"accessible\", \"account\", \"accuracy\", \"achieve\", \"achievement\", \"activation\", \"activity\", \"acuman\", \"adaptable\", \"addition\", \"adherence\", \"advanced\", \"advocacy\", \"affordable\", \"age\", \"ago\", \"ambiguity\", \"american\", \"amherst\", \"analsyt\", \"analy\", \"analyst\", \"analytic\", \"analytical\", \"analyze\", \"ancestry\", \"apple\", \"applicant\", \"apply\", \"appreciate\", \"assessment\", \"asset\", \"assist\", \"assistant\", \"associate\", \"aus\", \"austin\", \"background\", \"bloomington\", \"bring\", \"build\", \"building\", \"business\", \"capability\", \"capacity\", \"career\", \"category\", \"cen\", \"certification\", \"champion\", \"charle\", \"check\", \"choice\", \"chuck\", \"client\", \"co\", \"collaboratively\", \"color\", \"commitment\", \"communicate\", \"communication\", \"community\", \"comp\", \"company\", \"compensation\", \"completion\", \"complex\", \"compliance\", \"comptroller\", \"computer\", \"computing\", \"concept\", \"contingent\", \"continuous\", \"contract\", \"contribute\", \"convention\", \"coordinate\", \"coordination\", \"core\", \"cpa\", \"cray\", \"create\", \"creative\", \"crucial\", \"curious\", \"current\", \"customer\", \"datum\", \"day\", \"decade\", \"decision\", \"delivery\", \"demand\", \"depth\", \"description\", \"design\", \"desire\", \"destiny\", \"develop\", \"digital\", \"discipline\", \"discovery\", \"discriminate\", \"discuss\", \"discussion\", \"diversify\", \"drive\", \"driving\", \"dynamic\", \"earner\", \"education\", \"efficient\", \"efficiently\", \"effort\", \"electrical\", \"electronic\", \"employee\", \"employer\", \"enable\", \"engineering\", \"english\", \"enter\", \"equal\", \"erisa\", \"establish\", \"exceed\", \"excel\", \"excellent\", \"exceptional\", \"exciting\", \"execute\", \"exist\", \"expectation\", \"experience\", \"expression\", \"face\", \"farm\", \"field\", \"fifth\", \"finance\", \"financial\", \"firm\", \"fitness\", \"flexibility\", \"focus\", \"follow\", \"food\", \"formulate\", \"fortunato\", \"future\", \"gender\", \"genetic\", \"gift\", \"good\", \"governance\", \"gracy\", \"graduate\", \"growth\", \"guide\", \"hand\", \"handle\", \"happy\", \"healthy\", \"highly\", \"horton\", \"hour\", \"human\", \"identity\", \"impact\", \"include\", \"inclusion\", \"independently\", \"indicator\", \"initiative\", \"inquire\", \"inquiry\", \"integrity\", \"intelligence\", \"intensity\", \"interest\", \"internal\", \"interpret\", \"introduction\", \"investigation\", \"investing\", \"issue\", \"job\", \"june\", \"key\", \"keyword\", \"know\", \"knowledge\", \"lane\", \"large\", \"learn\", \"leave\", \"legally\", \"liability\", \"liberate\", \"license\", \"life\", \"lifecycle\", \"lifestyle\", \"line\", \"live\", \"location\", \"long\", \"look\", \"loyalty\", \"lynn\", \"main\", \"maintain\", \"major\", \"management\", \"managing\", \"manufacture\", \"manufacturing\", \"margin\", \"master\", \"matching\", \"mba\", \"member\", \"military\", \"minnesota\", \"mitigation\", \"modelling\", \"monitor\", \"mother\", \"multiple\", \"national\", \"offer\", \"office\", \"officer\", \"offshore\", \"online\", \"onsite\", \"operation\", \"operational\", \"opportunity\", \"optimistic\", \"order\", \"organization\", \"organizational\", \"orientation\", \"origin\", \"output\", \"overview\", \"oxford\", \"pace\", \"parental\", \"partnership\", \"party\", \"pay\", \"payroll\", \"perform\", \"performance\", \"personalize\", \"plan\", \"pmo\", \"policy\", \"polycom\", \"position\", \"possible\", \"pride\", \"procedure\", \"process\", \"product\", \"professional\", \"professionally\", \"proficiency\", \"protect\", \"proud\", \"purchase\", \"purpose\", \"quantitative\", \"quantitatively\", \"rate\", \"rd\", \"real\", \"reasonable\", \"recent\", \"recommend\", \"record\", \"recordkeep\", \"regard\", \"regular\", \"regularly\", \"reimbursement\", \"relate\", \"relationship\", \"relevant\", \"relocation\", \"report\", \"require\", \"resolution\", \"respect\", \"respond\", \"response\", \"responsible\", \"retirement\", \"return\", \"reward\", \"right\", \"risk\", \"sabbatical\", \"salesforce\", \"schedule\", \"schwab\", \"search\", \"seek\", \"september\", \"serve\", \"service\", \"sex\", \"sexual\", \"share\", \"skill\", \"smart\", \"software\", \"solid\", \"solve\", \"speak\", \"specialist\", \"specific\", \"specifically\", \"specification\", \"spend\", \"spirit\", \"status\", \"stock\", \"storm\", \"strategically\", \"strategy\", \"structure\", \"submission\", \"success\", \"successful\", \"sunday\", \"superior\", \"support\", \"team\", \"term\", \"tier\", \"time\", \"timelin\", \"timely\", \"title\", \"tolerance\", \"tomorrow\", \"trading\", \"transaction\", \"transform\", \"treasury\", \"trend\", \"try\", \"tuition\", \"understand\", \"understandable\", \"update\", \"ve\", \"visualisation\", \"visualization\", \"vital\", \"volume\", \"volunteer\", \"wall\", \"washington\", \"wednesday\", \"work\", \"workforce\", \"working\", \"year\", \"yrs\"], \"Topic\": [1, 1, 1, 1, 1, 1, 1, 1, 1, 1, 1, 1, 1, 1, 1, 1, 1, 1, 1, 1, 1, 1, 1, 1, 1, 1, 1, 1, 1, 1, 1, 1, 1, 1, 1, 1, 1, 1, 1, 1, 1, 1, 1, 1, 1, 1, 1, 1, 1, 1, 1, 1, 1, 1, 1, 1, 1, 1, 1, 1, 1, 1, 1, 1, 1, 1, 1, 1, 1, 1, 1, 1, 1, 1, 1, 1, 1, 1, 1, 1, 1, 1, 1, 1, 1, 1, 1, 1, 1, 1, 1, 1, 1, 1, 1, 1, 1, 1, 1, 1, 1, 1, 1, 1, 1, 1, 1, 1, 1, 1, 1, 1, 1, 1, 1, 1, 1, 1, 1, 1, 1, 1, 1, 1, 1, 1, 1, 1, 1, 1, 1, 1, 1, 1, 1, 1, 1, 1, 1, 1, 1, 1, 1, 1, 1, 1, 1, 1, 1, 1, 1, 1, 1, 1, 1, 1, 1, 1, 1, 1, 1, 1, 1, 1, 1, 1, 1, 1, 1, 1, 1, 1, 1, 1, 1, 1, 1, 1, 1, 1, 1, 1, 1, 1, 1, 1, 1, 1, 1, 1, 1, 1, 1, 1, 1, 1, 1, 1, 1, 1, 1, 1, 1, 1, 1, 1, 1, 1, 1, 1, 1, 1, 1, 1, 1, 1, 1, 1, 1, 1, 1, 1, 1, 1, 1, 1, 1, 1, 1, 1, 1, 1, 1, 1, 1, 1, 1, 1, 1, 1, 1, 1, 1, 1, 1, 1, 1, 1, 1, 1, 1, 1, 1, 1, 1, 1, 1, 1, 1, 1, 1, 1, 1, 1, 1, 1, 1, 1, 1, 1, 1, 1, 1, 1, 1, 1, 1, 1, 1, 1, 1, 1, 1, 1, 1, 1, 1, 1, 1, 1, 1, 1, 1, 1, 1, 1, 1, 1, 1, 1, 1, 1, 1, 1, 1, 1, 1, 1, 1, 1, 1, 1, 1, 1, 1, 1, 1, 1, 1, 1, 1, 1, 1, 1, 1, 1, 1, 1, 1, 1, 1, 1, 1, 1, 1, 1, 1, 1, 1, 1, 1, 1, 1, 1, 1, 1, 1, 1, 1, 1, 1, 1, 1, 1, 1, 1, 1, 1, 1, 1, 1, 1, 1, 1, 1, 1, 1, 1, 1, 1, 1, 1, 1, 1, 1, 1, 1, 1, 1], \"Freq\": [1.018611192703247, 0.9751342535018921, 0.9750601053237915, 0.9752215147018433, 0.9752537608146667, 0.9751660823822021, 1.0145446062088013, 0.9753386974334717, 0.9754127264022827, 0.9750155806541443, 0.9748309254646301, 1.0079556703567505, 0.9752714037895203, 0.9753794074058533, 0.9753652215003967, 0.9753495454788208, 0.9753038883209229, 0.9752833247184753, 0.9753690361976624, 0.9752824306488037, 1.021898627281189, 0.9752377271652222, 0.9753081798553467, 0.9753128290176392, 0.9753839373588562, 0.9754016995429993, 1.0223863124847412, 1.021349549293518, 1.0144844055175781, 0.9751257300376892, 0.9754294157028198, 0.9752134084701538, 1.01205313205719, 1.0192087888717651, 0.9754138588905334, 0.9754845499992371, 0.9749782085418701, 0.975200891494751, 0.9752525091171265, 0.9754010438919067, 0.9752336740493774, 0.9835770130157471, 0.975059449672699, 0.975241482257843, 0.9753038883209229, 0.9751260876655579, 0.9751030802726746, 1.0225324630737305, 0.9752614498138428, 0.9751877784729004, 0.9751724600791931, 0.9752638339996338, 0.9752939939498901, 0.9752556681632996, 1.0122877359390259, 1.0119556188583374, 0.9751376509666443, 0.9750471115112305, 0.9751847982406616, 1.020965576171875, 0.9752925038337708, 0.9754438996315002, 0.9751689434051514, 0.9750704169273376, 0.9751488566398621, 0.9747965931892395, 0.9751163125038147, 0.9753725528717041, 1.016589641571045, 0.9751011729240417, 0.9752113223075867, 0.9751461744308472, 0.975214958190918, 0.9750340580940247, 0.975350558757782, 0.975328803062439, 0.9752807021141052, 0.9751162528991699, 0.9751604199409485, 0.9751788973808289, 0.97531658411026, 0.975264310836792, 0.9754416346549988, 0.9751036763191223, 0.9752476215362549, 0.975395917892456, 1.0176217555999756, 1.011940360069275, 0.9753173589706421, 0.975318968296051, 0.9751724600791931, 0.9751290082931519, 1.0147649049758911, 1.0121463537216187, 1.0216681957244873, 0.9749369621276855, 1.0120290517807007, 0.9750363230705261, 0.9754083156585693, 0.9752016067504883, 0.9753533005714417, 0.9754054546356201, 0.9754309058189392, 0.9753391146659851, 1.0146831274032593, 1.012558102607727, 0.9753293991088867, 0.9752324223518372, 0.9754028916358948, 0.975406289100647, 0.9753459095954895, 0.9754147529602051, 1.0165513753890991, 0.9752101898193359, 0.9751341342926025, 0.9750722646713257, 0.9750653505325317, 0.9753401279449463, 0.9752360582351685, 0.9753343462944031, 0.9752134680747986, 0.9752988815307617, 1.0207242965698242, 1.0119106769561768, 0.9751636385917664, 1.012444257736206, 0.9750362038612366, 0.9753389954566956, 1.0145432949066162, 0.9750651121139526, 0.9753899574279785, 0.9752272963523865, 0.9751487374305725, 0.9751479625701904, 0.975131094455719, 0.9750807285308838, 0.9750292897224426, 0.9751625061035156, 0.975272536277771, 1.0198208093643188, 0.9752816557884216, 0.9753032922744751, 0.9751336574554443, 0.9751429557800293, 0.9748654365539551, 1.0148751735687256, 1.0145782232284546, 0.9751596450805664, 0.9753075838088989, 0.9750064015388489, 0.9753603339195251, 0.9750427603721619, 0.9750239849090576, 0.9751190543174744, 0.9752262830734253, 0.9754768013954163, 0.9752785563468933, 0.9752737879753113, 0.9751160144805908, 1.0120456218719482, 0.9753305315971375, 0.975279688835144, 0.9753429889678955, 0.9751758575439453, 0.9755479693412781, 0.9754208922386169, 0.9756274819374084, 0.9750142097473145, 0.9751332402229309, 0.9754425883293152, 0.9751545190811157, 1.0120090246200562, 0.9749408960342407, 0.974976122379303, 0.9750998020172119, 1.0166598558425903, 0.9748373627662659, 0.9751763939857483, 0.9749250411987305, 0.9750871062278748, 0.9751198291778564, 0.9754172563552856, 0.9752436280250549, 0.9753302931785583, 0.9754539132118225, 0.9752301573753357, 0.9752117991447449, 0.974963903427124, 0.9752969145774841, 0.9750626087188721, 0.9749676585197449, 0.9748567342758179, 1.0218769311904907, 0.9749184846878052, 0.975141167640686, 0.9751289486885071, 0.975231945514679, 0.9748995304107666, 0.9749460220336914, 0.9751653075218201, 0.9752233624458313, 0.975165069103241, 0.9755261540412903, 0.9751794934272766, 0.9750763177871704, 0.9749411344528198, 1.0145049095153809, 0.9749912023544312, 0.9748724699020386, 0.9753619432449341, 0.9753752946853638, 0.9753044247627258, 0.9751300811767578, 0.9753731489181519, 0.975281834602356, 0.9754254221916199, 0.9751304984092712, 0.9754049181938171, 0.975145697593689, 1.008043885231018, 0.9750825762748718, 0.9750784635543823, 0.9753229022026062, 0.9753071665763855, 0.975140392780304, 0.9754294157028198, 0.9750363230705261, 0.9749612808227539, 0.9752076268196106, 0.9752875566482544, 0.9752886891365051, 0.9752207398414612, 0.9751870632171631, 0.9752711057662964, 0.9749048948287964, 0.9754301905632019, 0.9751860499382019, 0.9752400517463684, 0.9751991033554077, 0.9755218625068665, 0.9753051996231079, 0.9751793742179871, 1.0194119215011597, 0.9750084280967712, 1.0187382698059082, 0.9753286838531494, 0.9747653007507324, 0.9753730297088623, 0.9753069281578064, 0.9749930500984192, 0.9752196073532104, 0.9752088189125061, 0.9751921892166138, 0.975150465965271, 0.999862790107727, 0.9752252697944641, 0.9751611351966858, 0.9752066731452942, 1.0080784559249878, 1.0077145099639893, 0.975033700466156, 0.9751700758934021, 0.9754410982131958, 1.0146840810775757, 0.9749955534934998, 0.9750264883041382, 0.9751967191696167, 1.0122441053390503, 0.9751592874526978, 0.9749676585197449, 0.9752159714698792, 1.0203697681427002, 1.0203560590744019, 0.9751679301261902, 0.9753419756889343, 0.9751676917076111, 1.012274980545044, 0.9751185178756714, 0.9751448035240173, 0.9752740263938904, 0.9750176072120667, 0.9753583073616028, 0.9751796126365662, 0.9750393629074097, 0.9751884341239929, 0.975329577922821, 0.9752717614173889, 0.975142776966095, 0.975293755531311, 0.9753241539001465, 0.9751498103141785, 0.9752416014671326, 0.9756270051002502, 0.9750610589981079, 1.0147128105163574, 0.9748404026031494, 0.975311815738678, 0.975193202495575, 0.9752784371376038, 0.9751278758049011, 0.9753665924072266, 0.9753283262252808, 0.9756316542625427, 0.975333571434021, 1.0123624801635742, 1.014065146446228, 0.9750221371650696, 0.9751205444335938, 0.9995631575584412, 1.0213509798049927, 0.9752622246742249, 0.9753308296203613, 0.9751212000846863, 1.0200090408325195, 0.9751903414726257, 0.9751691818237305, 0.9750300049781799, 0.9752809405326843, 1.0205155611038208, 0.9754040837287903, 0.9750553369522095, 0.9754428863525391, 1.012223482131958, 0.9752439856529236, 0.975226879119873, 0.9752834439277649, 0.9747655391693115, 0.9754330515861511, 1.0187190771102905, 0.975090742111206, 0.9750173687934875, 0.9752992987632751, 0.9752804040908813, 0.9754819273948669, 1.0145138502120972, 0.9750636219978333, 0.9752868413925171, 0.975284218788147, 1.014836311340332, 0.9752174615859985, 0.9751684665679932, 1.0122640132904053, 0.9752115607261658, 0.9751076102256775, 0.9753563404083252, 1.01787531375885, 1.019403100013733, 0.975312352180481, 0.9751890897750854, 1.0080431699752808, 0.9750123023986816, 0.9754576683044434, 0.9752240180969238, 0.9752756357192993, 0.9752105474472046, 0.9752249717712402, 0.9750797152519226, 0.9755187034606934, 0.9753007888793945, 0.975405216217041, 0.974871814250946, 0.974891185760498, 0.9752673506736755, 0.9752447605133057, 0.9752025008201599, 0.9751946926116943, 0.9752747416496277, 0.9751962423324585, 0.9755448698997498, 0.9749245643615723, 0.9753109812736511, 0.9750816822052002, 0.9753435254096985, 0.9756343960762024, 1.0207264423370361, 0.9753735065460205, 0.9748566150665283, 1.0121771097183228, 1.0162718296051025]}};\n",
       "\n",
       "function LDAvis_load_lib(url, callback){\n",
       "  var s = document.createElement('script');\n",
       "  s.src = url;\n",
       "  s.async = true;\n",
       "  s.onreadystatechange = s.onload = callback;\n",
       "  s.onerror = function(){console.warn(\"failed to load library \" + url);};\n",
       "  document.getElementsByTagName(\"head\")[0].appendChild(s);\n",
       "}\n",
       "\n",
       "if(typeof(LDAvis) !== \"undefined\"){\n",
       "   // already loaded: just create the visualization\n",
       "   !function(LDAvis){\n",
       "       new LDAvis(\"#\" + \"ldavis_el1383620673395859603401407628\", ldavis_el1383620673395859603401407628_data);\n",
       "   }(LDAvis);\n",
       "}else if(typeof define === \"function\" && define.amd){\n",
       "   // require.js is available: use it to load d3/LDAvis\n",
       "   require.config({paths: {d3: \"https://cdnjs.cloudflare.com/ajax/libs/d3/3.5.5/d3.min\"}});\n",
       "   require([\"d3\"], function(d3){\n",
       "      window.d3 = d3;\n",
       "      LDAvis_load_lib(\"https://cdn.rawgit.com/bmabey/pyLDAvis/files/ldavis.v1.0.0.js\", function(){\n",
       "        new LDAvis(\"#\" + \"ldavis_el1383620673395859603401407628\", ldavis_el1383620673395859603401407628_data);\n",
       "      });\n",
       "    });\n",
       "}else{\n",
       "    // require.js not available: dynamically load d3 & LDAvis\n",
       "    LDAvis_load_lib(\"https://cdnjs.cloudflare.com/ajax/libs/d3/3.5.5/d3.min.js\", function(){\n",
       "         LDAvis_load_lib(\"https://cdn.rawgit.com/bmabey/pyLDAvis/files/ldavis.v1.0.0.js\", function(){\n",
       "                 new LDAvis(\"#\" + \"ldavis_el1383620673395859603401407628\", ldavis_el1383620673395859603401407628_data);\n",
       "            })\n",
       "         });\n",
       "}\n",
       "</script>"
      ],
      "text/plain": [
       "PreparedData(topic_coordinates=            Freq  cluster  topics         x    y\n",
       "topic                                           \n",
       "13     99.961266        1       1 -0.073619  0.0\n",
       "19      0.002045        1       2 -0.000671 -0.0\n",
       "6       0.002044        1       3  0.000660  0.0\n",
       "15      0.002043        1       4  0.001751 -0.0\n",
       "9       0.002043        1       5  0.002053  0.0\n",
       "18      0.002042        1       6  0.002700 -0.0\n",
       "7       0.002041        1       7  0.003186 -0.0\n",
       "8       0.002041        1       8  0.003457 -0.0\n",
       "14      0.002040        1       9  0.003545  0.0\n",
       "2       0.002040        1      10  0.003827  0.0\n",
       "17      0.002040        1      11  0.003766 -0.0\n",
       "16      0.002040        1      12  0.003931 -0.0\n",
       "4       0.002039        1      13  0.004524  0.0\n",
       "10      0.002036        1      14  0.005381 -0.0\n",
       "0       0.002036        1      15  0.005500  0.0\n",
       "3       0.002035        1      16  0.005581 -0.0\n",
       "1       0.002035        1      17  0.005719 -0.0\n",
       "11      0.002032        1      18  0.006167  0.0\n",
       "12      0.002032        1      19  0.006235 -0.0\n",
       "5       0.002031        1      20  0.006307  0.0, topic_info=     Category       Freq         Term      Total  loglift  logprob\n",
       "term                                                              \n",
       "282   Default  25.000000       austin  25.000000  30.0000  30.0000\n",
       "273   Default  19.000000     business  19.000000  29.0000  29.0000\n",
       "425   Default  19.000000      analyst  19.000000  28.0000  28.0000\n",
       "529   Default  17.000000          ago  17.000000  27.0000  27.0000\n",
       "558   Default  16.000000          job  16.000000  26.0000  26.0000\n",
       "499   Default  15.000000          day  15.000000  25.0000  25.0000\n",
       "188   Default  13.000000         risk  13.000000  24.0000  24.0000\n",
       "337   Default  13.000000     analytic  13.000000  23.0000  23.0000\n",
       "115   Default  12.000000       client  12.000000  22.0000  22.0000\n",
       "546   Default  11.000000     employee  11.000000  21.0000  21.0000\n",
       "130   Default  11.000000         work  11.000000  20.0000  20.0000\n",
       "416   Default  10.000000      service  10.000000  19.0000  19.0000\n",
       "179   Default  10.000000      process  10.000000  18.0000  18.0000\n",
       "559   Default  10.000000      product  10.000000  17.0000  17.0000\n",
       "63    Default   9.000000       schwab   9.000000  16.0000  16.0000\n",
       "255   Default   9.000000   experience   9.000000  15.0000  15.0000\n",
       "164   Default   8.000000         team   8.000000  14.0000  14.0000\n",
       "538   Default   8.000000    operation   8.000000  13.0000  13.0000\n",
       "310   Default   8.000000        apply   8.000000  12.0000  12.0000\n",
       "44    Default   7.000000  opportunity   7.000000  11.0000  11.0000\n",
       "271   Default   7.000000   specialist   7.000000  10.0000  10.0000\n",
       "487   Default   7.000000      ability   7.000000   9.0000   9.0000\n",
       "403   Default   6.000000      support   6.000000   8.0000   8.0000\n",
       "58    Default   6.000000         cray   6.000000   7.0000   7.0000\n",
       "146   Default   5.000000      include   5.000000   6.0000   6.0000\n",
       "167   Default   5.000000      company   5.000000   5.0000   5.0000\n",
       "201   Default   5.000000        drive   5.000000   4.0000   4.0000\n",
       "335   Default   5.000000          yrs   5.000000   3.0000   3.0000\n",
       "27    Default   4.000000   retirement   4.000000   2.0000   2.0000\n",
       "398   Default   4.000000         life   4.000000   1.0000   1.0000\n",
       "...       ...        ...          ...        ...      ...      ...\n",
       "273   Topic20   0.000043     business  19.559280  -2.2184  -6.2968\n",
       "282   Topic20   0.000043       austin  25.417431  -2.4827  -6.2991\n",
       "499   Topic20   0.000043          day  15.660662  -2.0054  -6.3061\n",
       "179   Topic20   0.000043      process  10.780406  -1.6367  -6.3108\n",
       "558   Topic20   0.000043          job  16.636055  -2.0687  -6.3090\n",
       "337   Topic20   0.000043     analytic  13.707354  -1.8782  -6.3122\n",
       "130   Topic20   0.000042         work  11.756333  -1.7273  -6.3148\n",
       "425   Topic20   0.000043      analyst  19.562077  -2.2317  -6.3100\n",
       "255   Topic20   0.000042   experience   9.805644  -1.5481  -6.3170\n",
       "529   Topic20   0.000043          ago  17.614271  -2.1281  -6.3113\n",
       "188   Topic20   0.000042         risk  13.707335  -1.8817  -6.3157\n",
       "63    Topic20   0.000042       schwab   9.803835  -1.5502  -6.3193\n",
       "115   Topic20   0.000042       client  12.733045  -1.8120  -6.3197\n",
       "416   Topic20   0.000042      service  10.778866  -1.6458  -6.3200\n",
       "546   Topic20   0.000042     employee  11.756357  -1.7338  -6.3213\n",
       "271   Topic20   0.000042   specialist   7.852999  -1.3308  -6.3217\n",
       "44    Topic20   0.000042  opportunity   7.852851  -1.3325  -6.3235\n",
       "559   Topic20   0.000042      product  10.780551  -1.6494  -6.3235\n",
       "487   Topic20   0.000042      ability   7.853831  -1.3340  -6.3249\n",
       "403   Topic20   0.000042      support   6.877070  -1.2033  -6.3270\n",
       "58    Topic20   0.000042         cray   6.878784  -1.2039  -6.3273\n",
       "310   Topic20   0.000042        apply   8.830379  -1.4540  -6.3277\n",
       "164   Topic20   0.000042         team   8.828696  -1.4549  -6.3287\n",
       "538   Topic20   0.000042    operation   8.828620  -1.4553  -6.3292\n",
       "335   Topic20   0.000042          yrs   5.903932  -1.0534  -6.3296\n",
       "167   Topic20   0.000042      company   5.902086  -1.0531  -6.3296\n",
       "122   Topic20   0.000042       status   4.928469  -0.8733  -6.3301\n",
       "27    Topic20   0.000042   retirement   4.930650  -0.8740  -6.3304\n",
       "185   Topic20   0.000042         plan   4.927642  -0.8734  -6.3304\n",
       "434   Topic20   0.000042   analytical   4.928612  -0.8738  -6.3306\n",
       "\n",
       "[1303 rows x 6 columns], token_table=      Topic      Freq            Term\n",
       "term                                 \n",
       "487       1  1.018611         ability\n",
       "88        1  0.975134            able\n",
       "540       1  0.975060        absolute\n",
       "481       1  0.975222          accept\n",
       "65        1  0.975254      acceptance\n",
       "433       1  0.975166      accessible\n",
       "121       1  1.014545         account\n",
       "362       1  0.975339        accuracy\n",
       "267       1  0.975413         achieve\n",
       "409       1  0.975016     achievement\n",
       "355       1  0.974831      activation\n",
       "400       1  1.007956        activity\n",
       "444       1  0.975271          acuman\n",
       "4         1  0.975379       adaptable\n",
       "350       1  0.975365        addition\n",
       "19        1  0.975350       adherence\n",
       "75        1  0.975304        advanced\n",
       "57        1  0.975283        advocacy\n",
       "1         1  0.975369      affordable\n",
       "378       1  0.975282             age\n",
       "529       1  1.021899             ago\n",
       "429       1  0.975238       ambiguity\n",
       "564       1  0.975308        american\n",
       "326       1  0.975313         amherst\n",
       "181       1  0.975384         analsyt\n",
       "557       1  0.975402           analy\n",
       "425       1  1.022386         analyst\n",
       "337       1  1.021350        analytic\n",
       "434       1  1.014484      analytical\n",
       "140       1  0.975126         analyze\n",
       "...     ...       ...             ...\n",
       "8         1  1.008043            time\n",
       "528       1  0.975012         timelin\n",
       "211       1  0.975458          timely\n",
       "59        1  0.975224           title\n",
       "235       1  0.975276       tolerance\n",
       "413       1  0.975211        tomorrow\n",
       "51        1  0.975225         trading\n",
       "9         1  0.975080     transaction\n",
       "251       1  0.975519       transform\n",
       "134       1  0.975301        treasury\n",
       "471       1  0.975405           trend\n",
       "321       1  0.974872             try\n",
       "488       1  0.974891         tuition\n",
       "330       1  0.975267      understand\n",
       "556       1  0.975245  understandable\n",
       "435       1  0.975203          update\n",
       "16        1  0.975195              ve\n",
       "420       1  0.975275   visualisation\n",
       "85        1  0.975196   visualization\n",
       "253       1  0.975545           vital\n",
       "345       1  0.974925          volume\n",
       "224       1  0.975311       volunteer\n",
       "412       1  0.975082            wall\n",
       "524       1  0.975344      washington\n",
       "46        1  0.975634       wednesday\n",
       "130       1  1.020726            work\n",
       "290       1  0.975374       workforce\n",
       "238       1  0.974857         working\n",
       "161       1  1.012177            year\n",
       "335       1  1.016272             yrs\n",
       "\n",
       "[379 rows x 3 columns], R=30, lambda_step=0.01, plot_opts={'xlab': 'PC1', 'ylab': 'PC2'}, topic_order=[14, 20, 7, 16, 10, 19, 8, 9, 15, 3, 18, 17, 5, 11, 1, 4, 2, 12, 13, 6])"
      ]
     },
     "execution_count": 341,
     "metadata": {},
     "output_type": "execute_result"
    }
   ],
   "source": [
    "pyLDAvis.gensim.prepare(lda_model,corpus, id2word)"
   ]
  },
  {
   "cell_type": "code",
   "execution_count": null,
   "metadata": {},
   "outputs": [],
   "source": []
  }
 ],
 "metadata": {
  "anaconda-cloud": {},
  "kernelspec": {
   "display_name": "Python 3",
   "language": "python",
   "name": "python3"
  },
  "language_info": {
   "codemirror_mode": {
    "name": "ipython",
    "version": 3
   },
   "file_extension": ".py",
   "mimetype": "text/x-python",
   "name": "python",
   "nbconvert_exporter": "python",
   "pygments_lexer": "ipython3",
   "version": "3.6.4"
  }
 },
 "nbformat": 4,
 "nbformat_minor": 2
}

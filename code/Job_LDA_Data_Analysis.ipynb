{
 "cells": [
  {
   "cell_type": "markdown",
   "metadata": {},
   "source": [
    "# Job Web-Scraping\n",
    "Note: This is intented for practice to extract real time job descriptions. Please adhere to the Robots.txt"
   ]
  },
  {
   "cell_type": "code",
   "execution_count": 59,
   "metadata": {},
   "outputs": [
    {
     "name": "stdout",
     "output_type": "stream",
     "text": [
      "[nltk_data] Downloading package wordnet to\n",
      "[nltk_data]     /Users/guillermogonzalez/nltk_data...\n",
      "[nltk_data]   Package wordnet is already up-to-date!\n"
     ]
    }
   ],
   "source": [
    "#If you are using Selenium for the first time, please download the webdriver and note the filepath\n",
    "from selenium import webdriver\n",
    "from selenium.webdriver.support.ui import Select, WebDriverWait\n",
    "from selenium.webdriver.common.keys import Keys\n",
    "from selenium.webdriver.common.by import By\n",
    "from selenium.webdriver.support import expected_conditions as EC\n",
    "\n",
    "import pandas as pd\n",
    "import numpy as np\n",
    "pd.set_option('display.max_colwidth', 100)  # increase the string length before truncating\n",
    "\n",
    "# Monitor the status of the webscraping to get an idea of how long it will take \n",
    "import time\n",
    "from tqdm import tqdm\n",
    "tqdm.monitor_interval = 0\n",
    "\n",
    "# Used as a import for dateing the CSV\n",
    "import datetime\n",
    "\n",
    "# NLP libaries\n",
    "import spacy\n",
    "from spacy.lang.en import stop_words\n",
    "\n",
    "# Punctuation attribute will be used for removing punctuation\n",
    "import string\n",
    "\n",
    "# Import nltk for removing stopwords and lemmatizing\n",
    "import nltk\n",
    "nltk.download('wordnet')\n",
    "from nltk.corpus import wordnet as wn\n",
    "\n",
    "import gensim\n",
    "import pyLDAvis.gensim\n",
    "from gensim.models import LdaModel\n",
    "import gensim.corpora as corpora  # *****\n",
    "from gensim.utils import simple_preprocess\n",
    "from gensim.models import coherencemodel\n",
    "pyLDAvis.enable_notebook()\n",
    "\n",
    "import warnings\n",
    "warnings.filterwarnings(\"ignore\")\n",
    "\n",
    "import matplotlib.pyplot as plt\n",
    "import datetime as dt"
   ]
  },
  {
   "cell_type": "code",
   "execution_count": 11,
   "metadata": {},
   "outputs": [],
   "source": [
    "path_to_chromedriver = \"/Users/guillermogonzalez/projects/webscraping/chromedriver\""
   ]
  },
  {
   "cell_type": "code",
   "execution_count": 12,
   "metadata": {},
   "outputs": [
    {
     "name": "stdout",
     "output_type": "stream",
     "text": [
      "\u001b[31mchromedriver\u001b[m\u001b[m           chromedriver_mac64.zip \u001b[34mjob_topic_modeling\u001b[m\u001b[m\r\n"
     ]
    }
   ],
   "source": [
    "!ls /Users/guillermogonzalez/projects/webscraping/"
   ]
  },
  {
   "cell_type": "code",
   "execution_count": 20,
   "metadata": {},
   "outputs": [],
   "source": [
    "#adds the data in URL format by removing any white space and adding the data. \n",
    "def Keyword_to_url(kw):\n",
    "    '''\n",
    "    Stips any leading and trailing white space from a string and replaces spaces with'%20'.\n",
    "    '''\n",
    "    kw = kw.strip().replace(\" \",\"%20\")\n",
    "    return kw"
   ]
  },
  {
   "cell_type": "markdown",
   "metadata": {},
   "source": [
    "### URL Example\n",
    "```https://www.careeronestop.org/Toolkit/Jobs/find-jobs.aspx?keyword=data%20analyst&ajax=0&location=austin,%20texas&radius=5&source=IN&pagesize=100&sortcolumns=accquisitiondate&sortdirections=DSC```\n",
    "- occupation: keyword=data%20analyst  \n",
    "- location: location=austin,%20texas  \n",
    "- radius: radius=5  \n",
    "- page_size: pagesize=100  \n",
    "- page_sort: sortcolumns=accquisitiondate&sortdirections=DSC  \n",
    "- source: source=IN  \n"
   ]
  },
  {
   "cell_type": "markdown",
   "metadata": {},
   "source": [
    "<img width=\"983\" alt=\"screen shot 2018-06-24 at 10 16 01 pm\" src=\"https://user-images.githubusercontent.com/7989686/41828679-4cf946ce-77fc-11e8-8b80-6479d6865873.png\">"
   ]
  },
  {
   "cell_type": "markdown",
   "metadata": {},
   "source": [
    "# occupation = 'data analyst'\n",
    "> #### Scrubbing dataframe to identify titles more closely matched to data science and data analyst roles"
   ]
  },
  {
   "cell_type": "code",
   "execution_count": 79,
   "metadata": {},
   "outputs": [
    {
     "name": "stderr",
     "output_type": "stream",
     "text": [
      "100%|██████████| 100/100 [00:10<00:00,  9.71it/s]\n",
      "100%|██████████| 100/100 [01:51<00:00,  1.11s/it]\n"
     ]
    }
   ],
   "source": [
    "#setup browser window\n",
    "browser = webdriver.Chrome(executable_path= path_to_chromedriver)\n",
    "\n",
    "#adds the data in URL format by removing any white space and adding the data. \n",
    "def Keyword_to_url(kw):\n",
    "    '''\n",
    "    Stips any leading and trailing white space from a string and replaces spaces with'%20'.\n",
    "    '''\n",
    "    kw = kw.strip().replace(\" \",\"%20\")\n",
    "    return kw\n",
    "\n",
    "\n",
    "\n",
    "# this will be used as the URL input for multiple job searches. \n",
    "occupation = 'data analyst' # str(input(\"Job you are looking for: \"))\n",
    "location = 'seattle, wa' # str(input(\"Where do you want to look: \"))\n",
    "radius = str(5)\n",
    "page_sort = 'DSC' # ASC (ascending) or DSC (descending) dates \n",
    "page_size = \"100\" # how many pages would you like to get. \n",
    "source = 'IN' # stands for indeed\n",
    "\n",
    "#give it the site URL\n",
    "url = 'https://www.careeronestop.org/Toolkit/Jobs/find-jobs.aspx?'+\\\n",
    "    'keyword='+Keyword_to_url(occupation)+\\\n",
    "    '&ajax=0&location='+Keyword_to_url(location)+\\\n",
    "    '&radius='+radius+\\\n",
    "    '&source='+ source +\\\n",
    "    '&pagesize='+page_size+\\\n",
    "    '&sortcolumns=accquisitiondate&sortdirections='+page_sort\n",
    "browser.get(url)\n",
    "browser.implicitly_wait(30)\n",
    "\n",
    "# Default is 100 job listings for this page and this verifies that thera are 100 job titles\n",
    "listing_num = len(browser.find_elements_by_xpath('//td[@data-title=\"Job Title\"]'))\n",
    "\n",
    "job_titles = browser.find_elements_by_xpath('//td[@data-title=\"Job Title\"]')\n",
    "company_titles = browser.find_elements_by_xpath('//td[@data-title=\"Company\"]')\n",
    "locations = browser.find_elements_by_xpath('//td[@data-title=\"Location\"]')\n",
    "dates = browser.find_elements_by_xpath('//td[@data-title=\"Date Posted\"]')\n",
    "\n",
    "data = {}\n",
    "data['company'] = []\n",
    "data['date_posted'] = []\n",
    "data['location'] = []\n",
    "data['position'] = []\n",
    "data['pos_link'] = []\n",
    "data['pos_description'] = []\n",
    "\n",
    "for job in tqdm(range(listing_num)):\n",
    "    data['position'].append(job_titles[job].text) # position title\n",
    "    data['company'].append(company_titles[job].text) # comapany title\n",
    "    data['location'].append(locations[job].text) # job location\n",
    "    data['date_posted'].append(dates[job].text) # date job posted\n",
    "    # link to job description\n",
    "    data['pos_link'].append(browser.find_element_by_link_text(job_titles[job].text).get_attribute('href')) \n",
    "    \n",
    "for link in tqdm(data['pos_link']):\n",
    "    browser.get(link) # open link to job description in the same window\n",
    "    # append job description\n",
    "    data['pos_description'].append(browser.find_element_by_xpath('//td[@class=\"snip\"]').text.replace('\\n', ' '))\n",
    "    browser.back() # click the back button to return to original page\n",
    "\n",
    "# transform the dictionary into a DataFrame    \n",
    "df = pd.DataFrame(data)"
   ]
  },
  {
   "cell_type": "code",
   "execution_count": 22,
   "metadata": {},
   "outputs": [],
   "source": [
    "# identifying all positions specific to data science or analysis\n",
    "positions_da = df['position']\n",
    "da_positions = set()\n",
    "for position in positions_da:\n",
    "    if position.lower().find('data scientist') > -1 \\\n",
    "        or position.lower().find('analyst') > -1\\\n",
    "        or position.lower().find('machine learning') > -1\\\n",
    "        or position.lower().find('ai') > -1\\\n",
    "        or position.lower().find('data science') > -1\\\n",
    "        or position.lower().find('analytics') > -1:\n",
    "        da_positions.add(position)    "
   ]
  },
  {
   "cell_type": "code",
   "execution_count": 23,
   "metadata": {},
   "outputs": [],
   "source": [
    "# Need to come back to, but was making a function to drop rows that were not relavent job posts\n",
    "def ds_or_da(dataframe):\n",
    "    index_to_drop = []\n",
    "    for position in dataframe['position']:\n",
    "        if position.lower().find('data scientist') == -1 \\\n",
    "        and position.lower().find('analyst') == -1\\\n",
    "        and position.lower().find('machine learning') == -1\\\n",
    "        and position.lower().find('ai') == -1\\\n",
    "        and position.lower().find('data science') == -1\\\n",
    "        and position.lower().find('analytics') == -1:\n",
    "            index_to_drop.append(position.index())  \n",
    "        \n",
    "    return index_to_drop\n",
    "            "
   ]
  },
  {
   "cell_type": "code",
   "execution_count": 24,
   "metadata": {},
   "outputs": [
    {
     "data": {
      "text/plain": [
       "(98, 6)"
      ]
     },
     "execution_count": 24,
     "metadata": {},
     "output_type": "execute_result"
    }
   ],
   "source": [
    "# data science/analyst positions in this list\n",
    "df[ df['position'].isin(da_positions) ].shape"
   ]
  },
  {
   "cell_type": "code",
   "execution_count": 25,
   "metadata": {},
   "outputs": [
    {
     "data": {
      "text/plain": [
       "0                               Business Analyst\n",
       "1       Business Analyst (Operations Excellence)\n",
       "2          Reporting Analyst - CORP - Austin, TX\n",
       "3         Analyst, Investment Analytics and Data\n",
       "4                               Business Analyst\n",
       "5                        Accounting Data Analyst\n",
       "6                                 Data Analyst I\n",
       "7                               Business Analyst\n",
       "8      Business Intelligence Development/Analyst\n",
       "9    Payment Intelligence and Cybercrime Analyst\n",
       "Name: position, dtype: object"
      ]
     },
     "execution_count": 25,
     "metadata": {},
     "output_type": "execute_result"
    }
   ],
   "source": [
    "# Sample of ru\n",
    "df[ df['position'].isin(da_positions) ]['position'][:10]"
   ]
  },
  {
   "cell_type": "code",
   "execution_count": 26,
   "metadata": {},
   "outputs": [],
   "source": [
    "# identifying non-data science or analysis positions\n",
    "non_da_positions = set()\n",
    "for position in positions_da:\n",
    "    if position.lower().find('data scientist') == -1 \\\n",
    "        and position.lower().find('analyst') == -1\\\n",
    "        and position.lower().find('machine learning') == -1\\\n",
    "        and position.lower().find('ai') == -1\\\n",
    "        and position.lower().find('data science') == -1\\\n",
    "        and position.lower().find('analytics') == -1:\n",
    "        non_da_positions.add(position)    "
   ]
  },
  {
   "cell_type": "code",
   "execution_count": 27,
   "metadata": {},
   "outputs": [
    {
     "data": {
      "text/plain": [
       "(2, 6)"
      ]
     },
     "execution_count": 27,
     "metadata": {},
     "output_type": "execute_result"
    }
   ],
   "source": [
    "# there are 11 non-data science/analyst positions in this list\n",
    "df[ df['position'].isin(non_da_positions) ].shape"
   ]
  },
  {
   "cell_type": "code",
   "execution_count": 28,
   "metadata": {},
   "outputs": [
    {
     "data": {
      "text/plain": [
       "39      Data Engineer\n",
       "90    Data Strategist\n",
       "Name: position, dtype: object"
      ]
     },
     "execution_count": 28,
     "metadata": {},
     "output_type": "execute_result"
    }
   ],
   "source": [
    "df[ df['position'].isin(non_da_positions) ]['position']"
   ]
  },
  {
   "cell_type": "code",
   "execution_count": 30,
   "metadata": {},
   "outputs": [
    {
     "name": "stdout",
     "output_type": "stream",
     "text": [
      "2.0% of job titles are non-data science/anlaysis titles\n"
     ]
    }
   ],
   "source": [
    "print('{:.3}% of job titles are non-data science/anlaysis titles'.format((df[ df['position'].isin(non_da_positions) ]\\\n",
    "                                                            .shape[0]/len(df))*100))"
   ]
  },
  {
   "cell_type": "code",
   "execution_count": 65,
   "metadata": {},
   "outputs": [
    {
     "data": {
      "text/html": [
       "<div>\n",
       "<style scoped>\n",
       "    .dataframe tbody tr th:only-of-type {\n",
       "        vertical-align: middle;\n",
       "    }\n",
       "\n",
       "    .dataframe tbody tr th {\n",
       "        vertical-align: top;\n",
       "    }\n",
       "\n",
       "    .dataframe thead th {\n",
       "        text-align: right;\n",
       "    }\n",
       "</style>\n",
       "<table border=\"1\" class=\"dataframe\">\n",
       "  <thead>\n",
       "    <tr style=\"text-align: right;\">\n",
       "      <th></th>\n",
       "      <th>company</th>\n",
       "      <th>date_posted</th>\n",
       "      <th>location</th>\n",
       "      <th>pos_description</th>\n",
       "      <th>pos_link</th>\n",
       "      <th>position</th>\n",
       "    </tr>\n",
       "  </thead>\n",
       "  <tbody>\n",
       "    <tr>\n",
       "      <th>0</th>\n",
       "      <td>Avani Technology Solutions Inc</td>\n",
       "      <td>07/18/2018</td>\n",
       "      <td>Austin, TX</td>\n",
       "      <td>Job Summary Position: Business Analyst 3 Location: Austin, Texas Duration: 160 Hours Responsibil...</td>\n",
       "      <td>https://www.indeed.com/viewjob?jk=4bbfad1784f0ee33&amp;qd=gMF-077E7aWVyicXRrUZA568_ZMafrHmjPUuefcLv6...</td>\n",
       "      <td>Business Analyst</td>\n",
       "    </tr>\n",
       "    <tr>\n",
       "      <th>1</th>\n",
       "      <td>HireBetter</td>\n",
       "      <td>07/18/2018</td>\n",
       "      <td>Austin, TX</td>\n",
       "      <td>The Role: Treasury Analyst (Contract) Location: Austin, TX Position Summary: Our client, a globa...</td>\n",
       "      <td>https://www.indeed.com/viewjob?jk=e999cdbb789f9d09&amp;qd=gMF-077E7aWVyicXRrUZA568_ZMafrHmjPUuefcLv6...</td>\n",
       "      <td>Treasury Analyst (Contract)</td>\n",
       "    </tr>\n",
       "    <tr>\n",
       "      <th>2</th>\n",
       "      <td>Soal Technologies</td>\n",
       "      <td>07/18/2018</td>\n",
       "      <td>Austin, TX</td>\n",
       "      <td>Job Summary Position: Business Analyst 3 Location: Austin, Texas Duration: 160 Hours Responsibil...</td>\n",
       "      <td>https://www.indeed.com/viewjob?jk=4bbfad1784f0ee33&amp;qd=gMF-077E7aWVyicXRrUZA568_ZMafrHmjPUuefcLv6...</td>\n",
       "      <td>Business Analyst</td>\n",
       "    </tr>\n",
       "    <tr>\n",
       "      <th>3</th>\n",
       "      <td>Virtus Partners</td>\n",
       "      <td>07/18/2018</td>\n",
       "      <td>Austin, TX</td>\n",
       "      <td>Prepares daily reconciliation of cash transactions Manages large volumes of transactions and mon...</td>\n",
       "      <td>https://www.indeed.com/viewjob?jk=ce50923ac74cd092&amp;qd=gMF-077E7aWVyicXRrUZA568_ZMafrHmjPUuefcLv6...</td>\n",
       "      <td>Data Analyst II</td>\n",
       "    </tr>\n",
       "    <tr>\n",
       "      <th>4</th>\n",
       "      <td>PMCS Services, Inc</td>\n",
       "      <td>07/18/2018</td>\n",
       "      <td>Austin, TX</td>\n",
       "      <td>PMCS looking for a Full time/contract employee for Data Analytics Consultant. Essential Job Task...</td>\n",
       "      <td>https://www.indeed.com/viewjob?jk=76f60dc0f5f3767f&amp;qd=gMF-077E7aWVyicXRrUZA568_ZMafrHmjPUuefcLv6...</td>\n",
       "      <td>Data Analytics Consultant</td>\n",
       "    </tr>\n",
       "  </tbody>\n",
       "</table>\n",
       "</div>"
      ],
      "text/plain": [
       "                          company date_posted    location  \\\n",
       "0  Avani Technology Solutions Inc  07/18/2018  Austin, TX   \n",
       "1                      HireBetter  07/18/2018  Austin, TX   \n",
       "2               Soal Technologies  07/18/2018  Austin, TX   \n",
       "3                 Virtus Partners  07/18/2018  Austin, TX   \n",
       "4              PMCS Services, Inc  07/18/2018  Austin, TX   \n",
       "\n",
       "                                                                                       pos_description  \\\n",
       "0  Job Summary Position: Business Analyst 3 Location: Austin, Texas Duration: 160 Hours Responsibil...   \n",
       "1  The Role: Treasury Analyst (Contract) Location: Austin, TX Position Summary: Our client, a globa...   \n",
       "2  Job Summary Position: Business Analyst 3 Location: Austin, Texas Duration: 160 Hours Responsibil...   \n",
       "3  Prepares daily reconciliation of cash transactions Manages large volumes of transactions and mon...   \n",
       "4  PMCS looking for a Full time/contract employee for Data Analytics Consultant. Essential Job Task...   \n",
       "\n",
       "                                                                                              pos_link  \\\n",
       "0  https://www.indeed.com/viewjob?jk=4bbfad1784f0ee33&qd=gMF-077E7aWVyicXRrUZA568_ZMafrHmjPUuefcLv6...   \n",
       "1  https://www.indeed.com/viewjob?jk=e999cdbb789f9d09&qd=gMF-077E7aWVyicXRrUZA568_ZMafrHmjPUuefcLv6...   \n",
       "2  https://www.indeed.com/viewjob?jk=4bbfad1784f0ee33&qd=gMF-077E7aWVyicXRrUZA568_ZMafrHmjPUuefcLv6...   \n",
       "3  https://www.indeed.com/viewjob?jk=ce50923ac74cd092&qd=gMF-077E7aWVyicXRrUZA568_ZMafrHmjPUuefcLv6...   \n",
       "4  https://www.indeed.com/viewjob?jk=76f60dc0f5f3767f&qd=gMF-077E7aWVyicXRrUZA568_ZMafrHmjPUuefcLv6...   \n",
       "\n",
       "                      position  \n",
       "0             Business Analyst  \n",
       "1  Treasury Analyst (Contract)  \n",
       "2             Business Analyst  \n",
       "3              Data Analyst II  \n",
       "4    Data Analytics Consultant  "
      ]
     },
     "execution_count": 65,
     "metadata": {},
     "output_type": "execute_result"
    }
   ],
   "source": [
    "df.head()"
   ]
  },
  {
   "cell_type": "markdown",
   "metadata": {},
   "source": [
    "# Text Preprocessing"
   ]
  },
  {
   "cell_type": "markdown",
   "metadata": {},
   "source": [
    "## Create function to REMOVE PUCTUATION"
   ]
  },
  {
   "cell_type": "code",
   "execution_count": 560,
   "metadata": {},
   "outputs": [
    {
     "data": {
      "text/plain": [
       "'!\"#$%&\\'()*+,-./:;<=>?@[\\\\]^_`{|}~'"
      ]
     },
     "execution_count": 560,
     "metadata": {},
     "output_type": "execute_result"
    }
   ],
   "source": [
    "string.punctuation"
   ]
  },
  {
   "cell_type": "markdown",
   "metadata": {},
   "source": [
    "#### Function DOES NOT WORK with this dataset (see below why)"
   ]
  },
  {
   "cell_type": "code",
   "execution_count": 403,
   "metadata": {},
   "outputs": [],
   "source": [
    "# sring of all punctuations\n",
    "string.punctuation\n",
    "\n",
    "def remove_punct(text):\n",
    "    # only returns char not in the punctuation list then join the characters to look like the original document                                                                                  #  punctuation list\n",
    "    text_nopunct = ''.join([char for char in text if char not in string.punctuation]) \n",
    "    return text_nopunct\n",
    "\n",
    "# make a new colum of the descriptions with punctuation removed\n",
    "df['docs_nopunct'] = df['pos_description'].apply(lambda x: remove_punct(x))"
   ]
  },
  {
   "cell_type": "markdown",
   "metadata": {},
   "source": [
    "Noticed that there are still apostrophies in the new column???"
   ]
  },
  {
   "cell_type": "code",
   "execution_count": 404,
   "metadata": {},
   "outputs": [
    {
     "name": "stdout",
     "output_type": "stream",
     "text": [
      "You can see that \"'\" from the punctuation string does not look like \"’\" from the document and this is what it like\n",
      " manually typed \"'\"\n"
     ]
    }
   ],
   "source": [
    "# the apostrophe from the document does not match the puncutation string's apostophe; need to find another solution\n",
    "print('You can see that \\\"{}\\\" from the punctuation string does not look like \\\"{}\\\" from the document and\\\n",
    " this is what it like\\n manually typed \\\"{}\\\"'.format(string.punctuation[6], df['docs_nopunct'][4][5],'\\''))"
   ]
  },
  {
   "cell_type": "markdown",
   "metadata": {},
   "source": [
    "#### Function WORKS correctly utilizing regex"
   ]
  },
  {
   "cell_type": "code",
   "execution_count": 405,
   "metadata": {},
   "outputs": [],
   "source": [
    "import re"
   ]
  },
  {
   "cell_type": "code",
   "execution_count": 406,
   "metadata": {},
   "outputs": [],
   "source": [
    "# Using regular expressions to remove punctuation\n",
    "def remove_punct(text):\n",
    "    '''\n",
    "    Finds all word elements only and joins all the stings on ' '\n",
    "    '''\n",
    "    text_nopunct = ' '.join(re.findall('\\w+', text)) # \\w+ selects word elements only \n",
    "    return text_nopunct\n",
    "\n",
    "df['docs_nopunct'] = df['pos_description'].apply(lambda x: remove_punct(x))"
   ]
  },
  {
   "cell_type": "markdown",
   "metadata": {},
   "source": [
    "## Create a function to TOKENIZE the text"
   ]
  },
  {
   "cell_type": "code",
   "execution_count": 408,
   "metadata": {},
   "outputs": [],
   "source": [
    "def tokenizer(text):\n",
    "    docs_tokenized = re.split('\\W+', text)\n",
    "    return docs_tokenized   \n",
    "\n",
    "df['docs_tokenized'] = df['docs_nopunct'].apply(lambda x: tokenizer(x.lower()))"
   ]
  },
  {
   "cell_type": "markdown",
   "metadata": {},
   "source": [
    "## Create a function to REMOVE STOPWORDS"
   ]
  },
  {
   "cell_type": "code",
   "execution_count": 410,
   "metadata": {},
   "outputs": [],
   "source": [
    "stopwords = nltk.corpus.stopwords.words('english')"
   ]
  },
  {
   "cell_type": "code",
   "execution_count": 411,
   "metadata": {},
   "outputs": [],
   "source": [
    "def remove_stopwords(tokenized_text):\n",
    "    docs_no_stopwords = [word for word in tokenized_text if word not in stopwords]\n",
    "    return docs_no_stopwords     \n",
    "\n",
    "df['docs_tokenized_nostopwords'] = df['docs_tokenized'].apply(lambda x: remove_stopwords(x))"
   ]
  },
  {
   "cell_type": "markdown",
   "metadata": {},
   "source": [
    "## Create a function to LEMMATIZE the tokens"
   ]
  },
  {
   "cell_type": "code",
   "execution_count": 369,
   "metadata": {},
   "outputs": [],
   "source": [
    "def word_lemmatizer(word):   \n",
    "    lemma = wn.morphy(word)\n",
    "    if lemma is None:\n",
    "        return  word\n",
    "    else:\n",
    "        return lemma"
   ]
  },
  {
   "cell_type": "code",
   "execution_count": 370,
   "metadata": {},
   "outputs": [],
   "source": [
    "def doc_lemmatizer(text):\n",
    "    docs_lemmatized = [word_lemmatizer(word) for word in text]\n",
    "    return docs_lemmatized\n",
    "\n",
    "df['docs_lemmatized'] = df['docs_tokenized_nostopwords'].apply(lambda x: doc_lemmatizer(x))"
   ]
  },
  {
   "cell_type": "markdown",
   "metadata": {},
   "source": [
    "## Create a function to REMOVE CRAP WORDS"
   ]
  },
  {
   "cell_type": "code",
   "execution_count": null,
   "metadata": {},
   "outputs": [],
   "source": [
    "crap_words = ['hour', 'hours', 'day', 'days', 'minutes', 'austin', 'tx', 'ago']"
   ]
  },
  {
   "cell_type": "code",
   "execution_count": null,
   "metadata": {},
   "outputs": [],
   "source": [
    "def remove_crap(text):\n",
    "    docs_no_crap = [word for word in text if word not in crap_words]\n",
    "    return docs_no_crap\n",
    "\n",
    "df['docs_no_crap'] = df['docs_tokenized'].apply(lambda x: remove_crap(x))"
   ]
  },
  {
   "cell_type": "markdown",
   "metadata": {},
   "source": [
    "## Job recommendations at bottom of webpages\n",
    " - At the end of every job description there is a \"save job\" link.  A function was made to call out the index of \"save\" in every job post in order to index the output of the text_processing function to only include everything before it.  \n",
    "<img width=\"406\" alt=\"screen shot 2018-07-12 at 1 16 00 am\" src=\"https://user-images.githubusercontent.com/7989686/42616824-2ebf21c0-8575-11e8-9cb9-e2c0a6c037b1.png\">"
   ]
  },
  {
   "cell_type": "markdown",
   "metadata": {},
   "source": [
    "# Combining into a one TEXT PREPROCESSING FUNCTION "
   ]
  },
  {
   "cell_type": "code",
   "execution_count": 32,
   "metadata": {},
   "outputs": [],
   "source": [
    "import re"
   ]
  },
  {
   "cell_type": "code",
   "execution_count": 80,
   "metadata": {},
   "outputs": [],
   "source": [
    "stopwords = nltk.corpus.stopwords.words('english')\n",
    "crap_words = ['hour', 'hours', 'day', 'days', 'minutes', 'austin', 'tx', 'ago', 'experience', 'team',\n",
    "              'work', 'skill', 'understanding', 'ability', 'member', 'years', 'requirement', 'job'\n",
    "              ,'knowledge', 'require', 'include', 'provide']\n",
    "\n",
    "# function for wordnet lemmatizing a word returns the word if it's not in wordnet\n",
    "#  this allows there to be a combination of wordnet lemmatized words and non-wordnet words in the doc\n",
    "def word_lemmatizer(word):   \n",
    "    lemma = wn.morphy(word) \n",
    "    if lemma is None:  # return the word if there is no lemma in WordNet for that word\n",
    "        return  word\n",
    "    else:\n",
    "        return lemma\n",
    "# Bottom of web page has job recommendations. This function identifies the index of 'save' at \n",
    "# the bottom of every job description\n",
    "def save_index(text):\n",
    "    save = text.index('save')\n",
    "    return save\n",
    "\n",
    "def text_preprocess(text):\n",
    "    text_nopunct = ' '.join(re.findall('\\w+', text))  # remove puncuation by only selecting word elements '\\w+'\n",
    "    docs_tokenized = re.split('\\W+', text_nopunct)  # tokenize splitting on non-word elements '\\W+'\n",
    "    docs_no_stopwords = [word for word in docs_tokenized if word not in stopwords]  # remove stopwords\n",
    "    docs_lemmatized = [word_lemmatizer(word) for word in docs_no_stopwords]  # wordnet lemmatizing\n",
    "    docs_no_crapwords = [word for word in docs_lemmatized if word not in crap_words]  # remove crap words\n",
    "    return docs_no_crapwords[ : save_index(docs_no_crapwords)]  # return the list up to 'save'"
   ]
  },
  {
   "cell_type": "code",
   "execution_count": 35,
   "metadata": {},
   "outputs": [],
   "source": [
    "# revert the dataframe to teh pre-application of the text_preprocess function to tweak some optimizations\n",
    "def revert(dataframe):\n",
    "    try:\n",
    "        return dataframe.drop('pos_description_processed', axis=1, inplace=True)\n",
    "    except:\n",
    "        pass\n",
    "revert(df)"
   ]
  },
  {
   "cell_type": "code",
   "execution_count": 81,
   "metadata": {},
   "outputs": [],
   "source": [
    "# Adding a new column of the processed text\n",
    "df['pos_description_processed'] = df['pos_description'].apply(lambda x: text_preprocess(x.lower()))"
   ]
  },
  {
   "cell_type": "code",
   "execution_count": 82,
   "metadata": {},
   "outputs": [
    {
     "data": {
      "text/html": [
       "<div>\n",
       "<style scoped>\n",
       "    .dataframe tbody tr th:only-of-type {\n",
       "        vertical-align: middle;\n",
       "    }\n",
       "\n",
       "    .dataframe tbody tr th {\n",
       "        vertical-align: top;\n",
       "    }\n",
       "\n",
       "    .dataframe thead th {\n",
       "        text-align: right;\n",
       "    }\n",
       "</style>\n",
       "<table border=\"1\" class=\"dataframe\">\n",
       "  <thead>\n",
       "    <tr style=\"text-align: right;\">\n",
       "      <th></th>\n",
       "      <th>company</th>\n",
       "      <th>date_posted</th>\n",
       "      <th>location</th>\n",
       "      <th>pos_description</th>\n",
       "      <th>pos_link</th>\n",
       "      <th>position</th>\n",
       "      <th>pos_description_processed</th>\n",
       "    </tr>\n",
       "  </thead>\n",
       "  <tbody>\n",
       "    <tr>\n",
       "      <th>0</th>\n",
       "      <td>Amperity</td>\n",
       "      <td>07/18/2018</td>\n",
       "      <td>Seattle, WA</td>\n",
       "      <td>Today, there is a chronic and pervasive customer data problem -- one that’s preventing some of t...</td>\n",
       "      <td>https://www.indeed.com/viewjob?jk=0a9a257678dbf2aa&amp;qd=gMF-077E7aWVyicXRrUZA568_ZMafrHmjPUuefcLv6...</td>\n",
       "      <td>Data Analyst, Machine Learning</td>\n",
       "      <td>[today, chronic, pervasive, customer, data, problem, one, prevent, world, love, brand, engage, c...</td>\n",
       "    </tr>\n",
       "    <tr>\n",
       "      <th>1</th>\n",
       "      <td>Qualis Health</td>\n",
       "      <td>07/18/2018</td>\n",
       "      <td>Seattle, WA</td>\n",
       "      <td>In April 2018, HealthInsight and Qualis Health announced a formal merger, combining the two orga...</td>\n",
       "      <td>https://www.indeed.com/viewjob?jk=45194a5079b3ceff&amp;qd=gMF-077E7aWVyicXRrUZA568_ZMafrHmjPUuefcLv6...</td>\n",
       "      <td>Health Data Analyst</td>\n",
       "      <td>[april, 2018, healthinsight, qualis, health, announce, formal, merger, combining, two, organizat...</td>\n",
       "    </tr>\n",
       "    <tr>\n",
       "      <th>2</th>\n",
       "      <td>AssuredPartners, Inc.</td>\n",
       "      <td>07/18/2018</td>\n",
       "      <td>Seattle, WA</td>\n",
       "      <td>Overview Job Title: EB Data Analyst Department: Employee Benefits Reports To: President of Emplo...</td>\n",
       "      <td>https://www.indeed.com/viewjob?jk=22cd09f5dede6437&amp;qd=gMF-077E7aWVyicXRrUZA568_ZMafrHmjPUuefcLv6...</td>\n",
       "      <td>Employee Benefits Data Analyst</td>\n",
       "      <td>[overview, title, eb, data, analyst, department, employee, benefit, report, president, employee,...</td>\n",
       "    </tr>\n",
       "    <tr>\n",
       "      <th>3</th>\n",
       "      <td>Drift</td>\n",
       "      <td>07/18/2018</td>\n",
       "      <td>Seattle, WA</td>\n",
       "      <td>Drift is a tech startup located in Seattle. We’ve raised $10 million from top investors to fund ...</td>\n",
       "      <td>https://www.indeed.com/viewjob?jk=7f0a46e24a46e345&amp;qd=gMF-077E7aWVyicXRrUZA568_ZMafrHmjPUuefcLv6...</td>\n",
       "      <td>Finance Operations Analyst</td>\n",
       "      <td>[drift, tech, startup, locate, seattle, raise, 10, million, top, investor, fund, vision, bring, ...</td>\n",
       "    </tr>\n",
       "    <tr>\n",
       "      <th>4</th>\n",
       "      <td>King County</td>\n",
       "      <td>07/17/2018</td>\n",
       "      <td>Seattle, WA</td>\n",
       "      <td>Summary SUMMARY  About King County: As the only county in the United States named after Martin L...</td>\n",
       "      <td>https://www.indeed.com/viewjob?jk=062003e0be267ffa&amp;qd=gMF-077E7aWVyicXRrUZA568_ZMafrHmjPUuefcLv6...</td>\n",
       "      <td>Business Analyst</td>\n",
       "      <td>[summary, summary, king, county, county, unite, state, name, martin, luther, king, jr, one, infl...</td>\n",
       "    </tr>\n",
       "  </tbody>\n",
       "</table>\n",
       "</div>"
      ],
      "text/plain": [
       "                 company date_posted     location  \\\n",
       "0               Amperity  07/18/2018  Seattle, WA   \n",
       "1          Qualis Health  07/18/2018  Seattle, WA   \n",
       "2  AssuredPartners, Inc.  07/18/2018  Seattle, WA   \n",
       "3                  Drift  07/18/2018  Seattle, WA   \n",
       "4            King County  07/17/2018  Seattle, WA   \n",
       "\n",
       "                                                                                       pos_description  \\\n",
       "0  Today, there is a chronic and pervasive customer data problem -- one that’s preventing some of t...   \n",
       "1  In April 2018, HealthInsight and Qualis Health announced a formal merger, combining the two orga...   \n",
       "2  Overview Job Title: EB Data Analyst Department: Employee Benefits Reports To: President of Emplo...   \n",
       "3  Drift is a tech startup located in Seattle. We’ve raised $10 million from top investors to fund ...   \n",
       "4  Summary SUMMARY  About King County: As the only county in the United States named after Martin L...   \n",
       "\n",
       "                                                                                              pos_link  \\\n",
       "0  https://www.indeed.com/viewjob?jk=0a9a257678dbf2aa&qd=gMF-077E7aWVyicXRrUZA568_ZMafrHmjPUuefcLv6...   \n",
       "1  https://www.indeed.com/viewjob?jk=45194a5079b3ceff&qd=gMF-077E7aWVyicXRrUZA568_ZMafrHmjPUuefcLv6...   \n",
       "2  https://www.indeed.com/viewjob?jk=22cd09f5dede6437&qd=gMF-077E7aWVyicXRrUZA568_ZMafrHmjPUuefcLv6...   \n",
       "3  https://www.indeed.com/viewjob?jk=7f0a46e24a46e345&qd=gMF-077E7aWVyicXRrUZA568_ZMafrHmjPUuefcLv6...   \n",
       "4  https://www.indeed.com/viewjob?jk=062003e0be267ffa&qd=gMF-077E7aWVyicXRrUZA568_ZMafrHmjPUuefcLv6...   \n",
       "\n",
       "                         position  \\\n",
       "0  Data Analyst, Machine Learning   \n",
       "1             Health Data Analyst   \n",
       "2  Employee Benefits Data Analyst   \n",
       "3      Finance Operations Analyst   \n",
       "4                Business Analyst   \n",
       "\n",
       "                                                                             pos_description_processed  \n",
       "0  [today, chronic, pervasive, customer, data, problem, one, prevent, world, love, brand, engage, c...  \n",
       "1  [april, 2018, healthinsight, qualis, health, announce, formal, merger, combining, two, organizat...  \n",
       "2  [overview, title, eb, data, analyst, department, employee, benefit, report, president, employee,...  \n",
       "3  [drift, tech, startup, locate, seattle, raise, 10, million, top, investor, fund, vision, bring, ...  \n",
       "4  [summary, summary, king, county, county, unite, state, name, martin, luther, king, jr, one, infl...  "
      ]
     },
     "execution_count": 82,
     "metadata": {},
     "output_type": "execute_result"
    }
   ],
   "source": [
    "df.head()"
   ]
  },
  {
   "cell_type": "code",
   "execution_count": 83,
   "metadata": {},
   "outputs": [],
   "source": [
    "df.to_csv('../data/{}_{}_{}.csv'.format( dt.date.today(), ''.join(re.findall('\\w', occupation)), ''.join(re.findall('\\w', location)) ))"
   ]
  },
  {
   "cell_type": "markdown",
   "metadata": {},
   "source": [
    "### After reviewing the results using \"data scientist\" and \"data analyst\" there were more positive titles directly related to Data Science or Data Analytics using the \"data analyst\" keywords."
   ]
  },
  {
   "cell_type": "markdown",
   "metadata": {},
   "source": [
    "## Time for LDA"
   ]
  },
  {
   "cell_type": "code",
   "execution_count": 37,
   "metadata": {},
   "outputs": [],
   "source": [
    "# Text data\n",
    "texts = df['pos_description_processed']"
   ]
  },
  {
   "cell_type": "code",
   "execution_count": 38,
   "metadata": {},
   "outputs": [
    {
     "name": "stdout",
     "output_type": "stream",
     "text": [
      "0\n",
      "[]\n"
     ]
    }
   ],
   "source": [
    "# validating that all crap words are removed\n",
    "count = 0\n",
    "words = []\n",
    "for word in texts[0]:\n",
    "    if word in crap_words:\n",
    "        count += 1\n",
    "        words.append(word)\n",
    "print(count)\n",
    "print(words)"
   ]
  },
  {
   "cell_type": "code",
   "execution_count": 39,
   "metadata": {},
   "outputs": [],
   "source": [
    "dictionary = corpora.Dictionary(texts)"
   ]
  },
  {
   "cell_type": "code",
   "execution_count": 40,
   "metadata": {},
   "outputs": [
    {
     "data": {
      "text/html": [
       "<div>\n",
       "<style scoped>\n",
       "    .dataframe tbody tr th:only-of-type {\n",
       "        vertical-align: middle;\n",
       "    }\n",
       "\n",
       "    .dataframe tbody tr th {\n",
       "        vertical-align: top;\n",
       "    }\n",
       "\n",
       "    .dataframe thead th {\n",
       "        text-align: right;\n",
       "    }\n",
       "</style>\n",
       "<table border=\"1\" class=\"dataframe\">\n",
       "  <thead>\n",
       "    <tr style=\"text-align: right;\">\n",
       "      <th></th>\n",
       "      <th>0</th>\n",
       "      <th>1</th>\n",
       "    </tr>\n",
       "  </thead>\n",
       "  <tbody>\n",
       "    <tr>\n",
       "      <th>0</th>\n",
       "      <td>(0, 5)</td>\n",
       "      <td>peak</td>\n",
       "    </tr>\n",
       "    <tr>\n",
       "      <th>1</th>\n",
       "      <td>(1, 5)</td>\n",
       "      <td>performer</td>\n",
       "    </tr>\n",
       "    <tr>\n",
       "      <th>2</th>\n",
       "      <td>(2, 1)</td>\n",
       "      <td>nonprofit</td>\n",
       "    </tr>\n",
       "    <tr>\n",
       "      <th>3</th>\n",
       "      <td>(3, 2)</td>\n",
       "      <td>recruit</td>\n",
       "    </tr>\n",
       "    <tr>\n",
       "      <th>4</th>\n",
       "      <td>(4, 1)</td>\n",
       "      <td>firm</td>\n",
       "    </tr>\n",
       "    <tr>\n",
       "      <th>5</th>\n",
       "      <td>(5, 1)</td>\n",
       "      <td>specialize</td>\n",
       "    </tr>\n",
       "    <tr>\n",
       "      <th>6</th>\n",
       "      <td>(6, 1)</td>\n",
       "      <td>contract</td>\n",
       "    </tr>\n",
       "    <tr>\n",
       "      <th>7</th>\n",
       "      <td>(7, 4)</td>\n",
       "      <td>role</td>\n",
       "    </tr>\n",
       "    <tr>\n",
       "      <th>8</th>\n",
       "      <td>(8, 3)</td>\n",
       "      <td>state</td>\n",
       "    </tr>\n",
       "    <tr>\n",
       "      <th>9</th>\n",
       "      <td>(9, 3)</td>\n",
       "      <td>texas</td>\n",
       "    </tr>\n",
       "  </tbody>\n",
       "</table>\n",
       "</div>"
      ],
      "text/plain": [
       "        0           1\n",
       "0  (0, 5)        peak\n",
       "1  (1, 5)   performer\n",
       "2  (2, 1)   nonprofit\n",
       "3  (3, 2)     recruit\n",
       "4  (4, 1)        firm\n",
       "5  (5, 1)  specialize\n",
       "6  (6, 1)    contract\n",
       "7  (7, 4)        role\n",
       "8  (8, 3)       state\n",
       "9  (9, 3)       texas"
      ]
     },
     "execution_count": 40,
     "metadata": {},
     "output_type": "execute_result"
    }
   ],
   "source": [
    "# Illustration of what doc2bow is doing. \"data\" appears 5 tims in this position\n",
    "pd.concat([pd.Series(dictionary.doc2bow(texts[0])[:10]),pd.Series(texts[0][:10])], axis=1)"
   ]
  },
  {
   "cell_type": "code",
   "execution_count": 41,
   "metadata": {},
   "outputs": [],
   "source": [
    "# Validation that there are 5 instances of 'data' in the first job description\n",
    "def word_count(word):\n",
    "    count = 0\n",
    "    for text in texts[0]:\n",
    "        if text == word:\n",
    "            count += 1\n",
    "    return print('There are {} instances of \\'{}\\''.format(count, word))"
   ]
  },
  {
   "cell_type": "code",
   "execution_count": 42,
   "metadata": {},
   "outputs": [
    {
     "name": "stdout",
     "output_type": "stream",
     "text": [
      "There are 2 instances of 'recruit'\n",
      "There are 3 instances of 'state'\n",
      "There are 1 instances of 'nonprofit'\n"
     ]
    }
   ],
   "source": [
    "word_count('recruit')\n",
    "word_count('state')\n",
    "word_count('nonprofit')"
   ]
  },
  {
   "cell_type": "code",
   "execution_count": 43,
   "metadata": {},
   "outputs": [],
   "source": [
    "# defining the variable for the corpus\n",
    "corpus = [dictionary.doc2bow(text) for text in texts]"
   ]
  },
  {
   "cell_type": "code",
   "execution_count": 44,
   "metadata": {},
   "outputs": [],
   "source": [
    "# pickling the corpus object and dicitonary to plug into different LDA topic count models \n",
    "import pickle\n",
    "pickle.dump(corpus, open('corpus_da.pkl', 'wb'))\n",
    "dictionary.save('dictionary_da.gensim')"
   ]
  },
  {
   "cell_type": "markdown",
   "metadata": {},
   "source": [
    "## LDA with Gensim"
   ]
  },
  {
   "cell_type": "markdown",
   "metadata": {},
   "source": [
    "### Training a 2 topic model"
   ]
  },
  {
   "cell_type": "code",
   "execution_count": 45,
   "metadata": {},
   "outputs": [
    {
     "name": "stdout",
     "output_type": "stream",
     "text": [
      "(0, '0.025*\"business\" + 0.022*\"system\" + 0.016*\"data\" + 0.014*\"process\"')\n",
      "(1, '0.018*\"data\" + 0.010*\"business\" + 0.007*\"customer\" + 0.006*\"analytics\"')\n"
     ]
    }
   ],
   "source": [
    "topic_count = 2\n",
    "ldamodel = gensim.models.ldamodel.LdaModel(corpus=corpus, \n",
    "                                           num_topics=topic_count,\n",
    "                                           id2word=dictionary,\n",
    "                                           passes=15,\n",
    "                                           random_state=42)\n",
    "ldamodel.save('model2_da.gensim')\n",
    "\n",
    "\n",
    "topics = ldamodel.print_topics(num_words=4)\n",
    "for topic in topics:\n",
    "    print(topic)"
   ]
  },
  {
   "cell_type": "markdown",
   "metadata": {},
   "source": [
    "### Training a 3 topic model"
   ]
  },
  {
   "cell_type": "code",
   "execution_count": 46,
   "metadata": {},
   "outputs": [
    {
     "name": "stdout",
     "output_type": "stream",
     "text": [
      "(0, '0.026*\"data\" + 0.015*\"business\" + 0.007*\"information\" + 0.007*\"process\"')\n",
      "(1, '0.020*\"data\" + 0.008*\"analytics\" + 0.007*\"business\" + 0.006*\"customer\"')\n",
      "(2, '0.031*\"system\" + 0.030*\"business\" + 0.016*\"process\" + 0.011*\"project\"')\n"
     ]
    }
   ],
   "source": [
    "topic_count = 3\n",
    "ldamodel = gensim.models.ldamodel.LdaModel(corpus=corpus, \n",
    "                                           num_topics=topic_count,\n",
    "                                           id2word=dictionary,\n",
    "                                           passes=15,\n",
    "                                           random_state=42)\n",
    "ldamodel.save('model3_da.gensim')\n",
    "\n",
    "\n",
    "topics = ldamodel.print_topics(num_words=4)\n",
    "for topic in topics:\n",
    "    print(topic)"
   ]
  },
  {
   "cell_type": "markdown",
   "metadata": {},
   "source": [
    "### Training a 4 topic model"
   ]
  },
  {
   "cell_type": "code",
   "execution_count": 47,
   "metadata": {},
   "outputs": [
    {
     "name": "stdout",
     "output_type": "stream",
     "text": [
      "(0, '0.029*\"data\" + 0.015*\"business\" + 0.007*\"system\" + 0.007*\"information\"')\n",
      "(1, '0.016*\"data\" + 0.009*\"analytics\" + 0.008*\"business\" + 0.008*\"customer\"')\n",
      "(2, '0.033*\"system\" + 0.032*\"business\" + 0.018*\"process\" + 0.012*\"project\"')\n",
      "(3, '0.015*\"data\" + 0.012*\"business\" + 0.008*\"management\" + 0.007*\"project\"')\n"
     ]
    }
   ],
   "source": [
    "topic_count = 4\n",
    "ldamodel = gensim.models.ldamodel.LdaModel(corpus=corpus, \n",
    "                                           num_topics=topic_count,\n",
    "                                           id2word=dictionary,\n",
    "                                           passes=15,\n",
    "                                           random_state=42)\n",
    "ldamodel.save('model4_da.gensim')\n",
    "\n",
    "\n",
    "topics = ldamodel.print_topics(num_words=4)\n",
    "for topic in topics:\n",
    "    print(topic)"
   ]
  },
  {
   "cell_type": "markdown",
   "metadata": {},
   "source": [
    "### Training a 5 topic model"
   ]
  },
  {
   "cell_type": "code",
   "execution_count": 48,
   "metadata": {},
   "outputs": [
    {
     "name": "stdout",
     "output_type": "stream",
     "text": [
      "(0, '0.030*\"data\" + 0.016*\"business\" + 0.008*\"information\" + 0.008*\"report\"')\n",
      "(1, '0.015*\"data\" + 0.010*\"business\" + 0.009*\"customer\" + 0.006*\"analytics\"')\n",
      "(2, '0.034*\"system\" + 0.033*\"business\" + 0.018*\"process\" + 0.012*\"project\"')\n",
      "(3, '0.017*\"data\" + 0.013*\"business\" + 0.009*\"project\" + 0.008*\"management\"')\n",
      "(4, '0.019*\"data\" + 0.011*\"company\" + 0.010*\"analytics\" + 0.009*\"business\"')\n"
     ]
    }
   ],
   "source": [
    "topic_count = 5\n",
    "ldamodel = gensim.models.ldamodel.LdaModel(corpus=corpus, \n",
    "                                           num_topics=topic_count,\n",
    "                                           id2word=dictionary,\n",
    "                                           passes=15,\n",
    "                                           random_state=42)\n",
    "ldamodel.save('model5_da.gensim')\n",
    "\n",
    "\n",
    "topics = ldamodel.print_topics(num_words=4)\n",
    "for topic in topics:\n",
    "    print(topic)"
   ]
  },
  {
   "cell_type": "markdown",
   "metadata": {},
   "source": [
    "### Training an 8 topic model"
   ]
  },
  {
   "cell_type": "code",
   "execution_count": 49,
   "metadata": {},
   "outputs": [
    {
     "name": "stdout",
     "output_type": "stream",
     "text": [
      "(0, '0.026*\"data\" + 0.013*\"business\" + 0.010*\"information\" + 0.008*\"report\"')\n",
      "(1, '0.011*\"customer\" + 0.010*\"marketing\" + 0.008*\"data\" + 0.007*\"analysis\"')\n",
      "(2, '0.028*\"data\" + 0.014*\"analysis\" + 0.013*\"business\" + 0.009*\"database\"')\n",
      "(3, '0.017*\"business\" + 0.010*\"project\" + 0.008*\"data\" + 0.007*\"customer\"')\n",
      "(4, '0.022*\"data\" + 0.011*\"business\" + 0.010*\"company\" + 0.009*\"product\"')\n",
      "(5, '0.043*\"data\" + 0.014*\"business\" + 0.011*\"management\" + 0.010*\"analysis\"')\n",
      "(6, '0.023*\"analytics\" + 0.017*\"fraud\" + 0.010*\"digital\" + 0.010*\"risk\"')\n",
      "(7, '0.038*\"system\" + 0.035*\"business\" + 0.018*\"process\" + 0.012*\"project\"')\n"
     ]
    }
   ],
   "source": [
    "topic_count = 8\n",
    "ldamodel = gensim.models.ldamodel.LdaModel(corpus=corpus, \n",
    "                                           num_topics=topic_count,\n",
    "                                           id2word=dictionary,\n",
    "                                           passes=15,\n",
    "                                           random_state=42)\n",
    "ldamodel.save('model8_da.gensim')\n",
    "\n",
    "\n",
    "topics = ldamodel.print_topics(num_words=4)\n",
    "for topic in topics:\n",
    "    print(topic)"
   ]
  },
  {
   "cell_type": "markdown",
   "metadata": {},
   "source": [
    "# Visualizing the LDA models"
   ]
  },
  {
   "cell_type": "code",
   "execution_count": 50,
   "metadata": {},
   "outputs": [],
   "source": [
    "import pyLDAvis.gensim"
   ]
  },
  {
   "cell_type": "markdown",
   "metadata": {},
   "source": [
    "### 3 Topic Visalization"
   ]
  },
  {
   "cell_type": "code",
   "execution_count": 51,
   "metadata": {},
   "outputs": [],
   "source": [
    "dictionary = gensim.corpora.Dictionary.load('dictionary_da.gensim')\n",
    "corpus = pickle.load(open(file='corpus_da.pkl', mode='rb'))  # 'rb' --> Read Bytes\n",
    "lda = gensim.models.ldamodel.LdaModel.load('model3_da.gensim')"
   ]
  },
  {
   "cell_type": "code",
   "execution_count": 52,
   "metadata": {},
   "outputs": [
    {
     "data": {
      "text/html": [
       "\n",
       "<link rel=\"stylesheet\" type=\"text/css\" href=\"https://cdn.rawgit.com/bmabey/pyLDAvis/files/ldavis.v1.0.0.css\">\n",
       "\n",
       "\n",
       "<div id=\"ldavis_el836246534732488444218515\"></div>\n",
       "<script type=\"text/javascript\">\n",
       "\n",
       "var ldavis_el836246534732488444218515_data = {\"mdsDat\": {\"Freq\": [44.57944695893317, 33.95620919337428, 21.464343847692568], \"cluster\": [1, 1, 1], \"topics\": [1, 2, 3], \"x\": [-0.07158264644905729, 0.164558074461024, -0.09297542801196654], \"y\": [0.06282753855752751, -0.005218955186762179, -0.05760858337076529]}, \"tinfo\": {\"Category\": [\"Default\", \"Default\", \"Default\", \"Default\", \"Default\", \"Default\", \"Default\", \"Default\", \"Default\", \"Default\", \"Default\", \"Default\", \"Default\", \"Default\", \"Default\", \"Default\", \"Default\", \"Default\", \"Default\", \"Default\", \"Default\", \"Default\", \"Default\", \"Default\", \"Default\", \"Default\", \"Default\", \"Default\", \"Default\", \"Default\", \"Topic1\", \"Topic1\", \"Topic1\", \"Topic1\", \"Topic1\", \"Topic1\", \"Topic1\", \"Topic1\", \"Topic1\", \"Topic1\", \"Topic1\", \"Topic1\", \"Topic1\", \"Topic1\", \"Topic1\", \"Topic1\", \"Topic1\", \"Topic1\", \"Topic1\", \"Topic1\", \"Topic1\", \"Topic1\", \"Topic1\", \"Topic1\", \"Topic1\", \"Topic1\", \"Topic1\", \"Topic1\", \"Topic1\", \"Topic1\", \"Topic1\", \"Topic1\", \"Topic1\", \"Topic1\", \"Topic1\", \"Topic1\", \"Topic1\", \"Topic1\", \"Topic1\", \"Topic1\", \"Topic1\", \"Topic1\", \"Topic1\", \"Topic1\", \"Topic1\", \"Topic1\", \"Topic1\", \"Topic1\", \"Topic1\", \"Topic1\", \"Topic1\", \"Topic1\", \"Topic1\", \"Topic1\", \"Topic1\", \"Topic1\", \"Topic1\", \"Topic1\", \"Topic1\", \"Topic1\", \"Topic1\", \"Topic1\", \"Topic1\", \"Topic1\", \"Topic1\", \"Topic1\", \"Topic1\", \"Topic1\", \"Topic1\", \"Topic1\", \"Topic1\", \"Topic1\", \"Topic1\", \"Topic1\", \"Topic1\", \"Topic1\", \"Topic1\", \"Topic1\", \"Topic1\", \"Topic1\", \"Topic1\", \"Topic1\", \"Topic1\", \"Topic2\", \"Topic2\", \"Topic2\", \"Topic2\", \"Topic2\", \"Topic2\", \"Topic2\", \"Topic2\", \"Topic2\", \"Topic2\", \"Topic2\", \"Topic2\", \"Topic2\", \"Topic2\", \"Topic2\", \"Topic2\", \"Topic2\", \"Topic2\", \"Topic2\", \"Topic2\", \"Topic2\", \"Topic2\", \"Topic2\", \"Topic2\", \"Topic2\", \"Topic2\", \"Topic2\", \"Topic2\", \"Topic2\", \"Topic2\", \"Topic2\", \"Topic2\", \"Topic2\", \"Topic2\", \"Topic2\", \"Topic2\", \"Topic2\", \"Topic2\", \"Topic2\", \"Topic2\", \"Topic2\", \"Topic2\", \"Topic2\", \"Topic2\", \"Topic2\", \"Topic2\", \"Topic2\", \"Topic2\", \"Topic2\", \"Topic2\", \"Topic2\", \"Topic2\", \"Topic2\", \"Topic2\", \"Topic2\", \"Topic2\", \"Topic2\", \"Topic2\", \"Topic2\", \"Topic2\", \"Topic2\", \"Topic2\", \"Topic2\", \"Topic2\", \"Topic2\", \"Topic2\", \"Topic2\", \"Topic2\", \"Topic2\", \"Topic2\", \"Topic2\", \"Topic2\", \"Topic2\", \"Topic2\", \"Topic2\", \"Topic2\", \"Topic2\", \"Topic2\", \"Topic2\", \"Topic2\", \"Topic3\", \"Topic3\", \"Topic3\", \"Topic3\", \"Topic3\", \"Topic3\", \"Topic3\", \"Topic3\", \"Topic3\", \"Topic3\", \"Topic3\", \"Topic3\", \"Topic3\", \"Topic3\", \"Topic3\", \"Topic3\", \"Topic3\", \"Topic3\", \"Topic3\", \"Topic3\", \"Topic3\", \"Topic3\", \"Topic3\", \"Topic3\", \"Topic3\", \"Topic3\", \"Topic3\", \"Topic3\", \"Topic3\", \"Topic3\", \"Topic3\", \"Topic3\", \"Topic3\", \"Topic3\", \"Topic3\", \"Topic3\", \"Topic3\", \"Topic3\", \"Topic3\", \"Topic3\", \"Topic3\", \"Topic3\", \"Topic3\", \"Topic3\", \"Topic3\", \"Topic3\", \"Topic3\", \"Topic3\", \"Topic3\", \"Topic3\", \"Topic3\", \"Topic3\", \"Topic3\", \"Topic3\", \"Topic3\", \"Topic3\", \"Topic3\", \"Topic3\", \"Topic3\", \"Topic3\", \"Topic3\", \"Topic3\", \"Topic3\", \"Topic3\", \"Topic3\", \"Topic3\", \"Topic3\", \"Topic3\", \"Topic3\", \"Topic3\", \"Topic3\", \"Topic3\", \"Topic3\", \"Topic3\", \"Topic3\"], \"Freq\": [489.0, 615.0, 107.0, 657.0, 329.0, 118.0, 55.0, 55.0, 64.0, 98.0, 49.0, 74.0, 44.0, 94.0, 100.0, 54.0, 112.0, 62.0, 43.0, 87.0, 26.0, 38.0, 72.0, 39.0, 81.0, 22.0, 111.0, 55.0, 57.0, 74.0, 22.54637907516068, 19.761163368822235, 16.98439652417238, 16.947729078832566, 15.13442851141164, 13.280409583140376, 13.272673783981837, 13.251401879980044, 12.346400305715017, 12.332667228950774, 11.42596435112088, 13.173756905144264, 10.503016652285114, 10.502526947762734, 10.502080645769924, 10.50151000162144, 10.498677078982032, 11.372582963972464, 10.498305240362793, 10.495680729659071, 11.365726250002668, 10.470153876423486, 31.321578021263843, 9.520494799991495, 9.517019244296232, 8.648979545529574, 8.648782332991077, 8.648243684285344, 8.647900160603655, 8.64750696073492, 9.512777318225895, 78.91384111883252, 12.035333963523106, 10.321657759764127, 58.032484382864794, 16.06205628616309, 55.16097099068681, 42.871559004416696, 36.876717730129165, 54.57085452922174, 38.933219822766624, 417.51681105433073, 43.75718059529747, 30.206883974116515, 57.52759682810091, 19.72916972328888, 26.294901282172006, 38.97099936551598, 49.79048586884064, 35.1406831936637, 33.794106390248196, 74.63395821401019, 50.79069726915736, 59.69084135077438, 95.38196316466801, 60.392071908754865, 43.492355172303824, 26.35980584951355, 43.71780462828817, 34.92388329551707, 51.29091918312221, 50.05993948198393, 42.67597566856736, 113.9770191720991, 50.00881603815599, 116.66104520080651, 244.81207320447916, 46.45583564346245, 62.379634331140664, 63.23954723267251, 58.40579433306718, 78.90158292394314, 114.436697148791, 63.595210603597366, 96.30015840349886, 75.4453328080938, 71.81949225589979, 111.44465369497078, 75.25840644309534, 67.03425393935336, 79.05701813547117, 55.72186384535948, 53.66957773455477, 54.60885769401782, 54.604290808948576, 43.7439052484549, 48.79800308958832, 14.785895092215382, 22.58521172519613, 12.970609395485644, 41.39054649040694, 12.067888641311292, 12.067150588804125, 12.066137395207436, 12.063990826623266, 12.062116657267744, 23.27377086942084, 11.167347135226457, 11.167280781276515, 11.165598074487521, 11.165328204108528, 11.165163317486595, 11.164930686075698, 11.16470393884028, 11.16463732540505, 11.16451326587707, 11.164419552028708, 11.164100509368454, 11.163959816794003, 11.16391253619235, 11.163724697187824, 11.163751707281914, 11.163698196758428, 23.979481674156187, 12.86823613722373, 36.852217610684214, 22.68087420164166, 38.30755998647495, 48.612896508469994, 35.18880721766162, 23.22845092897042, 15.25006809392516, 64.03250243133203, 22.328457692171405, 371.7336364732889, 29.871387135125424, 38.001252234314435, 96.62467853126375, 14.364306995399376, 52.52179661981525, 48.0914510952612, 46.01983453308247, 73.97455455282059, 27.619810860798818, 41.32747505572791, 27.236513201871478, 82.66456012913164, 39.75741317257796, 356.6122890610884, 196.84164079745344, 55.94749169223461, 77.76983284429892, 60.21916297266617, 55.30824536648762, 51.19393692696255, 58.0195925383152, 130.84461907674395, 50.03996377709114, 77.13627368888473, 119.2782340396816, 49.83304560787414, 53.11279085204151, 80.53923503803064, 52.77498091987598, 80.43135758979443, 62.51518737809844, 79.410208806469, 70.16837492677435, 60.95211767012483, 53.47741488376589, 65.02593410655524, 53.25046798576093, 53.2053458084216, 21.229453891690632, 9.97055002471132, 9.970211788883507, 9.911506935463704, 9.079622698259662, 8.217482320921278, 8.217307061397232, 9.014982543535313, 24.567517012467874, 7.337327710942821, 7.33704007633358, 6.44996462900603, 6.428790520521435, 5.576480052232763, 5.574630895881869, 5.574639714004834, 5.573637628005983, 4.6960884627487784, 4.69419253318107, 4.691570035676168, 4.690072178542909, 4.689378141982998, 4.689196544093312, 4.686957708614679, 4.685579331324783, 5.389938861509594, 4.603978748163114, 3.815598795968526, 3.8154263453296005, 3.815401760404644, 13.499994651115001, 12.617974298593763, 7.317766482922732, 7.303569148062082, 41.161071639904854, 20.57600170782584, 25.86071129402152, 9.72347768774585, 59.93163915847564, 5.936193888025008, 9.900930981980093, 22.042541142936727, 13.881511247924179, 10.864915737983589, 14.021325313077973, 16.275567429266214, 152.98725048072487, 10.588732251352369, 19.978922387920793, 49.28055313575361, 29.406310073030266, 35.39589454907542, 15.977416820020295, 24.238531904867635, 18.48913395221707, 22.815457723104572, 45.02643240354315, 40.47823442690008, 20.30282306210154, 27.941435276146294, 41.89348812972762, 25.588082284006138, 55.96744215235194, 24.851441022398305, 35.577795364351935, 23.639876453134796, 22.750279553733527, 22.746844976966248, 24.476273818579376, 27.614749098969536, 24.540394317197364, 22.97799187233922, 23.023322705909184, 21.263959977502743, 21.380146419403864], \"Term\": [\"system\", \"data\", \"analytics\", \"business\", \"process\", \"document\", \"performer\", \"peak\", \"marketing\", \"company\", \"retirement\", \"procedure\", \"er\", \"agency\", \"reporting\", \"unit\", \"may\", \"exist\", \"specification\", \"database\", \"digital\", \"success\", \"analytical\", \"three\", \"strong\", \"fraud\", \"user\", \"collaborate\", \"effort\", \"planning\", \"tm\", \"000\", \"loan\", \"happy\", \"celebrate\", \"netsuite\", \"mainstreethub\", \"throughout\", \"main\", \"hub\", \"even\", \"vendor\", \"fuel\", \"bazaarvoice\", \"dream\", \"clinical\", \"entire\", \"epicor\", \"asset\", \"ambiguity\", \"become\", \"csa\", \"accounting\", \"tma\", \"object\", \"iam\", \"wholesale\", \"fund\", \"turn\", \"everi\", \"15\", \"database\", \"cash\", \"excite\", \"sales\", \"inventory\", \"using\", \"excel\", \"com\", \"operations\", \"trend\", \"data\", \"financial\", \"etc\", \"working\", \"grow\", \"source\", \"2\", \"maintain\", \"issue\", \"access\", \"reporting\", \"sql\", \"responsibility\", \"report\", \"strong\", \"insight\", \"http\", \"key\", \"result\", \"statistical\", \"degree\", \"qualification\", \"management\", \"environment\", \"information\", \"business\", \"tool\", \"company\", \"software\", \"product\", \"analyze\", \"process\", \"relate\", \"analysis\", \"analyst\", \"need\", \"system\", \"support\", \"customer\", \"project\", \"opportunity\", \"new\", \"performer\", \"peak\", \"er\", \"retirement\", \"decomposition\", \"fee\", \"generally\", \"specification\", \"artifact\", \"charter\", \"pm\", \"inference\", \"effect\", \"sustain\", \"clustering\", \"reason\", \"covering\", \"limitation\", \"comment\", \"opinion\", \"suggestion\", \"attain\", \"curriculum\", \"transcend\", \"dependent\", \"portray\", \"headhunter\", \"45\", \"emphasizing\", \"nonprofit\", \"elicit\", \"semester\", \"three\", \"skilled\", \"five\", \"unit\", \"direction\", \"recruitment\", \"text\", \"procedure\", \"recruit\", \"system\", \"investment\", \"case\", \"document\", \"acceptance\", \"exist\", \"effort\", \"collaborate\", \"agency\", \"describe\", \"testing\", \"oversee\", \"may\", \"determine\", \"business\", \"process\", \"planning\", \"user\", \"functional\", \"employee\", \"review\", \"texas\", \"project\", \"employment\", \"design\", \"analysis\", \"define\", \"area\", \"analyze\", \"plan\", \"support\", \"use\", \"information\", \"need\", \"identify\", \"state\", \"management\", \"application\", \"analyst\", \"fraud\", \"vital\", \"emerson\", \"hhs\", \"center\", \"wells\", \"fargo\", \"publication\", \"digital\", \"cybercrime\", \"vista\", \"speech\", \"match\", \"attack\", \"nc\", \"intern\", \"impactful\", \"hostway\", \"vcg\", \"11i\", \"r12\", \"zynga\", \"epidemiologic\", \"dm\", \"darby\", \"combine\", \"mathematics\", \"des\", \"west\", \"pimco\", \"event\", \"pipeline\", \"engagement\", \"north\", \"marketing\", \"statistics\", \"success\", \"food\", \"analytics\", \"things\", \"consultant\", \"deliver\", \"portfolio\", \"campaign\", \"consult\", \"value\", \"data\", \"quantitative\", \"1\", \"customer\", \"analytical\", \"company\", \"large\", \"position\", \"method\", \"drive\", \"support\", \"analyst\", \"research\", \"client\", \"analysis\", \"reporting\", \"business\", \"product\", \"project\", \"technical\", \"solution\", \"problem\", \"opportunity\", \"management\", \"report\", \"use\", \"need\", \"development\", \"identify\"], \"Total\": [489.0, 615.0, 107.0, 657.0, 329.0, 118.0, 55.0, 55.0, 64.0, 98.0, 49.0, 74.0, 44.0, 94.0, 100.0, 54.0, 112.0, 62.0, 43.0, 87.0, 26.0, 38.0, 72.0, 39.0, 81.0, 22.0, 111.0, 55.0, 57.0, 74.0, 23.158956641637662, 20.37698363963978, 17.59535071954391, 17.594168643373667, 15.74095157186862, 13.886422907811077, 13.886062575755577, 13.885159443902664, 12.958903955789795, 12.958368295817712, 12.031892436175502, 13.883539846140671, 11.104719062805884, 11.104711253389656, 11.104702082016082, 11.104706779257741, 11.104616822964717, 12.029239392233507, 11.104562723607378, 11.104449032862478, 12.029946385108643, 11.104020401352125, 33.29913239402808, 10.176117129769409, 10.176136589590449, 9.250225764277085, 9.250180621132571, 9.25018617886823, 9.250179179785942, 9.250128069941384, 10.17600525478102, 87.66785726374987, 12.94373472913975, 11.09902065922001, 66.33941679301743, 17.54964331700371, 63.55999537487897, 48.8628689985274, 42.38004327918705, 64.42908432509853, 46.00737281391823, 615.9445439293063, 52.41514952242128, 35.07365717802746, 71.61649238816814, 22.137883189269857, 30.396373599600228, 46.90768640117947, 62.41377600000789, 42.297096341420605, 40.486275409432345, 100.65427917785291, 65.10005006595264, 78.80286679787142, 136.4990642278933, 81.4500251764188, 55.942632751078136, 31.289322565200003, 57.73245856471056, 44.04809726997063, 70.47104911514916, 69.5860393043429, 56.84937709026969, 206.61770237762386, 70.35874796489927, 215.96086624877034, 657.3918044179195, 64.0040948569724, 98.28602141375649, 102.4894979398261, 96.68306408539357, 169.17402583544808, 329.25315953671975, 117.00649975559448, 257.4718805729081, 169.12891304341548, 165.01118988858332, 489.03936844395037, 200.7161964364329, 153.2815263808767, 245.47943257656706, 124.72851017172074, 117.65899253884791, 55.28410159373347, 55.28424513593849, 44.40833495870465, 49.835939315688506, 15.405988276801292, 23.57093158903494, 13.593514031589308, 43.471091445171744, 12.687115724942913, 12.68711022768392, 12.687119960825491, 12.6872684118041, 12.687272712431135, 24.48181596525232, 11.780702007485647, 11.780729576471735, 11.780748987688987, 11.780728397526293, 11.780761212231951, 11.78077479585239, 11.780790871460194, 11.780733292572988, 11.780680855169201, 11.780780677325165, 11.780792470733585, 11.780823901631232, 11.780818215953627, 11.78072555795415, 11.78075928140256, 11.780749832847913, 25.393289253325605, 13.59107702681317, 39.9314905921203, 24.495869147424045, 42.49575462001605, 54.49240580914504, 38.951357608554375, 25.410393350910727, 16.322582806219145, 74.41792650953312, 24.50392067389412, 489.03936844395037, 33.498459488883526, 43.392501988590226, 118.89372275599115, 15.41579048594442, 62.730515621642915, 57.88220661464564, 55.435296790313686, 94.93641060524433, 31.77217503834793, 50.70147046146975, 31.80871058681739, 112.37685821129395, 48.99271425618265, 657.3918044179195, 329.25315953671975, 74.61786728428314, 111.61582049749491, 83.62204606816017, 75.9952662809495, 69.1195755376888, 81.74563675647504, 245.47943257656706, 68.07383628932156, 128.31136411719532, 257.4718805729081, 69.13950460498917, 77.25059006533468, 169.17402583544808, 80.62586853256094, 200.7161964364329, 119.75431552275201, 215.96086624877034, 165.01118988858332, 129.14658148677756, 87.96450594873919, 206.61770237762386, 95.32670121663061, 169.12891304341548, 22.06650694852922, 10.599672663522476, 10.59957735853754, 10.602724701861748, 9.718922005346334, 8.83673808212908, 8.836738791611948, 9.721736772135012, 26.528554561652896, 7.955440784325352, 7.95546594687958, 7.074500692908834, 7.075100306744004, 6.192807377863413, 6.192864651754418, 6.192900456762775, 6.19294913111923, 5.311500600814139, 5.311562219662298, 5.311601011395574, 5.311644461095227, 5.311837700789956, 5.311761873257107, 5.311873899588226, 5.31179560034039, 6.199677345252231, 5.315410804080962, 4.430180490905686, 4.430187142014911, 4.4301705697373, 15.978499750807583, 15.09787695369664, 8.883637723642746, 8.88435623007919, 64.58924821843681, 29.44479027268286, 38.513547100340176, 12.445773127559416, 107.20882192393185, 7.10125520447053, 13.382717858471207, 36.858221017513685, 20.59070683553619, 15.189237591596601, 21.512992454992013, 26.86975083601698, 615.9445439293063, 15.203504566606295, 38.809664181669234, 153.2815263808767, 72.58866086961842, 98.28602141375649, 28.828177127294982, 58.91870203573923, 38.6252018420991, 59.069962408963, 200.7161964364329, 169.12891304341548, 50.50375006410282, 100.37508786845635, 257.4718805729081, 100.65427917785291, 657.3918044179195, 96.68306408539357, 245.47943257656706, 89.80595886748992, 94.5584951155505, 97.0062205506416, 124.72851017172074, 206.61770237762386, 136.4990642278933, 119.75431552275201, 165.01118988858332, 113.65039346106167, 129.14658148677756], \"loglift\": [30.0, 29.0, 28.0, 27.0, 26.0, 25.0, 24.0, 23.0, 22.0, 21.0, 20.0, 19.0, 18.0, 17.0, 16.0, 15.0, 14.0, 13.0, 12.0, 11.0, 10.0, 9.0, 8.0, 7.0, 6.0, 5.0, 4.0, 3.0, 2.0, 1.0, 0.7811, 0.7772, 0.7726, 0.7705, 0.7686, 0.7633, 0.7627, 0.7612, 0.7595, 0.7584, 0.7562, 0.7554, 0.7522, 0.7521, 0.7521, 0.752, 0.7518, 0.7518, 0.7518, 0.7515, 0.7511, 0.7491, 0.7467, 0.7413, 0.7409, 0.7407, 0.7407, 0.7406, 0.7406, 0.7405, 0.7405, 0.7027, 0.7351, 0.7353, 0.6741, 0.7193, 0.6662, 0.6771, 0.6688, 0.6418, 0.6409, 0.4191, 0.6274, 0.6585, 0.5888, 0.6927, 0.6629, 0.6225, 0.5819, 0.6225, 0.6272, 0.5088, 0.5597, 0.5301, 0.4495, 0.5088, 0.5562, 0.6365, 0.5298, 0.5758, 0.4902, 0.4786, 0.5211, 0.213, 0.4665, 0.1921, -0.1799, 0.4875, 0.3533, 0.3251, 0.3039, 0.0452, -0.2489, 0.1982, -0.1755, 0.0006, -0.024, -0.671, -0.1731, -0.0192, -0.3251, 0.0021, 0.023, 1.0678, 1.0677, 1.065, 1.0591, 1.039, 1.0374, 1.0332, 1.0311, 1.0301, 1.03, 1.0299, 1.0297, 1.0296, 1.0295, 1.0266, 1.0266, 1.0265, 1.0264, 1.0264, 1.0264, 1.0264, 1.0264, 1.0264, 1.0264, 1.0263, 1.0263, 1.0263, 1.0263, 1.0263, 1.0263, 1.0228, 1.0254, 0.9998, 1.0031, 0.9763, 0.9659, 0.9785, 0.9903, 1.0121, 0.9298, 0.9871, 0.8058, 0.9655, 0.9474, 0.8727, 1.0095, 0.9025, 0.8948, 0.894, 0.8306, 0.94, 0.8757, 0.9249, 0.773, 0.8712, 0.4685, 0.5657, 0.7921, 0.7188, 0.7518, 0.7623, 0.7799, 0.7373, 0.4509, 0.7723, 0.5712, 0.3106, 0.7527, 0.7055, 0.3379, 0.6563, 0.1656, 0.4301, 0.0796, 0.225, 0.3292, 0.5824, -0.076, 0.4978, -0.0764, 1.5001, 1.4776, 1.4776, 1.4714, 1.4707, 1.4661, 1.4661, 1.4633, 1.462, 1.4579, 1.4579, 1.4464, 1.443, 1.4339, 1.4336, 1.4336, 1.4334, 1.4156, 1.4152, 1.4147, 1.4143, 1.4141, 1.4141, 1.4136, 1.4133, 1.3988, 1.3951, 1.3894, 1.3894, 1.3894, 1.3702, 1.3593, 1.3449, 1.3428, 1.0882, 1.1804, 1.1405, 1.2919, 0.9572, 1.3596, 1.2374, 1.0247, 1.1445, 1.2037, 1.1107, 1.0374, 0.146, 1.177, 0.8748, 0.404, 0.6352, 0.5175, 0.9486, 0.6506, 0.8021, 0.5875, 0.0441, 0.1089, 0.6275, 0.26, -0.277, 0.1692, -0.9247, 0.1803, -0.3927, 0.2041, 0.1141, 0.0884, -0.0897, -0.4737, -0.1772, -0.1121, -0.4307, -0.1373, -0.2597], \"logprob\": [30.0, 29.0, 28.0, 27.0, 26.0, 25.0, 24.0, 23.0, 22.0, 21.0, 20.0, 19.0, 18.0, 17.0, 16.0, 15.0, 14.0, 13.0, 12.0, 11.0, 10.0, 9.0, 8.0, 7.0, 6.0, 5.0, 4.0, 3.0, 2.0, 1.0, -6.5541, -6.686, -6.8374, -6.8395, -6.9527, -7.0834, -7.084, -7.0856, -7.1563, -7.1574, -7.2338, -7.0914, -7.318, -7.3181, -7.3181, -7.3182, -7.3184, -7.2385, -7.3185, -7.3187, -7.2391, -7.3211, -6.2254, -7.4162, -7.4166, -7.5122, -7.5123, -7.5123, -7.5124, -7.5124, -7.417, -5.3013, -7.1818, -7.3354, -5.6087, -6.8932, -5.6594, -5.9115, -6.0621, -5.6702, -6.0078, -3.6353, -5.891, -6.2616, -5.6174, -6.6876, -6.4003, -6.0069, -5.7618, -6.1103, -6.1494, -5.3571, -5.742, -5.5805, -5.1118, -5.5688, -5.8971, -6.3978, -5.8919, -6.1165, -5.7322, -5.7565, -5.916, -4.9337, -5.7575, -4.9104, -4.1692, -5.8312, -5.5364, -5.5227, -5.6023, -5.3015, -4.9297, -5.5171, -5.1022, -5.3463, -5.3955, -4.9561, -5.3487, -5.4645, -5.2995, -5.6493, -5.6868, -5.3973, -5.3974, -5.6191, -5.5098, -6.7038, -6.2802, -6.8348, -5.6744, -6.9069, -6.907, -6.9071, -6.9072, -6.9074, -6.2501, -6.9845, -6.9845, -6.9846, -6.9847, -6.9847, -6.9847, -6.9847, -6.9847, -6.9847, -6.9847, -6.9848, -6.9848, -6.9848, -6.9848, -6.9848, -6.9848, -6.2203, -6.8427, -5.7906, -6.2759, -5.7518, -5.5136, -5.8367, -6.2521, -6.6729, -5.2381, -6.2916, -3.4793, -6.0006, -5.7599, -4.8266, -6.7327, -5.4362, -5.5244, -5.5684, -5.0937, -6.0789, -5.6759, -6.0929, -4.9827, -5.7147, -3.5208, -4.1151, -5.3731, -5.0437, -5.2995, -5.3845, -5.4619, -5.3367, -4.5235, -5.4846, -5.0519, -4.616, -5.4888, -5.4251, -5.0087, -5.4314, -5.0101, -5.2621, -5.0228, -5.1466, -5.2874, -5.4182, -5.2227, -5.4225, -5.4233, -5.8834, -6.6392, -6.6392, -6.6451, -6.7328, -6.8325, -6.8326, -6.7399, -5.7374, -6.9458, -6.9459, -7.0747, -7.078, -7.2202, -7.2206, -7.2206, -7.2207, -7.3921, -7.3925, -7.393, -7.3933, -7.3935, -7.3935, -7.394, -7.3943, -7.2543, -7.4119, -7.5997, -7.5997, -7.5997, -6.3361, -6.4037, -6.9485, -6.9504, -5.2213, -5.9147, -5.6861, -6.6642, -4.8456, -7.1577, -6.6462, -5.8458, -6.3082, -6.5533, -6.2982, -6.1491, -3.9084, -6.579, -5.9441, -5.0413, -5.5576, -5.3722, -6.1676, -5.7508, -6.0216, -5.8114, -5.1315, -5.238, -5.928, -5.6087, -5.2037, -5.6967, -4.914, -5.7259, -5.3671, -5.7759, -5.8142, -5.8144, -5.7411, -5.6204, -5.7385, -5.8043, -5.8023, -5.8818, -5.8763]}, \"token.table\": {\"Topic\": [1, 1, 2, 3, 3, 1, 1, 2, 3, 2, 1, 2, 1, 2, 3, 1, 2, 3, 1, 2, 3, 1, 1, 2, 3, 1, 2, 3, 1, 2, 3, 1, 3, 1, 2, 3, 1, 2, 3, 1, 2, 3, 2, 1, 3, 2, 1, 1, 1, 2, 3, 1, 3, 1, 2, 3, 1, 3, 1, 3, 2, 1, 2, 3, 1, 2, 1, 2, 3, 1, 3, 3, 2, 1, 2, 3, 1, 3, 1, 3, 2, 1, 2, 1, 2, 3, 3, 3, 1, 2, 3, 1, 2, 3, 2, 1, 2, 3, 1, 2, 3, 1, 3, 2, 3, 1, 2, 3, 1, 2, 3, 1, 2, 3, 1, 2, 3, 1, 3, 1, 2, 3, 3, 1, 2, 3, 1, 1, 2, 3, 2, 1, 2, 3, 1, 2, 3, 2, 1, 2, 3, 1, 2, 3, 1, 3, 1, 1, 2, 3, 1, 3, 2, 1, 2, 3, 1, 1, 3, 1, 1, 2, 3, 1, 1, 2, 3, 3, 1, 2, 1, 3, 2, 3, 1, 2, 3, 1, 3, 1, 1, 2, 3, 1, 2, 1, 3, 1, 2, 3, 3, 1, 2, 3, 1, 1, 1, 2, 3, 3, 2, 1, 2, 3, 1, 2, 3, 3, 1, 3, 1, 2, 3, 1, 2, 3, 1, 2, 3, 1, 3, 2, 1, 1, 1, 1, 2, 3, 1, 2, 3, 1, 2, 3, 3, 3, 1, 2, 3, 1, 2, 3, 3, 1, 2, 3, 1, 1, 2, 3, 2, 1, 3, 1, 1, 2, 3, 2, 1, 2, 3, 1, 2, 2, 2, 3, 1, 3, 1, 2, 3, 1, 2, 3, 2, 1, 2, 3, 2, 1, 2, 3, 1, 2, 3, 1, 2, 3, 1, 2, 3, 1, 2, 3, 1, 2, 3, 3, 1, 2, 3, 1, 3, 3, 2, 1, 2, 1, 2, 1, 2, 3, 1, 2, 3, 1, 3, 1, 2, 3, 1, 2, 3, 1, 2, 3, 2, 3, 1, 2, 3, 1, 3, 2, 1, 2, 1, 2, 3, 1, 2, 3, 1, 3, 1, 2, 3, 3, 1, 3, 1, 2, 3, 1, 2, 3, 1, 2, 3, 1, 2, 3, 1, 3, 2, 1, 2, 3, 1, 2, 1, 2, 3, 1, 2, 3, 1, 2, 3, 1, 2, 3, 1, 2, 1, 3, 1, 2, 1, 1, 1, 1, 3, 2, 1, 3, 1, 1, 2, 1, 2, 3, 1, 2, 3, 1, 2, 3, 1, 2, 3, 3, 1, 3, 3, 3, 3, 1, 1, 2, 3, 3], \"Freq\": [0.9814995366190301, 0.4638020034324813, 0.025766777968471183, 0.5153355593694237, 0.9413357647294929, 0.9827038950576086, 0.8314202424406796, 0.021318467754889218, 0.14922927428422453, 0.9337285675560943, 0.06486855156158, 0.90815972186212, 0.8397907601072833, 0.024699728238449507, 0.12349864119224754, 0.9309551862546303, 0.03003081245982678, 0.03003081245982678, 0.07373356497652668, 0.7794691154661392, 0.14746712995305336, 0.9005399520864138, 0.3728562505015601, 0.4621863938508923, 0.16312460959443256, 0.4434487199757942, 0.31337042878289456, 0.23650598398709025, 0.5648265102127035, 0.041328769039953916, 0.39951143405288786, 0.43839675836889647, 0.5596554362156125, 0.46697475933357285, 0.4787969051394861, 0.059110729029566184, 0.2832364873157869, 0.5559827343606186, 0.15735360406432602, 0.23300792893331304, 0.6860789018591995, 0.07766930964443768, 0.945841455233829, 0.9005307321773987, 0.9688659171682595, 0.9337279545183158, 0.9905705559559063, 0.914384790078236, 0.3726849016880163, 0.543055142459681, 0.08518512038583231, 0.26334435654709804, 0.7241969805045196, 0.023045456108130004, 0.8757273321089402, 0.11522728054065003, 0.9270894568771442, 0.07725745473976202, 0.9529284129688316, 0.9260286269453692, 0.945841865062021, 0.24906578445802233, 0.468243674781082, 0.278953678592985, 0.9905709550608467, 0.93373043414649, 0.1443123869303042, 0.8297962248492492, 0.018039048366288026, 0.87305243546485, 0.11798005884660134, 0.8064935837070691, 0.9337257416421201, 0.6308119822960119, 0.010174386811225998, 0.3561035383929099, 0.32538476525964083, 0.6507695305192817, 0.2241697113939387, 0.747232371313129, 0.9337267105423536, 0.900574714252354, 0.9337321106677252, 0.4371042067621195, 0.2413859052268421, 0.31967322584095303, 0.8799009620927778, 0.9413012804332288, 0.6786325232032172, 0.07305852522522674, 0.2483989857657709, 0.9011284462254792, 0.011406689192727583, 0.09125351354182067, 0.973647372079814, 0.2314161793812654, 0.7231755605664544, 0.04339053363398727, 0.7185349317169639, 0.0718534931716964, 0.2155604795150892, 0.3798338501835916, 0.5968817645742154, 0.9337232641460014, 0.9028977506020885, 0.09442224198938544, 0.8812742585675974, 0.03147408066312848, 0.30394813638158114, 0.6001027308046601, 0.09352250350202497, 0.12246718907276766, 0.8164479271517844, 0.06123359453638383, 0.3783532875733725, 0.4399456832248518, 0.18477718695443773, 0.07539046258068677, 0.9423807822585846, 0.051346092223516396, 0.898556613911537, 0.051346092223516396, 0.9412874052577938, 0.1345739676503968, 0.8158546788805306, 0.05887611084704861, 0.9905713740681394, 0.609446807342771, 0.01692907798174364, 0.3893687935801037, 0.9458297517513171, 0.051829399317353, 0.829270389077648, 0.12093526507382367, 0.03938048316718308, 0.9451315960123939, 0.9434338428546301, 0.9337258946768322, 0.11842842903829816, 0.7237292885673776, 0.1579045720510642, 0.17627917940453117, 0.7344965808522133, 0.08813958970226558, 0.11256649934503957, 0.787965495415277, 0.9005263449810954, 0.7106436860551315, 0.014212873721102632, 0.2842574744220526, 0.914438531092995, 0.9413072572347941, 0.9908049928220826, 0.8553427960969537, 0.08553427960969537, 0.05702285307313025, 0.9142368965107286, 0.12516819671376947, 0.8135932786395016, 0.9729595019603907, 0.8800138199272726, 0.02046543767272727, 0.10232718836363636, 0.9009803934091205, 0.15941204852060642, 0.8448838571592141, 0.01594120485206064, 0.9053113584837201, 0.042425136920137434, 0.975778149163161, 0.8394519599944748, 0.1526276290899045, 0.8942069705499831, 0.09412704953157716, 0.08034856410692884, 0.08034856410692884, 0.8034856410692884, 0.04531754855141004, 0.9516685195796108, 0.9905698593351515, 0.21525424031514648, 0.7175141343838216, 0.07175141343838216, 0.9729533899069218, 0.956338439772816, 0.9034287437966932, 0.09034287437966933, 0.9662292288190927, 0.9337212236331565, 0.9431537912367078, 0.9413535600906469, 0.8309543917360873, 0.03195978429754182, 0.1278391371901673, 0.9260425175500666, 0.9729492262509508, 0.3639275578100533, 0.47233151120028194, 0.16260593008534296, 0.9688437403514796, 0.945830072360992, 0.5417648207857482, 0.36580701574422314, 0.09260937107448687, 0.7686445539903786, 0.017875454743962294, 0.19663000218358523, 0.9688513551752437, 0.9116994408939199, 0.05698121505586999, 0.029852119030484084, 0.8955635709145224, 0.05970423806096817, 0.8274799697237202, 0.02364228484924915, 0.16549599394474404, 0.7621362591146492, 0.03464255723248406, 0.20785534339490433, 0.4162594099173273, 0.5550125465564364, 0.9337283424944904, 0.9661643164132768, 0.9260042393198404, 0.9361905096623573, 0.8011051919049679, 0.016022103838099357, 0.19226524605719228, 0.5517436245208479, 0.31459066310399225, 0.13551597795248896, 0.340613966052018, 0.015482453002364456, 0.6347805730969427, 0.8480445138397238, 0.9406610672802934, 0.1423780683556429, 0.7385862295948975, 0.11568218053895986, 0.20711865876336963, 0.31067798814505443, 0.46601698221758164, 0.968856956739757, 0.43633404527665604, 0.42421365513008225, 0.13938448668559847, 0.936166216908714, 0.4589534453320312, 0.4079586180729166, 0.13598620602430553, 0.9337266435561706, 0.11255739573052741, 0.7879017701136919, 0.9826912121275352, 0.8536517409199714, 0.01552094074399948, 0.13968846669599533, 0.9337246650256591, 0.44897513746377354, 0.36078359260481807, 0.19241791605590297, 0.12575171788502915, 0.8488240957239467, 0.9948584784826209, 0.9948610615793082, 0.9028997726011239, 0.13246895614090365, 0.8610482149158737, 0.18604450746403078, 0.6573572597062421, 0.16123857313549336, 0.21442585512451523, 0.7504904929358033, 0.026803231890564404, 0.9458411394432198, 0.29139359070689996, 0.04856559845115, 0.6799183783161, 0.9337207729993218, 0.526148725767853, 0.06789015816359394, 0.4073409489815636, 0.30925851795595577, 0.45357915966873513, 0.2370981970995661, 0.10750097960570268, 0.8600078368456214, 0.0403128673521385, 0.34623813530113207, 0.5983237952133599, 0.054669179258073484, 0.5998982401796095, 0.13445995038508488, 0.2585768276636248, 0.3218192219641833, 0.5336495959152913, 0.14665179735076705, 0.9257605107964151, 0.7563847169639412, 0.05277102676492613, 0.19349376480472913, 0.2630972340933676, 0.7235173937567609, 0.9413280645235491, 0.933728249052504, 0.08161959168153654, 0.897815508496902, 0.07870795120644279, 0.9051414388740922, 0.5469781604755675, 0.3247682827823682, 0.12819800636146111, 0.6959754672119352, 0.1245429783431884, 0.18315143873998294, 0.7451248035612811, 0.2583099319012441, 0.2772071377319554, 0.316808157407949, 0.39601019675993626, 0.7613936197765421, 0.025379787325884737, 0.21572819227002024, 0.7945859678225173, 0.022702456223500495, 0.20432210601150447, 0.9832261751826689, 0.020065840309850383, 0.21701522156803402, 0.7378517533313157, 0.0434030443136068, 0.8742916776154837, 0.12059195553317016, 0.9565099200271573, 0.08164641915595461, 0.9389338202934779, 0.6146971276704734, 0.23417033435065654, 0.15611355623377102, 0.44416950532763866, 0.3172639323768847, 0.24323568148894498, 0.8553651939697817, 0.13159464522612027, 0.023003793250998952, 0.943155523290957, 0.046007586501997905, 0.8481163915941282, 0.7834095357581456, 0.21505359805125568, 0.22736443278218246, 0.6025157468727835, 0.15915510294752772, 0.7237014439314844, 0.02838044878162684, 0.24123381464382812, 0.169809326325503, 0.1358474610604024, 0.7131991705671126, 0.7366480227604771, 0.012277467046007953, 0.24554934092015906, 0.31157867564719866, 0.6750871305689304, 0.9337233909013939, 0.3736619233104719, 0.39857271819783663, 0.22419715398628312, 0.04084664313379882, 0.9394727920773729, 0.2269755916649109, 0.7606749558499717, 0.012268950900805995, 0.3674589127063607, 0.3674589127063607, 0.26724284560462597, 0.07889317535750318, 0.8086550474144075, 0.09861646919687897, 0.2079621699032571, 0.7095179914346419, 0.08563148172487058, 0.061264814023120485, 0.9189722103468072, 0.14082017491364895, 0.8449210494818937, 0.07512867552687831, 0.9265869981648326, 0.9362514022630571, 0.9931362779378466, 0.9826930913310546, 0.7187040157789046, 0.2656080058313343, 0.9337241988701175, 0.8476902203857564, 0.15214952673590498, 0.9729541260851845, 0.11010708576557407, 0.8992078670855216, 0.283914611774808, 0.5260770747592031, 0.19205988443589952, 0.19710467478482377, 0.6988256651461934, 0.10751164079172205, 0.865324166177297, 0.015733166657769037, 0.1258653332621523, 0.2232994282908433, 0.14886628552722886, 0.5954651421089154, 0.9413426395517012, 0.936360621575464, 0.8798981790306891, 0.9434253601447355, 0.9053114311692396, 0.9028963950675781, 0.9729539744812097, 0.8098693201230037, 0.013963264140051787, 0.18152243382067323, 0.9412938198876858], \"Term\": [\"000\", \"1\", \"1\", \"1\", \"11i\", \"15\", \"2\", \"2\", \"2\", \"45\", \"acceptance\", \"acceptance\", \"access\", \"access\", \"access\", \"accounting\", \"accounting\", \"accounting\", \"agency\", \"agency\", \"agency\", \"ambiguity\", \"analysis\", \"analysis\", \"analysis\", \"analyst\", \"analyst\", \"analyst\", \"analytical\", \"analytical\", \"analytical\", \"analytics\", \"analytics\", \"analyze\", \"analyze\", \"analyze\", \"application\", \"application\", \"application\", \"area\", \"area\", \"area\", \"artifact\", \"asset\", \"attack\", \"attain\", \"bazaarvoice\", \"become\", \"business\", \"business\", \"business\", \"campaign\", \"campaign\", \"case\", \"case\", \"case\", \"cash\", \"cash\", \"celebrate\", \"center\", \"charter\", \"client\", \"client\", \"client\", \"clinical\", \"clustering\", \"collaborate\", \"collaborate\", \"collaborate\", \"com\", \"com\", \"combine\", \"comment\", \"company\", \"company\", \"company\", \"consult\", \"consult\", \"consultant\", \"consultant\", \"covering\", \"csa\", \"curriculum\", \"customer\", \"customer\", \"customer\", \"cybercrime\", \"darby\", \"data\", \"data\", \"data\", \"database\", \"database\", \"database\", \"decomposition\", \"define\", \"define\", \"define\", \"degree\", \"degree\", \"degree\", \"deliver\", \"deliver\", \"dependent\", \"des\", \"describe\", \"describe\", \"describe\", \"design\", \"design\", \"design\", \"determine\", \"determine\", \"determine\", \"development\", \"development\", \"development\", \"digital\", \"digital\", \"direction\", \"direction\", \"direction\", \"dm\", \"document\", \"document\", \"document\", \"dream\", \"drive\", \"drive\", \"drive\", \"effect\", \"effort\", \"effort\", \"effort\", \"elicit\", \"elicit\", \"emerson\", \"emphasizing\", \"employee\", \"employee\", \"employee\", \"employment\", \"employment\", \"employment\", \"engagement\", \"engagement\", \"entire\", \"environment\", \"environment\", \"environment\", \"epicor\", \"epidemiologic\", \"er\", \"etc\", \"etc\", \"etc\", \"even\", \"event\", \"event\", \"everi\", \"excel\", \"excel\", \"excel\", \"excite\", \"exist\", \"exist\", \"exist\", \"fargo\", \"fee\", \"fee\", \"financial\", \"financial\", \"five\", \"five\", \"food\", \"food\", \"food\", \"fraud\", \"fraud\", \"fuel\", \"functional\", \"functional\", \"functional\", \"fund\", \"generally\", \"grow\", \"grow\", \"happy\", \"headhunter\", \"hhs\", \"hostway\", \"http\", \"http\", \"http\", \"hub\", \"iam\", \"identify\", \"identify\", \"identify\", \"impactful\", \"inference\", \"information\", \"information\", \"information\", \"insight\", \"insight\", \"insight\", \"intern\", \"inventory\", \"inventory\", \"investment\", \"investment\", \"investment\", \"issue\", \"issue\", \"issue\", \"key\", \"key\", \"key\", \"large\", \"large\", \"limitation\", \"loan\", \"main\", \"mainstreethub\", \"maintain\", \"maintain\", \"maintain\", \"management\", \"management\", \"management\", \"marketing\", \"marketing\", \"marketing\", \"match\", \"mathematics\", \"may\", \"may\", \"may\", \"method\", \"method\", \"method\", \"nc\", \"need\", \"need\", \"need\", \"netsuite\", \"new\", \"new\", \"new\", \"nonprofit\", \"north\", \"north\", \"object\", \"operations\", \"operations\", \"operations\", \"opinion\", \"opportunity\", \"opportunity\", \"opportunity\", \"oversee\", \"oversee\", \"peak\", \"performer\", \"pimco\", \"pipeline\", \"pipeline\", \"plan\", \"plan\", \"plan\", \"planning\", \"planning\", \"planning\", \"pm\", \"portfolio\", \"portfolio\", \"portfolio\", \"portray\", \"position\", \"position\", \"position\", \"problem\", \"problem\", \"problem\", \"procedure\", \"procedure\", \"procedure\", \"process\", \"process\", \"process\", \"product\", \"product\", \"product\", \"project\", \"project\", \"project\", \"publication\", \"qualification\", \"qualification\", \"qualification\", \"quantitative\", \"quantitative\", \"r12\", \"reason\", \"recruit\", \"recruit\", \"recruitment\", \"recruitment\", \"relate\", \"relate\", \"relate\", \"report\", \"report\", \"report\", \"reporting\", \"reporting\", \"research\", \"research\", \"research\", \"responsibility\", \"responsibility\", \"responsibility\", \"result\", \"result\", \"result\", \"retirement\", \"retirement\", \"review\", \"review\", \"review\", \"sales\", \"sales\", \"semester\", \"skilled\", \"skilled\", \"software\", \"software\", \"software\", \"solution\", \"solution\", \"solution\", \"source\", \"source\", \"specification\", \"specification\", \"specification\", \"speech\", \"sql\", \"sql\", \"state\", \"state\", \"state\", \"statistical\", \"statistical\", \"statistical\", \"statistics\", \"statistics\", \"statistics\", \"strong\", \"strong\", \"strong\", \"success\", \"success\", \"suggestion\", \"support\", \"support\", \"support\", \"sustain\", \"sustain\", \"system\", \"system\", \"system\", \"technical\", \"technical\", \"technical\", \"testing\", \"testing\", \"testing\", \"texas\", \"texas\", \"texas\", \"text\", \"text\", \"things\", \"things\", \"three\", \"three\", \"throughout\", \"tm\", \"tma\", \"tool\", \"tool\", \"transcend\", \"trend\", \"trend\", \"turn\", \"unit\", \"unit\", \"use\", \"use\", \"use\", \"user\", \"user\", \"user\", \"using\", \"using\", \"using\", \"value\", \"value\", \"value\", \"vcg\", \"vendor\", \"vista\", \"vital\", \"wells\", \"west\", \"wholesale\", \"working\", \"working\", \"working\", \"zynga\"]}, \"R\": 30, \"lambda.step\": 0.01, \"plot.opts\": {\"xlab\": \"PC1\", \"ylab\": \"PC2\"}, \"topic.order\": [1, 3, 2]};\n",
       "\n",
       "function LDAvis_load_lib(url, callback){\n",
       "  var s = document.createElement('script');\n",
       "  s.src = url;\n",
       "  s.async = true;\n",
       "  s.onreadystatechange = s.onload = callback;\n",
       "  s.onerror = function(){console.warn(\"failed to load library \" + url);};\n",
       "  document.getElementsByTagName(\"head\")[0].appendChild(s);\n",
       "}\n",
       "\n",
       "if(typeof(LDAvis) !== \"undefined\"){\n",
       "   // already loaded: just create the visualization\n",
       "   !function(LDAvis){\n",
       "       new LDAvis(\"#\" + \"ldavis_el836246534732488444218515\", ldavis_el836246534732488444218515_data);\n",
       "   }(LDAvis);\n",
       "}else if(typeof define === \"function\" && define.amd){\n",
       "   // require.js is available: use it to load d3/LDAvis\n",
       "   require.config({paths: {d3: \"https://cdnjs.cloudflare.com/ajax/libs/d3/3.5.5/d3.min\"}});\n",
       "   require([\"d3\"], function(d3){\n",
       "      window.d3 = d3;\n",
       "      LDAvis_load_lib(\"https://cdn.rawgit.com/bmabey/pyLDAvis/files/ldavis.v1.0.0.js\", function(){\n",
       "        new LDAvis(\"#\" + \"ldavis_el836246534732488444218515\", ldavis_el836246534732488444218515_data);\n",
       "      });\n",
       "    });\n",
       "}else{\n",
       "    // require.js not available: dynamically load d3 & LDAvis\n",
       "    LDAvis_load_lib(\"https://cdnjs.cloudflare.com/ajax/libs/d3/3.5.5/d3.min.js\", function(){\n",
       "         LDAvis_load_lib(\"https://cdn.rawgit.com/bmabey/pyLDAvis/files/ldavis.v1.0.0.js\", function(){\n",
       "                 new LDAvis(\"#\" + \"ldavis_el836246534732488444218515\", ldavis_el836246534732488444218515_data);\n",
       "            })\n",
       "         });\n",
       "}\n",
       "</script>"
      ],
      "text/plain": [
       "<IPython.core.display.HTML object>"
      ]
     },
     "execution_count": 52,
     "metadata": {},
     "output_type": "execute_result"
    }
   ],
   "source": [
    "lda_display = pyLDAvis.gensim.prepare(lda, corpus, dictionary)\n",
    "pyLDAvis.display(lda_display)"
   ]
  },
  {
   "cell_type": "markdown",
   "metadata": {},
   "source": [
    "### 4 Topic Visualization"
   ]
  },
  {
   "cell_type": "code",
   "execution_count": 53,
   "metadata": {},
   "outputs": [],
   "source": [
    "dictionary = gensim.corpora.Dictionary.load('dictionary_da.gensim')\n",
    "corpus = pickle.load(open(file='corpus_da.pkl', mode='rb'))  # 'rb' --> Read Bytes\n",
    "lda = gensim.models.ldamodel.LdaModel.load('model4_da.gensim')"
   ]
  },
  {
   "cell_type": "code",
   "execution_count": 54,
   "metadata": {},
   "outputs": [
    {
     "data": {
      "text/html": [
       "\n",
       "<link rel=\"stylesheet\" type=\"text/css\" href=\"https://cdn.rawgit.com/bmabey/pyLDAvis/files/ldavis.v1.0.0.css\">\n",
       "\n",
       "\n",
       "<div id=\"ldavis_el836246534734887579544029\"></div>\n",
       "<script type=\"text/javascript\">\n",
       "\n",
       "var ldavis_el836246534734887579544029_data = {\"mdsDat\": {\"Freq\": [38.02601382639897, 29.389962738905922, 18.554877361196926, 14.029146073498175], \"cluster\": [1, 1, 1, 1], \"topics\": [1, 2, 3, 4], \"x\": [-0.06839077926067498, 0.1979011830039857, -0.018377974962068357, -0.11113242878124255], \"y\": [-0.014637566399781077, 0.025846840958451054, -0.07936986935513793, 0.06816059479646788]}, \"tinfo\": {\"Category\": [\"Default\", \"Default\", \"Default\", \"Default\", \"Default\", \"Default\", \"Default\", \"Default\", \"Default\", \"Default\", \"Default\", \"Default\", \"Default\", \"Default\", \"Default\", \"Default\", \"Default\", \"Default\", \"Default\", \"Default\", \"Default\", \"Default\", \"Default\", \"Default\", \"Default\", \"Default\", \"Default\", \"Default\", \"Default\", \"Default\", \"Topic1\", \"Topic1\", \"Topic1\", \"Topic1\", \"Topic1\", \"Topic1\", \"Topic1\", \"Topic1\", \"Topic1\", \"Topic1\", \"Topic1\", \"Topic1\", \"Topic1\", \"Topic1\", \"Topic1\", \"Topic1\", \"Topic1\", \"Topic1\", \"Topic1\", \"Topic1\", \"Topic1\", \"Topic1\", \"Topic1\", \"Topic1\", \"Topic1\", \"Topic1\", \"Topic1\", \"Topic1\", \"Topic1\", \"Topic1\", \"Topic1\", \"Topic1\", \"Topic1\", \"Topic1\", \"Topic1\", \"Topic1\", \"Topic1\", \"Topic1\", \"Topic1\", \"Topic1\", \"Topic1\", \"Topic1\", \"Topic1\", \"Topic1\", \"Topic1\", \"Topic1\", \"Topic1\", \"Topic1\", \"Topic1\", \"Topic1\", \"Topic1\", \"Topic1\", \"Topic1\", \"Topic1\", \"Topic1\", \"Topic1\", \"Topic1\", \"Topic1\", \"Topic1\", \"Topic1\", \"Topic1\", \"Topic1\", \"Topic1\", \"Topic1\", \"Topic1\", \"Topic1\", \"Topic1\", \"Topic1\", \"Topic1\", \"Topic1\", \"Topic1\", \"Topic1\", \"Topic1\", \"Topic1\", \"Topic1\", \"Topic1\", \"Topic1\", \"Topic1\", \"Topic1\", \"Topic2\", \"Topic2\", \"Topic2\", \"Topic2\", \"Topic2\", \"Topic2\", \"Topic2\", \"Topic2\", \"Topic2\", \"Topic2\", \"Topic2\", \"Topic2\", \"Topic2\", \"Topic2\", \"Topic2\", \"Topic2\", \"Topic2\", \"Topic2\", \"Topic2\", \"Topic2\", \"Topic2\", \"Topic2\", \"Topic2\", \"Topic2\", \"Topic2\", \"Topic2\", \"Topic2\", \"Topic2\", \"Topic2\", \"Topic2\", \"Topic2\", \"Topic2\", \"Topic2\", \"Topic2\", \"Topic2\", \"Topic2\", \"Topic2\", \"Topic2\", \"Topic2\", \"Topic2\", \"Topic2\", \"Topic2\", \"Topic2\", \"Topic2\", \"Topic2\", \"Topic2\", \"Topic2\", \"Topic2\", \"Topic2\", \"Topic2\", \"Topic2\", \"Topic2\", \"Topic2\", \"Topic2\", \"Topic2\", \"Topic2\", \"Topic2\", \"Topic2\", \"Topic2\", \"Topic2\", \"Topic2\", \"Topic2\", \"Topic2\", \"Topic2\", \"Topic2\", \"Topic2\", \"Topic2\", \"Topic2\", \"Topic2\", \"Topic2\", \"Topic2\", \"Topic2\", \"Topic2\", \"Topic2\", \"Topic2\", \"Topic2\", \"Topic2\", \"Topic2\", \"Topic2\", \"Topic2\", \"Topic2\", \"Topic2\", \"Topic2\", \"Topic3\", \"Topic3\", \"Topic3\", \"Topic3\", \"Topic3\", \"Topic3\", \"Topic3\", \"Topic3\", \"Topic3\", \"Topic3\", \"Topic3\", \"Topic3\", \"Topic3\", \"Topic3\", \"Topic3\", \"Topic3\", \"Topic3\", \"Topic3\", \"Topic3\", \"Topic3\", \"Topic3\", \"Topic3\", \"Topic3\", \"Topic3\", \"Topic3\", \"Topic3\", \"Topic3\", \"Topic3\", \"Topic3\", \"Topic3\", \"Topic3\", \"Topic3\", \"Topic3\", \"Topic3\", \"Topic3\", \"Topic3\", \"Topic3\", \"Topic3\", \"Topic3\", \"Topic3\", \"Topic3\", \"Topic3\", \"Topic3\", \"Topic3\", \"Topic3\", \"Topic3\", \"Topic3\", \"Topic3\", \"Topic3\", \"Topic3\", \"Topic3\", \"Topic3\", \"Topic3\", \"Topic3\", \"Topic3\", \"Topic3\", \"Topic3\", \"Topic3\", \"Topic3\", \"Topic3\", \"Topic3\", \"Topic3\", \"Topic3\", \"Topic3\", \"Topic3\", \"Topic3\", \"Topic3\", \"Topic3\", \"Topic3\", \"Topic3\", \"Topic3\", \"Topic3\", \"Topic3\", \"Topic3\", \"Topic3\", \"Topic3\", \"Topic3\", \"Topic4\", \"Topic4\", \"Topic4\", \"Topic4\", \"Topic4\", \"Topic4\", \"Topic4\", \"Topic4\", \"Topic4\", \"Topic4\", \"Topic4\", \"Topic4\", \"Topic4\", \"Topic4\", \"Topic4\", \"Topic4\", \"Topic4\", \"Topic4\", \"Topic4\", \"Topic4\", \"Topic4\", \"Topic4\", \"Topic4\", \"Topic4\", \"Topic4\", \"Topic4\", \"Topic4\", \"Topic4\", \"Topic4\", \"Topic4\", \"Topic4\", \"Topic4\", \"Topic4\", \"Topic4\", \"Topic4\", \"Topic4\", \"Topic4\", \"Topic4\", \"Topic4\", \"Topic4\", \"Topic4\", \"Topic4\", \"Topic4\", \"Topic4\", \"Topic4\", \"Topic4\", \"Topic4\", \"Topic4\", \"Topic4\", \"Topic4\", \"Topic4\", \"Topic4\", \"Topic4\", \"Topic4\", \"Topic4\", \"Topic4\", \"Topic4\", \"Topic4\", \"Topic4\", \"Topic4\", \"Topic4\", \"Topic4\", \"Topic4\", \"Topic4\", \"Topic4\", \"Topic4\", \"Topic4\", \"Topic4\", \"Topic4\", \"Topic4\", \"Topic4\"], \"Freq\": [496.0, 617.0, 106.0, 63.0, 56.0, 56.0, 97.0, 662.0, 332.0, 45.0, 100.0, 120.0, 151.0, 81.0, 55.0, 50.0, 25.0, 63.0, 37.0, 100.0, 75.0, 96.0, 58.0, 113.0, 58.0, 88.0, 21.0, 72.0, 66.0, 44.0, 22.768542862559123, 17.13242295105209, 15.257343003213256, 13.267728338938886, 11.499293410999607, 11.466811216197787, 11.454595917674222, 10.56474442151017, 10.56408419987547, 10.563696631727636, 10.562716061231008, 10.559199368633076, 10.54708962726456, 15.677576533033358, 16.529619025990947, 8.68735178186666, 8.685825412427123, 8.685258444235687, 8.685102632313473, 8.684372969318447, 7.746992616912927, 7.747002533477826, 7.746863385439787, 7.746703325770986, 7.746609226161049, 7.746444534090394, 7.746318558987938, 7.746238401461289, 7.7460809070338374, 7.745999973091172, 18.792830729274474, 11.090098619082605, 77.64061782915572, 56.981973306391154, 19.914384232614072, 15.758554128041785, 17.16734616402394, 15.57845463968757, 40.52436202656075, 29.584519255007823, 51.05136775903878, 398.12015838084926, 55.561940796267386, 50.931071563858225, 37.78672753986599, 25.21677385052177, 46.688980236060374, 42.44980537115221, 56.682419808268996, 91.12626224287908, 68.57037925896296, 35.07005019000681, 35.437993254064835, 54.56001827848015, 18.04419511340369, 36.82319723695411, 46.34895330566134, 39.13875653427498, 29.57805239667048, 31.157224693188507, 98.00556688595069, 43.11192511554232, 204.6493235991635, 89.46096716441961, 40.113594982956414, 52.949076912792435, 69.66529964178434, 69.2939463762215, 54.59933684077025, 84.36422463262655, 96.01471393344603, 65.10437831586638, 100.20029649441842, 62.012938446920046, 46.22163787336864, 60.247187688389154, 49.203612258633676, 46.44951924353126, 45.75996089737755, 55.745325742243246, 55.73984106263792, 44.64557681459434, 23.15324447848829, 15.043729109693786, 11.347744533063938, 11.338701131804015, 11.338213980154508, 11.338064361299462, 11.337916168558875, 11.337443300216218, 11.337362921308916, 11.337092866130382, 11.33627540320699, 11.336274483145957, 11.336257574996921, 11.336068929721788, 11.336075823755534, 11.335735537953813, 11.335536722864292, 11.335332147877102, 11.335236065613168, 11.334180834334848, 11.334045032059013, 11.333826860206585, 11.333909164550057, 11.333533311036797, 11.333512058418714, 11.333142590672692, 11.333327304502676, 15.67976235577819, 13.921541059711538, 24.151371435235426, 23.310884679116853, 14.783746369438044, 40.1993033881132, 12.18284760057741, 45.59066398705411, 31.17800350012277, 35.87522911836965, 22.90922899305725, 23.780964557248975, 48.66230280869629, 12.171480676242174, 35.35896060271408, 22.463340928045866, 49.34688410264736, 52.995925765256224, 346.3764372015349, 37.02091883541683, 45.35220714972639, 12.112222193215981, 86.6753900734799, 27.297402862126326, 70.65976778072859, 34.73194044074089, 28.249563293653463, 62.318882304498146, 39.23509065746317, 337.213515569074, 77.25931444747023, 188.1150820582745, 39.519365837626275, 74.80816997482748, 52.94905374784679, 48.63106029260886, 121.08954251046198, 48.40248702460124, 72.59528223324646, 50.731182778344156, 50.21095746962257, 109.17725496114262, 50.94242601662434, 74.71115986882297, 78.57860787368969, 64.30721761853519, 45.94458452283405, 55.792775705417704, 54.19557036502481, 61.88066338463129, 54.74116293348223, 51.68245597797307, 48.41653448421416, 12.417804972715047, 11.426496442127783, 9.773460482648186, 8.050621285082585, 7.1822047154939925, 11.131261313715337, 6.320891153242851, 6.318091087691844, 5.449034731436121, 5.448389895610845, 5.445220440204747, 5.444997792439042, 5.4432538655480265, 5.403205181355537, 10.670640567401698, 4.577319515990439, 4.576732965392692, 4.57602543959244, 4.572327205929866, 4.5716063292043465, 4.571602391261726, 6.837728498680987, 4.570275049024773, 4.56797564701142, 4.567083219168727, 9.78175980541909, 8.923400637500169, 3.7057109097042025, 3.7032271026291688, 3.701896169510919, 8.90287649569497, 8.065825604501596, 18.938021387578114, 14.83930777026112, 6.339130754408007, 46.76452677364912, 18.219093115079065, 12.744797364785693, 11.803987272008513, 35.76482628193519, 15.556269602597785, 9.779783853367615, 32.60538573195172, 33.348568234078215, 12.401517609750243, 15.401156907291538, 13.257835809419408, 28.252023586386308, 101.95401575651873, 50.565317009493704, 17.525063776616363, 18.36475302143388, 47.04694767794486, 48.44180713906705, 80.7669996520395, 22.465949307725012, 33.372849795802956, 25.286744890678598, 19.142111521352135, 27.709937618442556, 26.964621473932993, 22.44162190692722, 40.36595530457391, 35.43998078440914, 44.81339527737472, 31.296690760065076, 23.978313951533185, 18.27339791333894, 20.2201719666531, 26.000712817603528, 22.752894675627438, 21.628419321699003, 22.164347959156242, 22.298681782133844, 21.04094044241111, 20.50034006075119, 20.269648242674894, 9.562672304129254, 7.870230833902691, 7.870070358329358, 19.471565057663955, 7.021511567370331, 7.020523874725556, 6.165319388123883, 5.318672844260903, 5.317587896223917, 5.316600114717128, 5.294251996795912, 22.46824189902761, 4.4671020924107845, 4.465497209423378, 4.462966824899903, 4.461182184571747, 5.194174998419141, 4.427671325716469, 3.616242705759598, 3.6161519112512885, 3.6161440983470516, 3.6160772158930565, 3.6160920317352945, 3.616080530441692, 3.616027628411235, 3.6159227562359364, 3.615725554287139, 3.6156962933964274, 3.6156292888693824, 3.615186070421324, 12.12543758697464, 5.640081328816378, 38.639028972362425, 10.023454923948695, 10.424703683863294, 22.853328596385744, 44.97464423253932, 11.969188931525196, 9.434155707712629, 6.168929793996525, 6.57962373568439, 5.167890508989773, 17.409901026486757, 32.81441380749694, 39.76494872538058, 11.079017170763471, 19.877981296112974, 22.021377508347634, 77.44685625786275, 9.552391465682316, 23.389331609082937, 11.521094216668036, 9.238772022138628, 29.29368549613083, 26.376938273544145, 19.899829026175812, 29.68955564402211, 39.99637013975544, 13.21410259832445, 17.284461184195294, 17.786251032938647, 18.71935341600872, 13.55058978475644, 16.501490855622393, 15.696396177692705, 15.896054861854005, 14.409537229497799, 13.289379723491237, 16.83505941702836, 14.010580846104176, 13.098251292889158], \"Term\": [\"system\", \"data\", \"analytics\", \"marketing\", \"performer\", \"peak\", \"company\", \"business\", \"process\", \"er\", \"reporting\", \"document\", \"customer\", \"texas\", \"unit\", \"retirement\", \"digital\", \"exist\", \"success\", \"software\", \"procedure\", \"agency\", \"effort\", \"may\", \"drive\", \"database\", \"fraud\", \"analytical\", \"sales\", \"specification\", \"tm\", \"loan\", \"celebrate\", \"netsuite\", \"even\", \"game\", \"epicor\", \"fuel\", \"bazaarvoice\", \"dream\", \"clinical\", \"ambiguity\", \"csa\", \"happiness\", \"happy\", \"iam\", \"everi\", \"wholesale\", \"turn\", \"fund\", \"catchy\", \"prioritizebusiness\", \"wear\", \"quite\", \"acquiringdata\", \"implementingdata\", \"slogan\", \"expertiseregardingdata\", \"borrower\", \"implementdatabases\", \"000\", \"volume\", \"database\", \"sales\", \"grow\", \"inventory\", \"bi\", \"generate\", \"excel\", \"etc\", \"using\", \"data\", \"statistical\", \"sql\", \"2\", \"source\", \"maintain\", \"insight\", \"responsibility\", \"report\", \"reporting\", \"trend\", \"technique\", \"strong\", \"optimize\", \"financial\", \"working\", \"key\", \"access\", \"result\", \"information\", \"degree\", \"business\", \"management\", \"tool\", \"company\", \"analyze\", \"analyst\", \"relate\", \"analysis\", \"process\", \"need\", \"system\", \"support\", \"product\", \"project\", \"opportunity\", \"analytics\", \"new\", \"performer\", \"peak\", \"er\", \"fee\", \"decomposition\", \"clustering\", \"reason\", \"limitation\", \"comment\", \"dependent\", \"opinion\", \"covering\", \"aim\", \"aca\", \"suggestion\", \"emphasizing\", \"nonprofit\", \"transcend\", \"portray\", \"45\", \"depict\", \"1994\", \"retiree\", \"avoid\", \"curriculum\", \"workday\", \"headhunter\", \"1947\", \"attain\", \"boundary\", \"text\", \"w2\", \"elicit\", \"skilled\", \"acceptance\", \"specification\", \"concern\", \"retirement\", \"investment\", \"direction\", \"sustain\", \"recruitment\", \"unit\", \"since\", \"three\", \"recruit\", \"effort\", \"exist\", \"system\", \"case\", \"collaborate\", \"inference\", \"document\", \"describe\", \"agency\", \"five\", \"potential\", \"functional\", \"determine\", \"business\", \"user\", \"process\", \"testing\", \"may\", \"procedure\", \"review\", \"project\", \"define\", \"design\", \"employee\", \"planning\", \"analysis\", \"area\", \"analyze\", \"support\", \"need\", \"implementation\", \"identify\", \"use\", \"information\", \"management\", \"analyst\", \"role\", \"mainstreethub\", \"main\", \"hhs\", \"invision\", \"conducting\", \"hub\", \"itccs\", \"certify\", \"environmental\", \"copy\", \"zerocater\", \"meal\", \"blog\", \"affairs\", \"street\", \"peims\", \"tceq\", \"property\", \"auditor\", \"epidemiologic\", \"dm\", \"educational\", \"retention\", \"biztech\", \"fill\", \"selection\", \"vital\", \"esc\", \"statewide\", \"ibm\", \"asset\", \"student\", \"license\", \"certification\", \"commission\", \"software\", \"http\", \"contact\", \"accommodation\", \"texas\", \"www\", \"complete\", \"state\", \"application\", \"current\", \"public\", \"interview\", \"plan\", \"data\", \"management\", \"method\", \"com\", \"information\", \"project\", \"business\", \"operations\", \"customer\", \"technical\", \"veteran\", \"use\", \"relate\", \"program\", \"process\", \"analysis\", \"system\", \"support\", \"client\", \"research\", \"environment\", \"need\", \"development\", \"may\", \"report\", \"analyst\", \"new\", \"identify\", \"analyze\", \"emerson\", \"wells\", \"fargo\", \"fraud\", \"vista\", \"cybercrime\", \"speech\", \"attack\", \"intern\", \"nc\", \"impactful\", \"digital\", \"hostway\", \"vcg\", \"11i\", \"r12\", \"combine\", \"darby\", \"des\", \"ferrovial\", \"bitbucket\", \"west\", \"irving\", \"constantly\", \"ia\", \"charlotte\", \"moines\", \"cao\", \"pimco\", \"tethr\", \"pipeline\", \"things\", \"marketing\", \"automation\", \"campaign\", \"success\", \"analytics\", \"portfolio\", \"quantitative\", \"north\", \"engineer\", \"enjoy\", \"deliver\", \"company\", \"customer\", \"consult\", \"drive\", \"analytical\", \"data\", \"global\", \"reporting\", \"value\", \"growing\", \"support\", \"analyst\", \"product\", \"analysis\", \"business\", \"help\", \"problem\", \"role\", \"opportunity\", \"build\", \"development\", \"solution\", \"client\", \"responsibility\", \"model\", \"project\", \"technical\", \"tool\"], \"Total\": [496.0, 617.0, 106.0, 63.0, 56.0, 56.0, 97.0, 662.0, 332.0, 45.0, 100.0, 120.0, 151.0, 81.0, 55.0, 50.0, 25.0, 63.0, 37.0, 100.0, 75.0, 96.0, 58.0, 113.0, 58.0, 88.0, 21.0, 72.0, 66.0, 44.0, 23.451827845170822, 17.81313632653385, 15.933764313205925, 14.046245272777721, 12.174572239514017, 12.17142112349412, 12.170436305680022, 11.235079421397241, 11.23508558750234, 11.23505256387429, 11.235052907517167, 11.234788106680014, 11.235028890639686, 16.82507381771742, 17.769913694142907, 9.3556590471611, 9.35547697973148, 9.35547401560662, 9.355535774185254, 9.355461258822466, 8.415862273332461, 8.415877970914021, 8.415858392231742, 8.415853576200059, 8.415834102535637, 8.415770136653189, 8.415804566111703, 8.415848467558684, 8.415823529861033, 8.415756260090005, 20.549468655607352, 12.136877140523682, 88.43613433055094, 66.7166806284314, 22.33277538182759, 17.694173392076912, 19.556763719327265, 17.68146887118341, 49.111510807874076, 35.3723939797983, 63.79174527920221, 617.0135500593574, 71.22961206071501, 65.32851736097716, 47.119245536647085, 30.550283157392485, 62.570504050055625, 56.04219223175873, 78.8139620687859, 137.02733942719226, 100.33586175672724, 46.05311042817596, 47.96447838358049, 81.27037686374854, 21.306245961437735, 52.25337234254684, 71.14732971939014, 57.678581305171065, 40.49986654595201, 44.031261979735305, 216.34218764431628, 69.14865744407585, 662.6262089600325, 206.52717207784403, 63.64516842667476, 97.24912772059932, 170.65699914380025, 169.65202240987256, 117.19626644171815, 258.67101602220043, 332.73229675974113, 166.11291748249616, 496.00800985974587, 201.18192257680562, 96.05414244878867, 246.61359675494654, 125.0544039012994, 106.07882617850238, 117.86621606714291, 56.52260047967918, 56.52251881407255, 45.39810848570867, 24.078173196274996, 15.731519727404786, 12.023433333123942, 12.022877120627655, 12.022912117387017, 12.022949168536835, 12.023022023627222, 12.022927524356712, 12.022862954377006, 12.023014248119274, 12.022859460571334, 12.022864891928412, 12.022863954277602, 12.02283971440041, 12.022848712146823, 12.022892665864036, 12.022767831856438, 12.022875069918339, 12.022857960447531, 12.022763448399864, 12.0227298591723, 12.022558690074279, 12.022803612779647, 12.022711182287448, 12.022719005123617, 12.022560987483507, 12.022769740073917, 16.663171801488406, 14.789405185063961, 25.909661594271082, 25.015193481274476, 15.73460442666458, 44.256994781433, 12.950914182083027, 50.6851012831239, 34.129563591467864, 39.706945482430704, 24.95438048268476, 25.948907414518168, 55.614413618405905, 12.951214918111102, 40.65954383854078, 24.966980149620895, 58.803743674508766, 63.86154480093878, 496.00800985974587, 44.01702105648189, 56.347653803235765, 12.9411969619037, 120.29424982233867, 32.36316760460227, 96.18489118924595, 42.98543918106564, 33.95143490775181, 84.83184847909207, 49.77020788237282, 662.6262089600325, 113.28286931147687, 332.73229675974113, 51.375911417196534, 113.48081733046773, 75.04778910207617, 69.77990468551349, 246.61359675494654, 70.06262033368739, 129.53652711962832, 76.51677103347, 75.53639066763523, 258.67101602220043, 78.27753613486651, 170.65699914380025, 201.18192257680562, 166.11291748249616, 74.72627725655138, 129.96494118164756, 120.16482941624969, 216.34218764431628, 206.52717207784403, 169.65202240987256, 106.05789808562592, 13.112272824429997, 12.248945764079526, 10.49670378470594, 8.750662123329398, 7.877944434814821, 12.266512594399321, 7.004828359911163, 7.004991915789082, 6.132397902765722, 6.132437043626785, 6.132550618392651, 6.132523731670443, 6.132788850367146, 6.135377883376488, 12.219675824623414, 5.259960123643114, 5.259970037680107, 5.260096112606219, 5.260286924015086, 5.260139063173546, 5.260227742430928, 7.869144252810728, 5.260465199024584, 5.26059479515744, 5.260566788895714, 11.436120758759431, 10.474354933543964, 4.387515937153636, 4.387664424622255, 4.3878132681284185, 10.564385232561541, 9.601823931022832, 22.94591705704118, 22.190976407821857, 7.858530912443659, 100.53132067530485, 30.32862592699775, 19.401621797399056, 17.72837253086841, 81.19912777000751, 26.790674388473768, 14.7582294959334, 87.51811645572113, 94.78131991856674, 21.3890468253861, 30.556854963514787, 24.324270292612482, 80.3632334903394, 617.0135500593574, 206.52717207784403, 38.27149908236924, 41.32958399098221, 216.34218764431628, 246.61359675494654, 662.6262089600325, 63.521310611115, 151.6484590306941, 89.28296998727188, 51.22098987137274, 120.16482941624969, 117.19626644171815, 77.47877355272989, 332.73229675974113, 258.67101602220043, 496.00800985974587, 201.18192257680562, 100.3218425401387, 50.47059830534684, 69.52414592340924, 166.11291748249616, 113.48351519868805, 113.48081733046773, 137.02733942719226, 169.65202240987256, 117.86621606714291, 129.96494118164756, 170.65699914380025, 10.27005983791189, 8.56530963792541, 8.565318674795996, 21.3838532218715, 7.713345647475437, 7.713294289582958, 6.861845276765212, 6.0094193444961865, 6.009605119021852, 6.0095686030091, 6.011951603463039, 25.678362943714873, 5.1575040081036265, 5.157743435590273, 5.157930587863777, 5.158099057618141, 6.020696020354523, 5.160650915529811, 4.305565852974932, 4.305646954729282, 4.305639306738641, 4.305574173206725, 4.305601282936052, 4.3056275690766235, 4.305617488900426, 4.305611879210261, 4.305619631583697, 4.3056011397355105, 4.305568158175657, 4.305758202835677, 14.704710430329397, 6.91598531315763, 63.130407402761854, 13.782162649720638, 14.88000845732477, 37.65248252386513, 106.07882617850238, 20.152665359031314, 14.976780131962915, 8.7408969716208, 9.638419371128036, 6.964568588534479, 36.156837577025385, 97.24912772059932, 151.6484590306941, 21.255945150193735, 58.700656440263074, 72.24952618040078, 617.0135500593574, 18.624044827501287, 100.33586175672724, 26.674127893134084, 18.649964552906624, 201.18192257680562, 169.65202240987256, 96.05414244878867, 258.67101602220043, 662.6262089600325, 44.23388470698259, 97.16754958554307, 106.05789808562592, 125.0544039012994, 51.7441279288951, 113.48351519868805, 94.79048919077226, 100.3218425401387, 78.8139620687859, 53.659323094709904, 246.61359675494654, 89.28296998727188, 63.64516842667476], \"loglift\": [30.0, 29.0, 28.0, 27.0, 26.0, 25.0, 24.0, 23.0, 22.0, 21.0, 20.0, 19.0, 18.0, 17.0, 16.0, 15.0, 14.0, 13.0, 12.0, 11.0, 10.0, 9.0, 8.0, 7.0, 6.0, 5.0, 4.0, 3.0, 2.0, 1.0, 0.9373, 0.9279, 0.9235, 0.9099, 0.9098, 0.9073, 0.9063, 0.9054, 0.9053, 0.9053, 0.9052, 0.9049, 0.9037, 0.8963, 0.8945, 0.8928, 0.8926, 0.8926, 0.8925, 0.8925, 0.8841, 0.8841, 0.8841, 0.884, 0.884, 0.884, 0.884, 0.884, 0.884, 0.884, 0.8775, 0.8767, 0.8367, 0.8092, 0.8523, 0.851, 0.8366, 0.8403, 0.7747, 0.7882, 0.7441, 0.5288, 0.7185, 0.7179, 0.7462, 0.775, 0.6741, 0.6891, 0.6373, 0.559, 0.5862, 0.6945, 0.6642, 0.5684, 0.8007, 0.6169, 0.5383, 0.5791, 0.6526, 0.621, 0.1751, 0.4944, -0.208, 0.1303, 0.5053, 0.359, 0.0709, 0.0715, 0.2031, -0.1535, -0.2759, 0.0302, -0.6325, -0.21, 0.2354, -0.4425, 0.0341, 0.1411, 0.0208, 1.2107, 1.2106, 1.2078, 1.1853, 1.1798, 1.1667, 1.1659, 1.1659, 1.1659, 1.1658, 1.1658, 1.1658, 1.1658, 1.1657, 1.1657, 1.1657, 1.1657, 1.1657, 1.1657, 1.1657, 1.1656, 1.1656, 1.1655, 1.1655, 1.1655, 1.1655, 1.1655, 1.1655, 1.1655, 1.1655, 1.1637, 1.164, 1.1542, 1.154, 1.1622, 1.1284, 1.1634, 1.1186, 1.1341, 1.123, 1.139, 1.1373, 1.091, 1.1624, 1.0848, 1.1188, 1.0492, 1.038, 0.8655, 1.0514, 1.0074, 1.1583, 0.8967, 1.0543, 0.9161, 1.0113, 1.0407, 0.9161, 0.9867, 0.549, 0.8418, 0.6542, 0.9621, 0.8078, 0.8757, 0.8634, 0.5132, 0.8547, 0.6455, 0.8135, 0.8161, 0.3619, 0.795, 0.3985, 0.2844, 0.2755, 0.7381, 0.3789, 0.4283, -0.0271, -0.1033, 0.0359, 0.4404, 1.63, 1.6149, 1.613, 1.6011, 1.592, 1.5873, 1.5817, 1.5812, 1.5663, 1.5662, 1.5656, 1.5655, 1.5652, 1.5574, 1.5489, 1.5454, 1.5453, 1.5451, 1.5443, 1.5441, 1.5441, 1.5439, 1.5438, 1.5433, 1.5431, 1.5282, 1.5242, 1.5155, 1.5148, 1.5145, 1.5133, 1.5101, 1.4925, 1.282, 1.4696, 0.9191, 1.1748, 1.2642, 1.2777, 0.8645, 1.1408, 1.273, 0.6971, 0.6399, 1.1394, 0.9993, 1.0776, 0.639, -0.1159, 0.2773, 0.9034, 0.8733, 0.1587, 0.057, -0.4202, 0.6451, 0.1706, 0.4229, 0.7002, 0.2174, 0.2151, 0.4454, -0.4249, -0.3033, -0.7196, -0.1763, 0.2532, 0.6685, 0.4494, -0.1701, 0.0775, 0.0268, -0.1373, -0.3448, -0.0386, -0.1624, -0.4461, 1.8927, 1.8794, 1.8794, 1.8704, 1.8701, 1.8699, 1.857, 1.8419, 1.8417, 1.8415, 1.8369, 1.8305, 1.8203, 1.8199, 1.8193, 1.8189, 1.8164, 1.8108, 1.7896, 1.7895, 1.7895, 1.7895, 1.7895, 1.7895, 1.7895, 1.7895, 1.7894, 1.7894, 1.7894, 1.7892, 1.7712, 1.7601, 1.4731, 1.6456, 1.6082, 1.4647, 1.1059, 1.443, 1.5019, 1.6155, 1.5823, 1.6657, 1.2332, 0.8776, 0.6255, 1.3124, 0.8812, 0.7759, -0.1113, 1.2964, 0.5078, 1.1245, 1.2616, 0.0372, 0.1028, 0.3898, -0.2007, -0.8434, 0.7558, 0.2374, 0.1785, 0.0648, 0.6242, 0.0358, 0.1658, 0.1217, 0.2648, 0.5683, -0.7203, 0.112, 0.3832], \"logprob\": [30.0, 29.0, 28.0, 27.0, 26.0, 25.0, 24.0, 23.0, 22.0, 21.0, 20.0, 19.0, 18.0, 17.0, 16.0, 15.0, 14.0, 13.0, 12.0, 11.0, 10.0, 9.0, 8.0, 7.0, 6.0, 5.0, 4.0, 3.0, 2.0, 1.0, -6.3853, -6.6697, -6.7856, -6.9253, -7.0684, -7.0712, -7.0723, -7.1531, -7.1532, -7.1532, -7.1533, -7.1537, -7.1548, -6.7584, -6.7055, -7.3488, -7.349, -7.349, -7.3491, -7.3491, -7.4634, -7.4634, -7.4634, -7.4634, -7.4634, -7.4634, -7.4635, -7.4635, -7.4635, -7.4635, -6.5772, -7.1046, -5.1586, -5.4679, -6.5192, -6.7533, -6.6677, -6.7648, -5.8088, -6.1234, -5.5778, -3.5239, -5.4932, -5.5802, -5.8787, -6.2832, -5.6672, -5.7623, -5.4732, -4.9984, -5.2828, -5.9533, -5.9429, -5.5114, -6.6178, -5.9045, -5.6745, -5.8436, -6.1236, -6.0716, -4.9256, -5.7469, -4.1894, -5.0169, -5.819, -5.5413, -5.267, -5.2723, -5.5106, -5.0755, -4.9462, -5.3347, -4.9035, -5.3833, -5.6772, -5.4122, -5.6147, -5.6723, -5.6873, -5.2323, -5.2324, -5.4543, -6.1109, -6.5421, -6.824, -6.8248, -6.8249, -6.8249, -6.8249, -6.8249, -6.8249, -6.825, -6.825, -6.825, -6.825, -6.8251, -6.8251, -6.8251, -6.8251, -6.8251, -6.8251, -6.8252, -6.8252, -6.8253, -6.8253, -6.8253, -6.8253, -6.8253, -6.8253, -6.5007, -6.6196, -6.0687, -6.1041, -6.5595, -5.5592, -6.753, -5.4333, -5.8133, -5.673, -6.1215, -6.0842, -5.3681, -6.754, -5.6875, -6.1412, -5.3542, -5.2828, -3.4055, -5.6416, -5.4386, -6.7588, -4.7909, -5.9463, -4.9952, -5.7054, -5.912, -5.1208, -5.5835, -3.4323, -4.9059, -4.016, -5.5763, -4.9381, -5.2837, -5.3688, -4.4565, -5.3735, -4.9682, -5.3265, -5.3368, -4.5601, -5.3224, -4.9394, -4.889, -5.0894, -5.4256, -5.2314, -5.2605, -5.1278, -5.2504, -5.3079, -5.3732, -6.274, -6.3572, -6.5135, -6.7074, -6.8215, -6.3834, -6.9493, -6.9497, -7.0977, -7.0978, -7.0984, -7.0984, -7.0988, -7.1061, -6.4256, -7.272, -7.2721, -7.2723, -7.2731, -7.2733, -7.2733, -6.8707, -7.2736, -7.2741, -7.2743, -6.5126, -6.6045, -7.4833, -7.4839, -7.4843, -6.6068, -6.7055, -5.852, -6.0959, -6.9464, -4.948, -5.8907, -6.248, -6.3247, -5.2162, -6.0487, -6.5128, -5.3087, -5.2861, -6.2753, -6.0587, -6.2085, -5.452, -4.1686, -4.8699, -5.9295, -5.8827, -4.942, -4.9128, -4.4016, -5.6811, -5.2854, -5.5629, -5.8412, -5.4713, -5.4986, -5.6822, -5.0951, -5.2253, -4.9906, -5.3496, -5.616, -5.8877, -5.7865, -5.535, -5.6684, -5.7191, -5.6946, -5.6886, -5.7467, -5.7727, -5.784, -6.2557, -6.4504, -6.4505, -5.5446, -6.5646, -6.5647, -6.6946, -6.8423, -6.8425, -6.8427, -6.8469, -5.4014, -7.0168, -7.0172, -7.0177, -7.0181, -6.866, -7.0257, -7.2281, -7.2281, -7.2281, -7.2281, -7.2281, -7.2281, -7.2282, -7.2282, -7.2282, -7.2283, -7.2283, -7.2284, -6.0182, -6.7836, -4.8593, -6.2086, -6.1694, -5.3844, -4.7074, -6.0312, -6.2692, -6.694, -6.6296, -6.8711, -5.6565, -5.0227, -4.8306, -6.1085, -5.5239, -5.4215, -4.1639, -6.2567, -5.3613, -6.0694, -6.2901, -5.1362, -5.241, -5.5228, -5.1227, -4.8247, -5.9323, -5.6637, -5.6351, -5.584, -5.9071, -5.7101, -5.7601, -5.7475, -5.8456, -5.9266, -5.6901, -5.8737, -5.9411]}, \"token.table\": {\"Topic\": [1, 3, 4, 2, 2, 1, 2, 3, 4, 2, 2, 1, 2, 1, 2, 3, 4, 1, 3, 4, 1, 3, 1, 2, 3, 4, 2, 1, 1, 2, 3, 4, 1, 2, 3, 4, 1, 2, 3, 4, 1, 3, 4, 1, 2, 3, 4, 1, 2, 3, 4, 1, 2, 3, 4, 1, 3, 4, 2, 3, 1, 3, 4, 2, 1, 1, 3, 4, 3, 3, 1, 2, 1, 3, 4, 1, 2, 3, 4, 1, 4, 4, 1, 2, 3, 4, 1, 1, 1, 3, 4, 3, 4, 1, 2, 3, 4, 1, 2, 1, 2, 3, 1, 3, 4, 4, 2, 3, 4, 1, 3, 4, 3, 4, 2, 3, 4, 1, 3, 4, 1, 3, 4, 3, 2, 1, 1, 3, 4, 2, 1, 2, 3, 4, 4, 4, 1, 2, 3, 4, 1, 2, 3, 4, 2, 1, 2, 3, 4, 1, 2, 3, 4, 1, 3, 4, 2, 2, 4, 1, 2, 3, 4, 1, 2, 3, 4, 1, 2, 3, 4, 1, 2, 3, 4, 3, 4, 1, 2, 4, 3, 1, 2, 3, 4, 1, 1, 3, 4, 3, 4, 1, 2, 3, 4, 1, 2, 3, 4, 2, 1, 2, 3, 4, 1, 4, 1, 4, 1, 3, 4, 3, 1, 3, 2, 3, 1, 2, 3, 4, 1, 1, 1, 2, 3, 4, 1, 2, 3, 1, 4, 2, 4, 3, 1, 3, 4, 2, 3, 4, 3, 4, 1, 1, 2, 3, 4, 1, 1, 1, 3, 4, 1, 3, 4, 1, 4, 1, 3, 4, 1, 4, 1, 3, 2, 1, 3, 4, 3, 4, 1, 3, 4, 2, 3, 4, 1, 3, 1, 2, 3, 4, 4, 1, 2, 3, 4, 1, 1, 2, 1, 2, 3, 4, 1, 2, 3, 4, 4, 1, 3, 1, 3, 4, 1, 2, 4, 3, 4, 3, 1, 2, 3, 4, 1, 3, 2, 1, 3, 3, 1, 3, 4, 1, 2, 3, 4, 1, 2, 3, 4, 1, 2, 3, 4, 3, 1, 2, 3, 4, 1, 2, 3, 4, 4, 4, 1, 2, 3, 4, 1, 1, 2, 3, 4, 2, 1, 4, 1, 3, 4, 2, 1, 2, 3, 4, 1, 4, 2, 3, 2, 4, 1, 4, 1, 2, 3, 4, 1, 2, 3, 4, 1, 3, 4, 2, 1, 2, 3, 4, 1, 1, 2, 3, 4, 1, 2, 3, 1, 2, 3, 4, 1, 2, 3, 4, 1, 2, 3, 4, 1, 2, 3, 4, 3, 1, 2, 3, 1, 4, 1, 4, 2, 1, 2, 3, 1, 2, 1, 2, 3, 4, 1, 2, 3, 4, 1, 3, 4, 1, 2, 3, 4, 1, 2, 3, 4, 1, 3, 4, 3, 2, 2, 3, 1, 2, 3, 4, 1, 2, 3, 4, 1, 3, 4, 1, 3, 2, 1, 2, 1, 1, 2, 3, 4, 1, 2, 3, 4, 1, 3, 4, 2, 3, 4, 4, 1, 3, 4, 1, 2, 3, 4, 3, 1, 2, 3, 4, 3, 4, 1, 3, 4, 3, 4, 1, 3, 4, 2, 1, 2, 3, 4, 1, 2, 3, 1, 2, 3, 4, 3, 1, 2, 3, 4, 1, 2, 3, 4, 1, 2, 3, 4, 4, 1, 2, 3, 4, 1, 2, 1, 4, 1, 2, 3, 1, 1, 3, 4, 2, 1, 3, 4, 1, 1, 2, 3, 1, 2, 3, 4, 1, 2, 3, 4, 1, 3, 4, 1, 2, 3, 4, 4, 1, 2, 3, 4, 4, 3, 4, 1, 4, 2, 1, 4, 4, 1, 2, 1, 3, 4, 1, 3, 4, 3], \"Freq\": [0.9245981158162673, 0.04866305872717196, 0.7755048137738999, 0.9149344665971338, 0.9149238921550515, 0.8064645256351871, 0.02122275067461019, 0.06366825202383056, 0.12733650404766111, 0.9149307508753155, 0.9149237779975906, 0.06355418750187035, 0.9533128125280553, 0.7407431816092865, 0.02469143938697622, 0.19753151509580977, 0.04938287877395244, 0.2256270276944628, 0.6768810830833883, 0.0564067569236157, 0.950589080360989, 0.8149457286970474, 0.07277650276931064, 0.738161670945865, 0.14555300553862127, 0.05198321626379331, 0.9149119990206032, 0.9791016880380313, 0.32473680774807295, 0.4213846671969042, 0.13530700322836373, 0.11597743133859749, 0.40671486858729416, 0.3065097560368014, 0.1296772044771083, 0.1532548780184007, 0.5536368487749453, 0.027681842438747266, 0.11072736975498906, 0.30450026682621995, 0.4336397908720659, 0.13197732765671571, 0.4242128388965862, 0.41017948488017236, 0.43947801951447035, 0.1171941385371921, 0.03515824156115763, 0.22156264565678732, 0.33761926957224736, 0.3481698717463801, 0.09495541956719457, 0.21717597205295572, 0.6515279161588672, 0.07665034307751378, 0.05110022871834252, 0.09465766137700096, 0.8519189523930087, 0.8320271416204832, 0.9149464919705478, 0.950518493045164, 0.07255755322407763, 0.2176726596722329, 0.7255755322407763, 0.914933640599764, 0.9790757635381216, 0.8692644777008527, 0.10226640914127678, 0.9290141869848937, 0.9504628648841522, 0.8152897681616202, 0.9505902745719884, 0.9149306056602869, 0.618427660892715, 0.09662932201448672, 0.2705621016405628, 0.30937502505634357, 0.5085823582633551, 0.12224086355884795, 0.06036585854757923, 0.268817051513904, 0.6720426287847601, 0.9290224222315485, 0.02271848425900556, 0.8405839175832057, 0.06815545277701668, 0.06815545277701668, 0.9505858984111214, 0.9413971303421365, 0.2703801711890931, 0.6759504279727327, 0.04506336186484885, 0.8565320377424198, 0.9290201049737171, 0.23923005591127988, 0.36881300286322316, 0.23923005591127988, 0.15948670394085326, 0.97907861142693, 0.9148801091361787, 0.10648180705006478, 0.7986135528754859, 0.07098787136670985, 0.43552337724781987, 0.43552337724781987, 0.12097871590217218, 0.8304687669160185, 0.9149169513904445, 0.7635014822553218, 0.12725024704255364, 0.544992034810545, 0.11311155439464142, 0.33933466318392425, 0.6775880536859439, 0.27103522147437753, 0.9265755166999275, 0.8885566606772521, 0.9290167195900393, 0.3763652918499879, 0.09409132296249698, 0.5175022762937334, 0.20616833179050179, 0.6700470783191308, 0.15462624884287635, 0.8153365398502239, 0.9149235121236555, 0.9790807043820334, 0.32727031069434487, 0.5610348183331627, 0.09350580305552711, 0.91494666680908, 0.27695632562609207, 0.23739113625093605, 0.21760854156335804, 0.26376792916770675, 0.9075240405975066, 0.7750960228607802, 0.6450425601864205, 0.06320768805846834, 0.16531241492214796, 0.12479466616671954, 0.8819924184887659, 0.011307595108830332, 0.07915316576181232, 0.033922785326491, 0.9534997419142884, 0.18554829862321554, 0.6851014103011035, 0.07136473023969828, 0.04281883814381897, 0.6218486603991749, 0.014461596753469183, 0.1880007577950994, 0.1880007577950994, 0.30423014669262916, 0.19360100244076403, 0.4701738630704269, 0.9149114073303022, 0.9149225901483741, 0.9290300361417533, 0.0926979718627227, 0.8342817467645044, 0.0308993239542409, 0.0308993239542409, 0.2624742283587752, 0.563547607946782, 0.10807762344184861, 0.06947847221261697, 0.12055404739679675, 0.7836013080791788, 0.06027702369839837, 0.04018468246559891, 0.3084148383905949, 0.3436622484923772, 0.2026726080852481, 0.1498014929325747, 0.11682987761236122, 0.8567524358239822, 0.05036902173411823, 0.9066423912141283, 0.05036902173411823, 0.9505291871049926, 0.10806834091570931, 0.7232265892051316, 0.14963308742175135, 0.024938847903625227, 0.979078641373687, 0.579209877058193, 0.06814233847743446, 0.34071169238717236, 0.8895503469134799, 0.12707862098764, 0.051017160006098225, 0.8332802800996043, 0.01700572000203274, 0.10203432001219645, 0.038595641103282924, 0.9262953864787902, 0.038595641103282924, 0.9737041612050822, 0.9149234360325871, 0.0653451515591647, 0.66652054590348, 0.18296642436566116, 0.07841418187099763, 0.31125435452482225, 0.7262601605579186, 0.14358391152127706, 0.7179195576063853, 0.5321892057582523, 0.2876698409504067, 0.17260190457024402, 0.8153417438462354, 0.9038295525088306, 0.9505452118186778, 0.991230725266142, 0.9116776001034804, 0.8481190166866696, 0.0565412677791113, 0.02827063388955565, 0.0565412677791113, 0.903522504412779, 0.9620033291192298, 0.8348348345542334, 0.02036182523303008, 0.10180912616515042, 0.06108547569909025, 0.12527100659616988, 0.8299204186996254, 0.0469766274735637, 0.9505874577992116, 0.9339991077670603, 0.9552219685652151, 0.9290125368050527, 0.9504679249685163, 0.7080882695464439, 0.19137520798552538, 0.09568760399276269, 0.8142292056752304, 0.09305476636288347, 0.09305476636288347, 0.046764256639079224, 0.8885208761425053, 0.9790763008804787, 0.16503235814141765, 0.7308575860548496, 0.047152102326119334, 0.058940127907649166, 0.9620049456687926, 0.903756421570776, 0.9049021954322017, 0.05655638721451261, 0.05655638721451261, 0.3758582018479367, 0.10738805767083906, 0.5369402883541953, 0.8955447613678238, 0.08955447613678237, 0.37533583402489845, 0.10723880972139956, 0.482574643746298, 0.9509616524327764, 0.059435103277048526, 0.9566731888857357, 0.056274893463866806, 0.914935061918965, 0.5651775819737939, 0.13564261967371052, 0.2938923426263728, 0.9526800227105909, 0.7755689561685417, 0.329721498892512, 0.5934986980065217, 0.06594429977850241, 0.0815227630758381, 0.8967503938342191, 0.9290188945747536, 0.9619846078861733, 0.9116158221806379, 0.33085845774284905, 0.43088543333952434, 0.1615820375023216, 0.08463821012026371, 0.8316766883352605, 0.2676434680579055, 0.6155799765331826, 0.06691086701447638, 0.0535286936115811, 0.9505978729372614, 0.9505963055190415, 0.9272712590130268, 0.4529860822204487, 0.2865830316088553, 0.21724842718735807, 0.04160076265289835, 0.7494353508926241, 0.017843698830776765, 0.03568739766155353, 0.1962806871385444, 0.8320014212204713, 0.4522232267473531, 0.5344456316105083, 0.9042524703168373, 0.05651577939480233, 0.05651577939480233, 0.029300110952780907, 0.9083034395362081, 0.058600221905561814, 0.914216534389081, 0.9290223913330735, 0.8565520369261544, 0.676160874929556, 0.017337458331527077, 0.17337458331527078, 0.12136220832068954, 0.17432295209890342, 0.8280340224697912, 0.9149197709007848, 0.9543518720326285, 0.89803646875945, 0.915173148139682, 0.7511526511341603, 0.15981971300726816, 0.07990985650363408, 0.4309360318285586, 0.2663087837142778, 0.24694087217142124, 0.0581037346285697, 0.2534436360900156, 0.015840227255625974, 0.11088159078938181, 0.6177688629694129, 0.12336886823109998, 0.6609046512380355, 0.1938653643631571, 0.03524824806602857, 0.8153250144273059, 0.13064552264437898, 0.23516194075988217, 0.47032388151976434, 0.15677462717325477, 0.4659022618655558, 0.22363308569546678, 0.055908271423866694, 0.24226917617008903, 0.9290184322502998, 0.8320064767205435, 0.39130009264239946, 0.38528009121713175, 0.15652003705695977, 0.06622001567794453, 0.9255142386837433, 0.3902729852105877, 0.33088361789593307, 0.17816810194396396, 0.1018103439679794, 0.914925280657672, 0.2288094696108912, 0.6864284088326735, 0.5667389361720867, 0.346340460994053, 0.07871374113501205, 0.9149185984624453, 0.39182946358829396, 0.3358538259328234, 0.12794431464107558, 0.15193387363627725, 0.8448226887354194, 0.14080378145590325, 0.9907555638878843, 0.9505775485873718, 0.9907541324135102, 0.9290295387391728, 0.13601083880406603, 0.8160650328243961, 0.11199151165416839, 0.4604095479115812, 0.34841803625741274, 0.07466100776944559, 0.1985797821079501, 0.6619326070265004, 0.11914786926477006, 0.026477304281060016, 0.248106139357853, 0.1488636836147118, 0.5954547344588472, 0.9149212511255065, 0.02945383612554412, 0.8247074115152354, 0.02945383612554412, 0.11781534450217648, 0.9505841253460031, 0.2675790437332215, 0.4219515689639262, 0.14408102354865773, 0.17495552859479868, 0.06662421451482409, 0.7062166738571354, 0.21319748644743708, 0.28852023363791324, 0.5650187908742468, 0.12021676401579719, 0.02404335280315944, 0.4788965767356148, 0.13534033690354333, 0.17698351748924895, 0.20821590292852818, 0.20650817335293578, 0.4904569117132225, 0.28394873836028667, 0.012906760834558486, 0.24329558787312294, 0.4906461022107979, 0.19463647029849834, 0.06893374989738484, 0.9505529733605287, 0.0327258810238819, 0.4254364533104647, 0.49088821535822846, 0.3338501303981339, 0.600930234716641, 0.9505868807679725, 0.7754794848486455, 0.9149224340925265, 0.04005290163276652, 0.8811638359208634, 0.04005290163276652, 0.07707453605083268, 0.9248944326099922, 0.46929822655529363, 0.255980850848342, 0.23038276576350777, 0.0511961701696684, 0.6641010500561583, 0.09487157857945118, 0.16055190221137894, 0.08027595110568947, 0.6876903112398269, 0.07973220999882051, 0.22923010374660896, 0.23776219032316728, 0.2972027379039591, 0.35664328548475094, 0.09906757930131971, 0.7232221106997834, 0.012688107205259357, 0.0888167504368155, 0.177633500873631, 0.7040452307332745, 0.20440022827740228, 0.09084454590106768, 0.9504862803630217, 0.9149310844557965, 0.9075645275531126, 0.07891865456983588, 0.128976960352146, 0.7022078952505727, 0.14330773372460667, 0.028661546744921333, 0.3205796137176891, 0.45258298407203174, 0.05657287300900397, 0.1697186190270119, 0.8543590517857594, 0.014988755294487007, 0.11991004235589606, 0.08744223859599032, 0.8744223859599032, 0.9265540009855822, 0.03997570519486751, 0.9194412194819528, 0.9505924165841444, 0.3083616110060219, 0.13926008238981633, 0.4675159908800977, 0.08952433867916765, 0.40088410055066215, 0.30593786620971586, 0.12659497912126172, 0.16879330549501564, 0.8183230208113655, 0.06546584166490924, 0.09819876249736387, 0.9038119329507903, 0.06778589497130927, 0.022595298323769757, 0.8744003628756403, 0.7806697910836708, 0.030614501611124344, 0.18368700966674606, 0.13711446824922557, 0.4227696104351122, 0.37706478768537033, 0.06855723412461279, 0.9116467470833005, 0.7861898777753622, 0.02807820992054865, 0.1684692595232919, 0.02807820992054865, 0.9001875465332976, 0.08183523150302704, 0.676753352481786, 0.17226448972263644, 0.1599598833138767, 0.8331750360629454, 0.10414687950786818, 0.239028063934312, 0.13279336885239557, 0.6108494967210195, 0.9149233646786537, 0.3081787826952003, 0.3926794166600133, 0.15408939134760016, 0.14414814029291628, 0.040073124664179734, 0.9216818672761339, 0.040073124664179734, 0.2016096474495978, 0.6975693801756084, 0.09072434135231902, 0.01008048237247989, 0.9505757569305916, 0.2688082621290647, 0.2912089506398201, 0.2800086063844424, 0.15680481957528777, 0.7297066741787277, 0.04169752423878444, 0.12509257271635332, 0.08339504847756889, 0.07785749954911984, 0.7785749954911985, 0.07785749954911984, 0.07785749954911984, 0.9289885338581457, 0.09852322579941501, 0.4433545160973676, 0.4433545160973676, 0.012315403224926877, 0.06001258415343692, 0.9602013464549907, 0.14459255691267947, 0.8675553414760769, 0.07378341507993826, 0.8608065092659463, 0.0491889433866255, 0.9807337897858626, 0.6284844708374647, 0.15712111770936618, 0.20425745302217602, 0.9149245959392779, 0.7599920977017546, 0.15199841954035093, 0.08685623973734338, 0.9619972834515491, 0.10788570101931752, 0.8810665583244264, 0.017980950169886253, 0.23301327132091454, 0.44938273754747804, 0.23301327132091454, 0.08321902547175519, 0.19420412047923952, 0.6797144216773383, 0.07061968017426892, 0.052964760130701685, 0.799476480487944, 0.1410840847919901, 0.047028028263996706, 0.262426574096235, 0.1499580423407057, 0.1499580423407057, 0.4498741270221171, 0.7755329535002788, 0.15618597024559217, 0.35141843305258236, 0.37094167933328137, 0.11713947768419412, 0.9075179980156971, 0.8592414575505395, 0.09547127306117106, 0.906328693340087, 0.08239351757637155, 0.9466236014778205, 0.9505863367882235, 0.934000093187252, 0.9290282408538468, 0.9620036339138323, 0.9149280279607613, 0.6465456986429019, 0.19677477784783973, 0.14055341274845695, 0.3359377919904882, 0.5972227413164235, 0.07465284266455294, 0.8153214398270235], \"Term\": [\"000\", \"000\", \"11i\", \"1947\", \"1994\", \"2\", \"2\", \"2\", \"2\", \"45\", \"aca\", \"acceptance\", \"acceptance\", \"access\", \"access\", \"access\", \"access\", \"accommodation\", \"accommodation\", \"accommodation\", \"acquiringdata\", \"affairs\", \"agency\", \"agency\", \"agency\", \"agency\", \"aim\", \"ambiguity\", \"analysis\", \"analysis\", \"analysis\", \"analysis\", \"analyst\", \"analyst\", \"analyst\", \"analyst\", \"analytical\", \"analytical\", \"analytical\", \"analytical\", \"analytics\", \"analytics\", \"analytics\", \"analyze\", \"analyze\", \"analyze\", \"analyze\", \"application\", \"application\", \"application\", \"application\", \"area\", \"area\", \"area\", \"area\", \"asset\", \"asset\", \"attack\", \"attain\", \"auditor\", \"automation\", \"automation\", \"automation\", \"avoid\", \"bazaarvoice\", \"bi\", \"bi\", \"bitbucket\", \"biztech\", \"blog\", \"borrower\", \"boundary\", \"build\", \"build\", \"build\", \"business\", \"business\", \"business\", \"business\", \"campaign\", \"campaign\", \"cao\", \"case\", \"case\", \"case\", \"case\", \"catchy\", \"celebrate\", \"certification\", \"certification\", \"certification\", \"certify\", \"charlotte\", \"client\", \"client\", \"client\", \"client\", \"clinical\", \"clustering\", \"collaborate\", \"collaborate\", \"collaborate\", \"com\", \"com\", \"com\", \"combine\", \"comment\", \"commission\", \"commission\", \"company\", \"company\", \"company\", \"complete\", \"complete\", \"concern\", \"conducting\", \"constantly\", \"consult\", \"consult\", \"consult\", \"contact\", \"contact\", \"contact\", \"copy\", \"covering\", \"csa\", \"current\", \"current\", \"current\", \"curriculum\", \"customer\", \"customer\", \"customer\", \"customer\", \"cybercrime\", \"darby\", \"data\", \"data\", \"data\", \"data\", \"database\", \"database\", \"database\", \"database\", \"decomposition\", \"define\", \"define\", \"define\", \"define\", \"degree\", \"degree\", \"degree\", \"degree\", \"deliver\", \"deliver\", \"deliver\", \"dependent\", \"depict\", \"des\", \"describe\", \"describe\", \"describe\", \"describe\", \"design\", \"design\", \"design\", \"design\", \"determine\", \"determine\", \"determine\", \"determine\", \"development\", \"development\", \"development\", \"development\", \"digital\", \"digital\", \"direction\", \"direction\", \"direction\", \"dm\", \"document\", \"document\", \"document\", \"document\", \"dream\", \"drive\", \"drive\", \"drive\", \"educational\", \"educational\", \"effort\", \"effort\", \"effort\", \"effort\", \"elicit\", \"elicit\", \"elicit\", \"emerson\", \"emphasizing\", \"employee\", \"employee\", \"employee\", \"employee\", \"engineer\", \"engineer\", \"enjoy\", \"enjoy\", \"environment\", \"environment\", \"environment\", \"environmental\", \"epicor\", \"epidemiologic\", \"er\", \"esc\", \"etc\", \"etc\", \"etc\", \"etc\", \"even\", \"everi\", \"excel\", \"excel\", \"excel\", \"excel\", \"exist\", \"exist\", \"exist\", \"expertiseregardingdata\", \"fargo\", \"fee\", \"ferrovial\", \"fill\", \"financial\", \"financial\", \"financial\", \"five\", \"five\", \"five\", \"fraud\", \"fraud\", \"fuel\", \"functional\", \"functional\", \"functional\", \"functional\", \"fund\", \"game\", \"generate\", \"generate\", \"generate\", \"global\", \"global\", \"global\", \"grow\", \"grow\", \"growing\", \"growing\", \"growing\", \"happiness\", \"happiness\", \"happy\", \"happy\", \"headhunter\", \"help\", \"help\", \"help\", \"hhs\", \"hostway\", \"http\", \"http\", \"http\", \"hub\", \"hub\", \"ia\", \"iam\", \"ibm\", \"identify\", \"identify\", \"identify\", \"identify\", \"impactful\", \"implementation\", \"implementation\", \"implementation\", \"implementation\", \"implementdatabases\", \"implementingdata\", \"inference\", \"information\", \"information\", \"information\", \"information\", \"insight\", \"insight\", \"insight\", \"insight\", \"intern\", \"interview\", \"interview\", \"inventory\", \"inventory\", \"inventory\", \"investment\", \"investment\", \"investment\", \"invision\", \"irving\", \"itccs\", \"key\", \"key\", \"key\", \"key\", \"license\", \"license\", \"limitation\", \"loan\", \"main\", \"mainstreethub\", \"maintain\", \"maintain\", \"maintain\", \"management\", \"management\", \"management\", \"management\", \"marketing\", \"marketing\", \"marketing\", \"marketing\", \"may\", \"may\", \"may\", \"may\", \"meal\", \"method\", \"method\", \"method\", \"method\", \"model\", \"model\", \"model\", \"model\", \"moines\", \"nc\", \"need\", \"need\", \"need\", \"need\", \"netsuite\", \"new\", \"new\", \"new\", \"new\", \"nonprofit\", \"north\", \"north\", \"operations\", \"operations\", \"operations\", \"opinion\", \"opportunity\", \"opportunity\", \"opportunity\", \"opportunity\", \"optimize\", \"optimize\", \"peak\", \"peims\", \"performer\", \"pimco\", \"pipeline\", \"pipeline\", \"plan\", \"plan\", \"plan\", \"plan\", \"planning\", \"planning\", \"planning\", \"planning\", \"portfolio\", \"portfolio\", \"portfolio\", \"portray\", \"potential\", \"potential\", \"potential\", \"potential\", \"prioritizebusiness\", \"problem\", \"problem\", \"problem\", \"problem\", \"procedure\", \"procedure\", \"procedure\", \"process\", \"process\", \"process\", \"process\", \"product\", \"product\", \"product\", \"product\", \"program\", \"program\", \"program\", \"program\", \"project\", \"project\", \"project\", \"project\", \"property\", \"public\", \"public\", \"public\", \"quantitative\", \"quantitative\", \"quite\", \"r12\", \"reason\", \"recruit\", \"recruit\", \"recruit\", \"recruitment\", \"recruitment\", \"relate\", \"relate\", \"relate\", \"relate\", \"report\", \"report\", \"report\", \"report\", \"reporting\", \"reporting\", \"reporting\", \"research\", \"research\", \"research\", \"research\", \"responsibility\", \"responsibility\", \"responsibility\", \"responsibility\", \"result\", \"result\", \"result\", \"retention\", \"retiree\", \"retirement\", \"retirement\", \"review\", \"review\", \"review\", \"review\", \"role\", \"role\", \"role\", \"role\", \"sales\", \"sales\", \"sales\", \"selection\", \"selection\", \"since\", \"skilled\", \"skilled\", \"slogan\", \"software\", \"software\", \"software\", \"software\", \"solution\", \"solution\", \"solution\", \"solution\", \"source\", \"source\", \"source\", \"specification\", \"specification\", \"specification\", \"speech\", \"sql\", \"sql\", \"sql\", \"state\", \"state\", \"state\", \"state\", \"statewide\", \"statistical\", \"statistical\", \"statistical\", \"statistical\", \"street\", \"street\", \"strong\", \"strong\", \"strong\", \"student\", \"student\", \"success\", \"success\", \"success\", \"suggestion\", \"support\", \"support\", \"support\", \"support\", \"sustain\", \"sustain\", \"sustain\", \"system\", \"system\", \"system\", \"system\", \"tceq\", \"technical\", \"technical\", \"technical\", \"technical\", \"technique\", \"technique\", \"technique\", \"technique\", \"testing\", \"testing\", \"testing\", \"testing\", \"tethr\", \"texas\", \"texas\", \"texas\", \"texas\", \"text\", \"text\", \"things\", \"things\", \"three\", \"three\", \"three\", \"tm\", \"tool\", \"tool\", \"tool\", \"transcend\", \"trend\", \"trend\", \"trend\", \"turn\", \"unit\", \"unit\", \"unit\", \"use\", \"use\", \"use\", \"use\", \"user\", \"user\", \"user\", \"user\", \"using\", \"using\", \"using\", \"value\", \"value\", \"value\", \"value\", \"vcg\", \"veteran\", \"veteran\", \"veteran\", \"veteran\", \"vista\", \"vital\", \"vital\", \"volume\", \"volume\", \"w2\", \"wear\", \"wells\", \"west\", \"wholesale\", \"workday\", \"working\", \"working\", \"working\", \"www\", \"www\", \"www\", \"zerocater\"]}, \"R\": 30, \"lambda.step\": 0.01, \"plot.opts\": {\"xlab\": \"PC1\", \"ylab\": \"PC2\"}, \"topic.order\": [1, 3, 4, 2]};\n",
       "\n",
       "function LDAvis_load_lib(url, callback){\n",
       "  var s = document.createElement('script');\n",
       "  s.src = url;\n",
       "  s.async = true;\n",
       "  s.onreadystatechange = s.onload = callback;\n",
       "  s.onerror = function(){console.warn(\"failed to load library \" + url);};\n",
       "  document.getElementsByTagName(\"head\")[0].appendChild(s);\n",
       "}\n",
       "\n",
       "if(typeof(LDAvis) !== \"undefined\"){\n",
       "   // already loaded: just create the visualization\n",
       "   !function(LDAvis){\n",
       "       new LDAvis(\"#\" + \"ldavis_el836246534734887579544029\", ldavis_el836246534734887579544029_data);\n",
       "   }(LDAvis);\n",
       "}else if(typeof define === \"function\" && define.amd){\n",
       "   // require.js is available: use it to load d3/LDAvis\n",
       "   require.config({paths: {d3: \"https://cdnjs.cloudflare.com/ajax/libs/d3/3.5.5/d3.min\"}});\n",
       "   require([\"d3\"], function(d3){\n",
       "      window.d3 = d3;\n",
       "      LDAvis_load_lib(\"https://cdn.rawgit.com/bmabey/pyLDAvis/files/ldavis.v1.0.0.js\", function(){\n",
       "        new LDAvis(\"#\" + \"ldavis_el836246534734887579544029\", ldavis_el836246534734887579544029_data);\n",
       "      });\n",
       "    });\n",
       "}else{\n",
       "    // require.js not available: dynamically load d3 & LDAvis\n",
       "    LDAvis_load_lib(\"https://cdnjs.cloudflare.com/ajax/libs/d3/3.5.5/d3.min.js\", function(){\n",
       "         LDAvis_load_lib(\"https://cdn.rawgit.com/bmabey/pyLDAvis/files/ldavis.v1.0.0.js\", function(){\n",
       "                 new LDAvis(\"#\" + \"ldavis_el836246534734887579544029\", ldavis_el836246534734887579544029_data);\n",
       "            })\n",
       "         });\n",
       "}\n",
       "</script>"
      ],
      "text/plain": [
       "<IPython.core.display.HTML object>"
      ]
     },
     "execution_count": 54,
     "metadata": {},
     "output_type": "execute_result"
    }
   ],
   "source": [
    "lda_display = pyLDAvis.gensim.prepare(lda, corpus, dictionary)\n",
    "pyLDAvis.display(lda_display)"
   ]
  },
  {
   "cell_type": "markdown",
   "metadata": {},
   "source": [
    "## 5 Topic Visualization"
   ]
  },
  {
   "cell_type": "code",
   "execution_count": 55,
   "metadata": {},
   "outputs": [],
   "source": [
    "dictionary = gensim.corpora.Dictionary.load('dictionary_da.gensim')\n",
    "corpus = pickle.load(open(file='corpus_da.pkl', mode='rb'))  # 'rb' --> Read Bytes\n",
    "lda = gensim.models.ldamodel.LdaModel.load('model5_da.gensim')"
   ]
  },
  {
   "cell_type": "code",
   "execution_count": 56,
   "metadata": {},
   "outputs": [
    {
     "data": {
      "text/html": [
       "\n",
       "<link rel=\"stylesheet\" type=\"text/css\" href=\"https://cdn.rawgit.com/bmabey/pyLDAvis/files/ldavis.v1.0.0.css\">\n",
       "\n",
       "\n",
       "<div id=\"ldavis_el836247397760884205715808\"></div>\n",
       "<script type=\"text/javascript\">\n",
       "\n",
       "var ldavis_el836247397760884205715808_data = {\"mdsDat\": {\"Freq\": [33.319666809374944, 28.41562538118022, 18.385030875630566, 11.745763533271353, 8.13391340054292], \"cluster\": [1, 1, 1, 1, 1], \"topics\": [1, 2, 3, 4, 5], \"x\": [0.039578487098215834, -0.2233717953170408, -0.01508309054696561, 0.10272993653506875, 0.09614646223072165], \"y\": [-0.02725297203465682, 0.040243724332089365, -0.10005095461859355, 0.028607432119407892, 0.058452770201753115]}, \"tinfo\": {\"Category\": [\"Default\", \"Default\", \"Default\", \"Default\", \"Default\", \"Default\", \"Default\", \"Default\", \"Default\", \"Default\", \"Default\", \"Default\", \"Default\", \"Default\", \"Default\", \"Default\", \"Default\", \"Default\", \"Default\", \"Default\", \"Default\", \"Default\", \"Default\", \"Default\", \"Default\", \"Default\", \"Default\", \"Default\", \"Default\", \"Default\", \"Topic1\", \"Topic1\", \"Topic1\", \"Topic1\", \"Topic1\", \"Topic1\", \"Topic1\", \"Topic1\", \"Topic1\", \"Topic1\", \"Topic1\", \"Topic1\", \"Topic1\", \"Topic1\", \"Topic1\", \"Topic1\", \"Topic1\", \"Topic1\", \"Topic1\", \"Topic1\", \"Topic1\", \"Topic1\", \"Topic1\", \"Topic1\", \"Topic1\", \"Topic1\", \"Topic1\", \"Topic1\", \"Topic1\", \"Topic1\", \"Topic1\", \"Topic1\", \"Topic1\", \"Topic1\", \"Topic1\", \"Topic1\", \"Topic1\", \"Topic1\", \"Topic1\", \"Topic1\", \"Topic1\", \"Topic1\", \"Topic1\", \"Topic1\", \"Topic1\", \"Topic1\", \"Topic1\", \"Topic1\", \"Topic1\", \"Topic1\", \"Topic1\", \"Topic1\", \"Topic1\", \"Topic1\", \"Topic1\", \"Topic1\", \"Topic1\", \"Topic1\", \"Topic1\", \"Topic1\", \"Topic1\", \"Topic1\", \"Topic1\", \"Topic1\", \"Topic1\", \"Topic1\", \"Topic1\", \"Topic1\", \"Topic1\", \"Topic1\", \"Topic1\", \"Topic1\", \"Topic1\", \"Topic1\", \"Topic1\", \"Topic1\", \"Topic1\", \"Topic1\", \"Topic2\", \"Topic2\", \"Topic2\", \"Topic2\", \"Topic2\", \"Topic2\", \"Topic2\", \"Topic2\", \"Topic2\", \"Topic2\", \"Topic2\", \"Topic2\", \"Topic2\", \"Topic2\", \"Topic2\", \"Topic2\", \"Topic2\", \"Topic2\", \"Topic2\", \"Topic2\", \"Topic2\", \"Topic2\", \"Topic2\", \"Topic2\", \"Topic2\", \"Topic2\", \"Topic2\", \"Topic2\", \"Topic2\", \"Topic2\", \"Topic2\", \"Topic2\", \"Topic2\", \"Topic2\", \"Topic2\", \"Topic2\", \"Topic2\", \"Topic2\", \"Topic2\", \"Topic2\", \"Topic2\", \"Topic2\", \"Topic2\", \"Topic2\", \"Topic2\", \"Topic2\", \"Topic2\", \"Topic2\", \"Topic2\", \"Topic2\", \"Topic2\", \"Topic2\", \"Topic2\", \"Topic2\", \"Topic2\", \"Topic2\", \"Topic2\", \"Topic2\", \"Topic2\", \"Topic2\", \"Topic2\", \"Topic2\", \"Topic2\", \"Topic2\", \"Topic2\", \"Topic2\", \"Topic2\", \"Topic2\", \"Topic2\", \"Topic2\", \"Topic2\", \"Topic2\", \"Topic2\", \"Topic2\", \"Topic2\", \"Topic2\", \"Topic2\", \"Topic2\", \"Topic2\", \"Topic3\", \"Topic3\", \"Topic3\", \"Topic3\", \"Topic3\", \"Topic3\", \"Topic3\", \"Topic3\", \"Topic3\", \"Topic3\", \"Topic3\", \"Topic3\", \"Topic3\", \"Topic3\", \"Topic3\", \"Topic3\", \"Topic3\", \"Topic3\", \"Topic3\", \"Topic3\", \"Topic3\", \"Topic3\", \"Topic3\", \"Topic3\", \"Topic3\", \"Topic3\", \"Topic3\", \"Topic3\", \"Topic3\", \"Topic3\", \"Topic3\", \"Topic3\", \"Topic3\", \"Topic3\", \"Topic3\", \"Topic3\", \"Topic3\", \"Topic3\", \"Topic3\", \"Topic3\", \"Topic3\", \"Topic3\", \"Topic3\", \"Topic3\", \"Topic3\", \"Topic3\", \"Topic3\", \"Topic3\", \"Topic3\", \"Topic3\", \"Topic3\", \"Topic3\", \"Topic3\", \"Topic3\", \"Topic3\", \"Topic3\", \"Topic3\", \"Topic3\", \"Topic3\", \"Topic3\", \"Topic3\", \"Topic3\", \"Topic3\", \"Topic3\", \"Topic3\", \"Topic3\", \"Topic3\", \"Topic3\", \"Topic3\", \"Topic3\", \"Topic3\", \"Topic3\", \"Topic3\", \"Topic3\", \"Topic3\", \"Topic3\", \"Topic3\", \"Topic4\", \"Topic4\", \"Topic4\", \"Topic4\", \"Topic4\", \"Topic4\", \"Topic4\", \"Topic4\", \"Topic4\", \"Topic4\", \"Topic4\", \"Topic4\", \"Topic4\", \"Topic4\", \"Topic4\", \"Topic4\", \"Topic4\", \"Topic4\", \"Topic4\", \"Topic4\", \"Topic4\", \"Topic4\", \"Topic4\", \"Topic4\", \"Topic4\", \"Topic4\", \"Topic4\", \"Topic4\", \"Topic4\", \"Topic4\", \"Topic4\", \"Topic4\", \"Topic4\", \"Topic4\", \"Topic4\", \"Topic4\", \"Topic4\", \"Topic4\", \"Topic4\", \"Topic4\", \"Topic4\", \"Topic4\", \"Topic4\", \"Topic4\", \"Topic4\", \"Topic4\", \"Topic4\", \"Topic4\", \"Topic4\", \"Topic4\", \"Topic4\", \"Topic4\", \"Topic4\", \"Topic4\", \"Topic4\", \"Topic4\", \"Topic4\", \"Topic4\", \"Topic4\", \"Topic4\", \"Topic4\", \"Topic4\", \"Topic4\", \"Topic4\", \"Topic4\", \"Topic4\", \"Topic4\", \"Topic4\", \"Topic4\", \"Topic4\", \"Topic4\", \"Topic4\", \"Topic4\", \"Topic4\", \"Topic4\", \"Topic4\", \"Topic4\", \"Topic5\", \"Topic5\", \"Topic5\", \"Topic5\", \"Topic5\", \"Topic5\", \"Topic5\", \"Topic5\", \"Topic5\", \"Topic5\", \"Topic5\", \"Topic5\", \"Topic5\", \"Topic5\", \"Topic5\", \"Topic5\", \"Topic5\", \"Topic5\", \"Topic5\", \"Topic5\", \"Topic5\", \"Topic5\", \"Topic5\", \"Topic5\", \"Topic5\", \"Topic5\", \"Topic5\", \"Topic5\", \"Topic5\", \"Topic5\", \"Topic5\", \"Topic5\", \"Topic5\", \"Topic5\", \"Topic5\", \"Topic5\", \"Topic5\", \"Topic5\", \"Topic5\", \"Topic5\", \"Topic5\", \"Topic5\", \"Topic5\", \"Topic5\", \"Topic5\", \"Topic5\", \"Topic5\", \"Topic5\", \"Topic5\", \"Topic5\", \"Topic5\", \"Topic5\", \"Topic5\", \"Topic5\", \"Topic5\", \"Topic5\", \"Topic5\", \"Topic5\", \"Topic5\", \"Topic5\", \"Topic5\", \"Topic5\", \"Topic5\", \"Topic5\", \"Topic5\", \"Topic5\", \"Topic5\", \"Topic5\", \"Topic5\", \"Topic5\", \"Topic5\"], \"Freq\": [615.0, 500.0, 104.0, 95.0, 63.0, 150.0, 57.0, 57.0, 99.0, 45.0, 57.0, 94.0, 66.0, 64.0, 25.0, 666.0, 77.0, 121.0, 71.0, 82.0, 51.0, 36.0, 101.0, 56.0, 115.0, 20.0, 80.0, 76.0, 55.0, 64.0, 22.8415071183961, 15.29055601608297, 13.368142710826268, 11.50857526744422, 13.275847885378017, 16.812392321390767, 11.488560805119612, 10.572002859283371, 10.572047327391884, 10.57162364498385, 10.568503468565835, 8.68504217595984, 8.685173792584624, 8.683657065433536, 8.681621932080159, 16.475758232938393, 7.740579272242469, 7.740498758500463, 7.740339941727879, 7.740269021772, 7.739916027012249, 7.739864583291198, 7.739854421974437, 7.739612470106013, 7.739582551078482, 7.739558991023862, 7.73934601193829, 7.73932365712446, 7.739107493657086, 7.7390455363955795, 15.290402915832619, 58.501603097017245, 14.234122135024455, 72.25012353575106, 18.121416525597965, 39.030583751283615, 15.508874340236881, 18.983734270363883, 28.789787866437898, 15.289659201007042, 11.513587536441335, 47.5112034303568, 52.423369877304346, 349.24246711869773, 92.11643219204815, 16.23343059375333, 66.14440995316824, 23.868851981808767, 34.93584735186871, 33.0418303635542, 42.801296767362665, 37.735252123258164, 41.247219085897356, 33.16095647794152, 29.674332366918193, 95.65215305975971, 91.27202866230611, 44.44145491545573, 44.49361343243857, 27.61924538092672, 186.8253771157213, 39.455767621812896, 37.07018164866484, 69.23547779597926, 38.96220951572528, 29.287225081171997, 62.375577636986456, 76.84070012622111, 87.7720819456977, 47.57159960027448, 61.20933927879267, 55.55871465367067, 88.44627860139491, 54.942145922402325, 38.328915680736486, 42.92522364091954, 39.158551949813905, 38.62547408353436, 56.48525780246922, 56.480715605114675, 45.22573408135483, 23.29980129105218, 15.20519150685457, 11.45596346769045, 11.450343766279484, 11.44940758248302, 11.449224028509725, 11.448893007360233, 11.44893647337994, 11.448727352127952, 11.448440635759152, 11.448230886751876, 11.4482468941208, 11.448179406307533, 11.448152482002698, 11.448195809376635, 11.447954855686893, 11.447879777032561, 11.447663669076874, 11.447447117042866, 11.447114194680337, 11.446992115169829, 11.446934000429756, 11.447006334063587, 11.446784341966891, 11.446878329281509, 11.4468735727012, 11.44631916513135, 23.602936684831896, 40.54373652885432, 36.10337907464221, 45.77025173185628, 23.982976842265664, 23.942429028336395, 23.063288989222443, 15.66454706891103, 14.783617828984832, 22.774492932656198, 12.27544349606776, 35.50094036239434, 47.29863626121272, 49.24105133358614, 345.7883833664871, 53.01453079466969, 36.70385275575346, 45.89401596558146, 12.243906945522605, 35.08434964156923, 86.58833554200741, 71.01828647258894, 62.30626338829521, 28.072350559629417, 78.88152562109467, 39.794858040111784, 34.78871223188963, 331.82984630300757, 184.2712685642841, 37.91693969539008, 72.56762809010029, 49.328292287692996, 51.75046829841557, 48.3219988290108, 116.28588013103042, 72.13472660242705, 49.258348046859865, 104.84251354210345, 49.61066641455315, 48.51849465080353, 74.03761610100905, 78.32097605941922, 63.294634141147135, 54.40887898377275, 55.03017086534589, 62.14004551101624, 52.32201393945044, 50.49590391434405, 48.22945350087791, 10.022356127267065, 8.234136103429842, 12.328527738832971, 7.346225923447634, 7.344772431731232, 11.420930807547276, 7.287484592288362, 6.4589829490198465, 6.457394228830389, 5.56243014768941, 5.561719666725428, 5.560603214469707, 5.5605044647017365, 5.53570313235596, 5.531351977891093, 4.66504012735901, 4.664915192038772, 4.664453995742947, 4.663025515549705, 4.662986564320306, 4.661063235400801, 4.659415574265421, 4.655079890178301, 4.652874054519654, 4.65192269343675, 4.651732886632106, 9.14582717644629, 10.030646603078997, 8.254431671533426, 10.467512109542444, 19.38401792576973, 12.361109988029337, 8.249340180115253, 8.956292717491362, 5.959427592806049, 15.834408996238384, 13.540995296229971, 12.839651737081406, 6.444085179611686, 48.57255424040912, 13.092407747014905, 37.997554452178896, 20.839695751220752, 36.28521442888829, 13.372574099736648, 16.9650757965285, 36.79987168121509, 11.467147251005587, 10.360905693864176, 32.0471291724746, 22.704486071593692, 109.08734542490859, 54.63131486523857, 56.44454169914837, 14.871200531958413, 47.76128823899246, 23.105841546188955, 82.23945676033118, 27.426598314207382, 20.067549868554135, 29.95584792101899, 24.20867865618054, 28.138514030837467, 41.41914045932379, 36.99605605270884, 47.96942860659481, 24.52141822512982, 24.898575597328854, 30.189496344528802, 26.582119218549074, 24.223978498900475, 22.596436246724235, 26.38547398687346, 23.641108458936746, 22.22777104121591, 22.356175301235147, 21.30168817868479, 7.043064003934704, 7.037950468915081, 6.1996199480822565, 6.1903477926982715, 23.10980588253527, 5.345939000871153, 4.484930304891087, 4.484330862981911, 4.409731464723805, 3.621138839479795, 3.621049250044255, 3.5943116975409115, 3.5823581730821132, 7.904115140478626, 3.553631484408707, 3.536574613763258, 7.07027930958519, 2.759805497729161, 2.759678863465217, 2.759483662397472, 2.7595290281168863, 2.7582530243887966, 2.757718714490527, 2.757555118704929, 2.7561147590523456, 2.7548799666975263, 3.4426443256698884, 2.7391356637739475, 2.7313696311892133, 2.7284811310744024, 6.13052039747785, 8.797842242651427, 5.3317033579911595, 7.005157384696473, 10.418191990237206, 37.238400006166636, 8.386477605485506, 43.93850161988858, 5.952892432060889, 15.303138359441025, 8.111356784592104, 42.55709710045399, 7.050369991818582, 30.472632399857122, 6.161194164026461, 5.337763318926426, 7.58482512703386, 6.918406980107227, 77.49662193373078, 17.189838415856705, 14.005260016556447, 28.6775847515002, 13.320111892123522, 25.337375821208163, 12.670591372945434, 18.612441411726383, 20.577706846387734, 15.378650142601952, 13.505231688341846, 29.96135369617436, 16.6303162357767, 24.314361307701414, 15.462069769903321, 16.330735186181244, 16.63429225727097, 37.49966395599221, 13.983368776935281, 11.817400415771331, 11.416460383540835, 10.677011304015354, 14.387373541710662, 13.211250416481962, 16.07090210308689, 15.881272585761149, 14.38168661116218, 14.428019964328938, 13.86173029051816, 8.784906072845558, 7.245707793491274, 7.245591977723899, 6.4569978511240445, 5.667744632373607, 4.88253896486966, 4.88207908712008, 4.882064689302706, 4.079396189224457, 4.0739664654778736, 3.3079145135304473, 3.3078339025920807, 3.3078394853204, 3.3077972332964145, 3.3076844733469533, 3.307584212700512, 3.3075046123177745, 3.30714722082791, 3.3070539649160478, 3.3065878529035486, 3.3063349140920866, 2.5202028139922024, 2.520028726588544, 2.5199777474731833, 2.5193376038838307, 2.5189249601937904, 15.118383812004772, 4.094203001568594, 1.7329408719996968, 1.7328930679118193, 5.6672655837237915, 2.2569578352562685, 4.689003909189991, 5.152234774584657, 4.093960882735483, 8.786654491310049, 4.092954866757369, 12.415658963062366, 6.514415581342918, 25.85959685723492, 17.926432257602915, 7.201970739493439, 42.63994756827208, 12.685188086603322, 6.450692930457041, 4.878588255346687, 5.667670599396487, 27.71140661261939, 8.801122090243151, 8.132601924005147, 16.274142659371346, 12.211615450627354, 10.475873119513729, 6.460132777387958, 10.11678131838872, 10.02750981521504, 9.835832547471284, 8.83056177528283, 10.062188118030534, 9.598475393242895, 8.824976836903488, 8.163295655303006, 9.357305092652517, 10.399319762498086, 11.200204128654706, 9.549078685073036, 8.801490116626729, 7.994806020830677, 7.925051594969909, 7.859526183594379, 7.936206393095185], \"Term\": [\"data\", \"system\", \"analytics\", \"company\", \"marketing\", \"customer\", \"performer\", \"peak\", \"reporting\", \"er\", \"drive\", \"product\", \"sales\", \"sql\", \"digital\", \"business\", \"responsibility\", \"document\", \"analytical\", \"texas\", \"retirement\", \"success\", \"software\", \"unit\", \"may\", \"fraud\", \"strong\", \"procedure\", \"insight\", \"exist\", \"tm\", \"celebrate\", \"netsuite\", \"volume\", \"throughout\", \"inventory\", \"epicor\", \"bazaarvoice\", \"clinical\", \"fuel\", \"csa\", \"everi\", \"iam\", \"turn\", \"wholesale\", \"happy\", \"catchy\", \"prioritizebusiness\", \"quite\", \"wear\", \"implementingdata\", \"acquiringdata\", \"slogan\", \"implementdatabases\", \"expertiseregardingdata\", \"thing\", \"borrower\", \"shirt\", \"closing\", \"mantra\", \"happiness\", \"sales\", \"warehouse\", \"database\", \"000\", \"2\", \"generate\", \"grow\", \"etc\", \"loan\", \"cash\", \"using\", \"statistical\", \"data\", \"report\", \"carry\", \"reporting\", \"source\", \"excel\", \"trend\", \"sql\", \"insight\", \"maintain\", \"technique\", \"issue\", \"information\", \"management\", \"responsibility\", \"strong\", \"access\", \"business\", \"degree\", \"tool\", \"analyze\", \"working\", \"collection\", \"analyst\", \"analysis\", \"process\", \"relate\", \"support\", \"need\", \"system\", \"project\", \"service\", \"identify\", \"develop\", \"new\", \"performer\", \"peak\", \"er\", \"fee\", \"decomposition\", \"clustering\", \"reason\", \"comment\", \"limitation\", \"covering\", \"dependent\", \"opinion\", \"aim\", \"aca\", \"emphasizing\", \"transcend\", \"suggestion\", \"portray\", \"45\", \"nonprofit\", \"depict\", \"1994\", \"curriculum\", \"retiree\", \"avoid\", \"1947\", \"attain\", \"headhunter\", \"workday\", \"subunit\", \"skilled\", \"specification\", \"direction\", \"retirement\", \"elicit\", \"recruitment\", \"sustain\", \"text\", \"acceptance\", \"recruit\", \"inference\", \"three\", \"unit\", \"effort\", \"system\", \"exist\", \"case\", \"collaborate\", \"concern\", \"five\", \"document\", \"agency\", \"functional\", \"potential\", \"user\", \"testing\", \"automate\", \"business\", \"process\", \"determine\", \"may\", \"define\", \"procedure\", \"review\", \"project\", \"design\", \"planning\", \"analysis\", \"area\", \"employee\", \"analyze\", \"support\", \"need\", \"use\", \"identify\", \"information\", \"management\", \"analyst\", \"role\", \"hhs\", \"invision\", \"mainstreethub\", \"conducting\", \"commission\", \"main\", \"educational\", \"itccs\", \"certify\", \"environmental\", \"copy\", \"zerocater\", \"meal\", \"affairs\", \"blog\", \"peims\", \"tceq\", \"property\", \"epidemiologic\", \"dm\", \"auditor\", \"twc\", \"fill\", \"biztech\", \"retention\", \"darby\", \"vital\", \"selection\", \"student\", \"street\", \"license\", \"complete\", \"13\", \"asset\", \"indicate\", \"certification\", \"staff\", \"accommodation\", \"line\", \"software\", \"contact\", \"texas\", \"method\", \"state\", \"current\", \"public\", \"application\", \"9\", \"10\", \"plan\", \"research\", \"data\", \"management\", \"project\", \"www\", \"information\", \"operations\", \"business\", \"technical\", \"veteran\", \"use\", \"program\", \"relate\", \"process\", \"analysis\", \"system\", \"client\", \"development\", \"support\", \"customer\", \"may\", \"must\", \"need\", \"report\", \"new\", \"analyst\", \"analyze\", \"interest\", \"cover\", \"dimensional\", \"transit\", \"digital\", \"cray\", \"zynga\", \"affinipay\", \"hostway\", \"lending\", \"india\", \"explanation\", \"facing\", \"top\", \"pimco\", \"proprietary\", \"fund\", \"finding\", \"knit\", \"living\", \"supercomputing\", \"letter\", \"philosophy\", \"entrepreneurial\", \"intellectual\", \"iad\", \"statesman\", \"soluta\", \"indeed\", \"integral\", \"ownership\", \"game\", \"r\", \"attitude\", \"campaign\", \"marketing\", \"love\", \"company\", \"google\", \"large\", \"consultant\", \"analytics\", \"fun\", \"product\", \"math\", \"would\", \"automation\", \"player\", \"data\", \"drive\", \"science\", \"customer\", \"us\", \"opportunity\", \"success\", \"responsibility\", \"client\", \"across\", \"modeling\", \"analysis\", \"analytical\", \"analyst\", \"sql\", \"time\", \"strong\", \"business\", \"financial\", \"fast\", \"deliver\", \"get\", \"reporting\", \"create\", \"support\", \"process\", \"need\", \"system\", \"project\", \"emerson\", \"wells\", \"fargo\", \"cybercrime\", \"speech\", \"attack\", \"nc\", \"intern\", \"11i\", \"r12\", \"des\", \"irving\", \"ia\", \"west\", \"charlotte\", \"moines\", \"cao\", \"tethr\", \"ferrovial\", \"bitbucket\", \"constantly\", \"blvd\", \"atlassian\", \"threat\", \"unravel\", \"never\", \"fraud\", \"impactful\", \"saint\", \"ave\", \"north\", \"terminal\", \"vista\", \"engineer\", \"enjoy\", \"oracle\", \"things\", \"success\", \"pipeline\", \"customer\", \"analytics\", \"global\", \"data\", \"drive\", \"payment\", \"together\", \"america\", \"business\", \"help\", \"deliver\", \"support\", \"reporting\", \"analytical\", \"question\", \"problem\", \"solution\", \"technical\", \"tool\", \"role\", \"product\", \"environment\", \"build\", \"company\", \"analyst\", \"analysis\", \"development\", \"new\", \"multiple\", \"intelligence\", \"level\", \"use\"], \"Total\": [615.0, 500.0, 104.0, 95.0, 63.0, 150.0, 57.0, 57.0, 99.0, 45.0, 57.0, 94.0, 66.0, 64.0, 25.0, 666.0, 77.0, 121.0, 71.0, 82.0, 51.0, 36.0, 101.0, 56.0, 115.0, 20.0, 80.0, 76.0, 55.0, 64.0, 23.560445501839396, 16.002524875210618, 14.111099416474334, 12.222942947320089, 14.106668373723817, 17.873067163432047, 12.21952212769523, 11.278834785002323, 11.27894719005509, 11.278771609250077, 11.278845755419935, 9.389064748126026, 9.389390530033088, 9.38939595698685, 9.389185789634375, 17.857091386010268, 8.444774804612466, 8.444783197947308, 8.444749401864252, 8.444739582843454, 8.444673765835528, 8.444694860956469, 8.444703982672142, 8.444677543064001, 8.444717648108679, 8.444737744390398, 8.444687619523405, 8.444726643488684, 8.444679323332181, 8.444671833440745, 16.86593169612591, 66.70584733101484, 15.840649492432687, 88.37906399885655, 20.63129800922149, 47.22401517930986, 17.70823000235794, 22.36471612933412, 35.37346563456591, 17.729396915716613, 13.120809872047055, 63.797612163076515, 71.54727134731087, 615.1325407671484, 137.87668726747606, 19.423548639713054, 99.7938226447447, 30.588338358147542, 48.96878742079164, 45.9910260615538, 64.47747936082023, 55.30721704698038, 62.5993399918944, 47.87004544404283, 42.53732470803628, 218.14322797724154, 208.77504987584484, 77.64904901241998, 80.50670583358647, 40.627411778769286, 666.1057507476717, 68.86134630886724, 63.15648469422741, 172.13250853036496, 70.69402631547004, 45.00859921426686, 169.94133792276514, 259.84082754586245, 335.25610426465084, 117.92701018551797, 202.06485644519893, 166.56019408074067, 500.8187370600891, 248.78106859450816, 76.62427821535147, 130.89674451554083, 95.41414550458963, 117.86805532555238, 57.27144008531357, 57.27127926520985, 45.99452973072148, 24.3823152075578, 15.9228923414356, 12.164142340749734, 12.163884143768435, 12.163863669333097, 12.163757954250835, 12.163784158301343, 12.163876441160268, 12.163811543479781, 12.163890105116646, 12.163766769803457, 12.163786292861046, 12.163813335188577, 12.163809417503213, 12.163934029751433, 12.163709484923954, 12.163713595752924, 12.163858823070655, 12.163792662904948, 12.163579646339008, 12.163752426665587, 12.163709860301777, 12.163844566891745, 12.163659087740253, 12.163809657148539, 12.163809551133356, 12.163767407622116, 25.32489701062759, 44.88005623098769, 40.138272903067, 51.40059293344501, 26.242251245122123, 26.264342099685173, 25.28164108149529, 16.86564413139697, 15.891230009035644, 25.204668778314712, 13.098621768732398, 41.20147935293099, 56.32877146657673, 59.34193954437526, 500.8187370600891, 64.59939119538565, 44.25377582581907, 56.845344946177995, 13.104372229429973, 43.30936047885878, 121.7075858332787, 97.40037037454155, 85.79306514350164, 34.11391257342147, 114.23781404466484, 51.70306385691655, 44.61435838907401, 666.1057507476717, 335.25610426465084, 50.12976966959372, 115.07761837605375, 70.88287847077825, 76.2417746661115, 70.66754582052792, 248.78106859450816, 130.50448565978337, 76.52625151713585, 259.84082754586245, 78.73557618985527, 77.55836828603974, 172.13250853036496, 202.06485644519893, 166.56019408074067, 120.47784099681083, 130.89674451554083, 218.14322797724154, 208.77504987584484, 169.94133792276514, 106.08709244600774, 10.76226727825333, 8.968027708860518, 13.440983518101246, 8.069312813384464, 8.06918253178181, 12.54763605184965, 8.06665704853546, 7.171606556263774, 7.171635156165008, 6.273824722441662, 6.273826380293898, 6.27386689046385, 6.273831758557697, 6.274986635662077, 6.273010092647894, 5.375978560492007, 5.375965595226934, 5.376106155326705, 5.375822036405399, 5.375877530023137, 5.375941408410964, 5.37594680969865, 5.375693736823777, 5.37643272318866, 5.375831237699257, 5.375656390770442, 10.653364783537677, 11.707260209545092, 9.757324208927574, 12.431843638553476, 23.500655506894898, 14.992216881046533, 9.831000020454118, 10.819918813445446, 7.11410390222064, 22.58045576984544, 18.92285675275604, 18.127726182752227, 8.035195305459695, 101.22345781292294, 19.721060265749383, 82.59780500399854, 38.59003931481806, 88.57016390329849, 21.719292897144896, 31.03933773619004, 95.53441782154246, 17.90733824389002, 15.468685081888317, 81.58308011821083, 50.82683739490557, 615.1325407671484, 208.77504987584484, 248.78106859450816, 27.232201137268753, 218.14322797724154, 63.7621809053547, 666.1057507476717, 89.35197288388349, 51.61753592319302, 120.47784099681083, 78.72160283811651, 117.92701018551797, 335.25610426465084, 259.84082754586245, 500.8187370600891, 100.54838853773508, 114.0084768949075, 202.06485644519893, 150.2617007067738, 115.07761837605375, 93.92949288431285, 166.56019408074067, 137.87668726747606, 117.86805532555238, 169.94133792276514, 172.13250853036496, 7.796953576006965, 7.797923571259052, 6.932290479340277, 6.9329435253793035, 25.957535750474428, 6.0678056452831255, 5.20418892204135, 5.204225299934642, 5.197656072817559, 4.340918458698264, 4.3408591427834216, 4.342332320779508, 4.3444769825916785, 9.603925101172484, 4.334835126647281, 4.344141889708377, 8.739594381608448, 3.477202488247807, 3.4772329672918163, 3.4772415694483225, 3.4773321565358475, 3.477500297026828, 3.4775284200241012, 3.477487396351596, 3.4776602026588543, 3.477842102021609, 4.348429650351739, 3.479127475880597, 3.479887001928552, 3.478287808492135, 7.882301314686915, 11.410983544506431, 6.855471818793748, 9.540409788319872, 15.01783454388851, 63.419279230126946, 12.83774972714377, 95.62766493445937, 8.844475345675564, 28.04699904569232, 13.140489335228228, 104.51092595586034, 11.262804186291367, 94.56521469340042, 9.613803623050265, 7.946951119881108, 13.613196962803814, 12.324806478107185, 615.1325407671484, 57.09479090445977, 42.04908542149013, 150.2617007067738, 38.53633519177889, 124.54896904561025, 36.66413134140912, 77.64904901241998, 100.54838853773508, 59.53264215304742, 45.34694865779495, 259.84082754586245, 71.640721703168, 169.94133792276514, 64.47747936082023, 74.1207524352118, 80.50670583358647, 666.1057507476717, 51.86767096645966, 34.79794302941655, 35.721268606444966, 30.467414491187544, 99.7938226447447, 73.68688342054814, 202.06485644519893, 335.25610426465084, 166.56019408074067, 500.8187370600891, 248.78106859450816, 9.570006062476375, 7.985600409184849, 7.985621838005243, 7.1968208226227475, 6.408731310323192, 5.619303715198198, 5.619537069106252, 5.6195820185099725, 4.8337230533788755, 4.834814820690094, 4.041851494691498, 4.041884807159087, 4.041903638898711, 4.041872703017586, 4.041906366361638, 4.041937589691294, 4.0419253991212445, 4.042089969111638, 4.042056958715543, 4.0420068989599045, 4.04202270517771, 3.253139705190707, 3.2531386330973433, 3.253113490053181, 3.2531973369276166, 3.2533056468788444, 20.22432892440632, 5.6942244083066775, 2.464358035393807, 2.464366826135427, 8.29828192797567, 3.278214110017327, 7.364643420321462, 9.211512566906723, 6.639450709332159, 20.90626300727044, 6.718990287853464, 36.66413134140912, 14.26118239756131, 150.2617007067738, 104.51092595586034, 18.193647864430822, 615.1325407671484, 57.09479090445977, 15.366751466119595, 9.237000367240984, 13.966581920372148, 666.1057507476717, 43.23578853387943, 35.721268606444966, 202.06485644519893, 99.7938226447447, 71.640721703168, 21.019008024087125, 97.01443182330594, 94.64642152152946, 89.35197288388349, 63.15648469422741, 106.08709244600774, 94.56521469340042, 69.13782614971926, 50.94591630189244, 95.62766493445937, 169.94133792276514, 259.84082754586245, 114.0084768949075, 117.86805532555238, 49.945415882792034, 49.58656441379791, 63.52585427093379, 120.47784099681083], \"loglift\": [30.0, 29.0, 28.0, 27.0, 26.0, 25.0, 24.0, 23.0, 22.0, 21.0, 20.0, 19.0, 18.0, 17.0, 16.0, 15.0, 14.0, 13.0, 12.0, 11.0, 10.0, 9.0, 8.0, 7.0, 6.0, 5.0, 4.0, 3.0, 2.0, 1.0, 1.068, 1.0535, 1.0449, 1.0388, 1.0383, 1.0378, 1.0373, 1.0343, 1.0343, 1.0343, 1.034, 1.0211, 1.0211, 1.0209, 1.0207, 1.0185, 1.012, 1.0119, 1.0119, 1.0119, 1.0119, 1.0119, 1.0119, 1.0118, 1.0118, 1.0118, 1.0118, 1.0118, 1.0118, 1.0118, 1.001, 0.9678, 0.9921, 0.8975, 0.9693, 0.9085, 0.9664, 0.9351, 0.8931, 0.951, 0.9684, 0.8043, 0.788, 0.533, 0.6957, 0.9196, 0.6878, 0.851, 0.7614, 0.7684, 0.6893, 0.7167, 0.6819, 0.7319, 0.7389, 0.2746, 0.2716, 0.541, 0.506, 0.7131, -0.1723, 0.5421, 0.5662, 0.1883, 0.5033, 0.6693, 0.0967, -0.1193, -0.2411, 0.1912, -0.0953, 0.0011, -0.6348, -0.4113, 0.4063, -0.0159, 0.2084, -0.0166, 1.2444, 1.2443, 1.2414, 1.2128, 1.2121, 1.1982, 1.1978, 1.1977, 1.1977, 1.1977, 1.1977, 1.1976, 1.1976, 1.1976, 1.1976, 1.1976, 1.1976, 1.1976, 1.1976, 1.1976, 1.1975, 1.1975, 1.1975, 1.1975, 1.1975, 1.1975, 1.1975, 1.1975, 1.1975, 1.1974, 1.1878, 1.1566, 1.1523, 1.1422, 1.1682, 1.1657, 1.1664, 1.1844, 1.186, 1.1568, 1.1933, 1.1093, 1.0835, 1.0716, 0.8878, 1.0606, 1.0712, 1.0442, 1.1903, 1.0476, 0.9178, 0.9423, 0.9384, 1.0633, 0.8879, 0.9965, 1.0095, 0.5614, 0.6597, 0.979, 0.7971, 0.8957, 0.8708, 0.8781, 0.4977, 0.6654, 0.8177, 0.3506, 0.7963, 0.7891, 0.4145, 0.3105, 0.2907, 0.4633, 0.3917, 0.0025, -0.1256, 0.0447, 0.4699, 1.6224, 1.6083, 1.6072, 1.5998, 1.5996, 1.5995, 1.5921, 1.589, 1.5887, 1.5733, 1.5732, 1.5729, 1.5729, 1.5683, 1.5678, 1.5518, 1.5518, 1.5516, 1.5514, 1.5514, 1.5509, 1.5506, 1.5497, 1.5491, 1.549, 1.549, 1.5411, 1.5391, 1.5264, 1.5216, 1.5011, 1.5007, 1.5182, 1.5046, 1.5165, 1.3387, 1.359, 1.3487, 1.473, 0.9594, 1.284, 0.9172, 1.0775, 0.8012, 1.2086, 1.0895, 0.7396, 1.2479, 1.2929, 0.7592, 0.8878, -0.0361, 0.353, 0.2103, 1.0887, 0.1747, 0.6786, -0.3982, 0.5126, 0.7489, 0.3019, 0.5144, 0.2607, -0.3975, -0.2556, -0.652, 0.2825, 0.1722, -0.2075, -0.0385, 0.1354, 0.2689, -0.1489, -0.0697, 0.0254, -0.3347, -0.3958, 2.04, 2.0391, 2.03, 2.0284, 2.0255, 2.015, 1.9929, 1.9928, 1.9773, 1.9604, 1.9604, 1.9526, 1.9488, 1.9469, 1.943, 1.936, 1.9297, 1.9106, 1.9106, 1.9105, 1.9105, 1.91, 1.9098, 1.9097, 1.9091, 1.9086, 1.9081, 1.9025, 1.8995, 1.8989, 1.8903, 1.8816, 1.8903, 1.8328, 1.776, 1.6093, 1.7159, 1.364, 1.7458, 1.5359, 1.6592, 1.2432, 1.6733, 1.0092, 1.6967, 1.7437, 1.5568, 1.5642, 0.0701, 0.9413, 1.0423, 0.4854, 1.0794, 0.5493, 1.0792, 0.7133, 0.5552, 0.7881, 0.9304, -0.0185, 0.6812, 0.1973, 0.7138, 0.629, 0.5648, -0.7354, 0.8309, 1.0617, 1.001, 1.0931, 0.2049, 0.4229, -0.3899, -0.9081, -0.3077, -1.4054, -0.7458, 2.4235, 2.4119, 2.4119, 2.4007, 2.3863, 2.3686, 2.3684, 2.3684, 2.3395, 2.3379, 2.3087, 2.3087, 2.3087, 2.3087, 2.3087, 2.3086, 2.3086, 2.3085, 2.3084, 2.3083, 2.3082, 2.2538, 2.2538, 2.2538, 2.2535, 2.2533, 2.2182, 2.1792, 2.157, 2.157, 2.1278, 2.1358, 2.0577, 1.9281, 2.0256, 1.6423, 2.0135, 1.4263, 1.7256, 0.7494, 0.7461, 1.5824, -0.1599, 1.0049, 1.6411, 1.8708, 1.6072, -0.6705, 0.9173, 1.0293, -0.0099, 0.4084, 0.5865, 1.3294, 0.2485, 0.2643, 0.3026, 0.5417, 0.1537, 0.2214, 0.4506, 0.678, 0.1848, -0.2846, -0.635, 0.0293, -0.0855, 0.677, 0.6754, 0.4194, -0.2109], \"logprob\": [30.0, 29.0, 28.0, 27.0, 26.0, 25.0, 24.0, 23.0, 22.0, 21.0, 20.0, 19.0, 18.0, 17.0, 16.0, 15.0, 14.0, 13.0, 12.0, 11.0, 10.0, 9.0, 8.0, 7.0, 6.0, 5.0, 4.0, 3.0, 2.0, 1.0, -6.25, -6.6513, -6.7857, -6.9355, -6.7926, -6.5564, -6.9372, -7.0203, -7.0203, -7.0204, -7.0207, -7.2169, -7.2169, -7.2171, -7.2173, -6.5767, -7.3321, -7.3321, -7.3321, -7.3321, -7.3322, -7.3322, -7.3322, -7.3322, -7.3322, -7.3322, -7.3322, -7.3322, -7.3323, -7.3323, -6.6513, -5.3095, -6.7229, -5.0984, -6.4815, -5.7142, -6.6371, -6.435, -6.0185, -6.6514, -6.935, -5.5176, -5.4192, -3.5228, -4.8555, -6.5915, -5.1867, -6.206, -5.825, -5.8808, -5.622, -5.748, -5.659, -5.8772, -5.9883, -4.8178, -4.8647, -5.5844, -5.5832, -6.06, -4.1484, -5.7034, -5.7657, -5.141, -5.716, -6.0014, -5.2454, -5.0368, -4.9038, -5.5163, -5.2642, -5.3611, -4.8962, -5.3723, -5.7323, -5.6191, -5.7109, -5.7246, -5.1854, -5.1854, -5.4077, -6.0709, -6.4977, -6.7808, -6.7813, -6.7814, -6.7814, -6.7814, -6.7814, -6.7815, -6.7815, -6.7815, -6.7815, -6.7815, -6.7815, -6.7815, -6.7815, -6.7815, -6.7816, -6.7816, -6.7816, -6.7816, -6.7816, -6.7816, -6.7816, -6.7816, -6.7816, -6.7817, -6.058, -5.517, -5.633, -5.3957, -6.042, -6.0437, -6.0811, -6.4679, -6.5258, -6.0937, -6.7117, -5.6498, -5.3629, -5.3226, -3.3735, -5.2488, -5.6165, -5.393, -6.7143, -5.6616, -4.7582, -4.9564, -5.0873, -5.8846, -4.8514, -5.5356, -5.67, -3.4147, -4.0029, -5.5839, -4.9348, -5.3208, -5.2729, -5.3415, -4.4633, -4.9408, -5.3223, -4.5669, -5.3151, -5.3374, -4.9148, -4.8585, -5.0715, -5.2228, -5.2115, -5.0899, -5.2619, -5.2974, -5.3434, -6.4791, -6.6756, -6.272, -6.7897, -6.7899, -6.3485, -6.7978, -6.9185, -6.9187, -7.0679, -7.068, -7.0682, -7.0682, -7.0727, -7.0735, -7.2438, -7.2439, -7.244, -7.2443, -7.2443, -7.2447, -7.245, -7.246, -7.2465, -7.2467, -7.2467, -6.5706, -6.4783, -6.6732, -6.4357, -5.8195, -6.2694, -6.6738, -6.5916, -6.999, -6.0218, -6.1782, -6.2314, -6.9208, -4.9009, -6.2119, -5.1464, -5.7471, -5.1925, -6.1907, -5.9528, -5.1784, -6.3445, -6.4459, -5.3167, -5.6614, -4.0918, -4.7833, -4.7507, -6.0845, -4.9177, -5.6439, -4.3743, -5.4724, -5.7848, -5.3842, -5.5972, -5.4468, -5.0602, -5.1731, -4.9134, -5.5844, -5.5691, -5.3764, -5.5037, -5.5966, -5.6661, -5.5111, -5.6209, -5.6826, -5.6768, -5.7251, -6.3838, -6.3846, -6.5114, -6.5129, -5.1956, -6.6596, -6.8352, -6.8353, -6.8521, -7.0491, -7.0491, -7.0565, -7.0599, -6.2685, -7.0679, -7.0727, -6.38, -7.3207, -7.3208, -7.3208, -7.3208, -7.3213, -7.3215, -7.3215, -7.3221, -7.3225, -7.0997, -7.3282, -7.3311, -7.3321, -6.5226, -6.1614, -6.6622, -6.3892, -5.9923, -4.7186, -6.2093, -4.5531, -6.552, -5.6078, -6.2426, -4.585, -6.3828, -4.9191, -6.5176, -6.6611, -6.3097, -6.4017, -3.9857, -5.4916, -5.6965, -4.9798, -5.7466, -5.1036, -5.7966, -5.4121, -5.3117, -5.6029, -5.7328, -4.936, -5.5247, -5.1448, -5.5975, -5.5428, -5.5244, -4.7116, -5.698, -5.8663, -5.9008, -5.9678, -5.6695, -5.7548, -5.5589, -5.5708, -5.6699, -5.6667, -5.7068, -5.7954, -5.988, -5.988, -6.1033, -6.2337, -6.3828, -6.3829, -6.3829, -6.5625, -6.5638, -6.7721, -6.7721, -6.7721, -6.7722, -6.7722, -6.7722, -6.7722, -6.7724, -6.7724, -6.7725, -6.7726, -7.0441, -7.0442, -7.0442, -7.0444, -7.0446, -5.2525, -6.5589, -7.4186, -7.4186, -6.2337, -7.1544, -6.4232, -6.329, -6.5589, -5.7952, -6.5592, -5.4495, -6.0944, -4.7158, -5.0822, -5.9941, -4.2157, -5.428, -6.1043, -6.3836, -6.2337, -4.6466, -5.7936, -5.8726, -5.1789, -5.4661, -5.6194, -6.1028, -5.6542, -5.6631, -5.6824, -5.7902, -5.6597, -5.7068, -5.7909, -5.8688, -5.7323, -5.6267, -5.5525, -5.712, -5.7935, -5.8896, -5.8984, -5.9067, -5.897]}, \"token.table\": {\"Topic\": [1, 3, 1, 3, 5, 3, 4, 2, 2, 1, 2, 3, 4, 5, 2, 2, 3, 4, 2, 2, 4, 1, 2, 3, 4, 5, 1, 3, 1, 1, 2, 3, 4, 5, 3, 4, 1, 2, 3, 4, 5, 2, 1, 5, 1, 2, 3, 4, 5, 1, 2, 3, 4, 5, 1, 2, 3, 4, 5, 1, 3, 4, 5, 1, 2, 3, 4, 5, 1, 2, 3, 4, 5, 1, 2, 3, 4, 5, 1, 3, 5, 5, 2, 1, 4, 5, 3, 1, 2, 3, 4, 5, 3, 4, 5, 5, 2, 1, 5, 3, 3, 5, 1, 1, 3, 4, 5, 1, 2, 3, 4, 5, 1, 4, 5, 1, 3, 5, 2, 3, 4, 5, 1, 3, 1, 1, 1, 3, 5, 3, 5, 1, 2, 3, 4, 5, 1, 1, 2, 1, 2, 3, 4, 1, 2, 3, 5, 2, 3, 1, 3, 4, 5, 3, 5, 2, 3, 5, 3, 4, 1, 3, 4, 5, 3, 4, 2, 4, 1, 2, 3, 4, 5, 1, 1, 3, 4, 2, 1, 2, 3, 4, 5, 5, 3, 1, 2, 3, 4, 5, 1, 2, 3, 4, 5, 2, 1, 2, 3, 4, 5, 1, 2, 3, 4, 5, 1, 3, 4, 5, 2, 2, 5, 1, 2, 3, 4, 5, 1, 2, 3, 4, 5, 1, 2, 3, 4, 5, 1, 2, 3, 4, 5, 1, 4, 5, 4, 1, 2, 4, 5, 3, 1, 2, 3, 4, 5, 1, 3, 4, 5, 3, 1, 2, 4, 5, 1, 2, 3, 5, 2, 1, 2, 3, 4, 1, 4, 5, 1, 4, 5, 4, 1, 3, 4, 5, 3, 1, 3, 2, 1, 2, 3, 4, 5, 1, 1, 3, 4, 1, 2, 3, 4, 1, 4, 4, 5, 1, 3, 4, 5, 1, 2, 5, 3, 1, 3, 4, 5, 4, 2, 3, 5, 3, 4, 5, 1, 1, 4, 5, 1, 2, 3, 4, 5, 1, 4, 1, 4, 1, 3, 5, 1, 2, 3, 4, 5, 1, 3, 4, 5, 1, 4, 1, 4, 1, 4, 1, 3, 2, 1, 3, 4, 5, 3, 4, 5, 4, 1, 1, 2, 3, 4, 5, 4, 5, 1, 1, 4, 4, 3, 5, 2, 1, 2, 3, 4, 5, 1, 2, 3, 4, 5, 4, 4, 1, 3, 4, 5, 4, 5, 1, 3, 3, 5, 1, 3, 5, 3, 4, 1, 3, 4, 5, 4, 4, 1, 2, 3, 4, 5, 1, 3, 2, 3, 4, 4, 1, 4, 3, 4, 5, 3, 4, 3, 4, 1, 3, 4, 5, 1, 2, 3, 4, 5, 1, 1, 2, 3, 4, 5, 1, 4, 5, 1, 2, 3, 5, 3, 1, 2, 3, 5, 1, 2, 3, 4, 5, 5, 1, 2, 3, 4, 5, 1, 2, 3, 4, 5, 5, 1, 2, 3, 4, 5, 1, 5, 1, 2, 3, 4, 5, 2, 1, 5, 1, 3, 4, 5, 2, 1, 2, 3, 4, 5, 1, 5, 1, 4, 1, 2, 4, 5, 2, 3, 2, 4, 4, 1, 4, 5, 1, 2, 3, 4, 5, 1, 2, 3, 5, 1, 3, 4, 5, 2, 1, 2, 5, 1, 1, 2, 3, 4, 5, 1, 2, 3, 1, 2, 3, 4, 5, 1, 2, 3, 4, 5, 1, 2, 3, 4, 1, 2, 3, 4, 5, 3, 4, 2, 3, 4, 1, 3, 4, 5, 1, 4, 5, 5, 2, 2, 3, 4, 1, 2, 1, 2, 3, 4, 5, 1, 2, 3, 4, 5, 1, 3, 4, 5, 1, 2, 3, 4, 5, 1, 2, 3, 4, 5, 3, 2, 2, 3, 1, 2, 3, 5, 1, 2, 3, 4, 5, 5, 1, 3, 4, 5, 1, 2, 3, 4, 5, 1, 3, 1, 2, 3, 4, 5, 1, 1, 2, 1, 1, 2, 3, 4, 5, 4, 1, 2, 3, 4, 5, 1, 3, 4, 5, 2, 3, 5, 1, 4, 5, 1, 3, 4, 1, 2, 3, 4, 5, 4, 1, 2, 3, 4, 3, 4, 5, 1, 3, 4, 5, 3, 5, 2, 1, 3, 4, 5, 2, 4, 1, 2, 3, 4, 5, 1, 2, 3, 1, 2, 3, 4, 5, 3, 1, 2, 3, 4, 5, 1, 2, 3, 4, 5, 5, 1, 2, 3, 4, 5, 5, 1, 2, 3, 4, 5, 1, 2, 1, 1, 5, 5, 1, 2, 3, 1, 1, 2, 3, 4, 5, 1, 1, 4, 5, 1, 3, 4, 5, 1, 4, 2, 4, 1, 3, 4, 5, 1, 3, 1, 2, 3, 5, 1, 3, 4, 5, 1, 2, 3, 4, 5, 1, 2, 3, 4, 5, 1, 3, 4, 5, 1, 2, 3, 4, 5, 4, 5, 3, 5, 1, 1, 5, 1, 5, 5, 1, 2, 1, 3, 4, 5, 2, 4, 1, 3, 4, 3, 4], \"Freq\": [0.8724608598041002, 0.0969400955337889, 0.32323367975564427, 0.6464673595112885, 0.8275194825661174, 0.8137524141344128, 0.1017190517668016, 0.9043193489943496, 0.9043232078055652, 0.8258509966151073, 0.021175666579874543, 0.04235133315974909, 0.04235133315974909, 0.06352699973962364, 0.9043293917561671, 0.11168605700975127, 0.614273313553632, 0.22337211401950255, 0.9043251328451556, 0.9439168643000638, 0.06292779095333759, 0.6891898541917946, 0.024613923363992662, 0.1969113869119413, 0.09845569345597065, 0.024613923363992662, 0.27582058276880256, 0.7171335151988867, 0.9473403280665015, 0.35274765642036987, 0.2351651042802466, 0.06719002979435616, 0.2519626117288356, 0.10078504469153425, 0.9561773352473343, 0.7686062323339912, 0.06160140846413328, 0.7289500001589104, 0.1540035211603332, 0.041067605642755516, 0.010266901410688879, 0.9043159634739658, 0.5727958383526122, 0.4295968787644591, 0.2963352631195317, 0.40409354061754316, 0.14239486669380091, 0.11545529731929804, 0.04233360901707595, 0.36483177523397947, 0.29421917357578986, 0.12945643637334756, 0.14122520331637914, 0.05884383471515797, 0.5164660422225177, 0.027917083363379332, 0.083751250090138, 0.23729520858872433, 0.13958541681689665, 0.35402997018346927, 0.06697864300768337, 0.4114402356186264, 0.17223079630547153, 0.40085397342494483, 0.429901362803564, 0.12199903539020059, 0.017428433627171513, 0.02323791150289535, 0.1674789082808656, 0.3349578165617312, 0.38729497539950164, 0.052337158837770494, 0.06280459060532459, 0.2032118233493226, 0.6350369479666331, 0.07620443375599598, 0.05080295583733065, 0.03810221687799799, 0.0924221352527473, 0.8317992172747256, 0.9221863370586431, 0.8897899550217933, 0.904333138626591, 0.10481730053401683, 0.7337211037381178, 0.10481730053401683, 0.9300696603904979, 0.11207154334476527, 0.7845008034133568, 0.022414308668953054, 0.04482861733790611, 0.04482861733790611, 0.1469162611445882, 0.5876650445783528, 0.2203743917168823, 0.8115674901923436, 0.9043293638481356, 0.975278050408798, 0.742205561492724, 0.9299846677956001, 0.9564786141556081, 0.9221860331461333, 0.9473411404235575, 0.5103451245420862, 0.11777195181740452, 0.19628658636234086, 0.1570292690898727, 0.28073620410888434, 0.498419357027538, 0.12310357613330758, 0.0555467355723461, 0.04203536746015381, 0.2663499846339561, 0.6658749615848903, 0.7422205270419465, 0.823742370500037, 0.05148389815625231, 0.10296779631250462, 0.8360868493036704, 0.06779082561921652, 0.022596941873072172, 0.06779082561921652, 0.9145776912418447, 0.07621480760348706, 0.9473313599351952, 0.9373520814353726, 0.2214304286398478, 0.7085773716475129, 0.044286085727969556, 0.8366292859784109, 0.7422240220523663, 0.17901828424872995, 0.32820018778933824, 0.24863650590101383, 0.20885466495685162, 0.04972730118020277, 0.9752683308685899, 0.9473420711070037, 0.9042972115798192, 0.07036635988025508, 0.8092131386229334, 0.07036635988025508, 0.05277476991019131, 0.6443213187316338, 0.28883369460383584, 0.02221797650798737, 0.02221797650798737, 0.9043179288282086, 0.8674980361925564, 0.355545646997683, 0.08365779929357246, 0.46011789611464854, 0.09411502420526903, 0.8004153151740118, 0.13340255252900196, 0.9157249038645469, 0.8674840301629144, 0.7422026591184383, 0.30440266705109936, 0.6088053341021987, 0.15212163847043558, 0.6591937667052209, 0.10141442564695706, 0.05070721282347853, 0.9563541667085357, 0.8976748663964889, 0.9043238400849868, 0.8240211193789314, 0.3799862160026161, 0.18999310800130806, 0.18999310800130806, 0.17642217171550034, 0.05428374514323088, 0.9752771018004268, 0.27625208741435264, 0.598546189397764, 0.09208402913811754, 0.9043390449053194, 0.21961684078364993, 0.2395820081276181, 0.17968650609571357, 0.19299661765835902, 0.17303145031439085, 0.8337014562234734, 0.9301189727424891, 0.5673574016499805, 0.06014963857034177, 0.17719758389641224, 0.12517627486260313, 0.06990363401418098, 0.8146725790276703, 0.011314896930939866, 0.07920427851657906, 0.0678893815856392, 0.022629793861879733, 0.9420399057127335, 0.19750890909109392, 0.6912811818188287, 0.07053889610396212, 0.014107779220792423, 0.014107779220792423, 0.5663554677695576, 0.014521935071014297, 0.17426322085217155, 0.14521935071014297, 0.10165354549710007, 0.2799452648273461, 0.16796715889640765, 0.3079397913100807, 0.22395621186187686, 0.9043169793124559, 0.9043182891219343, 0.7422340983928161, 0.252864871526553, 0.551705174239752, 0.114938577966615, 0.030650287457764, 0.045975431186646, 0.09974113252374979, 0.7580326071804984, 0.05984467951424988, 0.07979290601899983, 0.019948226504749957, 0.4087444245688289, 0.2620156567748903, 0.17817064660692541, 0.09432563643896051, 0.052403131354978066, 0.29822343851976063, 0.33330854893385015, 0.2192819400880593, 0.0613989432246566, 0.08771277603522372, 0.038524458161700616, 0.8860625377191141, 0.038524458161700616, 0.8655147988794318, 0.04982775429401145, 0.896899577292206, 0.024913877147005725, 0.024913877147005725, 0.9300807118607258, 0.09859697666206457, 0.7148280807999681, 0.15611187971493556, 0.016432829443677428, 0.016432829443677428, 0.4028388515948384, 0.05254419803410936, 0.2977504555266197, 0.22769152481447388, 0.8677696297093582, 0.06740595320462762, 0.8257229267566883, 0.06740595320462762, 0.050554464903470715, 0.03810648677429604, 0.9145556825831049, 0.03810648677429604, 0.9404382757173637, 0.9043236813898914, 0.07736109117035127, 0.6317822445578686, 0.21918975831599524, 0.07736109117035127, 0.21711960825903873, 0.21711960825903873, 0.5427990206475968, 0.15061486917802372, 0.15061486917802372, 0.6024594767120949, 0.8626918398460476, 0.4628435949186976, 0.26034952214176743, 0.144638623412093, 0.13017476107088372, 0.9563544194242177, 0.900198869075967, 0.9300903129120888, 0.9783772171050767, 0.8198235451281893, 0.05653955483642685, 0.028269777418213425, 0.05653955483642685, 0.05653955483642685, 0.9585619272458761, 0.7147409981636458, 0.10210585688052083, 0.1837905423849375, 0.1238401763849973, 0.8204411685506071, 0.030960044096249324, 0.030960044096249324, 0.9473377717716495, 0.9211639516530475, 0.9207092167890409, 0.8765754429649469, 0.4597972928018863, 0.05747466160023579, 0.34484796960141473, 0.11494932320047158, 0.041013332470167946, 0.9433066468138628, 0.7421963694824625, 0.9301125110141123, 0.5398353054662173, 0.1735184910427127, 0.26991765273310864, 0.019279832338079186, 0.8627625253747377, 0.8081393863362414, 0.1154484837623202, 0.06926909025739213, 0.04944539834858104, 0.19778159339432416, 0.7416809752287157, 0.9752835132310466, 0.17757567004799032, 0.6215148451679662, 0.17757567004799032, 0.18649526011499443, 0.7226691329456034, 0.03496786127156146, 0.011655953757187152, 0.03496786127156146, 0.11442178622206932, 0.8009525035544852, 0.1752697295723344, 0.7887137830755048, 0.9035346840350232, 0.05647091775218895, 0.05647091775218895, 0.09846585442515071, 0.4266853691756531, 0.06564390295010047, 0.3610414662255526, 0.09846585442515071, 0.4397139078216558, 0.05496423847770698, 0.10992847695541395, 0.38474966934394883, 0.2261298632007476, 0.6783895896022427, 0.8495524776672272, 0.13413986489482535, 0.8893668176923477, 0.05929112117948985, 0.8960025826229929, 0.05600016141393706, 0.9043219443618488, 0.4163217697740208, 0.09251594883867129, 0.2775478465160139, 0.2081608848870104, 0.9291722405190961, 0.7695776603840718, 0.74222452290263, 0.8626038537678731, 0.9585286682040143, 0.32850320425573903, 0.4201785170712941, 0.16043179742722138, 0.03819804700648129, 0.0534772658090738, 0.1756165420072328, 0.7024661680289312, 0.9473422708213133, 0.9473426945591981, 0.8620969584177305, 0.9214765714409112, 0.8433950477061662, 0.14056584128436106, 0.9161269186843071, 0.4400778373464589, 0.284216936619588, 0.22003891867322944, 0.02292072069512807, 0.036673153112204905, 0.687071272592167, 0.018080822962951763, 0.018080822962951763, 0.16272740666656588, 0.12656576074066234, 0.8624933200397018, 0.8626489723482306, 0.5848358389582338, 0.20166753067525303, 0.06050025920257591, 0.16133402454020243, 0.8977865433931304, 0.889745889201515, 0.9511517997751205, 0.05595010586912474, 0.8920579038907189, 0.7422279810365514, 0.7052629709534203, 0.25859642268292077, 0.04701753139689469, 0.836632622401674, 0.8627549629890053, 0.10696331522358588, 0.28523550726289565, 0.5348165761179294, 0.07130887681572391, 0.9214639800443298, 0.862688639470404, 0.4250238003072999, 0.1888994668032444, 0.2203827112704518, 0.0472248667008111, 0.12593297786882962, 0.17020801819023446, 0.8084880864036136, 0.9043257882450596, 0.7467148926577011, 0.12445248210961686, 0.8627528286669947, 0.846052467058421, 0.11280699560778946, 0.15579054293068648, 0.6231621717227459, 0.15579054293068648, 0.8766591535286431, 0.0796962866844221, 0.8927918097540523, 0.07439931747950436, 0.6549589820804634, 0.19169531182842833, 0.12779687455228556, 0.015974609319035694, 0.4358758388711498, 0.2490719079263713, 0.2634414410759696, 0.02394922191599724, 0.028739066299196685, 0.9473429113396861, 0.29959343957624424, 0.01576807576717075, 0.01576807576717075, 0.5834188033853178, 0.07884037883585375, 0.20803420565037928, 0.6241026169511378, 0.10401710282518964, 0.13903659309071525, 0.6343544559763883, 0.20855488963607285, 0.017379574136339407, 0.9563533468706453, 0.12956711339965044, 0.20730738143944072, 0.5441818762785319, 0.10365369071972036, 0.22052200414770448, 0.37488740705109763, 0.06615660124431134, 0.3087308058067863, 0.044104400829540896, 0.7422182884889935, 0.5205682952168174, 0.24026229010006953, 0.02002185750833913, 0.08008743003335651, 0.16017486006671303, 0.22357195120668225, 0.4364976190225701, 0.24486451798827102, 0.08517026712635514, 0.010646283390794393, 0.8897530060772809, 0.3362147859461174, 0.3782416341893821, 0.15609972204641168, 0.08405369648652936, 0.04202684824326468, 0.9212606060179015, 0.922138995110447, 0.3308784546608641, 0.3308784546608641, 0.18664938468048742, 0.08484062940022155, 0.07635656646019941, 0.9043290861304688, 0.24101374445443688, 0.7230412333633106, 0.48618161361222584, 0.3607153907445546, 0.10978294500921228, 0.04704983357537669, 0.9043218041220292, 0.2970719090131567, 0.31312985004089494, 0.1204345577080365, 0.2007242628467275, 0.0642317641109528, 0.5261581180804336, 0.4304930057021729, 0.12686650257034993, 0.7611990154220996, 0.1952266883872209, 0.1301511255914806, 0.2603022511829612, 0.3904533767744418, 0.9778024992366094, 0.9300632329051554, 0.9777997535347532, 0.8626816628515744, 0.9227571252735846, 0.14024082605815377, 0.35060206514538444, 0.4908428912035382, 0.11031699204000801, 0.44126796816003205, 0.3922381939200285, 0.03677233068000267, 0.024514887120001782, 0.22214599125103285, 0.6403031512529771, 0.11760670125054681, 0.013067411250060756, 0.24341152985476597, 0.08113717661825533, 0.5679602363277872, 0.08113717661825533, 0.9043126979392853, 0.058627106922887, 0.8207794969204181, 0.0879406603843305, 0.947330418375285, 0.22677038443176145, 0.4123097898759299, 0.12369293696277897, 0.13400068170967722, 0.10307744746898248, 0.09181318287323932, 0.6820407870583493, 0.22297487269215266, 0.2624858992292438, 0.5488341529338734, 0.12229456668635223, 0.047724708950771605, 0.017896765856539352, 0.29609196247036157, 0.1374712682898107, 0.14804598123518078, 0.31724138836110166, 0.10574712945370056, 0.21595088752142005, 0.4700107551936789, 0.3048718412067107, 0.012702993383612944, 0.22107791525586415, 0.46627342126691346, 0.22509751371506168, 0.05627437842876542, 0.02813718921438271, 0.9300411590730858, 0.9207802372837598, 0.418823368929124, 0.5476920978303929, 0.03221718222531723, 0.428183860517408, 0.09515196900386844, 0.14272795350580264, 0.2854559070116053, 0.9473342096136009, 0.7293444028597543, 0.14586888057195085, 0.8273326173491506, 0.9043164066664764, 0.9125293493159673, 0.03967518910069423, 0.03967518910069423, 0.07614887105906123, 0.9137864527087349, 0.4070314334645503, 0.23743500285432098, 0.23743500285432098, 0.11023767989664902, 0.008479821530511463, 0.6672629131386305, 0.09428715076958909, 0.17406858603616449, 0.02175857325452056, 0.05077000426054797, 0.6613635819418695, 0.07014462232716798, 0.14028924465433595, 0.12024792398943082, 0.15739716279891633, 0.27544503489810357, 0.45251684304688444, 0.07869858139945816, 0.03934929069972908, 0.5666521426806166, 0.012878457788195833, 0.077270746729175, 0.24469069797572082, 0.10302766230556666, 0.9300887209658566, 0.9043261991986626, 0.8949313106088512, 0.09727514245748382, 0.1415076734856008, 0.679236832730884, 0.15565844083416092, 0.014150767348560082, 0.31106517521719346, 0.4524584366795541, 0.037704869723296175, 0.10368839173906448, 0.09426217430824044, 0.8115703851775734, 0.8844801821828893, 0.014991189528523546, 0.014991189528523546, 0.08994713717114128, 0.16647211062579953, 0.2853807610727992, 0.1426903805363996, 0.33294422125159906, 0.0713451902681998, 0.08541708154608933, 0.8541708154608934, 0.4959263680527147, 0.1696590206496129, 0.26101387792248143, 0.052202775584496285, 0.026101387792248142, 0.9473367626610399, 0.03948683382918991, 0.9476840119005578, 0.9473393047779249, 0.21734092546669864, 0.12842872868486738, 0.48407751581219244, 0.12842872868486738, 0.03951653190303612, 0.8622851622419136, 0.36979739368211045, 0.29583791494568834, 0.11622203801437757, 0.09509075837539982, 0.1056563981948887, 0.7846127409404484, 0.09807659261755605, 0.09807659261755605, 0.032692197539185355, 0.9135460924777389, 0.0668448360349565, 0.9362227419856396, 0.6668995194332763, 0.23263936724416615, 0.09305574689766646, 0.15853842996317466, 0.739846006494815, 0.10569228664211644, 0.11290483791943828, 0.40645741650997785, 0.40645741650997785, 0.022580967583887657, 0.045161935167775315, 0.6899042277842379, 0.7267922175197593, 0.02795354682768305, 0.15374450755225677, 0.08386064048304914, 0.8043859214081592, 0.08043859214081592, 0.08043859214081592, 0.5465383230429447, 0.14905590628443946, 0.21116253390295592, 0.08694927866592302, 0.8198969132008865, 0.10248711415011082, 0.9043250854260112, 0.1636476790934767, 0.1636476790934767, 0.3545699713691995, 0.3272953581869534, 0.9043219621783501, 0.8627303533144873, 0.3018832719015814, 0.38601467554628444, 0.1484671829024171, 0.07918249754795578, 0.07918249754795578, 0.03955439430440861, 0.909751069001398, 0.03955439430440861, 0.17571227569595027, 0.6908687203499863, 0.09584305947051833, 0.027954225678901178, 0.007986921622543193, 0.930065475947105, 0.22383389369578677, 0.2797923671197335, 0.30217575648931216, 0.07834186279352537, 0.11191694684789338, 0.6893663812910934, 0.041779780684308696, 0.14622923239508043, 0.06266967102646304, 0.06266967102646304, 0.6100882776047318, 0.05802364069375507, 0.7736485425834009, 0.09670606782292511, 0.019341213564585024, 0.05802364069375507, 0.7421903082130885, 0.08474801478878441, 0.4358469331994627, 0.46006065171054394, 0.012106859255540631, 0.012106859255540631, 0.05929213211242888, 0.9486741137988621, 0.94733551735389, 0.29766377302488195, 0.5953275460497639, 0.9221934645603025, 0.07281291951441997, 0.8737550341730396, 0.07281291951441997, 0.9215499830005798, 0.33728745565356, 0.1618979787137088, 0.21586397161827842, 0.21586397161827842, 0.067457491130712, 0.9762124403888864, 0.21652050671048997, 0.21652050671048997, 0.5413012667762249, 0.5858464127497877, 0.14250318147967808, 0.12666949464860275, 0.14250318147967808, 0.10412409399964148, 0.8329927519971319, 0.9043216709169819, 0.8654332720345848, 0.7175312843821581, 0.15220360577803352, 0.04348674450800958, 0.06523011676201437, 0.9585281141863986, 0.9300687259367203, 0.14202333535264272, 0.834387095196776, 0.01775291691908034, 0.9221696962389804, 0.41519256878929534, 0.15569721329598576, 0.33734396214130247, 0.07784860664799288, 0.16600563086559147, 0.44821520333709697, 0.2490084462983872, 0.07470253388951616, 0.06640225234623659, 0.1663197090988747, 0.6915398430953211, 0.07002935119952619, 0.05252201339964464, 0.02626100669982232, 0.7523792564101711, 0.1410711105769071, 0.06269827136751427, 0.047023703525635695, 0.1549860886793204, 0.32934543844355585, 0.38746522169830105, 0.01937326108491505, 0.09686630542457526, 0.27156779844647266, 0.6789194961161817, 0.8448035135253632, 0.09386705705837368, 0.9817602889679715, 0.883802145024925, 0.06312872464463751, 0.9473353111152181, 0.8765777951960587, 0.7422302037766445, 0.9585495698611018, 0.9043219522435783, 0.5516732039842183, 0.18389106799473942, 0.18389106799473942, 0.08487280061295666, 0.2516688437904877, 0.6291721094762193, 0.33049109598720644, 0.5508184933120107, 0.11016369866240215, 0.9563479915584243, 0.7686116049820487], \"Term\": [\"000\", \"000\", \"10\", \"10\", \"11i\", \"13\", \"13\", \"1947\", \"1994\", \"2\", \"2\", \"2\", \"2\", \"2\", \"45\", \"9\", \"9\", \"9\", \"aca\", \"acceptance\", \"acceptance\", \"access\", \"access\", \"access\", \"access\", \"access\", \"accommodation\", \"accommodation\", \"acquiringdata\", \"across\", \"across\", \"across\", \"across\", \"across\", \"affairs\", \"affinipay\", \"agency\", \"agency\", \"agency\", \"agency\", \"agency\", \"aim\", \"america\", \"america\", \"analysis\", \"analysis\", \"analysis\", \"analysis\", \"analysis\", \"analyst\", \"analyst\", \"analyst\", \"analyst\", \"analyst\", \"analytical\", \"analytical\", \"analytical\", \"analytical\", \"analytical\", \"analytics\", \"analytics\", \"analytics\", \"analytics\", \"analyze\", \"analyze\", \"analyze\", \"analyze\", \"analyze\", \"application\", \"application\", \"application\", \"application\", \"application\", \"area\", \"area\", \"area\", \"area\", \"area\", \"asset\", \"asset\", \"atlassian\", \"attack\", \"attain\", \"attitude\", \"attitude\", \"attitude\", \"auditor\", \"automate\", \"automate\", \"automate\", \"automate\", \"automate\", \"automation\", \"automation\", \"automation\", \"ave\", \"avoid\", \"bazaarvoice\", \"bitbucket\", \"biztech\", \"blog\", \"blvd\", \"borrower\", \"build\", \"build\", \"build\", \"build\", \"business\", \"business\", \"business\", \"business\", \"business\", \"campaign\", \"campaign\", \"cao\", \"carry\", \"carry\", \"carry\", \"case\", \"case\", \"case\", \"case\", \"cash\", \"cash\", \"catchy\", \"celebrate\", \"certification\", \"certification\", \"certification\", \"certify\", \"charlotte\", \"client\", \"client\", \"client\", \"client\", \"client\", \"clinical\", \"closing\", \"clustering\", \"collaborate\", \"collaborate\", \"collaborate\", \"collaborate\", \"collection\", \"collection\", \"collection\", \"collection\", \"comment\", \"commission\", \"company\", \"company\", \"company\", \"company\", \"complete\", \"complete\", \"concern\", \"conducting\", \"constantly\", \"consultant\", \"consultant\", \"contact\", \"contact\", \"contact\", \"contact\", \"copy\", \"cover\", \"covering\", \"cray\", \"create\", \"create\", \"create\", \"create\", \"create\", \"csa\", \"current\", \"current\", \"current\", \"curriculum\", \"customer\", \"customer\", \"customer\", \"customer\", \"customer\", \"cybercrime\", \"darby\", \"data\", \"data\", \"data\", \"data\", \"data\", \"database\", \"database\", \"database\", \"database\", \"database\", \"decomposition\", \"define\", \"define\", \"define\", \"define\", \"define\", \"degree\", \"degree\", \"degree\", \"degree\", \"degree\", \"deliver\", \"deliver\", \"deliver\", \"deliver\", \"dependent\", \"depict\", \"des\", \"design\", \"design\", \"design\", \"design\", \"design\", \"determine\", \"determine\", \"determine\", \"determine\", \"determine\", \"develop\", \"develop\", \"develop\", \"develop\", \"develop\", \"development\", \"development\", \"development\", \"development\", \"development\", \"digital\", \"digital\", \"digital\", \"dimensional\", \"direction\", \"direction\", \"direction\", \"direction\", \"dm\", \"document\", \"document\", \"document\", \"document\", \"document\", \"drive\", \"drive\", \"drive\", \"drive\", \"educational\", \"effort\", \"effort\", \"effort\", \"effort\", \"elicit\", \"elicit\", \"elicit\", \"emerson\", \"emphasizing\", \"employee\", \"employee\", \"employee\", \"employee\", \"engineer\", \"engineer\", \"engineer\", \"enjoy\", \"enjoy\", \"enjoy\", \"entrepreneurial\", \"environment\", \"environment\", \"environment\", \"environment\", \"environmental\", \"epicor\", \"epidemiologic\", \"er\", \"etc\", \"etc\", \"etc\", \"etc\", \"etc\", \"everi\", \"excel\", \"excel\", \"excel\", \"exist\", \"exist\", \"exist\", \"exist\", \"expertiseregardingdata\", \"explanation\", \"facing\", \"fargo\", \"fast\", \"fast\", \"fast\", \"fast\", \"fee\", \"fee\", \"ferrovial\", \"fill\", \"financial\", \"financial\", \"financial\", \"financial\", \"finding\", \"five\", \"five\", \"five\", \"fraud\", \"fraud\", \"fraud\", \"fuel\", \"fun\", \"fun\", \"fun\", \"functional\", \"functional\", \"functional\", \"functional\", \"functional\", \"fund\", \"fund\", \"game\", \"game\", \"generate\", \"generate\", \"generate\", \"get\", \"get\", \"get\", \"get\", \"get\", \"global\", \"global\", \"global\", \"global\", \"google\", \"google\", \"grow\", \"grow\", \"happiness\", \"happiness\", \"happy\", \"happy\", \"headhunter\", \"help\", \"help\", \"help\", \"help\", \"hhs\", \"hostway\", \"ia\", \"iad\", \"iam\", \"identify\", \"identify\", \"identify\", \"identify\", \"identify\", \"impactful\", \"impactful\", \"implementdatabases\", \"implementingdata\", \"indeed\", \"india\", \"indicate\", \"indicate\", \"inference\", \"information\", \"information\", \"information\", \"information\", \"information\", \"insight\", \"insight\", \"insight\", \"insight\", \"insight\", \"integral\", \"intellectual\", \"intelligence\", \"intelligence\", \"intelligence\", \"intelligence\", \"interest\", \"intern\", \"inventory\", \"inventory\", \"invision\", \"irving\", \"issue\", \"issue\", \"issue\", \"itccs\", \"knit\", \"large\", \"large\", \"large\", \"large\", \"lending\", \"letter\", \"level\", \"level\", \"level\", \"level\", \"level\", \"license\", \"license\", \"limitation\", \"line\", \"line\", \"living\", \"loan\", \"loan\", \"love\", \"love\", \"love\", \"main\", \"main\", \"mainstreethub\", \"mainstreethub\", \"maintain\", \"maintain\", \"maintain\", \"maintain\", \"management\", \"management\", \"management\", \"management\", \"management\", \"mantra\", \"marketing\", \"marketing\", \"marketing\", \"marketing\", \"marketing\", \"math\", \"math\", \"math\", \"may\", \"may\", \"may\", \"may\", \"meal\", \"method\", \"method\", \"method\", \"method\", \"modeling\", \"modeling\", \"modeling\", \"modeling\", \"modeling\", \"moines\", \"multiple\", \"multiple\", \"multiple\", \"multiple\", \"multiple\", \"must\", \"must\", \"must\", \"must\", \"must\", \"nc\", \"need\", \"need\", \"need\", \"need\", \"need\", \"netsuite\", \"never\", \"new\", \"new\", \"new\", \"new\", \"new\", \"nonprofit\", \"north\", \"north\", \"operations\", \"operations\", \"operations\", \"operations\", \"opinion\", \"opportunity\", \"opportunity\", \"opportunity\", \"opportunity\", \"opportunity\", \"oracle\", \"oracle\", \"ownership\", \"ownership\", \"payment\", \"payment\", \"payment\", \"payment\", \"peak\", \"peims\", \"performer\", \"philosophy\", \"pimco\", \"pipeline\", \"pipeline\", \"pipeline\", \"plan\", \"plan\", \"plan\", \"plan\", \"plan\", \"planning\", \"planning\", \"planning\", \"planning\", \"player\", \"player\", \"player\", \"player\", \"portray\", \"potential\", \"potential\", \"potential\", \"prioritizebusiness\", \"problem\", \"problem\", \"problem\", \"problem\", \"problem\", \"procedure\", \"procedure\", \"procedure\", \"process\", \"process\", \"process\", \"process\", \"process\", \"product\", \"product\", \"product\", \"product\", \"product\", \"program\", \"program\", \"program\", \"program\", \"project\", \"project\", \"project\", \"project\", \"project\", \"property\", \"proprietary\", \"public\", \"public\", \"public\", \"question\", \"question\", \"question\", \"question\", \"quite\", \"r\", \"r\", \"r12\", \"reason\", \"recruit\", \"recruit\", \"recruit\", \"recruitment\", \"recruitment\", \"relate\", \"relate\", \"relate\", \"relate\", \"relate\", \"report\", \"report\", \"report\", \"report\", \"report\", \"reporting\", \"reporting\", \"reporting\", \"reporting\", \"research\", \"research\", \"research\", \"research\", \"research\", \"responsibility\", \"responsibility\", \"responsibility\", \"responsibility\", \"responsibility\", \"retention\", \"retiree\", \"retirement\", \"retirement\", \"review\", \"review\", \"review\", \"review\", \"role\", \"role\", \"role\", \"role\", \"role\", \"saint\", \"sales\", \"sales\", \"sales\", \"sales\", \"science\", \"science\", \"science\", \"science\", \"science\", \"selection\", \"selection\", \"service\", \"service\", \"service\", \"service\", \"service\", \"shirt\", \"skilled\", \"skilled\", \"slogan\", \"software\", \"software\", \"software\", \"software\", \"software\", \"soluta\", \"solution\", \"solution\", \"solution\", \"solution\", \"solution\", \"source\", \"source\", \"source\", \"source\", \"specification\", \"specification\", \"speech\", \"sql\", \"sql\", \"sql\", \"staff\", \"staff\", \"staff\", \"state\", \"state\", \"state\", \"state\", \"state\", \"statesman\", \"statistical\", \"statistical\", \"statistical\", \"statistical\", \"street\", \"street\", \"street\", \"strong\", \"strong\", \"strong\", \"strong\", \"student\", \"student\", \"subunit\", \"success\", \"success\", \"success\", \"success\", \"suggestion\", \"supercomputing\", \"support\", \"support\", \"support\", \"support\", \"support\", \"sustain\", \"sustain\", \"sustain\", \"system\", \"system\", \"system\", \"system\", \"system\", \"tceq\", \"technical\", \"technical\", \"technical\", \"technical\", \"technical\", \"technique\", \"technique\", \"technique\", \"technique\", \"technique\", \"terminal\", \"testing\", \"testing\", \"testing\", \"testing\", \"testing\", \"tethr\", \"texas\", \"texas\", \"texas\", \"texas\", \"texas\", \"text\", \"text\", \"thing\", \"things\", \"things\", \"threat\", \"three\", \"three\", \"three\", \"throughout\", \"time\", \"time\", \"time\", \"time\", \"time\", \"tm\", \"together\", \"together\", \"together\", \"tool\", \"tool\", \"tool\", \"tool\", \"top\", \"top\", \"transcend\", \"transit\", \"trend\", \"trend\", \"trend\", \"trend\", \"turn\", \"twc\", \"unit\", \"unit\", \"unit\", \"unravel\", \"us\", \"us\", \"us\", \"us\", \"use\", \"use\", \"use\", \"use\", \"use\", \"user\", \"user\", \"user\", \"user\", \"user\", \"using\", \"using\", \"using\", \"using\", \"veteran\", \"veteran\", \"veteran\", \"veteran\", \"veteran\", \"vista\", \"vista\", \"vital\", \"vital\", \"volume\", \"warehouse\", \"warehouse\", \"wear\", \"wells\", \"west\", \"wholesale\", \"workday\", \"working\", \"working\", \"working\", \"working\", \"would\", \"would\", \"www\", \"www\", \"www\", \"zerocater\", \"zynga\"]}, \"R\": 30, \"lambda.step\": 0.01, \"plot.opts\": {\"xlab\": \"PC1\", \"ylab\": \"PC2\"}, \"topic.order\": [1, 3, 4, 5, 2]};\n",
       "\n",
       "function LDAvis_load_lib(url, callback){\n",
       "  var s = document.createElement('script');\n",
       "  s.src = url;\n",
       "  s.async = true;\n",
       "  s.onreadystatechange = s.onload = callback;\n",
       "  s.onerror = function(){console.warn(\"failed to load library \" + url);};\n",
       "  document.getElementsByTagName(\"head\")[0].appendChild(s);\n",
       "}\n",
       "\n",
       "if(typeof(LDAvis) !== \"undefined\"){\n",
       "   // already loaded: just create the visualization\n",
       "   !function(LDAvis){\n",
       "       new LDAvis(\"#\" + \"ldavis_el836247397760884205715808\", ldavis_el836247397760884205715808_data);\n",
       "   }(LDAvis);\n",
       "}else if(typeof define === \"function\" && define.amd){\n",
       "   // require.js is available: use it to load d3/LDAvis\n",
       "   require.config({paths: {d3: \"https://cdnjs.cloudflare.com/ajax/libs/d3/3.5.5/d3.min\"}});\n",
       "   require([\"d3\"], function(d3){\n",
       "      window.d3 = d3;\n",
       "      LDAvis_load_lib(\"https://cdn.rawgit.com/bmabey/pyLDAvis/files/ldavis.v1.0.0.js\", function(){\n",
       "        new LDAvis(\"#\" + \"ldavis_el836247397760884205715808\", ldavis_el836247397760884205715808_data);\n",
       "      });\n",
       "    });\n",
       "}else{\n",
       "    // require.js not available: dynamically load d3 & LDAvis\n",
       "    LDAvis_load_lib(\"https://cdnjs.cloudflare.com/ajax/libs/d3/3.5.5/d3.min.js\", function(){\n",
       "         LDAvis_load_lib(\"https://cdn.rawgit.com/bmabey/pyLDAvis/files/ldavis.v1.0.0.js\", function(){\n",
       "                 new LDAvis(\"#\" + \"ldavis_el836247397760884205715808\", ldavis_el836247397760884205715808_data);\n",
       "            })\n",
       "         });\n",
       "}\n",
       "</script>"
      ],
      "text/plain": [
       "<IPython.core.display.HTML object>"
      ]
     },
     "execution_count": 56,
     "metadata": {},
     "output_type": "execute_result"
    }
   ],
   "source": [
    "lda_display = pyLDAvis.gensim.prepare(lda, corpus, dictionary)\n",
    "pyLDAvis.display(lda_display)"
   ]
  },
  {
   "cell_type": "markdown",
   "metadata": {},
   "source": [
    "# ------------------THIS IS WHERE EDDIE IS UP TO --------------------------------"
   ]
  },
  {
   "cell_type": "markdown",
   "metadata": {},
   "source": [
    "### MacOS online advice for clicking links\n",
    "element.send_keys(Keys.CONTROL + Keys.RETURN)  \n",
    "driver.switch_to.window(self.driver.window_handles[1])  \n",
    "#### do stuff  \n",
    "driver.close()  \n",
    "driver.switch_to.window(self.driver.window_handles[0])  "
   ]
  },
  {
   "cell_type": "markdown",
   "metadata": {},
   "source": [
    "## Using SpaCy for NLP - this is a Work in Progress (Eddie has not started this part yet)\n",
    "Objective: Setup for topic modeling and use LDA to determine feature importance"
   ]
  },
  {
   "cell_type": "code",
   "execution_count": 324,
   "metadata": {},
   "outputs": [],
   "source": [
    "parser = spacy.lang.en.English()\n",
    "nlp = spacy.load('en')"
   ]
  },
  {
   "cell_type": "code",
   "execution_count": 325,
   "metadata": {},
   "outputs": [],
   "source": [
    "def sent_to_words(sentences):\n",
    "    for sentence in sentences:\n",
    "        yield(simple_preprocess(str(pos_description),deacc=True))"
   ]
  },
  {
   "cell_type": "code",
   "execution_count": 326,
   "metadata": {},
   "outputs": [],
   "source": [
    "data_words = list(sent_to_words(pos_description))"
   ]
  },
  {
   "cell_type": "code",
   "execution_count": 328,
   "metadata": {},
   "outputs": [],
   "source": [
    "#Building bigram and trigram models\n",
    "bigram = gensim.models.Phrases(data_words, min_count=5, threshold=100)\n",
    "\n",
    "trigram = gensim.models.Phrases(bigram[data_words], threshold=100)"
   ]
  },
  {
   "cell_type": "code",
   "execution_count": 329,
   "metadata": {},
   "outputs": [],
   "source": [
    "bigram_mod = gensim.models.phrases.Phraser(bigram)\n",
    "trigram_mod = gensim.models.phrases.Phraser(trigram)"
   ]
  },
  {
   "cell_type": "code",
   "execution_count": 331,
   "metadata": {},
   "outputs": [],
   "source": [
    "def remove_stopwords(text):\n",
    "    return [[word for word in simple_preprocess(str(doc)) if word not in STOP_WORDS] for doc in text]\n",
    "\n",
    "def make_bigrams(text):\n",
    "    return [bigram_mod[doc] for doc in text]\n",
    "\n",
    "def make_trigrams(text):\n",
    "    return [trigram_mod[bigram_mod[doc]] for doc in text]\n",
    "\n",
    "def lemmatization(text, allowed_postags = ['NOUN','ADJ','VERB','ADV']):\n",
    "    text_rem = []\n",
    "    for sent in text:\n",
    "        doc = nlp(\" \".join(sent))\n",
    "        text_rem.append([token.lemma_ for token in doc if token.pos_ in allowed_postags])\n",
    "        return text_rem "
   ]
  },
  {
   "cell_type": "code",
   "execution_count": 332,
   "metadata": {},
   "outputs": [],
   "source": [
    "words_no_stops = remove_stopwords(data_words)\n",
    "\n",
    "word_bigrams = make_bigrams(words_no_stops)\n",
    "\n",
    "data_lemma =  lemmatization(word_bigrams, allowed_postags=['NOUN', 'ADJ', 'VERB', 'ADV'])"
   ]
  },
  {
   "cell_type": "code",
   "execution_count": 335,
   "metadata": {},
   "outputs": [],
   "source": [
    "id2word = corpora.Dictionary(data_lemma)"
   ]
  },
  {
   "cell_type": "code",
   "execution_count": 336,
   "metadata": {},
   "outputs": [],
   "source": [
    "texts = data_lemma"
   ]
  },
  {
   "cell_type": "code",
   "execution_count": 337,
   "metadata": {},
   "outputs": [],
   "source": [
    "corpus = [id2word.doc2bow(text) for text in texts]"
   ]
  },
  {
   "cell_type": "code",
   "execution_count": 338,
   "metadata": {},
   "outputs": [],
   "source": [
    "lda_model = gensim.models.ldamodel.LdaModel(corpus=corpus, id2word=id2word,num_topics=20,\n",
    "                               random_state=42,\n",
    "                               update_every=1,\n",
    "                               chunksize=100,\n",
    "                               passes=10,\n",
    "                               alpha='auto',\n",
    "                               per_word_topics=True)"
   ]
  },
  {
   "cell_type": "code",
   "execution_count": 339,
   "metadata": {},
   "outputs": [],
   "source": [
    "doc_lda = lda_model[corpus]"
   ]
  },
  {
   "cell_type": "code",
   "execution_count": 340,
   "metadata": {},
   "outputs": [
    {
     "name": "stdout",
     "output_type": "stream",
     "text": [
      "\n",
      "Perplexity:  -7.106306833828683\n",
      "\n",
      "Coherence Score:  0.26450302724652314\n"
     ]
    }
   ],
   "source": [
    "# Compute Perplexity\n",
    "print('\\nPerplexity: ', lda_model.log_perplexity(corpus))  # a measure of how good the model is. lower the better.\n",
    "\n",
    "# Compute Coherence Score\n",
    "coherence_model_lda = coherencemodel.CoherenceModel(model=lda_model, texts=data_lemma, dictionary=id2word, coherence='c_v')\n",
    "coherence_lda = coherence_model_lda.get_coherence()\n",
    "print('\\nCoherence Score: ', coherence_lda)"
   ]
  },
  {
   "cell_type": "code",
   "execution_count": 341,
   "metadata": {},
   "outputs": [
    {
     "data": {
      "text/html": [
       "\n",
       "<link rel=\"stylesheet\" type=\"text/css\" href=\"https://cdn.rawgit.com/bmabey/pyLDAvis/files/ldavis.v1.0.0.css\">\n",
       "\n",
       "\n",
       "<div id=\"ldavis_el1383620673395859603401407628\"></div>\n",
       "<script type=\"text/javascript\">\n",
       "\n",
       "var ldavis_el1383620673395859603401407628_data = {\"R\": 30, \"mdsDat\": {\"x\": [-0.07361859543290578, -0.0006713269862007525, 0.0006600289372657582, 0.0017506216869984238, 0.002052958738838514, 0.0027004854206751573, 0.003185597017653677, 0.0034567941063659785, 0.003545003871594676, 0.00382686289336779, 0.0037663251329314667, 0.003931300055992733, 0.004524298534777842, 0.005380850658488665, 0.005500162557955127, 0.00558091639045895, 0.005718988078738252, 0.006167102438417293, 0.006235027000736077, 0.006306598897850139], \"y\": [0.0, -0.0, 0.0, -0.0, 0.0, -0.0, -0.0, -0.0, 0.0, 0.0, -0.0, -0.0, 0.0, -0.0, 0.0, -0.0, -0.0, 0.0, -0.0, 0.0], \"topics\": [1, 2, 3, 4, 5, 6, 7, 8, 9, 10, 11, 12, 13, 14, 15, 16, 17, 18, 19, 20], \"Freq\": [99.96126556396484, 0.002045335015282035, 0.002044215565547347, 0.002043083542957902, 0.0020426169503480196, 0.0020418507046997547, 0.0020410993602126837, 0.002040733816102147, 0.0020404790993779898, 0.0020400064531713724, 0.0020400015637278557, 0.002039699349552393, 0.0020386194810271263, 0.002036116551607847, 0.0020355316810309887, 0.0020353528670966625, 0.00203486206009984, 0.002032374031841755, 0.0020320448093116283, 0.0020314352586865425], \"cluster\": [1, 1, 1, 1, 1, 1, 1, 1, 1, 1, 1, 1, 1, 1, 1, 1, 1, 1, 1, 1]}, \"tinfo\": {\"loglift\": [30.0, 29.0, 28.0, 27.0, 26.0, 25.0, 24.0, 23.0, 22.0, 21.0, 20.0, 19.0, 18.0, 17.0, 16.0, 15.0, 14.0, 13.0, 12.0, 11.0, 10.0, 9.0, 8.0, 7.0, 6.0, 5.0, 4.0, 3.0, 2.0, 1.0, 0.00039999998989515007, 0.0003000000142492354, 0.0003000000142492354, 0.0003000000142492354, 0.0003000000142492354, 0.0003000000142492354, 0.0003000000142492354, 0.0003000000142492354, 0.0003000000142492354, 0.0003000000142492354, 0.0003000000142492354, 0.0003000000142492354, 0.0003000000142492354, 0.0003000000142492354, 0.0003000000142492354, 0.0003000000142492354, 0.0003000000142492354, 0.0003000000142492354, 0.0003000000142492354, 0.0003000000142492354, 0.0003000000142492354, 0.0003000000142492354, 0.0003000000142492354, 0.0003000000142492354, 0.00019999999494757503, 0.00019999999494757503, 0.00019999999494757503, 0.00019999999494757503, 0.00019999999494757503, 0.00019999999494757503, 0.6764000058174133, 0.6762999892234802, 0.6761000156402588, 0.6754999756813049, 0.6754999756813049, 0.6754999756813049, 0.6751999855041504, 0.6751999855041504, 0.6748999953269958, 0.6748999953269958, 0.6747999787330627, 0.6747000217437744, 0.6746000051498413, 0.6744999885559082, 0.6743999719619751, 0.6739000082015991, 0.6736000180244446, 0.67330002784729, 0.6732000112533569, 0.6729999780654907, 0.6728000044822693, 0.6725999712944031, 0.6725000143051147, 0.6725000143051147, 0.6723999977111816, 0.6723999977111816, 0.6723999977111816, 0.6723999977111816, 0.6722999811172485, 0.6722999811172485, 0.6722999811172485, 0.6722999811172485, -1.8219000101089478, -2.150700092315674, -1.7359000444412231, -1.792099952697754, -1.9528000354766846, -1.2611000537872314, -2.0020999908447266, -1.7173999547958374, -1.2009999752044678, -1.40910005569458, -1.5851000547409058, -1.6593999862670898, -1.2122999429702759, -1.4221999645233154, -1.5936000347137451, -1.7458000183105469, -1.3323999643325806, -1.527400016784668, -1.530900001525879, -1.5437999963760376, -1.11899995803833, -1.1225999593734741, -0.9790999889373779, -1.3640999794006348, -1.2539000511169434, -0.8126000165939331, -0.6036999821662903, -0.9889000058174133, -0.9926999807357788, -0.8198000192642212, -0.9998000264167786, 0.6807000041007996, 0.6784999966621399, 0.6783000230789185, 0.6780999898910522, 0.6779999732971191, 0.6779999732971191, 0.6777999997138977, 0.6776000261306763, 0.6775000095367432, 0.677299976348877, 0.6771000027656555, 0.6769000291824341, 0.676800012588501, 0.6766999959945679, 0.6766999959945679, 0.6765999794006348, 0.6765999794006348, 0.6761999726295471, 0.6761999726295471, 0.6761000156402588, 0.6761000156402588, 0.6759999990463257, 0.6759999990463257, 0.6758999824523926, 0.6758000254631042, 0.6758000254631042, 0.6758000254631042, 0.6757000088691711, 0.675599992275238, 0.675599992275238, 0.6754000186920166, 0.6754999756813049, -2.1572000980377197, -1.5331000089645386, -2.0322000980377197, -1.830299973487854, -1.6449999809265137, -1.4915000200271606, -2.0541000366210938, -1.5012999773025513, -1.7279000282287598, -1.728700041770935, -1.9213000535964966, -1.3324999809265137, -1.523900032043457, -1.2302000522613525, -1.6117000579833984, -1.4471999406814575, -1.2371000051498413, -1.3515000343322754, -0.9728999733924866, -2.0144999027252197, -1.3681000471115112, -1.2646000385284424, -0.8192999958992004, -0.9940000176429749, -1.4833999872207642, -0.3411000072956085, -0.6141999959945679, -0.829200029373169, -0.8295999765396118, -1.007699966430664, -0.8353999853134155, -1.1644999980926514, -1.1656999588012695, 0.6807000041007996, 0.6804999709129333, 0.6801999807357788, 0.6801000237464905, 0.6797999739646912, 0.6794999837875366, 0.6794000267982483, 0.6790000200271606, 0.6789000034332275, 0.6786999702453613, 0.6786999702453613, 0.678600013256073, 0.678600013256073, 0.6784999966621399, 0.6783999800682068, 0.6783999800682068, 0.6783999800682068, 0.6783000230789185, 0.6783000230789185, 0.6783000230789185, 0.6783000230789185, 0.6782000064849854, 0.6782000064849854, 0.6780999898910522, 0.6779999732971191, 0.6779999732971191, 0.6779999732971191, 0.6777999997138977, 0.6777999997138977, 0.6777999997138977, 0.6776000261306763, 0.6776999831199646, -2.2815001010894775, -1.948799967765808, -2.0518999099731445, -2.0671000480651855, -1.865399956703186, -1.92330002784729, -1.7415000200271606, -1.743399977684021, -1.531499981880188, -1.4426000118255615, -1.5369999408721924, -1.3514000177383423, -1.544600009918213, -1.7107000350952148, -1.6397000551223755, -1.6405999660491943, -1.3767999410629272, -1.2687000036239624, -0.6122999787330627, 0.040800001472234726, -0.8281000256538391, -1.4896999597549438, -1.3909000158309937, -0.8288999795913696, -1.281599998474121, -0.8323000073432922, -0.6189000010490417, -1.0094000101089478, -1.1613999605178833, -0.6241999864578247, -1.2907999753952026, -1.1651999950408936, -1.0174000263214111, 0.6819000244140625, 0.6811000108718872, 0.6809999942779541, 0.680400013923645, 0.6801999807357788, 0.6801000237464905, 0.6800000071525574, 0.6798999905586243, 0.6797999739646912, 0.6797999739646912, 0.6794000267982483, 0.6793000102043152, 0.6791999936103821, 0.6791999936103821, 0.6791999936103821, 0.6790000200271606, 0.6790000200271606, 0.6789000034332275, 0.6787999868392944, 0.6787999868392944, 0.678600013256073, 0.678600013256073, 0.678600013256073, 0.6784999966621399, 0.6784999966621399, 0.6783999800682068, 0.6783999800682068, 0.6783999800682068, 0.6783000230789185, 0.6782000064849854, 0.6782000064849854, -2.24180006980896, -1.9708000421524048, -1.5938999652862549, -1.7451000213623047, -2.0859999656677246, -2.087100028991699, -1.9351999759674072, -1.6287000179290771, -1.246500015258789, -1.5556000471115112, -1.4656000137329102, -1.9138000011444092, -1.7877999544143677, -1.559000015258789, -1.3809000253677368, -1.5733000040054321, -0.8223999738693237, -0.9955999851226807, -1.1435999870300293, -1.38510000705719, -0.8251000046730042, -1.7416000366210938, -1.2759000062942505, -1.3895000219345093, -1.49399995803833, -1.0038000345230103, -0.8296999931335449, -1.2853000164031982, -1.0116000175476074, -0.8381999731063843, -1.0144000053405762, -1.1658999919891357, 0.6815000176429749, 0.6812999844551086, 0.6812000274658203, 0.6811000108718872, 0.6809999942779541, 0.6809999942779541, 0.6808000206947327, 0.6805999875068665, 0.680400013923645, 0.680400013923645, 0.680400013923645, 0.6802999973297119, 0.6802999973297119, 0.6802999973297119, 0.6801999807357788, 0.6801000237464905, 0.6801000237464905, 0.6801000237464905, 0.6801000237464905, 0.6801000237464905, 0.6798999905586243, 0.6798999905586243, 0.6798999905586243, 0.6797999739646912, 0.6797999739646912, 0.6797999739646912, 0.6797000169754028, 0.6797000169754028, 0.6796000003814697, 0.6796000003814697, 0.6796000003814697, 0.6796000003814697, 0.6794999837875366, -2.065700054168701, -2.3169000148773193, -2.075200080871582, -1.8767000436782837, -1.7029000520706177, -1.777400016784668, -1.9638999700546265, -1.7817000150680542, -2.029599905014038, -1.472100019454956, -1.6536999940872192, -1.5744999647140503, -1.2705999612808228, -1.5816999673843384, -1.1475000381469727, -1.392300009727478, -1.3947999477386475, -1.0047999620437622, -1.2839000225067139, -0.8321999907493591, -1.676300048828125, -0.838100016117096, -0.3497999906539917, -1.1638000011444092, -1.0155999660491943, -0.8411999940872192, -1.5115000009536743, -1.6045000553131104, -1.4098999500274658, -1.0174000263214111, -0.8460000157356262, -1.3080999851226807, 0.6827999949455261, 0.6827999949455261, 0.6825000047683716, 0.6822999715805054, 0.6822999715805054, 0.682200014591217, 0.6819999814033508, 0.6816999912261963, 0.6815000176429749, 0.6815000176429749, 0.6814000010490417, 0.6814000010490417, 0.6812999844551086, 0.6812999844551086, 0.6812000274658203, 0.6812000274658203, 0.6811000108718872, 0.6809999942779541, 0.6809999942779541, 0.6809999942779541, 0.680899977684021, 0.680899977684021, 0.680899977684021, 0.680899977684021, 0.6808000206947327, 0.6808000206947327, 0.6808000206947327, 0.6808000206947327, 0.6807000041007996, 0.6807000041007996, 0.6805999875068665, 0.6804999709129333, -2.084399938583374, -2.3341000080108643, -2.09060001373291, -1.5426000356674194, -2.0097999572753906, -1.784600019454956, -1.9187999963760376, -1.5742000341415405, -1.4837000370025635, -1.6605000495910645, -1.7395000457763672, -2.007999897003174, -1.3948999643325806, -1.5898000001907349, -1.4996999502182007, -1.8264000415802002, -1.0103000402450562, -1.289199948310852, -1.0125000476837158, -1.291100025177002, -1.684499979019165, -1.4107999801635742, -1.2963999509811401, -1.169600009918213, -1.0223000049591064, -1.023300051689148, -0.8479999899864197, -0.6320000290870667, -1.1754000186920166, -0.8495000004768372, -1.4220000505447388, 0.6837999820709229, 0.6834999918937683, 0.6832000017166138, 0.6829000115394592, 0.6827999949455261, 0.682699978351593, 0.682699978351593, 0.6826000213623047, 0.6825000047683716, 0.6823999881744385, 0.6822999715805054, 0.682200014591217, 0.682200014591217, 0.6819999814033508, 0.6819000244140625, 0.6819000244140625, 0.6818000078201294, 0.6816999912261963, 0.6815999746322632, 0.6815999746322632, 0.6815999746322632, 0.6815000176429749, 0.6814000010490417, 0.6812999844551086, 0.6812999844551086, 0.6812999844551086, 0.6812999844551086, 0.6812000274658203, 0.6812000274658203, 0.6811000108718872, 0.6809999942779541, -1.9872000217437744, -2.0882999897003174, -2.337599992752075, -2.095599889755249, -1.9083000421524048, -1.5729000568389893, -1.6569000482559204, -1.5771000385284424, -1.3896000385284424, -1.8228000402450562, -1.284000039100647, -2.014899969100952, -1.1606999635696411, -1.6820000410079956, -1.598099946975708, -1.162600040435791, -1.76419997215271, -1.510599970817566, -1.2934000492095947, -1.8432999849319458, -1.4147000312805176, -1.5189000368118286, -1.416599988937378, -0.6284999847412109, -0.8478000164031982, -1.0255000591278076, -1.0259000062942505, -0.6331999897956848, -0.8508999943733215, -0.8515999913215637, -1.3098000288009644, 0.6827999949455261, 0.682699978351593, 0.6826000213623047, 0.6825000047683716, 0.6822999715805054, 0.6822999715805054, 0.6822999715805054, 0.6819999814033508, 0.6819000244140625, 0.6819000244140625, 0.6819000244140625, 0.6819000244140625, 0.6819000244140625, 0.6818000078201294, 0.6816999912261963, 0.6815999746322632, 0.6815999746322632, 0.6815000176429749, 0.6815000176429749, 0.6815000176429749, 0.6815000176429749, 0.6815000176429749, 0.6814000010490417, 0.6814000010490417, 0.6814000010490417, 0.6812999844551086, 0.6812999844551086, 0.6812999844551086, 0.6812999844551086, 0.6812000274658203, 0.6811000108718872, 0.680899977684021, -2.1017000675201416, -2.359600067138672, -2.019700050354004, -1.7821999788284302, -1.7157000303268433, -1.9747999906539917, -1.7896000146865845, -1.5642999410629272, -2.1570000648498535, -1.5806000232696533, -1.944700002670288, -1.3939000368118286, -1.67330002784729, -1.594499945640564, -1.6800999641418457, -1.5068000555038452, -1.0149999856948853, -1.4056999683380127, -1.169700026512146, -1.5182000398635864, -1.302899956703186, -1.0242999792099, -1.3042000532150269, -0.8481000065803528, -1.1761000156402588, -1.308899998664856, -0.6359000205993652, -0.6363999843597412, -0.8529000282287598, 0.029999999329447746, -0.8540999889373779, -0.854200005531311, -1.4336999654769897, 0.6841999888420105, 0.6829000115394592, 0.6827999949455261, 0.6827999949455261, 0.682699978351593, 0.6826000213623047, 0.6826000213623047, 0.6825000047683716, 0.6825000047683716, 0.6822999715805054, 0.6822999715805054, 0.6822999715805054, 0.6822999715805054, 0.6822999715805054, 0.6822999715805054, 0.682200014591217, 0.682200014591217, 0.6820999979972839, 0.6820999979972839, 0.6820999979972839, 0.6819999814033508, 0.6819000244140625, 0.6819000244140625, 0.6819000244140625, 0.6819000244140625, 0.6818000078201294, 0.6818000078201294, 0.6818000078201294, 0.6816999912261963, 0.6816999912261963, 0.6816999912261963, 0.6815999746322632, 0.6815999746322632, -2.343899965286255, -2.1180999279022217, -1.7853000164031982, -1.7339999675750732, -2.148099899291992, -1.998900055885315, -1.8111000061035156, -1.6679999828338623, -1.4926999807357788, -2.0624001026153564, -1.6708999872207642, -1.4036999940872192, -1.9630999565124512, -1.406599998474121, -1.5133999586105347, -1.1668000221252441, -1.297700047492981, -1.608199954032898, -1.4128999710083008, -1.1684000492095947, -1.0197999477386475, -0.8442000150680542, -1.301200032234192, -1.0214999914169312, -1.6129000186920166, -1.0257999897003174, -0.8504999876022339, -0.35910001397132874, -0.6377999782562256, -1.6230000257492065, -0.8547999858856201, -1.0334999561309814, -1.3176000118255615, 0.6833999752998352, 0.6832000017166138, 0.6832000017166138, 0.6830999851226807, 0.6829000115394592, 0.6829000115394592, 0.682699978351593, 0.6826000213623047, 0.6826000213623047, 0.6823999881744385, 0.6822999715805054, 0.6822999715805054, 0.6822999715805054, 0.682200014591217, 0.682200014591217, 0.682200014591217, 0.682200014591217, 0.682200014591217, 0.6820999979972839, 0.6820999979972839, 0.6819999814033508, 0.6819999814033508, 0.6819999814033508, 0.6819999814033508, 0.6819000244140625, 0.6819000244140625, 0.6819000244140625, 0.6819000244140625, 0.6819000244140625, 0.6818000078201294, 0.6818000078201294, -2.329900026321411, -2.101799964904785, -1.9693000316619873, -2.036099910736084, -2.1384999752044678, -1.8015999794006348, -1.805799961090088, -1.385699987411499, -1.7503000497817993, -1.6734999418258667, -1.4021999835968018, -1.507200002670288, -1.9677000045776367, -1.6045000553131104, -1.1649999618530273, -1.6912000179290771, -1.6065000295639038, -1.611299991607666, -1.5190000534057617, -1.1717000007629395, -1.3016999959945679, -1.0227999687194824, -0.8461999893188477, -0.6349999904632568, -0.8528000116348267, -1.3097000122070312, -0.8535000085830688, -0.6373999714851379, -0.8543000221252441, -1.427299976348877, -1.311900019645691, -1.035599946975708, 0.6840000152587891, 0.6840000152587891, 0.6833999752998352, 0.6833000183105469, 0.6833000183105469, 0.6832000017166138, 0.6832000017166138, 0.6829000115394592, 0.6829000115394592, 0.6829000115394592, 0.6827999949455261, 0.682699978351593, 0.682699978351593, 0.682699978351593, 0.6826000213623047, 0.6826000213623047, 0.6826000213623047, 0.6825000047683716, 0.6825000047683716, 0.6823999881744385, 0.6822999715805054, 0.6822999715805054, 0.6822999715805054, 0.6822999715805054, 0.682200014591217, 0.682200014591217, 0.682200014591217, 0.682200014591217, 0.682200014591217, 0.682200014591217, 0.6820999979972839, 0.6820999979972839, -2.0732998847961426, -2.3359999656677246, -1.9900000095367432, -2.1456000804901123, -1.805799961090088, -1.4886000156402588, -1.9503999948501587, -1.6779999732971191, -1.7553999423980713, -1.5963000059127808, -1.5973000526428223, -2.0787999629974365, -1.8371000289916992, -1.6022000312805176, -1.5126999616622925, -1.6930999755859375, -1.2985999584197998, -0.8421000242233276, -1.4156999588012695, -0.8489000201225281, -1.1780999898910522, -0.8515999913215637, -0.8518999814987183, -0.8522999882698059, -1.4239000082015991, -0.3598000109195709, -0.8537999987602234, -1.3128000497817993, -1.1825000047683716, -1.3149000406265259, -1.0328999757766724, -1.4362000226974487, 0.6854000091552734, 0.6851000189781189, 0.6844000220298767, 0.6841999888420105, 0.6840999722480774, 0.6840999722480774, 0.6840000152587891, 0.6840000152587891, 0.683899998664856, 0.6837999820709229, 0.6837999820709229, 0.6837999820709229, 0.6837999820709229, 0.6837999820709229, 0.6837000250816345, 0.6837000250816345, 0.6836000084877014, 0.6834999918937683, 0.6833999752998352, 0.6833999752998352, 0.6833999752998352, 0.6833999752998352, 0.6833999752998352, 0.6833000183105469, 0.6833000183105469, 0.6833000183105469, 0.6833000183105469, 0.6832000017166138, 0.6832000017166138, 0.6832000017166138, 0.6830999851226807, 0.6830999851226807, 0.6829000115394592, -2.1494998931884766, -2.4040000438690186, -2.1577999591827393, -2.0018999576568604, -1.8198000192642212, -1.6782000064849854, -2.0755999088287354, -1.833899974822998, -1.6861000061035156, -1.6013000011444092, -1.767199993133545, -1.5133999586105347, -1.6065000295639038, -1.6131000518798828, -0.8490999937057495, -1.9825999736785889, -1.3079999685287476, -1.4248000383377075, -1.4256000518798828, -1.5302000045776367, -1.3116999864578247, -1.1829999685287476, -1.0322999954223633, -1.4316999912261963, -0.8550000190734863, -0.8550999760627747, -1.0339000225067139, -1.035099983215332, -1.186900019645691, -0.857699990272522, -1.3238999843597412, 0.6858999729156494, 0.6858000159263611, 0.6858000159263611, 0.685699999332428, 0.6855000257492065, 0.6854000091552734, 0.6854000091552734, 0.6852999925613403, 0.6852999925613403, 0.6852999925613403, 0.6851999759674072, 0.6851999759674072, 0.6851999759674072, 0.6851999759674072, 0.6851999759674072, 0.6851000189781189, 0.6851000189781189, 0.6851000189781189, 0.6850000023841858, 0.6850000023841858, 0.6850000023841858, 0.6850000023841858, 0.6848999857902527, 0.6848999857902527, 0.6848999857902527, 0.6848999857902527, 0.6848999857902527, 0.6848999857902527, 0.6848999857902527, 0.6848000288009644, 0.6848000288009644, 0.6847000122070312, 0.6848000288009644, 0.6847000122070312, 0.6847000122070312, -2.171600103378296, -2.435499906539917, -2.0237998962402344, -2.188800096511841, -2.090399980545044, -1.8493000268936157, -1.6191999912261963, -1.7864999771118164, -1.6233999729156494, -1.7098000049591064, -1.3152999877929688, -1.6291999816894531, -1.867799997329712, -1.9996999502182007, -1.5377999544143677, -1.5398000478744507, -1.437000036239624, -1.191499948501587, -1.0420000553131104, -0.864300012588501, -1.3265000581741333, -0.8657000064849854, -0.6471999883651733, -1.4433000087738037, -0.6478000283241272, -0.6484000086784363, -1.0458999872207642, -0.8669999837875366, -1.045799970626831, -0.8669999837875366, -1.729200005531311, -1.4458999633789062, -1.1979999542236328, 0.6862000226974487, 0.6859999895095825, 0.685699999332428, 0.685699999332428, 0.685699999332428, 0.685699999332428, 0.685699999332428, 0.6855999827384949, 0.6855999827384949, 0.6855999827384949, 0.6855999827384949, 0.6855000257492065, 0.6855000257492065, 0.6854000091552734, 0.6854000091552734, 0.6854000091552734, 0.6852999925613403, 0.6852999925613403, 0.6852999925613403, 0.6851999759674072, 0.6851999759674072, 0.6851999759674072, 0.6851999759674072, 0.6851999759674072, 0.6851000189781189, 0.6851000189781189, 0.6851000189781189, 0.6851000189781189, 0.6851000189781189, 0.6851000189781189, 0.6851000189781189, 0.6850000023841858, 0.6850000023841858, 0.6848999857902527, -2.1809000968933105, -2.188999891281128, -2.448199987411499, -1.6174999475479126, -1.7029999494552612, -2.1064000129699707, -1.9912999868392944, -1.6217999458312988, -1.7884000539779663, -1.5307999849319458, -2.054500102996826, -1.8657000064849854, -1.5353000164031982, -1.7160999774932861, -1.868299961090088, -1.6312999725341797, -1.4355000257492065, -1.4357999563217163, -1.4357999563217163, -1.3208999633789062, -1.3214000463485718, -0.6420000195503235, -1.1913000345230103, -1.1923999786376953, -1.3236000537872314, -0.644599974155426, -0.8640999794006348, -0.8669000267982483, -0.36809998750686646, -0.8682000041007996, -0.8677999973297119, 0.6866000294685364, 0.6861000061035156, 0.6858999729156494, 0.6858999729156494, 0.6858000159263611, 0.6858000159263611, 0.6858000159263611, 0.685699999332428, 0.685699999332428, 0.6855999827384949, 0.6855999827384949, 0.6855999827384949, 0.6855999827384949, 0.6855999827384949, 0.6855000257492065, 0.6855000257492065, 0.6855000257492065, 0.6855000257492065, 0.6855000257492065, 0.6855000257492065, 0.6854000091552734, 0.6854000091552734, 0.6854000091552734, 0.6854000091552734, 0.6854000091552734, 0.6854000091552734, 0.6854000091552734, 0.6852999925613403, 0.6852999925613403, 0.6852999925613403, 0.6851000189781189, 0.6851999759674072, 0.6850000023841858, 0.6850000023841858, -1.9665000438690186, -2.185699939727783, -2.1972999572753906, -2.039099931716919, -1.850100040435791, -2.455899953842163, -1.8580000400543213, -1.7870999574661255, -2.112499952316284, -1.7160999774932861, -1.6303000450134277, -1.631700038909912, -1.538599967956543, -1.718999981880188, -1.1898000240325928, -1.63510000705719, -1.3220000267028809, -1.541599988937378, -0.8646000027656555, -0.866100013256073, -0.6478000283241272, -1.4438999891281128, -1.4443000555038452, -0.6492999792098999, -0.6488000154495239, -0.6496999859809875, -1.4469000101089478, -1.3315999507904053, -1.048699975013733, -0.8684999942779541, -1.0491000413894653, -1.202299952507019, -1.3353999853134155, 0.6862000226974487, 0.6861000061035156, 0.6859999895095825, 0.6859999895095825, 0.6859999895095825, 0.6859999895095825, 0.6858999729156494, 0.6858999729156494, 0.6858999729156494, 0.6858999729156494, 0.6858000159263611, 0.6858000159263611, 0.6858000159263611, 0.6858000159263611, 0.6858000159263611, 0.6858000159263611, 0.6858000159263611, 0.685699999332428, 0.685699999332428, 0.685699999332428, 0.685699999332428, 0.6855999827384949, 0.6855999827384949, 0.6855999827384949, 0.6855999827384949, 0.6855999827384949, 0.6855999827384949, 0.6855000257492065, 0.6855000257492065, 0.6855000257492065, 0.6854000091552734, 0.6852999925613403, 0.6852999925613403, -2.446500062942505, -2.0350000858306885, -2.1998000144958496, -1.7077000141143799, -2.21589994430542, -2.112499952316284, -1.4297000169754028, -1.8667000532150269, -1.716599941253662, -1.63100004196167, -2.001499891281128, -1.319200038909912, -1.1913000345230103, -1.4394999742507935, -1.6374000310897827, -1.5435999631881714, -1.802299976348877, -1.8772000074386597, -1.5454000234603882, -1.442199945449829, -1.6402000188827515, -1.0439000129699707, -0.8654000163078308, -0.8659999966621399, -1.044700026512146, -0.6478000283241272, -1.3282999992370605, -0.8673999905586243, -0.6496000289916992, -1.0468000173568726, -1.3310999870300293, -1.1995999813079834, -1.0465999841690063, 0.6870999932289124, 0.6869000196456909, 0.6868000030517578, 0.6868000030517578, 0.6866999864578247, 0.6866999864578247, 0.6866999864578247, 0.6866000294685364, 0.6866000294685364, 0.6866000294685364, 0.6866000294685364, 0.6866000294685364, 0.6866000294685364, 0.6865000128746033, 0.6865000128746033, 0.6865000128746033, 0.6865000128746033, 0.6865000128746033, 0.6863999962806702, 0.6863999962806702, 0.6863999962806702, 0.6863999962806702, 0.6863999962806702, 0.6863999962806702, 0.6862999796867371, 0.6862999796867371, 0.6862999796867371, 0.6862999796867371, 0.6862999796867371, 0.6862999796867371, 0.6862999796867371, 0.6862999796867371, 0.6861000061035156, 0.6862000226974487, 0.6862000226974487, 0.6862000226974487, 0.6859999895095825, 0.6858000159263611, -2.4635000228881836, -2.217400074005127, -2.221100091934204, -2.003700017929077, -1.8005000352859497, -1.7218999862670898, -2.065700054168701, -1.5437999963760376, -1.4420000314712524, -1.8782999515533447, -1.6407999992370605, -1.8813999891281128, -1.6439000368118286, -2.1359000205993652, -1.329699993133545, -1.6470999717712402, -1.447700023651123, -1.5528000593185425, -1.448099970817566, -1.3313000202178955, -1.200700044631958, -1.200700044631958, -1.3339999914169312, -1.0505000352859497, -1.7404999732971191, -0.8719000220298767, -1.0527000427246094, -1.052899956703186, -0.8730000257492065, -0.8729000091552734, 0.6870999932289124, 0.6869999766349792, 0.6869000196456909, 0.6868000030517578, 0.6868000030517578, 0.6868000030517578, 0.6866999864578247, 0.6866999864578247, 0.6866999864578247, 0.6866000294685364, 0.6866000294685364, 0.6866000294685364, 0.6866000294685364, 0.6866000294685364, 0.6865000128746033, 0.6865000128746033, 0.6865000128746033, 0.6865000128746033, 0.6865000128746033, 0.6865000128746033, 0.6865000128746033, 0.6865000128746033, 0.6865000128746033, 0.6865000128746033, 0.6865000128746033, 0.6863999962806702, 0.6863999962806702, 0.6863999962806702, 0.6863999962806702, 0.6863999962806702, 0.6863999962806702, 0.6863999962806702, 0.6862999796867371, 0.6862999796867371, 0.6862999796867371, 0.6862999796867371, 0.6862000226974487, 0.6862999796867371, 0.6862999796867371, 0.6862999796867371, 0.6862000226974487, -2.221400022506714, -2.2225000858306885, -1.8705999851226807, -2.1191999912261963, -2.0638999938964844, -2.488300085067749, -1.8046000003814697, -1.5470000505447388, -1.3272000551223755, -1.5475000143051147, -2.014899969100952, -1.7307000160217285, -1.731600046157837, -1.4458999633789062, -1.6456999778747559, -1.886199951171875, -1.6461000442504883, -1.447700023651123, -1.3316999673843384, -1.6484999656677246, -1.1996999979019165, -1.333299994468689, -1.451799988746643, -1.0498000383377075, -0.8697999715805054, -1.0506999492645264, -1.0506999492645264, -1.204699993133545, -0.8726999759674072, -0.8730000257492065, 0.6875, 0.6873000264167786, 0.6873000264167786, 0.6869000196456909, 0.6868000030517578, 0.6868000030517578, 0.6868000030517578, 0.6868000030517578, 0.6866999864578247, 0.6866999864578247, 0.6866999864578247, 0.6866999864578247, 0.6866999864578247, 0.6866999864578247, 0.6866999864578247, 0.6866999864578247, 0.6866000294685364, 0.6866000294685364, 0.6866000294685364, 0.6866000294685364, 0.6866000294685364, 0.6866000294685364, 0.6866000294685364, 0.6865000128746033, 0.6865000128746033, 0.6865000128746033, 0.6865000128746033, 0.6865000128746033, 0.6865000128746033, 0.6865000128746033, 0.6865000128746033, 0.6865000128746033, 0.6865000128746033, 0.6865000128746033, 0.6865000128746033, 0.6865000128746033, 0.6865000128746033, 0.6862000226974487, 0.6863999962806702, 0.6862000226974487, -2.218400001525879, -2.4827001094818115, -2.0053999423980713, -1.6367000341415405, -2.068700075149536, -1.8782000541687012, -1.7273000478744507, -2.2316999435424805, -1.5480999946594238, -2.1280999183654785, -1.881700038909912, -1.5501999855041504, -1.812000036239624, -1.645799994468689, -1.7338000535964966, -1.3308000564575195, -1.3324999809265137, -1.649399995803833, -1.3339999914169312, -1.2032999992370605, -1.2038999795913696, -1.4539999961853027, -1.4549000263214111, -1.455299973487854, -1.0534000396728516, -1.0530999898910522, -0.8733000159263611, -0.8740000128746033, -0.8733999729156494, -0.8737999796867371], \"Category\": [\"Default\", \"Default\", \"Default\", \"Default\", \"Default\", \"Default\", \"Default\", \"Default\", \"Default\", \"Default\", \"Default\", \"Default\", \"Default\", \"Default\", \"Default\", \"Default\", \"Default\", \"Default\", \"Default\", \"Default\", \"Default\", \"Default\", \"Default\", \"Default\", \"Default\", \"Default\", \"Default\", \"Default\", \"Default\", \"Default\", \"Topic1\", \"Topic1\", \"Topic1\", \"Topic1\", \"Topic1\", \"Topic1\", \"Topic1\", \"Topic1\", \"Topic1\", \"Topic1\", \"Topic1\", \"Topic1\", \"Topic1\", \"Topic1\", \"Topic1\", \"Topic1\", \"Topic1\", \"Topic1\", \"Topic1\", \"Topic1\", \"Topic1\", \"Topic1\", \"Topic1\", \"Topic1\", \"Topic1\", \"Topic1\", \"Topic1\", \"Topic1\", \"Topic1\", \"Topic1\", \"Topic2\", \"Topic2\", \"Topic2\", \"Topic2\", \"Topic2\", \"Topic2\", \"Topic2\", \"Topic2\", \"Topic2\", \"Topic2\", \"Topic2\", \"Topic2\", \"Topic2\", \"Topic2\", \"Topic2\", \"Topic2\", \"Topic2\", \"Topic2\", \"Topic2\", \"Topic2\", \"Topic2\", \"Topic2\", \"Topic2\", \"Topic2\", \"Topic2\", \"Topic2\", \"Topic2\", \"Topic2\", \"Topic2\", \"Topic2\", \"Topic2\", \"Topic2\", \"Topic2\", \"Topic2\", \"Topic2\", \"Topic2\", \"Topic2\", \"Topic2\", \"Topic2\", \"Topic2\", \"Topic2\", \"Topic2\", \"Topic2\", \"Topic2\", \"Topic2\", \"Topic2\", \"Topic2\", \"Topic2\", \"Topic2\", \"Topic2\", \"Topic2\", \"Topic2\", \"Topic2\", \"Topic2\", \"Topic2\", \"Topic2\", \"Topic2\", \"Topic2\", \"Topic2\", \"Topic2\", \"Topic2\", \"Topic2\", \"Topic2\", \"Topic3\", \"Topic3\", \"Topic3\", \"Topic3\", \"Topic3\", \"Topic3\", \"Topic3\", \"Topic3\", \"Topic3\", \"Topic3\", \"Topic3\", \"Topic3\", \"Topic3\", \"Topic3\", \"Topic3\", \"Topic3\", \"Topic3\", \"Topic3\", \"Topic3\", \"Topic3\", \"Topic3\", \"Topic3\", \"Topic3\", \"Topic3\", \"Topic3\", \"Topic3\", \"Topic3\", \"Topic3\", \"Topic3\", \"Topic3\", \"Topic3\", \"Topic3\", \"Topic3\", \"Topic3\", \"Topic3\", \"Topic3\", \"Topic3\", \"Topic3\", \"Topic3\", \"Topic3\", \"Topic3\", \"Topic3\", \"Topic3\", \"Topic3\", \"Topic3\", \"Topic3\", \"Topic3\", \"Topic3\", \"Topic3\", \"Topic3\", \"Topic3\", \"Topic3\", \"Topic3\", \"Topic3\", \"Topic3\", \"Topic3\", \"Topic3\", \"Topic3\", \"Topic3\", \"Topic3\", \"Topic3\", \"Topic3\", \"Topic3\", \"Topic3\", \"Topic3\", \"Topic4\", \"Topic4\", \"Topic4\", \"Topic4\", \"Topic4\", \"Topic4\", \"Topic4\", \"Topic4\", \"Topic4\", \"Topic4\", \"Topic4\", \"Topic4\", \"Topic4\", \"Topic4\", \"Topic4\", \"Topic4\", \"Topic4\", \"Topic4\", \"Topic4\", \"Topic4\", \"Topic4\", \"Topic4\", \"Topic4\", \"Topic4\", \"Topic4\", \"Topic4\", \"Topic4\", \"Topic4\", \"Topic4\", \"Topic4\", \"Topic4\", \"Topic4\", \"Topic4\", \"Topic4\", \"Topic4\", \"Topic4\", \"Topic4\", \"Topic4\", \"Topic4\", \"Topic4\", \"Topic4\", \"Topic4\", \"Topic4\", \"Topic4\", \"Topic4\", \"Topic4\", \"Topic4\", \"Topic4\", \"Topic4\", \"Topic4\", \"Topic4\", \"Topic4\", \"Topic4\", \"Topic4\", \"Topic4\", \"Topic4\", \"Topic4\", \"Topic4\", \"Topic4\", \"Topic4\", \"Topic4\", \"Topic4\", \"Topic4\", \"Topic4\", \"Topic4\", \"Topic5\", \"Topic5\", \"Topic5\", \"Topic5\", \"Topic5\", \"Topic5\", \"Topic5\", \"Topic5\", \"Topic5\", \"Topic5\", \"Topic5\", \"Topic5\", \"Topic5\", \"Topic5\", \"Topic5\", \"Topic5\", \"Topic5\", \"Topic5\", \"Topic5\", \"Topic5\", \"Topic5\", \"Topic5\", \"Topic5\", \"Topic5\", \"Topic5\", \"Topic5\", \"Topic5\", \"Topic5\", \"Topic5\", \"Topic5\", \"Topic5\", \"Topic5\", \"Topic5\", \"Topic5\", \"Topic5\", \"Topic5\", \"Topic5\", \"Topic5\", \"Topic5\", \"Topic5\", \"Topic5\", \"Topic5\", \"Topic5\", \"Topic5\", \"Topic5\", \"Topic5\", \"Topic5\", \"Topic5\", \"Topic5\", \"Topic5\", \"Topic5\", \"Topic5\", \"Topic5\", \"Topic5\", \"Topic5\", \"Topic5\", \"Topic5\", \"Topic5\", \"Topic5\", \"Topic5\", \"Topic5\", \"Topic5\", \"Topic5\", \"Topic6\", \"Topic6\", \"Topic6\", \"Topic6\", \"Topic6\", \"Topic6\", \"Topic6\", \"Topic6\", \"Topic6\", \"Topic6\", \"Topic6\", \"Topic6\", \"Topic6\", \"Topic6\", \"Topic6\", \"Topic6\", \"Topic6\", \"Topic6\", \"Topic6\", \"Topic6\", \"Topic6\", \"Topic6\", \"Topic6\", \"Topic6\", \"Topic6\", \"Topic6\", \"Topic6\", \"Topic6\", \"Topic6\", \"Topic6\", \"Topic6\", \"Topic6\", \"Topic6\", \"Topic6\", \"Topic6\", \"Topic6\", \"Topic6\", \"Topic6\", \"Topic6\", \"Topic6\", \"Topic6\", \"Topic6\", \"Topic6\", \"Topic6\", \"Topic6\", \"Topic6\", \"Topic6\", \"Topic6\", \"Topic6\", \"Topic6\", \"Topic6\", \"Topic6\", \"Topic6\", \"Topic6\", \"Topic6\", \"Topic6\", \"Topic6\", \"Topic6\", \"Topic6\", \"Topic6\", \"Topic6\", \"Topic6\", \"Topic6\", \"Topic6\", \"Topic6\", \"Topic7\", \"Topic7\", \"Topic7\", \"Topic7\", \"Topic7\", \"Topic7\", \"Topic7\", \"Topic7\", \"Topic7\", \"Topic7\", \"Topic7\", \"Topic7\", \"Topic7\", \"Topic7\", \"Topic7\", \"Topic7\", \"Topic7\", \"Topic7\", \"Topic7\", \"Topic7\", \"Topic7\", \"Topic7\", \"Topic7\", \"Topic7\", \"Topic7\", \"Topic7\", \"Topic7\", \"Topic7\", \"Topic7\", \"Topic7\", \"Topic7\", \"Topic7\", \"Topic7\", \"Topic7\", \"Topic7\", \"Topic7\", \"Topic7\", \"Topic7\", \"Topic7\", \"Topic7\", \"Topic7\", \"Topic7\", \"Topic7\", \"Topic7\", \"Topic7\", \"Topic7\", \"Topic7\", \"Topic7\", \"Topic7\", \"Topic7\", \"Topic7\", \"Topic7\", \"Topic7\", \"Topic7\", \"Topic7\", \"Topic7\", \"Topic7\", \"Topic7\", \"Topic7\", \"Topic7\", \"Topic7\", \"Topic7\", \"Topic7\", \"Topic8\", \"Topic8\", \"Topic8\", \"Topic8\", \"Topic8\", \"Topic8\", \"Topic8\", \"Topic8\", \"Topic8\", \"Topic8\", \"Topic8\", \"Topic8\", \"Topic8\", \"Topic8\", \"Topic8\", \"Topic8\", \"Topic8\", \"Topic8\", \"Topic8\", \"Topic8\", \"Topic8\", \"Topic8\", \"Topic8\", \"Topic8\", \"Topic8\", \"Topic8\", \"Topic8\", \"Topic8\", \"Topic8\", \"Topic8\", \"Topic8\", \"Topic8\", \"Topic8\", \"Topic8\", \"Topic8\", \"Topic8\", \"Topic8\", \"Topic8\", \"Topic8\", \"Topic8\", \"Topic8\", \"Topic8\", \"Topic8\", \"Topic8\", \"Topic8\", \"Topic8\", \"Topic8\", \"Topic8\", \"Topic8\", \"Topic8\", \"Topic8\", \"Topic8\", \"Topic8\", \"Topic8\", \"Topic8\", \"Topic8\", \"Topic8\", \"Topic8\", \"Topic8\", \"Topic8\", \"Topic8\", \"Topic8\", \"Topic9\", \"Topic9\", \"Topic9\", \"Topic9\", \"Topic9\", \"Topic9\", \"Topic9\", \"Topic9\", \"Topic9\", \"Topic9\", \"Topic9\", \"Topic9\", \"Topic9\", \"Topic9\", \"Topic9\", \"Topic9\", \"Topic9\", \"Topic9\", \"Topic9\", \"Topic9\", \"Topic9\", \"Topic9\", \"Topic9\", \"Topic9\", \"Topic9\", \"Topic9\", \"Topic9\", \"Topic9\", \"Topic9\", \"Topic9\", \"Topic9\", \"Topic9\", \"Topic9\", \"Topic9\", \"Topic9\", \"Topic9\", \"Topic9\", \"Topic9\", \"Topic9\", \"Topic9\", \"Topic9\", \"Topic9\", \"Topic9\", \"Topic9\", \"Topic9\", \"Topic9\", \"Topic9\", \"Topic9\", \"Topic9\", \"Topic9\", \"Topic9\", \"Topic9\", \"Topic9\", \"Topic9\", \"Topic9\", \"Topic9\", \"Topic9\", \"Topic9\", \"Topic9\", \"Topic9\", \"Topic9\", \"Topic9\", \"Topic9\", \"Topic9\", \"Topic9\", \"Topic10\", \"Topic10\", \"Topic10\", \"Topic10\", \"Topic10\", \"Topic10\", \"Topic10\", \"Topic10\", \"Topic10\", \"Topic10\", \"Topic10\", \"Topic10\", \"Topic10\", \"Topic10\", \"Topic10\", \"Topic10\", \"Topic10\", \"Topic10\", \"Topic10\", \"Topic10\", \"Topic10\", \"Topic10\", \"Topic10\", \"Topic10\", \"Topic10\", \"Topic10\", \"Topic10\", \"Topic10\", \"Topic10\", \"Topic10\", \"Topic10\", \"Topic10\", \"Topic10\", \"Topic10\", \"Topic10\", \"Topic10\", \"Topic10\", \"Topic10\", \"Topic10\", \"Topic10\", \"Topic10\", \"Topic10\", \"Topic10\", \"Topic10\", \"Topic10\", \"Topic10\", \"Topic10\", \"Topic10\", \"Topic10\", \"Topic10\", \"Topic10\", \"Topic10\", \"Topic10\", \"Topic10\", \"Topic10\", \"Topic10\", \"Topic10\", \"Topic10\", \"Topic10\", \"Topic10\", \"Topic10\", \"Topic10\", \"Topic10\", \"Topic10\", \"Topic10\", \"Topic10\", \"Topic11\", \"Topic11\", \"Topic11\", \"Topic11\", \"Topic11\", \"Topic11\", \"Topic11\", \"Topic11\", \"Topic11\", \"Topic11\", \"Topic11\", \"Topic11\", \"Topic11\", \"Topic11\", \"Topic11\", \"Topic11\", \"Topic11\", \"Topic11\", \"Topic11\", \"Topic11\", \"Topic11\", \"Topic11\", \"Topic11\", \"Topic11\", \"Topic11\", \"Topic11\", \"Topic11\", \"Topic11\", \"Topic11\", \"Topic11\", \"Topic11\", \"Topic11\", \"Topic11\", \"Topic11\", \"Topic11\", \"Topic11\", \"Topic11\", \"Topic11\", \"Topic11\", \"Topic11\", \"Topic11\", \"Topic11\", \"Topic11\", \"Topic11\", \"Topic11\", \"Topic11\", \"Topic11\", \"Topic11\", \"Topic11\", \"Topic11\", \"Topic11\", \"Topic11\", \"Topic11\", \"Topic11\", \"Topic11\", \"Topic11\", \"Topic11\", \"Topic11\", \"Topic11\", \"Topic11\", \"Topic11\", \"Topic11\", \"Topic11\", \"Topic12\", \"Topic12\", \"Topic12\", \"Topic12\", \"Topic12\", \"Topic12\", \"Topic12\", \"Topic12\", \"Topic12\", \"Topic12\", \"Topic12\", \"Topic12\", \"Topic12\", \"Topic12\", \"Topic12\", \"Topic12\", \"Topic12\", \"Topic12\", \"Topic12\", \"Topic12\", \"Topic12\", \"Topic12\", \"Topic12\", \"Topic12\", \"Topic12\", \"Topic12\", \"Topic12\", \"Topic12\", \"Topic12\", \"Topic12\", \"Topic12\", \"Topic12\", \"Topic12\", \"Topic12\", \"Topic12\", \"Topic12\", \"Topic12\", \"Topic12\", \"Topic12\", \"Topic12\", \"Topic12\", \"Topic12\", \"Topic12\", \"Topic12\", \"Topic12\", \"Topic12\", \"Topic12\", \"Topic12\", \"Topic12\", \"Topic12\", \"Topic12\", \"Topic12\", \"Topic12\", \"Topic12\", \"Topic12\", \"Topic12\", \"Topic12\", \"Topic12\", \"Topic12\", \"Topic12\", \"Topic12\", \"Topic12\", \"Topic12\", \"Topic12\", \"Topic13\", \"Topic13\", \"Topic13\", \"Topic13\", \"Topic13\", \"Topic13\", \"Topic13\", \"Topic13\", \"Topic13\", \"Topic13\", \"Topic13\", \"Topic13\", \"Topic13\", \"Topic13\", \"Topic13\", \"Topic13\", \"Topic13\", \"Topic13\", \"Topic13\", \"Topic13\", \"Topic13\", \"Topic13\", \"Topic13\", \"Topic13\", \"Topic13\", \"Topic13\", \"Topic13\", \"Topic13\", \"Topic13\", \"Topic13\", \"Topic13\", \"Topic13\", \"Topic13\", \"Topic13\", \"Topic13\", \"Topic13\", \"Topic13\", \"Topic13\", \"Topic13\", \"Topic13\", \"Topic13\", \"Topic13\", \"Topic13\", \"Topic13\", \"Topic13\", \"Topic13\", \"Topic13\", \"Topic13\", \"Topic13\", \"Topic13\", \"Topic13\", \"Topic13\", \"Topic13\", \"Topic13\", \"Topic13\", \"Topic13\", \"Topic13\", \"Topic13\", \"Topic13\", \"Topic13\", \"Topic13\", \"Topic13\", \"Topic13\", \"Topic13\", \"Topic14\", \"Topic14\", \"Topic14\", \"Topic14\", \"Topic14\", \"Topic14\", \"Topic14\", \"Topic14\", \"Topic14\", \"Topic14\", \"Topic14\", \"Topic14\", \"Topic14\", \"Topic14\", \"Topic14\", \"Topic14\", \"Topic14\", \"Topic14\", \"Topic14\", \"Topic14\", \"Topic14\", \"Topic14\", \"Topic14\", \"Topic14\", \"Topic14\", \"Topic14\", \"Topic14\", \"Topic14\", \"Topic14\", \"Topic14\", \"Topic14\", \"Topic14\", \"Topic14\", \"Topic14\", \"Topic14\", \"Topic14\", \"Topic14\", \"Topic14\", \"Topic14\", \"Topic14\", \"Topic14\", \"Topic14\", \"Topic14\", \"Topic14\", \"Topic14\", \"Topic14\", \"Topic14\", \"Topic14\", \"Topic14\", \"Topic14\", \"Topic14\", \"Topic14\", \"Topic14\", \"Topic14\", \"Topic14\", \"Topic14\", \"Topic14\", \"Topic14\", \"Topic14\", \"Topic14\", \"Topic14\", \"Topic14\", \"Topic14\", \"Topic14\", \"Topic14\", \"Topic14\", \"Topic14\", \"Topic14\", \"Topic15\", \"Topic15\", \"Topic15\", \"Topic15\", \"Topic15\", \"Topic15\", \"Topic15\", \"Topic15\", \"Topic15\", \"Topic15\", \"Topic15\", \"Topic15\", \"Topic15\", \"Topic15\", \"Topic15\", \"Topic15\", \"Topic15\", \"Topic15\", \"Topic15\", \"Topic15\", \"Topic15\", \"Topic15\", \"Topic15\", \"Topic15\", \"Topic15\", \"Topic15\", \"Topic15\", \"Topic15\", \"Topic15\", \"Topic15\", \"Topic15\", \"Topic15\", \"Topic15\", \"Topic15\", \"Topic15\", \"Topic15\", \"Topic15\", \"Topic15\", \"Topic15\", \"Topic15\", \"Topic15\", \"Topic15\", \"Topic15\", \"Topic15\", \"Topic15\", \"Topic15\", \"Topic15\", \"Topic15\", \"Topic15\", \"Topic15\", \"Topic15\", \"Topic15\", \"Topic15\", \"Topic15\", \"Topic15\", \"Topic15\", \"Topic15\", \"Topic15\", \"Topic15\", \"Topic15\", \"Topic15\", \"Topic15\", \"Topic15\", \"Topic15\", \"Topic15\", \"Topic16\", \"Topic16\", \"Topic16\", \"Topic16\", \"Topic16\", \"Topic16\", \"Topic16\", \"Topic16\", \"Topic16\", \"Topic16\", \"Topic16\", \"Topic16\", \"Topic16\", \"Topic16\", \"Topic16\", \"Topic16\", \"Topic16\", \"Topic16\", \"Topic16\", \"Topic16\", \"Topic16\", \"Topic16\", \"Topic16\", \"Topic16\", \"Topic16\", \"Topic16\", \"Topic16\", \"Topic16\", \"Topic16\", \"Topic16\", \"Topic16\", \"Topic16\", \"Topic16\", \"Topic16\", \"Topic16\", \"Topic16\", \"Topic16\", \"Topic16\", \"Topic16\", \"Topic16\", \"Topic16\", \"Topic16\", \"Topic16\", \"Topic16\", \"Topic16\", \"Topic16\", \"Topic16\", \"Topic16\", \"Topic16\", \"Topic16\", \"Topic16\", \"Topic16\", \"Topic16\", \"Topic16\", \"Topic16\", \"Topic16\", \"Topic16\", \"Topic16\", \"Topic16\", \"Topic16\", \"Topic16\", \"Topic16\", \"Topic16\", \"Topic16\", \"Topic16\", \"Topic16\", \"Topic16\", \"Topic17\", \"Topic17\", \"Topic17\", \"Topic17\", \"Topic17\", \"Topic17\", \"Topic17\", \"Topic17\", \"Topic17\", \"Topic17\", \"Topic17\", \"Topic17\", \"Topic17\", \"Topic17\", \"Topic17\", \"Topic17\", \"Topic17\", \"Topic17\", \"Topic17\", \"Topic17\", \"Topic17\", \"Topic17\", \"Topic17\", \"Topic17\", \"Topic17\", \"Topic17\", \"Topic17\", \"Topic17\", \"Topic17\", \"Topic17\", \"Topic17\", \"Topic17\", \"Topic17\", \"Topic17\", \"Topic17\", \"Topic17\", \"Topic17\", \"Topic17\", \"Topic17\", \"Topic17\", \"Topic17\", \"Topic17\", \"Topic17\", \"Topic17\", \"Topic17\", \"Topic17\", \"Topic17\", \"Topic17\", \"Topic17\", \"Topic17\", \"Topic17\", \"Topic17\", \"Topic17\", \"Topic17\", \"Topic17\", \"Topic17\", \"Topic17\", \"Topic17\", \"Topic17\", \"Topic17\", \"Topic17\", \"Topic17\", \"Topic17\", \"Topic17\", \"Topic17\", \"Topic17\", \"Topic18\", \"Topic18\", \"Topic18\", \"Topic18\", \"Topic18\", \"Topic18\", \"Topic18\", \"Topic18\", \"Topic18\", \"Topic18\", \"Topic18\", \"Topic18\", \"Topic18\", \"Topic18\", \"Topic18\", \"Topic18\", \"Topic18\", \"Topic18\", \"Topic18\", \"Topic18\", \"Topic18\", \"Topic18\", \"Topic18\", \"Topic18\", \"Topic18\", \"Topic18\", \"Topic18\", \"Topic18\", \"Topic18\", \"Topic18\", \"Topic18\", \"Topic18\", \"Topic18\", \"Topic18\", \"Topic18\", \"Topic18\", \"Topic18\", \"Topic18\", \"Topic18\", \"Topic18\", \"Topic18\", \"Topic18\", \"Topic18\", \"Topic18\", \"Topic18\", \"Topic18\", \"Topic18\", \"Topic18\", \"Topic18\", \"Topic18\", \"Topic18\", \"Topic18\", \"Topic18\", \"Topic18\", \"Topic18\", \"Topic18\", \"Topic18\", \"Topic18\", \"Topic18\", \"Topic18\", \"Topic18\", \"Topic18\", \"Topic18\", \"Topic18\", \"Topic18\", \"Topic18\", \"Topic18\", \"Topic18\", \"Topic19\", \"Topic19\", \"Topic19\", \"Topic19\", \"Topic19\", \"Topic19\", \"Topic19\", \"Topic19\", \"Topic19\", \"Topic19\", \"Topic19\", \"Topic19\", \"Topic19\", \"Topic19\", \"Topic19\", \"Topic19\", \"Topic19\", \"Topic19\", \"Topic19\", \"Topic19\", \"Topic19\", \"Topic19\", \"Topic19\", \"Topic19\", \"Topic19\", \"Topic19\", \"Topic19\", \"Topic19\", \"Topic19\", \"Topic19\", \"Topic19\", \"Topic19\", \"Topic19\", \"Topic19\", \"Topic19\", \"Topic19\", \"Topic19\", \"Topic19\", \"Topic19\", \"Topic19\", \"Topic19\", \"Topic19\", \"Topic19\", \"Topic19\", \"Topic19\", \"Topic19\", \"Topic19\", \"Topic19\", \"Topic19\", \"Topic19\", \"Topic19\", \"Topic19\", \"Topic19\", \"Topic19\", \"Topic19\", \"Topic19\", \"Topic19\", \"Topic19\", \"Topic19\", \"Topic19\", \"Topic19\", \"Topic19\", \"Topic19\", \"Topic19\", \"Topic19\", \"Topic19\", \"Topic19\", \"Topic19\", \"Topic19\", \"Topic19\", \"Topic19\", \"Topic20\", \"Topic20\", \"Topic20\", \"Topic20\", \"Topic20\", \"Topic20\", \"Topic20\", \"Topic20\", \"Topic20\", \"Topic20\", \"Topic20\", \"Topic20\", \"Topic20\", \"Topic20\", \"Topic20\", \"Topic20\", \"Topic20\", \"Topic20\", \"Topic20\", \"Topic20\", \"Topic20\", \"Topic20\", \"Topic20\", \"Topic20\", \"Topic20\", \"Topic20\", \"Topic20\", \"Topic20\", \"Topic20\", \"Topic20\", \"Topic20\", \"Topic20\", \"Topic20\", \"Topic20\", \"Topic20\", \"Topic20\", \"Topic20\", \"Topic20\", \"Topic20\", \"Topic20\", \"Topic20\", \"Topic20\", \"Topic20\", \"Topic20\", \"Topic20\", \"Topic20\", \"Topic20\", \"Topic20\", \"Topic20\", \"Topic20\", \"Topic20\", \"Topic20\", \"Topic20\", \"Topic20\", \"Topic20\", \"Topic20\", \"Topic20\", \"Topic20\", \"Topic20\", \"Topic20\", \"Topic20\", \"Topic20\", \"Topic20\", \"Topic20\", \"Topic20\", \"Topic20\", \"Topic20\", \"Topic20\", \"Topic20\", \"Topic20\"], \"Freq\": [25.0, 19.0, 19.0, 17.0, 16.0, 15.0, 13.0, 13.0, 12.0, 11.0, 11.0, 10.0, 10.0, 10.0, 9.0, 9.0, 8.0, 8.0, 8.0, 7.0, 7.0, 7.0, 6.0, 6.0, 5.0, 5.0, 5.0, 5.0, 4.0, 4.0, 25.41649627685547, 19.558378219604492, 19.561174392700195, 17.61338233947754, 16.635173797607422, 15.65978717803955, 13.706491470336914, 13.706472396850586, 12.732186317443848, 11.755481719970703, 11.75550651550293, 10.779561996459961, 10.779706001281738, 10.7780179977417, 9.80480670928955, 9.802995681762695, 8.829547882080078, 8.827863693237305, 8.82778549194336, 7.853003978729248, 7.852023601531982, 7.852170944213867, 6.877963542938232, 6.876247882843018, 5.903117656707764, 5.901492595672607, 5.901269435882568, 5.9008612632751465, 4.929843425750732, 4.927803993225098, 4.1251929360441864e-05, 4.122608879697509e-05, 4.122706377529539e-05, 4.1218590922653675e-05, 4.119915683986619e-05, 4.119838558835909e-05, 4.119428194826469e-05, 4.1199713450623676e-05, 4.118671131436713e-05, 4.11803339375183e-05, 4.117978460271843e-05, 4.117263597436249e-05, 4.11788460041862e-05, 4.116960917599499e-05, 4.1164439608110115e-05, 4.11489381804131e-05, 4.113105023861863e-05, 4.1103055991698056e-05, 4.111763337277807e-05, 4.110601366846822e-05, 4.110097870579921e-05, 4.109110523131676e-05, 4.108592474949546e-05, 4.108690336579457e-05, 4.1088020225288346e-05, 4.1076538764173165e-05, 4.1081515519181266e-05, 4.10739412473049e-05, 4.107589484192431e-05, 4.107907443540171e-05, 4.108111170353368e-05, 4.108533539692871e-05, 5.826276174047962e-05, 6.0513360949698836e-05, 5.645378405461088e-05, 5.668851008522324e-05, 5.675731154042296e-05, 5.1165879995096475e-05, 5.403537943493575e-05, 5.0336271669948474e-05, 4.833566345041618e-05, 4.8997717385645956e-05, 4.927586633129977e-05, 4.954703399562277e-05, 4.778478978550993e-05, 4.837080996367149e-05, 4.8859194066608325e-05, 4.8926027375273407e-05, 4.7645669837947935e-05, 4.786299541592598e-05, 4.770427767653018e-05, 4.70906488772016e-05, 4.595314749167301e-05, 4.577562503982335e-05, 4.53481225122232e-05, 4.616544538293965e-05, 4.5840006350772455e-05, 4.472753789741546e-05, 4.418359822011553e-05, 4.490537321544252e-05, 4.4750959204975516e-05, 4.4390875700628385e-05, 4.441434793989174e-05, 4.140951932640746e-05, 4.1309980588266626e-05, 4.1301864257548004e-05, 4.130399975110777e-05, 4.129184890189208e-05, 4.1285602492280304e-05, 4.1279210563516244e-05, 4.1270865040132776e-05, 4.1280662117060274e-05, 4.126280691707507e-05, 4.124810948269442e-05, 4.124350380152464e-05, 4.123355392948724e-05, 4.123775943298824e-05, 4.1235391108784825e-05, 4.123089092900045e-05, 4.123928374610841e-05, 4.12085501011461e-05, 4.120991798117757e-05, 4.121500751352869e-05, 4.121357051189989e-05, 4.12083936680574e-05, 4.1207884351024404e-05, 4.120453741052188e-05, 4.1204417357221246e-05, 4.1200728446710855e-05, 4.120231096749194e-05, 4.1192608478013426e-05, 4.119391815038398e-05, 4.118619472137652e-05, 4.120179437450133e-05, 4.11939290643204e-05, 6.009013668517582e-05, 5.187842543818988e-05, 5.24037895957008e-05, 5.1337603508727625e-05, 5.024165511713363e-05, 4.959072248311713e-05, 5.1261398766655475e-05, 4.910863208351657e-05, 4.978177457815036e-05, 4.973891191184521e-05, 4.979422737960704e-05, 4.76149252790492e-05, 4.8003654228523374e-05, 4.69122824142687e-05, 4.795745917363092e-05, 4.714972237707116e-05, 4.658934994949959e-05, 4.6715449570911005e-05, 4.560343222692609e-05, 4.80297785543371e-05, 4.5956152462167665e-05, 4.5329939894145355e-05, 4.4402720959624276e-05, 4.4648160837823525e-05, 4.546682248474099e-05, 4.325447298469953e-05, 4.3701729737222195e-05, 4.395085488795303e-05, 4.394061761558987e-05, 4.405765503179282e-05, 4.369595262687653e-05, 4.387347144074738e-05, 4.383245686767623e-05, 4.137227369938046e-05, 4.13675770687405e-05, 4.13577254221309e-05, 4.1352050175191835e-05, 4.135056951781735e-05, 4.132619869778864e-05, 4.132241156185046e-05, 4.1301627788925543e-05, 4.129408989683725e-05, 4.130211164010689e-05, 4.1297345887869596e-05, 4.128255750401877e-05, 4.129348963033408e-05, 4.128646833123639e-05, 4.128168075112626e-05, 4.128958244109526e-05, 4.127407737541944e-05, 4.128248110646382e-05, 4.127418651478365e-05, 4.128888758714311e-05, 4.127829015487805e-05, 4.1280214645667e-05, 4.127055581193417e-05, 4.126445128349587e-05, 4.127146894461475e-05, 4.126686690142378e-05, 4.1270566725870594e-05, 4.126305793761276e-05, 4.126206476939842e-05, 4.1268176573794335e-05, 4.127236024942249e-05, 4.1264822357334197e-05, 5.3034636948723346e-05, 5.12597689521499e-05, 5.134747698321007e-05, 5.057704038335942e-05, 4.954309406457469e-05, 4.9667549319565296e-05, 4.90836137032602e-05, 4.8986436013365164e-05, 4.762040407513268e-05, 4.7334884584415704e-05, 4.735289985546842e-05, 4.6693021431565285e-05, 4.7001030907267705e-05, 4.701901343651116e-05, 4.660613558371551e-05, 4.6562414354411885e-05, 4.5531309297075495e-05, 4.511646329774521e-05, 4.376631113700569e-05, 4.257111140759662e-05, 4.3983258365187794e-05, 4.516189801506698e-05, 4.48885366495233e-05, 4.394252027850598e-05, 4.453886140254326e-05, 4.3800664570881054e-05, 4.347138383309357e-05, 4.394502684590407e-05, 4.399539466248825e-05, 4.325106419855729e-05, 4.4133728806627914e-05, 4.381655162433162e-05, 4.360728416941129e-05, 4.141838871873915e-05, 4.1389703255845234e-05, 4.1376002627657726e-05, 4.135030758334324e-05, 4.135284689255059e-05, 4.135214112466201e-05, 4.134422488277778e-05, 4.133540642214939e-05, 4.1329170926474035e-05, 4.133271795581095e-05, 4.1316750866826624e-05, 4.131513924221508e-05, 4.1302377212559804e-05, 4.130337038077414e-05, 4.130860179429874e-05, 4.131007881369442e-05, 4.130585875827819e-05, 4.1295334085589275e-05, 4.127539796172641e-05, 4.127943975618109e-05, 4.128851287532598e-05, 4.128482396481559e-05, 4.128070213482715e-05, 4.128613727516495e-05, 4.12803165090736e-05, 4.127423380850814e-05, 4.127273859921843e-05, 4.126971180085093e-05, 4.127300053369254e-05, 4.127447755308822e-05, 4.1271778172813356e-05, 5.517108002095483e-05, 5.0134600314777344e-05, 4.8780901124700904e-05, 4.88959631184116e-05, 4.961155354976654e-05, 4.956622433383018e-05, 4.9065729399444535e-05, 4.710962457465939e-05, 4.6125351218506694e-05, 4.646916568162851e-05, 4.6247714635683224e-05, 4.7188739699777216e-05, 4.6851524530211464e-05, 4.631799311027862e-05, 4.532815728452988e-05, 4.5660464820684865e-05, 4.423132850206457e-05, 4.454720328794792e-05, 4.476631147554144e-05, 4.514545071288012e-05, 4.410316250869073e-05, 4.557549982564524e-05, 4.478412665775977e-05, 4.4939006329514086e-05, 4.4961638195673004e-05, 4.4194108340889215e-05, 4.393159179016948e-05, 4.4360429455991834e-05, 4.383582199807279e-05, 4.3524312786757946e-05, 4.3718417146010324e-05, 4.3788681068690494e-05, 4.138684016652405e-05, 4.136903953622095e-05, 4.138069925829768e-05, 4.1375140426680446e-05, 4.136112329433672e-05, 4.137006908422336e-05, 4.1354640416102484e-05, 4.134391201660037e-05, 4.134600021643564e-05, 4.1344406781718135e-05, 4.134297705604695e-05, 4.1335537389386445e-05, 4.13470552302897e-05, 4.132882895646617e-05, 4.1337214497616515e-05, 4.13376183132641e-05, 4.1329807572765276e-05, 4.133116817683913e-05, 4.131770765525289e-05, 4.133941911277361e-05, 4.1340426832903177e-05, 4.132810499868356e-05, 4.13156085414812e-05, 4.131610330659896e-05, 4.131392779527232e-05, 4.1326507925987244e-05, 4.1324954509036615e-05, 4.1313945985166356e-05, 4.131551395403221e-05, 4.13040688727051e-05, 4.130887828068808e-05, 4.131030436838046e-05, 4.1312796383863315e-05, 5.0619160901987925e-05, 5.1163391617592424e-05, 5.013243935536593e-05, 4.895375241176225e-05, 4.735999391414225e-05, 4.7320387238869444e-05, 4.7660705604357645e-05, 4.711983274319209e-05, 4.725590770249255e-05, 4.5929260522825643e-05, 4.593070480041206e-05, 4.558269210974686e-05, 4.500324939726852e-05, 4.526068369159475e-05, 4.457443719729781e-05, 4.4795793655794114e-05, 4.469352279556915e-05, 4.411676854942925e-05, 4.440923294168897e-05, 4.3784715671790764e-05, 4.49027975264471e-05, 4.3518073653103784e-05, 4.284558235667646e-05, 4.386217551655136e-05, 4.364968845038675e-05, 4.337973950896412e-05, 4.416470983414911e-05, 4.423969949129969e-05, 4.4015043386025354e-05, 4.358212754596025e-05, 4.318256105761975e-05, 4.3349977204343304e-05, 4.143912883591838e-05, 4.142014586250298e-05, 4.142004036111757e-05, 4.140777309658006e-05, 4.1398816392757e-05, 4.140618329984136e-05, 4.139997690799646e-05, 4.137941505177878e-05, 4.1375267755938694e-05, 4.1382845665793866e-05, 4.137657742830925e-05, 4.1361592593602836e-05, 4.1365670767845586e-05, 4.135874769417569e-05, 4.1352675907546654e-05, 4.137022915529087e-05, 4.135260678594932e-05, 4.135191556997597e-05, 4.135207200306468e-05, 4.135425479034893e-05, 4.134959090151824e-05, 4.13560337619856e-05, 4.135226481594145e-05, 4.1341816540807486e-05, 4.134658593102358e-05, 4.1347320802742615e-05, 4.132792673772201e-05, 4.1345982026541606e-05, 4.133615948376246e-05, 4.133994661970064e-05, 4.1339619201608e-05, 4.1340816096635535e-05, 4.9663634854368865e-05, 5.0268896302441135e-05, 4.934963726554997e-05, 4.704877210315317e-05, 4.8182180762523785e-05, 4.696697578765452e-05, 4.692054426413961e-05, 4.5587388740386814e-05, 4.5394073822535574e-05, 4.560160596156493e-05, 4.56394518550951e-05, 4.55872796010226e-05, 4.4663298467639834e-05, 4.487463957048021e-05, 4.4663247535936534e-05, 4.504142634687014e-05, 4.386393629829399e-05, 4.416412775753997e-05, 4.376195283839479e-05, 4.407326196087524e-05, 4.4521319068735465e-05, 4.396178701426834e-05, 4.384032581583597e-05, 4.359337981441058e-05, 4.335396079113707e-05, 4.329688454163261e-05, 4.30825020885095e-05, 4.288089257897809e-05, 4.333014294388704e-05, 4.3001873564207926e-05, 4.3480184103827924e-05, 4.145834100199863e-05, 4.144025660934858e-05, 4.1435734601691365e-05, 4.142869511269964e-05, 4.14137466577813e-05, 4.141581666772254e-05, 4.141581302974373e-05, 4.140285454923287e-05, 4.1405714000575244e-05, 4.140782402828336e-05, 4.139446173212491e-05, 4.139194788876921e-05, 4.1390801925444975e-05, 4.137953510507941e-05, 4.137762152822688e-05, 4.137730138609186e-05, 4.1369774407939985e-05, 4.137751238886267e-05, 4.1360493924003094e-05, 4.136122151976451e-05, 4.138267831876874e-05, 4.1361545299878344e-05, 4.136537972954102e-05, 4.135416747885756e-05, 4.135605558985844e-05, 4.136228744755499e-05, 4.1368697566213086e-05, 4.135970812058076e-05, 4.134631672059186e-05, 4.136106508667581e-05, 4.135487324674614e-05, 4.927373811369762e-05, 4.9453585234005004e-05, 5.008352309232578e-05, 4.910262578050606e-05, 4.740488657262176e-05, 4.56395027867984e-05, 4.575920684146695e-05, 4.544437615550123e-05, 4.490422361413948e-05, 4.519800131674856e-05, 4.437943425728008e-05, 4.526509655988775e-05, 4.396349686430767e-05, 4.4626307499129325e-05, 4.44939432782121e-05, 4.389192326925695e-05, 4.451693530427292e-05, 4.417807576828636e-05, 4.396190706756897e-05, 4.4280670408625156e-05, 4.37796043115668e-05, 4.38062270404771e-05, 4.369899761513807e-05, 4.2998461140086874e-05, 4.3075804569525644e-05, 4.319263462093659e-05, 4.3177202314836904e-05, 4.2812327592400834e-05, 4.294278551242314e-05, 4.290336073609069e-05, 4.325342524680309e-05, 4.140704913879745e-05, 4.141520548728295e-05, 4.142141915508546e-05, 4.14066671510227e-05, 4.138824078836478e-05, 4.1387149394722655e-05, 4.138821896049194e-05, 4.137356881983578e-05, 4.137921132496558e-05, 4.138265285291709e-05, 4.137019641348161e-05, 4.1367675294168293e-05, 4.136300049140118e-05, 4.137271025683731e-05, 4.137042196816765e-05, 4.13542366004549e-05, 4.136406641919166e-05, 4.1355615394422784e-05, 4.135908602620475e-05, 4.137051655561663e-05, 4.136173811275512e-05, 4.134302071179263e-05, 4.135459312237799e-05, 4.135353083256632e-05, 4.1353661799803376e-05, 4.135271956329234e-05, 4.1355327994097024e-05, 4.1354189306730404e-05, 4.1350274841533974e-05, 4.135400740779005e-05, 4.1355066059622914e-05, 4.1353938286192715e-05, 4.879742846242152e-05, 4.898919723927975e-05, 4.76932073070202e-05, 4.706307299784385e-05, 4.6722590923309326e-05, 4.7114248445723206e-05, 4.671476563089527e-05, 4.6018987632123753e-05, 4.616475780494511e-05, 4.528055796981789e-05, 4.5706146920565516e-05, 4.4706001062877476e-05, 4.500746217672713e-05, 4.4656953832600266e-05, 4.4705153413815424e-05, 4.4333108235150576e-05, 4.364543565316126e-05, 4.417294621816836e-05, 4.357470606919378e-05, 4.383769555715844e-05, 4.354845441412181e-05, 4.3241347157163545e-05, 4.3485775677254423e-05, 4.306053961045109e-05, 4.328614522819407e-05, 4.3282929254928604e-05, 4.269056807970628e-05, 4.2677827877923846e-05, 4.2859723180299625e-05, 4.207192250760272e-05, 4.2824449337786064e-05, 4.278960113879293e-05, 4.2952979129040614e-05, 4.14620699302759e-05, 4.141242243349552e-05, 4.140470264246687e-05, 4.140849705436267e-05, 4.140585588174872e-05, 4.140643068240024e-05, 4.139854354434647e-05, 4.138538861298002e-05, 4.1394279833184555e-05, 4.13811685575638e-05, 4.136900679441169e-05, 4.1380306356586516e-05, 4.138675649301149e-05, 4.1385723307030275e-05, 4.138136864639819e-05, 4.13895322708413e-05, 4.138067743042484e-05, 4.137995347264223e-05, 4.137264477321878e-05, 4.137733776587993e-05, 4.138807344133966e-05, 4.136981806368567e-05, 4.136524876230396e-05, 4.136764255235903e-05, 4.138375516049564e-05, 4.136591451242566e-05, 4.135872586630285e-05, 4.1365849028807133e-05, 4.135260678594932e-05, 4.13573179685045e-05, 4.136817005928606e-05, 4.1371302359038964e-05, 4.1363306081620976e-05, 4.975180854671635e-05, 4.798339068656787e-05, 4.690663263318129e-05, 4.586530849337578e-05, 4.657546378439292e-05, 4.598001032718457e-05, 4.571158206090331e-05, 4.523727693594992e-05, 4.495292523643002e-05, 4.568699296214618e-05, 4.510476719588041e-05, 4.424919097800739e-05, 4.486044417717494e-05, 4.413043279782869e-05, 4.4039621570846066e-05, 4.368093141238205e-05, 4.376335709821433e-05, 4.403090133564547e-05, 4.38461393059697e-05, 4.362064282759093e-05, 4.343741966295056e-05, 4.321031519793905e-05, 4.3606687540886924e-05, 4.3353076762286946e-05, 4.3833410018123686e-05, 4.3162202928215265e-05, 4.295149483368732e-05, 4.239669942762703e-05, 4.260469722794369e-05, 4.339148654253222e-05, 4.2767820559674874e-05, 4.2832791223190725e-05, 4.2898074752883986e-05, 4.143611658946611e-05, 4.1433897422393784e-05, 4.141241515753791e-05, 4.141795579926111e-05, 4.1410017729504034e-05, 4.141272438573651e-05, 4.139755037613213e-05, 4.139405791647732e-05, 4.139075826969929e-05, 4.1384661017218605e-05, 4.1388550016563386e-05, 4.137902942602523e-05, 4.138156145927496e-05, 4.137893847655505e-05, 4.1383034840691835e-05, 4.13734233006835e-05, 4.138267831876874e-05, 4.138847361900844e-05, 4.137745054322295e-05, 4.137182986596599e-05, 4.137613723287359e-05, 4.136714414926246e-05, 4.1363269701832905e-05, 4.137791620451026e-05, 4.137755968258716e-05, 4.137095675105229e-05, 4.1384148062206805e-05, 4.1358292946824804e-05, 4.1368271922692657e-05, 4.137266660109162e-05, 4.136334246140905e-05, 5.045639773015864e-05, 4.87800789414905e-05, 4.736372648039833e-05, 4.690794594353065e-05, 4.701624493463896e-05, 4.615026409737766e-05, 4.595426798914559e-05, 4.506135155679658e-05, 4.5125503675080836e-05, 4.499165515881032e-05, 4.431799243320711e-05, 4.431412526173517e-05, 4.46547128376551e-05, 4.4194508518557996e-05, 4.377137156552635e-05, 4.420206823851913e-05, 4.411257032188587e-05, 4.390221511130221e-05, 4.378604353405535e-05, 4.346972855273634e-05, 4.3584783270489424e-05, 4.32928281952627e-05, 4.311930752010085e-05, 4.272907608537935e-05, 4.284197711967863e-05, 4.324176916270517e-05, 4.2821906390599906e-05, 4.2616145947249606e-05, 4.27852755819913e-05, 4.321563756093383e-05, 4.314296893426217e-05, 4.274324601283297e-05, 4.144540071138181e-05, 4.1430645069340244e-05, 4.141958925174549e-05, 4.143291516811587e-05, 4.140743112657219e-05, 4.141142198932357e-05, 4.1407700337003917e-05, 4.140786040807143e-05, 4.140045348322019e-05, 4.140243981964886e-05, 4.138759686611593e-05, 4.140131568419747e-05, 4.139037991990335e-05, 4.140269447816536e-05, 4.138561780564487e-05, 4.138381700613536e-05, 4.1395192965865135e-05, 4.138133590458892e-05, 4.138541771681048e-05, 4.138882286497392e-05, 4.138411532039754e-05, 4.1378567402716726e-05, 4.138660369790159e-05, 4.1383424104424194e-05, 4.1374001739313826e-05, 4.137056748731993e-05, 4.138039003009908e-05, 4.137218274991028e-05, 4.136794086662121e-05, 4.137654832447879e-05, 4.137536961934529e-05, 4.1372564737685025e-05, 5.017703369958326e-05, 5.0141803512815386e-05, 4.638284372049384e-05, 4.668373730964959e-05, 4.5946508180350065e-05, 4.514021929935552e-05, 4.5428485464071855e-05, 4.478177288547158e-05, 4.4887234253110364e-05, 4.455958696780726e-05, 4.450613050721586e-05, 4.493647429626435e-05, 4.453288420336321e-05, 4.429733962751925e-05, 4.4054344471078366e-05, 4.410963811096735e-05, 4.3718504457501695e-05, 4.329904186306521e-05, 4.371621980681084e-05, 4.301348599256016e-05, 4.31965381721966e-05, 4.2888670577667654e-05, 4.28724342782516e-05, 4.2869967728620395e-05, 4.3357744289096445e-05, 4.236500899423845e-05, 4.2787869460880756e-05, 4.309925498091616e-05, 4.2995532567147166e-05, 4.300925866118632e-05, 4.284953683963977e-05, 4.283510861569084e-05, 4.146748688071966e-05, 4.149410597165115e-05, 4.143943442613818e-05, 4.1429342672927305e-05, 4.144576087128371e-05, 4.1427018004469573e-05, 4.141142562730238e-05, 4.1424875234952196e-05, 4.141654062550515e-05, 4.142310717725195e-05, 4.1405099182156846e-05, 4.1407776734558865e-05, 4.141483441344462e-05, 4.1428418626310304e-05, 4.140739838476293e-05, 4.1411254642298445e-05, 4.140774763072841e-05, 4.1397743189008906e-05, 4.140206874581054e-05, 4.142245961702429e-05, 4.1398121538804844e-05, 4.1396633605472744e-05, 4.140708551858552e-05, 4.140285818721168e-05, 4.138987060287036e-05, 4.138889198657125e-05, 4.1398932808078825e-05, 4.139449811191298e-05, 4.138863005209714e-05, 4.139269367442466e-05, 4.13916859542951e-05, 4.139265001867898e-05, 4.139323937124573e-05, 4.6470337110804394e-05, 4.681940845330246e-05, 4.6091299736872315e-05, 4.5811637392034754e-05, 4.528365025180392e-05, 4.4745906052412465e-05, 4.505836477619596e-05, 4.465082747628912e-05, 4.439500116859563e-05, 4.430573608260602e-05, 4.43408680439461e-05, 4.401206024340354e-05, 4.4085456465836614e-05, 4.379323945613578e-05, 4.2972802475560457e-05, 4.3965806980850175e-05, 4.328251088736579e-05, 4.329525836510584e-05, 4.326366615714505e-05, 4.327022179495543e-05, 4.312393502914347e-05, 4.2950399802066386e-05, 4.285771865397692e-05, 4.3004765757359564e-05, 4.272758451406844e-05, 4.2709889385150746e-05, 4.278652704670094e-05, 4.2749757994897664e-05, 4.2792198655661196e-05, 4.2600240703905e-05, 4.260235436959192e-05, 4.145254933973774e-05, 4.144387276028283e-05, 4.1453396988799796e-05, 4.1431492718402296e-05, 4.1436436731601134e-05, 4.143576734350063e-05, 4.142777106608264e-05, 4.142449324717745e-05, 4.143779005971737e-05, 4.1423812945140526e-05, 4.141925091971643e-05, 4.142098987358622e-05, 4.141869067098014e-05, 4.142383113503456e-05, 4.142765101278201e-05, 4.142523175687529e-05, 4.1433118894929066e-05, 4.142663237871602e-05, 4.141670069657266e-05, 4.141814133618027e-05, 4.1411003621760756e-05, 4.1398860048502684e-05, 4.142193211009726e-05, 4.1412131395190954e-05, 4.140922465012409e-05, 4.1405201045563444e-05, 4.1410065023228526e-05, 4.1415434679947793e-05, 4.140760574955493e-05, 4.141170938964933e-05, 4.1411167330807075e-05, 4.141446697758511e-05, 4.141084718867205e-05, 4.1412982682231814e-05, 4.1410756239201874e-05, 4.5403980038827285e-05, 4.531015292741358e-05, 4.476447793422267e-05, 4.462297511054203e-05, 4.43419958173763e-05, 4.3914020352531224e-05, 4.346590503701009e-05, 4.343713590060361e-05, 4.329002695158124e-05, 4.330407682573423e-05, 4.291387813282199e-05, 4.304005051380955e-05, 4.3112053390359506e-05, 4.316689955885522e-05, 4.289851131034084e-05, 4.280157736502588e-05, 4.272889418643899e-05, 4.254507803125307e-05, 4.2389972804812714e-05, 4.226860619382933e-05, 4.243733565090224e-05, 4.222434290568344e-05, 4.211776104057208e-05, 4.2451967601664364e-05, 4.209332837490365e-05, 4.207781967124902e-05, 4.2241226765327156e-05, 4.216132219880819e-05, 4.223364157951437e-05, 4.215578883304261e-05, 4.247193646733649e-05, 4.234107109368779e-05, 4.2260042391717434e-05, 4.143735350226052e-05, 4.144976264797151e-05, 4.1437884647166356e-05, 4.142767647863366e-05, 4.143332625972107e-05, 4.1439710912527516e-05, 4.143706610193476e-05, 4.142510806559585e-05, 4.1423263610340655e-05, 4.143181649851613e-05, 4.142997568123974e-05, 4.1422888898523524e-05, 4.14262103731744e-05, 4.1415332816541195e-05, 4.1415682062506676e-05, 4.1412378777749836e-05, 4.140826786169782e-05, 4.141466342844069e-05, 4.142007674090564e-05, 4.14184651162941e-05, 4.1422852518735453e-05, 4.1421637433813885e-05, 4.142869875067845e-05, 4.139585871598683e-05, 4.1406376112718135e-05, 4.140912278671749e-05, 4.141449971939437e-05, 4.140180317335762e-05, 4.1417857573833317e-05, 4.140595774515532e-05, 4.141701720072888e-05, 4.1415743908146396e-05, 4.1412255086470395e-05, 4.140975943300873e-05, 4.4972643081564456e-05, 4.460176933207549e-05, 4.4729193177772686e-05, 4.353061012807302e-05, 4.358646765467711e-05, 4.362537220004015e-05, 4.351788084022701e-05, 4.33487439295277e-05, 4.334383629611693e-05, 4.317751154303551e-05, 4.3397732952144e-05, 4.3187101255171e-05, 4.298988642403856e-05, 4.301956869312562e-05, 4.3074778659502044e-05, 4.2936590034514666e-05, 4.2771273001562804e-05, 4.2764953832374886e-05, 4.275835453881882e-05, 4.2662231862777844e-05, 4.2645591747714207e-05, 4.2341926018707454e-05, 4.253289444022812e-05, 4.2493233195273206e-05, 4.25493017246481e-05, 4.2219824536005035e-05, 4.2271251004422083e-05, 4.2160419980064034e-05, 4.192191772744991e-05, 4.2125819163629785e-05, 4.2120303987758234e-05, 4.1470986616332084e-05, 4.144660852034576e-05, 4.1436236642766744e-05, 4.143831392866559e-05, 4.144131162320264e-05, 4.142114266869612e-05, 4.1431580029893667e-05, 4.1431580029893667e-05, 4.1418636101298034e-05, 4.1424114897381514e-05, 4.1415307350689545e-05, 4.1429906559642404e-05, 4.142833859077655e-05, 4.141478711972013e-05, 4.140720557188615e-05, 4.142889520153403e-05, 4.14260575780645e-05, 4.141462704865262e-05, 4.143063779338263e-05, 4.1421626519877464e-05, 4.141826866543852e-05, 4.142673424212262e-05, 4.1419909393880516e-05, 4.141654062550515e-05, 4.141580211580731e-05, 4.1420949855819345e-05, 4.1420826164539903e-05, 4.140922101214528e-05, 4.1416671592742205e-05, 4.140868622926064e-05, 4.1424365917919204e-05, 4.1410967241972685e-05, 4.141281533520669e-05, 4.1412578866584226e-05, 4.4607608288060874e-05, 4.4753574911737815e-05, 4.422839992912486e-05, 4.406553853186779e-05, 4.386218643048778e-05, 4.437892494024709e-05, 4.3519572500372306e-05, 4.339571751188487e-05, 4.335645280661993e-05, 4.3016298150178045e-05, 4.2973104427801445e-05, 4.291822551749647e-05, 4.284394162823446e-05, 4.288826312404126e-05, 4.2591716919559985e-05, 4.277353946235962e-05, 4.261529466020875e-05, 4.270874342182651e-05, 4.224415170028806e-05, 4.219135735183954e-05, 4.207924212096259e-05, 4.2408424633322284e-05, 4.239275585860014e-05, 4.202453783364035e-05, 4.202318086754531e-05, 4.201290357741527e-05, 4.229019396007061e-05, 4.220676055410877e-05, 4.210574843455106e-05, 4.209075268590823e-05, 4.207265010336414e-05, 4.207179517834447e-05, 4.204491415293887e-05, 4.1438997868681327e-05, 4.143977275816724e-05, 4.142760008107871e-05, 4.1437950130784884e-05, 4.143814294366166e-05, 4.143815385759808e-05, 4.1432969737797976e-05, 4.1421673813601956e-05, 4.142549732932821e-05, 4.141885438002646e-05, 4.14271344197914e-05, 4.142949910601601e-05, 4.141262616030872e-05, 4.141706813243218e-05, 4.142268153373152e-05, 4.1415409214096144e-05, 4.141819954384118e-05, 4.1423852962907404e-05, 4.142152101849206e-05, 4.141616227570921e-05, 4.141129829804413e-05, 4.141771205468103e-05, 4.142194666201249e-05, 4.141263343626633e-05, 4.141511453781277e-05, 4.141526733292267e-05, 4.139841257710941e-05, 4.141525278100744e-05, 4.1428978875046596e-05, 4.1406474338145927e-05, 4.142262332607061e-05, 4.14189780713059e-05, 4.141526005696505e-05, 4.4787488150177523e-05, 4.424019425641745e-05, 4.410976907820441e-05, 4.336744314059615e-05, 4.340961095294915e-05, 4.3346197344362736e-05, 4.301233639125712e-05, 4.313205135986209e-05, 4.298157728044316e-05, 4.2932599171763286e-05, 4.306283517507836e-05, 4.272123260307126e-05, 4.251685459166765e-05, 4.258548142388463e-05, 4.2662966734496877e-05, 4.2620900785550475e-05, 4.272858132026158e-05, 4.26817532570567e-05, 4.253574297763407e-05, 4.2468993342481554e-05, 4.2542520532151684e-05, 4.2283820221200585e-05, 4.2197545553790405e-05, 4.2185325582977384e-05, 4.224927397444844e-05, 4.2069266783073545e-05, 4.2338473576819524e-05, 4.212466228636913e-05, 4.2006122384918854e-05, 4.2173593101324514e-05, 4.2215258872602135e-05, 4.217565219732933e-05, 4.217129389871843e-05, 4.142766192671843e-05, 4.140245437156409e-05, 4.140921373618767e-05, 4.141210956731811e-05, 4.1407187381992117e-05, 4.1409890400245786e-05, 4.1397230233997107e-05, 4.141426688875072e-05, 4.140706005273387e-05, 4.140160308452323e-05, 4.14027163060382e-05, 4.140300734434277e-05, 4.140203236602247e-05, 4.1394181607756764e-05, 4.1401097405469045e-05, 4.138598887948319e-05, 4.139351949561387e-05, 4.1403272916795686e-05, 4.139986776863225e-05, 4.1407325625186786e-05, 4.139719749218784e-05, 4.139699012739584e-05, 4.138988515478559e-05, 4.140150122111663e-05, 4.139454540563747e-05, 4.1399620386073366e-05, 4.138252552365884e-05, 4.1388386307517067e-05, 4.138525400776416e-05, 4.138626900385134e-05, 4.139584780205041e-05, 4.1396506276214495e-05, 4.1398659959668294e-05, 4.139126758673228e-05, 4.139360680710524e-05, 4.139273369219154e-05, 4.139488373766653e-05, 4.1394894651602954e-05, 4.39811083197128e-05, 4.329165312810801e-05, 4.312571036280133e-05, 4.291555887903087e-05, 4.2755083995871246e-05, 4.2704712541308254e-05, 4.2846699216170236e-05, 4.256033935234882e-05, 4.243520015734248e-05, 4.2582585592754185e-05, 4.245902891852893e-05, 4.2448813474038616e-05, 4.233376239426434e-05, 4.229033584124409e-05, 4.2224601202178746e-05, 4.219950642436743e-05, 4.218579124426469e-05, 4.217233799863607e-05, 4.2170689994236454e-05, 4.216237721266225e-05, 4.207653910270892e-05, 4.2068240873049945e-05, 4.204121069051325e-05, 4.196950249024667e-05, 4.1916355257853866e-05, 4.1885559767251834e-05, 4.1863680962705985e-05, 4.1856135794660076e-05, 4.18379349866882e-05, 4.183621422271244e-05, 4.141651152167469e-05, 4.142898978898302e-05, 4.1413044527871534e-05, 4.140446617384441e-05, 4.140706732869148e-05, 4.1405488445889205e-05, 4.139779775869101e-05, 4.1409239202039316e-05, 4.140165765420534e-05, 4.139484735787846e-05, 4.139888915233314e-05, 4.1402305214433e-05, 4.13893794757314e-05, 4.139657539781183e-05, 4.1388564568478614e-05, 4.140075543546118e-05, 4.1380131733603776e-05, 4.140111559536308e-05, 4.138903022976592e-05, 4.138436634093523e-05, 4.13972775277216e-05, 4.138890653848648e-05, 4.139753946219571e-05, 4.139324664720334e-05, 4.139080556342378e-05, 4.140249075135216e-05, 4.138694566790946e-05, 4.137651194469072e-05, 4.138550139032304e-05, 4.1388124373042956e-05, 4.1390514525119215e-05, 4.1392402636120096e-05, 4.139385782764293e-05, 4.139731026953086e-05, 4.1392002458451316e-05, 4.1394017898710445e-05, 4.139530210522935e-05, 4.139273733017035e-05, 4.1390878322999924e-05, 4.1390539990970865e-05, 4.139094380661845e-05, 4.3104624637635425e-05, 4.306591290514916e-05, 4.290422657504678e-05, 4.299841748434119e-05, 4.291733057470992e-05, 4.289623029762879e-05, 4.257313776179217e-05, 4.2417817894602194e-05, 4.232314677210525e-05, 4.239095142111182e-05, 4.242965951561928e-05, 4.232201536069624e-05, 4.2284435039618984e-05, 4.2261490307282656e-05, 4.224536314723082e-05, 4.2238661990268156e-05, 4.2233848944306374e-05, 4.2178467992926016e-05, 4.213729698676616e-05, 4.213205102132633e-05, 4.2101914004888386e-05, 4.206354060443118e-05, 4.2005758587038144e-05, 4.197404268779792e-05, 4.195940346107818e-05, 4.19511015934404e-05, 4.193931818008423e-05, 4.1902745579136536e-05, 4.184191857348196e-05, 4.183027340332046e-05, 4.1421400965191424e-05, 4.140281453146599e-05, 4.141320823691785e-05, 4.139855445828289e-05, 4.1399096517125145e-05, 4.1396757296752185e-05, 4.13960988225881e-05, 4.13916859542951e-05, 4.138037547818385e-05, 4.13863017456606e-05, 4.139149314141832e-05, 4.13960478908848e-05, 4.137976429774426e-05, 4.138480653637089e-05, 4.139278826187365e-05, 4.139186785323545e-05, 4.1384111682418734e-05, 4.138321310165338e-05, 4.13919951824937e-05, 4.1371415136381984e-05, 4.138947042520158e-05, 4.138518124818802e-05, 4.138021176913753e-05, 4.139343946008012e-05, 4.138358781347051e-05, 4.137338692089543e-05, 4.139944940106943e-05, 4.139166776440106e-05, 4.138183066970669e-05, 4.138290387345478e-05, 4.140114469919354e-05, 4.138816075283103e-05, 4.138862277613953e-05, 4.139331940677948e-05, 4.138783333473839e-05, 4.138697113376111e-05, 4.1386523662367836e-05, 4.138780423090793e-05, 4.1384697397006676e-05, 4.1386450902791694e-05, 4.322511813370511e-05, 4.312313467380591e-05, 4.282348163542338e-05, 4.26232727477327e-05, 4.270034332876094e-05, 4.2564846808090806e-05, 4.2452404159121215e-05, 4.2657287849579006e-05, 4.235938467900269e-05, 4.26021397288423e-05, 4.241529677528888e-05, 4.2263131035724655e-05, 4.2245428630849347e-05, 4.2230843973811716e-05, 4.217926471028477e-05, 4.215880835545249e-05, 4.2083753214683384e-05, 4.208274185657501e-05, 4.2027371819131076e-05, 4.193954009679146e-05, 4.192587948637083e-05, 4.1908013372449204e-05, 4.186565274721943e-05, 4.1845356463454664e-05, 4.182862539892085e-05, 4.182777047390118e-05, 4.1807164961937815e-05, 4.179488314548507e-05, 4.179427196504548e-05, 4.1787225200096145e-05], \"Total\": [25.0, 19.0, 19.0, 17.0, 16.0, 15.0, 13.0, 13.0, 12.0, 11.0, 11.0, 10.0, 10.0, 10.0, 9.0, 9.0, 8.0, 8.0, 8.0, 7.0, 7.0, 7.0, 6.0, 6.0, 5.0, 5.0, 5.0, 5.0, 4.0, 4.0, 25.417430877685547, 19.559280395507812, 19.562076568603516, 17.61427116394043, 16.63605499267578, 15.660661697387695, 13.707353591918945, 13.707335472106934, 12.733044624328613, 11.756333351135254, 11.756357192993164, 10.78040599822998, 10.780550956726074, 10.778865814208984, 9.805644035339355, 9.803834915161133, 8.830379486083984, 8.828696250915527, 8.828619956970215, 7.8538312911987305, 7.852850914001465, 7.852998733520508, 6.878783702850342, 6.87706995010376, 5.903932094573975, 5.902308940887451, 5.90208625793457, 5.901679039001465, 4.930649757385254, 4.928611755371094, 1.0255004167556763, 1.0249769687652588, 1.0251895189285278, 1.0255142450332642, 1.025087833404541, 1.0250957012176514, 1.0252642631530762, 1.0254149436950684, 1.0253559350967407, 1.0251984596252441, 1.0252952575683594, 1.0252048969268799, 1.025490641593933, 1.0253386497497559, 1.025363564491272, 1.0255054235458374, 1.0253125429153442, 1.0249741077423096, 1.0254297256469727, 1.0253528356552124, 1.0254199504852295, 1.0253440141677856, 1.0252931118011475, 1.0253448486328125, 1.0254521369934082, 1.025193691253662, 1.0253182649612427, 1.0251315832138062, 1.025248646736145, 1.0253511667251587, 1.0254040956497192, 1.025536060333252, 17.61427116394043, 25.417430877685547, 15.660661697387695, 16.63605499267578, 19.559280395507812, 8.828696250915527, 19.562076568603516, 13.707353591918945, 7.8538312911987305, 9.803834915161133, 11.756357192993164, 12.733044624328613, 7.852850914001465, 9.805644035339355, 11.756333351135254, 13.707335472106934, 8.828619956970215, 10.778865814208984, 10.780550956726074, 10.78040599822998, 6.878783702850342, 6.87706995010376, 5.902308940887451, 8.830379486083984, 7.852998733520508, 4.928325653076172, 3.9508347511291504, 5.90208625793457, 5.903932094573975, 4.9267144203186035, 5.901679039001465, 1.025545597076416, 1.0252734422683716, 1.025307297706604, 1.025536060333252, 1.0253455638885498, 1.0252772569656372, 1.0252944231033325, 1.0252492427825928, 1.0256502628326416, 1.0253446102142334, 1.0252070426940918, 1.0252642631530762, 1.0251857042312622, 1.0253247022628784, 1.0252902507781982, 1.0252797603607178, 1.025532603263855, 1.0251766443252563, 1.0252373218536377, 1.0254019498825073, 1.025434136390686, 1.025312066078186, 1.025313138961792, 1.0253318548202515, 1.025442123413086, 1.025384783744812, 1.025428056716919, 1.0252569913864136, 1.0253652334213257, 1.0252161026000977, 1.025818943977356, 1.0255149602890015, 25.417430877685547, 11.756357192993164, 19.562076568603516, 15.660661697387695, 12.733044624328613, 10.780550956726074, 19.559280395507812, 10.78040599822998, 13.707335472106934, 13.707353591918945, 16.63605499267578, 8.828619956970215, 10.778865814208984, 7.852998733520508, 11.756333351135254, 9.805644035339355, 7.852850914001465, 8.828696250915527, 5.90208625793457, 17.61427116394043, 8.830379486083984, 7.8538312911987305, 4.9285125732421875, 5.901679039001465, 9.803834915161133, 2.9760630130767822, 3.9511537551879883, 4.9267144203186035, 4.927502632141113, 5.903932094573975, 4.928468704223633, 6.87706995010376, 6.878783702850342, 1.0251753330230713, 1.0252902507781982, 1.0253430604934692, 1.0252814292907715, 1.0255777835845947, 1.0253125429153442, 1.0253182649612427, 1.0251742601394653, 1.0250957012176514, 1.0255087614059448, 1.0254138708114624, 1.025092363357544, 1.025386929512024, 1.0253220796585083, 1.0253180265426636, 1.0255190134048462, 1.0251343250274658, 1.0253844261169434, 1.0252420902252197, 1.0256094932556152, 1.0253530740737915, 1.025421380996704, 1.025214672088623, 1.0251879692077637, 1.0254164934158325, 1.025307297706604, 1.0254024267196655, 1.0254019498825073, 1.0254040956497192, 1.0256028175354004, 1.0258879661560059, 1.0256177186965942, 25.417430877685547, 17.61427116394043, 19.559280395507812, 19.562076568603516, 15.660661697387695, 16.63605499267578, 13.707353591918945, 13.707335472106934, 10.78040599822998, 9.803834915161133, 10.778865814208984, 8.828619956970215, 10.780550956726074, 12.733044624328613, 11.756357192993164, 11.756333351135254, 8.830379486083984, 7.852998733520508, 3.9514455795288086, 2.000274419784546, 4.927502632141113, 9.805644035339355, 8.828696250915527, 4.927249431610107, 7.852850914001465, 4.927646636962891, 3.9508347511291504, 5.902308940887451, 6.878783702850342, 3.9518773555755615, 7.8538312911987305, 6.87706995010376, 5.903932094573975, 1.0253208875656128, 1.025418758392334, 1.0252186059951782, 1.0251637697219849, 1.025478482246399, 1.0255064964294434, 1.0254560708999634, 1.0253320932388306, 1.025248646736145, 1.0254030227661133, 1.0253214836120605, 1.0253806114196777, 1.0251857042312622, 1.0252723693847656, 1.0254061222076416, 1.0255740880966187, 1.0255008935928345, 1.0253970623016357, 1.0249813795089722, 1.025092363357544, 1.0254631042480469, 1.0253965854644775, 1.0253386497497559, 1.025532603263855, 1.0254346132278442, 1.0252934694290161, 1.025320053100586, 1.0252662897109985, 1.0254164934158325, 1.0255084037780762, 1.0254998207092285, 25.417430877685547, 17.61427116394043, 11.756333351135254, 13.707335472106934, 19.559280395507812, 19.562076568603516, 16.63605499267578, 11.756357192993164, 7.8538312911987305, 10.778865814208984, 9.803834915161133, 15.660661697387695, 13.707353591918945, 10.780550956726074, 8.828619956970215, 10.78040599822998, 4.928319454193115, 5.90208625793457, 6.87706995010376, 8.830379486083984, 4.927249431610107, 12.733044624328613, 7.852998733520508, 8.828696250915527, 9.805644035339355, 5.903932094573975, 4.930649757385254, 7.852850914001465, 5.901679039001465, 4.926902770996094, 5.902308940887451, 6.878783702850342, 1.0253182649612427, 1.0250649452209473, 1.025490641593933, 1.0254844427108765, 1.0252138376235962, 1.025464415550232, 1.0252833366394043, 1.02517569065094, 1.0254442691802979, 1.0254080295562744, 1.025375485420227, 1.0252695083618164, 1.0255669355392456, 1.0251396894454956, 1.0254522562026978, 1.0255346298217773, 1.0253530740737915, 1.0253952741622925, 1.0250681638717651, 1.0256246328353882, 1.0257759094238281, 1.0255004167556763, 1.0252152681350708, 1.0252946615219116, 1.0252845287322998, 1.02560555934906, 1.0256052017211914, 1.0253455638885498, 1.0254671573638916, 1.0252174139022827, 1.0253393650054932, 1.0253989696502686, 1.0255084037780762, 19.562076568603516, 25.417430877685547, 19.559280395507812, 15.660661697387695, 12.733044624328613, 13.707335472106934, 16.63605499267578, 13.707353591918945, 17.61427116394043, 9.803834915161133, 11.756357192993164, 10.778865814208984, 7.852850914001465, 10.780550956726074, 6.87706995010376, 8.828696250915527, 8.830379486083984, 5.901679039001465, 7.852998733520508, 4.928319454193115, 11.756333351135254, 4.927646636962891, 2.9770336151123047, 6.878783702850342, 5.902308940887451, 4.926902770996094, 9.805644035339355, 10.78040599822998, 8.828619956970215, 5.903932094573975, 4.9285125732421875, 7.8538312911987305, 1.0256457328796387, 1.0252482891082764, 1.0255541801452637, 1.0253652334213257, 1.0252174139022827, 1.0255087614059448, 1.0254908800125122, 1.025352120399475, 1.0253806114196777, 1.02566397190094, 1.0255320072174072, 1.0252149105072021, 1.0254054069519043, 1.0252734422683716, 1.0251343250274658, 1.0256227254867554, 1.0253182649612427, 1.0253468751907349, 1.0253630876541138, 1.025464415550232, 1.0253835916519165, 1.0255571603775024, 1.0254701375961304, 1.025255560874939, 1.0253989696502686, 1.0254442691802979, 1.0249741077423096, 1.025438904762268, 1.0252695083618164, 1.025374174118042, 1.0254663228988647, 1.0255725383758545, 19.562076568603516, 25.417430877685547, 19.559280395507812, 10.78040599822998, 17.61427116394043, 13.707335472106934, 15.660661697387695, 10.780550956726074, 9.805644035339355, 11.756333351135254, 12.733044624328613, 16.63605499267578, 8.828619956970215, 10.778865814208984, 9.803834915161133, 13.707353591918945, 5.90208625793457, 7.8538312911987305, 5.901679039001465, 7.852850914001465, 11.756357192993164, 8.828696250915527, 7.852998733520508, 6.878783702850342, 5.903932094573975, 5.902308940887451, 4.928611755371094, 3.952533721923828, 6.87706995010376, 4.926902770996094, 8.830379486083984, 1.0252803564071655, 1.0251766443252563, 1.0253870487213135, 1.0255157947540283, 1.025188684463501, 1.0253480672836304, 1.0253721475601196, 1.0251343250274658, 1.0253056287765503, 1.0255135297775269, 1.0252174139022827, 1.0253461599349976, 1.0253262519836426, 1.0251753330230713, 1.0252621173858643, 1.0252894163131714, 1.0252116918563843, 1.0254316329956055, 1.0251315832138062, 1.02517569065094, 1.0257198810577393, 1.025295376777649, 1.0254523754119873, 1.0252463817596436, 1.0253175497055054, 1.025492548942566, 1.0256978273391724, 1.0255037546157837, 1.0252246856689453, 1.0257073640823364, 1.0256028175354004, 17.61427116394043, 19.559280395507812, 25.417430877685547, 19.562076568603516, 15.660661697387695, 10.780550956726074, 11.756333351135254, 10.78040599822998, 8.830379486083984, 13.707353591918945, 7.852998733520508, 16.63605499267578, 6.87706995010376, 11.756357192993164, 10.778865814208984, 6.878783702850342, 12.733044624328613, 9.805644035339355, 7.852850914001465, 13.707335472106934, 8.828696250915527, 9.803834915161133, 8.828619956970215, 3.950390577316284, 4.927502632141113, 5.901679039001465, 5.902308940887451, 3.9516963958740234, 4.927641868591309, 4.9267144203186035, 7.8538312911987305, 1.0251766443252563, 1.0254528522491455, 1.0257198810577393, 1.02548348903656, 1.0252116918563843, 1.0251895189285278, 1.0252848863601685, 1.0252246856689453, 1.0254054069519043, 1.0254998207092285, 1.0252149105072021, 1.02517569065094, 1.0250681638717651, 1.0254185199737549, 1.025438904762268, 1.025087833404541, 1.0253421068191528, 1.0252058506011963, 1.0253056287765503, 1.0256028175354004, 1.0253952741622925, 1.0249769687652588, 1.0253267288208008, 1.025312066078186, 1.0253214836120605, 1.0253448486328125, 1.0254100561141968, 1.0253970623016357, 1.0253552198410034, 1.0254853963851929, 1.0256224870681763, 1.0258089303970337, 19.562076568603516, 25.417430877685547, 17.61427116394043, 13.707353591918945, 12.733044624328613, 16.63605499267578, 13.707335472106934, 10.778865814208984, 19.559280395507812, 10.78040599822998, 15.660661697387695, 8.830379486083984, 11.756357192993164, 10.780550956726074, 11.756333351135254, 9.803834915161133, 5.902308940887451, 8.828619956970215, 6.878783702850342, 9.805644035339355, 7.8538312911987305, 5.90208625793457, 7.852998733520508, 4.92815637588501, 6.87706995010376, 7.852850914001465, 3.951538324356079, 3.952455520629883, 4.928611755371094, 2.0008740425109863, 4.930649757385254, 4.926902770996094, 8.828696250915527, 1.0253287553787231, 1.0254522562026978, 1.0253806114196777, 1.0254844427108765, 1.025464653968811, 1.0255995988845825, 1.0254453420639038, 1.0252193212509155, 1.025463342666626, 1.0252604484558105, 1.0249813795089722, 1.0252797603607178, 1.0254523754119873, 1.0254408121109009, 1.0253543853759766, 1.0256483554840088, 1.0254428386688232, 1.02545964717865, 1.0252803564071655, 1.0254316329956055, 1.0257751941680908, 1.0253885984420776, 1.0253180265426636, 1.025392770767212, 1.0258121490478516, 1.0254088640213013, 1.0252420902252197, 1.0254853963851929, 1.0251857042312622, 1.0253220796585083, 1.0256131887435913, 1.025755524635315, 1.0256260633468628, 25.417430877685547, 19.559280395507812, 13.707335472106934, 12.733044624328613, 19.562076568603516, 16.63605499267578, 13.707353591918945, 11.756333351135254, 9.803834915161133, 17.61427116394043, 11.756357192993164, 8.828619956970215, 15.660661697387695, 8.830379486083984, 9.805644035339355, 6.87706995010376, 7.8538312911987305, 10.778865814208984, 8.828696250915527, 6.878783702850342, 5.903932094573975, 4.926902770996094, 7.852850914001465, 5.902308940887451, 10.78040599822998, 5.901679039001465, 4.928468704223633, 2.9760608673095703, 3.9519975185394287, 10.780550956726074, 4.928319454193115, 5.90208625793457, 7.852998733520508, 1.0255650281906128, 1.0256661176681519, 1.0252022743225098, 1.0253909826278687, 1.0254080295562744, 1.02548348903656, 1.0253208875656128, 1.02534818649292, 1.0252845287322998, 1.0253175497055054, 1.0254435539245605, 1.0252487659454346, 1.0253429412841797, 1.0253214836120605, 1.0254290103912354, 1.0252310037612915, 1.0254873037338257, 1.0256342887878418, 1.0254123210906982, 1.0253169536590576, 1.0255054235458374, 1.0252848863601685, 1.0252116918563843, 1.025578498840332, 1.025591492652893, 1.0254734754562378, 1.0258089303970337, 1.025177240371704, 1.0254466533660889, 1.0255560874938965, 1.0253989696502686, 25.417430877685547, 19.562076568603516, 16.63605499267578, 17.61427116394043, 19.559280395507812, 13.707353591918945, 13.707335472106934, 8.830379486083984, 12.733044624328613, 11.756333351135254, 8.828696250915527, 9.805644035339355, 15.660661697387695, 10.778865814208984, 6.878783702850342, 11.756357192993164, 10.780550956726074, 10.78040599822998, 9.803834915161133, 6.87706995010376, 7.852998733520508, 5.901679039001465, 4.9267144203186035, 3.952533721923828, 4.927249431610107, 7.8538312911987305, 4.928468704223633, 3.951538324356079, 4.928325653076172, 8.828619956970215, 7.852850914001465, 5.90208625793457, 1.025320053100586, 1.0249813795089722, 1.0253139734268188, 1.0256750583648682, 1.0250649452209473, 1.0252529382705688, 1.0252058506011963, 1.0255008935928345, 1.0253468751907349, 1.0253965854644775, 1.0250681638717651, 1.025516390800476, 1.0252621173858643, 1.025596022605896, 1.0252152681350708, 1.02517569065094, 1.025536060333252, 1.0252246856689453, 1.0253480672836304, 1.0255722999572754, 1.025518774986267, 1.0254088640213013, 1.0256321430206299, 1.0255584716796875, 1.0253448486328125, 1.0253081321716309, 1.0255541801452637, 1.025355577468872, 1.0252569913864136, 1.0254873037338257, 1.0254853963851929, 1.0254226922988892, 19.559280395507812, 25.417430877685547, 16.63605499267578, 19.562076568603516, 13.707353591918945, 9.805644035339355, 15.660661697387695, 11.756333351135254, 12.733044624328613, 10.780550956726074, 10.778865814208984, 17.61427116394043, 13.707335472106934, 10.78040599822998, 9.803834915161133, 11.756357192993164, 7.8538312911987305, 4.927641868591309, 8.828619956970215, 4.928325653076172, 6.878783702850342, 4.927249431610107, 4.926902770996094, 4.928611755371094, 8.828696250915527, 2.976321220397949, 4.9267144203186035, 7.852850914001465, 6.87706995010376, 7.852998733520508, 5.901679039001465, 8.830379486083984, 1.0249741077423096, 1.0258877277374268, 1.0253081321716309, 1.025193691253662, 1.0257203578948975, 1.0252833366394043, 1.0249818563461304, 1.025345802307129, 1.0252662897109985, 1.0254528522491455, 1.0250649452209473, 1.0251343250274658, 1.025320053100586, 1.0256750583648682, 1.0252373218536377, 1.0253528356552124, 1.0252957344055176, 1.0251895189285278, 1.0253461599349976, 1.0258879661560059, 1.0253214836120605, 1.0252934694290161, 1.025560736656189, 1.025496244430542, 1.0252048969268799, 1.0251857042312622, 1.0254560708999634, 1.025374174118042, 1.0252529382705688, 1.0253806114196777, 1.0254346132278442, 1.0255053043365479, 1.02566397190094, 19.559280395507812, 25.417430877685547, 19.562076568603516, 16.63605499267578, 13.707353591918945, 11.756333351135254, 17.61427116394043, 13.707335472106934, 11.756357192993164, 10.778865814208984, 12.733044624328613, 9.805644035339355, 10.78040599822998, 10.780550956726074, 4.927502632141113, 15.660661697387695, 7.852850914001465, 8.828619956970215, 8.828696250915527, 9.803834915161133, 7.852998733520508, 6.87706995010376, 5.902308940887451, 8.830379486083984, 4.928468704223633, 4.9267144203186035, 5.901679039001465, 5.903932094573975, 6.878783702850342, 4.926902770996094, 7.8538312911987305, 1.0252946615219116, 1.0252193212509155, 1.025484561920166, 1.0249818563461304, 1.0253559350967407, 1.0254722833633423, 1.0252803564071655, 1.0252482891082764, 1.0256028175354004, 1.0252814292907715, 1.0252149105072021, 1.0252604484558105, 1.0252174139022827, 1.0253446102142334, 1.025471568107605, 1.025436282157898, 1.0256661176681519, 1.0255571603775024, 1.0253318548202515, 1.0254080295562744, 1.025248646736145, 1.0249769687652588, 1.02555513381958, 1.0253393650054932, 1.0252833366394043, 1.0251895189285278, 1.025313138961792, 1.0254701375961304, 1.025295376777649, 1.0254040956497192, 1.0254123210906982, 1.025578498840332, 1.0254671573638916, 1.0256246328353882, 1.0255037546157837, 19.562076568603516, 25.417430877685547, 16.63605499267578, 19.559280395507812, 17.61427116394043, 13.707353591918945, 10.778865814208984, 12.733044624328613, 10.78040599822998, 11.756357192993164, 7.852998733520508, 10.780550956726074, 13.707335472106934, 15.660661697387695, 9.805644035339355, 9.803834915161133, 8.830379486083984, 6.878783702850342, 5.90208625793457, 4.926902770996094, 7.852850914001465, 4.928611755371094, 3.9514455795288086, 8.828619956970215, 3.951538324356079, 3.952361822128296, 5.903932094573975, 4.927646636962891, 5.902308940887451, 4.927249431610107, 11.756333351135254, 8.828696250915527, 6.87706995010376, 1.0249813795089722, 1.025463342666626, 1.0254316329956055, 1.0251984596252441, 1.0253386497497559, 1.0255084037780762, 1.0254453420639038, 1.0252482891082764, 1.0252058506011963, 1.02545964717865, 1.0254290103912354, 1.0253175497055054, 1.0254123210906982, 1.025193691253662, 1.025214672088623, 1.0251396894454956, 1.0251343250274658, 1.0252946615219116, 1.0254560708999634, 1.0255054235458374, 1.0256158113479614, 1.02560293674469, 1.025782585144043, 1.0249741077423096, 1.0252772569656372, 1.0253552198410034, 1.0254887342453003, 1.0251766443252563, 1.0255751609802246, 1.025295376777649, 1.0255740880966187, 1.0256280899047852, 1.0255827903747559, 1.0256094932556152, 19.562076568603516, 19.559280395507812, 25.417430877685547, 10.778865814208984, 11.756357192993164, 17.61427116394043, 15.660661697387695, 10.780550956726074, 12.733044624328613, 9.803834915161133, 16.63605499267578, 13.707353591918945, 9.805644035339355, 11.756333351135254, 13.707335472106934, 10.78040599822998, 8.828619956970215, 8.830379486083984, 8.828696250915527, 7.852998733520508, 7.8538312911987305, 3.9528019428253174, 6.87706995010376, 6.878783702850342, 7.852850914001465, 3.951538324356079, 4.927641868591309, 4.928319454193115, 2.975958824157715, 4.930649757385254, 4.9285125732421875, 1.025434136390686, 1.0253480672836304, 1.0253446102142334, 1.0254040956497192, 1.0255571603775024, 1.0250649452209473, 1.0253393650054932, 1.025359869003296, 1.0250957012176514, 1.0252772569656372, 1.0250681638717651, 1.0254638195037842, 1.0254528522491455, 1.0251396894454956, 1.0249769687652588, 1.0255541801452637, 1.0254933834075928, 1.0252174139022827, 1.0256224870681763, 1.0254030227661133, 1.0253440141677856, 1.0255560874938965, 1.0253970623016357, 1.0253630876541138, 1.0253448486328125, 1.025484561920166, 1.0254844427108765, 1.0252695083618164, 1.0254554748535156, 1.0252844095230103, 1.0258550643920898, 1.0254236459732056, 1.0256102085113525, 1.0256789922714233, 15.660661697387695, 19.562076568603516, 19.559280395507812, 16.63605499267578, 13.707335472106934, 25.417430877685547, 13.707353591918945, 12.733044624328613, 17.61427116394043, 11.756357192993164, 10.778865814208984, 10.780550956726074, 9.805644035339355, 11.756333351135254, 6.87706995010376, 10.78040599822998, 7.8538312911987305, 9.803834915161133, 4.927646636962891, 4.928611755371094, 3.951616048812866, 8.828696250915527, 8.828619956970215, 3.9523909091949463, 3.950390577316284, 3.952918291091919, 8.830379486083984, 7.852998733520508, 5.903932094573975, 4.928468704223633, 5.901679039001465, 6.878783702850342, 7.852850914001465, 1.0253721475601196, 1.0254316329956055, 1.025214672088623, 1.025471568107605, 1.025499939918518, 1.0255053043365479, 1.0254554748535156, 1.0252022743225098, 1.0253169536590576, 1.0251598358154297, 1.0254182815551758, 1.0254908800125122, 1.025087833404541, 1.0252058506011963, 1.0253461599349976, 1.0251742601394653, 1.0252621173858643, 1.0254195928573608, 1.0253660678863525, 1.025248646736145, 1.0251984596252441, 1.025363564491272, 1.0254731178283691, 1.0252487659454346, 1.02534818649292, 1.0253870487213135, 1.0249813795089722, 1.025437831878662, 1.0257917642593384, 1.0252492427825928, 1.0257267951965332, 1.0257411003112793, 1.025702953338623, 25.417430877685547, 16.63605499267578, 19.559280395507812, 11.756333351135254, 19.562076568603516, 17.61427116394043, 8.830379486083984, 13.707353591918945, 11.756357192993164, 10.778865814208984, 15.660661697387695, 7.852998733520508, 6.87706995010376, 8.828696250915527, 10.780550956726074, 9.805644035339355, 12.733044624328613, 13.707335472106934, 9.803834915161133, 8.828619956970215, 10.78040599822998, 5.90208625793457, 4.926902770996094, 4.9285125732421875, 5.901679039001465, 3.95149564743042, 7.8538312911987305, 4.928611755371094, 3.952742576599121, 5.903932094573975, 7.852850914001465, 6.878783702850342, 5.902308940887451, 1.0253393650054932, 1.0249813795089722, 1.0252373218536377, 1.025320053100586, 1.0252310037612915, 1.0253455638885498, 1.0250681638717651, 1.0255149602890015, 1.0253374576568604, 1.0252492427825928, 1.0252803564071655, 1.025301456451416, 1.025300145149231, 1.0251598358154297, 1.0253334045410156, 1.0249769687652588, 1.0251857042312622, 1.0254297256469727, 1.0253559350967407, 1.0255494117736816, 1.0253169536590576, 1.0253480672836304, 1.025177240371704, 1.025492548942566, 1.0253543853759766, 1.0254873037338257, 1.0250649452209473, 1.0252116918563843, 1.0251396894454956, 1.0251766443252563, 1.0254226922988892, 1.0254673957824707, 1.0256342887878418, 1.0253721475601196, 1.025504231452942, 1.0254621505737305, 1.0257031917572021, 1.0258550643920898, 25.417430877685547, 19.562076568603516, 19.559280395507812, 15.660661697387695, 12.733044624328613, 11.756333351135254, 16.63605499267578, 9.805644035339355, 8.830379486083984, 13.707335472106934, 10.778865814208984, 13.707353591918945, 10.78040599822998, 17.61427116394043, 7.852998733520508, 10.780550956726074, 8.828696250915527, 9.803834915161133, 8.828619956970215, 7.8538312911987305, 6.878783702850342, 6.87706995010376, 7.852850914001465, 5.903932094573975, 11.756357192993164, 4.9285125732421875, 5.90208625793457, 5.902308940887451, 4.928468704223633, 4.927646636962891, 1.0252797603607178, 1.025681734085083, 1.0254123210906982, 1.0253175497055054, 1.0253885984420776, 1.0253511667251587, 1.0251879692077637, 1.025516390800476, 1.0253334045410156, 1.025214672088623, 1.0253169536590576, 1.0254182815551758, 1.0251315832138062, 1.0253139734268188, 1.0251396894454956, 1.0254523754119873, 1.0249769687652588, 1.025503158569336, 1.0252048969268799, 1.025092363357544, 1.025416612625122, 1.0252149105072021, 1.0254316329956055, 1.0253393650054932, 1.0252937078475952, 1.0256094932556152, 1.0252310037612915, 1.0249818563461304, 1.0252058506011963, 1.0252844095230103, 1.0253543853759766, 1.0254054069519043, 1.025492548942566, 1.0256227254867554, 1.025434136390686, 1.0255186557769775, 1.0256177186965942, 1.025527834892273, 1.0254673957824707, 1.0254701375961304, 1.0256052017211914, 19.559280395507812, 19.562076568603516, 13.707335472106934, 17.61427116394043, 16.63605499267578, 25.417430877685547, 12.733044624328613, 9.805644035339355, 7.852850914001465, 9.803834915161133, 15.660661697387695, 11.756333351135254, 11.756357192993164, 8.830379486083984, 10.778865814208984, 13.707353591918945, 10.780550956726074, 8.828696250915527, 7.8538312911987305, 10.78040599822998, 6.87706995010376, 7.852998733520508, 8.828619956970215, 5.901679039001465, 4.927646636962891, 5.903932094573975, 5.902308940887451, 6.878783702850342, 4.928319454193115, 4.9285125732421875, 1.0253081321716309, 1.0249813795089722, 1.0252957344055176, 1.0253318548202515, 1.025416612625122, 1.0254080295562744, 1.025404453277588, 1.025312066078186, 1.0250681638717651, 1.0252161026000977, 1.0253543853759766, 1.0254722833633423, 1.025087833404541, 1.0252246856689453, 1.0254442691802979, 1.0254226922988892, 1.0252662897109985, 1.0252482891082764, 1.0254671573638916, 1.0249741077423096, 1.0254290103912354, 1.0253262519836426, 1.0252138376235962, 1.0255768299102783, 1.0253429412841797, 1.025092363357544, 1.0257467031478882, 1.0255571603775024, 1.0253175497055054, 1.0253480672836304, 1.025818943977356, 1.025484561920166, 1.0255008935928345, 1.0256321430206299, 1.0255149602890015, 1.0254877805709839, 1.0254827737808228, 1.0258089303970337, 1.0254689455032349, 1.025791883468628, 19.559280395507812, 25.417430877685547, 15.660661697387695, 10.78040599822998, 16.63605499267578, 13.707353591918945, 11.756333351135254, 19.562076568603516, 9.805644035339355, 17.61427116394043, 13.707335472106934, 9.803834915161133, 12.733044624328613, 10.778865814208984, 11.756357192993164, 7.852998733520508, 7.852850914001465, 10.780550956726074, 7.8538312911987305, 6.87706995010376, 6.878783702850342, 8.830379486083984, 8.828696250915527, 8.828619956970215, 5.903932094573975, 5.90208625793457, 4.928468704223633, 4.930649757385254, 4.927641868591309, 4.928611755371094], \"logprob\": [30.0, 29.0, 28.0, 27.0, 26.0, 25.0, 24.0, 23.0, 22.0, 21.0, 20.0, 19.0, 18.0, 17.0, 16.0, 15.0, 14.0, 13.0, 12.0, 11.0, 10.0, 9.0, 8.0, 7.0, 6.0, 5.0, 4.0, 3.0, 2.0, 1.0, -3.8160998821258545, -4.078100204467773, -4.077899932861328, -4.182799816131592, -4.2399001121521, -4.3003997802734375, -4.433599948883057, -4.433599948883057, -4.507299900054932, -4.587100028991699, -4.587100028991699, -4.673799991607666, -4.673799991607666, -4.673999786376953, -4.768599987030029, -4.768799781799316, -4.8734002113342285, -4.873600006103516, -4.873600006103516, -4.990600109100342, -4.990699768066406, -4.990699768066406, -5.1230998039245605, -5.1234002113342285, -5.276000022888184, -5.276299953460693, -5.276299953460693, -5.276400089263916, -5.456200122833252, -5.456600189208984, -6.350299835205078, -6.350900173187256, -6.350900173187256, -6.351099967956543, -6.351600170135498, -6.351600170135498, -6.3516998291015625, -6.351600170135498, -6.351900100708008, -6.3520002365112305, -6.352099895477295, -6.352200031280518, -6.352099895477295, -6.35230016708374, -6.352399826049805, -6.352799892425537, -6.3531999588012695, -6.353899955749512, -6.353600025177002, -6.353799819946289, -6.354000091552734, -6.3541998863220215, -6.354300022125244, -6.354300022125244, -6.354300022125244, -6.354599952697754, -6.354400157928467, -6.354599952697754, -6.354599952697754, -6.354499816894531, -6.354499816894531, -6.354400157928467, -6.005000114440918, -5.967100143432617, -6.036600112915039, -6.032400131225586, -6.031199932098389, -6.134900093078613, -6.080399990081787, -6.151299953460693, -6.191800117492676, -6.178199768066406, -6.172599792480469, -6.167099952697754, -6.2032999992370605, -6.191100120544434, -6.181099891662598, -6.179699897766113, -6.206200122833252, -6.201700210571289, -6.204999923706055, -6.217899799346924, -6.242400169372559, -6.246300220489502, -6.2555999755859375, -6.237800121307373, -6.244800090789795, -6.269400119781494, -6.281599998474121, -6.265399932861328, -6.268899917602539, -6.2769999504089355, -6.276400089263916, -6.345900058746338, -6.348400115966797, -6.348499774932861, -6.348499774932861, -6.348800182342529, -6.348899841308594, -6.349100112915039, -6.349299907684326, -6.349100112915039, -6.3495001792907715, -6.349800109863281, -6.349999904632568, -6.350200176239014, -6.350100040435791, -6.350200176239014, -6.350299835205078, -6.350100040435791, -6.350800037384033, -6.350800037384033, -6.3506999015808105, -6.3506999015808105, -6.350800037384033, -6.350800037384033, -6.350900173187256, -6.350900173187256, -6.35099983215332, -6.35099983215332, -6.351200103759766, -6.351200103759766, -6.351399898529053, -6.35099983215332, -6.351200103759766, -5.973599910736084, -6.12060022354126, -6.110499858856201, -6.13100004196167, -6.152599811553955, -6.1656999588012695, -6.132500171661377, -6.1753997802734375, -6.161799907684326, -6.162700176239014, -6.161600112915039, -6.206299781799316, -6.198200225830078, -6.221199989318848, -6.199100017547607, -6.216100215911865, -6.228099822998047, -6.225399971008301, -6.249499797821045, -6.1975998878479, -6.241799831390381, -6.255499839782715, -6.276199817657471, -6.270599842071533, -6.252500057220459, -6.3024001121521, -6.292099952697754, -6.286399841308594, -6.286600112915039, -6.283999919891357, -6.292200088500977, -6.288099765777588, -6.289100170135498, -6.34630012512207, -6.346399784088135, -6.34660005569458, -6.346799850463867, -6.346799850463867, -6.347400188446045, -6.347499847412109, -6.3480000495910645, -6.348199844360352, -6.3480000495910645, -6.348100185394287, -6.348499774932861, -6.348199844360352, -6.348400115966797, -6.348499774932861, -6.348299980163574, -6.348700046539307, -6.348499774932861, -6.348700046539307, -6.348299980163574, -6.348599910736084, -6.348499774932861, -6.348800182342529, -6.348899841308594, -6.348700046539307, -6.348800182342529, -6.348800182342529, -6.348899841308594, -6.348999977111816, -6.348800182342529, -6.348700046539307, -6.348899841308594, -6.0980000495910645, -6.131999969482422, -6.130300045013428, -6.145400047302246, -6.166100025177002, -6.16349983215332, -6.1753997802734375, -6.1774001121521, -6.205599784851074, -6.211699962615967, -6.211299896240234, -6.225299835205078, -6.218699932098389, -6.218299865722656, -6.227200031280518, -6.228099822998047, -6.250500202178955, -6.259699821472168, -6.289999961853027, -6.317699909210205, -6.285099983215332, -6.258600234985352, -6.264699935913086, -6.285999774932861, -6.272500038146973, -6.289299964904785, -6.296800136566162, -6.285999774932861, -6.284800052642822, -6.3018999099731445, -6.281700134277344, -6.288899898529053, -6.293700218200684, -6.344900131225586, -6.345600128173828, -6.3460001945495605, -6.34660005569458, -6.346499919891357, -6.346499919891357, -6.346700191497803, -6.3470001220703125, -6.347099781036377, -6.3470001220703125, -6.347400188446045, -6.347400188446045, -6.347799777984619, -6.347700119018555, -6.347599983215332, -6.347599983215332, -6.347700119018555, -6.347899913787842, -6.348400115966797, -6.348299980163574, -6.348100185394287, -6.348199844360352, -6.348299980163574, -6.348100185394287, -6.348299980163574, -6.348400115966797, -6.348499774932861, -6.348499774932861, -6.348499774932861, -6.348400115966797, -6.348499774932861, -6.058199882507324, -6.1539998054504395, -6.181300163269043, -6.178999900817871, -6.164400100708008, -6.16540002822876, -6.17549991607666, -6.21619987487793, -6.237299919128418, -6.229899883270264, -6.2347002029418945, -6.2144999504089355, -6.221700191497803, -6.233099937438965, -6.254700183868408, -6.247399806976318, -6.279200077056885, -6.27209997177124, -6.267199993133545, -6.258800029754639, -6.282100200653076, -6.249300003051758, -6.2667999267578125, -6.263400077819824, -6.262899875640869, -6.280099868774414, -6.285999774932861, -6.276299953460693, -6.2881999015808105, -6.295400142669678, -6.290900230407715, -6.289299964904785, -6.345300197601318, -6.345799922943115, -6.3454999923706055, -6.345600128173828, -6.3460001945495605, -6.345699787139893, -6.346099853515625, -6.346399784088135, -6.34630012512207, -6.346399784088135, -6.346399784088135, -6.34660005569458, -6.34630012512207, -6.346700191497803, -6.346499919891357, -6.346499919891357, -6.346700191497803, -6.346700191497803, -6.3470001220703125, -6.346499919891357, -6.346499919891357, -6.346799850463867, -6.347099781036377, -6.3470001220703125, -6.347099781036377, -6.346799850463867, -6.346799850463867, -6.347099781036377, -6.347099781036377, -6.347300052642822, -6.3471999168396, -6.3471999168396, -6.347099781036377, -6.144000053405762, -6.133299827575684, -6.153600215911865, -6.1774001121521, -6.2104997634887695, -6.211400032043457, -6.20419979095459, -6.21560001373291, -6.212699890136719, -6.241199970245361, -6.241199970245361, -6.248799800872803, -6.261600017547607, -6.255899906158447, -6.271100044250488, -6.266200065612793, -6.268499851226807, -6.281499862670898, -6.274799823760986, -6.289000034332275, -6.263800144195557, -6.295100212097168, -6.310699939727783, -6.287199974060059, -6.292099952697754, -6.298299789428711, -6.280399799346924, -6.27869987487793, -6.28380012512207, -6.293600082397461, -6.3028998374938965, -6.298999786376953, -6.343699932098389, -6.344200134277344, -6.344200134277344, -6.3445000648498535, -6.344699859619141, -6.3445000648498535, -6.344600200653076, -6.345099925994873, -6.345200061798096, -6.345099925994873, -6.345200061798096, -6.345600128173828, -6.3454999923706055, -6.345600128173828, -6.345799922943115, -6.345399856567383, -6.345799922943115, -6.345799922943115, -6.345799922943115, -6.345799922943115, -6.345900058746338, -6.345699787139893, -6.345799922943115, -6.346099853515625, -6.345900058746338, -6.345900058746338, -6.346399784088135, -6.3460001945495605, -6.346199989318848, -6.346099853515625, -6.346099853515625, -6.346099853515625, -6.162700176239014, -6.1504998207092285, -6.169000148773193, -6.216700077056885, -6.19290018081665, -6.218500137329102, -6.2195000648498535, -6.248300075531006, -6.252500057220459, -6.248000144958496, -6.247200012207031, -6.248300075531006, -6.268799781799316, -6.264100074768066, -6.268799781799316, -6.260300159454346, -6.286799907684326, -6.28000020980835, -6.2891998291015625, -6.282100200653076, -6.271999835968018, -6.284599781036377, -6.287399768829346, -6.293000221252441, -6.298500061035156, -6.299799919128418, -6.304800033569336, -6.309500217437744, -6.299099922180176, -6.306700229644775, -6.295599937438965, -6.343100070953369, -6.343500137329102, -6.343599796295166, -6.343800067901611, -6.344099998474121, -6.344099998474121, -6.344099998474121, -6.344399929046631, -6.344299793243408, -6.344299793243408, -6.344600200653076, -6.344699859619141, -6.344699859619141, -6.34499979019165, -6.34499979019165, -6.34499979019165, -6.345200061798096, -6.34499979019165, -6.345399856567383, -6.345399856567383, -6.344900131225586, -6.345399856567383, -6.345300197601318, -6.345600128173828, -6.3454999923706055, -6.345399856567383, -6.345200061798096, -6.345399856567383, -6.345799922943115, -6.345399856567383, -6.345600128173828, -6.170400142669678, -6.1666998863220215, -6.154099941253662, -6.173799991607666, -6.209000110626221, -6.247000217437744, -6.2444000244140625, -6.251299858093262, -6.263199806213379, -6.256700038909912, -6.275000095367432, -6.255199909210205, -6.28439998626709, -6.269400119781494, -6.27239990234375, -6.285999774932861, -6.271900177001953, -6.2795000076293945, -6.28439998626709, -6.277200222015381, -6.288599967956543, -6.288000106811523, -6.29040002822876, -6.306600093841553, -6.304800033569336, -6.30210018157959, -6.3024001121521, -6.3109002113342285, -6.3078999519348145, -6.308800220489502, -6.3007001876831055, -6.344200134277344, -6.343999862670898, -6.343800067901611, -6.344200134277344, -6.344600200653076, -6.344699859619141, -6.344600200653076, -6.34499979019165, -6.344799995422363, -6.344799995422363, -6.345099925994873, -6.345099925994873, -6.345200061798096, -6.34499979019165, -6.345099925994873, -6.3454999923706055, -6.345200061798096, -6.345399856567383, -6.345300197601318, -6.345099925994873, -6.345300197601318, -6.345699787139893, -6.345399856567383, -6.3454999923706055, -6.3454999923706055, -6.3454999923706055, -6.345399856567383, -6.3454999923706055, -6.3454999923706055, -6.3454999923706055, -6.345399856567383, -6.3454999923706055, -6.179900169372559, -6.176000118255615, -6.2027997970581055, -6.216100215911865, -6.223400115966797, -6.215000152587891, -6.223599910736084, -6.23859977722168, -6.235400199890137, -6.254700183868408, -6.2453999519348145, -6.267499923706055, -6.260799884796143, -6.268599987030029, -6.267499923706055, -6.275899887084961, -6.291500091552734, -6.2795000076293945, -6.293099880218506, -6.287099838256836, -6.293799877166748, -6.30079984664917, -6.295199871063232, -6.304999828338623, -6.299799919128418, -6.299900054931641, -6.313600063323975, -6.313899993896484, -6.309700012207031, -6.328199863433838, -6.310500144958496, -6.311299800872803, -6.307499885559082, -6.342599868774414, -6.343800067901611, -6.343999862670898, -6.343900203704834, -6.343999862670898, -6.343999862670898, -6.344099998474121, -6.3445000648498535, -6.344299793243408, -6.344600200653076, -6.344900131225586, -6.344600200653076, -6.344399929046631, -6.3445000648498535, -6.344600200653076, -6.344399929046631, -6.344600200653076, -6.344600200653076, -6.344799995422363, -6.344699859619141, -6.344399929046631, -6.344799995422363, -6.34499979019165, -6.344900131225586, -6.3445000648498535, -6.344900131225586, -6.345099925994873, -6.344900131225586, -6.345300197601318, -6.345099925994873, -6.344900131225586, -6.344799995422363, -6.34499979019165, -6.160299777984619, -6.196499824523926, -6.219200134277344, -6.241700172424316, -6.22629976272583, -6.239200115203857, -6.244999885559082, -6.255499839782715, -6.2617998123168945, -6.24560022354126, -6.258399963378906, -6.277599811553955, -6.263800144195557, -6.280200004577637, -6.282299995422363, -6.290500164031982, -6.288599967956543, -6.28249979019165, -6.2866997718811035, -6.291900157928467, -6.29610013961792, -6.301300048828125, -6.292200088500977, -6.297999858856201, -6.2870001792907715, -6.3024001121521, -6.307300090789795, -6.320300102233887, -6.315400123596191, -6.297100067138672, -6.311600208282471, -6.310100078582764, -6.308599948883057, -6.343200206756592, -6.343299865722656, -6.343800067901611, -6.343699932098389, -6.343900203704834, -6.343800067901611, -6.344200134277344, -6.344299793243408, -6.344299793243408, -6.3445000648498535, -6.344399929046631, -6.344600200653076, -6.344600200653076, -6.344600200653076, -6.3445000648498535, -6.344799995422363, -6.3445000648498535, -6.344399929046631, -6.344699859619141, -6.344799995422363, -6.344699859619141, -6.344900131225586, -6.34499979019165, -6.344600200653076, -6.344699859619141, -6.344799995422363, -6.3445000648498535, -6.345099925994873, -6.344900131225586, -6.344799995422363, -6.34499979019165, -6.146299839019775, -6.180099964141846, -6.209499835968018, -6.219200134277344, -6.216899871826172, -6.235499858856201, -6.239699840545654, -6.259399890899658, -6.257900238037109, -6.260900020599365, -6.276000022888184, -6.276100158691406, -6.268400192260742, -6.278800010681152, -6.288400173187256, -6.278600215911865, -6.280600070953369, -6.285399913787842, -6.288099765777588, -6.295300006866455, -6.292699813842773, -6.2993998527526855, -6.303400039672852, -6.3125, -6.309899806976318, -6.300600051879883, -6.310299873352051, -6.315199851989746, -6.311200141906738, -6.301199913024902, -6.3028998374938965, -6.31220006942749, -6.342899799346924, -6.343200206756592, -6.343500137329102, -6.343200206756592, -6.343800067901611, -6.343699932098389, -6.343800067901611, -6.343800067901611, -6.343999862670898, -6.343900203704834, -6.344299793243408, -6.343900203704834, -6.344200134277344, -6.343900203704834, -6.344299793243408, -6.344399929046631, -6.344099998474121, -6.344399929046631, -6.344299793243408, -6.344200134277344, -6.344299793243408, -6.3445000648498535, -6.344299793243408, -6.344399929046631, -6.344600200653076, -6.344699859619141, -6.344399929046631, -6.344600200653076, -6.344699859619141, -6.3445000648498535, -6.344600200653076, -6.344600200653076, -6.151700019836426, -6.152400016784668, -6.230299949645996, -6.223800182342529, -6.239799976348877, -6.257500171661377, -6.251100063323975, -6.265399932861328, -6.2631001472473145, -6.270400047302246, -6.271599769592285, -6.26200008392334, -6.270999908447266, -6.276299953460693, -6.281799793243408, -6.280600070953369, -6.2895002365112305, -6.299099922180176, -6.2895002365112305, -6.305699825286865, -6.301499843597412, -6.308599948883057, -6.309000015258789, -6.309100151062012, -6.297800064086914, -6.320899963378906, -6.310999870300293, -6.303699970245361, -6.306099891662598, -6.305799961090088, -6.309500217437744, -6.309899806976318, -6.341800212860107, -6.34119987487793, -6.34250020980835, -6.342700004577637, -6.342299938201904, -6.342800140380859, -6.343200206756592, -6.342800140380859, -6.3429999351501465, -6.342899799346924, -6.343299865722656, -6.343200206756592, -6.343100070953369, -6.342700004577637, -6.343299865722656, -6.343200206756592, -6.343200206756592, -6.343500137329102, -6.343400001525879, -6.342899799346924, -6.343500137329102, -6.343500137329102, -6.343299865722656, -6.343400001525879, -6.343699932098389, -6.343699932098389, -6.343500137329102, -6.343599796295166, -6.343699932098389, -6.343599796295166, -6.343599796295166, -6.343599796295166, -6.343599796295166, -6.22790002822876, -6.220399856567383, -6.236100196838379, -6.242199897766113, -6.253799915313721, -6.265699863433838, -6.258800029754639, -6.2677998542785645, -6.273600101470947, -6.275599956512451, -6.274799823760986, -6.282199859619141, -6.280600070953369, -6.287199974060059, -6.306099891662598, -6.283299922943115, -6.298999786376953, -6.298699855804443, -6.2993998527526855, -6.299200057983398, -6.302599906921387, -6.306700229644775, -6.308800220489502, -6.3053998947143555, -6.3119001388549805, -6.312300205230713, -6.310500144958496, -6.311399936676025, -6.310400009155273, -6.314899921417236, -6.314799785614014, -6.34089994430542, -6.341100215911865, -6.34089994430542, -6.341400146484375, -6.341300010681152, -6.341300010681152, -6.3414998054504395, -6.341599941253662, -6.341300010681152, -6.341599941253662, -6.341700077056885, -6.341700077056885, -6.341800212860107, -6.341599941253662, -6.3414998054504395, -6.341599941253662, -6.341400146484375, -6.341599941253662, -6.341800212860107, -6.341800212860107, -6.341899871826172, -6.342199802398682, -6.341700077056885, -6.341899871826172, -6.3420000076293945, -6.342100143432617, -6.3420000076293945, -6.341800212860107, -6.3420000076293945, -6.341899871826172, -6.341899871826172, -6.341899871826172, -6.341899871826172, -6.341899871826172, -6.341899871826172, -6.249899864196777, -6.251999855041504, -6.264100074768066, -6.267199993133545, -6.273600101470947, -6.283299922943115, -6.293499946594238, -6.2941999435424805, -6.297599792480469, -6.2972002029418945, -6.306300163269043, -6.303400039672852, -6.301700115203857, -6.3003997802734375, -6.306600093841553, -6.308899879455566, -6.3105998039245605, -6.314899921417236, -6.318600177764893, -6.321400165557861, -6.317500114440918, -6.322500228881836, -6.324999809265137, -6.3171000480651855, -6.3256001472473145, -6.326000213623047, -6.3221001625061035, -6.323999881744385, -6.322299957275391, -6.324100017547607, -6.3165998458862305, -6.319699764251709, -6.321599960327148, -6.341000080108643, -6.340700149536133, -6.341000080108643, -6.34119987487793, -6.341100215911865, -6.341000080108643, -6.341000080108643, -6.341300010681152, -6.341400146484375, -6.341100215911865, -6.34119987487793, -6.341400146484375, -6.341300010681152, -6.3414998054504395, -6.3414998054504395, -6.341599941253662, -6.341700077056885, -6.341599941253662, -6.341400146484375, -6.3414998054504395, -6.341400146484375, -6.341400146484375, -6.34119987487793, -6.3420000076293945, -6.341800212860107, -6.341700077056885, -6.341599941253662, -6.341899871826172, -6.3414998054504395, -6.341800212860107, -6.3414998054504395, -6.3414998054504395, -6.341599941253662, -6.341700077056885, -6.259099960327148, -6.267399787902832, -6.264599800109863, -6.2916998863220215, -6.290500164031982, -6.289599895477295, -6.291999816894531, -6.295899868011475, -6.296000003814697, -6.299900054931641, -6.2947998046875, -6.299699783325195, -6.304200172424316, -6.303500175476074, -6.302299976348877, -6.305500030517578, -6.309299945831299, -6.309500217437744, -6.309599876403809, -6.3119001388549805, -6.312300205230713, -6.319399833679199, -6.314899921417236, -6.315899848937988, -6.314499855041504, -6.322299957275391, -6.321100234985352, -6.323699951171875, -6.329400062561035, -6.32450008392334, -6.324699878692627, -6.340099811553955, -6.340700149536133, -6.341000080108643, -6.34089994430542, -6.340799808502197, -6.341300010681152, -6.341100215911865, -6.341100215911865, -6.341400146484375, -6.34119987487793, -6.3414998054504395, -6.341100215911865, -6.341100215911865, -6.3414998054504395, -6.341700077056885, -6.341100215911865, -6.34119987487793, -6.3414998054504395, -6.341100215911865, -6.341300010681152, -6.341400146484375, -6.34119987487793, -6.341300010681152, -6.341400146484375, -6.341400146484375, -6.341300010681152, -6.341300010681152, -6.341599941253662, -6.341400146484375, -6.341599941253662, -6.34119987487793, -6.341599941253662, -6.3414998054504395, -6.3414998054504395, -6.267199993133545, -6.263899803161621, -6.275700092315674, -6.279399871826172, -6.28410005569458, -6.272299766540527, -6.291900157928467, -6.2947001457214355, -6.2957000732421875, -6.303500175476074, -6.304500102996826, -6.305799961090088, -6.307499885559082, -6.30649995803833, -6.313499927520752, -6.309199810028076, -6.312900066375732, -6.310699939727783, -6.321599960327148, -6.32289981842041, -6.3256001472473145, -6.317800045013428, -6.3180999755859375, -6.326900005340576, -6.326900005340576, -6.327099800109863, -6.3206000328063965, -6.322500228881836, -6.324900150299072, -6.325300216674805, -6.325699806213379, -6.325699806213379, -6.326399803161621, -6.34060001373291, -6.34060001373291, -6.34089994430542, -6.340700149536133, -6.340700149536133, -6.340700149536133, -6.340799808502197, -6.341100215911865, -6.341000080108643, -6.341100215911865, -6.34089994430542, -6.34089994430542, -6.341300010681152, -6.34119987487793, -6.341000080108643, -6.34119987487793, -6.341100215911865, -6.341000080108643, -6.341100215911865, -6.34119987487793, -6.341300010681152, -6.34119987487793, -6.341100215911865, -6.341300010681152, -6.34119987487793, -6.34119987487793, -6.341599941253662, -6.34119987487793, -6.34089994430542, -6.341400146484375, -6.341000080108643, -6.341100215911865, -6.34119987487793, -6.262899875640869, -6.275199890136719, -6.278200149536133, -6.295199871063232, -6.2941999435424805, -6.295599937438965, -6.303400039672852, -6.300600051879883, -6.304100036621094, -6.305200099945068, -6.302199840545654, -6.310200214385986, -6.315000057220459, -6.313399791717529, -6.311500072479248, -6.3125, -6.309999942779541, -6.311100006103516, -6.314499855041504, -6.316100120544434, -6.3144001960754395, -6.320499897003174, -6.322500228881836, -6.322800159454346, -6.321300029754639, -6.3256001472473145, -6.319200038909912, -6.32420015335083, -6.327099800109863, -6.3231000900268555, -6.3221001625061035, -6.322999954223633, -6.3231000900268555, -6.339700222015381, -6.3403000831604, -6.340099811553955, -6.340099811553955, -6.340199947357178, -6.340099811553955, -6.340400218963623, -6.340000152587891, -6.340199947357178, -6.3403000831604, -6.3403000831604, -6.3403000831604, -6.3403000831604, -6.3404998779296875, -6.3403000831604, -6.340700149536133, -6.3404998779296875, -6.3403000831604, -6.340400218963623, -6.340199947357178, -6.340400218963623, -6.340400218963623, -6.34060001373291, -6.3403000831604, -6.3404998779296875, -6.340400218963623, -6.340799808502197, -6.34060001373291, -6.340700149536133, -6.340700149536133, -6.3404998779296875, -6.340400218963623, -6.340400218963623, -6.34060001373291, -6.3404998779296875, -6.3404998779296875, -6.3404998779296875, -6.3404998779296875, -6.279900074005127, -6.2957000732421875, -6.299499988555908, -6.3043999671936035, -6.308199882507324, -6.309299945831299, -6.306000232696533, -6.312699794769287, -6.315700054168701, -6.31220006942749, -6.315100193023682, -6.315299987792969, -6.3180999755859375, -6.3190999031066895, -6.3206000328063965, -6.321199893951416, -6.321599960327148, -6.321899890899658, -6.321899890899658, -6.3221001625061035, -6.32420015335083, -6.324399948120117, -6.324999809265137, -6.326700210571289, -6.328000068664551, -6.328700065612793, -6.32919979095459, -6.329400062561035, -6.329800128936768, -6.329899787902832, -6.339799880981445, -6.3394999504089355, -6.339900016784668, -6.340099811553955, -6.340000152587891, -6.340099811553955, -6.3403000831604, -6.340000152587891, -6.340199947357178, -6.3403000831604, -6.340199947357178, -6.340099811553955, -6.3404998779296875, -6.3403000831604, -6.3404998779296875, -6.340199947357178, -6.340700149536133, -6.340199947357178, -6.3404998779296875, -6.34060001373291, -6.3403000831604, -6.3404998779296875, -6.3403000831604, -6.340400218963623, -6.340400218963623, -6.340099811553955, -6.3404998779296875, -6.340799808502197, -6.34060001373291, -6.3404998779296875, -6.340400218963623, -6.340400218963623, -6.340400218963623, -6.3403000831604, -6.340400218963623, -6.3403000831604, -6.3403000831604, -6.340400218963623, -6.340400218963623, -6.340400218963623, -6.340400218963623, -6.299900054931641, -6.30079984664917, -6.304500102996826, -6.302299976348877, -6.304200172424316, -6.304699897766113, -6.312300205230713, -6.315899848937988, -6.3180999755859375, -6.316500186920166, -6.3155999183654785, -6.31820011138916, -6.3190999031066895, -6.3196001052856445, -6.320000171661377, -6.320099830627441, -6.320300102233887, -6.321599960327148, -6.3225998878479, -6.322700023651123, -6.323400020599365, -6.3242998123168945, -6.325699806213379, -6.326399803161621, -6.3267998695373535, -6.327000141143799, -6.327300071716309, -6.328100204467773, -6.329599857330322, -6.329899787902832, -6.339399814605713, -6.339799880981445, -6.339600086212158, -6.339900016784668, -6.339900016784668, -6.340000152587891, -6.340000152587891, -6.340099811553955, -6.340400218963623, -6.340199947357178, -6.340099811553955, -6.340000152587891, -6.340400218963623, -6.3403000831604, -6.340099811553955, -6.340099811553955, -6.3403000831604, -6.3403000831604, -6.340099811553955, -6.34060001373291, -6.340199947357178, -6.3403000831604, -6.340400218963623, -6.340099811553955, -6.3403000831604, -6.3404998779296875, -6.339900016784668, -6.340099811553955, -6.3403000831604, -6.3403000831604, -6.339900016784668, -6.340199947357178, -6.340199947357178, -6.340099811553955, -6.340199947357178, -6.340199947357178, -6.340199947357178, -6.340199947357178, -6.3403000831604, -6.340199947357178, -6.296800136566162, -6.299099922180176, -6.306099891662598, -6.310800075531006, -6.309000015258789, -6.31220006942749, -6.314799785614014, -6.309999942779541, -6.316999912261963, -6.311299800872803, -6.315700054168701, -6.319300174713135, -6.319699764251709, -6.320000171661377, -6.321300029754639, -6.321700096130371, -6.323500156402588, -6.323500156402588, -6.324900150299072, -6.327000141143799, -6.327300071716309, -6.327700138092041, -6.328700065612793, -6.32919979095459, -6.329599857330322, -6.329599857330322, -6.330100059509277, -6.330399990081787, -6.330399990081787, -6.330599784851074], \"Term\": [\"austin\", \"business\", \"analyst\", \"ago\", \"job\", \"day\", \"risk\", \"analytic\", \"client\", \"employee\", \"work\", \"service\", \"process\", \"product\", \"schwab\", \"experience\", \"team\", \"operation\", \"apply\", \"opportunity\", \"specialist\", \"ability\", \"support\", \"cray\", \"include\", \"company\", \"drive\", \"yrs\", \"retirement\", \"life\", \"austin\", \"business\", \"analyst\", \"ago\", \"job\", \"day\", \"analytic\", \"risk\", \"client\", \"work\", \"employee\", \"process\", \"product\", \"service\", \"experience\", \"schwab\", \"apply\", \"team\", \"operation\", \"ability\", \"opportunity\", \"specialist\", \"cray\", \"support\", \"yrs\", \"drive\", \"company\", \"include\", \"retirement\", \"analytical\", \"farm\", \"respond\", \"matching\", \"reward\", \"legally\", \"transform\", \"quantitatively\", \"compliance\", \"mother\", \"hand\", \"computing\", \"diversify\", \"field\", \"minnesota\", \"category\", \"keyword\", \"term\", \"wednesday\", \"assist\", \"purpose\", \"driving\", \"age\", \"salesforce\", \"expression\", \"rate\", \"lynn\", \"organizational\", \"assessment\", \"look\", \"tolerance\", \"parental\", \"impact\", \"ago\", \"austin\", \"day\", \"job\", \"business\", \"team\", \"analyst\", \"analytic\", \"ability\", \"schwab\", \"employee\", \"client\", \"opportunity\", \"experience\", \"work\", \"risk\", \"operation\", \"service\", \"product\", \"process\", \"cray\", \"support\", \"drive\", \"apply\", \"specialist\", \"equal\", \"engineering\", \"company\", \"yrs\", \"finance\", \"include\", \"specific\", \"adherence\", \"creative\", \"impact\", \"serve\", \"discussion\", \"reasonable\", \"comp\", \"lifecycle\", \"loyalty\", \"achieve\", \"quantitatively\", \"speak\", \"treasury\", \"response\", \"washington\", \"building\", \"coordinate\", \"analsyt\", \"exceed\", \"polycom\", \"amherst\", \"relevant\", \"cen\", \"tier\", \"integrity\", \"update\", \"addition\", \"sabbatical\", \"sex\", \"activation\", \"inquire\", \"austin\", \"employee\", \"analyst\", \"day\", \"client\", \"product\", \"business\", \"process\", \"risk\", \"analytic\", \"job\", \"operation\", \"service\", \"specialist\", \"work\", \"experience\", \"opportunity\", \"team\", \"company\", \"ago\", \"apply\", \"ability\", \"life\", \"include\", \"schwab\", \"time\", \"responsible\", \"finance\", \"relate\", \"yrs\", \"status\", \"support\", \"cray\", \"share\", \"response\", \"advocacy\", \"professionally\", \"absolute\", \"term\", \"organizational\", \"collaboratively\", \"transform\", \"analyze\", \"procedure\", \"offshore\", \"regular\", \"face\", \"margin\", \"gift\", \"spirit\", \"smart\", \"adaptable\", \"september\", \"genetic\", \"output\", \"design\", \"desire\", \"electrical\", \"creative\", \"software\", \"exceed\", \"parental\", \"mba\", \"order\", \"return\", \"austin\", \"ago\", \"business\", \"analyst\", \"day\", \"job\", \"analytic\", \"risk\", \"process\", \"schwab\", \"service\", \"operation\", \"product\", \"client\", \"employee\", \"work\", \"apply\", \"specialist\", \"champion\", \"pace\", \"relate\", \"experience\", \"team\", \"customer\", \"opportunity\", \"develop\", \"engineering\", \"drive\", \"cray\", \"year\", \"ability\", \"support\", \"yrs\", \"location\", \"completion\", \"analy\", \"intensity\", \"horton\", \"require\", \"growth\", \"record\", \"look\", \"fortunato\", \"advanced\", \"core\", \"speak\", \"computer\", \"learn\", \"stock\", \"healthy\", \"know\", \"handle\", \"offshore\", \"seek\", \"discovery\", \"minnesota\", \"building\", \"visualization\", \"governance\", \"online\", \"superior\", \"electrical\", \"build\", \"able\", \"austin\", \"ago\", \"work\", \"risk\", \"business\", \"analyst\", \"job\", \"employee\", \"ability\", \"service\", \"schwab\", \"day\", \"analytic\", \"product\", \"operation\", \"process\", \"account\", \"company\", \"support\", \"apply\", \"customer\", \"client\", \"specialist\", \"team\", \"experience\", \"yrs\", \"retirement\", \"opportunity\", \"include\", \"strategy\", \"drive\", \"cray\", \"organizational\", \"guide\", \"field\", \"communicate\", \"discuss\", \"professional\", \"efficient\", \"highly\", \"monitor\", \"accept\", \"assistant\", \"description\", \"commitment\", \"future\", \"liability\", \"compensation\", \"genetic\", \"aus\", \"vital\", \"achievement\", \"try\", \"farm\", \"maintain\", \"discipline\", \"enter\", \"perform\", \"comptroller\", \"serve\", \"large\", \"discriminate\", \"storm\", \"interest\", \"build\", \"analyst\", \"austin\", \"business\", \"day\", \"client\", \"risk\", \"job\", \"analytic\", \"ago\", \"schwab\", \"employee\", \"service\", \"opportunity\", \"product\", \"support\", \"team\", \"apply\", \"include\", \"specialist\", \"account\", \"work\", \"develop\", \"payroll\", \"cray\", \"drive\", \"strategy\", \"experience\", \"process\", \"operation\", \"yrs\", \"life\", \"ability\", \"pmo\", \"workforce\", \"managing\", \"sabbatical\", \"discriminate\", \"analyze\", \"recommend\", \"visualisation\", \"core\", \"asset\", \"coordination\", \"trend\", \"title\", \"adherence\", \"spirit\", \"specifically\", \"organizational\", \"gracy\", \"convention\", \"professional\", \"understandable\", \"transaction\", \"exist\", \"resolution\", \"interest\", \"monitor\", \"wednesday\", \"overview\", \"description\", \"acceptance\", \"accessible\", \"erisa\", \"analyst\", \"austin\", \"business\", \"process\", \"ago\", \"risk\", \"day\", \"product\", \"experience\", \"work\", \"client\", \"job\", \"operation\", \"service\", \"schwab\", \"analytic\", \"company\", \"ability\", \"include\", \"opportunity\", \"employee\", \"team\", \"specialist\", \"cray\", \"yrs\", \"drive\", \"analytical\", \"hour\", \"support\", \"strategy\", \"apply\", \"graduate\", \"coordinate\", \"bloomington\", \"formulate\", \"national\", \"gender\", \"certification\", \"spirit\", \"crucial\", \"schedule\", \"discriminate\", \"spend\", \"specification\", \"share\", \"focus\", \"effort\", \"demand\", \"officer\", \"assessment\", \"highly\", \"indicator\", \"optimistic\", \"onsite\", \"live\", \"fitness\", \"key\", \"lane\", \"main\", \"cpa\", \"decade\", \"mba\", \"ago\", \"business\", \"austin\", \"analyst\", \"day\", \"product\", \"work\", \"process\", \"apply\", \"analytic\", \"specialist\", \"job\", \"support\", \"employee\", \"service\", \"cray\", \"client\", \"experience\", \"opportunity\", \"risk\", \"team\", \"schwab\", \"operation\", \"digital\", \"relate\", \"include\", \"drive\", \"skill\", \"plan\", \"finance\", \"ability\", \"coordinate\", \"contract\", \"indicator\", \"regard\", \"demand\", \"ancestry\", \"accuracy\", \"cpa\", \"title\", \"able\", \"trend\", \"highly\", \"vital\", \"successful\", \"overview\", \"legally\", \"strategically\", \"appreciate\", \"crucial\", \"mba\", \"aus\", \"respond\", \"electronic\", \"amherst\", \"bring\", \"expression\", \"origin\", \"know\", \"recent\", \"excellent\", \"quantitative\", \"relationship\", \"analyst\", \"austin\", \"ago\", \"analytic\", \"client\", \"job\", \"risk\", \"service\", \"business\", \"process\", \"day\", \"apply\", \"employee\", \"product\", \"work\", \"schwab\", \"drive\", \"operation\", \"cray\", \"experience\", \"ability\", \"company\", \"specialist\", \"financial\", \"support\", \"opportunity\", \"success\", \"decision\", \"analytical\", \"right\", \"retirement\", \"strategy\", \"team\", \"introduction\", \"liability\", \"core\", \"communicate\", \"proficiency\", \"rd\", \"offer\", \"associate\", \"color\", \"line\", \"handle\", \"washington\", \"onsite\", \"search\", \"expectation\", \"orientation\", \"real\", \"career\", \"graduate\", \"officer\", \"lifestyle\", \"office\", \"margin\", \"efficiently\", \"inclusion\", \"modelling\", \"adaptable\", \"excellent\", \"speak\", \"face\", \"policy\", \"tuition\", \"happy\", \"austin\", \"business\", \"risk\", \"client\", \"analyst\", \"job\", \"analytic\", \"work\", \"schwab\", \"ago\", \"employee\", \"operation\", \"day\", \"apply\", \"experience\", \"support\", \"ability\", \"service\", \"team\", \"cray\", \"yrs\", \"strategy\", \"opportunity\", \"drive\", \"process\", \"include\", \"status\", \"management\", \"datum\", \"product\", \"account\", \"company\", \"specialist\", \"earner\", \"identity\", \"inquiry\", \"ambiguity\", \"accept\", \"regard\", \"location\", \"report\", \"enter\", \"fitness\", \"capacity\", \"organization\", \"solid\", \"advanced\", \"depth\", \"establish\", \"complex\", \"flexibility\", \"structure\", \"american\", \"keyword\", \"accuracy\", \"demand\", \"background\", \"choice\", \"possible\", \"relationship\", \"personalize\", \"chuck\", \"exciting\", \"interest\", \"austin\", \"analyst\", \"job\", \"ago\", \"business\", \"analytic\", \"risk\", \"apply\", \"client\", \"work\", \"team\", \"experience\", \"day\", \"service\", \"cray\", \"employee\", \"product\", \"process\", \"schwab\", \"support\", \"specialist\", \"include\", \"finance\", \"hour\", \"customer\", \"ability\", \"status\", \"success\", \"equal\", \"operation\", \"opportunity\", \"company\", \"online\", \"handle\", \"volunteer\", \"investing\", \"guide\", \"affordable\", \"appreciate\", \"healthy\", \"gracy\", \"discovery\", \"vital\", \"proud\", \"focus\", \"follow\", \"maintain\", \"highly\", \"impact\", \"cpa\", \"gender\", \"education\", \"contingent\", \"modelling\", \"operational\", \"manufacture\", \"expression\", \"contribute\", \"managing\", \"acuman\", \"addition\", \"complex\", \"excellent\", \"military\", \"business\", \"austin\", \"job\", \"analyst\", \"analytic\", \"experience\", \"day\", \"work\", \"client\", \"product\", \"service\", \"ago\", \"risk\", \"process\", \"schwab\", \"employee\", \"ability\", \"plan\", \"operation\", \"equal\", \"cray\", \"customer\", \"strategy\", \"analytical\", \"team\", \"activity\", \"finance\", \"opportunity\", \"support\", \"specialist\", \"include\", \"apply\", \"wednesday\", \"solve\", \"contribute\", \"lynn\", \"volume\", \"efficient\", \"regularly\", \"concept\", \"superior\", \"contract\", \"guide\", \"spirit\", \"online\", \"pride\", \"analsyt\", \"purpose\", \"respect\", \"ancestry\", \"spend\", \"order\", \"bring\", \"governance\", \"liberate\", \"check\", \"diversify\", \"speak\", \"growth\", \"acceptance\", \"affordable\", \"core\", \"visualization\", \"current\", \"asset\", \"business\", \"austin\", \"analyst\", \"job\", \"analytic\", \"work\", \"ago\", \"risk\", \"employee\", \"service\", \"client\", \"experience\", \"process\", \"product\", \"relate\", \"day\", \"opportunity\", \"operation\", \"team\", \"schwab\", \"specialist\", \"support\", \"drive\", \"apply\", \"status\", \"finance\", \"include\", \"yrs\", \"cray\", \"strategy\", \"ability\", \"discipline\", \"associate\", \"excel\", \"regularly\", \"mother\", \"continuous\", \"graduate\", \"workforce\", \"delivery\", \"professionally\", \"trend\", \"line\", \"discriminate\", \"loyalty\", \"partnership\", \"ve\", \"identity\", \"transaction\", \"cen\", \"accept\", \"look\", \"respond\", \"wall\", \"storm\", \"efficient\", \"matching\", \"relevant\", \"exist\", \"optimistic\", \"parental\", \"structure\", \"background\", \"large\", \"achievement\", \"main\", \"analyst\", \"austin\", \"job\", \"business\", \"ago\", \"analytic\", \"service\", \"client\", \"process\", \"employee\", \"specialist\", \"product\", \"risk\", \"day\", \"experience\", \"schwab\", \"apply\", \"cray\", \"company\", \"strategy\", \"opportunity\", \"analytical\", \"champion\", \"operation\", \"success\", \"applicant\", \"yrs\", \"develop\", \"drive\", \"customer\", \"work\", \"team\", \"support\", \"handle\", \"color\", \"officer\", \"hand\", \"minnesota\", \"build\", \"offer\", \"workforce\", \"appreciate\", \"curious\", \"depth\", \"fitness\", \"structure\", \"lynn\", \"design\", \"future\", \"spirit\", \"discipline\", \"growth\", \"keyword\", \"food\", \"english\", \"fifth\", \"wednesday\", \"discussion\", \"recent\", \"purchase\", \"coordinate\", \"investigation\", \"optimistic\", \"stock\", \"timelin\", \"sexual\", \"september\", \"analyst\", \"business\", \"austin\", \"service\", \"employee\", \"ago\", \"day\", \"product\", \"client\", \"schwab\", \"job\", \"analytic\", \"experience\", \"work\", \"risk\", \"process\", \"operation\", \"apply\", \"team\", \"specialist\", \"ability\", \"create\", \"support\", \"cray\", \"opportunity\", \"success\", \"plan\", \"account\", \"pay\", \"retirement\", \"life\", \"polycom\", \"gender\", \"loyalty\", \"parental\", \"transaction\", \"guide\", \"storm\", \"understand\", \"transform\", \"discussion\", \"vital\", \"submission\", \"contract\", \"future\", \"respond\", \"managing\", \"master\", \"discriminate\", \"quantitative\", \"fortunato\", \"age\", \"exciting\", \"know\", \"convention\", \"expression\", \"excel\", \"communicate\", \"description\", \"independently\", \"destiny\", \"communication\", \"party\", \"execute\", \"interpret\", \"day\", \"analyst\", \"business\", \"job\", \"risk\", \"austin\", \"analytic\", \"client\", \"ago\", \"employee\", \"service\", \"product\", \"experience\", \"work\", \"support\", \"process\", \"ability\", \"schwab\", \"develop\", \"analytical\", \"position\", \"team\", \"operation\", \"good\", \"digital\", \"employer\", \"apply\", \"specialist\", \"yrs\", \"status\", \"include\", \"cray\", \"opportunity\", \"certification\", \"officer\", \"design\", \"partnership\", \"dynamic\", \"current\", \"independently\", \"inquiry\", \"american\", \"timely\", \"internal\", \"recommend\", \"legally\", \"appreciate\", \"spend\", \"collaboratively\", \"focus\", \"tomorrow\", \"capability\", \"look\", \"hand\", \"category\", \"firm\", \"organization\", \"report\", \"bloomington\", \"handle\", \"relocation\", \"issue\", \"comp\", \"june\", \"multiple\", \"license\", \"austin\", \"job\", \"business\", \"work\", \"analyst\", \"ago\", \"apply\", \"analytic\", \"employee\", \"service\", \"day\", \"specialist\", \"support\", \"team\", \"product\", \"experience\", \"client\", \"risk\", \"schwab\", \"operation\", \"process\", \"company\", \"strategy\", \"life\", \"include\", \"protect\", \"ability\", \"analytical\", \"charle\", \"yrs\", \"opportunity\", \"cray\", \"drive\", \"storm\", \"handle\", \"analsyt\", \"online\", \"establish\", \"serve\", \"vital\", \"inquire\", \"mitigation\", \"comp\", \"graduate\", \"manufacturing\", \"recordkeep\", \"timely\", \"co\", \"respond\", \"speak\", \"assist\", \"mother\", \"initiative\", \"american\", \"gender\", \"personalize\", \"key\", \"expectation\", \"complex\", \"guide\", \"demand\", \"future\", \"coordinate\", \"military\", \"leave\", \"flexibility\", \"certification\", \"long\", \"performance\", \"human\", \"communication\", \"austin\", \"analyst\", \"business\", \"day\", \"client\", \"work\", \"job\", \"experience\", \"apply\", \"risk\", \"service\", \"analytic\", \"process\", \"ago\", \"specialist\", \"product\", \"team\", \"schwab\", \"operation\", \"ability\", \"cray\", \"support\", \"opportunity\", \"yrs\", \"employee\", \"life\", \"company\", \"drive\", \"status\", \"develop\", \"washington\", \"member\", \"structure\", \"fitness\", \"office\", \"tolerance\", \"desire\", \"proud\", \"co\", \"design\", \"american\", \"internal\", \"assessment\", \"volunteer\", \"future\", \"onsite\", \"respond\", \"exceptional\", \"diversify\", \"offshore\", \"apple\", \"trend\", \"officer\", \"storm\", \"intelligence\", \"september\", \"establish\", \"regularly\", \"appreciate\", \"destiny\", \"expectation\", \"title\", \"key\", \"specifically\", \"polycom\", \"community\", \"return\", \"sunday\", \"leave\", \"exist\", \"comptroller\", \"business\", \"analyst\", \"risk\", \"ago\", \"job\", \"austin\", \"client\", \"experience\", \"opportunity\", \"schwab\", \"day\", \"work\", \"employee\", \"apply\", \"service\", \"analytic\", \"product\", \"team\", \"ability\", \"process\", \"support\", \"specialist\", \"operation\", \"include\", \"develop\", \"yrs\", \"drive\", \"cray\", \"account\", \"life\", \"contribute\", \"handle\", \"respect\", \"cen\", \"apple\", \"accept\", \"trading\", \"amherst\", \"vital\", \"sex\", \"expectation\", \"continuous\", \"legally\", \"cpa\", \"monitor\", \"military\", \"superior\", \"workforce\", \"large\", \"wednesday\", \"depth\", \"specification\", \"discuss\", \"reimbursement\", \"solid\", \"offshore\", \"knowledge\", \"transaction\", \"fitness\", \"gender\", \"activation\", \"excel\", \"healthy\", \"operational\", \"inquire\", \"major\", \"oxford\", \"relationship\", \"enable\", \"working\", \"business\", \"austin\", \"day\", \"process\", \"job\", \"analytic\", \"work\", \"analyst\", \"experience\", \"ago\", \"risk\", \"schwab\", \"client\", \"service\", \"employee\", \"specialist\", \"opportunity\", \"product\", \"ability\", \"support\", \"cray\", \"apply\", \"team\", \"operation\", \"yrs\", \"company\", \"status\", \"retirement\", \"plan\", \"analytical\"]}, \"plot.opts\": {\"xlab\": \"PC1\", \"ylab\": \"PC2\"}, \"topic.order\": [14, 20, 7, 16, 10, 19, 8, 9, 15, 3, 18, 17, 5, 11, 1, 4, 2, 12, 13, 6], \"lambda.step\": 0.01, \"token.table\": {\"Term\": [\"ability\", \"able\", \"absolute\", \"accept\", \"acceptance\", \"accessible\", \"account\", \"accuracy\", \"achieve\", \"achievement\", \"activation\", \"activity\", \"acuman\", \"adaptable\", \"addition\", \"adherence\", \"advanced\", \"advocacy\", \"affordable\", \"age\", \"ago\", \"ambiguity\", \"american\", \"amherst\", \"analsyt\", \"analy\", \"analyst\", \"analytic\", \"analytical\", \"analyze\", \"ancestry\", \"apple\", \"applicant\", \"apply\", \"appreciate\", \"assessment\", \"asset\", \"assist\", \"assistant\", \"associate\", \"aus\", \"austin\", \"background\", \"bloomington\", \"bring\", \"build\", \"building\", \"business\", \"capability\", \"capacity\", \"career\", \"category\", \"cen\", \"certification\", \"champion\", \"charle\", \"check\", \"choice\", \"chuck\", \"client\", \"co\", \"collaboratively\", \"color\", \"commitment\", \"communicate\", \"communication\", \"community\", \"comp\", \"company\", \"compensation\", \"completion\", \"complex\", \"compliance\", \"comptroller\", \"computer\", \"computing\", \"concept\", \"contingent\", \"continuous\", \"contract\", \"contribute\", \"convention\", \"coordinate\", \"coordination\", \"core\", \"cpa\", \"cray\", \"create\", \"creative\", \"crucial\", \"curious\", \"current\", \"customer\", \"datum\", \"day\", \"decade\", \"decision\", \"delivery\", \"demand\", \"depth\", \"description\", \"design\", \"desire\", \"destiny\", \"develop\", \"digital\", \"discipline\", \"discovery\", \"discriminate\", \"discuss\", \"discussion\", \"diversify\", \"drive\", \"driving\", \"dynamic\", \"earner\", \"education\", \"efficient\", \"efficiently\", \"effort\", \"electrical\", \"electronic\", \"employee\", \"employer\", \"enable\", \"engineering\", \"english\", \"enter\", \"equal\", \"erisa\", \"establish\", \"exceed\", \"excel\", \"excellent\", \"exceptional\", \"exciting\", \"execute\", \"exist\", \"expectation\", \"experience\", \"expression\", \"face\", \"farm\", \"field\", \"fifth\", \"finance\", \"financial\", \"firm\", \"fitness\", \"flexibility\", \"focus\", \"follow\", \"food\", \"formulate\", \"fortunato\", \"future\", \"gender\", \"genetic\", \"gift\", \"good\", \"governance\", \"gracy\", \"graduate\", \"growth\", \"guide\", \"hand\", \"handle\", \"happy\", \"healthy\", \"highly\", \"horton\", \"hour\", \"human\", \"identity\", \"impact\", \"include\", \"inclusion\", \"independently\", \"indicator\", \"initiative\", \"inquire\", \"inquiry\", \"integrity\", \"intelligence\", \"intensity\", \"interest\", \"internal\", \"interpret\", \"introduction\", \"investigation\", \"investing\", \"issue\", \"job\", \"june\", \"key\", \"keyword\", \"know\", \"knowledge\", \"lane\", \"large\", \"learn\", \"leave\", \"legally\", \"liability\", \"liberate\", \"license\", \"life\", \"lifecycle\", \"lifestyle\", \"line\", \"live\", \"location\", \"long\", \"look\", \"loyalty\", \"lynn\", \"main\", \"maintain\", \"major\", \"management\", \"managing\", \"manufacture\", \"manufacturing\", \"margin\", \"master\", \"matching\", \"mba\", \"member\", \"military\", \"minnesota\", \"mitigation\", \"modelling\", \"monitor\", \"mother\", \"multiple\", \"national\", \"offer\", \"office\", \"officer\", \"offshore\", \"online\", \"onsite\", \"operation\", \"operational\", \"opportunity\", \"optimistic\", \"order\", \"organization\", \"organizational\", \"orientation\", \"origin\", \"output\", \"overview\", \"oxford\", \"pace\", \"parental\", \"partnership\", \"party\", \"pay\", \"payroll\", \"perform\", \"performance\", \"personalize\", \"plan\", \"pmo\", \"policy\", \"polycom\", \"position\", \"possible\", \"pride\", \"procedure\", \"process\", \"product\", \"professional\", \"professionally\", \"proficiency\", \"protect\", \"proud\", \"purchase\", \"purpose\", \"quantitative\", \"quantitatively\", \"rate\", \"rd\", \"real\", \"reasonable\", \"recent\", \"recommend\", \"record\", \"recordkeep\", \"regard\", \"regular\", \"regularly\", \"reimbursement\", \"relate\", \"relationship\", \"relevant\", \"relocation\", \"report\", \"require\", \"resolution\", \"respect\", \"respond\", \"response\", \"responsible\", \"retirement\", \"return\", \"reward\", \"right\", \"risk\", \"sabbatical\", \"salesforce\", \"schedule\", \"schwab\", \"search\", \"seek\", \"september\", \"serve\", \"service\", \"sex\", \"sexual\", \"share\", \"skill\", \"smart\", \"software\", \"solid\", \"solve\", \"speak\", \"specialist\", \"specific\", \"specifically\", \"specification\", \"spend\", \"spirit\", \"status\", \"stock\", \"storm\", \"strategically\", \"strategy\", \"structure\", \"submission\", \"success\", \"successful\", \"sunday\", \"superior\", \"support\", \"team\", \"term\", \"tier\", \"time\", \"timelin\", \"timely\", \"title\", \"tolerance\", \"tomorrow\", \"trading\", \"transaction\", \"transform\", \"treasury\", \"trend\", \"try\", \"tuition\", \"understand\", \"understandable\", \"update\", \"ve\", \"visualisation\", \"visualization\", \"vital\", \"volume\", \"volunteer\", \"wall\", \"washington\", \"wednesday\", \"work\", \"workforce\", \"working\", \"year\", \"yrs\"], \"Topic\": [1, 1, 1, 1, 1, 1, 1, 1, 1, 1, 1, 1, 1, 1, 1, 1, 1, 1, 1, 1, 1, 1, 1, 1, 1, 1, 1, 1, 1, 1, 1, 1, 1, 1, 1, 1, 1, 1, 1, 1, 1, 1, 1, 1, 1, 1, 1, 1, 1, 1, 1, 1, 1, 1, 1, 1, 1, 1, 1, 1, 1, 1, 1, 1, 1, 1, 1, 1, 1, 1, 1, 1, 1, 1, 1, 1, 1, 1, 1, 1, 1, 1, 1, 1, 1, 1, 1, 1, 1, 1, 1, 1, 1, 1, 1, 1, 1, 1, 1, 1, 1, 1, 1, 1, 1, 1, 1, 1, 1, 1, 1, 1, 1, 1, 1, 1, 1, 1, 1, 1, 1, 1, 1, 1, 1, 1, 1, 1, 1, 1, 1, 1, 1, 1, 1, 1, 1, 1, 1, 1, 1, 1, 1, 1, 1, 1, 1, 1, 1, 1, 1, 1, 1, 1, 1, 1, 1, 1, 1, 1, 1, 1, 1, 1, 1, 1, 1, 1, 1, 1, 1, 1, 1, 1, 1, 1, 1, 1, 1, 1, 1, 1, 1, 1, 1, 1, 1, 1, 1, 1, 1, 1, 1, 1, 1, 1, 1, 1, 1, 1, 1, 1, 1, 1, 1, 1, 1, 1, 1, 1, 1, 1, 1, 1, 1, 1, 1, 1, 1, 1, 1, 1, 1, 1, 1, 1, 1, 1, 1, 1, 1, 1, 1, 1, 1, 1, 1, 1, 1, 1, 1, 1, 1, 1, 1, 1, 1, 1, 1, 1, 1, 1, 1, 1, 1, 1, 1, 1, 1, 1, 1, 1, 1, 1, 1, 1, 1, 1, 1, 1, 1, 1, 1, 1, 1, 1, 1, 1, 1, 1, 1, 1, 1, 1, 1, 1, 1, 1, 1, 1, 1, 1, 1, 1, 1, 1, 1, 1, 1, 1, 1, 1, 1, 1, 1, 1, 1, 1, 1, 1, 1, 1, 1, 1, 1, 1, 1, 1, 1, 1, 1, 1, 1, 1, 1, 1, 1, 1, 1, 1, 1, 1, 1, 1, 1, 1, 1, 1, 1, 1, 1, 1, 1, 1, 1, 1, 1, 1, 1, 1, 1, 1, 1, 1, 1, 1, 1, 1, 1, 1, 1, 1, 1, 1, 1, 1, 1, 1, 1, 1, 1, 1, 1, 1, 1, 1, 1, 1, 1], \"Freq\": [1.018611192703247, 0.9751342535018921, 0.9750601053237915, 0.9752215147018433, 0.9752537608146667, 0.9751660823822021, 1.0145446062088013, 0.9753386974334717, 0.9754127264022827, 0.9750155806541443, 0.9748309254646301, 1.0079556703567505, 0.9752714037895203, 0.9753794074058533, 0.9753652215003967, 0.9753495454788208, 0.9753038883209229, 0.9752833247184753, 0.9753690361976624, 0.9752824306488037, 1.021898627281189, 0.9752377271652222, 0.9753081798553467, 0.9753128290176392, 0.9753839373588562, 0.9754016995429993, 1.0223863124847412, 1.021349549293518, 1.0144844055175781, 0.9751257300376892, 0.9754294157028198, 0.9752134084701538, 1.01205313205719, 1.0192087888717651, 0.9754138588905334, 0.9754845499992371, 0.9749782085418701, 0.975200891494751, 0.9752525091171265, 0.9754010438919067, 0.9752336740493774, 0.9835770130157471, 0.975059449672699, 0.975241482257843, 0.9753038883209229, 0.9751260876655579, 0.9751030802726746, 1.0225324630737305, 0.9752614498138428, 0.9751877784729004, 0.9751724600791931, 0.9752638339996338, 0.9752939939498901, 0.9752556681632996, 1.0122877359390259, 1.0119556188583374, 0.9751376509666443, 0.9750471115112305, 0.9751847982406616, 1.020965576171875, 0.9752925038337708, 0.9754438996315002, 0.9751689434051514, 0.9750704169273376, 0.9751488566398621, 0.9747965931892395, 0.9751163125038147, 0.9753725528717041, 1.016589641571045, 0.9751011729240417, 0.9752113223075867, 0.9751461744308472, 0.975214958190918, 0.9750340580940247, 0.975350558757782, 0.975328803062439, 0.9752807021141052, 0.9751162528991699, 0.9751604199409485, 0.9751788973808289, 0.97531658411026, 0.975264310836792, 0.9754416346549988, 0.9751036763191223, 0.9752476215362549, 0.975395917892456, 1.0176217555999756, 1.011940360069275, 0.9753173589706421, 0.975318968296051, 0.9751724600791931, 0.9751290082931519, 1.0147649049758911, 1.0121463537216187, 1.0216681957244873, 0.9749369621276855, 1.0120290517807007, 0.9750363230705261, 0.9754083156585693, 0.9752016067504883, 0.9753533005714417, 0.9754054546356201, 0.9754309058189392, 0.9753391146659851, 1.0146831274032593, 1.012558102607727, 0.9753293991088867, 0.9752324223518372, 0.9754028916358948, 0.975406289100647, 0.9753459095954895, 0.9754147529602051, 1.0165513753890991, 0.9752101898193359, 0.9751341342926025, 0.9750722646713257, 0.9750653505325317, 0.9753401279449463, 0.9752360582351685, 0.9753343462944031, 0.9752134680747986, 0.9752988815307617, 1.0207242965698242, 1.0119106769561768, 0.9751636385917664, 1.012444257736206, 0.9750362038612366, 0.9753389954566956, 1.0145432949066162, 0.9750651121139526, 0.9753899574279785, 0.9752272963523865, 0.9751487374305725, 0.9751479625701904, 0.975131094455719, 0.9750807285308838, 0.9750292897224426, 0.9751625061035156, 0.975272536277771, 1.0198208093643188, 0.9752816557884216, 0.9753032922744751, 0.9751336574554443, 0.9751429557800293, 0.9748654365539551, 1.0148751735687256, 1.0145782232284546, 0.9751596450805664, 0.9753075838088989, 0.9750064015388489, 0.9753603339195251, 0.9750427603721619, 0.9750239849090576, 0.9751190543174744, 0.9752262830734253, 0.9754768013954163, 0.9752785563468933, 0.9752737879753113, 0.9751160144805908, 1.0120456218719482, 0.9753305315971375, 0.975279688835144, 0.9753429889678955, 0.9751758575439453, 0.9755479693412781, 0.9754208922386169, 0.9756274819374084, 0.9750142097473145, 0.9751332402229309, 0.9754425883293152, 0.9751545190811157, 1.0120090246200562, 0.9749408960342407, 0.974976122379303, 0.9750998020172119, 1.0166598558425903, 0.9748373627662659, 0.9751763939857483, 0.9749250411987305, 0.9750871062278748, 0.9751198291778564, 0.9754172563552856, 0.9752436280250549, 0.9753302931785583, 0.9754539132118225, 0.9752301573753357, 0.9752117991447449, 0.974963903427124, 0.9752969145774841, 0.9750626087188721, 0.9749676585197449, 0.9748567342758179, 1.0218769311904907, 0.9749184846878052, 0.975141167640686, 0.9751289486885071, 0.975231945514679, 0.9748995304107666, 0.9749460220336914, 0.9751653075218201, 0.9752233624458313, 0.975165069103241, 0.9755261540412903, 0.9751794934272766, 0.9750763177871704, 0.9749411344528198, 1.0145049095153809, 0.9749912023544312, 0.9748724699020386, 0.9753619432449341, 0.9753752946853638, 0.9753044247627258, 0.9751300811767578, 0.9753731489181519, 0.975281834602356, 0.9754254221916199, 0.9751304984092712, 0.9754049181938171, 0.975145697593689, 1.008043885231018, 0.9750825762748718, 0.9750784635543823, 0.9753229022026062, 0.9753071665763855, 0.975140392780304, 0.9754294157028198, 0.9750363230705261, 0.9749612808227539, 0.9752076268196106, 0.9752875566482544, 0.9752886891365051, 0.9752207398414612, 0.9751870632171631, 0.9752711057662964, 0.9749048948287964, 0.9754301905632019, 0.9751860499382019, 0.9752400517463684, 0.9751991033554077, 0.9755218625068665, 0.9753051996231079, 0.9751793742179871, 1.0194119215011597, 0.9750084280967712, 1.0187382698059082, 0.9753286838531494, 0.9747653007507324, 0.9753730297088623, 0.9753069281578064, 0.9749930500984192, 0.9752196073532104, 0.9752088189125061, 0.9751921892166138, 0.975150465965271, 0.999862790107727, 0.9752252697944641, 0.9751611351966858, 0.9752066731452942, 1.0080784559249878, 1.0077145099639893, 0.975033700466156, 0.9751700758934021, 0.9754410982131958, 1.0146840810775757, 0.9749955534934998, 0.9750264883041382, 0.9751967191696167, 1.0122441053390503, 0.9751592874526978, 0.9749676585197449, 0.9752159714698792, 1.0203697681427002, 1.0203560590744019, 0.9751679301261902, 0.9753419756889343, 0.9751676917076111, 1.012274980545044, 0.9751185178756714, 0.9751448035240173, 0.9752740263938904, 0.9750176072120667, 0.9753583073616028, 0.9751796126365662, 0.9750393629074097, 0.9751884341239929, 0.975329577922821, 0.9752717614173889, 0.975142776966095, 0.975293755531311, 0.9753241539001465, 0.9751498103141785, 0.9752416014671326, 0.9756270051002502, 0.9750610589981079, 1.0147128105163574, 0.9748404026031494, 0.975311815738678, 0.975193202495575, 0.9752784371376038, 0.9751278758049011, 0.9753665924072266, 0.9753283262252808, 0.9756316542625427, 0.975333571434021, 1.0123624801635742, 1.014065146446228, 0.9750221371650696, 0.9751205444335938, 0.9995631575584412, 1.0213509798049927, 0.9752622246742249, 0.9753308296203613, 0.9751212000846863, 1.0200090408325195, 0.9751903414726257, 0.9751691818237305, 0.9750300049781799, 0.9752809405326843, 1.0205155611038208, 0.9754040837287903, 0.9750553369522095, 0.9754428863525391, 1.012223482131958, 0.9752439856529236, 0.975226879119873, 0.9752834439277649, 0.9747655391693115, 0.9754330515861511, 1.0187190771102905, 0.975090742111206, 0.9750173687934875, 0.9752992987632751, 0.9752804040908813, 0.9754819273948669, 1.0145138502120972, 0.9750636219978333, 0.9752868413925171, 0.975284218788147, 1.014836311340332, 0.9752174615859985, 0.9751684665679932, 1.0122640132904053, 0.9752115607261658, 0.9751076102256775, 0.9753563404083252, 1.01787531375885, 1.019403100013733, 0.975312352180481, 0.9751890897750854, 1.0080431699752808, 0.9750123023986816, 0.9754576683044434, 0.9752240180969238, 0.9752756357192993, 0.9752105474472046, 0.9752249717712402, 0.9750797152519226, 0.9755187034606934, 0.9753007888793945, 0.975405216217041, 0.974871814250946, 0.974891185760498, 0.9752673506736755, 0.9752447605133057, 0.9752025008201599, 0.9751946926116943, 0.9752747416496277, 0.9751962423324585, 0.9755448698997498, 0.9749245643615723, 0.9753109812736511, 0.9750816822052002, 0.9753435254096985, 0.9756343960762024, 1.0207264423370361, 0.9753735065460205, 0.9748566150665283, 1.0121771097183228, 1.0162718296051025]}};\n",
       "\n",
       "function LDAvis_load_lib(url, callback){\n",
       "  var s = document.createElement('script');\n",
       "  s.src = url;\n",
       "  s.async = true;\n",
       "  s.onreadystatechange = s.onload = callback;\n",
       "  s.onerror = function(){console.warn(\"failed to load library \" + url);};\n",
       "  document.getElementsByTagName(\"head\")[0].appendChild(s);\n",
       "}\n",
       "\n",
       "if(typeof(LDAvis) !== \"undefined\"){\n",
       "   // already loaded: just create the visualization\n",
       "   !function(LDAvis){\n",
       "       new LDAvis(\"#\" + \"ldavis_el1383620673395859603401407628\", ldavis_el1383620673395859603401407628_data);\n",
       "   }(LDAvis);\n",
       "}else if(typeof define === \"function\" && define.amd){\n",
       "   // require.js is available: use it to load d3/LDAvis\n",
       "   require.config({paths: {d3: \"https://cdnjs.cloudflare.com/ajax/libs/d3/3.5.5/d3.min\"}});\n",
       "   require([\"d3\"], function(d3){\n",
       "      window.d3 = d3;\n",
       "      LDAvis_load_lib(\"https://cdn.rawgit.com/bmabey/pyLDAvis/files/ldavis.v1.0.0.js\", function(){\n",
       "        new LDAvis(\"#\" + \"ldavis_el1383620673395859603401407628\", ldavis_el1383620673395859603401407628_data);\n",
       "      });\n",
       "    });\n",
       "}else{\n",
       "    // require.js not available: dynamically load d3 & LDAvis\n",
       "    LDAvis_load_lib(\"https://cdnjs.cloudflare.com/ajax/libs/d3/3.5.5/d3.min.js\", function(){\n",
       "         LDAvis_load_lib(\"https://cdn.rawgit.com/bmabey/pyLDAvis/files/ldavis.v1.0.0.js\", function(){\n",
       "                 new LDAvis(\"#\" + \"ldavis_el1383620673395859603401407628\", ldavis_el1383620673395859603401407628_data);\n",
       "            })\n",
       "         });\n",
       "}\n",
       "</script>"
      ],
      "text/plain": [
       "PreparedData(topic_coordinates=            Freq  cluster  topics         x    y\n",
       "topic                                           \n",
       "13     99.961266        1       1 -0.073619  0.0\n",
       "19      0.002045        1       2 -0.000671 -0.0\n",
       "6       0.002044        1       3  0.000660  0.0\n",
       "15      0.002043        1       4  0.001751 -0.0\n",
       "9       0.002043        1       5  0.002053  0.0\n",
       "18      0.002042        1       6  0.002700 -0.0\n",
       "7       0.002041        1       7  0.003186 -0.0\n",
       "8       0.002041        1       8  0.003457 -0.0\n",
       "14      0.002040        1       9  0.003545  0.0\n",
       "2       0.002040        1      10  0.003827  0.0\n",
       "17      0.002040        1      11  0.003766 -0.0\n",
       "16      0.002040        1      12  0.003931 -0.0\n",
       "4       0.002039        1      13  0.004524  0.0\n",
       "10      0.002036        1      14  0.005381 -0.0\n",
       "0       0.002036        1      15  0.005500  0.0\n",
       "3       0.002035        1      16  0.005581 -0.0\n",
       "1       0.002035        1      17  0.005719 -0.0\n",
       "11      0.002032        1      18  0.006167  0.0\n",
       "12      0.002032        1      19  0.006235 -0.0\n",
       "5       0.002031        1      20  0.006307  0.0, topic_info=     Category       Freq         Term      Total  loglift  logprob\n",
       "term                                                              \n",
       "282   Default  25.000000       austin  25.000000  30.0000  30.0000\n",
       "273   Default  19.000000     business  19.000000  29.0000  29.0000\n",
       "425   Default  19.000000      analyst  19.000000  28.0000  28.0000\n",
       "529   Default  17.000000          ago  17.000000  27.0000  27.0000\n",
       "558   Default  16.000000          job  16.000000  26.0000  26.0000\n",
       "499   Default  15.000000          day  15.000000  25.0000  25.0000\n",
       "188   Default  13.000000         risk  13.000000  24.0000  24.0000\n",
       "337   Default  13.000000     analytic  13.000000  23.0000  23.0000\n",
       "115   Default  12.000000       client  12.000000  22.0000  22.0000\n",
       "546   Default  11.000000     employee  11.000000  21.0000  21.0000\n",
       "130   Default  11.000000         work  11.000000  20.0000  20.0000\n",
       "416   Default  10.000000      service  10.000000  19.0000  19.0000\n",
       "179   Default  10.000000      process  10.000000  18.0000  18.0000\n",
       "559   Default  10.000000      product  10.000000  17.0000  17.0000\n",
       "63    Default   9.000000       schwab   9.000000  16.0000  16.0000\n",
       "255   Default   9.000000   experience   9.000000  15.0000  15.0000\n",
       "164   Default   8.000000         team   8.000000  14.0000  14.0000\n",
       "538   Default   8.000000    operation   8.000000  13.0000  13.0000\n",
       "310   Default   8.000000        apply   8.000000  12.0000  12.0000\n",
       "44    Default   7.000000  opportunity   7.000000  11.0000  11.0000\n",
       "271   Default   7.000000   specialist   7.000000  10.0000  10.0000\n",
       "487   Default   7.000000      ability   7.000000   9.0000   9.0000\n",
       "403   Default   6.000000      support   6.000000   8.0000   8.0000\n",
       "58    Default   6.000000         cray   6.000000   7.0000   7.0000\n",
       "146   Default   5.000000      include   5.000000   6.0000   6.0000\n",
       "167   Default   5.000000      company   5.000000   5.0000   5.0000\n",
       "201   Default   5.000000        drive   5.000000   4.0000   4.0000\n",
       "335   Default   5.000000          yrs   5.000000   3.0000   3.0000\n",
       "27    Default   4.000000   retirement   4.000000   2.0000   2.0000\n",
       "398   Default   4.000000         life   4.000000   1.0000   1.0000\n",
       "...       ...        ...          ...        ...      ...      ...\n",
       "273   Topic20   0.000043     business  19.559280  -2.2184  -6.2968\n",
       "282   Topic20   0.000043       austin  25.417431  -2.4827  -6.2991\n",
       "499   Topic20   0.000043          day  15.660662  -2.0054  -6.3061\n",
       "179   Topic20   0.000043      process  10.780406  -1.6367  -6.3108\n",
       "558   Topic20   0.000043          job  16.636055  -2.0687  -6.3090\n",
       "337   Topic20   0.000043     analytic  13.707354  -1.8782  -6.3122\n",
       "130   Topic20   0.000042         work  11.756333  -1.7273  -6.3148\n",
       "425   Topic20   0.000043      analyst  19.562077  -2.2317  -6.3100\n",
       "255   Topic20   0.000042   experience   9.805644  -1.5481  -6.3170\n",
       "529   Topic20   0.000043          ago  17.614271  -2.1281  -6.3113\n",
       "188   Topic20   0.000042         risk  13.707335  -1.8817  -6.3157\n",
       "63    Topic20   0.000042       schwab   9.803835  -1.5502  -6.3193\n",
       "115   Topic20   0.000042       client  12.733045  -1.8120  -6.3197\n",
       "416   Topic20   0.000042      service  10.778866  -1.6458  -6.3200\n",
       "546   Topic20   0.000042     employee  11.756357  -1.7338  -6.3213\n",
       "271   Topic20   0.000042   specialist   7.852999  -1.3308  -6.3217\n",
       "44    Topic20   0.000042  opportunity   7.852851  -1.3325  -6.3235\n",
       "559   Topic20   0.000042      product  10.780551  -1.6494  -6.3235\n",
       "487   Topic20   0.000042      ability   7.853831  -1.3340  -6.3249\n",
       "403   Topic20   0.000042      support   6.877070  -1.2033  -6.3270\n",
       "58    Topic20   0.000042         cray   6.878784  -1.2039  -6.3273\n",
       "310   Topic20   0.000042        apply   8.830379  -1.4540  -6.3277\n",
       "164   Topic20   0.000042         team   8.828696  -1.4549  -6.3287\n",
       "538   Topic20   0.000042    operation   8.828620  -1.4553  -6.3292\n",
       "335   Topic20   0.000042          yrs   5.903932  -1.0534  -6.3296\n",
       "167   Topic20   0.000042      company   5.902086  -1.0531  -6.3296\n",
       "122   Topic20   0.000042       status   4.928469  -0.8733  -6.3301\n",
       "27    Topic20   0.000042   retirement   4.930650  -0.8740  -6.3304\n",
       "185   Topic20   0.000042         plan   4.927642  -0.8734  -6.3304\n",
       "434   Topic20   0.000042   analytical   4.928612  -0.8738  -6.3306\n",
       "\n",
       "[1303 rows x 6 columns], token_table=      Topic      Freq            Term\n",
       "term                                 \n",
       "487       1  1.018611         ability\n",
       "88        1  0.975134            able\n",
       "540       1  0.975060        absolute\n",
       "481       1  0.975222          accept\n",
       "65        1  0.975254      acceptance\n",
       "433       1  0.975166      accessible\n",
       "121       1  1.014545         account\n",
       "362       1  0.975339        accuracy\n",
       "267       1  0.975413         achieve\n",
       "409       1  0.975016     achievement\n",
       "355       1  0.974831      activation\n",
       "400       1  1.007956        activity\n",
       "444       1  0.975271          acuman\n",
       "4         1  0.975379       adaptable\n",
       "350       1  0.975365        addition\n",
       "19        1  0.975350       adherence\n",
       "75        1  0.975304        advanced\n",
       "57        1  0.975283        advocacy\n",
       "1         1  0.975369      affordable\n",
       "378       1  0.975282             age\n",
       "529       1  1.021899             ago\n",
       "429       1  0.975238       ambiguity\n",
       "564       1  0.975308        american\n",
       "326       1  0.975313         amherst\n",
       "181       1  0.975384         analsyt\n",
       "557       1  0.975402           analy\n",
       "425       1  1.022386         analyst\n",
       "337       1  1.021350        analytic\n",
       "434       1  1.014484      analytical\n",
       "140       1  0.975126         analyze\n",
       "...     ...       ...             ...\n",
       "8         1  1.008043            time\n",
       "528       1  0.975012         timelin\n",
       "211       1  0.975458          timely\n",
       "59        1  0.975224           title\n",
       "235       1  0.975276       tolerance\n",
       "413       1  0.975211        tomorrow\n",
       "51        1  0.975225         trading\n",
       "9         1  0.975080     transaction\n",
       "251       1  0.975519       transform\n",
       "134       1  0.975301        treasury\n",
       "471       1  0.975405           trend\n",
       "321       1  0.974872             try\n",
       "488       1  0.974891         tuition\n",
       "330       1  0.975267      understand\n",
       "556       1  0.975245  understandable\n",
       "435       1  0.975203          update\n",
       "16        1  0.975195              ve\n",
       "420       1  0.975275   visualisation\n",
       "85        1  0.975196   visualization\n",
       "253       1  0.975545           vital\n",
       "345       1  0.974925          volume\n",
       "224       1  0.975311       volunteer\n",
       "412       1  0.975082            wall\n",
       "524       1  0.975344      washington\n",
       "46        1  0.975634       wednesday\n",
       "130       1  1.020726            work\n",
       "290       1  0.975374       workforce\n",
       "238       1  0.974857         working\n",
       "161       1  1.012177            year\n",
       "335       1  1.016272             yrs\n",
       "\n",
       "[379 rows x 3 columns], R=30, lambda_step=0.01, plot_opts={'xlab': 'PC1', 'ylab': 'PC2'}, topic_order=[14, 20, 7, 16, 10, 19, 8, 9, 15, 3, 18, 17, 5, 11, 1, 4, 2, 12, 13, 6])"
      ]
     },
     "execution_count": 341,
     "metadata": {},
     "output_type": "execute_result"
    }
   ],
   "source": [
    "pyLDAvis.gensim.prepare(lda_model,corpus, id2word)"
   ]
  },
  {
   "cell_type": "code",
   "execution_count": null,
   "metadata": {},
   "outputs": [],
   "source": []
  }
 ],
 "metadata": {
  "anaconda-cloud": {},
  "kernelspec": {
   "display_name": "Python 3",
   "language": "python",
   "name": "python3"
  },
  "language_info": {
   "codemirror_mode": {
    "name": "ipython",
    "version": 3
   },
   "file_extension": ".py",
   "mimetype": "text/x-python",
   "name": "python",
   "nbconvert_exporter": "python",
   "pygments_lexer": "ipython3",
   "version": "3.6.4"
  }
 },
 "nbformat": 4,
 "nbformat_minor": 2
}

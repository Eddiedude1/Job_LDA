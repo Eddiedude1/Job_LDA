{
 "cells": [
  {
   "cell_type": "markdown",
   "metadata": {},
   "source": [
    "## Job Web-Scraping\n",
    "Note: This is intented for practice to extract real time job descriptions. Please adhere to the Robots.txt"
   ]
  },
  {
   "cell_type": "code",
   "execution_count": 180,
   "metadata": {},
   "outputs": [
    {
     "name": "stdout",
     "output_type": "stream",
     "text": [
      "[nltk_data] Downloading package wordnet to\n",
      "[nltk_data]     /Users/guillermogonzalez/nltk_data...\n",
      "[nltk_data]   Package wordnet is already up-to-date!\n"
     ]
    }
   ],
   "source": [
    "#If you are using Selenium for the first time, please download the webdriver and note the filepath\n",
    "from selenium import webdriver\n",
    "from selenium.webdriver.support.ui import Select, WebDriverWait\n",
    "from selenium.webdriver.common.keys import Keys\n",
    "from selenium.webdriver.common.by import By\n",
    "from selenium.webdriver.support import expected_conditions as EC\n",
    "\n",
    "import pandas as pd\n",
    "import numpy as np\n",
    "pd.set_option('display.max_colwidth', 100)  # increase the string length before truncating\n",
    "\n",
    "# Monitor the status of the webscraping to get an idea of how long it will take \n",
    "import time\n",
    "from tqdm import tqdm\n",
    "tqdm.monitor_interval = 0\n",
    "\n",
    "# Used as a import for dateing the CSV\n",
    "import datetime\n",
    "\n",
    "# NLP libaries\n",
    "import spacy\n",
    "from spacy.lang.en import stop_words\n",
    "\n",
    "# Punctuation attribute will be used for removing punctuation\n",
    "import string\n",
    "\n",
    "# Import nltk for removing stopwords and lemmatizing\n",
    "import nltk\n",
    "nltk.download('wordnet')\n",
    "from nltk.corpus import wordnet as wn\n",
    "\n",
    "import gensim\n",
    "import pyLDAvis.gensim\n",
    "from gensim.models import LdaModel\n",
    "import gensim.corpora as corpora  # *****\n",
    "from gensim.utils import simple_preprocess\n",
    "from gensim.models import coherencemodel\n",
    "pyLDAvis.enable_notebook()\n",
    "\n",
    "import warnings\n",
    "warnings.filterwarnings(\"ignore\")\n",
    "\n",
    "import matplotlib.pyplot as plt"
   ]
  },
  {
   "cell_type": "code",
   "execution_count": 2,
   "metadata": {},
   "outputs": [],
   "source": [
    "path_to_chromedriver = \"/Users/guillermogonzalez/projects/webscraping/chromedriver\""
   ]
  },
  {
   "cell_type": "code",
   "execution_count": 3,
   "metadata": {},
   "outputs": [
    {
     "name": "stdout",
     "output_type": "stream",
     "text": [
      "Webscraping_job_posts.ipynb chromedriver_mac64.zip\r\n",
      "\u001b[31mchromedriver\u001b[m\u001b[m                \u001b[34mjob_topic_modeling\u001b[m\u001b[m\r\n"
     ]
    }
   ],
   "source": [
    "!ls /Users/guillermogonzalez/projects/webscraping/"
   ]
  },
  {
   "cell_type": "code",
   "execution_count": 342,
   "metadata": {},
   "outputs": [],
   "source": [
    "#setup browser window\n",
    "browser = webdriver.Chrome(executable_path= path_to_chromedriver)"
   ]
  },
  {
   "cell_type": "code",
   "execution_count": 340,
   "metadata": {},
   "outputs": [],
   "source": [
    "#adds the data in URL format by removing any white space and adding the data. \n",
    "def Keyword_to_url(kw):\n",
    "    '''\n",
    "    Stips any leading and trailing white space from a string and replaces spaces with'%20'.\n",
    "    '''\n",
    "    kw = kw.strip().replace(\" \",\"%20\")\n",
    "    return kw"
   ]
  },
  {
   "cell_type": "markdown",
   "metadata": {},
   "source": [
    "### URL Example\n",
    "```https://www.careeronestop.org/Toolkit/Jobs/find-jobs.aspx?keyword=data%20analyst&ajax=0&location=austin,%20texas&radius=5&source=IN&pagesize=100&sortcolumns=accquisitiondate&sortdirections=DSC```\n",
    "- occupation: keyword=data%20analyst  \n",
    "- location: location=austin,%20texas  \n",
    "- radius: radius=5  \n",
    "- page_size: pagesize=100  \n",
    "- page_sort: sortcolumns=accquisitiondate&sortdirections=DSC  \n",
    "- source: source=IN  \n"
   ]
  },
  {
   "cell_type": "markdown",
   "metadata": {},
   "source": [
    "<img width=\"983\" alt=\"screen shot 2018-06-24 at 10 16 01 pm\" src=\"https://user-images.githubusercontent.com/7989686/41828679-4cf946ce-77fc-11e8-8b80-6479d6865873.png\">"
   ]
  },
  {
   "cell_type": "code",
   "execution_count": 217,
   "metadata": {
    "scrolled": true
   },
   "outputs": [
    {
     "name": "stderr",
     "output_type": "stream",
     "text": [
      "100%|██████████| 100/100 [00:11<00:00,  9.09it/s]\n",
      "100%|██████████| 100/100 [02:19<00:00,  1.40s/it]\n"
     ]
    }
   ],
   "source": [
    "# this will be used as the URL input for multiple job searches. \n",
    "occupation = 'data scientist' # str(input(\"Job you are looking for: \"))\n",
    "location = 'austin, texas' # str(input(\"Where do you want to look: \"))\n",
    "radius = str(5)\n",
    "page_sort = 'DSC' # ASC (ascending) or DSC (descending) dates \n",
    "page_size = \"100\" # how many pages would you like to get. \n",
    "source = 'IN' # stands for indeed\n",
    "\n",
    "#give it the site URL\n",
    "url = 'https://www.careeronestop.org/Toolkit/Jobs/find-jobs.aspx?'+\\\n",
    "    'keyword='+Keyword_to_url(occupation)+\\\n",
    "    '&ajax=0&location='+Keyword_to_url(location)+\\\n",
    "    '&radius='+radius+\\\n",
    "    '&source='+ source +\\\n",
    "    '&pagesize='+page_size+\\\n",
    "    '&sortcolumns=accquisitiondate&sortdirections='+page_sort\n",
    "browser.get(url)\n",
    "browser.implicitly_wait(30) # tells WebDriver to poll the DOM (Document Object Model) 30s \n",
    "                            # for life of WebDriver object\n",
    "\n",
    "# Default it 100 job listings for this page and this verifies that thera are 100 job titles\n",
    "listing_num = len(browser.find_elements_by_xpath('//td[@data-title=\"Job Title\"]'))\n",
    "\n",
    "job_titles = browser.find_elements_by_xpath('//td[@data-title=\"Job Title\"]') # list of job titles\n",
    "company_titles = browser.find_elements_by_xpath('//td[@data-title=\"Company\"]') # list of company titles \n",
    "locations = browser.find_elements_by_xpath('//td[@data-title=\"Location\"]') # list of locations\n",
    "dates = browser.find_elements_by_xpath('//td[@data-title=\"Date Posted\"]') # list of dates posted\n",
    "\n",
    "data = {}\n",
    "data['company'] = []\n",
    "data['date_posted'] = []\n",
    "data['location'] = []\n",
    "data['position'] = []\n",
    "data['pos_link'] = []\n",
    "data['pos_description'] = []\n",
    "\n",
    "for job in tqdm(range(listing_num)):\n",
    "    data['position'].append(job_titles[job].text) # position title\n",
    "    data['company'].append(company_titles[job].text) # comapany title\n",
    "    data['location'].append(locations[job].text) # job location\n",
    "    data['date_posted'].append(dates[job].text) # date job posted\n",
    "    # link to job description\n",
    "    data['pos_link'].append(browser.find_element_by_link_text(job_titles[job].text).get_attribute('href')) \n",
    "    \n",
    "for link in tqdm(data['pos_link']):\n",
    "    browser.get(link) # open link to job description in the same window\n",
    "    # append job description\n",
    "    data['pos_description'].append(browser.find_element_by_xpath('//td[@class=\"snip\"]').text.replace('\\n', ' '))\n",
    "    browser.back() # click the back button to return to original page\n",
    "\n",
    "# transform the dictionary into a DataFrame    \n",
    "df_ds = pd.DataFrame(data)\n",
    "       "
   ]
  },
  {
   "cell_type": "code",
   "execution_count": 220,
   "metadata": {},
   "outputs": [
    {
     "data": {
      "text/plain": [
       "(100, 6)"
      ]
     },
     "execution_count": 220,
     "metadata": {},
     "output_type": "execute_result"
    }
   ],
   "source": [
    "df_ds.shape"
   ]
  },
  {
   "cell_type": "markdown",
   "metadata": {},
   "source": [
    "# occupation = 'data scientist'  \n",
    "> #### Scrubbing dataframe to identify titles more closely matched to data science and data analyst roles"
   ]
  },
  {
   "cell_type": "code",
   "execution_count": 242,
   "metadata": {},
   "outputs": [],
   "source": [
    "# identifying all positions specific to data science or analysis\n",
    "positions_ds = df_ds['position']\n",
    "ds_positions = set()\n",
    "for position in positions_ds:\n",
    "    if position.lower().find('data scientist') > -1 \\\n",
    "        or position.lower().find('analyst') > -1\\\n",
    "        or position.lower().find('machine learning') > -1\\\n",
    "        or position.lower().find('ai') > -1\\\n",
    "        or position.lower().find('data science') > -1\\\n",
    "        or position.lower().find('analytics') > -1:\n",
    "        ds_positions.add(position)    "
   ]
  },
  {
   "cell_type": "code",
   "execution_count": 243,
   "metadata": {},
   "outputs": [
    {
     "data": {
      "text/plain": [
       "(45, 6)"
      ]
     },
     "execution_count": 243,
     "metadata": {},
     "output_type": "execute_result"
    }
   ],
   "source": [
    "# data science/analyst positions in this list\n",
    "df_ds[ df_ds['position'].isin(ds_positions) ].shape"
   ]
  },
  {
   "cell_type": "code",
   "execution_count": 244,
   "metadata": {},
   "outputs": [
    {
     "data": {
      "text/plain": [
       "Index(['Data Scientist', 'Senior Data Scientist',\n",
       "       'Part Time Data Science Instructor',\n",
       "       'Data Scientist/Modeling & Simulation Engineer',\n",
       "       'Data Scientist – IoT Cloud Services',\n",
       "       'Manager, Decision Analytics Services',\n",
       "       'Air Quality Staff Engineer/Scientist', 'Data Scientist II',\n",
       "       'Digital Analytics Consultant, Decision Analytics (Risk Analsyt/Modeler)',\n",
       "       'Data Scientist, IdentityAI', 'Sr Data Scientist',\n",
       "       'DATA SCIENTIST BL LAB',\n",
       "       'Sr. Data Scientist/Modeling & Simulation Engineer Expert',\n",
       "       'Associate Data Scientist',\n",
       "       'Senior Business Analyst, Decision Analytics Services',\n",
       "       'Digital Analytics Consultant, Decision Analytics (Senior Modeler)',\n",
       "       'Senior Director, Data Science',\n",
       "       'Data Analyst Disaster Recovery Implementation',\n",
       "       'Senior Scientist, Data Science Architect',\n",
       "       'Quantitative Marketing Analyst', 'Business Analyst',\n",
       "       'Data Scientist/Cognitive Software Engineer',\n",
       "       'Digital Analytics Consultant, Decision Analytics',\n",
       "       'Hadoop Developer - Data Scientist Remote', 'IA Policy Analyst',\n",
       "       'AI Strategy Consultant - Financial Services', 'Data Scientist - TX',\n",
       "       'Network Security Analyst', 'Senior Data Warehouse Analyst',\n",
       "       'Business Intelligence Analyst', 'Senior Business Intellegence Analyst',\n",
       "       'Data Science Manager', 'PRINCIPAL DATA SCIENTIST BL LAB',\n",
       "       'AI Strategy Consultant - Digital Commerce',\n",
       "       'Data Scientist (Big Data) IV (8 years)'],\n",
       "      dtype='object')"
      ]
     },
     "execution_count": 244,
     "metadata": {},
     "output_type": "execute_result"
    }
   ],
   "source": [
    "df_ds[ df_ds['position'].isin(ds_positions) ]['position'].value_counts().index"
   ]
  },
  {
   "cell_type": "code",
   "execution_count": 245,
   "metadata": {},
   "outputs": [],
   "source": [
    "# identifying non-data science or analysis positions\n",
    "non_ds_positions = set()\n",
    "for position in positions_ds:\n",
    "    if position.lower().find('data scientist') == -1 \\\n",
    "        and position.lower().find('analyst') == -1\\\n",
    "        and position.lower().find('machine learning') == -1\\\n",
    "        and position.lower().find('ai') == -1\\\n",
    "        and position.lower().find('data science') == -1\\\n",
    "        and position.lower().find('analytics') == -1:\n",
    "        non_ds_positions.add(position)    "
   ]
  },
  {
   "cell_type": "code",
   "execution_count": 246,
   "metadata": {},
   "outputs": [
    {
     "data": {
      "text/plain": [
       "(55, 6)"
      ]
     },
     "execution_count": 246,
     "metadata": {},
     "output_type": "execute_result"
    }
   ],
   "source": [
    "# non-data science/analyst positions in this list\n",
    "df_ds[ df_ds['position'].isin(non_ds_positions) ].shape"
   ]
  },
  {
   "cell_type": "code",
   "execution_count": 247,
   "metadata": {},
   "outputs": [
    {
     "data": {
      "text/plain": [
       "Index(['Test Technician 1', 'Product Owner',\n",
       "       'Billing Call Center Representative', 'Power BI Developer',\n",
       "       'Medical Technologist', 'Software Developer', 'Research Scientist III',\n",
       "       'Engineering Scientist - Sensor Systems Engineering Scientist',\n",
       "       'Clinical Data Review Assistant', 'QA Lead',\n",
       "       'Research Scientist - Sedimentary Petrographer',\n",
       "       'Epigenetics Specialist', 'Director of Product Development',\n",
       "       'Sr Big Data Engineer', 'Technical Account Manager',\n",
       "       'Nokia IoT IMPACT platform summer intern',\n",
       "       'Research Engineering/ Scientist Associate IV - 3D Geomodeler',\n",
       "       'Data Engineer', 'Research Associate II',\n",
       "       'Senior Scientist, Development',\n",
       "       'Research Engineering/ Scientist Assistant',\n",
       "       'Research Engineering/ Scientist Associate III',\n",
       "       'Senior Environmental Project Manager',\n",
       "       'Senior Environmental Scientist', 'Account Manager',\n",
       "       'Security Specialist', 'SOFTWARE ENGINEER III (BLACK LOCUS)',\n",
       "       'Research Engineering/ Scientist Associate III - TexNet Operations Associate',\n",
       "       'UI Designer', 'Sales Engineer', 'Engineering Scientist Associate',\n",
       "       'Engineering Scientist Associate - Geospatial Software Developer',\n",
       "       'Forensic Scientist - Chemistry', 'Senior Data Engineer',\n",
       "       'Software Engineer', 'Document Control Coordinator',\n",
       "       'Environmental Services - Supplies & Logistics Intern',\n",
       "       'Research Associate', 'Data Software Engineer',\n",
       "       'Scientist, Research & Development', 'Senior Scientist, Research',\n",
       "       'Lead Flow Cytometry Tech',\n",
       "       'Engineering Scientist - R and D Scientific Software Developer',\n",
       "       'Research Engineering/ Scientist Associate IV - Research Engineering Scientist Associate IV, Neurosurgery',\n",
       "       'Cognitive Software Engineer',\n",
       "       'Assistant Cultural Resources Specialist/Historian',\n",
       "       'Software Engineer (QA)',\n",
       "       'Research Engineering/ Scientist Associate II - Research Assistant, Psychiatry',\n",
       "       'Molecular Research and Development Scientist',\n",
       "       'Research Engineering/ Scientist Associate II - Research Associate, Data Integration Team, Department of Population Health',\n",
       "       'Account Executive - Texas', 'Developer Advocate, Python',\n",
       "       'Engineering Scientist - Storage Architect',\n",
       "       'Senior Materials Engineer Austin, TX'],\n",
       "      dtype='object')"
      ]
     },
     "execution_count": 247,
     "metadata": {},
     "output_type": "execute_result"
    }
   ],
   "source": [
    "df_ds[ df_ds['position'].isin(non_ds_positions) ]['position'].value_counts().index"
   ]
  },
  {
   "cell_type": "code",
   "execution_count": 269,
   "metadata": {},
   "outputs": [
    {
     "name": "stdout",
     "output_type": "stream",
     "text": [
      "55.0% of data are non-data science titles\n"
     ]
    }
   ],
   "source": [
    "print('{:.3}% of data are non-data science titles'.format(\n",
    "                                (df_ds[ df_ds['position'].isin(non_ds_positions) ].shape[0]/len(df_ds))*100))"
   ]
  },
  {
   "cell_type": "markdown",
   "metadata": {},
   "source": [
    "# occupation = 'data analyst'\n",
    "> #### Scrubbing dataframe to identify titles more closely matched to data science and data analyst roles"
   ]
  },
  {
   "cell_type": "code",
   "execution_count": 343,
   "metadata": {},
   "outputs": [
    {
     "name": "stderr",
     "output_type": "stream",
     "text": [
      "100%|██████████| 100/100 [00:09<00:00, 10.01it/s]\n",
      "100%|██████████| 100/100 [02:08<00:00,  1.29s/it]\n"
     ]
    }
   ],
   "source": [
    "# this will be used as the URL input for multiple job searches. \n",
    "occupation = 'data analyst' # str(input(\"Job you are looking for: \"))\n",
    "location = 'austin, texas' # str(input(\"Where do you want to look: \"))\n",
    "radius = str(5)\n",
    "page_sort = 'DSC' # ASC (ascending) or DSC (descending) dates \n",
    "page_size = \"100\" # how many pages would you like to get. \n",
    "source = 'IN' # stands for indeed\n",
    "\n",
    "#give it the site URL\n",
    "url = 'https://www.careeronestop.org/Toolkit/Jobs/find-jobs.aspx?'+\\\n",
    "    'keyword='+Keyword_to_url(occupation)+\\\n",
    "    '&ajax=0&location='+Keyword_to_url(location)+\\\n",
    "    '&radius='+radius+\\\n",
    "    '&source='+ source +\\\n",
    "    '&pagesize='+page_size+\\\n",
    "    '&sortcolumns=accquisitiondate&sortdirections='+page_sort\n",
    "browser.get(url)\n",
    "browser.implicitly_wait(30)\n",
    "\n",
    "# Default is 100 job listings for this page and this verifies that thera are 100 job titles\n",
    "listing_num = len(browser.find_elements_by_xpath('//td[@data-title=\"Job Title\"]'))\n",
    "\n",
    "job_titles = browser.find_elements_by_xpath('//td[@data-title=\"Job Title\"]')\n",
    "company_titles = browser.find_elements_by_xpath('//td[@data-title=\"Company\"]')\n",
    "locations = browser.find_elements_by_xpath('//td[@data-title=\"Location\"]')\n",
    "dates = browser.find_elements_by_xpath('//td[@data-title=\"Date Posted\"]')\n",
    "\n",
    "data = {}\n",
    "data['company'] = []\n",
    "data['date_posted'] = []\n",
    "data['location'] = []\n",
    "data['position'] = []\n",
    "data['pos_link'] = []\n",
    "data['pos_description'] = []\n",
    "\n",
    "for job in tqdm(range(listing_num)):\n",
    "    data['position'].append(job_titles[job].text) # position title\n",
    "    data['company'].append(company_titles[job].text) # comapany title\n",
    "    data['location'].append(locations[job].text) # job location\n",
    "    data['date_posted'].append(dates[job].text) # date job posted\n",
    "    # link to job description\n",
    "    data['pos_link'].append(browser.find_element_by_link_text(job_titles[job].text).get_attribute('href')) \n",
    "    \n",
    "for link in tqdm(data['pos_link']):\n",
    "    browser.get(link) # open link to job description in the same window\n",
    "    # append job description\n",
    "    data['pos_description'].append(browser.find_element_by_xpath('//td[@class=\"snip\"]').text.replace('\\n', ' '))\n",
    "    browser.back() # click the back button to return to original page\n",
    "\n",
    "# transform the dictionary into a DataFrame    \n",
    "df = pd.DataFrame(data)"
   ]
  },
  {
   "cell_type": "code",
   "execution_count": 344,
   "metadata": {},
   "outputs": [],
   "source": [
    "# identifying all positions specific to data science or analysis\n",
    "positions_da = df['position']\n",
    "da_positions = set()\n",
    "for position in positions_da:\n",
    "    if position.lower().find('data scientist') > -1 \\\n",
    "        or position.lower().find('analyst') > -1\\\n",
    "        or position.lower().find('machine learning') > -1\\\n",
    "        or position.lower().find('ai') > -1\\\n",
    "        or position.lower().find('data science') > -1\\\n",
    "        or position.lower().find('analytics') > -1:\n",
    "        da_positions.add(position)    "
   ]
  },
  {
   "cell_type": "code",
   "execution_count": 150,
   "metadata": {},
   "outputs": [],
   "source": [
    "# Need to come back to, but was making a function to drop rows that were not relavent job posts\n",
    "def ds_or_da(dataframe):\n",
    "    index_to_drop = []\n",
    "    for position in dataframe['position']:\n",
    "        if position.lower().find('data scientist') == -1 \\\n",
    "        and position.lower().find('analyst') == -1\\\n",
    "        and position.lower().find('machine learning') == -1\\\n",
    "        and position.lower().find('ai') == -1\\\n",
    "        and position.lower().find('data science') == -1\\\n",
    "        and position.lower().find('analytics') == -1:\n",
    "            index_to_drop.append(position.index())  \n",
    "        \n",
    "    return index_to_drop\n",
    "            "
   ]
  },
  {
   "cell_type": "code",
   "execution_count": 345,
   "metadata": {},
   "outputs": [
    {
     "data": {
      "text/plain": [
       "(98, 6)"
      ]
     },
     "execution_count": 345,
     "metadata": {},
     "output_type": "execute_result"
    }
   ],
   "source": [
    "# data science/analyst positions in this list\n",
    "df[ df['position'].isin(da_positions) ].shape"
   ]
  },
  {
   "cell_type": "code",
   "execution_count": 351,
   "metadata": {},
   "outputs": [
    {
     "data": {
      "text/plain": [
       "0                                     Inventory Data Analyst\n",
       "1                                      Regional Data Analyst\n",
       "2                             Business Analyst - GIS Analyst\n",
       "3                                      Food Curation Analyst\n",
       "4                                    Data Scientist 4, Poker\n",
       "5                                     Business Analyst 3-Ops\n",
       "6    Data Analyst (Consumer Lending) - Analytic Consultant 4\n",
       "7                                      Data Analyst with MDM\n",
       "8                      Business Intelligence Analyst - Sales\n",
       "9                      Business Intelligence Analyst - Sales\n",
       "Name: position, dtype: object"
      ]
     },
     "execution_count": 351,
     "metadata": {},
     "output_type": "execute_result"
    }
   ],
   "source": [
    "# Sample of ru\n",
    "df[ df['position'].isin(da_positions) ]['position'][:10]"
   ]
  },
  {
   "cell_type": "code",
   "execution_count": 347,
   "metadata": {},
   "outputs": [],
   "source": [
    "# identifying non-data science or analysis positions\n",
    "non_da_positions = set()\n",
    "for position in positions_da:\n",
    "    if position.lower().find('data scientist') == -1 \\\n",
    "        and position.lower().find('analyst') == -1\\\n",
    "        and position.lower().find('machine learning') == -1\\\n",
    "        and position.lower().find('ai') == -1\\\n",
    "        and position.lower().find('data science') == -1\\\n",
    "        and position.lower().find('analytics') == -1:\n",
    "        non_da_positions.add(position)    "
   ]
  },
  {
   "cell_type": "code",
   "execution_count": 348,
   "metadata": {},
   "outputs": [
    {
     "data": {
      "text/plain": [
       "(2, 6)"
      ]
     },
     "execution_count": 348,
     "metadata": {},
     "output_type": "execute_result"
    }
   ],
   "source": [
    "# there are 11 non-data science/analyst positions in this list\n",
    "df[ df['position'].isin(non_da_positions) ].shape"
   ]
  },
  {
   "cell_type": "code",
   "execution_count": 349,
   "metadata": {},
   "outputs": [
    {
     "data": {
      "text/plain": [
       "27      Data Engineer\n",
       "87    Data Strategist\n",
       "Name: position, dtype: object"
      ]
     },
     "execution_count": 349,
     "metadata": {},
     "output_type": "execute_result"
    }
   ],
   "source": [
    "df[ df['position'].isin(non_da_positions) ]['position']"
   ]
  },
  {
   "cell_type": "code",
   "execution_count": 352,
   "metadata": {},
   "outputs": [
    {
     "name": "stdout",
     "output_type": "stream",
     "text": [
      "2.0% of data are non-data science titles\n"
     ]
    }
   ],
   "source": [
    "print('{:.3}% of data are non-data science titles'.format((df[ df['position'].isin(non_da_positions) ]\\\n",
    "                                                            .shape[0]/len(df))*100))"
   ]
  },
  {
   "cell_type": "code",
   "execution_count": 401,
   "metadata": {},
   "outputs": [
    {
     "data": {
      "text/html": [
       "<div>\n",
       "<style scoped>\n",
       "    .dataframe tbody tr th:only-of-type {\n",
       "        vertical-align: middle;\n",
       "    }\n",
       "\n",
       "    .dataframe tbody tr th {\n",
       "        vertical-align: top;\n",
       "    }\n",
       "\n",
       "    .dataframe thead th {\n",
       "        text-align: right;\n",
       "    }\n",
       "</style>\n",
       "<table border=\"1\" class=\"dataframe\">\n",
       "  <thead>\n",
       "    <tr style=\"text-align: right;\">\n",
       "      <th></th>\n",
       "      <th>company</th>\n",
       "      <th>date_posted</th>\n",
       "      <th>location</th>\n",
       "      <th>pos_description</th>\n",
       "      <th>pos_link</th>\n",
       "      <th>position</th>\n",
       "    </tr>\n",
       "  </thead>\n",
       "  <tbody>\n",
       "    <tr>\n",
       "      <th>0</th>\n",
       "      <td>Four Hands</td>\n",
       "      <td>07/11/2018</td>\n",
       "      <td>Austin, TX</td>\n",
       "      <td>Our Four Hands team is looking for an Inventory Data Analyst to join the Inventory Control team....</td>\n",
       "      <td>http://www.indeed.com/viewjob?jk=96ebe26a988ddb57&amp;qd=gMF-077E7aWVyicXRrUZA568_ZMafrHmjPUuefcLv6b...</td>\n",
       "      <td>Inventory Data Analyst</td>\n",
       "    </tr>\n",
       "    <tr>\n",
       "      <th>1</th>\n",
       "      <td>GateHouse Media, Inc</td>\n",
       "      <td>07/11/2018</td>\n",
       "      <td>Austin, TX</td>\n",
       "      <td>Summary Media is seeking an experienced Data Analyst to support the regional Consumer Revenue te...</td>\n",
       "      <td>http://www.indeed.com/viewjob?jk=fe39960c0ac7f34d&amp;qd=gMF-077E7aWVyicXRrUZA568_ZMafrHmjPUuefcLv6b...</td>\n",
       "      <td>Regional Data Analyst</td>\n",
       "    </tr>\n",
       "    <tr>\n",
       "      <th>2</th>\n",
       "      <td>University of Texas at Austin</td>\n",
       "      <td>07/10/2018</td>\n",
       "      <td>Austin, TX</td>\n",
       "      <td>Purpose To maintain current, accurate and complete geolocation data for the built environment at...</td>\n",
       "      <td>http://www.indeed.com/viewjob?jk=f72ff2930f74a3d5&amp;qd=gMF-077E7aWVyicXRrUZA568_ZMafrHmjPUuefcLv6b...</td>\n",
       "      <td>Business Analyst - GIS Analyst</td>\n",
       "    </tr>\n",
       "    <tr>\n",
       "      <th>3</th>\n",
       "      <td>ZeroCater</td>\n",
       "      <td>07/10/2018</td>\n",
       "      <td>Austin, TX</td>\n",
       "      <td>At ZeroCater, we believe food is one of the easiest, and most effective, ways to build culture i...</td>\n",
       "      <td>http://www.indeed.com/viewjob?jk=09a97835efc5e42f&amp;qd=gMF-077E7aWVyicXRrUZA568_ZMafrHmjPUuefcLv6b...</td>\n",
       "      <td>Food Curation Analyst</td>\n",
       "    </tr>\n",
       "    <tr>\n",
       "      <th>4</th>\n",
       "      <td>Zynga</td>\n",
       "      <td>07/10/2018</td>\n",
       "      <td>Austin, TX</td>\n",
       "      <td>Zynga’s data science team uses our unique and expansive data to model and predict user behavior,...</td>\n",
       "      <td>http://www.indeed.com/viewjob?jk=cdc3c8a3a140f0c9&amp;qd=gMF-077E7aWVyicXRrUZA568_ZMafrHmjPUuefcLv6b...</td>\n",
       "      <td>Data Scientist 4, Poker</td>\n",
       "    </tr>\n",
       "  </tbody>\n",
       "</table>\n",
       "</div>"
      ],
      "text/plain": [
       "                         company date_posted    location  \\\n",
       "0                     Four Hands  07/11/2018  Austin, TX   \n",
       "1           GateHouse Media, Inc  07/11/2018  Austin, TX   \n",
       "2  University of Texas at Austin  07/10/2018  Austin, TX   \n",
       "3                      ZeroCater  07/10/2018  Austin, TX   \n",
       "4                          Zynga  07/10/2018  Austin, TX   \n",
       "\n",
       "                                                                                       pos_description  \\\n",
       "0  Our Four Hands team is looking for an Inventory Data Analyst to join the Inventory Control team....   \n",
       "1  Summary Media is seeking an experienced Data Analyst to support the regional Consumer Revenue te...   \n",
       "2  Purpose To maintain current, accurate and complete geolocation data for the built environment at...   \n",
       "3  At ZeroCater, we believe food is one of the easiest, and most effective, ways to build culture i...   \n",
       "4  Zynga’s data science team uses our unique and expansive data to model and predict user behavior,...   \n",
       "\n",
       "                                                                                              pos_link  \\\n",
       "0  http://www.indeed.com/viewjob?jk=96ebe26a988ddb57&qd=gMF-077E7aWVyicXRrUZA568_ZMafrHmjPUuefcLv6b...   \n",
       "1  http://www.indeed.com/viewjob?jk=fe39960c0ac7f34d&qd=gMF-077E7aWVyicXRrUZA568_ZMafrHmjPUuefcLv6b...   \n",
       "2  http://www.indeed.com/viewjob?jk=f72ff2930f74a3d5&qd=gMF-077E7aWVyicXRrUZA568_ZMafrHmjPUuefcLv6b...   \n",
       "3  http://www.indeed.com/viewjob?jk=09a97835efc5e42f&qd=gMF-077E7aWVyicXRrUZA568_ZMafrHmjPUuefcLv6b...   \n",
       "4  http://www.indeed.com/viewjob?jk=cdc3c8a3a140f0c9&qd=gMF-077E7aWVyicXRrUZA568_ZMafrHmjPUuefcLv6b...   \n",
       "\n",
       "                         position  \n",
       "0          Inventory Data Analyst  \n",
       "1           Regional Data Analyst  \n",
       "2  Business Analyst - GIS Analyst  \n",
       "3           Food Curation Analyst  \n",
       "4         Data Scientist 4, Poker  "
      ]
     },
     "execution_count": 401,
     "metadata": {},
     "output_type": "execute_result"
    }
   ],
   "source": [
    "df.head()"
   ]
  },
  {
   "cell_type": "markdown",
   "metadata": {},
   "source": [
    "# Text Preprocessing"
   ]
  },
  {
   "cell_type": "markdown",
   "metadata": {},
   "source": [
    "## Create function to REMOVE PUCTUATION"
   ]
  },
  {
   "cell_type": "code",
   "execution_count": 560,
   "metadata": {},
   "outputs": [
    {
     "data": {
      "text/plain": [
       "'!\"#$%&\\'()*+,-./:;<=>?@[\\\\]^_`{|}~'"
      ]
     },
     "execution_count": 560,
     "metadata": {},
     "output_type": "execute_result"
    }
   ],
   "source": [
    "string.punctuation"
   ]
  },
  {
   "cell_type": "markdown",
   "metadata": {},
   "source": [
    "#### Function DOES NOT WORK with this dataset (see below why)"
   ]
  },
  {
   "cell_type": "code",
   "execution_count": 403,
   "metadata": {},
   "outputs": [],
   "source": [
    "# sring of all punctuations\n",
    "string.punctuation\n",
    "\n",
    "def remove_punct(text):\n",
    "    # only returns char not in the punctuation list then join the characters to look like the original document                                                                                  #  punctuation list\n",
    "    text_nopunct = ''.join([char for char in text if char not in string.punctuation]) \n",
    "    return text_nopunct\n",
    "\n",
    "# make a new colum of the descriptions with punctuation removed\n",
    "df['docs_nopunct'] = df['pos_description'].apply(lambda x: remove_punct(x))"
   ]
  },
  {
   "cell_type": "markdown",
   "metadata": {},
   "source": [
    "Noticed that there are still apostrophies in the new column???"
   ]
  },
  {
   "cell_type": "code",
   "execution_count": 404,
   "metadata": {},
   "outputs": [
    {
     "name": "stdout",
     "output_type": "stream",
     "text": [
      "You can see that \"'\" from the punctuation string does not look like \"’\" from the document and this is what it like\n",
      " manually typed \"'\"\n"
     ]
    }
   ],
   "source": [
    "# the apostrophe from the document does not match the puncutation string's apostophe; need to find another solution\n",
    "print('You can see that \\\"{}\\\" from the punctuation string does not look like \\\"{}\\\" from the document and\\\n",
    " this is what it like\\n manually typed \\\"{}\\\"'.format(string.punctuation[6], df['docs_nopunct'][4][5],'\\''))"
   ]
  },
  {
   "cell_type": "markdown",
   "metadata": {},
   "source": [
    "#### Function WORKS correctly utilizing regex"
   ]
  },
  {
   "cell_type": "code",
   "execution_count": 405,
   "metadata": {},
   "outputs": [],
   "source": [
    "import re"
   ]
  },
  {
   "cell_type": "code",
   "execution_count": 406,
   "metadata": {},
   "outputs": [],
   "source": [
    "# Using regular expressions to remove punctuation\n",
    "def remove_punct(text):\n",
    "    '''\n",
    "    Finds all word elements only and joins all the stings on ' '\n",
    "    '''\n",
    "    text_nopunct = ' '.join(re.findall('\\w+', text)) # \\w+ selects word elements only \n",
    "    return text_nopunct\n",
    "\n",
    "df['docs_nopunct'] = df['pos_description'].apply(lambda x: remove_punct(x))"
   ]
  },
  {
   "cell_type": "markdown",
   "metadata": {},
   "source": [
    "## Create a function to TOKENIZE the text"
   ]
  },
  {
   "cell_type": "code",
   "execution_count": 408,
   "metadata": {},
   "outputs": [],
   "source": [
    "def tokenizer(text):\n",
    "    docs_tokenized = re.split('\\W+', text)\n",
    "    return docs_tokenized   \n",
    "\n",
    "df['docs_tokenized'] = df['docs_nopunct'].apply(lambda x: tokenizer(x.lower()))"
   ]
  },
  {
   "cell_type": "markdown",
   "metadata": {},
   "source": [
    "## Create a function to REMOVE STOPWORDS"
   ]
  },
  {
   "cell_type": "code",
   "execution_count": 410,
   "metadata": {},
   "outputs": [],
   "source": [
    "stopwords = nltk.corpus.stopwords.words('english')"
   ]
  },
  {
   "cell_type": "code",
   "execution_count": 411,
   "metadata": {},
   "outputs": [],
   "source": [
    "def remove_stopwords(tokenized_text):\n",
    "    docs_no_stopwords = [word for word in tokenized_text if word not in stopwords]\n",
    "    return docs_no_stopwords     \n",
    "\n",
    "df['docs_tokenized_nostopwords'] = df['docs_tokenized'].apply(lambda x: remove_stopwords(x))"
   ]
  },
  {
   "cell_type": "markdown",
   "metadata": {},
   "source": [
    "## Create a function to REMOVE CRAP WORDS"
   ]
  },
  {
   "cell_type": "code",
   "execution_count": 421,
   "metadata": {},
   "outputs": [],
   "source": [
    "crap_words = ['hour', 'hours', 'day', 'days', 'minutes', 'austin', 'tx', 'ago']"
   ]
  },
  {
   "cell_type": "code",
   "execution_count": 422,
   "metadata": {},
   "outputs": [],
   "source": [
    "def remove_crap(text):\n",
    "    docs_no_crap = [word for word in text if word not in crap_words]\n",
    "    return docs_no_crap\n",
    "\n",
    "df['docs_no_crap'] = df['docs_tokenized'].apply(lambda x: remove_crap(x))"
   ]
  },
  {
   "cell_type": "markdown",
   "metadata": {},
   "source": [
    "## Create a function to LEMMATIZE the tokens"
   ]
  },
  {
   "cell_type": "code",
   "execution_count": 369,
   "metadata": {},
   "outputs": [],
   "source": [
    "def word_lemmatizer(word):   \n",
    "    lemma = wn.morphy(word)\n",
    "    if lemma is None:\n",
    "        return  word\n",
    "    else:\n",
    "        return lemma"
   ]
  },
  {
   "cell_type": "code",
   "execution_count": 370,
   "metadata": {},
   "outputs": [],
   "source": [
    "def doc_lemmatizer(text):\n",
    "    docs_lemmatized = [word_lemmatizer(word) for word in text]\n",
    "    return docs_lemmatized\n",
    "\n",
    "df['docs_lemmatized'] = df['docs_tokenized_nostopwords'].apply(lambda x: doc_lemmatizer(x))"
   ]
  },
  {
   "cell_type": "markdown",
   "metadata": {},
   "source": [
    "## Job recommendations at bottom of webpages\n",
    " - At the end of every job description there is a \"save job\" link.  A function was made to call out the index of \"save\" in every job post in order to index the output of the text_processing function to only include everything before it.  \n",
    "<img width=\"406\" alt=\"screen shot 2018-07-12 at 1 16 00 am\" src=\"https://user-images.githubusercontent.com/7989686/42616824-2ebf21c0-8575-11e8-9cb9-e2c0a6c037b1.png\">"
   ]
  },
  {
   "cell_type": "markdown",
   "metadata": {},
   "source": [
    "# Combining into a one TEXT PREPROCESSING FUNCTION "
   ]
  },
  {
   "cell_type": "code",
   "execution_count": 618,
   "metadata": {},
   "outputs": [],
   "source": [
    "stopwords = nltk.corpus.stopwords.words('english')\n",
    "crap_words = ['hour', 'hours', 'day', 'days', 'minutes', 'austin', 'tx', 'ago', 'experience', 'team',\n",
    "              'work', 'skill', 'understanding', 'ability', 'member', 'years', 'requirement', 'job', 'data',\n",
    "              'analyst']\n",
    "\n",
    "# function for wordnet lemmatizing a word returns the word if it's not in wordnet\n",
    "#  this allows there to be a combination of wordnet lemmatized words and non-wordnet words in the doc\n",
    "def word_lemmatizer(word):   \n",
    "    lemma = wn.morphy(word) \n",
    "    if lemma is None:  # return the word if there is no lemma in WordNet for that word\n",
    "        return  word\n",
    "    else:\n",
    "        return lemma\n",
    "# Bottom of web page has job recommendations. This function identifies the index of 'save' at \n",
    "# the bottom of every job description\n",
    "def save_index(text):\n",
    "    save = text.index('save')\n",
    "    return save\n",
    "\n",
    "def text_preprocess(text):\n",
    "    text_nopunct = ' '.join(re.findall('\\w+', text))  # remove puncuation by only selecting word elements '\\w+'\n",
    "    docs_tokenized = re.split('\\W+', text_nopunct)  # tokenize splitting on non-word elements '\\W+'\n",
    "    docs_no_stopwords = [word for word in docs_tokenized if word not in stopwords]  # remove stopwords\n",
    "    docs_lemmatized = [word_lemmatizer(word) for word in docs_no_stopwords]  # wordnet lemmatizing\n",
    "    docs_no_crapwords = [word for word in docs_lemmatized if word not in crap_words]\n",
    "    return docs_no_crapwords[ : save_index(docs_no_crapwords)]  # return the list up to 'save'"
   ]
  },
  {
   "cell_type": "code",
   "execution_count": null,
   "metadata": {},
   "outputs": [],
   "source": [
    "def revert(df):\n",
    "    try:\n",
    "        return df.drop('pos_description_processed', axis=1, inplace=True)\n",
    "    except:\n",
    "        pass\n",
    "revert(df)"
   ]
  },
  {
   "cell_type": "code",
   "execution_count": 620,
   "metadata": {},
   "outputs": [],
   "source": [
    "# Adding a new column of the processed text\n",
    "df['pos_description_processed'] = df['pos_description'].apply(lambda x: text_preprocess(x.lower()))"
   ]
  },
  {
   "cell_type": "code",
   "execution_count": 621,
   "metadata": {},
   "outputs": [
    {
     "data": {
      "text/html": [
       "<div>\n",
       "<style scoped>\n",
       "    .dataframe tbody tr th:only-of-type {\n",
       "        vertical-align: middle;\n",
       "    }\n",
       "\n",
       "    .dataframe tbody tr th {\n",
       "        vertical-align: top;\n",
       "    }\n",
       "\n",
       "    .dataframe thead th {\n",
       "        text-align: right;\n",
       "    }\n",
       "</style>\n",
       "<table border=\"1\" class=\"dataframe\">\n",
       "  <thead>\n",
       "    <tr style=\"text-align: right;\">\n",
       "      <th></th>\n",
       "      <th>company</th>\n",
       "      <th>date_posted</th>\n",
       "      <th>location</th>\n",
       "      <th>pos_description</th>\n",
       "      <th>pos_link</th>\n",
       "      <th>position</th>\n",
       "      <th>pos_description_processed</th>\n",
       "    </tr>\n",
       "  </thead>\n",
       "  <tbody>\n",
       "    <tr>\n",
       "      <th>0</th>\n",
       "      <td>Four Hands</td>\n",
       "      <td>07/11/2018</td>\n",
       "      <td>Austin, TX</td>\n",
       "      <td>Our Four Hands team is looking for an Inventory Data Analyst to join the Inventory Control team....</td>\n",
       "      <td>http://www.indeed.com/viewjob?jk=96ebe26a988ddb57&amp;qd=gMF-077E7aWVyicXRrUZA568_ZMafrHmjPUuefcLv6b...</td>\n",
       "      <td>Inventory Data Analyst</td>\n",
       "      <td>[four, hands, looking, inventory, join, inventory, control, role, ensure, location, properly, ma...</td>\n",
       "    </tr>\n",
       "    <tr>\n",
       "      <th>1</th>\n",
       "      <td>GateHouse Media, Inc</td>\n",
       "      <td>07/11/2018</td>\n",
       "      <td>Austin, TX</td>\n",
       "      <td>Summary Media is seeking an experienced Data Analyst to support the regional Consumer Revenue te...</td>\n",
       "      <td>http://www.indeed.com/viewjob?jk=fe39960c0ac7f34d&amp;qd=gMF-077E7aWVyicXRrUZA568_ZMafrHmjPUuefcLv6b...</td>\n",
       "      <td>Regional Data Analyst</td>\n",
       "      <td>[summary, medium, seeking, support, regional, consumer, revenue, role, responsible, gathering, a...</td>\n",
       "    </tr>\n",
       "    <tr>\n",
       "      <th>2</th>\n",
       "      <td>University of Texas at Austin</td>\n",
       "      <td>07/10/2018</td>\n",
       "      <td>Austin, TX</td>\n",
       "      <td>Purpose To maintain current, accurate and complete geolocation data for the built environment at...</td>\n",
       "      <td>http://www.indeed.com/viewjob?jk=f72ff2930f74a3d5&amp;qd=gMF-077E7aWVyicXRrUZA568_ZMafrHmjPUuefcLv6b...</td>\n",
       "      <td>Business Analyst - GIS Analyst</td>\n",
       "      <td>[purpose, maintain, current, accurate, complete, geolocation, build, environment, university, te...</td>\n",
       "    </tr>\n",
       "    <tr>\n",
       "      <th>3</th>\n",
       "      <td>ZeroCater</td>\n",
       "      <td>07/10/2018</td>\n",
       "      <td>Austin, TX</td>\n",
       "      <td>At ZeroCater, we believe food is one of the easiest, and most effective, ways to build culture i...</td>\n",
       "      <td>http://www.indeed.com/viewjob?jk=09a97835efc5e42f&amp;qd=gMF-077E7aWVyicXRrUZA568_ZMafrHmjPUuefcLv6b...</td>\n",
       "      <td>Food Curation Analyst</td>\n",
       "      <td>[zerocater, believe, food, one, easy, effective, ways, build, culture, office, make, easy, compa...</td>\n",
       "    </tr>\n",
       "    <tr>\n",
       "      <th>4</th>\n",
       "      <td>Zynga</td>\n",
       "      <td>07/10/2018</td>\n",
       "      <td>Austin, TX</td>\n",
       "      <td>Zynga’s data science team uses our unique and expansive data to model and predict user behavior,...</td>\n",
       "      <td>http://www.indeed.com/viewjob?jk=cdc3c8a3a140f0c9&amp;qd=gMF-077E7aWVyicXRrUZA568_ZMafrHmjPUuefcLv6b...</td>\n",
       "      <td>Data Scientist 4, Poker</td>\n",
       "      <td>[zynga, science, use, unique, expansive, model, predict, user, behavior, making, game, personali...</td>\n",
       "    </tr>\n",
       "  </tbody>\n",
       "</table>\n",
       "</div>"
      ],
      "text/plain": [
       "                         company date_posted    location  \\\n",
       "0                     Four Hands  07/11/2018  Austin, TX   \n",
       "1           GateHouse Media, Inc  07/11/2018  Austin, TX   \n",
       "2  University of Texas at Austin  07/10/2018  Austin, TX   \n",
       "3                      ZeroCater  07/10/2018  Austin, TX   \n",
       "4                          Zynga  07/10/2018  Austin, TX   \n",
       "\n",
       "                                                                                       pos_description  \\\n",
       "0  Our Four Hands team is looking for an Inventory Data Analyst to join the Inventory Control team....   \n",
       "1  Summary Media is seeking an experienced Data Analyst to support the regional Consumer Revenue te...   \n",
       "2  Purpose To maintain current, accurate and complete geolocation data for the built environment at...   \n",
       "3  At ZeroCater, we believe food is one of the easiest, and most effective, ways to build culture i...   \n",
       "4  Zynga’s data science team uses our unique and expansive data to model and predict user behavior,...   \n",
       "\n",
       "                                                                                              pos_link  \\\n",
       "0  http://www.indeed.com/viewjob?jk=96ebe26a988ddb57&qd=gMF-077E7aWVyicXRrUZA568_ZMafrHmjPUuefcLv6b...   \n",
       "1  http://www.indeed.com/viewjob?jk=fe39960c0ac7f34d&qd=gMF-077E7aWVyicXRrUZA568_ZMafrHmjPUuefcLv6b...   \n",
       "2  http://www.indeed.com/viewjob?jk=f72ff2930f74a3d5&qd=gMF-077E7aWVyicXRrUZA568_ZMafrHmjPUuefcLv6b...   \n",
       "3  http://www.indeed.com/viewjob?jk=09a97835efc5e42f&qd=gMF-077E7aWVyicXRrUZA568_ZMafrHmjPUuefcLv6b...   \n",
       "4  http://www.indeed.com/viewjob?jk=cdc3c8a3a140f0c9&qd=gMF-077E7aWVyicXRrUZA568_ZMafrHmjPUuefcLv6b...   \n",
       "\n",
       "                         position  \\\n",
       "0          Inventory Data Analyst   \n",
       "1           Regional Data Analyst   \n",
       "2  Business Analyst - GIS Analyst   \n",
       "3           Food Curation Analyst   \n",
       "4         Data Scientist 4, Poker   \n",
       "\n",
       "                                                                             pos_description_processed  \n",
       "0  [four, hands, looking, inventory, join, inventory, control, role, ensure, location, properly, ma...  \n",
       "1  [summary, medium, seeking, support, regional, consumer, revenue, role, responsible, gathering, a...  \n",
       "2  [purpose, maintain, current, accurate, complete, geolocation, build, environment, university, te...  \n",
       "3  [zerocater, believe, food, one, easy, effective, ways, build, culture, office, make, easy, compa...  \n",
       "4  [zynga, science, use, unique, expansive, model, predict, user, behavior, making, game, personali...  "
      ]
     },
     "execution_count": 621,
     "metadata": {},
     "output_type": "execute_result"
    }
   ],
   "source": [
    "df.head()"
   ]
  },
  {
   "cell_type": "markdown",
   "metadata": {},
   "source": [
    "### After reviewing the results using \"data scientist\" and \"data analyst\" there were more positive titles directly related to Data Science or Data Analytics using the \"data analyst\" keywords."
   ]
  },
  {
   "cell_type": "markdown",
   "metadata": {},
   "source": [
    "## Time for LDA"
   ]
  },
  {
   "cell_type": "code",
   "execution_count": 622,
   "metadata": {},
   "outputs": [],
   "source": [
    "# Text data\n",
    "texts = df['pos_description_processed']"
   ]
  },
  {
   "cell_type": "code",
   "execution_count": 623,
   "metadata": {},
   "outputs": [
    {
     "name": "stdout",
     "output_type": "stream",
     "text": [
      "0\n",
      "[]\n"
     ]
    }
   ],
   "source": [
    "# validate there that crap words are removed\n",
    "count = 0\n",
    "words = []\n",
    "for word in texts[0]:\n",
    "    if word in crap_words:\n",
    "        count += 1\n",
    "        words.append(word)\n",
    "print(count)\n",
    "print(words)"
   ]
  },
  {
   "cell_type": "code",
   "execution_count": 624,
   "metadata": {},
   "outputs": [],
   "source": [
    "dictionary = corpora.Dictionary(texts)"
   ]
  },
  {
   "cell_type": "code",
   "execution_count": 625,
   "metadata": {},
   "outputs": [
    {
     "data": {
      "text/html": [
       "<div>\n",
       "<style scoped>\n",
       "    .dataframe tbody tr th:only-of-type {\n",
       "        vertical-align: middle;\n",
       "    }\n",
       "\n",
       "    .dataframe tbody tr th {\n",
       "        vertical-align: top;\n",
       "    }\n",
       "\n",
       "    .dataframe thead th {\n",
       "        text-align: right;\n",
       "    }\n",
       "</style>\n",
       "<table border=\"1\" class=\"dataframe\">\n",
       "  <thead>\n",
       "    <tr style=\"text-align: right;\">\n",
       "      <th></th>\n",
       "      <th>0</th>\n",
       "      <th>1</th>\n",
       "    </tr>\n",
       "  </thead>\n",
       "  <tbody>\n",
       "    <tr>\n",
       "      <th>0</th>\n",
       "      <td>(0, 2)</td>\n",
       "      <td>four</td>\n",
       "    </tr>\n",
       "    <tr>\n",
       "      <th>1</th>\n",
       "      <td>(1, 2)</td>\n",
       "      <td>hands</td>\n",
       "    </tr>\n",
       "    <tr>\n",
       "      <th>2</th>\n",
       "      <td>(2, 1)</td>\n",
       "      <td>looking</td>\n",
       "    </tr>\n",
       "    <tr>\n",
       "      <th>3</th>\n",
       "      <td>(3, 12)</td>\n",
       "      <td>inventory</td>\n",
       "    </tr>\n",
       "    <tr>\n",
       "      <th>4</th>\n",
       "      <td>(4, 1)</td>\n",
       "      <td>join</td>\n",
       "    </tr>\n",
       "    <tr>\n",
       "      <th>5</th>\n",
       "      <td>(5, 2)</td>\n",
       "      <td>inventory</td>\n",
       "    </tr>\n",
       "    <tr>\n",
       "      <th>6</th>\n",
       "      <td>(6, 1)</td>\n",
       "      <td>control</td>\n",
       "    </tr>\n",
       "    <tr>\n",
       "      <th>7</th>\n",
       "      <td>(7, 1)</td>\n",
       "      <td>role</td>\n",
       "    </tr>\n",
       "    <tr>\n",
       "      <th>8</th>\n",
       "      <td>(8, 1)</td>\n",
       "      <td>ensure</td>\n",
       "    </tr>\n",
       "    <tr>\n",
       "      <th>9</th>\n",
       "      <td>(9, 1)</td>\n",
       "      <td>location</td>\n",
       "    </tr>\n",
       "  </tbody>\n",
       "</table>\n",
       "</div>"
      ],
      "text/plain": [
       "         0          1\n",
       "0   (0, 2)       four\n",
       "1   (1, 2)      hands\n",
       "2   (2, 1)    looking\n",
       "3  (3, 12)  inventory\n",
       "4   (4, 1)       join\n",
       "5   (5, 2)  inventory\n",
       "6   (6, 1)    control\n",
       "7   (7, 1)       role\n",
       "8   (8, 1)     ensure\n",
       "9   (9, 1)   location"
      ]
     },
     "execution_count": 625,
     "metadata": {},
     "output_type": "execute_result"
    }
   ],
   "source": [
    "# Illustration of what doc2bow is doing. \"data\" appears 5 tims in this position\n",
    "pd.concat([pd.Series(dictionary.doc2bow(texts[0])[:10]),pd.Series(texts[0][:10])], axis=1)"
   ]
  },
  {
   "cell_type": "code",
   "execution_count": 626,
   "metadata": {},
   "outputs": [
    {
     "name": "stdout",
     "output_type": "stream",
     "text": [
      "There are 0 instances of 'data'\n"
     ]
    }
   ],
   "source": [
    "# Validation that there are 5 instances of 'data' in the first job description\n",
    "count = 0\n",
    "for word in texts[0]:\n",
    "    if word == 'data':\n",
    "        count += 1\n",
    "print('There are {} instances of \\'{}\\''.format(count, 'data'))"
   ]
  },
  {
   "cell_type": "code",
   "execution_count": 627,
   "metadata": {},
   "outputs": [],
   "source": [
    "corpus = [dictionary.doc2bow(text) for text in texts]"
   ]
  },
  {
   "cell_type": "code",
   "execution_count": 628,
   "metadata": {},
   "outputs": [],
   "source": [
    "# pickling the corpus object for \n",
    "import pickle\n",
    "pickle.dump(corpus, open('corpus.pkl', 'wb'))\n",
    "dictionary.save('dictionary.gensim')"
   ]
  },
  {
   "cell_type": "markdown",
   "metadata": {},
   "source": [
    "## LDA with Gensim"
   ]
  },
  {
   "cell_type": "markdown",
   "metadata": {},
   "source": [
    "### Training a 2 topic model"
   ]
  },
  {
   "cell_type": "code",
   "execution_count": 629,
   "metadata": {},
   "outputs": [
    {
     "name": "stdout",
     "output_type": "stream",
     "text": [
      "(0, '0.009*\"analysis\" + 0.008*\"business\" + 0.007*\"marketing\"')\n",
      "(1, '0.020*\"business\" + 0.010*\"process\" + 0.008*\"management\"')\n"
     ]
    }
   ],
   "source": [
    "topic_count = 2\n",
    "ldamodel = gensim.models.ldamodel.LdaModel(corpus=corpus, \n",
    "                                           num_topics=topic_count,\n",
    "                                           id2word=dictionary,\n",
    "                                           passes=15,\n",
    "                                           random_state=42)\n",
    "ldamodel.save('model2.gensim')\n",
    "\n",
    "\n",
    "topics = ldamodel.print_topics(num_words=3)\n",
    "for topic in topics:\n",
    "    print(topic)"
   ]
  },
  {
   "cell_type": "markdown",
   "metadata": {},
   "source": [
    "### Training a 5 topic model"
   ]
  },
  {
   "cell_type": "code",
   "execution_count": 630,
   "metadata": {},
   "outputs": [
    {
     "name": "stdout",
     "output_type": "stream",
     "text": [
      "(0, '0.011*\"analysis\" + 0.010*\"marketing\" + 0.008*\"customer\"')\n",
      "(1, '0.013*\"business\" + 0.008*\"sales\" + 0.007*\"process\"')\n",
      "(2, '0.023*\"business\" + 0.014*\"project\" + 0.012*\"process\"')\n",
      "(3, '0.021*\"business\" + 0.008*\"software\" + 0.006*\"product\"')\n",
      "(4, '0.015*\"sales\" + 0.013*\"business\" + 0.007*\"management\"')\n"
     ]
    }
   ],
   "source": [
    "topic_count = 5\n",
    "ldamodel = gensim.models.ldamodel.LdaModel(corpus=corpus, \n",
    "                                           num_topics=topic_count,\n",
    "                                           id2word=dictionary,\n",
    "                                           passes=15,\n",
    "                                           random_state=42)\n",
    "ldamodel.save('model5.gensim')\n",
    "\n",
    "\n",
    "topics = ldamodel.print_topics(num_words=3)\n",
    "for topic in topics:\n",
    "    print(topic)"
   ]
  },
  {
   "cell_type": "markdown",
   "metadata": {},
   "source": [
    "### Traing an 8 topic model"
   ]
  },
  {
   "cell_type": "code",
   "execution_count": 631,
   "metadata": {},
   "outputs": [
    {
     "name": "stdout",
     "output_type": "stream",
     "text": [
      "(0, '0.011*\"marketing\" + 0.009*\"analysis\" + 0.007*\"customer\"')\n",
      "(1, '0.011*\"sales\" + 0.008*\"business\" + 0.008*\"analysis\"')\n",
      "(2, '0.015*\"business\" + 0.013*\"system\" + 0.010*\"knowledge\"')\n",
      "(3, '0.020*\"business\" + 0.009*\"software\" + 0.006*\"drive\"')\n",
      "(4, '0.010*\"text\" + 0.010*\"survey\" + 0.007*\"clustering\"')\n",
      "(5, '0.018*\"business\" + 0.010*\"sales\" + 0.010*\"reporting\"')\n",
      "(6, '0.016*\"investment\" + 0.016*\"market\" + 0.009*\"estate\"')\n",
      "(7, '0.027*\"business\" + 0.017*\"process\" + 0.014*\"project\"')\n"
     ]
    }
   ],
   "source": [
    "topic_count = 8\n",
    "ldamodel = gensim.models.ldamodel.LdaModel(corpus=corpus, \n",
    "                                           num_topics=topic_count,\n",
    "                                           id2word=dictionary,\n",
    "                                           passes=15,\n",
    "                                           random_state=42)\n",
    "ldamodel.save('model8.gensim')\n",
    "\n",
    "\n",
    "topics = ldamodel.print_topics(num_words=3)\n",
    "for topic in topics:\n",
    "    print(topic)"
   ]
  },
  {
   "cell_type": "markdown",
   "metadata": {},
   "source": [
    "### MacOS online advice for clicking links\n",
    "element.send_keys(Keys.CONTROL + Keys.RETURN)  \n",
    "driver.switch_to.window(self.driver.window_handles[1])  \n",
    "#### do stuff  \n",
    "driver.close()  \n",
    "driver.switch_to.window(self.driver.window_handles[0])  "
   ]
  },
  {
   "cell_type": "markdown",
   "metadata": {},
   "source": [
    "## Using SpaCy for NLP - this is a Work in Progress (Eddie has not started this part yet)\n",
    "Objective: Setup for topic modeling and use LDA to determine feature importance"
   ]
  },
  {
   "cell_type": "code",
   "execution_count": 324,
   "metadata": {},
   "outputs": [],
   "source": [
    "parser = spacy.lang.en.English()\n",
    "nlp = spacy.load('en')"
   ]
  },
  {
   "cell_type": "code",
   "execution_count": 325,
   "metadata": {},
   "outputs": [],
   "source": [
    "def sent_to_words(sentences):\n",
    "    for sentence in sentences:\n",
    "        yield(simple_preprocess(str(pos_description),deacc=True))"
   ]
  },
  {
   "cell_type": "code",
   "execution_count": 326,
   "metadata": {},
   "outputs": [],
   "source": [
    "data_words = list(sent_to_words(pos_description))"
   ]
  },
  {
   "cell_type": "code",
   "execution_count": 328,
   "metadata": {},
   "outputs": [],
   "source": [
    "#Building bigram and trigram models\n",
    "bigram = gensim.models.Phrases(data_words, min_count=5, threshold=100)\n",
    "\n",
    "trigram = gensim.models.Phrases(bigram[data_words], threshold=100)"
   ]
  },
  {
   "cell_type": "code",
   "execution_count": 329,
   "metadata": {},
   "outputs": [],
   "source": [
    "bigram_mod = gensim.models.phrases.Phraser(bigram)\n",
    "trigram_mod = gensim.models.phrases.Phraser(trigram)"
   ]
  },
  {
   "cell_type": "code",
   "execution_count": 331,
   "metadata": {},
   "outputs": [],
   "source": [
    "def remove_stopwords(text):\n",
    "    return [[word for word in simple_preprocess(str(doc)) if word not in STOP_WORDS] for doc in text]\n",
    "\n",
    "def make_bigrams(text):\n",
    "    return [bigram_mod[doc] for doc in text]\n",
    "\n",
    "def make_trigrams(text):\n",
    "    return [trigram_mod[bigram_mod[doc]] for doc in text]\n",
    "\n",
    "def lemmatization(text, allowed_postags = ['NOUN','ADJ','VERB','ADV']):\n",
    "    text_rem = []\n",
    "    for sent in text:\n",
    "        doc = nlp(\" \".join(sent))\n",
    "        text_rem.append([token.lemma_ for token in doc if token.pos_ in allowed_postags])\n",
    "        return text_rem "
   ]
  },
  {
   "cell_type": "code",
   "execution_count": 332,
   "metadata": {},
   "outputs": [],
   "source": [
    "words_no_stops = remove_stopwords(data_words)\n",
    "\n",
    "word_bigrams = make_bigrams(words_no_stops)\n",
    "\n",
    "data_lemma =  lemmatization(word_bigrams, allowed_postags=['NOUN', 'ADJ', 'VERB', 'ADV'])"
   ]
  },
  {
   "cell_type": "code",
   "execution_count": 335,
   "metadata": {},
   "outputs": [],
   "source": [
    "id2word = corpora.Dictionary(data_lemma)"
   ]
  },
  {
   "cell_type": "code",
   "execution_count": 336,
   "metadata": {},
   "outputs": [],
   "source": [
    "texts = data_lemma"
   ]
  },
  {
   "cell_type": "code",
   "execution_count": 337,
   "metadata": {},
   "outputs": [],
   "source": [
    "corpus = [id2word.doc2bow(text) for text in texts]"
   ]
  },
  {
   "cell_type": "code",
   "execution_count": 338,
   "metadata": {},
   "outputs": [],
   "source": [
    "lda_model = gensim.models.ldamodel.LdaModel(corpus=corpus, id2word=id2word,num_topics=20,\n",
    "                               random_state=42,\n",
    "                               update_every=1,\n",
    "                               chunksize=100,\n",
    "                               passes=10,\n",
    "                               alpha='auto',\n",
    "                               per_word_topics=True)"
   ]
  },
  {
   "cell_type": "code",
   "execution_count": 339,
   "metadata": {},
   "outputs": [],
   "source": [
    "doc_lda = lda_model[corpus]"
   ]
  },
  {
   "cell_type": "code",
   "execution_count": 340,
   "metadata": {},
   "outputs": [
    {
     "name": "stdout",
     "output_type": "stream",
     "text": [
      "\n",
      "Perplexity:  -7.106306833828683\n",
      "\n",
      "Coherence Score:  0.26450302724652314\n"
     ]
    }
   ],
   "source": [
    "# Compute Perplexity\n",
    "print('\\nPerplexity: ', lda_model.log_perplexity(corpus))  # a measure of how good the model is. lower the better.\n",
    "\n",
    "# Compute Coherence Score\n",
    "coherence_model_lda = coherencemodel.CoherenceModel(model=lda_model, texts=data_lemma, dictionary=id2word, coherence='c_v')\n",
    "coherence_lda = coherence_model_lda.get_coherence()\n",
    "print('\\nCoherence Score: ', coherence_lda)"
   ]
  },
  {
   "cell_type": "code",
   "execution_count": 341,
   "metadata": {},
   "outputs": [
    {
     "data": {
      "text/html": [
       "\n",
       "<link rel=\"stylesheet\" type=\"text/css\" href=\"https://cdn.rawgit.com/bmabey/pyLDAvis/files/ldavis.v1.0.0.css\">\n",
       "\n",
       "\n",
       "<div id=\"ldavis_el1383620673395859603401407628\"></div>\n",
       "<script type=\"text/javascript\">\n",
       "\n",
       "var ldavis_el1383620673395859603401407628_data = {\"R\": 30, \"mdsDat\": {\"x\": [-0.07361859543290578, -0.0006713269862007525, 0.0006600289372657582, 0.0017506216869984238, 0.002052958738838514, 0.0027004854206751573, 0.003185597017653677, 0.0034567941063659785, 0.003545003871594676, 0.00382686289336779, 0.0037663251329314667, 0.003931300055992733, 0.004524298534777842, 0.005380850658488665, 0.005500162557955127, 0.00558091639045895, 0.005718988078738252, 0.006167102438417293, 0.006235027000736077, 0.006306598897850139], \"y\": [0.0, -0.0, 0.0, -0.0, 0.0, -0.0, -0.0, -0.0, 0.0, 0.0, -0.0, -0.0, 0.0, -0.0, 0.0, -0.0, -0.0, 0.0, -0.0, 0.0], \"topics\": [1, 2, 3, 4, 5, 6, 7, 8, 9, 10, 11, 12, 13, 14, 15, 16, 17, 18, 19, 20], \"Freq\": [99.96126556396484, 0.002045335015282035, 0.002044215565547347, 0.002043083542957902, 0.0020426169503480196, 0.0020418507046997547, 0.0020410993602126837, 0.002040733816102147, 0.0020404790993779898, 0.0020400064531713724, 0.0020400015637278557, 0.002039699349552393, 0.0020386194810271263, 0.002036116551607847, 0.0020355316810309887, 0.0020353528670966625, 0.00203486206009984, 0.002032374031841755, 0.0020320448093116283, 0.0020314352586865425], \"cluster\": [1, 1, 1, 1, 1, 1, 1, 1, 1, 1, 1, 1, 1, 1, 1, 1, 1, 1, 1, 1]}, \"tinfo\": {\"loglift\": [30.0, 29.0, 28.0, 27.0, 26.0, 25.0, 24.0, 23.0, 22.0, 21.0, 20.0, 19.0, 18.0, 17.0, 16.0, 15.0, 14.0, 13.0, 12.0, 11.0, 10.0, 9.0, 8.0, 7.0, 6.0, 5.0, 4.0, 3.0, 2.0, 1.0, 0.00039999998989515007, 0.0003000000142492354, 0.0003000000142492354, 0.0003000000142492354, 0.0003000000142492354, 0.0003000000142492354, 0.0003000000142492354, 0.0003000000142492354, 0.0003000000142492354, 0.0003000000142492354, 0.0003000000142492354, 0.0003000000142492354, 0.0003000000142492354, 0.0003000000142492354, 0.0003000000142492354, 0.0003000000142492354, 0.0003000000142492354, 0.0003000000142492354, 0.0003000000142492354, 0.0003000000142492354, 0.0003000000142492354, 0.0003000000142492354, 0.0003000000142492354, 0.0003000000142492354, 0.00019999999494757503, 0.00019999999494757503, 0.00019999999494757503, 0.00019999999494757503, 0.00019999999494757503, 0.00019999999494757503, 0.6764000058174133, 0.6762999892234802, 0.6761000156402588, 0.6754999756813049, 0.6754999756813049, 0.6754999756813049, 0.6751999855041504, 0.6751999855041504, 0.6748999953269958, 0.6748999953269958, 0.6747999787330627, 0.6747000217437744, 0.6746000051498413, 0.6744999885559082, 0.6743999719619751, 0.6739000082015991, 0.6736000180244446, 0.67330002784729, 0.6732000112533569, 0.6729999780654907, 0.6728000044822693, 0.6725999712944031, 0.6725000143051147, 0.6725000143051147, 0.6723999977111816, 0.6723999977111816, 0.6723999977111816, 0.6723999977111816, 0.6722999811172485, 0.6722999811172485, 0.6722999811172485, 0.6722999811172485, -1.8219000101089478, -2.150700092315674, -1.7359000444412231, -1.792099952697754, -1.9528000354766846, -1.2611000537872314, -2.0020999908447266, -1.7173999547958374, -1.2009999752044678, -1.40910005569458, -1.5851000547409058, -1.6593999862670898, -1.2122999429702759, -1.4221999645233154, -1.5936000347137451, -1.7458000183105469, -1.3323999643325806, -1.527400016784668, -1.530900001525879, -1.5437999963760376, -1.11899995803833, -1.1225999593734741, -0.9790999889373779, -1.3640999794006348, -1.2539000511169434, -0.8126000165939331, -0.6036999821662903, -0.9889000058174133, -0.9926999807357788, -0.8198000192642212, -0.9998000264167786, 0.6807000041007996, 0.6784999966621399, 0.6783000230789185, 0.6780999898910522, 0.6779999732971191, 0.6779999732971191, 0.6777999997138977, 0.6776000261306763, 0.6775000095367432, 0.677299976348877, 0.6771000027656555, 0.6769000291824341, 0.676800012588501, 0.6766999959945679, 0.6766999959945679, 0.6765999794006348, 0.6765999794006348, 0.6761999726295471, 0.6761999726295471, 0.6761000156402588, 0.6761000156402588, 0.6759999990463257, 0.6759999990463257, 0.6758999824523926, 0.6758000254631042, 0.6758000254631042, 0.6758000254631042, 0.6757000088691711, 0.675599992275238, 0.675599992275238, 0.6754000186920166, 0.6754999756813049, -2.1572000980377197, -1.5331000089645386, -2.0322000980377197, -1.830299973487854, -1.6449999809265137, -1.4915000200271606, -2.0541000366210938, -1.5012999773025513, -1.7279000282287598, -1.728700041770935, -1.9213000535964966, -1.3324999809265137, -1.523900032043457, -1.2302000522613525, -1.6117000579833984, -1.4471999406814575, -1.2371000051498413, -1.3515000343322754, -0.9728999733924866, -2.0144999027252197, -1.3681000471115112, -1.2646000385284424, -0.8192999958992004, -0.9940000176429749, -1.4833999872207642, -0.3411000072956085, -0.6141999959945679, -0.829200029373169, -0.8295999765396118, -1.007699966430664, -0.8353999853134155, -1.1644999980926514, -1.1656999588012695, 0.6807000041007996, 0.6804999709129333, 0.6801999807357788, 0.6801000237464905, 0.6797999739646912, 0.6794999837875366, 0.6794000267982483, 0.6790000200271606, 0.6789000034332275, 0.6786999702453613, 0.6786999702453613, 0.678600013256073, 0.678600013256073, 0.6784999966621399, 0.6783999800682068, 0.6783999800682068, 0.6783999800682068, 0.6783000230789185, 0.6783000230789185, 0.6783000230789185, 0.6783000230789185, 0.6782000064849854, 0.6782000064849854, 0.6780999898910522, 0.6779999732971191, 0.6779999732971191, 0.6779999732971191, 0.6777999997138977, 0.6777999997138977, 0.6777999997138977, 0.6776000261306763, 0.6776999831199646, -2.2815001010894775, -1.948799967765808, -2.0518999099731445, -2.0671000480651855, -1.865399956703186, -1.92330002784729, -1.7415000200271606, -1.743399977684021, -1.531499981880188, -1.4426000118255615, -1.5369999408721924, -1.3514000177383423, -1.544600009918213, -1.7107000350952148, -1.6397000551223755, -1.6405999660491943, -1.3767999410629272, -1.2687000036239624, -0.6122999787330627, 0.040800001472234726, -0.8281000256538391, -1.4896999597549438, -1.3909000158309937, -0.8288999795913696, -1.281599998474121, -0.8323000073432922, -0.6189000010490417, -1.0094000101089478, -1.1613999605178833, -0.6241999864578247, -1.2907999753952026, -1.1651999950408936, -1.0174000263214111, 0.6819000244140625, 0.6811000108718872, 0.6809999942779541, 0.680400013923645, 0.6801999807357788, 0.6801000237464905, 0.6800000071525574, 0.6798999905586243, 0.6797999739646912, 0.6797999739646912, 0.6794000267982483, 0.6793000102043152, 0.6791999936103821, 0.6791999936103821, 0.6791999936103821, 0.6790000200271606, 0.6790000200271606, 0.6789000034332275, 0.6787999868392944, 0.6787999868392944, 0.678600013256073, 0.678600013256073, 0.678600013256073, 0.6784999966621399, 0.6784999966621399, 0.6783999800682068, 0.6783999800682068, 0.6783999800682068, 0.6783000230789185, 0.6782000064849854, 0.6782000064849854, -2.24180006980896, -1.9708000421524048, -1.5938999652862549, -1.7451000213623047, -2.0859999656677246, -2.087100028991699, -1.9351999759674072, -1.6287000179290771, -1.246500015258789, -1.5556000471115112, -1.4656000137329102, -1.9138000011444092, -1.7877999544143677, -1.559000015258789, -1.3809000253677368, -1.5733000040054321, -0.8223999738693237, -0.9955999851226807, -1.1435999870300293, -1.38510000705719, -0.8251000046730042, -1.7416000366210938, -1.2759000062942505, -1.3895000219345093, -1.49399995803833, -1.0038000345230103, -0.8296999931335449, -1.2853000164031982, -1.0116000175476074, -0.8381999731063843, -1.0144000053405762, -1.1658999919891357, 0.6815000176429749, 0.6812999844551086, 0.6812000274658203, 0.6811000108718872, 0.6809999942779541, 0.6809999942779541, 0.6808000206947327, 0.6805999875068665, 0.680400013923645, 0.680400013923645, 0.680400013923645, 0.6802999973297119, 0.6802999973297119, 0.6802999973297119, 0.6801999807357788, 0.6801000237464905, 0.6801000237464905, 0.6801000237464905, 0.6801000237464905, 0.6801000237464905, 0.6798999905586243, 0.6798999905586243, 0.6798999905586243, 0.6797999739646912, 0.6797999739646912, 0.6797999739646912, 0.6797000169754028, 0.6797000169754028, 0.6796000003814697, 0.6796000003814697, 0.6796000003814697, 0.6796000003814697, 0.6794999837875366, -2.065700054168701, -2.3169000148773193, -2.075200080871582, -1.8767000436782837, -1.7029000520706177, -1.777400016784668, -1.9638999700546265, -1.7817000150680542, -2.029599905014038, -1.472100019454956, -1.6536999940872192, -1.5744999647140503, -1.2705999612808228, -1.5816999673843384, -1.1475000381469727, -1.392300009727478, -1.3947999477386475, -1.0047999620437622, -1.2839000225067139, -0.8321999907493591, -1.676300048828125, -0.838100016117096, -0.3497999906539917, -1.1638000011444092, -1.0155999660491943, -0.8411999940872192, -1.5115000009536743, -1.6045000553131104, -1.4098999500274658, -1.0174000263214111, -0.8460000157356262, -1.3080999851226807, 0.6827999949455261, 0.6827999949455261, 0.6825000047683716, 0.6822999715805054, 0.6822999715805054, 0.682200014591217, 0.6819999814033508, 0.6816999912261963, 0.6815000176429749, 0.6815000176429749, 0.6814000010490417, 0.6814000010490417, 0.6812999844551086, 0.6812999844551086, 0.6812000274658203, 0.6812000274658203, 0.6811000108718872, 0.6809999942779541, 0.6809999942779541, 0.6809999942779541, 0.680899977684021, 0.680899977684021, 0.680899977684021, 0.680899977684021, 0.6808000206947327, 0.6808000206947327, 0.6808000206947327, 0.6808000206947327, 0.6807000041007996, 0.6807000041007996, 0.6805999875068665, 0.6804999709129333, -2.084399938583374, -2.3341000080108643, -2.09060001373291, -1.5426000356674194, -2.0097999572753906, -1.784600019454956, -1.9187999963760376, -1.5742000341415405, -1.4837000370025635, -1.6605000495910645, -1.7395000457763672, -2.007999897003174, -1.3948999643325806, -1.5898000001907349, -1.4996999502182007, -1.8264000415802002, -1.0103000402450562, -1.289199948310852, -1.0125000476837158, -1.291100025177002, -1.684499979019165, -1.4107999801635742, -1.2963999509811401, -1.169600009918213, -1.0223000049591064, -1.023300051689148, -0.8479999899864197, -0.6320000290870667, -1.1754000186920166, -0.8495000004768372, -1.4220000505447388, 0.6837999820709229, 0.6834999918937683, 0.6832000017166138, 0.6829000115394592, 0.6827999949455261, 0.682699978351593, 0.682699978351593, 0.6826000213623047, 0.6825000047683716, 0.6823999881744385, 0.6822999715805054, 0.682200014591217, 0.682200014591217, 0.6819999814033508, 0.6819000244140625, 0.6819000244140625, 0.6818000078201294, 0.6816999912261963, 0.6815999746322632, 0.6815999746322632, 0.6815999746322632, 0.6815000176429749, 0.6814000010490417, 0.6812999844551086, 0.6812999844551086, 0.6812999844551086, 0.6812999844551086, 0.6812000274658203, 0.6812000274658203, 0.6811000108718872, 0.6809999942779541, -1.9872000217437744, -2.0882999897003174, -2.337599992752075, -2.095599889755249, -1.9083000421524048, -1.5729000568389893, -1.6569000482559204, -1.5771000385284424, -1.3896000385284424, -1.8228000402450562, -1.284000039100647, -2.014899969100952, -1.1606999635696411, -1.6820000410079956, -1.598099946975708, -1.162600040435791, -1.76419997215271, -1.510599970817566, -1.2934000492095947, -1.8432999849319458, -1.4147000312805176, -1.5189000368118286, -1.416599988937378, -0.6284999847412109, -0.8478000164031982, -1.0255000591278076, -1.0259000062942505, -0.6331999897956848, -0.8508999943733215, -0.8515999913215637, -1.3098000288009644, 0.6827999949455261, 0.682699978351593, 0.6826000213623047, 0.6825000047683716, 0.6822999715805054, 0.6822999715805054, 0.6822999715805054, 0.6819999814033508, 0.6819000244140625, 0.6819000244140625, 0.6819000244140625, 0.6819000244140625, 0.6819000244140625, 0.6818000078201294, 0.6816999912261963, 0.6815999746322632, 0.6815999746322632, 0.6815000176429749, 0.6815000176429749, 0.6815000176429749, 0.6815000176429749, 0.6815000176429749, 0.6814000010490417, 0.6814000010490417, 0.6814000010490417, 0.6812999844551086, 0.6812999844551086, 0.6812999844551086, 0.6812999844551086, 0.6812000274658203, 0.6811000108718872, 0.680899977684021, -2.1017000675201416, -2.359600067138672, -2.019700050354004, -1.7821999788284302, -1.7157000303268433, -1.9747999906539917, -1.7896000146865845, -1.5642999410629272, -2.1570000648498535, -1.5806000232696533, -1.944700002670288, -1.3939000368118286, -1.67330002784729, -1.594499945640564, -1.6800999641418457, -1.5068000555038452, -1.0149999856948853, -1.4056999683380127, -1.169700026512146, -1.5182000398635864, -1.302899956703186, -1.0242999792099, -1.3042000532150269, -0.8481000065803528, -1.1761000156402588, -1.308899998664856, -0.6359000205993652, -0.6363999843597412, -0.8529000282287598, 0.029999999329447746, -0.8540999889373779, -0.854200005531311, -1.4336999654769897, 0.6841999888420105, 0.6829000115394592, 0.6827999949455261, 0.6827999949455261, 0.682699978351593, 0.6826000213623047, 0.6826000213623047, 0.6825000047683716, 0.6825000047683716, 0.6822999715805054, 0.6822999715805054, 0.6822999715805054, 0.6822999715805054, 0.6822999715805054, 0.6822999715805054, 0.682200014591217, 0.682200014591217, 0.6820999979972839, 0.6820999979972839, 0.6820999979972839, 0.6819999814033508, 0.6819000244140625, 0.6819000244140625, 0.6819000244140625, 0.6819000244140625, 0.6818000078201294, 0.6818000078201294, 0.6818000078201294, 0.6816999912261963, 0.6816999912261963, 0.6816999912261963, 0.6815999746322632, 0.6815999746322632, -2.343899965286255, -2.1180999279022217, -1.7853000164031982, -1.7339999675750732, -2.148099899291992, -1.998900055885315, -1.8111000061035156, -1.6679999828338623, -1.4926999807357788, -2.0624001026153564, -1.6708999872207642, -1.4036999940872192, -1.9630999565124512, -1.406599998474121, -1.5133999586105347, -1.1668000221252441, -1.297700047492981, -1.608199954032898, -1.4128999710083008, -1.1684000492095947, -1.0197999477386475, -0.8442000150680542, -1.301200032234192, -1.0214999914169312, -1.6129000186920166, -1.0257999897003174, -0.8504999876022339, -0.35910001397132874, -0.6377999782562256, -1.6230000257492065, -0.8547999858856201, -1.0334999561309814, -1.3176000118255615, 0.6833999752998352, 0.6832000017166138, 0.6832000017166138, 0.6830999851226807, 0.6829000115394592, 0.6829000115394592, 0.682699978351593, 0.6826000213623047, 0.6826000213623047, 0.6823999881744385, 0.6822999715805054, 0.6822999715805054, 0.6822999715805054, 0.682200014591217, 0.682200014591217, 0.682200014591217, 0.682200014591217, 0.682200014591217, 0.6820999979972839, 0.6820999979972839, 0.6819999814033508, 0.6819999814033508, 0.6819999814033508, 0.6819999814033508, 0.6819000244140625, 0.6819000244140625, 0.6819000244140625, 0.6819000244140625, 0.6819000244140625, 0.6818000078201294, 0.6818000078201294, -2.329900026321411, -2.101799964904785, -1.9693000316619873, -2.036099910736084, -2.1384999752044678, -1.8015999794006348, -1.805799961090088, -1.385699987411499, -1.7503000497817993, -1.6734999418258667, -1.4021999835968018, -1.507200002670288, -1.9677000045776367, -1.6045000553131104, -1.1649999618530273, -1.6912000179290771, -1.6065000295639038, -1.611299991607666, -1.5190000534057617, -1.1717000007629395, -1.3016999959945679, -1.0227999687194824, -0.8461999893188477, -0.6349999904632568, -0.8528000116348267, -1.3097000122070312, -0.8535000085830688, -0.6373999714851379, -0.8543000221252441, -1.427299976348877, -1.311900019645691, -1.035599946975708, 0.6840000152587891, 0.6840000152587891, 0.6833999752998352, 0.6833000183105469, 0.6833000183105469, 0.6832000017166138, 0.6832000017166138, 0.6829000115394592, 0.6829000115394592, 0.6829000115394592, 0.6827999949455261, 0.682699978351593, 0.682699978351593, 0.682699978351593, 0.6826000213623047, 0.6826000213623047, 0.6826000213623047, 0.6825000047683716, 0.6825000047683716, 0.6823999881744385, 0.6822999715805054, 0.6822999715805054, 0.6822999715805054, 0.6822999715805054, 0.682200014591217, 0.682200014591217, 0.682200014591217, 0.682200014591217, 0.682200014591217, 0.682200014591217, 0.6820999979972839, 0.6820999979972839, -2.0732998847961426, -2.3359999656677246, -1.9900000095367432, -2.1456000804901123, -1.805799961090088, -1.4886000156402588, -1.9503999948501587, -1.6779999732971191, -1.7553999423980713, -1.5963000059127808, -1.5973000526428223, -2.0787999629974365, -1.8371000289916992, -1.6022000312805176, -1.5126999616622925, -1.6930999755859375, -1.2985999584197998, -0.8421000242233276, -1.4156999588012695, -0.8489000201225281, -1.1780999898910522, -0.8515999913215637, -0.8518999814987183, -0.8522999882698059, -1.4239000082015991, -0.3598000109195709, -0.8537999987602234, -1.3128000497817993, -1.1825000047683716, -1.3149000406265259, -1.0328999757766724, -1.4362000226974487, 0.6854000091552734, 0.6851000189781189, 0.6844000220298767, 0.6841999888420105, 0.6840999722480774, 0.6840999722480774, 0.6840000152587891, 0.6840000152587891, 0.683899998664856, 0.6837999820709229, 0.6837999820709229, 0.6837999820709229, 0.6837999820709229, 0.6837999820709229, 0.6837000250816345, 0.6837000250816345, 0.6836000084877014, 0.6834999918937683, 0.6833999752998352, 0.6833999752998352, 0.6833999752998352, 0.6833999752998352, 0.6833999752998352, 0.6833000183105469, 0.6833000183105469, 0.6833000183105469, 0.6833000183105469, 0.6832000017166138, 0.6832000017166138, 0.6832000017166138, 0.6830999851226807, 0.6830999851226807, 0.6829000115394592, -2.1494998931884766, -2.4040000438690186, -2.1577999591827393, -2.0018999576568604, -1.8198000192642212, -1.6782000064849854, -2.0755999088287354, -1.833899974822998, -1.6861000061035156, -1.6013000011444092, -1.767199993133545, -1.5133999586105347, -1.6065000295639038, -1.6131000518798828, -0.8490999937057495, -1.9825999736785889, -1.3079999685287476, -1.4248000383377075, -1.4256000518798828, -1.5302000045776367, -1.3116999864578247, -1.1829999685287476, -1.0322999954223633, -1.4316999912261963, -0.8550000190734863, -0.8550999760627747, -1.0339000225067139, -1.035099983215332, -1.186900019645691, -0.857699990272522, -1.3238999843597412, 0.6858999729156494, 0.6858000159263611, 0.6858000159263611, 0.685699999332428, 0.6855000257492065, 0.6854000091552734, 0.6854000091552734, 0.6852999925613403, 0.6852999925613403, 0.6852999925613403, 0.6851999759674072, 0.6851999759674072, 0.6851999759674072, 0.6851999759674072, 0.6851999759674072, 0.6851000189781189, 0.6851000189781189, 0.6851000189781189, 0.6850000023841858, 0.6850000023841858, 0.6850000023841858, 0.6850000023841858, 0.6848999857902527, 0.6848999857902527, 0.6848999857902527, 0.6848999857902527, 0.6848999857902527, 0.6848999857902527, 0.6848999857902527, 0.6848000288009644, 0.6848000288009644, 0.6847000122070312, 0.6848000288009644, 0.6847000122070312, 0.6847000122070312, -2.171600103378296, -2.435499906539917, -2.0237998962402344, -2.188800096511841, -2.090399980545044, -1.8493000268936157, -1.6191999912261963, -1.7864999771118164, -1.6233999729156494, -1.7098000049591064, -1.3152999877929688, -1.6291999816894531, -1.867799997329712, -1.9996999502182007, -1.5377999544143677, -1.5398000478744507, -1.437000036239624, -1.191499948501587, -1.0420000553131104, -0.864300012588501, -1.3265000581741333, -0.8657000064849854, -0.6471999883651733, -1.4433000087738037, -0.6478000283241272, -0.6484000086784363, -1.0458999872207642, -0.8669999837875366, -1.045799970626831, -0.8669999837875366, -1.729200005531311, -1.4458999633789062, -1.1979999542236328, 0.6862000226974487, 0.6859999895095825, 0.685699999332428, 0.685699999332428, 0.685699999332428, 0.685699999332428, 0.685699999332428, 0.6855999827384949, 0.6855999827384949, 0.6855999827384949, 0.6855999827384949, 0.6855000257492065, 0.6855000257492065, 0.6854000091552734, 0.6854000091552734, 0.6854000091552734, 0.6852999925613403, 0.6852999925613403, 0.6852999925613403, 0.6851999759674072, 0.6851999759674072, 0.6851999759674072, 0.6851999759674072, 0.6851999759674072, 0.6851000189781189, 0.6851000189781189, 0.6851000189781189, 0.6851000189781189, 0.6851000189781189, 0.6851000189781189, 0.6851000189781189, 0.6850000023841858, 0.6850000023841858, 0.6848999857902527, -2.1809000968933105, -2.188999891281128, -2.448199987411499, -1.6174999475479126, -1.7029999494552612, -2.1064000129699707, -1.9912999868392944, -1.6217999458312988, -1.7884000539779663, -1.5307999849319458, -2.054500102996826, -1.8657000064849854, -1.5353000164031982, -1.7160999774932861, -1.868299961090088, -1.6312999725341797, -1.4355000257492065, -1.4357999563217163, -1.4357999563217163, -1.3208999633789062, -1.3214000463485718, -0.6420000195503235, -1.1913000345230103, -1.1923999786376953, -1.3236000537872314, -0.644599974155426, -0.8640999794006348, -0.8669000267982483, -0.36809998750686646, -0.8682000041007996, -0.8677999973297119, 0.6866000294685364, 0.6861000061035156, 0.6858999729156494, 0.6858999729156494, 0.6858000159263611, 0.6858000159263611, 0.6858000159263611, 0.685699999332428, 0.685699999332428, 0.6855999827384949, 0.6855999827384949, 0.6855999827384949, 0.6855999827384949, 0.6855999827384949, 0.6855000257492065, 0.6855000257492065, 0.6855000257492065, 0.6855000257492065, 0.6855000257492065, 0.6855000257492065, 0.6854000091552734, 0.6854000091552734, 0.6854000091552734, 0.6854000091552734, 0.6854000091552734, 0.6854000091552734, 0.6854000091552734, 0.6852999925613403, 0.6852999925613403, 0.6852999925613403, 0.6851000189781189, 0.6851999759674072, 0.6850000023841858, 0.6850000023841858, -1.9665000438690186, -2.185699939727783, -2.1972999572753906, -2.039099931716919, -1.850100040435791, -2.455899953842163, -1.8580000400543213, -1.7870999574661255, -2.112499952316284, -1.7160999774932861, -1.6303000450134277, -1.631700038909912, -1.538599967956543, -1.718999981880188, -1.1898000240325928, -1.63510000705719, -1.3220000267028809, -1.541599988937378, -0.8646000027656555, -0.866100013256073, -0.6478000283241272, -1.4438999891281128, -1.4443000555038452, -0.6492999792098999, -0.6488000154495239, -0.6496999859809875, -1.4469000101089478, -1.3315999507904053, -1.048699975013733, -0.8684999942779541, -1.0491000413894653, -1.202299952507019, -1.3353999853134155, 0.6862000226974487, 0.6861000061035156, 0.6859999895095825, 0.6859999895095825, 0.6859999895095825, 0.6859999895095825, 0.6858999729156494, 0.6858999729156494, 0.6858999729156494, 0.6858999729156494, 0.6858000159263611, 0.6858000159263611, 0.6858000159263611, 0.6858000159263611, 0.6858000159263611, 0.6858000159263611, 0.6858000159263611, 0.685699999332428, 0.685699999332428, 0.685699999332428, 0.685699999332428, 0.6855999827384949, 0.6855999827384949, 0.6855999827384949, 0.6855999827384949, 0.6855999827384949, 0.6855999827384949, 0.6855000257492065, 0.6855000257492065, 0.6855000257492065, 0.6854000091552734, 0.6852999925613403, 0.6852999925613403, -2.446500062942505, -2.0350000858306885, -2.1998000144958496, -1.7077000141143799, -2.21589994430542, -2.112499952316284, -1.4297000169754028, -1.8667000532150269, -1.716599941253662, -1.63100004196167, -2.001499891281128, -1.319200038909912, -1.1913000345230103, -1.4394999742507935, -1.6374000310897827, -1.5435999631881714, -1.802299976348877, -1.8772000074386597, -1.5454000234603882, -1.442199945449829, -1.6402000188827515, -1.0439000129699707, -0.8654000163078308, -0.8659999966621399, -1.044700026512146, -0.6478000283241272, -1.3282999992370605, -0.8673999905586243, -0.6496000289916992, -1.0468000173568726, -1.3310999870300293, -1.1995999813079834, -1.0465999841690063, 0.6870999932289124, 0.6869000196456909, 0.6868000030517578, 0.6868000030517578, 0.6866999864578247, 0.6866999864578247, 0.6866999864578247, 0.6866000294685364, 0.6866000294685364, 0.6866000294685364, 0.6866000294685364, 0.6866000294685364, 0.6866000294685364, 0.6865000128746033, 0.6865000128746033, 0.6865000128746033, 0.6865000128746033, 0.6865000128746033, 0.6863999962806702, 0.6863999962806702, 0.6863999962806702, 0.6863999962806702, 0.6863999962806702, 0.6863999962806702, 0.6862999796867371, 0.6862999796867371, 0.6862999796867371, 0.6862999796867371, 0.6862999796867371, 0.6862999796867371, 0.6862999796867371, 0.6862999796867371, 0.6861000061035156, 0.6862000226974487, 0.6862000226974487, 0.6862000226974487, 0.6859999895095825, 0.6858000159263611, -2.4635000228881836, -2.217400074005127, -2.221100091934204, -2.003700017929077, -1.8005000352859497, -1.7218999862670898, -2.065700054168701, -1.5437999963760376, -1.4420000314712524, -1.8782999515533447, -1.6407999992370605, -1.8813999891281128, -1.6439000368118286, -2.1359000205993652, -1.329699993133545, -1.6470999717712402, -1.447700023651123, -1.5528000593185425, -1.448099970817566, -1.3313000202178955, -1.200700044631958, -1.200700044631958, -1.3339999914169312, -1.0505000352859497, -1.7404999732971191, -0.8719000220298767, -1.0527000427246094, -1.052899956703186, -0.8730000257492065, -0.8729000091552734, 0.6870999932289124, 0.6869999766349792, 0.6869000196456909, 0.6868000030517578, 0.6868000030517578, 0.6868000030517578, 0.6866999864578247, 0.6866999864578247, 0.6866999864578247, 0.6866000294685364, 0.6866000294685364, 0.6866000294685364, 0.6866000294685364, 0.6866000294685364, 0.6865000128746033, 0.6865000128746033, 0.6865000128746033, 0.6865000128746033, 0.6865000128746033, 0.6865000128746033, 0.6865000128746033, 0.6865000128746033, 0.6865000128746033, 0.6865000128746033, 0.6865000128746033, 0.6863999962806702, 0.6863999962806702, 0.6863999962806702, 0.6863999962806702, 0.6863999962806702, 0.6863999962806702, 0.6863999962806702, 0.6862999796867371, 0.6862999796867371, 0.6862999796867371, 0.6862999796867371, 0.6862000226974487, 0.6862999796867371, 0.6862999796867371, 0.6862999796867371, 0.6862000226974487, -2.221400022506714, -2.2225000858306885, -1.8705999851226807, -2.1191999912261963, -2.0638999938964844, -2.488300085067749, -1.8046000003814697, -1.5470000505447388, -1.3272000551223755, -1.5475000143051147, -2.014899969100952, -1.7307000160217285, -1.731600046157837, -1.4458999633789062, -1.6456999778747559, -1.886199951171875, -1.6461000442504883, -1.447700023651123, -1.3316999673843384, -1.6484999656677246, -1.1996999979019165, -1.333299994468689, -1.451799988746643, -1.0498000383377075, -0.8697999715805054, -1.0506999492645264, -1.0506999492645264, -1.204699993133545, -0.8726999759674072, -0.8730000257492065, 0.6875, 0.6873000264167786, 0.6873000264167786, 0.6869000196456909, 0.6868000030517578, 0.6868000030517578, 0.6868000030517578, 0.6868000030517578, 0.6866999864578247, 0.6866999864578247, 0.6866999864578247, 0.6866999864578247, 0.6866999864578247, 0.6866999864578247, 0.6866999864578247, 0.6866999864578247, 0.6866000294685364, 0.6866000294685364, 0.6866000294685364, 0.6866000294685364, 0.6866000294685364, 0.6866000294685364, 0.6866000294685364, 0.6865000128746033, 0.6865000128746033, 0.6865000128746033, 0.6865000128746033, 0.6865000128746033, 0.6865000128746033, 0.6865000128746033, 0.6865000128746033, 0.6865000128746033, 0.6865000128746033, 0.6865000128746033, 0.6865000128746033, 0.6865000128746033, 0.6865000128746033, 0.6862000226974487, 0.6863999962806702, 0.6862000226974487, -2.218400001525879, -2.4827001094818115, -2.0053999423980713, -1.6367000341415405, -2.068700075149536, -1.8782000541687012, -1.7273000478744507, -2.2316999435424805, -1.5480999946594238, -2.1280999183654785, -1.881700038909912, -1.5501999855041504, -1.812000036239624, -1.645799994468689, -1.7338000535964966, -1.3308000564575195, -1.3324999809265137, -1.649399995803833, -1.3339999914169312, -1.2032999992370605, -1.2038999795913696, -1.4539999961853027, -1.4549000263214111, -1.455299973487854, -1.0534000396728516, -1.0530999898910522, -0.8733000159263611, -0.8740000128746033, -0.8733999729156494, -0.8737999796867371], \"Category\": [\"Default\", \"Default\", \"Default\", \"Default\", \"Default\", \"Default\", \"Default\", \"Default\", \"Default\", \"Default\", \"Default\", \"Default\", \"Default\", \"Default\", \"Default\", \"Default\", \"Default\", \"Default\", \"Default\", \"Default\", \"Default\", \"Default\", \"Default\", \"Default\", \"Default\", \"Default\", \"Default\", \"Default\", \"Default\", \"Default\", \"Topic1\", \"Topic1\", \"Topic1\", \"Topic1\", \"Topic1\", \"Topic1\", \"Topic1\", \"Topic1\", \"Topic1\", \"Topic1\", \"Topic1\", \"Topic1\", \"Topic1\", \"Topic1\", \"Topic1\", \"Topic1\", \"Topic1\", \"Topic1\", \"Topic1\", \"Topic1\", \"Topic1\", \"Topic1\", \"Topic1\", \"Topic1\", \"Topic1\", \"Topic1\", \"Topic1\", \"Topic1\", \"Topic1\", \"Topic1\", \"Topic2\", \"Topic2\", \"Topic2\", \"Topic2\", \"Topic2\", \"Topic2\", \"Topic2\", \"Topic2\", \"Topic2\", \"Topic2\", \"Topic2\", \"Topic2\", \"Topic2\", \"Topic2\", \"Topic2\", \"Topic2\", \"Topic2\", \"Topic2\", \"Topic2\", \"Topic2\", \"Topic2\", \"Topic2\", \"Topic2\", \"Topic2\", \"Topic2\", \"Topic2\", \"Topic2\", \"Topic2\", \"Topic2\", \"Topic2\", \"Topic2\", \"Topic2\", \"Topic2\", \"Topic2\", \"Topic2\", \"Topic2\", \"Topic2\", \"Topic2\", \"Topic2\", \"Topic2\", \"Topic2\", \"Topic2\", \"Topic2\", \"Topic2\", \"Topic2\", \"Topic2\", \"Topic2\", \"Topic2\", \"Topic2\", \"Topic2\", \"Topic2\", \"Topic2\", \"Topic2\", \"Topic2\", \"Topic2\", \"Topic2\", \"Topic2\", \"Topic2\", \"Topic2\", \"Topic2\", \"Topic2\", \"Topic2\", \"Topic2\", \"Topic3\", \"Topic3\", \"Topic3\", \"Topic3\", \"Topic3\", \"Topic3\", \"Topic3\", \"Topic3\", \"Topic3\", \"Topic3\", \"Topic3\", \"Topic3\", \"Topic3\", \"Topic3\", \"Topic3\", \"Topic3\", \"Topic3\", \"Topic3\", \"Topic3\", \"Topic3\", \"Topic3\", \"Topic3\", \"Topic3\", \"Topic3\", \"Topic3\", \"Topic3\", \"Topic3\", \"Topic3\", \"Topic3\", \"Topic3\", \"Topic3\", \"Topic3\", \"Topic3\", \"Topic3\", \"Topic3\", \"Topic3\", \"Topic3\", \"Topic3\", \"Topic3\", \"Topic3\", \"Topic3\", \"Topic3\", \"Topic3\", \"Topic3\", \"Topic3\", \"Topic3\", \"Topic3\", \"Topic3\", \"Topic3\", \"Topic3\", \"Topic3\", \"Topic3\", \"Topic3\", \"Topic3\", \"Topic3\", \"Topic3\", \"Topic3\", \"Topic3\", \"Topic3\", \"Topic3\", \"Topic3\", \"Topic3\", \"Topic3\", \"Topic3\", \"Topic3\", \"Topic4\", \"Topic4\", \"Topic4\", \"Topic4\", \"Topic4\", \"Topic4\", \"Topic4\", \"Topic4\", \"Topic4\", \"Topic4\", \"Topic4\", \"Topic4\", \"Topic4\", \"Topic4\", \"Topic4\", \"Topic4\", \"Topic4\", \"Topic4\", \"Topic4\", \"Topic4\", \"Topic4\", \"Topic4\", \"Topic4\", \"Topic4\", \"Topic4\", \"Topic4\", \"Topic4\", \"Topic4\", \"Topic4\", \"Topic4\", \"Topic4\", \"Topic4\", \"Topic4\", \"Topic4\", \"Topic4\", \"Topic4\", \"Topic4\", \"Topic4\", \"Topic4\", \"Topic4\", \"Topic4\", \"Topic4\", \"Topic4\", \"Topic4\", \"Topic4\", \"Topic4\", \"Topic4\", \"Topic4\", \"Topic4\", \"Topic4\", \"Topic4\", \"Topic4\", \"Topic4\", \"Topic4\", \"Topic4\", \"Topic4\", \"Topic4\", \"Topic4\", \"Topic4\", \"Topic4\", \"Topic4\", \"Topic4\", \"Topic4\", \"Topic4\", \"Topic4\", \"Topic5\", \"Topic5\", \"Topic5\", \"Topic5\", \"Topic5\", \"Topic5\", \"Topic5\", \"Topic5\", \"Topic5\", \"Topic5\", \"Topic5\", \"Topic5\", \"Topic5\", \"Topic5\", \"Topic5\", \"Topic5\", \"Topic5\", \"Topic5\", \"Topic5\", \"Topic5\", \"Topic5\", \"Topic5\", \"Topic5\", \"Topic5\", \"Topic5\", \"Topic5\", \"Topic5\", \"Topic5\", \"Topic5\", \"Topic5\", \"Topic5\", \"Topic5\", \"Topic5\", \"Topic5\", \"Topic5\", \"Topic5\", \"Topic5\", \"Topic5\", \"Topic5\", \"Topic5\", \"Topic5\", \"Topic5\", \"Topic5\", \"Topic5\", \"Topic5\", \"Topic5\", \"Topic5\", \"Topic5\", \"Topic5\", \"Topic5\", \"Topic5\", \"Topic5\", \"Topic5\", \"Topic5\", \"Topic5\", \"Topic5\", \"Topic5\", \"Topic5\", \"Topic5\", \"Topic5\", \"Topic5\", \"Topic5\", \"Topic5\", \"Topic6\", \"Topic6\", \"Topic6\", \"Topic6\", \"Topic6\", \"Topic6\", \"Topic6\", \"Topic6\", \"Topic6\", \"Topic6\", \"Topic6\", \"Topic6\", \"Topic6\", \"Topic6\", \"Topic6\", \"Topic6\", \"Topic6\", \"Topic6\", \"Topic6\", \"Topic6\", \"Topic6\", \"Topic6\", \"Topic6\", \"Topic6\", \"Topic6\", \"Topic6\", \"Topic6\", \"Topic6\", \"Topic6\", \"Topic6\", \"Topic6\", \"Topic6\", \"Topic6\", \"Topic6\", \"Topic6\", \"Topic6\", \"Topic6\", \"Topic6\", \"Topic6\", \"Topic6\", \"Topic6\", \"Topic6\", \"Topic6\", \"Topic6\", \"Topic6\", \"Topic6\", \"Topic6\", \"Topic6\", \"Topic6\", \"Topic6\", \"Topic6\", \"Topic6\", \"Topic6\", \"Topic6\", \"Topic6\", \"Topic6\", \"Topic6\", \"Topic6\", \"Topic6\", \"Topic6\", \"Topic6\", \"Topic6\", \"Topic6\", \"Topic6\", \"Topic6\", \"Topic7\", \"Topic7\", \"Topic7\", \"Topic7\", \"Topic7\", \"Topic7\", \"Topic7\", \"Topic7\", \"Topic7\", \"Topic7\", \"Topic7\", \"Topic7\", \"Topic7\", \"Topic7\", \"Topic7\", \"Topic7\", \"Topic7\", \"Topic7\", \"Topic7\", \"Topic7\", \"Topic7\", \"Topic7\", \"Topic7\", \"Topic7\", \"Topic7\", \"Topic7\", \"Topic7\", \"Topic7\", \"Topic7\", \"Topic7\", \"Topic7\", \"Topic7\", \"Topic7\", \"Topic7\", \"Topic7\", \"Topic7\", \"Topic7\", \"Topic7\", \"Topic7\", \"Topic7\", \"Topic7\", \"Topic7\", \"Topic7\", \"Topic7\", \"Topic7\", \"Topic7\", \"Topic7\", \"Topic7\", \"Topic7\", \"Topic7\", \"Topic7\", \"Topic7\", \"Topic7\", \"Topic7\", \"Topic7\", \"Topic7\", \"Topic7\", \"Topic7\", \"Topic7\", \"Topic7\", \"Topic7\", \"Topic7\", \"Topic7\", \"Topic8\", \"Topic8\", \"Topic8\", \"Topic8\", \"Topic8\", \"Topic8\", \"Topic8\", \"Topic8\", \"Topic8\", \"Topic8\", \"Topic8\", \"Topic8\", \"Topic8\", \"Topic8\", \"Topic8\", \"Topic8\", \"Topic8\", \"Topic8\", \"Topic8\", \"Topic8\", \"Topic8\", \"Topic8\", \"Topic8\", \"Topic8\", \"Topic8\", \"Topic8\", \"Topic8\", \"Topic8\", \"Topic8\", \"Topic8\", \"Topic8\", \"Topic8\", \"Topic8\", \"Topic8\", \"Topic8\", \"Topic8\", \"Topic8\", \"Topic8\", \"Topic8\", \"Topic8\", \"Topic8\", \"Topic8\", \"Topic8\", \"Topic8\", \"Topic8\", \"Topic8\", \"Topic8\", \"Topic8\", \"Topic8\", \"Topic8\", \"Topic8\", \"Topic8\", \"Topic8\", \"Topic8\", \"Topic8\", \"Topic8\", \"Topic8\", \"Topic8\", \"Topic8\", \"Topic8\", \"Topic8\", \"Topic8\", \"Topic9\", \"Topic9\", \"Topic9\", \"Topic9\", \"Topic9\", \"Topic9\", \"Topic9\", \"Topic9\", \"Topic9\", \"Topic9\", \"Topic9\", \"Topic9\", \"Topic9\", \"Topic9\", \"Topic9\", \"Topic9\", \"Topic9\", \"Topic9\", \"Topic9\", \"Topic9\", \"Topic9\", \"Topic9\", \"Topic9\", \"Topic9\", \"Topic9\", \"Topic9\", \"Topic9\", \"Topic9\", \"Topic9\", \"Topic9\", \"Topic9\", \"Topic9\", \"Topic9\", \"Topic9\", \"Topic9\", \"Topic9\", \"Topic9\", \"Topic9\", \"Topic9\", \"Topic9\", \"Topic9\", \"Topic9\", \"Topic9\", \"Topic9\", \"Topic9\", \"Topic9\", \"Topic9\", \"Topic9\", \"Topic9\", \"Topic9\", \"Topic9\", \"Topic9\", \"Topic9\", \"Topic9\", \"Topic9\", \"Topic9\", \"Topic9\", \"Topic9\", \"Topic9\", \"Topic9\", \"Topic9\", \"Topic9\", \"Topic9\", \"Topic9\", \"Topic9\", \"Topic10\", \"Topic10\", \"Topic10\", \"Topic10\", \"Topic10\", \"Topic10\", \"Topic10\", \"Topic10\", \"Topic10\", \"Topic10\", \"Topic10\", \"Topic10\", \"Topic10\", \"Topic10\", \"Topic10\", \"Topic10\", \"Topic10\", \"Topic10\", \"Topic10\", \"Topic10\", \"Topic10\", \"Topic10\", \"Topic10\", \"Topic10\", \"Topic10\", \"Topic10\", \"Topic10\", \"Topic10\", \"Topic10\", \"Topic10\", \"Topic10\", \"Topic10\", \"Topic10\", \"Topic10\", \"Topic10\", \"Topic10\", \"Topic10\", \"Topic10\", \"Topic10\", \"Topic10\", \"Topic10\", \"Topic10\", \"Topic10\", \"Topic10\", \"Topic10\", \"Topic10\", \"Topic10\", \"Topic10\", \"Topic10\", \"Topic10\", \"Topic10\", \"Topic10\", \"Topic10\", \"Topic10\", \"Topic10\", \"Topic10\", \"Topic10\", \"Topic10\", \"Topic10\", \"Topic10\", \"Topic10\", \"Topic10\", \"Topic10\", \"Topic10\", \"Topic10\", \"Topic10\", \"Topic11\", \"Topic11\", \"Topic11\", \"Topic11\", \"Topic11\", \"Topic11\", \"Topic11\", \"Topic11\", \"Topic11\", \"Topic11\", \"Topic11\", \"Topic11\", \"Topic11\", \"Topic11\", \"Topic11\", \"Topic11\", \"Topic11\", \"Topic11\", \"Topic11\", \"Topic11\", \"Topic11\", \"Topic11\", \"Topic11\", \"Topic11\", \"Topic11\", \"Topic11\", \"Topic11\", \"Topic11\", \"Topic11\", \"Topic11\", \"Topic11\", \"Topic11\", \"Topic11\", \"Topic11\", \"Topic11\", \"Topic11\", \"Topic11\", \"Topic11\", \"Topic11\", \"Topic11\", \"Topic11\", \"Topic11\", \"Topic11\", \"Topic11\", \"Topic11\", \"Topic11\", \"Topic11\", \"Topic11\", \"Topic11\", \"Topic11\", \"Topic11\", \"Topic11\", \"Topic11\", \"Topic11\", \"Topic11\", \"Topic11\", \"Topic11\", \"Topic11\", \"Topic11\", \"Topic11\", \"Topic11\", \"Topic11\", \"Topic11\", \"Topic12\", \"Topic12\", \"Topic12\", \"Topic12\", \"Topic12\", \"Topic12\", \"Topic12\", \"Topic12\", \"Topic12\", \"Topic12\", \"Topic12\", \"Topic12\", \"Topic12\", \"Topic12\", \"Topic12\", \"Topic12\", \"Topic12\", \"Topic12\", \"Topic12\", \"Topic12\", \"Topic12\", \"Topic12\", \"Topic12\", \"Topic12\", \"Topic12\", \"Topic12\", \"Topic12\", \"Topic12\", \"Topic12\", \"Topic12\", \"Topic12\", \"Topic12\", \"Topic12\", \"Topic12\", \"Topic12\", \"Topic12\", \"Topic12\", \"Topic12\", \"Topic12\", \"Topic12\", \"Topic12\", \"Topic12\", \"Topic12\", \"Topic12\", \"Topic12\", \"Topic12\", \"Topic12\", \"Topic12\", \"Topic12\", \"Topic12\", \"Topic12\", \"Topic12\", \"Topic12\", \"Topic12\", \"Topic12\", \"Topic12\", \"Topic12\", \"Topic12\", \"Topic12\", \"Topic12\", \"Topic12\", \"Topic12\", \"Topic12\", \"Topic12\", \"Topic13\", \"Topic13\", \"Topic13\", \"Topic13\", \"Topic13\", \"Topic13\", \"Topic13\", \"Topic13\", \"Topic13\", \"Topic13\", \"Topic13\", \"Topic13\", \"Topic13\", \"Topic13\", \"Topic13\", \"Topic13\", \"Topic13\", \"Topic13\", \"Topic13\", \"Topic13\", \"Topic13\", \"Topic13\", \"Topic13\", \"Topic13\", \"Topic13\", \"Topic13\", \"Topic13\", \"Topic13\", \"Topic13\", \"Topic13\", \"Topic13\", \"Topic13\", \"Topic13\", \"Topic13\", \"Topic13\", \"Topic13\", \"Topic13\", \"Topic13\", \"Topic13\", \"Topic13\", \"Topic13\", \"Topic13\", \"Topic13\", \"Topic13\", \"Topic13\", \"Topic13\", \"Topic13\", \"Topic13\", \"Topic13\", \"Topic13\", \"Topic13\", \"Topic13\", \"Topic13\", \"Topic13\", \"Topic13\", \"Topic13\", \"Topic13\", \"Topic13\", \"Topic13\", \"Topic13\", \"Topic13\", \"Topic13\", \"Topic13\", \"Topic13\", \"Topic14\", \"Topic14\", \"Topic14\", \"Topic14\", \"Topic14\", \"Topic14\", \"Topic14\", \"Topic14\", \"Topic14\", \"Topic14\", \"Topic14\", \"Topic14\", \"Topic14\", \"Topic14\", \"Topic14\", \"Topic14\", \"Topic14\", \"Topic14\", \"Topic14\", \"Topic14\", \"Topic14\", \"Topic14\", \"Topic14\", \"Topic14\", \"Topic14\", \"Topic14\", \"Topic14\", \"Topic14\", \"Topic14\", \"Topic14\", \"Topic14\", \"Topic14\", \"Topic14\", \"Topic14\", \"Topic14\", \"Topic14\", \"Topic14\", \"Topic14\", \"Topic14\", \"Topic14\", \"Topic14\", \"Topic14\", \"Topic14\", \"Topic14\", \"Topic14\", \"Topic14\", \"Topic14\", \"Topic14\", \"Topic14\", \"Topic14\", \"Topic14\", \"Topic14\", \"Topic14\", \"Topic14\", \"Topic14\", \"Topic14\", \"Topic14\", \"Topic14\", \"Topic14\", \"Topic14\", \"Topic14\", \"Topic14\", \"Topic14\", \"Topic14\", \"Topic14\", \"Topic14\", \"Topic14\", \"Topic14\", \"Topic15\", \"Topic15\", \"Topic15\", \"Topic15\", \"Topic15\", \"Topic15\", \"Topic15\", \"Topic15\", \"Topic15\", \"Topic15\", \"Topic15\", \"Topic15\", \"Topic15\", \"Topic15\", \"Topic15\", \"Topic15\", \"Topic15\", \"Topic15\", \"Topic15\", \"Topic15\", \"Topic15\", \"Topic15\", \"Topic15\", \"Topic15\", \"Topic15\", \"Topic15\", \"Topic15\", \"Topic15\", \"Topic15\", \"Topic15\", \"Topic15\", \"Topic15\", \"Topic15\", \"Topic15\", \"Topic15\", \"Topic15\", \"Topic15\", \"Topic15\", \"Topic15\", \"Topic15\", \"Topic15\", \"Topic15\", \"Topic15\", \"Topic15\", \"Topic15\", \"Topic15\", \"Topic15\", \"Topic15\", \"Topic15\", \"Topic15\", \"Topic15\", \"Topic15\", \"Topic15\", \"Topic15\", \"Topic15\", \"Topic15\", \"Topic15\", \"Topic15\", \"Topic15\", \"Topic15\", \"Topic15\", \"Topic15\", \"Topic15\", \"Topic15\", \"Topic15\", \"Topic16\", \"Topic16\", \"Topic16\", \"Topic16\", \"Topic16\", \"Topic16\", \"Topic16\", \"Topic16\", \"Topic16\", \"Topic16\", \"Topic16\", \"Topic16\", \"Topic16\", \"Topic16\", \"Topic16\", \"Topic16\", \"Topic16\", \"Topic16\", \"Topic16\", \"Topic16\", \"Topic16\", \"Topic16\", \"Topic16\", \"Topic16\", \"Topic16\", \"Topic16\", \"Topic16\", \"Topic16\", \"Topic16\", \"Topic16\", \"Topic16\", \"Topic16\", \"Topic16\", \"Topic16\", \"Topic16\", \"Topic16\", \"Topic16\", \"Topic16\", \"Topic16\", \"Topic16\", \"Topic16\", \"Topic16\", \"Topic16\", \"Topic16\", \"Topic16\", \"Topic16\", \"Topic16\", \"Topic16\", \"Topic16\", \"Topic16\", \"Topic16\", \"Topic16\", \"Topic16\", \"Topic16\", \"Topic16\", \"Topic16\", \"Topic16\", \"Topic16\", \"Topic16\", \"Topic16\", \"Topic16\", \"Topic16\", \"Topic16\", \"Topic16\", \"Topic16\", \"Topic16\", \"Topic16\", \"Topic17\", \"Topic17\", \"Topic17\", \"Topic17\", \"Topic17\", \"Topic17\", \"Topic17\", \"Topic17\", \"Topic17\", \"Topic17\", \"Topic17\", \"Topic17\", \"Topic17\", \"Topic17\", \"Topic17\", \"Topic17\", \"Topic17\", \"Topic17\", \"Topic17\", \"Topic17\", \"Topic17\", \"Topic17\", \"Topic17\", \"Topic17\", \"Topic17\", \"Topic17\", \"Topic17\", \"Topic17\", \"Topic17\", \"Topic17\", \"Topic17\", \"Topic17\", \"Topic17\", \"Topic17\", \"Topic17\", \"Topic17\", \"Topic17\", \"Topic17\", \"Topic17\", \"Topic17\", \"Topic17\", \"Topic17\", \"Topic17\", \"Topic17\", \"Topic17\", \"Topic17\", \"Topic17\", \"Topic17\", \"Topic17\", \"Topic17\", \"Topic17\", \"Topic17\", \"Topic17\", \"Topic17\", \"Topic17\", \"Topic17\", \"Topic17\", \"Topic17\", \"Topic17\", \"Topic17\", \"Topic17\", \"Topic17\", \"Topic17\", \"Topic17\", \"Topic17\", \"Topic17\", \"Topic18\", \"Topic18\", \"Topic18\", \"Topic18\", \"Topic18\", \"Topic18\", \"Topic18\", \"Topic18\", \"Topic18\", \"Topic18\", \"Topic18\", \"Topic18\", \"Topic18\", \"Topic18\", \"Topic18\", \"Topic18\", \"Topic18\", \"Topic18\", \"Topic18\", \"Topic18\", \"Topic18\", \"Topic18\", \"Topic18\", \"Topic18\", \"Topic18\", \"Topic18\", \"Topic18\", \"Topic18\", \"Topic18\", \"Topic18\", \"Topic18\", \"Topic18\", \"Topic18\", \"Topic18\", \"Topic18\", \"Topic18\", \"Topic18\", \"Topic18\", \"Topic18\", \"Topic18\", \"Topic18\", \"Topic18\", \"Topic18\", \"Topic18\", \"Topic18\", \"Topic18\", \"Topic18\", \"Topic18\", \"Topic18\", \"Topic18\", \"Topic18\", \"Topic18\", \"Topic18\", \"Topic18\", \"Topic18\", \"Topic18\", \"Topic18\", \"Topic18\", \"Topic18\", \"Topic18\", \"Topic18\", \"Topic18\", \"Topic18\", \"Topic18\", \"Topic18\", \"Topic18\", \"Topic18\", \"Topic18\", \"Topic19\", \"Topic19\", \"Topic19\", \"Topic19\", \"Topic19\", \"Topic19\", \"Topic19\", \"Topic19\", \"Topic19\", \"Topic19\", \"Topic19\", \"Topic19\", \"Topic19\", \"Topic19\", \"Topic19\", \"Topic19\", \"Topic19\", \"Topic19\", \"Topic19\", \"Topic19\", \"Topic19\", \"Topic19\", \"Topic19\", \"Topic19\", \"Topic19\", \"Topic19\", \"Topic19\", \"Topic19\", \"Topic19\", \"Topic19\", \"Topic19\", \"Topic19\", \"Topic19\", \"Topic19\", \"Topic19\", \"Topic19\", \"Topic19\", \"Topic19\", \"Topic19\", \"Topic19\", \"Topic19\", \"Topic19\", \"Topic19\", \"Topic19\", \"Topic19\", \"Topic19\", \"Topic19\", \"Topic19\", \"Topic19\", \"Topic19\", \"Topic19\", \"Topic19\", \"Topic19\", \"Topic19\", \"Topic19\", \"Topic19\", \"Topic19\", \"Topic19\", \"Topic19\", \"Topic19\", \"Topic19\", \"Topic19\", \"Topic19\", \"Topic19\", \"Topic19\", \"Topic19\", \"Topic19\", \"Topic19\", \"Topic19\", \"Topic19\", \"Topic19\", \"Topic20\", \"Topic20\", \"Topic20\", \"Topic20\", \"Topic20\", \"Topic20\", \"Topic20\", \"Topic20\", \"Topic20\", \"Topic20\", \"Topic20\", \"Topic20\", \"Topic20\", \"Topic20\", \"Topic20\", \"Topic20\", \"Topic20\", \"Topic20\", \"Topic20\", \"Topic20\", \"Topic20\", \"Topic20\", \"Topic20\", \"Topic20\", \"Topic20\", \"Topic20\", \"Topic20\", \"Topic20\", \"Topic20\", \"Topic20\", \"Topic20\", \"Topic20\", \"Topic20\", \"Topic20\", \"Topic20\", \"Topic20\", \"Topic20\", \"Topic20\", \"Topic20\", \"Topic20\", \"Topic20\", \"Topic20\", \"Topic20\", \"Topic20\", \"Topic20\", \"Topic20\", \"Topic20\", \"Topic20\", \"Topic20\", \"Topic20\", \"Topic20\", \"Topic20\", \"Topic20\", \"Topic20\", \"Topic20\", \"Topic20\", \"Topic20\", \"Topic20\", \"Topic20\", \"Topic20\", \"Topic20\", \"Topic20\", \"Topic20\", \"Topic20\", \"Topic20\", \"Topic20\", \"Topic20\", \"Topic20\", \"Topic20\", \"Topic20\"], \"Freq\": [25.0, 19.0, 19.0, 17.0, 16.0, 15.0, 13.0, 13.0, 12.0, 11.0, 11.0, 10.0, 10.0, 10.0, 9.0, 9.0, 8.0, 8.0, 8.0, 7.0, 7.0, 7.0, 6.0, 6.0, 5.0, 5.0, 5.0, 5.0, 4.0, 4.0, 25.41649627685547, 19.558378219604492, 19.561174392700195, 17.61338233947754, 16.635173797607422, 15.65978717803955, 13.706491470336914, 13.706472396850586, 12.732186317443848, 11.755481719970703, 11.75550651550293, 10.779561996459961, 10.779706001281738, 10.7780179977417, 9.80480670928955, 9.802995681762695, 8.829547882080078, 8.827863693237305, 8.82778549194336, 7.853003978729248, 7.852023601531982, 7.852170944213867, 6.877963542938232, 6.876247882843018, 5.903117656707764, 5.901492595672607, 5.901269435882568, 5.9008612632751465, 4.929843425750732, 4.927803993225098, 4.1251929360441864e-05, 4.122608879697509e-05, 4.122706377529539e-05, 4.1218590922653675e-05, 4.119915683986619e-05, 4.119838558835909e-05, 4.119428194826469e-05, 4.1199713450623676e-05, 4.118671131436713e-05, 4.11803339375183e-05, 4.117978460271843e-05, 4.117263597436249e-05, 4.11788460041862e-05, 4.116960917599499e-05, 4.1164439608110115e-05, 4.11489381804131e-05, 4.113105023861863e-05, 4.1103055991698056e-05, 4.111763337277807e-05, 4.110601366846822e-05, 4.110097870579921e-05, 4.109110523131676e-05, 4.108592474949546e-05, 4.108690336579457e-05, 4.1088020225288346e-05, 4.1076538764173165e-05, 4.1081515519181266e-05, 4.10739412473049e-05, 4.107589484192431e-05, 4.107907443540171e-05, 4.108111170353368e-05, 4.108533539692871e-05, 5.826276174047962e-05, 6.0513360949698836e-05, 5.645378405461088e-05, 5.668851008522324e-05, 5.675731154042296e-05, 5.1165879995096475e-05, 5.403537943493575e-05, 5.0336271669948474e-05, 4.833566345041618e-05, 4.8997717385645956e-05, 4.927586633129977e-05, 4.954703399562277e-05, 4.778478978550993e-05, 4.837080996367149e-05, 4.8859194066608325e-05, 4.8926027375273407e-05, 4.7645669837947935e-05, 4.786299541592598e-05, 4.770427767653018e-05, 4.70906488772016e-05, 4.595314749167301e-05, 4.577562503982335e-05, 4.53481225122232e-05, 4.616544538293965e-05, 4.5840006350772455e-05, 4.472753789741546e-05, 4.418359822011553e-05, 4.490537321544252e-05, 4.4750959204975516e-05, 4.4390875700628385e-05, 4.441434793989174e-05, 4.140951932640746e-05, 4.1309980588266626e-05, 4.1301864257548004e-05, 4.130399975110777e-05, 4.129184890189208e-05, 4.1285602492280304e-05, 4.1279210563516244e-05, 4.1270865040132776e-05, 4.1280662117060274e-05, 4.126280691707507e-05, 4.124810948269442e-05, 4.124350380152464e-05, 4.123355392948724e-05, 4.123775943298824e-05, 4.1235391108784825e-05, 4.123089092900045e-05, 4.123928374610841e-05, 4.12085501011461e-05, 4.120991798117757e-05, 4.121500751352869e-05, 4.121357051189989e-05, 4.12083936680574e-05, 4.1207884351024404e-05, 4.120453741052188e-05, 4.1204417357221246e-05, 4.1200728446710855e-05, 4.120231096749194e-05, 4.1192608478013426e-05, 4.119391815038398e-05, 4.118619472137652e-05, 4.120179437450133e-05, 4.11939290643204e-05, 6.009013668517582e-05, 5.187842543818988e-05, 5.24037895957008e-05, 5.1337603508727625e-05, 5.024165511713363e-05, 4.959072248311713e-05, 5.1261398766655475e-05, 4.910863208351657e-05, 4.978177457815036e-05, 4.973891191184521e-05, 4.979422737960704e-05, 4.76149252790492e-05, 4.8003654228523374e-05, 4.69122824142687e-05, 4.795745917363092e-05, 4.714972237707116e-05, 4.658934994949959e-05, 4.6715449570911005e-05, 4.560343222692609e-05, 4.80297785543371e-05, 4.5956152462167665e-05, 4.5329939894145355e-05, 4.4402720959624276e-05, 4.4648160837823525e-05, 4.546682248474099e-05, 4.325447298469953e-05, 4.3701729737222195e-05, 4.395085488795303e-05, 4.394061761558987e-05, 4.405765503179282e-05, 4.369595262687653e-05, 4.387347144074738e-05, 4.383245686767623e-05, 4.137227369938046e-05, 4.13675770687405e-05, 4.13577254221309e-05, 4.1352050175191835e-05, 4.135056951781735e-05, 4.132619869778864e-05, 4.132241156185046e-05, 4.1301627788925543e-05, 4.129408989683725e-05, 4.130211164010689e-05, 4.1297345887869596e-05, 4.128255750401877e-05, 4.129348963033408e-05, 4.128646833123639e-05, 4.128168075112626e-05, 4.128958244109526e-05, 4.127407737541944e-05, 4.128248110646382e-05, 4.127418651478365e-05, 4.128888758714311e-05, 4.127829015487805e-05, 4.1280214645667e-05, 4.127055581193417e-05, 4.126445128349587e-05, 4.127146894461475e-05, 4.126686690142378e-05, 4.1270566725870594e-05, 4.126305793761276e-05, 4.126206476939842e-05, 4.1268176573794335e-05, 4.127236024942249e-05, 4.1264822357334197e-05, 5.3034636948723346e-05, 5.12597689521499e-05, 5.134747698321007e-05, 5.057704038335942e-05, 4.954309406457469e-05, 4.9667549319565296e-05, 4.90836137032602e-05, 4.8986436013365164e-05, 4.762040407513268e-05, 4.7334884584415704e-05, 4.735289985546842e-05, 4.6693021431565285e-05, 4.7001030907267705e-05, 4.701901343651116e-05, 4.660613558371551e-05, 4.6562414354411885e-05, 4.5531309297075495e-05, 4.511646329774521e-05, 4.376631113700569e-05, 4.257111140759662e-05, 4.3983258365187794e-05, 4.516189801506698e-05, 4.48885366495233e-05, 4.394252027850598e-05, 4.453886140254326e-05, 4.3800664570881054e-05, 4.347138383309357e-05, 4.394502684590407e-05, 4.399539466248825e-05, 4.325106419855729e-05, 4.4133728806627914e-05, 4.381655162433162e-05, 4.360728416941129e-05, 4.141838871873915e-05, 4.1389703255845234e-05, 4.1376002627657726e-05, 4.135030758334324e-05, 4.135284689255059e-05, 4.135214112466201e-05, 4.134422488277778e-05, 4.133540642214939e-05, 4.1329170926474035e-05, 4.133271795581095e-05, 4.1316750866826624e-05, 4.131513924221508e-05, 4.1302377212559804e-05, 4.130337038077414e-05, 4.130860179429874e-05, 4.131007881369442e-05, 4.130585875827819e-05, 4.1295334085589275e-05, 4.127539796172641e-05, 4.127943975618109e-05, 4.128851287532598e-05, 4.128482396481559e-05, 4.128070213482715e-05, 4.128613727516495e-05, 4.12803165090736e-05, 4.127423380850814e-05, 4.127273859921843e-05, 4.126971180085093e-05, 4.127300053369254e-05, 4.127447755308822e-05, 4.1271778172813356e-05, 5.517108002095483e-05, 5.0134600314777344e-05, 4.8780901124700904e-05, 4.88959631184116e-05, 4.961155354976654e-05, 4.956622433383018e-05, 4.9065729399444535e-05, 4.710962457465939e-05, 4.6125351218506694e-05, 4.646916568162851e-05, 4.6247714635683224e-05, 4.7188739699777216e-05, 4.6851524530211464e-05, 4.631799311027862e-05, 4.532815728452988e-05, 4.5660464820684865e-05, 4.423132850206457e-05, 4.454720328794792e-05, 4.476631147554144e-05, 4.514545071288012e-05, 4.410316250869073e-05, 4.557549982564524e-05, 4.478412665775977e-05, 4.4939006329514086e-05, 4.4961638195673004e-05, 4.4194108340889215e-05, 4.393159179016948e-05, 4.4360429455991834e-05, 4.383582199807279e-05, 4.3524312786757946e-05, 4.3718417146010324e-05, 4.3788681068690494e-05, 4.138684016652405e-05, 4.136903953622095e-05, 4.138069925829768e-05, 4.1375140426680446e-05, 4.136112329433672e-05, 4.137006908422336e-05, 4.1354640416102484e-05, 4.134391201660037e-05, 4.134600021643564e-05, 4.1344406781718135e-05, 4.134297705604695e-05, 4.1335537389386445e-05, 4.13470552302897e-05, 4.132882895646617e-05, 4.1337214497616515e-05, 4.13376183132641e-05, 4.1329807572765276e-05, 4.133116817683913e-05, 4.131770765525289e-05, 4.133941911277361e-05, 4.1340426832903177e-05, 4.132810499868356e-05, 4.13156085414812e-05, 4.131610330659896e-05, 4.131392779527232e-05, 4.1326507925987244e-05, 4.1324954509036615e-05, 4.1313945985166356e-05, 4.131551395403221e-05, 4.13040688727051e-05, 4.130887828068808e-05, 4.131030436838046e-05, 4.1312796383863315e-05, 5.0619160901987925e-05, 5.1163391617592424e-05, 5.013243935536593e-05, 4.895375241176225e-05, 4.735999391414225e-05, 4.7320387238869444e-05, 4.7660705604357645e-05, 4.711983274319209e-05, 4.725590770249255e-05, 4.5929260522825643e-05, 4.593070480041206e-05, 4.558269210974686e-05, 4.500324939726852e-05, 4.526068369159475e-05, 4.457443719729781e-05, 4.4795793655794114e-05, 4.469352279556915e-05, 4.411676854942925e-05, 4.440923294168897e-05, 4.3784715671790764e-05, 4.49027975264471e-05, 4.3518073653103784e-05, 4.284558235667646e-05, 4.386217551655136e-05, 4.364968845038675e-05, 4.337973950896412e-05, 4.416470983414911e-05, 4.423969949129969e-05, 4.4015043386025354e-05, 4.358212754596025e-05, 4.318256105761975e-05, 4.3349977204343304e-05, 4.143912883591838e-05, 4.142014586250298e-05, 4.142004036111757e-05, 4.140777309658006e-05, 4.1398816392757e-05, 4.140618329984136e-05, 4.139997690799646e-05, 4.137941505177878e-05, 4.1375267755938694e-05, 4.1382845665793866e-05, 4.137657742830925e-05, 4.1361592593602836e-05, 4.1365670767845586e-05, 4.135874769417569e-05, 4.1352675907546654e-05, 4.137022915529087e-05, 4.135260678594932e-05, 4.135191556997597e-05, 4.135207200306468e-05, 4.135425479034893e-05, 4.134959090151824e-05, 4.13560337619856e-05, 4.135226481594145e-05, 4.1341816540807486e-05, 4.134658593102358e-05, 4.1347320802742615e-05, 4.132792673772201e-05, 4.1345982026541606e-05, 4.133615948376246e-05, 4.133994661970064e-05, 4.1339619201608e-05, 4.1340816096635535e-05, 4.9663634854368865e-05, 5.0268896302441135e-05, 4.934963726554997e-05, 4.704877210315317e-05, 4.8182180762523785e-05, 4.696697578765452e-05, 4.692054426413961e-05, 4.5587388740386814e-05, 4.5394073822535574e-05, 4.560160596156493e-05, 4.56394518550951e-05, 4.55872796010226e-05, 4.4663298467639834e-05, 4.487463957048021e-05, 4.4663247535936534e-05, 4.504142634687014e-05, 4.386393629829399e-05, 4.416412775753997e-05, 4.376195283839479e-05, 4.407326196087524e-05, 4.4521319068735465e-05, 4.396178701426834e-05, 4.384032581583597e-05, 4.359337981441058e-05, 4.335396079113707e-05, 4.329688454163261e-05, 4.30825020885095e-05, 4.288089257897809e-05, 4.333014294388704e-05, 4.3001873564207926e-05, 4.3480184103827924e-05, 4.145834100199863e-05, 4.144025660934858e-05, 4.1435734601691365e-05, 4.142869511269964e-05, 4.14137466577813e-05, 4.141581666772254e-05, 4.141581302974373e-05, 4.140285454923287e-05, 4.1405714000575244e-05, 4.140782402828336e-05, 4.139446173212491e-05, 4.139194788876921e-05, 4.1390801925444975e-05, 4.137953510507941e-05, 4.137762152822688e-05, 4.137730138609186e-05, 4.1369774407939985e-05, 4.137751238886267e-05, 4.1360493924003094e-05, 4.136122151976451e-05, 4.138267831876874e-05, 4.1361545299878344e-05, 4.136537972954102e-05, 4.135416747885756e-05, 4.135605558985844e-05, 4.136228744755499e-05, 4.1368697566213086e-05, 4.135970812058076e-05, 4.134631672059186e-05, 4.136106508667581e-05, 4.135487324674614e-05, 4.927373811369762e-05, 4.9453585234005004e-05, 5.008352309232578e-05, 4.910262578050606e-05, 4.740488657262176e-05, 4.56395027867984e-05, 4.575920684146695e-05, 4.544437615550123e-05, 4.490422361413948e-05, 4.519800131674856e-05, 4.437943425728008e-05, 4.526509655988775e-05, 4.396349686430767e-05, 4.4626307499129325e-05, 4.44939432782121e-05, 4.389192326925695e-05, 4.451693530427292e-05, 4.417807576828636e-05, 4.396190706756897e-05, 4.4280670408625156e-05, 4.37796043115668e-05, 4.38062270404771e-05, 4.369899761513807e-05, 4.2998461140086874e-05, 4.3075804569525644e-05, 4.319263462093659e-05, 4.3177202314836904e-05, 4.2812327592400834e-05, 4.294278551242314e-05, 4.290336073609069e-05, 4.325342524680309e-05, 4.140704913879745e-05, 4.141520548728295e-05, 4.142141915508546e-05, 4.14066671510227e-05, 4.138824078836478e-05, 4.1387149394722655e-05, 4.138821896049194e-05, 4.137356881983578e-05, 4.137921132496558e-05, 4.138265285291709e-05, 4.137019641348161e-05, 4.1367675294168293e-05, 4.136300049140118e-05, 4.137271025683731e-05, 4.137042196816765e-05, 4.13542366004549e-05, 4.136406641919166e-05, 4.1355615394422784e-05, 4.135908602620475e-05, 4.137051655561663e-05, 4.136173811275512e-05, 4.134302071179263e-05, 4.135459312237799e-05, 4.135353083256632e-05, 4.1353661799803376e-05, 4.135271956329234e-05, 4.1355327994097024e-05, 4.1354189306730404e-05, 4.1350274841533974e-05, 4.135400740779005e-05, 4.1355066059622914e-05, 4.1353938286192715e-05, 4.879742846242152e-05, 4.898919723927975e-05, 4.76932073070202e-05, 4.706307299784385e-05, 4.6722590923309326e-05, 4.7114248445723206e-05, 4.671476563089527e-05, 4.6018987632123753e-05, 4.616475780494511e-05, 4.528055796981789e-05, 4.5706146920565516e-05, 4.4706001062877476e-05, 4.500746217672713e-05, 4.4656953832600266e-05, 4.4705153413815424e-05, 4.4333108235150576e-05, 4.364543565316126e-05, 4.417294621816836e-05, 4.357470606919378e-05, 4.383769555715844e-05, 4.354845441412181e-05, 4.3241347157163545e-05, 4.3485775677254423e-05, 4.306053961045109e-05, 4.328614522819407e-05, 4.3282929254928604e-05, 4.269056807970628e-05, 4.2677827877923846e-05, 4.2859723180299625e-05, 4.207192250760272e-05, 4.2824449337786064e-05, 4.278960113879293e-05, 4.2952979129040614e-05, 4.14620699302759e-05, 4.141242243349552e-05, 4.140470264246687e-05, 4.140849705436267e-05, 4.140585588174872e-05, 4.140643068240024e-05, 4.139854354434647e-05, 4.138538861298002e-05, 4.1394279833184555e-05, 4.13811685575638e-05, 4.136900679441169e-05, 4.1380306356586516e-05, 4.138675649301149e-05, 4.1385723307030275e-05, 4.138136864639819e-05, 4.13895322708413e-05, 4.138067743042484e-05, 4.137995347264223e-05, 4.137264477321878e-05, 4.137733776587993e-05, 4.138807344133966e-05, 4.136981806368567e-05, 4.136524876230396e-05, 4.136764255235903e-05, 4.138375516049564e-05, 4.136591451242566e-05, 4.135872586630285e-05, 4.1365849028807133e-05, 4.135260678594932e-05, 4.13573179685045e-05, 4.136817005928606e-05, 4.1371302359038964e-05, 4.1363306081620976e-05, 4.975180854671635e-05, 4.798339068656787e-05, 4.690663263318129e-05, 4.586530849337578e-05, 4.657546378439292e-05, 4.598001032718457e-05, 4.571158206090331e-05, 4.523727693594992e-05, 4.495292523643002e-05, 4.568699296214618e-05, 4.510476719588041e-05, 4.424919097800739e-05, 4.486044417717494e-05, 4.413043279782869e-05, 4.4039621570846066e-05, 4.368093141238205e-05, 4.376335709821433e-05, 4.403090133564547e-05, 4.38461393059697e-05, 4.362064282759093e-05, 4.343741966295056e-05, 4.321031519793905e-05, 4.3606687540886924e-05, 4.3353076762286946e-05, 4.3833410018123686e-05, 4.3162202928215265e-05, 4.295149483368732e-05, 4.239669942762703e-05, 4.260469722794369e-05, 4.339148654253222e-05, 4.2767820559674874e-05, 4.2832791223190725e-05, 4.2898074752883986e-05, 4.143611658946611e-05, 4.1433897422393784e-05, 4.141241515753791e-05, 4.141795579926111e-05, 4.1410017729504034e-05, 4.141272438573651e-05, 4.139755037613213e-05, 4.139405791647732e-05, 4.139075826969929e-05, 4.1384661017218605e-05, 4.1388550016563386e-05, 4.137902942602523e-05, 4.138156145927496e-05, 4.137893847655505e-05, 4.1383034840691835e-05, 4.13734233006835e-05, 4.138267831876874e-05, 4.138847361900844e-05, 4.137745054322295e-05, 4.137182986596599e-05, 4.137613723287359e-05, 4.136714414926246e-05, 4.1363269701832905e-05, 4.137791620451026e-05, 4.137755968258716e-05, 4.137095675105229e-05, 4.1384148062206805e-05, 4.1358292946824804e-05, 4.1368271922692657e-05, 4.137266660109162e-05, 4.136334246140905e-05, 5.045639773015864e-05, 4.87800789414905e-05, 4.736372648039833e-05, 4.690794594353065e-05, 4.701624493463896e-05, 4.615026409737766e-05, 4.595426798914559e-05, 4.506135155679658e-05, 4.5125503675080836e-05, 4.499165515881032e-05, 4.431799243320711e-05, 4.431412526173517e-05, 4.46547128376551e-05, 4.4194508518557996e-05, 4.377137156552635e-05, 4.420206823851913e-05, 4.411257032188587e-05, 4.390221511130221e-05, 4.378604353405535e-05, 4.346972855273634e-05, 4.3584783270489424e-05, 4.32928281952627e-05, 4.311930752010085e-05, 4.272907608537935e-05, 4.284197711967863e-05, 4.324176916270517e-05, 4.2821906390599906e-05, 4.2616145947249606e-05, 4.27852755819913e-05, 4.321563756093383e-05, 4.314296893426217e-05, 4.274324601283297e-05, 4.144540071138181e-05, 4.1430645069340244e-05, 4.141958925174549e-05, 4.143291516811587e-05, 4.140743112657219e-05, 4.141142198932357e-05, 4.1407700337003917e-05, 4.140786040807143e-05, 4.140045348322019e-05, 4.140243981964886e-05, 4.138759686611593e-05, 4.140131568419747e-05, 4.139037991990335e-05, 4.140269447816536e-05, 4.138561780564487e-05, 4.138381700613536e-05, 4.1395192965865135e-05, 4.138133590458892e-05, 4.138541771681048e-05, 4.138882286497392e-05, 4.138411532039754e-05, 4.1378567402716726e-05, 4.138660369790159e-05, 4.1383424104424194e-05, 4.1374001739313826e-05, 4.137056748731993e-05, 4.138039003009908e-05, 4.137218274991028e-05, 4.136794086662121e-05, 4.137654832447879e-05, 4.137536961934529e-05, 4.1372564737685025e-05, 5.017703369958326e-05, 5.0141803512815386e-05, 4.638284372049384e-05, 4.668373730964959e-05, 4.5946508180350065e-05, 4.514021929935552e-05, 4.5428485464071855e-05, 4.478177288547158e-05, 4.4887234253110364e-05, 4.455958696780726e-05, 4.450613050721586e-05, 4.493647429626435e-05, 4.453288420336321e-05, 4.429733962751925e-05, 4.4054344471078366e-05, 4.410963811096735e-05, 4.3718504457501695e-05, 4.329904186306521e-05, 4.371621980681084e-05, 4.301348599256016e-05, 4.31965381721966e-05, 4.2888670577667654e-05, 4.28724342782516e-05, 4.2869967728620395e-05, 4.3357744289096445e-05, 4.236500899423845e-05, 4.2787869460880756e-05, 4.309925498091616e-05, 4.2995532567147166e-05, 4.300925866118632e-05, 4.284953683963977e-05, 4.283510861569084e-05, 4.146748688071966e-05, 4.149410597165115e-05, 4.143943442613818e-05, 4.1429342672927305e-05, 4.144576087128371e-05, 4.1427018004469573e-05, 4.141142562730238e-05, 4.1424875234952196e-05, 4.141654062550515e-05, 4.142310717725195e-05, 4.1405099182156846e-05, 4.1407776734558865e-05, 4.141483441344462e-05, 4.1428418626310304e-05, 4.140739838476293e-05, 4.1411254642298445e-05, 4.140774763072841e-05, 4.1397743189008906e-05, 4.140206874581054e-05, 4.142245961702429e-05, 4.1398121538804844e-05, 4.1396633605472744e-05, 4.140708551858552e-05, 4.140285818721168e-05, 4.138987060287036e-05, 4.138889198657125e-05, 4.1398932808078825e-05, 4.139449811191298e-05, 4.138863005209714e-05, 4.139269367442466e-05, 4.13916859542951e-05, 4.139265001867898e-05, 4.139323937124573e-05, 4.6470337110804394e-05, 4.681940845330246e-05, 4.6091299736872315e-05, 4.5811637392034754e-05, 4.528365025180392e-05, 4.4745906052412465e-05, 4.505836477619596e-05, 4.465082747628912e-05, 4.439500116859563e-05, 4.430573608260602e-05, 4.43408680439461e-05, 4.401206024340354e-05, 4.4085456465836614e-05, 4.379323945613578e-05, 4.2972802475560457e-05, 4.3965806980850175e-05, 4.328251088736579e-05, 4.329525836510584e-05, 4.326366615714505e-05, 4.327022179495543e-05, 4.312393502914347e-05, 4.2950399802066386e-05, 4.285771865397692e-05, 4.3004765757359564e-05, 4.272758451406844e-05, 4.2709889385150746e-05, 4.278652704670094e-05, 4.2749757994897664e-05, 4.2792198655661196e-05, 4.2600240703905e-05, 4.260235436959192e-05, 4.145254933973774e-05, 4.144387276028283e-05, 4.1453396988799796e-05, 4.1431492718402296e-05, 4.1436436731601134e-05, 4.143576734350063e-05, 4.142777106608264e-05, 4.142449324717745e-05, 4.143779005971737e-05, 4.1423812945140526e-05, 4.141925091971643e-05, 4.142098987358622e-05, 4.141869067098014e-05, 4.142383113503456e-05, 4.142765101278201e-05, 4.142523175687529e-05, 4.1433118894929066e-05, 4.142663237871602e-05, 4.141670069657266e-05, 4.141814133618027e-05, 4.1411003621760756e-05, 4.1398860048502684e-05, 4.142193211009726e-05, 4.1412131395190954e-05, 4.140922465012409e-05, 4.1405201045563444e-05, 4.1410065023228526e-05, 4.1415434679947793e-05, 4.140760574955493e-05, 4.141170938964933e-05, 4.1411167330807075e-05, 4.141446697758511e-05, 4.141084718867205e-05, 4.1412982682231814e-05, 4.1410756239201874e-05, 4.5403980038827285e-05, 4.531015292741358e-05, 4.476447793422267e-05, 4.462297511054203e-05, 4.43419958173763e-05, 4.3914020352531224e-05, 4.346590503701009e-05, 4.343713590060361e-05, 4.329002695158124e-05, 4.330407682573423e-05, 4.291387813282199e-05, 4.304005051380955e-05, 4.3112053390359506e-05, 4.316689955885522e-05, 4.289851131034084e-05, 4.280157736502588e-05, 4.272889418643899e-05, 4.254507803125307e-05, 4.2389972804812714e-05, 4.226860619382933e-05, 4.243733565090224e-05, 4.222434290568344e-05, 4.211776104057208e-05, 4.2451967601664364e-05, 4.209332837490365e-05, 4.207781967124902e-05, 4.2241226765327156e-05, 4.216132219880819e-05, 4.223364157951437e-05, 4.215578883304261e-05, 4.247193646733649e-05, 4.234107109368779e-05, 4.2260042391717434e-05, 4.143735350226052e-05, 4.144976264797151e-05, 4.1437884647166356e-05, 4.142767647863366e-05, 4.143332625972107e-05, 4.1439710912527516e-05, 4.143706610193476e-05, 4.142510806559585e-05, 4.1423263610340655e-05, 4.143181649851613e-05, 4.142997568123974e-05, 4.1422888898523524e-05, 4.14262103731744e-05, 4.1415332816541195e-05, 4.1415682062506676e-05, 4.1412378777749836e-05, 4.140826786169782e-05, 4.141466342844069e-05, 4.142007674090564e-05, 4.14184651162941e-05, 4.1422852518735453e-05, 4.1421637433813885e-05, 4.142869875067845e-05, 4.139585871598683e-05, 4.1406376112718135e-05, 4.140912278671749e-05, 4.141449971939437e-05, 4.140180317335762e-05, 4.1417857573833317e-05, 4.140595774515532e-05, 4.141701720072888e-05, 4.1415743908146396e-05, 4.1412255086470395e-05, 4.140975943300873e-05, 4.4972643081564456e-05, 4.460176933207549e-05, 4.4729193177772686e-05, 4.353061012807302e-05, 4.358646765467711e-05, 4.362537220004015e-05, 4.351788084022701e-05, 4.33487439295277e-05, 4.334383629611693e-05, 4.317751154303551e-05, 4.3397732952144e-05, 4.3187101255171e-05, 4.298988642403856e-05, 4.301956869312562e-05, 4.3074778659502044e-05, 4.2936590034514666e-05, 4.2771273001562804e-05, 4.2764953832374886e-05, 4.275835453881882e-05, 4.2662231862777844e-05, 4.2645591747714207e-05, 4.2341926018707454e-05, 4.253289444022812e-05, 4.2493233195273206e-05, 4.25493017246481e-05, 4.2219824536005035e-05, 4.2271251004422083e-05, 4.2160419980064034e-05, 4.192191772744991e-05, 4.2125819163629785e-05, 4.2120303987758234e-05, 4.1470986616332084e-05, 4.144660852034576e-05, 4.1436236642766744e-05, 4.143831392866559e-05, 4.144131162320264e-05, 4.142114266869612e-05, 4.1431580029893667e-05, 4.1431580029893667e-05, 4.1418636101298034e-05, 4.1424114897381514e-05, 4.1415307350689545e-05, 4.1429906559642404e-05, 4.142833859077655e-05, 4.141478711972013e-05, 4.140720557188615e-05, 4.142889520153403e-05, 4.14260575780645e-05, 4.141462704865262e-05, 4.143063779338263e-05, 4.1421626519877464e-05, 4.141826866543852e-05, 4.142673424212262e-05, 4.1419909393880516e-05, 4.141654062550515e-05, 4.141580211580731e-05, 4.1420949855819345e-05, 4.1420826164539903e-05, 4.140922101214528e-05, 4.1416671592742205e-05, 4.140868622926064e-05, 4.1424365917919204e-05, 4.1410967241972685e-05, 4.141281533520669e-05, 4.1412578866584226e-05, 4.4607608288060874e-05, 4.4753574911737815e-05, 4.422839992912486e-05, 4.406553853186779e-05, 4.386218643048778e-05, 4.437892494024709e-05, 4.3519572500372306e-05, 4.339571751188487e-05, 4.335645280661993e-05, 4.3016298150178045e-05, 4.2973104427801445e-05, 4.291822551749647e-05, 4.284394162823446e-05, 4.288826312404126e-05, 4.2591716919559985e-05, 4.277353946235962e-05, 4.261529466020875e-05, 4.270874342182651e-05, 4.224415170028806e-05, 4.219135735183954e-05, 4.207924212096259e-05, 4.2408424633322284e-05, 4.239275585860014e-05, 4.202453783364035e-05, 4.202318086754531e-05, 4.201290357741527e-05, 4.229019396007061e-05, 4.220676055410877e-05, 4.210574843455106e-05, 4.209075268590823e-05, 4.207265010336414e-05, 4.207179517834447e-05, 4.204491415293887e-05, 4.1438997868681327e-05, 4.143977275816724e-05, 4.142760008107871e-05, 4.1437950130784884e-05, 4.143814294366166e-05, 4.143815385759808e-05, 4.1432969737797976e-05, 4.1421673813601956e-05, 4.142549732932821e-05, 4.141885438002646e-05, 4.14271344197914e-05, 4.142949910601601e-05, 4.141262616030872e-05, 4.141706813243218e-05, 4.142268153373152e-05, 4.1415409214096144e-05, 4.141819954384118e-05, 4.1423852962907404e-05, 4.142152101849206e-05, 4.141616227570921e-05, 4.141129829804413e-05, 4.141771205468103e-05, 4.142194666201249e-05, 4.141263343626633e-05, 4.141511453781277e-05, 4.141526733292267e-05, 4.139841257710941e-05, 4.141525278100744e-05, 4.1428978875046596e-05, 4.1406474338145927e-05, 4.142262332607061e-05, 4.14189780713059e-05, 4.141526005696505e-05, 4.4787488150177523e-05, 4.424019425641745e-05, 4.410976907820441e-05, 4.336744314059615e-05, 4.340961095294915e-05, 4.3346197344362736e-05, 4.301233639125712e-05, 4.313205135986209e-05, 4.298157728044316e-05, 4.2932599171763286e-05, 4.306283517507836e-05, 4.272123260307126e-05, 4.251685459166765e-05, 4.258548142388463e-05, 4.2662966734496877e-05, 4.2620900785550475e-05, 4.272858132026158e-05, 4.26817532570567e-05, 4.253574297763407e-05, 4.2468993342481554e-05, 4.2542520532151684e-05, 4.2283820221200585e-05, 4.2197545553790405e-05, 4.2185325582977384e-05, 4.224927397444844e-05, 4.2069266783073545e-05, 4.2338473576819524e-05, 4.212466228636913e-05, 4.2006122384918854e-05, 4.2173593101324514e-05, 4.2215258872602135e-05, 4.217565219732933e-05, 4.217129389871843e-05, 4.142766192671843e-05, 4.140245437156409e-05, 4.140921373618767e-05, 4.141210956731811e-05, 4.1407187381992117e-05, 4.1409890400245786e-05, 4.1397230233997107e-05, 4.141426688875072e-05, 4.140706005273387e-05, 4.140160308452323e-05, 4.14027163060382e-05, 4.140300734434277e-05, 4.140203236602247e-05, 4.1394181607756764e-05, 4.1401097405469045e-05, 4.138598887948319e-05, 4.139351949561387e-05, 4.1403272916795686e-05, 4.139986776863225e-05, 4.1407325625186786e-05, 4.139719749218784e-05, 4.139699012739584e-05, 4.138988515478559e-05, 4.140150122111663e-05, 4.139454540563747e-05, 4.1399620386073366e-05, 4.138252552365884e-05, 4.1388386307517067e-05, 4.138525400776416e-05, 4.138626900385134e-05, 4.139584780205041e-05, 4.1396506276214495e-05, 4.1398659959668294e-05, 4.139126758673228e-05, 4.139360680710524e-05, 4.139273369219154e-05, 4.139488373766653e-05, 4.1394894651602954e-05, 4.39811083197128e-05, 4.329165312810801e-05, 4.312571036280133e-05, 4.291555887903087e-05, 4.2755083995871246e-05, 4.2704712541308254e-05, 4.2846699216170236e-05, 4.256033935234882e-05, 4.243520015734248e-05, 4.2582585592754185e-05, 4.245902891852893e-05, 4.2448813474038616e-05, 4.233376239426434e-05, 4.229033584124409e-05, 4.2224601202178746e-05, 4.219950642436743e-05, 4.218579124426469e-05, 4.217233799863607e-05, 4.2170689994236454e-05, 4.216237721266225e-05, 4.207653910270892e-05, 4.2068240873049945e-05, 4.204121069051325e-05, 4.196950249024667e-05, 4.1916355257853866e-05, 4.1885559767251834e-05, 4.1863680962705985e-05, 4.1856135794660076e-05, 4.18379349866882e-05, 4.183621422271244e-05, 4.141651152167469e-05, 4.142898978898302e-05, 4.1413044527871534e-05, 4.140446617384441e-05, 4.140706732869148e-05, 4.1405488445889205e-05, 4.139779775869101e-05, 4.1409239202039316e-05, 4.140165765420534e-05, 4.139484735787846e-05, 4.139888915233314e-05, 4.1402305214433e-05, 4.13893794757314e-05, 4.139657539781183e-05, 4.1388564568478614e-05, 4.140075543546118e-05, 4.1380131733603776e-05, 4.140111559536308e-05, 4.138903022976592e-05, 4.138436634093523e-05, 4.13972775277216e-05, 4.138890653848648e-05, 4.139753946219571e-05, 4.139324664720334e-05, 4.139080556342378e-05, 4.140249075135216e-05, 4.138694566790946e-05, 4.137651194469072e-05, 4.138550139032304e-05, 4.1388124373042956e-05, 4.1390514525119215e-05, 4.1392402636120096e-05, 4.139385782764293e-05, 4.139731026953086e-05, 4.1392002458451316e-05, 4.1394017898710445e-05, 4.139530210522935e-05, 4.139273733017035e-05, 4.1390878322999924e-05, 4.1390539990970865e-05, 4.139094380661845e-05, 4.3104624637635425e-05, 4.306591290514916e-05, 4.290422657504678e-05, 4.299841748434119e-05, 4.291733057470992e-05, 4.289623029762879e-05, 4.257313776179217e-05, 4.2417817894602194e-05, 4.232314677210525e-05, 4.239095142111182e-05, 4.242965951561928e-05, 4.232201536069624e-05, 4.2284435039618984e-05, 4.2261490307282656e-05, 4.224536314723082e-05, 4.2238661990268156e-05, 4.2233848944306374e-05, 4.2178467992926016e-05, 4.213729698676616e-05, 4.213205102132633e-05, 4.2101914004888386e-05, 4.206354060443118e-05, 4.2005758587038144e-05, 4.197404268779792e-05, 4.195940346107818e-05, 4.19511015934404e-05, 4.193931818008423e-05, 4.1902745579136536e-05, 4.184191857348196e-05, 4.183027340332046e-05, 4.1421400965191424e-05, 4.140281453146599e-05, 4.141320823691785e-05, 4.139855445828289e-05, 4.1399096517125145e-05, 4.1396757296752185e-05, 4.13960988225881e-05, 4.13916859542951e-05, 4.138037547818385e-05, 4.13863017456606e-05, 4.139149314141832e-05, 4.13960478908848e-05, 4.137976429774426e-05, 4.138480653637089e-05, 4.139278826187365e-05, 4.139186785323545e-05, 4.1384111682418734e-05, 4.138321310165338e-05, 4.13919951824937e-05, 4.1371415136381984e-05, 4.138947042520158e-05, 4.138518124818802e-05, 4.138021176913753e-05, 4.139343946008012e-05, 4.138358781347051e-05, 4.137338692089543e-05, 4.139944940106943e-05, 4.139166776440106e-05, 4.138183066970669e-05, 4.138290387345478e-05, 4.140114469919354e-05, 4.138816075283103e-05, 4.138862277613953e-05, 4.139331940677948e-05, 4.138783333473839e-05, 4.138697113376111e-05, 4.1386523662367836e-05, 4.138780423090793e-05, 4.1384697397006676e-05, 4.1386450902791694e-05, 4.322511813370511e-05, 4.312313467380591e-05, 4.282348163542338e-05, 4.26232727477327e-05, 4.270034332876094e-05, 4.2564846808090806e-05, 4.2452404159121215e-05, 4.2657287849579006e-05, 4.235938467900269e-05, 4.26021397288423e-05, 4.241529677528888e-05, 4.2263131035724655e-05, 4.2245428630849347e-05, 4.2230843973811716e-05, 4.217926471028477e-05, 4.215880835545249e-05, 4.2083753214683384e-05, 4.208274185657501e-05, 4.2027371819131076e-05, 4.193954009679146e-05, 4.192587948637083e-05, 4.1908013372449204e-05, 4.186565274721943e-05, 4.1845356463454664e-05, 4.182862539892085e-05, 4.182777047390118e-05, 4.1807164961937815e-05, 4.179488314548507e-05, 4.179427196504548e-05, 4.1787225200096145e-05], \"Total\": [25.0, 19.0, 19.0, 17.0, 16.0, 15.0, 13.0, 13.0, 12.0, 11.0, 11.0, 10.0, 10.0, 10.0, 9.0, 9.0, 8.0, 8.0, 8.0, 7.0, 7.0, 7.0, 6.0, 6.0, 5.0, 5.0, 5.0, 5.0, 4.0, 4.0, 25.417430877685547, 19.559280395507812, 19.562076568603516, 17.61427116394043, 16.63605499267578, 15.660661697387695, 13.707353591918945, 13.707335472106934, 12.733044624328613, 11.756333351135254, 11.756357192993164, 10.78040599822998, 10.780550956726074, 10.778865814208984, 9.805644035339355, 9.803834915161133, 8.830379486083984, 8.828696250915527, 8.828619956970215, 7.8538312911987305, 7.852850914001465, 7.852998733520508, 6.878783702850342, 6.87706995010376, 5.903932094573975, 5.902308940887451, 5.90208625793457, 5.901679039001465, 4.930649757385254, 4.928611755371094, 1.0255004167556763, 1.0249769687652588, 1.0251895189285278, 1.0255142450332642, 1.025087833404541, 1.0250957012176514, 1.0252642631530762, 1.0254149436950684, 1.0253559350967407, 1.0251984596252441, 1.0252952575683594, 1.0252048969268799, 1.025490641593933, 1.0253386497497559, 1.025363564491272, 1.0255054235458374, 1.0253125429153442, 1.0249741077423096, 1.0254297256469727, 1.0253528356552124, 1.0254199504852295, 1.0253440141677856, 1.0252931118011475, 1.0253448486328125, 1.0254521369934082, 1.025193691253662, 1.0253182649612427, 1.0251315832138062, 1.025248646736145, 1.0253511667251587, 1.0254040956497192, 1.025536060333252, 17.61427116394043, 25.417430877685547, 15.660661697387695, 16.63605499267578, 19.559280395507812, 8.828696250915527, 19.562076568603516, 13.707353591918945, 7.8538312911987305, 9.803834915161133, 11.756357192993164, 12.733044624328613, 7.852850914001465, 9.805644035339355, 11.756333351135254, 13.707335472106934, 8.828619956970215, 10.778865814208984, 10.780550956726074, 10.78040599822998, 6.878783702850342, 6.87706995010376, 5.902308940887451, 8.830379486083984, 7.852998733520508, 4.928325653076172, 3.9508347511291504, 5.90208625793457, 5.903932094573975, 4.9267144203186035, 5.901679039001465, 1.025545597076416, 1.0252734422683716, 1.025307297706604, 1.025536060333252, 1.0253455638885498, 1.0252772569656372, 1.0252944231033325, 1.0252492427825928, 1.0256502628326416, 1.0253446102142334, 1.0252070426940918, 1.0252642631530762, 1.0251857042312622, 1.0253247022628784, 1.0252902507781982, 1.0252797603607178, 1.025532603263855, 1.0251766443252563, 1.0252373218536377, 1.0254019498825073, 1.025434136390686, 1.025312066078186, 1.025313138961792, 1.0253318548202515, 1.025442123413086, 1.025384783744812, 1.025428056716919, 1.0252569913864136, 1.0253652334213257, 1.0252161026000977, 1.025818943977356, 1.0255149602890015, 25.417430877685547, 11.756357192993164, 19.562076568603516, 15.660661697387695, 12.733044624328613, 10.780550956726074, 19.559280395507812, 10.78040599822998, 13.707335472106934, 13.707353591918945, 16.63605499267578, 8.828619956970215, 10.778865814208984, 7.852998733520508, 11.756333351135254, 9.805644035339355, 7.852850914001465, 8.828696250915527, 5.90208625793457, 17.61427116394043, 8.830379486083984, 7.8538312911987305, 4.9285125732421875, 5.901679039001465, 9.803834915161133, 2.9760630130767822, 3.9511537551879883, 4.9267144203186035, 4.927502632141113, 5.903932094573975, 4.928468704223633, 6.87706995010376, 6.878783702850342, 1.0251753330230713, 1.0252902507781982, 1.0253430604934692, 1.0252814292907715, 1.0255777835845947, 1.0253125429153442, 1.0253182649612427, 1.0251742601394653, 1.0250957012176514, 1.0255087614059448, 1.0254138708114624, 1.025092363357544, 1.025386929512024, 1.0253220796585083, 1.0253180265426636, 1.0255190134048462, 1.0251343250274658, 1.0253844261169434, 1.0252420902252197, 1.0256094932556152, 1.0253530740737915, 1.025421380996704, 1.025214672088623, 1.0251879692077637, 1.0254164934158325, 1.025307297706604, 1.0254024267196655, 1.0254019498825073, 1.0254040956497192, 1.0256028175354004, 1.0258879661560059, 1.0256177186965942, 25.417430877685547, 17.61427116394043, 19.559280395507812, 19.562076568603516, 15.660661697387695, 16.63605499267578, 13.707353591918945, 13.707335472106934, 10.78040599822998, 9.803834915161133, 10.778865814208984, 8.828619956970215, 10.780550956726074, 12.733044624328613, 11.756357192993164, 11.756333351135254, 8.830379486083984, 7.852998733520508, 3.9514455795288086, 2.000274419784546, 4.927502632141113, 9.805644035339355, 8.828696250915527, 4.927249431610107, 7.852850914001465, 4.927646636962891, 3.9508347511291504, 5.902308940887451, 6.878783702850342, 3.9518773555755615, 7.8538312911987305, 6.87706995010376, 5.903932094573975, 1.0253208875656128, 1.025418758392334, 1.0252186059951782, 1.0251637697219849, 1.025478482246399, 1.0255064964294434, 1.0254560708999634, 1.0253320932388306, 1.025248646736145, 1.0254030227661133, 1.0253214836120605, 1.0253806114196777, 1.0251857042312622, 1.0252723693847656, 1.0254061222076416, 1.0255740880966187, 1.0255008935928345, 1.0253970623016357, 1.0249813795089722, 1.025092363357544, 1.0254631042480469, 1.0253965854644775, 1.0253386497497559, 1.025532603263855, 1.0254346132278442, 1.0252934694290161, 1.025320053100586, 1.0252662897109985, 1.0254164934158325, 1.0255084037780762, 1.0254998207092285, 25.417430877685547, 17.61427116394043, 11.756333351135254, 13.707335472106934, 19.559280395507812, 19.562076568603516, 16.63605499267578, 11.756357192993164, 7.8538312911987305, 10.778865814208984, 9.803834915161133, 15.660661697387695, 13.707353591918945, 10.780550956726074, 8.828619956970215, 10.78040599822998, 4.928319454193115, 5.90208625793457, 6.87706995010376, 8.830379486083984, 4.927249431610107, 12.733044624328613, 7.852998733520508, 8.828696250915527, 9.805644035339355, 5.903932094573975, 4.930649757385254, 7.852850914001465, 5.901679039001465, 4.926902770996094, 5.902308940887451, 6.878783702850342, 1.0253182649612427, 1.0250649452209473, 1.025490641593933, 1.0254844427108765, 1.0252138376235962, 1.025464415550232, 1.0252833366394043, 1.02517569065094, 1.0254442691802979, 1.0254080295562744, 1.025375485420227, 1.0252695083618164, 1.0255669355392456, 1.0251396894454956, 1.0254522562026978, 1.0255346298217773, 1.0253530740737915, 1.0253952741622925, 1.0250681638717651, 1.0256246328353882, 1.0257759094238281, 1.0255004167556763, 1.0252152681350708, 1.0252946615219116, 1.0252845287322998, 1.02560555934906, 1.0256052017211914, 1.0253455638885498, 1.0254671573638916, 1.0252174139022827, 1.0253393650054932, 1.0253989696502686, 1.0255084037780762, 19.562076568603516, 25.417430877685547, 19.559280395507812, 15.660661697387695, 12.733044624328613, 13.707335472106934, 16.63605499267578, 13.707353591918945, 17.61427116394043, 9.803834915161133, 11.756357192993164, 10.778865814208984, 7.852850914001465, 10.780550956726074, 6.87706995010376, 8.828696250915527, 8.830379486083984, 5.901679039001465, 7.852998733520508, 4.928319454193115, 11.756333351135254, 4.927646636962891, 2.9770336151123047, 6.878783702850342, 5.902308940887451, 4.926902770996094, 9.805644035339355, 10.78040599822998, 8.828619956970215, 5.903932094573975, 4.9285125732421875, 7.8538312911987305, 1.0256457328796387, 1.0252482891082764, 1.0255541801452637, 1.0253652334213257, 1.0252174139022827, 1.0255087614059448, 1.0254908800125122, 1.025352120399475, 1.0253806114196777, 1.02566397190094, 1.0255320072174072, 1.0252149105072021, 1.0254054069519043, 1.0252734422683716, 1.0251343250274658, 1.0256227254867554, 1.0253182649612427, 1.0253468751907349, 1.0253630876541138, 1.025464415550232, 1.0253835916519165, 1.0255571603775024, 1.0254701375961304, 1.025255560874939, 1.0253989696502686, 1.0254442691802979, 1.0249741077423096, 1.025438904762268, 1.0252695083618164, 1.025374174118042, 1.0254663228988647, 1.0255725383758545, 19.562076568603516, 25.417430877685547, 19.559280395507812, 10.78040599822998, 17.61427116394043, 13.707335472106934, 15.660661697387695, 10.780550956726074, 9.805644035339355, 11.756333351135254, 12.733044624328613, 16.63605499267578, 8.828619956970215, 10.778865814208984, 9.803834915161133, 13.707353591918945, 5.90208625793457, 7.8538312911987305, 5.901679039001465, 7.852850914001465, 11.756357192993164, 8.828696250915527, 7.852998733520508, 6.878783702850342, 5.903932094573975, 5.902308940887451, 4.928611755371094, 3.952533721923828, 6.87706995010376, 4.926902770996094, 8.830379486083984, 1.0252803564071655, 1.0251766443252563, 1.0253870487213135, 1.0255157947540283, 1.025188684463501, 1.0253480672836304, 1.0253721475601196, 1.0251343250274658, 1.0253056287765503, 1.0255135297775269, 1.0252174139022827, 1.0253461599349976, 1.0253262519836426, 1.0251753330230713, 1.0252621173858643, 1.0252894163131714, 1.0252116918563843, 1.0254316329956055, 1.0251315832138062, 1.02517569065094, 1.0257198810577393, 1.025295376777649, 1.0254523754119873, 1.0252463817596436, 1.0253175497055054, 1.025492548942566, 1.0256978273391724, 1.0255037546157837, 1.0252246856689453, 1.0257073640823364, 1.0256028175354004, 17.61427116394043, 19.559280395507812, 25.417430877685547, 19.562076568603516, 15.660661697387695, 10.780550956726074, 11.756333351135254, 10.78040599822998, 8.830379486083984, 13.707353591918945, 7.852998733520508, 16.63605499267578, 6.87706995010376, 11.756357192993164, 10.778865814208984, 6.878783702850342, 12.733044624328613, 9.805644035339355, 7.852850914001465, 13.707335472106934, 8.828696250915527, 9.803834915161133, 8.828619956970215, 3.950390577316284, 4.927502632141113, 5.901679039001465, 5.902308940887451, 3.9516963958740234, 4.927641868591309, 4.9267144203186035, 7.8538312911987305, 1.0251766443252563, 1.0254528522491455, 1.0257198810577393, 1.02548348903656, 1.0252116918563843, 1.0251895189285278, 1.0252848863601685, 1.0252246856689453, 1.0254054069519043, 1.0254998207092285, 1.0252149105072021, 1.02517569065094, 1.0250681638717651, 1.0254185199737549, 1.025438904762268, 1.025087833404541, 1.0253421068191528, 1.0252058506011963, 1.0253056287765503, 1.0256028175354004, 1.0253952741622925, 1.0249769687652588, 1.0253267288208008, 1.025312066078186, 1.0253214836120605, 1.0253448486328125, 1.0254100561141968, 1.0253970623016357, 1.0253552198410034, 1.0254853963851929, 1.0256224870681763, 1.0258089303970337, 19.562076568603516, 25.417430877685547, 17.61427116394043, 13.707353591918945, 12.733044624328613, 16.63605499267578, 13.707335472106934, 10.778865814208984, 19.559280395507812, 10.78040599822998, 15.660661697387695, 8.830379486083984, 11.756357192993164, 10.780550956726074, 11.756333351135254, 9.803834915161133, 5.902308940887451, 8.828619956970215, 6.878783702850342, 9.805644035339355, 7.8538312911987305, 5.90208625793457, 7.852998733520508, 4.92815637588501, 6.87706995010376, 7.852850914001465, 3.951538324356079, 3.952455520629883, 4.928611755371094, 2.0008740425109863, 4.930649757385254, 4.926902770996094, 8.828696250915527, 1.0253287553787231, 1.0254522562026978, 1.0253806114196777, 1.0254844427108765, 1.025464653968811, 1.0255995988845825, 1.0254453420639038, 1.0252193212509155, 1.025463342666626, 1.0252604484558105, 1.0249813795089722, 1.0252797603607178, 1.0254523754119873, 1.0254408121109009, 1.0253543853759766, 1.0256483554840088, 1.0254428386688232, 1.02545964717865, 1.0252803564071655, 1.0254316329956055, 1.0257751941680908, 1.0253885984420776, 1.0253180265426636, 1.025392770767212, 1.0258121490478516, 1.0254088640213013, 1.0252420902252197, 1.0254853963851929, 1.0251857042312622, 1.0253220796585083, 1.0256131887435913, 1.025755524635315, 1.0256260633468628, 25.417430877685547, 19.559280395507812, 13.707335472106934, 12.733044624328613, 19.562076568603516, 16.63605499267578, 13.707353591918945, 11.756333351135254, 9.803834915161133, 17.61427116394043, 11.756357192993164, 8.828619956970215, 15.660661697387695, 8.830379486083984, 9.805644035339355, 6.87706995010376, 7.8538312911987305, 10.778865814208984, 8.828696250915527, 6.878783702850342, 5.903932094573975, 4.926902770996094, 7.852850914001465, 5.902308940887451, 10.78040599822998, 5.901679039001465, 4.928468704223633, 2.9760608673095703, 3.9519975185394287, 10.780550956726074, 4.928319454193115, 5.90208625793457, 7.852998733520508, 1.0255650281906128, 1.0256661176681519, 1.0252022743225098, 1.0253909826278687, 1.0254080295562744, 1.02548348903656, 1.0253208875656128, 1.02534818649292, 1.0252845287322998, 1.0253175497055054, 1.0254435539245605, 1.0252487659454346, 1.0253429412841797, 1.0253214836120605, 1.0254290103912354, 1.0252310037612915, 1.0254873037338257, 1.0256342887878418, 1.0254123210906982, 1.0253169536590576, 1.0255054235458374, 1.0252848863601685, 1.0252116918563843, 1.025578498840332, 1.025591492652893, 1.0254734754562378, 1.0258089303970337, 1.025177240371704, 1.0254466533660889, 1.0255560874938965, 1.0253989696502686, 25.417430877685547, 19.562076568603516, 16.63605499267578, 17.61427116394043, 19.559280395507812, 13.707353591918945, 13.707335472106934, 8.830379486083984, 12.733044624328613, 11.756333351135254, 8.828696250915527, 9.805644035339355, 15.660661697387695, 10.778865814208984, 6.878783702850342, 11.756357192993164, 10.780550956726074, 10.78040599822998, 9.803834915161133, 6.87706995010376, 7.852998733520508, 5.901679039001465, 4.9267144203186035, 3.952533721923828, 4.927249431610107, 7.8538312911987305, 4.928468704223633, 3.951538324356079, 4.928325653076172, 8.828619956970215, 7.852850914001465, 5.90208625793457, 1.025320053100586, 1.0249813795089722, 1.0253139734268188, 1.0256750583648682, 1.0250649452209473, 1.0252529382705688, 1.0252058506011963, 1.0255008935928345, 1.0253468751907349, 1.0253965854644775, 1.0250681638717651, 1.025516390800476, 1.0252621173858643, 1.025596022605896, 1.0252152681350708, 1.02517569065094, 1.025536060333252, 1.0252246856689453, 1.0253480672836304, 1.0255722999572754, 1.025518774986267, 1.0254088640213013, 1.0256321430206299, 1.0255584716796875, 1.0253448486328125, 1.0253081321716309, 1.0255541801452637, 1.025355577468872, 1.0252569913864136, 1.0254873037338257, 1.0254853963851929, 1.0254226922988892, 19.559280395507812, 25.417430877685547, 16.63605499267578, 19.562076568603516, 13.707353591918945, 9.805644035339355, 15.660661697387695, 11.756333351135254, 12.733044624328613, 10.780550956726074, 10.778865814208984, 17.61427116394043, 13.707335472106934, 10.78040599822998, 9.803834915161133, 11.756357192993164, 7.8538312911987305, 4.927641868591309, 8.828619956970215, 4.928325653076172, 6.878783702850342, 4.927249431610107, 4.926902770996094, 4.928611755371094, 8.828696250915527, 2.976321220397949, 4.9267144203186035, 7.852850914001465, 6.87706995010376, 7.852998733520508, 5.901679039001465, 8.830379486083984, 1.0249741077423096, 1.0258877277374268, 1.0253081321716309, 1.025193691253662, 1.0257203578948975, 1.0252833366394043, 1.0249818563461304, 1.025345802307129, 1.0252662897109985, 1.0254528522491455, 1.0250649452209473, 1.0251343250274658, 1.025320053100586, 1.0256750583648682, 1.0252373218536377, 1.0253528356552124, 1.0252957344055176, 1.0251895189285278, 1.0253461599349976, 1.0258879661560059, 1.0253214836120605, 1.0252934694290161, 1.025560736656189, 1.025496244430542, 1.0252048969268799, 1.0251857042312622, 1.0254560708999634, 1.025374174118042, 1.0252529382705688, 1.0253806114196777, 1.0254346132278442, 1.0255053043365479, 1.02566397190094, 19.559280395507812, 25.417430877685547, 19.562076568603516, 16.63605499267578, 13.707353591918945, 11.756333351135254, 17.61427116394043, 13.707335472106934, 11.756357192993164, 10.778865814208984, 12.733044624328613, 9.805644035339355, 10.78040599822998, 10.780550956726074, 4.927502632141113, 15.660661697387695, 7.852850914001465, 8.828619956970215, 8.828696250915527, 9.803834915161133, 7.852998733520508, 6.87706995010376, 5.902308940887451, 8.830379486083984, 4.928468704223633, 4.9267144203186035, 5.901679039001465, 5.903932094573975, 6.878783702850342, 4.926902770996094, 7.8538312911987305, 1.0252946615219116, 1.0252193212509155, 1.025484561920166, 1.0249818563461304, 1.0253559350967407, 1.0254722833633423, 1.0252803564071655, 1.0252482891082764, 1.0256028175354004, 1.0252814292907715, 1.0252149105072021, 1.0252604484558105, 1.0252174139022827, 1.0253446102142334, 1.025471568107605, 1.025436282157898, 1.0256661176681519, 1.0255571603775024, 1.0253318548202515, 1.0254080295562744, 1.025248646736145, 1.0249769687652588, 1.02555513381958, 1.0253393650054932, 1.0252833366394043, 1.0251895189285278, 1.025313138961792, 1.0254701375961304, 1.025295376777649, 1.0254040956497192, 1.0254123210906982, 1.025578498840332, 1.0254671573638916, 1.0256246328353882, 1.0255037546157837, 19.562076568603516, 25.417430877685547, 16.63605499267578, 19.559280395507812, 17.61427116394043, 13.707353591918945, 10.778865814208984, 12.733044624328613, 10.78040599822998, 11.756357192993164, 7.852998733520508, 10.780550956726074, 13.707335472106934, 15.660661697387695, 9.805644035339355, 9.803834915161133, 8.830379486083984, 6.878783702850342, 5.90208625793457, 4.926902770996094, 7.852850914001465, 4.928611755371094, 3.9514455795288086, 8.828619956970215, 3.951538324356079, 3.952361822128296, 5.903932094573975, 4.927646636962891, 5.902308940887451, 4.927249431610107, 11.756333351135254, 8.828696250915527, 6.87706995010376, 1.0249813795089722, 1.025463342666626, 1.0254316329956055, 1.0251984596252441, 1.0253386497497559, 1.0255084037780762, 1.0254453420639038, 1.0252482891082764, 1.0252058506011963, 1.02545964717865, 1.0254290103912354, 1.0253175497055054, 1.0254123210906982, 1.025193691253662, 1.025214672088623, 1.0251396894454956, 1.0251343250274658, 1.0252946615219116, 1.0254560708999634, 1.0255054235458374, 1.0256158113479614, 1.02560293674469, 1.025782585144043, 1.0249741077423096, 1.0252772569656372, 1.0253552198410034, 1.0254887342453003, 1.0251766443252563, 1.0255751609802246, 1.025295376777649, 1.0255740880966187, 1.0256280899047852, 1.0255827903747559, 1.0256094932556152, 19.562076568603516, 19.559280395507812, 25.417430877685547, 10.778865814208984, 11.756357192993164, 17.61427116394043, 15.660661697387695, 10.780550956726074, 12.733044624328613, 9.803834915161133, 16.63605499267578, 13.707353591918945, 9.805644035339355, 11.756333351135254, 13.707335472106934, 10.78040599822998, 8.828619956970215, 8.830379486083984, 8.828696250915527, 7.852998733520508, 7.8538312911987305, 3.9528019428253174, 6.87706995010376, 6.878783702850342, 7.852850914001465, 3.951538324356079, 4.927641868591309, 4.928319454193115, 2.975958824157715, 4.930649757385254, 4.9285125732421875, 1.025434136390686, 1.0253480672836304, 1.0253446102142334, 1.0254040956497192, 1.0255571603775024, 1.0250649452209473, 1.0253393650054932, 1.025359869003296, 1.0250957012176514, 1.0252772569656372, 1.0250681638717651, 1.0254638195037842, 1.0254528522491455, 1.0251396894454956, 1.0249769687652588, 1.0255541801452637, 1.0254933834075928, 1.0252174139022827, 1.0256224870681763, 1.0254030227661133, 1.0253440141677856, 1.0255560874938965, 1.0253970623016357, 1.0253630876541138, 1.0253448486328125, 1.025484561920166, 1.0254844427108765, 1.0252695083618164, 1.0254554748535156, 1.0252844095230103, 1.0258550643920898, 1.0254236459732056, 1.0256102085113525, 1.0256789922714233, 15.660661697387695, 19.562076568603516, 19.559280395507812, 16.63605499267578, 13.707335472106934, 25.417430877685547, 13.707353591918945, 12.733044624328613, 17.61427116394043, 11.756357192993164, 10.778865814208984, 10.780550956726074, 9.805644035339355, 11.756333351135254, 6.87706995010376, 10.78040599822998, 7.8538312911987305, 9.803834915161133, 4.927646636962891, 4.928611755371094, 3.951616048812866, 8.828696250915527, 8.828619956970215, 3.9523909091949463, 3.950390577316284, 3.952918291091919, 8.830379486083984, 7.852998733520508, 5.903932094573975, 4.928468704223633, 5.901679039001465, 6.878783702850342, 7.852850914001465, 1.0253721475601196, 1.0254316329956055, 1.025214672088623, 1.025471568107605, 1.025499939918518, 1.0255053043365479, 1.0254554748535156, 1.0252022743225098, 1.0253169536590576, 1.0251598358154297, 1.0254182815551758, 1.0254908800125122, 1.025087833404541, 1.0252058506011963, 1.0253461599349976, 1.0251742601394653, 1.0252621173858643, 1.0254195928573608, 1.0253660678863525, 1.025248646736145, 1.0251984596252441, 1.025363564491272, 1.0254731178283691, 1.0252487659454346, 1.02534818649292, 1.0253870487213135, 1.0249813795089722, 1.025437831878662, 1.0257917642593384, 1.0252492427825928, 1.0257267951965332, 1.0257411003112793, 1.025702953338623, 25.417430877685547, 16.63605499267578, 19.559280395507812, 11.756333351135254, 19.562076568603516, 17.61427116394043, 8.830379486083984, 13.707353591918945, 11.756357192993164, 10.778865814208984, 15.660661697387695, 7.852998733520508, 6.87706995010376, 8.828696250915527, 10.780550956726074, 9.805644035339355, 12.733044624328613, 13.707335472106934, 9.803834915161133, 8.828619956970215, 10.78040599822998, 5.90208625793457, 4.926902770996094, 4.9285125732421875, 5.901679039001465, 3.95149564743042, 7.8538312911987305, 4.928611755371094, 3.952742576599121, 5.903932094573975, 7.852850914001465, 6.878783702850342, 5.902308940887451, 1.0253393650054932, 1.0249813795089722, 1.0252373218536377, 1.025320053100586, 1.0252310037612915, 1.0253455638885498, 1.0250681638717651, 1.0255149602890015, 1.0253374576568604, 1.0252492427825928, 1.0252803564071655, 1.025301456451416, 1.025300145149231, 1.0251598358154297, 1.0253334045410156, 1.0249769687652588, 1.0251857042312622, 1.0254297256469727, 1.0253559350967407, 1.0255494117736816, 1.0253169536590576, 1.0253480672836304, 1.025177240371704, 1.025492548942566, 1.0253543853759766, 1.0254873037338257, 1.0250649452209473, 1.0252116918563843, 1.0251396894454956, 1.0251766443252563, 1.0254226922988892, 1.0254673957824707, 1.0256342887878418, 1.0253721475601196, 1.025504231452942, 1.0254621505737305, 1.0257031917572021, 1.0258550643920898, 25.417430877685547, 19.562076568603516, 19.559280395507812, 15.660661697387695, 12.733044624328613, 11.756333351135254, 16.63605499267578, 9.805644035339355, 8.830379486083984, 13.707335472106934, 10.778865814208984, 13.707353591918945, 10.78040599822998, 17.61427116394043, 7.852998733520508, 10.780550956726074, 8.828696250915527, 9.803834915161133, 8.828619956970215, 7.8538312911987305, 6.878783702850342, 6.87706995010376, 7.852850914001465, 5.903932094573975, 11.756357192993164, 4.9285125732421875, 5.90208625793457, 5.902308940887451, 4.928468704223633, 4.927646636962891, 1.0252797603607178, 1.025681734085083, 1.0254123210906982, 1.0253175497055054, 1.0253885984420776, 1.0253511667251587, 1.0251879692077637, 1.025516390800476, 1.0253334045410156, 1.025214672088623, 1.0253169536590576, 1.0254182815551758, 1.0251315832138062, 1.0253139734268188, 1.0251396894454956, 1.0254523754119873, 1.0249769687652588, 1.025503158569336, 1.0252048969268799, 1.025092363357544, 1.025416612625122, 1.0252149105072021, 1.0254316329956055, 1.0253393650054932, 1.0252937078475952, 1.0256094932556152, 1.0252310037612915, 1.0249818563461304, 1.0252058506011963, 1.0252844095230103, 1.0253543853759766, 1.0254054069519043, 1.025492548942566, 1.0256227254867554, 1.025434136390686, 1.0255186557769775, 1.0256177186965942, 1.025527834892273, 1.0254673957824707, 1.0254701375961304, 1.0256052017211914, 19.559280395507812, 19.562076568603516, 13.707335472106934, 17.61427116394043, 16.63605499267578, 25.417430877685547, 12.733044624328613, 9.805644035339355, 7.852850914001465, 9.803834915161133, 15.660661697387695, 11.756333351135254, 11.756357192993164, 8.830379486083984, 10.778865814208984, 13.707353591918945, 10.780550956726074, 8.828696250915527, 7.8538312911987305, 10.78040599822998, 6.87706995010376, 7.852998733520508, 8.828619956970215, 5.901679039001465, 4.927646636962891, 5.903932094573975, 5.902308940887451, 6.878783702850342, 4.928319454193115, 4.9285125732421875, 1.0253081321716309, 1.0249813795089722, 1.0252957344055176, 1.0253318548202515, 1.025416612625122, 1.0254080295562744, 1.025404453277588, 1.025312066078186, 1.0250681638717651, 1.0252161026000977, 1.0253543853759766, 1.0254722833633423, 1.025087833404541, 1.0252246856689453, 1.0254442691802979, 1.0254226922988892, 1.0252662897109985, 1.0252482891082764, 1.0254671573638916, 1.0249741077423096, 1.0254290103912354, 1.0253262519836426, 1.0252138376235962, 1.0255768299102783, 1.0253429412841797, 1.025092363357544, 1.0257467031478882, 1.0255571603775024, 1.0253175497055054, 1.0253480672836304, 1.025818943977356, 1.025484561920166, 1.0255008935928345, 1.0256321430206299, 1.0255149602890015, 1.0254877805709839, 1.0254827737808228, 1.0258089303970337, 1.0254689455032349, 1.025791883468628, 19.559280395507812, 25.417430877685547, 15.660661697387695, 10.78040599822998, 16.63605499267578, 13.707353591918945, 11.756333351135254, 19.562076568603516, 9.805644035339355, 17.61427116394043, 13.707335472106934, 9.803834915161133, 12.733044624328613, 10.778865814208984, 11.756357192993164, 7.852998733520508, 7.852850914001465, 10.780550956726074, 7.8538312911987305, 6.87706995010376, 6.878783702850342, 8.830379486083984, 8.828696250915527, 8.828619956970215, 5.903932094573975, 5.90208625793457, 4.928468704223633, 4.930649757385254, 4.927641868591309, 4.928611755371094], \"logprob\": [30.0, 29.0, 28.0, 27.0, 26.0, 25.0, 24.0, 23.0, 22.0, 21.0, 20.0, 19.0, 18.0, 17.0, 16.0, 15.0, 14.0, 13.0, 12.0, 11.0, 10.0, 9.0, 8.0, 7.0, 6.0, 5.0, 4.0, 3.0, 2.0, 1.0, -3.8160998821258545, -4.078100204467773, -4.077899932861328, -4.182799816131592, -4.2399001121521, -4.3003997802734375, -4.433599948883057, -4.433599948883057, -4.507299900054932, -4.587100028991699, -4.587100028991699, -4.673799991607666, -4.673799991607666, -4.673999786376953, -4.768599987030029, -4.768799781799316, -4.8734002113342285, -4.873600006103516, -4.873600006103516, -4.990600109100342, -4.990699768066406, -4.990699768066406, -5.1230998039245605, -5.1234002113342285, -5.276000022888184, -5.276299953460693, -5.276299953460693, -5.276400089263916, -5.456200122833252, -5.456600189208984, -6.350299835205078, -6.350900173187256, -6.350900173187256, -6.351099967956543, -6.351600170135498, -6.351600170135498, -6.3516998291015625, -6.351600170135498, -6.351900100708008, -6.3520002365112305, -6.352099895477295, -6.352200031280518, -6.352099895477295, -6.35230016708374, -6.352399826049805, -6.352799892425537, -6.3531999588012695, -6.353899955749512, -6.353600025177002, -6.353799819946289, -6.354000091552734, -6.3541998863220215, -6.354300022125244, -6.354300022125244, -6.354300022125244, -6.354599952697754, -6.354400157928467, -6.354599952697754, -6.354599952697754, -6.354499816894531, -6.354499816894531, -6.354400157928467, -6.005000114440918, -5.967100143432617, -6.036600112915039, -6.032400131225586, -6.031199932098389, -6.134900093078613, -6.080399990081787, -6.151299953460693, -6.191800117492676, -6.178199768066406, -6.172599792480469, -6.167099952697754, -6.2032999992370605, -6.191100120544434, -6.181099891662598, -6.179699897766113, -6.206200122833252, -6.201700210571289, -6.204999923706055, -6.217899799346924, -6.242400169372559, -6.246300220489502, -6.2555999755859375, -6.237800121307373, -6.244800090789795, -6.269400119781494, -6.281599998474121, -6.265399932861328, -6.268899917602539, -6.2769999504089355, -6.276400089263916, -6.345900058746338, -6.348400115966797, -6.348499774932861, -6.348499774932861, -6.348800182342529, -6.348899841308594, -6.349100112915039, -6.349299907684326, -6.349100112915039, -6.3495001792907715, -6.349800109863281, -6.349999904632568, -6.350200176239014, -6.350100040435791, -6.350200176239014, -6.350299835205078, -6.350100040435791, -6.350800037384033, -6.350800037384033, -6.3506999015808105, -6.3506999015808105, -6.350800037384033, -6.350800037384033, -6.350900173187256, -6.350900173187256, -6.35099983215332, -6.35099983215332, -6.351200103759766, -6.351200103759766, -6.351399898529053, -6.35099983215332, -6.351200103759766, -5.973599910736084, -6.12060022354126, -6.110499858856201, -6.13100004196167, -6.152599811553955, -6.1656999588012695, -6.132500171661377, -6.1753997802734375, -6.161799907684326, -6.162700176239014, -6.161600112915039, -6.206299781799316, -6.198200225830078, -6.221199989318848, -6.199100017547607, -6.216100215911865, -6.228099822998047, -6.225399971008301, -6.249499797821045, -6.1975998878479, -6.241799831390381, -6.255499839782715, -6.276199817657471, -6.270599842071533, -6.252500057220459, -6.3024001121521, -6.292099952697754, -6.286399841308594, -6.286600112915039, -6.283999919891357, -6.292200088500977, -6.288099765777588, -6.289100170135498, -6.34630012512207, -6.346399784088135, -6.34660005569458, -6.346799850463867, -6.346799850463867, -6.347400188446045, -6.347499847412109, -6.3480000495910645, -6.348199844360352, -6.3480000495910645, -6.348100185394287, -6.348499774932861, -6.348199844360352, -6.348400115966797, -6.348499774932861, -6.348299980163574, -6.348700046539307, -6.348499774932861, -6.348700046539307, -6.348299980163574, -6.348599910736084, -6.348499774932861, -6.348800182342529, -6.348899841308594, -6.348700046539307, -6.348800182342529, -6.348800182342529, -6.348899841308594, -6.348999977111816, -6.348800182342529, -6.348700046539307, -6.348899841308594, -6.0980000495910645, -6.131999969482422, -6.130300045013428, -6.145400047302246, -6.166100025177002, -6.16349983215332, -6.1753997802734375, -6.1774001121521, -6.205599784851074, -6.211699962615967, -6.211299896240234, -6.225299835205078, -6.218699932098389, -6.218299865722656, -6.227200031280518, -6.228099822998047, -6.250500202178955, -6.259699821472168, -6.289999961853027, -6.317699909210205, -6.285099983215332, -6.258600234985352, -6.264699935913086, -6.285999774932861, -6.272500038146973, -6.289299964904785, -6.296800136566162, -6.285999774932861, -6.284800052642822, -6.3018999099731445, -6.281700134277344, -6.288899898529053, -6.293700218200684, -6.344900131225586, -6.345600128173828, -6.3460001945495605, -6.34660005569458, -6.346499919891357, -6.346499919891357, -6.346700191497803, -6.3470001220703125, -6.347099781036377, -6.3470001220703125, -6.347400188446045, -6.347400188446045, -6.347799777984619, -6.347700119018555, -6.347599983215332, -6.347599983215332, -6.347700119018555, -6.347899913787842, -6.348400115966797, -6.348299980163574, -6.348100185394287, -6.348199844360352, -6.348299980163574, -6.348100185394287, -6.348299980163574, -6.348400115966797, -6.348499774932861, -6.348499774932861, -6.348499774932861, -6.348400115966797, -6.348499774932861, -6.058199882507324, -6.1539998054504395, -6.181300163269043, -6.178999900817871, -6.164400100708008, -6.16540002822876, -6.17549991607666, -6.21619987487793, -6.237299919128418, -6.229899883270264, -6.2347002029418945, -6.2144999504089355, -6.221700191497803, -6.233099937438965, -6.254700183868408, -6.247399806976318, -6.279200077056885, -6.27209997177124, -6.267199993133545, -6.258800029754639, -6.282100200653076, -6.249300003051758, -6.2667999267578125, -6.263400077819824, -6.262899875640869, -6.280099868774414, -6.285999774932861, -6.276299953460693, -6.2881999015808105, -6.295400142669678, -6.290900230407715, -6.289299964904785, -6.345300197601318, -6.345799922943115, -6.3454999923706055, -6.345600128173828, -6.3460001945495605, -6.345699787139893, -6.346099853515625, -6.346399784088135, -6.34630012512207, -6.346399784088135, -6.346399784088135, -6.34660005569458, -6.34630012512207, -6.346700191497803, -6.346499919891357, -6.346499919891357, -6.346700191497803, -6.346700191497803, -6.3470001220703125, -6.346499919891357, -6.346499919891357, -6.346799850463867, -6.347099781036377, -6.3470001220703125, -6.347099781036377, -6.346799850463867, -6.346799850463867, -6.347099781036377, -6.347099781036377, -6.347300052642822, -6.3471999168396, -6.3471999168396, -6.347099781036377, -6.144000053405762, -6.133299827575684, -6.153600215911865, -6.1774001121521, -6.2104997634887695, -6.211400032043457, -6.20419979095459, -6.21560001373291, -6.212699890136719, -6.241199970245361, -6.241199970245361, -6.248799800872803, -6.261600017547607, -6.255899906158447, -6.271100044250488, -6.266200065612793, -6.268499851226807, -6.281499862670898, -6.274799823760986, -6.289000034332275, -6.263800144195557, -6.295100212097168, -6.310699939727783, -6.287199974060059, -6.292099952697754, -6.298299789428711, -6.280399799346924, -6.27869987487793, -6.28380012512207, -6.293600082397461, -6.3028998374938965, -6.298999786376953, -6.343699932098389, -6.344200134277344, -6.344200134277344, -6.3445000648498535, -6.344699859619141, -6.3445000648498535, -6.344600200653076, -6.345099925994873, -6.345200061798096, -6.345099925994873, -6.345200061798096, -6.345600128173828, -6.3454999923706055, -6.345600128173828, -6.345799922943115, -6.345399856567383, -6.345799922943115, -6.345799922943115, -6.345799922943115, -6.345799922943115, -6.345900058746338, -6.345699787139893, -6.345799922943115, -6.346099853515625, -6.345900058746338, -6.345900058746338, -6.346399784088135, -6.3460001945495605, -6.346199989318848, -6.346099853515625, -6.346099853515625, -6.346099853515625, -6.162700176239014, -6.1504998207092285, -6.169000148773193, -6.216700077056885, -6.19290018081665, -6.218500137329102, -6.2195000648498535, -6.248300075531006, -6.252500057220459, -6.248000144958496, -6.247200012207031, -6.248300075531006, -6.268799781799316, -6.264100074768066, -6.268799781799316, -6.260300159454346, -6.286799907684326, -6.28000020980835, -6.2891998291015625, -6.282100200653076, -6.271999835968018, -6.284599781036377, -6.287399768829346, -6.293000221252441, -6.298500061035156, -6.299799919128418, -6.304800033569336, -6.309500217437744, -6.299099922180176, -6.306700229644775, -6.295599937438965, -6.343100070953369, -6.343500137329102, -6.343599796295166, -6.343800067901611, -6.344099998474121, -6.344099998474121, -6.344099998474121, -6.344399929046631, -6.344299793243408, -6.344299793243408, -6.344600200653076, -6.344699859619141, -6.344699859619141, -6.34499979019165, -6.34499979019165, -6.34499979019165, -6.345200061798096, -6.34499979019165, -6.345399856567383, -6.345399856567383, -6.344900131225586, -6.345399856567383, -6.345300197601318, -6.345600128173828, -6.3454999923706055, -6.345399856567383, -6.345200061798096, -6.345399856567383, -6.345799922943115, -6.345399856567383, -6.345600128173828, -6.170400142669678, -6.1666998863220215, -6.154099941253662, -6.173799991607666, -6.209000110626221, -6.247000217437744, -6.2444000244140625, -6.251299858093262, -6.263199806213379, -6.256700038909912, -6.275000095367432, -6.255199909210205, -6.28439998626709, -6.269400119781494, -6.27239990234375, -6.285999774932861, -6.271900177001953, -6.2795000076293945, -6.28439998626709, -6.277200222015381, -6.288599967956543, -6.288000106811523, -6.29040002822876, -6.306600093841553, -6.304800033569336, -6.30210018157959, -6.3024001121521, -6.3109002113342285, -6.3078999519348145, -6.308800220489502, -6.3007001876831055, -6.344200134277344, -6.343999862670898, -6.343800067901611, -6.344200134277344, -6.344600200653076, -6.344699859619141, -6.344600200653076, -6.34499979019165, -6.344799995422363, -6.344799995422363, -6.345099925994873, -6.345099925994873, -6.345200061798096, -6.34499979019165, -6.345099925994873, -6.3454999923706055, -6.345200061798096, -6.345399856567383, -6.345300197601318, -6.345099925994873, -6.345300197601318, -6.345699787139893, -6.345399856567383, -6.3454999923706055, -6.3454999923706055, -6.3454999923706055, -6.345399856567383, -6.3454999923706055, -6.3454999923706055, -6.3454999923706055, -6.345399856567383, -6.3454999923706055, -6.179900169372559, -6.176000118255615, -6.2027997970581055, -6.216100215911865, -6.223400115966797, -6.215000152587891, -6.223599910736084, -6.23859977722168, -6.235400199890137, -6.254700183868408, -6.2453999519348145, -6.267499923706055, -6.260799884796143, -6.268599987030029, -6.267499923706055, -6.275899887084961, -6.291500091552734, -6.2795000076293945, -6.293099880218506, -6.287099838256836, -6.293799877166748, -6.30079984664917, -6.295199871063232, -6.304999828338623, -6.299799919128418, -6.299900054931641, -6.313600063323975, -6.313899993896484, -6.309700012207031, -6.328199863433838, -6.310500144958496, -6.311299800872803, -6.307499885559082, -6.342599868774414, -6.343800067901611, -6.343999862670898, -6.343900203704834, -6.343999862670898, -6.343999862670898, -6.344099998474121, -6.3445000648498535, -6.344299793243408, -6.344600200653076, -6.344900131225586, -6.344600200653076, -6.344399929046631, -6.3445000648498535, -6.344600200653076, -6.344399929046631, -6.344600200653076, -6.344600200653076, -6.344799995422363, -6.344699859619141, -6.344399929046631, -6.344799995422363, -6.34499979019165, -6.344900131225586, -6.3445000648498535, -6.344900131225586, -6.345099925994873, -6.344900131225586, -6.345300197601318, -6.345099925994873, -6.344900131225586, -6.344799995422363, -6.34499979019165, -6.160299777984619, -6.196499824523926, -6.219200134277344, -6.241700172424316, -6.22629976272583, -6.239200115203857, -6.244999885559082, -6.255499839782715, -6.2617998123168945, -6.24560022354126, -6.258399963378906, -6.277599811553955, -6.263800144195557, -6.280200004577637, -6.282299995422363, -6.290500164031982, -6.288599967956543, -6.28249979019165, -6.2866997718811035, -6.291900157928467, -6.29610013961792, -6.301300048828125, -6.292200088500977, -6.297999858856201, -6.2870001792907715, -6.3024001121521, -6.307300090789795, -6.320300102233887, -6.315400123596191, -6.297100067138672, -6.311600208282471, -6.310100078582764, -6.308599948883057, -6.343200206756592, -6.343299865722656, -6.343800067901611, -6.343699932098389, -6.343900203704834, -6.343800067901611, -6.344200134277344, -6.344299793243408, -6.344299793243408, -6.3445000648498535, -6.344399929046631, -6.344600200653076, -6.344600200653076, -6.344600200653076, -6.3445000648498535, -6.344799995422363, -6.3445000648498535, -6.344399929046631, -6.344699859619141, -6.344799995422363, -6.344699859619141, -6.344900131225586, -6.34499979019165, -6.344600200653076, -6.344699859619141, -6.344799995422363, -6.3445000648498535, -6.345099925994873, -6.344900131225586, -6.344799995422363, -6.34499979019165, -6.146299839019775, -6.180099964141846, -6.209499835968018, -6.219200134277344, -6.216899871826172, -6.235499858856201, -6.239699840545654, -6.259399890899658, -6.257900238037109, -6.260900020599365, -6.276000022888184, -6.276100158691406, -6.268400192260742, -6.278800010681152, -6.288400173187256, -6.278600215911865, -6.280600070953369, -6.285399913787842, -6.288099765777588, -6.295300006866455, -6.292699813842773, -6.2993998527526855, -6.303400039672852, -6.3125, -6.309899806976318, -6.300600051879883, -6.310299873352051, -6.315199851989746, -6.311200141906738, -6.301199913024902, -6.3028998374938965, -6.31220006942749, -6.342899799346924, -6.343200206756592, -6.343500137329102, -6.343200206756592, -6.343800067901611, -6.343699932098389, -6.343800067901611, -6.343800067901611, -6.343999862670898, -6.343900203704834, -6.344299793243408, -6.343900203704834, -6.344200134277344, -6.343900203704834, -6.344299793243408, -6.344399929046631, -6.344099998474121, -6.344399929046631, -6.344299793243408, -6.344200134277344, -6.344299793243408, -6.3445000648498535, -6.344299793243408, -6.344399929046631, -6.344600200653076, -6.344699859619141, -6.344399929046631, -6.344600200653076, -6.344699859619141, -6.3445000648498535, -6.344600200653076, -6.344600200653076, -6.151700019836426, -6.152400016784668, -6.230299949645996, -6.223800182342529, -6.239799976348877, -6.257500171661377, -6.251100063323975, -6.265399932861328, -6.2631001472473145, -6.270400047302246, -6.271599769592285, -6.26200008392334, -6.270999908447266, -6.276299953460693, -6.281799793243408, -6.280600070953369, -6.2895002365112305, -6.299099922180176, -6.2895002365112305, -6.305699825286865, -6.301499843597412, -6.308599948883057, -6.309000015258789, -6.309100151062012, -6.297800064086914, -6.320899963378906, -6.310999870300293, -6.303699970245361, -6.306099891662598, -6.305799961090088, -6.309500217437744, -6.309899806976318, -6.341800212860107, -6.34119987487793, -6.34250020980835, -6.342700004577637, -6.342299938201904, -6.342800140380859, -6.343200206756592, -6.342800140380859, -6.3429999351501465, -6.342899799346924, -6.343299865722656, -6.343200206756592, -6.343100070953369, -6.342700004577637, -6.343299865722656, -6.343200206756592, -6.343200206756592, -6.343500137329102, -6.343400001525879, -6.342899799346924, -6.343500137329102, -6.343500137329102, -6.343299865722656, -6.343400001525879, -6.343699932098389, -6.343699932098389, -6.343500137329102, -6.343599796295166, -6.343699932098389, -6.343599796295166, -6.343599796295166, -6.343599796295166, -6.343599796295166, -6.22790002822876, -6.220399856567383, -6.236100196838379, -6.242199897766113, -6.253799915313721, -6.265699863433838, -6.258800029754639, -6.2677998542785645, -6.273600101470947, -6.275599956512451, -6.274799823760986, -6.282199859619141, -6.280600070953369, -6.287199974060059, -6.306099891662598, -6.283299922943115, -6.298999786376953, -6.298699855804443, -6.2993998527526855, -6.299200057983398, -6.302599906921387, -6.306700229644775, -6.308800220489502, -6.3053998947143555, -6.3119001388549805, -6.312300205230713, -6.310500144958496, -6.311399936676025, -6.310400009155273, -6.314899921417236, -6.314799785614014, -6.34089994430542, -6.341100215911865, -6.34089994430542, -6.341400146484375, -6.341300010681152, -6.341300010681152, -6.3414998054504395, -6.341599941253662, -6.341300010681152, -6.341599941253662, -6.341700077056885, -6.341700077056885, -6.341800212860107, -6.341599941253662, -6.3414998054504395, -6.341599941253662, -6.341400146484375, -6.341599941253662, -6.341800212860107, -6.341800212860107, -6.341899871826172, -6.342199802398682, -6.341700077056885, -6.341899871826172, -6.3420000076293945, -6.342100143432617, -6.3420000076293945, -6.341800212860107, -6.3420000076293945, -6.341899871826172, -6.341899871826172, -6.341899871826172, -6.341899871826172, -6.341899871826172, -6.341899871826172, -6.249899864196777, -6.251999855041504, -6.264100074768066, -6.267199993133545, -6.273600101470947, -6.283299922943115, -6.293499946594238, -6.2941999435424805, -6.297599792480469, -6.2972002029418945, -6.306300163269043, -6.303400039672852, -6.301700115203857, -6.3003997802734375, -6.306600093841553, -6.308899879455566, -6.3105998039245605, -6.314899921417236, -6.318600177764893, -6.321400165557861, -6.317500114440918, -6.322500228881836, -6.324999809265137, -6.3171000480651855, -6.3256001472473145, -6.326000213623047, -6.3221001625061035, -6.323999881744385, -6.322299957275391, -6.324100017547607, -6.3165998458862305, -6.319699764251709, -6.321599960327148, -6.341000080108643, -6.340700149536133, -6.341000080108643, -6.34119987487793, -6.341100215911865, -6.341000080108643, -6.341000080108643, -6.341300010681152, -6.341400146484375, -6.341100215911865, -6.34119987487793, -6.341400146484375, -6.341300010681152, -6.3414998054504395, -6.3414998054504395, -6.341599941253662, -6.341700077056885, -6.341599941253662, -6.341400146484375, -6.3414998054504395, -6.341400146484375, -6.341400146484375, -6.34119987487793, -6.3420000076293945, -6.341800212860107, -6.341700077056885, -6.341599941253662, -6.341899871826172, -6.3414998054504395, -6.341800212860107, -6.3414998054504395, -6.3414998054504395, -6.341599941253662, -6.341700077056885, -6.259099960327148, -6.267399787902832, -6.264599800109863, -6.2916998863220215, -6.290500164031982, -6.289599895477295, -6.291999816894531, -6.295899868011475, -6.296000003814697, -6.299900054931641, -6.2947998046875, -6.299699783325195, -6.304200172424316, -6.303500175476074, -6.302299976348877, -6.305500030517578, -6.309299945831299, -6.309500217437744, -6.309599876403809, -6.3119001388549805, -6.312300205230713, -6.319399833679199, -6.314899921417236, -6.315899848937988, -6.314499855041504, -6.322299957275391, -6.321100234985352, -6.323699951171875, -6.329400062561035, -6.32450008392334, -6.324699878692627, -6.340099811553955, -6.340700149536133, -6.341000080108643, -6.34089994430542, -6.340799808502197, -6.341300010681152, -6.341100215911865, -6.341100215911865, -6.341400146484375, -6.34119987487793, -6.3414998054504395, -6.341100215911865, -6.341100215911865, -6.3414998054504395, -6.341700077056885, -6.341100215911865, -6.34119987487793, -6.3414998054504395, -6.341100215911865, -6.341300010681152, -6.341400146484375, -6.34119987487793, -6.341300010681152, -6.341400146484375, -6.341400146484375, -6.341300010681152, -6.341300010681152, -6.341599941253662, -6.341400146484375, -6.341599941253662, -6.34119987487793, -6.341599941253662, -6.3414998054504395, -6.3414998054504395, -6.267199993133545, -6.263899803161621, -6.275700092315674, -6.279399871826172, -6.28410005569458, -6.272299766540527, -6.291900157928467, -6.2947001457214355, -6.2957000732421875, -6.303500175476074, -6.304500102996826, -6.305799961090088, -6.307499885559082, -6.30649995803833, -6.313499927520752, -6.309199810028076, -6.312900066375732, -6.310699939727783, -6.321599960327148, -6.32289981842041, -6.3256001472473145, -6.317800045013428, -6.3180999755859375, -6.326900005340576, -6.326900005340576, -6.327099800109863, -6.3206000328063965, -6.322500228881836, -6.324900150299072, -6.325300216674805, -6.325699806213379, -6.325699806213379, -6.326399803161621, -6.34060001373291, -6.34060001373291, -6.34089994430542, -6.340700149536133, -6.340700149536133, -6.340700149536133, -6.340799808502197, -6.341100215911865, -6.341000080108643, -6.341100215911865, -6.34089994430542, -6.34089994430542, -6.341300010681152, -6.34119987487793, -6.341000080108643, -6.34119987487793, -6.341100215911865, -6.341000080108643, -6.341100215911865, -6.34119987487793, -6.341300010681152, -6.34119987487793, -6.341100215911865, -6.341300010681152, -6.34119987487793, -6.34119987487793, -6.341599941253662, -6.34119987487793, -6.34089994430542, -6.341400146484375, -6.341000080108643, -6.341100215911865, -6.34119987487793, -6.262899875640869, -6.275199890136719, -6.278200149536133, -6.295199871063232, -6.2941999435424805, -6.295599937438965, -6.303400039672852, -6.300600051879883, -6.304100036621094, -6.305200099945068, -6.302199840545654, -6.310200214385986, -6.315000057220459, -6.313399791717529, -6.311500072479248, -6.3125, -6.309999942779541, -6.311100006103516, -6.314499855041504, -6.316100120544434, -6.3144001960754395, -6.320499897003174, -6.322500228881836, -6.322800159454346, -6.321300029754639, -6.3256001472473145, -6.319200038909912, -6.32420015335083, -6.327099800109863, -6.3231000900268555, -6.3221001625061035, -6.322999954223633, -6.3231000900268555, -6.339700222015381, -6.3403000831604, -6.340099811553955, -6.340099811553955, -6.340199947357178, -6.340099811553955, -6.340400218963623, -6.340000152587891, -6.340199947357178, -6.3403000831604, -6.3403000831604, -6.3403000831604, -6.3403000831604, -6.3404998779296875, -6.3403000831604, -6.340700149536133, -6.3404998779296875, -6.3403000831604, -6.340400218963623, -6.340199947357178, -6.340400218963623, -6.340400218963623, -6.34060001373291, -6.3403000831604, -6.3404998779296875, -6.340400218963623, -6.340799808502197, -6.34060001373291, -6.340700149536133, -6.340700149536133, -6.3404998779296875, -6.340400218963623, -6.340400218963623, -6.34060001373291, -6.3404998779296875, -6.3404998779296875, -6.3404998779296875, -6.3404998779296875, -6.279900074005127, -6.2957000732421875, -6.299499988555908, -6.3043999671936035, -6.308199882507324, -6.309299945831299, -6.306000232696533, -6.312699794769287, -6.315700054168701, -6.31220006942749, -6.315100193023682, -6.315299987792969, -6.3180999755859375, -6.3190999031066895, -6.3206000328063965, -6.321199893951416, -6.321599960327148, -6.321899890899658, -6.321899890899658, -6.3221001625061035, -6.32420015335083, -6.324399948120117, -6.324999809265137, -6.326700210571289, -6.328000068664551, -6.328700065612793, -6.32919979095459, -6.329400062561035, -6.329800128936768, -6.329899787902832, -6.339799880981445, -6.3394999504089355, -6.339900016784668, -6.340099811553955, -6.340000152587891, -6.340099811553955, -6.3403000831604, -6.340000152587891, -6.340199947357178, -6.3403000831604, -6.340199947357178, -6.340099811553955, -6.3404998779296875, -6.3403000831604, -6.3404998779296875, -6.340199947357178, -6.340700149536133, -6.340199947357178, -6.3404998779296875, -6.34060001373291, -6.3403000831604, -6.3404998779296875, -6.3403000831604, -6.340400218963623, -6.340400218963623, -6.340099811553955, -6.3404998779296875, -6.340799808502197, -6.34060001373291, -6.3404998779296875, -6.340400218963623, -6.340400218963623, -6.340400218963623, -6.3403000831604, -6.340400218963623, -6.3403000831604, -6.3403000831604, -6.340400218963623, -6.340400218963623, -6.340400218963623, -6.340400218963623, -6.299900054931641, -6.30079984664917, -6.304500102996826, -6.302299976348877, -6.304200172424316, -6.304699897766113, -6.312300205230713, -6.315899848937988, -6.3180999755859375, -6.316500186920166, -6.3155999183654785, -6.31820011138916, -6.3190999031066895, -6.3196001052856445, -6.320000171661377, -6.320099830627441, -6.320300102233887, -6.321599960327148, -6.3225998878479, -6.322700023651123, -6.323400020599365, -6.3242998123168945, -6.325699806213379, -6.326399803161621, -6.3267998695373535, -6.327000141143799, -6.327300071716309, -6.328100204467773, -6.329599857330322, -6.329899787902832, -6.339399814605713, -6.339799880981445, -6.339600086212158, -6.339900016784668, -6.339900016784668, -6.340000152587891, -6.340000152587891, -6.340099811553955, -6.340400218963623, -6.340199947357178, -6.340099811553955, -6.340000152587891, -6.340400218963623, -6.3403000831604, -6.340099811553955, -6.340099811553955, -6.3403000831604, -6.3403000831604, -6.340099811553955, -6.34060001373291, -6.340199947357178, -6.3403000831604, -6.340400218963623, -6.340099811553955, -6.3403000831604, -6.3404998779296875, -6.339900016784668, -6.340099811553955, -6.3403000831604, -6.3403000831604, -6.339900016784668, -6.340199947357178, -6.340199947357178, -6.340099811553955, -6.340199947357178, -6.340199947357178, -6.340199947357178, -6.340199947357178, -6.3403000831604, -6.340199947357178, -6.296800136566162, -6.299099922180176, -6.306099891662598, -6.310800075531006, -6.309000015258789, -6.31220006942749, -6.314799785614014, -6.309999942779541, -6.316999912261963, -6.311299800872803, -6.315700054168701, -6.319300174713135, -6.319699764251709, -6.320000171661377, -6.321300029754639, -6.321700096130371, -6.323500156402588, -6.323500156402588, -6.324900150299072, -6.327000141143799, -6.327300071716309, -6.327700138092041, -6.328700065612793, -6.32919979095459, -6.329599857330322, -6.329599857330322, -6.330100059509277, -6.330399990081787, -6.330399990081787, -6.330599784851074], \"Term\": [\"austin\", \"business\", \"analyst\", \"ago\", \"job\", \"day\", \"risk\", \"analytic\", \"client\", \"employee\", \"work\", \"service\", \"process\", \"product\", \"schwab\", \"experience\", \"team\", \"operation\", \"apply\", \"opportunity\", \"specialist\", \"ability\", \"support\", \"cray\", \"include\", \"company\", \"drive\", \"yrs\", \"retirement\", \"life\", \"austin\", \"business\", \"analyst\", \"ago\", \"job\", \"day\", \"analytic\", \"risk\", \"client\", \"work\", \"employee\", \"process\", \"product\", \"service\", \"experience\", \"schwab\", \"apply\", \"team\", \"operation\", \"ability\", \"opportunity\", \"specialist\", \"cray\", \"support\", \"yrs\", \"drive\", \"company\", \"include\", \"retirement\", \"analytical\", \"farm\", \"respond\", \"matching\", \"reward\", \"legally\", \"transform\", \"quantitatively\", \"compliance\", \"mother\", \"hand\", \"computing\", \"diversify\", \"field\", \"minnesota\", \"category\", \"keyword\", \"term\", \"wednesday\", \"assist\", \"purpose\", \"driving\", \"age\", \"salesforce\", \"expression\", \"rate\", \"lynn\", \"organizational\", \"assessment\", \"look\", \"tolerance\", \"parental\", \"impact\", \"ago\", \"austin\", \"day\", \"job\", \"business\", \"team\", \"analyst\", \"analytic\", \"ability\", \"schwab\", \"employee\", \"client\", \"opportunity\", \"experience\", \"work\", \"risk\", \"operation\", \"service\", \"product\", \"process\", \"cray\", \"support\", \"drive\", \"apply\", \"specialist\", \"equal\", \"engineering\", \"company\", \"yrs\", \"finance\", \"include\", \"specific\", \"adherence\", \"creative\", \"impact\", \"serve\", \"discussion\", \"reasonable\", \"comp\", \"lifecycle\", \"loyalty\", \"achieve\", \"quantitatively\", \"speak\", \"treasury\", \"response\", \"washington\", \"building\", \"coordinate\", \"analsyt\", \"exceed\", \"polycom\", \"amherst\", \"relevant\", \"cen\", \"tier\", \"integrity\", \"update\", \"addition\", \"sabbatical\", \"sex\", \"activation\", \"inquire\", \"austin\", \"employee\", \"analyst\", \"day\", \"client\", \"product\", \"business\", \"process\", \"risk\", \"analytic\", \"job\", \"operation\", \"service\", \"specialist\", \"work\", \"experience\", \"opportunity\", \"team\", \"company\", \"ago\", \"apply\", \"ability\", \"life\", \"include\", \"schwab\", \"time\", \"responsible\", \"finance\", \"relate\", \"yrs\", \"status\", \"support\", \"cray\", \"share\", \"response\", \"advocacy\", \"professionally\", \"absolute\", \"term\", \"organizational\", \"collaboratively\", \"transform\", \"analyze\", \"procedure\", \"offshore\", \"regular\", \"face\", \"margin\", \"gift\", \"spirit\", \"smart\", \"adaptable\", \"september\", \"genetic\", \"output\", \"design\", \"desire\", \"electrical\", \"creative\", \"software\", \"exceed\", \"parental\", \"mba\", \"order\", \"return\", \"austin\", \"ago\", \"business\", \"analyst\", \"day\", \"job\", \"analytic\", \"risk\", \"process\", \"schwab\", \"service\", \"operation\", \"product\", \"client\", \"employee\", \"work\", \"apply\", \"specialist\", \"champion\", \"pace\", \"relate\", \"experience\", \"team\", \"customer\", \"opportunity\", \"develop\", \"engineering\", \"drive\", \"cray\", \"year\", \"ability\", \"support\", \"yrs\", \"location\", \"completion\", \"analy\", \"intensity\", \"horton\", \"require\", \"growth\", \"record\", \"look\", \"fortunato\", \"advanced\", \"core\", \"speak\", \"computer\", \"learn\", \"stock\", \"healthy\", \"know\", \"handle\", \"offshore\", \"seek\", \"discovery\", \"minnesota\", \"building\", \"visualization\", \"governance\", \"online\", \"superior\", \"electrical\", \"build\", \"able\", \"austin\", \"ago\", \"work\", \"risk\", \"business\", \"analyst\", \"job\", \"employee\", \"ability\", \"service\", \"schwab\", \"day\", \"analytic\", \"product\", \"operation\", \"process\", \"account\", \"company\", \"support\", \"apply\", \"customer\", \"client\", \"specialist\", \"team\", \"experience\", \"yrs\", \"retirement\", \"opportunity\", \"include\", \"strategy\", \"drive\", \"cray\", \"organizational\", \"guide\", \"field\", \"communicate\", \"discuss\", \"professional\", \"efficient\", \"highly\", \"monitor\", \"accept\", \"assistant\", \"description\", \"commitment\", \"future\", \"liability\", \"compensation\", \"genetic\", \"aus\", \"vital\", \"achievement\", \"try\", \"farm\", \"maintain\", \"discipline\", \"enter\", \"perform\", \"comptroller\", \"serve\", \"large\", \"discriminate\", \"storm\", \"interest\", \"build\", \"analyst\", \"austin\", \"business\", \"day\", \"client\", \"risk\", \"job\", \"analytic\", \"ago\", \"schwab\", \"employee\", \"service\", \"opportunity\", \"product\", \"support\", \"team\", \"apply\", \"include\", \"specialist\", \"account\", \"work\", \"develop\", \"payroll\", \"cray\", \"drive\", \"strategy\", \"experience\", \"process\", \"operation\", \"yrs\", \"life\", \"ability\", \"pmo\", \"workforce\", \"managing\", \"sabbatical\", \"discriminate\", \"analyze\", \"recommend\", \"visualisation\", \"core\", \"asset\", \"coordination\", \"trend\", \"title\", \"adherence\", \"spirit\", \"specifically\", \"organizational\", \"gracy\", \"convention\", \"professional\", \"understandable\", \"transaction\", \"exist\", \"resolution\", \"interest\", \"monitor\", \"wednesday\", \"overview\", \"description\", \"acceptance\", \"accessible\", \"erisa\", \"analyst\", \"austin\", \"business\", \"process\", \"ago\", \"risk\", \"day\", \"product\", \"experience\", \"work\", \"client\", \"job\", \"operation\", \"service\", \"schwab\", \"analytic\", \"company\", \"ability\", \"include\", \"opportunity\", \"employee\", \"team\", \"specialist\", \"cray\", \"yrs\", \"drive\", \"analytical\", \"hour\", \"support\", \"strategy\", \"apply\", \"graduate\", \"coordinate\", \"bloomington\", \"formulate\", \"national\", \"gender\", \"certification\", \"spirit\", \"crucial\", \"schedule\", \"discriminate\", \"spend\", \"specification\", \"share\", \"focus\", \"effort\", \"demand\", \"officer\", \"assessment\", \"highly\", \"indicator\", \"optimistic\", \"onsite\", \"live\", \"fitness\", \"key\", \"lane\", \"main\", \"cpa\", \"decade\", \"mba\", \"ago\", \"business\", \"austin\", \"analyst\", \"day\", \"product\", \"work\", \"process\", \"apply\", \"analytic\", \"specialist\", \"job\", \"support\", \"employee\", \"service\", \"cray\", \"client\", \"experience\", \"opportunity\", \"risk\", \"team\", \"schwab\", \"operation\", \"digital\", \"relate\", \"include\", \"drive\", \"skill\", \"plan\", \"finance\", \"ability\", \"coordinate\", \"contract\", \"indicator\", \"regard\", \"demand\", \"ancestry\", \"accuracy\", \"cpa\", \"title\", \"able\", \"trend\", \"highly\", \"vital\", \"successful\", \"overview\", \"legally\", \"strategically\", \"appreciate\", \"crucial\", \"mba\", \"aus\", \"respond\", \"electronic\", \"amherst\", \"bring\", \"expression\", \"origin\", \"know\", \"recent\", \"excellent\", \"quantitative\", \"relationship\", \"analyst\", \"austin\", \"ago\", \"analytic\", \"client\", \"job\", \"risk\", \"service\", \"business\", \"process\", \"day\", \"apply\", \"employee\", \"product\", \"work\", \"schwab\", \"drive\", \"operation\", \"cray\", \"experience\", \"ability\", \"company\", \"specialist\", \"financial\", \"support\", \"opportunity\", \"success\", \"decision\", \"analytical\", \"right\", \"retirement\", \"strategy\", \"team\", \"introduction\", \"liability\", \"core\", \"communicate\", \"proficiency\", \"rd\", \"offer\", \"associate\", \"color\", \"line\", \"handle\", \"washington\", \"onsite\", \"search\", \"expectation\", \"orientation\", \"real\", \"career\", \"graduate\", \"officer\", \"lifestyle\", \"office\", \"margin\", \"efficiently\", \"inclusion\", \"modelling\", \"adaptable\", \"excellent\", \"speak\", \"face\", \"policy\", \"tuition\", \"happy\", \"austin\", \"business\", \"risk\", \"client\", \"analyst\", \"job\", \"analytic\", \"work\", \"schwab\", \"ago\", \"employee\", \"operation\", \"day\", \"apply\", \"experience\", \"support\", \"ability\", \"service\", \"team\", \"cray\", \"yrs\", \"strategy\", \"opportunity\", \"drive\", \"process\", \"include\", \"status\", \"management\", \"datum\", \"product\", \"account\", \"company\", \"specialist\", \"earner\", \"identity\", \"inquiry\", \"ambiguity\", \"accept\", \"regard\", \"location\", \"report\", \"enter\", \"fitness\", \"capacity\", \"organization\", \"solid\", \"advanced\", \"depth\", \"establish\", \"complex\", \"flexibility\", \"structure\", \"american\", \"keyword\", \"accuracy\", \"demand\", \"background\", \"choice\", \"possible\", \"relationship\", \"personalize\", \"chuck\", \"exciting\", \"interest\", \"austin\", \"analyst\", \"job\", \"ago\", \"business\", \"analytic\", \"risk\", \"apply\", \"client\", \"work\", \"team\", \"experience\", \"day\", \"service\", \"cray\", \"employee\", \"product\", \"process\", \"schwab\", \"support\", \"specialist\", \"include\", \"finance\", \"hour\", \"customer\", \"ability\", \"status\", \"success\", \"equal\", \"operation\", \"opportunity\", \"company\", \"online\", \"handle\", \"volunteer\", \"investing\", \"guide\", \"affordable\", \"appreciate\", \"healthy\", \"gracy\", \"discovery\", \"vital\", \"proud\", \"focus\", \"follow\", \"maintain\", \"highly\", \"impact\", \"cpa\", \"gender\", \"education\", \"contingent\", \"modelling\", \"operational\", \"manufacture\", \"expression\", \"contribute\", \"managing\", \"acuman\", \"addition\", \"complex\", \"excellent\", \"military\", \"business\", \"austin\", \"job\", \"analyst\", \"analytic\", \"experience\", \"day\", \"work\", \"client\", \"product\", \"service\", \"ago\", \"risk\", \"process\", \"schwab\", \"employee\", \"ability\", \"plan\", \"operation\", \"equal\", \"cray\", \"customer\", \"strategy\", \"analytical\", \"team\", \"activity\", \"finance\", \"opportunity\", \"support\", \"specialist\", \"include\", \"apply\", \"wednesday\", \"solve\", \"contribute\", \"lynn\", \"volume\", \"efficient\", \"regularly\", \"concept\", \"superior\", \"contract\", \"guide\", \"spirit\", \"online\", \"pride\", \"analsyt\", \"purpose\", \"respect\", \"ancestry\", \"spend\", \"order\", \"bring\", \"governance\", \"liberate\", \"check\", \"diversify\", \"speak\", \"growth\", \"acceptance\", \"affordable\", \"core\", \"visualization\", \"current\", \"asset\", \"business\", \"austin\", \"analyst\", \"job\", \"analytic\", \"work\", \"ago\", \"risk\", \"employee\", \"service\", \"client\", \"experience\", \"process\", \"product\", \"relate\", \"day\", \"opportunity\", \"operation\", \"team\", \"schwab\", \"specialist\", \"support\", \"drive\", \"apply\", \"status\", \"finance\", \"include\", \"yrs\", \"cray\", \"strategy\", \"ability\", \"discipline\", \"associate\", \"excel\", \"regularly\", \"mother\", \"continuous\", \"graduate\", \"workforce\", \"delivery\", \"professionally\", \"trend\", \"line\", \"discriminate\", \"loyalty\", \"partnership\", \"ve\", \"identity\", \"transaction\", \"cen\", \"accept\", \"look\", \"respond\", \"wall\", \"storm\", \"efficient\", \"matching\", \"relevant\", \"exist\", \"optimistic\", \"parental\", \"structure\", \"background\", \"large\", \"achievement\", \"main\", \"analyst\", \"austin\", \"job\", \"business\", \"ago\", \"analytic\", \"service\", \"client\", \"process\", \"employee\", \"specialist\", \"product\", \"risk\", \"day\", \"experience\", \"schwab\", \"apply\", \"cray\", \"company\", \"strategy\", \"opportunity\", \"analytical\", \"champion\", \"operation\", \"success\", \"applicant\", \"yrs\", \"develop\", \"drive\", \"customer\", \"work\", \"team\", \"support\", \"handle\", \"color\", \"officer\", \"hand\", \"minnesota\", \"build\", \"offer\", \"workforce\", \"appreciate\", \"curious\", \"depth\", \"fitness\", \"structure\", \"lynn\", \"design\", \"future\", \"spirit\", \"discipline\", \"growth\", \"keyword\", \"food\", \"english\", \"fifth\", \"wednesday\", \"discussion\", \"recent\", \"purchase\", \"coordinate\", \"investigation\", \"optimistic\", \"stock\", \"timelin\", \"sexual\", \"september\", \"analyst\", \"business\", \"austin\", \"service\", \"employee\", \"ago\", \"day\", \"product\", \"client\", \"schwab\", \"job\", \"analytic\", \"experience\", \"work\", \"risk\", \"process\", \"operation\", \"apply\", \"team\", \"specialist\", \"ability\", \"create\", \"support\", \"cray\", \"opportunity\", \"success\", \"plan\", \"account\", \"pay\", \"retirement\", \"life\", \"polycom\", \"gender\", \"loyalty\", \"parental\", \"transaction\", \"guide\", \"storm\", \"understand\", \"transform\", \"discussion\", \"vital\", \"submission\", \"contract\", \"future\", \"respond\", \"managing\", \"master\", \"discriminate\", \"quantitative\", \"fortunato\", \"age\", \"exciting\", \"know\", \"convention\", \"expression\", \"excel\", \"communicate\", \"description\", \"independently\", \"destiny\", \"communication\", \"party\", \"execute\", \"interpret\", \"day\", \"analyst\", \"business\", \"job\", \"risk\", \"austin\", \"analytic\", \"client\", \"ago\", \"employee\", \"service\", \"product\", \"experience\", \"work\", \"support\", \"process\", \"ability\", \"schwab\", \"develop\", \"analytical\", \"position\", \"team\", \"operation\", \"good\", \"digital\", \"employer\", \"apply\", \"specialist\", \"yrs\", \"status\", \"include\", \"cray\", \"opportunity\", \"certification\", \"officer\", \"design\", \"partnership\", \"dynamic\", \"current\", \"independently\", \"inquiry\", \"american\", \"timely\", \"internal\", \"recommend\", \"legally\", \"appreciate\", \"spend\", \"collaboratively\", \"focus\", \"tomorrow\", \"capability\", \"look\", \"hand\", \"category\", \"firm\", \"organization\", \"report\", \"bloomington\", \"handle\", \"relocation\", \"issue\", \"comp\", \"june\", \"multiple\", \"license\", \"austin\", \"job\", \"business\", \"work\", \"analyst\", \"ago\", \"apply\", \"analytic\", \"employee\", \"service\", \"day\", \"specialist\", \"support\", \"team\", \"product\", \"experience\", \"client\", \"risk\", \"schwab\", \"operation\", \"process\", \"company\", \"strategy\", \"life\", \"include\", \"protect\", \"ability\", \"analytical\", \"charle\", \"yrs\", \"opportunity\", \"cray\", \"drive\", \"storm\", \"handle\", \"analsyt\", \"online\", \"establish\", \"serve\", \"vital\", \"inquire\", \"mitigation\", \"comp\", \"graduate\", \"manufacturing\", \"recordkeep\", \"timely\", \"co\", \"respond\", \"speak\", \"assist\", \"mother\", \"initiative\", \"american\", \"gender\", \"personalize\", \"key\", \"expectation\", \"complex\", \"guide\", \"demand\", \"future\", \"coordinate\", \"military\", \"leave\", \"flexibility\", \"certification\", \"long\", \"performance\", \"human\", \"communication\", \"austin\", \"analyst\", \"business\", \"day\", \"client\", \"work\", \"job\", \"experience\", \"apply\", \"risk\", \"service\", \"analytic\", \"process\", \"ago\", \"specialist\", \"product\", \"team\", \"schwab\", \"operation\", \"ability\", \"cray\", \"support\", \"opportunity\", \"yrs\", \"employee\", \"life\", \"company\", \"drive\", \"status\", \"develop\", \"washington\", \"member\", \"structure\", \"fitness\", \"office\", \"tolerance\", \"desire\", \"proud\", \"co\", \"design\", \"american\", \"internal\", \"assessment\", \"volunteer\", \"future\", \"onsite\", \"respond\", \"exceptional\", \"diversify\", \"offshore\", \"apple\", \"trend\", \"officer\", \"storm\", \"intelligence\", \"september\", \"establish\", \"regularly\", \"appreciate\", \"destiny\", \"expectation\", \"title\", \"key\", \"specifically\", \"polycom\", \"community\", \"return\", \"sunday\", \"leave\", \"exist\", \"comptroller\", \"business\", \"analyst\", \"risk\", \"ago\", \"job\", \"austin\", \"client\", \"experience\", \"opportunity\", \"schwab\", \"day\", \"work\", \"employee\", \"apply\", \"service\", \"analytic\", \"product\", \"team\", \"ability\", \"process\", \"support\", \"specialist\", \"operation\", \"include\", \"develop\", \"yrs\", \"drive\", \"cray\", \"account\", \"life\", \"contribute\", \"handle\", \"respect\", \"cen\", \"apple\", \"accept\", \"trading\", \"amherst\", \"vital\", \"sex\", \"expectation\", \"continuous\", \"legally\", \"cpa\", \"monitor\", \"military\", \"superior\", \"workforce\", \"large\", \"wednesday\", \"depth\", \"specification\", \"discuss\", \"reimbursement\", \"solid\", \"offshore\", \"knowledge\", \"transaction\", \"fitness\", \"gender\", \"activation\", \"excel\", \"healthy\", \"operational\", \"inquire\", \"major\", \"oxford\", \"relationship\", \"enable\", \"working\", \"business\", \"austin\", \"day\", \"process\", \"job\", \"analytic\", \"work\", \"analyst\", \"experience\", \"ago\", \"risk\", \"schwab\", \"client\", \"service\", \"employee\", \"specialist\", \"opportunity\", \"product\", \"ability\", \"support\", \"cray\", \"apply\", \"team\", \"operation\", \"yrs\", \"company\", \"status\", \"retirement\", \"plan\", \"analytical\"]}, \"plot.opts\": {\"xlab\": \"PC1\", \"ylab\": \"PC2\"}, \"topic.order\": [14, 20, 7, 16, 10, 19, 8, 9, 15, 3, 18, 17, 5, 11, 1, 4, 2, 12, 13, 6], \"lambda.step\": 0.01, \"token.table\": {\"Term\": [\"ability\", \"able\", \"absolute\", \"accept\", \"acceptance\", \"accessible\", \"account\", \"accuracy\", \"achieve\", \"achievement\", \"activation\", \"activity\", \"acuman\", \"adaptable\", \"addition\", \"adherence\", \"advanced\", \"advocacy\", \"affordable\", \"age\", \"ago\", \"ambiguity\", \"american\", \"amherst\", \"analsyt\", \"analy\", \"analyst\", \"analytic\", \"analytical\", \"analyze\", \"ancestry\", \"apple\", \"applicant\", \"apply\", \"appreciate\", \"assessment\", \"asset\", \"assist\", \"assistant\", \"associate\", \"aus\", \"austin\", \"background\", \"bloomington\", \"bring\", \"build\", \"building\", \"business\", \"capability\", \"capacity\", \"career\", \"category\", \"cen\", \"certification\", \"champion\", \"charle\", \"check\", \"choice\", \"chuck\", \"client\", \"co\", \"collaboratively\", \"color\", \"commitment\", \"communicate\", \"communication\", \"community\", \"comp\", \"company\", \"compensation\", \"completion\", \"complex\", \"compliance\", \"comptroller\", \"computer\", \"computing\", \"concept\", \"contingent\", \"continuous\", \"contract\", \"contribute\", \"convention\", \"coordinate\", \"coordination\", \"core\", \"cpa\", \"cray\", \"create\", \"creative\", \"crucial\", \"curious\", \"current\", \"customer\", \"datum\", \"day\", \"decade\", \"decision\", \"delivery\", \"demand\", \"depth\", \"description\", \"design\", \"desire\", \"destiny\", \"develop\", \"digital\", \"discipline\", \"discovery\", \"discriminate\", \"discuss\", \"discussion\", \"diversify\", \"drive\", \"driving\", \"dynamic\", \"earner\", \"education\", \"efficient\", \"efficiently\", \"effort\", \"electrical\", \"electronic\", \"employee\", \"employer\", \"enable\", \"engineering\", \"english\", \"enter\", \"equal\", \"erisa\", \"establish\", \"exceed\", \"excel\", \"excellent\", \"exceptional\", \"exciting\", \"execute\", \"exist\", \"expectation\", \"experience\", \"expression\", \"face\", \"farm\", \"field\", \"fifth\", \"finance\", \"financial\", \"firm\", \"fitness\", \"flexibility\", \"focus\", \"follow\", \"food\", \"formulate\", \"fortunato\", \"future\", \"gender\", \"genetic\", \"gift\", \"good\", \"governance\", \"gracy\", \"graduate\", \"growth\", \"guide\", \"hand\", \"handle\", \"happy\", \"healthy\", \"highly\", \"horton\", \"hour\", \"human\", \"identity\", \"impact\", \"include\", \"inclusion\", \"independently\", \"indicator\", \"initiative\", \"inquire\", \"inquiry\", \"integrity\", \"intelligence\", \"intensity\", \"interest\", \"internal\", \"interpret\", \"introduction\", \"investigation\", \"investing\", \"issue\", \"job\", \"june\", \"key\", \"keyword\", \"know\", \"knowledge\", \"lane\", \"large\", \"learn\", \"leave\", \"legally\", \"liability\", \"liberate\", \"license\", \"life\", \"lifecycle\", \"lifestyle\", \"line\", \"live\", \"location\", \"long\", \"look\", \"loyalty\", \"lynn\", \"main\", \"maintain\", \"major\", \"management\", \"managing\", \"manufacture\", \"manufacturing\", \"margin\", \"master\", \"matching\", \"mba\", \"member\", \"military\", \"minnesota\", \"mitigation\", \"modelling\", \"monitor\", \"mother\", \"multiple\", \"national\", \"offer\", \"office\", \"officer\", \"offshore\", \"online\", \"onsite\", \"operation\", \"operational\", \"opportunity\", \"optimistic\", \"order\", \"organization\", \"organizational\", \"orientation\", \"origin\", \"output\", \"overview\", \"oxford\", \"pace\", \"parental\", \"partnership\", \"party\", \"pay\", \"payroll\", \"perform\", \"performance\", \"personalize\", \"plan\", \"pmo\", \"policy\", \"polycom\", \"position\", \"possible\", \"pride\", \"procedure\", \"process\", \"product\", \"professional\", \"professionally\", \"proficiency\", \"protect\", \"proud\", \"purchase\", \"purpose\", \"quantitative\", \"quantitatively\", \"rate\", \"rd\", \"real\", \"reasonable\", \"recent\", \"recommend\", \"record\", \"recordkeep\", \"regard\", \"regular\", \"regularly\", \"reimbursement\", \"relate\", \"relationship\", \"relevant\", \"relocation\", \"report\", \"require\", \"resolution\", \"respect\", \"respond\", \"response\", \"responsible\", \"retirement\", \"return\", \"reward\", \"right\", \"risk\", \"sabbatical\", \"salesforce\", \"schedule\", \"schwab\", \"search\", \"seek\", \"september\", \"serve\", \"service\", \"sex\", \"sexual\", \"share\", \"skill\", \"smart\", \"software\", \"solid\", \"solve\", \"speak\", \"specialist\", \"specific\", \"specifically\", \"specification\", \"spend\", \"spirit\", \"status\", \"stock\", \"storm\", \"strategically\", \"strategy\", \"structure\", \"submission\", \"success\", \"successful\", \"sunday\", \"superior\", \"support\", \"team\", \"term\", \"tier\", \"time\", \"timelin\", \"timely\", \"title\", \"tolerance\", \"tomorrow\", \"trading\", \"transaction\", \"transform\", \"treasury\", \"trend\", \"try\", \"tuition\", \"understand\", \"understandable\", \"update\", \"ve\", \"visualisation\", \"visualization\", \"vital\", \"volume\", \"volunteer\", \"wall\", \"washington\", \"wednesday\", \"work\", \"workforce\", \"working\", \"year\", \"yrs\"], \"Topic\": [1, 1, 1, 1, 1, 1, 1, 1, 1, 1, 1, 1, 1, 1, 1, 1, 1, 1, 1, 1, 1, 1, 1, 1, 1, 1, 1, 1, 1, 1, 1, 1, 1, 1, 1, 1, 1, 1, 1, 1, 1, 1, 1, 1, 1, 1, 1, 1, 1, 1, 1, 1, 1, 1, 1, 1, 1, 1, 1, 1, 1, 1, 1, 1, 1, 1, 1, 1, 1, 1, 1, 1, 1, 1, 1, 1, 1, 1, 1, 1, 1, 1, 1, 1, 1, 1, 1, 1, 1, 1, 1, 1, 1, 1, 1, 1, 1, 1, 1, 1, 1, 1, 1, 1, 1, 1, 1, 1, 1, 1, 1, 1, 1, 1, 1, 1, 1, 1, 1, 1, 1, 1, 1, 1, 1, 1, 1, 1, 1, 1, 1, 1, 1, 1, 1, 1, 1, 1, 1, 1, 1, 1, 1, 1, 1, 1, 1, 1, 1, 1, 1, 1, 1, 1, 1, 1, 1, 1, 1, 1, 1, 1, 1, 1, 1, 1, 1, 1, 1, 1, 1, 1, 1, 1, 1, 1, 1, 1, 1, 1, 1, 1, 1, 1, 1, 1, 1, 1, 1, 1, 1, 1, 1, 1, 1, 1, 1, 1, 1, 1, 1, 1, 1, 1, 1, 1, 1, 1, 1, 1, 1, 1, 1, 1, 1, 1, 1, 1, 1, 1, 1, 1, 1, 1, 1, 1, 1, 1, 1, 1, 1, 1, 1, 1, 1, 1, 1, 1, 1, 1, 1, 1, 1, 1, 1, 1, 1, 1, 1, 1, 1, 1, 1, 1, 1, 1, 1, 1, 1, 1, 1, 1, 1, 1, 1, 1, 1, 1, 1, 1, 1, 1, 1, 1, 1, 1, 1, 1, 1, 1, 1, 1, 1, 1, 1, 1, 1, 1, 1, 1, 1, 1, 1, 1, 1, 1, 1, 1, 1, 1, 1, 1, 1, 1, 1, 1, 1, 1, 1, 1, 1, 1, 1, 1, 1, 1, 1, 1, 1, 1, 1, 1, 1, 1, 1, 1, 1, 1, 1, 1, 1, 1, 1, 1, 1, 1, 1, 1, 1, 1, 1, 1, 1, 1, 1, 1, 1, 1, 1, 1, 1, 1, 1, 1, 1, 1, 1, 1, 1, 1, 1, 1, 1, 1, 1, 1, 1, 1, 1, 1, 1, 1, 1, 1, 1, 1, 1, 1, 1], \"Freq\": [1.018611192703247, 0.9751342535018921, 0.9750601053237915, 0.9752215147018433, 0.9752537608146667, 0.9751660823822021, 1.0145446062088013, 0.9753386974334717, 0.9754127264022827, 0.9750155806541443, 0.9748309254646301, 1.0079556703567505, 0.9752714037895203, 0.9753794074058533, 0.9753652215003967, 0.9753495454788208, 0.9753038883209229, 0.9752833247184753, 0.9753690361976624, 0.9752824306488037, 1.021898627281189, 0.9752377271652222, 0.9753081798553467, 0.9753128290176392, 0.9753839373588562, 0.9754016995429993, 1.0223863124847412, 1.021349549293518, 1.0144844055175781, 0.9751257300376892, 0.9754294157028198, 0.9752134084701538, 1.01205313205719, 1.0192087888717651, 0.9754138588905334, 0.9754845499992371, 0.9749782085418701, 0.975200891494751, 0.9752525091171265, 0.9754010438919067, 0.9752336740493774, 0.9835770130157471, 0.975059449672699, 0.975241482257843, 0.9753038883209229, 0.9751260876655579, 0.9751030802726746, 1.0225324630737305, 0.9752614498138428, 0.9751877784729004, 0.9751724600791931, 0.9752638339996338, 0.9752939939498901, 0.9752556681632996, 1.0122877359390259, 1.0119556188583374, 0.9751376509666443, 0.9750471115112305, 0.9751847982406616, 1.020965576171875, 0.9752925038337708, 0.9754438996315002, 0.9751689434051514, 0.9750704169273376, 0.9751488566398621, 0.9747965931892395, 0.9751163125038147, 0.9753725528717041, 1.016589641571045, 0.9751011729240417, 0.9752113223075867, 0.9751461744308472, 0.975214958190918, 0.9750340580940247, 0.975350558757782, 0.975328803062439, 0.9752807021141052, 0.9751162528991699, 0.9751604199409485, 0.9751788973808289, 0.97531658411026, 0.975264310836792, 0.9754416346549988, 0.9751036763191223, 0.9752476215362549, 0.975395917892456, 1.0176217555999756, 1.011940360069275, 0.9753173589706421, 0.975318968296051, 0.9751724600791931, 0.9751290082931519, 1.0147649049758911, 1.0121463537216187, 1.0216681957244873, 0.9749369621276855, 1.0120290517807007, 0.9750363230705261, 0.9754083156585693, 0.9752016067504883, 0.9753533005714417, 0.9754054546356201, 0.9754309058189392, 0.9753391146659851, 1.0146831274032593, 1.012558102607727, 0.9753293991088867, 0.9752324223518372, 0.9754028916358948, 0.975406289100647, 0.9753459095954895, 0.9754147529602051, 1.0165513753890991, 0.9752101898193359, 0.9751341342926025, 0.9750722646713257, 0.9750653505325317, 0.9753401279449463, 0.9752360582351685, 0.9753343462944031, 0.9752134680747986, 0.9752988815307617, 1.0207242965698242, 1.0119106769561768, 0.9751636385917664, 1.012444257736206, 0.9750362038612366, 0.9753389954566956, 1.0145432949066162, 0.9750651121139526, 0.9753899574279785, 0.9752272963523865, 0.9751487374305725, 0.9751479625701904, 0.975131094455719, 0.9750807285308838, 0.9750292897224426, 0.9751625061035156, 0.975272536277771, 1.0198208093643188, 0.9752816557884216, 0.9753032922744751, 0.9751336574554443, 0.9751429557800293, 0.9748654365539551, 1.0148751735687256, 1.0145782232284546, 0.9751596450805664, 0.9753075838088989, 0.9750064015388489, 0.9753603339195251, 0.9750427603721619, 0.9750239849090576, 0.9751190543174744, 0.9752262830734253, 0.9754768013954163, 0.9752785563468933, 0.9752737879753113, 0.9751160144805908, 1.0120456218719482, 0.9753305315971375, 0.975279688835144, 0.9753429889678955, 0.9751758575439453, 0.9755479693412781, 0.9754208922386169, 0.9756274819374084, 0.9750142097473145, 0.9751332402229309, 0.9754425883293152, 0.9751545190811157, 1.0120090246200562, 0.9749408960342407, 0.974976122379303, 0.9750998020172119, 1.0166598558425903, 0.9748373627662659, 0.9751763939857483, 0.9749250411987305, 0.9750871062278748, 0.9751198291778564, 0.9754172563552856, 0.9752436280250549, 0.9753302931785583, 0.9754539132118225, 0.9752301573753357, 0.9752117991447449, 0.974963903427124, 0.9752969145774841, 0.9750626087188721, 0.9749676585197449, 0.9748567342758179, 1.0218769311904907, 0.9749184846878052, 0.975141167640686, 0.9751289486885071, 0.975231945514679, 0.9748995304107666, 0.9749460220336914, 0.9751653075218201, 0.9752233624458313, 0.975165069103241, 0.9755261540412903, 0.9751794934272766, 0.9750763177871704, 0.9749411344528198, 1.0145049095153809, 0.9749912023544312, 0.9748724699020386, 0.9753619432449341, 0.9753752946853638, 0.9753044247627258, 0.9751300811767578, 0.9753731489181519, 0.975281834602356, 0.9754254221916199, 0.9751304984092712, 0.9754049181938171, 0.975145697593689, 1.008043885231018, 0.9750825762748718, 0.9750784635543823, 0.9753229022026062, 0.9753071665763855, 0.975140392780304, 0.9754294157028198, 0.9750363230705261, 0.9749612808227539, 0.9752076268196106, 0.9752875566482544, 0.9752886891365051, 0.9752207398414612, 0.9751870632171631, 0.9752711057662964, 0.9749048948287964, 0.9754301905632019, 0.9751860499382019, 0.9752400517463684, 0.9751991033554077, 0.9755218625068665, 0.9753051996231079, 0.9751793742179871, 1.0194119215011597, 0.9750084280967712, 1.0187382698059082, 0.9753286838531494, 0.9747653007507324, 0.9753730297088623, 0.9753069281578064, 0.9749930500984192, 0.9752196073532104, 0.9752088189125061, 0.9751921892166138, 0.975150465965271, 0.999862790107727, 0.9752252697944641, 0.9751611351966858, 0.9752066731452942, 1.0080784559249878, 1.0077145099639893, 0.975033700466156, 0.9751700758934021, 0.9754410982131958, 1.0146840810775757, 0.9749955534934998, 0.9750264883041382, 0.9751967191696167, 1.0122441053390503, 0.9751592874526978, 0.9749676585197449, 0.9752159714698792, 1.0203697681427002, 1.0203560590744019, 0.9751679301261902, 0.9753419756889343, 0.9751676917076111, 1.012274980545044, 0.9751185178756714, 0.9751448035240173, 0.9752740263938904, 0.9750176072120667, 0.9753583073616028, 0.9751796126365662, 0.9750393629074097, 0.9751884341239929, 0.975329577922821, 0.9752717614173889, 0.975142776966095, 0.975293755531311, 0.9753241539001465, 0.9751498103141785, 0.9752416014671326, 0.9756270051002502, 0.9750610589981079, 1.0147128105163574, 0.9748404026031494, 0.975311815738678, 0.975193202495575, 0.9752784371376038, 0.9751278758049011, 0.9753665924072266, 0.9753283262252808, 0.9756316542625427, 0.975333571434021, 1.0123624801635742, 1.014065146446228, 0.9750221371650696, 0.9751205444335938, 0.9995631575584412, 1.0213509798049927, 0.9752622246742249, 0.9753308296203613, 0.9751212000846863, 1.0200090408325195, 0.9751903414726257, 0.9751691818237305, 0.9750300049781799, 0.9752809405326843, 1.0205155611038208, 0.9754040837287903, 0.9750553369522095, 0.9754428863525391, 1.012223482131958, 0.9752439856529236, 0.975226879119873, 0.9752834439277649, 0.9747655391693115, 0.9754330515861511, 1.0187190771102905, 0.975090742111206, 0.9750173687934875, 0.9752992987632751, 0.9752804040908813, 0.9754819273948669, 1.0145138502120972, 0.9750636219978333, 0.9752868413925171, 0.975284218788147, 1.014836311340332, 0.9752174615859985, 0.9751684665679932, 1.0122640132904053, 0.9752115607261658, 0.9751076102256775, 0.9753563404083252, 1.01787531375885, 1.019403100013733, 0.975312352180481, 0.9751890897750854, 1.0080431699752808, 0.9750123023986816, 0.9754576683044434, 0.9752240180969238, 0.9752756357192993, 0.9752105474472046, 0.9752249717712402, 0.9750797152519226, 0.9755187034606934, 0.9753007888793945, 0.975405216217041, 0.974871814250946, 0.974891185760498, 0.9752673506736755, 0.9752447605133057, 0.9752025008201599, 0.9751946926116943, 0.9752747416496277, 0.9751962423324585, 0.9755448698997498, 0.9749245643615723, 0.9753109812736511, 0.9750816822052002, 0.9753435254096985, 0.9756343960762024, 1.0207264423370361, 0.9753735065460205, 0.9748566150665283, 1.0121771097183228, 1.0162718296051025]}};\n",
       "\n",
       "function LDAvis_load_lib(url, callback){\n",
       "  var s = document.createElement('script');\n",
       "  s.src = url;\n",
       "  s.async = true;\n",
       "  s.onreadystatechange = s.onload = callback;\n",
       "  s.onerror = function(){console.warn(\"failed to load library \" + url);};\n",
       "  document.getElementsByTagName(\"head\")[0].appendChild(s);\n",
       "}\n",
       "\n",
       "if(typeof(LDAvis) !== \"undefined\"){\n",
       "   // already loaded: just create the visualization\n",
       "   !function(LDAvis){\n",
       "       new LDAvis(\"#\" + \"ldavis_el1383620673395859603401407628\", ldavis_el1383620673395859603401407628_data);\n",
       "   }(LDAvis);\n",
       "}else if(typeof define === \"function\" && define.amd){\n",
       "   // require.js is available: use it to load d3/LDAvis\n",
       "   require.config({paths: {d3: \"https://cdnjs.cloudflare.com/ajax/libs/d3/3.5.5/d3.min\"}});\n",
       "   require([\"d3\"], function(d3){\n",
       "      window.d3 = d3;\n",
       "      LDAvis_load_lib(\"https://cdn.rawgit.com/bmabey/pyLDAvis/files/ldavis.v1.0.0.js\", function(){\n",
       "        new LDAvis(\"#\" + \"ldavis_el1383620673395859603401407628\", ldavis_el1383620673395859603401407628_data);\n",
       "      });\n",
       "    });\n",
       "}else{\n",
       "    // require.js not available: dynamically load d3 & LDAvis\n",
       "    LDAvis_load_lib(\"https://cdnjs.cloudflare.com/ajax/libs/d3/3.5.5/d3.min.js\", function(){\n",
       "         LDAvis_load_lib(\"https://cdn.rawgit.com/bmabey/pyLDAvis/files/ldavis.v1.0.0.js\", function(){\n",
       "                 new LDAvis(\"#\" + \"ldavis_el1383620673395859603401407628\", ldavis_el1383620673395859603401407628_data);\n",
       "            })\n",
       "         });\n",
       "}\n",
       "</script>"
      ],
      "text/plain": [
       "PreparedData(topic_coordinates=            Freq  cluster  topics         x    y\n",
       "topic                                           \n",
       "13     99.961266        1       1 -0.073619  0.0\n",
       "19      0.002045        1       2 -0.000671 -0.0\n",
       "6       0.002044        1       3  0.000660  0.0\n",
       "15      0.002043        1       4  0.001751 -0.0\n",
       "9       0.002043        1       5  0.002053  0.0\n",
       "18      0.002042        1       6  0.002700 -0.0\n",
       "7       0.002041        1       7  0.003186 -0.0\n",
       "8       0.002041        1       8  0.003457 -0.0\n",
       "14      0.002040        1       9  0.003545  0.0\n",
       "2       0.002040        1      10  0.003827  0.0\n",
       "17      0.002040        1      11  0.003766 -0.0\n",
       "16      0.002040        1      12  0.003931 -0.0\n",
       "4       0.002039        1      13  0.004524  0.0\n",
       "10      0.002036        1      14  0.005381 -0.0\n",
       "0       0.002036        1      15  0.005500  0.0\n",
       "3       0.002035        1      16  0.005581 -0.0\n",
       "1       0.002035        1      17  0.005719 -0.0\n",
       "11      0.002032        1      18  0.006167  0.0\n",
       "12      0.002032        1      19  0.006235 -0.0\n",
       "5       0.002031        1      20  0.006307  0.0, topic_info=     Category       Freq         Term      Total  loglift  logprob\n",
       "term                                                              \n",
       "282   Default  25.000000       austin  25.000000  30.0000  30.0000\n",
       "273   Default  19.000000     business  19.000000  29.0000  29.0000\n",
       "425   Default  19.000000      analyst  19.000000  28.0000  28.0000\n",
       "529   Default  17.000000          ago  17.000000  27.0000  27.0000\n",
       "558   Default  16.000000          job  16.000000  26.0000  26.0000\n",
       "499   Default  15.000000          day  15.000000  25.0000  25.0000\n",
       "188   Default  13.000000         risk  13.000000  24.0000  24.0000\n",
       "337   Default  13.000000     analytic  13.000000  23.0000  23.0000\n",
       "115   Default  12.000000       client  12.000000  22.0000  22.0000\n",
       "546   Default  11.000000     employee  11.000000  21.0000  21.0000\n",
       "130   Default  11.000000         work  11.000000  20.0000  20.0000\n",
       "416   Default  10.000000      service  10.000000  19.0000  19.0000\n",
       "179   Default  10.000000      process  10.000000  18.0000  18.0000\n",
       "559   Default  10.000000      product  10.000000  17.0000  17.0000\n",
       "63    Default   9.000000       schwab   9.000000  16.0000  16.0000\n",
       "255   Default   9.000000   experience   9.000000  15.0000  15.0000\n",
       "164   Default   8.000000         team   8.000000  14.0000  14.0000\n",
       "538   Default   8.000000    operation   8.000000  13.0000  13.0000\n",
       "310   Default   8.000000        apply   8.000000  12.0000  12.0000\n",
       "44    Default   7.000000  opportunity   7.000000  11.0000  11.0000\n",
       "271   Default   7.000000   specialist   7.000000  10.0000  10.0000\n",
       "487   Default   7.000000      ability   7.000000   9.0000   9.0000\n",
       "403   Default   6.000000      support   6.000000   8.0000   8.0000\n",
       "58    Default   6.000000         cray   6.000000   7.0000   7.0000\n",
       "146   Default   5.000000      include   5.000000   6.0000   6.0000\n",
       "167   Default   5.000000      company   5.000000   5.0000   5.0000\n",
       "201   Default   5.000000        drive   5.000000   4.0000   4.0000\n",
       "335   Default   5.000000          yrs   5.000000   3.0000   3.0000\n",
       "27    Default   4.000000   retirement   4.000000   2.0000   2.0000\n",
       "398   Default   4.000000         life   4.000000   1.0000   1.0000\n",
       "...       ...        ...          ...        ...      ...      ...\n",
       "273   Topic20   0.000043     business  19.559280  -2.2184  -6.2968\n",
       "282   Topic20   0.000043       austin  25.417431  -2.4827  -6.2991\n",
       "499   Topic20   0.000043          day  15.660662  -2.0054  -6.3061\n",
       "179   Topic20   0.000043      process  10.780406  -1.6367  -6.3108\n",
       "558   Topic20   0.000043          job  16.636055  -2.0687  -6.3090\n",
       "337   Topic20   0.000043     analytic  13.707354  -1.8782  -6.3122\n",
       "130   Topic20   0.000042         work  11.756333  -1.7273  -6.3148\n",
       "425   Topic20   0.000043      analyst  19.562077  -2.2317  -6.3100\n",
       "255   Topic20   0.000042   experience   9.805644  -1.5481  -6.3170\n",
       "529   Topic20   0.000043          ago  17.614271  -2.1281  -6.3113\n",
       "188   Topic20   0.000042         risk  13.707335  -1.8817  -6.3157\n",
       "63    Topic20   0.000042       schwab   9.803835  -1.5502  -6.3193\n",
       "115   Topic20   0.000042       client  12.733045  -1.8120  -6.3197\n",
       "416   Topic20   0.000042      service  10.778866  -1.6458  -6.3200\n",
       "546   Topic20   0.000042     employee  11.756357  -1.7338  -6.3213\n",
       "271   Topic20   0.000042   specialist   7.852999  -1.3308  -6.3217\n",
       "44    Topic20   0.000042  opportunity   7.852851  -1.3325  -6.3235\n",
       "559   Topic20   0.000042      product  10.780551  -1.6494  -6.3235\n",
       "487   Topic20   0.000042      ability   7.853831  -1.3340  -6.3249\n",
       "403   Topic20   0.000042      support   6.877070  -1.2033  -6.3270\n",
       "58    Topic20   0.000042         cray   6.878784  -1.2039  -6.3273\n",
       "310   Topic20   0.000042        apply   8.830379  -1.4540  -6.3277\n",
       "164   Topic20   0.000042         team   8.828696  -1.4549  -6.3287\n",
       "538   Topic20   0.000042    operation   8.828620  -1.4553  -6.3292\n",
       "335   Topic20   0.000042          yrs   5.903932  -1.0534  -6.3296\n",
       "167   Topic20   0.000042      company   5.902086  -1.0531  -6.3296\n",
       "122   Topic20   0.000042       status   4.928469  -0.8733  -6.3301\n",
       "27    Topic20   0.000042   retirement   4.930650  -0.8740  -6.3304\n",
       "185   Topic20   0.000042         plan   4.927642  -0.8734  -6.3304\n",
       "434   Topic20   0.000042   analytical   4.928612  -0.8738  -6.3306\n",
       "\n",
       "[1303 rows x 6 columns], token_table=      Topic      Freq            Term\n",
       "term                                 \n",
       "487       1  1.018611         ability\n",
       "88        1  0.975134            able\n",
       "540       1  0.975060        absolute\n",
       "481       1  0.975222          accept\n",
       "65        1  0.975254      acceptance\n",
       "433       1  0.975166      accessible\n",
       "121       1  1.014545         account\n",
       "362       1  0.975339        accuracy\n",
       "267       1  0.975413         achieve\n",
       "409       1  0.975016     achievement\n",
       "355       1  0.974831      activation\n",
       "400       1  1.007956        activity\n",
       "444       1  0.975271          acuman\n",
       "4         1  0.975379       adaptable\n",
       "350       1  0.975365        addition\n",
       "19        1  0.975350       adherence\n",
       "75        1  0.975304        advanced\n",
       "57        1  0.975283        advocacy\n",
       "1         1  0.975369      affordable\n",
       "378       1  0.975282             age\n",
       "529       1  1.021899             ago\n",
       "429       1  0.975238       ambiguity\n",
       "564       1  0.975308        american\n",
       "326       1  0.975313         amherst\n",
       "181       1  0.975384         analsyt\n",
       "557       1  0.975402           analy\n",
       "425       1  1.022386         analyst\n",
       "337       1  1.021350        analytic\n",
       "434       1  1.014484      analytical\n",
       "140       1  0.975126         analyze\n",
       "...     ...       ...             ...\n",
       "8         1  1.008043            time\n",
       "528       1  0.975012         timelin\n",
       "211       1  0.975458          timely\n",
       "59        1  0.975224           title\n",
       "235       1  0.975276       tolerance\n",
       "413       1  0.975211        tomorrow\n",
       "51        1  0.975225         trading\n",
       "9         1  0.975080     transaction\n",
       "251       1  0.975519       transform\n",
       "134       1  0.975301        treasury\n",
       "471       1  0.975405           trend\n",
       "321       1  0.974872             try\n",
       "488       1  0.974891         tuition\n",
       "330       1  0.975267      understand\n",
       "556       1  0.975245  understandable\n",
       "435       1  0.975203          update\n",
       "16        1  0.975195              ve\n",
       "420       1  0.975275   visualisation\n",
       "85        1  0.975196   visualization\n",
       "253       1  0.975545           vital\n",
       "345       1  0.974925          volume\n",
       "224       1  0.975311       volunteer\n",
       "412       1  0.975082            wall\n",
       "524       1  0.975344      washington\n",
       "46        1  0.975634       wednesday\n",
       "130       1  1.020726            work\n",
       "290       1  0.975374       workforce\n",
       "238       1  0.974857         working\n",
       "161       1  1.012177            year\n",
       "335       1  1.016272             yrs\n",
       "\n",
       "[379 rows x 3 columns], R=30, lambda_step=0.01, plot_opts={'xlab': 'PC1', 'ylab': 'PC2'}, topic_order=[14, 20, 7, 16, 10, 19, 8, 9, 15, 3, 18, 17, 5, 11, 1, 4, 2, 12, 13, 6])"
      ]
     },
     "execution_count": 341,
     "metadata": {},
     "output_type": "execute_result"
    }
   ],
   "source": [
    "pyLDAvis.gensim.prepare(lda_model,corpus, id2word)"
   ]
  },
  {
   "cell_type": "code",
   "execution_count": null,
   "metadata": {},
   "outputs": [],
   "source": []
  }
 ],
 "metadata": {
  "anaconda-cloud": {},
  "kernelspec": {
   "display_name": "Python 3",
   "language": "python",
   "name": "python3"
  },
  "language_info": {
   "codemirror_mode": {
    "name": "ipython",
    "version": 3
   },
   "file_extension": ".py",
   "mimetype": "text/x-python",
   "name": "python",
   "nbconvert_exporter": "python",
   "pygments_lexer": "ipython3",
   "version": "3.6.4"
  }
 },
 "nbformat": 4,
 "nbformat_minor": 2
}

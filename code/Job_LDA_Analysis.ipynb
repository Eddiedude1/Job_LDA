{
 "cells": [
  {
   "cell_type": "markdown",
   "metadata": {},
   "source": [
    "## Job Web-Scraping\n",
    "Note: This is intented for practice to extract real time job descriptions. Please adhere to the Robots.txt"
   ]
  },
  {
   "cell_type": "code",
   "execution_count": 180,
   "metadata": {},
   "outputs": [
    {
     "name": "stdout",
     "output_type": "stream",
     "text": [
      "[nltk_data] Downloading package wordnet to\n",
      "[nltk_data]     /Users/guillermogonzalez/nltk_data...\n",
      "[nltk_data]   Package wordnet is already up-to-date!\n"
     ]
    }
   ],
   "source": [
    "#If you are using Selenium for the first time, please download the webdriver and note the filepath\n",
    "from selenium import webdriver\n",
    "from selenium.webdriver.support.ui import Select, WebDriverWait\n",
    "from selenium.webdriver.common.keys import Keys\n",
    "from selenium.webdriver.common.by import By\n",
    "from selenium.webdriver.support import expected_conditions as EC\n",
    "\n",
    "import pandas as pd\n",
    "import numpy as np\n",
    "pd.set_option('display.max_colwidth', 100)  # increase the string length before truncating\n",
    "\n",
    "# Monitor the status of the webscraping to get an idea of how long it will take \n",
    "import time\n",
    "from tqdm import tqdm\n",
    "tqdm.monitor_interval = 0\n",
    "\n",
    "# Used as a import for dateing the CSV\n",
    "import datetime\n",
    "\n",
    "# NLP libaries\n",
    "import spacy\n",
    "from spacy.lang.en import stop_words\n",
    "\n",
    "# Punctuation attribute will be used for removing punctuation\n",
    "import string\n",
    "\n",
    "# Import nltk for removing stopwords and lemmatizing\n",
    "import nltk\n",
    "nltk.download('wordnet')\n",
    "from nltk.corpus import wordnet as wn\n",
    "\n",
    "import gensim\n",
    "import pyLDAvis.gensim\n",
    "from gensim.models import LdaModel\n",
    "import gensim.corpora as corpora  # *****\n",
    "from gensim.utils import simple_preprocess\n",
    "from gensim.models import coherencemodel\n",
    "pyLDAvis.enable_notebook()\n",
    "\n",
    "import warnings\n",
    "warnings.filterwarnings(\"ignore\")\n",
    "\n",
    "import matplotlib.pyplot as plt"
   ]
  },
  {
   "cell_type": "code",
   "execution_count": 2,
   "metadata": {},
   "outputs": [],
   "source": [
    "path_to_chromedriver = \"/Users/guillermogonzalez/projects/webscraping/chromedriver\""
   ]
  },
  {
   "cell_type": "code",
   "execution_count": 3,
   "metadata": {},
   "outputs": [
    {
     "name": "stdout",
     "output_type": "stream",
     "text": [
      "Webscraping_job_posts.ipynb chromedriver_mac64.zip\r\n",
      "\u001b[31mchromedriver\u001b[m\u001b[m                \u001b[34mjob_topic_modeling\u001b[m\u001b[m\r\n"
     ]
    }
   ],
   "source": [
    "!ls /Users/guillermogonzalez/projects/webscraping/"
   ]
  },
  {
   "cell_type": "code",
   "execution_count": 342,
   "metadata": {},
   "outputs": [],
   "source": [
    "#setup browser window\n",
    "browser = webdriver.Chrome(executable_path= path_to_chromedriver)"
   ]
  },
  {
   "cell_type": "code",
   "execution_count": 340,
   "metadata": {},
   "outputs": [],
   "source": [
    "#adds the data in URL format by removing any white space and adding the data. \n",
    "def Keyword_to_url(kw):\n",
    "    '''\n",
    "    Stips any leading and trailing white space from a string and replaces spaces with'%20'.\n",
    "    '''\n",
    "    kw = kw.strip().replace(\" \",\"%20\")\n",
    "    return kw"
   ]
  },
  {
   "cell_type": "markdown",
   "metadata": {},
   "source": [
    "### URL Example\n",
    "```https://www.careeronestop.org/Toolkit/Jobs/find-jobs.aspx?keyword=data%20analyst&ajax=0&location=austin,%20texas&radius=5&source=IN&pagesize=100&sortcolumns=accquisitiondate&sortdirections=DSC```\n",
    "- occupation: keyword=data%20analyst  \n",
    "- location: location=austin,%20texas  \n",
    "- radius: radius=5  \n",
    "- page_size: pagesize=100  \n",
    "- page_sort: sortcolumns=accquisitiondate&sortdirections=DSC  \n",
    "- source: source=IN  \n"
   ]
  },
  {
   "cell_type": "markdown",
   "metadata": {},
   "source": [
    "<img width=\"983\" alt=\"screen shot 2018-06-24 at 10 16 01 pm\" src=\"https://user-images.githubusercontent.com/7989686/41828679-4cf946ce-77fc-11e8-8b80-6479d6865873.png\">"
   ]
  },
  {
   "cell_type": "code",
   "execution_count": 217,
   "metadata": {
    "scrolled": true
   },
   "outputs": [
    {
     "name": "stderr",
     "output_type": "stream",
     "text": [
      "100%|██████████| 100/100 [00:11<00:00,  9.09it/s]\n",
      "100%|██████████| 100/100 [02:19<00:00,  1.40s/it]\n"
     ]
    }
   ],
   "source": [
    "# this will be used as the URL input for multiple job searches. \n",
    "occupation = 'data scientist' # str(input(\"Job you are looking for: \"))\n",
    "location = 'austin, texas' # str(input(\"Where do you want to look: \"))\n",
    "radius = str(5)\n",
    "page_sort = 'DSC' # ASC (ascending) or DSC (descending) dates \n",
    "page_size = \"100\" # how many pages would you like to get. \n",
    "source = 'IN' # stands for indeed\n",
    "\n",
    "#give it the site URL\n",
    "url = 'https://www.careeronestop.org/Toolkit/Jobs/find-jobs.aspx?'+\\\n",
    "    'keyword='+Keyword_to_url(occupation)+\\\n",
    "    '&ajax=0&location='+Keyword_to_url(location)+\\\n",
    "    '&radius='+radius+\\\n",
    "    '&source='+ source +\\\n",
    "    '&pagesize='+page_size+\\\n",
    "    '&sortcolumns=accquisitiondate&sortdirections='+page_sort\n",
    "browser.get(url)\n",
    "browser.implicitly_wait(30) # tells WebDriver to poll the DOM (Document Object Model) 30s \n",
    "                            # for life of WebDriver object\n",
    "\n",
    "# Default it 100 job listings for this page and this verifies that thera are 100 job titles\n",
    "listing_num = len(browser.find_elements_by_xpath('//td[@data-title=\"Job Title\"]'))\n",
    "\n",
    "job_titles = browser.find_elements_by_xpath('//td[@data-title=\"Job Title\"]') # list of job titles\n",
    "company_titles = browser.find_elements_by_xpath('//td[@data-title=\"Company\"]') # list of company titles \n",
    "locations = browser.find_elements_by_xpath('//td[@data-title=\"Location\"]') # list of locations\n",
    "dates = browser.find_elements_by_xpath('//td[@data-title=\"Date Posted\"]') # list of dates posted\n",
    "\n",
    "data = {}\n",
    "data['company'] = []\n",
    "data['date_posted'] = []\n",
    "data['location'] = []\n",
    "data['position'] = []\n",
    "data['pos_link'] = []\n",
    "data['pos_description'] = []\n",
    "\n",
    "for job in tqdm(range(listing_num)):\n",
    "    data['position'].append(job_titles[job].text) # position title\n",
    "    data['company'].append(company_titles[job].text) # comapany title\n",
    "    data['location'].append(locations[job].text) # job location\n",
    "    data['date_posted'].append(dates[job].text) # date job posted\n",
    "    # link to job description\n",
    "    data['pos_link'].append(browser.find_element_by_link_text(job_titles[job].text).get_attribute('href')) \n",
    "    \n",
    "for link in tqdm(data['pos_link']):\n",
    "    browser.get(link) # open link to job description in the same window\n",
    "    # append job description\n",
    "    data['pos_description'].append(browser.find_element_by_xpath('//td[@class=\"snip\"]').text.replace('\\n', ' '))\n",
    "    browser.back() # click the back button to return to original page\n",
    "\n",
    "# transform the dictionary into a DataFrame    \n",
    "df_ds = pd.DataFrame(data)\n",
    "       "
   ]
  },
  {
   "cell_type": "code",
   "execution_count": 220,
   "metadata": {},
   "outputs": [
    {
     "data": {
      "text/plain": [
       "(100, 6)"
      ]
     },
     "execution_count": 220,
     "metadata": {},
     "output_type": "execute_result"
    }
   ],
   "source": [
    "df_ds.shape"
   ]
  },
  {
   "cell_type": "markdown",
   "metadata": {},
   "source": [
    "# occupation = 'data scientist'  \n",
    "> #### Scrubbing dataframe to identify titles more closely matched to data science and data analyst roles"
   ]
  },
  {
   "cell_type": "code",
   "execution_count": 242,
   "metadata": {},
   "outputs": [],
   "source": [
    "# identifying all positions specific to data science or analysis\n",
    "positions_ds = df_ds['position']\n",
    "ds_positions = set()\n",
    "for position in positions_ds:\n",
    "    if position.lower().find('data scientist') > -1 \\\n",
    "        or position.lower().find('analyst') > -1\\\n",
    "        or position.lower().find('machine learning') > -1\\\n",
    "        or position.lower().find('ai') > -1\\\n",
    "        or position.lower().find('data science') > -1\\\n",
    "        or position.lower().find('analytics') > -1:\n",
    "        ds_positions.add(position)    "
   ]
  },
  {
   "cell_type": "code",
   "execution_count": 243,
   "metadata": {},
   "outputs": [
    {
     "data": {
      "text/plain": [
       "(45, 6)"
      ]
     },
     "execution_count": 243,
     "metadata": {},
     "output_type": "execute_result"
    }
   ],
   "source": [
    "# data science/analyst positions in this list\n",
    "df_ds[ df_ds['position'].isin(ds_positions) ].shape"
   ]
  },
  {
   "cell_type": "code",
   "execution_count": 244,
   "metadata": {},
   "outputs": [
    {
     "data": {
      "text/plain": [
       "Index(['Data Scientist', 'Senior Data Scientist',\n",
       "       'Part Time Data Science Instructor',\n",
       "       'Data Scientist/Modeling & Simulation Engineer',\n",
       "       'Data Scientist – IoT Cloud Services',\n",
       "       'Manager, Decision Analytics Services',\n",
       "       'Air Quality Staff Engineer/Scientist', 'Data Scientist II',\n",
       "       'Digital Analytics Consultant, Decision Analytics (Risk Analsyt/Modeler)',\n",
       "       'Data Scientist, IdentityAI', 'Sr Data Scientist',\n",
       "       'DATA SCIENTIST BL LAB',\n",
       "       'Sr. Data Scientist/Modeling & Simulation Engineer Expert',\n",
       "       'Associate Data Scientist',\n",
       "       'Senior Business Analyst, Decision Analytics Services',\n",
       "       'Digital Analytics Consultant, Decision Analytics (Senior Modeler)',\n",
       "       'Senior Director, Data Science',\n",
       "       'Data Analyst Disaster Recovery Implementation',\n",
       "       'Senior Scientist, Data Science Architect',\n",
       "       'Quantitative Marketing Analyst', 'Business Analyst',\n",
       "       'Data Scientist/Cognitive Software Engineer',\n",
       "       'Digital Analytics Consultant, Decision Analytics',\n",
       "       'Hadoop Developer - Data Scientist Remote', 'IA Policy Analyst',\n",
       "       'AI Strategy Consultant - Financial Services', 'Data Scientist - TX',\n",
       "       'Network Security Analyst', 'Senior Data Warehouse Analyst',\n",
       "       'Business Intelligence Analyst', 'Senior Business Intellegence Analyst',\n",
       "       'Data Science Manager', 'PRINCIPAL DATA SCIENTIST BL LAB',\n",
       "       'AI Strategy Consultant - Digital Commerce',\n",
       "       'Data Scientist (Big Data) IV (8 years)'],\n",
       "      dtype='object')"
      ]
     },
     "execution_count": 244,
     "metadata": {},
     "output_type": "execute_result"
    }
   ],
   "source": [
    "df_ds[ df_ds['position'].isin(ds_positions) ]['position'].value_counts().index"
   ]
  },
  {
   "cell_type": "code",
   "execution_count": 245,
   "metadata": {},
   "outputs": [],
   "source": [
    "# identifying non-data science or analysis positions\n",
    "non_ds_positions = set()\n",
    "for position in positions_ds:\n",
    "    if position.lower().find('data scientist') == -1 \\\n",
    "        and position.lower().find('analyst') == -1\\\n",
    "        and position.lower().find('machine learning') == -1\\\n",
    "        and position.lower().find('ai') == -1\\\n",
    "        and position.lower().find('data science') == -1\\\n",
    "        and position.lower().find('analytics') == -1:\n",
    "        non_ds_positions.add(position)    "
   ]
  },
  {
   "cell_type": "code",
   "execution_count": 246,
   "metadata": {},
   "outputs": [
    {
     "data": {
      "text/plain": [
       "(55, 6)"
      ]
     },
     "execution_count": 246,
     "metadata": {},
     "output_type": "execute_result"
    }
   ],
   "source": [
    "# non-data science/analyst positions in this list\n",
    "df_ds[ df_ds['position'].isin(non_ds_positions) ].shape"
   ]
  },
  {
   "cell_type": "code",
   "execution_count": 247,
   "metadata": {},
   "outputs": [
    {
     "data": {
      "text/plain": [
       "Index(['Test Technician 1', 'Product Owner',\n",
       "       'Billing Call Center Representative', 'Power BI Developer',\n",
       "       'Medical Technologist', 'Software Developer', 'Research Scientist III',\n",
       "       'Engineering Scientist - Sensor Systems Engineering Scientist',\n",
       "       'Clinical Data Review Assistant', 'QA Lead',\n",
       "       'Research Scientist - Sedimentary Petrographer',\n",
       "       'Epigenetics Specialist', 'Director of Product Development',\n",
       "       'Sr Big Data Engineer', 'Technical Account Manager',\n",
       "       'Nokia IoT IMPACT platform summer intern',\n",
       "       'Research Engineering/ Scientist Associate IV - 3D Geomodeler',\n",
       "       'Data Engineer', 'Research Associate II',\n",
       "       'Senior Scientist, Development',\n",
       "       'Research Engineering/ Scientist Assistant',\n",
       "       'Research Engineering/ Scientist Associate III',\n",
       "       'Senior Environmental Project Manager',\n",
       "       'Senior Environmental Scientist', 'Account Manager',\n",
       "       'Security Specialist', 'SOFTWARE ENGINEER III (BLACK LOCUS)',\n",
       "       'Research Engineering/ Scientist Associate III - TexNet Operations Associate',\n",
       "       'UI Designer', 'Sales Engineer', 'Engineering Scientist Associate',\n",
       "       'Engineering Scientist Associate - Geospatial Software Developer',\n",
       "       'Forensic Scientist - Chemistry', 'Senior Data Engineer',\n",
       "       'Software Engineer', 'Document Control Coordinator',\n",
       "       'Environmental Services - Supplies & Logistics Intern',\n",
       "       'Research Associate', 'Data Software Engineer',\n",
       "       'Scientist, Research & Development', 'Senior Scientist, Research',\n",
       "       'Lead Flow Cytometry Tech',\n",
       "       'Engineering Scientist - R and D Scientific Software Developer',\n",
       "       'Research Engineering/ Scientist Associate IV - Research Engineering Scientist Associate IV, Neurosurgery',\n",
       "       'Cognitive Software Engineer',\n",
       "       'Assistant Cultural Resources Specialist/Historian',\n",
       "       'Software Engineer (QA)',\n",
       "       'Research Engineering/ Scientist Associate II - Research Assistant, Psychiatry',\n",
       "       'Molecular Research and Development Scientist',\n",
       "       'Research Engineering/ Scientist Associate II - Research Associate, Data Integration Team, Department of Population Health',\n",
       "       'Account Executive - Texas', 'Developer Advocate, Python',\n",
       "       'Engineering Scientist - Storage Architect',\n",
       "       'Senior Materials Engineer Austin, TX'],\n",
       "      dtype='object')"
      ]
     },
     "execution_count": 247,
     "metadata": {},
     "output_type": "execute_result"
    }
   ],
   "source": [
    "df_ds[ df_ds['position'].isin(non_ds_positions) ]['position'].value_counts().index"
   ]
  },
  {
   "cell_type": "code",
   "execution_count": 269,
   "metadata": {},
   "outputs": [
    {
     "name": "stdout",
     "output_type": "stream",
     "text": [
      "55.0% of data are non-data science titles\n"
     ]
    }
   ],
   "source": [
    "print('{:.3}% of data are non-data science titles'.format(\n",
    "                                (df_ds[ df_ds['position'].isin(non_ds_positions) ].shape[0]/len(df_ds))*100))"
   ]
  },
  {
   "cell_type": "markdown",
   "metadata": {},
   "source": [
    "# occupation = 'data analyst'\n",
    "> #### Scrubbing dataframe to identify titles more closely matched to data science and data analyst roles"
   ]
  },
  {
   "cell_type": "code",
   "execution_count": 343,
   "metadata": {},
   "outputs": [
    {
     "name": "stderr",
     "output_type": "stream",
     "text": [
      "100%|██████████| 100/100 [00:09<00:00, 10.01it/s]\n",
      "100%|██████████| 100/100 [02:08<00:00,  1.29s/it]\n"
     ]
    }
   ],
   "source": [
    "# this will be used as the URL input for multiple job searches. \n",
    "occupation = 'data analyst' # str(input(\"Job you are looking for: \"))\n",
    "location = 'austin, texas' # str(input(\"Where do you want to look: \"))\n",
    "radius = str(5)\n",
    "page_sort = 'DSC' # ASC (ascending) or DSC (descending) dates \n",
    "page_size = \"100\" # how many pages would you like to get. \n",
    "source = 'IN' # stands for indeed\n",
    "\n",
    "#give it the site URL\n",
    "url = 'https://www.careeronestop.org/Toolkit/Jobs/find-jobs.aspx?'+\\\n",
    "    'keyword='+Keyword_to_url(occupation)+\\\n",
    "    '&ajax=0&location='+Keyword_to_url(location)+\\\n",
    "    '&radius='+radius+\\\n",
    "    '&source='+ source +\\\n",
    "    '&pagesize='+page_size+\\\n",
    "    '&sortcolumns=accquisitiondate&sortdirections='+page_sort\n",
    "browser.get(url)\n",
    "browser.implicitly_wait(30)\n",
    "\n",
    "# Default is 100 job listings for this page and this verifies that thera are 100 job titles\n",
    "listing_num = len(browser.find_elements_by_xpath('//td[@data-title=\"Job Title\"]'))\n",
    "\n",
    "job_titles = browser.find_elements_by_xpath('//td[@data-title=\"Job Title\"]')\n",
    "company_titles = browser.find_elements_by_xpath('//td[@data-title=\"Company\"]')\n",
    "locations = browser.find_elements_by_xpath('//td[@data-title=\"Location\"]')\n",
    "dates = browser.find_elements_by_xpath('//td[@data-title=\"Date Posted\"]')\n",
    "\n",
    "data = {}\n",
    "data['company'] = []\n",
    "data['date_posted'] = []\n",
    "data['location'] = []\n",
    "data['position'] = []\n",
    "data['pos_link'] = []\n",
    "data['pos_description'] = []\n",
    "\n",
    "for job in tqdm(range(listing_num)):\n",
    "    data['position'].append(job_titles[job].text) # position title\n",
    "    data['company'].append(company_titles[job].text) # comapany title\n",
    "    data['location'].append(locations[job].text) # job location\n",
    "    data['date_posted'].append(dates[job].text) # date job posted\n",
    "    # link to job description\n",
    "    data['pos_link'].append(browser.find_element_by_link_text(job_titles[job].text).get_attribute('href')) \n",
    "    \n",
    "for link in tqdm(data['pos_link']):\n",
    "    browser.get(link) # open link to job description in the same window\n",
    "    # append job description\n",
    "    data['pos_description'].append(browser.find_element_by_xpath('//td[@class=\"snip\"]').text.replace('\\n', ' '))\n",
    "    browser.back() # click the back button to return to original page\n",
    "\n",
    "# transform the dictionary into a DataFrame    \n",
    "df = pd.DataFrame(data)"
   ]
  },
  {
   "cell_type": "code",
   "execution_count": 344,
   "metadata": {},
   "outputs": [],
   "source": [
    "# identifying all positions specific to data science or analysis\n",
    "positions_da = df['position']\n",
    "da_positions = set()\n",
    "for position in positions_da:\n",
    "    if position.lower().find('data scientist') > -1 \\\n",
    "        or position.lower().find('analyst') > -1\\\n",
    "        or position.lower().find('machine learning') > -1\\\n",
    "        or position.lower().find('ai') > -1\\\n",
    "        or position.lower().find('data science') > -1\\\n",
    "        or position.lower().find('analytics') > -1:\n",
    "        da_positions.add(position)    "
   ]
  },
  {
   "cell_type": "code",
   "execution_count": 150,
   "metadata": {},
   "outputs": [],
   "source": [
    "# Need to come back to, but was making a function to drop rows that were not relavent job posts\n",
    "def ds_or_da(dataframe):\n",
    "    index_to_drop = []\n",
    "    for position in dataframe['position']:\n",
    "        if position.lower().find('data scientist') == -1 \\\n",
    "        and position.lower().find('analyst') == -1\\\n",
    "        and position.lower().find('machine learning') == -1\\\n",
    "        and position.lower().find('ai') == -1\\\n",
    "        and position.lower().find('data science') == -1\\\n",
    "        and position.lower().find('analytics') == -1:\n",
    "            index_to_drop.append(position.index())  \n",
    "        \n",
    "    return index_to_drop\n",
    "            "
   ]
  },
  {
   "cell_type": "code",
   "execution_count": 345,
   "metadata": {},
   "outputs": [
    {
     "data": {
      "text/plain": [
       "(98, 6)"
      ]
     },
     "execution_count": 345,
     "metadata": {},
     "output_type": "execute_result"
    }
   ],
   "source": [
    "# data science/analyst positions in this list\n",
    "df[ df['position'].isin(da_positions) ].shape"
   ]
  },
  {
   "cell_type": "code",
   "execution_count": 351,
   "metadata": {},
   "outputs": [
    {
     "data": {
      "text/plain": [
       "0                                     Inventory Data Analyst\n",
       "1                                      Regional Data Analyst\n",
       "2                             Business Analyst - GIS Analyst\n",
       "3                                      Food Curation Analyst\n",
       "4                                    Data Scientist 4, Poker\n",
       "5                                     Business Analyst 3-Ops\n",
       "6    Data Analyst (Consumer Lending) - Analytic Consultant 4\n",
       "7                                      Data Analyst with MDM\n",
       "8                      Business Intelligence Analyst - Sales\n",
       "9                      Business Intelligence Analyst - Sales\n",
       "Name: position, dtype: object"
      ]
     },
     "execution_count": 351,
     "metadata": {},
     "output_type": "execute_result"
    }
   ],
   "source": [
    "# Sample of ru\n",
    "df[ df['position'].isin(da_positions) ]['position'][:10]"
   ]
  },
  {
   "cell_type": "code",
   "execution_count": 347,
   "metadata": {},
   "outputs": [],
   "source": [
    "# identifying non-data science or analysis positions\n",
    "non_da_positions = set()\n",
    "for position in positions_da:\n",
    "    if position.lower().find('data scientist') == -1 \\\n",
    "        and position.lower().find('analyst') == -1\\\n",
    "        and position.lower().find('machine learning') == -1\\\n",
    "        and position.lower().find('ai') == -1\\\n",
    "        and position.lower().find('data science') == -1\\\n",
    "        and position.lower().find('analytics') == -1:\n",
    "        non_da_positions.add(position)    "
   ]
  },
  {
   "cell_type": "code",
   "execution_count": 348,
   "metadata": {},
   "outputs": [
    {
     "data": {
      "text/plain": [
       "(2, 6)"
      ]
     },
     "execution_count": 348,
     "metadata": {},
     "output_type": "execute_result"
    }
   ],
   "source": [
    "# there are 11 non-data science/analyst positions in this list\n",
    "df[ df['position'].isin(non_da_positions) ].shape"
   ]
  },
  {
   "cell_type": "code",
   "execution_count": 349,
   "metadata": {},
   "outputs": [
    {
     "data": {
      "text/plain": [
       "27      Data Engineer\n",
       "87    Data Strategist\n",
       "Name: position, dtype: object"
      ]
     },
     "execution_count": 349,
     "metadata": {},
     "output_type": "execute_result"
    }
   ],
   "source": [
    "df[ df['position'].isin(non_da_positions) ]['position']"
   ]
  },
  {
   "cell_type": "code",
   "execution_count": 352,
   "metadata": {},
   "outputs": [
    {
     "name": "stdout",
     "output_type": "stream",
     "text": [
      "2.0% of data are non-data science titles\n"
     ]
    }
   ],
   "source": [
    "print('{:.3}% of data are non-data science titles'.format((df[ df['position'].isin(non_da_positions) ]\\\n",
    "                                                            .shape[0]/len(df))*100))"
   ]
  },
  {
   "cell_type": "code",
   "execution_count": 401,
   "metadata": {},
   "outputs": [
    {
     "data": {
      "text/html": [
       "<div>\n",
       "<style scoped>\n",
       "    .dataframe tbody tr th:only-of-type {\n",
       "        vertical-align: middle;\n",
       "    }\n",
       "\n",
       "    .dataframe tbody tr th {\n",
       "        vertical-align: top;\n",
       "    }\n",
       "\n",
       "    .dataframe thead th {\n",
       "        text-align: right;\n",
       "    }\n",
       "</style>\n",
       "<table border=\"1\" class=\"dataframe\">\n",
       "  <thead>\n",
       "    <tr style=\"text-align: right;\">\n",
       "      <th></th>\n",
       "      <th>company</th>\n",
       "      <th>date_posted</th>\n",
       "      <th>location</th>\n",
       "      <th>pos_description</th>\n",
       "      <th>pos_link</th>\n",
       "      <th>position</th>\n",
       "    </tr>\n",
       "  </thead>\n",
       "  <tbody>\n",
       "    <tr>\n",
       "      <th>0</th>\n",
       "      <td>Four Hands</td>\n",
       "      <td>07/11/2018</td>\n",
       "      <td>Austin, TX</td>\n",
       "      <td>Our Four Hands team is looking for an Inventory Data Analyst to join the Inventory Control team....</td>\n",
       "      <td>http://www.indeed.com/viewjob?jk=96ebe26a988ddb57&amp;qd=gMF-077E7aWVyicXRrUZA568_ZMafrHmjPUuefcLv6b...</td>\n",
       "      <td>Inventory Data Analyst</td>\n",
       "    </tr>\n",
       "    <tr>\n",
       "      <th>1</th>\n",
       "      <td>GateHouse Media, Inc</td>\n",
       "      <td>07/11/2018</td>\n",
       "      <td>Austin, TX</td>\n",
       "      <td>Summary Media is seeking an experienced Data Analyst to support the regional Consumer Revenue te...</td>\n",
       "      <td>http://www.indeed.com/viewjob?jk=fe39960c0ac7f34d&amp;qd=gMF-077E7aWVyicXRrUZA568_ZMafrHmjPUuefcLv6b...</td>\n",
       "      <td>Regional Data Analyst</td>\n",
       "    </tr>\n",
       "    <tr>\n",
       "      <th>2</th>\n",
       "      <td>University of Texas at Austin</td>\n",
       "      <td>07/10/2018</td>\n",
       "      <td>Austin, TX</td>\n",
       "      <td>Purpose To maintain current, accurate and complete geolocation data for the built environment at...</td>\n",
       "      <td>http://www.indeed.com/viewjob?jk=f72ff2930f74a3d5&amp;qd=gMF-077E7aWVyicXRrUZA568_ZMafrHmjPUuefcLv6b...</td>\n",
       "      <td>Business Analyst - GIS Analyst</td>\n",
       "    </tr>\n",
       "    <tr>\n",
       "      <th>3</th>\n",
       "      <td>ZeroCater</td>\n",
       "      <td>07/10/2018</td>\n",
       "      <td>Austin, TX</td>\n",
       "      <td>At ZeroCater, we believe food is one of the easiest, and most effective, ways to build culture i...</td>\n",
       "      <td>http://www.indeed.com/viewjob?jk=09a97835efc5e42f&amp;qd=gMF-077E7aWVyicXRrUZA568_ZMafrHmjPUuefcLv6b...</td>\n",
       "      <td>Food Curation Analyst</td>\n",
       "    </tr>\n",
       "    <tr>\n",
       "      <th>4</th>\n",
       "      <td>Zynga</td>\n",
       "      <td>07/10/2018</td>\n",
       "      <td>Austin, TX</td>\n",
       "      <td>Zynga’s data science team uses our unique and expansive data to model and predict user behavior,...</td>\n",
       "      <td>http://www.indeed.com/viewjob?jk=cdc3c8a3a140f0c9&amp;qd=gMF-077E7aWVyicXRrUZA568_ZMafrHmjPUuefcLv6b...</td>\n",
       "      <td>Data Scientist 4, Poker</td>\n",
       "    </tr>\n",
       "  </tbody>\n",
       "</table>\n",
       "</div>"
      ],
      "text/plain": [
       "                         company date_posted    location  \\\n",
       "0                     Four Hands  07/11/2018  Austin, TX   \n",
       "1           GateHouse Media, Inc  07/11/2018  Austin, TX   \n",
       "2  University of Texas at Austin  07/10/2018  Austin, TX   \n",
       "3                      ZeroCater  07/10/2018  Austin, TX   \n",
       "4                          Zynga  07/10/2018  Austin, TX   \n",
       "\n",
       "                                                                                       pos_description  \\\n",
       "0  Our Four Hands team is looking for an Inventory Data Analyst to join the Inventory Control team....   \n",
       "1  Summary Media is seeking an experienced Data Analyst to support the regional Consumer Revenue te...   \n",
       "2  Purpose To maintain current, accurate and complete geolocation data for the built environment at...   \n",
       "3  At ZeroCater, we believe food is one of the easiest, and most effective, ways to build culture i...   \n",
       "4  Zynga’s data science team uses our unique and expansive data to model and predict user behavior,...   \n",
       "\n",
       "                                                                                              pos_link  \\\n",
       "0  http://www.indeed.com/viewjob?jk=96ebe26a988ddb57&qd=gMF-077E7aWVyicXRrUZA568_ZMafrHmjPUuefcLv6b...   \n",
       "1  http://www.indeed.com/viewjob?jk=fe39960c0ac7f34d&qd=gMF-077E7aWVyicXRrUZA568_ZMafrHmjPUuefcLv6b...   \n",
       "2  http://www.indeed.com/viewjob?jk=f72ff2930f74a3d5&qd=gMF-077E7aWVyicXRrUZA568_ZMafrHmjPUuefcLv6b...   \n",
       "3  http://www.indeed.com/viewjob?jk=09a97835efc5e42f&qd=gMF-077E7aWVyicXRrUZA568_ZMafrHmjPUuefcLv6b...   \n",
       "4  http://www.indeed.com/viewjob?jk=cdc3c8a3a140f0c9&qd=gMF-077E7aWVyicXRrUZA568_ZMafrHmjPUuefcLv6b...   \n",
       "\n",
       "                         position  \n",
       "0          Inventory Data Analyst  \n",
       "1           Regional Data Analyst  \n",
       "2  Business Analyst - GIS Analyst  \n",
       "3           Food Curation Analyst  \n",
       "4         Data Scientist 4, Poker  "
      ]
     },
     "execution_count": 401,
     "metadata": {},
     "output_type": "execute_result"
    }
   ],
   "source": [
    "df.head()"
   ]
  },
  {
   "cell_type": "markdown",
   "metadata": {},
   "source": [
    "# Text Preprocessing"
   ]
  },
  {
   "cell_type": "markdown",
   "metadata": {},
   "source": [
    "## Create function to REMOVE PUCTUATION"
   ]
  },
  {
   "cell_type": "code",
   "execution_count": 560,
   "metadata": {},
   "outputs": [
    {
     "data": {
      "text/plain": [
       "'!\"#$%&\\'()*+,-./:;<=>?@[\\\\]^_`{|}~'"
      ]
     },
     "execution_count": 560,
     "metadata": {},
     "output_type": "execute_result"
    }
   ],
   "source": [
    "string.punctuation"
   ]
  },
  {
   "cell_type": "markdown",
   "metadata": {},
   "source": [
    "#### Function DOES NOT WORK with this dataset (see below why)"
   ]
  },
  {
   "cell_type": "code",
   "execution_count": 403,
   "metadata": {},
   "outputs": [],
   "source": [
    "# sring of all punctuations\n",
    "string.punctuation\n",
    "\n",
    "def remove_punct(text):\n",
    "    # only returns char not in the punctuation list then join the characters to look like the original document                                                                                  #  punctuation list\n",
    "    text_nopunct = ''.join([char for char in text if char not in string.punctuation]) \n",
    "    return text_nopunct\n",
    "\n",
    "# make a new colum of the descriptions with punctuation removed\n",
    "df['docs_nopunct'] = df['pos_description'].apply(lambda x: remove_punct(x))"
   ]
  },
  {
   "cell_type": "markdown",
   "metadata": {},
   "source": [
    "Noticed that there are still apostrophies in the new column???"
   ]
  },
  {
   "cell_type": "code",
   "execution_count": 404,
   "metadata": {},
   "outputs": [
    {
     "name": "stdout",
     "output_type": "stream",
     "text": [
      "You can see that \"'\" from the punctuation string does not look like \"’\" from the document and this is what it like\n",
      " manually typed \"'\"\n"
     ]
    }
   ],
   "source": [
    "# the apostrophe from the document does not match the puncutation string's apostophe; need to find another solution\n",
    "print('You can see that \\\"{}\\\" from the punctuation string does not look like \\\"{}\\\" from the document and\\\n",
    " this is what it like\\n manually typed \\\"{}\\\"'.format(string.punctuation[6], df['docs_nopunct'][4][5],'\\''))"
   ]
  },
  {
   "cell_type": "markdown",
   "metadata": {},
   "source": [
    "#### Function WORKS correctly utilizing regex"
   ]
  },
  {
   "cell_type": "code",
   "execution_count": 405,
   "metadata": {},
   "outputs": [],
   "source": [
    "import re"
   ]
  },
  {
   "cell_type": "code",
   "execution_count": 406,
   "metadata": {},
   "outputs": [],
   "source": [
    "# Using regular expressions to remove punctuation\n",
    "def remove_punct(text):\n",
    "    '''\n",
    "    Finds all word elements only and joins all the stings on ' '\n",
    "    '''\n",
    "    text_nopunct = ' '.join(re.findall('\\w+', text)) # \\w+ selects word elements only \n",
    "    return text_nopunct\n",
    "\n",
    "df['docs_nopunct'] = df['pos_description'].apply(lambda x: remove_punct(x))"
   ]
  },
  {
   "cell_type": "markdown",
   "metadata": {},
   "source": [
    "## Create a function to TOKENIZE the text"
   ]
  },
  {
   "cell_type": "code",
   "execution_count": 408,
   "metadata": {},
   "outputs": [],
   "source": [
    "def tokenizer(text):\n",
    "    docs_tokenized = re.split('\\W+', text)\n",
    "    return docs_tokenized   \n",
    "\n",
    "df['docs_tokenized'] = df['docs_nopunct'].apply(lambda x: tokenizer(x.lower()))"
   ]
  },
  {
   "cell_type": "markdown",
   "metadata": {},
   "source": [
    "## Create a function to REMOVE STOPWORDS"
   ]
  },
  {
   "cell_type": "code",
   "execution_count": 410,
   "metadata": {},
   "outputs": [],
   "source": [
    "stopwords = nltk.corpus.stopwords.words('english')"
   ]
  },
  {
   "cell_type": "code",
   "execution_count": 411,
   "metadata": {},
   "outputs": [],
   "source": [
    "def remove_stopwords(tokenized_text):\n",
    "    docs_no_stopwords = [word for word in tokenized_text if word not in stopwords]\n",
    "    return docs_no_stopwords     \n",
    "\n",
    "df['docs_tokenized_nostopwords'] = df['docs_tokenized'].apply(lambda x: remove_stopwords(x))"
   ]
  },
  {
   "cell_type": "markdown",
   "metadata": {},
   "source": [
    "## Create a function to LEMMATIZE the tokens"
   ]
  },
  {
   "cell_type": "code",
   "execution_count": 369,
   "metadata": {},
   "outputs": [],
   "source": [
    "def word_lemmatizer(word):   \n",
    "    lemma = wn.morphy(word)\n",
    "    if lemma is None:\n",
    "        return  word\n",
    "    else:\n",
    "        return lemma"
   ]
  },
  {
   "cell_type": "code",
   "execution_count": 370,
   "metadata": {},
   "outputs": [],
   "source": [
    "def doc_lemmatizer(text):\n",
    "    docs_lemmatized = [word_lemmatizer(word) for word in text]\n",
    "    return docs_lemmatized\n",
    "\n",
    "df['docs_lemmatized'] = df['docs_tokenized_nostopwords'].apply(lambda x: doc_lemmatizer(x))"
   ]
  },
  {
   "cell_type": "markdown",
   "metadata": {},
   "source": [
    "## Create a function to REMOVE CRAP WORDS"
   ]
  },
  {
   "cell_type": "code",
   "execution_count": null,
   "metadata": {},
   "outputs": [],
   "source": [
    "crap_words = ['hour', 'hours', 'day', 'days', 'minutes', 'austin', 'tx', 'ago']"
   ]
  },
  {
   "cell_type": "code",
   "execution_count": null,
   "metadata": {},
   "outputs": [],
   "source": [
    "def remove_crap(text):\n",
    "    docs_no_crap = [word for word in text if word not in crap_words]\n",
    "    return docs_no_crap\n",
    "\n",
    "df['docs_no_crap'] = df['docs_tokenized'].apply(lambda x: remove_crap(x))"
   ]
  },
  {
   "cell_type": "markdown",
   "metadata": {},
   "source": [
    "## Job recommendations at bottom of webpages\n",
    " - At the end of every job description there is a \"save job\" link.  A function was made to call out the index of \"save\" in every job post in order to index the output of the text_processing function to only include everything before it.  \n",
    "<img width=\"406\" alt=\"screen shot 2018-07-12 at 1 16 00 am\" src=\"https://user-images.githubusercontent.com/7989686/42616824-2ebf21c0-8575-11e8-9cb9-e2c0a6c037b1.png\">"
   ]
  },
  {
   "cell_type": "markdown",
   "metadata": {},
   "source": [
    "# Combining into a one TEXT PREPROCESSING FUNCTION "
   ]
  },
  {
   "cell_type": "code",
   "execution_count": 665,
   "metadata": {},
   "outputs": [],
   "source": [
    "stopwords = nltk.corpus.stopwords.words('english')\n",
    "crap_words = ['hour', 'hours', 'day', 'days', 'minutes', 'austin', 'tx', 'ago', 'experience', 'team',\n",
    "              'work', 'skill', 'understanding', 'ability', 'member', 'years', 'requirement', 'job', 'data',\n",
    "              'analyst', 'knowledge', 'require', 'include', 'provide', 'analytics']\n",
    "\n",
    "# function for wordnet lemmatizing a word returns the word if it's not in wordnet\n",
    "#  this allows there to be a combination of wordnet lemmatized words and non-wordnet words in the doc\n",
    "def word_lemmatizer(word):   \n",
    "    lemma = wn.morphy(word) \n",
    "    if lemma is None:  # return the word if there is no lemma in WordNet for that word\n",
    "        return  word\n",
    "    else:\n",
    "        return lemma\n",
    "# Bottom of web page has job recommendations. This function identifies the index of 'save' at \n",
    "# the bottom of every job description\n",
    "def save_index(text):\n",
    "    save = text.index('save')\n",
    "    return save\n",
    "\n",
    "def text_preprocess(text):\n",
    "    text_nopunct = ' '.join(re.findall('\\w+', text))  # remove puncuation by only selecting word elements '\\w+'\n",
    "    docs_tokenized = re.split('\\W+', text_nopunct)  # tokenize splitting on non-word elements '\\W+'\n",
    "    docs_no_stopwords = [word for word in docs_tokenized if word not in stopwords]  # remove stopwords\n",
    "    docs_lemmatized = [word_lemmatizer(word) for word in docs_no_stopwords]  # wordnet lemmatizing\n",
    "    docs_no_crapwords = [word for word in docs_lemmatized if word not in crap_words]  # remove crap words\n",
    "    return docs_no_crapwords[ : save_index(docs_no_crapwords)]  # return the list up to 'save'"
   ]
  },
  {
   "cell_type": "code",
   "execution_count": 666,
   "metadata": {},
   "outputs": [],
   "source": [
    "def revert(dataframe):\n",
    "    try:\n",
    "        return dataframe.drop('pos_description_processed', axis=1, inplace=True)\n",
    "    except:\n",
    "        pass\n",
    "revert(df)"
   ]
  },
  {
   "cell_type": "code",
   "execution_count": 667,
   "metadata": {},
   "outputs": [],
   "source": [
    "# Adding a new column of the processed text\n",
    "df['pos_description_processed'] = df['pos_description'].apply(lambda x: text_preprocess(x.lower()))"
   ]
  },
  {
   "cell_type": "code",
   "execution_count": 681,
   "metadata": {},
   "outputs": [
    {
     "data": {
      "text/html": [
       "<div>\n",
       "<style scoped>\n",
       "    .dataframe tbody tr th:only-of-type {\n",
       "        vertical-align: middle;\n",
       "    }\n",
       "\n",
       "    .dataframe tbody tr th {\n",
       "        vertical-align: top;\n",
       "    }\n",
       "\n",
       "    .dataframe thead th {\n",
       "        text-align: right;\n",
       "    }\n",
       "</style>\n",
       "<table border=\"1\" class=\"dataframe\">\n",
       "  <thead>\n",
       "    <tr style=\"text-align: right;\">\n",
       "      <th></th>\n",
       "      <th>company</th>\n",
       "      <th>date_posted</th>\n",
       "      <th>location</th>\n",
       "      <th>pos_description</th>\n",
       "      <th>pos_link</th>\n",
       "      <th>position</th>\n",
       "      <th>pos_description_processed</th>\n",
       "    </tr>\n",
       "  </thead>\n",
       "  <tbody>\n",
       "    <tr>\n",
       "      <th>0</th>\n",
       "      <td>Four Hands</td>\n",
       "      <td>07/11/2018</td>\n",
       "      <td>Austin, TX</td>\n",
       "      <td>Our Four Hands team is looking for an Inventory Data Analyst to join the Inventory Control team....</td>\n",
       "      <td>http://www.indeed.com/viewjob?jk=96ebe26a988ddb57&amp;qd=gMF-077E7aWVyicXRrUZA568_ZMafrHmjPUuefcLv6b...</td>\n",
       "      <td>Inventory Data Analyst</td>\n",
       "      <td>[four, hands, looking, inventory, join, inventory, control, role, ensure, location, properly, ma...</td>\n",
       "    </tr>\n",
       "    <tr>\n",
       "      <th>1</th>\n",
       "      <td>GateHouse Media, Inc</td>\n",
       "      <td>07/11/2018</td>\n",
       "      <td>Austin, TX</td>\n",
       "      <td>Summary Media is seeking an experienced Data Analyst to support the regional Consumer Revenue te...</td>\n",
       "      <td>http://www.indeed.com/viewjob?jk=fe39960c0ac7f34d&amp;qd=gMF-077E7aWVyicXRrUZA568_ZMafrHmjPUuefcLv6b...</td>\n",
       "      <td>Regional Data Analyst</td>\n",
       "      <td>[summary, medium, seeking, support, regional, consumer, revenue, role, responsible, gathering, a...</td>\n",
       "    </tr>\n",
       "    <tr>\n",
       "      <th>2</th>\n",
       "      <td>University of Texas at Austin</td>\n",
       "      <td>07/10/2018</td>\n",
       "      <td>Austin, TX</td>\n",
       "      <td>Purpose To maintain current, accurate and complete geolocation data for the built environment at...</td>\n",
       "      <td>http://www.indeed.com/viewjob?jk=f72ff2930f74a3d5&amp;qd=gMF-077E7aWVyicXRrUZA568_ZMafrHmjPUuefcLv6b...</td>\n",
       "      <td>Business Analyst - GIS Analyst</td>\n",
       "      <td>[purpose, maintain, current, accurate, complete, geolocation, build, environment, university, te...</td>\n",
       "    </tr>\n",
       "    <tr>\n",
       "      <th>3</th>\n",
       "      <td>ZeroCater</td>\n",
       "      <td>07/10/2018</td>\n",
       "      <td>Austin, TX</td>\n",
       "      <td>At ZeroCater, we believe food is one of the easiest, and most effective, ways to build culture i...</td>\n",
       "      <td>http://www.indeed.com/viewjob?jk=09a97835efc5e42f&amp;qd=gMF-077E7aWVyicXRrUZA568_ZMafrHmjPUuefcLv6b...</td>\n",
       "      <td>Food Curation Analyst</td>\n",
       "      <td>[zerocater, believe, food, one, easy, effective, ways, build, culture, office, make, easy, compa...</td>\n",
       "    </tr>\n",
       "    <tr>\n",
       "      <th>4</th>\n",
       "      <td>Zynga</td>\n",
       "      <td>07/10/2018</td>\n",
       "      <td>Austin, TX</td>\n",
       "      <td>Zynga’s data science team uses our unique and expansive data to model and predict user behavior,...</td>\n",
       "      <td>http://www.indeed.com/viewjob?jk=cdc3c8a3a140f0c9&amp;qd=gMF-077E7aWVyicXRrUZA568_ZMafrHmjPUuefcLv6b...</td>\n",
       "      <td>Data Scientist 4, Poker</td>\n",
       "      <td>[zynga, science, use, unique, expansive, model, predict, user, behavior, making, game, personali...</td>\n",
       "    </tr>\n",
       "  </tbody>\n",
       "</table>\n",
       "</div>"
      ],
      "text/plain": [
       "                         company date_posted    location  \\\n",
       "0                     Four Hands  07/11/2018  Austin, TX   \n",
       "1           GateHouse Media, Inc  07/11/2018  Austin, TX   \n",
       "2  University of Texas at Austin  07/10/2018  Austin, TX   \n",
       "3                      ZeroCater  07/10/2018  Austin, TX   \n",
       "4                          Zynga  07/10/2018  Austin, TX   \n",
       "\n",
       "                                                                                       pos_description  \\\n",
       "0  Our Four Hands team is looking for an Inventory Data Analyst to join the Inventory Control team....   \n",
       "1  Summary Media is seeking an experienced Data Analyst to support the regional Consumer Revenue te...   \n",
       "2  Purpose To maintain current, accurate and complete geolocation data for the built environment at...   \n",
       "3  At ZeroCater, we believe food is one of the easiest, and most effective, ways to build culture i...   \n",
       "4  Zynga’s data science team uses our unique and expansive data to model and predict user behavior,...   \n",
       "\n",
       "                                                                                              pos_link  \\\n",
       "0  http://www.indeed.com/viewjob?jk=96ebe26a988ddb57&qd=gMF-077E7aWVyicXRrUZA568_ZMafrHmjPUuefcLv6b...   \n",
       "1  http://www.indeed.com/viewjob?jk=fe39960c0ac7f34d&qd=gMF-077E7aWVyicXRrUZA568_ZMafrHmjPUuefcLv6b...   \n",
       "2  http://www.indeed.com/viewjob?jk=f72ff2930f74a3d5&qd=gMF-077E7aWVyicXRrUZA568_ZMafrHmjPUuefcLv6b...   \n",
       "3  http://www.indeed.com/viewjob?jk=09a97835efc5e42f&qd=gMF-077E7aWVyicXRrUZA568_ZMafrHmjPUuefcLv6b...   \n",
       "4  http://www.indeed.com/viewjob?jk=cdc3c8a3a140f0c9&qd=gMF-077E7aWVyicXRrUZA568_ZMafrHmjPUuefcLv6b...   \n",
       "\n",
       "                         position  \\\n",
       "0          Inventory Data Analyst   \n",
       "1           Regional Data Analyst   \n",
       "2  Business Analyst - GIS Analyst   \n",
       "3           Food Curation Analyst   \n",
       "4         Data Scientist 4, Poker   \n",
       "\n",
       "                                                                             pos_description_processed  \n",
       "0  [four, hands, looking, inventory, join, inventory, control, role, ensure, location, properly, ma...  \n",
       "1  [summary, medium, seeking, support, regional, consumer, revenue, role, responsible, gathering, a...  \n",
       "2  [purpose, maintain, current, accurate, complete, geolocation, build, environment, university, te...  \n",
       "3  [zerocater, believe, food, one, easy, effective, ways, build, culture, office, make, easy, compa...  \n",
       "4  [zynga, science, use, unique, expansive, model, predict, user, behavior, making, game, personali...  "
      ]
     },
     "execution_count": 681,
     "metadata": {},
     "output_type": "execute_result"
    }
   ],
   "source": [
    "df.head()"
   ]
  },
  {
   "cell_type": "markdown",
   "metadata": {},
   "source": [
    "### After reviewing the results using \"data scientist\" and \"data analyst\" there were more positive titles directly related to Data Science or Data Analytics using the \"data analyst\" keywords."
   ]
  },
  {
   "cell_type": "markdown",
   "metadata": {},
   "source": [
    "## Time for LDA"
   ]
  },
  {
   "cell_type": "code",
   "execution_count": 669,
   "metadata": {},
   "outputs": [],
   "source": [
    "# Text data\n",
    "texts = df['pos_description_processed']"
   ]
  },
  {
   "cell_type": "code",
   "execution_count": 670,
   "metadata": {},
   "outputs": [
    {
     "name": "stdout",
     "output_type": "stream",
     "text": [
      "0\n",
      "[]\n"
     ]
    }
   ],
   "source": [
    "# validating that all crap words are removed\n",
    "count = 0\n",
    "words = []\n",
    "for word in texts[0]:\n",
    "    if word in crap_words:\n",
    "        count += 1\n",
    "        words.append(word)\n",
    "print(count)\n",
    "print(words)"
   ]
  },
  {
   "cell_type": "code",
   "execution_count": 671,
   "metadata": {},
   "outputs": [],
   "source": [
    "dictionary = corpora.Dictionary(texts)"
   ]
  },
  {
   "cell_type": "code",
   "execution_count": 672,
   "metadata": {},
   "outputs": [
    {
     "data": {
      "text/html": [
       "<div>\n",
       "<style scoped>\n",
       "    .dataframe tbody tr th:only-of-type {\n",
       "        vertical-align: middle;\n",
       "    }\n",
       "\n",
       "    .dataframe tbody tr th {\n",
       "        vertical-align: top;\n",
       "    }\n",
       "\n",
       "    .dataframe thead th {\n",
       "        text-align: right;\n",
       "    }\n",
       "</style>\n",
       "<table border=\"1\" class=\"dataframe\">\n",
       "  <thead>\n",
       "    <tr style=\"text-align: right;\">\n",
       "      <th></th>\n",
       "      <th>0</th>\n",
       "      <th>1</th>\n",
       "    </tr>\n",
       "  </thead>\n",
       "  <tbody>\n",
       "    <tr>\n",
       "      <th>0</th>\n",
       "      <td>(0, 2)</td>\n",
       "      <td>four</td>\n",
       "    </tr>\n",
       "    <tr>\n",
       "      <th>1</th>\n",
       "      <td>(1, 2)</td>\n",
       "      <td>hands</td>\n",
       "    </tr>\n",
       "    <tr>\n",
       "      <th>2</th>\n",
       "      <td>(2, 1)</td>\n",
       "      <td>looking</td>\n",
       "    </tr>\n",
       "    <tr>\n",
       "      <th>3</th>\n",
       "      <td>(3, 12)</td>\n",
       "      <td>inventory</td>\n",
       "    </tr>\n",
       "    <tr>\n",
       "      <th>4</th>\n",
       "      <td>(4, 1)</td>\n",
       "      <td>join</td>\n",
       "    </tr>\n",
       "    <tr>\n",
       "      <th>5</th>\n",
       "      <td>(5, 2)</td>\n",
       "      <td>inventory</td>\n",
       "    </tr>\n",
       "    <tr>\n",
       "      <th>6</th>\n",
       "      <td>(6, 1)</td>\n",
       "      <td>control</td>\n",
       "    </tr>\n",
       "    <tr>\n",
       "      <th>7</th>\n",
       "      <td>(7, 1)</td>\n",
       "      <td>role</td>\n",
       "    </tr>\n",
       "    <tr>\n",
       "      <th>8</th>\n",
       "      <td>(8, 1)</td>\n",
       "      <td>ensure</td>\n",
       "    </tr>\n",
       "    <tr>\n",
       "      <th>9</th>\n",
       "      <td>(9, 1)</td>\n",
       "      <td>location</td>\n",
       "    </tr>\n",
       "  </tbody>\n",
       "</table>\n",
       "</div>"
      ],
      "text/plain": [
       "         0          1\n",
       "0   (0, 2)       four\n",
       "1   (1, 2)      hands\n",
       "2   (2, 1)    looking\n",
       "3  (3, 12)  inventory\n",
       "4   (4, 1)       join\n",
       "5   (5, 2)  inventory\n",
       "6   (6, 1)    control\n",
       "7   (7, 1)       role\n",
       "8   (8, 1)     ensure\n",
       "9   (9, 1)   location"
      ]
     },
     "execution_count": 672,
     "metadata": {},
     "output_type": "execute_result"
    }
   ],
   "source": [
    "# Illustration of what doc2bow is doing. \"data\" appears 5 tims in this position\n",
    "pd.concat([pd.Series(dictionary.doc2bow(texts[0])[:10]),pd.Series(texts[0][:10])], axis=1)"
   ]
  },
  {
   "cell_type": "code",
   "execution_count": 673,
   "metadata": {},
   "outputs": [
    {
     "name": "stdout",
     "output_type": "stream",
     "text": [
      "There are 0 instances of 'data'\n"
     ]
    }
   ],
   "source": [
    "# Validation that there are 5 instances of 'data' in the first job description\n",
    "count = 0\n",
    "for word in texts[0]:\n",
    "    if word == 'data':\n",
    "        count += 1\n",
    "print('There are {} instances of \\'{}\\''.format(count, 'data'))"
   ]
  },
  {
   "cell_type": "code",
   "execution_count": 674,
   "metadata": {},
   "outputs": [],
   "source": [
    "corpus = [dictionary.doc2bow(text) for text in texts]"
   ]
  },
  {
   "cell_type": "code",
   "execution_count": 675,
   "metadata": {},
   "outputs": [],
   "source": [
    "# pickling the corpus object for \n",
    "import pickle\n",
    "pickle.dump(corpus, open('corpus.pkl', 'wb'))\n",
    "dictionary.save('dictionary.gensim')"
   ]
  },
  {
   "cell_type": "markdown",
   "metadata": {},
   "source": [
    "## LDA with Gensim"
   ]
  },
  {
   "cell_type": "markdown",
   "metadata": {},
   "source": [
    "### Training a 2 topic model"
   ]
  },
  {
   "cell_type": "code",
   "execution_count": 676,
   "metadata": {},
   "outputs": [
    {
     "name": "stdout",
     "output_type": "stream",
     "text": [
      "(0, '0.017*\"business\" + 0.007*\"process\" + 0.006*\"management\" + 0.006*\"marketing\"')\n",
      "(1, '0.013*\"business\" + 0.011*\"analysis\" + 0.008*\"system\" + 0.007*\"process\"')\n"
     ]
    }
   ],
   "source": [
    "topic_count = 2\n",
    "ldamodel = gensim.models.ldamodel.LdaModel(corpus=corpus, \n",
    "                                           num_topics=topic_count,\n",
    "                                           id2word=dictionary,\n",
    "                                           passes=15,\n",
    "                                           random_state=42)\n",
    "ldamodel.save('model2.gensim')\n",
    "\n",
    "\n",
    "topics = ldamodel.print_topics(num_words=4)\n",
    "for topic in topics:\n",
    "    print(topic)"
   ]
  },
  {
   "cell_type": "markdown",
   "metadata": {},
   "source": [
    "### Training a 3 topic model"
   ]
  },
  {
   "cell_type": "code",
   "execution_count": 677,
   "metadata": {},
   "outputs": [
    {
     "name": "stdout",
     "output_type": "stream",
     "text": [
      "(0, '0.021*\"business\" + 0.011*\"process\" + 0.009*\"management\" + 0.008*\"sales\"')\n",
      "(1, '0.013*\"business\" + 0.008*\"analysis\" + 0.006*\"software\" + 0.005*\"project\"')\n",
      "(2, '0.011*\"business\" + 0.010*\"analysis\" + 0.007*\"system\" + 0.007*\"information\"')\n"
     ]
    }
   ],
   "source": [
    "topic_count = 3\n",
    "ldamodel = gensim.models.ldamodel.LdaModel(corpus=corpus, \n",
    "                                           num_topics=topic_count,\n",
    "                                           id2word=dictionary,\n",
    "                                           passes=15,\n",
    "                                           random_state=42)\n",
    "ldamodel.save('model3.gensim')\n",
    "\n",
    "\n",
    "topics = ldamodel.print_topics(num_words=4)\n",
    "for topic in topics:\n",
    "    print(topic)"
   ]
  },
  {
   "cell_type": "markdown",
   "metadata": {},
   "source": [
    "### Training a 4 topic model"
   ]
  },
  {
   "cell_type": "code",
   "execution_count": 678,
   "metadata": {},
   "outputs": [
    {
     "name": "stdout",
     "output_type": "stream",
     "text": [
      "(0, '0.022*\"business\" + 0.012*\"process\" + 0.010*\"sales\" + 0.009*\"management\"')\n",
      "(1, '0.016*\"business\" + 0.008*\"analysis\" + 0.007*\"software\" + 0.007*\"process\"')\n",
      "(2, '0.010*\"business\" + 0.010*\"analysis\" + 0.007*\"system\" + 0.006*\"information\"')\n",
      "(3, '0.014*\"business\" + 0.009*\"system\" + 0.007*\"marketing\" + 0.007*\"analysis\"')\n"
     ]
    }
   ],
   "source": [
    "topic_count = 4\n",
    "ldamodel = gensim.models.ldamodel.LdaModel(corpus=corpus, \n",
    "                                           num_topics=topic_count,\n",
    "                                           id2word=dictionary,\n",
    "                                           passes=15,\n",
    "                                           random_state=42)\n",
    "ldamodel.save('model4.gensim')\n",
    "\n",
    "\n",
    "topics = ldamodel.print_topics(num_words=4)\n",
    "for topic in topics:\n",
    "    print(topic)"
   ]
  },
  {
   "cell_type": "markdown",
   "metadata": {},
   "source": [
    "### Training a 5 topic model"
   ]
  },
  {
   "cell_type": "code",
   "execution_count": 679,
   "metadata": {},
   "outputs": [
    {
     "name": "stdout",
     "output_type": "stream",
     "text": [
      "(0, '0.025*\"business\" + 0.014*\"process\" + 0.012*\"sales\" + 0.011*\"management\"')\n",
      "(1, '0.018*\"business\" + 0.013*\"software\" + 0.011*\"process\" + 0.009*\"management\"')\n",
      "(2, '0.011*\"business\" + 0.010*\"analysis\" + 0.007*\"marketing\" + 0.006*\"customer\"')\n",
      "(3, '0.010*\"business\" + 0.008*\"system\" + 0.006*\"support\" + 0.005*\"company\"')\n",
      "(4, '0.016*\"analysis\" + 0.013*\"business\" + 0.008*\"project\" + 0.008*\"time\"')\n"
     ]
    }
   ],
   "source": [
    "topic_count = 5\n",
    "ldamodel = gensim.models.ldamodel.LdaModel(corpus=corpus, \n",
    "                                           num_topics=topic_count,\n",
    "                                           id2word=dictionary,\n",
    "                                           passes=15,\n",
    "                                           random_state=42)\n",
    "ldamodel.save('model5.gensim')\n",
    "\n",
    "\n",
    "topics = ldamodel.print_topics(num_words=4)\n",
    "for topic in topics:\n",
    "    print(topic)"
   ]
  },
  {
   "cell_type": "markdown",
   "metadata": {},
   "source": [
    "### Training an 8 topic model"
   ]
  },
  {
   "cell_type": "code",
   "execution_count": 680,
   "metadata": {},
   "outputs": [
    {
     "name": "stdout",
     "output_type": "stream",
     "text": [
      "(0, '0.032*\"business\" + 0.019*\"process\" + 0.015*\"client\" + 0.013*\"management\"')\n",
      "(1, '0.013*\"software\" + 0.009*\"business\" + 0.009*\"sales\" + 0.008*\"management\"')\n",
      "(2, '0.012*\"analysis\" + 0.011*\"business\" + 0.008*\"marketing\" + 0.008*\"system\"')\n",
      "(3, '0.011*\"business\" + 0.011*\"system\" + 0.008*\"application\" + 0.007*\"information\"')\n",
      "(4, '0.020*\"business\" + 0.015*\"project\" + 0.010*\"support\" + 0.009*\"product\"')\n",
      "(5, '0.013*\"survey\" + 0.013*\"business\" + 0.009*\"tma\" + 0.007*\"text\"')\n",
      "(6, '0.020*\"business\" + 0.007*\"support\" + 0.005*\"process\" + 0.005*\"analysis\"')\n",
      "(7, '0.015*\"analysis\" + 0.011*\"time\" + 0.011*\"relate\" + 0.009*\"make\"')\n"
     ]
    }
   ],
   "source": [
    "topic_count = 8\n",
    "ldamodel = gensim.models.ldamodel.LdaModel(corpus=corpus, \n",
    "                                           num_topics=topic_count,\n",
    "                                           id2word=dictionary,\n",
    "                                           passes=15,\n",
    "                                           random_state=42)\n",
    "ldamodel.save('model8.gensim')\n",
    "\n",
    "\n",
    "topics = ldamodel.print_topics(num_words=4)\n",
    "for topic in topics:\n",
    "    print(topic)"
   ]
  },
  {
   "cell_type": "markdown",
   "metadata": {},
   "source": [
    "# Visualizing the LDA models"
   ]
  },
  {
   "cell_type": "code",
   "execution_count": 685,
   "metadata": {},
   "outputs": [],
   "source": [
    "import pyLDAvis.gensim"
   ]
  },
  {
   "cell_type": "markdown",
   "metadata": {},
   "source": [
    "### 3 Topic Visalization"
   ]
  },
  {
   "cell_type": "code",
   "execution_count": 687,
   "metadata": {},
   "outputs": [],
   "source": [
    "dictionary = gensim.corpora.Dictionary.load('dictionary.gensim')\n",
    "corpus = pickle.load(open(file='corpus.pkl', mode='rb'))  # 'rb' --> Read Bytes\n",
    "lda = gensim.models.ldamodel.LdaModel.load('model3.gensim')"
   ]
  },
  {
   "cell_type": "code",
   "execution_count": 689,
   "metadata": {},
   "outputs": [
    {
     "data": {
      "text/html": [
       "\n",
       "<link rel=\"stylesheet\" type=\"text/css\" href=\"https://cdn.rawgit.com/bmabey/pyLDAvis/files/ldavis.v1.0.0.css\">\n",
       "\n",
       "\n",
       "<div id=\"ldavis_el374760072953367579544029\"></div>\n",
       "<script type=\"text/javascript\">\n",
       "\n",
       "var ldavis_el374760072953367579544029_data = {\"mdsDat\": {\"Freq\": [41.81314598203411, 34.51994773797849, 23.6669062799874], \"cluster\": [1, 1, 1], \"topics\": [1, 2, 3], \"x\": [-0.026991304920932307, -0.06042277686725642, 0.08741408178818874], \"y\": [-0.06637928103856695, 0.05136842994202085, 0.01501085109654611]}, \"tinfo\": {\"Category\": [\"Default\", \"Default\", \"Default\", \"Default\", \"Default\", \"Default\", \"Default\", \"Default\", \"Default\", \"Default\", \"Default\", \"Default\", \"Default\", \"Default\", \"Default\", \"Default\", \"Default\", \"Default\", \"Default\", \"Default\", \"Default\", \"Default\", \"Default\", \"Default\", \"Default\", \"Default\", \"Default\", \"Default\", \"Default\", \"Default\", \"Topic1\", \"Topic1\", \"Topic1\", \"Topic1\", \"Topic1\", \"Topic1\", \"Topic1\", \"Topic1\", \"Topic1\", \"Topic1\", \"Topic1\", \"Topic1\", \"Topic1\", \"Topic1\", \"Topic1\", \"Topic1\", \"Topic1\", \"Topic1\", \"Topic1\", \"Topic1\", \"Topic1\", \"Topic1\", \"Topic1\", \"Topic1\", \"Topic1\", \"Topic1\", \"Topic1\", \"Topic1\", \"Topic1\", \"Topic1\", \"Topic1\", \"Topic1\", \"Topic1\", \"Topic1\", \"Topic1\", \"Topic1\", \"Topic1\", \"Topic1\", \"Topic1\", \"Topic1\", \"Topic1\", \"Topic1\", \"Topic1\", \"Topic1\", \"Topic1\", \"Topic1\", \"Topic1\", \"Topic1\", \"Topic1\", \"Topic1\", \"Topic1\", \"Topic1\", \"Topic1\", \"Topic1\", \"Topic1\", \"Topic1\", \"Topic1\", \"Topic1\", \"Topic1\", \"Topic1\", \"Topic1\", \"Topic1\", \"Topic1\", \"Topic1\", \"Topic1\", \"Topic1\", \"Topic1\", \"Topic1\", \"Topic1\", \"Topic1\", \"Topic1\", \"Topic1\", \"Topic1\", \"Topic1\", \"Topic1\", \"Topic1\", \"Topic1\", \"Topic1\", \"Topic2\", \"Topic2\", \"Topic2\", \"Topic2\", \"Topic2\", \"Topic2\", \"Topic2\", \"Topic2\", \"Topic2\", \"Topic2\", \"Topic2\", \"Topic2\", \"Topic2\", \"Topic2\", \"Topic2\", \"Topic2\", \"Topic2\", \"Topic2\", \"Topic2\", \"Topic2\", \"Topic2\", \"Topic2\", \"Topic2\", \"Topic2\", \"Topic2\", \"Topic2\", \"Topic2\", \"Topic2\", \"Topic2\", \"Topic2\", \"Topic2\", \"Topic2\", \"Topic2\", \"Topic2\", \"Topic2\", \"Topic2\", \"Topic2\", \"Topic2\", \"Topic2\", \"Topic2\", \"Topic2\", \"Topic2\", \"Topic2\", \"Topic2\", \"Topic2\", \"Topic2\", \"Topic2\", \"Topic2\", \"Topic2\", \"Topic2\", \"Topic2\", \"Topic2\", \"Topic2\", \"Topic2\", \"Topic2\", \"Topic2\", \"Topic2\", \"Topic2\", \"Topic2\", \"Topic2\", \"Topic2\", \"Topic2\", \"Topic2\", \"Topic2\", \"Topic2\", \"Topic2\", \"Topic2\", \"Topic2\", \"Topic2\", \"Topic2\", \"Topic2\", \"Topic2\", \"Topic2\", \"Topic2\", \"Topic3\", \"Topic3\", \"Topic3\", \"Topic3\", \"Topic3\", \"Topic3\", \"Topic3\", \"Topic3\", \"Topic3\", \"Topic3\", \"Topic3\", \"Topic3\", \"Topic3\", \"Topic3\", \"Topic3\", \"Topic3\", \"Topic3\", \"Topic3\", \"Topic3\", \"Topic3\", \"Topic3\", \"Topic3\", \"Topic3\", \"Topic3\", \"Topic3\", \"Topic3\", \"Topic3\", \"Topic3\", \"Topic3\", \"Topic3\", \"Topic3\", \"Topic3\", \"Topic3\", \"Topic3\", \"Topic3\", \"Topic3\", \"Topic3\", \"Topic3\", \"Topic3\", \"Topic3\", \"Topic3\", \"Topic3\", \"Topic3\", \"Topic3\", \"Topic3\", \"Topic3\", \"Topic3\", \"Topic3\", \"Topic3\", \"Topic3\", \"Topic3\", \"Topic3\", \"Topic3\", \"Topic3\", \"Topic3\", \"Topic3\", \"Topic3\", \"Topic3\", \"Topic3\", \"Topic3\", \"Topic3\", \"Topic3\", \"Topic3\", \"Topic3\", \"Topic3\", \"Topic3\", \"Topic3\", \"Topic3\", \"Topic3\", \"Topic3\", \"Topic3\", \"Topic3\", \"Topic3\", \"Topic3\", \"Topic3\", \"Topic3\", \"Topic3\", \"Topic3\"], \"Freq\": [38.0, 92.0, 27.0, 402.0, 28.0, 69.0, 53.0, 103.0, 200.0, 41.0, 83.0, 39.0, 34.0, 111.0, 22.0, 55.0, 44.0, 56.0, 84.0, 12.0, 16.0, 185.0, 16.0, 42.0, 37.0, 71.0, 54.0, 23.0, 25.0, 17.0, 9.530240907800792, 9.530123059807012, 9.529952829974505, 8.60624625453575, 8.604114610337604, 8.60195141060694, 8.591937635940967, 8.571969583467476, 7.678821330201991, 6.764447990924725, 6.76409982612937, 6.763987890805148, 6.763783706831091, 6.763647961832442, 6.762822763904815, 6.760688682327674, 6.760162901462935, 6.759836355011443, 6.75963374903483, 6.723364018286181, 5.840262110158917, 5.839549659008676, 5.837005463752628, 5.828165030898578, 20.62321068257793, 6.584098168549744, 4.9200176906013935, 4.919746967212605, 4.919129508700975, 4.9190142983967835, 9.690812720496005, 19.763553950786278, 14.284110529555457, 26.38473452109278, 16.374612115656387, 13.335254426699466, 33.34203030289754, 11.635438295759435, 49.337653198598, 41.058479741503554, 23.846854858614847, 29.245534950601215, 25.6505433491176, 39.880333756794, 73.78744369283768, 64.13392033049028, 114.86852111224908, 12.117801930220192, 54.99281710669174, 48.93770995231068, 30.58820491811036, 30.066642984018554, 20.107277216372534, 81.91267329884889, 24.90518280456997, 19.190419880853604, 38.40203245988486, 38.94943309325333, 34.515958506028944, 54.971845120660824, 38.51455842511238, 33.83600143921846, 51.00510274773919, 33.64633647880483, 70.87800337972762, 124.17524811042851, 41.86481593341261, 48.18464584218277, 55.07614006644136, 56.520468538148236, 39.239492633764065, 57.226847329720876, 42.83499909273282, 38.77769767387269, 39.60085608358922, 39.173306400547894, 35.138308563412124, 33.706109583032415, 37.640853781092865, 27.986658808099822, 16.345292351363042, 12.804100061815713, 12.801048423438173, 12.801300978310758, 11.016485562000137, 11.015423943032898, 11.01176134695029, 10.123787976563719, 10.040451793969657, 8.336155220876375, 8.334249339325542, 8.326143832716522, 16.544364323044437, 7.440267860410733, 6.547831668899915, 6.542671931202723, 6.487425067166923, 5.655957673235108, 5.655075957825781, 5.653885728820313, 5.652338161400539, 5.650580956844887, 5.633058416326489, 11.91487498574933, 12.807359405075152, 4.763544734672826, 4.76252065606763, 4.762082249451099, 16.37460990329299, 11.029165777505685, 11.541218911825336, 33.49371752926834, 12.199768740255454, 28.258724937356337, 69.15990908821539, 51.79962966727398, 13.903596610756848, 20.579652197534372, 38.67100966306466, 11.915831604322753, 53.99093074877433, 196.98558280815223, 99.48600076766, 27.322828873423575, 64.45685030909193, 83.43612565276645, 22.896939927132415, 20.824462660400386, 53.105810276123854, 31.640011957764123, 66.40186627662136, 40.81531453291753, 40.73270935022596, 24.950361169098596, 31.918974918987026, 40.83038923125104, 41.84865813655984, 58.710820183347074, 32.957289172878234, 29.378851598263694, 47.46262542648678, 29.473936779334053, 39.3442856654837, 34.849944033564455, 26.847746145707884, 31.94132339675978, 35.884218104260114, 31.756245052110412, 32.37112343713924, 29.802593409273772, 29.570837505282825, 29.739497620115923, 11.627803848804048, 9.18542758212685, 9.169008066137627, 8.350987187007265, 9.04623017944948, 8.284821696753303, 6.759112741572567, 5.9489356214523745, 5.94885943345422, 5.948408250646428, 5.948128080886876, 5.947700980686525, 5.944526586330908, 6.642458281663101, 5.135229903651967, 5.134614559898803, 5.123948948351533, 4.324316703455944, 4.323924981069497, 4.322445419341176, 4.321691306262948, 4.3216705940917715, 4.320856172234477, 4.318841636166992, 23.42996084777366, 9.190433577317524, 3.514114215245723, 3.5131548438836835, 3.5131070028261577, 3.512148875808406, 9.130872485561245, 9.738191508809072, 8.304226314723193, 8.83346504725782, 12.895161475450712, 16.505765897886043, 7.404363511736102, 6.7349813357773485, 7.2821669725003275, 22.72097494518884, 12.883150978001096, 15.591372215495296, 11.411379267635478, 36.057197823687645, 26.965506233678973, 26.564124804875362, 21.75997611279073, 19.906902347976267, 12.013173314374036, 10.732061726773784, 17.542709744235538, 10.282551236256555, 16.591919890029402, 53.02317605586123, 20.498450340569132, 81.22784473925574, 26.888052204874242, 26.93038477450227, 26.818751044423855, 17.917206027559782, 19.80258468367442, 28.341210120635537, 22.996804896265964, 31.02705753623745, 25.76002883651154, 32.84974092796943, 22.313405753982348, 16.05283117451695, 13.224067143617336, 28.96754698206547, 23.724982395070292, 20.205397889416254, 19.25877828705077, 21.33848869217322, 22.366501748733654, 18.93573208595805, 18.128380323611637, 18.037507494678835], \"Term\": [\"governance\", \"sales\", \"healthcare\", \"business\", \"contractor\", \"quality\", \"developing\", \"marketing\", \"analysis\", \"enterprise\", \"software\", \"understand\", \"digital\", \"client\", \"good\", \"decision\", \"type\", \"make\", \"company\", \"someone\", \"keep\", \"process\", \"mapping\", \"benefit\", \"pay\", \"drive\", \"database\", \"food\", \"others\", \"solid\", \"fargo\", \"tma\", \"wells\", \"clinical\", \"everi\", \"iam\", \"retention\", \"departmental\", \"upon\", \"street\", \"main\", \"hub\", \"dimensional\", \"mainstreethub\", \"nc\", \"bulldog\", \"idera\", \"legislative\", \"spreadsheet\", \"copy\", \"actual\", \"humana\", \"lbb\", \"liaison\", \"public\", \"combination\", \"ledcor\", \"zynga\", \"moines\", \"charlotte\", \"mission\", \"administration\", \"general\", \"modeling\", \"programming\", \"interview\", \"may\", \"budget\", \"perform\", \"database\", \"finance\", \"texas\", \"accounting\", \"financial\", \"information\", \"report\", \"analysis\", \"local\", \"assist\", \"application\", \"function\", \"computer\", \"essential\", \"system\", \"department\", \"procedure\", \"develop\", \"use\", \"qualification\", \"customer\", \"prefer\", \"state\", \"relate\", \"operations\", \"management\", \"business\", \"analyze\", \"marketing\", \"support\", \"project\", \"degree\", \"process\", \"need\", \"product\", \"opportunity\", \"reporting\", \"identify\", \"responsibility\", \"governance\", \"contractor\", \"mapping\", \"sponsor\", \"capgemini\", \"mdm\", \"longer\", \"downstream\", \"epicor\", \"90\", \"fuel\", \"invision\", \"fund\", \"wholesale\", \"solid\", \"calendar\", \"transform\", \"transit\", \"align\", \"quota\", \"chameleon\", \"brew\", \"e10\", \"vista\", \"eclerx\", \"term\", \"expect\", \"biztech\", \"reflect\", \"draft\", \"along\", \"corporation\", \"whole\", \"enterprise\", \"great\", \"digital\", \"sales\", \"quality\", \"retail\", \"master\", \"developing\", \"currently\", \"company\", \"business\", \"process\", \"initiative\", \"client\", \"management\", \"stakeholder\", \"strategic\", \"marketing\", \"strategy\", \"project\", \"change\", \"technical\", \"impact\", \"insight\", \"solution\", \"reporting\", \"system\", \"tool\", \"document\", \"support\", \"market\", \"need\", \"development\", \"within\", \"working\", \"customer\", \"analyze\", \"analysis\", \"strong\", \"responsibility\", \"report\", \"someone\", \"emerson\", \"bazaarvoice\", \"asset\", \"things\", \"advancement\", \"optional\", \"planet\", \"judgement\", \"reply\", \"rapport\", \"comparison\", \"itccs\", \"compare\", \"zerocater\", \"meal\", \"clustering\", \"contribution\", \"affinipay\", \"bitbucket\", \"r12\", \"peims\", \"11i\", \"v\", \"healthcare\", \"center\", \"pro\", \"unravel\", \"joining\", \"atlassian\", \"region\", \"quick\", \"student\", \"easy\", \"keep\", \"good\", \"payment\", \"text\", \"pull\", \"understand\", \"passion\", \"others\", \"together\", \"software\", \"make\", \"decision\", \"benefit\", \"pay\", \"prioritize\", \"unique\", \"offer\", \"find\", \"people\", \"analysis\", \"type\", \"business\", \"drive\", \"problem\", \"time\", \"detail\", \"help\", \"relate\", \"new\", \"support\", \"opportunity\", \"project\", \"identify\", \"full\", \"food\", \"process\", \"client\", \"plan\", \"environment\", \"customer\", \"system\", \"solution\", \"create\", \"product\"], \"Total\": [38.0, 92.0, 27.0, 402.0, 28.0, 69.0, 53.0, 103.0, 200.0, 41.0, 83.0, 39.0, 34.0, 111.0, 22.0, 55.0, 44.0, 56.0, 84.0, 12.0, 16.0, 185.0, 16.0, 42.0, 37.0, 71.0, 54.0, 23.0, 25.0, 17.0, 10.103771220532636, 10.103707111227664, 10.103740225530629, 9.180952039445001, 9.18092073010817, 9.180725124704198, 9.179775688536768, 9.176840876574204, 8.257722329191548, 7.335596559742373, 7.335583161989261, 7.335573521327315, 7.335663471411241, 7.335558555091617, 7.335512362129456, 7.335312787661834, 7.335420105562077, 7.335215484191797, 7.335147849601674, 7.330820943441472, 6.412685137090644, 6.412635556946818, 6.41236407987881, 6.411536999019707, 22.815514507132413, 7.314323075905936, 5.490044747637057, 5.490105084826229, 5.490025339117598, 5.490008551874743, 10.945264260357844, 22.900349096786478, 16.465889738465425, 31.724099461146185, 19.25164696305282, 15.585429623205027, 42.784668854074205, 13.605098936300962, 66.62481646197274, 54.83391385526208, 30.213632042042676, 38.074792483134914, 32.85306111587226, 54.31031768919402, 114.10928944402329, 98.92957448579106, 200.26282060524954, 14.493714846489766, 86.41667274565344, 76.24340976584416, 43.78546436009828, 43.197096889041674, 26.521937023518728, 162.9899952309296, 35.95260536613692, 26.04670656260897, 64.53324723663806, 66.65461310110432, 58.04240954848445, 112.19455191709417, 68.47677004438648, 57.730038034174186, 103.31992705671453, 57.92868242585842, 171.23580389793352, 402.38867565783653, 81.01202846532493, 103.21275983885377, 133.56582302916559, 155.77207574273902, 79.08444456724644, 185.68039507944636, 99.68611690756165, 81.62939062697772, 91.60227281990687, 88.9202799855165, 71.252346054201, 71.71234865741667, 38.3992745612935, 28.583961482567783, 16.961611236175887, 13.389254518622533, 13.388626901276089, 13.389344794132557, 11.601716149887466, 11.601753780382968, 11.601353061070908, 10.707942327833125, 10.70139718038531, 8.920011530162258, 8.919937327128531, 8.920271291747312, 17.797098304241228, 8.026150266837035, 7.132543620371855, 7.1326828371015605, 7.127073239935226, 6.23877747012606, 6.238699330895877, 6.238557507943262, 6.238890843815299, 6.23901245376975, 6.237018206061034, 13.307874684289144, 14.31183029998832, 5.344950989981322, 5.344983242210214, 5.344976725329263, 18.588720315372008, 12.524022596343487, 13.273246295476358, 41.123613407036615, 14.148390196878678, 34.95848765159203, 92.43461693033534, 69.17590750288706, 16.737579064339773, 26.03835867207815, 53.12766093993589, 14.34080193249822, 84.94001109855144, 402.38867565783653, 185.68039507944636, 38.29875180914859, 111.86373078613283, 171.23580389793352, 32.36225835737464, 28.59609392132604, 103.21275983885377, 52.75898920706713, 155.77207574273902, 79.30572075821308, 82.48812932401873, 39.381583512688266, 57.59395124917484, 83.7551001411783, 88.9202799855165, 162.9899952309296, 64.44747353459228, 53.33719299096359, 133.56582302916559, 54.970881840895615, 99.68611690756165, 79.31143820374761, 48.57840721424708, 77.15011094261416, 112.19455191709417, 81.01202846532493, 200.26282060524954, 75.05165970574629, 71.71234865741667, 98.92957448579106, 12.244561663980544, 9.809526665912669, 9.811024364064972, 9.000132904755933, 9.823954178141644, 9.009645110223637, 7.372551157891196, 6.560373118755427, 6.560382252539807, 6.560440400286437, 6.560484387716612, 6.5605448765596535, 6.561025404499173, 7.384282191713022, 5.748723013473614, 5.748807464881511, 5.75028113037049, 4.936624886484466, 4.936616188205789, 4.936828044766128, 4.93690017486841, 4.937022977394182, 4.936990510197966, 4.937302229677361, 27.24197658629041, 10.731726776568022, 4.124444560683734, 4.124574339309769, 4.124584005560212, 4.124689501963188, 10.73986305538251, 11.541507573246601, 9.930014528941756, 10.738767511983662, 16.685148661960866, 22.56926663521699, 9.129772679214126, 8.298682548001755, 9.117651931735983, 39.02016795182213, 19.368389511232692, 25.375306868749227, 16.772290366570353, 83.97504693702982, 56.78392150231248, 55.84928809837576, 42.83089920317532, 37.69169548552365, 18.545721499718063, 15.968822339122944, 34.27377742983819, 15.121173739649294, 31.608453763266827, 200.26282060524954, 44.56837261103858, 402.38867565783653, 71.9809558349331, 74.98227697613552, 76.79197576900492, 38.71562449052861, 46.643821690671885, 103.31992705671453, 69.17050529563292, 133.56582302916559, 91.60227281990687, 155.77207574273902, 71.252346054201, 35.35842481746619, 23.721648659444913, 185.68039507944636, 111.86373078613283, 75.64906294334935, 67.80377075040379, 112.19455191709417, 162.9899952309296, 83.7551001411783, 65.04581938121214, 81.62939062697772], \"loglift\": [30.0, 29.0, 28.0, 27.0, 26.0, 25.0, 24.0, 23.0, 22.0, 21.0, 20.0, 19.0, 18.0, 17.0, 16.0, 15.0, 14.0, 13.0, 12.0, 11.0, 10.0, 9.0, 8.0, 7.0, 6.0, 5.0, 4.0, 3.0, 2.0, 1.0, 0.8135, 0.8135, 0.8135, 0.8073, 0.8071, 0.8068, 0.8058, 0.8038, 0.7993, 0.7909, 0.7909, 0.7908, 0.7908, 0.7908, 0.7907, 0.7904, 0.7903, 0.7903, 0.7903, 0.7855, 0.7785, 0.7783, 0.7779, 0.7766, 0.7709, 0.7668, 0.7623, 0.7623, 0.7622, 0.7621, 0.7502, 0.7246, 0.7298, 0.6877, 0.7101, 0.716, 0.6226, 0.7156, 0.5716, 0.5826, 0.6353, 0.6081, 0.6245, 0.5631, 0.436, 0.4385, 0.3161, 0.6929, 0.42, 0.4286, 0.5133, 0.5096, 0.5951, 0.1839, 0.5048, 0.5665, 0.3529, 0.3347, 0.3522, 0.1585, 0.2965, 0.3377, 0.1661, 0.3287, -0.0101, -0.3038, 0.2118, 0.1102, -0.0139, -0.1418, 0.1711, -0.305, 0.0273, 0.1276, 0.0334, 0.0522, 0.165, 0.117, 1.0437, 1.0425, 1.0266, 1.0189, 1.0188, 1.0187, 1.0119, 1.0118, 1.0115, 1.0075, 0.9999, 0.9959, 0.9957, 0.9947, 0.9906, 0.9878, 0.9781, 0.9773, 0.9696, 0.9656, 0.9654, 0.9652, 0.9649, 0.9646, 0.9618, 0.9531, 0.9526, 0.9485, 0.9483, 0.9482, 0.9368, 0.9365, 0.9238, 0.8584, 0.9154, 0.8509, 0.7736, 0.7744, 0.8781, 0.8284, 0.746, 0.8784, 0.6105, 0.3493, 0.4396, 0.7259, 0.5123, 0.3447, 0.7176, 0.7465, 0.3991, 0.5523, 0.211, 0.3994, 0.358, 0.6072, 0.4734, 0.3452, 0.31, 0.0426, 0.393, 0.4673, 0.029, 0.4403, 0.134, 0.2413, 0.4706, 0.1818, -0.0763, 0.1271, -0.7587, 0.1401, 0.1778, -0.1383, 1.3894, 1.3754, 1.3734, 1.3662, 1.3586, 1.3572, 1.3542, 1.3433, 1.3432, 1.3432, 1.3431, 1.343, 1.3424, 1.3352, 1.3282, 1.3281, 1.3258, 1.3087, 1.3086, 1.3082, 1.308, 1.308, 1.3078, 1.3073, 1.2903, 1.2861, 1.2809, 1.2806, 1.2806, 1.2803, 1.2788, 1.2712, 1.2623, 1.2458, 1.1834, 1.1282, 1.2316, 1.2323, 1.2163, 0.9003, 1.0334, 0.954, 1.056, 0.5957, 0.6964, 0.698, 0.7639, 0.8027, 1.0069, 1.0437, 0.7714, 1.0554, 0.7966, 0.1122, 0.6644, -0.1591, 0.4564, 0.4171, 0.3891, 0.6706, 0.5844, 0.1476, 0.3399, -0.0186, 0.1725, -0.1154, 0.2801, 0.6514, 0.8567, -0.4168, -0.1097, 0.1209, 0.1824, -0.2186, -0.545, -0.0458, 0.1635, -0.0686], \"logprob\": [30.0, 29.0, 28.0, 27.0, 26.0, 25.0, 24.0, 23.0, 22.0, 21.0, 20.0, 19.0, 18.0, 17.0, 16.0, 15.0, 14.0, 13.0, 12.0, 11.0, 10.0, 9.0, 8.0, 7.0, 6.0, 5.0, 4.0, 3.0, 2.0, 1.0, -7.0637, -7.0638, -7.0638, -7.1657, -7.166, -7.1662, -7.1674, -7.1697, -7.2797, -7.4065, -7.4066, -7.4066, -7.4066, -7.4066, -7.4068, -7.4071, -7.4072, -7.4072, -7.4072, -7.4126, -7.5534, -7.5536, -7.554, -7.5555, -6.2918, -7.4336, -7.7249, -7.725, -7.7251, -7.7251, -7.047, -6.3344, -6.6591, -6.0454, -6.5225, -6.7278, -5.8114, -6.8642, -5.4195, -5.6032, -6.1466, -5.9425, -6.0736, -5.6323, -5.017, -5.1572, -4.5744, -6.8235, -5.311, -5.4277, -5.8976, -5.9148, -6.3171, -4.9126, -6.1031, -6.3638, -5.6701, -5.6559, -5.7768, -5.3114, -5.6672, -5.7967, -5.3863, -5.8023, -5.0572, -4.4965, -5.5838, -5.4432, -5.3095, -5.2836, -5.6485, -5.2712, -5.5609, -5.6604, -5.6394, -5.6502, -5.7589, -5.8005, -5.4984, -5.7948, -6.3326, -6.5768, -6.577, -6.577, -6.7271, -6.7272, -6.7276, -6.8116, -6.8199, -7.0059, -7.0062, -7.0071, -6.3205, -7.1196, -7.2474, -7.2482, -7.2567, -7.3938, -7.394, -7.3942, -7.3945, -7.3948, -7.3979, -6.6487, -6.5765, -7.5655, -7.5658, -7.5659, -6.3308, -6.726, -6.6806, -5.6152, -6.6251, -5.7851, -4.8901, -5.1792, -6.4944, -6.1022, -5.4714, -6.6487, -5.1377, -3.8434, -4.5265, -5.8188, -4.9605, -4.7025, -5.9955, -6.0904, -5.1542, -5.6721, -4.9308, -5.4175, -5.4195, -5.9096, -5.6633, -5.4171, -5.3925, -5.0539, -5.6313, -5.7463, -5.2666, -5.743, -5.4542, -5.5755, -5.8364, -5.6626, -5.5462, -5.6684, -5.6493, -5.7319, -5.7397, -5.7341, -6.2957, -6.5315, -6.5332, -6.6267, -6.5467, -6.6347, -6.8382, -6.9659, -6.9659, -6.966, -6.966, -6.9661, -6.9666, -6.8556, -7.113, -7.1131, -7.1152, -7.2848, -7.2849, -7.2853, -7.2854, -7.2854, -7.2856, -7.2861, -5.5951, -6.5309, -7.4923, -7.4926, -7.4926, -7.4928, -6.5374, -6.473, -6.6323, -6.5705, -6.1922, -5.9454, -6.747, -6.8418, -6.7636, -5.6258, -6.1932, -6.0024, -6.3145, -5.164, -5.4545, -5.4695, -5.669, -5.758, -6.2631, -6.3758, -5.8844, -6.4186, -5.9402, -4.7783, -5.7287, -4.3518, -5.4574, -5.4558, -5.46, -5.8633, -5.7633, -5.4048, -5.6137, -5.3142, -5.5003, -5.2571, -5.6439, -5.9732, -6.167, -5.3829, -5.5825, -5.7431, -5.7911, -5.6886, -5.6415, -5.808, -5.8516, -5.8566]}, \"token.table\": {\"Topic\": [3, 2, 1, 2, 3, 1, 1, 2, 3, 3, 3, 2, 2, 3, 1, 2, 3, 1, 2, 3, 1, 2, 3, 3, 1, 2, 3, 3, 3, 1, 2, 3, 3, 2, 2, 1, 3, 1, 1, 2, 3, 2, 2, 1, 3, 2, 1, 2, 3, 1, 1, 2, 3, 1, 3, 1, 1, 2, 3, 3, 3, 1, 2, 3, 2, 3, 1, 1, 2, 1, 2, 3, 1, 2, 1, 2, 3, 1, 2, 3, 1, 2, 3, 1, 2, 3, 1, 2, 3, 1, 1, 2, 3, 1, 2, 3, 1, 2, 1, 2, 3, 1, 2, 3, 1, 1, 2, 3, 2, 2, 1, 2, 3, 2, 2, 3, 2, 3, 1, 2, 3, 1, 2, 3, 2, 1, 2, 1, 1, 2, 1, 1, 2, 1, 2, 3, 1, 2, 3, 1, 2, 3, 2, 1, 2, 3, 1, 2, 3, 2, 1, 2, 3, 1, 2, 3, 2, 2, 3, 1, 3, 1, 2, 3, 1, 1, 1, 1, 2, 3, 1, 1, 2, 3, 1, 2, 3, 1, 2, 3, 1, 2, 3, 1, 2, 2, 3, 3, 3, 1, 3, 1, 1, 1, 1, 1, 2, 3, 2, 1, 1, 1, 2, 3, 1, 2, 3, 2, 1, 2, 3, 1, 2, 3, 1, 2, 1, 2, 3, 2, 3, 1, 3, 1, 2, 3, 1, 1, 1, 2, 3, 1, 2, 3, 1, 2, 3, 1, 2, 3, 1, 2, 3, 3, 1, 2, 3, 1, 2, 3, 1, 2, 3, 1, 3, 3, 1, 2, 3, 1, 2, 3, 1, 2, 3, 3, 1, 2, 3, 1, 2, 3, 3, 1, 2, 3, 1, 2, 3, 1, 2, 3, 1, 2, 3, 1, 2, 1, 2, 3, 1, 3, 1, 2, 3, 1, 2, 3, 1, 2, 3, 2, 3, 2, 3, 3, 2, 1, 3, 1, 2, 3, 3, 1, 2, 3, 1, 2, 3, 1, 2, 3, 2, 3, 1, 1, 2, 3, 1, 2, 3, 2, 3, 1, 2, 3, 3, 2, 1, 1, 2, 3, 1, 2, 3, 1, 2, 3, 1, 2, 3, 1, 1, 2, 3, 1, 3, 1, 2, 3, 1, 2, 3, 1, 2, 3, 2, 3, 1, 2, 3, 1, 3, 3, 1, 2, 3, 1, 1, 2, 3, 1, 2, 3, 2, 2, 1, 2, 3, 1, 2, 3, 1, 2, 3, 3, 1, 1, 2, 3, 3, 2, 1, 2, 3, 2, 1, 2, 3, 1, 2, 3, 3, 1], \"Freq\": [0.8102101860916086, 0.9338862401235601, 0.7914026613318736, 0.18263138338427853, 0.030438563897379756, 0.9356455013355178, 0.8733491317303336, 0.08733491317303337, 0.04366745658651668, 0.8879373052021828, 0.8102716207827773, 0.8418602977699343, 0.8607370345321051, 0.10759212931651314, 0.5742453824051725, 0.1597900194518741, 0.2646522197171665, 0.518441530173226, 0.3950030706081722, 0.08640692169553767, 0.6426784970725591, 0.19673831543037523, 0.17050654003965854, 0.8888757626870784, 0.6364512570609978, 0.3355833900867079, 0.023143682074945375, 0.9697699664656355, 0.9173354041362362, 0.25682393329684056, 0.2334763029971278, 0.5136478665936811, 0.8102368491932135, 0.9354622725955946, 0.9617607904328015, 0.8820222518177905, 0.1470037086362984, 0.9542878678294622, 0.3081597656725335, 0.4895764019152347, 0.20129791144738077, 0.8721491334298899, 0.9709733564060219, 0.09318164921822557, 0.83863484296403, 0.9617389269404653, 0.2647980473442099, 0.5169866638625051, 0.22696975486646565, 0.9107453937011786, 0.21454675104556012, 0.572124669454827, 0.21454675104556012, 0.9802904928957737, 0.8695227044799896, 0.9570263614767927, 0.20014125004381966, 0.6357427942568389, 0.1648222059184397, 0.9479594384753767, 0.9145581827261879, 0.6944911153881376, 0.16204792692389877, 0.1388982230776275, 0.9795703096324169, 0.8102701930931058, 0.9548725925794926, 0.07984655028424813, 0.8783120531267293, 0.35359689859857973, 0.36897067679851797, 0.2767280075988885, 0.13946221483386687, 0.8367732890032012, 0.49021988198359295, 0.32087119548016996, 0.18717486403009914, 0.7477124486904645, 0.2370795569018546, 0.018236888992450354, 0.2506746366281284, 0.28648529900357533, 0.48344394206853336, 0.49314375555660434, 0.2908283686615872, 0.21496009857595572, 0.6953598979935687, 0.13907197959871373, 0.16688637551845648, 0.9807296564305014, 0.25829365098957396, 0.28412301608853135, 0.46492857178123315, 0.5888437608083963, 0.24793421507721947, 0.15495888442326217, 0.263516212690558, 0.7340808782094117, 0.40347269857587753, 0.44129826406736605, 0.1513022619659541, 0.1716321386610887, 0.8009499804184139, 0.028605356443514782, 0.954242247791301, 0.29997829099687956, 0.5437106524318442, 0.14998914549843978, 0.9481325158442464, 0.9354577684698876, 0.22228101606057077, 0.40288434160978454, 0.3750992146022132, 0.96170940479715, 0.18624111172610353, 0.8380850027674659, 0.9619981538885515, 0.9174754609999981, 0.14590157583217983, 0.8024586670769891, 0.04863385861072661, 0.427704826428511, 0.2802204035221279, 0.2802204035221279, 0.9481652650423349, 0.7540927339607473, 0.22622782018822415, 0.9802938359423088, 0.06987226504501078, 0.9083394455851401, 0.9897294566288521, 0.7943434263912289, 0.19858585659780723, 0.7365083045345303, 0.16571436852026933, 0.11047624568017955, 0.13226486478068772, 0.1983972971710316, 0.6613243239034386, 0.04215558599472993, 0.4215558599472993, 0.5480226179314891, 0.9344574200394218, 0.31109983142026937, 0.2545362257074931, 0.45250884570221, 0.7079975159119317, 0.2740635545465542, 0.022838629545546184, 0.896867288032317, 0.8502425451869181, 0.06073161037049415, 0.06073161037049415, 0.13292412414140264, 0.13292412414140264, 0.7532367034679484, 0.9896020285316544, 0.8481530289323911, 0.14135883815539851, 0.11012416777091562, 0.8442852862436864, 0.25726879927593566, 0.3215859990949196, 0.42878133212655944, 0.9542539488764342, 0.9356527354030264, 0.9803147221761505, 0.4912118960037586, 0.19648475840150345, 0.30876176320236254, 0.9542739065063574, 0.2793183772423964, 0.6348144937327191, 0.0761777392479263, 0.6485011024128843, 0.2015611534526532, 0.14897998298674367, 0.18277358058253687, 0.7049838108183565, 0.10444204604716394, 0.2778069511289041, 0.5556139022578082, 0.17362934445556505, 0.834112393067715, 0.12832498354887922, 0.896859827248954, 0.9144912007024918, 0.9697947707229954, 0.9145808535283354, 0.17980061555216822, 0.7791360007260624, 0.9356923476674138, 0.910739389173836, 0.9543005266969699, 0.9358130508983058, 0.8279450870324168, 0.06899542391936807, 0.13799084783873614, 0.9481355911389625, 0.9542526947648621, 0.9542558957751478, 0.281769902054905, 0.24654866429804184, 0.4754867097176521, 0.4146329119482519, 0.48471171396767476, 0.09927830286084904, 0.9433066102750337, 0.4184033297222665, 0.527552024432423, 0.05457434735507824, 0.46505877834235293, 0.513502401086348, 0.01937744909759804, 0.1920243922809803, 0.8065024475801172, 0.7713043219418899, 0.16361000768464332, 0.07011857472198998, 0.9709212959917819, 0.8697456003778438, 0.9136371459041466, 0.09136371459041466, 0.819566211228258, 0.031521777354933, 0.126087109419732, 0.9107426088498967, 0.9542619048859379, 0.43135394710853914, 0.39122799854030293, 0.1805667685570629, 0.40479681159373837, 0.2602265217388318, 0.33251166666628507, 0.2625914233826105, 0.2042377737420304, 0.525182846765221, 0.5869285917820729, 0.3625147184536333, 0.051787816921947616, 0.4366703878477048, 0.2838357521010081, 0.2838357521010081, 0.9494678097292771, 0.15763356166250625, 0.2364503424937594, 0.630534246650025, 0.15489155658812784, 0.15489155658812784, 0.6711967452152205, 0.3183725180155101, 0.15918625900775504, 0.5306208633591835, 0.10953175233778967, 0.7667222663645277, 0.8102048579306483, 0.22145974151177616, 0.2530968474420299, 0.5378308008143136, 0.7354616883330192, 0.1050659554761456, 0.16510364431965735, 0.34369229423860004, 0.38334909741997697, 0.2643786878758462, 0.9145821268681535, 0.5695362087715337, 0.3358803282498788, 0.10222444772822398, 0.16176237737882598, 0.21568316983843466, 0.6470495095153039, 0.9698275588742297, 0.34674860578420386, 0.29340266643278784, 0.36008509062205785, 0.7294588263713623, 0.07678513961803814, 0.19196284904509534, 0.306979096934879, 0.5331742209921584, 0.15618234756335952, 0.47776909395561357, 0.3062622397151369, 0.22050881259489857, 0.8310977253378227, 0.15583082350084174, 0.36591924276682775, 0.4236959653089585, 0.21184798265447924, 0.920426317514564, 0.08765964928710133, 0.10967736073794188, 0.10967736073794188, 0.7677415251655931, 0.6030073574179156, 0.36180441445074935, 0.03445756328102375, 0.1301030998346409, 0.7517067990445919, 0.11564719985301414, 0.08664379359920155, 0.8664379359920155, 0.9617268813851065, 0.8102250113061314, 0.9145666151167094, 0.9354566279112301, 0.0931110568955373, 0.8379995120598357, 0.49361242746527495, 0.23228820116012938, 0.27100290135348426, 0.9145727472408762, 0.6469248486375742, 0.30324602279886287, 0.050541003799810476, 0.43859511020829434, 0.4723331956089324, 0.08996822773503474, 0.4741163918981984, 0.4183379928513515, 0.11155679809369373, 0.83644115712216, 0.17923739081189144, 0.9804161131343042, 0.22718761322748757, 0.7464735863188877, 0.032455373318212515, 0.3453406822355951, 0.22625768836125199, 0.42869877794763533, 0.9552118951856735, 0.056188935010921974, 0.28654971410153407, 0.4895224282567874, 0.22685185699704782, 0.9800269155653024, 0.9709278423170509, 0.9543093259367806, 0.2781017288909042, 0.710704418276755, 0.03090019209898935, 0.5889481655957541, 0.32911809253880375, 0.08661002435231678, 0.2098188660488835, 0.7343660311710922, 0.0699396220162945, 0.30326585555313823, 0.6065317111062765, 0.0947705798603557, 0.9542509519151965, 0.3730763598004242, 0.3997246712147402, 0.2398348027288441, 0.10070478719698009, 0.8056382975758407, 0.41178198698322804, 0.351886425240213, 0.23209530175418305, 0.5030983643126052, 0.3619854084688257, 0.13497760993752822, 0.3273198243342657, 0.49704121472981083, 0.18184434685236983, 0.9017217463106126, 0.07514347885921772, 0.7616587802243555, 0.13132047934902683, 0.10505638347922146, 0.12050105474160963, 0.8435073831912674, 0.916128051576732, 0.3515992358526846, 0.2995104601708054, 0.3515992358526846, 0.9897357365879678, 0.05962214927981139, 0.23848859711924555, 0.6558436420779252, 0.27929721698614723, 0.5120448978079366, 0.2172311687670034, 0.981417061370184, 0.9813979059307959, 0.1121871790930417, 0.42631128055355844, 0.4487487163721668, 0.15376663697112092, 0.2562777282852015, 0.5894387750559634, 0.12524405103437616, 0.18786607655156423, 0.6888422806890688, 0.9697970435100424, 0.9687901434660156, 0.5851057891648591, 0.18003255051226436, 0.24004340068301913, 0.8101590329951076, 0.9616906592925081, 0.9897324927982122, 0.9040742357120057, 0.07533951964266715, 0.8968337103605009, 0.3911202752326486, 0.5558024963832375, 0.061755832931470835, 0.3888523248179723, 0.41477581313917045, 0.19442616240898614, 0.8697583773441878, 0.910729379992962], \"Term\": [\"11i\", \"90\", \"accounting\", \"accounting\", \"accounting\", \"actual\", \"administration\", \"administration\", \"administration\", \"advancement\", \"affinipay\", \"align\", \"along\", \"along\", \"analysis\", \"analysis\", \"analysis\", \"analyze\", \"analyze\", \"analyze\", \"application\", \"application\", \"application\", \"asset\", \"assist\", \"assist\", \"assist\", \"atlassian\", \"bazaarvoice\", \"benefit\", \"benefit\", \"benefit\", \"bitbucket\", \"biztech\", \"brew\", \"budget\", \"budget\", \"bulldog\", \"business\", \"business\", \"business\", \"calendar\", \"capgemini\", \"center\", \"center\", \"chameleon\", \"change\", \"change\", \"change\", \"charlotte\", \"client\", \"client\", \"client\", \"clinical\", \"clustering\", \"combination\", \"company\", \"company\", \"company\", \"compare\", \"comparison\", \"computer\", \"computer\", \"computer\", \"contractor\", \"contribution\", \"copy\", \"corporation\", \"corporation\", \"create\", \"create\", \"create\", \"currently\", \"currently\", \"customer\", \"customer\", \"customer\", \"database\", \"database\", \"database\", \"decision\", \"decision\", \"decision\", \"degree\", \"degree\", \"degree\", \"department\", \"department\", \"department\", \"departmental\", \"detail\", \"detail\", \"detail\", \"develop\", \"develop\", \"develop\", \"developing\", \"developing\", \"development\", \"development\", \"development\", \"digital\", \"digital\", \"digital\", \"dimensional\", \"document\", \"document\", \"document\", \"downstream\", \"draft\", \"drive\", \"drive\", \"drive\", \"e10\", \"easy\", \"easy\", \"eclerx\", \"emerson\", \"enterprise\", \"enterprise\", \"enterprise\", \"environment\", \"environment\", \"environment\", \"epicor\", \"essential\", \"essential\", \"everi\", \"expect\", \"expect\", \"fargo\", \"finance\", \"finance\", \"financial\", \"financial\", \"financial\", \"find\", \"find\", \"find\", \"food\", \"food\", \"food\", \"fuel\", \"full\", \"full\", \"full\", \"function\", \"function\", \"function\", \"fund\", \"general\", \"general\", \"general\", \"good\", \"good\", \"good\", \"governance\", \"great\", \"great\", \"healthcare\", \"healthcare\", \"help\", \"help\", \"help\", \"hub\", \"humana\", \"iam\", \"identify\", \"identify\", \"identify\", \"idera\", \"impact\", \"impact\", \"impact\", \"information\", \"information\", \"information\", \"initiative\", \"initiative\", \"initiative\", \"insight\", \"insight\", \"insight\", \"interview\", \"interview\", \"invision\", \"itccs\", \"joining\", \"judgement\", \"keep\", \"keep\", \"lbb\", \"ledcor\", \"legislative\", \"liaison\", \"local\", \"local\", \"local\", \"longer\", \"main\", \"mainstreethub\", \"make\", \"make\", \"make\", \"management\", \"management\", \"management\", \"mapping\", \"market\", \"market\", \"market\", \"marketing\", \"marketing\", \"marketing\", \"master\", \"master\", \"may\", \"may\", \"may\", \"mdm\", \"meal\", \"mission\", \"mission\", \"modeling\", \"modeling\", \"modeling\", \"moines\", \"nc\", \"need\", \"need\", \"need\", \"new\", \"new\", \"new\", \"offer\", \"offer\", \"offer\", \"operations\", \"operations\", \"operations\", \"opportunity\", \"opportunity\", \"opportunity\", \"optional\", \"others\", \"others\", \"others\", \"passion\", \"passion\", \"passion\", \"pay\", \"pay\", \"pay\", \"payment\", \"payment\", \"peims\", \"people\", \"people\", \"people\", \"perform\", \"perform\", \"perform\", \"plan\", \"plan\", \"plan\", \"planet\", \"prefer\", \"prefer\", \"prefer\", \"prioritize\", \"prioritize\", \"prioritize\", \"pro\", \"problem\", \"problem\", \"problem\", \"procedure\", \"procedure\", \"procedure\", \"process\", \"process\", \"process\", \"product\", \"product\", \"product\", \"programming\", \"programming\", \"project\", \"project\", \"project\", \"public\", \"public\", \"pull\", \"pull\", \"pull\", \"qualification\", \"qualification\", \"qualification\", \"quality\", \"quality\", \"quality\", \"quick\", \"quick\", \"quota\", \"r12\", \"rapport\", \"reflect\", \"region\", \"region\", \"relate\", \"relate\", \"relate\", \"reply\", \"report\", \"report\", \"report\", \"reporting\", \"reporting\", \"reporting\", \"responsibility\", \"responsibility\", \"responsibility\", \"retail\", \"retail\", \"retention\", \"sales\", \"sales\", \"sales\", \"software\", \"software\", \"software\", \"solid\", \"solid\", \"solution\", \"solution\", \"solution\", \"someone\", \"sponsor\", \"spreadsheet\", \"stakeholder\", \"stakeholder\", \"stakeholder\", \"state\", \"state\", \"state\", \"strategic\", \"strategic\", \"strategic\", \"strategy\", \"strategy\", \"strategy\", \"street\", \"strong\", \"strong\", \"strong\", \"student\", \"student\", \"support\", \"support\", \"support\", \"system\", \"system\", \"system\", \"technical\", \"technical\", \"technical\", \"term\", \"term\", \"texas\", \"texas\", \"texas\", \"text\", \"text\", \"things\", \"time\", \"time\", \"time\", \"tma\", \"together\", \"together\", \"together\", \"tool\", \"tool\", \"tool\", \"transform\", \"transit\", \"type\", \"type\", \"type\", \"understand\", \"understand\", \"understand\", \"unique\", \"unique\", \"unique\", \"unravel\", \"upon\", \"use\", \"use\", \"use\", \"v\", \"vista\", \"wells\", \"whole\", \"whole\", \"wholesale\", \"within\", \"within\", \"within\", \"working\", \"working\", \"working\", \"zerocater\", \"zynga\"]}, \"R\": 30, \"lambda.step\": 0.01, \"plot.opts\": {\"xlab\": \"PC1\", \"ylab\": \"PC2\"}, \"topic.order\": [3, 1, 2]};\n",
       "\n",
       "function LDAvis_load_lib(url, callback){\n",
       "  var s = document.createElement('script');\n",
       "  s.src = url;\n",
       "  s.async = true;\n",
       "  s.onreadystatechange = s.onload = callback;\n",
       "  s.onerror = function(){console.warn(\"failed to load library \" + url);};\n",
       "  document.getElementsByTagName(\"head\")[0].appendChild(s);\n",
       "}\n",
       "\n",
       "if(typeof(LDAvis) !== \"undefined\"){\n",
       "   // already loaded: just create the visualization\n",
       "   !function(LDAvis){\n",
       "       new LDAvis(\"#\" + \"ldavis_el374760072953367579544029\", ldavis_el374760072953367579544029_data);\n",
       "   }(LDAvis);\n",
       "}else if(typeof define === \"function\" && define.amd){\n",
       "   // require.js is available: use it to load d3/LDAvis\n",
       "   require.config({paths: {d3: \"https://cdnjs.cloudflare.com/ajax/libs/d3/3.5.5/d3.min\"}});\n",
       "   require([\"d3\"], function(d3){\n",
       "      window.d3 = d3;\n",
       "      LDAvis_load_lib(\"https://cdn.rawgit.com/bmabey/pyLDAvis/files/ldavis.v1.0.0.js\", function(){\n",
       "        new LDAvis(\"#\" + \"ldavis_el374760072953367579544029\", ldavis_el374760072953367579544029_data);\n",
       "      });\n",
       "    });\n",
       "}else{\n",
       "    // require.js not available: dynamically load d3 & LDAvis\n",
       "    LDAvis_load_lib(\"https://cdnjs.cloudflare.com/ajax/libs/d3/3.5.5/d3.min.js\", function(){\n",
       "         LDAvis_load_lib(\"https://cdn.rawgit.com/bmabey/pyLDAvis/files/ldavis.v1.0.0.js\", function(){\n",
       "                 new LDAvis(\"#\" + \"ldavis_el374760072953367579544029\", ldavis_el374760072953367579544029_data);\n",
       "            })\n",
       "         });\n",
       "}\n",
       "</script>"
      ],
      "text/plain": [
       "<IPython.core.display.HTML object>"
      ]
     },
     "execution_count": 689,
     "metadata": {},
     "output_type": "execute_result"
    }
   ],
   "source": [
    "lda_display = pyLDAvis.gensim.prepare(lda, corpus, dictionary)\n",
    "pyLDAvis.display(lda_display)"
   ]
  },
  {
   "cell_type": "markdown",
   "metadata": {},
   "source": [
    "### 4 Topic Visualization"
   ]
  },
  {
   "cell_type": "code",
   "execution_count": 690,
   "metadata": {},
   "outputs": [],
   "source": [
    "dictionary = gensim.corpora.Dictionary.load('dictionary.gensim')\n",
    "corpus = pickle.load(open(file='corpus.pkl', mode='rb'))  # 'rb' --> Read Bytes\n",
    "lda = gensim.models.ldamodel.LdaModel.load('model4.gensim')"
   ]
  },
  {
   "cell_type": "code",
   "execution_count": 691,
   "metadata": {},
   "outputs": [
    {
     "data": {
      "text/html": [
       "\n",
       "<link rel=\"stylesheet\" type=\"text/css\" href=\"https://cdn.rawgit.com/bmabey/pyLDAvis/files/ldavis.v1.0.0.css\">\n",
       "\n",
       "\n",
       "<div id=\"ldavis_el374747656647444205715808\"></div>\n",
       "<script type=\"text/javascript\">\n",
       "\n",
       "var ldavis_el374747656647444205715808_data = {\"mdsDat\": {\"Freq\": [37.695212063993274, 25.930912645727616, 25.23148821214057, 11.142387078138546], \"cluster\": [1, 1, 1, 1], \"topics\": [1, 2, 3, 4], \"x\": [-0.01730556925473999, 0.09917393975434437, -0.05673147901112494, -0.025136891488479446], \"y\": [0.0006554687225561046, -0.017976130162723734, -0.0705657098602383, 0.08788637130040597]}, \"tinfo\": {\"Category\": [\"Default\", \"Default\", \"Default\", \"Default\", \"Default\", \"Default\", \"Default\", \"Default\", \"Default\", \"Default\", \"Default\", \"Default\", \"Default\", \"Default\", \"Default\", \"Default\", \"Default\", \"Default\", \"Default\", \"Default\", \"Default\", \"Default\", \"Default\", \"Default\", \"Default\", \"Default\", \"Default\", \"Default\", \"Default\", \"Default\", \"Topic1\", \"Topic1\", \"Topic1\", \"Topic1\", \"Topic1\", \"Topic1\", \"Topic1\", \"Topic1\", \"Topic1\", \"Topic1\", \"Topic1\", \"Topic1\", \"Topic1\", \"Topic1\", \"Topic1\", \"Topic1\", \"Topic1\", \"Topic1\", \"Topic1\", \"Topic1\", \"Topic1\", \"Topic1\", \"Topic1\", \"Topic1\", \"Topic1\", \"Topic1\", \"Topic1\", \"Topic1\", \"Topic1\", \"Topic1\", \"Topic1\", \"Topic1\", \"Topic1\", \"Topic1\", \"Topic1\", \"Topic1\", \"Topic1\", \"Topic1\", \"Topic1\", \"Topic1\", \"Topic1\", \"Topic1\", \"Topic1\", \"Topic1\", \"Topic1\", \"Topic1\", \"Topic1\", \"Topic1\", \"Topic1\", \"Topic1\", \"Topic1\", \"Topic1\", \"Topic1\", \"Topic1\", \"Topic1\", \"Topic1\", \"Topic1\", \"Topic1\", \"Topic1\", \"Topic1\", \"Topic1\", \"Topic1\", \"Topic1\", \"Topic1\", \"Topic1\", \"Topic1\", \"Topic1\", \"Topic1\", \"Topic1\", \"Topic1\", \"Topic1\", \"Topic1\", \"Topic1\", \"Topic1\", \"Topic1\", \"Topic1\", \"Topic1\", \"Topic1\", \"Topic1\", \"Topic1\", \"Topic1\", \"Topic2\", \"Topic2\", \"Topic2\", \"Topic2\", \"Topic2\", \"Topic2\", \"Topic2\", \"Topic2\", \"Topic2\", \"Topic2\", \"Topic2\", \"Topic2\", \"Topic2\", \"Topic2\", \"Topic2\", \"Topic2\", \"Topic2\", \"Topic2\", \"Topic2\", \"Topic2\", \"Topic2\", \"Topic2\", \"Topic2\", \"Topic2\", \"Topic2\", \"Topic2\", \"Topic2\", \"Topic2\", \"Topic2\", \"Topic2\", \"Topic2\", \"Topic2\", \"Topic2\", \"Topic2\", \"Topic2\", \"Topic2\", \"Topic2\", \"Topic2\", \"Topic2\", \"Topic2\", \"Topic2\", \"Topic2\", \"Topic2\", \"Topic2\", \"Topic2\", \"Topic2\", \"Topic2\", \"Topic2\", \"Topic2\", \"Topic2\", \"Topic2\", \"Topic2\", \"Topic2\", \"Topic2\", \"Topic2\", \"Topic2\", \"Topic2\", \"Topic2\", \"Topic2\", \"Topic2\", \"Topic2\", \"Topic2\", \"Topic2\", \"Topic2\", \"Topic2\", \"Topic2\", \"Topic2\", \"Topic2\", \"Topic2\", \"Topic2\", \"Topic2\", \"Topic2\", \"Topic2\", \"Topic3\", \"Topic3\", \"Topic3\", \"Topic3\", \"Topic3\", \"Topic3\", \"Topic3\", \"Topic3\", \"Topic3\", \"Topic3\", \"Topic3\", \"Topic3\", \"Topic3\", \"Topic3\", \"Topic3\", \"Topic3\", \"Topic3\", \"Topic3\", \"Topic3\", \"Topic3\", \"Topic3\", \"Topic3\", \"Topic3\", \"Topic3\", \"Topic3\", \"Topic3\", \"Topic3\", \"Topic3\", \"Topic3\", \"Topic3\", \"Topic3\", \"Topic3\", \"Topic3\", \"Topic3\", \"Topic3\", \"Topic3\", \"Topic3\", \"Topic3\", \"Topic3\", \"Topic3\", \"Topic3\", \"Topic3\", \"Topic3\", \"Topic3\", \"Topic3\", \"Topic3\", \"Topic3\", \"Topic3\", \"Topic3\", \"Topic3\", \"Topic3\", \"Topic3\", \"Topic3\", \"Topic3\", \"Topic3\", \"Topic3\", \"Topic3\", \"Topic3\", \"Topic3\", \"Topic3\", \"Topic3\", \"Topic3\", \"Topic3\", \"Topic3\", \"Topic3\", \"Topic3\", \"Topic4\", \"Topic4\", \"Topic4\", \"Topic4\", \"Topic4\", \"Topic4\", \"Topic4\", \"Topic4\", \"Topic4\", \"Topic4\", \"Topic4\", \"Topic4\", \"Topic4\", \"Topic4\", \"Topic4\", \"Topic4\", \"Topic4\", \"Topic4\", \"Topic4\", \"Topic4\", \"Topic4\", \"Topic4\", \"Topic4\", \"Topic4\", \"Topic4\", \"Topic4\", \"Topic4\", \"Topic4\", \"Topic4\", \"Topic4\", \"Topic4\", \"Topic4\", \"Topic4\", \"Topic4\", \"Topic4\", \"Topic4\", \"Topic4\", \"Topic4\", \"Topic4\", \"Topic4\", \"Topic4\", \"Topic4\", \"Topic4\", \"Topic4\", \"Topic4\", \"Topic4\", \"Topic4\", \"Topic4\", \"Topic4\", \"Topic4\", \"Topic4\", \"Topic4\", \"Topic4\", \"Topic4\", \"Topic4\", \"Topic4\", \"Topic4\", \"Topic4\", \"Topic4\", \"Topic4\", \"Topic4\", \"Topic4\", \"Topic4\", \"Topic4\", \"Topic4\", \"Topic4\", \"Topic4\", \"Topic4\", \"Topic4\", \"Topic4\", \"Topic4\", \"Topic4\", \"Topic4\", \"Topic4\", \"Topic4\", \"Topic4\", \"Topic4\", \"Topic4\", \"Topic4\", \"Topic4\", \"Topic4\", \"Topic4\", \"Topic4\", \"Topic4\", \"Topic4\", \"Topic4\", \"Topic4\", \"Topic4\"], \"Freq\": [91.0, 399.0, 99.0, 37.0, 159.0, 52.0, 27.0, 67.0, 29.0, 24.0, 74.0, 112.0, 51.0, 83.0, 53.0, 36.0, 39.0, 185.0, 96.0, 201.0, 16.0, 52.0, 21.0, 21.0, 72.0, 25.0, 20.0, 86.0, 18.0, 75.0, 10.440652408051882, 9.535177836553581, 9.534976968167724, 9.534714960930959, 8.601815288361566, 8.602022313086097, 8.600090853463954, 8.598217522957583, 13.627526063324161, 6.745425499884521, 6.7449176533640225, 6.744749677344373, 6.744508776719305, 6.744438604093037, 6.744085923286115, 6.742759300219907, 6.742596991721497, 6.74087858982749, 6.739025416486762, 5.812215249747029, 5.811885190196252, 5.810030919906824, 5.808566520813375, 5.806305445093086, 4.88481140069067, 4.884355151913166, 4.884090118687916, 4.883947159348256, 4.883920565713065, 4.883753607013307, 14.488422339147577, 6.494770719222711, 11.86575145215044, 14.182380582969698, 24.983401161870468, 16.17847226486043, 26.38295824686611, 25.29468343824792, 20.24450047331586, 39.13784000689625, 13.399717739170367, 38.47005148758559, 46.04473837049826, 17.40773974269529, 20.273860231634735, 28.02177158833083, 12.36708234035718, 54.6091732394967, 98.29474767977308, 14.589636244764804, 18.611362521128903, 47.65355079339943, 59.042105111008794, 34.13861920697265, 36.6055352958061, 37.577414234521285, 23.574627049763887, 69.12835704659368, 52.888693449762755, 47.621439338696256, 31.101262817948378, 39.02451282506244, 35.41980894066603, 53.51225489625, 99.39802387026914, 58.73269760454157, 24.38774315449736, 37.919396440681915, 25.088380607472267, 39.68455559994452, 32.44007164723392, 51.073964430753655, 46.31193643206312, 28.880366590678634, 36.57922796755931, 31.095367949311054, 34.267831453999676, 32.29249187353847, 32.21521975216406, 30.873882889300727, 30.96139220931869, 12.65506528798414, 12.645557786457715, 9.988132021620205, 23.30344743245074, 9.092041533404904, 9.798414579224591, 9.77748078697994, 7.325434926349361, 6.438169499788003, 6.438085158941489, 6.437690590257352, 6.43734339278127, 6.436884484435292, 6.436547445239948, 7.23387195607296, 8.037747469206211, 5.54613170800086, 5.546190418885001, 25.90289039922193, 4.660453707042571, 4.660391680585722, 4.660347007410356, 4.654843282214235, 4.646709038547111, 4.5911787354314395, 9.985694801948679, 9.953780799055634, 10.606532813121088, 3.773436099078203, 3.773302288959952, 8.20836749941097, 9.06349728581186, 9.567715912566031, 8.196739515198155, 13.854525478254306, 17.9736192434937, 10.847977141100367, 15.121974762016702, 45.78204522701783, 26.018828737224073, 23.493649294872895, 17.001276269513607, 111.0913551172845, 11.38473334715717, 23.089495903631125, 11.645475242986102, 27.312934179489453, 27.593196561327808, 20.76771351994102, 21.062560178625585, 32.20946214615626, 19.485595125874703, 58.413287488214735, 30.571625524818057, 22.407157837906812, 44.93395161505211, 39.60015376781912, 28.734610228196416, 33.3368764546146, 45.14665638300204, 30.78281980504975, 25.422248280151262, 38.5269202613994, 24.214190156248677, 23.628953538670174, 24.43480637415324, 31.049907595665154, 24.74580984561615, 23.223917095769416, 21.8238269628737, 22.121414695215194, 24.347987277682844, 22.932073430700754, 36.877910186602016, 27.29489376133004, 15.928957362279885, 12.446852482386562, 12.444501090923628, 12.4421531226132, 12.41613972421752, 10.69971415127579, 10.698714919467747, 10.691645811963815, 9.826969630433423, 9.811114659202245, 8.078209773988165, 7.202077484271705, 6.32994699267693, 6.328707233965013, 5.458091413528479, 5.456446292586506, 5.455218955938898, 5.454568092161957, 5.4533950257059916, 5.437742165073057, 12.448017394920589, 4.585069363128054, 4.585093195889221, 4.584004917482231, 4.584123060011588, 4.580969630223664, 10.695011944095198, 15.909599401749178, 15.069929979550812, 11.575102092180478, 64.66760176062232, 36.799917520370414, 7.203407988537246, 44.460953139640445, 27.67926088742592, 18.751060114473802, 9.82543723385316, 59.73446765005353, 16.973910147705784, 43.75588275250444, 148.57042138592, 23.476240327510173, 79.02100555595518, 21.274147794414112, 28.267913067247047, 63.141636577270575, 52.92891523947118, 35.38049061583709, 26.18124247003858, 33.30458320783374, 30.572098437459033, 29.317573533279063, 31.633348899333093, 25.736656799426136, 31.039670569649033, 27.632650436040148, 26.66259577712777, 28.33611529518874, 23.21616576669744, 29.545935871883547, 31.98168534039094, 30.258260255954205, 25.28552388730266, 24.32568457960782, 4.0167467532137895, 4.016308424880432, 6.30836085171902, 2.4871766571463256, 2.48671771760992, 2.4863023625537126, 1.721857344325987, 1.721811573423686, 1.7218004289541449, 1.7217513051595936, 1.721705633213668, 1.7216757625973715, 1.7216228122367925, 1.7216223282380978, 1.7215587463830473, 1.7215392105705256, 1.7215236054962118, 1.721516341704635, 1.7215339542652526, 1.7214920460584977, 1.7214357246021186, 1.7214186961337397, 1.7214197277961503, 1.7214165395936811, 1.7213753161933218, 1.7213420430151982, 1.7212617569976003, 1.7212453749188656, 1.7212065042210931, 1.7211846584765076, 4.778406492410635, 3.254409922895496, 7.077693439409261, 4.018454824409742, 4.018754932410464, 4.0185706234046705, 4.018276076300092, 3.8260090678288527, 4.016493755539825, 4.778509704861555, 4.783388333925954, 3.193268927678034, 2.486694210373809, 2.4870392323918686, 2.48690351135309, 3.767206552253348, 11.290517785171998, 2.488044237056002, 2.4863390975818893, 4.016059713351163, 20.669998510009094, 27.73907128905909, 7.081507604465045, 16.180444590892513, 7.9466789961364395, 7.080679517120691, 8.581208550162525, 5.628496624668916, 40.79251101476832, 11.799191538218695, 6.796985287754936, 6.344816960261648, 11.193853470821688, 20.574114641158545, 8.51735986076484, 14.919687707528812, 9.393352580532419, 10.01701384508519, 9.409980026163954, 13.143708972452202, 9.41584486924658, 12.907522504698242, 10.900992481652613, 7.855324670558414, 11.663517890245947, 12.358903709917048, 10.921977929081537, 10.615543891798621, 10.19020879827219, 11.59725911370033, 10.987735149598226, 9.542800751304421, 8.703095215784694, 9.317138807332592, 9.906567532121386, 8.554253415827045, 9.438054077583441, 8.633017356084194], \"Term\": [\"sales\", \"business\", \"marketing\", \"governance\", \"system\", \"developing\", \"contractor\", \"quality\", \"healthcare\", \"food\", \"application\", \"client\", \"document\", \"company\", \"database\", \"texas\", \"enterprise\", \"process\", \"report\", \"analysis\", \"mapping\", \"sql\", \"administration\", \"campaign\", \"drive\", \"interface\", \"growth\", \"software\", \"along\", \"plan\", \"mission\", \"wells\", \"fargo\", \"tma\", \"clinical\", \"everi\", \"iam\", \"text\", \"survey\", \"street\", \"main\", \"hub\", \"mainstreethub\", \"dimensional\", \"nc\", \"bulldog\", \"idera\", \"legislative\", \"spreadsheet\", \"actual\", \"humana\", \"lbb\", \"clustering\", \"liaison\", \"ledcor\", \"moines\", \"charlotte\", \"ia\", \"des\", \"zynga\", \"general\", \"routine\", \"basic\", \"sas\", \"finance\", \"programming\", \"accounting\", \"modeling\", \"agency\", \"database\", \"technique\", \"financial\", \"perform\", \"public\", \"relationship\", \"may\", \"interview\", \"report\", \"analysis\", \"prepare\", \"essential\", \"assist\", \"information\", \"operations\", \"develop\", \"use\", \"department\", \"system\", \"customer\", \"marketing\", \"maintain\", \"product\", \"responsibility\", \"support\", \"business\", \"management\", \"model\", \"reporting\", \"function\", \"relate\", \"identify\", \"process\", \"project\", \"qualification\", \"need\", \"prefer\", \"opportunity\", \"degree\", \"analyze\", \"application\", \"working\", \"someone\", \"whole\", \"emerson\", \"food\", \"asset\", \"bazaarvoice\", \"things\", \"optional\", \"planet\", \"judgement\", \"reply\", \"rapport\", \"comparison\", \"itccs\", \"compare\", \"agile\", \"zerocater\", \"meal\", \"healthcare\", \"r12\", \"11i\", \"peims\", \"contribution\", \"bitbucket\", \"affinipay\", \"center\", \"region\", \"quick\", \"rational\", \"safe\", \"advancement\", \"student\", \"easy\", \"payment\", \"keep\", \"good\", \"ways\", \"passion\", \"software\", \"program\", \"understand\", \"others\", \"business\", \"find\", \"benefit\", \"unique\", \"decision\", \"make\", \"pay\", \"detail\", \"problem\", \"offer\", \"analysis\", \"drive\", \"type\", \"project\", \"support\", \"time\", \"relate\", \"process\", \"opportunity\", \"new\", \"management\", \"identify\", \"environment\", \"change\", \"system\", \"solution\", \"plan\", \"technology\", \"create\", \"customer\", \"client\", \"governance\", \"contractor\", \"mapping\", \"sponsor\", \"mdm\", \"capgemini\", \"term\", \"longer\", \"downstream\", \"epicor\", \"90\", \"fuel\", \"invision\", \"calendar\", \"transform\", \"transit\", \"quota\", \"chameleon\", \"brew\", \"vista\", \"e10\", \"eclerx\", \"expect\", \"biztech\", \"institutional\", \"reflect\", \"draft\", \"darby\", \"corporation\", \"along\", \"solid\", \"currently\", \"sales\", \"developing\", \"wholesale\", \"quality\", \"enterprise\", \"master\", \"forecasting\", \"client\", \"8\", \"company\", \"business\", \"initiative\", \"process\", \"digital\", \"strategy\", \"management\", \"project\", \"technical\", \"document\", \"change\", \"solution\", \"development\", \"need\", \"tool\", \"marketing\", \"analyze\", \"plan\", \"reporting\", \"insight\", \"customer\", \"system\", \"support\", \"assist\", \"analysis\", \"tceq\", \"pentaho\", \"fund\", \"cbap\", \"geographical\", \"communicator\", \"traceability\", \"78753\", \"circle\", \"retreat\", \"file\", \"ccba\", \"12100\", \"officialtranscript\", \"park\", \"rl\", \"archival\", \"revision\", \"resident\", \"ldo\", \"habit\", \"cwo\", \"keto\", \"aquilan\", \"reprocess\", \"recovery\", \"backup\", \"cleanup\", \"kendra\", \"combining\", \"object\", \"per\", \"etl\", \"environmental\", \"migration\", \"error\", \"copy\", \"oversee\", \"ideal\", \"free\", \"troubleshoot\", \"division\", \"middleware\", \"stack\", \"curious\", \"handle\", \"texas\", \"rest\", \"dedication\", \"ibm\", \"marketing\", \"system\", \"growth\", \"application\", \"interface\", \"campaign\", \"take\", \"fun\", \"business\", \"sql\", \"administration\", \"love\", \"design\", \"analysis\", \"employment\", \"information\", \"build\", \"document\", \"multiple\", \"report\", \"internal\", \"need\", \"drive\", \"expert\", \"reporting\", \"relate\", \"time\", \"analyze\", \"plan\", \"project\", \"support\", \"company\", \"analytical\", \"opportunity\", \"process\", \"maintain\", \"management\", \"create\"], \"Total\": [91.0, 399.0, 99.0, 37.0, 159.0, 52.0, 27.0, 67.0, 29.0, 24.0, 74.0, 112.0, 51.0, 83.0, 53.0, 36.0, 39.0, 185.0, 96.0, 201.0, 16.0, 52.0, 21.0, 21.0, 72.0, 25.0, 20.0, 86.0, 18.0, 75.0, 11.102360913703553, 10.17356391678766, 10.173463577422819, 10.173634908467566, 9.242327696534836, 9.242582524914004, 9.242009065634337, 9.241821157419492, 14.7292282308265, 7.380923685269244, 7.380844420690043, 7.380840996070653, 7.3808026879588855, 7.380949262174688, 7.380919285923621, 7.380757651898501, 7.380837510408835, 7.38043901740889, 7.380272160835193, 6.449853535780157, 6.449887024113766, 6.449505215823453, 6.449370580461458, 6.449662425833363, 5.519230327924896, 5.51925630690023, 5.519218682378552, 5.519247658913325, 5.519227300091458, 5.519038767528182, 16.604313120157364, 7.365597566391003, 13.706261507601377, 16.574933341608425, 30.345481347087674, 19.319452938291317, 33.07895254481087, 31.70937246689055, 25.710647561010116, 53.74645545187335, 16.46769647822375, 54.60052329377203, 67.23269504491708, 22.602162816433385, 27.38634275630602, 42.41555665846443, 15.482165466996124, 96.87188462526157, 201.60783438875416, 19.174311942291247, 26.120922666606067, 85.23962135598907, 112.85111099160396, 57.74223424063287, 64.87250949131278, 67.30071009930774, 36.059125247395606, 159.89902127170888, 112.90216756078928, 99.63525263472073, 54.96701785060206, 82.44666295025783, 71.21685384975684, 134.35840406962154, 399.85231138824196, 169.839308520795, 40.72963686565065, 87.35650753492828, 42.97254347028092, 103.4981739539703, 72.46851699144491, 185.14819390183226, 155.77206240028673, 57.30192918558481, 98.59562661543657, 68.04578343806996, 92.19166724496448, 79.29456117439533, 79.27928240515327, 74.18479954960122, 77.04838907233763, 13.309307758216887, 13.308700591079413, 10.642159439923164, 24.90565125957991, 9.753297450173429, 10.639183870198432, 10.64015648190694, 7.9758864454317155, 7.08701695522033, 7.08701585257366, 7.08704781425965, 7.087047974943953, 7.087057620038529, 7.0868824723629995, 7.974325581305424, 8.862415888459507, 6.197723176709336, 6.197860690082553, 29.435866797119484, 5.309000739413625, 5.309073835527153, 5.3091796828036, 5.3089911905610645, 5.309007944816006, 5.3002096348332675, 11.57343691908674, 11.574584574658484, 12.40115902638491, 4.420348349363079, 4.420370427471725, 9.63097510710327, 10.68617215606722, 11.50966030492063, 9.79432063870928, 17.905980991981277, 24.06521651908408, 13.939728653047958, 20.460232963409318, 86.32441876193391, 46.08043232155252, 40.92396455331257, 26.737953473902483, 399.85231138824196, 15.82310684246918, 44.54826772183807, 16.688205075456164, 57.63398312721187, 58.56744805735727, 38.725957436356914, 39.97191968054741, 76.54385440242244, 35.69232153941933, 201.60783438875416, 72.48378921424117, 45.50309975805679, 155.77206240028673, 134.35840406962154, 77.22396480998705, 103.4981739539703, 185.14819390183226, 92.19166724496448, 70.49373688385803, 169.839308520795, 72.46851699144491, 68.83429033002813, 79.44782376456607, 159.89902127170888, 84.35616377489167, 75.0291233958284, 60.81519372447945, 65.10728162080264, 112.90216756078928, 112.4700175013998, 37.57458511481403, 27.960515293366576, 16.597955267917513, 13.101315615273583, 13.101498322935983, 13.101100926581282, 13.10120981296428, 11.353440119880073, 11.353496022129585, 11.352715634572085, 10.479438998604113, 10.479276309518092, 8.73106269239063, 7.857089734928164, 6.983253046404734, 6.983331113973298, 6.109186868270374, 6.109010974009839, 6.1089768933619935, 6.109193446240722, 6.108960666201827, 6.1078916535739936, 14.032260312899773, 5.235022800160291, 5.235135693765616, 5.23497126199552, 5.2351271092709455, 5.235014643764617, 12.28450477667645, 18.375873543020045, 17.543081465413877, 13.929620201086617, 91.44365026530916, 52.45823036723294, 8.623195616728312, 67.87533494430177, 39.831469591630835, 25.485996453324365, 12.303607715692456, 112.4700175013998, 24.794275965153165, 83.80237110258729, 399.85231138824196, 38.12121454037126, 185.14819390183226, 34.16828283434863, 52.01060724721772, 169.839308520795, 155.77206240028673, 82.4563271917817, 51.51136218203061, 79.44782376456607, 84.35616377489167, 79.27802888510215, 98.59562661543657, 64.71526250822889, 99.63525263472073, 79.27928240515327, 75.0291233958284, 87.35650753492828, 57.10156005523706, 112.90216756078928, 159.89902127170888, 134.35840406962154, 85.23962135598907, 201.60783438875416, 4.694998539177934, 4.695044755525004, 7.8675095644907, 3.1628718373809805, 3.1629983939908692, 3.1630043165815547, 2.3968943239571248, 2.3969063857005373, 2.3969120998988713, 2.3969227811403377, 2.396930462152683, 2.3969265007473783, 2.396935964276826, 2.3969363755189215, 2.3969462893078726, 2.3969583310595803, 2.396944648363483, 2.39695058024368, 2.3969964804143253, 2.396960427875037, 2.3969833334130213, 2.3969756115956344, 2.396991832113223, 2.3970016650119605, 2.3969729610017465, 2.3969745008888514, 2.3969927819006416, 2.3969895969846977, 2.39700513335068, 2.3970060930561745, 7.323364233151699, 4.802835016949347, 12.173538502471482, 6.457722380302608, 6.472426176862339, 6.55630123463202, 6.556391391796847, 6.54300541882299, 7.373936075653506, 9.91796667440197, 10.068413392472962, 5.746650041370851, 4.036993022993838, 4.037874105171502, 4.051771416033212, 7.362521021096406, 36.18644105719331, 4.088529089218705, 4.09380395510833, 8.377254077708226, 99.63525263472073, 159.89902127170888, 20.322131124515828, 74.18479954960122, 25.380829508929068, 21.614518953770617, 29.98348726379292, 15.183490867928697, 399.85231138824196, 52.100840356328206, 21.725664289977875, 19.38748838864276, 57.37974882143216, 201.60783438875416, 35.52175036663056, 112.85111099160396, 43.532665567603374, 51.51136218203061, 45.810319625809086, 96.87188462526157, 46.98331235276308, 98.59562661543657, 72.48378921424117, 32.6677197739513, 87.35650753492828, 103.4981739539703, 77.22396480998705, 79.27928240515327, 75.0291233958284, 155.77206240028673, 134.35840406962154, 83.80237110258729, 59.02987291254703, 92.19166724496448, 185.14819390183226, 54.96701785060206, 169.839308520795, 65.10728162080264], \"loglift\": [30.0, 29.0, 28.0, 27.0, 26.0, 25.0, 24.0, 23.0, 22.0, 21.0, 20.0, 19.0, 18.0, 17.0, 16.0, 15.0, 14.0, 13.0, 12.0, 11.0, 10.0, 9.0, 8.0, 7.0, 6.0, 5.0, 4.0, 3.0, 2.0, 1.0, 0.9142, 0.9108, 0.9108, 0.9108, 0.9038, 0.9038, 0.9037, 0.9035, 0.8979, 0.8856, 0.8855, 0.8855, 0.8855, 0.8855, 0.8854, 0.8852, 0.8852, 0.885, 0.8847, 0.8715, 0.8715, 0.8712, 0.871, 0.8706, 0.8535, 0.8534, 0.8534, 0.8533, 0.8533, 0.8533, 0.8393, 0.8498, 0.8314, 0.8197, 0.7812, 0.7982, 0.7495, 0.7496, 0.7366, 0.6584, 0.7695, 0.6255, 0.5971, 0.7145, 0.6749, 0.5611, 0.751, 0.4024, 0.2573, 0.7024, 0.6367, 0.3941, 0.3278, 0.4501, 0.4034, 0.3929, 0.5506, 0.1371, 0.2173, 0.2374, 0.4062, 0.2277, 0.2772, 0.055, -0.4163, -0.0862, 0.4628, 0.1411, 0.4375, 0.017, 0.1719, -0.3122, -0.2374, 0.2905, -0.0159, 0.1925, -0.014, 0.0773, 0.0751, 0.099, 0.0639, 1.2993, 1.2986, 1.2863, 1.2832, 1.2795, 1.2674, 1.2652, 1.2647, 1.2537, 1.2537, 1.2536, 1.2536, 1.2535, 1.2535, 1.2523, 1.2521, 1.2387, 1.2386, 1.2219, 1.2194, 1.2194, 1.2194, 1.2182, 1.2165, 1.2061, 1.2022, 1.1989, 1.1934, 1.1915, 1.1915, 1.1899, 1.185, 1.1649, 1.1717, 1.0932, 1.0579, 1.099, 1.0474, 0.7155, 0.7782, 0.7947, 0.8969, 0.069, 1.0205, 0.6925, 0.9899, 0.603, 0.5971, 0.7266, 0.7091, 0.4841, 0.7445, 0.111, 0.4864, 0.6413, 0.1065, 0.1281, 0.3611, 0.2168, -0.0615, 0.2528, 0.3298, -0.1338, 0.2535, 0.2805, 0.1706, -0.2892, 0.1233, 0.177, 0.3249, 0.2702, -0.1843, -0.2404, 1.3584, 1.353, 1.3359, 1.3258, 1.3256, 1.3255, 1.3234, 1.3178, 1.3177, 1.3171, 1.3128, 1.3112, 1.2994, 1.29, 1.2789, 1.2786, 1.2644, 1.2641, 1.2639, 1.2637, 1.2636, 1.2609, 1.2573, 1.2445, 1.2445, 1.2443, 1.2443, 1.2436, 1.2385, 1.233, 1.2251, 1.1919, 1.0306, 1.0226, 1.1972, 0.954, 1.0131, 1.0702, 1.1522, 0.7443, 0.9981, 0.7272, 0.387, 0.8923, 0.5256, 0.9033, 0.7674, 0.3876, 0.2976, 0.531, 0.7003, 0.5077, 0.3621, 0.3823, 0.2403, 0.455, 0.2108, 0.3231, 0.3425, 0.2512, 0.4771, 0.0365, -0.2323, -0.1137, 0.1618, -0.7377, 2.0384, 2.0383, 1.9735, 1.9541, 1.9539, 1.9537, 1.8636, 1.8636, 1.8636, 1.8636, 1.8635, 1.8635, 1.8635, 1.8635, 1.8634, 1.8634, 1.8634, 1.8634, 1.8634, 1.8634, 1.8634, 1.8634, 1.8633, 1.8633, 1.8633, 1.8633, 1.8633, 1.8632, 1.8632, 1.8632, 1.7675, 1.8052, 1.6521, 1.72, 1.7178, 1.7049, 1.7048, 1.6578, 1.5869, 1.4642, 1.4502, 1.6068, 1.7099, 1.7098, 1.7063, 1.5243, 1.0297, 1.6977, 1.6958, 1.4592, 0.6216, 0.4427, 1.1402, 0.6717, 1.0332, 1.0784, 0.9433, 1.202, -0.0882, 0.7093, 1.0324, 1.0774, 0.5601, -0.0879, 0.7664, 0.171, 0.6609, 0.5569, 0.6117, 0.197, 0.587, 0.1612, 0.2999, 0.7692, 0.1809, 0.0692, 0.2385, 0.1838, 0.198, -0.4032, -0.3093, 0.0217, 0.28, -0.0976, -0.7335, 0.3341, -0.6957, 0.174], \"logprob\": [30.0, 29.0, 28.0, 27.0, 26.0, 25.0, 24.0, 23.0, 22.0, 21.0, 20.0, 19.0, 18.0, 17.0, 16.0, 15.0, 14.0, 13.0, 12.0, 11.0, 10.0, 9.0, 8.0, 7.0, 6.0, 5.0, 4.0, 3.0, 2.0, 1.0, -6.8688, -6.9595, -6.9596, -6.9596, -7.0626, -7.0625, -7.0628, -7.063, -6.6024, -7.3057, -7.3057, -7.3058, -7.3058, -7.3058, -7.3059, -7.3061, -7.3061, -7.3063, -7.3066, -7.4546, -7.4546, -7.4549, -7.4552, -7.4556, -7.6284, -7.6285, -7.6285, -7.6286, -7.6286, -7.6286, -6.5412, -7.3435, -6.7409, -6.5625, -5.9963, -6.4309, -5.9418, -5.9839, -6.2066, -5.5474, -6.6193, -5.5647, -5.3849, -6.3576, -6.2052, -5.8816, -6.6995, -5.2143, -4.6266, -6.5342, -6.2908, -5.3506, -5.1363, -5.6841, -5.6143, -5.5881, -6.0544, -4.9786, -5.2463, -5.3512, -5.7773, -5.5503, -5.6473, -5.2346, -4.6154, -5.1415, -6.0205, -5.5791, -5.9921, -5.5336, -5.7351, -5.2813, -5.3791, -5.8514, -5.6151, -5.7775, -5.6803, -5.7397, -5.7421, -5.7846, -5.7818, -6.3024, -6.3031, -6.539, -5.6918, -6.633, -6.5582, -6.5604, -6.8491, -6.9782, -6.9782, -6.9783, -6.9783, -6.9784, -6.9784, -6.8617, -6.7563, -7.1273, -7.1273, -5.5861, -7.3013, -7.3013, -7.3013, -7.3025, -7.3043, -7.3163, -6.5393, -6.5425, -6.479, -7.5124, -7.5125, -6.7353, -6.6362, -6.582, -6.7367, -6.2118, -5.9515, -6.4565, -6.1243, -5.0165, -5.5816, -5.6837, -6.0071, -4.1301, -6.4082, -5.7011, -6.3855, -5.5331, -5.5229, -5.807, -5.7929, -5.3682, -5.8708, -4.7729, -5.4204, -5.7311, -5.0352, -5.1616, -5.4823, -5.3338, -5.0305, -5.4135, -5.6048, -5.1891, -5.6535, -5.678, -5.6444, -5.4048, -5.6318, -5.6953, -5.7574, -5.7439, -5.648, -5.7079, -5.2055, -5.5064, -6.045, -6.2916, -6.2918, -6.292, -6.2941, -6.4429, -6.443, -6.4436, -6.528, -6.5296, -6.7239, -6.8387, -6.9678, -6.968, -7.116, -7.1163, -7.1165, -7.1166, -7.1169, -7.1197, -6.2915, -7.2903, -7.2903, -7.2905, -7.2905, -7.2912, -6.4433, -6.0462, -6.1004, -6.3642, -4.6438, -5.2076, -6.8385, -5.0185, -5.4924, -5.8818, -6.5281, -4.7232, -5.9814, -5.0345, -3.812, -5.6571, -4.4434, -5.7556, -5.4714, -4.6677, -4.8441, -5.2469, -5.548, -5.3074, -5.393, -5.4349, -5.3589, -5.5652, -5.3778, -5.4941, -5.5298, -5.469, -5.6682, -5.4271, -5.3479, -5.4033, -5.5829, -5.6216, -6.6053, -6.6054, -6.1539, -7.0846, -7.0848, -7.085, -7.4524, -7.4524, -7.4524, -7.4524, -7.4524, -7.4525, -7.4525, -7.4525, -7.4525, -7.4525, -7.4525, -7.4525, -7.4525, -7.4526, -7.4526, -7.4526, -7.4526, -7.4526, -7.4526, -7.4527, -7.4527, -7.4527, -7.4527, -7.4527, -6.4316, -6.8157, -6.0388, -6.6049, -6.6048, -6.6048, -6.6049, -6.6539, -6.6053, -6.4316, -6.4306, -6.8347, -7.0848, -7.0847, -7.0847, -6.6694, -5.5718, -7.0843, -7.0849, -6.6055, -4.9671, -4.6729, -6.0383, -5.212, -5.923, -6.0384, -5.8462, -6.2679, -4.2873, -5.5277, -6.0793, -6.1481, -5.5804, -4.9717, -5.8536, -5.2931, -5.7558, -5.6915, -5.754, -5.4198, -5.7534, -5.4379, -5.6069, -5.9346, -5.5393, -5.4814, -5.605, -5.6334, -5.6743, -5.545, -5.599, -5.74, -5.8321, -5.7639, -5.7026, -5.8493, -5.751, -5.8402]}, \"token.table\": {\"Topic\": [2, 4, 4, 1, 2, 3, 3, 1, 2, 3, 1, 1, 2, 3, 4, 2, 4, 2, 1, 2, 3, 2, 2, 3, 1, 2, 3, 4, 1, 2, 3, 4, 1, 2, 3, 4, 1, 2, 3, 4, 4, 4, 2, 1, 2, 3, 4, 4, 1, 3, 4, 2, 1, 2, 3, 4, 2, 3, 3, 1, 2, 3, 4, 1, 1, 2, 3, 4, 3, 1, 3, 4, 3, 4, 4, 1, 2, 3, 1, 2, 3, 4, 1, 4, 4, 1, 2, 3, 4, 1, 1, 4, 4, 1, 2, 3, 4, 2, 2, 3, 2, 1, 4, 1, 3, 1, 2, 3, 4, 2, 4, 1, 3, 4, 1, 2, 3, 4, 4, 3, 1, 3, 4, 1, 2, 3, 4, 1, 4, 1, 2, 3, 4, 1, 2, 3, 4, 1, 1, 2, 3, 4, 1, 2, 3, 4, 1, 2, 3, 4, 1, 2, 3, 1, 2, 3, 4, 1, 2, 3, 4, 1, 1, 3, 4, 1, 2, 3, 4, 3, 3, 1, 2, 3, 4, 3, 2, 3, 3, 2, 1, 2, 3, 4, 1, 2, 3, 4, 1, 2, 3, 4, 2, 3, 4, 3, 1, 4, 1, 3, 4, 2, 3, 4, 1, 1, 3, 1, 2, 3, 4, 1, 4, 1, 3, 1, 2, 3, 4, 1, 2, 4, 1, 2, 1, 2, 3, 1, 2, 3, 4, 3, 1, 2, 3, 4, 1, 2, 3, 4, 3, 4, 1, 2, 3, 4, 1, 2, 3, 3, 1, 2, 3, 4, 4, 2, 3, 4, 1, 2, 1, 1, 1, 1, 1, 2, 4, 1, 3, 4, 1, 2, 3, 4, 1, 1, 2, 3, 4, 1, 2, 3, 1, 2, 3, 4, 3, 1, 2, 3, 4, 1, 2, 3, 4, 1, 3, 4, 3, 2, 2, 1, 2, 4, 4, 1, 4, 1, 1, 1, 3, 2, 3, 4, 1, 1, 1, 2, 3, 4, 1, 2, 3, 4, 1, 2, 3, 4, 3, 1, 3, 4, 1, 2, 3, 4, 1, 2, 3, 4, 3, 2, 3, 4, 2, 4, 1, 1, 2, 3, 4, 1, 2, 3, 4, 1, 1, 2, 3, 4, 1, 1, 2, 3, 4, 1, 2, 3, 4, 1, 4, 1, 2, 3, 4, 4, 1, 2, 3, 4, 1, 2, 3, 4, 2, 1, 2, 3, 1, 3, 4, 4, 1, 2, 4, 1, 2, 3, 4, 1, 2, 2, 4, 3, 4, 1, 2, 3, 4, 1, 2, 3, 4, 2, 1, 2, 3, 4, 1, 2, 3, 4, 1, 2, 3, 4, 1, 2, 3, 4, 1, 2, 3, 4, 1, 2, 3, 4, 1, 3, 1, 2, 3, 4, 1, 2, 4, 1, 2, 3, 4, 1, 2, 3, 4, 2, 3, 3, 2, 2, 2, 4, 3, 1, 2, 1, 2, 3, 4, 1, 2, 3, 4, 2, 1, 2, 3, 4, 1, 2, 3, 4, 4, 4, 1, 2, 3, 4, 1, 4, 4, 4, 4, 1, 2, 1, 2, 3, 1, 3, 1, 2, 3, 4, 1, 2, 3, 1, 2, 3, 4, 2, 3, 1, 1, 2, 3, 4, 3, 4, 1, 2, 3, 4, 1, 1, 2, 1, 2, 3, 4, 1, 4, 1, 2, 3, 4, 1, 2, 3, 4, 4, 1, 2, 3, 4, 1, 2, 3, 4, 1, 2, 3, 4, 3, 1, 2, 3, 4, 1, 2, 1, 2, 3, 4, 1, 1, 2, 3, 4, 4, 3, 3, 1, 3, 4, 1, 2, 3, 4, 1, 2, 3, 4, 1, 2, 3, 4, 1, 2, 3, 4, 3, 2, 3, 4, 1, 2, 3, 4, 1, 2, 3, 4, 2, 1], \"Freq\": [0.9417838506108356, 0.8343985946255412, 0.8344088913658033, 0.20165944781074444, 0.12099566868644666, 0.6856421225565311, 0.9542495548981224, 0.7859982859124314, 0.060461406608648564, 0.1511535165216214, 0.9302536819968666, 0.5983706563116206, 0.04602851202397082, 0.04602851202397082, 0.3221995841677957, 0.8306531696982216, 0.1038316462122777, 0.9433589130399157, 0.7778878362569815, 0.07778878362569816, 0.11668317543854724, 0.9026883979138769, 0.10883836326571189, 0.8707069061256951, 0.48609222105441413, 0.287687232868939, 0.11904299291128509, 0.10416261879737446, 0.40657380434404944, 0.20328690217202472, 0.23716805253402884, 0.15246517662901854, 0.4036363477215323, 0.11352272279668095, 0.3531818042563407, 0.13874999452927672, 0.4178753624490536, 0.22915745682690036, 0.13479850401582374, 0.215677606425318, 0.8343757241361868, 0.8343955716146815, 0.9227648439902718, 0.5631184094487703, 0.082121434711279, 0.29329083825456786, 0.07038980118109629, 0.8343788162825192, 0.87551226082655, 0.07295935506887917, 0.07295935506887917, 0.9399217197487433, 0.26937074354784535, 0.5162939251333702, 0.17958049569856357, 0.044895123924640894, 0.9417955391990442, 0.9551056778295035, 0.8184676562507535, 0.3675400941197375, 0.25268381470731954, 0.16079879117738516, 0.20674130294235235, 0.9484121183953843, 0.24759141608131063, 0.2776024968184392, 0.3726375858193463, 0.10253785918518926, 0.8909151143943248, 0.5551823765157919, 0.09253039608596532, 0.32385638630087865, 0.9159535574336948, 0.632336718915586, 0.8344018889925854, 0.0864047565983459, 0.864047565983459, 0.8184630902239312, 0.21397691207222272, 0.30208505233725563, 0.41536694696372645, 0.06293438590359492, 0.9059253288810092, 0.8344069021489701, 0.8343799249341373, 0.23117272120702217, 0.204498945683135, 0.5334755104777434, 0.03556503403184957, 0.9737806638661286, 0.9303233432076553, 0.8343741827748159, 0.6323102341388892, 0.20285822198502385, 0.16705971222296082, 0.5250448098435911, 0.11932836587354344, 0.8778171807294175, 0.8466136895846743, 0.965647439494992, 0.9417985113423385, 0.30504585228123166, 0.6100917045624633, 0.081403362868857, 0.8954369915574268, 0.32254456763082273, 0.33790383275610003, 0.19967044662860456, 0.13823338612749547, 0.24680563075274015, 0.4936112615054803, 0.07178946630016461, 0.8614735956019755, 0.07178946630016461, 0.46943297143930834, 0.21257342102912077, 0.26571677628640095, 0.05314335525728019, 0.8343847932055625, 0.955107165928458, 0.7256292470286176, 0.11163526877363347, 0.14884702503151132, 0.26026311537225255, 0.4684736076700546, 0.19085961793965187, 0.06940349743260069, 0.2442715896915826, 0.4885431793831652, 0.4035585735775909, 0.2522241084859943, 0.264835313910294, 0.0756672325457983, 0.665573549977711, 0.19412561874349904, 0.05546446249814258, 0.08319669374721388, 0.9059239143706123, 0.2962717744356918, 0.2614162715609045, 0.24398852012351088, 0.19170526581133, 0.22515806275823946, 0.5253688131025587, 0.2001405002295462, 0.05003512505738655, 0.5703494483276426, 0.1849781994576138, 0.20039304941241495, 0.04624454986440345, 0.28594178444436186, 0.019062785629624126, 0.7053230682960926, 0.3658012239687464, 0.214435200257541, 0.3658012239687464, 0.05045534123706848, 0.23413526628730005, 0.05853381657182501, 0.6146050740041626, 0.08780072485773752, 0.948387497509711, 0.17401442454314692, 0.17401442454314692, 0.5220432736294408, 0.09706596347289406, 0.19413192694578812, 0.5047430100590492, 0.19413192694578812, 0.9688645663467385, 0.9550866474942784, 0.22073901176314908, 0.4276818352911013, 0.20694282352795226, 0.15175807058716498, 0.8184698303367355, 0.8688353726412571, 0.1737670745282514, 0.8186130801901639, 0.9396589156976772, 0.3659729564512764, 0.16891059528520452, 0.22521412704693936, 0.25336589292780676, 0.10042310868792191, 0.07531733151594143, 0.7029617608154534, 0.12552888585990238, 0.42130164865445124, 0.348663433369201, 0.15980407362755047, 0.07263821528525022, 0.15485335867800812, 0.15485335867800812, 0.6194134347120325, 0.9689311662578801, 0.30505004703498073, 0.6101000940699615, 0.7273862505741533, 0.1914174343616193, 0.11485046061697157, 0.2464361532508348, 0.16429076883388985, 0.5750176909186145, 0.973753815639719, 0.07126435639742985, 0.8551722767691583, 0.1836675483173546, 0.33672383858181676, 0.24489006442313946, 0.24489006442313946, 0.9829494079275249, 0.8344005099771648, 0.8238458871043516, 0.16476917742087033, 0.6959640257575048, 0.12820389948164562, 0.12820389948164562, 0.03662968556618447, 0.1263974275034284, 0.6951858512688562, 0.1263974275034284, 0.04015152985069411, 0.9234851865659645, 0.08127697364119994, 0.08127697364119994, 0.8127697364119995, 0.10082711838314355, 0.10082711838314355, 0.30248135514943064, 0.5041355919157178, 0.9542643694696001, 0.19758302132856317, 0.26344402843808423, 0.19758302132856317, 0.39516604265712635, 0.5817668208838878, 0.06981201850606654, 0.2559774011889106, 0.09308269134142204, 0.12710502501495652, 0.7626301500897391, 0.8431544201008971, 0.06022531572149265, 0.06022531572149265, 0.6323114181150524, 0.12466125113069126, 0.7479675067841476, 0.12466125113069126, 0.9847081447989829, 0.14762231291682382, 0.4920743763894127, 0.04920743763894127, 0.3444520634725889, 0.8343821052573762, 0.1358230417454323, 0.4074691252362969, 0.5432921669817292, 0.10191648238785929, 0.8832761806947805, 0.9484014089622848, 0.9302488520447253, 0.9059205726934967, 0.9738142362861093, 0.3581125715146881, 0.11937085717156272, 0.4774834286862509, 0.13561278396509238, 0.27122556793018476, 0.5424511358603695, 0.4415710618692208, 0.3311782964019156, 0.15179005251754465, 0.06899547841706574, 0.9484018568527273, 0.5228127528526463, 0.1860858950831453, 0.1595021957855531, 0.13291849648796092, 0.18362478961909348, 0.18362478961909348, 0.6033385944627356, 0.33274047121690536, 0.140101251038697, 0.40279109673625385, 0.12258859465885988, 0.9550850813579421, 0.1575992620175312, 0.0787996310087656, 0.43339797054821083, 0.3151985240350624, 0.3192622922661572, 0.23412568099518194, 0.25540983381292576, 0.19155737535969433, 0.7750853732690574, 0.12918089554484288, 0.06459044777242144, 0.9162687615302806, 0.8466346130895271, 0.846618679118813, 0.22338904535815685, 0.781861658753549, 0.8343745168389681, 0.8343791468979561, 0.9303039224279376, 0.8343900786768715, 0.9059234173834316, 0.9484530640370423, 0.9302812463436391, 0.9688693368575404, 0.5157965693925587, 0.1547389708177676, 0.3094779416355352, 0.9484009689159065, 0.9484063313899271, 0.5639745653340088, 0.09096363957000142, 0.18192727914000284, 0.16373455122600256, 0.29026362875417194, 0.4780812708892244, 0.17074331103186585, 0.06829732441274634, 0.3473871891840403, 0.22962881996911141, 0.3709388630270261, 0.052991266146718015, 0.9639741607767005, 0.48175719668194067, 0.31113485619042003, 0.21076877354834903, 0.15694893497006057, 0.07847446748503029, 0.7455074411077877, 0.03923723374251514, 0.6601351533697798, 0.09430502190996853, 0.16503378834244495, 0.0707287664324764, 0.9159257746110109, 0.9680759700844587, 0.24770912268220843, 0.49541824536441686, 0.3090031381353734, 0.6180062762707468, 0.9007093245957337, 0.5892515093902153, 0.22096931602133071, 0.12276073112296151, 0.04910429244918461, 0.788410430578651, 0.06307283444629208, 0.03153641722314604, 0.09460925166943812, 0.9059191532288416, 0.19646228346613603, 0.32743713911022676, 0.2619497112881814, 0.19646228346613603, 0.9483913492117324, 0.3752701947350585, 0.17242144082421607, 0.3245580062573479, 0.13185169004204758, 0.3971984070887234, 0.3546414349006459, 0.18441354614833588, 0.07092828698012918, 0.27309852908125476, 0.6827463227031368, 0.25215507458824765, 0.5323273796863006, 0.16810338305883177, 0.028017230509805296, 0.8343984514678713, 0.5888237690684023, 0.06927338459628263, 0.29441188453420114, 0.034636692298141314, 0.3687968882226402, 0.3362559863206425, 0.19524541141198595, 0.09762270570599298, 0.8776453937617598, 0.14960008079542028, 0.6358003433805363, 0.18700010099427536, 0.1528349643610548, 0.1528349643610548, 0.6113398574442191, 0.8343950003892276, 0.1955011952773716, 0.7331294822901434, 0.0488752988193429, 0.2582247325049153, 0.5422719382603222, 0.07746741975147459, 0.12911236625245764, 0.10209998599063452, 0.8167998879250762, 0.9417650745924026, 0.8519620596359399, 0.20821035835521529, 0.6246310750656459, 0.684190927781017, 0.16361087403459101, 0.1041160107492852, 0.04462114746397937, 0.19992236775665162, 0.3065476305601991, 0.3598602619619729, 0.1332815785044344, 0.8466185473960764, 0.455575620320601, 0.23513580403643922, 0.24983179178871667, 0.058783951009109804, 0.7822966500777375, 0.0521531100051825, 0.15645933001554752, 0.0521531100051825, 0.3266101530315516, 0.4180609958803861, 0.1829016856976689, 0.06532203060631032, 0.2754550229479462, 0.24304854965995254, 0.42668523162525, 0.05401078881332279, 0.4730330932075406, 0.26683918078374086, 0.19406485875181154, 0.06064526835994111, 0.2604142234661157, 0.5642308175099174, 0.0868047411553719, 0.0868047411553719, 0.8281808005177966, 0.15528390009708687, 0.29530327384248156, 0.28888363745460155, 0.3402407285576418, 0.07703563665456041, 0.7521404096620252, 0.08848710701906179, 0.08848710701906179, 0.5060911632848725, 0.13961135538893032, 0.2966741302014769, 0.06980567769446516, 0.10313024614529229, 0.14732892306470327, 0.6482472614846944, 0.08839735383882195, 0.8870138651231082, 0.08063762410210074, 0.8184395252285995, 0.9417968174086648, 0.8466148417807839, 0.9049060580432206, 0.8343851798416527, 0.9551150808216755, 0.08639618930163682, 0.8639618930163683, 0.3864802486060244, 0.31884620509997014, 0.173916111872711, 0.11594407458180732, 0.7302910132239095, 0.10954365198358643, 0.10954365198358643, 0.03651455066119548, 0.8466148609760425, 0.5677601939175806, 0.07226038831678298, 0.22710407756703221, 0.13419786401688266, 0.43499907530994447, 0.10302609678393422, 0.32052563443890647, 0.13736812904524562, 0.8343857158756421, 0.8343775288540667, 0.49145670031756816, 0.15445782009980713, 0.2527491601633208, 0.09829134006351363, 0.2445867396753913, 0.4891734793507826, 0.8344031838391133, 0.8343935066849292, 0.8343908085861034, 0.8145978579359016, 0.9049015383735249, 0.25152101795224896, 0.043742785730825906, 0.7108202681259209, 0.8446489473870454, 0.12066413534100649, 0.26643677802719484, 0.5328735560543897, 0.13901049288375383, 0.0579210387015641, 0.05700252843102259, 0.05700252843102259, 0.8550379264653388, 0.29636245748104023, 0.29636245748104023, 0.3674894472764899, 0.04741799319696644, 0.9767600416313217, 0.9159385478821941, 0.9484745070983724, 0.3646774192134935, 0.1535483870372604, 0.2303225805558906, 0.2303225805558906, 0.2476550714444641, 0.4953101428889282, 0.2884027084840933, 0.09613423616136442, 0.5383517225036407, 0.07690738892909153, 0.9483907839299995, 0.0935788779551185, 0.8422099015960666, 0.4019101028620316, 0.29771118730520857, 0.22328339047890644, 0.08187057650893237, 0.9504910766946829, 0.06789221976390593, 0.43152234110771415, 0.1938723561498426, 0.20012630312241816, 0.1751105152321159, 0.26681352737980346, 0.3001652183022789, 0.16675845461237715, 0.3001652183022789, 0.8519704461293348, 0.2910631702547145, 0.21829737769103588, 0.4244671232881253, 0.04851052837578575, 0.7894243142743553, 0.06072494725187348, 0.12144989450374696, 0.06072494725187348, 0.3453084453720492, 0.36175170467548007, 0.18087585233774003, 0.1315460744274473, 0.9159459447878944, 0.44215456211103255, 0.1658079607916372, 0.0829039803958186, 0.3039812614513349, 0.973834036246703, 0.9398358019456298, 0.28488565763402546, 0.37553109415394265, 0.19424022111410827, 0.14244282881701273, 0.9829328543799966, 0.30904610790162357, 0.23178458092621768, 0.40175994027211065, 0.061809221580324716, 0.8344130903101824, 0.8591984223010574, 0.859188817209927, 0.3972820586598438, 0.09932051466496095, 0.49660257332480473, 0.08790609917276589, 0.48348354545021244, 0.3296478718978721, 0.08790609917276589, 0.21992004191762743, 0.5620178849006034, 0.14661336127841829, 0.048871120426139426, 0.11984512360418312, 0.7190707416250987, 0.05992256180209156, 0.11984512360418312, 0.5646300008414157, 0.2228802634900325, 0.1337281580940195, 0.08915210539601301, 0.8184386439877327, 0.7891114865851296, 0.07173740787137542, 0.14347481574275084, 0.9829397133386798, 0.9768046032017333, 0.8117640270644629, 0.11596628958063757, 0.40234455740398867, 0.2465982771185737, 0.2465982771185737, 0.11680971021406122, 0.9680974494871976, 0.9059548610924789], \"Term\": [\"11i\", \"12100\", \"78753\", \"8\", \"8\", \"8\", \"90\", \"accounting\", \"accounting\", \"accounting\", \"actual\", \"administration\", \"administration\", \"administration\", \"administration\", \"advancement\", \"advancement\", \"affinipay\", \"agency\", \"agency\", \"agency\", \"agile\", \"along\", \"along\", \"analysis\", \"analysis\", \"analysis\", \"analysis\", \"analytical\", \"analytical\", \"analytical\", \"analytical\", \"analyze\", \"analyze\", \"analyze\", \"analyze\", \"application\", \"application\", \"application\", \"application\", \"aquilan\", \"archival\", \"asset\", \"assist\", \"assist\", \"assist\", \"assist\", \"backup\", \"basic\", \"basic\", \"basic\", \"bazaarvoice\", \"benefit\", \"benefit\", \"benefit\", \"benefit\", \"bitbucket\", \"biztech\", \"brew\", \"build\", \"build\", \"build\", \"build\", \"bulldog\", \"business\", \"business\", \"business\", \"business\", \"calendar\", \"campaign\", \"campaign\", \"campaign\", \"capgemini\", \"cbap\", \"ccba\", \"center\", \"center\", \"chameleon\", \"change\", \"change\", \"change\", \"change\", \"charlotte\", \"circle\", \"cleanup\", \"client\", \"client\", \"client\", \"client\", \"clinical\", \"clustering\", \"combining\", \"communicator\", \"company\", \"company\", \"company\", \"company\", \"compare\", \"comparison\", \"contractor\", \"contribution\", \"copy\", \"copy\", \"corporation\", \"corporation\", \"create\", \"create\", \"create\", \"create\", \"curious\", \"curious\", \"currently\", \"currently\", \"currently\", \"customer\", \"customer\", \"customer\", \"customer\", \"cwo\", \"darby\", \"database\", \"database\", \"database\", \"decision\", \"decision\", \"decision\", \"decision\", \"dedication\", \"dedication\", \"degree\", \"degree\", \"degree\", \"degree\", \"department\", \"department\", \"department\", \"department\", \"des\", \"design\", \"design\", \"design\", \"design\", \"detail\", \"detail\", \"detail\", \"detail\", \"develop\", \"develop\", \"develop\", \"develop\", \"developing\", \"developing\", \"developing\", \"development\", \"development\", \"development\", \"development\", \"digital\", \"digital\", \"digital\", \"digital\", \"dimensional\", \"division\", \"division\", \"division\", \"document\", \"document\", \"document\", \"document\", \"downstream\", \"draft\", \"drive\", \"drive\", \"drive\", \"drive\", \"e10\", \"easy\", \"easy\", \"eclerx\", \"emerson\", \"employment\", \"employment\", \"employment\", \"employment\", \"enterprise\", \"enterprise\", \"enterprise\", \"enterprise\", \"environment\", \"environment\", \"environment\", \"environment\", \"environmental\", \"environmental\", \"environmental\", \"epicor\", \"error\", \"error\", \"essential\", \"essential\", \"essential\", \"etl\", \"etl\", \"etl\", \"everi\", \"expect\", \"expect\", \"expert\", \"expert\", \"expert\", \"expert\", \"fargo\", \"file\", \"finance\", \"finance\", \"financial\", \"financial\", \"financial\", \"financial\", \"find\", \"find\", \"find\", \"food\", \"food\", \"forecasting\", \"forecasting\", \"forecasting\", \"free\", \"free\", \"free\", \"free\", \"fuel\", \"fun\", \"fun\", \"fun\", \"fun\", \"function\", \"function\", \"function\", \"function\", \"fund\", \"fund\", \"general\", \"general\", \"general\", \"geographical\", \"good\", \"good\", \"good\", \"governance\", \"growth\", \"growth\", \"growth\", \"growth\", \"habit\", \"handle\", \"handle\", \"handle\", \"healthcare\", \"healthcare\", \"hub\", \"humana\", \"ia\", \"iam\", \"ibm\", \"ibm\", \"ibm\", \"ideal\", \"ideal\", \"ideal\", \"identify\", \"identify\", \"identify\", \"identify\", \"idera\", \"information\", \"information\", \"information\", \"information\", \"initiative\", \"initiative\", \"initiative\", \"insight\", \"insight\", \"insight\", \"insight\", \"institutional\", \"interface\", \"interface\", \"interface\", \"interface\", \"internal\", \"internal\", \"internal\", \"internal\", \"interview\", \"interview\", \"interview\", \"invision\", \"itccs\", \"judgement\", \"keep\", \"keep\", \"kendra\", \"keto\", \"lbb\", \"ldo\", \"ledcor\", \"legislative\", \"liaison\", \"longer\", \"love\", \"love\", \"love\", \"main\", \"mainstreethub\", \"maintain\", \"maintain\", \"maintain\", \"maintain\", \"make\", \"make\", \"make\", \"make\", \"management\", \"management\", \"management\", \"management\", \"mapping\", \"marketing\", \"marketing\", \"marketing\", \"master\", \"master\", \"master\", \"master\", \"may\", \"may\", \"may\", \"may\", \"mdm\", \"meal\", \"middleware\", \"middleware\", \"migration\", \"migration\", \"mission\", \"model\", \"model\", \"model\", \"model\", \"modeling\", \"modeling\", \"modeling\", \"modeling\", \"moines\", \"multiple\", \"multiple\", \"multiple\", \"multiple\", \"nc\", \"need\", \"need\", \"need\", \"need\", \"new\", \"new\", \"new\", \"new\", \"object\", \"object\", \"offer\", \"offer\", \"offer\", \"offer\", \"officialtranscript\", \"operations\", \"operations\", \"operations\", \"operations\", \"opportunity\", \"opportunity\", \"opportunity\", \"opportunity\", \"optional\", \"others\", \"others\", \"others\", \"oversee\", \"oversee\", \"oversee\", \"park\", \"passion\", \"passion\", \"passion\", \"pay\", \"pay\", \"pay\", \"pay\", \"payment\", \"payment\", \"peims\", \"pentaho\", \"per\", \"per\", \"perform\", \"perform\", \"perform\", \"perform\", \"plan\", \"plan\", \"plan\", \"plan\", \"planet\", \"prefer\", \"prefer\", \"prefer\", \"prefer\", \"prepare\", \"prepare\", \"prepare\", \"prepare\", \"problem\", \"problem\", \"problem\", \"problem\", \"process\", \"process\", \"process\", \"process\", \"product\", \"product\", \"product\", \"product\", \"program\", \"program\", \"program\", \"program\", \"programming\", \"programming\", \"project\", \"project\", \"project\", \"project\", \"public\", \"public\", \"public\", \"qualification\", \"qualification\", \"qualification\", \"qualification\", \"quality\", \"quality\", \"quality\", \"quality\", \"quick\", \"quick\", \"quota\", \"r12\", \"rapport\", \"rational\", \"recovery\", \"reflect\", \"region\", \"region\", \"relate\", \"relate\", \"relate\", \"relate\", \"relationship\", \"relationship\", \"relationship\", \"relationship\", \"reply\", \"report\", \"report\", \"report\", \"report\", \"reporting\", \"reporting\", \"reporting\", \"reporting\", \"reprocess\", \"resident\", \"responsibility\", \"responsibility\", \"responsibility\", \"responsibility\", \"rest\", \"rest\", \"retreat\", \"revision\", \"rl\", \"routine\", \"safe\", \"sales\", \"sales\", \"sales\", \"sas\", \"sas\", \"software\", \"software\", \"software\", \"software\", \"solid\", \"solid\", \"solid\", \"solution\", \"solution\", \"solution\", \"solution\", \"someone\", \"sponsor\", \"spreadsheet\", \"sql\", \"sql\", \"sql\", \"sql\", \"stack\", \"stack\", \"strategy\", \"strategy\", \"strategy\", \"strategy\", \"street\", \"student\", \"student\", \"support\", \"support\", \"support\", \"support\", \"survey\", \"survey\", \"system\", \"system\", \"system\", \"system\", \"take\", \"take\", \"take\", \"take\", \"tceq\", \"technical\", \"technical\", \"technical\", \"technical\", \"technique\", \"technique\", \"technique\", \"technique\", \"technology\", \"technology\", \"technology\", \"technology\", \"term\", \"texas\", \"texas\", \"texas\", \"texas\", \"text\", \"things\", \"time\", \"time\", \"time\", \"time\", \"tma\", \"tool\", \"tool\", \"tool\", \"tool\", \"traceability\", \"transform\", \"transit\", \"troubleshoot\", \"troubleshoot\", \"troubleshoot\", \"type\", \"type\", \"type\", \"type\", \"understand\", \"understand\", \"understand\", \"understand\", \"unique\", \"unique\", \"unique\", \"unique\", \"use\", \"use\", \"use\", \"use\", \"vista\", \"ways\", \"ways\", \"ways\", \"wells\", \"whole\", \"wholesale\", \"wholesale\", \"working\", \"working\", \"working\", \"working\", \"zerocater\", \"zynga\"]}, \"R\": 30, \"lambda.step\": 0.01, \"plot.opts\": {\"xlab\": \"PC1\", \"ylab\": \"PC2\"}, \"topic.order\": [3, 2, 1, 4]};\n",
       "\n",
       "function LDAvis_load_lib(url, callback){\n",
       "  var s = document.createElement('script');\n",
       "  s.src = url;\n",
       "  s.async = true;\n",
       "  s.onreadystatechange = s.onload = callback;\n",
       "  s.onerror = function(){console.warn(\"failed to load library \" + url);};\n",
       "  document.getElementsByTagName(\"head\")[0].appendChild(s);\n",
       "}\n",
       "\n",
       "if(typeof(LDAvis) !== \"undefined\"){\n",
       "   // already loaded: just create the visualization\n",
       "   !function(LDAvis){\n",
       "       new LDAvis(\"#\" + \"ldavis_el374747656647444205715808\", ldavis_el374747656647444205715808_data);\n",
       "   }(LDAvis);\n",
       "}else if(typeof define === \"function\" && define.amd){\n",
       "   // require.js is available: use it to load d3/LDAvis\n",
       "   require.config({paths: {d3: \"https://cdnjs.cloudflare.com/ajax/libs/d3/3.5.5/d3.min\"}});\n",
       "   require([\"d3\"], function(d3){\n",
       "      window.d3 = d3;\n",
       "      LDAvis_load_lib(\"https://cdn.rawgit.com/bmabey/pyLDAvis/files/ldavis.v1.0.0.js\", function(){\n",
       "        new LDAvis(\"#\" + \"ldavis_el374747656647444205715808\", ldavis_el374747656647444205715808_data);\n",
       "      });\n",
       "    });\n",
       "}else{\n",
       "    // require.js not available: dynamically load d3 & LDAvis\n",
       "    LDAvis_load_lib(\"https://cdnjs.cloudflare.com/ajax/libs/d3/3.5.5/d3.min.js\", function(){\n",
       "         LDAvis_load_lib(\"https://cdn.rawgit.com/bmabey/pyLDAvis/files/ldavis.v1.0.0.js\", function(){\n",
       "                 new LDAvis(\"#\" + \"ldavis_el374747656647444205715808\", ldavis_el374747656647444205715808_data);\n",
       "            })\n",
       "         });\n",
       "}\n",
       "</script>"
      ],
      "text/plain": [
       "<IPython.core.display.HTML object>"
      ]
     },
     "execution_count": 691,
     "metadata": {},
     "output_type": "execute_result"
    }
   ],
   "source": [
    "lda_display = pyLDAvis.gensim.prepare(lda, corpus, dictionary)\n",
    "pyLDAvis.display(lda_display)"
   ]
  },
  {
   "cell_type": "markdown",
   "metadata": {},
   "source": [
    "## 5 Topic Visualization"
   ]
  },
  {
   "cell_type": "code",
   "execution_count": 692,
   "metadata": {},
   "outputs": [],
   "source": [
    "dictionary = gensim.corpora.Dictionary.load('dictionary.gensim')\n",
    "corpus = pickle.load(open(file='corpus.pkl', mode='rb'))  # 'rb' --> Read Bytes\n",
    "lda = gensim.models.ldamodel.LdaModel.load('model5.gensim')"
   ]
  },
  {
   "cell_type": "code",
   "execution_count": 693,
   "metadata": {},
   "outputs": [
    {
     "data": {
      "text/html": [
       "\n",
       "<link rel=\"stylesheet\" type=\"text/css\" href=\"https://cdn.rawgit.com/bmabey/pyLDAvis/files/ldavis.v1.0.0.css\">\n",
       "\n",
       "\n",
       "<div id=\"ldavis_el374760643971922589167502\"></div>\n",
       "<script type=\"text/javascript\">\n",
       "\n",
       "var ldavis_el374760643971922589167502_data = {\"mdsDat\": {\"Freq\": [46.116506258638196, 21.112219075813666, 12.18535373919101, 10.557008588047532, 10.028912338309592], \"cluster\": [1, 1, 1, 1, 1], \"topics\": [1, 2, 3, 4, 5], \"x\": [0.02594422450266111, 0.05553994903909364, 0.020642092243972114, -0.14807428000832065, 0.045948014222593876], \"y\": [0.0056019203825920984, -0.09598899707658798, -0.0009750260090396896, -0.00519582511022846, 0.096557927813264]}, \"tinfo\": {\"Category\": [\"Default\", \"Default\", \"Default\", \"Default\", \"Default\", \"Default\", \"Default\", \"Default\", \"Default\", \"Default\", \"Default\", \"Default\", \"Default\", \"Default\", \"Default\", \"Default\", \"Default\", \"Default\", \"Default\", \"Default\", \"Default\", \"Default\", \"Default\", \"Default\", \"Default\", \"Default\", \"Default\", \"Default\", \"Default\", \"Default\", \"Topic1\", \"Topic1\", \"Topic1\", \"Topic1\", \"Topic1\", \"Topic1\", \"Topic1\", \"Topic1\", \"Topic1\", \"Topic1\", \"Topic1\", \"Topic1\", \"Topic1\", \"Topic1\", \"Topic1\", \"Topic1\", \"Topic1\", \"Topic1\", \"Topic1\", \"Topic1\", \"Topic1\", \"Topic1\", \"Topic1\", \"Topic1\", \"Topic1\", \"Topic1\", \"Topic1\", \"Topic1\", \"Topic1\", \"Topic1\", \"Topic1\", \"Topic1\", \"Topic1\", \"Topic1\", \"Topic1\", \"Topic1\", \"Topic1\", \"Topic1\", \"Topic1\", \"Topic1\", \"Topic1\", \"Topic1\", \"Topic1\", \"Topic1\", \"Topic1\", \"Topic1\", \"Topic1\", \"Topic1\", \"Topic1\", \"Topic1\", \"Topic1\", \"Topic1\", \"Topic1\", \"Topic1\", \"Topic1\", \"Topic1\", \"Topic1\", \"Topic1\", \"Topic1\", \"Topic1\", \"Topic1\", \"Topic1\", \"Topic1\", \"Topic1\", \"Topic1\", \"Topic1\", \"Topic1\", \"Topic1\", \"Topic1\", \"Topic1\", \"Topic1\", \"Topic1\", \"Topic1\", \"Topic1\", \"Topic1\", \"Topic1\", \"Topic1\", \"Topic1\", \"Topic1\", \"Topic2\", \"Topic2\", \"Topic2\", \"Topic2\", \"Topic2\", \"Topic2\", \"Topic2\", \"Topic2\", \"Topic2\", \"Topic2\", \"Topic2\", \"Topic2\", \"Topic2\", \"Topic2\", \"Topic2\", \"Topic2\", \"Topic2\", \"Topic2\", \"Topic2\", \"Topic2\", \"Topic2\", \"Topic2\", \"Topic2\", \"Topic2\", \"Topic2\", \"Topic2\", \"Topic2\", \"Topic2\", \"Topic2\", \"Topic2\", \"Topic2\", \"Topic2\", \"Topic2\", \"Topic2\", \"Topic2\", \"Topic2\", \"Topic2\", \"Topic2\", \"Topic2\", \"Topic2\", \"Topic2\", \"Topic2\", \"Topic2\", \"Topic2\", \"Topic2\", \"Topic2\", \"Topic2\", \"Topic2\", \"Topic2\", \"Topic2\", \"Topic2\", \"Topic2\", \"Topic2\", \"Topic2\", \"Topic2\", \"Topic2\", \"Topic2\", \"Topic2\", \"Topic2\", \"Topic2\", \"Topic2\", \"Topic2\", \"Topic2\", \"Topic3\", \"Topic3\", \"Topic3\", \"Topic3\", \"Topic3\", \"Topic3\", \"Topic3\", \"Topic3\", \"Topic3\", \"Topic3\", \"Topic3\", \"Topic3\", \"Topic3\", \"Topic3\", \"Topic3\", \"Topic3\", \"Topic3\", \"Topic3\", \"Topic3\", \"Topic3\", \"Topic3\", \"Topic3\", \"Topic3\", \"Topic3\", \"Topic3\", \"Topic3\", \"Topic3\", \"Topic3\", \"Topic3\", \"Topic3\", \"Topic3\", \"Topic3\", \"Topic3\", \"Topic3\", \"Topic3\", \"Topic3\", \"Topic3\", \"Topic3\", \"Topic3\", \"Topic3\", \"Topic3\", \"Topic3\", \"Topic3\", \"Topic3\", \"Topic3\", \"Topic3\", \"Topic3\", \"Topic3\", \"Topic3\", \"Topic3\", \"Topic3\", \"Topic3\", \"Topic3\", \"Topic3\", \"Topic3\", \"Topic3\", \"Topic3\", \"Topic3\", \"Topic3\", \"Topic3\", \"Topic3\", \"Topic3\", \"Topic3\", \"Topic3\", \"Topic3\", \"Topic3\", \"Topic3\", \"Topic3\", \"Topic4\", \"Topic4\", \"Topic4\", \"Topic4\", \"Topic4\", \"Topic4\", \"Topic4\", \"Topic4\", \"Topic4\", \"Topic4\", \"Topic4\", \"Topic4\", \"Topic4\", \"Topic4\", \"Topic4\", \"Topic4\", \"Topic4\", \"Topic4\", \"Topic4\", \"Topic4\", \"Topic4\", \"Topic4\", \"Topic4\", \"Topic4\", \"Topic4\", \"Topic4\", \"Topic4\", \"Topic4\", \"Topic4\", \"Topic4\", \"Topic4\", \"Topic4\", \"Topic4\", \"Topic4\", \"Topic4\", \"Topic4\", \"Topic4\", \"Topic4\", \"Topic4\", \"Topic4\", \"Topic4\", \"Topic4\", \"Topic4\", \"Topic4\", \"Topic4\", \"Topic4\", \"Topic4\", \"Topic4\", \"Topic4\", \"Topic4\", \"Topic4\", \"Topic4\", \"Topic4\", \"Topic4\", \"Topic4\", \"Topic4\", \"Topic4\", \"Topic4\", \"Topic4\", \"Topic4\", \"Topic4\", \"Topic4\", \"Topic4\", \"Topic4\", \"Topic4\", \"Topic4\", \"Topic4\", \"Topic4\", \"Topic4\", \"Topic4\", \"Topic4\", \"Topic5\", \"Topic5\", \"Topic5\", \"Topic5\", \"Topic5\", \"Topic5\", \"Topic5\", \"Topic5\", \"Topic5\", \"Topic5\", \"Topic5\", \"Topic5\", \"Topic5\", \"Topic5\", \"Topic5\", \"Topic5\", \"Topic5\", \"Topic5\", \"Topic5\", \"Topic5\", \"Topic5\", \"Topic5\", \"Topic5\", \"Topic5\", \"Topic5\", \"Topic5\", \"Topic5\", \"Topic5\", \"Topic5\", \"Topic5\", \"Topic5\", \"Topic5\", \"Topic5\", \"Topic5\", \"Topic5\", \"Topic5\", \"Topic5\", \"Topic5\", \"Topic5\", \"Topic5\", \"Topic5\", \"Topic5\", \"Topic5\", \"Topic5\", \"Topic5\", \"Topic5\", \"Topic5\", \"Topic5\", \"Topic5\", \"Topic5\", \"Topic5\", \"Topic5\", \"Topic5\", \"Topic5\", \"Topic5\", \"Topic5\", \"Topic5\", \"Topic5\", \"Topic5\", \"Topic5\", \"Topic5\", \"Topic5\", \"Topic5\", \"Topic5\", \"Topic5\", \"Topic5\", \"Topic5\", \"Topic5\", \"Topic5\", \"Topic5\", \"Topic5\", \"Topic5\", \"Topic5\", \"Topic5\", \"Topic5\", \"Topic5\", \"Topic5\", \"Topic5\", \"Topic5\", \"Topic5\", \"Topic5\"], \"Freq\": [400.0, 200.0, 92.0, 83.0, 183.0, 112.0, 170.0, 75.0, 159.0, 154.0, 37.0, 73.0, 53.0, 26.0, 42.0, 28.0, 101.0, 54.0, 28.0, 56.0, 68.0, 56.0, 24.0, 34.0, 39.0, 84.0, 44.0, 77.0, 42.0, 21.0, 25.778712101616506, 12.746107726138929, 10.794785712471677, 10.781800885767078, 12.577206608138413, 11.667506187523143, 9.85231830031408, 9.851497930649458, 9.851419552560893, 10.747171811619259, 8.882080740663268, 8.881296228049463, 8.876641386711029, 8.873405755188909, 9.738066501796766, 13.248009150946196, 7.915061372227816, 7.911150546535546, 9.645040035352888, 8.742569293932426, 6.955317877969026, 6.9545493976060175, 6.954407329553981, 6.954360978973527, 6.95429437739347, 6.9538732258086045, 6.952150183993305, 6.9514142602366595, 6.951297868841452, 13.873329986264999, 15.589133745892259, 15.630612242198941, 15.520544751828249, 12.854125263287418, 8.639767158827445, 15.175795888580776, 35.7083451024993, 22.90609852945195, 27.946611077074955, 85.23610930493713, 26.72023383049866, 18.014079805498355, 28.031047539870475, 44.427956860221855, 19.484411569332522, 49.33867203250194, 48.29240786564888, 121.59914846970531, 73.39362517370567, 19.493660755354444, 59.590897918710944, 16.933749602726223, 64.30534552815097, 53.40950818553662, 30.20560937173885, 48.29276080886283, 37.225462088882345, 35.73917380185923, 42.39316083048042, 64.56176245852959, 138.42661515573312, 36.22093892094668, 68.93106521405058, 37.73458435253761, 44.82060086612586, 39.9939728279031, 35.43952587229017, 46.41801807736961, 41.26819983143862, 66.46101209375145, 56.134374270969914, 37.41476327898682, 41.790820435272245, 37.43645382725716, 34.349442260337995, 50.79867070614377, 40.918540784789855, 37.59832211600293, 36.76862207820434, 27.581315981478262, 12.55280303297184, 12.550549117904342, 12.548737199490791, 10.785013078361008, 10.784062543625648, 9.901476739682902, 8.131086868209245, 34.65913157464921, 7.242176403401102, 15.20538306678333, 6.360968369613411, 6.359937244194193, 5.478945226665894, 5.476260880962411, 5.474054280802749, 5.471871223332213, 12.46635645374794, 11.671208303345438, 12.552815104941116, 4.596203242323291, 4.595494624150931, 4.59473846189428, 4.594426515429317, 16.08510567724437, 15.162517533400884, 9.014604919382604, 3.7122147387827393, 3.7116680977942695, 3.7113185349580236, 7.246677411458583, 4.420707532431539, 69.88410386346615, 9.896981387396563, 29.462720293878267, 37.0956338155722, 43.358327050604146, 17.675603901732632, 59.122799939239194, 16.979767152932606, 141.64774499957306, 76.82769737283009, 28.2982415645967, 21.549716424421913, 63.12596887832127, 25.954148718003204, 51.901280876495846, 34.270855646379076, 30.30653383030505, 31.439763146309595, 28.552113068798587, 29.996369105603097, 22.147002319801118, 27.815737379777225, 27.162845996782092, 20.86117597713268, 26.531769195496732, 24.072437773506966, 25.951444668588, 20.924976185898956, 25.304171595124117, 20.564572043083, 20.472490443084954, 11.57342184143406, 9.130281800932899, 8.31453292380425, 5.871354314985401, 5.778788281296089, 4.240131130031935, 4.234722496260419, 3.4249644305262312, 3.4242069820940735, 3.4231201857597866, 7.495793359240012, 2.609660616023323, 2.6095405987648643, 2.608995628207394, 2.608173890537229, 2.608043573897638, 2.607874694461106, 2.60616953857, 2.6045337098874186, 5.037789399042515, 7.518168416190406, 1.7948057891987632, 1.794340361363474, 1.7942587775375007, 1.794159934835418, 1.7939680439145398, 1.7938554814664718, 1.7939012570622088, 1.793852068549419, 1.793851045273934, 10.083410134884419, 8.034717460141142, 7.5049845197240925, 11.999255545137121, 3.3711856296108302, 40.967580842118544, 3.3995971295354854, 6.689251310237769, 11.589678598718129, 9.171662710913596, 14.05243040183667, 14.391176958479667, 58.688707686701804, 34.92085067139035, 30.076260911484898, 28.108488383120044, 6.127100816261972, 15.877365909629992, 13.641738815931284, 12.20975034230919, 12.419632085928239, 10.716455536149825, 19.418795678242752, 16.697253719325005, 10.057854287684895, 13.238212162886855, 14.489607196014164, 13.224762389822803, 12.864884071002521, 12.282680080224708, 16.842772117118038, 12.235576537459513, 11.495429554801612, 12.225457282781422, 12.569871417202545, 11.604299817517271, 11.433700679360257, 10.341182404765961, 10.805478506458067, 9.287139831894407, 5.479716042467904, 5.479739956320481, 5.479153622639778, 5.479007040559701, 5.478542672070319, 6.1092418689717185, 4.7194208609473725, 3.9603812707463333, 3.950856734903761, 3.1976762535326286, 3.1973755028201314, 3.196019687414435, 5.4785199993620175, 2.437628165412137, 2.4347878484332344, 2.434368258548983, 2.4327793001885283, 3.0039233955205966, 5.803790070163486, 7.004026118106355, 1.6761880544562258, 1.6761587495392027, 1.6760958193047717, 1.6760839011986317, 1.6760648022189322, 1.6759858842007156, 1.6759845577005137, 1.675896828418151, 5.47950521077648, 18.216264361858453, 6.192189145616683, 7.645473113998202, 5.48017789884764, 5.4791737585466915, 5.481026242107833, 6.972424329318661, 6.238931980936529, 15.364569507094997, 6.990119189043687, 13.381542175036406, 19.352028955028334, 14.732420010754753, 6.238440962594187, 19.605845013846658, 10.813049265042814, 44.00318835396344, 23.30136359888574, 20.82719442929685, 17.581452044745916, 14.718216789705512, 16.08352285470167, 21.754657630148213, 12.30278852493013, 13.743875997414815, 12.691277752216445, 23.35104225753821, 36.026088905015584, 12.316860393857482, 11.803541810609742, 9.161680879882104, 13.291738769805914, 15.569947940011636, 14.769953470509169, 13.018318809987893, 12.179868369541275, 10.01136270282218, 10.329132865970807, 11.866851605475928, 10.114011008448976, 8.787949768181951, 4.875950781071467, 4.875411223352413, 4.8510953114431326, 4.0898263301447635, 4.084109478344841, 4.082724535905967, 4.763233670980515, 3.298763780843393, 3.2983882327210896, 6.450298932324447, 2.5167604349799717, 2.516484678789694, 2.5161594421699935, 1.730866108828828, 1.7307888402310632, 1.7307882147049054, 1.730770480789094, 1.7307399568508783, 1.730636165167246, 1.7306141671481754, 1.730580616623501, 1.7305758759301182, 1.7305783253039368, 1.7305649200907545, 1.73056611944844, 1.7305269333267577, 1.7305428775910547, 1.730463152504268, 1.7304898652835268, 11.559035528472583, 3.1996901409898957, 7.017110161887075, 5.660069988552684, 4.309609445067184, 3.809560966106061, 4.089812088692839, 2.517279740889054, 2.5170837395885393, 4.079136756426206, 3.3036605387995, 2.5178821206050235, 4.877080779245562, 2.5173540969156787, 2.517262112672581, 2.5170975780660174, 8.02532785962821, 10.884867174204075, 7.23856929047195, 5.216195144992132, 4.090846213908387, 8.398052935112243, 8.818287525942397, 12.126408999510746, 10.777319199301509, 21.4447561466325, 7.233716532090772, 11.04011635436252, 13.603025733044685, 9.83732963757512, 15.832181976069394, 25.617871361164458, 9.000213040616469, 7.20880234372666, 11.16203707645099, 9.691634780459571, 11.944721088631951, 12.478370449272452, 11.212832765078485, 11.664513558136582, 10.574110848811205, 9.843422077596138, 9.321505430586612, 9.857304996901918, 9.57424768938098, 9.109148610436712, 9.252519274451155, 8.387199198827874, 8.099292494222984, 8.865347010281493, 8.205922119971186], \"Term\": [\"business\", \"analysis\", \"sales\", \"software\", \"process\", \"client\", \"management\", \"time\", \"system\", \"project\", \"governance\", \"plan\", \"developing\", \"healthcare\", \"type\", \"contractor\", \"relate\", \"decision\", \"4\", \"make\", \"quality\", \"bachelor\", \"others\", \"full\", \"enterprise\", \"company\", \"program\", \"working\", \"benefit\", \"oracle\", \"statistics\", \"assignment\", \"engineer\", \"things\", \"summary\", \"judgment\", \"tma\", \"fargo\", \"wells\", \"economics\", \"clinical\", \"iam\", \"text\", \"everi\", \"produce\", \"basic\", \"example\", \"forecast\", \"mining\", \"mathematics\", \"street\", \"main\", \"hub\", \"mainstreethub\", \"dimensional\", \"nc\", \"idera\", \"legislative\", \"bulldog\", \"survey\", \"optimization\", \"method\", \"sas\", \"python\", \"regularly\", \"general\", \"model\", \"agency\", \"modeling\", \"marketing\", \"finance\", \"statistical\", \"accounting\", \"financial\", \"campaign\", \"use\", \"perform\", \"analysis\", \"customer\", \"request\", \"report\", \"visualization\", \"information\", \"reporting\", \"may\", \"product\", \"insight\", \"level\", \"identify\", \"support\", \"business\", \"role\", \"system\", \"develop\", \"assist\", \"responsibility\", \"organization\", \"opportunity\", \"problem\", \"management\", \"project\", \"new\", \"need\", \"drive\", \"key\", \"process\", \"relate\", \"degree\", \"strong\", \"contractor\", \"sponsor\", \"mdm\", \"capgemini\", \"longer\", \"downstream\", \"90\", \"invision\", \"governance\", \"calendar\", \"mapping\", \"transit\", \"transform\", \"quota\", \"chameleon\", \"brew\", \"vista\", \"currently\", \"term\", \"expect\", \"biztech\", \"institutional\", \"draft\", \"darby\", \"along\", \"solid\", \"fuel\", \"invisionapp\", \"worker\", \"instrument\", \"wholesale\", \"reflect\", \"sales\", \"forecasting\", \"enterprise\", \"developing\", \"quality\", \"master\", \"client\", \"8\", \"business\", \"process\", \"strategy\", \"initiative\", \"management\", \"document\", \"project\", \"technical\", \"development\", \"company\", \"plan\", \"analyze\", \"within\", \"change\", \"solution\", \"communicate\", \"need\", \"assist\", \"support\", \"tool\", \"system\", \"degree\", \"customer\", \"whole\", \"bazaarvoice\", \"asset\", \"itccs\", \"0\", \"peims\", \"affinipay\", \"esc\", \"discovery\", \"identification\", \"payment\", \"visio\", \"district\", \"ranch\", \"highlands\", \"accommodate\", \"itam\", \"storage\", \"indeed\", \"defining\", \"student\", \"aquilan\", \"discretion\", \"odbc\", \"excess\", \"grade\", \"representation\", \"authentic\", \"look\", \"rating\", \"retail\", \"capability\", \"13\", \"inventory\", \"summarize\", \"software\", \"line\", \"region\", \"food\", \"compliance\", \"ensure\", \"program\", \"business\", \"process\", \"management\", \"system\", \"efficiency\", \"prefer\", \"user\", \"across\", \"market\", \"advance\", \"project\", \"information\", \"functional\", \"working\", \"relate\", \"change\", \"technical\", \"new\", \"analysis\", \"strong\", \"technology\", \"assist\", \"support\", \"product\", \"opportunity\", \"implementation\", \"someone\", \"epicor\", \"planet\", \"comparison\", \"rapport\", \"judgement\", \"reply\", \"compare\", \"e10\", \"tceq\", \"homeaway\", \"safe\", \"scrum\", \"rational\", \"optional\", \"cbap\", \"facilitation\", \"red\", \"hypothesis\", \"designer\", \"learner\", \"35\", \"cwo\", \"12100\", \"park\", \"ldo\", \"file\", \"traceability\", \"ccba\", \"officialtranscript\", \"letter\", \"healthcare\", \"pass\", \"allow\", \"drug\", \"admin\", \"compile\", \"000\", \"yearly\", \"4\", \"submit\", \"others\", \"type\", \"full\", \"easy\", \"decision\", \"good\", \"analysis\", \"time\", \"plan\", \"make\", \"benefit\", \"bachelor\", \"relate\", \"offer\", \"effectively\", \"research\", \"project\", \"business\", \"understand\", \"plus\", \"salary\", \"application\", \"system\", \"support\", \"need\", \"opportunity\", \"program\", \"must\", \"process\", \"technology\", \"emerson\", \"zerocater\", \"meal\", \"eclerx\", \"pentaho\", \"r12\", \"11i\", \"module\", \"dedication\", \"feed\", \"fund\", \"communicator\", \"tuning\", \"geographical\", \"juggle\", \"anytime\", \"joy\", \"ticket\", \"fault\", \"uncommonly\", \"disorder\", \"hungry\", \"midst\", \"warm\", \"zero\", \"retreat\", \"archival\", \"servicing\", \"revision\", \"loan\", \"oracle\", \"per\", \"etl\", \"free\", \"object\", \"error\", \"ideal\", \"stack\", \"snack\", \"production\", \"found\", \"curious\", \"troubleshoot\", \"funding\", \"rest\", \"middleware\", \"growth\", \"expert\", \"love\", \"purpose\", \"back\", \"interface\", \"take\", \"sql\", \"build\", \"system\", \"food\", \"position\", \"company\", \"multiple\", \"support\", \"business\", \"1\", \"warehouse\", \"working\", \"maintain\", \"need\", \"customer\", \"reporting\", \"client\", \"opportunity\", \"time\", \"create\", \"analyze\", \"application\", \"drive\", \"solution\", \"analytical\", \"database\", \"process\", \"report\"], \"Total\": [400.0, 200.0, 92.0, 83.0, 183.0, 112.0, 170.0, 75.0, 159.0, 154.0, 37.0, 73.0, 53.0, 26.0, 42.0, 28.0, 101.0, 54.0, 28.0, 56.0, 68.0, 56.0, 24.0, 34.0, 39.0, 84.0, 44.0, 77.0, 42.0, 21.0, 26.88006582944423, 13.40782547140733, 11.4709621518058, 11.469054860556824, 13.383350444056283, 12.430242132669912, 10.50867559168279, 10.50849651058647, 10.508479015813851, 11.464134761407824, 9.541553221925628, 9.541534120044592, 9.54063620848298, 9.541261415892484, 10.485529917227428, 14.29804697190936, 8.574986561881895, 8.574146028643407, 10.475903983490916, 9.512118893737885, 7.609254686180345, 7.609116743658547, 7.609120087383516, 7.60912089200203, 7.609348112991008, 7.60903420428694, 7.6088878736016925, 7.608554793249353, 7.60868031000767, 15.191500158303086, 17.10193452802699, 17.189829853544747, 17.179947894937527, 14.244641151862057, 9.498446289925202, 17.051616827256904, 42.36239390658898, 26.550203433221157, 32.758405716431724, 107.54961022694275, 31.369785600515822, 20.775516843949845, 33.700491236383705, 55.86884508126408, 23.31922732222215, 69.10252657848004, 67.78176531851531, 200.8811657975749, 115.23366868602491, 24.21512679709565, 98.78984493499011, 20.591281936861265, 114.26882912929149, 89.90781085719304, 43.359445860088286, 83.11501995115076, 59.784183728654, 56.995782674547016, 72.62472758351778, 133.6852139908987, 400.40702810818806, 61.0381451924936, 159.35842927893887, 65.23031400161082, 86.09580808039914, 72.28080729866247, 60.260282024891964, 91.7277478703423, 76.60684005725614, 170.47134286527978, 154.62275354745594, 70.49794071751509, 98.61855344232883, 73.41625764572879, 58.75906911469375, 183.2794173661216, 101.54915059529556, 79.3154722302727, 75.73310034167608, 28.26735320622334, 13.227884762874108, 13.228108239699079, 13.227038543397544, 11.458983346784562, 11.459071244370753, 10.5744238205225, 8.804375813673964, 37.792705772594765, 7.919624405272941, 16.69833143002923, 7.0355423348206525, 7.035733910928743, 6.150856720399551, 6.150607954176532, 6.150383188507607, 6.151621521078497, 14.019272890975264, 13.159796788131688, 14.19456006706532, 5.266263021983178, 5.266297850342802, 5.266380884914729, 5.266422389308635, 18.698975309584252, 17.634624617015618, 10.50562623757064, 4.381701361282004, 4.381736971877829, 4.381675359644905, 8.707511919528082, 5.242240185353982, 92.1458536558981, 12.356281826102055, 39.97151940974682, 53.21669777718349, 68.69070288183916, 25.56155295676384, 112.63371101399761, 24.880753622071982, 400.40702810818806, 183.2794173661216, 53.7744920466939, 37.83322176445837, 170.47134286527978, 51.363539968177996, 154.62275354745594, 81.8154832998492, 79.20875466137635, 84.43697279165181, 73.2515678566873, 80.57968300479001, 48.580540182755456, 79.54067533309967, 83.74103561328926, 49.98572934082018, 98.61855344232883, 86.09580808039914, 133.6852139908987, 66.49539540431658, 159.35842927893887, 79.3154722302727, 115.23366868602491, 12.272881678256821, 9.823985757651496, 9.007502227161782, 6.5581115108195895, 6.575084659358014, 4.925400669239764, 4.925133119693195, 4.109009969510162, 4.109099849755757, 4.109442147384877, 9.157966240162978, 3.292669636036182, 3.2926079443206673, 3.292764182764304, 3.292921581688912, 3.2930493479890455, 3.2928486120601135, 3.293431368896726, 3.293576190580932, 6.629412017011025, 9.945504169276841, 2.4761598563026572, 2.4762962524811774, 2.4762554987263576, 2.476236499099285, 2.4763041091613247, 2.4762585736377916, 2.4763227030599633, 2.4762636632224, 2.476286615484297, 15.350124786106148, 12.597870747279307, 11.91264216344149, 20.402156132916343, 5.002624353738636, 83.20838069141779, 5.080056090608419, 11.240118920862107, 23.225182868208563, 18.952355800104428, 36.50454295503411, 44.102988248783625, 400.40702810818806, 183.2794173661216, 170.47134286527978, 159.35842927893887, 13.624519139332147, 67.9663644377263, 53.28171220422516, 51.52704637105433, 54.47404523556278, 42.581271079839745, 154.62275354745594, 114.26882912929149, 38.669184731513774, 77.49410445548958, 101.54915059529556, 79.54067533309967, 81.8154832998492, 70.49794071751509, 200.8811657975749, 75.73310034167608, 59.44447141401129, 86.09580808039914, 133.6852139908987, 83.11501995115076, 91.7277478703423, 41.76989065361277, 11.522361816447363, 9.99719448199588, 6.182832466288719, 6.182986384500141, 6.182986690095653, 6.182903180620142, 6.183004960468821, 6.966946886044786, 5.42061318048743, 4.657081069168578, 4.659695681704165, 3.894473501381111, 3.8945273425236877, 3.8946000281112982, 6.999393928626598, 3.131544475203676, 3.1318679717856517, 3.132279743215033, 3.1328601115199097, 3.946369803332661, 7.900121205813916, 9.639493975076752, 2.3688704696111884, 2.368865680500978, 2.368872987386817, 2.3688750492749167, 2.3688731278456503, 2.368865088140729, 2.368865173563996, 2.3688932387608004, 7.757990250559529, 26.19234225441566, 8.891067518400003, 11.25250736946093, 8.013280801718947, 8.015660700568068, 8.033751077585297, 10.383531242231808, 9.502614378160308, 28.12296656837548, 11.100574015326055, 24.95681112009125, 42.46455902161786, 34.01346692417875, 10.221864944974858, 54.88415836812989, 22.944614623758135, 200.8811657975749, 75.10626934234992, 73.2515678566873, 56.84954538350466, 42.63864736337113, 56.184403240242794, 101.54915059529556, 34.23364293080127, 47.322314137939955, 40.863964519801286, 154.62275354745594, 400.40702810818806, 39.16271875379424, 44.25957638724911, 25.25292380867527, 73.61644620443715, 159.35842927893887, 133.6852139908987, 98.61855344232883, 91.7277478703423, 44.102988248783625, 61.74010186677919, 183.2794173661216, 59.44447141401129, 9.50654204039374, 5.568441895941858, 5.568505848547242, 5.5719941678286125, 4.780850662961138, 4.781084899229488, 4.781163568383332, 5.593281993944217, 3.994487310951036, 3.994540827964035, 8.027814731729467, 3.205955218809338, 3.2059626406942643, 3.2058579037826314, 2.418417043849143, 2.4184202340485115, 2.4184323702310113, 2.4184447571146714, 2.418441167474277, 2.4184530009713163, 2.4184530458117597, 2.418450517556212, 2.418456419269229, 2.418469459235682, 2.4184556855337043, 2.4184575664153893, 2.418436532803457, 2.4184639779592887, 2.418420863716509, 2.41846282500306, 21.155979088296156, 4.890540621685737, 12.50891473345365, 9.814960646022119, 7.630408975287399, 6.573563449697046, 7.516407375306931, 3.969534181223272, 3.9702362004520353, 7.5652110853682775, 5.776271944409844, 4.022257105542008, 10.348080258236571, 4.090466751492889, 4.090511834416427, 4.090423487569777, 21.114043903862907, 32.9645080739593, 18.711092212710792, 11.805150659512574, 8.346666066085536, 25.61197984278457, 30.41976857135026, 53.8901850701902, 44.87497495245512, 159.35842927893887, 23.225182868208563, 55.28816943937548, 84.43697279165181, 47.362348132562005, 133.6852139908987, 400.40702810818806, 41.79185400341585, 25.09327748021105, 77.49410445548958, 55.8909914116839, 98.61855344232883, 115.23366868602491, 89.90781085719304, 112.63371101399761, 91.7277478703423, 75.10626934234992, 64.19803928308676, 80.57968300479001, 73.61644620443715, 73.41625764572879, 83.74103561328926, 59.667184375985194, 54.10675183439042, 183.2794173661216, 98.78984493499011], \"loglift\": [30.0, 29.0, 28.0, 27.0, 26.0, 25.0, 24.0, 23.0, 22.0, 21.0, 20.0, 19.0, 18.0, 17.0, 16.0, 15.0, 14.0, 13.0, 12.0, 11.0, 10.0, 9.0, 8.0, 7.0, 6.0, 5.0, 4.0, 3.0, 2.0, 1.0, 0.7322, 0.7234, 0.7132, 0.7122, 0.7119, 0.7107, 0.7095, 0.7094, 0.7094, 0.7094, 0.7024, 0.7023, 0.7019, 0.7014, 0.7, 0.6977, 0.6939, 0.6935, 0.6914, 0.6896, 0.6841, 0.684, 0.684, 0.684, 0.684, 0.684, 0.6837, 0.6837, 0.6836, 0.6832, 0.6814, 0.6789, 0.6724, 0.6713, 0.6792, 0.6575, 0.6031, 0.6264, 0.6151, 0.5415, 0.6136, 0.6314, 0.5898, 0.5449, 0.5943, 0.4371, 0.435, 0.272, 0.3229, 0.5571, 0.2685, 0.5784, 0.1991, 0.2532, 0.4125, 0.2311, 0.3003, 0.3073, 0.2357, 0.0461, -0.2881, 0.2521, -0.064, 0.2267, 0.1212, 0.1822, 0.2432, 0.0929, 0.1554, -0.168, -0.2392, 0.1405, -0.0846, 0.1005, 0.2371, -0.5091, -0.135, 0.0275, 0.0514, 1.5307, 1.5029, 1.5027, 1.5027, 1.4947, 1.4946, 1.4896, 1.4758, 1.4688, 1.4659, 1.4617, 1.4545, 1.4543, 1.4396, 1.4392, 1.4388, 1.4382, 1.4379, 1.4353, 1.4324, 1.4192, 1.4191, 1.4189, 1.4188, 1.4047, 1.4043, 1.4023, 1.3895, 1.3894, 1.3893, 1.3717, 1.3849, 1.2788, 1.3334, 1.2503, 1.1944, 1.0952, 1.1864, 0.9108, 1.1732, 0.5162, 0.6859, 0.9133, 0.9925, 0.5619, 0.8727, 0.4637, 0.6851, 0.5946, 0.5674, 0.6131, 0.5671, 0.7698, 0.5047, 0.4294, 0.6815, 0.2424, 0.2809, -0.0839, 0.3991, -0.2849, 0.2055, -0.1726, 2.0463, 2.0317, 2.0249, 1.9943, 1.9758, 1.9551, 1.9539, 1.9228, 1.9226, 1.9222, 1.9047, 1.8725, 1.8724, 1.8722, 1.8718, 1.8717, 1.8717, 1.8709, 1.8702, 1.8304, 1.8251, 1.7831, 1.7828, 1.7828, 1.7827, 1.7826, 1.7826, 1.7826, 1.7825, 1.7825, 1.6847, 1.6552, 1.6429, 1.5741, 1.7102, 1.3964, 1.7033, 1.5859, 1.4098, 1.3791, 1.1503, 0.985, 0.1847, 0.447, 0.3701, 0.3699, 1.3058, 0.6508, 0.7425, 0.6651, 0.6265, 0.7253, 0.0302, 0.1816, 0.7582, 0.3378, 0.1578, 0.3108, 0.255, 0.3575, -0.3739, 0.2821, 0.4618, 0.153, -0.2592, 0.1361, 0.0227, 0.7089, 2.1841, 2.1747, 2.1277, 2.1276, 2.1275, 2.1275, 2.1274, 2.117, 2.1099, 2.0863, 2.0834, 2.0512, 2.0511, 2.0507, 2.0034, 1.9979, 1.9966, 1.9963, 1.9955, 1.9755, 1.94, 1.929, 1.9025, 1.9025, 1.9024, 1.9024, 1.9024, 1.9024, 1.9024, 1.9023, 1.9007, 1.8852, 1.8866, 1.8619, 1.8684, 1.8679, 1.866, 1.8501, 1.8276, 1.6439, 1.7859, 1.6251, 1.4625, 1.4117, 1.7546, 1.219, 1.4961, 0.7299, 1.078, 0.9907, 1.0748, 1.1847, 0.9975, 0.7077, 1.225, 1.012, 1.079, 0.358, -0.1599, 1.0916, 0.9267, 1.2345, 0.5367, -0.0774, 0.0455, 0.2235, 0.2293, 0.7656, 0.4604, -0.4889, 0.4773, 2.2211, 2.1669, 2.1668, 2.1611, 2.1436, 2.1421, 2.1418, 2.1391, 2.1083, 2.1082, 2.0809, 2.0577, 2.0575, 2.0575, 1.9652, 1.9652, 1.9652, 1.9651, 1.9651, 1.9651, 1.965, 1.965, 1.965, 1.965, 1.965, 1.965, 1.965, 1.965, 1.965, 1.965, 1.6952, 1.8754, 1.7216, 1.7492, 1.7284, 1.7542, 1.6911, 1.8442, 1.844, 1.682, 1.741, 1.8313, 1.5474, 1.8142, 1.8142, 1.8142, 1.3324, 1.1916, 1.35, 1.4829, 1.5866, 1.1846, 1.0614, 0.8081, 0.8733, 0.294, 1.1332, 0.6887, 0.474, 0.7281, 0.1663, -0.4495, 0.7642, 1.0524, 0.362, 0.5476, 0.1887, 0.0767, 0.218, 0.0321, 0.1393, 0.2676, 0.37, 0.1987, 0.2599, 0.2128, 0.0969, 0.3376, 0.4005, -0.7292, -0.1884], \"logprob\": [30.0, 29.0, 28.0, 27.0, 26.0, 25.0, 24.0, 23.0, 22.0, 21.0, 20.0, 19.0, 18.0, 17.0, 16.0, 15.0, 14.0, 13.0, 12.0, 11.0, 10.0, 9.0, 8.0, 7.0, 6.0, 5.0, 4.0, 3.0, 2.0, 1.0, -6.1666, -6.8709, -7.0371, -7.0383, -6.8843, -6.9594, -7.1285, -7.1285, -7.1286, -7.0415, -7.2321, -7.2322, -7.2327, -7.2331, -7.1401, -6.8323, -7.3474, -7.3479, -7.1497, -7.248, -7.4767, -7.4768, -7.4768, -7.4768, -7.4768, -7.4769, -7.4771, -7.4772, -7.4772, -6.7862, -6.6696, -6.6669, -6.674, -6.8625, -7.2598, -6.6965, -5.8408, -6.2848, -6.0859, -4.9707, -6.1307, -6.525, -6.0829, -5.6223, -6.4466, -5.5175, -5.5389, -4.6154, -5.1203, -6.4461, -5.3287, -6.5869, -5.2525, -5.4382, -6.0081, -5.5389, -5.7992, -5.8399, -5.6692, -5.2485, -4.4858, -5.8265, -5.1831, -5.7856, -5.6135, -5.7274, -5.8483, -5.5785, -5.6961, -5.2196, -5.3884, -5.7941, -5.6835, -5.7935, -5.8796, -5.4883, -5.7046, -5.7892, -5.8115, -5.3177, -6.1049, -6.1051, -6.1052, -6.2567, -6.2568, -6.3422, -6.5392, -5.0893, -6.6549, -5.9132, -6.7847, -6.7848, -6.9339, -6.9344, -6.9348, -6.9352, -6.1118, -6.1777, -6.1049, -7.1096, -7.1098, -7.1099, -7.11, -5.857, -5.916, -6.436, -7.3232, -7.3234, -7.3235, -6.6543, -7.1486, -4.388, -6.3426, -5.2517, -5.0214, -4.8654, -5.7627, -4.5552, -5.8028, -3.6815, -4.2933, -5.2921, -5.5645, -4.4897, -5.3785, -4.6855, -5.1006, -5.2235, -5.1868, -5.2831, -5.2338, -5.5371, -5.3092, -5.333, -5.597, -5.3565, -5.4538, -5.3786, -5.5939, -5.4039, -5.6113, -5.6158, -5.6365, -5.8736, -5.9672, -6.3151, -6.331, -6.6406, -6.6419, -6.8541, -6.8544, -6.8547, -6.0709, -7.126, -7.1261, -7.1263, -7.1266, -7.1266, -7.1267, -7.1274, -7.128, -6.4683, -6.0679, -7.5003, -7.5006, -7.5006, -7.5007, -7.5008, -7.5009, -7.5008, -7.5009, -7.5009, -5.7743, -6.0015, -6.0697, -5.6004, -6.87, -4.3725, -6.8616, -6.1847, -5.6351, -5.8691, -5.4424, -5.4186, -4.013, -4.5321, -4.6815, -4.7492, -6.2725, -5.3203, -5.4721, -5.583, -5.566, -5.7135, -5.119, -5.27, -5.7769, -5.5021, -5.4118, -5.5031, -5.5307, -5.577, -5.2613, -5.5809, -5.6433, -5.5817, -5.5539, -5.6339, -5.6487, -5.7491, -5.5617, -5.7132, -6.2407, -6.2407, -6.2408, -6.2409, -6.2409, -6.132, -6.3901, -6.5654, -6.5679, -6.7794, -6.7795, -6.7799, -6.241, -7.0508, -7.0519, -7.0521, -7.0528, -6.8419, -6.1833, -5.9953, -7.4253, -7.4253, -7.4253, -7.4253, -7.4253, -7.4254, -7.4254, -7.4254, -6.2408, -5.0395, -6.1185, -5.9077, -6.2407, -6.2408, -6.2405, -5.9998, -6.111, -5.2097, -5.9973, -5.3479, -4.979, -5.2517, -6.1111, -4.966, -5.561, -4.1575, -4.7933, -4.9055, -5.0749, -5.2527, -5.164, -4.862, -5.432, -5.3212, -5.4009, -4.7911, -4.3575, -5.4308, -5.4734, -5.7268, -5.3546, -5.1964, -5.2492, -5.3754, -5.442, -5.6381, -5.6068, -5.468, -5.6279, -5.7171, -6.3062, -6.3063, -6.3113, -6.482, -6.4834, -6.4837, -6.3295, -6.6969, -6.697, -6.0263, -6.9675, -6.9676, -6.9677, -7.3418, -7.3419, -7.3419, -7.3419, -7.3419, -7.342, -7.342, -7.342, -7.342, -7.342, -7.342, -7.342, -7.342, -7.342, -7.3421, -7.3421, -5.443, -6.7274, -5.9421, -6.157, -6.4296, -6.553, -6.482, -6.9673, -6.9674, -6.4846, -6.6954, -6.9671, -6.3059, -6.9673, -6.9673, -6.9674, -5.8079, -5.5031, -5.911, -6.2387, -6.4817, -5.7625, -5.7136, -5.3951, -5.513, -4.825, -5.9117, -5.4889, -5.2802, -5.6043, -5.1284, -4.6472, -5.6932, -5.9152, -5.478, -5.6192, -5.4102, -5.3665, -5.4734, -5.4339, -5.5321, -5.6037, -5.6581, -5.6023, -5.6314, -5.6812, -5.6656, -5.7638, -5.7987, -5.7083, -5.7856]}, \"token.table\": {\"Topic\": [3, 1, 2, 3, 4, 1, 2, 3, 4, 5, 5, 4, 1, 3, 4, 1, 4, 1, 2, 4, 5, 1, 2, 3, 4, 2, 3, 1, 2, 3, 4, 1, 2, 3, 5, 1, 2, 4, 1, 2, 3, 4, 5, 3, 1, 2, 5, 1, 3, 4, 1, 2, 1, 2, 3, 4, 5, 1, 2, 3, 4, 5, 1, 2, 3, 4, 5, 5, 1, 2, 3, 4, 5, 3, 5, 3, 1, 1, 2, 3, 4, 5, 3, 1, 2, 3, 4, 5, 1, 3, 5, 1, 3, 1, 2, 3, 4, 5, 2, 2, 1, 2, 3, 5, 1, 1, 2, 3, 4, 5, 2, 1, 5, 1, 2, 3, 4, 2, 4, 4, 2, 1, 2, 3, 4, 5, 1, 2, 3, 4, 5, 1, 1, 2, 3, 4, 5, 5, 1, 2, 3, 4, 5, 4, 4, 1, 2, 4, 1, 2, 3, 4, 2, 1, 2, 3, 4, 5, 3, 5, 2, 5, 1, 2, 3, 4, 5, 4, 2, 1, 2, 3, 5, 1, 2, 3, 4, 5, 5, 2, 3, 1, 2, 3, 4, 5, 4, 1, 2, 3, 4, 5, 1, 2, 3, 1, 2, 3, 4, 5, 1, 3, 3, 5, 3, 1, 2, 3, 4, 5, 2, 2, 1, 2, 3, 4, 5, 1, 2, 4, 4, 2, 3, 4, 5, 5, 1, 1, 2, 3, 4, 5, 1, 2, 3, 5, 5, 1, 1, 2, 3, 4, 5, 1, 2, 3, 4, 5, 4, 1, 4, 5, 3, 1, 4, 5, 1, 1, 3, 1, 2, 1, 2, 3, 5, 4, 1, 5, 5, 4, 1, 2, 1, 2, 3, 4, 1, 3, 5, 1, 1, 2, 3, 1, 3, 5, 1, 2, 4, 5, 2, 3, 1, 2, 3, 4, 5, 1, 2, 3, 4, 5, 2, 5, 2, 5, 1, 3, 5, 1, 2, 4, 2, 3, 3, 1, 3, 5, 1, 3, 4, 3, 4, 1, 5, 4, 1, 1, 2, 5, 3, 1, 2, 3, 4, 5, 1, 1, 2, 3, 4, 5, 3, 1, 2, 3, 4, 5, 1, 2, 3, 4, 1, 2, 3, 4, 5, 2, 2, 1, 2, 3, 5, 1, 2, 3, 2, 2, 3, 3, 5, 4, 1, 5, 1, 2, 3, 4, 4, 2, 4, 1, 4, 5, 1, 2, 3, 4, 5, 1, 3, 5, 2, 3, 1, 2, 3, 4, 5, 1, 1, 1, 2, 3, 4, 5, 1, 2, 3, 4, 5, 1, 2, 3, 4, 5, 2, 3, 1, 2, 3, 5, 1, 2, 5, 1, 2, 3, 4, 1, 1, 2, 3, 4, 5, 2, 5, 1, 2, 2, 5, 5, 1, 1, 2, 3, 5, 1, 2, 4, 5, 1, 2, 3, 5, 1, 2, 3, 4, 5, 1, 1, 2, 3, 4, 5, 1, 2, 3, 4, 5, 1, 5, 3, 1, 2, 3, 4, 4, 1, 2, 3, 4, 5, 1, 3, 3, 4, 1, 2, 5, 1, 2, 3, 4, 5, 1, 2, 3, 4, 4, 1, 4, 1, 3, 3, 5, 2, 5, 1, 2, 3, 4, 5, 1, 2, 3, 4, 5, 4, 1, 2, 3, 4, 5, 1, 2, 3, 4, 5, 1, 2, 3, 4, 5, 1, 2, 3, 4, 5, 1, 2, 3, 4, 5, 1, 1, 2, 3, 4, 5, 1, 3, 5, 1, 2, 3, 4, 5, 1, 2, 3, 4, 5, 1, 3, 4, 5, 1, 3, 1, 2, 3, 4, 5, 2, 5, 3, 4, 3, 4, 4, 2, 1, 3, 1, 1, 2, 3, 4, 5, 4, 1, 2, 3, 4, 5, 1, 2, 3, 4, 5, 3, 1, 2, 3, 4, 5, 1, 2, 3, 4, 5, 1, 2, 3, 4, 5, 2, 5, 3, 4, 5, 5, 5, 1, 2, 3, 4, 5, 4, 1, 2, 4, 5, 1, 2, 3, 5, 1, 2, 4, 5, 4, 5, 1, 2, 3, 4, 5, 1, 2, 5, 1, 2, 3, 4, 5, 4, 2, 1, 2, 3, 4, 5, 4, 5, 1, 3, 1, 3, 1, 2, 3, 5, 1, 1, 2, 3, 4, 5, 1, 3, 5, 1, 3, 4, 5, 2, 3, 1, 1, 2, 3, 4, 5, 1, 5, 1, 2, 3, 4, 5, 1, 2, 3, 4, 5, 4, 1, 2, 3, 4, 5, 1, 2, 3, 4, 5, 2, 3, 1, 1, 5, 1, 2, 3, 4, 5, 1, 1, 2, 3, 4, 5, 4, 2, 2, 1, 5, 5, 1, 2, 3, 4, 5, 5, 1, 2, 3, 4, 5, 1, 2, 3, 4, 5, 1, 2, 3, 4, 5, 3, 2, 1, 3, 1, 2, 3, 5, 5, 1, 3, 2, 5, 1, 2, 3, 5, 2, 1, 2, 3, 5, 2, 4, 5, 5, 5], \"Freq\": [0.9125357787538868, 0.0963063505729928, 0.0963063505729928, 0.0963063505729928, 0.6741444540109497, 0.38284972948776674, 0.2153529728368688, 0.04785621618597084, 0.11964054046492711, 0.2153529728368688, 0.836616430872816, 0.8442859451520407, 0.2518333010292755, 0.6715554694114012, 0.08394443367642515, 0.2074797707401519, 0.7261791975905316, 0.32002313760599416, 0.07111625280133203, 0.5333718960099902, 0.07111625280133203, 0.20095854313530306, 0.6832590466600303, 0.08038341725412122, 0.04019170862706061, 0.9456780028612362, 0.9110097307931323, 0.8308484230571291, 0.02967315796632604, 0.08901947389897812, 0.05934631593265208, 0.46577480547152345, 0.1746655520518213, 0.23288740273576172, 0.11644370136788086, 0.12475577963637237, 0.12475577963637237, 0.6237788981818618, 0.6340815883437365, 0.046969006543980486, 0.2583295359918927, 0.023484503271990243, 0.046969006543980486, 0.8121607889147117, 0.8662833811367737, 0.07532898966406727, 0.037664494832033636, 0.17773816397827547, 0.08886908198913773, 0.7109526559131019, 0.10695773254349879, 0.8556618603479903, 0.6073242332879413, 0.054758742345634055, 0.08462714726143444, 0.21903496938253622, 0.03484647240176712, 0.4860293024262747, 0.20111557341776884, 0.15083668006332662, 0.016759631118147402, 0.13407704894517922, 0.4219425881580955, 0.3723022836689078, 0.062050380611484636, 0.024820152244593854, 0.12410076122296927, 0.8269861341062041, 0.4075176342618911, 0.1494231325626934, 0.13583921142063035, 0.17659097484681946, 0.13583921142063035, 0.8077022955159091, 0.8269805607350776, 0.8881485453177356, 0.9695830265484114, 0.5226735308411009, 0.27875921644858714, 0.13937960822429357, 0.03484490205607339, 0.023229934704048927, 0.8076491797812229, 0.40936627735730685, 0.17798533798143776, 0.12458973658700642, 0.2847765407703004, 0.017798533798143775, 0.23961663066005115, 0.23961663066005115, 0.4792332613201023, 0.909215085496672, 0.916125106654422, 0.35179352365867494, 0.164170311040715, 0.11726450788622499, 0.35179352365867494, 0.023452901577244997, 0.9494398550031198, 0.8129574770792862, 0.5571033750210984, 0.15598894500590754, 0.04456827000168787, 0.24512548500928327, 0.9200018550908132, 0.3446492951235438, 0.35463912976480594, 0.14735006095861655, 0.08990851177135925, 0.0649339251682039, 0.8838803006035679, 0.8147782830648884, 0.1286492025891929, 0.15875698680524478, 0.15875698680524478, 0.6350279472209791, 0.07937849340262239, 0.9828352701436049, 0.6386624925293197, 0.844286125829174, 0.8129277686451761, 0.3645933338955708, 0.3520211499681373, 0.16343839105663518, 0.07543310356460085, 0.050288735709733905, 0.27522843490566923, 0.5238218599817576, 0.08878336609860298, 0.008878336609860298, 0.10654003931832356, 0.9432426556421456, 0.3801084879736646, 0.4201199077603661, 0.08002283957340307, 0.04001141978670154, 0.10002854946675384, 0.9357585478421536, 0.3316082881025352, 0.36713774754209255, 0.10658837831867203, 0.03552945943955734, 0.1658041440512676, 0.861209378819632, 0.8086707117024036, 0.1244748549391911, 0.1244748549391911, 0.6223742746959555, 0.3693472238401851, 0.05276388912002644, 0.474875002080238, 0.10552777824005288, 0.9905419794958207, 0.40499679258662047, 0.1713447968635702, 0.14019119743383016, 0.15576799714870018, 0.14019119743383016, 0.2486166283657414, 0.7458498850972242, 0.8559645063849819, 0.07133037553208182, 0.6334954083506772, 0.17356038584950062, 0.06074613504732521, 0.01735603858495006, 0.10413623150970036, 0.8442842382716973, 0.9494111239824784, 0.5914234160266242, 0.09240990875416004, 0.14785585400665605, 0.14785585400665605, 0.30974329397518013, 0.16398174386921302, 0.09110096881622946, 0.36440387526491785, 0.07288077505298357, 0.7510350556817111, 0.15084294013315314, 0.7542147006657657, 0.47909946106954354, 0.2647654916436951, 0.11347092499015506, 0.12607880554461673, 0.03782364166338502, 0.7601923158510225, 0.5825512352901078, 0.18396354798634984, 0.13797266098976238, 0.04599088699658746, 0.04599088699658746, 0.2630753238131672, 0.6952704986490846, 0.01879109455808337, 0.3787460127135234, 0.3787460127135234, 0.12624867090450778, 0.07574920254270467, 0.03787460127135234, 0.9199211149308962, 0.7300869070335, 0.8076578066925788, 0.826974914176469, 0.9111318598300235, 0.15575250469411486, 0.5061956402558734, 0.07787625234705743, 0.17522156778087922, 0.0973453154338218, 0.959938180452777, 0.9494186062998666, 0.5039755659917186, 0.14983057367321362, 0.09534672870113593, 0.12258865118717478, 0.12258865118717478, 0.12479283139378913, 0.12479283139378913, 0.6239641569689457, 0.9224048707254171, 0.09782950619902361, 0.09782950619902361, 0.5869770371941417, 0.19565901239804723, 0.8973448014121815, 0.9595141917757056, 0.4226336003286302, 0.12679008009858905, 0.06339504004929453, 0.2958435202300411, 0.08452672006572604, 0.293588343125633, 0.07339708578140824, 0.44038251468844947, 0.22019125734422473, 0.9467164781640455, 0.958943099491296, 0.35612005924887913, 0.16436310426871342, 0.38351390996033136, 0.027393850711452238, 0.08218155213435671, 0.07505343915619249, 0.7255165785098607, 0.025017813052064162, 0.050035626104128324, 0.12508906526032082, 0.9002525674786317, 0.30424898387375776, 0.15212449193687888, 0.6084979677475155, 0.7301028769121317, 0.3197719454672164, 0.0799429863668041, 0.5596009045676287, 0.9432715033893814, 0.9329460684594115, 0.8076772960609727, 0.07044952399195749, 0.9158438118954474, 0.36402788032136724, 0.18201394016068362, 0.09100697008034181, 0.33369222362791995, 0.6385965238693281, 0.9516109169304857, 0.8269789759197325, 0.7510249936609261, 0.8442832908568985, 0.860700813956345, 0.1275112316972363, 0.7875587894469586, 0.03579812679304357, 0.10739438037913071, 0.053697190189565355, 0.17222684629430146, 0.5166805388829044, 0.3013969810150276, 0.933037526218311, 0.08093049463209456, 0.8093049463209456, 0.08093049463209456, 0.17312204301041942, 0.17312204301041942, 0.5193661290312582, 0.2037705572268978, 0.1018852786134489, 0.1018852786134489, 0.6113116716806934, 0.8566838184109236, 0.09518709093454707, 0.29400119729904445, 0.08820035918971333, 0.058800239459808896, 0.4410017959485667, 0.11760047891961779, 0.2327434638844448, 0.3103246185125931, 0.2586038487604942, 0.05172076975209884, 0.15516230925629654, 0.12456690063455982, 0.7474014038073589, 0.24447087844804802, 0.733412635344144, 0.8796819769033628, 0.05864546512689085, 0.9357869531460714, 0.4358321185157515, 0.0871664237031503, 0.47941533036732664, 0.9261046353918411, 0.07938039731930066, 0.8076552442007459, 0.5683420975460105, 0.04736184146216754, 0.37889473169734034, 0.11453729379602323, 0.15271639172803098, 0.6872237627761394, 0.9110450782315093, 0.8584251576139629, 0.9199486825824339, 0.8269757786985666, 0.6383942879050857, 0.943244543987224, 0.13304228337665974, 0.2660845667533195, 0.532169133506639, 0.730026094152246, 0.578315422274051, 0.12392473334443949, 0.11015531852839065, 0.11015531852839065, 0.08261648889629299, 0.9199767582705259, 0.40699172858690813, 0.11970344958438475, 0.2394068991687695, 0.11970344958438475, 0.0957627596675078, 0.9108640050834378, 0.5600827494923053, 0.15752327329471086, 0.14877198033389358, 0.07001034368653816, 0.06125905072572089, 0.18502257205533587, 0.5814995121739127, 0.18502257205533587, 0.02643179600790512, 0.6188927855556928, 0.23417564858864054, 0.06690732816818301, 0.016726832042045753, 0.05018049612613726, 0.9494335759369426, 0.9128928256164015, 0.15617691504340628, 0.42948651636936724, 0.07808845752170314, 0.31235383008681256, 0.14704328211467182, 0.2450721368577864, 0.5881731284586873, 0.908639086893054, 0.9128874083809478, 0.9110652670190938, 0.9148975265365927, 0.8269819841226148, 0.8086815940563543, 0.9653874696825797, 0.8269872250059932, 0.5786340817216536, 0.18720514408641736, 0.11913054623681105, 0.11913054623681105, 0.844282606046349, 0.253160672842354, 0.7594820185270621, 0.9200170321715643, 0.6444968140607531, 0.25779872562430123, 0.6316256801939972, 0.22808705118116565, 0.07018063113266636, 0.03509031556633318, 0.03509031556633318, 0.19684822020936263, 0.5905446606280879, 0.8269715702566027, 0.9599455437804302, 0.8076684360006192, 0.16033270350525258, 0.10688846900350173, 0.05344423450175086, 0.2672211725087543, 0.37410964151225606, 0.919949086841625, 0.9199485853034246, 0.6083270155213666, 0.12524379731322255, 0.05367591313423823, 0.035783942089492156, 0.17891971044746077, 0.4045766741817012, 0.15831261163631785, 0.03518058036362619, 0.3166252232726357, 0.07036116072725238, 0.38716184720946634, 0.36956358142721785, 0.1759826578224847, 0.046928708752662585, 0.01759826578224847, 0.8982933452275921, 0.05988622301517281, 0.40386205769858163, 0.3120752264034494, 0.22028839510831724, 0.05507209877707931, 0.7903329432867275, 0.1673646232842482, 0.03719213850761071, 0.1564850150836223, 0.7041825678763004, 0.03912125377090558, 0.07824250754181115, 0.9461614284410356, 0.6918907611689417, 0.1614411776060864, 0.04612605074459611, 0.04612605074459611, 0.04612605074459611, 0.9827557927735653, 0.8979069315881999, 0.9307829185232226, 0.05817393240770141, 0.24447346418747587, 0.7334203925624276, 0.8269737606453659, 0.9545715592429161, 0.8498103312900979, 0.07081752760750815, 0.02360584253583605, 0.07081752760750815, 0.8547424512162723, 0.03052651611486687, 0.09157954834460061, 0.8939295400112928, 0.5067316327481619, 0.21113818031173412, 0.06334145409352024, 0.21113818031173412, 0.5183017039565074, 0.14577235423776772, 0.04859078474592257, 0.16196928248640857, 0.113378497740486, 0.9199590660344503, 0.42588335089057244, 0.2737821541439394, 0.050700398915544335, 0.13182103718041527, 0.12168095739730642, 0.5248380253865687, 0.14184811496934288, 0.17021773796321146, 0.05673924598773716, 0.09929368047854002, 0.393163722903464, 0.5242182972046187, 0.8076710989753214, 0.35053237028429596, 0.20447721599917262, 0.08763309257107399, 0.35053237028429596, 0.8442761232440457, 0.501484022751995, 0.1199200923972162, 0.1199200923972162, 0.13082191897878132, 0.1199200923972162, 0.9355666736870546, 0.05847291710544091, 0.1428695127316855, 0.7143475636584276, 0.2836077675705069, 0.14180388378525344, 0.5672155351410137, 0.5808137437116939, 0.2323254974846776, 0.0995680703505761, 0.016594678391762686, 0.04978403517528805, 0.3205537743385682, 0.08013844358464205, 0.04006922179232102, 0.5208998833001733, 0.8442833409174322, 0.22494486695337917, 0.6748346008601376, 0.1091945497259448, 0.7643618480816136, 0.8121166720467841, 0.8366711871988283, 0.20447637129641233, 0.613429113889237, 0.7081550587306449, 0.07376615195110885, 0.07376615195110885, 0.10327261273155237, 0.029506460780443538, 0.2184253589124963, 0.3958959630288995, 0.0682579246601551, 0.2866832835726514, 0.040954754796093056, 0.8086908431147057, 0.38409766626003194, 0.2485337840506089, 0.09037592147294869, 0.27112776441884606, 0.022593980368237173, 0.41600219781593484, 0.19895757286849056, 0.1627834687105832, 0.018087052078953687, 0.19895757286849056, 0.4708211225468706, 0.2206974011938456, 0.2354105612734353, 0.02942632015917941, 0.04413948023876912, 0.5352002506480688, 0.14359031114948187, 0.11748298184957608, 0.13053664649952898, 0.07832198789971738, 0.2782636519305475, 0.4201235529147481, 0.1909652513248855, 0.06547380045424646, 0.04910535034068485, 0.9536952427716872, 0.5775129456530368, 0.15640975611436414, 0.1443782364132592, 0.048126078804419735, 0.0721891182066296, 0.2643680364541526, 0.1321840182270763, 0.5287360729083052, 0.3174388075707347, 0.09069680216306707, 0.3174388075707347, 0.22674200540766767, 0.04534840108153353, 0.3621717937057226, 0.33630237986959954, 0.12287971572158445, 0.1487491295577075, 0.025869413836123043, 0.33883515046686896, 0.08470878761671724, 0.08470878761671724, 0.42354393808358615, 0.9126239026597481, 0.07020183866613447, 0.18925414145728614, 0.6259944678971772, 0.04367403264398911, 0.04367403264398911, 0.07279005440664851, 0.8128948904657963, 0.836630196766561, 0.9110886275133964, 0.8086706717336711, 0.8076609498649866, 0.7702973292112006, 0.6385125735759352, 0.7630325697733936, 0.35586812098365267, 0.6227692117213922, 0.9475233870139484, 0.40374537610262784, 0.17725406755725126, 0.13786427476675098, 0.21664386034775154, 0.05908468918575042, 0.8086682821650008, 0.607349875278008, 0.1822049625834024, 0.05061248960650067, 0.08097998337040108, 0.08097998337040108, 0.5894927203175224, 0.18908257066788453, 0.06673502494160631, 0.022245008313868768, 0.12234754572627823, 0.8076700960440752, 0.7846335127296897, 0.04129650066998367, 0.04129650066998367, 0.04129650066998367, 0.04129650066998367, 0.5139002112686378, 0.04894287726367979, 0.07341431589551968, 0.31812870221391865, 0.04894287726367979, 0.5533972501817946, 0.19368903756362812, 0.1245143812909038, 0.013834931254544866, 0.11067945003635893, 0.2444681840512668, 0.7334045521538004, 0.6514605020703998, 0.06514605020703998, 0.2605842008281599, 0.8269733683871814, 0.8269859187893787, 0.5897951172413286, 0.21298157011492422, 0.08191598850574008, 0.016383197701148017, 0.08191598850574008, 0.7703223552390585, 0.19799687505025948, 0.35639437509046706, 0.35639437509046706, 0.07919875002010379, 0.19534248461377027, 0.7596652179424399, 0.03255708076896171, 0.02170472051264114, 0.9313183077065544, 0.05820739423165965, 0.7703117056705459, 0.8269711760137975, 0.25187418317483073, 0.7556225495244923, 0.3004505050123939, 0.09614416160396605, 0.492738828220326, 0.06009010100247878, 0.048072080801983025, 0.05670662243839893, 0.850599336575984, 0.05670662243839893, 0.3701888778060498, 0.32242257099236593, 0.11941576703420961, 0.07164946022052576, 0.10747419033078864, 0.9546653867697742, 0.9827723958169262, 0.5752438957042645, 0.12989378290096293, 0.05566876410041269, 0.018556254700137564, 0.22267505640165075, 0.25191872757519246, 0.7557561827255773, 0.8664044382242111, 0.09626715980269011, 0.967259535931634, 0.9109040584030681, 0.42771208289663537, 0.5206929704828605, 0.018596177517245016, 0.03719235503449003, 0.9199324097684821, 0.4885578410638344, 0.21126825559517162, 0.1584511916963787, 0.07922559584818935, 0.06602132987349113, 0.10054794437562557, 0.8043835550050046, 0.10054794437562557, 0.09008543149384399, 0.18017086298768797, 0.6305980204569079, 0.09008543149384399, 0.19989508091941086, 0.5996852427582325, 0.9713561678251851, 0.4862168227850928, 0.19448672911403714, 0.09724336455701857, 0.11220388218117527, 0.11968414099325361, 0.9215679724920479, 0.065826283749432, 0.4329861954099919, 0.15687905630796808, 0.17570454306492425, 0.10040259603709957, 0.1317784072986932, 0.3944803186734878, 0.1972401593367439, 0.09862007966837195, 0.03287335988945732, 0.2958602390051159, 0.8589071009481297, 0.2933430083403814, 0.4155692618155403, 0.1588941295177066, 0.04889050139006357, 0.08555837743261124, 0.3532708677606345, 0.1682242227431593, 0.18504664501747523, 0.1682242227431593, 0.1177569559202115, 0.9118681840757857, 0.07598901533964882, 0.9433333169121073, 0.9591025706773844, 0.8269777484543838, 0.3861195643710114, 0.1331446773693143, 0.03994340321079428, 0.30623275794942284, 0.1331446773693143, 0.9515947002793209, 0.5413908704671457, 0.31581134110583503, 0.07519317645377024, 0.0300772705815081, 0.0601545411630162, 0.8442861562748416, 0.8527894994266458, 0.8528127206774814, 0.4831814090367382, 0.4831814090367382, 0.9357563815373524, 0.07064714833074706, 0.32968669221015295, 0.07064714833074706, 0.4474319394280647, 0.09419619777432942, 0.8269749295093788, 0.33194835327260086, 0.15320693227966192, 0.10213795485310795, 0.30641386455932385, 0.07660346613983096, 0.7090912941417632, 0.10129875630596617, 0.07235625450426156, 0.04341375270255693, 0.07235625450426156, 0.35659514707737433, 0.11260899381390768, 0.26275431889911793, 0.15014532508521022, 0.11260899381390768, 0.9111147887923227, 0.8127938272644908, 0.8255921147661832, 0.0971284840901392, 0.19925655402898557, 0.4782157296695654, 0.03985131080579712, 0.2789591756405798, 0.8269693017467616, 0.9516125011955909, 0.977765476323277, 0.8039035794256342, 0.1148433684893763, 0.370518728945493, 0.4528562242667137, 0.14409061681213617, 0.020584373830305168, 0.912879989299259, 0.4645514681788133, 0.21937152663999518, 0.16775469684234925, 0.1419462819435263, 0.21046839537091655, 0.6314051861127497, 0.10523419768545828, 0.8269740115410221, 0.8979172438961563], \"Term\": [\"0\", \"000\", \"000\", \"000\", \"000\", \"1\", \"1\", \"1\", \"1\", \"1\", \"11i\", \"12100\", \"13\", \"13\", \"13\", \"35\", \"35\", \"4\", \"4\", \"4\", \"4\", \"8\", \"8\", \"8\", \"8\", \"90\", \"accommodate\", \"accounting\", \"accounting\", \"accounting\", \"accounting\", \"across\", \"across\", \"across\", \"across\", \"admin\", \"admin\", \"admin\", \"advance\", \"advance\", \"advance\", \"advance\", \"advance\", \"affinipay\", \"agency\", \"agency\", \"agency\", \"allow\", \"allow\", \"allow\", \"along\", \"along\", \"analysis\", \"analysis\", \"analysis\", \"analysis\", \"analysis\", \"analytical\", \"analytical\", \"analytical\", \"analytical\", \"analytical\", \"analyze\", \"analyze\", \"analyze\", \"analyze\", \"analyze\", \"anytime\", \"application\", \"application\", \"application\", \"application\", \"application\", \"aquilan\", \"archival\", \"asset\", \"assignment\", \"assist\", \"assist\", \"assist\", \"assist\", \"assist\", \"authentic\", \"bachelor\", \"bachelor\", \"bachelor\", \"bachelor\", \"bachelor\", \"back\", \"back\", \"back\", \"basic\", \"bazaarvoice\", \"benefit\", \"benefit\", \"benefit\", \"benefit\", \"benefit\", \"biztech\", \"brew\", \"build\", \"build\", \"build\", \"build\", \"bulldog\", \"business\", \"business\", \"business\", \"business\", \"business\", \"calendar\", \"campaign\", \"campaign\", \"capability\", \"capability\", \"capability\", \"capability\", \"capgemini\", \"cbap\", \"ccba\", \"chameleon\", \"change\", \"change\", \"change\", \"change\", \"change\", \"client\", \"client\", \"client\", \"client\", \"client\", \"clinical\", \"communicate\", \"communicate\", \"communicate\", \"communicate\", \"communicate\", \"communicator\", \"company\", \"company\", \"company\", \"company\", \"company\", \"compare\", \"comparison\", \"compile\", \"compile\", \"compile\", \"compliance\", \"compliance\", \"compliance\", \"compliance\", \"contractor\", \"create\", \"create\", \"create\", \"create\", \"create\", \"curious\", \"curious\", \"currently\", \"currently\", \"customer\", \"customer\", \"customer\", \"customer\", \"customer\", \"cwo\", \"darby\", \"database\", \"database\", \"database\", \"database\", \"decision\", \"decision\", \"decision\", \"decision\", \"decision\", \"dedication\", \"defining\", \"defining\", \"degree\", \"degree\", \"degree\", \"degree\", \"degree\", \"designer\", \"develop\", \"develop\", \"develop\", \"develop\", \"develop\", \"developing\", \"developing\", \"developing\", \"development\", \"development\", \"development\", \"development\", \"development\", \"dimensional\", \"discovery\", \"discretion\", \"disorder\", \"district\", \"document\", \"document\", \"document\", \"document\", \"document\", \"downstream\", \"draft\", \"drive\", \"drive\", \"drive\", \"drive\", \"drive\", \"drug\", \"drug\", \"drug\", \"e10\", \"easy\", \"easy\", \"easy\", \"easy\", \"eclerx\", \"economics\", \"effectively\", \"effectively\", \"effectively\", \"effectively\", \"effectively\", \"efficiency\", \"efficiency\", \"efficiency\", \"efficiency\", \"emerson\", \"engineer\", \"ensure\", \"ensure\", \"ensure\", \"ensure\", \"ensure\", \"enterprise\", \"enterprise\", \"enterprise\", \"enterprise\", \"enterprise\", \"epicor\", \"error\", \"error\", \"error\", \"esc\", \"etl\", \"etl\", \"etl\", \"everi\", \"example\", \"excess\", \"expect\", \"expect\", \"expert\", \"expert\", \"expert\", \"expert\", \"facilitation\", \"fargo\", \"fault\", \"feed\", \"file\", \"finance\", \"finance\", \"financial\", \"financial\", \"financial\", \"financial\", \"food\", \"food\", \"food\", \"forecast\", \"forecasting\", \"forecasting\", \"forecasting\", \"found\", \"found\", \"found\", \"free\", \"free\", \"free\", \"free\", \"fuel\", \"fuel\", \"full\", \"full\", \"full\", \"full\", \"full\", \"functional\", \"functional\", \"functional\", \"functional\", \"functional\", \"fund\", \"fund\", \"funding\", \"funding\", \"general\", \"general\", \"geographical\", \"good\", \"good\", \"good\", \"governance\", \"governance\", \"grade\", \"growth\", \"growth\", \"growth\", \"healthcare\", \"healthcare\", \"healthcare\", \"highlands\", \"homeaway\", \"hub\", \"hungry\", \"hypothesis\", \"iam\", \"ideal\", \"ideal\", \"ideal\", \"identification\", \"identify\", \"identify\", \"identify\", \"identify\", \"identify\", \"idera\", \"implementation\", \"implementation\", \"implementation\", \"implementation\", \"implementation\", \"indeed\", \"information\", \"information\", \"information\", \"information\", \"information\", \"initiative\", \"initiative\", \"initiative\", \"initiative\", \"insight\", \"insight\", \"insight\", \"insight\", \"insight\", \"institutional\", \"instrument\", \"interface\", \"interface\", \"interface\", \"interface\", \"inventory\", \"inventory\", \"inventory\", \"invision\", \"invisionapp\", \"itam\", \"itccs\", \"joy\", \"judgement\", \"judgment\", \"juggle\", \"key\", \"key\", \"key\", \"key\", \"ldo\", \"learner\", \"learner\", \"legislative\", \"letter\", \"letter\", \"level\", \"level\", \"level\", \"level\", \"level\", \"line\", \"line\", \"loan\", \"longer\", \"look\", \"love\", \"love\", \"love\", \"love\", \"love\", \"main\", \"mainstreethub\", \"maintain\", \"maintain\", \"maintain\", \"maintain\", \"maintain\", \"make\", \"make\", \"make\", \"make\", \"make\", \"management\", \"management\", \"management\", \"management\", \"management\", \"mapping\", \"mapping\", \"market\", \"market\", \"market\", \"market\", \"marketing\", \"marketing\", \"marketing\", \"master\", \"master\", \"master\", \"master\", \"mathematics\", \"may\", \"may\", \"may\", \"may\", \"may\", \"mdm\", \"meal\", \"method\", \"method\", \"middleware\", \"middleware\", \"midst\", \"mining\", \"model\", \"model\", \"model\", \"model\", \"modeling\", \"modeling\", \"modeling\", \"module\", \"multiple\", \"multiple\", \"multiple\", \"multiple\", \"must\", \"must\", \"must\", \"must\", \"must\", \"nc\", \"need\", \"need\", \"need\", \"need\", \"need\", \"new\", \"new\", \"new\", \"new\", \"new\", \"object\", \"object\", \"odbc\", \"offer\", \"offer\", \"offer\", \"offer\", \"officialtranscript\", \"opportunity\", \"opportunity\", \"opportunity\", \"opportunity\", \"opportunity\", \"optimization\", \"optimization\", \"optional\", \"optional\", \"oracle\", \"oracle\", \"oracle\", \"organization\", \"organization\", \"organization\", \"organization\", \"organization\", \"others\", \"others\", \"others\", \"others\", \"park\", \"pass\", \"pass\", \"payment\", \"payment\", \"peims\", \"pentaho\", \"per\", \"per\", \"perform\", \"perform\", \"perform\", \"perform\", \"perform\", \"plan\", \"plan\", \"plan\", \"plan\", \"plan\", \"planet\", \"plus\", \"plus\", \"plus\", \"plus\", \"plus\", \"position\", \"position\", \"position\", \"position\", \"position\", \"prefer\", \"prefer\", \"prefer\", \"prefer\", \"prefer\", \"problem\", \"problem\", \"problem\", \"problem\", \"problem\", \"process\", \"process\", \"process\", \"process\", \"process\", \"produce\", \"product\", \"product\", \"product\", \"product\", \"product\", \"production\", \"production\", \"production\", \"program\", \"program\", \"program\", \"program\", \"program\", \"project\", \"project\", \"project\", \"project\", \"project\", \"purpose\", \"purpose\", \"purpose\", \"purpose\", \"python\", \"python\", \"quality\", \"quality\", \"quality\", \"quality\", \"quality\", \"quota\", \"r12\", \"ranch\", \"rapport\", \"rating\", \"rational\", \"red\", \"reflect\", \"region\", \"region\", \"regularly\", \"relate\", \"relate\", \"relate\", \"relate\", \"relate\", \"reply\", \"report\", \"report\", \"report\", \"report\", \"report\", \"reporting\", \"reporting\", \"reporting\", \"reporting\", \"reporting\", \"representation\", \"request\", \"request\", \"request\", \"request\", \"request\", \"research\", \"research\", \"research\", \"research\", \"research\", \"responsibility\", \"responsibility\", \"responsibility\", \"responsibility\", \"responsibility\", \"rest\", \"rest\", \"retail\", \"retail\", \"retail\", \"retreat\", \"revision\", \"role\", \"role\", \"role\", \"role\", \"role\", \"safe\", \"salary\", \"salary\", \"salary\", \"salary\", \"sales\", \"sales\", \"sales\", \"sales\", \"sas\", \"sas\", \"scrum\", \"servicing\", \"snack\", \"snack\", \"software\", \"software\", \"software\", \"software\", \"software\", \"solid\", \"solid\", \"solid\", \"solution\", \"solution\", \"solution\", \"solution\", \"solution\", \"someone\", \"sponsor\", \"sql\", \"sql\", \"sql\", \"sql\", \"sql\", \"stack\", \"stack\", \"statistical\", \"statistical\", \"statistics\", \"storage\", \"strategy\", \"strategy\", \"strategy\", \"strategy\", \"street\", \"strong\", \"strong\", \"strong\", \"strong\", \"strong\", \"student\", \"student\", \"student\", \"submit\", \"submit\", \"submit\", \"submit\", \"summarize\", \"summarize\", \"summary\", \"support\", \"support\", \"support\", \"support\", \"support\", \"survey\", \"survey\", \"system\", \"system\", \"system\", \"system\", \"system\", \"take\", \"take\", \"take\", \"take\", \"take\", \"tceq\", \"technical\", \"technical\", \"technical\", \"technical\", \"technical\", \"technology\", \"technology\", \"technology\", \"technology\", \"technology\", \"term\", \"term\", \"text\", \"things\", \"ticket\", \"time\", \"time\", \"time\", \"time\", \"time\", \"tma\", \"tool\", \"tool\", \"tool\", \"tool\", \"tool\", \"traceability\", \"transform\", \"transit\", \"troubleshoot\", \"troubleshoot\", \"tuning\", \"type\", \"type\", \"type\", \"type\", \"type\", \"uncommonly\", \"understand\", \"understand\", \"understand\", \"understand\", \"understand\", \"use\", \"use\", \"use\", \"use\", \"use\", \"user\", \"user\", \"user\", \"user\", \"user\", \"visio\", \"vista\", \"visualization\", \"visualization\", \"warehouse\", \"warehouse\", \"warehouse\", \"warehouse\", \"warm\", \"wells\", \"whole\", \"wholesale\", \"wholesale\", \"within\", \"within\", \"within\", \"within\", \"worker\", \"working\", \"working\", \"working\", \"working\", \"yearly\", \"yearly\", \"yearly\", \"zero\", \"zerocater\"]}, \"R\": 30, \"lambda.step\": 0.01, \"plot.opts\": {\"xlab\": \"PC1\", \"ylab\": \"PC2\"}, \"topic.order\": [3, 1, 2, 5, 4]};\n",
       "\n",
       "function LDAvis_load_lib(url, callback){\n",
       "  var s = document.createElement('script');\n",
       "  s.src = url;\n",
       "  s.async = true;\n",
       "  s.onreadystatechange = s.onload = callback;\n",
       "  s.onerror = function(){console.warn(\"failed to load library \" + url);};\n",
       "  document.getElementsByTagName(\"head\")[0].appendChild(s);\n",
       "}\n",
       "\n",
       "if(typeof(LDAvis) !== \"undefined\"){\n",
       "   // already loaded: just create the visualization\n",
       "   !function(LDAvis){\n",
       "       new LDAvis(\"#\" + \"ldavis_el374760643971922589167502\", ldavis_el374760643971922589167502_data);\n",
       "   }(LDAvis);\n",
       "}else if(typeof define === \"function\" && define.amd){\n",
       "   // require.js is available: use it to load d3/LDAvis\n",
       "   require.config({paths: {d3: \"https://cdnjs.cloudflare.com/ajax/libs/d3/3.5.5/d3.min\"}});\n",
       "   require([\"d3\"], function(d3){\n",
       "      window.d3 = d3;\n",
       "      LDAvis_load_lib(\"https://cdn.rawgit.com/bmabey/pyLDAvis/files/ldavis.v1.0.0.js\", function(){\n",
       "        new LDAvis(\"#\" + \"ldavis_el374760643971922589167502\", ldavis_el374760643971922589167502_data);\n",
       "      });\n",
       "    });\n",
       "}else{\n",
       "    // require.js not available: dynamically load d3 & LDAvis\n",
       "    LDAvis_load_lib(\"https://cdnjs.cloudflare.com/ajax/libs/d3/3.5.5/d3.min.js\", function(){\n",
       "         LDAvis_load_lib(\"https://cdn.rawgit.com/bmabey/pyLDAvis/files/ldavis.v1.0.0.js\", function(){\n",
       "                 new LDAvis(\"#\" + \"ldavis_el374760643971922589167502\", ldavis_el374760643971922589167502_data);\n",
       "            })\n",
       "         });\n",
       "}\n",
       "</script>"
      ],
      "text/plain": [
       "<IPython.core.display.HTML object>"
      ]
     },
     "execution_count": 693,
     "metadata": {},
     "output_type": "execute_result"
    }
   ],
   "source": [
    "lda_display = pyLDAvis.gensim.prepare(lda, corpus, dictionary)\n",
    "pyLDAvis.display(lda_display)"
   ]
  },
  {
   "cell_type": "markdown",
   "metadata": {},
   "source": [
    "# ------------------THIS IS WHERE EDDIE IS UP TO --------------------------------"
   ]
  },
  {
   "cell_type": "markdown",
   "metadata": {},
   "source": [
    "### MacOS online advice for clicking links\n",
    "element.send_keys(Keys.CONTROL + Keys.RETURN)  \n",
    "driver.switch_to.window(self.driver.window_handles[1])  \n",
    "#### do stuff  \n",
    "driver.close()  \n",
    "driver.switch_to.window(self.driver.window_handles[0])  "
   ]
  },
  {
   "cell_type": "markdown",
   "metadata": {},
   "source": [
    "## Using SpaCy for NLP - this is a Work in Progress (Eddie has not started this part yet)\n",
    "Objective: Setup for topic modeling and use LDA to determine feature importance"
   ]
  },
  {
   "cell_type": "code",
   "execution_count": 324,
   "metadata": {},
   "outputs": [],
   "source": [
    "parser = spacy.lang.en.English()\n",
    "nlp = spacy.load('en')"
   ]
  },
  {
   "cell_type": "code",
   "execution_count": 325,
   "metadata": {},
   "outputs": [],
   "source": [
    "def sent_to_words(sentences):\n",
    "    for sentence in sentences:\n",
    "        yield(simple_preprocess(str(pos_description),deacc=True))"
   ]
  },
  {
   "cell_type": "code",
   "execution_count": 326,
   "metadata": {},
   "outputs": [],
   "source": [
    "data_words = list(sent_to_words(pos_description))"
   ]
  },
  {
   "cell_type": "code",
   "execution_count": 328,
   "metadata": {},
   "outputs": [],
   "source": [
    "#Building bigram and trigram models\n",
    "bigram = gensim.models.Phrases(data_words, min_count=5, threshold=100)\n",
    "\n",
    "trigram = gensim.models.Phrases(bigram[data_words], threshold=100)"
   ]
  },
  {
   "cell_type": "code",
   "execution_count": 329,
   "metadata": {},
   "outputs": [],
   "source": [
    "bigram_mod = gensim.models.phrases.Phraser(bigram)\n",
    "trigram_mod = gensim.models.phrases.Phraser(trigram)"
   ]
  },
  {
   "cell_type": "code",
   "execution_count": 331,
   "metadata": {},
   "outputs": [],
   "source": [
    "def remove_stopwords(text):\n",
    "    return [[word for word in simple_preprocess(str(doc)) if word not in STOP_WORDS] for doc in text]\n",
    "\n",
    "def make_bigrams(text):\n",
    "    return [bigram_mod[doc] for doc in text]\n",
    "\n",
    "def make_trigrams(text):\n",
    "    return [trigram_mod[bigram_mod[doc]] for doc in text]\n",
    "\n",
    "def lemmatization(text, allowed_postags = ['NOUN','ADJ','VERB','ADV']):\n",
    "    text_rem = []\n",
    "    for sent in text:\n",
    "        doc = nlp(\" \".join(sent))\n",
    "        text_rem.append([token.lemma_ for token in doc if token.pos_ in allowed_postags])\n",
    "        return text_rem "
   ]
  },
  {
   "cell_type": "code",
   "execution_count": 332,
   "metadata": {},
   "outputs": [],
   "source": [
    "words_no_stops = remove_stopwords(data_words)\n",
    "\n",
    "word_bigrams = make_bigrams(words_no_stops)\n",
    "\n",
    "data_lemma =  lemmatization(word_bigrams, allowed_postags=['NOUN', 'ADJ', 'VERB', 'ADV'])"
   ]
  },
  {
   "cell_type": "code",
   "execution_count": 335,
   "metadata": {},
   "outputs": [],
   "source": [
    "id2word = corpora.Dictionary(data_lemma)"
   ]
  },
  {
   "cell_type": "code",
   "execution_count": 336,
   "metadata": {},
   "outputs": [],
   "source": [
    "texts = data_lemma"
   ]
  },
  {
   "cell_type": "code",
   "execution_count": 337,
   "metadata": {},
   "outputs": [],
   "source": [
    "corpus = [id2word.doc2bow(text) for text in texts]"
   ]
  },
  {
   "cell_type": "code",
   "execution_count": 338,
   "metadata": {},
   "outputs": [],
   "source": [
    "lda_model = gensim.models.ldamodel.LdaModel(corpus=corpus, id2word=id2word,num_topics=20,\n",
    "                               random_state=42,\n",
    "                               update_every=1,\n",
    "                               chunksize=100,\n",
    "                               passes=10,\n",
    "                               alpha='auto',\n",
    "                               per_word_topics=True)"
   ]
  },
  {
   "cell_type": "code",
   "execution_count": 339,
   "metadata": {},
   "outputs": [],
   "source": [
    "doc_lda = lda_model[corpus]"
   ]
  },
  {
   "cell_type": "code",
   "execution_count": 340,
   "metadata": {},
   "outputs": [
    {
     "name": "stdout",
     "output_type": "stream",
     "text": [
      "\n",
      "Perplexity:  -7.106306833828683\n",
      "\n",
      "Coherence Score:  0.26450302724652314\n"
     ]
    }
   ],
   "source": [
    "# Compute Perplexity\n",
    "print('\\nPerplexity: ', lda_model.log_perplexity(corpus))  # a measure of how good the model is. lower the better.\n",
    "\n",
    "# Compute Coherence Score\n",
    "coherence_model_lda = coherencemodel.CoherenceModel(model=lda_model, texts=data_lemma, dictionary=id2word, coherence='c_v')\n",
    "coherence_lda = coherence_model_lda.get_coherence()\n",
    "print('\\nCoherence Score: ', coherence_lda)"
   ]
  },
  {
   "cell_type": "code",
   "execution_count": 341,
   "metadata": {},
   "outputs": [
    {
     "data": {
      "text/html": [
       "\n",
       "<link rel=\"stylesheet\" type=\"text/css\" href=\"https://cdn.rawgit.com/bmabey/pyLDAvis/files/ldavis.v1.0.0.css\">\n",
       "\n",
       "\n",
       "<div id=\"ldavis_el1383620673395859603401407628\"></div>\n",
       "<script type=\"text/javascript\">\n",
       "\n",
       "var ldavis_el1383620673395859603401407628_data = {\"R\": 30, \"mdsDat\": {\"x\": [-0.07361859543290578, -0.0006713269862007525, 0.0006600289372657582, 0.0017506216869984238, 0.002052958738838514, 0.0027004854206751573, 0.003185597017653677, 0.0034567941063659785, 0.003545003871594676, 0.00382686289336779, 0.0037663251329314667, 0.003931300055992733, 0.004524298534777842, 0.005380850658488665, 0.005500162557955127, 0.00558091639045895, 0.005718988078738252, 0.006167102438417293, 0.006235027000736077, 0.006306598897850139], \"y\": [0.0, -0.0, 0.0, -0.0, 0.0, -0.0, -0.0, -0.0, 0.0, 0.0, -0.0, -0.0, 0.0, -0.0, 0.0, -0.0, -0.0, 0.0, -0.0, 0.0], \"topics\": [1, 2, 3, 4, 5, 6, 7, 8, 9, 10, 11, 12, 13, 14, 15, 16, 17, 18, 19, 20], \"Freq\": [99.96126556396484, 0.002045335015282035, 0.002044215565547347, 0.002043083542957902, 0.0020426169503480196, 0.0020418507046997547, 0.0020410993602126837, 0.002040733816102147, 0.0020404790993779898, 0.0020400064531713724, 0.0020400015637278557, 0.002039699349552393, 0.0020386194810271263, 0.002036116551607847, 0.0020355316810309887, 0.0020353528670966625, 0.00203486206009984, 0.002032374031841755, 0.0020320448093116283, 0.0020314352586865425], \"cluster\": [1, 1, 1, 1, 1, 1, 1, 1, 1, 1, 1, 1, 1, 1, 1, 1, 1, 1, 1, 1]}, \"tinfo\": {\"loglift\": [30.0, 29.0, 28.0, 27.0, 26.0, 25.0, 24.0, 23.0, 22.0, 21.0, 20.0, 19.0, 18.0, 17.0, 16.0, 15.0, 14.0, 13.0, 12.0, 11.0, 10.0, 9.0, 8.0, 7.0, 6.0, 5.0, 4.0, 3.0, 2.0, 1.0, 0.00039999998989515007, 0.0003000000142492354, 0.0003000000142492354, 0.0003000000142492354, 0.0003000000142492354, 0.0003000000142492354, 0.0003000000142492354, 0.0003000000142492354, 0.0003000000142492354, 0.0003000000142492354, 0.0003000000142492354, 0.0003000000142492354, 0.0003000000142492354, 0.0003000000142492354, 0.0003000000142492354, 0.0003000000142492354, 0.0003000000142492354, 0.0003000000142492354, 0.0003000000142492354, 0.0003000000142492354, 0.0003000000142492354, 0.0003000000142492354, 0.0003000000142492354, 0.0003000000142492354, 0.00019999999494757503, 0.00019999999494757503, 0.00019999999494757503, 0.00019999999494757503, 0.00019999999494757503, 0.00019999999494757503, 0.6764000058174133, 0.6762999892234802, 0.6761000156402588, 0.6754999756813049, 0.6754999756813049, 0.6754999756813049, 0.6751999855041504, 0.6751999855041504, 0.6748999953269958, 0.6748999953269958, 0.6747999787330627, 0.6747000217437744, 0.6746000051498413, 0.6744999885559082, 0.6743999719619751, 0.6739000082015991, 0.6736000180244446, 0.67330002784729, 0.6732000112533569, 0.6729999780654907, 0.6728000044822693, 0.6725999712944031, 0.6725000143051147, 0.6725000143051147, 0.6723999977111816, 0.6723999977111816, 0.6723999977111816, 0.6723999977111816, 0.6722999811172485, 0.6722999811172485, 0.6722999811172485, 0.6722999811172485, -1.8219000101089478, -2.150700092315674, -1.7359000444412231, -1.792099952697754, -1.9528000354766846, -1.2611000537872314, -2.0020999908447266, -1.7173999547958374, -1.2009999752044678, -1.40910005569458, -1.5851000547409058, -1.6593999862670898, -1.2122999429702759, -1.4221999645233154, -1.5936000347137451, -1.7458000183105469, -1.3323999643325806, -1.527400016784668, -1.530900001525879, -1.5437999963760376, -1.11899995803833, -1.1225999593734741, -0.9790999889373779, -1.3640999794006348, -1.2539000511169434, -0.8126000165939331, -0.6036999821662903, -0.9889000058174133, -0.9926999807357788, -0.8198000192642212, -0.9998000264167786, 0.6807000041007996, 0.6784999966621399, 0.6783000230789185, 0.6780999898910522, 0.6779999732971191, 0.6779999732971191, 0.6777999997138977, 0.6776000261306763, 0.6775000095367432, 0.677299976348877, 0.6771000027656555, 0.6769000291824341, 0.676800012588501, 0.6766999959945679, 0.6766999959945679, 0.6765999794006348, 0.6765999794006348, 0.6761999726295471, 0.6761999726295471, 0.6761000156402588, 0.6761000156402588, 0.6759999990463257, 0.6759999990463257, 0.6758999824523926, 0.6758000254631042, 0.6758000254631042, 0.6758000254631042, 0.6757000088691711, 0.675599992275238, 0.675599992275238, 0.6754000186920166, 0.6754999756813049, -2.1572000980377197, -1.5331000089645386, -2.0322000980377197, -1.830299973487854, -1.6449999809265137, -1.4915000200271606, -2.0541000366210938, -1.5012999773025513, -1.7279000282287598, -1.728700041770935, -1.9213000535964966, -1.3324999809265137, -1.523900032043457, -1.2302000522613525, -1.6117000579833984, -1.4471999406814575, -1.2371000051498413, -1.3515000343322754, -0.9728999733924866, -2.0144999027252197, -1.3681000471115112, -1.2646000385284424, -0.8192999958992004, -0.9940000176429749, -1.4833999872207642, -0.3411000072956085, -0.6141999959945679, -0.829200029373169, -0.8295999765396118, -1.007699966430664, -0.8353999853134155, -1.1644999980926514, -1.1656999588012695, 0.6807000041007996, 0.6804999709129333, 0.6801999807357788, 0.6801000237464905, 0.6797999739646912, 0.6794999837875366, 0.6794000267982483, 0.6790000200271606, 0.6789000034332275, 0.6786999702453613, 0.6786999702453613, 0.678600013256073, 0.678600013256073, 0.6784999966621399, 0.6783999800682068, 0.6783999800682068, 0.6783999800682068, 0.6783000230789185, 0.6783000230789185, 0.6783000230789185, 0.6783000230789185, 0.6782000064849854, 0.6782000064849854, 0.6780999898910522, 0.6779999732971191, 0.6779999732971191, 0.6779999732971191, 0.6777999997138977, 0.6777999997138977, 0.6777999997138977, 0.6776000261306763, 0.6776999831199646, -2.2815001010894775, -1.948799967765808, -2.0518999099731445, -2.0671000480651855, -1.865399956703186, -1.92330002784729, -1.7415000200271606, -1.743399977684021, -1.531499981880188, -1.4426000118255615, -1.5369999408721924, -1.3514000177383423, -1.544600009918213, -1.7107000350952148, -1.6397000551223755, -1.6405999660491943, -1.3767999410629272, -1.2687000036239624, -0.6122999787330627, 0.040800001472234726, -0.8281000256538391, -1.4896999597549438, -1.3909000158309937, -0.8288999795913696, -1.281599998474121, -0.8323000073432922, -0.6189000010490417, -1.0094000101089478, -1.1613999605178833, -0.6241999864578247, -1.2907999753952026, -1.1651999950408936, -1.0174000263214111, 0.6819000244140625, 0.6811000108718872, 0.6809999942779541, 0.680400013923645, 0.6801999807357788, 0.6801000237464905, 0.6800000071525574, 0.6798999905586243, 0.6797999739646912, 0.6797999739646912, 0.6794000267982483, 0.6793000102043152, 0.6791999936103821, 0.6791999936103821, 0.6791999936103821, 0.6790000200271606, 0.6790000200271606, 0.6789000034332275, 0.6787999868392944, 0.6787999868392944, 0.678600013256073, 0.678600013256073, 0.678600013256073, 0.6784999966621399, 0.6784999966621399, 0.6783999800682068, 0.6783999800682068, 0.6783999800682068, 0.6783000230789185, 0.6782000064849854, 0.6782000064849854, -2.24180006980896, -1.9708000421524048, -1.5938999652862549, -1.7451000213623047, -2.0859999656677246, -2.087100028991699, -1.9351999759674072, -1.6287000179290771, -1.246500015258789, -1.5556000471115112, -1.4656000137329102, -1.9138000011444092, -1.7877999544143677, -1.559000015258789, -1.3809000253677368, -1.5733000040054321, -0.8223999738693237, -0.9955999851226807, -1.1435999870300293, -1.38510000705719, -0.8251000046730042, -1.7416000366210938, -1.2759000062942505, -1.3895000219345093, -1.49399995803833, -1.0038000345230103, -0.8296999931335449, -1.2853000164031982, -1.0116000175476074, -0.8381999731063843, -1.0144000053405762, -1.1658999919891357, 0.6815000176429749, 0.6812999844551086, 0.6812000274658203, 0.6811000108718872, 0.6809999942779541, 0.6809999942779541, 0.6808000206947327, 0.6805999875068665, 0.680400013923645, 0.680400013923645, 0.680400013923645, 0.6802999973297119, 0.6802999973297119, 0.6802999973297119, 0.6801999807357788, 0.6801000237464905, 0.6801000237464905, 0.6801000237464905, 0.6801000237464905, 0.6801000237464905, 0.6798999905586243, 0.6798999905586243, 0.6798999905586243, 0.6797999739646912, 0.6797999739646912, 0.6797999739646912, 0.6797000169754028, 0.6797000169754028, 0.6796000003814697, 0.6796000003814697, 0.6796000003814697, 0.6796000003814697, 0.6794999837875366, -2.065700054168701, -2.3169000148773193, -2.075200080871582, -1.8767000436782837, -1.7029000520706177, -1.777400016784668, -1.9638999700546265, -1.7817000150680542, -2.029599905014038, -1.472100019454956, -1.6536999940872192, -1.5744999647140503, -1.2705999612808228, -1.5816999673843384, -1.1475000381469727, -1.392300009727478, -1.3947999477386475, -1.0047999620437622, -1.2839000225067139, -0.8321999907493591, -1.676300048828125, -0.838100016117096, -0.3497999906539917, -1.1638000011444092, -1.0155999660491943, -0.8411999940872192, -1.5115000009536743, -1.6045000553131104, -1.4098999500274658, -1.0174000263214111, -0.8460000157356262, -1.3080999851226807, 0.6827999949455261, 0.6827999949455261, 0.6825000047683716, 0.6822999715805054, 0.6822999715805054, 0.682200014591217, 0.6819999814033508, 0.6816999912261963, 0.6815000176429749, 0.6815000176429749, 0.6814000010490417, 0.6814000010490417, 0.6812999844551086, 0.6812999844551086, 0.6812000274658203, 0.6812000274658203, 0.6811000108718872, 0.6809999942779541, 0.6809999942779541, 0.6809999942779541, 0.680899977684021, 0.680899977684021, 0.680899977684021, 0.680899977684021, 0.6808000206947327, 0.6808000206947327, 0.6808000206947327, 0.6808000206947327, 0.6807000041007996, 0.6807000041007996, 0.6805999875068665, 0.6804999709129333, -2.084399938583374, -2.3341000080108643, -2.09060001373291, -1.5426000356674194, -2.0097999572753906, -1.784600019454956, -1.9187999963760376, -1.5742000341415405, -1.4837000370025635, -1.6605000495910645, -1.7395000457763672, -2.007999897003174, -1.3948999643325806, -1.5898000001907349, -1.4996999502182007, -1.8264000415802002, -1.0103000402450562, -1.289199948310852, -1.0125000476837158, -1.291100025177002, -1.684499979019165, -1.4107999801635742, -1.2963999509811401, -1.169600009918213, -1.0223000049591064, -1.023300051689148, -0.8479999899864197, -0.6320000290870667, -1.1754000186920166, -0.8495000004768372, -1.4220000505447388, 0.6837999820709229, 0.6834999918937683, 0.6832000017166138, 0.6829000115394592, 0.6827999949455261, 0.682699978351593, 0.682699978351593, 0.6826000213623047, 0.6825000047683716, 0.6823999881744385, 0.6822999715805054, 0.682200014591217, 0.682200014591217, 0.6819999814033508, 0.6819000244140625, 0.6819000244140625, 0.6818000078201294, 0.6816999912261963, 0.6815999746322632, 0.6815999746322632, 0.6815999746322632, 0.6815000176429749, 0.6814000010490417, 0.6812999844551086, 0.6812999844551086, 0.6812999844551086, 0.6812999844551086, 0.6812000274658203, 0.6812000274658203, 0.6811000108718872, 0.6809999942779541, -1.9872000217437744, -2.0882999897003174, -2.337599992752075, -2.095599889755249, -1.9083000421524048, -1.5729000568389893, -1.6569000482559204, -1.5771000385284424, -1.3896000385284424, -1.8228000402450562, -1.284000039100647, -2.014899969100952, -1.1606999635696411, -1.6820000410079956, -1.598099946975708, -1.162600040435791, -1.76419997215271, -1.510599970817566, -1.2934000492095947, -1.8432999849319458, -1.4147000312805176, -1.5189000368118286, -1.416599988937378, -0.6284999847412109, -0.8478000164031982, -1.0255000591278076, -1.0259000062942505, -0.6331999897956848, -0.8508999943733215, -0.8515999913215637, -1.3098000288009644, 0.6827999949455261, 0.682699978351593, 0.6826000213623047, 0.6825000047683716, 0.6822999715805054, 0.6822999715805054, 0.6822999715805054, 0.6819999814033508, 0.6819000244140625, 0.6819000244140625, 0.6819000244140625, 0.6819000244140625, 0.6819000244140625, 0.6818000078201294, 0.6816999912261963, 0.6815999746322632, 0.6815999746322632, 0.6815000176429749, 0.6815000176429749, 0.6815000176429749, 0.6815000176429749, 0.6815000176429749, 0.6814000010490417, 0.6814000010490417, 0.6814000010490417, 0.6812999844551086, 0.6812999844551086, 0.6812999844551086, 0.6812999844551086, 0.6812000274658203, 0.6811000108718872, 0.680899977684021, -2.1017000675201416, -2.359600067138672, -2.019700050354004, -1.7821999788284302, -1.7157000303268433, -1.9747999906539917, -1.7896000146865845, -1.5642999410629272, -2.1570000648498535, -1.5806000232696533, -1.944700002670288, -1.3939000368118286, -1.67330002784729, -1.594499945640564, -1.6800999641418457, -1.5068000555038452, -1.0149999856948853, -1.4056999683380127, -1.169700026512146, -1.5182000398635864, -1.302899956703186, -1.0242999792099, -1.3042000532150269, -0.8481000065803528, -1.1761000156402588, -1.308899998664856, -0.6359000205993652, -0.6363999843597412, -0.8529000282287598, 0.029999999329447746, -0.8540999889373779, -0.854200005531311, -1.4336999654769897, 0.6841999888420105, 0.6829000115394592, 0.6827999949455261, 0.6827999949455261, 0.682699978351593, 0.6826000213623047, 0.6826000213623047, 0.6825000047683716, 0.6825000047683716, 0.6822999715805054, 0.6822999715805054, 0.6822999715805054, 0.6822999715805054, 0.6822999715805054, 0.6822999715805054, 0.682200014591217, 0.682200014591217, 0.6820999979972839, 0.6820999979972839, 0.6820999979972839, 0.6819999814033508, 0.6819000244140625, 0.6819000244140625, 0.6819000244140625, 0.6819000244140625, 0.6818000078201294, 0.6818000078201294, 0.6818000078201294, 0.6816999912261963, 0.6816999912261963, 0.6816999912261963, 0.6815999746322632, 0.6815999746322632, -2.343899965286255, -2.1180999279022217, -1.7853000164031982, -1.7339999675750732, -2.148099899291992, -1.998900055885315, -1.8111000061035156, -1.6679999828338623, -1.4926999807357788, -2.0624001026153564, -1.6708999872207642, -1.4036999940872192, -1.9630999565124512, -1.406599998474121, -1.5133999586105347, -1.1668000221252441, -1.297700047492981, -1.608199954032898, -1.4128999710083008, -1.1684000492095947, -1.0197999477386475, -0.8442000150680542, -1.301200032234192, -1.0214999914169312, -1.6129000186920166, -1.0257999897003174, -0.8504999876022339, -0.35910001397132874, -0.6377999782562256, -1.6230000257492065, -0.8547999858856201, -1.0334999561309814, -1.3176000118255615, 0.6833999752998352, 0.6832000017166138, 0.6832000017166138, 0.6830999851226807, 0.6829000115394592, 0.6829000115394592, 0.682699978351593, 0.6826000213623047, 0.6826000213623047, 0.6823999881744385, 0.6822999715805054, 0.6822999715805054, 0.6822999715805054, 0.682200014591217, 0.682200014591217, 0.682200014591217, 0.682200014591217, 0.682200014591217, 0.6820999979972839, 0.6820999979972839, 0.6819999814033508, 0.6819999814033508, 0.6819999814033508, 0.6819999814033508, 0.6819000244140625, 0.6819000244140625, 0.6819000244140625, 0.6819000244140625, 0.6819000244140625, 0.6818000078201294, 0.6818000078201294, -2.329900026321411, -2.101799964904785, -1.9693000316619873, -2.036099910736084, -2.1384999752044678, -1.8015999794006348, -1.805799961090088, -1.385699987411499, -1.7503000497817993, -1.6734999418258667, -1.4021999835968018, -1.507200002670288, -1.9677000045776367, -1.6045000553131104, -1.1649999618530273, -1.6912000179290771, -1.6065000295639038, -1.611299991607666, -1.5190000534057617, -1.1717000007629395, -1.3016999959945679, -1.0227999687194824, -0.8461999893188477, -0.6349999904632568, -0.8528000116348267, -1.3097000122070312, -0.8535000085830688, -0.6373999714851379, -0.8543000221252441, -1.427299976348877, -1.311900019645691, -1.035599946975708, 0.6840000152587891, 0.6840000152587891, 0.6833999752998352, 0.6833000183105469, 0.6833000183105469, 0.6832000017166138, 0.6832000017166138, 0.6829000115394592, 0.6829000115394592, 0.6829000115394592, 0.6827999949455261, 0.682699978351593, 0.682699978351593, 0.682699978351593, 0.6826000213623047, 0.6826000213623047, 0.6826000213623047, 0.6825000047683716, 0.6825000047683716, 0.6823999881744385, 0.6822999715805054, 0.6822999715805054, 0.6822999715805054, 0.6822999715805054, 0.682200014591217, 0.682200014591217, 0.682200014591217, 0.682200014591217, 0.682200014591217, 0.682200014591217, 0.6820999979972839, 0.6820999979972839, -2.0732998847961426, -2.3359999656677246, -1.9900000095367432, -2.1456000804901123, -1.805799961090088, -1.4886000156402588, -1.9503999948501587, -1.6779999732971191, -1.7553999423980713, -1.5963000059127808, -1.5973000526428223, -2.0787999629974365, -1.8371000289916992, -1.6022000312805176, -1.5126999616622925, -1.6930999755859375, -1.2985999584197998, -0.8421000242233276, -1.4156999588012695, -0.8489000201225281, -1.1780999898910522, -0.8515999913215637, -0.8518999814987183, -0.8522999882698059, -1.4239000082015991, -0.3598000109195709, -0.8537999987602234, -1.3128000497817993, -1.1825000047683716, -1.3149000406265259, -1.0328999757766724, -1.4362000226974487, 0.6854000091552734, 0.6851000189781189, 0.6844000220298767, 0.6841999888420105, 0.6840999722480774, 0.6840999722480774, 0.6840000152587891, 0.6840000152587891, 0.683899998664856, 0.6837999820709229, 0.6837999820709229, 0.6837999820709229, 0.6837999820709229, 0.6837999820709229, 0.6837000250816345, 0.6837000250816345, 0.6836000084877014, 0.6834999918937683, 0.6833999752998352, 0.6833999752998352, 0.6833999752998352, 0.6833999752998352, 0.6833999752998352, 0.6833000183105469, 0.6833000183105469, 0.6833000183105469, 0.6833000183105469, 0.6832000017166138, 0.6832000017166138, 0.6832000017166138, 0.6830999851226807, 0.6830999851226807, 0.6829000115394592, -2.1494998931884766, -2.4040000438690186, -2.1577999591827393, -2.0018999576568604, -1.8198000192642212, -1.6782000064849854, -2.0755999088287354, -1.833899974822998, -1.6861000061035156, -1.6013000011444092, -1.767199993133545, -1.5133999586105347, -1.6065000295639038, -1.6131000518798828, -0.8490999937057495, -1.9825999736785889, -1.3079999685287476, -1.4248000383377075, -1.4256000518798828, -1.5302000045776367, -1.3116999864578247, -1.1829999685287476, -1.0322999954223633, -1.4316999912261963, -0.8550000190734863, -0.8550999760627747, -1.0339000225067139, -1.035099983215332, -1.186900019645691, -0.857699990272522, -1.3238999843597412, 0.6858999729156494, 0.6858000159263611, 0.6858000159263611, 0.685699999332428, 0.6855000257492065, 0.6854000091552734, 0.6854000091552734, 0.6852999925613403, 0.6852999925613403, 0.6852999925613403, 0.6851999759674072, 0.6851999759674072, 0.6851999759674072, 0.6851999759674072, 0.6851999759674072, 0.6851000189781189, 0.6851000189781189, 0.6851000189781189, 0.6850000023841858, 0.6850000023841858, 0.6850000023841858, 0.6850000023841858, 0.6848999857902527, 0.6848999857902527, 0.6848999857902527, 0.6848999857902527, 0.6848999857902527, 0.6848999857902527, 0.6848999857902527, 0.6848000288009644, 0.6848000288009644, 0.6847000122070312, 0.6848000288009644, 0.6847000122070312, 0.6847000122070312, -2.171600103378296, -2.435499906539917, -2.0237998962402344, -2.188800096511841, -2.090399980545044, -1.8493000268936157, -1.6191999912261963, -1.7864999771118164, -1.6233999729156494, -1.7098000049591064, -1.3152999877929688, -1.6291999816894531, -1.867799997329712, -1.9996999502182007, -1.5377999544143677, -1.5398000478744507, -1.437000036239624, -1.191499948501587, -1.0420000553131104, -0.864300012588501, -1.3265000581741333, -0.8657000064849854, -0.6471999883651733, -1.4433000087738037, -0.6478000283241272, -0.6484000086784363, -1.0458999872207642, -0.8669999837875366, -1.045799970626831, -0.8669999837875366, -1.729200005531311, -1.4458999633789062, -1.1979999542236328, 0.6862000226974487, 0.6859999895095825, 0.685699999332428, 0.685699999332428, 0.685699999332428, 0.685699999332428, 0.685699999332428, 0.6855999827384949, 0.6855999827384949, 0.6855999827384949, 0.6855999827384949, 0.6855000257492065, 0.6855000257492065, 0.6854000091552734, 0.6854000091552734, 0.6854000091552734, 0.6852999925613403, 0.6852999925613403, 0.6852999925613403, 0.6851999759674072, 0.6851999759674072, 0.6851999759674072, 0.6851999759674072, 0.6851999759674072, 0.6851000189781189, 0.6851000189781189, 0.6851000189781189, 0.6851000189781189, 0.6851000189781189, 0.6851000189781189, 0.6851000189781189, 0.6850000023841858, 0.6850000023841858, 0.6848999857902527, -2.1809000968933105, -2.188999891281128, -2.448199987411499, -1.6174999475479126, -1.7029999494552612, -2.1064000129699707, -1.9912999868392944, -1.6217999458312988, -1.7884000539779663, -1.5307999849319458, -2.054500102996826, -1.8657000064849854, -1.5353000164031982, -1.7160999774932861, -1.868299961090088, -1.6312999725341797, -1.4355000257492065, -1.4357999563217163, -1.4357999563217163, -1.3208999633789062, -1.3214000463485718, -0.6420000195503235, -1.1913000345230103, -1.1923999786376953, -1.3236000537872314, -0.644599974155426, -0.8640999794006348, -0.8669000267982483, -0.36809998750686646, -0.8682000041007996, -0.8677999973297119, 0.6866000294685364, 0.6861000061035156, 0.6858999729156494, 0.6858999729156494, 0.6858000159263611, 0.6858000159263611, 0.6858000159263611, 0.685699999332428, 0.685699999332428, 0.6855999827384949, 0.6855999827384949, 0.6855999827384949, 0.6855999827384949, 0.6855999827384949, 0.6855000257492065, 0.6855000257492065, 0.6855000257492065, 0.6855000257492065, 0.6855000257492065, 0.6855000257492065, 0.6854000091552734, 0.6854000091552734, 0.6854000091552734, 0.6854000091552734, 0.6854000091552734, 0.6854000091552734, 0.6854000091552734, 0.6852999925613403, 0.6852999925613403, 0.6852999925613403, 0.6851000189781189, 0.6851999759674072, 0.6850000023841858, 0.6850000023841858, -1.9665000438690186, -2.185699939727783, -2.1972999572753906, -2.039099931716919, -1.850100040435791, -2.455899953842163, -1.8580000400543213, -1.7870999574661255, -2.112499952316284, -1.7160999774932861, -1.6303000450134277, -1.631700038909912, -1.538599967956543, -1.718999981880188, -1.1898000240325928, -1.63510000705719, -1.3220000267028809, -1.541599988937378, -0.8646000027656555, -0.866100013256073, -0.6478000283241272, -1.4438999891281128, -1.4443000555038452, -0.6492999792098999, -0.6488000154495239, -0.6496999859809875, -1.4469000101089478, -1.3315999507904053, -1.048699975013733, -0.8684999942779541, -1.0491000413894653, -1.202299952507019, -1.3353999853134155, 0.6862000226974487, 0.6861000061035156, 0.6859999895095825, 0.6859999895095825, 0.6859999895095825, 0.6859999895095825, 0.6858999729156494, 0.6858999729156494, 0.6858999729156494, 0.6858999729156494, 0.6858000159263611, 0.6858000159263611, 0.6858000159263611, 0.6858000159263611, 0.6858000159263611, 0.6858000159263611, 0.6858000159263611, 0.685699999332428, 0.685699999332428, 0.685699999332428, 0.685699999332428, 0.6855999827384949, 0.6855999827384949, 0.6855999827384949, 0.6855999827384949, 0.6855999827384949, 0.6855999827384949, 0.6855000257492065, 0.6855000257492065, 0.6855000257492065, 0.6854000091552734, 0.6852999925613403, 0.6852999925613403, -2.446500062942505, -2.0350000858306885, -2.1998000144958496, -1.7077000141143799, -2.21589994430542, -2.112499952316284, -1.4297000169754028, -1.8667000532150269, -1.716599941253662, -1.63100004196167, -2.001499891281128, -1.319200038909912, -1.1913000345230103, -1.4394999742507935, -1.6374000310897827, -1.5435999631881714, -1.802299976348877, -1.8772000074386597, -1.5454000234603882, -1.442199945449829, -1.6402000188827515, -1.0439000129699707, -0.8654000163078308, -0.8659999966621399, -1.044700026512146, -0.6478000283241272, -1.3282999992370605, -0.8673999905586243, -0.6496000289916992, -1.0468000173568726, -1.3310999870300293, -1.1995999813079834, -1.0465999841690063, 0.6870999932289124, 0.6869000196456909, 0.6868000030517578, 0.6868000030517578, 0.6866999864578247, 0.6866999864578247, 0.6866999864578247, 0.6866000294685364, 0.6866000294685364, 0.6866000294685364, 0.6866000294685364, 0.6866000294685364, 0.6866000294685364, 0.6865000128746033, 0.6865000128746033, 0.6865000128746033, 0.6865000128746033, 0.6865000128746033, 0.6863999962806702, 0.6863999962806702, 0.6863999962806702, 0.6863999962806702, 0.6863999962806702, 0.6863999962806702, 0.6862999796867371, 0.6862999796867371, 0.6862999796867371, 0.6862999796867371, 0.6862999796867371, 0.6862999796867371, 0.6862999796867371, 0.6862999796867371, 0.6861000061035156, 0.6862000226974487, 0.6862000226974487, 0.6862000226974487, 0.6859999895095825, 0.6858000159263611, -2.4635000228881836, -2.217400074005127, -2.221100091934204, -2.003700017929077, -1.8005000352859497, -1.7218999862670898, -2.065700054168701, -1.5437999963760376, -1.4420000314712524, -1.8782999515533447, -1.6407999992370605, -1.8813999891281128, -1.6439000368118286, -2.1359000205993652, -1.329699993133545, -1.6470999717712402, -1.447700023651123, -1.5528000593185425, -1.448099970817566, -1.3313000202178955, -1.200700044631958, -1.200700044631958, -1.3339999914169312, -1.0505000352859497, -1.7404999732971191, -0.8719000220298767, -1.0527000427246094, -1.052899956703186, -0.8730000257492065, -0.8729000091552734, 0.6870999932289124, 0.6869999766349792, 0.6869000196456909, 0.6868000030517578, 0.6868000030517578, 0.6868000030517578, 0.6866999864578247, 0.6866999864578247, 0.6866999864578247, 0.6866000294685364, 0.6866000294685364, 0.6866000294685364, 0.6866000294685364, 0.6866000294685364, 0.6865000128746033, 0.6865000128746033, 0.6865000128746033, 0.6865000128746033, 0.6865000128746033, 0.6865000128746033, 0.6865000128746033, 0.6865000128746033, 0.6865000128746033, 0.6865000128746033, 0.6865000128746033, 0.6863999962806702, 0.6863999962806702, 0.6863999962806702, 0.6863999962806702, 0.6863999962806702, 0.6863999962806702, 0.6863999962806702, 0.6862999796867371, 0.6862999796867371, 0.6862999796867371, 0.6862999796867371, 0.6862000226974487, 0.6862999796867371, 0.6862999796867371, 0.6862999796867371, 0.6862000226974487, -2.221400022506714, -2.2225000858306885, -1.8705999851226807, -2.1191999912261963, -2.0638999938964844, -2.488300085067749, -1.8046000003814697, -1.5470000505447388, -1.3272000551223755, -1.5475000143051147, -2.014899969100952, -1.7307000160217285, -1.731600046157837, -1.4458999633789062, -1.6456999778747559, -1.886199951171875, -1.6461000442504883, -1.447700023651123, -1.3316999673843384, -1.6484999656677246, -1.1996999979019165, -1.333299994468689, -1.451799988746643, -1.0498000383377075, -0.8697999715805054, -1.0506999492645264, -1.0506999492645264, -1.204699993133545, -0.8726999759674072, -0.8730000257492065, 0.6875, 0.6873000264167786, 0.6873000264167786, 0.6869000196456909, 0.6868000030517578, 0.6868000030517578, 0.6868000030517578, 0.6868000030517578, 0.6866999864578247, 0.6866999864578247, 0.6866999864578247, 0.6866999864578247, 0.6866999864578247, 0.6866999864578247, 0.6866999864578247, 0.6866999864578247, 0.6866000294685364, 0.6866000294685364, 0.6866000294685364, 0.6866000294685364, 0.6866000294685364, 0.6866000294685364, 0.6866000294685364, 0.6865000128746033, 0.6865000128746033, 0.6865000128746033, 0.6865000128746033, 0.6865000128746033, 0.6865000128746033, 0.6865000128746033, 0.6865000128746033, 0.6865000128746033, 0.6865000128746033, 0.6865000128746033, 0.6865000128746033, 0.6865000128746033, 0.6865000128746033, 0.6862000226974487, 0.6863999962806702, 0.6862000226974487, -2.218400001525879, -2.4827001094818115, -2.0053999423980713, -1.6367000341415405, -2.068700075149536, -1.8782000541687012, -1.7273000478744507, -2.2316999435424805, -1.5480999946594238, -2.1280999183654785, -1.881700038909912, -1.5501999855041504, -1.812000036239624, -1.645799994468689, -1.7338000535964966, -1.3308000564575195, -1.3324999809265137, -1.649399995803833, -1.3339999914169312, -1.2032999992370605, -1.2038999795913696, -1.4539999961853027, -1.4549000263214111, -1.455299973487854, -1.0534000396728516, -1.0530999898910522, -0.8733000159263611, -0.8740000128746033, -0.8733999729156494, -0.8737999796867371], \"Category\": [\"Default\", \"Default\", \"Default\", \"Default\", \"Default\", \"Default\", \"Default\", \"Default\", \"Default\", \"Default\", \"Default\", \"Default\", \"Default\", \"Default\", \"Default\", \"Default\", \"Default\", \"Default\", \"Default\", \"Default\", \"Default\", \"Default\", \"Default\", \"Default\", \"Default\", \"Default\", \"Default\", \"Default\", \"Default\", \"Default\", \"Topic1\", \"Topic1\", \"Topic1\", \"Topic1\", \"Topic1\", \"Topic1\", \"Topic1\", \"Topic1\", \"Topic1\", \"Topic1\", \"Topic1\", \"Topic1\", \"Topic1\", \"Topic1\", \"Topic1\", \"Topic1\", \"Topic1\", \"Topic1\", \"Topic1\", \"Topic1\", \"Topic1\", \"Topic1\", \"Topic1\", \"Topic1\", \"Topic1\", \"Topic1\", \"Topic1\", \"Topic1\", \"Topic1\", \"Topic1\", \"Topic2\", \"Topic2\", \"Topic2\", \"Topic2\", \"Topic2\", \"Topic2\", \"Topic2\", \"Topic2\", \"Topic2\", \"Topic2\", \"Topic2\", \"Topic2\", \"Topic2\", \"Topic2\", \"Topic2\", \"Topic2\", \"Topic2\", \"Topic2\", \"Topic2\", \"Topic2\", \"Topic2\", \"Topic2\", \"Topic2\", \"Topic2\", \"Topic2\", \"Topic2\", \"Topic2\", \"Topic2\", \"Topic2\", \"Topic2\", \"Topic2\", \"Topic2\", \"Topic2\", \"Topic2\", \"Topic2\", \"Topic2\", \"Topic2\", \"Topic2\", \"Topic2\", \"Topic2\", \"Topic2\", \"Topic2\", \"Topic2\", \"Topic2\", \"Topic2\", \"Topic2\", \"Topic2\", \"Topic2\", \"Topic2\", \"Topic2\", \"Topic2\", \"Topic2\", \"Topic2\", \"Topic2\", \"Topic2\", \"Topic2\", \"Topic2\", \"Topic2\", \"Topic2\", \"Topic2\", \"Topic2\", \"Topic2\", \"Topic2\", \"Topic3\", \"Topic3\", \"Topic3\", \"Topic3\", \"Topic3\", \"Topic3\", \"Topic3\", \"Topic3\", \"Topic3\", \"Topic3\", \"Topic3\", \"Topic3\", \"Topic3\", \"Topic3\", \"Topic3\", \"Topic3\", \"Topic3\", \"Topic3\", \"Topic3\", \"Topic3\", \"Topic3\", \"Topic3\", \"Topic3\", \"Topic3\", \"Topic3\", \"Topic3\", \"Topic3\", \"Topic3\", \"Topic3\", \"Topic3\", \"Topic3\", \"Topic3\", \"Topic3\", \"Topic3\", \"Topic3\", \"Topic3\", \"Topic3\", \"Topic3\", \"Topic3\", \"Topic3\", \"Topic3\", \"Topic3\", \"Topic3\", \"Topic3\", \"Topic3\", \"Topic3\", \"Topic3\", \"Topic3\", \"Topic3\", \"Topic3\", \"Topic3\", \"Topic3\", \"Topic3\", \"Topic3\", \"Topic3\", \"Topic3\", \"Topic3\", \"Topic3\", \"Topic3\", \"Topic3\", \"Topic3\", \"Topic3\", \"Topic3\", \"Topic3\", \"Topic3\", \"Topic4\", \"Topic4\", \"Topic4\", \"Topic4\", \"Topic4\", \"Topic4\", \"Topic4\", \"Topic4\", \"Topic4\", \"Topic4\", \"Topic4\", \"Topic4\", \"Topic4\", \"Topic4\", \"Topic4\", \"Topic4\", \"Topic4\", \"Topic4\", \"Topic4\", \"Topic4\", \"Topic4\", \"Topic4\", \"Topic4\", \"Topic4\", \"Topic4\", \"Topic4\", \"Topic4\", \"Topic4\", \"Topic4\", \"Topic4\", \"Topic4\", \"Topic4\", \"Topic4\", \"Topic4\", \"Topic4\", \"Topic4\", \"Topic4\", \"Topic4\", \"Topic4\", \"Topic4\", \"Topic4\", \"Topic4\", \"Topic4\", \"Topic4\", \"Topic4\", \"Topic4\", \"Topic4\", \"Topic4\", \"Topic4\", \"Topic4\", \"Topic4\", \"Topic4\", \"Topic4\", \"Topic4\", \"Topic4\", \"Topic4\", \"Topic4\", \"Topic4\", \"Topic4\", \"Topic4\", \"Topic4\", \"Topic4\", \"Topic4\", \"Topic4\", \"Topic4\", \"Topic5\", \"Topic5\", \"Topic5\", \"Topic5\", \"Topic5\", \"Topic5\", \"Topic5\", \"Topic5\", \"Topic5\", \"Topic5\", \"Topic5\", \"Topic5\", \"Topic5\", \"Topic5\", \"Topic5\", \"Topic5\", \"Topic5\", \"Topic5\", \"Topic5\", \"Topic5\", \"Topic5\", \"Topic5\", \"Topic5\", \"Topic5\", \"Topic5\", \"Topic5\", \"Topic5\", \"Topic5\", \"Topic5\", \"Topic5\", \"Topic5\", \"Topic5\", \"Topic5\", \"Topic5\", \"Topic5\", \"Topic5\", \"Topic5\", \"Topic5\", \"Topic5\", \"Topic5\", \"Topic5\", \"Topic5\", \"Topic5\", \"Topic5\", \"Topic5\", \"Topic5\", \"Topic5\", \"Topic5\", \"Topic5\", \"Topic5\", \"Topic5\", \"Topic5\", \"Topic5\", \"Topic5\", \"Topic5\", \"Topic5\", \"Topic5\", \"Topic5\", \"Topic5\", \"Topic5\", \"Topic5\", \"Topic5\", \"Topic5\", \"Topic6\", \"Topic6\", \"Topic6\", \"Topic6\", \"Topic6\", \"Topic6\", \"Topic6\", \"Topic6\", \"Topic6\", \"Topic6\", \"Topic6\", \"Topic6\", \"Topic6\", \"Topic6\", \"Topic6\", \"Topic6\", \"Topic6\", \"Topic6\", \"Topic6\", \"Topic6\", \"Topic6\", \"Topic6\", \"Topic6\", \"Topic6\", \"Topic6\", \"Topic6\", \"Topic6\", \"Topic6\", \"Topic6\", \"Topic6\", \"Topic6\", \"Topic6\", \"Topic6\", \"Topic6\", \"Topic6\", \"Topic6\", \"Topic6\", \"Topic6\", \"Topic6\", \"Topic6\", \"Topic6\", \"Topic6\", \"Topic6\", \"Topic6\", \"Topic6\", \"Topic6\", \"Topic6\", \"Topic6\", \"Topic6\", \"Topic6\", \"Topic6\", \"Topic6\", \"Topic6\", \"Topic6\", \"Topic6\", \"Topic6\", \"Topic6\", \"Topic6\", \"Topic6\", \"Topic6\", \"Topic6\", \"Topic6\", \"Topic6\", \"Topic6\", \"Topic6\", \"Topic7\", \"Topic7\", \"Topic7\", \"Topic7\", \"Topic7\", \"Topic7\", \"Topic7\", \"Topic7\", \"Topic7\", \"Topic7\", \"Topic7\", \"Topic7\", \"Topic7\", \"Topic7\", \"Topic7\", \"Topic7\", \"Topic7\", \"Topic7\", \"Topic7\", \"Topic7\", \"Topic7\", \"Topic7\", \"Topic7\", \"Topic7\", \"Topic7\", \"Topic7\", \"Topic7\", \"Topic7\", \"Topic7\", \"Topic7\", \"Topic7\", \"Topic7\", \"Topic7\", \"Topic7\", \"Topic7\", \"Topic7\", \"Topic7\", \"Topic7\", \"Topic7\", \"Topic7\", \"Topic7\", \"Topic7\", \"Topic7\", \"Topic7\", \"Topic7\", \"Topic7\", \"Topic7\", \"Topic7\", \"Topic7\", \"Topic7\", \"Topic7\", \"Topic7\", \"Topic7\", \"Topic7\", \"Topic7\", \"Topic7\", \"Topic7\", \"Topic7\", \"Topic7\", \"Topic7\", \"Topic7\", \"Topic7\", \"Topic7\", \"Topic8\", \"Topic8\", \"Topic8\", \"Topic8\", \"Topic8\", \"Topic8\", \"Topic8\", \"Topic8\", \"Topic8\", \"Topic8\", \"Topic8\", \"Topic8\", \"Topic8\", \"Topic8\", \"Topic8\", \"Topic8\", \"Topic8\", \"Topic8\", \"Topic8\", \"Topic8\", \"Topic8\", \"Topic8\", \"Topic8\", \"Topic8\", \"Topic8\", \"Topic8\", \"Topic8\", \"Topic8\", \"Topic8\", \"Topic8\", \"Topic8\", \"Topic8\", \"Topic8\", \"Topic8\", \"Topic8\", \"Topic8\", \"Topic8\", \"Topic8\", \"Topic8\", \"Topic8\", \"Topic8\", \"Topic8\", \"Topic8\", \"Topic8\", \"Topic8\", \"Topic8\", \"Topic8\", \"Topic8\", \"Topic8\", \"Topic8\", \"Topic8\", \"Topic8\", \"Topic8\", \"Topic8\", \"Topic8\", \"Topic8\", \"Topic8\", \"Topic8\", \"Topic8\", \"Topic8\", \"Topic8\", \"Topic8\", \"Topic9\", \"Topic9\", \"Topic9\", \"Topic9\", \"Topic9\", \"Topic9\", \"Topic9\", \"Topic9\", \"Topic9\", \"Topic9\", \"Topic9\", \"Topic9\", \"Topic9\", \"Topic9\", \"Topic9\", \"Topic9\", \"Topic9\", \"Topic9\", \"Topic9\", \"Topic9\", \"Topic9\", \"Topic9\", \"Topic9\", \"Topic9\", \"Topic9\", \"Topic9\", \"Topic9\", \"Topic9\", \"Topic9\", \"Topic9\", \"Topic9\", \"Topic9\", \"Topic9\", \"Topic9\", \"Topic9\", \"Topic9\", \"Topic9\", \"Topic9\", \"Topic9\", \"Topic9\", \"Topic9\", \"Topic9\", \"Topic9\", \"Topic9\", \"Topic9\", \"Topic9\", \"Topic9\", \"Topic9\", \"Topic9\", \"Topic9\", \"Topic9\", \"Topic9\", \"Topic9\", \"Topic9\", \"Topic9\", \"Topic9\", \"Topic9\", \"Topic9\", \"Topic9\", \"Topic9\", \"Topic9\", \"Topic9\", \"Topic9\", \"Topic9\", \"Topic9\", \"Topic10\", \"Topic10\", \"Topic10\", \"Topic10\", \"Topic10\", \"Topic10\", \"Topic10\", \"Topic10\", \"Topic10\", \"Topic10\", \"Topic10\", \"Topic10\", \"Topic10\", \"Topic10\", \"Topic10\", \"Topic10\", \"Topic10\", \"Topic10\", \"Topic10\", \"Topic10\", \"Topic10\", \"Topic10\", \"Topic10\", \"Topic10\", \"Topic10\", \"Topic10\", \"Topic10\", \"Topic10\", \"Topic10\", \"Topic10\", \"Topic10\", \"Topic10\", \"Topic10\", \"Topic10\", \"Topic10\", \"Topic10\", \"Topic10\", \"Topic10\", \"Topic10\", \"Topic10\", \"Topic10\", \"Topic10\", \"Topic10\", \"Topic10\", \"Topic10\", \"Topic10\", \"Topic10\", \"Topic10\", \"Topic10\", \"Topic10\", \"Topic10\", \"Topic10\", \"Topic10\", \"Topic10\", \"Topic10\", \"Topic10\", \"Topic10\", \"Topic10\", \"Topic10\", \"Topic10\", \"Topic10\", \"Topic10\", \"Topic10\", \"Topic10\", \"Topic10\", \"Topic10\", \"Topic11\", \"Topic11\", \"Topic11\", \"Topic11\", \"Topic11\", \"Topic11\", \"Topic11\", \"Topic11\", \"Topic11\", \"Topic11\", \"Topic11\", \"Topic11\", \"Topic11\", \"Topic11\", \"Topic11\", \"Topic11\", \"Topic11\", \"Topic11\", \"Topic11\", \"Topic11\", \"Topic11\", \"Topic11\", \"Topic11\", \"Topic11\", \"Topic11\", \"Topic11\", \"Topic11\", \"Topic11\", \"Topic11\", \"Topic11\", \"Topic11\", \"Topic11\", \"Topic11\", \"Topic11\", \"Topic11\", \"Topic11\", \"Topic11\", \"Topic11\", \"Topic11\", \"Topic11\", \"Topic11\", \"Topic11\", \"Topic11\", \"Topic11\", \"Topic11\", \"Topic11\", \"Topic11\", \"Topic11\", \"Topic11\", \"Topic11\", \"Topic11\", \"Topic11\", \"Topic11\", \"Topic11\", \"Topic11\", \"Topic11\", \"Topic11\", \"Topic11\", \"Topic11\", \"Topic11\", \"Topic11\", \"Topic11\", \"Topic11\", \"Topic12\", \"Topic12\", \"Topic12\", \"Topic12\", \"Topic12\", \"Topic12\", \"Topic12\", \"Topic12\", \"Topic12\", \"Topic12\", \"Topic12\", \"Topic12\", \"Topic12\", \"Topic12\", \"Topic12\", \"Topic12\", \"Topic12\", \"Topic12\", \"Topic12\", \"Topic12\", \"Topic12\", \"Topic12\", \"Topic12\", \"Topic12\", \"Topic12\", \"Topic12\", \"Topic12\", \"Topic12\", \"Topic12\", \"Topic12\", \"Topic12\", \"Topic12\", \"Topic12\", \"Topic12\", \"Topic12\", \"Topic12\", \"Topic12\", \"Topic12\", \"Topic12\", \"Topic12\", \"Topic12\", \"Topic12\", \"Topic12\", \"Topic12\", \"Topic12\", \"Topic12\", \"Topic12\", \"Topic12\", \"Topic12\", \"Topic12\", \"Topic12\", \"Topic12\", \"Topic12\", \"Topic12\", \"Topic12\", \"Topic12\", \"Topic12\", \"Topic12\", \"Topic12\", \"Topic12\", \"Topic12\", \"Topic12\", \"Topic12\", \"Topic12\", \"Topic13\", \"Topic13\", \"Topic13\", \"Topic13\", \"Topic13\", \"Topic13\", \"Topic13\", \"Topic13\", \"Topic13\", \"Topic13\", \"Topic13\", \"Topic13\", \"Topic13\", \"Topic13\", \"Topic13\", \"Topic13\", \"Topic13\", \"Topic13\", \"Topic13\", \"Topic13\", \"Topic13\", \"Topic13\", \"Topic13\", \"Topic13\", \"Topic13\", \"Topic13\", \"Topic13\", \"Topic13\", \"Topic13\", \"Topic13\", \"Topic13\", \"Topic13\", \"Topic13\", \"Topic13\", \"Topic13\", \"Topic13\", \"Topic13\", \"Topic13\", \"Topic13\", \"Topic13\", \"Topic13\", \"Topic13\", \"Topic13\", \"Topic13\", \"Topic13\", \"Topic13\", \"Topic13\", \"Topic13\", \"Topic13\", \"Topic13\", \"Topic13\", \"Topic13\", \"Topic13\", \"Topic13\", \"Topic13\", \"Topic13\", \"Topic13\", \"Topic13\", \"Topic13\", \"Topic13\", \"Topic13\", \"Topic13\", \"Topic13\", \"Topic13\", \"Topic14\", \"Topic14\", \"Topic14\", \"Topic14\", \"Topic14\", \"Topic14\", \"Topic14\", \"Topic14\", \"Topic14\", \"Topic14\", \"Topic14\", \"Topic14\", \"Topic14\", \"Topic14\", \"Topic14\", \"Topic14\", \"Topic14\", \"Topic14\", \"Topic14\", \"Topic14\", \"Topic14\", \"Topic14\", \"Topic14\", \"Topic14\", \"Topic14\", \"Topic14\", \"Topic14\", \"Topic14\", \"Topic14\", \"Topic14\", \"Topic14\", \"Topic14\", \"Topic14\", \"Topic14\", \"Topic14\", \"Topic14\", \"Topic14\", \"Topic14\", \"Topic14\", \"Topic14\", \"Topic14\", \"Topic14\", \"Topic14\", \"Topic14\", \"Topic14\", \"Topic14\", \"Topic14\", \"Topic14\", \"Topic14\", \"Topic14\", \"Topic14\", \"Topic14\", \"Topic14\", \"Topic14\", \"Topic14\", \"Topic14\", \"Topic14\", \"Topic14\", \"Topic14\", \"Topic14\", \"Topic14\", \"Topic14\", \"Topic14\", \"Topic14\", \"Topic14\", \"Topic14\", \"Topic14\", \"Topic14\", \"Topic15\", \"Topic15\", \"Topic15\", \"Topic15\", \"Topic15\", \"Topic15\", \"Topic15\", \"Topic15\", \"Topic15\", \"Topic15\", \"Topic15\", \"Topic15\", \"Topic15\", \"Topic15\", \"Topic15\", \"Topic15\", \"Topic15\", \"Topic15\", \"Topic15\", \"Topic15\", \"Topic15\", \"Topic15\", \"Topic15\", \"Topic15\", \"Topic15\", \"Topic15\", \"Topic15\", \"Topic15\", \"Topic15\", \"Topic15\", \"Topic15\", \"Topic15\", \"Topic15\", \"Topic15\", \"Topic15\", \"Topic15\", \"Topic15\", \"Topic15\", \"Topic15\", \"Topic15\", \"Topic15\", \"Topic15\", \"Topic15\", \"Topic15\", \"Topic15\", \"Topic15\", \"Topic15\", \"Topic15\", \"Topic15\", \"Topic15\", \"Topic15\", \"Topic15\", \"Topic15\", \"Topic15\", \"Topic15\", \"Topic15\", \"Topic15\", \"Topic15\", \"Topic15\", \"Topic15\", \"Topic15\", \"Topic15\", \"Topic15\", \"Topic15\", \"Topic15\", \"Topic16\", \"Topic16\", \"Topic16\", \"Topic16\", \"Topic16\", \"Topic16\", \"Topic16\", \"Topic16\", \"Topic16\", \"Topic16\", \"Topic16\", \"Topic16\", \"Topic16\", \"Topic16\", \"Topic16\", \"Topic16\", \"Topic16\", \"Topic16\", \"Topic16\", \"Topic16\", \"Topic16\", \"Topic16\", \"Topic16\", \"Topic16\", \"Topic16\", \"Topic16\", \"Topic16\", \"Topic16\", \"Topic16\", \"Topic16\", \"Topic16\", \"Topic16\", \"Topic16\", \"Topic16\", \"Topic16\", \"Topic16\", \"Topic16\", \"Topic16\", \"Topic16\", \"Topic16\", \"Topic16\", \"Topic16\", \"Topic16\", \"Topic16\", \"Topic16\", \"Topic16\", \"Topic16\", \"Topic16\", \"Topic16\", \"Topic16\", \"Topic16\", \"Topic16\", \"Topic16\", \"Topic16\", \"Topic16\", \"Topic16\", \"Topic16\", \"Topic16\", \"Topic16\", \"Topic16\", \"Topic16\", \"Topic16\", \"Topic16\", \"Topic16\", \"Topic16\", \"Topic16\", \"Topic16\", \"Topic17\", \"Topic17\", \"Topic17\", \"Topic17\", \"Topic17\", \"Topic17\", \"Topic17\", \"Topic17\", \"Topic17\", \"Topic17\", \"Topic17\", \"Topic17\", \"Topic17\", \"Topic17\", \"Topic17\", \"Topic17\", \"Topic17\", \"Topic17\", \"Topic17\", \"Topic17\", \"Topic17\", \"Topic17\", \"Topic17\", \"Topic17\", \"Topic17\", \"Topic17\", \"Topic17\", \"Topic17\", \"Topic17\", \"Topic17\", \"Topic17\", \"Topic17\", \"Topic17\", \"Topic17\", \"Topic17\", \"Topic17\", \"Topic17\", \"Topic17\", \"Topic17\", \"Topic17\", \"Topic17\", \"Topic17\", \"Topic17\", \"Topic17\", \"Topic17\", \"Topic17\", \"Topic17\", \"Topic17\", \"Topic17\", \"Topic17\", \"Topic17\", \"Topic17\", \"Topic17\", \"Topic17\", \"Topic17\", \"Topic17\", \"Topic17\", \"Topic17\", \"Topic17\", \"Topic17\", \"Topic17\", \"Topic17\", \"Topic17\", \"Topic17\", \"Topic17\", \"Topic17\", \"Topic18\", \"Topic18\", \"Topic18\", \"Topic18\", \"Topic18\", \"Topic18\", \"Topic18\", \"Topic18\", \"Topic18\", \"Topic18\", \"Topic18\", \"Topic18\", \"Topic18\", \"Topic18\", \"Topic18\", \"Topic18\", \"Topic18\", \"Topic18\", \"Topic18\", \"Topic18\", \"Topic18\", \"Topic18\", \"Topic18\", \"Topic18\", \"Topic18\", \"Topic18\", \"Topic18\", \"Topic18\", \"Topic18\", \"Topic18\", \"Topic18\", \"Topic18\", \"Topic18\", \"Topic18\", \"Topic18\", \"Topic18\", \"Topic18\", \"Topic18\", \"Topic18\", \"Topic18\", \"Topic18\", \"Topic18\", \"Topic18\", \"Topic18\", \"Topic18\", \"Topic18\", \"Topic18\", \"Topic18\", \"Topic18\", \"Topic18\", \"Topic18\", \"Topic18\", \"Topic18\", \"Topic18\", \"Topic18\", \"Topic18\", \"Topic18\", \"Topic18\", \"Topic18\", \"Topic18\", \"Topic18\", \"Topic18\", \"Topic18\", \"Topic18\", \"Topic18\", \"Topic18\", \"Topic18\", \"Topic18\", \"Topic19\", \"Topic19\", \"Topic19\", \"Topic19\", \"Topic19\", \"Topic19\", \"Topic19\", \"Topic19\", \"Topic19\", \"Topic19\", \"Topic19\", \"Topic19\", \"Topic19\", \"Topic19\", \"Topic19\", \"Topic19\", \"Topic19\", \"Topic19\", \"Topic19\", \"Topic19\", \"Topic19\", \"Topic19\", \"Topic19\", \"Topic19\", \"Topic19\", \"Topic19\", \"Topic19\", \"Topic19\", \"Topic19\", \"Topic19\", \"Topic19\", \"Topic19\", \"Topic19\", \"Topic19\", \"Topic19\", \"Topic19\", \"Topic19\", \"Topic19\", \"Topic19\", \"Topic19\", \"Topic19\", \"Topic19\", \"Topic19\", \"Topic19\", \"Topic19\", \"Topic19\", \"Topic19\", \"Topic19\", \"Topic19\", \"Topic19\", \"Topic19\", \"Topic19\", \"Topic19\", \"Topic19\", \"Topic19\", \"Topic19\", \"Topic19\", \"Topic19\", \"Topic19\", \"Topic19\", \"Topic19\", \"Topic19\", \"Topic19\", \"Topic19\", \"Topic19\", \"Topic19\", \"Topic19\", \"Topic19\", \"Topic19\", \"Topic19\", \"Topic19\", \"Topic20\", \"Topic20\", \"Topic20\", \"Topic20\", \"Topic20\", \"Topic20\", \"Topic20\", \"Topic20\", \"Topic20\", \"Topic20\", \"Topic20\", \"Topic20\", \"Topic20\", \"Topic20\", \"Topic20\", \"Topic20\", \"Topic20\", \"Topic20\", \"Topic20\", \"Topic20\", \"Topic20\", \"Topic20\", \"Topic20\", \"Topic20\", \"Topic20\", \"Topic20\", \"Topic20\", \"Topic20\", \"Topic20\", \"Topic20\", \"Topic20\", \"Topic20\", \"Topic20\", \"Topic20\", \"Topic20\", \"Topic20\", \"Topic20\", \"Topic20\", \"Topic20\", \"Topic20\", \"Topic20\", \"Topic20\", \"Topic20\", \"Topic20\", \"Topic20\", \"Topic20\", \"Topic20\", \"Topic20\", \"Topic20\", \"Topic20\", \"Topic20\", \"Topic20\", \"Topic20\", \"Topic20\", \"Topic20\", \"Topic20\", \"Topic20\", \"Topic20\", \"Topic20\", \"Topic20\", \"Topic20\", \"Topic20\", \"Topic20\", \"Topic20\", \"Topic20\", \"Topic20\", \"Topic20\", \"Topic20\", \"Topic20\", \"Topic20\"], \"Freq\": [25.0, 19.0, 19.0, 17.0, 16.0, 15.0, 13.0, 13.0, 12.0, 11.0, 11.0, 10.0, 10.0, 10.0, 9.0, 9.0, 8.0, 8.0, 8.0, 7.0, 7.0, 7.0, 6.0, 6.0, 5.0, 5.0, 5.0, 5.0, 4.0, 4.0, 25.41649627685547, 19.558378219604492, 19.561174392700195, 17.61338233947754, 16.635173797607422, 15.65978717803955, 13.706491470336914, 13.706472396850586, 12.732186317443848, 11.755481719970703, 11.75550651550293, 10.779561996459961, 10.779706001281738, 10.7780179977417, 9.80480670928955, 9.802995681762695, 8.829547882080078, 8.827863693237305, 8.82778549194336, 7.853003978729248, 7.852023601531982, 7.852170944213867, 6.877963542938232, 6.876247882843018, 5.903117656707764, 5.901492595672607, 5.901269435882568, 5.9008612632751465, 4.929843425750732, 4.927803993225098, 4.1251929360441864e-05, 4.122608879697509e-05, 4.122706377529539e-05, 4.1218590922653675e-05, 4.119915683986619e-05, 4.119838558835909e-05, 4.119428194826469e-05, 4.1199713450623676e-05, 4.118671131436713e-05, 4.11803339375183e-05, 4.117978460271843e-05, 4.117263597436249e-05, 4.11788460041862e-05, 4.116960917599499e-05, 4.1164439608110115e-05, 4.11489381804131e-05, 4.113105023861863e-05, 4.1103055991698056e-05, 4.111763337277807e-05, 4.110601366846822e-05, 4.110097870579921e-05, 4.109110523131676e-05, 4.108592474949546e-05, 4.108690336579457e-05, 4.1088020225288346e-05, 4.1076538764173165e-05, 4.1081515519181266e-05, 4.10739412473049e-05, 4.107589484192431e-05, 4.107907443540171e-05, 4.108111170353368e-05, 4.108533539692871e-05, 5.826276174047962e-05, 6.0513360949698836e-05, 5.645378405461088e-05, 5.668851008522324e-05, 5.675731154042296e-05, 5.1165879995096475e-05, 5.403537943493575e-05, 5.0336271669948474e-05, 4.833566345041618e-05, 4.8997717385645956e-05, 4.927586633129977e-05, 4.954703399562277e-05, 4.778478978550993e-05, 4.837080996367149e-05, 4.8859194066608325e-05, 4.8926027375273407e-05, 4.7645669837947935e-05, 4.786299541592598e-05, 4.770427767653018e-05, 4.70906488772016e-05, 4.595314749167301e-05, 4.577562503982335e-05, 4.53481225122232e-05, 4.616544538293965e-05, 4.5840006350772455e-05, 4.472753789741546e-05, 4.418359822011553e-05, 4.490537321544252e-05, 4.4750959204975516e-05, 4.4390875700628385e-05, 4.441434793989174e-05, 4.140951932640746e-05, 4.1309980588266626e-05, 4.1301864257548004e-05, 4.130399975110777e-05, 4.129184890189208e-05, 4.1285602492280304e-05, 4.1279210563516244e-05, 4.1270865040132776e-05, 4.1280662117060274e-05, 4.126280691707507e-05, 4.124810948269442e-05, 4.124350380152464e-05, 4.123355392948724e-05, 4.123775943298824e-05, 4.1235391108784825e-05, 4.123089092900045e-05, 4.123928374610841e-05, 4.12085501011461e-05, 4.120991798117757e-05, 4.121500751352869e-05, 4.121357051189989e-05, 4.12083936680574e-05, 4.1207884351024404e-05, 4.120453741052188e-05, 4.1204417357221246e-05, 4.1200728446710855e-05, 4.120231096749194e-05, 4.1192608478013426e-05, 4.119391815038398e-05, 4.118619472137652e-05, 4.120179437450133e-05, 4.11939290643204e-05, 6.009013668517582e-05, 5.187842543818988e-05, 5.24037895957008e-05, 5.1337603508727625e-05, 5.024165511713363e-05, 4.959072248311713e-05, 5.1261398766655475e-05, 4.910863208351657e-05, 4.978177457815036e-05, 4.973891191184521e-05, 4.979422737960704e-05, 4.76149252790492e-05, 4.8003654228523374e-05, 4.69122824142687e-05, 4.795745917363092e-05, 4.714972237707116e-05, 4.658934994949959e-05, 4.6715449570911005e-05, 4.560343222692609e-05, 4.80297785543371e-05, 4.5956152462167665e-05, 4.5329939894145355e-05, 4.4402720959624276e-05, 4.4648160837823525e-05, 4.546682248474099e-05, 4.325447298469953e-05, 4.3701729737222195e-05, 4.395085488795303e-05, 4.394061761558987e-05, 4.405765503179282e-05, 4.369595262687653e-05, 4.387347144074738e-05, 4.383245686767623e-05, 4.137227369938046e-05, 4.13675770687405e-05, 4.13577254221309e-05, 4.1352050175191835e-05, 4.135056951781735e-05, 4.132619869778864e-05, 4.132241156185046e-05, 4.1301627788925543e-05, 4.129408989683725e-05, 4.130211164010689e-05, 4.1297345887869596e-05, 4.128255750401877e-05, 4.129348963033408e-05, 4.128646833123639e-05, 4.128168075112626e-05, 4.128958244109526e-05, 4.127407737541944e-05, 4.128248110646382e-05, 4.127418651478365e-05, 4.128888758714311e-05, 4.127829015487805e-05, 4.1280214645667e-05, 4.127055581193417e-05, 4.126445128349587e-05, 4.127146894461475e-05, 4.126686690142378e-05, 4.1270566725870594e-05, 4.126305793761276e-05, 4.126206476939842e-05, 4.1268176573794335e-05, 4.127236024942249e-05, 4.1264822357334197e-05, 5.3034636948723346e-05, 5.12597689521499e-05, 5.134747698321007e-05, 5.057704038335942e-05, 4.954309406457469e-05, 4.9667549319565296e-05, 4.90836137032602e-05, 4.8986436013365164e-05, 4.762040407513268e-05, 4.7334884584415704e-05, 4.735289985546842e-05, 4.6693021431565285e-05, 4.7001030907267705e-05, 4.701901343651116e-05, 4.660613558371551e-05, 4.6562414354411885e-05, 4.5531309297075495e-05, 4.511646329774521e-05, 4.376631113700569e-05, 4.257111140759662e-05, 4.3983258365187794e-05, 4.516189801506698e-05, 4.48885366495233e-05, 4.394252027850598e-05, 4.453886140254326e-05, 4.3800664570881054e-05, 4.347138383309357e-05, 4.394502684590407e-05, 4.399539466248825e-05, 4.325106419855729e-05, 4.4133728806627914e-05, 4.381655162433162e-05, 4.360728416941129e-05, 4.141838871873915e-05, 4.1389703255845234e-05, 4.1376002627657726e-05, 4.135030758334324e-05, 4.135284689255059e-05, 4.135214112466201e-05, 4.134422488277778e-05, 4.133540642214939e-05, 4.1329170926474035e-05, 4.133271795581095e-05, 4.1316750866826624e-05, 4.131513924221508e-05, 4.1302377212559804e-05, 4.130337038077414e-05, 4.130860179429874e-05, 4.131007881369442e-05, 4.130585875827819e-05, 4.1295334085589275e-05, 4.127539796172641e-05, 4.127943975618109e-05, 4.128851287532598e-05, 4.128482396481559e-05, 4.128070213482715e-05, 4.128613727516495e-05, 4.12803165090736e-05, 4.127423380850814e-05, 4.127273859921843e-05, 4.126971180085093e-05, 4.127300053369254e-05, 4.127447755308822e-05, 4.1271778172813356e-05, 5.517108002095483e-05, 5.0134600314777344e-05, 4.8780901124700904e-05, 4.88959631184116e-05, 4.961155354976654e-05, 4.956622433383018e-05, 4.9065729399444535e-05, 4.710962457465939e-05, 4.6125351218506694e-05, 4.646916568162851e-05, 4.6247714635683224e-05, 4.7188739699777216e-05, 4.6851524530211464e-05, 4.631799311027862e-05, 4.532815728452988e-05, 4.5660464820684865e-05, 4.423132850206457e-05, 4.454720328794792e-05, 4.476631147554144e-05, 4.514545071288012e-05, 4.410316250869073e-05, 4.557549982564524e-05, 4.478412665775977e-05, 4.4939006329514086e-05, 4.4961638195673004e-05, 4.4194108340889215e-05, 4.393159179016948e-05, 4.4360429455991834e-05, 4.383582199807279e-05, 4.3524312786757946e-05, 4.3718417146010324e-05, 4.3788681068690494e-05, 4.138684016652405e-05, 4.136903953622095e-05, 4.138069925829768e-05, 4.1375140426680446e-05, 4.136112329433672e-05, 4.137006908422336e-05, 4.1354640416102484e-05, 4.134391201660037e-05, 4.134600021643564e-05, 4.1344406781718135e-05, 4.134297705604695e-05, 4.1335537389386445e-05, 4.13470552302897e-05, 4.132882895646617e-05, 4.1337214497616515e-05, 4.13376183132641e-05, 4.1329807572765276e-05, 4.133116817683913e-05, 4.131770765525289e-05, 4.133941911277361e-05, 4.1340426832903177e-05, 4.132810499868356e-05, 4.13156085414812e-05, 4.131610330659896e-05, 4.131392779527232e-05, 4.1326507925987244e-05, 4.1324954509036615e-05, 4.1313945985166356e-05, 4.131551395403221e-05, 4.13040688727051e-05, 4.130887828068808e-05, 4.131030436838046e-05, 4.1312796383863315e-05, 5.0619160901987925e-05, 5.1163391617592424e-05, 5.013243935536593e-05, 4.895375241176225e-05, 4.735999391414225e-05, 4.7320387238869444e-05, 4.7660705604357645e-05, 4.711983274319209e-05, 4.725590770249255e-05, 4.5929260522825643e-05, 4.593070480041206e-05, 4.558269210974686e-05, 4.500324939726852e-05, 4.526068369159475e-05, 4.457443719729781e-05, 4.4795793655794114e-05, 4.469352279556915e-05, 4.411676854942925e-05, 4.440923294168897e-05, 4.3784715671790764e-05, 4.49027975264471e-05, 4.3518073653103784e-05, 4.284558235667646e-05, 4.386217551655136e-05, 4.364968845038675e-05, 4.337973950896412e-05, 4.416470983414911e-05, 4.423969949129969e-05, 4.4015043386025354e-05, 4.358212754596025e-05, 4.318256105761975e-05, 4.3349977204343304e-05, 4.143912883591838e-05, 4.142014586250298e-05, 4.142004036111757e-05, 4.140777309658006e-05, 4.1398816392757e-05, 4.140618329984136e-05, 4.139997690799646e-05, 4.137941505177878e-05, 4.1375267755938694e-05, 4.1382845665793866e-05, 4.137657742830925e-05, 4.1361592593602836e-05, 4.1365670767845586e-05, 4.135874769417569e-05, 4.1352675907546654e-05, 4.137022915529087e-05, 4.135260678594932e-05, 4.135191556997597e-05, 4.135207200306468e-05, 4.135425479034893e-05, 4.134959090151824e-05, 4.13560337619856e-05, 4.135226481594145e-05, 4.1341816540807486e-05, 4.134658593102358e-05, 4.1347320802742615e-05, 4.132792673772201e-05, 4.1345982026541606e-05, 4.133615948376246e-05, 4.133994661970064e-05, 4.1339619201608e-05, 4.1340816096635535e-05, 4.9663634854368865e-05, 5.0268896302441135e-05, 4.934963726554997e-05, 4.704877210315317e-05, 4.8182180762523785e-05, 4.696697578765452e-05, 4.692054426413961e-05, 4.5587388740386814e-05, 4.5394073822535574e-05, 4.560160596156493e-05, 4.56394518550951e-05, 4.55872796010226e-05, 4.4663298467639834e-05, 4.487463957048021e-05, 4.4663247535936534e-05, 4.504142634687014e-05, 4.386393629829399e-05, 4.416412775753997e-05, 4.376195283839479e-05, 4.407326196087524e-05, 4.4521319068735465e-05, 4.396178701426834e-05, 4.384032581583597e-05, 4.359337981441058e-05, 4.335396079113707e-05, 4.329688454163261e-05, 4.30825020885095e-05, 4.288089257897809e-05, 4.333014294388704e-05, 4.3001873564207926e-05, 4.3480184103827924e-05, 4.145834100199863e-05, 4.144025660934858e-05, 4.1435734601691365e-05, 4.142869511269964e-05, 4.14137466577813e-05, 4.141581666772254e-05, 4.141581302974373e-05, 4.140285454923287e-05, 4.1405714000575244e-05, 4.140782402828336e-05, 4.139446173212491e-05, 4.139194788876921e-05, 4.1390801925444975e-05, 4.137953510507941e-05, 4.137762152822688e-05, 4.137730138609186e-05, 4.1369774407939985e-05, 4.137751238886267e-05, 4.1360493924003094e-05, 4.136122151976451e-05, 4.138267831876874e-05, 4.1361545299878344e-05, 4.136537972954102e-05, 4.135416747885756e-05, 4.135605558985844e-05, 4.136228744755499e-05, 4.1368697566213086e-05, 4.135970812058076e-05, 4.134631672059186e-05, 4.136106508667581e-05, 4.135487324674614e-05, 4.927373811369762e-05, 4.9453585234005004e-05, 5.008352309232578e-05, 4.910262578050606e-05, 4.740488657262176e-05, 4.56395027867984e-05, 4.575920684146695e-05, 4.544437615550123e-05, 4.490422361413948e-05, 4.519800131674856e-05, 4.437943425728008e-05, 4.526509655988775e-05, 4.396349686430767e-05, 4.4626307499129325e-05, 4.44939432782121e-05, 4.389192326925695e-05, 4.451693530427292e-05, 4.417807576828636e-05, 4.396190706756897e-05, 4.4280670408625156e-05, 4.37796043115668e-05, 4.38062270404771e-05, 4.369899761513807e-05, 4.2998461140086874e-05, 4.3075804569525644e-05, 4.319263462093659e-05, 4.3177202314836904e-05, 4.2812327592400834e-05, 4.294278551242314e-05, 4.290336073609069e-05, 4.325342524680309e-05, 4.140704913879745e-05, 4.141520548728295e-05, 4.142141915508546e-05, 4.14066671510227e-05, 4.138824078836478e-05, 4.1387149394722655e-05, 4.138821896049194e-05, 4.137356881983578e-05, 4.137921132496558e-05, 4.138265285291709e-05, 4.137019641348161e-05, 4.1367675294168293e-05, 4.136300049140118e-05, 4.137271025683731e-05, 4.137042196816765e-05, 4.13542366004549e-05, 4.136406641919166e-05, 4.1355615394422784e-05, 4.135908602620475e-05, 4.137051655561663e-05, 4.136173811275512e-05, 4.134302071179263e-05, 4.135459312237799e-05, 4.135353083256632e-05, 4.1353661799803376e-05, 4.135271956329234e-05, 4.1355327994097024e-05, 4.1354189306730404e-05, 4.1350274841533974e-05, 4.135400740779005e-05, 4.1355066059622914e-05, 4.1353938286192715e-05, 4.879742846242152e-05, 4.898919723927975e-05, 4.76932073070202e-05, 4.706307299784385e-05, 4.6722590923309326e-05, 4.7114248445723206e-05, 4.671476563089527e-05, 4.6018987632123753e-05, 4.616475780494511e-05, 4.528055796981789e-05, 4.5706146920565516e-05, 4.4706001062877476e-05, 4.500746217672713e-05, 4.4656953832600266e-05, 4.4705153413815424e-05, 4.4333108235150576e-05, 4.364543565316126e-05, 4.417294621816836e-05, 4.357470606919378e-05, 4.383769555715844e-05, 4.354845441412181e-05, 4.3241347157163545e-05, 4.3485775677254423e-05, 4.306053961045109e-05, 4.328614522819407e-05, 4.3282929254928604e-05, 4.269056807970628e-05, 4.2677827877923846e-05, 4.2859723180299625e-05, 4.207192250760272e-05, 4.2824449337786064e-05, 4.278960113879293e-05, 4.2952979129040614e-05, 4.14620699302759e-05, 4.141242243349552e-05, 4.140470264246687e-05, 4.140849705436267e-05, 4.140585588174872e-05, 4.140643068240024e-05, 4.139854354434647e-05, 4.138538861298002e-05, 4.1394279833184555e-05, 4.13811685575638e-05, 4.136900679441169e-05, 4.1380306356586516e-05, 4.138675649301149e-05, 4.1385723307030275e-05, 4.138136864639819e-05, 4.13895322708413e-05, 4.138067743042484e-05, 4.137995347264223e-05, 4.137264477321878e-05, 4.137733776587993e-05, 4.138807344133966e-05, 4.136981806368567e-05, 4.136524876230396e-05, 4.136764255235903e-05, 4.138375516049564e-05, 4.136591451242566e-05, 4.135872586630285e-05, 4.1365849028807133e-05, 4.135260678594932e-05, 4.13573179685045e-05, 4.136817005928606e-05, 4.1371302359038964e-05, 4.1363306081620976e-05, 4.975180854671635e-05, 4.798339068656787e-05, 4.690663263318129e-05, 4.586530849337578e-05, 4.657546378439292e-05, 4.598001032718457e-05, 4.571158206090331e-05, 4.523727693594992e-05, 4.495292523643002e-05, 4.568699296214618e-05, 4.510476719588041e-05, 4.424919097800739e-05, 4.486044417717494e-05, 4.413043279782869e-05, 4.4039621570846066e-05, 4.368093141238205e-05, 4.376335709821433e-05, 4.403090133564547e-05, 4.38461393059697e-05, 4.362064282759093e-05, 4.343741966295056e-05, 4.321031519793905e-05, 4.3606687540886924e-05, 4.3353076762286946e-05, 4.3833410018123686e-05, 4.3162202928215265e-05, 4.295149483368732e-05, 4.239669942762703e-05, 4.260469722794369e-05, 4.339148654253222e-05, 4.2767820559674874e-05, 4.2832791223190725e-05, 4.2898074752883986e-05, 4.143611658946611e-05, 4.1433897422393784e-05, 4.141241515753791e-05, 4.141795579926111e-05, 4.1410017729504034e-05, 4.141272438573651e-05, 4.139755037613213e-05, 4.139405791647732e-05, 4.139075826969929e-05, 4.1384661017218605e-05, 4.1388550016563386e-05, 4.137902942602523e-05, 4.138156145927496e-05, 4.137893847655505e-05, 4.1383034840691835e-05, 4.13734233006835e-05, 4.138267831876874e-05, 4.138847361900844e-05, 4.137745054322295e-05, 4.137182986596599e-05, 4.137613723287359e-05, 4.136714414926246e-05, 4.1363269701832905e-05, 4.137791620451026e-05, 4.137755968258716e-05, 4.137095675105229e-05, 4.1384148062206805e-05, 4.1358292946824804e-05, 4.1368271922692657e-05, 4.137266660109162e-05, 4.136334246140905e-05, 5.045639773015864e-05, 4.87800789414905e-05, 4.736372648039833e-05, 4.690794594353065e-05, 4.701624493463896e-05, 4.615026409737766e-05, 4.595426798914559e-05, 4.506135155679658e-05, 4.5125503675080836e-05, 4.499165515881032e-05, 4.431799243320711e-05, 4.431412526173517e-05, 4.46547128376551e-05, 4.4194508518557996e-05, 4.377137156552635e-05, 4.420206823851913e-05, 4.411257032188587e-05, 4.390221511130221e-05, 4.378604353405535e-05, 4.346972855273634e-05, 4.3584783270489424e-05, 4.32928281952627e-05, 4.311930752010085e-05, 4.272907608537935e-05, 4.284197711967863e-05, 4.324176916270517e-05, 4.2821906390599906e-05, 4.2616145947249606e-05, 4.27852755819913e-05, 4.321563756093383e-05, 4.314296893426217e-05, 4.274324601283297e-05, 4.144540071138181e-05, 4.1430645069340244e-05, 4.141958925174549e-05, 4.143291516811587e-05, 4.140743112657219e-05, 4.141142198932357e-05, 4.1407700337003917e-05, 4.140786040807143e-05, 4.140045348322019e-05, 4.140243981964886e-05, 4.138759686611593e-05, 4.140131568419747e-05, 4.139037991990335e-05, 4.140269447816536e-05, 4.138561780564487e-05, 4.138381700613536e-05, 4.1395192965865135e-05, 4.138133590458892e-05, 4.138541771681048e-05, 4.138882286497392e-05, 4.138411532039754e-05, 4.1378567402716726e-05, 4.138660369790159e-05, 4.1383424104424194e-05, 4.1374001739313826e-05, 4.137056748731993e-05, 4.138039003009908e-05, 4.137218274991028e-05, 4.136794086662121e-05, 4.137654832447879e-05, 4.137536961934529e-05, 4.1372564737685025e-05, 5.017703369958326e-05, 5.0141803512815386e-05, 4.638284372049384e-05, 4.668373730964959e-05, 4.5946508180350065e-05, 4.514021929935552e-05, 4.5428485464071855e-05, 4.478177288547158e-05, 4.4887234253110364e-05, 4.455958696780726e-05, 4.450613050721586e-05, 4.493647429626435e-05, 4.453288420336321e-05, 4.429733962751925e-05, 4.4054344471078366e-05, 4.410963811096735e-05, 4.3718504457501695e-05, 4.329904186306521e-05, 4.371621980681084e-05, 4.301348599256016e-05, 4.31965381721966e-05, 4.2888670577667654e-05, 4.28724342782516e-05, 4.2869967728620395e-05, 4.3357744289096445e-05, 4.236500899423845e-05, 4.2787869460880756e-05, 4.309925498091616e-05, 4.2995532567147166e-05, 4.300925866118632e-05, 4.284953683963977e-05, 4.283510861569084e-05, 4.146748688071966e-05, 4.149410597165115e-05, 4.143943442613818e-05, 4.1429342672927305e-05, 4.144576087128371e-05, 4.1427018004469573e-05, 4.141142562730238e-05, 4.1424875234952196e-05, 4.141654062550515e-05, 4.142310717725195e-05, 4.1405099182156846e-05, 4.1407776734558865e-05, 4.141483441344462e-05, 4.1428418626310304e-05, 4.140739838476293e-05, 4.1411254642298445e-05, 4.140774763072841e-05, 4.1397743189008906e-05, 4.140206874581054e-05, 4.142245961702429e-05, 4.1398121538804844e-05, 4.1396633605472744e-05, 4.140708551858552e-05, 4.140285818721168e-05, 4.138987060287036e-05, 4.138889198657125e-05, 4.1398932808078825e-05, 4.139449811191298e-05, 4.138863005209714e-05, 4.139269367442466e-05, 4.13916859542951e-05, 4.139265001867898e-05, 4.139323937124573e-05, 4.6470337110804394e-05, 4.681940845330246e-05, 4.6091299736872315e-05, 4.5811637392034754e-05, 4.528365025180392e-05, 4.4745906052412465e-05, 4.505836477619596e-05, 4.465082747628912e-05, 4.439500116859563e-05, 4.430573608260602e-05, 4.43408680439461e-05, 4.401206024340354e-05, 4.4085456465836614e-05, 4.379323945613578e-05, 4.2972802475560457e-05, 4.3965806980850175e-05, 4.328251088736579e-05, 4.329525836510584e-05, 4.326366615714505e-05, 4.327022179495543e-05, 4.312393502914347e-05, 4.2950399802066386e-05, 4.285771865397692e-05, 4.3004765757359564e-05, 4.272758451406844e-05, 4.2709889385150746e-05, 4.278652704670094e-05, 4.2749757994897664e-05, 4.2792198655661196e-05, 4.2600240703905e-05, 4.260235436959192e-05, 4.145254933973774e-05, 4.144387276028283e-05, 4.1453396988799796e-05, 4.1431492718402296e-05, 4.1436436731601134e-05, 4.143576734350063e-05, 4.142777106608264e-05, 4.142449324717745e-05, 4.143779005971737e-05, 4.1423812945140526e-05, 4.141925091971643e-05, 4.142098987358622e-05, 4.141869067098014e-05, 4.142383113503456e-05, 4.142765101278201e-05, 4.142523175687529e-05, 4.1433118894929066e-05, 4.142663237871602e-05, 4.141670069657266e-05, 4.141814133618027e-05, 4.1411003621760756e-05, 4.1398860048502684e-05, 4.142193211009726e-05, 4.1412131395190954e-05, 4.140922465012409e-05, 4.1405201045563444e-05, 4.1410065023228526e-05, 4.1415434679947793e-05, 4.140760574955493e-05, 4.141170938964933e-05, 4.1411167330807075e-05, 4.141446697758511e-05, 4.141084718867205e-05, 4.1412982682231814e-05, 4.1410756239201874e-05, 4.5403980038827285e-05, 4.531015292741358e-05, 4.476447793422267e-05, 4.462297511054203e-05, 4.43419958173763e-05, 4.3914020352531224e-05, 4.346590503701009e-05, 4.343713590060361e-05, 4.329002695158124e-05, 4.330407682573423e-05, 4.291387813282199e-05, 4.304005051380955e-05, 4.3112053390359506e-05, 4.316689955885522e-05, 4.289851131034084e-05, 4.280157736502588e-05, 4.272889418643899e-05, 4.254507803125307e-05, 4.2389972804812714e-05, 4.226860619382933e-05, 4.243733565090224e-05, 4.222434290568344e-05, 4.211776104057208e-05, 4.2451967601664364e-05, 4.209332837490365e-05, 4.207781967124902e-05, 4.2241226765327156e-05, 4.216132219880819e-05, 4.223364157951437e-05, 4.215578883304261e-05, 4.247193646733649e-05, 4.234107109368779e-05, 4.2260042391717434e-05, 4.143735350226052e-05, 4.144976264797151e-05, 4.1437884647166356e-05, 4.142767647863366e-05, 4.143332625972107e-05, 4.1439710912527516e-05, 4.143706610193476e-05, 4.142510806559585e-05, 4.1423263610340655e-05, 4.143181649851613e-05, 4.142997568123974e-05, 4.1422888898523524e-05, 4.14262103731744e-05, 4.1415332816541195e-05, 4.1415682062506676e-05, 4.1412378777749836e-05, 4.140826786169782e-05, 4.141466342844069e-05, 4.142007674090564e-05, 4.14184651162941e-05, 4.1422852518735453e-05, 4.1421637433813885e-05, 4.142869875067845e-05, 4.139585871598683e-05, 4.1406376112718135e-05, 4.140912278671749e-05, 4.141449971939437e-05, 4.140180317335762e-05, 4.1417857573833317e-05, 4.140595774515532e-05, 4.141701720072888e-05, 4.1415743908146396e-05, 4.1412255086470395e-05, 4.140975943300873e-05, 4.4972643081564456e-05, 4.460176933207549e-05, 4.4729193177772686e-05, 4.353061012807302e-05, 4.358646765467711e-05, 4.362537220004015e-05, 4.351788084022701e-05, 4.33487439295277e-05, 4.334383629611693e-05, 4.317751154303551e-05, 4.3397732952144e-05, 4.3187101255171e-05, 4.298988642403856e-05, 4.301956869312562e-05, 4.3074778659502044e-05, 4.2936590034514666e-05, 4.2771273001562804e-05, 4.2764953832374886e-05, 4.275835453881882e-05, 4.2662231862777844e-05, 4.2645591747714207e-05, 4.2341926018707454e-05, 4.253289444022812e-05, 4.2493233195273206e-05, 4.25493017246481e-05, 4.2219824536005035e-05, 4.2271251004422083e-05, 4.2160419980064034e-05, 4.192191772744991e-05, 4.2125819163629785e-05, 4.2120303987758234e-05, 4.1470986616332084e-05, 4.144660852034576e-05, 4.1436236642766744e-05, 4.143831392866559e-05, 4.144131162320264e-05, 4.142114266869612e-05, 4.1431580029893667e-05, 4.1431580029893667e-05, 4.1418636101298034e-05, 4.1424114897381514e-05, 4.1415307350689545e-05, 4.1429906559642404e-05, 4.142833859077655e-05, 4.141478711972013e-05, 4.140720557188615e-05, 4.142889520153403e-05, 4.14260575780645e-05, 4.141462704865262e-05, 4.143063779338263e-05, 4.1421626519877464e-05, 4.141826866543852e-05, 4.142673424212262e-05, 4.1419909393880516e-05, 4.141654062550515e-05, 4.141580211580731e-05, 4.1420949855819345e-05, 4.1420826164539903e-05, 4.140922101214528e-05, 4.1416671592742205e-05, 4.140868622926064e-05, 4.1424365917919204e-05, 4.1410967241972685e-05, 4.141281533520669e-05, 4.1412578866584226e-05, 4.4607608288060874e-05, 4.4753574911737815e-05, 4.422839992912486e-05, 4.406553853186779e-05, 4.386218643048778e-05, 4.437892494024709e-05, 4.3519572500372306e-05, 4.339571751188487e-05, 4.335645280661993e-05, 4.3016298150178045e-05, 4.2973104427801445e-05, 4.291822551749647e-05, 4.284394162823446e-05, 4.288826312404126e-05, 4.2591716919559985e-05, 4.277353946235962e-05, 4.261529466020875e-05, 4.270874342182651e-05, 4.224415170028806e-05, 4.219135735183954e-05, 4.207924212096259e-05, 4.2408424633322284e-05, 4.239275585860014e-05, 4.202453783364035e-05, 4.202318086754531e-05, 4.201290357741527e-05, 4.229019396007061e-05, 4.220676055410877e-05, 4.210574843455106e-05, 4.209075268590823e-05, 4.207265010336414e-05, 4.207179517834447e-05, 4.204491415293887e-05, 4.1438997868681327e-05, 4.143977275816724e-05, 4.142760008107871e-05, 4.1437950130784884e-05, 4.143814294366166e-05, 4.143815385759808e-05, 4.1432969737797976e-05, 4.1421673813601956e-05, 4.142549732932821e-05, 4.141885438002646e-05, 4.14271344197914e-05, 4.142949910601601e-05, 4.141262616030872e-05, 4.141706813243218e-05, 4.142268153373152e-05, 4.1415409214096144e-05, 4.141819954384118e-05, 4.1423852962907404e-05, 4.142152101849206e-05, 4.141616227570921e-05, 4.141129829804413e-05, 4.141771205468103e-05, 4.142194666201249e-05, 4.141263343626633e-05, 4.141511453781277e-05, 4.141526733292267e-05, 4.139841257710941e-05, 4.141525278100744e-05, 4.1428978875046596e-05, 4.1406474338145927e-05, 4.142262332607061e-05, 4.14189780713059e-05, 4.141526005696505e-05, 4.4787488150177523e-05, 4.424019425641745e-05, 4.410976907820441e-05, 4.336744314059615e-05, 4.340961095294915e-05, 4.3346197344362736e-05, 4.301233639125712e-05, 4.313205135986209e-05, 4.298157728044316e-05, 4.2932599171763286e-05, 4.306283517507836e-05, 4.272123260307126e-05, 4.251685459166765e-05, 4.258548142388463e-05, 4.2662966734496877e-05, 4.2620900785550475e-05, 4.272858132026158e-05, 4.26817532570567e-05, 4.253574297763407e-05, 4.2468993342481554e-05, 4.2542520532151684e-05, 4.2283820221200585e-05, 4.2197545553790405e-05, 4.2185325582977384e-05, 4.224927397444844e-05, 4.2069266783073545e-05, 4.2338473576819524e-05, 4.212466228636913e-05, 4.2006122384918854e-05, 4.2173593101324514e-05, 4.2215258872602135e-05, 4.217565219732933e-05, 4.217129389871843e-05, 4.142766192671843e-05, 4.140245437156409e-05, 4.140921373618767e-05, 4.141210956731811e-05, 4.1407187381992117e-05, 4.1409890400245786e-05, 4.1397230233997107e-05, 4.141426688875072e-05, 4.140706005273387e-05, 4.140160308452323e-05, 4.14027163060382e-05, 4.140300734434277e-05, 4.140203236602247e-05, 4.1394181607756764e-05, 4.1401097405469045e-05, 4.138598887948319e-05, 4.139351949561387e-05, 4.1403272916795686e-05, 4.139986776863225e-05, 4.1407325625186786e-05, 4.139719749218784e-05, 4.139699012739584e-05, 4.138988515478559e-05, 4.140150122111663e-05, 4.139454540563747e-05, 4.1399620386073366e-05, 4.138252552365884e-05, 4.1388386307517067e-05, 4.138525400776416e-05, 4.138626900385134e-05, 4.139584780205041e-05, 4.1396506276214495e-05, 4.1398659959668294e-05, 4.139126758673228e-05, 4.139360680710524e-05, 4.139273369219154e-05, 4.139488373766653e-05, 4.1394894651602954e-05, 4.39811083197128e-05, 4.329165312810801e-05, 4.312571036280133e-05, 4.291555887903087e-05, 4.2755083995871246e-05, 4.2704712541308254e-05, 4.2846699216170236e-05, 4.256033935234882e-05, 4.243520015734248e-05, 4.2582585592754185e-05, 4.245902891852893e-05, 4.2448813474038616e-05, 4.233376239426434e-05, 4.229033584124409e-05, 4.2224601202178746e-05, 4.219950642436743e-05, 4.218579124426469e-05, 4.217233799863607e-05, 4.2170689994236454e-05, 4.216237721266225e-05, 4.207653910270892e-05, 4.2068240873049945e-05, 4.204121069051325e-05, 4.196950249024667e-05, 4.1916355257853866e-05, 4.1885559767251834e-05, 4.1863680962705985e-05, 4.1856135794660076e-05, 4.18379349866882e-05, 4.183621422271244e-05, 4.141651152167469e-05, 4.142898978898302e-05, 4.1413044527871534e-05, 4.140446617384441e-05, 4.140706732869148e-05, 4.1405488445889205e-05, 4.139779775869101e-05, 4.1409239202039316e-05, 4.140165765420534e-05, 4.139484735787846e-05, 4.139888915233314e-05, 4.1402305214433e-05, 4.13893794757314e-05, 4.139657539781183e-05, 4.1388564568478614e-05, 4.140075543546118e-05, 4.1380131733603776e-05, 4.140111559536308e-05, 4.138903022976592e-05, 4.138436634093523e-05, 4.13972775277216e-05, 4.138890653848648e-05, 4.139753946219571e-05, 4.139324664720334e-05, 4.139080556342378e-05, 4.140249075135216e-05, 4.138694566790946e-05, 4.137651194469072e-05, 4.138550139032304e-05, 4.1388124373042956e-05, 4.1390514525119215e-05, 4.1392402636120096e-05, 4.139385782764293e-05, 4.139731026953086e-05, 4.1392002458451316e-05, 4.1394017898710445e-05, 4.139530210522935e-05, 4.139273733017035e-05, 4.1390878322999924e-05, 4.1390539990970865e-05, 4.139094380661845e-05, 4.3104624637635425e-05, 4.306591290514916e-05, 4.290422657504678e-05, 4.299841748434119e-05, 4.291733057470992e-05, 4.289623029762879e-05, 4.257313776179217e-05, 4.2417817894602194e-05, 4.232314677210525e-05, 4.239095142111182e-05, 4.242965951561928e-05, 4.232201536069624e-05, 4.2284435039618984e-05, 4.2261490307282656e-05, 4.224536314723082e-05, 4.2238661990268156e-05, 4.2233848944306374e-05, 4.2178467992926016e-05, 4.213729698676616e-05, 4.213205102132633e-05, 4.2101914004888386e-05, 4.206354060443118e-05, 4.2005758587038144e-05, 4.197404268779792e-05, 4.195940346107818e-05, 4.19511015934404e-05, 4.193931818008423e-05, 4.1902745579136536e-05, 4.184191857348196e-05, 4.183027340332046e-05, 4.1421400965191424e-05, 4.140281453146599e-05, 4.141320823691785e-05, 4.139855445828289e-05, 4.1399096517125145e-05, 4.1396757296752185e-05, 4.13960988225881e-05, 4.13916859542951e-05, 4.138037547818385e-05, 4.13863017456606e-05, 4.139149314141832e-05, 4.13960478908848e-05, 4.137976429774426e-05, 4.138480653637089e-05, 4.139278826187365e-05, 4.139186785323545e-05, 4.1384111682418734e-05, 4.138321310165338e-05, 4.13919951824937e-05, 4.1371415136381984e-05, 4.138947042520158e-05, 4.138518124818802e-05, 4.138021176913753e-05, 4.139343946008012e-05, 4.138358781347051e-05, 4.137338692089543e-05, 4.139944940106943e-05, 4.139166776440106e-05, 4.138183066970669e-05, 4.138290387345478e-05, 4.140114469919354e-05, 4.138816075283103e-05, 4.138862277613953e-05, 4.139331940677948e-05, 4.138783333473839e-05, 4.138697113376111e-05, 4.1386523662367836e-05, 4.138780423090793e-05, 4.1384697397006676e-05, 4.1386450902791694e-05, 4.322511813370511e-05, 4.312313467380591e-05, 4.282348163542338e-05, 4.26232727477327e-05, 4.270034332876094e-05, 4.2564846808090806e-05, 4.2452404159121215e-05, 4.2657287849579006e-05, 4.235938467900269e-05, 4.26021397288423e-05, 4.241529677528888e-05, 4.2263131035724655e-05, 4.2245428630849347e-05, 4.2230843973811716e-05, 4.217926471028477e-05, 4.215880835545249e-05, 4.2083753214683384e-05, 4.208274185657501e-05, 4.2027371819131076e-05, 4.193954009679146e-05, 4.192587948637083e-05, 4.1908013372449204e-05, 4.186565274721943e-05, 4.1845356463454664e-05, 4.182862539892085e-05, 4.182777047390118e-05, 4.1807164961937815e-05, 4.179488314548507e-05, 4.179427196504548e-05, 4.1787225200096145e-05], \"Total\": [25.0, 19.0, 19.0, 17.0, 16.0, 15.0, 13.0, 13.0, 12.0, 11.0, 11.0, 10.0, 10.0, 10.0, 9.0, 9.0, 8.0, 8.0, 8.0, 7.0, 7.0, 7.0, 6.0, 6.0, 5.0, 5.0, 5.0, 5.0, 4.0, 4.0, 25.417430877685547, 19.559280395507812, 19.562076568603516, 17.61427116394043, 16.63605499267578, 15.660661697387695, 13.707353591918945, 13.707335472106934, 12.733044624328613, 11.756333351135254, 11.756357192993164, 10.78040599822998, 10.780550956726074, 10.778865814208984, 9.805644035339355, 9.803834915161133, 8.830379486083984, 8.828696250915527, 8.828619956970215, 7.8538312911987305, 7.852850914001465, 7.852998733520508, 6.878783702850342, 6.87706995010376, 5.903932094573975, 5.902308940887451, 5.90208625793457, 5.901679039001465, 4.930649757385254, 4.928611755371094, 1.0255004167556763, 1.0249769687652588, 1.0251895189285278, 1.0255142450332642, 1.025087833404541, 1.0250957012176514, 1.0252642631530762, 1.0254149436950684, 1.0253559350967407, 1.0251984596252441, 1.0252952575683594, 1.0252048969268799, 1.025490641593933, 1.0253386497497559, 1.025363564491272, 1.0255054235458374, 1.0253125429153442, 1.0249741077423096, 1.0254297256469727, 1.0253528356552124, 1.0254199504852295, 1.0253440141677856, 1.0252931118011475, 1.0253448486328125, 1.0254521369934082, 1.025193691253662, 1.0253182649612427, 1.0251315832138062, 1.025248646736145, 1.0253511667251587, 1.0254040956497192, 1.025536060333252, 17.61427116394043, 25.417430877685547, 15.660661697387695, 16.63605499267578, 19.559280395507812, 8.828696250915527, 19.562076568603516, 13.707353591918945, 7.8538312911987305, 9.803834915161133, 11.756357192993164, 12.733044624328613, 7.852850914001465, 9.805644035339355, 11.756333351135254, 13.707335472106934, 8.828619956970215, 10.778865814208984, 10.780550956726074, 10.78040599822998, 6.878783702850342, 6.87706995010376, 5.902308940887451, 8.830379486083984, 7.852998733520508, 4.928325653076172, 3.9508347511291504, 5.90208625793457, 5.903932094573975, 4.9267144203186035, 5.901679039001465, 1.025545597076416, 1.0252734422683716, 1.025307297706604, 1.025536060333252, 1.0253455638885498, 1.0252772569656372, 1.0252944231033325, 1.0252492427825928, 1.0256502628326416, 1.0253446102142334, 1.0252070426940918, 1.0252642631530762, 1.0251857042312622, 1.0253247022628784, 1.0252902507781982, 1.0252797603607178, 1.025532603263855, 1.0251766443252563, 1.0252373218536377, 1.0254019498825073, 1.025434136390686, 1.025312066078186, 1.025313138961792, 1.0253318548202515, 1.025442123413086, 1.025384783744812, 1.025428056716919, 1.0252569913864136, 1.0253652334213257, 1.0252161026000977, 1.025818943977356, 1.0255149602890015, 25.417430877685547, 11.756357192993164, 19.562076568603516, 15.660661697387695, 12.733044624328613, 10.780550956726074, 19.559280395507812, 10.78040599822998, 13.707335472106934, 13.707353591918945, 16.63605499267578, 8.828619956970215, 10.778865814208984, 7.852998733520508, 11.756333351135254, 9.805644035339355, 7.852850914001465, 8.828696250915527, 5.90208625793457, 17.61427116394043, 8.830379486083984, 7.8538312911987305, 4.9285125732421875, 5.901679039001465, 9.803834915161133, 2.9760630130767822, 3.9511537551879883, 4.9267144203186035, 4.927502632141113, 5.903932094573975, 4.928468704223633, 6.87706995010376, 6.878783702850342, 1.0251753330230713, 1.0252902507781982, 1.0253430604934692, 1.0252814292907715, 1.0255777835845947, 1.0253125429153442, 1.0253182649612427, 1.0251742601394653, 1.0250957012176514, 1.0255087614059448, 1.0254138708114624, 1.025092363357544, 1.025386929512024, 1.0253220796585083, 1.0253180265426636, 1.0255190134048462, 1.0251343250274658, 1.0253844261169434, 1.0252420902252197, 1.0256094932556152, 1.0253530740737915, 1.025421380996704, 1.025214672088623, 1.0251879692077637, 1.0254164934158325, 1.025307297706604, 1.0254024267196655, 1.0254019498825073, 1.0254040956497192, 1.0256028175354004, 1.0258879661560059, 1.0256177186965942, 25.417430877685547, 17.61427116394043, 19.559280395507812, 19.562076568603516, 15.660661697387695, 16.63605499267578, 13.707353591918945, 13.707335472106934, 10.78040599822998, 9.803834915161133, 10.778865814208984, 8.828619956970215, 10.780550956726074, 12.733044624328613, 11.756357192993164, 11.756333351135254, 8.830379486083984, 7.852998733520508, 3.9514455795288086, 2.000274419784546, 4.927502632141113, 9.805644035339355, 8.828696250915527, 4.927249431610107, 7.852850914001465, 4.927646636962891, 3.9508347511291504, 5.902308940887451, 6.878783702850342, 3.9518773555755615, 7.8538312911987305, 6.87706995010376, 5.903932094573975, 1.0253208875656128, 1.025418758392334, 1.0252186059951782, 1.0251637697219849, 1.025478482246399, 1.0255064964294434, 1.0254560708999634, 1.0253320932388306, 1.025248646736145, 1.0254030227661133, 1.0253214836120605, 1.0253806114196777, 1.0251857042312622, 1.0252723693847656, 1.0254061222076416, 1.0255740880966187, 1.0255008935928345, 1.0253970623016357, 1.0249813795089722, 1.025092363357544, 1.0254631042480469, 1.0253965854644775, 1.0253386497497559, 1.025532603263855, 1.0254346132278442, 1.0252934694290161, 1.025320053100586, 1.0252662897109985, 1.0254164934158325, 1.0255084037780762, 1.0254998207092285, 25.417430877685547, 17.61427116394043, 11.756333351135254, 13.707335472106934, 19.559280395507812, 19.562076568603516, 16.63605499267578, 11.756357192993164, 7.8538312911987305, 10.778865814208984, 9.803834915161133, 15.660661697387695, 13.707353591918945, 10.780550956726074, 8.828619956970215, 10.78040599822998, 4.928319454193115, 5.90208625793457, 6.87706995010376, 8.830379486083984, 4.927249431610107, 12.733044624328613, 7.852998733520508, 8.828696250915527, 9.805644035339355, 5.903932094573975, 4.930649757385254, 7.852850914001465, 5.901679039001465, 4.926902770996094, 5.902308940887451, 6.878783702850342, 1.0253182649612427, 1.0250649452209473, 1.025490641593933, 1.0254844427108765, 1.0252138376235962, 1.025464415550232, 1.0252833366394043, 1.02517569065094, 1.0254442691802979, 1.0254080295562744, 1.025375485420227, 1.0252695083618164, 1.0255669355392456, 1.0251396894454956, 1.0254522562026978, 1.0255346298217773, 1.0253530740737915, 1.0253952741622925, 1.0250681638717651, 1.0256246328353882, 1.0257759094238281, 1.0255004167556763, 1.0252152681350708, 1.0252946615219116, 1.0252845287322998, 1.02560555934906, 1.0256052017211914, 1.0253455638885498, 1.0254671573638916, 1.0252174139022827, 1.0253393650054932, 1.0253989696502686, 1.0255084037780762, 19.562076568603516, 25.417430877685547, 19.559280395507812, 15.660661697387695, 12.733044624328613, 13.707335472106934, 16.63605499267578, 13.707353591918945, 17.61427116394043, 9.803834915161133, 11.756357192993164, 10.778865814208984, 7.852850914001465, 10.780550956726074, 6.87706995010376, 8.828696250915527, 8.830379486083984, 5.901679039001465, 7.852998733520508, 4.928319454193115, 11.756333351135254, 4.927646636962891, 2.9770336151123047, 6.878783702850342, 5.902308940887451, 4.926902770996094, 9.805644035339355, 10.78040599822998, 8.828619956970215, 5.903932094573975, 4.9285125732421875, 7.8538312911987305, 1.0256457328796387, 1.0252482891082764, 1.0255541801452637, 1.0253652334213257, 1.0252174139022827, 1.0255087614059448, 1.0254908800125122, 1.025352120399475, 1.0253806114196777, 1.02566397190094, 1.0255320072174072, 1.0252149105072021, 1.0254054069519043, 1.0252734422683716, 1.0251343250274658, 1.0256227254867554, 1.0253182649612427, 1.0253468751907349, 1.0253630876541138, 1.025464415550232, 1.0253835916519165, 1.0255571603775024, 1.0254701375961304, 1.025255560874939, 1.0253989696502686, 1.0254442691802979, 1.0249741077423096, 1.025438904762268, 1.0252695083618164, 1.025374174118042, 1.0254663228988647, 1.0255725383758545, 19.562076568603516, 25.417430877685547, 19.559280395507812, 10.78040599822998, 17.61427116394043, 13.707335472106934, 15.660661697387695, 10.780550956726074, 9.805644035339355, 11.756333351135254, 12.733044624328613, 16.63605499267578, 8.828619956970215, 10.778865814208984, 9.803834915161133, 13.707353591918945, 5.90208625793457, 7.8538312911987305, 5.901679039001465, 7.852850914001465, 11.756357192993164, 8.828696250915527, 7.852998733520508, 6.878783702850342, 5.903932094573975, 5.902308940887451, 4.928611755371094, 3.952533721923828, 6.87706995010376, 4.926902770996094, 8.830379486083984, 1.0252803564071655, 1.0251766443252563, 1.0253870487213135, 1.0255157947540283, 1.025188684463501, 1.0253480672836304, 1.0253721475601196, 1.0251343250274658, 1.0253056287765503, 1.0255135297775269, 1.0252174139022827, 1.0253461599349976, 1.0253262519836426, 1.0251753330230713, 1.0252621173858643, 1.0252894163131714, 1.0252116918563843, 1.0254316329956055, 1.0251315832138062, 1.02517569065094, 1.0257198810577393, 1.025295376777649, 1.0254523754119873, 1.0252463817596436, 1.0253175497055054, 1.025492548942566, 1.0256978273391724, 1.0255037546157837, 1.0252246856689453, 1.0257073640823364, 1.0256028175354004, 17.61427116394043, 19.559280395507812, 25.417430877685547, 19.562076568603516, 15.660661697387695, 10.780550956726074, 11.756333351135254, 10.78040599822998, 8.830379486083984, 13.707353591918945, 7.852998733520508, 16.63605499267578, 6.87706995010376, 11.756357192993164, 10.778865814208984, 6.878783702850342, 12.733044624328613, 9.805644035339355, 7.852850914001465, 13.707335472106934, 8.828696250915527, 9.803834915161133, 8.828619956970215, 3.950390577316284, 4.927502632141113, 5.901679039001465, 5.902308940887451, 3.9516963958740234, 4.927641868591309, 4.9267144203186035, 7.8538312911987305, 1.0251766443252563, 1.0254528522491455, 1.0257198810577393, 1.02548348903656, 1.0252116918563843, 1.0251895189285278, 1.0252848863601685, 1.0252246856689453, 1.0254054069519043, 1.0254998207092285, 1.0252149105072021, 1.02517569065094, 1.0250681638717651, 1.0254185199737549, 1.025438904762268, 1.025087833404541, 1.0253421068191528, 1.0252058506011963, 1.0253056287765503, 1.0256028175354004, 1.0253952741622925, 1.0249769687652588, 1.0253267288208008, 1.025312066078186, 1.0253214836120605, 1.0253448486328125, 1.0254100561141968, 1.0253970623016357, 1.0253552198410034, 1.0254853963851929, 1.0256224870681763, 1.0258089303970337, 19.562076568603516, 25.417430877685547, 17.61427116394043, 13.707353591918945, 12.733044624328613, 16.63605499267578, 13.707335472106934, 10.778865814208984, 19.559280395507812, 10.78040599822998, 15.660661697387695, 8.830379486083984, 11.756357192993164, 10.780550956726074, 11.756333351135254, 9.803834915161133, 5.902308940887451, 8.828619956970215, 6.878783702850342, 9.805644035339355, 7.8538312911987305, 5.90208625793457, 7.852998733520508, 4.92815637588501, 6.87706995010376, 7.852850914001465, 3.951538324356079, 3.952455520629883, 4.928611755371094, 2.0008740425109863, 4.930649757385254, 4.926902770996094, 8.828696250915527, 1.0253287553787231, 1.0254522562026978, 1.0253806114196777, 1.0254844427108765, 1.025464653968811, 1.0255995988845825, 1.0254453420639038, 1.0252193212509155, 1.025463342666626, 1.0252604484558105, 1.0249813795089722, 1.0252797603607178, 1.0254523754119873, 1.0254408121109009, 1.0253543853759766, 1.0256483554840088, 1.0254428386688232, 1.02545964717865, 1.0252803564071655, 1.0254316329956055, 1.0257751941680908, 1.0253885984420776, 1.0253180265426636, 1.025392770767212, 1.0258121490478516, 1.0254088640213013, 1.0252420902252197, 1.0254853963851929, 1.0251857042312622, 1.0253220796585083, 1.0256131887435913, 1.025755524635315, 1.0256260633468628, 25.417430877685547, 19.559280395507812, 13.707335472106934, 12.733044624328613, 19.562076568603516, 16.63605499267578, 13.707353591918945, 11.756333351135254, 9.803834915161133, 17.61427116394043, 11.756357192993164, 8.828619956970215, 15.660661697387695, 8.830379486083984, 9.805644035339355, 6.87706995010376, 7.8538312911987305, 10.778865814208984, 8.828696250915527, 6.878783702850342, 5.903932094573975, 4.926902770996094, 7.852850914001465, 5.902308940887451, 10.78040599822998, 5.901679039001465, 4.928468704223633, 2.9760608673095703, 3.9519975185394287, 10.780550956726074, 4.928319454193115, 5.90208625793457, 7.852998733520508, 1.0255650281906128, 1.0256661176681519, 1.0252022743225098, 1.0253909826278687, 1.0254080295562744, 1.02548348903656, 1.0253208875656128, 1.02534818649292, 1.0252845287322998, 1.0253175497055054, 1.0254435539245605, 1.0252487659454346, 1.0253429412841797, 1.0253214836120605, 1.0254290103912354, 1.0252310037612915, 1.0254873037338257, 1.0256342887878418, 1.0254123210906982, 1.0253169536590576, 1.0255054235458374, 1.0252848863601685, 1.0252116918563843, 1.025578498840332, 1.025591492652893, 1.0254734754562378, 1.0258089303970337, 1.025177240371704, 1.0254466533660889, 1.0255560874938965, 1.0253989696502686, 25.417430877685547, 19.562076568603516, 16.63605499267578, 17.61427116394043, 19.559280395507812, 13.707353591918945, 13.707335472106934, 8.830379486083984, 12.733044624328613, 11.756333351135254, 8.828696250915527, 9.805644035339355, 15.660661697387695, 10.778865814208984, 6.878783702850342, 11.756357192993164, 10.780550956726074, 10.78040599822998, 9.803834915161133, 6.87706995010376, 7.852998733520508, 5.901679039001465, 4.9267144203186035, 3.952533721923828, 4.927249431610107, 7.8538312911987305, 4.928468704223633, 3.951538324356079, 4.928325653076172, 8.828619956970215, 7.852850914001465, 5.90208625793457, 1.025320053100586, 1.0249813795089722, 1.0253139734268188, 1.0256750583648682, 1.0250649452209473, 1.0252529382705688, 1.0252058506011963, 1.0255008935928345, 1.0253468751907349, 1.0253965854644775, 1.0250681638717651, 1.025516390800476, 1.0252621173858643, 1.025596022605896, 1.0252152681350708, 1.02517569065094, 1.025536060333252, 1.0252246856689453, 1.0253480672836304, 1.0255722999572754, 1.025518774986267, 1.0254088640213013, 1.0256321430206299, 1.0255584716796875, 1.0253448486328125, 1.0253081321716309, 1.0255541801452637, 1.025355577468872, 1.0252569913864136, 1.0254873037338257, 1.0254853963851929, 1.0254226922988892, 19.559280395507812, 25.417430877685547, 16.63605499267578, 19.562076568603516, 13.707353591918945, 9.805644035339355, 15.660661697387695, 11.756333351135254, 12.733044624328613, 10.780550956726074, 10.778865814208984, 17.61427116394043, 13.707335472106934, 10.78040599822998, 9.803834915161133, 11.756357192993164, 7.8538312911987305, 4.927641868591309, 8.828619956970215, 4.928325653076172, 6.878783702850342, 4.927249431610107, 4.926902770996094, 4.928611755371094, 8.828696250915527, 2.976321220397949, 4.9267144203186035, 7.852850914001465, 6.87706995010376, 7.852998733520508, 5.901679039001465, 8.830379486083984, 1.0249741077423096, 1.0258877277374268, 1.0253081321716309, 1.025193691253662, 1.0257203578948975, 1.0252833366394043, 1.0249818563461304, 1.025345802307129, 1.0252662897109985, 1.0254528522491455, 1.0250649452209473, 1.0251343250274658, 1.025320053100586, 1.0256750583648682, 1.0252373218536377, 1.0253528356552124, 1.0252957344055176, 1.0251895189285278, 1.0253461599349976, 1.0258879661560059, 1.0253214836120605, 1.0252934694290161, 1.025560736656189, 1.025496244430542, 1.0252048969268799, 1.0251857042312622, 1.0254560708999634, 1.025374174118042, 1.0252529382705688, 1.0253806114196777, 1.0254346132278442, 1.0255053043365479, 1.02566397190094, 19.559280395507812, 25.417430877685547, 19.562076568603516, 16.63605499267578, 13.707353591918945, 11.756333351135254, 17.61427116394043, 13.707335472106934, 11.756357192993164, 10.778865814208984, 12.733044624328613, 9.805644035339355, 10.78040599822998, 10.780550956726074, 4.927502632141113, 15.660661697387695, 7.852850914001465, 8.828619956970215, 8.828696250915527, 9.803834915161133, 7.852998733520508, 6.87706995010376, 5.902308940887451, 8.830379486083984, 4.928468704223633, 4.9267144203186035, 5.901679039001465, 5.903932094573975, 6.878783702850342, 4.926902770996094, 7.8538312911987305, 1.0252946615219116, 1.0252193212509155, 1.025484561920166, 1.0249818563461304, 1.0253559350967407, 1.0254722833633423, 1.0252803564071655, 1.0252482891082764, 1.0256028175354004, 1.0252814292907715, 1.0252149105072021, 1.0252604484558105, 1.0252174139022827, 1.0253446102142334, 1.025471568107605, 1.025436282157898, 1.0256661176681519, 1.0255571603775024, 1.0253318548202515, 1.0254080295562744, 1.025248646736145, 1.0249769687652588, 1.02555513381958, 1.0253393650054932, 1.0252833366394043, 1.0251895189285278, 1.025313138961792, 1.0254701375961304, 1.025295376777649, 1.0254040956497192, 1.0254123210906982, 1.025578498840332, 1.0254671573638916, 1.0256246328353882, 1.0255037546157837, 19.562076568603516, 25.417430877685547, 16.63605499267578, 19.559280395507812, 17.61427116394043, 13.707353591918945, 10.778865814208984, 12.733044624328613, 10.78040599822998, 11.756357192993164, 7.852998733520508, 10.780550956726074, 13.707335472106934, 15.660661697387695, 9.805644035339355, 9.803834915161133, 8.830379486083984, 6.878783702850342, 5.90208625793457, 4.926902770996094, 7.852850914001465, 4.928611755371094, 3.9514455795288086, 8.828619956970215, 3.951538324356079, 3.952361822128296, 5.903932094573975, 4.927646636962891, 5.902308940887451, 4.927249431610107, 11.756333351135254, 8.828696250915527, 6.87706995010376, 1.0249813795089722, 1.025463342666626, 1.0254316329956055, 1.0251984596252441, 1.0253386497497559, 1.0255084037780762, 1.0254453420639038, 1.0252482891082764, 1.0252058506011963, 1.02545964717865, 1.0254290103912354, 1.0253175497055054, 1.0254123210906982, 1.025193691253662, 1.025214672088623, 1.0251396894454956, 1.0251343250274658, 1.0252946615219116, 1.0254560708999634, 1.0255054235458374, 1.0256158113479614, 1.02560293674469, 1.025782585144043, 1.0249741077423096, 1.0252772569656372, 1.0253552198410034, 1.0254887342453003, 1.0251766443252563, 1.0255751609802246, 1.025295376777649, 1.0255740880966187, 1.0256280899047852, 1.0255827903747559, 1.0256094932556152, 19.562076568603516, 19.559280395507812, 25.417430877685547, 10.778865814208984, 11.756357192993164, 17.61427116394043, 15.660661697387695, 10.780550956726074, 12.733044624328613, 9.803834915161133, 16.63605499267578, 13.707353591918945, 9.805644035339355, 11.756333351135254, 13.707335472106934, 10.78040599822998, 8.828619956970215, 8.830379486083984, 8.828696250915527, 7.852998733520508, 7.8538312911987305, 3.9528019428253174, 6.87706995010376, 6.878783702850342, 7.852850914001465, 3.951538324356079, 4.927641868591309, 4.928319454193115, 2.975958824157715, 4.930649757385254, 4.9285125732421875, 1.025434136390686, 1.0253480672836304, 1.0253446102142334, 1.0254040956497192, 1.0255571603775024, 1.0250649452209473, 1.0253393650054932, 1.025359869003296, 1.0250957012176514, 1.0252772569656372, 1.0250681638717651, 1.0254638195037842, 1.0254528522491455, 1.0251396894454956, 1.0249769687652588, 1.0255541801452637, 1.0254933834075928, 1.0252174139022827, 1.0256224870681763, 1.0254030227661133, 1.0253440141677856, 1.0255560874938965, 1.0253970623016357, 1.0253630876541138, 1.0253448486328125, 1.025484561920166, 1.0254844427108765, 1.0252695083618164, 1.0254554748535156, 1.0252844095230103, 1.0258550643920898, 1.0254236459732056, 1.0256102085113525, 1.0256789922714233, 15.660661697387695, 19.562076568603516, 19.559280395507812, 16.63605499267578, 13.707335472106934, 25.417430877685547, 13.707353591918945, 12.733044624328613, 17.61427116394043, 11.756357192993164, 10.778865814208984, 10.780550956726074, 9.805644035339355, 11.756333351135254, 6.87706995010376, 10.78040599822998, 7.8538312911987305, 9.803834915161133, 4.927646636962891, 4.928611755371094, 3.951616048812866, 8.828696250915527, 8.828619956970215, 3.9523909091949463, 3.950390577316284, 3.952918291091919, 8.830379486083984, 7.852998733520508, 5.903932094573975, 4.928468704223633, 5.901679039001465, 6.878783702850342, 7.852850914001465, 1.0253721475601196, 1.0254316329956055, 1.025214672088623, 1.025471568107605, 1.025499939918518, 1.0255053043365479, 1.0254554748535156, 1.0252022743225098, 1.0253169536590576, 1.0251598358154297, 1.0254182815551758, 1.0254908800125122, 1.025087833404541, 1.0252058506011963, 1.0253461599349976, 1.0251742601394653, 1.0252621173858643, 1.0254195928573608, 1.0253660678863525, 1.025248646736145, 1.0251984596252441, 1.025363564491272, 1.0254731178283691, 1.0252487659454346, 1.02534818649292, 1.0253870487213135, 1.0249813795089722, 1.025437831878662, 1.0257917642593384, 1.0252492427825928, 1.0257267951965332, 1.0257411003112793, 1.025702953338623, 25.417430877685547, 16.63605499267578, 19.559280395507812, 11.756333351135254, 19.562076568603516, 17.61427116394043, 8.830379486083984, 13.707353591918945, 11.756357192993164, 10.778865814208984, 15.660661697387695, 7.852998733520508, 6.87706995010376, 8.828696250915527, 10.780550956726074, 9.805644035339355, 12.733044624328613, 13.707335472106934, 9.803834915161133, 8.828619956970215, 10.78040599822998, 5.90208625793457, 4.926902770996094, 4.9285125732421875, 5.901679039001465, 3.95149564743042, 7.8538312911987305, 4.928611755371094, 3.952742576599121, 5.903932094573975, 7.852850914001465, 6.878783702850342, 5.902308940887451, 1.0253393650054932, 1.0249813795089722, 1.0252373218536377, 1.025320053100586, 1.0252310037612915, 1.0253455638885498, 1.0250681638717651, 1.0255149602890015, 1.0253374576568604, 1.0252492427825928, 1.0252803564071655, 1.025301456451416, 1.025300145149231, 1.0251598358154297, 1.0253334045410156, 1.0249769687652588, 1.0251857042312622, 1.0254297256469727, 1.0253559350967407, 1.0255494117736816, 1.0253169536590576, 1.0253480672836304, 1.025177240371704, 1.025492548942566, 1.0253543853759766, 1.0254873037338257, 1.0250649452209473, 1.0252116918563843, 1.0251396894454956, 1.0251766443252563, 1.0254226922988892, 1.0254673957824707, 1.0256342887878418, 1.0253721475601196, 1.025504231452942, 1.0254621505737305, 1.0257031917572021, 1.0258550643920898, 25.417430877685547, 19.562076568603516, 19.559280395507812, 15.660661697387695, 12.733044624328613, 11.756333351135254, 16.63605499267578, 9.805644035339355, 8.830379486083984, 13.707335472106934, 10.778865814208984, 13.707353591918945, 10.78040599822998, 17.61427116394043, 7.852998733520508, 10.780550956726074, 8.828696250915527, 9.803834915161133, 8.828619956970215, 7.8538312911987305, 6.878783702850342, 6.87706995010376, 7.852850914001465, 5.903932094573975, 11.756357192993164, 4.9285125732421875, 5.90208625793457, 5.902308940887451, 4.928468704223633, 4.927646636962891, 1.0252797603607178, 1.025681734085083, 1.0254123210906982, 1.0253175497055054, 1.0253885984420776, 1.0253511667251587, 1.0251879692077637, 1.025516390800476, 1.0253334045410156, 1.025214672088623, 1.0253169536590576, 1.0254182815551758, 1.0251315832138062, 1.0253139734268188, 1.0251396894454956, 1.0254523754119873, 1.0249769687652588, 1.025503158569336, 1.0252048969268799, 1.025092363357544, 1.025416612625122, 1.0252149105072021, 1.0254316329956055, 1.0253393650054932, 1.0252937078475952, 1.0256094932556152, 1.0252310037612915, 1.0249818563461304, 1.0252058506011963, 1.0252844095230103, 1.0253543853759766, 1.0254054069519043, 1.025492548942566, 1.0256227254867554, 1.025434136390686, 1.0255186557769775, 1.0256177186965942, 1.025527834892273, 1.0254673957824707, 1.0254701375961304, 1.0256052017211914, 19.559280395507812, 19.562076568603516, 13.707335472106934, 17.61427116394043, 16.63605499267578, 25.417430877685547, 12.733044624328613, 9.805644035339355, 7.852850914001465, 9.803834915161133, 15.660661697387695, 11.756333351135254, 11.756357192993164, 8.830379486083984, 10.778865814208984, 13.707353591918945, 10.780550956726074, 8.828696250915527, 7.8538312911987305, 10.78040599822998, 6.87706995010376, 7.852998733520508, 8.828619956970215, 5.901679039001465, 4.927646636962891, 5.903932094573975, 5.902308940887451, 6.878783702850342, 4.928319454193115, 4.9285125732421875, 1.0253081321716309, 1.0249813795089722, 1.0252957344055176, 1.0253318548202515, 1.025416612625122, 1.0254080295562744, 1.025404453277588, 1.025312066078186, 1.0250681638717651, 1.0252161026000977, 1.0253543853759766, 1.0254722833633423, 1.025087833404541, 1.0252246856689453, 1.0254442691802979, 1.0254226922988892, 1.0252662897109985, 1.0252482891082764, 1.0254671573638916, 1.0249741077423096, 1.0254290103912354, 1.0253262519836426, 1.0252138376235962, 1.0255768299102783, 1.0253429412841797, 1.025092363357544, 1.0257467031478882, 1.0255571603775024, 1.0253175497055054, 1.0253480672836304, 1.025818943977356, 1.025484561920166, 1.0255008935928345, 1.0256321430206299, 1.0255149602890015, 1.0254877805709839, 1.0254827737808228, 1.0258089303970337, 1.0254689455032349, 1.025791883468628, 19.559280395507812, 25.417430877685547, 15.660661697387695, 10.78040599822998, 16.63605499267578, 13.707353591918945, 11.756333351135254, 19.562076568603516, 9.805644035339355, 17.61427116394043, 13.707335472106934, 9.803834915161133, 12.733044624328613, 10.778865814208984, 11.756357192993164, 7.852998733520508, 7.852850914001465, 10.780550956726074, 7.8538312911987305, 6.87706995010376, 6.878783702850342, 8.830379486083984, 8.828696250915527, 8.828619956970215, 5.903932094573975, 5.90208625793457, 4.928468704223633, 4.930649757385254, 4.927641868591309, 4.928611755371094], \"logprob\": [30.0, 29.0, 28.0, 27.0, 26.0, 25.0, 24.0, 23.0, 22.0, 21.0, 20.0, 19.0, 18.0, 17.0, 16.0, 15.0, 14.0, 13.0, 12.0, 11.0, 10.0, 9.0, 8.0, 7.0, 6.0, 5.0, 4.0, 3.0, 2.0, 1.0, -3.8160998821258545, -4.078100204467773, -4.077899932861328, -4.182799816131592, -4.2399001121521, -4.3003997802734375, -4.433599948883057, -4.433599948883057, -4.507299900054932, -4.587100028991699, -4.587100028991699, -4.673799991607666, -4.673799991607666, -4.673999786376953, -4.768599987030029, -4.768799781799316, -4.8734002113342285, -4.873600006103516, -4.873600006103516, -4.990600109100342, -4.990699768066406, -4.990699768066406, -5.1230998039245605, -5.1234002113342285, -5.276000022888184, -5.276299953460693, -5.276299953460693, -5.276400089263916, -5.456200122833252, -5.456600189208984, -6.350299835205078, -6.350900173187256, -6.350900173187256, -6.351099967956543, -6.351600170135498, -6.351600170135498, -6.3516998291015625, -6.351600170135498, -6.351900100708008, -6.3520002365112305, -6.352099895477295, -6.352200031280518, -6.352099895477295, -6.35230016708374, -6.352399826049805, -6.352799892425537, -6.3531999588012695, -6.353899955749512, -6.353600025177002, -6.353799819946289, -6.354000091552734, -6.3541998863220215, -6.354300022125244, -6.354300022125244, -6.354300022125244, -6.354599952697754, -6.354400157928467, -6.354599952697754, -6.354599952697754, -6.354499816894531, -6.354499816894531, -6.354400157928467, -6.005000114440918, -5.967100143432617, -6.036600112915039, -6.032400131225586, -6.031199932098389, -6.134900093078613, -6.080399990081787, -6.151299953460693, -6.191800117492676, -6.178199768066406, -6.172599792480469, -6.167099952697754, -6.2032999992370605, -6.191100120544434, -6.181099891662598, -6.179699897766113, -6.206200122833252, -6.201700210571289, -6.204999923706055, -6.217899799346924, -6.242400169372559, -6.246300220489502, -6.2555999755859375, -6.237800121307373, -6.244800090789795, -6.269400119781494, -6.281599998474121, -6.265399932861328, -6.268899917602539, -6.2769999504089355, -6.276400089263916, -6.345900058746338, -6.348400115966797, -6.348499774932861, -6.348499774932861, -6.348800182342529, -6.348899841308594, -6.349100112915039, -6.349299907684326, -6.349100112915039, -6.3495001792907715, -6.349800109863281, -6.349999904632568, -6.350200176239014, -6.350100040435791, -6.350200176239014, -6.350299835205078, -6.350100040435791, -6.350800037384033, -6.350800037384033, -6.3506999015808105, -6.3506999015808105, -6.350800037384033, -6.350800037384033, -6.350900173187256, -6.350900173187256, -6.35099983215332, -6.35099983215332, -6.351200103759766, -6.351200103759766, -6.351399898529053, -6.35099983215332, -6.351200103759766, -5.973599910736084, -6.12060022354126, -6.110499858856201, -6.13100004196167, -6.152599811553955, -6.1656999588012695, -6.132500171661377, -6.1753997802734375, -6.161799907684326, -6.162700176239014, -6.161600112915039, -6.206299781799316, -6.198200225830078, -6.221199989318848, -6.199100017547607, -6.216100215911865, -6.228099822998047, -6.225399971008301, -6.249499797821045, -6.1975998878479, -6.241799831390381, -6.255499839782715, -6.276199817657471, -6.270599842071533, -6.252500057220459, -6.3024001121521, -6.292099952697754, -6.286399841308594, -6.286600112915039, -6.283999919891357, -6.292200088500977, -6.288099765777588, -6.289100170135498, -6.34630012512207, -6.346399784088135, -6.34660005569458, -6.346799850463867, -6.346799850463867, -6.347400188446045, -6.347499847412109, -6.3480000495910645, -6.348199844360352, -6.3480000495910645, -6.348100185394287, -6.348499774932861, -6.348199844360352, -6.348400115966797, -6.348499774932861, -6.348299980163574, -6.348700046539307, -6.348499774932861, -6.348700046539307, -6.348299980163574, -6.348599910736084, -6.348499774932861, -6.348800182342529, -6.348899841308594, -6.348700046539307, -6.348800182342529, -6.348800182342529, -6.348899841308594, -6.348999977111816, -6.348800182342529, -6.348700046539307, -6.348899841308594, -6.0980000495910645, -6.131999969482422, -6.130300045013428, -6.145400047302246, -6.166100025177002, -6.16349983215332, -6.1753997802734375, -6.1774001121521, -6.205599784851074, -6.211699962615967, -6.211299896240234, -6.225299835205078, -6.218699932098389, -6.218299865722656, -6.227200031280518, -6.228099822998047, -6.250500202178955, -6.259699821472168, -6.289999961853027, -6.317699909210205, -6.285099983215332, -6.258600234985352, -6.264699935913086, -6.285999774932861, -6.272500038146973, -6.289299964904785, -6.296800136566162, -6.285999774932861, -6.284800052642822, -6.3018999099731445, -6.281700134277344, -6.288899898529053, -6.293700218200684, -6.344900131225586, -6.345600128173828, -6.3460001945495605, -6.34660005569458, -6.346499919891357, -6.346499919891357, -6.346700191497803, -6.3470001220703125, -6.347099781036377, -6.3470001220703125, -6.347400188446045, -6.347400188446045, -6.347799777984619, -6.347700119018555, -6.347599983215332, -6.347599983215332, -6.347700119018555, -6.347899913787842, -6.348400115966797, -6.348299980163574, -6.348100185394287, -6.348199844360352, -6.348299980163574, -6.348100185394287, -6.348299980163574, -6.348400115966797, -6.348499774932861, -6.348499774932861, -6.348499774932861, -6.348400115966797, -6.348499774932861, -6.058199882507324, -6.1539998054504395, -6.181300163269043, -6.178999900817871, -6.164400100708008, -6.16540002822876, -6.17549991607666, -6.21619987487793, -6.237299919128418, -6.229899883270264, -6.2347002029418945, -6.2144999504089355, -6.221700191497803, -6.233099937438965, -6.254700183868408, -6.247399806976318, -6.279200077056885, -6.27209997177124, -6.267199993133545, -6.258800029754639, -6.282100200653076, -6.249300003051758, -6.2667999267578125, -6.263400077819824, -6.262899875640869, -6.280099868774414, -6.285999774932861, -6.276299953460693, -6.2881999015808105, -6.295400142669678, -6.290900230407715, -6.289299964904785, -6.345300197601318, -6.345799922943115, -6.3454999923706055, -6.345600128173828, -6.3460001945495605, -6.345699787139893, -6.346099853515625, -6.346399784088135, -6.34630012512207, -6.346399784088135, -6.346399784088135, -6.34660005569458, -6.34630012512207, -6.346700191497803, -6.346499919891357, -6.346499919891357, -6.346700191497803, -6.346700191497803, -6.3470001220703125, -6.346499919891357, -6.346499919891357, -6.346799850463867, -6.347099781036377, -6.3470001220703125, -6.347099781036377, -6.346799850463867, -6.346799850463867, -6.347099781036377, -6.347099781036377, -6.347300052642822, -6.3471999168396, -6.3471999168396, -6.347099781036377, -6.144000053405762, -6.133299827575684, -6.153600215911865, -6.1774001121521, -6.2104997634887695, -6.211400032043457, -6.20419979095459, -6.21560001373291, -6.212699890136719, -6.241199970245361, -6.241199970245361, -6.248799800872803, -6.261600017547607, -6.255899906158447, -6.271100044250488, -6.266200065612793, -6.268499851226807, -6.281499862670898, -6.274799823760986, -6.289000034332275, -6.263800144195557, -6.295100212097168, -6.310699939727783, -6.287199974060059, -6.292099952697754, -6.298299789428711, -6.280399799346924, -6.27869987487793, -6.28380012512207, -6.293600082397461, -6.3028998374938965, -6.298999786376953, -6.343699932098389, -6.344200134277344, -6.344200134277344, -6.3445000648498535, -6.344699859619141, -6.3445000648498535, -6.344600200653076, -6.345099925994873, -6.345200061798096, -6.345099925994873, -6.345200061798096, -6.345600128173828, -6.3454999923706055, -6.345600128173828, -6.345799922943115, -6.345399856567383, -6.345799922943115, -6.345799922943115, -6.345799922943115, -6.345799922943115, -6.345900058746338, -6.345699787139893, -6.345799922943115, -6.346099853515625, -6.345900058746338, -6.345900058746338, -6.346399784088135, -6.3460001945495605, -6.346199989318848, -6.346099853515625, -6.346099853515625, -6.346099853515625, -6.162700176239014, -6.1504998207092285, -6.169000148773193, -6.216700077056885, -6.19290018081665, -6.218500137329102, -6.2195000648498535, -6.248300075531006, -6.252500057220459, -6.248000144958496, -6.247200012207031, -6.248300075531006, -6.268799781799316, -6.264100074768066, -6.268799781799316, -6.260300159454346, -6.286799907684326, -6.28000020980835, -6.2891998291015625, -6.282100200653076, -6.271999835968018, -6.284599781036377, -6.287399768829346, -6.293000221252441, -6.298500061035156, -6.299799919128418, -6.304800033569336, -6.309500217437744, -6.299099922180176, -6.306700229644775, -6.295599937438965, -6.343100070953369, -6.343500137329102, -6.343599796295166, -6.343800067901611, -6.344099998474121, -6.344099998474121, -6.344099998474121, -6.344399929046631, -6.344299793243408, -6.344299793243408, -6.344600200653076, -6.344699859619141, -6.344699859619141, -6.34499979019165, -6.34499979019165, -6.34499979019165, -6.345200061798096, -6.34499979019165, -6.345399856567383, -6.345399856567383, -6.344900131225586, -6.345399856567383, -6.345300197601318, -6.345600128173828, -6.3454999923706055, -6.345399856567383, -6.345200061798096, -6.345399856567383, -6.345799922943115, -6.345399856567383, -6.345600128173828, -6.170400142669678, -6.1666998863220215, -6.154099941253662, -6.173799991607666, -6.209000110626221, -6.247000217437744, -6.2444000244140625, -6.251299858093262, -6.263199806213379, -6.256700038909912, -6.275000095367432, -6.255199909210205, -6.28439998626709, -6.269400119781494, -6.27239990234375, -6.285999774932861, -6.271900177001953, -6.2795000076293945, -6.28439998626709, -6.277200222015381, -6.288599967956543, -6.288000106811523, -6.29040002822876, -6.306600093841553, -6.304800033569336, -6.30210018157959, -6.3024001121521, -6.3109002113342285, -6.3078999519348145, -6.308800220489502, -6.3007001876831055, -6.344200134277344, -6.343999862670898, -6.343800067901611, -6.344200134277344, -6.344600200653076, -6.344699859619141, -6.344600200653076, -6.34499979019165, -6.344799995422363, -6.344799995422363, -6.345099925994873, -6.345099925994873, -6.345200061798096, -6.34499979019165, -6.345099925994873, -6.3454999923706055, -6.345200061798096, -6.345399856567383, -6.345300197601318, -6.345099925994873, -6.345300197601318, -6.345699787139893, -6.345399856567383, -6.3454999923706055, -6.3454999923706055, -6.3454999923706055, -6.345399856567383, -6.3454999923706055, -6.3454999923706055, -6.3454999923706055, -6.345399856567383, -6.3454999923706055, -6.179900169372559, -6.176000118255615, -6.2027997970581055, -6.216100215911865, -6.223400115966797, -6.215000152587891, -6.223599910736084, -6.23859977722168, -6.235400199890137, -6.254700183868408, -6.2453999519348145, -6.267499923706055, -6.260799884796143, -6.268599987030029, -6.267499923706055, -6.275899887084961, -6.291500091552734, -6.2795000076293945, -6.293099880218506, -6.287099838256836, -6.293799877166748, -6.30079984664917, -6.295199871063232, -6.304999828338623, -6.299799919128418, -6.299900054931641, -6.313600063323975, -6.313899993896484, -6.309700012207031, -6.328199863433838, -6.310500144958496, -6.311299800872803, -6.307499885559082, -6.342599868774414, -6.343800067901611, -6.343999862670898, -6.343900203704834, -6.343999862670898, -6.343999862670898, -6.344099998474121, -6.3445000648498535, -6.344299793243408, -6.344600200653076, -6.344900131225586, -6.344600200653076, -6.344399929046631, -6.3445000648498535, -6.344600200653076, -6.344399929046631, -6.344600200653076, -6.344600200653076, -6.344799995422363, -6.344699859619141, -6.344399929046631, -6.344799995422363, -6.34499979019165, -6.344900131225586, -6.3445000648498535, -6.344900131225586, -6.345099925994873, -6.344900131225586, -6.345300197601318, -6.345099925994873, -6.344900131225586, -6.344799995422363, -6.34499979019165, -6.160299777984619, -6.196499824523926, -6.219200134277344, -6.241700172424316, -6.22629976272583, -6.239200115203857, -6.244999885559082, -6.255499839782715, -6.2617998123168945, -6.24560022354126, -6.258399963378906, -6.277599811553955, -6.263800144195557, -6.280200004577637, -6.282299995422363, -6.290500164031982, -6.288599967956543, -6.28249979019165, -6.2866997718811035, -6.291900157928467, -6.29610013961792, -6.301300048828125, -6.292200088500977, -6.297999858856201, -6.2870001792907715, -6.3024001121521, -6.307300090789795, -6.320300102233887, -6.315400123596191, -6.297100067138672, -6.311600208282471, -6.310100078582764, -6.308599948883057, -6.343200206756592, -6.343299865722656, -6.343800067901611, -6.343699932098389, -6.343900203704834, -6.343800067901611, -6.344200134277344, -6.344299793243408, -6.344299793243408, -6.3445000648498535, -6.344399929046631, -6.344600200653076, -6.344600200653076, -6.344600200653076, -6.3445000648498535, -6.344799995422363, -6.3445000648498535, -6.344399929046631, -6.344699859619141, -6.344799995422363, -6.344699859619141, -6.344900131225586, -6.34499979019165, -6.344600200653076, -6.344699859619141, -6.344799995422363, -6.3445000648498535, -6.345099925994873, -6.344900131225586, -6.344799995422363, -6.34499979019165, -6.146299839019775, -6.180099964141846, -6.209499835968018, -6.219200134277344, -6.216899871826172, -6.235499858856201, -6.239699840545654, -6.259399890899658, -6.257900238037109, -6.260900020599365, -6.276000022888184, -6.276100158691406, -6.268400192260742, -6.278800010681152, -6.288400173187256, -6.278600215911865, -6.280600070953369, -6.285399913787842, -6.288099765777588, -6.295300006866455, -6.292699813842773, -6.2993998527526855, -6.303400039672852, -6.3125, -6.309899806976318, -6.300600051879883, -6.310299873352051, -6.315199851989746, -6.311200141906738, -6.301199913024902, -6.3028998374938965, -6.31220006942749, -6.342899799346924, -6.343200206756592, -6.343500137329102, -6.343200206756592, -6.343800067901611, -6.343699932098389, -6.343800067901611, -6.343800067901611, -6.343999862670898, -6.343900203704834, -6.344299793243408, -6.343900203704834, -6.344200134277344, -6.343900203704834, -6.344299793243408, -6.344399929046631, -6.344099998474121, -6.344399929046631, -6.344299793243408, -6.344200134277344, -6.344299793243408, -6.3445000648498535, -6.344299793243408, -6.344399929046631, -6.344600200653076, -6.344699859619141, -6.344399929046631, -6.344600200653076, -6.344699859619141, -6.3445000648498535, -6.344600200653076, -6.344600200653076, -6.151700019836426, -6.152400016784668, -6.230299949645996, -6.223800182342529, -6.239799976348877, -6.257500171661377, -6.251100063323975, -6.265399932861328, -6.2631001472473145, -6.270400047302246, -6.271599769592285, -6.26200008392334, -6.270999908447266, -6.276299953460693, -6.281799793243408, -6.280600070953369, -6.2895002365112305, -6.299099922180176, -6.2895002365112305, -6.305699825286865, -6.301499843597412, -6.308599948883057, -6.309000015258789, -6.309100151062012, -6.297800064086914, -6.320899963378906, -6.310999870300293, -6.303699970245361, -6.306099891662598, -6.305799961090088, -6.309500217437744, -6.309899806976318, -6.341800212860107, -6.34119987487793, -6.34250020980835, -6.342700004577637, -6.342299938201904, -6.342800140380859, -6.343200206756592, -6.342800140380859, -6.3429999351501465, -6.342899799346924, -6.343299865722656, -6.343200206756592, -6.343100070953369, -6.342700004577637, -6.343299865722656, -6.343200206756592, -6.343200206756592, -6.343500137329102, -6.343400001525879, -6.342899799346924, -6.343500137329102, -6.343500137329102, -6.343299865722656, -6.343400001525879, -6.343699932098389, -6.343699932098389, -6.343500137329102, -6.343599796295166, -6.343699932098389, -6.343599796295166, -6.343599796295166, -6.343599796295166, -6.343599796295166, -6.22790002822876, -6.220399856567383, -6.236100196838379, -6.242199897766113, -6.253799915313721, -6.265699863433838, -6.258800029754639, -6.2677998542785645, -6.273600101470947, -6.275599956512451, -6.274799823760986, -6.282199859619141, -6.280600070953369, -6.287199974060059, -6.306099891662598, -6.283299922943115, -6.298999786376953, -6.298699855804443, -6.2993998527526855, -6.299200057983398, -6.302599906921387, -6.306700229644775, -6.308800220489502, -6.3053998947143555, -6.3119001388549805, -6.312300205230713, -6.310500144958496, -6.311399936676025, -6.310400009155273, -6.314899921417236, -6.314799785614014, -6.34089994430542, -6.341100215911865, -6.34089994430542, -6.341400146484375, -6.341300010681152, -6.341300010681152, -6.3414998054504395, -6.341599941253662, -6.341300010681152, -6.341599941253662, -6.341700077056885, -6.341700077056885, -6.341800212860107, -6.341599941253662, -6.3414998054504395, -6.341599941253662, -6.341400146484375, -6.341599941253662, -6.341800212860107, -6.341800212860107, -6.341899871826172, -6.342199802398682, -6.341700077056885, -6.341899871826172, -6.3420000076293945, -6.342100143432617, -6.3420000076293945, -6.341800212860107, -6.3420000076293945, -6.341899871826172, -6.341899871826172, -6.341899871826172, -6.341899871826172, -6.341899871826172, -6.341899871826172, -6.249899864196777, -6.251999855041504, -6.264100074768066, -6.267199993133545, -6.273600101470947, -6.283299922943115, -6.293499946594238, -6.2941999435424805, -6.297599792480469, -6.2972002029418945, -6.306300163269043, -6.303400039672852, -6.301700115203857, -6.3003997802734375, -6.306600093841553, -6.308899879455566, -6.3105998039245605, -6.314899921417236, -6.318600177764893, -6.321400165557861, -6.317500114440918, -6.322500228881836, -6.324999809265137, -6.3171000480651855, -6.3256001472473145, -6.326000213623047, -6.3221001625061035, -6.323999881744385, -6.322299957275391, -6.324100017547607, -6.3165998458862305, -6.319699764251709, -6.321599960327148, -6.341000080108643, -6.340700149536133, -6.341000080108643, -6.34119987487793, -6.341100215911865, -6.341000080108643, -6.341000080108643, -6.341300010681152, -6.341400146484375, -6.341100215911865, -6.34119987487793, -6.341400146484375, -6.341300010681152, -6.3414998054504395, -6.3414998054504395, -6.341599941253662, -6.341700077056885, -6.341599941253662, -6.341400146484375, -6.3414998054504395, -6.341400146484375, -6.341400146484375, -6.34119987487793, -6.3420000076293945, -6.341800212860107, -6.341700077056885, -6.341599941253662, -6.341899871826172, -6.3414998054504395, -6.341800212860107, -6.3414998054504395, -6.3414998054504395, -6.341599941253662, -6.341700077056885, -6.259099960327148, -6.267399787902832, -6.264599800109863, -6.2916998863220215, -6.290500164031982, -6.289599895477295, -6.291999816894531, -6.295899868011475, -6.296000003814697, -6.299900054931641, -6.2947998046875, -6.299699783325195, -6.304200172424316, -6.303500175476074, -6.302299976348877, -6.305500030517578, -6.309299945831299, -6.309500217437744, -6.309599876403809, -6.3119001388549805, -6.312300205230713, -6.319399833679199, -6.314899921417236, -6.315899848937988, -6.314499855041504, -6.322299957275391, -6.321100234985352, -6.323699951171875, -6.329400062561035, -6.32450008392334, -6.324699878692627, -6.340099811553955, -6.340700149536133, -6.341000080108643, -6.34089994430542, -6.340799808502197, -6.341300010681152, -6.341100215911865, -6.341100215911865, -6.341400146484375, -6.34119987487793, -6.3414998054504395, -6.341100215911865, -6.341100215911865, -6.3414998054504395, -6.341700077056885, -6.341100215911865, -6.34119987487793, -6.3414998054504395, -6.341100215911865, -6.341300010681152, -6.341400146484375, -6.34119987487793, -6.341300010681152, -6.341400146484375, -6.341400146484375, -6.341300010681152, -6.341300010681152, -6.341599941253662, -6.341400146484375, -6.341599941253662, -6.34119987487793, -6.341599941253662, -6.3414998054504395, -6.3414998054504395, -6.267199993133545, -6.263899803161621, -6.275700092315674, -6.279399871826172, -6.28410005569458, -6.272299766540527, -6.291900157928467, -6.2947001457214355, -6.2957000732421875, -6.303500175476074, -6.304500102996826, -6.305799961090088, -6.307499885559082, -6.30649995803833, -6.313499927520752, -6.309199810028076, -6.312900066375732, -6.310699939727783, -6.321599960327148, -6.32289981842041, -6.3256001472473145, -6.317800045013428, -6.3180999755859375, -6.326900005340576, -6.326900005340576, -6.327099800109863, -6.3206000328063965, -6.322500228881836, -6.324900150299072, -6.325300216674805, -6.325699806213379, -6.325699806213379, -6.326399803161621, -6.34060001373291, -6.34060001373291, -6.34089994430542, -6.340700149536133, -6.340700149536133, -6.340700149536133, -6.340799808502197, -6.341100215911865, -6.341000080108643, -6.341100215911865, -6.34089994430542, -6.34089994430542, -6.341300010681152, -6.34119987487793, -6.341000080108643, -6.34119987487793, -6.341100215911865, -6.341000080108643, -6.341100215911865, -6.34119987487793, -6.341300010681152, -6.34119987487793, -6.341100215911865, -6.341300010681152, -6.34119987487793, -6.34119987487793, -6.341599941253662, -6.34119987487793, -6.34089994430542, -6.341400146484375, -6.341000080108643, -6.341100215911865, -6.34119987487793, -6.262899875640869, -6.275199890136719, -6.278200149536133, -6.295199871063232, -6.2941999435424805, -6.295599937438965, -6.303400039672852, -6.300600051879883, -6.304100036621094, -6.305200099945068, -6.302199840545654, -6.310200214385986, -6.315000057220459, -6.313399791717529, -6.311500072479248, -6.3125, -6.309999942779541, -6.311100006103516, -6.314499855041504, -6.316100120544434, -6.3144001960754395, -6.320499897003174, -6.322500228881836, -6.322800159454346, -6.321300029754639, -6.3256001472473145, -6.319200038909912, -6.32420015335083, -6.327099800109863, -6.3231000900268555, -6.3221001625061035, -6.322999954223633, -6.3231000900268555, -6.339700222015381, -6.3403000831604, -6.340099811553955, -6.340099811553955, -6.340199947357178, -6.340099811553955, -6.340400218963623, -6.340000152587891, -6.340199947357178, -6.3403000831604, -6.3403000831604, -6.3403000831604, -6.3403000831604, -6.3404998779296875, -6.3403000831604, -6.340700149536133, -6.3404998779296875, -6.3403000831604, -6.340400218963623, -6.340199947357178, -6.340400218963623, -6.340400218963623, -6.34060001373291, -6.3403000831604, -6.3404998779296875, -6.340400218963623, -6.340799808502197, -6.34060001373291, -6.340700149536133, -6.340700149536133, -6.3404998779296875, -6.340400218963623, -6.340400218963623, -6.34060001373291, -6.3404998779296875, -6.3404998779296875, -6.3404998779296875, -6.3404998779296875, -6.279900074005127, -6.2957000732421875, -6.299499988555908, -6.3043999671936035, -6.308199882507324, -6.309299945831299, -6.306000232696533, -6.312699794769287, -6.315700054168701, -6.31220006942749, -6.315100193023682, -6.315299987792969, -6.3180999755859375, -6.3190999031066895, -6.3206000328063965, -6.321199893951416, -6.321599960327148, -6.321899890899658, -6.321899890899658, -6.3221001625061035, -6.32420015335083, -6.324399948120117, -6.324999809265137, -6.326700210571289, -6.328000068664551, -6.328700065612793, -6.32919979095459, -6.329400062561035, -6.329800128936768, -6.329899787902832, -6.339799880981445, -6.3394999504089355, -6.339900016784668, -6.340099811553955, -6.340000152587891, -6.340099811553955, -6.3403000831604, -6.340000152587891, -6.340199947357178, -6.3403000831604, -6.340199947357178, -6.340099811553955, -6.3404998779296875, -6.3403000831604, -6.3404998779296875, -6.340199947357178, -6.340700149536133, -6.340199947357178, -6.3404998779296875, -6.34060001373291, -6.3403000831604, -6.3404998779296875, -6.3403000831604, -6.340400218963623, -6.340400218963623, -6.340099811553955, -6.3404998779296875, -6.340799808502197, -6.34060001373291, -6.3404998779296875, -6.340400218963623, -6.340400218963623, -6.340400218963623, -6.3403000831604, -6.340400218963623, -6.3403000831604, -6.3403000831604, -6.340400218963623, -6.340400218963623, -6.340400218963623, -6.340400218963623, -6.299900054931641, -6.30079984664917, -6.304500102996826, -6.302299976348877, -6.304200172424316, -6.304699897766113, -6.312300205230713, -6.315899848937988, -6.3180999755859375, -6.316500186920166, -6.3155999183654785, -6.31820011138916, -6.3190999031066895, -6.3196001052856445, -6.320000171661377, -6.320099830627441, -6.320300102233887, -6.321599960327148, -6.3225998878479, -6.322700023651123, -6.323400020599365, -6.3242998123168945, -6.325699806213379, -6.326399803161621, -6.3267998695373535, -6.327000141143799, -6.327300071716309, -6.328100204467773, -6.329599857330322, -6.329899787902832, -6.339399814605713, -6.339799880981445, -6.339600086212158, -6.339900016784668, -6.339900016784668, -6.340000152587891, -6.340000152587891, -6.340099811553955, -6.340400218963623, -6.340199947357178, -6.340099811553955, -6.340000152587891, -6.340400218963623, -6.3403000831604, -6.340099811553955, -6.340099811553955, -6.3403000831604, -6.3403000831604, -6.340099811553955, -6.34060001373291, -6.340199947357178, -6.3403000831604, -6.340400218963623, -6.340099811553955, -6.3403000831604, -6.3404998779296875, -6.339900016784668, -6.340099811553955, -6.3403000831604, -6.3403000831604, -6.339900016784668, -6.340199947357178, -6.340199947357178, -6.340099811553955, -6.340199947357178, -6.340199947357178, -6.340199947357178, -6.340199947357178, -6.3403000831604, -6.340199947357178, -6.296800136566162, -6.299099922180176, -6.306099891662598, -6.310800075531006, -6.309000015258789, -6.31220006942749, -6.314799785614014, -6.309999942779541, -6.316999912261963, -6.311299800872803, -6.315700054168701, -6.319300174713135, -6.319699764251709, -6.320000171661377, -6.321300029754639, -6.321700096130371, -6.323500156402588, -6.323500156402588, -6.324900150299072, -6.327000141143799, -6.327300071716309, -6.327700138092041, -6.328700065612793, -6.32919979095459, -6.329599857330322, -6.329599857330322, -6.330100059509277, -6.330399990081787, -6.330399990081787, -6.330599784851074], \"Term\": [\"austin\", \"business\", \"analyst\", \"ago\", \"job\", \"day\", \"risk\", \"analytic\", \"client\", \"employee\", \"work\", \"service\", \"process\", \"product\", \"schwab\", \"experience\", \"team\", \"operation\", \"apply\", \"opportunity\", \"specialist\", \"ability\", \"support\", \"cray\", \"include\", \"company\", \"drive\", \"yrs\", \"retirement\", \"life\", \"austin\", \"business\", \"analyst\", \"ago\", \"job\", \"day\", \"analytic\", \"risk\", \"client\", \"work\", \"employee\", \"process\", \"product\", \"service\", \"experience\", \"schwab\", \"apply\", \"team\", \"operation\", \"ability\", \"opportunity\", \"specialist\", \"cray\", \"support\", \"yrs\", \"drive\", \"company\", \"include\", \"retirement\", \"analytical\", \"farm\", \"respond\", \"matching\", \"reward\", \"legally\", \"transform\", \"quantitatively\", \"compliance\", \"mother\", \"hand\", \"computing\", \"diversify\", \"field\", \"minnesota\", \"category\", \"keyword\", \"term\", \"wednesday\", \"assist\", \"purpose\", \"driving\", \"age\", \"salesforce\", \"expression\", \"rate\", \"lynn\", \"organizational\", \"assessment\", \"look\", \"tolerance\", \"parental\", \"impact\", \"ago\", \"austin\", \"day\", \"job\", \"business\", \"team\", \"analyst\", \"analytic\", \"ability\", \"schwab\", \"employee\", \"client\", \"opportunity\", \"experience\", \"work\", \"risk\", \"operation\", \"service\", \"product\", \"process\", \"cray\", \"support\", \"drive\", \"apply\", \"specialist\", \"equal\", \"engineering\", \"company\", \"yrs\", \"finance\", \"include\", \"specific\", \"adherence\", \"creative\", \"impact\", \"serve\", \"discussion\", \"reasonable\", \"comp\", \"lifecycle\", \"loyalty\", \"achieve\", \"quantitatively\", \"speak\", \"treasury\", \"response\", \"washington\", \"building\", \"coordinate\", \"analsyt\", \"exceed\", \"polycom\", \"amherst\", \"relevant\", \"cen\", \"tier\", \"integrity\", \"update\", \"addition\", \"sabbatical\", \"sex\", \"activation\", \"inquire\", \"austin\", \"employee\", \"analyst\", \"day\", \"client\", \"product\", \"business\", \"process\", \"risk\", \"analytic\", \"job\", \"operation\", \"service\", \"specialist\", \"work\", \"experience\", \"opportunity\", \"team\", \"company\", \"ago\", \"apply\", \"ability\", \"life\", \"include\", \"schwab\", \"time\", \"responsible\", \"finance\", \"relate\", \"yrs\", \"status\", \"support\", \"cray\", \"share\", \"response\", \"advocacy\", \"professionally\", \"absolute\", \"term\", \"organizational\", \"collaboratively\", \"transform\", \"analyze\", \"procedure\", \"offshore\", \"regular\", \"face\", \"margin\", \"gift\", \"spirit\", \"smart\", \"adaptable\", \"september\", \"genetic\", \"output\", \"design\", \"desire\", \"electrical\", \"creative\", \"software\", \"exceed\", \"parental\", \"mba\", \"order\", \"return\", \"austin\", \"ago\", \"business\", \"analyst\", \"day\", \"job\", \"analytic\", \"risk\", \"process\", \"schwab\", \"service\", \"operation\", \"product\", \"client\", \"employee\", \"work\", \"apply\", \"specialist\", \"champion\", \"pace\", \"relate\", \"experience\", \"team\", \"customer\", \"opportunity\", \"develop\", \"engineering\", \"drive\", \"cray\", \"year\", \"ability\", \"support\", \"yrs\", \"location\", \"completion\", \"analy\", \"intensity\", \"horton\", \"require\", \"growth\", \"record\", \"look\", \"fortunato\", \"advanced\", \"core\", \"speak\", \"computer\", \"learn\", \"stock\", \"healthy\", \"know\", \"handle\", \"offshore\", \"seek\", \"discovery\", \"minnesota\", \"building\", \"visualization\", \"governance\", \"online\", \"superior\", \"electrical\", \"build\", \"able\", \"austin\", \"ago\", \"work\", \"risk\", \"business\", \"analyst\", \"job\", \"employee\", \"ability\", \"service\", \"schwab\", \"day\", \"analytic\", \"product\", \"operation\", \"process\", \"account\", \"company\", \"support\", \"apply\", \"customer\", \"client\", \"specialist\", \"team\", \"experience\", \"yrs\", \"retirement\", \"opportunity\", \"include\", \"strategy\", \"drive\", \"cray\", \"organizational\", \"guide\", \"field\", \"communicate\", \"discuss\", \"professional\", \"efficient\", \"highly\", \"monitor\", \"accept\", \"assistant\", \"description\", \"commitment\", \"future\", \"liability\", \"compensation\", \"genetic\", \"aus\", \"vital\", \"achievement\", \"try\", \"farm\", \"maintain\", \"discipline\", \"enter\", \"perform\", \"comptroller\", \"serve\", \"large\", \"discriminate\", \"storm\", \"interest\", \"build\", \"analyst\", \"austin\", \"business\", \"day\", \"client\", \"risk\", \"job\", \"analytic\", \"ago\", \"schwab\", \"employee\", \"service\", \"opportunity\", \"product\", \"support\", \"team\", \"apply\", \"include\", \"specialist\", \"account\", \"work\", \"develop\", \"payroll\", \"cray\", \"drive\", \"strategy\", \"experience\", \"process\", \"operation\", \"yrs\", \"life\", \"ability\", \"pmo\", \"workforce\", \"managing\", \"sabbatical\", \"discriminate\", \"analyze\", \"recommend\", \"visualisation\", \"core\", \"asset\", \"coordination\", \"trend\", \"title\", \"adherence\", \"spirit\", \"specifically\", \"organizational\", \"gracy\", \"convention\", \"professional\", \"understandable\", \"transaction\", \"exist\", \"resolution\", \"interest\", \"monitor\", \"wednesday\", \"overview\", \"description\", \"acceptance\", \"accessible\", \"erisa\", \"analyst\", \"austin\", \"business\", \"process\", \"ago\", \"risk\", \"day\", \"product\", \"experience\", \"work\", \"client\", \"job\", \"operation\", \"service\", \"schwab\", \"analytic\", \"company\", \"ability\", \"include\", \"opportunity\", \"employee\", \"team\", \"specialist\", \"cray\", \"yrs\", \"drive\", \"analytical\", \"hour\", \"support\", \"strategy\", \"apply\", \"graduate\", \"coordinate\", \"bloomington\", \"formulate\", \"national\", \"gender\", \"certification\", \"spirit\", \"crucial\", \"schedule\", \"discriminate\", \"spend\", \"specification\", \"share\", \"focus\", \"effort\", \"demand\", \"officer\", \"assessment\", \"highly\", \"indicator\", \"optimistic\", \"onsite\", \"live\", \"fitness\", \"key\", \"lane\", \"main\", \"cpa\", \"decade\", \"mba\", \"ago\", \"business\", \"austin\", \"analyst\", \"day\", \"product\", \"work\", \"process\", \"apply\", \"analytic\", \"specialist\", \"job\", \"support\", \"employee\", \"service\", \"cray\", \"client\", \"experience\", \"opportunity\", \"risk\", \"team\", \"schwab\", \"operation\", \"digital\", \"relate\", \"include\", \"drive\", \"skill\", \"plan\", \"finance\", \"ability\", \"coordinate\", \"contract\", \"indicator\", \"regard\", \"demand\", \"ancestry\", \"accuracy\", \"cpa\", \"title\", \"able\", \"trend\", \"highly\", \"vital\", \"successful\", \"overview\", \"legally\", \"strategically\", \"appreciate\", \"crucial\", \"mba\", \"aus\", \"respond\", \"electronic\", \"amherst\", \"bring\", \"expression\", \"origin\", \"know\", \"recent\", \"excellent\", \"quantitative\", \"relationship\", \"analyst\", \"austin\", \"ago\", \"analytic\", \"client\", \"job\", \"risk\", \"service\", \"business\", \"process\", \"day\", \"apply\", \"employee\", \"product\", \"work\", \"schwab\", \"drive\", \"operation\", \"cray\", \"experience\", \"ability\", \"company\", \"specialist\", \"financial\", \"support\", \"opportunity\", \"success\", \"decision\", \"analytical\", \"right\", \"retirement\", \"strategy\", \"team\", \"introduction\", \"liability\", \"core\", \"communicate\", \"proficiency\", \"rd\", \"offer\", \"associate\", \"color\", \"line\", \"handle\", \"washington\", \"onsite\", \"search\", \"expectation\", \"orientation\", \"real\", \"career\", \"graduate\", \"officer\", \"lifestyle\", \"office\", \"margin\", \"efficiently\", \"inclusion\", \"modelling\", \"adaptable\", \"excellent\", \"speak\", \"face\", \"policy\", \"tuition\", \"happy\", \"austin\", \"business\", \"risk\", \"client\", \"analyst\", \"job\", \"analytic\", \"work\", \"schwab\", \"ago\", \"employee\", \"operation\", \"day\", \"apply\", \"experience\", \"support\", \"ability\", \"service\", \"team\", \"cray\", \"yrs\", \"strategy\", \"opportunity\", \"drive\", \"process\", \"include\", \"status\", \"management\", \"datum\", \"product\", \"account\", \"company\", \"specialist\", \"earner\", \"identity\", \"inquiry\", \"ambiguity\", \"accept\", \"regard\", \"location\", \"report\", \"enter\", \"fitness\", \"capacity\", \"organization\", \"solid\", \"advanced\", \"depth\", \"establish\", \"complex\", \"flexibility\", \"structure\", \"american\", \"keyword\", \"accuracy\", \"demand\", \"background\", \"choice\", \"possible\", \"relationship\", \"personalize\", \"chuck\", \"exciting\", \"interest\", \"austin\", \"analyst\", \"job\", \"ago\", \"business\", \"analytic\", \"risk\", \"apply\", \"client\", \"work\", \"team\", \"experience\", \"day\", \"service\", \"cray\", \"employee\", \"product\", \"process\", \"schwab\", \"support\", \"specialist\", \"include\", \"finance\", \"hour\", \"customer\", \"ability\", \"status\", \"success\", \"equal\", \"operation\", \"opportunity\", \"company\", \"online\", \"handle\", \"volunteer\", \"investing\", \"guide\", \"affordable\", \"appreciate\", \"healthy\", \"gracy\", \"discovery\", \"vital\", \"proud\", \"focus\", \"follow\", \"maintain\", \"highly\", \"impact\", \"cpa\", \"gender\", \"education\", \"contingent\", \"modelling\", \"operational\", \"manufacture\", \"expression\", \"contribute\", \"managing\", \"acuman\", \"addition\", \"complex\", \"excellent\", \"military\", \"business\", \"austin\", \"job\", \"analyst\", \"analytic\", \"experience\", \"day\", \"work\", \"client\", \"product\", \"service\", \"ago\", \"risk\", \"process\", \"schwab\", \"employee\", \"ability\", \"plan\", \"operation\", \"equal\", \"cray\", \"customer\", \"strategy\", \"analytical\", \"team\", \"activity\", \"finance\", \"opportunity\", \"support\", \"specialist\", \"include\", \"apply\", \"wednesday\", \"solve\", \"contribute\", \"lynn\", \"volume\", \"efficient\", \"regularly\", \"concept\", \"superior\", \"contract\", \"guide\", \"spirit\", \"online\", \"pride\", \"analsyt\", \"purpose\", \"respect\", \"ancestry\", \"spend\", \"order\", \"bring\", \"governance\", \"liberate\", \"check\", \"diversify\", \"speak\", \"growth\", \"acceptance\", \"affordable\", \"core\", \"visualization\", \"current\", \"asset\", \"business\", \"austin\", \"analyst\", \"job\", \"analytic\", \"work\", \"ago\", \"risk\", \"employee\", \"service\", \"client\", \"experience\", \"process\", \"product\", \"relate\", \"day\", \"opportunity\", \"operation\", \"team\", \"schwab\", \"specialist\", \"support\", \"drive\", \"apply\", \"status\", \"finance\", \"include\", \"yrs\", \"cray\", \"strategy\", \"ability\", \"discipline\", \"associate\", \"excel\", \"regularly\", \"mother\", \"continuous\", \"graduate\", \"workforce\", \"delivery\", \"professionally\", \"trend\", \"line\", \"discriminate\", \"loyalty\", \"partnership\", \"ve\", \"identity\", \"transaction\", \"cen\", \"accept\", \"look\", \"respond\", \"wall\", \"storm\", \"efficient\", \"matching\", \"relevant\", \"exist\", \"optimistic\", \"parental\", \"structure\", \"background\", \"large\", \"achievement\", \"main\", \"analyst\", \"austin\", \"job\", \"business\", \"ago\", \"analytic\", \"service\", \"client\", \"process\", \"employee\", \"specialist\", \"product\", \"risk\", \"day\", \"experience\", \"schwab\", \"apply\", \"cray\", \"company\", \"strategy\", \"opportunity\", \"analytical\", \"champion\", \"operation\", \"success\", \"applicant\", \"yrs\", \"develop\", \"drive\", \"customer\", \"work\", \"team\", \"support\", \"handle\", \"color\", \"officer\", \"hand\", \"minnesota\", \"build\", \"offer\", \"workforce\", \"appreciate\", \"curious\", \"depth\", \"fitness\", \"structure\", \"lynn\", \"design\", \"future\", \"spirit\", \"discipline\", \"growth\", \"keyword\", \"food\", \"english\", \"fifth\", \"wednesday\", \"discussion\", \"recent\", \"purchase\", \"coordinate\", \"investigation\", \"optimistic\", \"stock\", \"timelin\", \"sexual\", \"september\", \"analyst\", \"business\", \"austin\", \"service\", \"employee\", \"ago\", \"day\", \"product\", \"client\", \"schwab\", \"job\", \"analytic\", \"experience\", \"work\", \"risk\", \"process\", \"operation\", \"apply\", \"team\", \"specialist\", \"ability\", \"create\", \"support\", \"cray\", \"opportunity\", \"success\", \"plan\", \"account\", \"pay\", \"retirement\", \"life\", \"polycom\", \"gender\", \"loyalty\", \"parental\", \"transaction\", \"guide\", \"storm\", \"understand\", \"transform\", \"discussion\", \"vital\", \"submission\", \"contract\", \"future\", \"respond\", \"managing\", \"master\", \"discriminate\", \"quantitative\", \"fortunato\", \"age\", \"exciting\", \"know\", \"convention\", \"expression\", \"excel\", \"communicate\", \"description\", \"independently\", \"destiny\", \"communication\", \"party\", \"execute\", \"interpret\", \"day\", \"analyst\", \"business\", \"job\", \"risk\", \"austin\", \"analytic\", \"client\", \"ago\", \"employee\", \"service\", \"product\", \"experience\", \"work\", \"support\", \"process\", \"ability\", \"schwab\", \"develop\", \"analytical\", \"position\", \"team\", \"operation\", \"good\", \"digital\", \"employer\", \"apply\", \"specialist\", \"yrs\", \"status\", \"include\", \"cray\", \"opportunity\", \"certification\", \"officer\", \"design\", \"partnership\", \"dynamic\", \"current\", \"independently\", \"inquiry\", \"american\", \"timely\", \"internal\", \"recommend\", \"legally\", \"appreciate\", \"spend\", \"collaboratively\", \"focus\", \"tomorrow\", \"capability\", \"look\", \"hand\", \"category\", \"firm\", \"organization\", \"report\", \"bloomington\", \"handle\", \"relocation\", \"issue\", \"comp\", \"june\", \"multiple\", \"license\", \"austin\", \"job\", \"business\", \"work\", \"analyst\", \"ago\", \"apply\", \"analytic\", \"employee\", \"service\", \"day\", \"specialist\", \"support\", \"team\", \"product\", \"experience\", \"client\", \"risk\", \"schwab\", \"operation\", \"process\", \"company\", \"strategy\", \"life\", \"include\", \"protect\", \"ability\", \"analytical\", \"charle\", \"yrs\", \"opportunity\", \"cray\", \"drive\", \"storm\", \"handle\", \"analsyt\", \"online\", \"establish\", \"serve\", \"vital\", \"inquire\", \"mitigation\", \"comp\", \"graduate\", \"manufacturing\", \"recordkeep\", \"timely\", \"co\", \"respond\", \"speak\", \"assist\", \"mother\", \"initiative\", \"american\", \"gender\", \"personalize\", \"key\", \"expectation\", \"complex\", \"guide\", \"demand\", \"future\", \"coordinate\", \"military\", \"leave\", \"flexibility\", \"certification\", \"long\", \"performance\", \"human\", \"communication\", \"austin\", \"analyst\", \"business\", \"day\", \"client\", \"work\", \"job\", \"experience\", \"apply\", \"risk\", \"service\", \"analytic\", \"process\", \"ago\", \"specialist\", \"product\", \"team\", \"schwab\", \"operation\", \"ability\", \"cray\", \"support\", \"opportunity\", \"yrs\", \"employee\", \"life\", \"company\", \"drive\", \"status\", \"develop\", \"washington\", \"member\", \"structure\", \"fitness\", \"office\", \"tolerance\", \"desire\", \"proud\", \"co\", \"design\", \"american\", \"internal\", \"assessment\", \"volunteer\", \"future\", \"onsite\", \"respond\", \"exceptional\", \"diversify\", \"offshore\", \"apple\", \"trend\", \"officer\", \"storm\", \"intelligence\", \"september\", \"establish\", \"regularly\", \"appreciate\", \"destiny\", \"expectation\", \"title\", \"key\", \"specifically\", \"polycom\", \"community\", \"return\", \"sunday\", \"leave\", \"exist\", \"comptroller\", \"business\", \"analyst\", \"risk\", \"ago\", \"job\", \"austin\", \"client\", \"experience\", \"opportunity\", \"schwab\", \"day\", \"work\", \"employee\", \"apply\", \"service\", \"analytic\", \"product\", \"team\", \"ability\", \"process\", \"support\", \"specialist\", \"operation\", \"include\", \"develop\", \"yrs\", \"drive\", \"cray\", \"account\", \"life\", \"contribute\", \"handle\", \"respect\", \"cen\", \"apple\", \"accept\", \"trading\", \"amherst\", \"vital\", \"sex\", \"expectation\", \"continuous\", \"legally\", \"cpa\", \"monitor\", \"military\", \"superior\", \"workforce\", \"large\", \"wednesday\", \"depth\", \"specification\", \"discuss\", \"reimbursement\", \"solid\", \"offshore\", \"knowledge\", \"transaction\", \"fitness\", \"gender\", \"activation\", \"excel\", \"healthy\", \"operational\", \"inquire\", \"major\", \"oxford\", \"relationship\", \"enable\", \"working\", \"business\", \"austin\", \"day\", \"process\", \"job\", \"analytic\", \"work\", \"analyst\", \"experience\", \"ago\", \"risk\", \"schwab\", \"client\", \"service\", \"employee\", \"specialist\", \"opportunity\", \"product\", \"ability\", \"support\", \"cray\", \"apply\", \"team\", \"operation\", \"yrs\", \"company\", \"status\", \"retirement\", \"plan\", \"analytical\"]}, \"plot.opts\": {\"xlab\": \"PC1\", \"ylab\": \"PC2\"}, \"topic.order\": [14, 20, 7, 16, 10, 19, 8, 9, 15, 3, 18, 17, 5, 11, 1, 4, 2, 12, 13, 6], \"lambda.step\": 0.01, \"token.table\": {\"Term\": [\"ability\", \"able\", \"absolute\", \"accept\", \"acceptance\", \"accessible\", \"account\", \"accuracy\", \"achieve\", \"achievement\", \"activation\", \"activity\", \"acuman\", \"adaptable\", \"addition\", \"adherence\", \"advanced\", \"advocacy\", \"affordable\", \"age\", \"ago\", \"ambiguity\", \"american\", \"amherst\", \"analsyt\", \"analy\", \"analyst\", \"analytic\", \"analytical\", \"analyze\", \"ancestry\", \"apple\", \"applicant\", \"apply\", \"appreciate\", \"assessment\", \"asset\", \"assist\", \"assistant\", \"associate\", \"aus\", \"austin\", \"background\", \"bloomington\", \"bring\", \"build\", \"building\", \"business\", \"capability\", \"capacity\", \"career\", \"category\", \"cen\", \"certification\", \"champion\", \"charle\", \"check\", \"choice\", \"chuck\", \"client\", \"co\", \"collaboratively\", \"color\", \"commitment\", \"communicate\", \"communication\", \"community\", \"comp\", \"company\", \"compensation\", \"completion\", \"complex\", \"compliance\", \"comptroller\", \"computer\", \"computing\", \"concept\", \"contingent\", \"continuous\", \"contract\", \"contribute\", \"convention\", \"coordinate\", \"coordination\", \"core\", \"cpa\", \"cray\", \"create\", \"creative\", \"crucial\", \"curious\", \"current\", \"customer\", \"datum\", \"day\", \"decade\", \"decision\", \"delivery\", \"demand\", \"depth\", \"description\", \"design\", \"desire\", \"destiny\", \"develop\", \"digital\", \"discipline\", \"discovery\", \"discriminate\", \"discuss\", \"discussion\", \"diversify\", \"drive\", \"driving\", \"dynamic\", \"earner\", \"education\", \"efficient\", \"efficiently\", \"effort\", \"electrical\", \"electronic\", \"employee\", \"employer\", \"enable\", \"engineering\", \"english\", \"enter\", \"equal\", \"erisa\", \"establish\", \"exceed\", \"excel\", \"excellent\", \"exceptional\", \"exciting\", \"execute\", \"exist\", \"expectation\", \"experience\", \"expression\", \"face\", \"farm\", \"field\", \"fifth\", \"finance\", \"financial\", \"firm\", \"fitness\", \"flexibility\", \"focus\", \"follow\", \"food\", \"formulate\", \"fortunato\", \"future\", \"gender\", \"genetic\", \"gift\", \"good\", \"governance\", \"gracy\", \"graduate\", \"growth\", \"guide\", \"hand\", \"handle\", \"happy\", \"healthy\", \"highly\", \"horton\", \"hour\", \"human\", \"identity\", \"impact\", \"include\", \"inclusion\", \"independently\", \"indicator\", \"initiative\", \"inquire\", \"inquiry\", \"integrity\", \"intelligence\", \"intensity\", \"interest\", \"internal\", \"interpret\", \"introduction\", \"investigation\", \"investing\", \"issue\", \"job\", \"june\", \"key\", \"keyword\", \"know\", \"knowledge\", \"lane\", \"large\", \"learn\", \"leave\", \"legally\", \"liability\", \"liberate\", \"license\", \"life\", \"lifecycle\", \"lifestyle\", \"line\", \"live\", \"location\", \"long\", \"look\", \"loyalty\", \"lynn\", \"main\", \"maintain\", \"major\", \"management\", \"managing\", \"manufacture\", \"manufacturing\", \"margin\", \"master\", \"matching\", \"mba\", \"member\", \"military\", \"minnesota\", \"mitigation\", \"modelling\", \"monitor\", \"mother\", \"multiple\", \"national\", \"offer\", \"office\", \"officer\", \"offshore\", \"online\", \"onsite\", \"operation\", \"operational\", \"opportunity\", \"optimistic\", \"order\", \"organization\", \"organizational\", \"orientation\", \"origin\", \"output\", \"overview\", \"oxford\", \"pace\", \"parental\", \"partnership\", \"party\", \"pay\", \"payroll\", \"perform\", \"performance\", \"personalize\", \"plan\", \"pmo\", \"policy\", \"polycom\", \"position\", \"possible\", \"pride\", \"procedure\", \"process\", \"product\", \"professional\", \"professionally\", \"proficiency\", \"protect\", \"proud\", \"purchase\", \"purpose\", \"quantitative\", \"quantitatively\", \"rate\", \"rd\", \"real\", \"reasonable\", \"recent\", \"recommend\", \"record\", \"recordkeep\", \"regard\", \"regular\", \"regularly\", \"reimbursement\", \"relate\", \"relationship\", \"relevant\", \"relocation\", \"report\", \"require\", \"resolution\", \"respect\", \"respond\", \"response\", \"responsible\", \"retirement\", \"return\", \"reward\", \"right\", \"risk\", \"sabbatical\", \"salesforce\", \"schedule\", \"schwab\", \"search\", \"seek\", \"september\", \"serve\", \"service\", \"sex\", \"sexual\", \"share\", \"skill\", \"smart\", \"software\", \"solid\", \"solve\", \"speak\", \"specialist\", \"specific\", \"specifically\", \"specification\", \"spend\", \"spirit\", \"status\", \"stock\", \"storm\", \"strategically\", \"strategy\", \"structure\", \"submission\", \"success\", \"successful\", \"sunday\", \"superior\", \"support\", \"team\", \"term\", \"tier\", \"time\", \"timelin\", \"timely\", \"title\", \"tolerance\", \"tomorrow\", \"trading\", \"transaction\", \"transform\", \"treasury\", \"trend\", \"try\", \"tuition\", \"understand\", \"understandable\", \"update\", \"ve\", \"visualisation\", \"visualization\", \"vital\", \"volume\", \"volunteer\", \"wall\", \"washington\", \"wednesday\", \"work\", \"workforce\", \"working\", \"year\", \"yrs\"], \"Topic\": [1, 1, 1, 1, 1, 1, 1, 1, 1, 1, 1, 1, 1, 1, 1, 1, 1, 1, 1, 1, 1, 1, 1, 1, 1, 1, 1, 1, 1, 1, 1, 1, 1, 1, 1, 1, 1, 1, 1, 1, 1, 1, 1, 1, 1, 1, 1, 1, 1, 1, 1, 1, 1, 1, 1, 1, 1, 1, 1, 1, 1, 1, 1, 1, 1, 1, 1, 1, 1, 1, 1, 1, 1, 1, 1, 1, 1, 1, 1, 1, 1, 1, 1, 1, 1, 1, 1, 1, 1, 1, 1, 1, 1, 1, 1, 1, 1, 1, 1, 1, 1, 1, 1, 1, 1, 1, 1, 1, 1, 1, 1, 1, 1, 1, 1, 1, 1, 1, 1, 1, 1, 1, 1, 1, 1, 1, 1, 1, 1, 1, 1, 1, 1, 1, 1, 1, 1, 1, 1, 1, 1, 1, 1, 1, 1, 1, 1, 1, 1, 1, 1, 1, 1, 1, 1, 1, 1, 1, 1, 1, 1, 1, 1, 1, 1, 1, 1, 1, 1, 1, 1, 1, 1, 1, 1, 1, 1, 1, 1, 1, 1, 1, 1, 1, 1, 1, 1, 1, 1, 1, 1, 1, 1, 1, 1, 1, 1, 1, 1, 1, 1, 1, 1, 1, 1, 1, 1, 1, 1, 1, 1, 1, 1, 1, 1, 1, 1, 1, 1, 1, 1, 1, 1, 1, 1, 1, 1, 1, 1, 1, 1, 1, 1, 1, 1, 1, 1, 1, 1, 1, 1, 1, 1, 1, 1, 1, 1, 1, 1, 1, 1, 1, 1, 1, 1, 1, 1, 1, 1, 1, 1, 1, 1, 1, 1, 1, 1, 1, 1, 1, 1, 1, 1, 1, 1, 1, 1, 1, 1, 1, 1, 1, 1, 1, 1, 1, 1, 1, 1, 1, 1, 1, 1, 1, 1, 1, 1, 1, 1, 1, 1, 1, 1, 1, 1, 1, 1, 1, 1, 1, 1, 1, 1, 1, 1, 1, 1, 1, 1, 1, 1, 1, 1, 1, 1, 1, 1, 1, 1, 1, 1, 1, 1, 1, 1, 1, 1, 1, 1, 1, 1, 1, 1, 1, 1, 1, 1, 1, 1, 1, 1, 1, 1, 1, 1, 1, 1, 1, 1, 1, 1, 1, 1, 1, 1, 1, 1, 1, 1, 1, 1, 1, 1, 1, 1, 1, 1, 1, 1], \"Freq\": [1.018611192703247, 0.9751342535018921, 0.9750601053237915, 0.9752215147018433, 0.9752537608146667, 0.9751660823822021, 1.0145446062088013, 0.9753386974334717, 0.9754127264022827, 0.9750155806541443, 0.9748309254646301, 1.0079556703567505, 0.9752714037895203, 0.9753794074058533, 0.9753652215003967, 0.9753495454788208, 0.9753038883209229, 0.9752833247184753, 0.9753690361976624, 0.9752824306488037, 1.021898627281189, 0.9752377271652222, 0.9753081798553467, 0.9753128290176392, 0.9753839373588562, 0.9754016995429993, 1.0223863124847412, 1.021349549293518, 1.0144844055175781, 0.9751257300376892, 0.9754294157028198, 0.9752134084701538, 1.01205313205719, 1.0192087888717651, 0.9754138588905334, 0.9754845499992371, 0.9749782085418701, 0.975200891494751, 0.9752525091171265, 0.9754010438919067, 0.9752336740493774, 0.9835770130157471, 0.975059449672699, 0.975241482257843, 0.9753038883209229, 0.9751260876655579, 0.9751030802726746, 1.0225324630737305, 0.9752614498138428, 0.9751877784729004, 0.9751724600791931, 0.9752638339996338, 0.9752939939498901, 0.9752556681632996, 1.0122877359390259, 1.0119556188583374, 0.9751376509666443, 0.9750471115112305, 0.9751847982406616, 1.020965576171875, 0.9752925038337708, 0.9754438996315002, 0.9751689434051514, 0.9750704169273376, 0.9751488566398621, 0.9747965931892395, 0.9751163125038147, 0.9753725528717041, 1.016589641571045, 0.9751011729240417, 0.9752113223075867, 0.9751461744308472, 0.975214958190918, 0.9750340580940247, 0.975350558757782, 0.975328803062439, 0.9752807021141052, 0.9751162528991699, 0.9751604199409485, 0.9751788973808289, 0.97531658411026, 0.975264310836792, 0.9754416346549988, 0.9751036763191223, 0.9752476215362549, 0.975395917892456, 1.0176217555999756, 1.011940360069275, 0.9753173589706421, 0.975318968296051, 0.9751724600791931, 0.9751290082931519, 1.0147649049758911, 1.0121463537216187, 1.0216681957244873, 0.9749369621276855, 1.0120290517807007, 0.9750363230705261, 0.9754083156585693, 0.9752016067504883, 0.9753533005714417, 0.9754054546356201, 0.9754309058189392, 0.9753391146659851, 1.0146831274032593, 1.012558102607727, 0.9753293991088867, 0.9752324223518372, 0.9754028916358948, 0.975406289100647, 0.9753459095954895, 0.9754147529602051, 1.0165513753890991, 0.9752101898193359, 0.9751341342926025, 0.9750722646713257, 0.9750653505325317, 0.9753401279449463, 0.9752360582351685, 0.9753343462944031, 0.9752134680747986, 0.9752988815307617, 1.0207242965698242, 1.0119106769561768, 0.9751636385917664, 1.012444257736206, 0.9750362038612366, 0.9753389954566956, 1.0145432949066162, 0.9750651121139526, 0.9753899574279785, 0.9752272963523865, 0.9751487374305725, 0.9751479625701904, 0.975131094455719, 0.9750807285308838, 0.9750292897224426, 0.9751625061035156, 0.975272536277771, 1.0198208093643188, 0.9752816557884216, 0.9753032922744751, 0.9751336574554443, 0.9751429557800293, 0.9748654365539551, 1.0148751735687256, 1.0145782232284546, 0.9751596450805664, 0.9753075838088989, 0.9750064015388489, 0.9753603339195251, 0.9750427603721619, 0.9750239849090576, 0.9751190543174744, 0.9752262830734253, 0.9754768013954163, 0.9752785563468933, 0.9752737879753113, 0.9751160144805908, 1.0120456218719482, 0.9753305315971375, 0.975279688835144, 0.9753429889678955, 0.9751758575439453, 0.9755479693412781, 0.9754208922386169, 0.9756274819374084, 0.9750142097473145, 0.9751332402229309, 0.9754425883293152, 0.9751545190811157, 1.0120090246200562, 0.9749408960342407, 0.974976122379303, 0.9750998020172119, 1.0166598558425903, 0.9748373627662659, 0.9751763939857483, 0.9749250411987305, 0.9750871062278748, 0.9751198291778564, 0.9754172563552856, 0.9752436280250549, 0.9753302931785583, 0.9754539132118225, 0.9752301573753357, 0.9752117991447449, 0.974963903427124, 0.9752969145774841, 0.9750626087188721, 0.9749676585197449, 0.9748567342758179, 1.0218769311904907, 0.9749184846878052, 0.975141167640686, 0.9751289486885071, 0.975231945514679, 0.9748995304107666, 0.9749460220336914, 0.9751653075218201, 0.9752233624458313, 0.975165069103241, 0.9755261540412903, 0.9751794934272766, 0.9750763177871704, 0.9749411344528198, 1.0145049095153809, 0.9749912023544312, 0.9748724699020386, 0.9753619432449341, 0.9753752946853638, 0.9753044247627258, 0.9751300811767578, 0.9753731489181519, 0.975281834602356, 0.9754254221916199, 0.9751304984092712, 0.9754049181938171, 0.975145697593689, 1.008043885231018, 0.9750825762748718, 0.9750784635543823, 0.9753229022026062, 0.9753071665763855, 0.975140392780304, 0.9754294157028198, 0.9750363230705261, 0.9749612808227539, 0.9752076268196106, 0.9752875566482544, 0.9752886891365051, 0.9752207398414612, 0.9751870632171631, 0.9752711057662964, 0.9749048948287964, 0.9754301905632019, 0.9751860499382019, 0.9752400517463684, 0.9751991033554077, 0.9755218625068665, 0.9753051996231079, 0.9751793742179871, 1.0194119215011597, 0.9750084280967712, 1.0187382698059082, 0.9753286838531494, 0.9747653007507324, 0.9753730297088623, 0.9753069281578064, 0.9749930500984192, 0.9752196073532104, 0.9752088189125061, 0.9751921892166138, 0.975150465965271, 0.999862790107727, 0.9752252697944641, 0.9751611351966858, 0.9752066731452942, 1.0080784559249878, 1.0077145099639893, 0.975033700466156, 0.9751700758934021, 0.9754410982131958, 1.0146840810775757, 0.9749955534934998, 0.9750264883041382, 0.9751967191696167, 1.0122441053390503, 0.9751592874526978, 0.9749676585197449, 0.9752159714698792, 1.0203697681427002, 1.0203560590744019, 0.9751679301261902, 0.9753419756889343, 0.9751676917076111, 1.012274980545044, 0.9751185178756714, 0.9751448035240173, 0.9752740263938904, 0.9750176072120667, 0.9753583073616028, 0.9751796126365662, 0.9750393629074097, 0.9751884341239929, 0.975329577922821, 0.9752717614173889, 0.975142776966095, 0.975293755531311, 0.9753241539001465, 0.9751498103141785, 0.9752416014671326, 0.9756270051002502, 0.9750610589981079, 1.0147128105163574, 0.9748404026031494, 0.975311815738678, 0.975193202495575, 0.9752784371376038, 0.9751278758049011, 0.9753665924072266, 0.9753283262252808, 0.9756316542625427, 0.975333571434021, 1.0123624801635742, 1.014065146446228, 0.9750221371650696, 0.9751205444335938, 0.9995631575584412, 1.0213509798049927, 0.9752622246742249, 0.9753308296203613, 0.9751212000846863, 1.0200090408325195, 0.9751903414726257, 0.9751691818237305, 0.9750300049781799, 0.9752809405326843, 1.0205155611038208, 0.9754040837287903, 0.9750553369522095, 0.9754428863525391, 1.012223482131958, 0.9752439856529236, 0.975226879119873, 0.9752834439277649, 0.9747655391693115, 0.9754330515861511, 1.0187190771102905, 0.975090742111206, 0.9750173687934875, 0.9752992987632751, 0.9752804040908813, 0.9754819273948669, 1.0145138502120972, 0.9750636219978333, 0.9752868413925171, 0.975284218788147, 1.014836311340332, 0.9752174615859985, 0.9751684665679932, 1.0122640132904053, 0.9752115607261658, 0.9751076102256775, 0.9753563404083252, 1.01787531375885, 1.019403100013733, 0.975312352180481, 0.9751890897750854, 1.0080431699752808, 0.9750123023986816, 0.9754576683044434, 0.9752240180969238, 0.9752756357192993, 0.9752105474472046, 0.9752249717712402, 0.9750797152519226, 0.9755187034606934, 0.9753007888793945, 0.975405216217041, 0.974871814250946, 0.974891185760498, 0.9752673506736755, 0.9752447605133057, 0.9752025008201599, 0.9751946926116943, 0.9752747416496277, 0.9751962423324585, 0.9755448698997498, 0.9749245643615723, 0.9753109812736511, 0.9750816822052002, 0.9753435254096985, 0.9756343960762024, 1.0207264423370361, 0.9753735065460205, 0.9748566150665283, 1.0121771097183228, 1.0162718296051025]}};\n",
       "\n",
       "function LDAvis_load_lib(url, callback){\n",
       "  var s = document.createElement('script');\n",
       "  s.src = url;\n",
       "  s.async = true;\n",
       "  s.onreadystatechange = s.onload = callback;\n",
       "  s.onerror = function(){console.warn(\"failed to load library \" + url);};\n",
       "  document.getElementsByTagName(\"head\")[0].appendChild(s);\n",
       "}\n",
       "\n",
       "if(typeof(LDAvis) !== \"undefined\"){\n",
       "   // already loaded: just create the visualization\n",
       "   !function(LDAvis){\n",
       "       new LDAvis(\"#\" + \"ldavis_el1383620673395859603401407628\", ldavis_el1383620673395859603401407628_data);\n",
       "   }(LDAvis);\n",
       "}else if(typeof define === \"function\" && define.amd){\n",
       "   // require.js is available: use it to load d3/LDAvis\n",
       "   require.config({paths: {d3: \"https://cdnjs.cloudflare.com/ajax/libs/d3/3.5.5/d3.min\"}});\n",
       "   require([\"d3\"], function(d3){\n",
       "      window.d3 = d3;\n",
       "      LDAvis_load_lib(\"https://cdn.rawgit.com/bmabey/pyLDAvis/files/ldavis.v1.0.0.js\", function(){\n",
       "        new LDAvis(\"#\" + \"ldavis_el1383620673395859603401407628\", ldavis_el1383620673395859603401407628_data);\n",
       "      });\n",
       "    });\n",
       "}else{\n",
       "    // require.js not available: dynamically load d3 & LDAvis\n",
       "    LDAvis_load_lib(\"https://cdnjs.cloudflare.com/ajax/libs/d3/3.5.5/d3.min.js\", function(){\n",
       "         LDAvis_load_lib(\"https://cdn.rawgit.com/bmabey/pyLDAvis/files/ldavis.v1.0.0.js\", function(){\n",
       "                 new LDAvis(\"#\" + \"ldavis_el1383620673395859603401407628\", ldavis_el1383620673395859603401407628_data);\n",
       "            })\n",
       "         });\n",
       "}\n",
       "</script>"
      ],
      "text/plain": [
       "PreparedData(topic_coordinates=            Freq  cluster  topics         x    y\n",
       "topic                                           \n",
       "13     99.961266        1       1 -0.073619  0.0\n",
       "19      0.002045        1       2 -0.000671 -0.0\n",
       "6       0.002044        1       3  0.000660  0.0\n",
       "15      0.002043        1       4  0.001751 -0.0\n",
       "9       0.002043        1       5  0.002053  0.0\n",
       "18      0.002042        1       6  0.002700 -0.0\n",
       "7       0.002041        1       7  0.003186 -0.0\n",
       "8       0.002041        1       8  0.003457 -0.0\n",
       "14      0.002040        1       9  0.003545  0.0\n",
       "2       0.002040        1      10  0.003827  0.0\n",
       "17      0.002040        1      11  0.003766 -0.0\n",
       "16      0.002040        1      12  0.003931 -0.0\n",
       "4       0.002039        1      13  0.004524  0.0\n",
       "10      0.002036        1      14  0.005381 -0.0\n",
       "0       0.002036        1      15  0.005500  0.0\n",
       "3       0.002035        1      16  0.005581 -0.0\n",
       "1       0.002035        1      17  0.005719 -0.0\n",
       "11      0.002032        1      18  0.006167  0.0\n",
       "12      0.002032        1      19  0.006235 -0.0\n",
       "5       0.002031        1      20  0.006307  0.0, topic_info=     Category       Freq         Term      Total  loglift  logprob\n",
       "term                                                              \n",
       "282   Default  25.000000       austin  25.000000  30.0000  30.0000\n",
       "273   Default  19.000000     business  19.000000  29.0000  29.0000\n",
       "425   Default  19.000000      analyst  19.000000  28.0000  28.0000\n",
       "529   Default  17.000000          ago  17.000000  27.0000  27.0000\n",
       "558   Default  16.000000          job  16.000000  26.0000  26.0000\n",
       "499   Default  15.000000          day  15.000000  25.0000  25.0000\n",
       "188   Default  13.000000         risk  13.000000  24.0000  24.0000\n",
       "337   Default  13.000000     analytic  13.000000  23.0000  23.0000\n",
       "115   Default  12.000000       client  12.000000  22.0000  22.0000\n",
       "546   Default  11.000000     employee  11.000000  21.0000  21.0000\n",
       "130   Default  11.000000         work  11.000000  20.0000  20.0000\n",
       "416   Default  10.000000      service  10.000000  19.0000  19.0000\n",
       "179   Default  10.000000      process  10.000000  18.0000  18.0000\n",
       "559   Default  10.000000      product  10.000000  17.0000  17.0000\n",
       "63    Default   9.000000       schwab   9.000000  16.0000  16.0000\n",
       "255   Default   9.000000   experience   9.000000  15.0000  15.0000\n",
       "164   Default   8.000000         team   8.000000  14.0000  14.0000\n",
       "538   Default   8.000000    operation   8.000000  13.0000  13.0000\n",
       "310   Default   8.000000        apply   8.000000  12.0000  12.0000\n",
       "44    Default   7.000000  opportunity   7.000000  11.0000  11.0000\n",
       "271   Default   7.000000   specialist   7.000000  10.0000  10.0000\n",
       "487   Default   7.000000      ability   7.000000   9.0000   9.0000\n",
       "403   Default   6.000000      support   6.000000   8.0000   8.0000\n",
       "58    Default   6.000000         cray   6.000000   7.0000   7.0000\n",
       "146   Default   5.000000      include   5.000000   6.0000   6.0000\n",
       "167   Default   5.000000      company   5.000000   5.0000   5.0000\n",
       "201   Default   5.000000        drive   5.000000   4.0000   4.0000\n",
       "335   Default   5.000000          yrs   5.000000   3.0000   3.0000\n",
       "27    Default   4.000000   retirement   4.000000   2.0000   2.0000\n",
       "398   Default   4.000000         life   4.000000   1.0000   1.0000\n",
       "...       ...        ...          ...        ...      ...      ...\n",
       "273   Topic20   0.000043     business  19.559280  -2.2184  -6.2968\n",
       "282   Topic20   0.000043       austin  25.417431  -2.4827  -6.2991\n",
       "499   Topic20   0.000043          day  15.660662  -2.0054  -6.3061\n",
       "179   Topic20   0.000043      process  10.780406  -1.6367  -6.3108\n",
       "558   Topic20   0.000043          job  16.636055  -2.0687  -6.3090\n",
       "337   Topic20   0.000043     analytic  13.707354  -1.8782  -6.3122\n",
       "130   Topic20   0.000042         work  11.756333  -1.7273  -6.3148\n",
       "425   Topic20   0.000043      analyst  19.562077  -2.2317  -6.3100\n",
       "255   Topic20   0.000042   experience   9.805644  -1.5481  -6.3170\n",
       "529   Topic20   0.000043          ago  17.614271  -2.1281  -6.3113\n",
       "188   Topic20   0.000042         risk  13.707335  -1.8817  -6.3157\n",
       "63    Topic20   0.000042       schwab   9.803835  -1.5502  -6.3193\n",
       "115   Topic20   0.000042       client  12.733045  -1.8120  -6.3197\n",
       "416   Topic20   0.000042      service  10.778866  -1.6458  -6.3200\n",
       "546   Topic20   0.000042     employee  11.756357  -1.7338  -6.3213\n",
       "271   Topic20   0.000042   specialist   7.852999  -1.3308  -6.3217\n",
       "44    Topic20   0.000042  opportunity   7.852851  -1.3325  -6.3235\n",
       "559   Topic20   0.000042      product  10.780551  -1.6494  -6.3235\n",
       "487   Topic20   0.000042      ability   7.853831  -1.3340  -6.3249\n",
       "403   Topic20   0.000042      support   6.877070  -1.2033  -6.3270\n",
       "58    Topic20   0.000042         cray   6.878784  -1.2039  -6.3273\n",
       "310   Topic20   0.000042        apply   8.830379  -1.4540  -6.3277\n",
       "164   Topic20   0.000042         team   8.828696  -1.4549  -6.3287\n",
       "538   Topic20   0.000042    operation   8.828620  -1.4553  -6.3292\n",
       "335   Topic20   0.000042          yrs   5.903932  -1.0534  -6.3296\n",
       "167   Topic20   0.000042      company   5.902086  -1.0531  -6.3296\n",
       "122   Topic20   0.000042       status   4.928469  -0.8733  -6.3301\n",
       "27    Topic20   0.000042   retirement   4.930650  -0.8740  -6.3304\n",
       "185   Topic20   0.000042         plan   4.927642  -0.8734  -6.3304\n",
       "434   Topic20   0.000042   analytical   4.928612  -0.8738  -6.3306\n",
       "\n",
       "[1303 rows x 6 columns], token_table=      Topic      Freq            Term\n",
       "term                                 \n",
       "487       1  1.018611         ability\n",
       "88        1  0.975134            able\n",
       "540       1  0.975060        absolute\n",
       "481       1  0.975222          accept\n",
       "65        1  0.975254      acceptance\n",
       "433       1  0.975166      accessible\n",
       "121       1  1.014545         account\n",
       "362       1  0.975339        accuracy\n",
       "267       1  0.975413         achieve\n",
       "409       1  0.975016     achievement\n",
       "355       1  0.974831      activation\n",
       "400       1  1.007956        activity\n",
       "444       1  0.975271          acuman\n",
       "4         1  0.975379       adaptable\n",
       "350       1  0.975365        addition\n",
       "19        1  0.975350       adherence\n",
       "75        1  0.975304        advanced\n",
       "57        1  0.975283        advocacy\n",
       "1         1  0.975369      affordable\n",
       "378       1  0.975282             age\n",
       "529       1  1.021899             ago\n",
       "429       1  0.975238       ambiguity\n",
       "564       1  0.975308        american\n",
       "326       1  0.975313         amherst\n",
       "181       1  0.975384         analsyt\n",
       "557       1  0.975402           analy\n",
       "425       1  1.022386         analyst\n",
       "337       1  1.021350        analytic\n",
       "434       1  1.014484      analytical\n",
       "140       1  0.975126         analyze\n",
       "...     ...       ...             ...\n",
       "8         1  1.008043            time\n",
       "528       1  0.975012         timelin\n",
       "211       1  0.975458          timely\n",
       "59        1  0.975224           title\n",
       "235       1  0.975276       tolerance\n",
       "413       1  0.975211        tomorrow\n",
       "51        1  0.975225         trading\n",
       "9         1  0.975080     transaction\n",
       "251       1  0.975519       transform\n",
       "134       1  0.975301        treasury\n",
       "471       1  0.975405           trend\n",
       "321       1  0.974872             try\n",
       "488       1  0.974891         tuition\n",
       "330       1  0.975267      understand\n",
       "556       1  0.975245  understandable\n",
       "435       1  0.975203          update\n",
       "16        1  0.975195              ve\n",
       "420       1  0.975275   visualisation\n",
       "85        1  0.975196   visualization\n",
       "253       1  0.975545           vital\n",
       "345       1  0.974925          volume\n",
       "224       1  0.975311       volunteer\n",
       "412       1  0.975082            wall\n",
       "524       1  0.975344      washington\n",
       "46        1  0.975634       wednesday\n",
       "130       1  1.020726            work\n",
       "290       1  0.975374       workforce\n",
       "238       1  0.974857         working\n",
       "161       1  1.012177            year\n",
       "335       1  1.016272             yrs\n",
       "\n",
       "[379 rows x 3 columns], R=30, lambda_step=0.01, plot_opts={'xlab': 'PC1', 'ylab': 'PC2'}, topic_order=[14, 20, 7, 16, 10, 19, 8, 9, 15, 3, 18, 17, 5, 11, 1, 4, 2, 12, 13, 6])"
      ]
     },
     "execution_count": 341,
     "metadata": {},
     "output_type": "execute_result"
    }
   ],
   "source": [
    "pyLDAvis.gensim.prepare(lda_model,corpus, id2word)"
   ]
  },
  {
   "cell_type": "code",
   "execution_count": null,
   "metadata": {},
   "outputs": [],
   "source": []
  }
 ],
 "metadata": {
  "anaconda-cloud": {},
  "kernelspec": {
   "display_name": "Python 3",
   "language": "python",
   "name": "python3"
  },
  "language_info": {
   "codemirror_mode": {
    "name": "ipython",
    "version": 3
   },
   "file_extension": ".py",
   "mimetype": "text/x-python",
   "name": "python",
   "nbconvert_exporter": "python",
   "pygments_lexer": "ipython3",
   "version": "3.6.4"
  }
 },
 "nbformat": 4,
 "nbformat_minor": 2
}

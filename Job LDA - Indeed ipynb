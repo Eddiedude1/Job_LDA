{
 "cells": [
  {
   "cell_type": "markdown",
   "metadata": {},
   "source": [
    "## Job Web-Scraping\n",
    "Note: This is intented for practice to extract real time job descriptions. Please adhere to the Robots.txt"
   ]
  },
  {
   "cell_type": "code",
   "execution_count": 36,
   "metadata": {},
   "outputs": [],
   "source": [
    "#If you are using Selenium for the first time, please download the webdriver and note the filepath\n",
    "from selenium import webdriver\n",
    "from selenium.webdriver.support.ui import Select\n",
    "from selenium.webdriver.common.keys import Keys\n",
    "\n",
    "import pandas as pd\n",
    "import numpy as np\n",
    "\n",
    "#Used to allow the browser to load. \n",
    "import time\n",
    "\n",
    "#used as a import for dateing the CSV\n",
    "import datetime\n",
    "\n",
    "#NLP libaries\n",
    "import spacy\n",
    "from spacy.lang.en.stop_words import STOP_WORDS\n",
    "import pyLDAvis.gensim\n",
    "from gensim.models import LdaModel\n",
    "pyLDAvis.enable_notebook()\n",
    "\n",
    "import warnings\n",
    "warnings.filterwarnings(\"ignore\")\n",
    "\n",
    "import matplotlib.pyplot as plt"
   ]
  },
  {
   "cell_type": "code",
   "execution_count": 16,
   "metadata": {},
   "outputs": [],
   "source": [
    "path_to_chromedriver = \"./chromedriver_win32/chromedriver.exe\""
   ]
  },
  {
   "cell_type": "code",
   "execution_count": 17,
   "metadata": {},
   "outputs": [],
   "source": [
    "#setup browser window\n",
    "browser = webdriver.Chrome(executable_path= path_to_chromedriver)"
   ]
  },
  {
   "cell_type": "code",
   "execution_count": 18,
   "metadata": {},
   "outputs": [],
   "source": [
    "#give it the site\n",
    "url = \"https://www.careeronestop.org/Toolkit/Jobs/find-jobs.aspx?keyword=Data%20Analyst&location=78741&radius=5&sortcolumns=accquisitiondate&sortdirections=DSC\"\n",
    "browser.get(\"https://www.indeed.com/\")\n",
    "time.sleep(1)"
   ]
  },
  {
   "cell_type": "code",
   "execution_count": 19,
   "metadata": {},
   "outputs": [],
   "source": [
    "job = browser.find_element(by='id',value='text-input-what')\n",
    "where = browser.find_element(by='id',value='text-input-where')\n",
    "\n",
    "#sends the key commands to select all and clear\n",
    "where.send_keys(Keys.CONTROL,'a')\n",
    "where.send_keys(Keys.DELETE)\n",
    "\n",
    "#find data science jobs and submit. \n",
    "job.send_keys(\"data scientist\")\n",
    "where.send_keys(\"Austin, Texas\")\n",
    "browser.find_element_by_css_selector(\"button\").submit()"
   ]
  },
  {
   "cell_type": "code",
   "execution_count": 20,
   "metadata": {},
   "outputs": [],
   "source": [
    "#finds the distance by the exact location.\n",
    "select = Select(browser.find_element_by_id(\"distance_selector\"))\n",
    "select.select_by_value(\"0\")"
   ]
  },
  {
   "cell_type": "code",
   "execution_count": 21,
   "metadata": {},
   "outputs": [],
   "source": [
    "#sorts the data by date.\n",
    "browser.find_element_by_link_text('date').click()"
   ]
  },
  {
   "cell_type": "code",
   "execution_count": 22,
   "metadata": {},
   "outputs": [],
   "source": [
    "#these catch the title of the job and the description in two seperate lists.\n",
    "j_desc = []\n",
    "j_title = []"
   ]
  },
  {
   "cell_type": "code",
   "execution_count": 23,
   "metadata": {},
   "outputs": [],
   "source": [
    "listing_num = len(browser.find_elements_by_xpath('//*[@data-tn-element=\"jobTitle\"]'))"
   ]
  },
  {
   "cell_type": "code",
   "execution_count": 24,
   "metadata": {},
   "outputs": [],
   "source": [
    "for job in range(1,listing_num):\n",
    "    try:\n",
    "        browser.find_elements_by_class_name('jobtitle')[job].click()\n",
    "        time.sleep(5)\n",
    "        j_title.append(browser.find_element_by_id(\"vjs-jobtitle\").text)\n",
    "        j_desc.append(browser.find_element_by_id(\"vjs-desc\").text)\n",
    "    except:\n",
    "        if len(browser.window_handles) > 1:\n",
    "            window = browser.window_handles[1]\n",
    "            browser.switch_to.window(window)\n",
    "            browser.title\n",
    "            time.sleep(2)\n",
    "            data = browser.find_element_by_class_name(\"snip\").text\n",
    "            data = data.replace(\"\\n\",\" \").replace(\" \",\" \")\n",
    "            j_title.append(browser.title)\n",
    "            j_desc.append(data)\n",
    "            browser.close()\n",
    "            browser.switch_to.window(browser.window_handles[0])\n",
    "            time.sleep(np.random.randint(1,5))\n",
    "        else:\n",
    "            time.sleep(3)\n",
    "            browser.switch_to.window(browser.window_handles[0])\n",
    "            pass"
   ]
  },
  {
   "cell_type": "code",
   "execution_count": 25,
   "metadata": {},
   "outputs": [
    {
     "data": {
      "text/plain": [
       "(1, 1)"
      ]
     },
     "execution_count": 25,
     "metadata": {},
     "output_type": "execute_result"
    }
   ],
   "source": [
    "len(j_desc),len(j_title)"
   ]
  },
  {
   "cell_type": "code",
   "execution_count": 26,
   "metadata": {},
   "outputs": [],
   "source": [
    "browser.close()"
   ]
  },
  {
   "cell_type": "code",
   "execution_count": 27,
   "metadata": {},
   "outputs": [],
   "source": [
    "data = pd.DataFrame({'job_title': j_title,'job_desc':j_desc})"
   ]
  },
  {
   "cell_type": "code",
   "execution_count": 28,
   "metadata": {},
   "outputs": [],
   "source": [
    "data.to_csv(\"./data/\"+str(datetime.datetime.today())[:10]+\"job_list.csv\")"
   ]
  },
  {
   "cell_type": "markdown",
   "metadata": {},
   "source": [
    "## Using SpaCy for NLP - this is a Work in Progress\n",
    "Objective: Setup for topic modeling and use LDA to determine feature importance"
   ]
  },
  {
   "cell_type": "code",
   "execution_count": 30,
   "metadata": {},
   "outputs": [],
   "source": [
    "parser = spacy.lang.en.English()\n",
    "nlp = spacy.load('en')"
   ]
  },
  {
   "cell_type": "code",
   "execution_count": 31,
   "metadata": {},
   "outputs": [],
   "source": [
    "lib = []\n",
    "for i in j_desc:\n",
    "    lib.append(i)"
   ]
  },
  {
   "cell_type": "code",
   "execution_count": 32,
   "metadata": {},
   "outputs": [],
   "source": [
    "parsed = []\n",
    "for sentence in lib:\n",
    "    parsed.append(nlp(sentence))"
   ]
  },
  {
   "cell_type": "code",
   "execution_count": 33,
   "metadata": {},
   "outputs": [],
   "source": [
    "lemma = []"
   ]
  },
  {
   "cell_type": "code",
   "execution_count": 34,
   "metadata": {},
   "outputs": [],
   "source": [
    "for docs in parsed:\n",
    "    for token in docs:\n",
    "        lemma.append(token.lemma_)"
   ]
  },
  {
   "cell_type": "code",
   "execution_count": 35,
   "metadata": {},
   "outputs": [
    {
     "data": {
      "text/plain": [
       "['the',\n",
       " 'lead',\n",
       " 'data',\n",
       " 'scientist',\n",
       " 'and',\n",
       " 'cognitive',\n",
       " 'software',\n",
       " 'engineer',\n",
       " 'will',\n",
       " 'lead']"
      ]
     },
     "execution_count": 35,
     "metadata": {},
     "output_type": "execute_result"
    }
   ],
   "source": [
    "lemma[:10]"
   ]
  },
  {
   "cell_type": "code",
   "execution_count": null,
   "metadata": {},
   "outputs": [],
   "source": []
  },
  {
   "cell_type": "code",
   "execution_count": null,
   "metadata": {},
   "outputs": [],
   "source": []
  }
 ],
 "metadata": {
  "anaconda-cloud": {},
  "kernelspec": {
   "display_name": "Python [default]",
   "language": "python",
   "name": "python3"
  },
  "language_info": {
   "codemirror_mode": {
    "name": "ipython",
    "version": 3
   },
   "file_extension": ".py",
   "mimetype": "text/x-python",
   "name": "python",
   "nbconvert_exporter": "python",
   "pygments_lexer": "ipython3",
   "version": "3.5.5"
  }
 },
 "nbformat": 4,
 "nbformat_minor": 2
}
